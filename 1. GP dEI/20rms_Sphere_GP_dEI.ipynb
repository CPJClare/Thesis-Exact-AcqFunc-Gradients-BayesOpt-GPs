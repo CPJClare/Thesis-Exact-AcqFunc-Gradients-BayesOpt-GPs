{
  "cells": [
    {
      "cell_type": "markdown",
      "metadata": {
        "id": "OrYfJFnSJLkS"
      },
      "source": [
        "Sphere synthetic function:\n",
        "\n",
        "GP EI versus GP dEI (winner)\n",
        "\n",
        "https://www.sfu.ca/~ssurjano/spheref.html"
      ]
    },
    {
      "cell_type": "code",
      "execution_count": 1,
      "metadata": {
        "colab": {
          "base_uri": "https://localhost:8080/"
        },
        "id": "2FgAmLMpOX3c",
        "outputId": "c8254b74-27d4-424e-ab78-63ee4c75a876"
      },
      "outputs": [
        {
          "output_type": "stream",
          "name": "stdout",
          "text": [
            "Looking in indexes: https://pypi.org/simple, https://us-python.pkg.dev/colab-wheels/public/simple/\n",
            "Requirement already satisfied: pyGPGO in /usr/local/lib/python3.8/dist-packages (0.5.1)\n",
            "Requirement already satisfied: joblib in /usr/local/lib/python3.8/dist-packages (from pyGPGO) (1.2.0)\n",
            "Requirement already satisfied: numpy in /usr/local/lib/python3.8/dist-packages (from pyGPGO) (1.21.6)\n",
            "Requirement already satisfied: scipy in /usr/local/lib/python3.8/dist-packages (from pyGPGO) (1.7.3)\n",
            "Requirement already satisfied: Theano-PyMC in /usr/local/lib/python3.8/dist-packages (from pyGPGO) (1.1.2)\n",
            "Requirement already satisfied: pyMC3 in /usr/local/lib/python3.8/dist-packages (from pyGPGO) (3.11.5)\n",
            "Requirement already satisfied: mkl in /usr/local/lib/python3.8/dist-packages (from pyGPGO) (2019.0)\n",
            "Requirement already satisfied: scikit-learn in /usr/local/lib/python3.8/dist-packages (from pyGPGO) (1.0.2)\n",
            "Requirement already satisfied: intel-openmp in /usr/local/lib/python3.8/dist-packages (from mkl->pyGPGO) (2023.0.0)\n",
            "Requirement already satisfied: arviz>=0.11.0 in /usr/local/lib/python3.8/dist-packages (from pyMC3->pyGPGO) (0.12.1)\n",
            "Requirement already satisfied: dill in /usr/local/lib/python3.8/dist-packages (from pyMC3->pyGPGO) (0.3.6)\n",
            "Requirement already satisfied: fastprogress>=0.2.0 in /usr/local/lib/python3.8/dist-packages (from pyMC3->pyGPGO) (1.0.3)\n",
            "Requirement already satisfied: typing-extensions>=3.7.4 in /usr/local/lib/python3.8/dist-packages (from pyMC3->pyGPGO) (4.4.0)\n",
            "Requirement already satisfied: deprecat in /usr/local/lib/python3.8/dist-packages (from pyMC3->pyGPGO) (2.1.1)\n",
            "Requirement already satisfied: pandas>=0.24.0 in /usr/local/lib/python3.8/dist-packages (from pyMC3->pyGPGO) (1.3.5)\n",
            "Requirement already satisfied: cachetools>=4.2.1 in /usr/local/lib/python3.8/dist-packages (from pyMC3->pyGPGO) (5.2.0)\n",
            "Requirement already satisfied: patsy>=0.5.1 in /usr/local/lib/python3.8/dist-packages (from pyMC3->pyGPGO) (0.5.3)\n",
            "Requirement already satisfied: semver>=2.13.0 in /usr/local/lib/python3.8/dist-packages (from pyMC3->pyGPGO) (2.13.0)\n",
            "Requirement already satisfied: filelock in /usr/local/lib/python3.8/dist-packages (from Theano-PyMC->pyGPGO) (3.9.0)\n",
            "Requirement already satisfied: threadpoolctl>=2.0.0 in /usr/local/lib/python3.8/dist-packages (from scikit-learn->pyGPGO) (3.1.0)\n",
            "Requirement already satisfied: setuptools>=38.4 in /usr/local/lib/python3.8/dist-packages (from arviz>=0.11.0->pyMC3->pyGPGO) (57.4.0)\n",
            "Requirement already satisfied: packaging in /usr/local/lib/python3.8/dist-packages (from arviz>=0.11.0->pyMC3->pyGPGO) (21.3)\n",
            "Requirement already satisfied: netcdf4 in /usr/local/lib/python3.8/dist-packages (from arviz>=0.11.0->pyMC3->pyGPGO) (1.6.2)\n",
            "Requirement already satisfied: xarray-einstats>=0.2 in /usr/local/lib/python3.8/dist-packages (from arviz>=0.11.0->pyMC3->pyGPGO) (0.4.0)\n",
            "Requirement already satisfied: matplotlib>=3.0 in /usr/local/lib/python3.8/dist-packages (from arviz>=0.11.0->pyMC3->pyGPGO) (3.2.2)\n",
            "Requirement already satisfied: xarray>=0.16.1 in /usr/local/lib/python3.8/dist-packages (from arviz>=0.11.0->pyMC3->pyGPGO) (2022.12.0)\n",
            "Requirement already satisfied: pytz>=2017.3 in /usr/local/lib/python3.8/dist-packages (from pandas>=0.24.0->pyMC3->pyGPGO) (2022.7)\n",
            "Requirement already satisfied: python-dateutil>=2.7.3 in /usr/local/lib/python3.8/dist-packages (from pandas>=0.24.0->pyMC3->pyGPGO) (2.8.2)\n",
            "Requirement already satisfied: six in /usr/local/lib/python3.8/dist-packages (from patsy>=0.5.1->pyMC3->pyGPGO) (1.15.0)\n",
            "Requirement already satisfied: wrapt<2,>=1.10 in /usr/local/lib/python3.8/dist-packages (from deprecat->pyMC3->pyGPGO) (1.14.1)\n",
            "Requirement already satisfied: kiwisolver>=1.0.1 in /usr/local/lib/python3.8/dist-packages (from matplotlib>=3.0->arviz>=0.11.0->pyMC3->pyGPGO) (1.4.4)\n",
            "Requirement already satisfied: cycler>=0.10 in /usr/local/lib/python3.8/dist-packages (from matplotlib>=3.0->arviz>=0.11.0->pyMC3->pyGPGO) (0.11.0)\n",
            "Requirement already satisfied: pyparsing!=2.0.4,!=2.1.2,!=2.1.6,>=2.0.1 in /usr/local/lib/python3.8/dist-packages (from matplotlib>=3.0->arviz>=0.11.0->pyMC3->pyGPGO) (3.0.9)\n",
            "Requirement already satisfied: cftime in /usr/local/lib/python3.8/dist-packages (from netcdf4->arviz>=0.11.0->pyMC3->pyGPGO) (1.6.2)\n"
          ]
        }
      ],
      "source": [
        "pip install pyGPGO\n"
      ]
    },
    {
      "cell_type": "code",
      "execution_count": 2,
      "metadata": {
        "id": "Dn_SAbhVJLke"
      },
      "outputs": [],
      "source": [
        "### Import modules:\n",
        "\n",
        "import numpy as np\n",
        "import scipy as sp\n",
        "import pandas as pd\n",
        "import matplotlib.pyplot as plt\n",
        "import random\n",
        "import warnings\n",
        "import itertools\n",
        "\n",
        "from pyGPGO.logger import EventLogger\n",
        "from pyGPGO.GPGO import GPGO\n",
        "from pyGPGO.surrogates.GaussianProcess import GaussianProcess\n",
        "from pyGPGO.surrogates.tStudentProcess import tStudentProcess, logpdf\n",
        "from pyGPGO.acquisition import Acquisition\n",
        "from pyGPGO.covfunc import squaredExponential\n",
        "\n",
        "from collections import OrderedDict\n",
        "from joblib import Parallel, delayed\n",
        "from numpy.linalg import slogdet, inv, cholesky, solve\n",
        "from scipy.optimize import minimize\n",
        "from scipy.spatial.distance import cdist\n",
        "from scipy.special import gamma\n",
        "from scipy.stats import norm, t\n",
        "from matplotlib.pyplot import rc\n",
        "\n",
        "rc('text', usetex=False)\n",
        "plt.rcParams['text.latex.preamble']=[r'\\usepackage{amsmath}']\n",
        "plt.rcParams['text.latex.preamble'] = [r'\\boldmath']\n",
        "\n",
        "warnings.filterwarnings(\"ignore\", category=FutureWarning)\n",
        "warnings.filterwarnings(\"ignore\", category=RuntimeWarning)\n",
        "warnings.filterwarnings(\"ignore\", category=UserWarning)\n"
      ]
    },
    {
      "cell_type": "code",
      "execution_count": 3,
      "metadata": {
        "id": "4Nwg_XO0JLki"
      },
      "outputs": [],
      "source": [
        "### Inputs:\n",
        "\n",
        "obj_func = 'Sphere'\n",
        "n_test = 500 # test points\n",
        "eps = 1e-08\n",
        "df = 3 # nu\n",
        "\n",
        "util = 'EI'\n",
        "n_init = 5 # random initialisations\n",
        "\n",
        "cov_func = squaredExponential()\n",
        "hyperOpt = True\n"
      ]
    },
    {
      "cell_type": "code",
      "execution_count": 4,
      "metadata": {
        "id": "DVYGZ6jYJLkj"
      },
      "outputs": [],
      "source": [
        "### Objective function:\n",
        "\n",
        "if obj_func == 'Sphere':\n",
        "    \n",
        "    # True y bounds:\n",
        "    y_lb = 0\n",
        "    operator = -1 # targets global minimum \n",
        "    y_global_orig = y_lb * operator # targets global minimum\n",
        "            \n",
        "# Constraints:\n",
        "    lb = -5.12 \n",
        "    ub = +5.12\n",
        "\n",
        "# Input array dimension(s):\n",
        "    dim = 2\n",
        "\n",
        "# 2-D inputs' parameter bounds:\n",
        "    param = {'x1_training': ('cont', [lb, ub]),\n",
        "             'x2_training': ('cont', [lb, ub])}\n",
        "    \n",
        "# Test data:\n",
        "    x1_test = np.linspace(lb, ub, n_test)\n",
        "    x2_test = np.linspace(lb, ub, n_test)\n",
        "    Xstar_d = np.column_stack((x1_test, x2_test))\n",
        "\n",
        "    def f_syn_polarity(x1_training, x2_training):\n",
        "        return  operator * ( x1_training ** 2\n",
        "                            + x2_training ** 2\n",
        "                            )\n",
        "  "
      ]
    },
    {
      "cell_type": "code",
      "execution_count": 5,
      "metadata": {
        "id": "S9JivCxiYACE"
      },
      "outputs": [],
      "source": [
        "max_iter = dim * 10  # iterations of Bayesian optimisation\n",
        "Beta_CBM = dim\n"
      ]
    },
    {
      "cell_type": "code",
      "execution_count": 6,
      "metadata": {
        "id": "hE7COdNcJLkl"
      },
      "outputs": [],
      "source": [
        "### Cumulative Regret Calculator:\n",
        "\n",
        "def min_array(x):\n",
        "    new_list = []\n",
        "    for i, num in enumerate(x):\n",
        "            new_list.append(np.min(x[0:i+1]))\n",
        "    return new_list\n"
      ]
    },
    {
      "cell_type": "code",
      "execution_count": 7,
      "metadata": {
        "id": "gkY6wLl_JLkm"
      },
      "outputs": [],
      "source": [
        "### Set-seeds:\n",
        "\n",
        "run_num_1 = 1\n",
        "run_num_2 = 2\n",
        "run_num_3 = 3\n",
        "run_num_4 = 4\n",
        "run_num_5 = 5\n",
        "run_num_6 = 6\n",
        "run_num_7 = 7\n",
        "run_num_8 = 8\n",
        "run_num_9 = 9\n",
        "run_num_10 = 10\n",
        "run_num_11 = 11\n",
        "run_num_12 = 12\n",
        "run_num_13 = 13\n",
        "run_num_14 = 14\n",
        "run_num_15 = 15\n",
        "run_num_16 = 16\n",
        "run_num_17 = 17\n",
        "run_num_18 = 18\n",
        "run_num_19 = 19\n",
        "run_num_20 = 20\n"
      ]
    },
    {
      "cell_type": "code",
      "execution_count": 8,
      "metadata": {
        "id": "t-StV6KfkrJe"
      },
      "outputs": [],
      "source": [
        "### Surrogate derivatives: \n",
        "\n",
        "def kronDelta(X, Xstar):                     # Kronecker's Delta method\n",
        "    return cdist(X, Xstar) < np.finfo(np.float32).eps\n",
        "\n",
        "def se(X, Xstar, sigmaf, l, sigman):         # S.E. kernel method\n",
        "    return sigmaf * np.exp(-0.5 * cdist(X, Xstar) ** 2 / l ** 2) + sigman * kronDelta(X, Xstar)\n",
        "\n",
        "def delta(X, Xstar):                         # Distance between training X and test Xstar vectors\n",
        "    return (X - Xstar)\n",
        "   \n",
        "def der_covmat(X, Xstar, sigmaf, l, sigman): # Covariance matrix derivative terms (i.e. exact, first-order)\n",
        "    nx = len(X)\n",
        "    ny = len(Xstar)\n",
        "    return np.round(np.array([(delta(np.atleast_2d(i), np.atleast_2d(j))[0] * se(np.atleast_2d(i), np.atleast_2d(j), sigmaf, l, sigman)[0]).sum() for (i, j) in itertools.product(X, Xstar)]).reshape(nx, ny), 8)\n",
        "\n",
        "class dGaussianProcess(GaussianProcess):    # Via inheritance, also optimises hyperparameters when opt = TRUE\n",
        "    \n",
        "    def AcqGrad(self, Xstar):               # Method returning exact, first-order derivatives of the GP's posterior mean and standard deviation\n",
        "        Xstar = np.atleast_2d(Xstar)\n",
        "        Kstar = self.covfunc.K(self.X, Xstar).T\n",
        "        \n",
        "        dKstar = der_covmat(self.X, Xstar, self.covfunc.sigmaf, self.covfunc.l, self.covfunc.sigman).T\n",
        "        alpha_Kstar = np.dot(np.linalg.inv(self.K + (self.covfunc.sigman**2) * np.eye(len(self.X))), Kstar.T)\n",
        "        \n",
        "        dm = np.dot(dKstar, self.alpha)\n",
        "        ds = -2 * np.dot(dKstar, alpha_Kstar)\n",
        "        \n",
        "        return dm, ds           \n"
      ]
    },
    {
      "cell_type": "code",
      "execution_count": 9,
      "metadata": {
        "id": "Mh53nXeyJLko"
      },
      "outputs": [],
      "source": [
        "### Add exact acquisition function gradient as attribute:\n",
        "\n",
        "class Acquisition_grad(Acquisition):    \n",
        "    def __init__(self, mode, eps=eps, **params):\n",
        "        \n",
        "        self.params = params\n",
        "        self.eps = eps\n",
        "\n",
        "        mode_dict = {\n",
        "            'EI': self.EI\n",
        "        }\n",
        "\n",
        "        self.f = mode_dict[mode]\n",
        "    \n",
        "    def EI(self, tau, mean, std, ds, dm):\n",
        "        gamma = (mean - tau - self.eps) / (std + self.eps)\n",
        "        gamma_h = (mean - tau) / (std + self.eps)\n",
        "        dsdx = ds / (2 * (std + self.eps))\n",
        "        dmdx = (dm - gamma * dsdx) / (std + self.eps)\n",
        "        \n",
        "        f = (std + self.eps) * (gamma * norm.cdf(gamma) + norm.pdf(gamma))\n",
        "        df1 = f / (std + self.eps) * dsdx \n",
        "        df2 = (std + self.eps) * norm.cdf(gamma) * dmdx\n",
        "        df = (df1 + df2)[0]\n",
        "        df_arr = []\n",
        "\n",
        "        for j in range(0, dim):\n",
        "          df_arr.append(df)\n",
        "        return f, np.asarray(df_arr).transpose()\n",
        "        \n",
        "    def d_eval(self, tau, mean, std, ds, dm):\n",
        "    \n",
        "        return self.f(tau, mean, std, ds, dm, **self.params)\n",
        "        "
      ]
    },
    {
      "cell_type": "code",
      "execution_count": 10,
      "metadata": {
        "id": "xSwpeFj-Y-Hl"
      },
      "outputs": [],
      "source": [
        "n_start_AcqFunc = max_iter\n",
        "inverse = -1\n"
      ]
    },
    {
      "cell_type": "code",
      "execution_count": 11,
      "metadata": {
        "id": "YorxhvyZXyfZ"
      },
      "outputs": [],
      "source": [
        "## GPGO_approx: BayesOpt class, acquision function optimised using approximate acquisition function gradients\n",
        "\n",
        "n_start = n_start_AcqFunc\n",
        "\n",
        "class GPGO_approx(GPGO):\n",
        "  \n",
        "    def __init__(self, surrogate, acquisition, f, parameter_dict, n_jobs=1):\n",
        "        self.GP = surrogate\n",
        "        self.A = acquisition\n",
        "        self.f = f\n",
        "        self.parameters = parameter_dict\n",
        "        self.n_jobs = n_jobs\n",
        "\n",
        "        self.parameter_key = list(parameter_dict.keys())\n",
        "        self.parameter_value = list(parameter_dict.values())\n",
        "        self.parameter_type = [p[0] for p in self.parameter_value]\n",
        "        self.parameter_range = [p[1] for p in self.parameter_value]\n",
        "\n",
        "        self.history = []\n",
        "        self.header =   'Evaluation \\t Proposed point \\t  Current eval. \\t  Best eval. \\t         GP EI: maximum y \\t GP EI: exploit'\n",
        "        self.template = '{:3}\\t {}\\t {:3}\\t {:3}\\t {:3}\\t {:3}'\n",
        "  \n",
        "    def acqfuncApprox(self, xnew):\n",
        "        new_mean, new_var = self.GP.predict(xnew, return_std=True)\n",
        "        new_std = np.sqrt(new_var + eps)\n",
        "        dm, ds = self.GP.AcqGrad(xnew)\n",
        "        f, df = self.A.d_eval(self.tau, new_mean, new_std, ds=ds, dm=dm)\n",
        "\n",
        "        return -f\n",
        "\n",
        "    def acqfuncApproxMeanTerm(self, xnew):\n",
        "        new_mean, new_var = self.GP.predict(xnew, return_std=True)\n",
        "        new_std = np.sqrt(new_var + eps)\n",
        "        gamma = (new_mean - self.tau - eps) / (new_std + eps) \n",
        "        \n",
        "        dm, ds = self.GP.AcqGrad(xnew)\n",
        "        dsdx = ds / (2 * (new_std + eps))\n",
        "        dmdx = (dm - gamma * dsdx) / (new_std + eps)\n",
        "            \n",
        "        f = (new_std + eps) * (gamma * norm.cdf(gamma))\n",
        "        df1 = norm.cdf(gamma) * gamma * dsdx\n",
        "        df2 = (new_std + eps) * (norm.cdf(gamma) * dmdx + norm.pdf(gamma) * gamma)\n",
        "        df = df1 + df2\n",
        "\n",
        "        return -f\n",
        "\n",
        "    def _optimizeAcq(self, method='L-BFGS-B'):\n",
        "        \n",
        "        start_points_dict = [self._sampleParam() for i in range(n_start)]\n",
        "        start_points_arr = np.array([list(s.values())\n",
        "                                     for s in start_points_dict])\n",
        "        x_best = np.empty((n_start, len(self.parameter_key)))\n",
        "        f_best = np.empty((n_start,))\n",
        "        opt = Parallel(n_jobs=self.n_jobs)(delayed(minimize)(self.acqfuncApprox,\n",
        "                                                                 x0=start_point,\n",
        "                                                                 method=method,\n",
        "                                                                 jac = False,\n",
        "                                                                 bounds=self.parameter_range) for start_point in\n",
        "                                               start_points_arr)\n",
        "        x_best = np.array([res.x for res in opt])\n",
        "        f_best = np.array([np.atleast_1d(res.fun)[0] for res in opt])\n",
        "        self.x_best = x_best\n",
        "        self.f_best = f_best\n",
        "        self.best = x_best[np.argmin(f_best)]\n",
        "        self.start_points_arr = start_points_arr\n",
        "        self.min_acqfuncApprox = -min(self.f_best)\n",
        "        self.history.append(self.min_acqfuncApprox)\n",
        "\n",
        "        opt_exploit = Parallel(n_jobs=self.n_jobs)(delayed(minimize)(self.acqfuncApproxMeanTerm,\n",
        "                                                                 x0=start_point,\n",
        "                                                                 method=method,\n",
        "                                                                 jac = False,\n",
        "                                                                 bounds=self.parameter_range) for start_point in\n",
        "                                               start_points_arr)\n",
        "        f_best_exploit = np.array([np.atleast_1d(res.fun)[0] for res in opt_exploit])\n",
        "        self.f_best_exploit = f_best_exploit\n",
        "        self.min_acqfuncApprox_exploit = -min(self.f_best_exploit)\n",
        "        self.history.append(self.min_acqfuncApprox_exploit)\n",
        "        \n",
        "    def _printInit(self):\n",
        "        print(self.header)\n",
        "        for init_eval in range(self.init_evals):\n",
        "            print(self.template.format('init', self.GP.X[init_eval], inverse * self.GP.y[init_eval], inverse * self.tau, '', ''))\n",
        "      \n",
        "    def _printCurrent(self):\n",
        "        OKGREEN = '\\033[92m'\n",
        "        ENDC = '\\033[0m'\n",
        "        BOLD = '\\033[1m'\n",
        "        eval = str(len(self.GP.y) - self.init_evals)\n",
        "        proposed = str(self.best)\n",
        "        curr_eval = str(inverse * self.GP.y[-1])\n",
        "        curr_best = str(inverse * self.tau)\n",
        "        min_acqfuncApprox = self.min_acqfuncApprox\n",
        "        min_acqfuncApprox_exploit = self.min_acqfuncApprox_exploit\n",
        "        if float(curr_eval) <= float(curr_best):\n",
        "            eval = BOLD + OKGREEN + eval + ENDC\n",
        "            proposed = BOLD + OKGREEN + proposed + ENDC\n",
        "            curr_eval = BOLD + OKGREEN + curr_eval + ENDC\n",
        "            curr_best = BOLD + OKGREEN + curr_best + ENDC\n",
        "            min_acqfuncApprox = BOLD + OKGREEN + str(min_acqfuncApprox) + ENDC\n",
        "            min_acqfuncApprox_exploit = BOLD + OKGREEN + str(min_acqfuncApprox_exploit) + ENDC\n",
        "        print(self.template.format(eval, proposed, curr_eval, curr_best, min_acqfuncApprox, min_acqfuncApprox_exploit))\n",
        "        \n",
        "    def run(self, max_iter=10, init_evals=3, resume=False):\n",
        "        \n",
        "        if not resume:\n",
        "            self.init_evals = init_evals\n",
        "            self._firstRun(self.init_evals)\n",
        "            self._printInit()\n",
        "        for iteration in range(max_iter):\n",
        "            self._optimizeAcq()\n",
        "            self.updateGP()\n",
        "            self._printCurrent()\n"
      ]
    },
    {
      "cell_type": "code",
      "execution_count": 12,
      "metadata": {
        "id": "QaOjAKNoXynM"
      },
      "outputs": [],
      "source": [
        "## GPGO_exact: BayesOpt class, acquision function optimised using exact acquisition function gradients\n",
        "\n",
        "class GPGO_exact(GPGO):\n",
        "\n",
        "    def __init__(self, surrogate, acquisition, f, parameter_dict, n_jobs=1):\n",
        "        self.GP = surrogate\n",
        "        self.A = acquisition\n",
        "        self.f = f\n",
        "        self.parameters = parameter_dict\n",
        "        self.n_jobs = n_jobs\n",
        "\n",
        "        self.parameter_key = list(parameter_dict.keys())\n",
        "        self.parameter_value = list(parameter_dict.values())\n",
        "        self.parameter_type = [p[0] for p in self.parameter_value]\n",
        "        self.parameter_range = [p[1] for p in self.parameter_value]\n",
        "\n",
        "        self.history = []\n",
        "        self.header =   'Evaluation \\t Proposed point \\t  Current eval. \\t  Best eval. \\t         GP dEI: maximum y \\t GP dEI: exploit'\n",
        "        self.template = '{:3}\\t {}\\t {:3}\\t {:3}\\t {:3}\\t {:3}'\n",
        " \n",
        "    def acqfuncExact(self, xnew):\n",
        "        new_mean, new_var = self.GP.predict(xnew, return_std=True)\n",
        "        new_std = np.sqrt(new_var + eps)\n",
        "        dm, ds = self.GP.AcqGrad(xnew)\n",
        "        f, df = self.A.d_eval(self.tau, new_mean, new_std, ds=ds, dm=dm)\n",
        "\n",
        "        return -f, -df\n",
        "\n",
        "    def acqfuncExactExploitTerm(self, xnew):\n",
        "        new_mean, new_var = self.GP.predict(xnew, return_std=True)\n",
        "        new_std = np.sqrt(new_var + eps)\n",
        "        gamma = (new_mean - self.tau - eps) / (new_std + eps) \n",
        "        \n",
        "        dm, ds = self.GP.AcqGrad(xnew)\n",
        "        dsdx = ds / (2 * (new_std + eps))\n",
        "        dmdx = (dm - gamma * dsdx) / (new_std + eps)\n",
        "            \n",
        "        f = (new_std + eps) * (gamma * norm.cdf(gamma))\n",
        "        df1 = norm.cdf(gamma) * gamma * dsdx\n",
        "        df2 = (new_std + eps) * (norm.cdf(gamma) * dmdx + norm.pdf(gamma) * gamma)\n",
        "        df = -(df1 + df2)[0]\n",
        "        df_arr = []\n",
        "\n",
        "        for j in range(0, dim):\n",
        "          df_arr.append(df)\n",
        "        return -f, np.asarray(df_arr).transpose()\n",
        "\n",
        "    def _optimizeAcq(self, method='L-BFGS-B'):\n",
        "        \n",
        "        start_points_dict = [self._sampleParam() for i in range(n_start)]\n",
        "        start_points_arr = np.array([list(s.values())\n",
        "                                     for s in start_points_dict])\n",
        "        x_best = np.empty((n_start, len(self.parameter_key)))\n",
        "        f_best = np.empty((n_start,))\n",
        "        opt = Parallel(n_jobs=self.n_jobs)(delayed(minimize)(self.acqfuncExact,\n",
        "                                                                 x0=start_point,\n",
        "                                                                 method=method,\n",
        "                                                                 jac = True,\n",
        "                                                                 bounds=self.parameter_range) for start_point in\n",
        "                                               start_points_arr)\n",
        "        x_best = np.array([res.x for res in opt])\n",
        "        f_best = np.array([np.atleast_1d(res.fun)[0] for res in opt])\n",
        "        self.x_best = x_best\n",
        "        self.f_best = f_best\n",
        "        self.best = x_best[np.argmin(f_best)]\n",
        "        self.start_points_arr = start_points_arr\n",
        "        self.min_acqfuncExact = -min(self.f_best)\n",
        "        self.history.append(self.min_acqfuncExact) \n",
        "        \n",
        "        opt_exploit = Parallel(n_jobs=self.n_jobs)(delayed(minimize)(self.acqfuncExactExploitTerm,\n",
        "                                                                 x0=start_point,\n",
        "                                                                 method=method,\n",
        "                                                                 jac = True,\n",
        "                                                                 bounds=self.parameter_range) for start_point in\n",
        "                                               start_points_arr)\n",
        "        f_best_exploit = np.array([np.atleast_1d(res.fun)[0] for res in opt_exploit])\n",
        "        self.f_best_exploit = f_best_exploit\n",
        "        self.min_acqfuncExact_exploit = -min(self.f_best_exploit)\n",
        "        self.history.append(self.min_acqfuncExact_exploit)\n",
        "            \n",
        "    def _printInit(self):\n",
        "        print(self.header)\n",
        "        for init_eval in range(self.init_evals):\n",
        "            print(self.template.format('init', self.GP.X[init_eval], inverse * self.GP.y[init_eval], inverse * self.tau, '', ''))\n",
        "      \n",
        "    def _printCurrent(self):\n",
        "        OKGREEN = '\\033[92m'\n",
        "        ENDC = '\\033[0m'\n",
        "        BOLD = '\\033[1m'\n",
        "        eval = str(len(self.GP.y) - self.init_evals)\n",
        "        proposed = str(self.best)\n",
        "        curr_eval = str(inverse * self.GP.y[-1])\n",
        "        curr_best = str(inverse * self.tau)\n",
        "        min_acqfuncExact = self.min_acqfuncExact\n",
        "        min_acqfuncExact_exploit = self.min_acqfuncExact_exploit\n",
        "        if float(curr_eval) <= float(curr_best):\n",
        "            eval = BOLD + OKGREEN + eval + ENDC\n",
        "            proposed = BOLD + OKGREEN + proposed + ENDC\n",
        "            curr_eval = BOLD + OKGREEN + curr_eval + ENDC\n",
        "            curr_best = BOLD + OKGREEN + curr_best + ENDC\n",
        "            min_acqfuncExact = BOLD + OKGREEN + str(min_acqfuncExact) + ENDC\n",
        "            min_acqfuncExact_exploit = BOLD + OKGREEN + str(min_acqfuncExact_exploit) + ENDC\n",
        "        print(self.template.format(eval, proposed, curr_eval, curr_best, min_acqfuncExact, min_acqfuncExact_exploit))\n",
        "\n",
        "    def run(self, max_iter=10, init_evals=3, resume=False):\n",
        "        \n",
        "        if not resume:\n",
        "            self.init_evals = init_evals\n",
        "            self._firstRun(self.init_evals)\n",
        "            self._printInit()\n",
        "        for iteration in range(max_iter):\n",
        "            self._optimizeAcq()\n",
        "            self.updateGP()\n",
        "            self._printCurrent()\n"
      ]
    },
    {
      "cell_type": "code",
      "execution_count": 13,
      "metadata": {
        "colab": {
          "base_uri": "https://localhost:8080/"
        },
        "id": "Fio5AsW9JLkp",
        "outputId": "a2f3b67b-ba98-47e8-c6c9-c840e688790e",
        "scrolled": false
      },
      "outputs": [
        {
          "output_type": "stream",
          "name": "stdout",
          "text": [
            "Evaluation \t Proposed point \t  Current eval. \t  Best eval. \t         GP EI: maximum y \t GP EI: exploit\n",
            "init\t [-0.84969467  2.25612281]\t 5.812071182014687\t 1.275455677703416\t    \t    \n",
            "init\t [-5.1188288  -2.02411446]\t 30.299447634857913\t 1.275455677703416\t    \t    \n",
            "init\t [-3.61721968 -4.17445279]\t 30.510334291475417\t 1.275455677703416\t    \t    \n",
            "init\t [-3.21269544 -1.58145816]\t 12.822421857501787\t 1.275455677703416\t    \t    \n",
            "init\t [-1.05710106  0.39748336]\t 1.275455677703416\t 1.275455677703416\t    \t    \n",
            "1  \t [ 4.04077223 -4.24914728]\t 34.383092818836786\t 1.275455677703416\t 1.5925778782479172\t 0.9415089350695705\n",
            "2  \t [5.12 5.12]\t 52.4288\t 1.275455677703416\t 1.5925778776207775\t 0.9415089342660553\n",
            "3  \t [-5.12  5.12]\t 52.4288\t 1.275455677703416\t 1.5925740218285798\t 0.9415039940815388\n",
            "4  \t [3.42250321 0.51119867]\t 11.974852281651728\t 1.275455677703416\t 1.5922785146675416\t 0.9411253859984825\n",
            "5  \t [ 0.4376922  -2.49216761]\t 6.40247388006668\t 1.275455677703416\t 1.5826945371458223\t 0.9288542551429652\n",
            "6  \t [0.9351802 5.12     ]\t 27.08896201094414\t 1.275455677703416\t 1.582392487992473\t 0.9284655038663501\n",
            "7  \t [-5.12        1.48759709]\t 28.427345114817157\t 1.275455677703416\t 1.5383948715496019\t 0.872235913399354\n",
            "8  \t [-0.02567989 -5.12      ]\t 26.215059456838453\t 1.275455677703416\t 1.5130066889119873\t 0.8399974988234336\n",
            "9  \t [ 5.12       -1.37983189]\t 28.118336037257674\t 1.275455677703416\t 1.314935706348135\t 0.5970224893261312\n",
            "\u001b[1m\u001b[92m10\u001b[0m\t \u001b[1m\u001b[92m[0.65150514 0.09807373]\u001b[0m\t \u001b[1m\u001b[92m0.43407740879975265\u001b[0m\t \u001b[1m\u001b[92m0.43407740879975265\u001b[0m\t \u001b[1m\u001b[92m1.3174112077300142\u001b[0m\t \u001b[1m\u001b[92m0.60094302574186\u001b[0m\n",
            "11 \t [-1.97892575  5.12      ]\t 30.130547122194\t 0.43407740879975265\t 0.8110840605522346\t 0.013301913625948692\n",
            "12 \t [1.54754746 2.16164713]\t 7.067621436081277\t 0.43407740879975265\t 0.7378992064732197\t 0.013391405134044987\n",
            "\u001b[1m\u001b[92m13\u001b[0m\t \u001b[1m\u001b[92m[ 0.12957904 -0.26122915]\u001b[0m\t \u001b[1m\u001b[92m0.08503139569775392\u001b[0m\t \u001b[1m\u001b[92m0.08503139569775392\u001b[0m\t \u001b[1m\u001b[92m0.7054575296515373\u001b[0m\t \u001b[1m\u001b[92m-3.342385944169655e-32\u001b[0m\n",
            "14 \t [ 0.13478168 -0.26011181]\t 0.08582425699990759\t 0.08503139569775392\t 0.5541012202286676\t -2.0444755759478764e-15\n",
            "15 \t [ 0.27910902 -0.24445457]\t 0.13765987737684784\t 0.08503139569775392\t 0.5574754248169779\t -4.661266231331087e-13\n",
            "16 \t [-0.19164409 -0.32515655]\t 0.1424542406446499\t 0.08503139569775392\t 0.5542272349622617\t -7.653381337575885e-31\n",
            "17 \t [ 0.38759435 -0.24250682]\t 0.20903894130622214\t 0.08503139569775392\t 0.556454394913344\t -1.3538410240979265e-11\n",
            "\u001b[1m\u001b[92m18\u001b[0m\t \u001b[1m\u001b[92m[ 0.1133285  -0.23435471]\u001b[0m\t \u001b[1m\u001b[92m0.06776548200992197\u001b[0m\t \u001b[1m\u001b[92m0.06776548200992197\u001b[0m\t \u001b[1m\u001b[92m0.549107816377754\u001b[0m\t \u001b[1m\u001b[92m-0.0\u001b[0m\n",
            "19 \t [ 0.13410579 -0.23175294]\t 0.07169378981305112\t 0.06776548200992197\t 0.5441152197605602\t -2.191540555236348e-25\n",
            "20 \t [ 0.1526478  -0.22974048]\t 0.07608203900706513\t 0.06776548200992197\t 0.5462204562252847\t -2.6425809916049892e-17\n"
          ]
        }
      ],
      "source": [
        "### Bayesian optimisation runs (x20): 'GP EI' Acquisition Function run number = 1\n",
        "\n",
        "np.random.seed(run_num_1)\n",
        "surrogate_approx_1 = dGaussianProcess(cov_func, optimize=hyperOpt)\n",
        "\n",
        "approx_1 = GPGO_approx(surrogate_approx_1, Acquisition_grad(util), f_syn_polarity, param, n_jobs = -1) # define BayesOpt\n",
        "approx_1.run(max_iter = max_iter, init_evals = n_init) # run\n"
      ]
    },
    {
      "cell_type": "code",
      "execution_count": 14,
      "metadata": {
        "id": "6CLxOiUrJLks",
        "colab": {
          "base_uri": "https://localhost:8080/"
        },
        "outputId": "071a6300-6289-45b9-dfc3-2e2bc24a1f54"
      },
      "outputs": [
        {
          "output_type": "stream",
          "name": "stdout",
          "text": [
            "Evaluation \t Proposed point \t  Current eval. \t  Best eval. \t         GP EI: maximum y \t GP EI: exploit\n",
            "init\t [-0.6554122  -4.85451539]\t 23.995884788327533\t 0.6972563370202991\t    \t    \n",
            "init\t [ 0.50854377 -0.6622987 ]\t 0.6972563370202991\t 0.6972563370202991\t    \t    \n",
            "init\t [-0.81543371 -1.73737143]\t 3.683391625826377\t 0.6972563370202991\t    \t    \n",
            "init\t [-3.02439799  1.2213347 ]\t 10.638641624769724\t 0.6972563370202991\t    \t    \n",
            "init\t [-2.05153614 -2.3876887 ]\t 9.90985788235879\t 0.6972563370202991\t    \t    \n",
            "1  \t [4.81874241 3.07464552]\t 32.673723450709105\t 0.6972563370202991\t 1.1945155933603315\t 0.4436751738637678\n",
            "2  \t [ 4.81417587 -3.13615063]\t 33.01173008164121\t 0.6972563370202991\t 1.19451434962462\t 0.44367412742043094\n",
            "3  \t [-0.00653243  5.12      ]\t 26.214442672594636\t 0.6972563370202991\t 1.1944864861929108\t 0.4436400802981407\n",
            "4  \t [-5.12  5.12]\t 52.4288\t 0.6972563370202991\t 1.194309676187235\t 0.4434269091492371\n",
            "5  \t [-5.12 -5.12]\t 52.4288\t 0.6972563370202991\t 1.193528218493978\t 0.4424848669665734\n",
            "6  \t [2.56833586 0.07051569]\t 6.6013215541945405\t 0.6972563370202991\t 1.1664651819935616\t 0.4178338515618053\n",
            "7  \t [-5.12      -1.2127095]\t 27.685064321157377\t 0.6972563370202991\t 1.1538693928576107\t 0.3949417116345187\n",
            "8  \t [0.11069458 1.64661548]\t 2.7235958394505824\t 0.6972563370202991\t 1.1193245058955366\t 0.3544901050221229\n",
            "9  \t [ 1.55532416 -2.55415271]\t 8.942729335547991\t 0.6972563370202991\t 1.0378826291421688\t 0.26047004104058935\n",
            "10 \t [ 2.4870413 -5.12     ]\t 32.399774440118236\t 0.6972563370202991\t 0.9883553547391827\t 0.2030756242763313\n",
            "11 \t [ 5.12       -0.03580717]\t 26.215682153744034\t 0.6972563370202991\t 0.9681866108665379\t 0.0760137516572646\n",
            "12 \t [1.81247596 2.69717284]\t 10.559810416192658\t 0.6972563370202991\t 0.8725066960960396\t 0.07453095724335253\n",
            "\u001b[1m\u001b[92m13\u001b[0m\t \u001b[1m\u001b[92m[-0.3047767   0.00928049]\u001b[0m\t \u001b[1m\u001b[92m0.09297496681071368\u001b[0m\t \u001b[1m\u001b[92m0.09297496681071368\u001b[0m\t \u001b[1m\u001b[92m0.8484749472081063\u001b[0m\t \u001b[1m\u001b[92m0.10212265669729133\u001b[0m\n",
            "14 \t [-0.31628942  0.01404885]\t 0.1002363686750927\t 0.09297496681071368\t 0.565972670613634\t -0.0\n",
            "\u001b[1m\u001b[92m15\u001b[0m\t \u001b[1m\u001b[92m[-0.28477983  0.00166092]\u001b[0m\t \u001b[1m\u001b[92m0.08110230969825745\u001b[0m\t \u001b[1m\u001b[92m0.08110230969825745\u001b[0m\t \u001b[1m\u001b[92m0.5654081691004855\u001b[0m\t \u001b[1m\u001b[92m-1.1143300854965868e-09\u001b[0m\n",
            "\u001b[1m\u001b[92m16\u001b[0m\t \u001b[1m\u001b[92m[-0.27217157 -0.00371627]\u001b[0m\t \u001b[1m\u001b[92m0.07409117508991031\u001b[0m\t \u001b[1m\u001b[92m0.07409117508991031\u001b[0m\t \u001b[1m\u001b[92m0.5612731596498938\u001b[0m\t \u001b[1m\u001b[92m-1.2826316869441957e-19\u001b[0m\n",
            "\u001b[1m\u001b[92m17\u001b[0m\t \u001b[1m\u001b[92m[-0.26549732 -0.00675674]\u001b[0m\t \u001b[1m\u001b[92m0.07053447988674753\u001b[0m\t \u001b[1m\u001b[92m0.07053447988674753\u001b[0m\t \u001b[1m\u001b[92m0.5593079608279028\u001b[0m\t \u001b[1m\u001b[92m-1.4035578656960967e-12\u001b[0m\n",
            "\u001b[1m\u001b[92m18\u001b[0m\t \u001b[1m\u001b[92m[-0.26157093 -0.00865897]\u001b[0m\t \u001b[1m\u001b[92m0.06849433024771452\u001b[0m\t \u001b[1m\u001b[92m0.06849433024771452\u001b[0m\t \u001b[1m\u001b[92m0.5587377520865164\u001b[0m\t \u001b[1m\u001b[92m-1.0548683909948852e-21\u001b[0m\n",
            "\u001b[1m\u001b[92m19\u001b[0m\t \u001b[1m\u001b[92m[-0.25910795 -0.00992663]\u001b[0m\t \u001b[1m\u001b[92m0.0672354663373152\u001b[0m\t \u001b[1m\u001b[92m0.0672354663373152\u001b[0m\t \u001b[1m\u001b[92m0.558682621986117\u001b[0m\t \u001b[1m\u001b[92m-2.465653033991749e-42\u001b[0m\n",
            "\u001b[1m\u001b[92m20\u001b[0m\t \u001b[1m\u001b[92m[-0.25748311 -0.01081503]\u001b[0m\t \u001b[1m\u001b[92m0.06641451505852036\u001b[0m\t \u001b[1m\u001b[92m0.06641451505852036\u001b[0m\t \u001b[1m\u001b[92m0.5588367028043965\u001b[0m\t \u001b[1m\u001b[92m-1.0225638150298478e-38\u001b[0m\n"
          ]
        }
      ],
      "source": [
        "### Bayesian optimisation runs (x20): 'GP EI' Acquisition Function run number = 2\n",
        "\n",
        "np.random.seed(run_num_2)\n",
        "surrogate_approx_2 = dGaussianProcess(cov_func, optimize=hyperOpt)\n",
        "\n",
        "approx_2 = GPGO_approx(surrogate_approx_2, Acquisition_grad(util), f_syn_polarity, param, n_jobs = -1) # define BayesOpt\n",
        "approx_2.run(max_iter = max_iter, init_evals = n_init) # run\n"
      ]
    },
    {
      "cell_type": "code",
      "execution_count": 15,
      "metadata": {
        "id": "OrboSzBtJLku",
        "colab": {
          "base_uri": "https://localhost:8080/"
        },
        "outputId": "73d8e966-d87b-4d56-9d1b-ec4eed21be48"
      },
      "outputs": [
        {
          "output_type": "stream",
          "name": "stdout",
          "text": [
            "Evaluation \t Proposed point \t  Current eval. \t  Best eval. \t         GP EI: maximum y \t GP EI: exploit\n",
            "init\t [0.52017052 2.1314337 ]\t 4.813587005218131\t 4.59675431006429\t    \t    \n",
            "init\t [-2.14113547  0.11087468]\t 4.59675431006429\t 4.59675431006429\t    \t    \n",
            "init\t [4.02377681 4.05804123]\t 32.65847846685941\t 4.59675431006429\t    \t    \n",
            "init\t [-3.83400642 -2.99783293]\t 23.686607498512902\t 4.59675431006429\t    \t    \n",
            "init\t [-4.59297584 -0.6061072 ]\t 21.462792989409664\t 4.59675431006429\t    \t    \n",
            "1  \t [ 4.62594968 -1.72716685]\t 24.382515760418432\t 4.59675431006429\t 4.604111320765137\t 4.5472456103503776\n",
            "2  \t [-4.57811421  5.09191652]\t 46.88674355303911\t 4.59675431006429\t 4.604110931072832\t 4.547244969236273\n",
            "3  \t [ 0.82883316 -5.12      ]\t 26.90136441051294\t 4.59675431006429\t 4.604061110846\t 4.54719186330312\n",
            "4  \t [-0.44145971  5.12      ]\t 26.409286677630373\t 4.59675431006429\t 4.582033649432143\t 4.523696179474192\n",
            "\u001b[1m\u001b[92m5\u001b[0m\t \u001b[1m\u001b[92m[ 0.82827233 -1.27984998]\u001b[0m\t \u001b[1m\u001b[92m2.3240510288035345\u001b[0m\t \u001b[1m\u001b[92m2.3240510288035345\u001b[0m\t \u001b[1m\u001b[92m4.571526508121183\u001b[0m\t \u001b[1m\u001b[92m4.5124756049743535\u001b[0m\n",
            "6  \t [ 5.12 -5.12]\t 52.4288\t 2.3240510288035345\t 2.4141974840619382\t 1.9996125967027498\n",
            "7  \t [2.8116592  0.86098859]\t 8.646728777892784\t 2.3240510288035345\t 2.253282886947475\t 1.7942406295079394\n",
            "8  \t [-2.52584289  2.44485592]\t 12.357202731691004\t 2.3240510288035345\t 2.197314191934467\t 1.722702404441518\n",
            "9  \t [-0.84651169 -2.3542552 ]\t 6.259099579769277\t 2.3240510288035345\t 2.1213167910061634\t 1.6270743485133954\n",
            "10 \t [-2.15648917 -5.12      ]\t 30.86484552527089\t 2.3240510288035345\t 2.0349525860793207\t 1.205741274951771\n",
            "11 \t [5.12       1.24953402]\t 27.77573525912942\t 2.3240510288035345\t 1.9602114484660467\t 1.325290695710181\n",
            "12 \t [-5.12        2.06214417]\t 30.466838569878014\t 2.3240510288035345\t 1.8898758396481163\t 1.3252917630051297\n",
            "13 \t [-5.12 -5.12]\t 52.4288\t 2.3240510288035345\t 1.848404783837156\t 1.208821473504727\n",
            "14 \t [ 1.92357925 -2.4226181 ]\t 9.569235606968128\t 2.3240510288035345\t 1.7905171334828287\t 1.2088034230775535\n",
            "\u001b[1m\u001b[92m15\u001b[0m\t \u001b[1m\u001b[92m[ 0.14386615 -0.02246052]\u001b[0m\t \u001b[1m\u001b[92m0.021201943960553124\u001b[0m\t \u001b[1m\u001b[92m0.021201943960553124\u001b[0m\t \u001b[1m\u001b[92m1.8547807551228026\u001b[0m\t \u001b[1m\u001b[92m1.3010740658240103\u001b[0m\n",
            "\u001b[1m\u001b[92m16\u001b[0m\t \u001b[1m\u001b[92m[0.11276716 0.00716996]\u001b[0m\t \u001b[1m\u001b[92m0.012767840869278664\u001b[0m\t \u001b[1m\u001b[92m0.012767840869278664\u001b[0m\t \u001b[1m\u001b[92m0.5268895096657232\u001b[0m\t \u001b[1m\u001b[92m-1.3549491030843908e-38\u001b[0m\n",
            "17 \t [0.11770085 0.00344964]\t 0.013865389190972034\t 0.012767840869278664\t 0.5364407474800305\t -1.3447294069420543e-25\n",
            "18 \t [0.12028199 0.00142258]\t 0.014469779660669316\t 0.012767840869278664\t 0.5430427888735451\t -4.951502661534156e-16\n",
            "19 \t [0.12178042 0.00019587]\t 0.014830508383401348\t 0.012767840869278664\t 0.5470078652533628\t -8.548338955175712e-13\n",
            "20 \t [ 0.12273601 -0.00061739]\t 0.015064509226017942\t 0.012767840869278664\t 0.5496479692777485\t -1.1765774086686802e-16\n"
          ]
        }
      ],
      "source": [
        "### Bayesian optimisation runs (x20): 'GP EI' Acquisition Function run number = 3\n",
        "\n",
        "np.random.seed(run_num_3)\n",
        "surrogate_approx_3 = dGaussianProcess(cov_func, optimize=hyperOpt)\n",
        "\n",
        "approx_3 = GPGO_approx(surrogate_approx_3, Acquisition_grad(util), f_syn_polarity, param, n_jobs = -1) # define BayesOpt\n",
        "approx_3.run(max_iter = max_iter, init_evals = n_init) # run\n"
      ]
    },
    {
      "cell_type": "code",
      "execution_count": 16,
      "metadata": {
        "id": "wmlwMmKcJLkv",
        "colab": {
          "base_uri": "https://localhost:8080/"
        },
        "outputId": "18389acb-b99b-4926-a132-ac7c713cf638"
      },
      "outputs": [
        {
          "output_type": "stream",
          "name": "stdout",
          "text": [
            "Evaluation \t Proposed point \t  Current eval. \t  Best eval. \t         GP EI: maximum y \t GP EI: exploit\n",
            "init\t [4.78238555 0.48365823]\t 23.1051368481516\t 6.844040613967918\t    \t    \n",
            "init\t [4.84028785 2.19971578]\t 28.267135924302462\t 6.844040613967918\t    \t    \n",
            "init\t [ 2.02474316 -2.90724357]\t 12.551650027390728\t 6.844040613967918\t    \t    \n",
            "init\t [ 4.87705042 -5.05620219]\t 49.3508013219099\t 6.844040613967918\t    \t    \n",
            "init\t [-2.52946061 -0.66773471]\t 6.844040613967918\t 6.844040613967918\t    \t    \n",
            "1  \t [-5.12        4.14099457]\t 43.36223602290998\t 6.844040613967918\t 6.844198530978562\t 6.8419124884221345\n",
            "2  \t [-5.12 -5.12]\t 52.4288\t 6.844040613967918\t 6.844193745735943\t 6.841907610624128\n",
            "3  \t [0.31011482 5.12      ]\t 26.310571200528994\t 6.844040613967918\t 6.8441879641995556\t 6.841901806356957\n",
            "4  \t [-0.95718136 -5.12      ]\t 27.1305961538866\t 6.844040613967918\t 6.833287557187282\t 6.830958385845417\n",
            "\u001b[1m\u001b[92m5\u001b[0m\t \u001b[1m\u001b[92m[0.70230377 1.02858908]\u001b[0m\t \u001b[1m\u001b[92m1.5512260872011265\u001b[0m\t \u001b[1m\u001b[92m1.5512260872011265\u001b[0m\t \u001b[1m\u001b[92m6.832515171849922\u001b[0m\t \u001b[1m\u001b[92m6.830182927064901\u001b[0m\n",
            "6  \t [-5.12        0.39264056]\t 26.36856660547305\t 1.5512260872011265\t 1.7344789469539317\t 1.1241399540964003\n",
            "7  \t [-1.7880775   2.34208306]\t 8.682574226507041\t 1.5512260872011265\t 1.727338014721887\t 1.1149282115382548\n",
            "8  \t [3.78102925 5.12      ]\t 40.51058217711431\t 1.5512260872011265\t 1.6971945673194866\t 1.0372242421513589\n",
            "\u001b[1m\u001b[92m9\u001b[0m\t \u001b[1m\u001b[92m[ 0.08311    -0.84548788]\u001b[0m\t \u001b[1m\u001b[92m0.7217570353447303\u001b[0m\t \u001b[1m\u001b[92m0.7217570353447303\u001b[0m\t \u001b[1m\u001b[92m1.5517723221946347\u001b[0m\t \u001b[1m\u001b[92m0.892467932010184\u001b[0m\n",
            "10 \t [1.66677362 2.23769033]\t 7.7853923259756135\t 0.7217570353447303\t 0.935113830495323\t 0.14141864494209544\n",
            "11 \t [ 1.42157941 -0.28975065]\t 2.1048434488242833\t 0.7217570353447303\t 0.9046593225109917\t 0.16760211355903382\n",
            "12 \t [-0.62931281 -2.02607781]\t 4.501025897907798\t 0.7217570353447303\t 0.895253804592617\t 0.1211028763609958\n",
            "\u001b[1m\u001b[92m13\u001b[0m\t \u001b[1m\u001b[92m[-0.19441365  0.21833082]\u001b[0m\t \u001b[1m\u001b[92m0.08546501430099357\u001b[0m\t \u001b[1m\u001b[92m0.08546501430099357\u001b[0m\t \u001b[1m\u001b[92m0.8243549992359516\u001b[0m\t \u001b[1m\u001b[92m0.08518448061545605\u001b[0m\n",
            "14 \t [-0.2057788   0.22544637]\t 0.09317097894740867\t 0.08546501430099357\t 0.5446634732489425\t -7.941166004154609e-13\n",
            "15 \t [-0.19615888  0.21931474]\t 0.08657726254245882\t 0.08546501430099357\t 0.5498206078079508\t -1.2455832314424469e-29\n",
            "\u001b[1m\u001b[92m16\u001b[0m\t \u001b[1m\u001b[92m[-0.1911552  0.2161046]\u001b[0m\t \u001b[1m\u001b[92m0.0832415081372419\u001b[0m\t \u001b[1m\u001b[92m0.0832415081372419\u001b[0m\t \u001b[1m\u001b[92m0.5531391171179088\u001b[0m\t \u001b[1m\u001b[92m-4.950730747039881e-14\u001b[0m\n",
            "\u001b[1m\u001b[92m17\u001b[0m\t \u001b[1m\u001b[92m[-0.18819777  0.21420718]\u001b[0m\t \u001b[1m\u001b[92m0.08130311467250591\u001b[0m\t \u001b[1m\u001b[92m0.08130311467250591\u001b[0m\t \u001b[1m\u001b[92m0.554423061505433\u001b[0m\t \u001b[1m\u001b[92m-7.439452766536854e-13\u001b[0m\n",
            "\u001b[1m\u001b[92m18\u001b[0m\t \u001b[1m\u001b[92m[-0.18625408  0.21296472]\u001b[0m\t \u001b[1m\u001b[92m0.08004455263860069\u001b[0m\t \u001b[1m\u001b[92m0.08004455263860069\u001b[0m\t \u001b[1m\u001b[92m0.5552188903617489\u001b[0m\t \u001b[1m\u001b[92m-6.81010521041825e-16\u001b[0m\n",
            "\u001b[1m\u001b[92m19\u001b[0m\t \u001b[1m\u001b[92m[-0.18488985  0.21209393]\u001b[0m\t \u001b[1m\u001b[92m0.0791680910468918\u001b[0m\t \u001b[1m\u001b[92m0.0791680910468918\u001b[0m\t \u001b[1m\u001b[92m0.5559350337345594\u001b[0m\t \u001b[1m\u001b[92m-2.6362310137883295e-26\u001b[0m\n",
            "\u001b[1m\u001b[92m20\u001b[0m\t \u001b[1m\u001b[92m[-0.1838876   0.21145787]\u001b[0m\t \u001b[1m\u001b[92m0.07852908012233921\u001b[0m\t \u001b[1m\u001b[92m0.07852908012233921\u001b[0m\t \u001b[1m\u001b[92m0.5565601820109611\u001b[0m\t \u001b[1m\u001b[92m-2.240631931612793e-18\u001b[0m\n"
          ]
        }
      ],
      "source": [
        "### Bayesian optimisation runs (x20): 'GP EI' Acquisition Function run number = 4\n",
        "\n",
        "np.random.seed(run_num_4)\n",
        "surrogate_approx_4 = dGaussianProcess(cov_func, optimize=hyperOpt)\n",
        "\n",
        "approx_4 = GPGO_approx(surrogate_approx_4, Acquisition_grad(util), f_syn_polarity, param, n_jobs = -1) # define BayesOpt\n",
        "approx_4.run(max_iter = max_iter, init_evals = n_init) # run\n"
      ]
    },
    {
      "cell_type": "code",
      "execution_count": 17,
      "metadata": {
        "id": "ntlcfbyWJLkw",
        "colab": {
          "base_uri": "https://localhost:8080/"
        },
        "outputId": "be2b060e-5815-4437-e05c-92d796024cfd"
      },
      "outputs": [
        {
          "output_type": "stream",
          "name": "stdout",
          "text": [
            "Evaluation \t Proposed point \t  Current eval. \t  Best eval. \t         GP EI: maximum y \t GP EI: exploit\n",
            "init\t [-2.84678993  3.79629882]\t 22.516097589112718\t 1.3234068721819314\t    \t    \n",
            "init\t [-3.00319585  4.2865757 ]\t 27.393916517947076\t 1.3234068721819314\t    \t    \n",
            "init\t [-0.11866943  1.14425716]\t 1.3234068721819314\t 1.3234068721819314\t    \t    \n",
            "init\t [2.72289645 0.1886002 ]\t 7.449735113237491\t 1.3234068721819314\t    \t    \n",
            "init\t [-2.08076286 -3.19773462]\t 14.555080786026249\t 1.3234068721819314\t    \t    \n",
            "1  \t [ 4.32895605 -5.09732646]\t 44.722597532365825\t 1.3234068721819314\t 1.6281597426122008\t 0.9871539390661513\n",
            "2  \t [5.12       5.01238555]\t 51.33840892332317\t 1.3234068721819314\t 1.6281590084630853\t 0.9871537251005541\n",
            "3  \t [-5.12       -0.04786458]\t 26.216691018425248\t 1.3234068721819314\t 1.6274860861078573\t 0.9862887695293819\n",
            "4  \t [0.96524419 5.12      ]\t 27.14609634009872\t 1.3234068721819314\t 1.6210814251494714\t 0.9780651847732398\n",
            "5  \t [-5.12 -5.12]\t 52.4288\t 1.3234068721819314\t 1.6197024023886009\t 0.9762952625146272\n",
            "6  \t [ 0.60985122 -5.12      ]\t 26.586318508253523\t 1.3234068721819314\t 1.5889836570340783\t 0.9369070726333342\n",
            "7  \t [ 5.12       -1.48551526]\t 28.42115559220819\t 1.3234068721819314\t 1.5720429358356365\t 0.9152457201120677\n",
            "8  \t [ 0.4741503  -1.46775457]\t 2.3791219987870607\t 1.3234068721819314\t 1.5037160590671903\t 0.8282404065915348\n",
            "9  \t [-1.84627905  0.21267819]\t 3.4539783424998207\t 1.3234068721819314\t 1.4823205748596675\t 0.8039004290293271\n",
            "10 \t [5.12       1.71467076]\t 29.154495801127926\t 1.3234068721819314\t 1.4397192023338077\t 0.5856731568326607\n",
            "11 \t [1.08029691 2.12428189]\t 5.679614960847606\t 1.3234068721819314\t 1.299468165688841\t 0.5872972965267405\n",
            "12 \t [ 2.12792714 -2.4703837 ]\t 10.6308695605878\t 1.3234068721819314\t 1.2469724158872364\t 0.24016430289586993\n",
            "\u001b[1m\u001b[92m13\u001b[0m\t \u001b[1m\u001b[92m[ 0.00771745 -0.15327034]\u001b[0m\t \u001b[1m\u001b[92m0.023551354793451607\u001b[0m\t \u001b[1m\u001b[92m0.023551354793451607\u001b[0m\t \u001b[1m\u001b[92m1.0360899144606215\u001b[0m\t \u001b[1m\u001b[92m0.2982565600925312\u001b[0m\n",
            "14 \t [ 0.00398867 -0.16502575]\t 0.02724940674287455\t 0.023551354793451607\t 0.4827921210933688\t -1.4187571257439688e-17\n",
            "15 \t [ 0.0045132  -0.16391506]\t 0.026888515159601604\t 0.023551354793451607\t 0.5057067871309157\t -8.132191788151679e-48\n",
            "16 \t [ 0.00477041 -0.16334183]\t 0.02670331051569213\t 0.023551354793451607\t 0.5183903460765158\t -1.4618680582954347e-18\n",
            "17 \t [ 0.00491772 -0.16299943]\t 0.026592999480278476\t 0.023551354793451607\t 0.526453731242324\t -1.418741740081713e-17\n",
            "18 \t [ 0.00501207 -0.16277333]\t 0.02652027883887643\t 0.023551354793451607\t 0.532035564345041\t -0.0\n",
            "19 \t [ 0.00507678 -0.16261413]\t 0.02646912888557295\t 0.023551354793451607\t 0.5361299450112175\t -3.031813830798363e-47\n",
            "20 \t [ 0.00512359 -0.16249731]\t 0.02643162628193972\t 0.023551354793451607\t 0.5392621506084637\t -4.9837547899631795e-24\n"
          ]
        }
      ],
      "source": [
        "### Bayesian optimisation runs (x20): 'GP EI' Acquisition Function run number = 5\n",
        "\n",
        "np.random.seed(run_num_5)\n",
        "surrogate_approx_5 = dGaussianProcess(cov_func, optimize=hyperOpt)\n",
        "\n",
        "approx_5 = GPGO_approx(surrogate_approx_5, Acquisition_grad(util), f_syn_polarity, param, n_jobs = -1) # define BayesOpt\n",
        "approx_5.run(max_iter = max_iter, init_evals = n_init) # run\n"
      ]
    },
    {
      "cell_type": "code",
      "execution_count": 18,
      "metadata": {
        "id": "HHrK2qnsJLkx",
        "colab": {
          "base_uri": "https://localhost:8080/"
        },
        "outputId": "e850044f-7354-4a3c-de9c-61cf776d5d76"
      },
      "outputs": [
        {
          "output_type": "stream",
          "name": "stdout",
          "text": [
            "Evaluation \t Proposed point \t  Current eval. \t  Best eval. \t         GP EI: maximum y \t GP EI: exploit\n",
            "init\t [ 4.02288795 -1.72052679]\t 19.143839911819178\t 0.7844720799352826\t    \t    \n",
            "init\t [ 3.28938622 -4.69302655]\t 32.84455992822337\t 0.7844720799352826\t    \t    \n",
            "init\t [-4.0175956   0.97333314]\t 17.088451781196223\t 0.7844720799352826\t    \t    \n",
            "init\t [ 0.30532979 -0.83141193]\t 0.7844720799352826\t 0.7844720799352826\t    \t    \n",
            "init\t [-1.68542362  1.25459899]\t 4.414671405342624\t 0.7844720799352826\t    \t    \n",
            "1  \t [4.11965622 5.12      ]\t 43.18596737725548\t 0.7844720799352826\t 1.2507225569805602\t 0.5119135320864208\n",
            "2  \t [-5.12 -5.12]\t 52.4288\t 0.7844720799352826\t 1.250722531315433\t 0.5119126375100809\n",
            "3  \t [-5.12  5.12]\t 52.4288\t 0.7844720799352826\t 1.2501641658874603\t 0.5112312614230425\n",
            "4  \t [-0.44948625  5.12      ]\t 26.416437893103673\t 0.7844720799352826\t 1.24965964240629\t 0.5106148323978008\n",
            "5  \t [-0.92587221 -4.00794354]\t 16.92085080283722\t 0.7844720799352826\t 1.247417583134826\t 0.5078774299156581\n",
            "6  \t [1.96993755 1.6541008 ]\t 6.616703427642042\t 0.7844720799352826\t 1.2394745047622315\t 0.4982019870510182\n",
            "7  \t [5.12       1.54731213]\t 28.60857482980299\t 0.7844720799352826\t 1.2054374929667233\t 0.3700728977135624\n",
            "8  \t [-3.41688527 -2.00907138]\t 15.711472751065475\t 0.7844720799352826\t 1.132939628566303\t 0.3700727821857067\n",
            "9  \t [ 1.04416265 -1.74617492]\t 4.139402464294074\t 0.7844720799352826\t 0.9791405971318549\t 0.23148844471169666\n",
            "10 \t [-0.68269879 -0.57282422]\t 0.7942052201198392\t 0.7844720799352826\t 0.9350540831708315\t 0.19239834278067477\n",
            "\u001b[1m\u001b[92m11\u001b[0m\t \u001b[1m\u001b[92m[0.11253217 0.17463007]\u001b[0m\t \u001b[1m\u001b[92m0.04315915099571747\u001b[0m\t \u001b[1m\u001b[92m0.04315915099571747\u001b[0m\t \u001b[1m\u001b[92m0.8452987367138414\u001b[0m\t \u001b[1m\u001b[92m0.11949705781570179\u001b[0m\n",
            "12 \t [0.12643524 0.21432069]\t 0.0619192285719254\t 0.04315915099571747\t 0.5283775049725181\t -8.448681799849826e-15\n",
            "13 \t [0.12015316 0.19562376]\t 0.052705436886319436\t 0.04315915099571747\t 0.5366254632708494\t -1.6322764043672722e-15\n",
            "14 \t [0.11675026 0.18625824]\t 0.048322755772457156\t 0.04315915099571747\t 0.5418811720506793\t -5.265960941912918e-16\n",
            "15 \t [0.1146845  0.18076417]\t 0.04582821918731034\t 0.04315915099571747\t 0.5455285734890981\t -3.731327065602982e-22\n",
            "16 \t [0.1133233  0.17721215]\t 0.04424631550110275\t 0.04315915099571747\t 0.5482129474921189\t -3.5025966981685396e-40\n",
            "17 \t [0.11237481 0.17475507]\t 0.04316743468138817\t 0.04315915099571747\t 0.5502742622583732\t -3.1789388919367e-30\n",
            "\u001b[1m\u001b[92m18\u001b[0m\t \u001b[1m\u001b[92m[0.11168545 0.17296833]\u001b[0m\t \u001b[1m\u001b[92m0.0423916834952318\u001b[0m\t \u001b[1m\u001b[92m0.0423916834952318\u001b[0m\t \u001b[1m\u001b[92m0.5519087263286272\u001b[0m\t \u001b[1m\u001b[92m-4.72567785816257e-30\u001b[0m\n",
            "\u001b[1m\u001b[92m19\u001b[0m\t \u001b[1m\u001b[92m[0.1111673  0.17163506]\u001b[0m\t \u001b[1m\u001b[92m0.04181676320172083\u001b[0m\t \u001b[1m\u001b[92m0.04181676320172083\u001b[0m\t \u001b[1m\u001b[92m0.5528709070673421\u001b[0m\t \u001b[1m\u001b[92m-7.26540025400493e-32\u001b[0m\n",
            "\u001b[1m\u001b[92m20\u001b[0m\t \u001b[1m\u001b[92m[0.11076322 0.17059629]\u001b[0m\t \u001b[1m\u001b[92m0.041371585358443395\u001b[0m\t \u001b[1m\u001b[92m0.041371585358443395\u001b[0m\t \u001b[1m\u001b[92m0.553695769401218\u001b[0m\t \u001b[1m\u001b[92m-3.5006853680641754e-22\u001b[0m\n"
          ]
        }
      ],
      "source": [
        "### Bayesian optimisation runs (x20): 'GP EI' Acquisition Function run number = 6\n",
        "\n",
        "np.random.seed(run_num_6)\n",
        "surrogate_approx_6 = dGaussianProcess(cov_func, optimize=hyperOpt)\n",
        "\n",
        "approx_6 = GPGO_approx(surrogate_approx_6, Acquisition_grad(util), f_syn_polarity, param, n_jobs = -1) # define BayesOpt\n",
        "approx_6.run(max_iter = max_iter, init_evals = n_init) # run\n"
      ]
    },
    {
      "cell_type": "code",
      "execution_count": 19,
      "metadata": {
        "id": "rht2Y9u8JLky",
        "colab": {
          "base_uri": "https://localhost:8080/"
        },
        "outputId": "3dcb45c7-76c1-4869-ce3e-ebc334b11be3"
      },
      "outputs": [
        {
          "output_type": "stream",
          "name": "stdout",
          "text": [
            "Evaluation \t Proposed point \t  Current eval. \t  Best eval. \t         GP EI: maximum y \t GP EI: exploit\n",
            "init\t [-4.33860312  2.86636843]\t 27.039544996254122\t 5.622519010932044\t    \t    \n",
            "init\t [-0.63068947  2.28828342]\t 5.634010222398341\t 5.622519010932044\t    \t    \n",
            "init\t [4.8946126  0.39419771]\t 24.112624368867845\t 5.622519010932044\t    \t    \n",
            "init\t [ 0.01147355 -4.38219639]\t 19.20377688135857\t 5.622519010932044\t    \t    \n",
            "init\t [-2.37118484e+00 -1.20319155e-03]\t 5.622519010932044\t 5.622519010932044\t    \t    \n",
            "1  \t [-5.12 -5.12]\t 52.4288\t 5.622519010932044\t 5.623970530540822\t 5.6086316033538575\n",
            "2  \t [ 5.12 -5.12]\t 52.4288\t 5.622519010932044\t 5.623965991173253\t 5.608626965871545\n",
            "3  \t [3.32677936 5.12      ]\t 37.28186092483975\t 5.622519010932044\t 5.623914822676422\t 5.608574691326565\n",
            "4  \t [-4.02558214 -1.33646422]\t 17.991448177385568\t 5.622519010932044\t 5.6239846283798745\t 5.608646005902745\n",
            "\u001b[1m\u001b[92m5\u001b[0m\t \u001b[1m\u001b[92m[ 1.22341687 -0.77267839]\u001b[0m\t \u001b[1m\u001b[92m2.0937807397208346\u001b[0m\t \u001b[1m\u001b[92m2.0937807397208346\u001b[0m\t \u001b[1m\u001b[92m5.60266915498386\u001b[0m\t \u001b[1m\u001b[92m5.586863805280221\u001b[0m\n",
            "6  \t [-1.25614646  5.12      ]\t 27.792303930767755\t 2.0937807397208346\t 2.2023884708328776\t 1.728729115303852\n",
            "7  \t [ 2.86592422 -2.42725294]\t 14.105078480837687\t 2.0937807397208346\t 2.0972636951911245\t 1.5938759359790093\n",
            "8  \t [1.97992168 1.82085891]\t 7.235617031356339\t 2.0937807397208346\t 2.080714219431808\t 1.5721197809461613\n",
            "9  \t [-0.51845266 -1.42112168]\t 2.2883800072976794\t 2.0937807397208346\t 1.891001889829433\t 1.3318061634989486\n",
            "10 \t [-2.40608634 -3.46483602]\t 17.794340147315395\t 2.0937807397208346\t 1.6209916355957614\t 0.9782949891514959\n",
            "11 \t [5.12       3.05690777]\t 35.55908508936116\t 2.0937807397208346\t 1.6096021212007965\t 0.9650881534135263\n",
            "12 \t [-5.12  5.12]\t 52.4288\t 2.0937807397208346\t 1.610606287812789\t 0.9650881631826507\n",
            "\u001b[1m\u001b[92m13\u001b[0m\t \u001b[1m\u001b[92m[0.05870624 0.09523748]\u001b[0m\t \u001b[1m\u001b[92m0.012516600098502095\u001b[0m\t \u001b[1m\u001b[92m0.012516600098502095\u001b[0m\t \u001b[1m\u001b[92m1.5135481187651625\u001b[0m\t \u001b[1m\u001b[92m0.8680917568553221\u001b[0m\n",
            "14 \t [0.02734163 0.13849055]\t 0.019927197063264436\t 0.012516600098502095\t 0.47726193645585735\t -3.851685423600198e-11\n",
            "15 \t [0.02961025 0.13574611]\t 0.019303772897080712\t 0.012516600098502095\t 0.5021880974499553\t -3.652566323768726e-46\n",
            "16 \t [0.03073664 0.13436415]\t 0.01899846684779108\t 0.012516600098502095\t 0.5156594951734642\t -8.036075973478171e-41\n",
            "17 \t [0.03139622 0.13354448]\t 0.01881985037939572\t 0.012516600098502095\t 0.5241122043730098\t -1.346325697453723e-14\n",
            "18 \t [0.03182437 0.13300652]\t 0.01870352434123754\t 0.012516600098502095\t 0.5299153876125976\t -2.57054003089151e-19\n",
            "19 \t [0.03212394 0.13262839]\t 0.018622237242722824\t 0.012516600098502095\t 0.5341480567957024\t -7.925608362069646e-16\n",
            "20 \t [0.03234072 0.13234993]\t 0.018562426262078168\t 0.012516600098502095\t 0.5373727354087154\t -1.3268339631369744e-44\n"
          ]
        }
      ],
      "source": [
        "### Bayesian optimisation runs (x20): 'GP EI' Acquisition Function run number = 7\n",
        "\n",
        "np.random.seed(run_num_7)\n",
        "surrogate_approx_7 = dGaussianProcess(cov_func, optimize=hyperOpt)\n",
        "\n",
        "approx_7 = GPGO_approx(surrogate_approx_7, Acquisition_grad(util), f_syn_polarity, param, n_jobs = -1) # define BayesOpt\n",
        "approx_7.run(max_iter = max_iter, init_evals = n_init) # run\n"
      ]
    },
    {
      "cell_type": "code",
      "execution_count": 20,
      "metadata": {
        "id": "vHGwZn0qJLkz",
        "colab": {
          "base_uri": "https://localhost:8080/"
        },
        "outputId": "c4a1d423-f6c4-4101-df9f-9069ac313fb4"
      },
      "outputs": [
        {
          "output_type": "stream",
          "name": "stdout",
          "text": [
            "Evaluation \t Proposed point \t  Current eval. \t  Best eval. \t         GP EI: maximum y \t GP EI: exploit\n",
            "init\t [3.82391708 4.79785639]\t 37.641767782829874\t 0.10287109474532606\t    \t    \n",
            "init\t [3.78055209 0.31596228]\t 14.392406282091054\t 0.10287109474532606\t    \t    \n",
            "init\t [-2.73686192 -5.00327624]\t 32.52318635319257\t 0.10287109474532606\t    \t    \n",
            "init\t [-0.7119993  -0.99992207]\t 1.5067871566831337\t 0.10287109474532606\t    \t    \n",
            "init\t [ 0.23218863 -0.22126801]\t 0.10287109474532606\t 0.10287109474532606\t    \t    \n",
            "1  \t [-4.36608793e-04  2.06674367e+00]\t 4.271429598672614\t 0.10287109474532606\t 0.8513709009566058\t 0.05568315813121624\n",
            "2  \t [-5.12  5.12]\t 52.4288\t 0.10287109474532606\t 0.8503753017804847\t 0.05354430505382158\n",
            "3  \t [ 4.04653495 -5.12      ]\t 42.5888451205719\t 0.10287109474532606\t 0.8503739366088535\t 0.05354383742243646\n",
            "4  \t [-5.12       -0.23607549]\t 26.270131638470147\t 0.10287109474532606\t 0.8503427325439412\t 0.05351162787045145\n",
            "5  \t [-0.8721827  5.12     ]\t 26.975102668941314\t 0.10287109474532606\t 0.8413999811990419\t 0.04424969512370246\n",
            "6  \t [ 0.78586964 -3.21535839]\t 10.956120685663624\t 0.10287109474532606\t 0.8275614488764583\t 0.03010224436787672\n",
            "7  \t [-2.7830268  2.1207066]\t 12.242634653016335\t 0.10287109474532606\t 0.7791377590541502\t -5.331210213615664e-09\n",
            "8  \t [ 5.12       -2.10283907]\t 30.63633215997281\t 0.10287109474532606\t 0.7105786535407177\t -1.1522836423283365e-39\n",
            "9  \t [-2.3685444  -1.75007465]\t 8.672763841329362\t 0.10287109474532606\t 0.689053281493178\t -4.867671255203294e-30\n",
            "10 \t [ 0.96577177 -0.28716112]\t 1.0151766271024232\t 0.10287109474532606\t 0.682583484160868\t -5.449085613491119e-08\n",
            "11 \t [1.94406113 2.37608733]\t 9.425164683996897\t 0.10287109474532606\t 0.5593582213326512\t -6.190334586987921e-24\n",
            "12 \t [-5.12       -3.32279831]\t 37.25538857852801\t 0.10287109474532606\t 0.6709319269535355\t -0.0\n",
            "13 \t [-0.40218672  0.08881392]\t 0.1696420705700844\t 0.10287109474532606\t 0.5457368728261962\t -3.7280192106780354e-14\n",
            "\u001b[1m\u001b[92m14\u001b[0m\t \u001b[1m\u001b[92m[-0.2581075   0.00746927]\u001b[0m\t \u001b[1m\u001b[92m0.06667527179430566\u001b[0m\t \u001b[1m\u001b[92m0.06667527179430566\u001b[0m\t \u001b[1m\u001b[92m0.5440154393396942\u001b[0m\t \u001b[1m\u001b[92m-1.4874128336785233e-27\u001b[0m\n",
            "\u001b[1m\u001b[92m15\u001b[0m\t \u001b[1m\u001b[92m[-0.23461151 -0.00711364]\u001b[0m\t \u001b[1m\u001b[92m0.05509316285087431\u001b[0m\t \u001b[1m\u001b[92m0.05509316285087431\u001b[0m\t \u001b[1m\u001b[92m0.5371807244112261\u001b[0m\t \u001b[1m\u001b[92m-6.138548302943957e-16\u001b[0m\n",
            "\u001b[1m\u001b[92m16\u001b[0m\t \u001b[1m\u001b[92m[-0.22134303 -0.01554023]\u001b[0m\t \u001b[1m\u001b[92m0.049234235872515714\u001b[0m\t \u001b[1m\u001b[92m0.049234235872515714\u001b[0m\t \u001b[1m\u001b[92m0.538297815257854\u001b[0m\t \u001b[1m\u001b[92m-8.806403092378902e-20\u001b[0m\n",
            "\u001b[1m\u001b[92m17\u001b[0m\t \u001b[1m\u001b[92m[-0.21386516 -0.02040645]\u001b[0m\t \u001b[1m\u001b[92m0.04615472888377517\u001b[0m\t \u001b[1m\u001b[92m0.04615472888377517\u001b[0m\t \u001b[1m\u001b[92m0.540253756243336\u001b[0m\t \u001b[1m\u001b[92m-0.0\u001b[0m\n",
            "\u001b[1m\u001b[92m18\u001b[0m\t \u001b[1m\u001b[92m[-0.20926006 -0.02346977]\u001b[0m\t \u001b[1m\u001b[92m0.044340601123883695\u001b[0m\t \u001b[1m\u001b[92m0.044340601123883695\u001b[0m\t \u001b[1m\u001b[92m0.5423476202822354\u001b[0m\t \u001b[1m\u001b[92m-1.1448848290668532e-15\u001b[0m\n",
            "\u001b[1m\u001b[92m19\u001b[0m\t \u001b[1m\u001b[92m[-0.20624634 -0.02551912]\u001b[0m\t \u001b[1m\u001b[92m0.04318878002515657\u001b[0m\t \u001b[1m\u001b[92m0.04318878002515657\u001b[0m\t \u001b[1m\u001b[92m0.5442557736545537\u001b[0m\t \u001b[1m\u001b[92m-3.512910619848201e-26\u001b[0m\n",
            "\u001b[1m\u001b[92m20\u001b[0m\t \u001b[1m\u001b[92m[-0.20417572 -0.02695565]\u001b[0m\t \u001b[1m\u001b[92m0.042414332162254806\u001b[0m\t \u001b[1m\u001b[92m0.042414332162254806\u001b[0m\t \u001b[1m\u001b[92m0.5459267380109283\u001b[0m\t \u001b[1m\u001b[92m-1.87112799598937e-14\u001b[0m\n"
          ]
        }
      ],
      "source": [
        "### Bayesian optimisation runs (x20): 'GP EI' Acquisition Function run number = 8\n",
        "\n",
        "np.random.seed(run_num_8)\n",
        "surrogate_approx_8 = dGaussianProcess(cov_func, optimize=hyperOpt)\n",
        "\n",
        "approx_8 = GPGO_approx(surrogate_approx_8, Acquisition_grad(util), f_syn_polarity, param, n_jobs = -1) # define BayesOpt\n",
        "approx_8.run(max_iter = max_iter, init_evals = n_init) # run\n"
      ]
    },
    {
      "cell_type": "code",
      "execution_count": 21,
      "metadata": {
        "id": "YC6sxKgkJLkz",
        "colab": {
          "base_uri": "https://localhost:8080/"
        },
        "outputId": "e2f5ec88-ab54-454a-df11-7657c21b07f1"
      },
      "outputs": [
        {
          "output_type": "stream",
          "name": "stdout",
          "text": [
            "Evaluation \t Proposed point \t  Current eval. \t  Best eval. \t         GP EI: maximum y \t GP EI: exploit\n",
            "init\t [-5.01376866  0.01919582]\t 25.138244697862262\t 7.349882113053805\t    \t    \n",
            "init\t [-0.04328148 -3.74958562]\t 14.061265633999861\t 7.349882113053805\t    \t    \n",
            "init\t [-3.66478248 -2.88195916]\t 21.736319271030034\t 7.349882113053805\t    \t    \n",
            "init\t [-0.83447623 -2.57944404]\t 7.349882113053805\t 7.349882113053805\t    \t    \n",
            "init\t [-4.25922917 -1.58209393]\t 20.64405433050371\t 7.349882113053805\t    \t    \n",
            "1  \t [3.69491889 4.82146316]\t 36.89893267190826\t 7.349882113053805\t 7.349939623433926\t 7.349007818560137\n",
            "2  \t [-2.28325892  5.12      ]\t 31.42767130669173\t 7.349882113053805\t 7.34993868320942\t 7.349006877054278\n",
            "3  \t [ 4.85377973 -0.96421613]\t 24.488890382834978\t 7.349882113053805\t 7.34993821075366\t 7.349006308195186\n",
            "\u001b[1m\u001b[92m4\u001b[0m\t \u001b[1m\u001b[92m[0.53602364 1.34185879]\u001b[0m\t \u001b[1m\u001b[92m2.0879063532673254\u001b[0m\t \u001b[1m\u001b[92m2.0879063532673254\u001b[0m\t \u001b[1m\u001b[92m7.3488930525708644\u001b[0m\t \u001b[1m\u001b[92m7.347959454046378\u001b[0m\n",
            "5  \t [ 4.2514357 -5.12     ]\t 44.28910548315764\t 2.0879063532673254\t 2.2392883048791363\t 1.7761041443462986\n",
            "6  \t [-5.12        3.44023444]\t 38.049613014731825\t 2.0879063532673254\t 2.15458256401783\t 1.6671762541197839\n",
            "7  \t [-1.83580019  1.33391191]\t 5.14948331558221\t 2.0879063532673254\t 2.1384621284179324\t 1.6469057163659666\n",
            "8  \t [ 1.54671778 -0.79553106]\t 3.02520557652716\t 2.0879063532673254\t 2.1035217475905656\t 1.601888114873559\n",
            "9  \t [2.86042537 1.6215135 ]\t 10.811339314602167\t 2.0879063532673254\t 2.0485287476324388\t 1.5309781330730936\n",
            "10 \t [0.54562486 3.68959101]\t 13.910788279887978\t 2.0879063532673254\t 2.0141340842351387\t 1.4864432302294905\n",
            "11 \t [-5.12 -5.12]\t 52.4288\t 2.0879063532673254\t 2.008481464175745\t 1.4786610599531222\n",
            "12 \t [5.12       2.13489776]\t 30.772188437250335\t 2.0879063532673254\t 1.7235031003192807\t 1.05733936759396\n",
            "13 \t [ 2.36746693 -2.59358166]\t 12.331565500343135\t 2.0879063532673254\t 1.676853851138499\t 1.0548077803832645\n",
            "\u001b[1m\u001b[92m14\u001b[0m\t \u001b[1m\u001b[92m[-0.37372325 -0.32884431]\u001b[0m\t \u001b[1m\u001b[92m0.24780765295521007\u001b[0m\t \u001b[1m\u001b[92m0.24780765295521007\u001b[0m\t \u001b[1m\u001b[92m1.707092301580564\u001b[0m\t \u001b[1m\u001b[92m1.0970635054335474\u001b[0m\n",
            "15 \t [-0.40878274 -0.34373204]\t 0.2852550453632073\t 0.24780765295521007\t 0.5912486881685113\t -1.7630131718013808e-17\n",
            "\u001b[1m\u001b[92m16\u001b[0m\t \u001b[1m\u001b[92m[-0.35652573 -0.32341791]\u001b[0m\t \u001b[1m\u001b[92m0.2317097422851915\u001b[0m\t \u001b[1m\u001b[92m0.2317097422851915\u001b[0m\t \u001b[1m\u001b[92m0.5783485968471089\u001b[0m\t \u001b[1m\u001b[92m-7.975429428165154e-24\u001b[0m\n",
            "17 \t [-0.87632058 -0.47972977]\t 0.9980784118532416\t 0.2317097422851915\t 0.5704219829792089\t -3.005422047384663e-17\n",
            "\u001b[1m\u001b[92m18\u001b[0m\t \u001b[1m\u001b[92m[ 0.04612334 -0.12713081]\u001b[0m\t \u001b[1m\u001b[92m0.018289605981179746\u001b[0m\t \u001b[1m\u001b[92m0.018289605981179746\u001b[0m\t \u001b[1m\u001b[92m0.5535682941701727\u001b[0m\t \u001b[1m\u001b[92m-3.360698964576134e-15\u001b[0m\n",
            "\u001b[1m\u001b[92m19\u001b[0m\t \u001b[1m\u001b[92m[ 0.07021365 -0.11037811]\u001b[0m\t \u001b[1m\u001b[92m0.017113282778484326\u001b[0m\t \u001b[1m\u001b[92m0.017113282778484326\u001b[0m\t \u001b[1m\u001b[92m0.4882728417097586\u001b[0m\t \u001b[1m\u001b[92m-3.1474088872552804e-11\u001b[0m\n",
            "20 \t [ 0.06975852 -0.11070673]\t 0.017122232450249228\t 0.017113282778484326\t 0.5031069059675437\t -5.2286877296531445e-25\n"
          ]
        }
      ],
      "source": [
        "### Bayesian optimisation runs (x20): 'GP EI' Acquisition Function run number = 9\n",
        "\n",
        "np.random.seed(run_num_9)\n",
        "surrogate_approx_9 = dGaussianProcess(cov_func, optimize=hyperOpt)\n",
        "\n",
        "approx_9 = GPGO_approx(surrogate_approx_9, Acquisition_grad(util), f_syn_polarity, param, n_jobs = -1) # define BayesOpt\n",
        "approx_9.run(max_iter = max_iter, init_evals = n_init) # run\n"
      ]
    },
    {
      "cell_type": "code",
      "execution_count": 22,
      "metadata": {
        "id": "P-0wfCEIJLk0",
        "colab": {
          "base_uri": "https://localhost:8080/"
        },
        "outputId": "b411d36c-f6ff-4c61-eafa-e0ec9c608cb1"
      },
      "outputs": [
        {
          "output_type": "stream",
          "name": "stdout",
          "text": [
            "Evaluation \t Proposed point \t  Current eval. \t  Best eval. \t         GP EI: maximum y \t GP EI: exploit\n",
            "init\t [ 2.77832339 -4.90750004]\t 31.80263747150094\t 7.941821858928501\t    \t    \n",
            "init\t [1.36855793 2.54775176]\t 8.363989812138083\t 7.941821858928501\t    \t    \n",
            "init\t [-0.01528819 -2.81808235]\t 7.941821858928501\t 7.941821858928501\t    \t    \n",
            "init\t [-3.09183626  2.66783449]\t 16.67679237031191\t 7.941821858928501\t    \t    \n",
            "init\t [-3.38830503 -4.2154003 ]\t 29.25021071405309\t 7.941821858928501\t    \t    \n",
            "1  \t [ 5.12       -0.36517683]\t 26.347754113641418\t 7.941821858928501\t 7.941751005927989\t 7.94145039230651\n",
            "2  \t [5.12 5.12]\t 52.4288\t 7.941821858928501\t 7.941699776534956\t 7.9413991324374\n",
            "3  \t [-5.12       -0.59618645]\t 26.569838285867093\t 7.941821858928501\t 7.931984859740016\t 7.931678364187648\n",
            "4  \t [-0.58314795  5.12      ]\t 26.554461526600576\t 7.941821858928501\t 7.901342605036744\t 7.901016968591469\n",
            "5  \t [-5.12  5.12]\t 52.4288\t 7.941821858928501\t 7.888766806012915\t 7.888432989224328\n",
            "\u001b[1m\u001b[92m6\u001b[0m\t \u001b[1m\u001b[92m[-0.91598268  0.09808346]\u001b[0m\t \u001b[1m\u001b[92m0.8486446347143605\u001b[0m\t \u001b[1m\u001b[92m0.8486446347143605\u001b[0m\t \u001b[1m\u001b[92m7.859195386901564\u001b[0m\t \u001b[1m\u001b[92m7.8588416153222305\u001b[0m\n",
            "7  \t [ 1.72078319 -0.47271319]\t 3.184552541926712\t 0.8486446347143605\t 1.196825141198907\t 0.4465847162564858\n",
            "8  \t [-2.00010273 -0.84643832]\t 4.71686874696191\t 0.8486446347143605\t 1.0674779577481794\t 0.3115220992967819\n",
            "9  \t [ 5.12       -3.33957659]\t 37.36717177114444\t 0.8486446347143605\t 1.008452576978124\t 0.24545619912564193\n",
            "10 \t [-0.44992437 -5.12      ]\t 26.416831938322407\t 0.8486446347143605\t 1.0039139515130329\t 0.24546132536988866\n",
            "11 \t [-0.55438853  0.98059317]\t 1.2689096009822145\t 0.8486446347143605\t 0.9774250012574116\t 0.24489473490332428\n",
            "12 \t [3.82641771 2.20906754]\t 19.521451839904813\t 0.8486446347143605\t 0.9476563643457973\t 0.1580179427861056\n",
            "13 \t [2.13829091 5.12      ]\t 30.7866880312732\t 0.8486446347143605\t 0.8359754510858955\t 0.05605993913299261\n",
            "\u001b[1m\u001b[92m14\u001b[0m\t \u001b[1m\u001b[92m[0.00044191 0.08080347]\u001b[0m\t \u001b[1m\u001b[92m0.006529395462207419\u001b[0m\t \u001b[1m\u001b[92m0.006529395462207419\u001b[0m\t \u001b[1m\u001b[92m0.776402749082624\u001b[0m\t \u001b[1m\u001b[92m0.057015693985797485\u001b[0m\n",
            "\u001b[1m\u001b[92m15\u001b[0m\t \u001b[1m\u001b[92m[0.04399767 0.0266631 ]\u001b[0m\t \u001b[1m\u001b[92m0.0026467157950775116\u001b[0m\t \u001b[1m\u001b[92m0.0026467157950775116\u001b[0m\t \u001b[1m\u001b[92m0.47022550342775554\u001b[0m\t \u001b[1m\u001b[92m-2.42278418896487e-35\u001b[0m\n",
            "16 \t [0.04180305 0.03017897]\t 0.0026582657169468126\t 0.0026467157950775116\t 0.4946300981056459\t -2.32029839127972e-13\n",
            "17 \t [0.04062886 0.03200662]\t 0.002675128104040481\t 0.0026467157950775116\t 0.5094403421025336\t -4.315384442985511e-20\n",
            "18 \t [0.03994147 0.03305217]\t 0.0026877673594827268\t 0.0026467157950775116\t 0.5190337564294696\t -5.820733682820144e-17\n",
            "19 \t [0.03949649 0.03371801]\t 0.002696876826193381\t 0.0026467157950775116\t 0.5257584505412364\t -9.770252223562127e-18\n",
            "20 \t [0.03918804 0.03417488]\t 0.002703624803986061\t 0.0026467157950775116\t 0.5307354909420668\t -7.357524560661878e-50\n"
          ]
        }
      ],
      "source": [
        "### Bayesian optimisation runs (x20): 'GP EI' Acquisition Function run number = 10\n",
        "\n",
        "np.random.seed(run_num_10)\n",
        "surrogate_approx_10 = dGaussianProcess(cov_func, optimize=hyperOpt)\n",
        "\n",
        "approx_10 = GPGO_approx(surrogate_approx_10, Acquisition_grad(util), f_syn_polarity, param, n_jobs = -1) # define BayesOpt\n",
        "approx_10.run(max_iter = max_iter, init_evals = n_init) # run\n"
      ]
    },
    {
      "cell_type": "code",
      "execution_count": 23,
      "metadata": {
        "id": "Z6wmPCIEJLk2",
        "colab": {
          "base_uri": "https://localhost:8080/"
        },
        "outputId": "8760926e-e4fe-42f6-b4bd-5450394cff68"
      },
      "outputs": [
        {
          "output_type": "stream",
          "name": "stdout",
          "text": [
            "Evaluation \t Proposed point \t  Current eval. \t  Best eval. \t         GP EI: maximum y \t GP EI: exploit\n",
            "init\t [-3.27403839 -4.92057353]\t 34.93137118861299\t 0.6899456214148796\t    \t    \n",
            "init\t [-0.37664229  2.30332343]\t 5.447158259491397\t 0.6899456214148796\t    \t    \n",
            "init\t [-0.81711509 -0.14922651]\t 0.6899456214148796\t 0.6899456214148796\t    \t    \n",
            "init\t [-4.98912446 -0.12931474]\t 24.908085165573997\t 0.6899456214148796\t    \t    \n",
            "init\t [4.52410012 3.59214172]\t 33.37096399795931\t 0.6899456214148796\t    \t    \n",
            "1  \t [ 3.03550212 -4.46785095]\t 29.17596522689979\t 0.6899456214148796\t 1.1898686681311723\t 0.4380758157391548\n",
            "2  \t [-5.12  5.12]\t 52.4288\t 0.6899456214148796\t 1.189860132757955\t 0.43806553720219416\n",
            "3  \t [ 5.12       -0.71940695]\t 26.731946353325895\t 0.6899456214148796\t 1.1881163372713106\t 0.43596609426325145\n",
            "4  \t [0.92473097 5.12      ]\t 27.06952737499057\t 0.6899456214148796\t 1.17087177720776\t 0.41224162844442735\n",
            "5  \t [-0.19961111 -2.46512035]\t 6.1166629526971885\t 0.6899456214148796\t 1.1679657232702403\t 0.4121875676471479\n",
            "6  \t [1.75668299 0.19079158]\t 3.1223365719044116\t 0.6899456214148796\t 1.13857510135968\t 0.376899823512991\n",
            "7  \t [-2.93752431  2.40749063]\t 14.42506021324585\t 0.6899456214148796\t 1.0532406127882261\t 0.2770142050813755\n",
            "8  \t [-0.04576661 -5.12      ]\t 26.216494582627426\t 0.6899456214148796\t 1.0169491894090197\t 0.23539947114099424\n",
            "9  \t [-2.12719155 -1.0257756 ]\t 5.577159479856163\t 0.6899456214148796\t 0.9617892890269398\t 0.19112534465771433\n",
            "10 \t [-1.94710573  5.12      ]\t 30.005620706533517\t 0.6899456214148796\t 0.8892445337510665\t 0.09452201744577048\n",
            "11 \t [-5.12       -2.87162572]\t 34.46063425284538\t 0.6899456214148796\t 0.8022378518440928\t 0.006829776697714795\n",
            "12 \t [ 2.09237999 -1.63212485]\t 7.041885521620515\t 0.6899456214148796\t 0.8011121470743937\t 0.04492158242083645\n",
            "13 \t [1.9898445  1.95822962]\t 7.794144369190272\t 0.6899456214148796\t 0.8227323454158401\t 0.042770506300344714\n",
            "\u001b[1m\u001b[92m14\u001b[0m\t \u001b[1m\u001b[92m[-0.16858435  0.09773916]\u001b[0m\t \u001b[1m\u001b[92m0.037973624422503474\u001b[0m\t \u001b[1m\u001b[92m0.037973624422503474\u001b[0m\t \u001b[1m\u001b[92m0.7691026527559274\u001b[0m\t \u001b[1m\u001b[92m0.043604189630730886\u001b[0m\n",
            "\u001b[1m\u001b[92m15\u001b[0m\t \u001b[1m\u001b[92m[-0.14572406  0.09857721]\u001b[0m\t \u001b[1m\u001b[92m0.030952967277075437\u001b[0m\t \u001b[1m\u001b[92m0.030952967277075437\u001b[0m\t \u001b[1m\u001b[92m0.5108345104856009\u001b[0m\t \u001b[1m\u001b[92m-3.446717665078862e-12\u001b[0m\n",
            "16 \t [-0.15179539  0.09860246]\t 0.032764285155212625\t 0.030952967277075437\t 0.5233515716661996\t -5.25457364532587e-17\n",
            "17 \t [-0.15541107  0.09858453]\t 0.03387150861005154\t 0.030952967277075437\t 0.5319283049900247\t -3.6066173624637683e-19\n",
            "18 \t [-0.15772071  0.09855045]\t 0.034588011944772\t 0.030952967277075437\t 0.5373662875320299\t -2.7729623898673474e-14\n",
            "19 \t [-0.1593151   0.09851067]\t 0.03508565133469396\t 0.030952967277075437\t 0.541115281528089\t -1.162370737425391e-44\n",
            "20 \t [-0.16047756  0.09847085]\t 0.035449555526665476\t 0.030952967277075437\t 0.5438527829661972\t -7.094714472072877e-14\n"
          ]
        }
      ],
      "source": [
        "### Bayesian optimisation runs (x20): 'GP EI' Acquisition Function run number = 11\n",
        "\n",
        "np.random.seed(run_num_11)\n",
        "surrogate_approx_11 = dGaussianProcess(cov_func, optimize=hyperOpt)\n",
        "\n",
        "approx_11 = GPGO_approx(surrogate_approx_11, Acquisition_grad(util), f_syn_polarity, param, n_jobs = -1) # define BayesOpt\n",
        "approx_11.run(max_iter = max_iter, init_evals = n_init) # run\n"
      ]
    },
    {
      "cell_type": "code",
      "execution_count": 24,
      "metadata": {
        "id": "oNR6-n7iJLk3",
        "colab": {
          "base_uri": "https://localhost:8080/"
        },
        "outputId": "353d2ebf-fc8f-4767-e54c-87a880ae91e6"
      },
      "outputs": [
        {
          "output_type": "stream",
          "name": "stdout",
          "text": [
            "Evaluation \t Proposed point \t  Current eval. \t  Best eval. \t         GP EI: maximum y \t GP EI: exploit\n",
            "init\t [-3.54137249  2.45810889]\t 18.583618467979093\t 5.993464196233534\t    \t    \n",
            "init\t [-2.42365424  0.34549139]\t 5.993464196233534\t 5.993464196233534\t    \t    \n",
            "init\t [-4.97075238  4.28796936]\t 43.09506052206225\t 5.993464196233534\t    \t    \n",
            "init\t [ 4.10332011 -4.77776458]\t 39.66427028607538\t 5.993464196233534\t    \t    \n",
            "init\t [ 4.6791612  -3.71497655]\t 35.6956003298903\t 5.993464196233534\t    \t    \n",
            "1  \t [5.12 5.12]\t 52.4288\t 5.993464196233534\t 5.994237365089377\t 5.985286390941009\n",
            "2  \t [-4.15109266 -5.12      ]\t 43.44597023451905\t 5.993464196233534\t 5.994237163434248\t 5.985286091867031\n",
            "\u001b[1m\u001b[92m3\u001b[0m\t \u001b[1m\u001b[92m[2.28117334 0.77905251]\u001b[0m\t \u001b[1m\u001b[92m5.810674613708926\u001b[0m\t \u001b[1m\u001b[92m5.810674613708926\u001b[0m\t \u001b[1m\u001b[92m5.99412775693692\u001b[0m\t \u001b[1m\u001b[92m5.98517530978402\u001b[0m\n",
            "4  \t [0.22734929 5.12      ]\t 26.266087701518654\t 5.810674613708926\t 5.811320510228786\t 5.799591334041033\n",
            "5  \t [-0.05693962 -3.03366024]\t 9.206336598212415\t 5.810674613708926\t 5.809714302958114\t 5.797957683172327\n",
            "6  \t [-5.12       -1.31886451]\t 27.953803608116285\t 5.810674613708926\t 5.781766804080118\t 5.769524126591385\n",
            "7  \t [5.12       0.16037262]\t 26.240119376450956\t 5.810674613708926\t 5.762097855583812\t 5.7495046202344735\n",
            "\u001b[1m\u001b[92m8\u001b[0m\t \u001b[1m\u001b[92m[-0.14506878  1.82280843]\u001b[0m\t \u001b[1m\u001b[92m3.343675535982186\u001b[0m\t \u001b[1m\u001b[92m3.343675535982186\u001b[0m\t \u001b[1m\u001b[92m5.583478221609285\u001b[0m\t \u001b[1m\u001b[92m5.5672701750427045\u001b[0m\n",
            "9  \t [ 2.17332763 -1.65199131]\t 7.45242829650125\t 3.343675535982186\t 2.9914556264689236\t 2.7186244673896582\n",
            "10 \t [ 0.89767393 -5.12      ]\t 27.02021847567151\t 3.343675535982186\t 2.981649359402579\t 2.706870871374454\n",
            "11 \t [2.57755    3.07348938]\t 16.090101001596913\t 3.343675535982186\t 2.9687885104958602\t 2.691188473828557\n",
            "12 \t [-2.27476555 -2.25743257]\t 10.270560097248396\t 3.343675535982186\t 2.8510287706870265\t 2.5470934135803973\n",
            "\u001b[1m\u001b[92m13\u001b[0m\t \u001b[1m\u001b[92m[-0.0668172  -0.29167025]\u001b[0m\t \u001b[1m\u001b[92m0.08953607500709479\u001b[0m\t \u001b[1m\u001b[92m0.08953607500709479\u001b[0m\t \u001b[1m\u001b[92m2.7761570791860875\u001b[0m\t \u001b[1m\u001b[92m2.45610241027815\u001b[0m\n",
            "14 \t [-0.06676247 -0.2979064 ]\t 0.09320544890484195\t 0.08953607500709479\t 0.5591137470355507\t -1.0078738591764938e-33\n",
            "15 \t [-0.06673358 -0.29673515]\t 0.09250511745123774\t 0.08953607500709479\t 0.5612067253620324\t -2.0079692378362755e-38\n",
            "16 \t [-0.06672395 -0.29615617]\t 0.09216056401882533\t 0.08953607500709479\t 0.5619999618412088\t -5.743800175542083e-29\n",
            "17 \t [-0.06672113 -0.29582293]\t 0.09196291326813176\t 0.08953607500709479\t 0.5623873327870234\t -1.724085989329668e-28\n",
            "18 \t [-0.06672035 -0.29561119]\t 0.09183758276548613\t 0.08953607500709479\t 0.5626071831985169\t -4.750992820083905e-27\n",
            "19 \t [-0.06672201 -0.29546721]\t 0.09175269955093052\t 0.08953607500709479\t 0.5627450915780224\t -2.2874865971101813e-45\n",
            "20 \t [-0.06672302 -0.29536516]\t 0.0916925424634907\t 0.08953607500709479\t 0.5628379940720379\t -2.566405602185398e-28\n"
          ]
        }
      ],
      "source": [
        "### Bayesian optimisation runs (x20): 'GP EI' Acquisition Function run number = 12\n",
        "\n",
        "np.random.seed(run_num_12)\n",
        "surrogate_approx_12 = dGaussianProcess(cov_func, optimize=hyperOpt)\n",
        "\n",
        "approx_12 = GPGO_approx(surrogate_approx_12, Acquisition_grad(util), f_syn_polarity, param, n_jobs = -1) # define BayesOpt\n",
        "approx_12.run(max_iter = max_iter, init_evals = n_init) # run\n"
      ]
    },
    {
      "cell_type": "code",
      "execution_count": 25,
      "metadata": {
        "id": "z1CyiX30JLk4",
        "colab": {
          "base_uri": "https://localhost:8080/"
        },
        "outputId": "4560cdbc-6f04-45b7-a40a-ae6afbd9aaf3"
      },
      "outputs": [
        {
          "output_type": "stream",
          "name": "stdout",
          "text": [
            "Evaluation \t Proposed point \t  Current eval. \t  Best eval. \t         GP EI: maximum y \t GP EI: exploit\n",
            "init\t [ 2.84367268 -2.68757791]\t 15.30954934064491\t 7.271500601275535\t    \t    \n",
            "init\t [3.32061217 4.76927179]\t 33.772418600555795\t 7.271500601275535\t    \t    \n",
            "init\t [ 4.83943541 -0.47667971]\t 23.647358595121606\t 7.271500601275535\t    \t    \n",
            "init\t [1.11659482 2.82139151]\t 9.20703403927425\t 7.271500601275535\t    \t    \n",
            "init\t [1.45012065 2.27346667]\t 7.271500601275535\t 7.271500601275535\t    \t    \n",
            "1  \t [-4.10876704 -2.60547476]\t 23.670465283396044\t 7.271500601275535\t 7.271568186175726\t 7.270492860134739\n",
            "2  \t [-5.12       2.9827349]\t 35.111107491263496\t 7.271500601275535\t 7.271566998042995\t 7.270491787133205\n",
            "3  \t [-0.59462664 -5.12      ]\t 26.567980840484395\t 7.271500601275535\t 7.269457950858464\t 7.268378491867869\n",
            "4  \t [-1.67014801  5.12      ]\t 29.003794380347195\t 7.271500601275535\t 7.2612291789022745\t 7.26013346753254\n",
            "\u001b[1m\u001b[92m5\u001b[0m\t \u001b[1m\u001b[92m[-0.68837786 -0.62671511]\u001b[0m\t \u001b[1m\u001b[92m0.8666359153539505\u001b[0m\t \u001b[1m\u001b[92m0.8666359153539505\u001b[0m\t \u001b[1m\u001b[92m7.25939757405582\u001b[0m\t \u001b[1m\u001b[92m7.258298213541457\u001b[0m\n",
            "6  \t [ 5.12 -5.12]\t 52.4288\t 0.8666359153539505\t 1.2851812805574272\t 0.5152308203682474\n",
            "7  \t [-2.04987097  1.08287186]\t 5.374582434018441\t 0.8666359153539505\t 1.2525288377998038\t 0.5152303686359186\n",
            "8  \t [ 0.8809112  -0.40754496]\t 0.9420974317630431\t 0.8666359153539505\t 1.1339073266734574\t 0.38345415099825897\n",
            "9  \t [-0.64451526 -1.94442319]\t 4.196181443035703\t 0.8666359153539505\t 1.1123565186986726\t 0.37008508712288196\n",
            "10 \t [-5.12 -5.12]\t 52.4288\t 0.8666359153539505\t 1.112274010343932\t 0.23816063031940218\n",
            "11 \t [5.12      2.4188501]\t 32.06523581590598\t 0.8666359153539505\t 1.0613361209648555\t 0.28623743295347315\n",
            "12 \t [-5.12       -0.00780716]\t 26.214460951740623\t 0.8666359153539505\t 1.0233102352889405\t 0.15711429302488225\n",
            "13 \t [1.76349858 0.00689676]\t 3.1099748242234613\t 0.8666359153539505\t 0.8873874204892019\t -1.641173870060871e-35\n",
            "\u001b[1m\u001b[92m14\u001b[0m\t \u001b[1m\u001b[92m[-0.1023643   0.15135503]\u001b[0m\t \u001b[1m\u001b[92m0.03338679343037275\u001b[0m\t \u001b[1m\u001b[92m0.03338679343037275\u001b[0m\t \u001b[1m\u001b[92m0.8440384236860555\u001b[0m\t \u001b[1m\u001b[92m0.11895599953162975\u001b[0m\n",
            "15 \t [-0.1063041   0.19896532]\t 0.050887758547833936\t 0.03338679343037275\t 0.5030968400531397\t -1.2182236971951353e-08\n",
            "16 \t [-0.10537069  0.18802802]\t 0.046457518514890925\t 0.03338679343037275\t 0.5179777680392231\t -0.0\n",
            "17 \t [-0.10489335  0.18244014]\t 0.044287019525976315\t 0.03338679343037275\t 0.5266707449574111\t -4.800821698784563e-16\n",
            "18 \t [-0.10460992  0.17911192]\t 0.043024316909313194\t 0.03338679343037275\t 0.5324046070817736\t -0.0\n",
            "19 \t [-0.10442565  0.17693115]\t 0.042209347443263844\t 0.03338679343037275\t 0.5364826606140276\t -4.363277110200567e-49\n",
            "20 \t [-0.10429804  0.17540514]\t 0.04164504393157259\t 0.03338679343037275\t 0.5395370505544467\t -1.3089015419207717e-19\n"
          ]
        }
      ],
      "source": [
        "### Bayesian optimisation runs (x20): 'GP EI' Acquisition Function run number = 13\n",
        "\n",
        "np.random.seed(run_num_13)\n",
        "surrogate_approx_13 = dGaussianProcess(cov_func, optimize=hyperOpt)\n",
        "\n",
        "approx_13 = GPGO_approx(surrogate_approx_13, Acquisition_grad(util), f_syn_polarity, param, n_jobs = -1) # define BayesOpt\n",
        "approx_13.run(max_iter = max_iter, init_evals = n_init) # run\n"
      ]
    },
    {
      "cell_type": "code",
      "execution_count": 26,
      "metadata": {
        "id": "Dx5l3xHMJLk5",
        "colab": {
          "base_uri": "https://localhost:8080/"
        },
        "outputId": "0631e3b0-547d-4f6d-99d8-c1cc7d2f87f2"
      },
      "outputs": [
        {
          "output_type": "stream",
          "name": "stdout",
          "text": [
            "Evaluation \t Proposed point \t  Current eval. \t  Best eval. \t         GP EI: maximum y \t GP EI: exploit\n",
            "init\t [0.14277984 2.79721013]\t 7.844770612568215\t 3.480496204392171\t    \t    \n",
            "init\t [ 3.7931795  -5.03759925]\t 39.765616906968944\t 3.480496204392171\t    \t    \n",
            "init\t [-1.94830412  4.68586229]\t 25.753194366239512\t 3.480496204392171\t    \t    \n",
            "init\t [ 0.13431513 -1.86076749]\t 3.480496204392171\t 3.480496204392171\t    \t    \n",
            "init\t [ 0.40140736 -2.85434939]\t 8.308438305616814\t 3.480496204392171\t    \t    \n",
            "1  \t [-5.12 -5.12]\t 52.4288\t 3.480496204392171\t 3.513633268751706\t 3.338116184053161\n",
            "2  \t [5.10055263 5.12      ]\t 52.23003717223822\t 3.480496204392171\t 3.5136322123647155\t 3.33811579770714\n",
            "3  \t [-5.12        0.39374029]\t 26.369431412772123\t 3.480496204392171\t 3.513618757181146\t 3.338100079468772\n",
            "4  \t [ 5.12       -0.07494469]\t 26.220016706989426\t 3.480496204392171\t 3.513561437643989\t 3.3380336323270807\n",
            "\u001b[1m\u001b[92m5\u001b[0m\t \u001b[1m\u001b[92m[-1.58751435  0.05051817]\u001b[0m\t \u001b[1m\u001b[92m2.522753899086134\u001b[0m\t \u001b[1m\u001b[92m2.522753899086134\u001b[0m\t \u001b[1m\u001b[92m3.443790162056067\u001b[0m\t \u001b[1m\u001b[92m3.257035014149775\u001b[0m\n",
            "6  \t [-5.12  5.12]\t 52.4288\t 2.522753899086134\t 2.5531384833655757\t 2.131664161335534\n",
            "7  \t [-1.42886808 -5.12      ]\t 28.256063986638797\t 2.522753899086134\t 2.5438438500104996\t 2.1637872284055737\n",
            "8  \t [1.70992485 0.19988861]\t 2.963798439515395\t 2.522753899086134\t 2.517981186214262\t 2.131307698259313\n",
            "9  \t [1.60530325 5.12      ]\t 28.791398523055747\t 2.522753899086134\t 2.473317060398843\t 2.0478196581405563\n",
            "10 \t [-2.97260362 -2.1210435 ]\t 13.335197817082866\t 2.522753899086134\t 2.4519978732867416\t 2.0478026356127166\n",
            "11 \t [3.07380962 2.24169669]\t 14.473509641135783\t 2.522753899086134\t 2.3107824865987743\t 1.8680790603881225\n",
            "12 \t [ 2.8023655  -1.94412845]\t 11.632887851048038\t 2.522753899086134\t 2.1973853753736665\t 1.7229421245206964\n",
            "13 \t [-2.46676294  1.75590798]\t 9.168132253894985\t 2.522753899086134\t 2.1360078744857516\t 1.6469293056091094\n",
            "\u001b[1m\u001b[92m14\u001b[0m\t \u001b[1m\u001b[92m[-0.03970188  0.0327016 ]\u001b[0m\t \u001b[1m\u001b[92m0.002645633757908217\u001b[0m\t \u001b[1m\u001b[92m0.002645633757908217\u001b[0m\t \u001b[1m\u001b[92m1.9665050310683605\u001b[0m\t \u001b[1m\u001b[92m1.4474120125408918\u001b[0m\n",
            "15 \t [-0.02173997  0.0548802 ]\t 0.0034844625931429976\t 0.002645633757908217\t 0.5086955686150616\t -1.5392184321061173e-15\n",
            "16 \t [-0.02367093  0.05169274]\t 0.0032324516200673073\t 0.002645633757908217\t 0.5257237331726617\t -2.8570036248131396e-35\n",
            "17 \t [-0.02465802  0.05013696]\t 0.003121732482527384\t 0.002645633757908217\t 0.534721821056951\t -2.1600803176064235e-10\n",
            "18 \t [-0.02524479  0.04924961]\t 0.0030628233166508437\t 0.002645633757908217\t 0.5402920719645713\t -3.104233759561796e-15\n",
            "19 \t [-0.02562554  0.04869052]\t 0.003027435279880125\t 0.002645633757908217\t 0.5440816257066801\t -2.130768208255991e-13\n",
            "20 \t [-0.02589093  0.04831285]\t 0.0030044722243782133\t 0.002645633757908217\t 0.5468273638740087\t -1.0509689163619956e-11\n"
          ]
        }
      ],
      "source": [
        "### Bayesian optimisation runs (x20): 'GP EI' Acquisition Function run number = 14\n",
        "\n",
        "np.random.seed(run_num_14)\n",
        "surrogate_approx_14 = dGaussianProcess(cov_func, optimize=hyperOpt)\n",
        "\n",
        "approx_14 = GPGO_approx(surrogate_approx_14, Acquisition_grad(util), f_syn_polarity, param, n_jobs = -1) # define BayesOpt\n",
        "approx_14.run(max_iter = max_iter, init_evals = n_init) # run\n"
      ]
    },
    {
      "cell_type": "code",
      "execution_count": 27,
      "metadata": {
        "id": "mNCLg6LHJLk6",
        "colab": {
          "base_uri": "https://localhost:8080/"
        },
        "outputId": "bf9c2906-9c92-45a6-da2b-abd5580296ea"
      },
      "outputs": [
        {
          "output_type": "stream",
          "name": "stdout",
          "text": [
            "Evaluation \t Proposed point \t  Current eval. \t  Best eval. \t         GP EI: maximum y \t GP EI: exploit\n",
            "init\t [ 3.57189322 -3.28810573]\t 23.57006045912445\t 5.383887924980681\t    \t    \n",
            "init\t [-4.56332069 -1.41784631]\t 22.834183843344235\t 5.383887924980681\t    \t    \n",
            "init\t [-2.29989449  0.3072023 ]\t 5.383887924980681\t 5.383887924980681\t    \t    \n",
            "init\t [-1.9873903  -2.00218256]\t 7.958455228543059\t 5.383887924980681\t    \t    \n",
            "init\t [-3.97576933 -2.5610341 ]\t 22.365637431409507\t 5.383887924980681\t    \t    \n",
            "1  \t [2.7754098  2.98802689]\t 16.631204280641075\t 5.383887924980681\t 5.38606446985145\t 5.364764980253465\n",
            "2  \t [-5.12        4.81945146]\t 49.44151236323329\t 5.383887924980681\t 5.38606287832432\t 5.364764167045988\n",
            "3  \t [-0.72303187  5.12      ]\t 26.737175089392025\t 5.383887924980681\t 5.382688333805508\t 5.361291519615836\n",
            "4  \t [-0.11962742 -5.12      ]\t 26.22871072080369\t 5.383887924980681\t 5.3791052722500705\t 5.357604786667492\n",
            "5  \t [5.12       0.18688128]\t 26.249324613482322\t 5.383887924980681\t 5.367120393066455\t 5.345269842066985\n",
            "\u001b[1m\u001b[92m6\u001b[0m\t \u001b[1m\u001b[92m[ 1.08677268 -0.33543745]\u001b[0m\t \u001b[1m\u001b[92m1.2935931367517852\u001b[0m\t \u001b[1m\u001b[92m1.2935931367517852\u001b[0m\t \u001b[1m\u001b[92m5.3542625438225135\u001b[0m\t \u001b[1m\u001b[92m5.33203119325466\u001b[0m\n",
            "7  \t [5.12 5.12]\t 52.4288\t 1.2935931367517852\t 1.5655795391686573\t 0.7624288754463161\n",
            "8  \t [-5.12 -5.12]\t 52.4288\t 1.2935931367517852\t 1.4721074720793408\t 0.7880051282170485\n",
            "9  \t [-0.12809632  1.7439734 ]\t 3.0578518934716086\t 1.2935931367517852\t 1.4519087684280876\t 0.7629597353517579\n",
            "10 \t [-5.12       1.5179019]\t 28.518426192436543\t 1.2935931367517852\t 1.4341563985019188\t 0.6216238777577004\n",
            "11 \t [ 0.70627672 -1.91790391]\t 4.177182216898014\t 1.2935931367517852\t 1.3315198243250776\t 0.6216148019043649\n",
            "12 \t [2.0795642 0.1098855]\t 4.3366620689525845\t 1.2935931367517852\t 1.1901559541721263\t 0.4812688159586074\n",
            "13 \t [-2.29225479  2.67892027]\t 12.43104583315893\t 1.2935931367517852\t 1.18570388884472\t 0.43402141521250875\n",
            "14 \t [ 5.12 -5.12]\t 52.4288\t 1.2935931367517852\t 1.1520159405784096\t 0.26224329816670716\n",
            "\u001b[1m\u001b[92m15\u001b[0m\t \u001b[1m\u001b[92m[-0.0776459  -0.03599892]\u001b[0m\t \u001b[1m\u001b[92m0.007324808430464815\u001b[0m\t \u001b[1m\u001b[92m0.007324808430464815\u001b[0m\t \u001b[1m\u001b[92m1.0091285755355728\u001b[0m\t \u001b[1m\u001b[92m0.2620824436590805\u001b[0m\n",
            "16 \t [-0.11209044 -0.04217623]\t 0.014343101094115953\t 0.007324808430464815\t 0.47884227734191437\t -2.591133328089222e-46\n",
            "17 \t [-0.1089816  -0.04137163]\t 0.01358860039665269\t 0.007324808430464815\t 0.5028388794402474\t -2.635309788099179e-26\n",
            "18 \t [-0.10740106 -0.04097948]\t 0.013214304159044309\t 0.007324808430464815\t 0.516003058831793\t -3.3312632001725318e-31\n",
            "19 \t [-0.10645865 -0.04075337]\t 0.01299428162452221\t 0.007324808430464815\t 0.5243345518892708\t -7.024588866950547e-25\n",
            "20 \t [-0.10583822 -0.04060878]\t 0.012850801327606798\t 0.007324808430464815\t 0.5300870174041852\t -2.115760252732249e-15\n"
          ]
        }
      ],
      "source": [
        "### Bayesian optimisation runs (x20): 'GP EI' Acquisition Function run number = 15\n",
        "\n",
        "np.random.seed(run_num_15)\n",
        "surrogate_approx_15 = dGaussianProcess(cov_func, optimize=hyperOpt)\n",
        "\n",
        "approx_15 = GPGO_approx(surrogate_approx_15, Acquisition_grad(util), f_syn_polarity, param, n_jobs = -1) # define BayesOpt\n",
        "approx_15.run(max_iter = max_iter, init_evals = n_init) # run\n"
      ]
    },
    {
      "cell_type": "code",
      "execution_count": 28,
      "metadata": {
        "id": "5xwjkr9RJLk6",
        "colab": {
          "base_uri": "https://localhost:8080/"
        },
        "outputId": "636619e3-ab61-4b34-929b-c6ac93371ade"
      },
      "outputs": [
        {
          "output_type": "stream",
          "name": "stdout",
          "text": [
            "Evaluation \t Proposed point \t  Current eval. \t  Best eval. \t         GP EI: maximum y \t GP EI: exploit\n",
            "init\t [-2.83349935  0.23719262]\t 8.084978900492077\t 8.084978900492077\t    \t    \n",
            "init\t [ 0.51918292 -4.65303603]\t 21.92029520206884\t 8.084978900492077\t    \t    \n",
            "init\t [-1.42613673 -2.83565116]\t 10.074783446012654\t 8.084978900492077\t    \t    \n",
            "init\t [ 1.9325559  -3.44339021]\t 15.591708419712269\t 8.084978900492077\t    \t    \n",
            "init\t [-4.39987336  4.51595121]\t 39.75270093978162\t 8.084978900492077\t    \t    \n",
            "1  \t [2.23926683 5.12      ]\t 31.228715941011302\t 8.084978900492077\t 8.084990713563913\t 8.084765093768835\n",
            "2  \t [5.12       0.62055316]\t 26.599486219627295\t 8.084978900492077\t 8.08496973437256\t 8.084744102465299\n",
            "3  \t [-5.12 -5.12]\t 52.4288\t 8.084978900492077\t 8.084598853373462\t 8.084373053091934\n",
            "\u001b[1m\u001b[92m4\u001b[0m\t \u001b[1m\u001b[92m[0.93966402 0.94350446]\u001b[0m\t \u001b[1m\u001b[92m1.7731691309347872\u001b[0m\t \u001b[1m\u001b[92m1.7731691309347872\u001b[0m\t \u001b[1m\u001b[92m8.078810270013056\u001b[0m\t \u001b[1m\u001b[92m8.078581813544385\u001b[0m\n",
            "5  \t [ 5.12 -5.12]\t 52.4288\t 1.7731691309347872\t 1.970311806386343\t 1.381269673695219\n",
            "6  \t [-0.90068289  3.16225133]\t 10.811063123823379\t 1.7731691309347872\t 1.9332775111788665\t 1.3812696670124782\n",
            "7  \t [-5.12       -1.45531059]\t 28.33232890624392\t 1.7731691309347872\t 1.895034494618669\t 1.3317716253413177\n",
            "8  \t [5.12       4.00310296]\t 42.2392332922397\t 1.7731691309347872\t 1.8385137990937832\t 1.258583340708973\n",
            "9  \t [ 2.05928141 -0.5476287 ]\t 4.540537138472169\t 1.7731691309347872\t 1.7283284664282461\t 1.1206900106841047\n",
            "10 \t [-5.12        1.57247467]\t 28.687076592293582\t 1.7731691309347872\t 1.6180701807634248\t 0.9743520287892986\n",
            "11 \t [2.17714297 2.01684981]\t 8.807634668585433\t 1.7731691309347872\t 1.5820162867099345\t 0.9378665826029681\n",
            "\u001b[1m\u001b[92m12\u001b[0m\t \u001b[1m\u001b[92m[-0.26641277 -0.0648969 ]\u001b[0m\t \u001b[1m\u001b[92m0.07518737046147893\u001b[0m\t \u001b[1m\u001b[92m0.07518737046147893\u001b[0m\t \u001b[1m\u001b[92m1.665621347615715\u001b[0m\t \u001b[1m\u001b[92m1.048512863842925\u001b[0m\n",
            "13 \t [-0.27279134 -0.11391445]\t 0.08739161723990793\t 0.07518737046147893\t 0.6109040567424134\t -8.329258284808993e-42\n",
            "14 \t [-0.28141353  0.02383483]\t 0.07976167243537291\t 0.07518737046147893\t 0.5959397312263783\t -6.84857228271277e-10\n",
            "15 \t [-0.23977749 -0.2864452 ]\t 0.13954409642076693\t 0.07518737046147893\t 0.5895881762993805\t -2.8241359874161206e-33\n",
            "16 \t [-0.29926973  0.23851888]\t 0.1464536262133534\t 0.07518737046147893\t 0.5837626852721906\t -1.0781449274201466e-42\n",
            "17 \t [-0.24528478 -0.24170373]\t 0.11858531851177273\t 0.07518737046147893\t 0.5760617146191753\t -2.2153868508896788e-26\n",
            "18 \t [-0.28083701  0.10585157]\t 0.09007397820564882\t 0.07518737046147893\t 0.5724487008285226\t -2.212880799746914e-11\n",
            "19 \t [-0.25884544 -0.12852832]\t 0.08352049044857769\t 0.07518737046147893\t 0.5708722533159885\t -1.296135117566611e-15\n",
            "20 \t [-0.2734378   0.03813028]\t 0.07622214586346567\t 0.07518737046147893\t 0.5698795367658189\t -2.4097766708857606e-18\n"
          ]
        }
      ],
      "source": [
        "### Bayesian optimisation runs (x20): 'GP EI' Acquisition Function run number = 16\n",
        "\n",
        "np.random.seed(run_num_16)\n",
        "surrogate_approx_16 = dGaussianProcess(cov_func, optimize=hyperOpt)\n",
        "\n",
        "approx_16 = GPGO_approx(surrogate_approx_16, Acquisition_grad(util), f_syn_polarity, param, n_jobs = -1) # define BayesOpt\n",
        "approx_16.run(max_iter = max_iter, init_evals = n_init) # run\n"
      ]
    },
    {
      "cell_type": "code",
      "execution_count": 29,
      "metadata": {
        "id": "zbpfP0FWJLk7",
        "colab": {
          "base_uri": "https://localhost:8080/"
        },
        "outputId": "f4326f39-3d41-4ab8-a759-8d466867add8"
      },
      "outputs": [
        {
          "output_type": "stream",
          "name": "stdout",
          "text": [
            "Evaluation \t Proposed point \t  Current eval. \t  Best eval. \t         GP EI: maximum y \t GP EI: exploit\n",
            "init\t [-2.10263037  0.31320838]\t 4.519153970964611\t 2.5824114132885994\t    \t    \n",
            "init\t [-3.15882714 -4.42470033]\t 29.556161939946307\t 2.5824114132885994\t    \t    \n",
            "init\t [2.93873111 1.60085526]\t 11.198878112253603\t 2.5824114132885994\t    \t    \n",
            "init\t [1.40821398 0.77417363]\t 2.5824114132885994\t 2.5824114132885994\t    \t    \n",
            "init\t [-4.71999574 -1.45598869]\t 24.39826283453718\t 2.5824114132885994\t    \t    \n",
            "1  \t [ 4.96008736 -4.44720822]\t 44.38012757656366\t 2.5824114132885994\t 2.6751832097646906\t 2.328518566309753\n",
            "2  \t [-4.96030997  4.71854675]\t 46.869358421617264\t 2.5824114132885994\t 2.675181104396316\t 2.3285170210082384\n",
            "3  \t [0.0054658 5.12     ]\t 26.214429874925216\t 2.5824114132885994\t 2.6749388341604416\t 2.328213531051416\n",
            "4  \t [5.12 5.12]\t 52.4288\t 2.5824114132885994\t 2.674214638086261\t 2.3273095434919395\n",
            "5  \t [ 0.85280561 -2.81524164]\t 8.652862906314947\t 2.5824114132885994\t 2.671807769251688\t 2.3243049903337147\n",
            "6  \t [ 5.12       -0.72468489]\t 26.739568194706226\t 2.5824114132885994\t 2.62484355031104\t 2.2655666104323378\n",
            "7  \t [-2.13106049  2.71978885]\t 11.938670209081865\t 2.5824114132885994\t 2.4473046959581475\t 2.0420750474819958\n",
            "8  \t [ 0.13170334 -5.12      ]\t 26.231745770034383\t 2.5824114132885994\t 2.420956154400338\t 2.0085969851304237\n",
            "9  \t [-5.12        1.48933378]\t 28.43251510563614\t 2.5824114132885994\t 2.395775589829206\t 1.9762060459921025\n",
            "\u001b[1m\u001b[92m10\u001b[0m\t \u001b[1m\u001b[92m[ 0.06853426 -0.30703911]\u001b[0m\t \u001b[1m\u001b[92m0.09896995952707498\u001b[0m\t \u001b[1m\u001b[92m0.09896995952707498\u001b[0m\t \u001b[1m\u001b[92m2.268861189051688\u001b[0m\t \u001b[1m\u001b[92m1.8225958508988271\u001b[0m\n",
            "11 \t [-1.32683888 -1.65550928]\t 4.501212377442581\t 0.09896995952707498\t 0.6156592248089852\t -6.636956325830622e-34\n",
            "12 \t [0.07076071 0.46192211]\t 0.21837911012678785\t 0.09896995952707498\t 0.5924871941427514\t -0.0\n",
            "13 \t [ 0.42804087 -0.16754769]\t 0.21129121325019548\t 0.09896995952707498\t 0.5768946545895246\t -8.365843466293413e-39\n",
            "\u001b[1m\u001b[92m14\u001b[0m\t \u001b[1m\u001b[92m[0.16288859 0.18161776]\u001b[0m\t \u001b[1m\u001b[92m0.05951770541919171\u001b[0m\t \u001b[1m\u001b[92m0.05951770541919171\u001b[0m\t \u001b[1m\u001b[92m0.5620507575166782\u001b[0m\t \u001b[1m\u001b[92m-1.6241529575750193e-46\u001b[0m\n",
            "\u001b[1m\u001b[92m15\u001b[0m\t \u001b[1m\u001b[92m[0.21820122 0.08032936]\u001b[0m\t \u001b[1m\u001b[92m0.054064577959017285\u001b[0m\t \u001b[1m\u001b[92m0.054064577959017285\u001b[0m\t \u001b[1m\u001b[92m0.5488086083602779\u001b[0m\t \u001b[1m\u001b[92m-6.970909003612767e-10\u001b[0m\n",
            "16 \t [0.22486305 0.0689677 ]\t 0.05531993450592301\t 0.054064577959017285\t 0.5494660792204832\t -2.725640878217996e-29\n",
            "17 \t [0.02977684 0.70615223]\t 0.4995376380479795\t 0.054064577959017285\t 0.5516975846976439\t -2.3430816982450377e-10\n",
            "18 \t [ 0.49040883 -0.2439437 ]\t 0.3000093480416988\t 0.054064577959017285\t 0.5505238969858786\t -1.0565737243747449e-12\n",
            "19 \t [ 0.29627889 -0.07203444]\t 0.09297014269214172\t 0.054064577959017285\t 0.5343889669467821\t -1.9369116853830847e-10\n",
            "20 \t [ 0.28906759 -0.06309298]\t 0.08754079554172353\t 0.054064577959017285\t 0.535667583501738\t -6.169307122858032e-13\n"
          ]
        }
      ],
      "source": [
        "### Bayesian optimisation runs (x20): 'GP EI' Acquisition Function run number = 17\n",
        "\n",
        "np.random.seed(run_num_17)\n",
        "surrogate_approx_17 = dGaussianProcess(cov_func, optimize=hyperOpt)\n",
        "\n",
        "approx_17 = GPGO_approx(surrogate_approx_17, Acquisition_grad(util), f_syn_polarity, param, n_jobs = -1) # define BayesOpt\n",
        "approx_17.run(max_iter = max_iter, init_evals = n_init) # run\n"
      ]
    },
    {
      "cell_type": "code",
      "execution_count": 30,
      "metadata": {
        "id": "1d-1rDI5JLk8",
        "colab": {
          "base_uri": "https://localhost:8080/"
        },
        "outputId": "4ea5a505-5f9e-4ebc-ea27-4458ea8aa10c"
      },
      "outputs": [
        {
          "output_type": "stream",
          "name": "stdout",
          "text": [
            "Evaluation \t Proposed point \t  Current eval. \t  Best eval. \t         GP EI: maximum y \t GP EI: exploit\n",
            "init\t [1.53983224 0.05584255]\t 2.3742017032787373\t 2.3742017032787373\t    \t    \n",
            "init\t [ 3.87687906 -3.25795609]\t 25.644469161882945\t 2.3742017032787373\t    \t    \n",
            "init\t [3.60686662 2.56139557]\t 19.570234102364928\t 2.3742017032787373\t    \t    \n",
            "init\t [1.70088108 4.99604939]\t 27.853505942237412\t 2.3742017032787373\t    \t    \n",
            "init\t [-2.48864335 -4.83014733]\t 29.523668919355142\t 2.3742017032787373\t    \t    \n",
            "1  \t [-5.00718904  2.9174042 ]\t 33.58318939621877\t 2.3742017032787373\t 2.489407676741919\t 2.0950100002294367\n",
            "2  \t [-5.12       -1.45227108]\t 28.3234912830853\t 2.3742017032787373\t 2.4869963987778716\t 2.0919587845015335\n",
            "3  \t [-1.15623557  1.83903844]\t 4.7189430902825364\t 2.3742017032787373\t 2.4773965068655976\t 2.0798100822010106\n",
            "4  \t [-2.03883017  5.12      ]\t 30.371228446245972\t 2.3742017032787373\t 2.4558521427956714\t 2.052506447305444\n",
            "5  \t [-0.98972163 -1.46068201]\t 3.1131408269185528\t 2.3742017032787373\t 2.450588479982373\t 2.0458535964058564\n",
            "6  \t [ 1.01444809 -5.12      ]\t 27.24350492040793\t 2.3742017032787373\t 2.4291605185201557\t 2.0186295241242904\n",
            "7  \t [ 5.12       -0.22272945]\t 26.264008406311913\t 2.3742017032787373\t 2.3798444303148183\t 1.9558956560076284\n",
            "8  \t [5.12 5.12]\t 52.4288\t 2.3742017032787373\t 2.352464136121201\t 1.920993380729123\n",
            "9  \t [-5.12 -5.12]\t 52.4288\t 2.3742017032787373\t 2.094435051468302\t 1.5563612553655786\n",
            "10 \t [-2.66666161  0.25971196]\t 7.178534432365206\t 2.3742017032787373\t 2.0673678307732266\t 1.5563436134851196\n",
            "11 \t [ 1.0519324  -1.89789038]\t 4.708549691468258\t 2.3742017032787373\t 2.073643104335933\t 1.567011890062754\n",
            "12 \t [0.84300607 1.80546436]\t 3.970360799220309\t 2.3742017032787373\t 1.9071069451017582\t 1.3541977203698932\n",
            "13 \t [ 5.12 -5.12]\t 52.4288\t 2.3742017032787373\t 1.632517096026126\t 0.9936700259868896\n",
            "14 \t [-2.23541228 -2.09124789]\t 9.370385817341987\t 2.3742017032787373\t 1.4972141758430797\t 0.8408883565191793\n",
            "\u001b[1m\u001b[92m15\u001b[0m\t \u001b[1m\u001b[92m[-0.14547575 -0.12404587]\u001b[0m\t \u001b[1m\u001b[92m0.03655057152535015\u001b[0m\t \u001b[1m\u001b[92m0.03655057152535015\u001b[0m\t \u001b[1m\u001b[92m1.5725648410659687\u001b[0m\t \u001b[1m\u001b[92m0.9379129242497786\u001b[0m\n",
            "\u001b[1m\u001b[92m16\u001b[0m\t \u001b[1m\u001b[92m[-0.1516092  -0.10499808]\u001b[0m\t \u001b[1m\u001b[92m0.03400994757721426\u001b[0m\t \u001b[1m\u001b[92m0.03400994757721426\u001b[0m\t \u001b[1m\u001b[92m0.44323161410959333\u001b[0m\t \u001b[1m\u001b[92m-2.2456576406164296e-10\u001b[0m\n",
            "17 \t [-0.15153659 -0.10520155]\t 0.03403070420636447\t 0.03400994757721426\t 0.4774860215140556\t -3.1043790665775926e-39\n",
            "18 \t [-0.15150854 -0.10527846]\t 0.03403839096025093\t 0.03400994757721426\t 0.4968921175207274\t -5.597983492485651e-38\n",
            "19 \t [-0.15149825 -0.10530761]\t 0.03404141434262491\t 0.03400994757721426\t 0.5091921126784305\t -6.362580700764253e-21\n",
            "20 \t [-0.15149373 -0.10531897]\t 0.03404243740473694\t 0.03400994757721426\t 0.5176871426201947\t -2.19864892024496e-48\n"
          ]
        }
      ],
      "source": [
        "### Bayesian optimisation runs (x20): 'GP EI' Acquisition Function run number = 18\n",
        "\n",
        "np.random.seed(run_num_18)\n",
        "surrogate_approx_18 = dGaussianProcess(cov_func, optimize=hyperOpt)\n",
        "\n",
        "approx_18 = GPGO_approx(surrogate_approx_18, Acquisition_grad(util), f_syn_polarity, param, n_jobs = -1) # define BayesOpt\n",
        "approx_18.run(max_iter = max_iter, init_evals = n_init) # run\n"
      ]
    },
    {
      "cell_type": "code",
      "execution_count": 31,
      "metadata": {
        "id": "E7485DWlJLk8",
        "colab": {
          "base_uri": "https://localhost:8080/"
        },
        "outputId": "f027d7cd-716d-4b19-aca3-83c668ee8a85"
      },
      "outputs": [
        {
          "output_type": "stream",
          "name": "stdout",
          "text": [
            "Evaluation \t Proposed point \t  Current eval. \t  Best eval. \t         GP EI: maximum y \t GP EI: exploit\n",
            "init\t [-4.12125592  2.6751971 ]\t 24.141429859518958\t 12.957869519084127\t    \t    \n",
            "init\t [-2.59135515 -3.70553152]\t 20.446085385698954\t 12.957869519084127\t    \t    \n",
            "init\t [-1.72598719 -4.27008445]\t 21.212653034418548\t 12.957869519084127\t    \t    \n",
            "init\t [1.76104531 3.13952049]\t 12.957869519084127\t 12.957869519084127\t    \t    \n",
            "init\t [4.9432772  1.38916592]\t 26.36577149009895\t 12.957869519084127\t    \t    \n",
            "1  \t [ 4.75309484 -5.12      ]\t 48.80631052939498\t 12.957869519084127\t 12.957869496486827\t 12.957869495872123\n",
            "\u001b[1m\u001b[92m2\u001b[0m\t \u001b[1m\u001b[92m[ 1.50914555 -1.41207467]\u001b[0m\t \u001b[1m\u001b[92m4.271475151684537\u001b[0m\t \u001b[1m\u001b[92m4.271475151684537\u001b[0m\t \u001b[1m\u001b[92m12.955950197051237\u001b[0m\t \u001b[1m\u001b[92m12.955950196437698\u001b[0m\n",
            "3  \t [5.12 5.12]\t 52.4288\t 4.271475151684537\t 4.2678972268952045\t 4.184979410663627\n",
            "4  \t [-5.12       -1.05768757]\t 27.33310300391219\t 4.271475151684537\t 4.266851226573325\t 4.183839571118322\n",
            "5  \t [-1.25757868  5.12      ]\t 27.79590413758324\t 4.271475151684537\t 4.263894782280833\t 4.18061735300247\n",
            "\u001b[1m\u001b[92m6\u001b[0m\t \u001b[1m\u001b[92m[-1.16801707  0.34111127]\u001b[0m\t \u001b[1m\u001b[92m1.4806207833491367\u001b[0m\t \u001b[1m\u001b[92m1.4806207833491367\u001b[0m\t \u001b[1m\u001b[92m4.2558389582916645\u001b[0m\t \u001b[1m\u001b[92m4.171835716580307\u001b[0m\n",
            "7  \t [ 1.27352936 -5.12      ]\t 27.83627702373676\t 1.4806207833491367\t 1.6517709300912162\t 1.0175095824271223\n",
            "8  \t [-5.12 -5.12]\t 52.4288\t 1.4806207833491367\t 1.6418807765290622\t 1.004815468748799\n",
            "9  \t [ 5.12       -1.77021333]\t 29.34805524437758\t 1.4806207833491367\t 1.6152563078882018\t 0.9705966772086255\n",
            "10 \t [-5.12  5.12]\t 52.4288\t 1.4806207833491367\t 1.46819362342116\t 0.7154828061472217\n",
            "11 \t [-0.87777563  1.8748279 ]\t 4.285469709521989\t 1.4806207833491367\t 1.433445262994289\t 0.7516733667373039\n",
            "12 \t [-1.15647387 -1.0468088 ]\t 2.4332404808449475\t 1.4806207833491367\t 1.4583562349025287\t 0.7931286062466809\n",
            "13 \t [1.59872226 0.5364997 ]\t 2.843744806238295\t 1.4806207833491367\t 1.302639704257894\t 0.5788536154250491\n",
            "14 \t [-2.44830048  0.12127316]\t 6.008882437676568\t 1.4806207833491367\t 1.1895676411934983\t 0.4653938333859489\n",
            "\u001b[1m\u001b[92m15\u001b[0m\t \u001b[1m\u001b[92m[-0.05254301  0.01393698]\u001b[0m\t \u001b[1m\u001b[92m0.002955007247190489\u001b[0m\t \u001b[1m\u001b[92m0.002955007247190489\u001b[0m\t \u001b[1m\u001b[92m1.0359132059205505\u001b[0m\t \u001b[1m\u001b[92m0.30322892375809085\u001b[0m\n",
            "\u001b[1m\u001b[92m16\u001b[0m\t \u001b[1m\u001b[92m[-0.0176354   0.01575329]\u001b[0m\t \u001b[1m\u001b[92m0.0005591735812125455\u001b[0m\t \u001b[1m\u001b[92m0.0005591735812125455\u001b[0m\t \u001b[1m\u001b[92m0.4439763812665635\u001b[0m\t \u001b[1m\u001b[92m-0.0\u001b[0m\n",
            "17 \t [-0.01781349  0.01573741]\t 0.0005649866071883104\t 0.0005591735812125455\t 0.47672578091506934\t -0.0\n",
            "18 \t [-0.01783684  0.01573587]\t 0.0005657705670627964\t 0.0005591735812125455\t 0.49572728424271517\t -0.0\n",
            "19 \t [-0.01780996  0.01573766]\t 0.0005648684902933721\t 0.0005591735812125455\t 0.5079407192892386\t -4.676548467828201e-14\n",
            "20 \t [-0.01777084  0.01574097]\t 0.000563581196659207\t 0.0005591735812125455\t 0.5164539657945044\t -1.2659744331997297e-14\n"
          ]
        }
      ],
      "source": [
        "### Bayesian optimisation runs (x20): 'GP EI' Acquisition Function run number = 19\n",
        "\n",
        "np.random.seed(run_num_19)\n",
        "surrogate_approx_19 = dGaussianProcess(cov_func, optimize=hyperOpt)\n",
        "\n",
        "approx_19 = GPGO_approx(surrogate_approx_19, Acquisition_grad(util), f_syn_polarity, param, n_jobs = -1) # define BayesOpt\n",
        "approx_19.run(max_iter = max_iter, init_evals = n_init) # run\n"
      ]
    },
    {
      "cell_type": "code",
      "execution_count": 32,
      "metadata": {
        "id": "v9oZm6NvJLk9",
        "colab": {
          "base_uri": "https://localhost:8080/"
        },
        "outputId": "bd9943f3-c2ad-4d03-d3d2-03c26f7d4026"
      },
      "outputs": [
        {
          "output_type": "stream",
          "name": "stdout",
          "text": [
            "Evaluation \t Proposed point \t  Current eval. \t  Best eval. \t         GP EI: maximum y \t GP EI: exploit\n",
            "init\t [0.9024594  4.07258857]\t 17.400410665504328\t 1.579257056101869\t    \t    \n",
            "init\t [4.00927467 3.23417577]\t 26.53417627399789\t 1.579257056101869\t    \t    \n",
            "init\t [-4.75249064  1.96359764]\t 26.44188299535699\t 1.579257056101869\t    \t    \n",
            "init\t [-1.24230715  0.18955208]\t 1.579257056101869\t 1.579257056101869\t    \t    \n",
            "init\t [ 1.61742301 -3.13497377]\t 12.44411771617229\t 1.579257056101869\t    \t    \n",
            "1  \t [-3.56773338 -5.12      ]\t 38.94312144661133\t 1.579257056101869\t 1.8240962518239396\t 1.239916849675231\n",
            "2  \t [ 5.12 -5.12]\t 52.4288\t 1.579257056101869\t 1.8226209041327182\t 1.2380082982118865\n",
            "3  \t [ 5.12       -0.75178149]\t 26.77957540342997\t 1.579257056101869\t 1.8200109105974476\t 1.2346317231622403\n",
            "4  \t [-2.73894187  5.12      ]\t 33.71620254132422\t 1.579257056101869\t 1.8095487771140286\t 1.2210984227970703\n",
            "5  \t [-5.12       -1.69354954]\t 29.08251005768972\t 1.579257056101869\t 1.7990949415787494\t 1.2075783288427708\n",
            "6  \t [1.46989696 0.39167176]\t 2.3140038482079777\t 1.579257056101869\t 1.778527899656212\t 1.181073778357443\n",
            "7  \t [-1.46043624 -2.1875888 ]\t 6.918418745573145\t 1.579257056101869\t 1.7271575533328307\t 1.1151125400131703\n",
            "8  \t [-0.2441648 -5.12     ]\t 26.274016447275454\t 1.579257056101869\t 1.630403762288515\t 0.9901279640388507\n",
            "9  \t [-1.34886617  1.94286181]\t 5.594151956890883\t 1.579257056101869\t 1.5888210223925834\t 0.943319349537634\n",
            "\u001b[1m\u001b[92m10\u001b[0m\t \u001b[1m\u001b[92m[ 0.2351001 -0.5003271]\u001b[0m\t \u001b[1m\u001b[92m0.30559926916849106\u001b[0m\t \u001b[1m\u001b[92m0.30559926916849106\u001b[0m\t \u001b[1m\u001b[92m1.258356056475689\u001b[0m\t \u001b[1m\u001b[92m0.5441429776393781\u001b[0m\n",
            "11 \t [ 0.25414649 -0.53389729]\t 0.3496367593618434\t 0.30559926916849106\t 0.5740539443227829\t -6.389739382889956e-46\n",
            "\u001b[1m\u001b[92m12\u001b[0m\t \u001b[1m\u001b[92m[ 0.21872748 -0.48748447]\u001b[0m\t \u001b[1m\u001b[92m0.28548281943622567\u001b[0m\t \u001b[1m\u001b[92m0.28548281943622567\u001b[0m\t \u001b[1m\u001b[92m0.5656543327137569\u001b[0m\t \u001b[1m\u001b[92m-0.0\u001b[0m\n",
            "13 \t [ 0.22740292 -0.49507234]\t 0.29680870710466395\t 0.28548281943622567\t 0.5586707523938644\t -1.3199702516678755e-14\n",
            "14 \t [ 0.22360857 -0.48911662]\t 0.2892358598348353\t 0.28548281943622567\t 0.5588599449648134\t -0.0\n",
            "15 \t [ 0.25939378 -0.52708126]\t 0.34509978675399783\t 0.28548281943622567\t 0.5595249903652101\t -3.2236593498742965e-12\n",
            "\u001b[1m\u001b[92m16\u001b[0m\t \u001b[1m\u001b[92m[ 0.11310443 -0.34569657]\u001b[0m\t \u001b[1m\u001b[92m0.13229873166205897\u001b[0m\t \u001b[1m\u001b[92m0.13229873166205897\u001b[0m\t \u001b[1m\u001b[92m0.5567098443876468\u001b[0m\t \u001b[1m\u001b[92m-6.516315713211792e-32\u001b[0m\n",
            "\u001b[1m\u001b[92m17\u001b[0m\t \u001b[1m\u001b[92m[ 0.05870967 -0.25304006]\u001b[0m\t \u001b[1m\u001b[92m0.06747609571468145\u001b[0m\t \u001b[1m\u001b[92m0.06747609571468145\u001b[0m\t \u001b[1m\u001b[92m0.49822155497370274\u001b[0m\t \u001b[1m\u001b[92m-1.681033516937337e-12\u001b[0m\n",
            "\u001b[1m\u001b[92m18\u001b[0m\t \u001b[1m\u001b[92m[ 0.03482116 -0.19806121]\u001b[0m\t \u001b[1m\u001b[92m0.0404407540173473\u001b[0m\t \u001b[1m\u001b[92m0.0404407540173473\u001b[0m\t \u001b[1m\u001b[92m0.4834796861734083\u001b[0m\t \u001b[1m\u001b[92m-6.227656591072436e-17\u001b[0m\n",
            "\u001b[1m\u001b[92m19\u001b[0m\t \u001b[1m\u001b[92m[ 0.02304299 -0.16246341]\u001b[0m\t \u001b[1m\u001b[92m0.026925337889936476\u001b[0m\t \u001b[1m\u001b[92m0.026925337889936476\u001b[0m\t \u001b[1m\u001b[92m0.4843339619085687\u001b[0m\t \u001b[1m\u001b[92m-6.278736982612943e-15\u001b[0m\n",
            "\u001b[1m\u001b[92m20\u001b[0m\t \u001b[1m\u001b[92m[ 0.01639992 -0.13679043]\u001b[0m\t \u001b[1m\u001b[92m0.01898057936711276\u001b[0m\t \u001b[1m\u001b[92m0.01898057936711276\u001b[0m\t \u001b[1m\u001b[92m0.48932687006239267\u001b[0m\t \u001b[1m\u001b[92m-5.443758692414e-28\u001b[0m\n"
          ]
        }
      ],
      "source": [
        "### Bayesian optimisation runs (x20): 'GP EI' Acquisition Function run number = 20\n",
        "\n",
        "np.random.seed(run_num_20)\n",
        "surrogate_approx_20 = dGaussianProcess(cov_func, optimize=hyperOpt)\n",
        "\n",
        "approx_20 = GPGO_approx(surrogate_approx_20, Acquisition_grad(util), f_syn_polarity, param, n_jobs = -1) # define BayesOpt\n",
        "approx_20.run(max_iter = max_iter, init_evals = n_init) # run\n"
      ]
    },
    {
      "cell_type": "code",
      "execution_count": 33,
      "metadata": {
        "id": "m3W7oEVSJLk9",
        "colab": {
          "base_uri": "https://localhost:8080/"
        },
        "outputId": "648c6469-798c-40b2-d18e-8e270be29b4a"
      },
      "outputs": [
        {
          "output_type": "stream",
          "name": "stdout",
          "text": [
            "Evaluation \t Proposed point \t  Current eval. \t  Best eval. \t         GP dEI: maximum y \t GP dEI: exploit\n",
            "init\t [-0.84969467  2.25612281]\t 5.812071182014687\t 1.275455677703416\t    \t    \n",
            "init\t [-5.1188288  -2.02411446]\t 30.299447634857913\t 1.275455677703416\t    \t    \n",
            "init\t [-3.61721968 -4.17445279]\t 30.510334291475417\t 1.275455677703416\t    \t    \n",
            "init\t [-3.21269544 -1.58145816]\t 12.822421857501787\t 1.275455677703416\t    \t    \n",
            "init\t [-1.05710106  0.39748336]\t 1.275455677703416\t 1.275455677703416\t    \t    \n",
            "1  \t [ 4.04077223 -4.24914728]\t 34.383092818836786\t 1.275455677703416\t 1.5925778782479172\t 0.9415089350695705\n",
            "2  \t [5.12       3.36783542]\t 37.55671539878192\t 1.275455677703416\t 1.592577857354429\t 0.9415089342660553\n",
            "3  \t [ 2.40146578 -0.17378187]\t 5.797238022053689\t 1.275455677703416\t 1.5899887414526428\t 0.9381921918609035\n",
            "4  \t [-5.12        4.36680096]\t 45.28335059684448\t 1.275455677703416\t 1.592552727046903\t 0.9414595857950274\n",
            "5  \t [1.30762101 5.12      ]\t 27.924272700727766\t 1.275455677703416\t 1.5870668275406425\t 0.9336137181423223\n",
            "6  \t [ 0.11350659 -5.12      ]\t 26.227283746285483\t 1.275455677703416\t 1.5819783785734132\t 0.8103762104217878\n",
            "7  \t [ 5.12       -0.35492881]\t 26.340374458239882\t 1.275455677703416\t 1.5238244612856813\t 0.844621422551623\n",
            "8  \t [-4.09914958  1.27447471]\t 18.427313036230387\t 1.275455677703416\t 1.4342579903515469\t 0.7357460487587849\n",
            "9  \t [ 0.18253625 -1.82513285]\t 3.3644293895113337\t 1.275455677703416\t 1.4858417010077993\t 0.8044323336140492\n",
            "10 \t [2.1257283  2.01080041]\t 8.56203906759818\t 1.275455677703416\t 1.2785177836400279\t 0.5277756127453057\n",
            "11 \t [-1.5612427   4.21046832]\t 20.165522266846033\t 1.275455677703416\t 1.2297884352345663\t 0.40288816806901456\n",
            "12 \t [ 1.62273909 -2.08368138]\t 6.975010247617391\t 1.275455677703416\t 0.9340755377556259\t 0.18298248093719563\n",
            "\u001b[1m\u001b[92m13\u001b[0m\t \u001b[1m\u001b[92m[-0.9517344  -0.11397191]\u001b[0m\t \u001b[1m\u001b[92m0.9187879666699369\u001b[0m\t \u001b[1m\u001b[92m0.9187879666699369\u001b[0m\t \u001b[1m\u001b[92m1.0070384004532154\u001b[0m\t \u001b[1m\u001b[92m0.23834966976607871\u001b[0m\n",
            "14 \t [-1.08114446  0.02222965]\t 1.1693675113417332\t 0.9187879666699369\t 0.6903520099961377\t 0.03342071230912799\n",
            "\u001b[1m\u001b[92m15\u001b[0m\t \u001b[1m\u001b[92m[0.12233157 0.01163404]\u001b[0m\t \u001b[1m\u001b[92m0.015100364933341753\u001b[0m\t \u001b[1m\u001b[92m0.015100364933341753\u001b[0m\t \u001b[1m\u001b[92m0.7606437081600608\u001b[0m\t \u001b[1m\u001b[92m0.0013411371063011522\u001b[0m\n",
            "16 \t [ 0.29481538 -0.06423142]\t 0.09104178187249454\t 0.015100364933341753\t 0.4344244800907468\t -7.411233796906006e-14\n",
            "17 \t [-0.76202048 -2.77807155]\t 8.298356742727083\t 0.015100364933341753\t 0.2767735950251783\t -3.778088564348626e-19\n",
            "18 \t [ 0.68339336 -0.59495674]\t 0.8210000079225835\t 0.015100364933341753\t 0.27185561870169583\t -3.7036795376876705e-26\n",
            "19 \t [ 0.51858573 -0.43430518]\t 0.45755214872499705\t 0.015100364933341753\t 0.36419056918549375\t -4.7053080367784346e-26\n",
            "20 \t [0.04286128 0.21406383]\t 0.047660411255848814\t 0.015100364933341753\t 0.5115638210182991\t -8.7256444056013e-21\n"
          ]
        }
      ],
      "source": [
        "### Bayesian optimisation runs (x20): 'GP dEI' Acquisition Function run number = 1 \n",
        "\n",
        "np.random.seed(run_num_1)\n",
        "surrogate_exact_1 = dGaussianProcess(cov_func, optimize=hyperOpt)\n",
        "\n",
        "exact_1 = GPGO_exact(surrogate_exact_1, Acquisition_grad(util), f_syn_polarity, param, n_jobs = -1) # Define BayesOpt\n",
        "exact_1.run(max_iter = max_iter, init_evals = n_init) # run\n"
      ]
    },
    {
      "cell_type": "code",
      "execution_count": 34,
      "metadata": {
        "id": "FGw67C40JLk-",
        "colab": {
          "base_uri": "https://localhost:8080/"
        },
        "outputId": "584ab532-ef09-41cc-8030-343d9c6e0c8f"
      },
      "outputs": [
        {
          "output_type": "stream",
          "name": "stdout",
          "text": [
            "Evaluation \t Proposed point \t  Current eval. \t  Best eval. \t         GP dEI: maximum y \t GP dEI: exploit\n",
            "init\t [-0.6554122  -4.85451539]\t 23.995884788327533\t 0.6972563370202991\t    \t    \n",
            "init\t [ 0.50854377 -0.6622987 ]\t 0.6972563370202991\t 0.6972563370202991\t    \t    \n",
            "init\t [-0.81543371 -1.73737143]\t 3.683391625826377\t 0.6972563370202991\t    \t    \n",
            "init\t [-3.02439799  1.2213347 ]\t 10.638641624769724\t 0.6972563370202991\t    \t    \n",
            "init\t [-2.05153614 -2.3876887 ]\t 9.90985788235879\t 0.6972563370202991\t    \t    \n",
            "1  \t [5.12 5.12]\t 52.4288\t 0.6972563370202991\t 1.1945156055900972\t 0.4436751886090398\n",
            "2  \t [ 4.84260546 -3.96517156]\t 39.173413151255836\t 0.6972563370202991\t 1.1945141517615334\t 0.4436734357467859\n",
            "3  \t [-0.14724304  5.12      ]\t 26.236080513371153\t 0.6972563370202991\t 1.194472843498889\t 0.4436236556706414\n",
            "4  \t [4.19814932 0.55652488]\t 17.934177627777412\t 0.6972563370202991\t 1.1937448998515563\t 0.4425406853137387\n",
            "5  \t [-5.12 -5.12]\t 52.4288\t 0.6972563370202991\t 1.1935282244680223\t 0.44248487416756066\n",
            "6  \t [-4.17926789  4.68338015]\t 39.400329749918235\t 0.6972563370202991\t 1.1879518196845393\t 0.43571555234072673\n",
            "7  \t [0.7471435  1.53043763]\t 2.900462765671091\t 0.6972563370202991\t 1.1600961680880226\t 0.3728001286503201\n",
            "8  \t [ 1.77638391 -1.94396303]\t 6.934532042257924\t 0.6972563370202991\t 1.1161796401210853\t 0.37186465921034356\n",
            "9  \t [-5.12       -1.21245672]\t 27.684451309337202\t 0.6972563370202991\t 1.1538990332920522\t 0.20640791567960454\n",
            "10 \t [2.66480547 2.85874093]\t 15.273587862635122\t 0.6972563370202991\t 0.9495806748698873\t 0.044177945016596644\n",
            "\u001b[1m\u001b[92m11\u001b[0m\t \u001b[1m\u001b[92m[-0.56834771  0.36035123]\u001b[0m\t \u001b[1m\u001b[92m0.4528721286272595\u001b[0m\t \u001b[1m\u001b[92m0.4528721286272595\u001b[0m\t \u001b[1m\u001b[92m0.8725924870629698\u001b[0m\t \u001b[1m\u001b[92m0.0919965329806382\u001b[0m\n",
            "12 \t [ 2.00835523 -5.08476475]\t 29.888323307047738\t 0.4528721286272595\t 0.7512295596351248\t -0.0\n",
            "13 \t [-0.7555504   2.15073472]\t 5.196516256768336\t 0.4528721286272595\t 0.659602993639296\t -0.0\n",
            "\u001b[1m\u001b[92m14\u001b[0m\t \u001b[1m\u001b[92m[-0.2544822  -0.04694352]\u001b[0m\t \u001b[1m\u001b[92m0.06696488350738417\u001b[0m\t \u001b[1m\u001b[92m0.06696488350738417\u001b[0m\t \u001b[1m\u001b[92m0.7062285454722687\u001b[0m\t \u001b[1m\u001b[92m0.01714788481351102\u001b[0m\n",
            "\u001b[1m\u001b[92m15\u001b[0m\t \u001b[1m\u001b[92m[-0.0124081  -0.11429157]\u001b[0m\t \u001b[1m\u001b[92m0.013216524303239096\u001b[0m\t \u001b[1m\u001b[92m0.013216524303239096\u001b[0m\t \u001b[1m\u001b[92m0.5476815876704959\u001b[0m\t \u001b[1m\u001b[92m-0.0\u001b[0m\n",
            "16 \t [ 0.59903663 -0.1504516 ]\t 0.3814805640890503\t 0.013216524303239096\t 0.497314051494097\t -0.0\n",
            "17 \t [-0.58950883  0.03626317]\t 0.3488356734172636\t 0.013216524303239096\t 0.4926238600737573\t -1.5136221667923539e-27\n",
            "18 \t [ 0.15067966 -0.16326294]\t 0.049359147509132686\t 0.013216524303239096\t 0.5140144192361474\t -2.083919968183739e-38\n",
            "19 \t [ 0.10157212 -0.15327393]\t 0.033809793002458205\t 0.013216524303239096\t 0.5227864652617659\t -0.0\n",
            "20 \t [-0.31202725 -0.03270929]\t 0.09843089988300749\t 0.013216524303239096\t 0.519087756169319\t -0.0\n"
          ]
        }
      ],
      "source": [
        "### Bayesian optimisation runs (x20): 'GP dEI' Acquisition Function run number = 2 \n",
        "\n",
        "np.random.seed(run_num_2)\n",
        "surrogate_exact_2 = dGaussianProcess(cov_func, optimize=hyperOpt)\n",
        "\n",
        "exact_2 = GPGO_exact(surrogate_exact_2, Acquisition_grad(util), f_syn_polarity, param, n_jobs = -1) # Define BayesOpt\n",
        "exact_2.run(max_iter = max_iter, init_evals = n_init) # run\n"
      ]
    },
    {
      "cell_type": "code",
      "execution_count": 35,
      "metadata": {
        "id": "oFLQAtDZJLk_",
        "colab": {
          "base_uri": "https://localhost:8080/"
        },
        "outputId": "ce4daa10-89e7-4909-e83e-85ab620fade7"
      },
      "outputs": [
        {
          "output_type": "stream",
          "name": "stdout",
          "text": [
            "Evaluation \t Proposed point \t  Current eval. \t  Best eval. \t         GP dEI: maximum y \t GP dEI: exploit\n",
            "init\t [0.52017052 2.1314337 ]\t 4.813587005218131\t 4.59675431006429\t    \t    \n",
            "init\t [-2.14113547  0.11087468]\t 4.59675431006429\t 4.59675431006429\t    \t    \n",
            "init\t [4.02377681 4.05804123]\t 32.65847846685941\t 4.59675431006429\t    \t    \n",
            "init\t [-3.83400642 -2.99783293]\t 23.686607498512902\t 4.59675431006429\t    \t    \n",
            "init\t [-4.59297584 -0.6061072 ]\t 21.462792989409664\t 4.59675431006429\t    \t    \n",
            "1  \t [ 2.87036899 -1.98289163]\t 12.170877343622498\t 4.59675431006429\t 4.604079794844259\t 4.547211778519575\n",
            "2  \t [-3.33114862  5.05305125]\t 36.62987805318713\t 4.59675431006429\t 4.6040867880204726\t 4.547212895078585\n",
            "3  \t [-0.40701955 -2.40839967]\t 5.966053860772153\t 4.59675431006429\t 4.53181634231452\t 4.457362704015301\n",
            "4  \t [ 1.47776527 -5.12      ]\t 28.398190192382167\t 4.59675431006429\t 4.574993886896152\t 4.507470590247765\n",
            "5  \t [5.12       0.52669006]\t 26.491802422845403\t 4.59675431006429\t 4.566278849381859\t 4.507039531602417\n",
            "6  \t [ 5.12       -4.54672744]\t 46.88713045033706\t 4.59675431006429\t 4.5706407016501505\t 4.5095524969243375\n",
            "7  \t [0.43977767 5.12      ]\t 26.407804395387412\t 4.59675431006429\t 4.547238020822021\t 4.486267226200757\n",
            "8  \t [-5.0836316   2.25842666]\t 30.943801263825215\t 4.59675431006429\t 4.3719325138822\t 4.296004243675618\n",
            "9  \t [-5.12 -5.12]\t 52.4288\t 4.59675431006429\t 4.604111702172013\t 4.547245796835442\n",
            "10 \t [-1.63312333 -5.12      ]\t 28.881491806113996\t 4.59675431006429\t 4.298852535868159\t 4.079078424368838\n",
            "\u001b[1m\u001b[92m11\u001b[0m\t \u001b[1m\u001b[92m[ 0.6863445  -0.06583454]\u001b[0m\t \u001b[1m\u001b[92m0.47540295569446683\u001b[0m\t \u001b[1m\u001b[92m0.47540295569446683\u001b[0m\t \u001b[1m\u001b[92m4.178951654299069\u001b[0m\t \u001b[1m\u001b[92m3.85090553663713\u001b[0m\n",
            "12 \t [2.03336922 0.59358097]\t 4.48692873954933\t 0.47540295569446683\t 0.7707886934059054\t -8.030425406525674e-27\n",
            "\u001b[1m\u001b[92m13\u001b[0m\t \u001b[1m\u001b[92m[ 0.08814861 -0.27328514]\u001b[0m\t \u001b[1m\u001b[92m0.08245494556172624\u001b[0m\t \u001b[1m\u001b[92m0.08245494556172624\u001b[0m\t \u001b[1m\u001b[92m0.7045018458487451\u001b[0m\t \u001b[1m\u001b[92m-3.766743758183243e-18\u001b[0m\n",
            "14 \t [-1.7668841   2.37159498]\t 8.746342204271771\t 0.08245494556172624\t 0.5862571533222957\t -0.0\n",
            "15 \t [ 0.56754293 -0.6800598 ]\t 0.7845863196832996\t 0.08245494556172624\t 0.47034177959761375\t -0.0\n",
            "16 \t [-0.48502498  0.3613312 ]\t 0.36580946733607134\t 0.08245494556172624\t 0.4165779705424573\t -4.1260785552680487e-38\n",
            "\u001b[1m\u001b[92m17\u001b[0m\t \u001b[1m\u001b[92m[-0.18517122  0.00671421]\u001b[0m\t \u001b[1m\u001b[92m0.03433346080341241\u001b[0m\t \u001b[1m\u001b[92m0.03433346080341241\u001b[0m\t \u001b[1m\u001b[92m0.540696021750646\u001b[0m\t \u001b[1m\u001b[92m-0.0\u001b[0m\n",
            "18 \t [ 0.6025424  -0.72696181]\t 0.8915308105022139\t 0.03433346080341241\t 0.3799643267871057\t -0.0\n",
            "19 \t [ 0.08714777 -0.25314589]\t 0.07167757708986221\t 0.03433346080341241\t 0.5140513771804838\t -3.436488460062071e-15\n",
            "20 \t [ 0.10585361 -0.26290993]\t 0.08032661637981818\t 0.03433346080341241\t 0.5162099163200514\t -0.0\n"
          ]
        }
      ],
      "source": [
        "### Bayesian optimisation runs (x20): 'GP dEI' Acquisition Function run number = 3 \n",
        "\n",
        "np.random.seed(run_num_3)\n",
        "surrogate_exact_3 = dGaussianProcess(cov_func, optimize=hyperOpt)\n",
        "\n",
        "exact_3 = GPGO_exact(surrogate_exact_3, Acquisition_grad(util), f_syn_polarity, param, n_jobs = -1) # Define BayesOpt\n",
        "exact_3.run(max_iter = max_iter, init_evals = n_init) # run\n"
      ]
    },
    {
      "cell_type": "code",
      "execution_count": 36,
      "metadata": {
        "id": "zhFOxkF0JLk_",
        "colab": {
          "base_uri": "https://localhost:8080/"
        },
        "outputId": "97f193e3-6aba-4c66-9385-a40cdbe50058"
      },
      "outputs": [
        {
          "output_type": "stream",
          "name": "stdout",
          "text": [
            "Evaluation \t Proposed point \t  Current eval. \t  Best eval. \t         GP dEI: maximum y \t GP dEI: exploit\n",
            "init\t [4.78238555 0.48365823]\t 23.1051368481516\t 6.844040613967918\t    \t    \n",
            "init\t [4.84028785 2.19971578]\t 28.267135924302462\t 6.844040613967918\t    \t    \n",
            "init\t [ 2.02474316 -2.90724357]\t 12.551650027390728\t 6.844040613967918\t    \t    \n",
            "init\t [ 4.87705042 -5.05620219]\t 49.3508013219099\t 6.844040613967918\t    \t    \n",
            "init\t [-2.52946061 -0.66773471]\t 6.844040613967918\t 6.844040613967918\t    \t    \n",
            "1  \t [-1.14334581  4.64643194]\t 22.896569443900606\t 6.844040613967918\t 6.844198691403709\t 6.841913216829061\n",
            "2  \t [-5.12 -5.12]\t 52.4288\t 6.844040613967918\t 6.844193745732506\t 6.841907610620677\n",
            "3  \t [-0.95819369 -5.12      ]\t 27.132535153656406\t 6.844040613967918\t 6.833287493862271\t 6.830958329422577\n",
            "\u001b[1m\u001b[92m4\u001b[0m\t \u001b[1m\u001b[92m[0.65712638 1.17928828]\u001b[0m\t \u001b[1m\u001b[92m1.8225359163068036\u001b[0m\t \u001b[1m\u001b[92m1.8225359163068036\u001b[0m\t \u001b[1m\u001b[92m6.831378150964439\u001b[0m\t \u001b[1m\u001b[92m6.829013763433246\u001b[0m\n",
            "5  \t [-5.12        2.45166061]\t 32.22503973412286\t 1.8225359163068036\t 2.0182197598880456\t 1.485331146507574\n",
            "6  \t [2.62683686 5.12      ]\t 33.11467188409872\t 1.8225359163068036\t 1.9994874504192086\t 1.4554446716355391\n",
            "7  \t [-5.12       -1.41933157]\t 28.22890209174905\t 1.8225359163068036\t 1.916494398777352\t 1.3508426804372642\n",
            "8  \t [-1.93436101  1.81231098]\t 7.026223610960477\t 1.8225359163068036\t 1.7146500379553187\t 1.0979892224674392\n",
            "\u001b[1m\u001b[92m9\u001b[0m\t \u001b[1m\u001b[92m[-0.06593452 -0.50974255]\u001b[0m\t \u001b[1m\u001b[92m0.26418482982836955\u001b[0m\t \u001b[1m\u001b[92m0.26418482982836955\u001b[0m\t \u001b[1m\u001b[92m1.709046174450695\u001b[0m\t \u001b[1m\u001b[92m1.0793766956924515\u001b[0m\n",
            "10 \t [-0.13644175 -1.39285452]\t 1.9586600521716993\t 0.26418482982836955\t 0.7205385275630298\t -0.0\n",
            "11 \t [ 1.6017237  -0.02157423]\t 2.5659842449506587\t 0.26418482982836955\t 0.7075429470676491\t -2.4825973376723647e-37\n",
            "12 \t [1.22032927 2.44587097]\t 7.471488333966715\t 0.26418482982836955\t 0.6288686194168335\t -1.1045267049322994e-11\n",
            "13 \t [-2.29405036 -2.81827446]\t 13.205337980004686\t 0.26418482982836955\t 0.5344293940519359\t -1.4717617529583605e-15\n",
            "14 \t [-3.70790779  5.02704623]\t 39.019773922718414\t 0.26418482982836955\t 0.6343795293083245\t -0.0\n",
            "15 \t [ 5.12       -2.02663261]\t 30.321639744330753\t 0.26418482982836955\t 0.6038459639103066\t -1.5799882664037273e-29\n",
            "\u001b[1m\u001b[92m16\u001b[0m\t \u001b[1m\u001b[92m[-0.15997454  0.07225953]\u001b[0m\t \u001b[1m\u001b[92m0.0308132914832765\u001b[0m\t \u001b[1m\u001b[92m0.0308132914832765\u001b[0m\t \u001b[1m\u001b[92m0.5708024108004232\u001b[0m\t \u001b[1m\u001b[92m-0.0\u001b[0m\n",
            "17 \t [-0.45726366  0.49062522]\t 0.44980316768853523\t 0.0308132914832765\t 0.449706389293978\t -1.9667721696378743e-16\n",
            "18 \t [ 0.16192713 -0.2769868 ]\t 0.10294208209237551\t 0.0308132914832765\t 0.4581597654270961\t -0.0\n",
            "19 \t [ 0.2399271 -0.3593033]\t 0.186663872720347\t 0.0308132914832765\t 0.45411469133162463\t -1.1029509720911313e-20\n",
            "20 \t [ 0.2017408  -0.33876602]\t 0.15546176544211315\t 0.0308132914832765\t 0.46965354956876554\t -3.063252606936353e-15\n"
          ]
        }
      ],
      "source": [
        "### Bayesian optimisation runs (x20): 'GP dEI' Acquisition Function run number = 4 \n",
        "\n",
        "np.random.seed(run_num_4)\n",
        "surrogate_exact_4 = dGaussianProcess(cov_func, optimize=hyperOpt)\n",
        "\n",
        "exact_4 = GPGO_exact(surrogate_exact_4, Acquisition_grad(util), f_syn_polarity, param, n_jobs = -1) # Define BayesOpt\n",
        "exact_4.run(max_iter = max_iter, init_evals = n_init) # run\n"
      ]
    },
    {
      "cell_type": "code",
      "execution_count": 37,
      "metadata": {
        "id": "YdzaqIajJLlA",
        "colab": {
          "base_uri": "https://localhost:8080/"
        },
        "outputId": "80425f21-00ef-47e9-8498-c6454c7d63aa"
      },
      "outputs": [
        {
          "output_type": "stream",
          "name": "stdout",
          "text": [
            "Evaluation \t Proposed point \t  Current eval. \t  Best eval. \t         GP dEI: maximum y \t GP dEI: exploit\n",
            "init\t [-2.84678993  3.79629882]\t 22.516097589112718\t 1.3234068721819314\t    \t    \n",
            "init\t [-3.00319585  4.2865757 ]\t 27.393916517947076\t 1.3234068721819314\t    \t    \n",
            "init\t [-0.11866943  1.14425716]\t 1.3234068721819314\t 1.3234068721819314\t    \t    \n",
            "init\t [2.72289645 0.1886002 ]\t 7.449735113237491\t 1.3234068721819314\t    \t    \n",
            "init\t [-2.08076286 -3.19773462]\t 14.555080786026249\t 1.3234068721819314\t    \t    \n",
            "1  \t [ 4.32895605 -5.09732646]\t 44.722597532365825\t 1.3234068721819314\t 1.6281597426122008\t 0.9871539390661513\n",
            "2  \t [5.12 5.12]\t 52.4288\t 1.3234068721819314\t 1.6281595760134915\t 0.9871537251005541\n",
            "3  \t [-5.12       -0.27719042]\t 26.29123452807068\t 1.3234068721819314\t 1.6272897908789583\t 0.9779406496644019\n",
            "4  \t [0.99551455 5.11914473]\t 27.1966919681028\t 1.3234068721819314\t 1.620924980517749\t 0.9759208448157075\n",
            "5  \t [-5.12 -5.12]\t 52.4288\t 1.3234068721819314\t 1.6196491999775522\t 0.9762269705552323\n",
            "6  \t [ 1.26046851 -2.70481137]\t 8.904785400598776\t 1.3234068721819314\t 1.5871514748759203\t 0.9344440497161088\n",
            "7  \t [ 5.12       -1.48084119]\t 28.407290616590203\t 1.3234068721819314\t 1.571260872554804\t 0.8686556006119311\n",
            "8  \t [-1.49525357 -0.17185572]\t 2.2653176386572094\t 1.3234068721819314\t 1.4867269867355364\t 0.6233757236125718\n",
            "9  \t [5.12       1.77366603]\t 29.360291197677117\t 1.3234068721819314\t 1.4636378665613443\t 0.7617443810361961\n",
            "10 \t [0.68003856 2.17406031]\t 5.188990683067016\t 1.3234068721819314\t 1.2741699901015986\t 0.5672327653538826\n",
            "11 \t [ 0.24957708 -5.12      ]\t 26.2766887172362\t 1.3234068721819314\t 1.464639936055246\t 0.777379815193683\n",
            "12 \t [-1.64465921  1.20461662]\t 4.1560051444735695\t 1.3234068721819314\t 1.1369289607362025\t 0.40093483098286536\n",
            "\u001b[1m\u001b[92m13\u001b[0m\t \u001b[1m\u001b[92m[ 0.33345191 -0.54677123]\u001b[0m\t \u001b[1m\u001b[92m0.41014895618799607\u001b[0m\t \u001b[1m\u001b[92m0.41014895618799607\u001b[0m\t \u001b[1m\u001b[92m1.1880456680337186\u001b[0m\t \u001b[1m\u001b[92m0.3027350955694645\u001b[0m\n",
            "\u001b[1m\u001b[92m14\u001b[0m\t \u001b[1m\u001b[92m[ 0.13576466 -0.31332156]\u001b[0m\t \u001b[1m\u001b[92m0.11660244236701545\u001b[0m\t \u001b[1m\u001b[92m0.11660244236701545\u001b[0m\t \u001b[1m\u001b[92m0.6579197217251729\u001b[0m\t \u001b[1m\u001b[92m-0.0\u001b[0m\n",
            "15 \t [ 0.13825126 -0.3159248 ]\t 0.11892188905121451\t 0.11660244236701545\t 0.5385172392426751\t -8.839410572909976e-22\n",
            "16 \t [ 0.1748166  -0.37281168]\t 0.16954939700655736\t 0.11660244236701545\t 0.5450507302428574\t -0.0\n",
            "\u001b[1m\u001b[92m17\u001b[0m\t \u001b[1m\u001b[92m[ 0.0792806 -0.2052998]\u001b[0m\t \u001b[1m\u001b[92m0.04843342156149043\u001b[0m\t \u001b[1m\u001b[92m0.04843342156149043\u001b[0m\t \u001b[1m\u001b[92m0.5369536708732667\u001b[0m\t \u001b[1m\u001b[92m-3.2723822145446637e-15\u001b[0m\n",
            "18 \t [ 0.16585189 -0.34991606]\t 0.1499481008197976\t 0.04843342156149043\t 0.5230876542721188\t -1.98966256204805e-08\n",
            "19 \t [ 0.09613835 -0.22475546]\t 0.059757600362146585\t 0.04843342156149043\t 0.5173716808912764\t -1.7305387468545577e-46\n",
            "20 \t [ 0.19020259 -0.38584104]\t 0.185050332352655\t 0.04843342156149043\t 0.5266366100739375\t -0.0\n"
          ]
        }
      ],
      "source": [
        "### Bayesian optimisation runs (x20): 'GP dEI' Acquisition Function run number = 5 \n",
        "\n",
        "np.random.seed(run_num_5)\n",
        "surrogate_exact_5 = dGaussianProcess(cov_func, optimize=hyperOpt)\n",
        "\n",
        "exact_5 = GPGO_exact(surrogate_exact_5, Acquisition_grad(util), f_syn_polarity, param, n_jobs = -1) # Define BayesOpt\n",
        "exact_5.run(max_iter = max_iter, init_evals = n_init) # run\n"
      ]
    },
    {
      "cell_type": "code",
      "execution_count": 38,
      "metadata": {
        "id": "_KSBbC1zJLlA",
        "colab": {
          "base_uri": "https://localhost:8080/"
        },
        "outputId": "64c31293-21d5-40cd-b1f9-f7fc81474668"
      },
      "outputs": [
        {
          "output_type": "stream",
          "name": "stdout",
          "text": [
            "Evaluation \t Proposed point \t  Current eval. \t  Best eval. \t         GP dEI: maximum y \t GP dEI: exploit\n",
            "init\t [ 4.02288795 -1.72052679]\t 19.143839911819178\t 0.7844720799352826\t    \t    \n",
            "init\t [ 3.28938622 -4.69302655]\t 32.84455992822337\t 0.7844720799352826\t    \t    \n",
            "init\t [-4.0175956   0.97333314]\t 17.088451781196223\t 0.7844720799352826\t    \t    \n",
            "init\t [ 0.30532979 -0.83141193]\t 0.7844720799352826\t 0.7844720799352826\t    \t    \n",
            "init\t [-1.68542362  1.25459899]\t 4.414671405342624\t 0.7844720799352826\t    \t    \n",
            "1  \t [5.12 5.12]\t 52.4288\t 0.7844720799352826\t 1.250722557209966\t 0.5119135942328988\n",
            "2  \t [-3.74535283 -5.12      ]\t 40.24206779776266\t 0.7844720799352826\t 1.2507225040704095\t 0.5119098587919962\n",
            "3  \t [0.08402923 5.12      ]\t 26.221460911676587\t 0.7844720799352826\t 1.2505187585884068\t 0.5116072231754802\n",
            "4  \t [2.56669879 1.74876145]\t 9.646109280504115\t 0.7844720799352826\t 1.241133012953653\t 0.4871563373244379\n",
            "5  \t [-0.25046164 -3.54643381]\t 12.639923790732329\t 0.7844720799352826\t 1.2265198120808376\t 0.44644911190576425\n",
            "6  \t [-3.60506296  4.55551311]\t 33.749178580091325\t 0.7844720799352826\t 1.233525344338636\t 0.4909387460585966\n",
            "7  \t [-2.88953851 -1.80199872]\t 11.596632177015174\t 0.7844720799352826\t 1.1213406013265304\t 0.3205183748853434\n",
            "8  \t [5.12       1.45875086]\t 28.342354070382214\t 0.7844720799352826\t 1.0977277713063391\t 0.3288791576506174\n",
            "\u001b[1m\u001b[92m9\u001b[0m\t \u001b[1m\u001b[92m[0.28551527 0.33616171]\u001b[0m\t \u001b[1m\u001b[92m0.19452366007912245\u001b[0m\t \u001b[1m\u001b[92m0.19452366007912245\u001b[0m\t \u001b[1m\u001b[92m0.944244838325052\u001b[0m\t \u001b[1m\u001b[92m0.22437698928556665\u001b[0m\n",
            "10 \t [ 0.85150011 -0.31221631]\t 0.822531454655845\t 0.19452366007912245\t 0.6403675732621835\t -1.4017808714442879e-06\n",
            "11 \t [-5.12       -2.35737415]\t 31.771612877857287\t 0.19452366007912245\t 0.6127099517875356\t -1.084176569747738e-19\n",
            "12 \t [0.13271092 1.8672264 ]\t 3.504146625504916\t 0.19452366007912245\t 0.6135653447894961\t -1.0658440553844167e-15\n",
            "13 \t [-0.36499576 -0.44963711]\t 0.3353954374319864\t 0.19452366007912245\t 0.581503855437129\t -2.3700029111525368e-21\n",
            "14 \t [ 1.17849596 -0.98822776]\t 2.3654468345450406\t 0.19452366007912245\t 0.5464815224473929\t -1.0573724334073009e-15\n",
            "15 \t [ 0.19922537 -1.04129494]\t 1.1239859057174684\t 0.19452366007912245\t 0.39534703953398287\t -1.0843632685994464e-16\n",
            "16 \t [ 0.05010014 -0.45867761]\t 0.21289517654661871\t 0.19452366007912245\t 0.48810670958463315\t -5.573704139119747e-11\n",
            "17 \t [ 0.23283839 -0.53675817]\t 0.34232305053988554\t 0.19452366007912245\t 0.44987500171670713\t -6.999036519261515e-46\n",
            "18 \t [2.47460161 3.8702899 ]\t 21.102797040457954\t 0.19452366007912245\t 0.38748382476289783\t -8.714762283985674e-14\n",
            "19 \t [-1.25224845  0.1750324 ]\t 1.5987625081211445\t 0.19452366007912245\t 0.3309812881576022\t -6.668953820299085e-14\n",
            "\u001b[1m\u001b[92m20\u001b[0m\t \u001b[1m\u001b[92m[ 0.01186551 -0.29030707]\u001b[0m\t \u001b[1m\u001b[92m0.0844189867648737\u001b[0m\t \u001b[1m\u001b[92m0.0844189867648737\u001b[0m\t \u001b[1m\u001b[92m0.5272608975612157\u001b[0m\t \u001b[1m\u001b[92m-1.8766490367082954e-24\u001b[0m\n"
          ]
        }
      ],
      "source": [
        "### Bayesian optimisation runs (x20): 'GP dEI' Acquisition Function run number = 6 \n",
        "\n",
        "np.random.seed(run_num_6)\n",
        "surrogate_exact_6 = dGaussianProcess(cov_func, optimize=hyperOpt)\n",
        "\n",
        "exact_6 = GPGO_exact(surrogate_exact_6, Acquisition_grad(util), f_syn_polarity, param, n_jobs = -1) # Define BayesOpt\n",
        "exact_6.run(max_iter = max_iter, init_evals = n_init) # run\n"
      ]
    },
    {
      "cell_type": "code",
      "execution_count": 39,
      "metadata": {
        "id": "WB64BgXFJLlB",
        "colab": {
          "base_uri": "https://localhost:8080/"
        },
        "outputId": "2688443e-fa87-4d6f-8013-e70dd56098ca"
      },
      "outputs": [
        {
          "output_type": "stream",
          "name": "stdout",
          "text": [
            "Evaluation \t Proposed point \t  Current eval. \t  Best eval. \t         GP dEI: maximum y \t GP dEI: exploit\n",
            "init\t [-4.33860312  2.86636843]\t 27.039544996254122\t 5.622519010932044\t    \t    \n",
            "init\t [-0.63068947  2.28828342]\t 5.634010222398341\t 5.622519010932044\t    \t    \n",
            "init\t [4.8946126  0.39419771]\t 24.112624368867845\t 5.622519010932044\t    \t    \n",
            "init\t [ 0.01147355 -4.38219639]\t 19.20377688135857\t 5.622519010932044\t    \t    \n",
            "init\t [-2.37118484e+00 -1.20319155e-03]\t 5.622519010932044\t 5.622519010932044\t    \t    \n",
            "1  \t [-5.12 -5.12]\t 52.4288\t 5.622519010932044\t 5.623970530540822\t 5.608615162487226\n",
            "2  \t [3.33590081 5.12      ]\t 37.342634208733344\t 5.622519010932044\t 5.623914820132658\t 5.608525302580072\n",
            "3  \t [ 4.5235682  -4.16736717]\t 37.82961837123037\t 5.622519010932044\t 5.623289213108925\t 5.60547611667791\n",
            "4  \t [-4.02558214 -1.33646422]\t 17.991448177385568\t 5.622519010932044\t 5.6239846283798745\t 5.608646005902745\n",
            "\u001b[1m\u001b[92m5\u001b[0m\t \u001b[1m\u001b[92m[ 1.20807972 -0.75572559]\u001b[0m\t \u001b[1m\u001b[92m2.0305777820257194\u001b[0m\t \u001b[1m\u001b[92m2.0305777820257194\u001b[0m\t \u001b[1m\u001b[92m5.602413738713855\u001b[0m\t \u001b[1m\u001b[92m5.586587720713114\u001b[0m\n",
            "6  \t [1.93980093 1.96894931]\t 7.639589039087927\t 2.0305777820257194\t 2.0177240265815866\t 1.408653549013013\n",
            "7  \t [-1.24967759  5.12      ]\t 27.776094089447255\t 2.0305777820257194\t 2.149828550238291\t 1.6559574039739016\n",
            "8  \t [-2.38451718 -3.29452686]\t 16.5398294150732\t 2.0305777820257194\t 1.5827451064033828\t 1.0925855197754615\n",
            "\u001b[1m\u001b[92m9\u001b[0m\t \u001b[1m\u001b[92m[-0.36192296 -0.43065098]\u001b[0m\t \u001b[1m\u001b[92m0.3164484967491136\u001b[0m\t \u001b[1m\u001b[92m0.3164484967491136\u001b[0m\t \u001b[1m\u001b[92m1.6622491529317878\u001b[0m\t \u001b[1m\u001b[92m1.0240321381268627\u001b[0m\n",
            "10 \t [ 2.56826025 -2.13220727]\t 11.142268540843556\t 0.3164484967491136\t 0.6763526595052394\t -2.308175228151307e-44\n",
            "11 \t [ 0.03506215 -1.51536719]\t 2.2975670738674676\t 0.3164484967491136\t 0.6188847209472561\t -0.0\n",
            "12 \t [-5.11292055  5.04211319]\t 51.56486198679663\t 0.3164484967491136\t 0.5216074770972786\t -1.03702453435482e-06\n",
            "13 \t [5.12       3.05929968]\t 35.5737145099482\t 0.3164484967491136\t 0.5773354740688391\t -0.0\n",
            "\u001b[1m\u001b[92m14\u001b[0m\t \u001b[1m\u001b[92m[0.08495168 0.051806  ]\u001b[0m\t \u001b[1m\u001b[92m0.009900650280819493\u001b[0m\t \u001b[1m\u001b[92m0.009900650280819493\u001b[0m\t \u001b[1m\u001b[92m0.6001464123084983\u001b[0m\t \u001b[1m\u001b[92m-0.0\u001b[0m\n",
            "15 \t [ 0.24493106 -0.00482261]\t 0.06001448113997865\t 0.009900650280819493\t 0.49436190051827456\t -0.0\n",
            "16 \t [-0.16728704  0.20834104]\t 0.07139094479620364\t 0.009900650280819493\t 0.5151115218990433\t -0.0\n",
            "17 \t [ 0.2885054  -0.02416889]\t 0.08381950078625039\t 0.009900650280819493\t 0.5092404056071076\t -0.0\n",
            "18 \t [-0.32558979  0.31462219]\t 0.20499583453134584\t 0.009900650280819493\t 0.49750808986400835\t -0.0\n",
            "19 \t [0.2201875  0.00570263]\t 0.048515056389784796\t 0.009900650280819493\t 0.524776275450299\t -0.0\n",
            "20 \t [ 0.2919772  -0.02750355]\t 0.08600713298209915\t 0.009900650280819493\t 0.5176104281292115\t -0.0\n"
          ]
        }
      ],
      "source": [
        "### Bayesian optimisation runs (x20): 'GP dEI' Acquisition Function run number = 7 \n",
        "\n",
        "np.random.seed(run_num_7)\n",
        "surrogate_exact_7 = dGaussianProcess(cov_func, optimize=hyperOpt)\n",
        "\n",
        "exact_7 = GPGO_exact(surrogate_exact_7, Acquisition_grad(util), f_syn_polarity, param, n_jobs = -1) # Define BayesOpt\n",
        "exact_7.run(max_iter = max_iter, init_evals = n_init) # run\n"
      ]
    },
    {
      "cell_type": "code",
      "execution_count": 40,
      "metadata": {
        "id": "yCh1YYTlJLlB",
        "colab": {
          "base_uri": "https://localhost:8080/"
        },
        "outputId": "e66edc69-036c-4fae-b921-981af3079f2d"
      },
      "outputs": [
        {
          "output_type": "stream",
          "name": "stdout",
          "text": [
            "Evaluation \t Proposed point \t  Current eval. \t  Best eval. \t         GP dEI: maximum y \t GP dEI: exploit\n",
            "init\t [3.82391708 4.79785639]\t 37.641767782829874\t 0.10287109474532606\t    \t    \n",
            "init\t [3.78055209 0.31596228]\t 14.392406282091054\t 0.10287109474532606\t    \t    \n",
            "init\t [-2.73686192 -5.00327624]\t 32.52318635319257\t 0.10287109474532606\t    \t    \n",
            "init\t [-0.7119993  -0.99992207]\t 1.5067871566831337\t 0.10287109474532606\t    \t    \n",
            "init\t [ 0.23218863 -0.22126801]\t 0.10287109474532606\t 0.10287109474532606\t    \t    \n",
            "1  \t [0.02041459 1.98577863]\t 3.943733542072024\t 0.10287109474532606\t 0.8513248707571486\t 0.05354199656417228\n",
            "2  \t [-5.03492225  2.95509263]\t 34.08301446412634\t 0.10287109474532606\t 0.8503734940757717\t 0.053543606186713916\n",
            "3  \t [-5.12       -1.47896116]\t 28.40172612269111\t 0.10287109474532606\t 0.8488848361561557\t 0.04947922775175452\n",
            "4  \t [ 2.57855628 -4.69210849]\t 28.66483461803054\t 0.10287109474532606\t 0.8503612250776876\t 0.053210114028132936\n",
            "5  \t [0.12155999 4.9809562 ]\t 24.824701467598562\t 0.10287109474532606\t 0.8288258080469284\t 0.03782052545697316\n",
            "6  \t [ 5.12       -2.56412597]\t 32.78914196607468\t 0.10287109474532606\t 0.7966540966437681\t -2.1192268917856495e-14\n",
            "7  \t [ 1.43239657 -1.75726267]\t 5.139732035260789\t 0.10287109474532606\t 0.751178974772932\t -1.5103823699747137e-10\n",
            "8  \t [-2.26085933  0.52496983]\t 5.3870782359057\t 0.10287109474532606\t 0.7702924141624\t -6.947777041863304e-14\n",
            "9  \t [-0.62502501 -2.85315332]\t 8.53114012483842\t 0.10287109474532606\t 0.6288866340859824\t -1.2583126409468902e-10\n",
            "10 \t [0.84674702 0.23306071]\t 0.7712978061692458\t 0.10287109474532606\t 0.5742594209163147\t -8.851217298332176e-12\n",
            "11 \t [-2.60507102  4.65235553]\t 28.43080699268983\t 0.10287109474532606\t 0.6156494116715894\t -6.344364956086814e-11\n",
            "12 \t [1.98803108 2.25824095]\t 9.051919776580707\t 0.10287109474532606\t 0.5413737137308781\t -6.0300201151020195e-15\n",
            "13 \t [ 0.56324489 -0.19115944]\t 0.35378673904462027\t 0.10287109474532606\t 0.4555609959633848\t -1.8385790346068188e-19\n",
            "14 \t [5.11860196 2.27117782]\t 31.35833470135911\t 0.10287109474532606\t 0.4995959760640002\t -8.059996084625806e-16\n",
            "\u001b[1m\u001b[92m15\u001b[0m\t \u001b[1m\u001b[92m[-0.0286015   0.04193915]\u001b[0m\t \u001b[1m\u001b[92m0.002576938007014573\u001b[0m\t \u001b[1m\u001b[92m0.002576938007014573\u001b[0m\t \u001b[1m\u001b[92m0.513158807178025\u001b[0m\t \u001b[1m\u001b[92m-1.4336988560185257e-06\u001b[0m\n",
            "16 \t [ 0.48582026 -0.18954356]\t 0.27194808289405553\t 0.002576938007014573\t 0.44449634676742084\t -9.573203050951961e-09\n",
            "17 \t [-5.12 -5.12]\t 52.4288\t 0.002576938007014573\t 0.40813970785194037\t -1.2854412772446476e-21\n",
            "18 \t [ 0.34008517 -0.1527632 ]\t 0.1389945140355155\t 0.002576938007014573\t 0.4696232833317354\t -0.0\n",
            "19 \t [-0.09046963  0.07350908]\t 0.013588337319188112\t 0.002576938007014573\t 0.5008565824721938\t -0.0\n",
            "20 \t [-0.21224325  0.1736005 ]\t 0.07518433244366887\t 0.002576938007014573\t 0.49294174362449084\t -4.943173392137037e-42\n"
          ]
        }
      ],
      "source": [
        "### Bayesian optimisation runs (x20): 'GP dEI' Acquisition Function run number = 8 \n",
        "\n",
        "np.random.seed(run_num_8)\n",
        "surrogate_exact_8 = dGaussianProcess(cov_func, optimize=hyperOpt)\n",
        "\n",
        "exact_8 = GPGO_exact(surrogate_exact_8, Acquisition_grad(util), f_syn_polarity, param, n_jobs = -1) # Define BayesOpt\n",
        "exact_8.run(max_iter = max_iter, init_evals = n_init) # run\n"
      ]
    },
    {
      "cell_type": "code",
      "execution_count": 41,
      "metadata": {
        "id": "IDhy8DkEJLlC",
        "colab": {
          "base_uri": "https://localhost:8080/"
        },
        "outputId": "a5ea1d7b-b8ff-4396-a9f4-92ce136f48b5"
      },
      "outputs": [
        {
          "output_type": "stream",
          "name": "stdout",
          "text": [
            "Evaluation \t Proposed point \t  Current eval. \t  Best eval. \t         GP dEI: maximum y \t GP dEI: exploit\n",
            "init\t [-5.01376866  0.01919582]\t 25.138244697862262\t 7.349882113053805\t    \t    \n",
            "init\t [-0.04328148 -3.74958562]\t 14.061265633999861\t 7.349882113053805\t    \t    \n",
            "init\t [-3.66478248 -2.88195916]\t 21.736319271030034\t 7.349882113053805\t    \t    \n",
            "init\t [-0.83447623 -2.57944404]\t 7.349882113053805\t 7.349882113053805\t    \t    \n",
            "init\t [-4.25922917 -1.58209393]\t 20.64405433050371\t 7.349882113053805\t    \t    \n",
            "1  \t [4.68664599 5.12      ]\t 48.179050673140004\t 7.349882113053805\t 7.349939623433926\t 7.349007818560137\n",
            "2  \t [ 4.93512605 -1.14868802]\t 25.674953297624498\t 7.349882113053805\t 7.349938575846465\t 7.3490070308653115\n",
            "3  \t [-1.47922339  4.44879978]\t 21.979921333163915\t 7.349882113053805\t 7.349938263911135\t 7.3490067119998095\n",
            "\u001b[1m\u001b[92m4\u001b[0m\t \u001b[1m\u001b[92m[1.09349406 1.13408365]\u001b[0m\t \u001b[1m\u001b[92m2.4818749979390615\u001b[0m\t \u001b[1m\u001b[92m2.4818749979390615\u001b[0m\t \u001b[1m\u001b[92m7.347285794193946\u001b[0m\t \u001b[1m\u001b[92m7.3463494344518585\u001b[0m\n",
            "5  \t [3.50678683 1.84048058]\t 15.68492261118841\t 2.4818749979390615\t 2.4423111852100856\t 2.02965054137345\n",
            "6  \t [-4.58915903  3.28836136]\t 31.873701055425826\t 2.4818749979390615\t 2.499763554858148\t 2.1081101346070867\n",
            "\u001b[1m\u001b[92m7\u001b[0m\t \u001b[1m\u001b[92m[-1.22039756  0.36328903]\u001b[0m\t \u001b[1m\u001b[92m1.6213491168220477\u001b[0m\t \u001b[1m\u001b[92m1.6213491168220477\u001b[0m\t \u001b[1m\u001b[92m2.4874846157898953\u001b[0m\t \u001b[1m\u001b[92m2.07294047028501\u001b[0m\n",
            "8  \t [ 2.7919054  -3.50726473]\t 20.095641667423155\t 1.6213491168220477\t 1.704212703191018\t 1.0835767178837312\n",
            "9  \t [-5.12 -5.12]\t 52.4288\t 1.6213491168220477\t 1.6426265044127395\t 0.9757997218819995\n",
            "\u001b[1m\u001b[92m10\u001b[0m\t \u001b[1m\u001b[92m[ 1.01970088 -0.67944974]\u001b[0m\t \u001b[1m\u001b[92m1.501441826976445\u001b[0m\t \u001b[1m\u001b[92m1.501441826976445\u001b[0m\t \u001b[1m\u001b[92m1.5491970757958067\u001b[0m\t \u001b[1m\u001b[92m0.9091816292948725\u001b[0m\n",
            "11 \t [1.47890176 4.51531604]\t 22.57522933350542\t 1.501441826976445\t 1.5490202922096092\t 0.8621249653992523\n",
            "12 \t [-2.01404415  1.47202806]\t 6.223240466336925\t 1.501441826976445\t 1.3297262257741758\t 0.5771415185209525\n",
            "\u001b[1m\u001b[92m13\u001b[0m\t \u001b[1m\u001b[92m[-0.27036407 -0.40916939]\u001b[0m\t \u001b[1m\u001b[92m0.2405163212189046\u001b[0m\t \u001b[1m\u001b[92m0.2405163212189046\u001b[0m\t \u001b[1m\u001b[92m1.181036000735356\u001b[0m\t \u001b[1m\u001b[92m0.47954902611211025\u001b[0m\n",
            "14 \t [-0.29062083 -0.42762625]\t 0.2673246739546854\t 0.2405163212189046\t 0.5423500677468143\t -1.7930680067077018e-10\n",
            "15 \t [-1.99447749 -5.12      ]\t 30.192340458278153\t 0.2405163212189046\t 0.5449925192506447\t -0.0\n",
            "16 \t [-0.32838084 -0.439715  ]\t 0.30118325854204697\t 0.2405163212189046\t 0.5480459426349917\t -0.0\n",
            "17 \t [-0.12350316 -0.50839542]\t 0.2737189317768914\t 0.2405163212189046\t 0.5305120478742652\t -4.21856242359653e-44\n",
            "18 \t [-0.66707187 -0.46010245]\t 0.6566791406724886\t 0.2405163212189046\t 0.5560577375128819\t -1.7366967954044186e-12\n",
            "\u001b[1m\u001b[92m19\u001b[0m\t \u001b[1m\u001b[92m[-0.17261709 -0.35360174]\u001b[0m\t \u001b[1m\u001b[92m0.15483084932559457\u001b[0m\t \u001b[1m\u001b[92m0.15483084932559457\u001b[0m\t \u001b[1m\u001b[92m0.5277035059568841\u001b[0m\t \u001b[1m\u001b[92m-0.0\u001b[0m\n",
            "20 \t [-0.01698524 -0.41219554]\t 0.17019366310548126\t 0.15483084932559457\t 0.49304359948751925\t -0.0\n"
          ]
        }
      ],
      "source": [
        "### Bayesian optimisation runs (x20): 'GP dEI' Acquisition Function run number = 9 \n",
        "\n",
        "np.random.seed(run_num_9)\n",
        "surrogate_exact_9 = dGaussianProcess(cov_func, optimize=hyperOpt)\n",
        "\n",
        "exact_9 = GPGO_exact(surrogate_exact_9, Acquisition_grad(util), f_syn_polarity, param, n_jobs = -1) # Define BayesOpt\n",
        "exact_9.run(max_iter = max_iter, init_evals = n_init) # run\n"
      ]
    },
    {
      "cell_type": "code",
      "execution_count": 42,
      "metadata": {
        "id": "RqwHOur5JLlC",
        "colab": {
          "base_uri": "https://localhost:8080/"
        },
        "outputId": "be7cf5b8-a841-469a-f67b-6d8b2c6d88eb"
      },
      "outputs": [
        {
          "output_type": "stream",
          "name": "stdout",
          "text": [
            "Evaluation \t Proposed point \t  Current eval. \t  Best eval. \t         GP dEI: maximum y \t GP dEI: exploit\n",
            "init\t [ 2.77832339 -4.90750004]\t 31.80263747150094\t 7.941821858928501\t    \t    \n",
            "init\t [1.36855793 2.54775176]\t 8.363989812138083\t 7.941821858928501\t    \t    \n",
            "init\t [-0.01528819 -2.81808235]\t 7.941821858928501\t 7.941821858928501\t    \t    \n",
            "init\t [-3.09183626  2.66783449]\t 16.67679237031191\t 7.941821858928501\t    \t    \n",
            "init\t [-3.38830503 -4.2154003 ]\t 29.25021071405309\t 7.941821858928501\t    \t    \n",
            "1  \t [ 5.12       -0.34675903]\t 26.33464182441566\t 7.941821858928501\t 7.941750846391455\t 7.9414503082367345\n",
            "2  \t [5.12 5.12]\t 52.4288\t 7.941821858928501\t 7.941699369416504\t 7.941398725075928\n",
            "3  \t [-4.21705607 -0.7275049 ]\t 18.31282532366967\t 7.941821858928501\t 7.904211561858475\t 7.903885579594791\n",
            "4  \t [0.65867346 5.11113959]\t 26.5575986246983\t 7.941821858928501\t 7.818599464701568\t 7.8201782975973915\n",
            "\u001b[1m\u001b[92m5\u001b[0m\t \u001b[1m\u001b[92m[ 0.09877078 -0.03903922]\u001b[0m\t \u001b[1m\u001b[92m0.011279726611796229\u001b[0m\t \u001b[1m\u001b[92m0.011279726611796229\u001b[0m\t \u001b[1m\u001b[92m7.794630075339411\u001b[0m\t \u001b[1m\u001b[92m7.794229047233519\u001b[0m\n",
            "6  \t [ 2.01219052 -0.93942585]\t 4.931431638563069\t 0.011279726611796229\t 0.715437209350523\t -4.75352124397053e-39\n",
            "7  \t [-0.87518699  0.21447009]\t 0.8119496905345653\t 0.011279726611796229\t 0.7628194017901592\t -5.570569329705008e-18\n",
            "8  \t [3.75275535 2.24584562]\t 19.12699530863282\t 0.011279726611796229\t 0.5483250669033207\t -1.1432415699256997e-12\n",
            "9  \t [-0.72794222 -5.12      ]\t 26.744299875273892\t 0.011279726611796229\t 0.5648081763218952\t -1.1458788637757014e-16\n",
            "10 \t [-0.6011932   0.96001604]\t 1.283064070445408\t 0.011279726611796229\t 0.5451927411709049\t -7.990684814759515e-17\n",
            "11 \t [-2.48567489  5.12      ]\t 32.392979683117936\t 0.011279726611796229\t 0.6028101256272703\t -6.922951388684441e-07\n",
            "12 \t [-0.59608772 -0.59310456]\t 0.7070935933282569\t 0.011279726611796229\t 0.5328640201549703\t -2.4992767016442097e-33\n",
            "13 \t [ 5.10978795 -3.28233369]\t 36.88364731784726\t 0.011279726611796229\t 0.5945688617201814\t -4.185593109479289e-49\n",
            "14 \t [ 0.23824185 -0.02059983]\t 0.05718352989248215\t 0.011279726611796229\t 0.469071906648774\t -1.9738961706163275e-13\n",
            "15 \t [-0.1018917   0.32948673]\t 0.11894342194584952\t 0.011279726611796229\t 0.4693912901883604\t -2.0336344026857157e-34\n",
            "16 \t [0.23847408 0.01514371]\t 0.0570992173137873\t 0.011279726611796229\t 0.5020532853727071\t -9.523721361282144e-16\n",
            "17 \t [0.07915416 0.19044044]\t 0.04253294334488636\t 0.011279726611796229\t 0.5095402398222196\t -1.860071139403511e-19\n",
            "18 \t [-1.25516433 -0.91900313]\t 2.420004230440637\t 0.011279726611796229\t 0.4648743222427808\t -9.165949541575222e-17\n",
            "19 \t [0.17972209 0.27452552]\t 0.10766429327978547\t 0.011279726611796229\t 0.5272691304328032\t -1.1701577887571443e-17\n",
            "20 \t [-0.81626982  2.53857869]\t 7.11067816740668\t 0.011279726611796229\t 0.2811830926690126\t -3.461644755492952e-49\n"
          ]
        }
      ],
      "source": [
        "### Bayesian optimisation runs (x20): 'GP dEI' Acquisition Function run number = 10 \n",
        "\n",
        "np.random.seed(run_num_10)\n",
        "surrogate_exact_10 = dGaussianProcess(cov_func, optimize=hyperOpt)\n",
        "\n",
        "exact_10 = GPGO_exact(surrogate_exact_10, Acquisition_grad(util), f_syn_polarity, param, n_jobs = -1) # Define BayesOpt\n",
        "exact_10.run(max_iter = max_iter, init_evals = n_init) # run\n"
      ]
    },
    {
      "cell_type": "code",
      "execution_count": 43,
      "metadata": {
        "id": "iXLW3-5DJLlD",
        "colab": {
          "base_uri": "https://localhost:8080/"
        },
        "outputId": "83346b56-38bd-4e85-8ac9-c3e6782efd39"
      },
      "outputs": [
        {
          "output_type": "stream",
          "name": "stdout",
          "text": [
            "Evaluation \t Proposed point \t  Current eval. \t  Best eval. \t         GP dEI: maximum y \t GP dEI: exploit\n",
            "init\t [-3.27403839 -4.92057353]\t 34.93137118861299\t 0.6899456214148796\t    \t    \n",
            "init\t [-0.37664229  2.30332343]\t 5.447158259491397\t 0.6899456214148796\t    \t    \n",
            "init\t [-0.81711509 -0.14922651]\t 0.6899456214148796\t 0.6899456214148796\t    \t    \n",
            "init\t [-4.98912446 -0.12931474]\t 24.908085165573997\t 0.6899456214148796\t    \t    \n",
            "init\t [4.52410012 3.59214172]\t 33.37096399795931\t 0.6899456214148796\t    \t    \n",
            "1  \t [ 3.03550212 -4.46785095]\t 29.17596522689979\t 0.6899456214148796\t 1.1898686681311723\t 0.4380758157391548\n",
            "2  \t [ 4.94072018 -0.61728397]\t 24.791755402212313\t 0.6899456214148796\t 1.1875807721510645\t 0.4353214183633416\n",
            "3  \t [-1.19896852  5.12      ]\t 27.651925507645664\t 0.6899456214148796\t 1.1666838274617444\t 0.4102648605865108\n",
            "4  \t [ 1.19392454 -1.30462948]\t 3.1275138631117585\t 0.6899456214148796\t 1.1596509704568805\t 0.4020820282722089\n",
            "5  \t [-3.74685469  2.91006244]\t 22.507383479647885\t 0.6899456214148796\t 1.1205238318006776\t 0.34602238990098394\n",
            "6  \t [-0.94072899 -2.50653316]\t 7.167679521792622\t 0.6899456214148796\t 1.0935302524407389\t 0.30279871563196786\n",
            "7  \t [1.91032258 1.46522271]\t 5.796209958841573\t 0.6899456214148796\t 1.0478355509122474\t 0.10348538865111297\n",
            "8  \t [-0.18568613 -5.11439177]\t 26.19148250463699\t 0.6899456214148796\t 1.0078803867872088\t 0.24310180617059995\n",
            "9  \t [-1.87365161  0.0939219 ]\t 3.5193916661505575\t 0.6899456214148796\t 0.9469586169543015\t 0.1870174411076419\n",
            "\u001b[1m\u001b[92m10\u001b[0m\t \u001b[1m\u001b[92m[-0.0313092  -0.03721985]\u001b[0m\t \u001b[1m\u001b[92m0.002365582999738933\u001b[0m\t \u001b[1m\u001b[92m0.002365582999738933\u001b[0m\t \u001b[1m\u001b[92m0.7053192680399852\u001b[0m\t \u001b[1m\u001b[92m-3.697893420207211e-12\u001b[0m\n",
            "11 \t [2.06930297 5.11133593]\t 30.407769764186295\t 0.002365582999738933\t 0.6444401415519889\t -3.142777393348347e-20\n",
            "12 \t [ 0.18772054 -0.15307971]\t 0.05867239916543553\t 0.002365582999738933\t 0.46121536299582344\t -5.162042568520299e-19\n",
            "13 \t [ 0.2768952  -0.21637062]\t 0.12348719848185699\t 0.002365582999738933\t 0.46597158779253584\t -6.747436098519034e-22\n",
            "14 \t [-5.12       -2.87014166]\t 34.452113166016275\t 0.002365582999738933\t 0.5059547667600116\t -2.020719678186169e-13\n",
            "15 \t [ 0.62034407 -0.36822239]\t 0.5204144903106316\t 0.002365582999738933\t 0.3885672486666929\t -1.5415781239228523e-20\n",
            "16 \t [-0.49755403  0.5422625 ]\t 0.5416086299261947\t 0.002365582999738933\t 0.3760709545592818\t -2.961887492523602e-13\n",
            "17 \t [ 0.24095397 -0.1837571 ]\t 0.0918254904078242\t 0.002365582999738933\t 0.48708926543434783\t -2.8689454859454793e-21\n",
            "\u001b[1m\u001b[92m18\u001b[0m\t \u001b[1m\u001b[92m[0.0017779  0.02713521]\u001b[0m\t \u001b[1m\u001b[92m0.0007394804061056987\u001b[0m\t \u001b[1m\u001b[92m0.0007394804061056987\u001b[0m\t \u001b[1m\u001b[92m0.5268834112770163\u001b[0m\t \u001b[1m\u001b[92m-3.6680443864285944e-18\u001b[0m\n",
            "19 \t [ 0.11774169 -0.07973266]\t 0.020220403848616883\t 0.0007394804061056987\t 0.5236339224878707\t -4.956675771064427e-16\n",
            "20 \t [ 5.12       -3.25323415]\t 36.79793245114431\t 0.0007394804061056987\t 0.34529415455319684\t -2.929581817100414e-09\n"
          ]
        }
      ],
      "source": [
        "### Bayesian optimisation runs (x20): 'GP dEI' Acquisition Function run number = 11 \n",
        "\n",
        "np.random.seed(run_num_11)\n",
        "surrogate_exact_11 = dGaussianProcess(cov_func, optimize=hyperOpt)\n",
        "\n",
        "exact_11 = GPGO_exact(surrogate_exact_11, Acquisition_grad(util), f_syn_polarity, param, n_jobs = -1) # Define BayesOpt\n",
        "exact_11.run(max_iter = max_iter, init_evals = n_init) # run\n"
      ]
    },
    {
      "cell_type": "code",
      "execution_count": 44,
      "metadata": {
        "id": "Sv5SygMbJLlD",
        "colab": {
          "base_uri": "https://localhost:8080/"
        },
        "outputId": "45ff9f05-b15b-4b85-daa4-58d807bd35c4"
      },
      "outputs": [
        {
          "output_type": "stream",
          "name": "stdout",
          "text": [
            "Evaluation \t Proposed point \t  Current eval. \t  Best eval. \t         GP dEI: maximum y \t GP dEI: exploit\n",
            "init\t [-3.54137249  2.45810889]\t 18.583618467979093\t 5.993464196233534\t    \t    \n",
            "init\t [-2.42365424  0.34549139]\t 5.993464196233534\t 5.993464196233534\t    \t    \n",
            "init\t [-4.97075238  4.28796936]\t 43.09506052206225\t 5.993464196233534\t    \t    \n",
            "init\t [ 4.10332011 -4.77776458]\t 39.66427028607538\t 5.993464196233534\t    \t    \n",
            "init\t [ 4.6791612  -3.71497655]\t 35.6956003298903\t 5.993464196233534\t    \t    \n",
            "1  \t [5.12       4.28576605]\t 44.58219063385849\t 5.993464196233534\t 5.994237365089219\t 5.985286390941009\n",
            "2  \t [-5.12       -4.85983818]\t 49.83242712805688\t 5.993464196233534\t 5.994237270309308\t 5.985285453345221\n",
            "3  \t [0.29710703 5.12      ]\t 26.30267258716383\t 5.993464196233534\t 5.993927587379909\t 5.9849607317639215\n",
            "\u001b[1m\u001b[92m4\u001b[0m\t \u001b[1m\u001b[92m[1.89092034 0.56120834]\u001b[0m\t \u001b[1m\u001b[92m3.8905345163315044\u001b[0m\t \u001b[1m\u001b[92m3.8905345163315044\u001b[0m\t \u001b[1m\u001b[92m5.993730915116168\u001b[0m\t \u001b[1m\u001b[92m5.98435608952832\u001b[0m\n",
            "5  \t [-0.44602232 -4.06809875]\t 16.748363342391862\t 3.8905345163315044\t 3.9094036170607978\t 3.788610729414037\n",
            "6  \t [-5.12       -1.02490031]\t 27.26482065105182\t 3.8905345163315044\t 3.8614686533380684\t 3.7347006757681074\n",
            "7  \t [5.12       0.25060165]\t 26.27720118747975\t 3.8905345163315044\t 3.88927900288708\t 3.7544468608340145\n",
            "\u001b[1m\u001b[92m8\u001b[0m\t \u001b[1m\u001b[92m[ 0.29799828 -1.18909279]\u001b[0m\t \u001b[1m\u001b[92m1.502744632266398\u001b[0m\t \u001b[1m\u001b[92m1.502744632266398\u001b[0m\t \u001b[1m\u001b[92m3.6798797042696805\u001b[0m\t \u001b[1m\u001b[92m3.508780760468607\u001b[0m\n",
            "9  \t [0.0355585  1.67219201]\t 2.79749053099472\t 1.502744632266398\t 1.5454207644426055\t 0.8186176247592846\n",
            "10 \t [ 1.89514274 -1.80263869]\t 6.841072247413685\t 1.502744632266398\t 1.4833694318076467\t 0.7545724531059093\n",
            "11 \t [-2.51765612 -1.62388318]\t 8.975588926445141\t 1.502744632266398\t 1.1790285100425122\t 0.3994409855914454\n",
            "12 \t [2.46070001 2.56280858]\t 12.623032361400142\t 1.502744632266398\t 1.4193176737210114\t 0.7226422846501362\n",
            "\u001b[1m\u001b[92m13\u001b[0m\t \u001b[1m\u001b[92m[-0.18435938 -0.32678041]\u001b[0m\t \u001b[1m\u001b[92m0.1407738178613781\u001b[0m\t \u001b[1m\u001b[92m0.1407738178613781\u001b[0m\t \u001b[1m\u001b[92m1.1524790159338472\u001b[0m\t \u001b[1m\u001b[92m0.4276284505400748\u001b[0m\n",
            "\u001b[1m\u001b[92m14\u001b[0m\t \u001b[1m\u001b[92m[-0.32302787 -0.00324391]\u001b[0m\t \u001b[1m\u001b[92m0.10435753084545982\u001b[0m\t \u001b[1m\u001b[92m0.10435753084545982\u001b[0m\t \u001b[1m\u001b[92m0.5012412954520759\u001b[0m\t \u001b[1m\u001b[92m-1.444719211351804e-33\u001b[0m\n",
            "15 \t [-0.17378885 -0.29462135]\t 0.11700430270193221\t 0.10435753084545982\t 0.5213743360988915\t -8.694562374284034e-38\n",
            "16 \t [-2.17141446  5.05240132]\t 30.24179984849862\t 0.10435753084545982\t 0.4112305827710201\t -1.2651131368336592e-41\n",
            "17 \t [-0.40181577  0.13223068]\t 0.17894086759268474\t 0.10435753084545982\t 0.501660789034094\t -1.2651131317670144e-41\n",
            "\u001b[1m\u001b[92m18\u001b[0m\t \u001b[1m\u001b[92m[-0.28983173 -0.06797926]\u001b[0m\t \u001b[1m\u001b[92m0.08862361302057085\u001b[0m\t \u001b[1m\u001b[92m0.08862361302057085\u001b[0m\t \u001b[1m\u001b[92m0.5353472346149113\u001b[0m\t \u001b[1m\u001b[92m-4.9447254422569384e-27\u001b[0m\n",
            "19 \t [-0.03902584 -0.63747279]\t 0.40789457038947136\t 0.08862361302057085\t 0.48734290063526614\t -2.5991746736063205e-45\n",
            "20 \t [-0.04211177 -0.57758166]\t 0.33537397912376354\t 0.08862361302057085\t 0.48487804666256307\t -1.1185555375237722e-41\n"
          ]
        }
      ],
      "source": [
        "### Bayesian optimisation runs (x20): 'GP dEI' Acquisition Function run number = 12\n",
        "\n",
        "np.random.seed(run_num_12)\n",
        "surrogate_exact_12 = dGaussianProcess(cov_func, optimize=hyperOpt)\n",
        "\n",
        "exact_12 = GPGO_exact(surrogate_exact_12, Acquisition_grad(util), f_syn_polarity, param, n_jobs = -1) # Define BayesOpt\n",
        "exact_12.run(max_iter = max_iter, init_evals = n_init) # run\n"
      ]
    },
    {
      "cell_type": "code",
      "execution_count": 45,
      "metadata": {
        "id": "NSskozWHJLlE",
        "colab": {
          "base_uri": "https://localhost:8080/"
        },
        "outputId": "d27b3793-a362-4ff2-85f2-23050f9f350d"
      },
      "outputs": [
        {
          "output_type": "stream",
          "name": "stdout",
          "text": [
            "Evaluation \t Proposed point \t  Current eval. \t  Best eval. \t         GP dEI: maximum y \t GP dEI: exploit\n",
            "init\t [ 2.84367268 -2.68757791]\t 15.30954934064491\t 7.271500601275535\t    \t    \n",
            "init\t [3.32061217 4.76927179]\t 33.772418600555795\t 7.271500601275535\t    \t    \n",
            "init\t [ 4.83943541 -0.47667971]\t 23.647358595121606\t 7.271500601275535\t    \t    \n",
            "init\t [1.11659482 2.82139151]\t 9.20703403927425\t 7.271500601275535\t    \t    \n",
            "init\t [1.45012065 2.27346667]\t 7.271500601275535\t 7.271500601275535\t    \t    \n",
            "1  \t [-4.18648609 -2.4678052 ]\t 23.616728302103265\t 7.271500601275535\t 7.271568186278327\t 7.270492860134739\n",
            "2  \t [-3.79946932  2.66821301]\t 21.55532775288146\t 7.271500601275535\t 7.271525357105591\t 7.270449947327427\n",
            "3  \t [-0.69739246 -5.12      ]\t 26.700756242868632\t 7.271500601275535\t 7.270026503494135\t 7.268948722985995\n",
            "\u001b[1m\u001b[92m4\u001b[0m\t \u001b[1m\u001b[92m[-0.58669696 -0.75006876]\u001b[0m\t \u001b[1m\u001b[92m0.9068164551257099\u001b[0m\t \u001b[1m\u001b[92m0.9068164551257099\u001b[0m\t \u001b[1m\u001b[92m7.258896672486266\u001b[0m\t \u001b[1m\u001b[92m7.25776109555372\u001b[0m\n",
            "5  \t [-0.94715615  5.12      ]\t 27.111504777750348\t 0.9068164551257099\t 1.302544565825492\t 0.42831888867523704\n",
            "6  \t [-5.12 -5.12]\t 52.4288\t 0.9068164551257099\t 1.1831099291447817\t 0.4299897185686099\n",
            "7  \t [ 1.14875181 -0.38629088]\t 1.468851367931218\t 0.9068164551257099\t 1.1255329994115746\t 0.35642129424722246\n",
            "8  \t [-1.62986217 -0.27148932]\t 2.7301571473542037\t 0.9068164551257099\t 1.1325223779721436\t 0.4358790119378346\n",
            "9  \t [-0.73754725 -1.95261332]\t 4.3566747160213\t 0.9068164551257099\t 1.0597238935624902\t 0.31365586341997975\n",
            "10 \t [-1.03210041  1.39305785]\t 3.0058414258925037\t 0.9068164551257099\t 0.9810962765473645\t 0.1950838150144651\n",
            "11 \t [5.10029824 2.68413919]\t 33.21764531035628\t 0.9068164551257099\t 1.0327456178044705\t 0.23828797945552457\n",
            "12 \t [-5.12        0.21018205]\t 26.258576492783664\t 0.9068164551257099\t 1.059352637811419\t 0.27481599112573785\n",
            "13 \t [-3.58976335  5.12      ]\t 39.10080089176151\t 0.9068164551257099\t 0.7874288148036213\t -0.0\n",
            "14 \t [ 2.19054181 -5.12      ]\t 31.012873436892022\t 0.9068164551257099\t 1.0035814745377865\t 0.2735983179603063\n",
            "15 \t [1.776081   0.15242653]\t 3.1776975586574285\t 0.9068164551257099\t 0.7561509751987024\t 0.028095861048525874\n",
            "\u001b[1m\u001b[92m16\u001b[0m\t \u001b[1m\u001b[92m[-0.05377644 -0.00922197]\u001b[0m\t \u001b[1m\u001b[92m0.002976950507583711\u001b[0m\t \u001b[1m\u001b[92m0.002976950507583711\u001b[0m\t \u001b[1m\u001b[92m0.711412611473319\u001b[0m\t \u001b[1m\u001b[92m-1.060952436886906e-15\u001b[0m\n",
            "17 \t [ 5.04930907 -3.11609368]\t 35.20556187022642\t 0.002976950507583711\t 0.40589795856724276\t -0.0\n",
            "18 \t [ 0.36901157 -0.56225198]\t 0.45229682812107264\t 0.002976950507583711\t 0.40345279943387713\t -0.0\n",
            "19 \t [ 0.74581684 -2.22840803]\t 5.522045098317\t 0.002976950507583711\t 0.2524034094807601\t -0.0\n",
            "20 \t [-0.91598937  0.79672829]\t 1.473812491066273\t 0.002976950507583711\t 0.201660565410752\t -0.0\n"
          ]
        }
      ],
      "source": [
        "### Bayesian optimisation runs (x20): 'GP dEI' Acquisition Function run number = 13 \n",
        "\n",
        "np.random.seed(run_num_13)\n",
        "surrogate_exact_13 = dGaussianProcess(cov_func, optimize=hyperOpt)\n",
        "\n",
        "exact_13 = GPGO_exact(surrogate_exact_13, Acquisition_grad(util), f_syn_polarity, param, n_jobs = -1) # Define BayesOpt\n",
        "exact_13.run(max_iter = max_iter, init_evals = n_init) # run\n"
      ]
    },
    {
      "cell_type": "code",
      "execution_count": 46,
      "metadata": {
        "id": "aM5FQ3ibJLlE",
        "colab": {
          "base_uri": "https://localhost:8080/"
        },
        "outputId": "0c9460d7-fa4f-4ced-fd3b-86792f0ddc82"
      },
      "outputs": [
        {
          "output_type": "stream",
          "name": "stdout",
          "text": [
            "Evaluation \t Proposed point \t  Current eval. \t  Best eval. \t         GP dEI: maximum y \t GP dEI: exploit\n",
            "init\t [0.14277984 2.79721013]\t 7.844770612568215\t 3.480496204392171\t    \t    \n",
            "init\t [ 3.7931795  -5.03759925]\t 39.765616906968944\t 3.480496204392171\t    \t    \n",
            "init\t [-1.94830412  4.68586229]\t 25.753194366239512\t 3.480496204392171\t    \t    \n",
            "init\t [ 0.13431513 -1.86076749]\t 3.480496204392171\t 3.480496204392171\t    \t    \n",
            "init\t [ 0.40140736 -2.85434939]\t 8.308438305616814\t 3.480496204392171\t    \t    \n",
            "1  \t [-5.12       -0.19377072]\t 26.25194709281843\t 3.480496204392171\t 3.5136325940103443\t 3.33811395516163\n",
            "2  \t [5.12 5.12]\t 52.4288\t 3.480496204392171\t 3.5136323163824983\t 3.3381157977071623\n",
            "3  \t [-4.34551125 -5.12      ]\t 45.09786803255743\t 3.480496204392171\t 3.5135793432928555\t 3.3379668905927016\n",
            "4  \t [ 5.12       -0.05216576]\t 26.21712126687544\t 3.480496204392171\t 3.5135608281387327\t 3.337979726055551\n",
            "\u001b[1m\u001b[92m5\u001b[0m\t \u001b[1m\u001b[92m[-1.73473933  0.36160505]\u001b[0m\t \u001b[1m\u001b[92m3.140078760998255\u001b[0m\t \u001b[1m\u001b[92m3.140078760998255\u001b[0m\t \u001b[1m\u001b[92m3.4352358813281243\u001b[0m\t \u001b[1m\u001b[92m3.242281499851276\u001b[0m\n",
            "\u001b[1m\u001b[92m6\u001b[0m\t \u001b[1m\u001b[92m[1.71751028 0.16853404]\u001b[0m\t \u001b[1m\u001b[92m2.978245272120911\u001b[0m\t \u001b[1m\u001b[92m2.978245272120911\u001b[0m\t \u001b[1m\u001b[92m3.0816713282331354\u001b[0m\t \u001b[1m\u001b[92m2.7966553458410184\u001b[0m\n",
            "7  \t [1.777634  5.0862412]\t 29.029832152542937\t 2.978245272120911\t 2.8696605335274628\t 2.559220438183564\n",
            "8  \t [-5.12        3.49996002]\t 38.46412012157959\t 2.978245272120911\t 2.986351613610735\t 2.6831119012488465\n",
            "9  \t [-0.91830171 -5.12      ]\t 27.057678035656014\t 2.978245272120911\t 2.8591737627501526\t 2.555921852427401\n",
            "10 \t [-2.63603928 -1.98604256]\t 10.893068101271455\t 2.978245272120911\t 2.7763847281510485\t 2.4420146453682383\n",
            "11 \t [ 2.87453338 -2.00907246]\t 12.29931428143556\t 2.978245272120911\t 2.588342571243338\t 2.1945513696830683\n",
            "12 \t [2.89987677 2.23804542]\t 13.418132571688997\t 2.978245272120911\t 2.675883441491893\t 2.2764910700177543\n",
            "13 \t [-2.74398513  1.8749601 ]\t 11.044929765692375\t 2.978245272120911\t 2.242332301594642\t 1.7526320118593106\n",
            "\u001b[1m\u001b[92m14\u001b[0m\t \u001b[1m\u001b[92m[-0.08457467  0.04622276]\u001b[0m\t \u001b[1m\u001b[92m0.009289418633436308\u001b[0m\t \u001b[1m\u001b[92m0.009289418633436308\u001b[0m\t \u001b[1m\u001b[92m2.3842229967683353\u001b[0m\t \u001b[1m\u001b[92m1.9450743627493419\u001b[0m\n",
            "\u001b[1m\u001b[92m15\u001b[0m\t \u001b[1m\u001b[92m[-0.03657922 -0.00349482]\u001b[0m\t \u001b[1m\u001b[92m0.0013502532454803136\u001b[0m\t \u001b[1m\u001b[92m0.0013502532454803136\u001b[0m\t \u001b[1m\u001b[92m0.5199529711536883\u001b[0m\t \u001b[1m\u001b[92m-0.0\u001b[0m\n",
            "16 \t [-0.00999398 -0.04235919]\t 0.0018941809515062619\t 0.0013502532454803136\t 0.5301592782381916\t -2.1635202327811962e-18\n",
            "17 \t [ 0.2396319  -0.31187029]\t 0.15468652896690238\t 0.0013502532454803136\t 0.49214855848126826\t -2.16352025655317e-18\n",
            "18 \t [-0.20237229  0.27184098]\t 0.11485206518960518\t 0.0013502532454803136\t 0.531167071622618\t -2.2693036263837473e-36\n",
            "19 \t [ 0.51241474 -0.4971584 ]\t 0.50973533813868\t 0.0013502532454803136\t 0.4076883827432274\t -2.163519946512681e-18\n",
            "20 \t [ 0.04796445 -0.12284853]\t 0.017392348926747424\t 0.0013502532454803136\t 0.5372548919033812\t -2.1635198018439372e-18\n"
          ]
        }
      ],
      "source": [
        "### Bayesian optimisation runs (x20): 'GP dEI' Acquisition Function run number = 14 \n",
        "\n",
        "np.random.seed(run_num_14)\n",
        "surrogate_exact_14 = dGaussianProcess(cov_func, optimize=hyperOpt)\n",
        "\n",
        "exact_14 = GPGO_exact(surrogate_exact_14, Acquisition_grad(util), f_syn_polarity, param, n_jobs = -1) # Define BayesOpt\n",
        "exact_14.run(max_iter = max_iter, init_evals = n_init) # run\n"
      ]
    },
    {
      "cell_type": "code",
      "execution_count": 47,
      "metadata": {
        "id": "XmPTh2j_JLlF",
        "colab": {
          "base_uri": "https://localhost:8080/"
        },
        "outputId": "0cd47958-97a4-433d-98ce-224240e879b8"
      },
      "outputs": [
        {
          "output_type": "stream",
          "name": "stdout",
          "text": [
            "Evaluation \t Proposed point \t  Current eval. \t  Best eval. \t         GP dEI: maximum y \t GP dEI: exploit\n",
            "init\t [ 3.57189322 -3.28810573]\t 23.57006045912445\t 5.383887924980681\t    \t    \n",
            "init\t [-4.56332069 -1.41784631]\t 22.834183843344235\t 5.383887924980681\t    \t    \n",
            "init\t [-2.29989449  0.3072023 ]\t 5.383887924980681\t 5.383887924980681\t    \t    \n",
            "init\t [-1.9873903  -2.00218256]\t 7.958455228543059\t 5.383887924980681\t    \t    \n",
            "init\t [-3.97576933 -2.5610341 ]\t 22.365637431409507\t 5.383887924980681\t    \t    \n",
            "1  \t [5.12       4.67669476]\t 48.08587386986069\t 5.383887924980681\t 5.386064667626315\t 5.364765183718506\n",
            "2  \t [-0.5836373  5.12     ]\t 26.555032493543965\t 5.383887924980681\t 5.386057491871865\t 5.364743411528607\n",
            "3  \t [-5.12        3.54942235]\t 38.81279901094424\t 5.383887924980681\t 5.385656207278279\t 5.363693220435916\n",
            "4  \t [2.58493343 0.8618431 ]\t 7.42465433620531\t 5.383887924980681\t 5.384058792111845\t 5.362621504695591\n",
            "5  \t [-0.98214977 -5.12      ]\t 27.17901817882703\t 5.383887924980681\t 5.3671469265449385\t 5.330257780099745\n",
            "6  \t [5.12       0.05371803]\t 26.21728562686703\t 5.383887924980681\t 5.264926909709334\t 5.1801995870585795\n",
            "\u001b[1m\u001b[92m7\u001b[0m\t \u001b[1m\u001b[92m[ 0.79602367 -1.54285557]\u001b[0m\t \u001b[1m\u001b[92m3.0140569942879485\u001b[0m\t \u001b[1m\u001b[92m3.0140569942879485\u001b[0m\t \u001b[1m\u001b[92m5.224281667709298\u001b[0m\t \u001b[1m\u001b[92m5.19755624057399\u001b[0m\n",
            "8  \t [-0.10956268  1.86509132]\t 3.490569612591535\t 3.0140569942879485\t 2.8991542169931748\t 2.6045394485400317\n",
            "9  \t [-5.12 -5.12]\t 52.4288\t 3.0140569942879485\t 2.8982901164838046\t 2.604540033326125\n",
            "10 \t [2.06222148 4.51070733]\t 24.599238093913012\t 3.0140569942879485\t 2.5578107053717156\t 2.189261185978444\n",
            "11 \t [ 1.77988129 -5.12      ]\t 29.382377411351715\t 3.0140569942879485\t 2.399409439791492\t 1.9196505197186176\n",
            "12 \t [-2.22312253  2.60271906]\t 11.716420268764978\t 3.0140569942879485\t 2.487980977159883\t 2.0922312428005965\n",
            "13 \t [-5.12        0.85608198]\t 26.947276355212086\t 3.0140569942879485\t 2.017694932720108\t 1.3676627738789355\n",
            "\u001b[1m\u001b[92m14\u001b[0m\t \u001b[1m\u001b[92m[0.00407569 0.02953719]\u001b[0m\t \u001b[1m\u001b[92m0.0008890567821542255\u001b[0m\t \u001b[1m\u001b[92m0.0008890567821542255\u001b[0m\t \u001b[1m\u001b[92m2.28420720015773\u001b[0m\t \u001b[1m\u001b[92m1.801718494131183\u001b[0m\n",
            "15 \t [ 0.20209549 -0.09399887]\t 0.049678375401887395\t 0.0008890567821542255\t 0.4813334402834212\t -0.0\n",
            "16 \t [ 0.46987659 -0.26595757]\t 0.29151743590426554\t 0.0008890567821542255\t 0.4512344290911817\t -0.0\n",
            "17 \t [-0.06821799  0.08690465]\t 0.012206112119657709\t 0.0008890567821542255\t 0.5108610685802618\t -2.0692990627995162e-36\n",
            "\u001b[1m\u001b[92m18\u001b[0m\t \u001b[1m\u001b[92m[0.00440757 0.01792933]\u001b[0m\t \u001b[1m\u001b[92m0.00034088754891575975\u001b[0m\t \u001b[1m\u001b[92m0.00034088754891575975\u001b[0m\t \u001b[1m\u001b[92m0.5260705610010975\u001b[0m\t \u001b[1m\u001b[92m-4.6349828335758566e-32\u001b[0m\n",
            "19 \t [ 0.24770464 -0.14547316]\t 0.08252003165425355\t 0.00034088754891575975\t 0.5101714956957434\t -1.6809627049266497e-29\n",
            "20 \t [ 0.06976401 -0.02810224]\t 0.005656753431431512\t 0.00034088754891575975\t 0.534298050250321\t -8.803784601223754e-32\n"
          ]
        }
      ],
      "source": [
        "### Bayesian optimisation runs (x20): 'GP dEI' Acquisition Function run number = 15 \n",
        "\n",
        "np.random.seed(run_num_15)\n",
        "surrogate_exact_15 = dGaussianProcess(cov_func, optimize=hyperOpt)\n",
        "\n",
        "exact_15 = GPGO_exact(surrogate_exact_15, Acquisition_grad(util), f_syn_polarity, param, n_jobs = -1) # Define BayesOpt\n",
        "exact_15.run(max_iter = max_iter, init_evals = n_init) # run\n"
      ]
    },
    {
      "cell_type": "code",
      "execution_count": 48,
      "metadata": {
        "id": "6aUP_b73JLlG",
        "colab": {
          "base_uri": "https://localhost:8080/"
        },
        "outputId": "95b4f1a2-06f7-4ac7-c71c-36739f6a5e89"
      },
      "outputs": [
        {
          "output_type": "stream",
          "name": "stdout",
          "text": [
            "Evaluation \t Proposed point \t  Current eval. \t  Best eval. \t         GP dEI: maximum y \t GP dEI: exploit\n",
            "init\t [-2.83349935  0.23719262]\t 8.084978900492077\t 8.084978900492077\t    \t    \n",
            "init\t [ 0.51918292 -4.65303603]\t 21.92029520206884\t 8.084978900492077\t    \t    \n",
            "init\t [-1.42613673 -2.83565116]\t 10.074783446012654\t 8.084978900492077\t    \t    \n",
            "init\t [ 1.9325559  -3.44339021]\t 15.591708419712269\t 8.084978900492077\t    \t    \n",
            "init\t [-4.39987336  4.51595121]\t 39.75270093978162\t 8.084978900492077\t    \t    \n",
            "1  \t [3.27469422 5.12      ]\t 36.93802224021954\t 8.084978900492077\t 8.084990718072902\t 8.084765096566837\n",
            "2  \t [5.12       0.30279176]\t 26.30608285158056\t 8.084978900492077\t 8.084921598492175\t 8.084695866193675\n",
            "3  \t [-5.12 -5.12]\t 52.4288\t 8.084978900492077\t 8.084598853372793\t 8.084373053091264\n",
            "\u001b[1m\u001b[92m4\u001b[0m\t \u001b[1m\u001b[92m[0.90509598 1.39472461]\u001b[0m\t \u001b[1m\u001b[92m2.7644554690851795\u001b[0m\t \u001b[1m\u001b[92m2.7644554690851795\u001b[0m\t \u001b[1m\u001b[92m8.0809249111166\u001b[0m\t \u001b[1m\u001b[92m8.080697359991731\u001b[0m\n",
            "5  \t [-0.22984736  3.68951112]\t 13.665322149736932\t 2.7644554690851795\t 2.7775076338434554\t 2.4509481777040776\n",
            "6  \t [ 5.12       -3.30856148]\t 37.16097906009051\t 2.7644554690851795\t 2.7841535046300607\t 2.464261492396408\n",
            "7  \t [ 1.7662653  -0.53438298]\t 3.405258277603221\t 2.7644554690851795\t 2.595393481547233\t 2.1625710366020523\n",
            "8  \t [-5.12       -1.51268572]\t 28.502618085438144\t 2.7644554690851795\t 2.744647099790307\t 2.1968623183632037\n",
            "9  \t [5.12      3.3086868]\t 37.16180831487841\t 2.7644554690851795\t 2.140199615669514\t 1.8487373303493926\n",
            "\u001b[1m\u001b[92m10\u001b[0m\t \u001b[1m\u001b[92m[-0.48087732  0.05527956]\u001b[0m\t \u001b[1m\u001b[92m0.23429882986242453\u001b[0m\t \u001b[1m\u001b[92m0.23429882986242453\u001b[0m\t \u001b[1m\u001b[92m2.3152635694265387\u001b[0m\t \u001b[1m\u001b[92m1.8756536310162641\u001b[0m\n",
            "11 \t [-0.50124305  0.10819238]\t 0.2629501819446529\t 0.23429882986242453\t 0.6005054707439351\t -7.872490887434868e-21\n",
            "12 \t [-5.02293657  1.37920789]\t 27.132106203787\t 0.23429882986242453\t 0.6621772074694194\t -0.0\n",
            "13 \t [-0.49642079 -0.0187559 ]\t 0.24678538489412463\t 0.23429882986242453\t 0.5973146065445906\t -1.0307404252430444e-13\n",
            "14 \t [-0.18894068 -0.59428007]\t 0.388867377503376\t 0.23429882986242453\t 0.6154193913158107\t -0.0\n",
            "15 \t [-0.36667908 -0.3198913 ]\t 0.23678399065098557\t 0.23429882986242453\t 0.5882695457772926\t -7.102050404146015e-33\n",
            "\u001b[1m\u001b[92m16\u001b[0m\t \u001b[1m\u001b[92m[-0.46743382 -0.01963764]\u001b[0m\t \u001b[1m\u001b[92m0.21888000877024152\u001b[0m\t \u001b[1m\u001b[92m0.21888000877024152\u001b[0m\t \u001b[1m\u001b[92m0.5806029706106112\u001b[0m\t \u001b[1m\u001b[92m-1.467303835589846e-18\u001b[0m\n",
            "\u001b[1m\u001b[92m17\u001b[0m\t \u001b[1m\u001b[92m[-0.4315415  -0.17539525]\u001b[0m\t \u001b[1m\u001b[92m0.2169915548780856\u001b[0m\t \u001b[1m\u001b[92m0.2169915548780856\u001b[0m\t \u001b[1m\u001b[92m0.5753422157875829\u001b[0m\t \u001b[1m\u001b[92m-6.639506214345168e-26\u001b[0m\n",
            "18 \t [-0.49644731  0.18803696]\t 0.2818178268354032\t 0.2169915548780856\t 0.5662046060867354\t -6.31776411956297e-17\n",
            "19 \t [-0.49853445  0.11977554]\t 0.2628827753088532\t 0.2169915548780856\t 0.5627685408058398\t -5.4307137633262564e-39\n",
            "20 \t [-0.55174454  0.41381094]\t 0.47566153767150715\t 0.2169915548780856\t 0.5526113087865205\t -0.0\n"
          ]
        }
      ],
      "source": [
        "### Bayesian optimisation runs (x20): 'GP dEI' Acquisition Function run number = 16 \n",
        "\n",
        "np.random.seed(run_num_16)\n",
        "surrogate_exact_16 = dGaussianProcess(cov_func, optimize=hyperOpt)\n",
        "\n",
        "exact_16 = GPGO_exact(surrogate_exact_16, Acquisition_grad(util), f_syn_polarity, param, n_jobs = -1) # Define BayesOpt\n",
        "exact_16.run(max_iter = max_iter, init_evals = n_init) # run\n"
      ]
    },
    {
      "cell_type": "code",
      "execution_count": 49,
      "metadata": {
        "id": "TV8_B_7cJLlH",
        "colab": {
          "base_uri": "https://localhost:8080/"
        },
        "outputId": "61c83a5e-f20b-494e-8e5d-977408906211"
      },
      "outputs": [
        {
          "output_type": "stream",
          "name": "stdout",
          "text": [
            "Evaluation \t Proposed point \t  Current eval. \t  Best eval. \t         GP dEI: maximum y \t GP dEI: exploit\n",
            "init\t [-2.10263037  0.31320838]\t 4.519153970964611\t 2.5824114132885994\t    \t    \n",
            "init\t [-3.15882714 -4.42470033]\t 29.556161939946307\t 2.5824114132885994\t    \t    \n",
            "init\t [2.93873111 1.60085526]\t 11.198878112253603\t 2.5824114132885994\t    \t    \n",
            "init\t [1.40821398 0.77417363]\t 2.5824114132885994\t 2.5824114132885994\t    \t    \n",
            "init\t [-4.71999574 -1.45598869]\t 24.39826283453718\t 2.5824114132885994\t    \t    \n",
            "1  \t [ 4.96008736 -4.44720822]\t 44.38012757656366\t 2.5824114132885994\t 2.6751832097646906\t 2.328518566309753\n",
            "2  \t [-1.21990793  5.12      ]\t 27.70257535209655\t 2.5824114132885994\t 2.6751668747334127\t 2.3284017541156663\n",
            "3  \t [5.12 5.12]\t 52.4288\t 2.5824114132885994\t 2.67423926333734\t 2.327340283293416\n",
            "4  \t [ 0.90891898 -3.03876689]\t 10.060237903108394\t 2.5824114132885994\t 2.6713887357979926\t 2.293670898152037\n",
            "5  \t [-4.82762476  2.72283122]\t 30.719770625377336\t 2.5824114132885994\t 2.6696941317977565\t 2.2496299676036755\n",
            "6  \t [5.02845008 0.21349356]\t 25.330889731953516\t 2.5824114132885994\t 2.4621639281159156\t 2.0420631326814433\n",
            "7  \t [-0.24487835  2.10661128]\t 4.497776491685344\t 2.5824114132885994\t 2.431206569757259\t 1.9002449835498096\n",
            "8  \t [1.84859581 5.12      ]\t 29.631706478505965\t 2.5824114132885994\t 2.4457943852858484\t 1.813197966354827\n",
            "9  \t [-0.12747702 -5.12      ]\t 26.23065039007197\t 2.5824114132885994\t 2.2752896387086285\t 1.7295537991151426\n",
            "\u001b[1m\u001b[92m10\u001b[0m\t \u001b[1m\u001b[92m[-0.15543241 -0.50416569]\u001b[0m\t \u001b[1m\u001b[92m0.27834227115707555\u001b[0m\t \u001b[1m\u001b[92m0.27834227115707555\u001b[0m\t \u001b[1m\u001b[92m2.2430004249901057\u001b[0m\t \u001b[1m\u001b[92m1.6928097575813443\u001b[0m\n",
            "11 \t [ 2.82141853 -1.62210961]\t 10.591642119534711\t 0.27834227115707555\t 0.6657420602638747\t -1.6246585993535385e-08\n",
            "12 \t [-1.44726022 -1.56621344]\t 4.547586682146996\t 0.27834227115707555\t 0.6882821163266287\t -1.044690963218148e-13\n",
            "13 \t [ 0.55496638 -0.53860436]\t 0.5980823390169467\t 0.27834227115707555\t 0.5958259562929782\t -8.481708197605601e-31\n",
            "\u001b[1m\u001b[92m14\u001b[0m\t \u001b[1m\u001b[92m[-0.03051952  0.12968737]\u001b[0m\t \u001b[1m\u001b[92m0.017750256068549304\u001b[0m\t \u001b[1m\u001b[92m0.017750256068549304\u001b[0m\t \u001b[1m\u001b[92m0.5405984810994136\u001b[0m\t \u001b[1m\u001b[92m-3.2812238312645398e-46\u001b[0m\n",
            "15 \t [ 0.1456551  -0.05886513]\t 0.024680510579008184\t 0.017750256068549304\t 0.5100201365839334\t -2.895723511101369e-09\n",
            "16 \t [ 0.26260449 -0.19139533]\t 0.10559328890610786\t 0.017750256068549304\t 0.5250560043164493\t -4.060407631259145e-11\n",
            "17 \t [ 0.20711435 -0.12237569]\t 0.0578721637461728\t 0.017750256068549304\t 0.5249853381018295\t -7.762583365390286e-11\n",
            "18 \t [ 0.19588774 -0.11789925]\t 0.05227223871563122\t 0.017750256068549304\t 0.5277834524357709\t -2.785493432895562e-13\n",
            "19 \t [ 0.64523447 -0.59131723]\t 0.765983585313585\t 0.017750256068549304\t 0.43652717574631567\t -1.6023833986250552e-11\n",
            "20 \t [ 0.5097993  -0.45871716]\t 0.4703167627456454\t 0.017750256068549304\t 0.45042351920827045\t -3.6347821350147693e-16\n"
          ]
        }
      ],
      "source": [
        "### Bayesian optimisation runs (x20): 'GP dEI' Acquisition Function run number = 17 \n",
        "\n",
        "np.random.seed(run_num_17)\n",
        "surrogate_exact_17 = dGaussianProcess(cov_func, optimize=hyperOpt)\n",
        "\n",
        "exact_17 = GPGO_exact(surrogate_exact_17, Acquisition_grad(util), f_syn_polarity, param, n_jobs = -1) # Define BayesOpt\n",
        "exact_17.run(max_iter = max_iter, init_evals = n_init) # run\n"
      ]
    },
    {
      "cell_type": "code",
      "execution_count": 50,
      "metadata": {
        "id": "57ABzGR1JLlI",
        "colab": {
          "base_uri": "https://localhost:8080/"
        },
        "outputId": "252b278c-fbce-41ab-c44f-312a6bcc657d"
      },
      "outputs": [
        {
          "output_type": "stream",
          "name": "stdout",
          "text": [
            "Evaluation \t Proposed point \t  Current eval. \t  Best eval. \t         GP dEI: maximum y \t GP dEI: exploit\n",
            "init\t [1.53983224 0.05584255]\t 2.3742017032787373\t 2.3742017032787373\t    \t    \n",
            "init\t [ 3.87687906 -3.25795609]\t 25.644469161882945\t 2.3742017032787373\t    \t    \n",
            "init\t [3.60686662 2.56139557]\t 19.570234102364928\t 2.3742017032787373\t    \t    \n",
            "init\t [1.70088108 4.99604939]\t 27.853505942237412\t 2.3742017032787373\t    \t    \n",
            "init\t [-2.48864335 -4.83014733]\t 29.523668919355142\t 2.3742017032787373\t    \t    \n",
            "1  \t [-5.00718904  2.9174042 ]\t 33.58318939621877\t 2.3742017032787373\t 2.489407676741919\t 2.0950100002294367\n",
            "2  \t [-2.20660477 -0.45183714]\t 5.073261429346723\t 2.3742017032787373\t 2.4867349492798945\t 2.0914950138416426\n",
            "3  \t [-1.33223764  2.98566968]\t 10.689080551059877\t 2.3742017032787373\t 2.451496800344446\t 2.0469146044376703\n",
            "4  \t [-5.12      -1.9319886]\t 29.946979952812764\t 2.3742017032787373\t 2.472466381686154\t 2.040228200426281\n",
            "5  \t [ 0.17835775 -2.37604674]\t 5.677409592475777\t 2.3742017032787373\t 2.422009240604259\t 2.0125528085196716\n",
            "6  \t [ 0.76019233 -5.09422476]\t 26.529018326324856\t 2.3742017032787373\t 2.358144074728623\t 1.9629072650692492\n",
            "7  \t [5.12 5.12]\t 52.4288\t 2.3742017032787373\t 2.352012549775865\t 1.9204170796273439\n",
            "8  \t [-5.12 -5.12]\t 52.4288\t 2.3742017032787373\t 2.032271041446318\t 1.5094395283361184\n",
            "9  \t [5.12000000e+00 4.87881459e-03]\t 26.21442380283184\t 2.3742017032787373\t 2.361001442464519\t 1.455624559998289\n",
            "10 \t [-2.78212984  5.12      ]\t 33.95464647438897\t 2.3742017032787373\t 2.215528850960137\t 1.6928976526679123\n",
            "\u001b[1m\u001b[92m11\u001b[0m\t \u001b[1m\u001b[92m[0.10037991 0.52126672]\u001b[0m\t \u001b[1m\u001b[92m0.2817951190899045\u001b[0m\t \u001b[1m\u001b[92m0.2817951190899045\u001b[0m\t \u001b[1m\u001b[92m1.9776006249914049\u001b[0m\t \u001b[1m\u001b[92m1.4433875577225572\u001b[0m\n",
            "12 \t [0.35005638 1.25449049]\t 1.6962858553300455\t 0.2817951190899045\t 0.6441700985225497\t -3.473830355735135e-18\n",
            "\u001b[1m\u001b[92m13\u001b[0m\t \u001b[1m\u001b[92m[-0.31608194  0.27381541]\u001b[0m\t \u001b[1m\u001b[92m0.17488267403911245\u001b[0m\t \u001b[1m\u001b[92m0.17488267403911245\u001b[0m\t \u001b[1m\u001b[92m0.5448007236711596\u001b[0m\t \u001b[1m\u001b[92m-1.1455436424735159e-20\u001b[0m\n",
            "\u001b[1m\u001b[92m14\u001b[0m\t \u001b[1m\u001b[92m[-0.17300564  0.03485954]\u001b[0m\t \u001b[1m\u001b[92m0.03114613932096378\u001b[0m\t \u001b[1m\u001b[92m0.03114613932096378\u001b[0m\t \u001b[1m\u001b[92m0.5318250243869416\u001b[0m\t \u001b[1m\u001b[92m-3.661894710832637e-36\u001b[0m\n",
            "\u001b[1m\u001b[92m15\u001b[0m\t \u001b[1m\u001b[92m[-0.12559071 -0.06675054]\u001b[0m\t \u001b[1m\u001b[92m0.02022866062775082\u001b[0m\t \u001b[1m\u001b[92m0.02022866062775082\u001b[0m\t \u001b[1m\u001b[92m0.4964411216110724\u001b[0m\t \u001b[1m\u001b[92m-8.122319268682612e-20\u001b[0m\n",
            "16 \t [-0.23898179  0.07230564]\t 0.06234040067104874\t 0.02022866062775082\t 0.5086408379902485\t -9.343648068714563e-10\n",
            "17 \t [ 0.35771579 -0.48775535]\t 0.36586587000041926\t 0.02022866062775082\t 0.4379785288333222\t -0.0\n",
            "18 \t [-2.95574112  0.95779428]\t 9.65377542727946\t 0.02022866062775082\t 0.3382163875728007\t -4.643698401465978e-14\n",
            "19 \t [-0.53730494  0.63365804]\t 0.690219105577363\t 0.02022866062775082\t 0.40557441442978615\t -0.0\n",
            "20 \t [-0.107596   -0.17590103]\t 0.04251807042281554\t 0.02022866062775082\t 0.5247838996215503\t -0.0\n"
          ]
        }
      ],
      "source": [
        "### Bayesian optimisation runs (x20): 'GP dEI' Acquisition Function run number = 18 \n",
        "\n",
        "np.random.seed(run_num_18)\n",
        "surrogate_exact_18 = dGaussianProcess(cov_func, optimize=hyperOpt)\n",
        "\n",
        "exact_18 = GPGO_exact(surrogate_exact_18, Acquisition_grad(util), f_syn_polarity, param, n_jobs = -1) # Define BayesOpt\n",
        "exact_18.run(max_iter = max_iter, init_evals = n_init) # run\n"
      ]
    },
    {
      "cell_type": "code",
      "execution_count": 51,
      "metadata": {
        "id": "x2CyIorrJLlJ",
        "colab": {
          "base_uri": "https://localhost:8080/"
        },
        "outputId": "cf8e5808-bca6-48bd-cf52-9241d3e5decf"
      },
      "outputs": [
        {
          "output_type": "stream",
          "name": "stdout",
          "text": [
            "Evaluation \t Proposed point \t  Current eval. \t  Best eval. \t         GP dEI: maximum y \t GP dEI: exploit\n",
            "init\t [-4.12125592  2.6751971 ]\t 24.141429859518958\t 12.957869519084127\t    \t    \n",
            "init\t [-2.59135515 -3.70553152]\t 20.446085385698954\t 12.957869519084127\t    \t    \n",
            "init\t [-1.72598719 -4.27008445]\t 21.212653034418548\t 12.957869519084127\t    \t    \n",
            "init\t [1.76104531 3.13952049]\t 12.957869519084127\t 12.957869519084127\t    \t    \n",
            "init\t [4.9432772  1.38916592]\t 26.36577149009895\t 12.957869519084127\t    \t    \n",
            "1  \t [ 4.82668731 -3.73098301]\t 37.21714456946748\t 12.957869519084127\t 12.957842947554632\t 12.957842946941906\n",
            "\u001b[1m\u001b[92m2\u001b[0m\t \u001b[1m\u001b[92m[-0.64696019 -0.05249445]\u001b[0m\t \u001b[1m\u001b[92m0.4213131500748724\u001b[0m\t \u001b[1m\u001b[92m0.4213131500748724\u001b[0m\t \u001b[1m\u001b[92m12.952859473608974\u001b[0m\t \u001b[1m\u001b[92m12.95285947299754\u001b[0m\n",
            "3  \t [5.12 5.12]\t 52.4288\t 0.4213131500748724\t 1.0171312288936203\t 0.2354998550138635\n",
            "4  \t [-5.12       -1.17676652]\t 27.599179438918725\t 0.4213131500748724\t 1.0159262785670076\t 0.23249487543809205\n",
            "5  \t [ 1.49625134 -0.9344517 ]\t 3.111968058662604\t 0.4213131500748724\t 1.0142499642966976\t 0.23104710317326752\n",
            "6  \t [-1.13623457  5.12      ]\t 27.50542900409558\t 0.4213131500748724\t 1.014122495371613\t 0.20569916904371172\n",
            "7  \t [-5.12 -5.12]\t 52.4288\t 0.4213131500748724\t 0.9458935172559167\t 0.15704516785701705\n",
            "8  \t [ 1.40903202 -5.118352  ]\t 28.182898481697215\t 0.4213131500748724\t 0.9888500613360013\t 0.19957759492721047\n",
            "9  \t [-1.129485    1.49044072]\t 3.497149921203787\t 0.4213131500748724\t 0.9296022175534024\t 0.16034808812237383\n",
            "10 \t [-1.124361   -0.95266215]\t 2.1717528409190026\t 0.4213131500748724\t 0.8867261637608871\t 0.12735737643388909\n",
            "11 \t [0.6341959  0.56043726]\t 0.7162943566728293\t 0.4213131500748724\t 0.6764354391000691\t -0.0\n",
            "12 \t [ 3.7159318 -1.1984329]\t 15.244390559818866\t 0.4213131500748724\t 0.642804259322946\t -7.240607710497743e-12\n",
            "13 \t [-2.48735293  0.07616529]\t 6.192725764152591\t 0.4213131500748724\t 0.6385966919721097\t -0.0\n",
            "14 \t [ 0.54979027 -2.29741603]\t 5.580389775714139\t 0.4213131500748724\t 0.6606049417363309\t -5.711050705305279e-08\n",
            "\u001b[1m\u001b[92m15\u001b[0m\t \u001b[1m\u001b[92m[0.28678078 0.39640131]\u001b[0m\t \u001b[1m\u001b[92m0.2393772147734737\u001b[0m\t \u001b[1m\u001b[92m0.2393772147734737\u001b[0m\t \u001b[1m\u001b[92m0.615630157045541\u001b[0m\t \u001b[1m\u001b[92m-0.0\u001b[0m\n",
            "\u001b[1m\u001b[92m16\u001b[0m\t \u001b[1m\u001b[92m[0.24467325 0.42114964]\u001b[0m\t \u001b[1m\u001b[92m0.2372320181346338\u001b[0m\t \u001b[1m\u001b[92m0.2372320181346338\u001b[0m\t \u001b[1m\u001b[92m0.5420476212102147\u001b[0m\t \u001b[1m\u001b[92m-0.0\u001b[0m\n",
            "17 \t [0.20782688 0.45788375]\t 0.2528495386063758\t 0.2372320181346338\t 0.542900213984977\t -2.3405767164847567e-08\n",
            "18 \t [0.02915492 1.28593359]\t 1.6544752134905365\t 0.2372320181346338\t 0.41377038659394644\t -2.7616047964514337e-14\n",
            "\u001b[1m\u001b[92m19\u001b[0m\t \u001b[1m\u001b[92m[0.209095   0.08426727]\u001b[0m\t \u001b[1m\u001b[92m0.05082168986724868\u001b[0m\t \u001b[1m\u001b[92m0.05082168986724868\u001b[0m\t \u001b[1m\u001b[92m0.5508277042600978\u001b[0m\t \u001b[1m\u001b[92m-0.0\u001b[0m\n",
            "20 \t [1.03361194 0.39052613]\t 1.2208643017068623\t 0.05082168986724868\t 0.45913629288633495\t -4.007723172475774e-16\n"
          ]
        }
      ],
      "source": [
        "### Bayesian optimisation runs (x20): 'GP dEI' Acquisition Function run number = 19 \n",
        "\n",
        "np.random.seed(run_num_19)\n",
        "surrogate_exact_19 = dGaussianProcess(cov_func, optimize=hyperOpt)\n",
        "\n",
        "exact_19 = GPGO_exact(surrogate_exact_19, Acquisition_grad(util), f_syn_polarity, param, n_jobs = -1) # Define BayesOpt\n",
        "exact_19.run(max_iter = max_iter, init_evals = n_init) # run\n"
      ]
    },
    {
      "cell_type": "code",
      "execution_count": 52,
      "metadata": {
        "id": "4O6_IplWJLlJ",
        "colab": {
          "base_uri": "https://localhost:8080/"
        },
        "outputId": "090988c6-aea6-46da-d6f7-ebbc1537b26f"
      },
      "outputs": [
        {
          "output_type": "stream",
          "name": "stdout",
          "text": [
            "Evaluation \t Proposed point \t  Current eval. \t  Best eval. \t         GP dEI: maximum y \t GP dEI: exploit\n",
            "init\t [0.9024594  4.07258857]\t 17.400410665504328\t 1.579257056101869\t    \t    \n",
            "init\t [4.00927467 3.23417577]\t 26.53417627399789\t 1.579257056101869\t    \t    \n",
            "init\t [-4.75249064  1.96359764]\t 26.44188299535699\t 1.579257056101869\t    \t    \n",
            "init\t [-1.24230715  0.18955208]\t 1.579257056101869\t 1.579257056101869\t    \t    \n",
            "init\t [ 1.61742301 -3.13497377]\t 12.44411771617229\t 1.579257056101869\t    \t    \n",
            "1  \t [-3.59633469 -5.12      ]\t 39.1480231675953\t 1.579257056101869\t 1.8240963904605108\t 1.2399183345336837\n",
            "2  \t [ 5.12       -1.04833609]\t 27.313408558419926\t 1.579257056101869\t 1.8223127630306013\t 1.237561691858708\n",
            "3  \t [-2.35021732  4.6689615 ]\t 27.322722964184308\t 1.579257056101869\t 1.7806827280969495\t 1.1837071461292823\n",
            "4  \t [-3.87977034 -1.48779248]\t 17.266144365339457\t 1.579257056101869\t 1.7811368477317673\t 1.1010064238394193\n",
            "5  \t [1.79013693 0.16049596]\t 3.2303491925659467\t 1.579257056101869\t 1.7671983487934206\t 1.1557640859454466\n",
            "6  \t [ 4.33836544 -4.78778528]\t 41.74430258137417\t 1.579257056101869\t 1.7862670655902047\t 1.1908554661227406\n",
            "7  \t [-0.3090481 -5.12     ]\t 26.309910727138\t 1.579257056101869\t 1.6529867946520829\t 1.0036121901206045\n",
            "8  \t [-1.4096144   1.78628651]\t 5.177832253808251\t 1.579257056101869\t 1.4872972455505917\t 0.81236100785321\n",
            "9  \t [-0.85547838 -1.25901017]\t 2.3169498794915446\t 1.579257056101869\t 1.576531497995097\t 0.8492918222511682\n",
            "10 \t [-1.30997408 -2.53831725]\t 8.159086529106625\t 1.579257056101869\t 1.1046705337092502\t 0.32512901107009884\n",
            "\u001b[1m\u001b[92m11\u001b[0m\t \u001b[1m\u001b[92m[ 6.23377805e-05 -7.69397210e-02]\u001b[0m\t \u001b[1m\u001b[92m0.005919724552738908\u001b[0m\t \u001b[1m\u001b[92m0.005919724552738908\u001b[0m\t \u001b[1m\u001b[92m1.2177987041919247\u001b[0m\t \u001b[1m\u001b[92m0.4966453179368547\u001b[0m\n",
            "12 \t [0.39510686 1.13152359]\t 1.4364550662649131\t 0.005919724552738908\t 0.4534321928833562\t -5.246561474298141e-24\n",
            "13 \t [-0.38670043  0.09549648]\t 0.15865680101345797\t 0.005919724552738908\t 0.393449807040879\t -3.951333804897054e-15\n",
            "14 \t [-1.07123757  0.06714469]\t 1.1520583463245002\t 0.005919724552738908\t 0.2997139013100271\t -1.5331006075926417e-12\n",
            "15 \t [ 0.00517704 -0.2241199 ]\t 0.05025653053265468\t 0.005919724552738908\t 0.4888060044901522\t -3.2565558297823396e-15\n",
            "16 \t [5.12 5.12]\t 52.4288\t 0.005919724552738908\t 0.3360988312032774\t -5.865307205973763e-27\n",
            "17 \t [-0.16257244 -0.01889027]\t 0.026786641117638677\t 0.005919724552738908\t 0.4672716074234009\t -4.3283745161021045e-13\n",
            "18 \t [ 0.13299332 -0.37640499]\t 0.15936794268751525\t 0.005919724552738908\t 0.5263105015801424\t -5.763213587163761e-14\n",
            "19 \t [ 0.30635614 -0.57448327]\t 0.4238851128676898\t 0.005919724552738908\t 0.5054848271944677\t -1.2115361626404187e-12\n",
            "20 \t [ 0.29036069 -0.55764543]\t 0.39527775512327756\t 0.005919724552738908\t 0.47689084878627314\t -1.6592087246867158e-10\n"
          ]
        }
      ],
      "source": [
        "### Bayesian optimisation runs (x20): 'GP dEI' Acquisition Function run number = 20 \n",
        "\n",
        "np.random.seed(run_num_20)\n",
        "surrogate_exact_20 = dGaussianProcess(cov_func, optimize=hyperOpt)\n",
        "\n",
        "exact_20 = GPGO_exact(surrogate_exact_20, Acquisition_grad(util), f_syn_polarity, param, n_jobs = -1) # Define BayesOpt\n",
        "exact_20.run(max_iter = max_iter, init_evals = n_init) # run\n"
      ]
    },
    {
      "cell_type": "code",
      "execution_count": 53,
      "metadata": {
        "id": "B9S2UvZ9JLlK",
        "colab": {
          "base_uri": "https://localhost:8080/"
        },
        "outputId": "725da40c-bbb4-436d-9e10-e84b94350f16"
      },
      "outputs": [
        {
          "output_type": "execute_result",
          "data": {
            "text/plain": [
              "(-2.691702328576687, -4.193036367682318)"
            ]
          },
          "metadata": {},
          "execution_count": 53
        }
      ],
      "source": [
        "### Simple regret minimisation: run number = 1\n",
        "\n",
        "approx_output_1 = np.append(np.max(approx_1.GP.y[0:n_init]),approx_1.GP.y[n_init:(n_init+max_iter)]) \n",
        "exact_output_1 = np.append(np.max(exact_1.GP.y[0:n_init]),exact_1.GP.y[n_init:(n_init+max_iter)]) \n",
        "\n",
        "regret_approx_1 = np.log(y_global_orig - approx_output_1)\n",
        "regret_exact_1 = np.log(y_global_orig - exact_output_1)\n",
        "\n",
        "simple_regret_approx_1 = min_array(regret_approx_1)\n",
        "simple_regret_exact_1 = min_array(regret_exact_1)\n",
        "\n",
        "min_simple_regret_approx_1 = min(simple_regret_approx_1)\n",
        "min_simple_regret_exact_1 = min(simple_regret_exact_1)\n",
        "\n",
        "min_simple_regret_approx_1, min_simple_regret_exact_1\n"
      ]
    },
    {
      "cell_type": "code",
      "execution_count": 54,
      "metadata": {
        "id": "adGcU8l5JLlK",
        "colab": {
          "base_uri": "https://localhost:8080/"
        },
        "outputId": "d66a320a-49e9-4e3a-fee1-52bb63a1e27c"
      },
      "outputs": [
        {
          "output_type": "execute_result",
          "data": {
            "text/plain": [
              "(-2.7118396461103873, -4.326287391135164)"
            ]
          },
          "metadata": {},
          "execution_count": 54
        }
      ],
      "source": [
        "### Simple regret minimisation: run number = 2\n",
        "\n",
        "approx_output_2 = np.append(np.max(approx_2.GP.y[0:n_init]),approx_2.GP.y[n_init:(n_init+max_iter)]) \n",
        "exact_output_2 = np.append(np.max(exact_2.GP.y[0:n_init]),exact_2.GP.y[n_init:(n_init+max_iter)]) \n",
        "\n",
        "regret_approx_2 = np.log(y_global_orig - approx_output_2)\n",
        "regret_exact_2 = np.log(y_global_orig - exact_output_2)\n",
        "\n",
        "simple_regret_approx_2 = min_array(regret_approx_2)\n",
        "simple_regret_exact_2 = min_array(regret_exact_2)\n",
        "\n",
        "min_simple_regret_approx_2 = min(simple_regret_approx_2)\n",
        "min_simple_regret_exact_2 = min(simple_regret_exact_2)\n",
        "\n",
        "min_simple_regret_approx_2, min_simple_regret_exact_2\n"
      ]
    },
    {
      "cell_type": "code",
      "execution_count": 55,
      "metadata": {
        "id": "1F9LaViaJLlL",
        "colab": {
          "base_uri": "https://localhost:8080/"
        },
        "outputId": "bcb664aa-11c1-4374-98c9-f35da4977d4a"
      },
      "outputs": [
        {
          "output_type": "execute_result",
          "data": {
            "text/plain": [
              "(-4.36082570159807, -3.3716348667067533)"
            ]
          },
          "metadata": {},
          "execution_count": 55
        }
      ],
      "source": [
        "### Simple regret minimisation: run number = 3\n",
        "\n",
        "approx_output_3 = np.append(np.max(approx_3.GP.y[0:n_init]),approx_3.GP.y[n_init:(n_init+max_iter)]) \n",
        "exact_output_3 = np.append(np.max(exact_3.GP.y[0:n_init]),exact_3.GP.y[n_init:(n_init+max_iter)]) \n",
        "\n",
        "regret_approx_3 = np.log(y_global_orig - approx_output_3)\n",
        "regret_exact_3 = np.log(y_global_orig - exact_output_3)\n",
        "\n",
        "simple_regret_approx_3 = min_array(regret_approx_3)\n",
        "simple_regret_exact_3 = min_array(regret_exact_3)\n",
        "\n",
        "min_simple_regret_approx_3 = min(simple_regret_approx_3)\n",
        "min_simple_regret_exact_3 = min(simple_regret_exact_3)\n",
        "\n",
        "min_simple_regret_approx_3, min_simple_regret_exact_3\n"
      ]
    },
    {
      "cell_type": "code",
      "execution_count": 56,
      "metadata": {
        "id": "vThMylZmJLlL",
        "colab": {
          "base_uri": "https://localhost:8080/"
        },
        "outputId": "9637a57d-7160-4786-c1ae-f632901d7efe"
      },
      "outputs": [
        {
          "output_type": "execute_result",
          "data": {
            "text/plain": [
              "(-2.5442862753741444, -3.4798091404251115)"
            ]
          },
          "metadata": {},
          "execution_count": 56
        }
      ],
      "source": [
        "### Simple regret minimisation: run number = 4\n",
        "\n",
        "approx_output_4 = np.append(np.max(approx_4.GP.y[0:n_init]),approx_4.GP.y[n_init:(n_init+max_iter)]) \n",
        "exact_output_4 = np.append(np.max(exact_4.GP.y[0:n_init]),exact_4.GP.y[n_init:(n_init+max_iter)]) \n",
        "\n",
        "regret_approx_4 = np.log(y_global_orig - approx_output_4)\n",
        "regret_exact_4 = np.log(y_global_orig - exact_output_4)\n",
        "\n",
        "simple_regret_approx_4 = min_array(regret_approx_4)\n",
        "simple_regret_exact_4 = min_array(regret_exact_4)\n",
        "\n",
        "min_simple_regret_approx_4 = min(simple_regret_approx_4)\n",
        "min_simple_regret_exact_4 = min(simple_regret_exact_4)\n",
        "\n",
        "min_simple_regret_approx_4, min_simple_regret_exact_4\n"
      ]
    },
    {
      "cell_type": "code",
      "execution_count": 57,
      "metadata": {
        "id": "9Um6_WG7JLlM",
        "colab": {
          "base_uri": "https://localhost:8080/"
        },
        "outputId": "e20e2685-1bc2-4665-e356-d999e9af979b"
      },
      "outputs": [
        {
          "output_type": "execute_result",
          "data": {
            "text/plain": [
              "(-3.7485719317900474, -3.027565175434435)"
            ]
          },
          "metadata": {},
          "execution_count": 57
        }
      ],
      "source": [
        "### Simple regret minimisation: run number = 5\n",
        "\n",
        "approx_output_5 = np.append(np.max(approx_5.GP.y[0:n_init]),approx_5.GP.y[n_init:(n_init+max_iter)]) \n",
        "exact_output_5 = np.append(np.max(exact_5.GP.y[0:n_init]),exact_5.GP.y[n_init:(n_init+max_iter)]) \n",
        "\n",
        "regret_approx_5 = np.log(y_global_orig - approx_output_5)\n",
        "regret_exact_5 = np.log(y_global_orig - exact_output_5)\n",
        "\n",
        "simple_regret_approx_5 = min_array(regret_approx_5)\n",
        "simple_regret_exact_5 = min_array(regret_exact_5)\n",
        "\n",
        "min_simple_regret_approx_5 = min(simple_regret_approx_5)\n",
        "min_simple_regret_exact_5 = min(simple_regret_exact_5)\n",
        "\n",
        "min_simple_regret_approx_5, min_simple_regret_exact_5\n"
      ]
    },
    {
      "cell_type": "code",
      "execution_count": 58,
      "metadata": {
        "id": "s7F8Y3b9JLlM",
        "colab": {
          "base_uri": "https://localhost:8080/"
        },
        "outputId": "13b4e382-68b5-4534-8465-ad5f69bfcd79"
      },
      "outputs": [
        {
          "output_type": "execute_result",
          "data": {
            "text/plain": [
              "(-3.1851609777916896, -2.471962941011188)"
            ]
          },
          "metadata": {},
          "execution_count": 58
        }
      ],
      "source": [
        "### Simple regret minimisation: run number = 6\n",
        "\n",
        "approx_output_6 = np.append(np.max(approx_6.GP.y[0:n_init]),approx_6.GP.y[n_init:(n_init+max_iter)]) \n",
        "exact_output_6 = np.append(np.max(exact_6.GP.y[0:n_init]),exact_6.GP.y[n_init:(n_init+max_iter)]) \n",
        "\n",
        "regret_approx_6 = np.log(y_global_orig - approx_output_6)\n",
        "regret_exact_6 = np.log(y_global_orig - exact_output_6)\n",
        "\n",
        "simple_regret_approx_6 = min_array(regret_approx_6)\n",
        "simple_regret_exact_6 = min_array(regret_exact_6)\n",
        "\n",
        "min_simple_regret_approx_6 = min(simple_regret_approx_6)\n",
        "min_simple_regret_exact_6 = min(simple_regret_exact_6)\n",
        "\n",
        "min_simple_regret_approx_6, min_simple_regret_exact_6\n"
      ]
    },
    {
      "cell_type": "code",
      "execution_count": 59,
      "metadata": {
        "id": "FbMNex-gJLlN",
        "colab": {
          "base_uri": "https://localhost:8080/"
        },
        "outputId": "cf935690-6dc5-4c7c-daa8-7a918643ebb4"
      },
      "outputs": [
        {
          "output_type": "execute_result",
          "data": {
            "text/plain": [
              "(-4.380699507816262, -4.6151548390674915)"
            ]
          },
          "metadata": {},
          "execution_count": 59
        }
      ],
      "source": [
        "### Simple regret minimisation: run number = 7\n",
        "\n",
        "approx_output_7 = np.append(np.max(approx_7.GP.y[0:n_init]),approx_7.GP.y[n_init:(n_init+max_iter)]) \n",
        "exact_output_7 = np.append(np.max(exact_7.GP.y[0:n_init]),exact_7.GP.y[n_init:(n_init+max_iter)]) \n",
        "\n",
        "regret_approx_7 = np.log(y_global_orig - approx_output_7)\n",
        "regret_exact_7 = np.log(y_global_orig - exact_output_7)\n",
        "\n",
        "simple_regret_approx_7 = min_array(regret_approx_7)\n",
        "simple_regret_exact_7 = min_array(regret_exact_7)\n",
        "\n",
        "min_simple_regret_approx_7 = min(simple_regret_approx_7)\n",
        "min_simple_regret_exact_7 = min(simple_regret_exact_7)\n",
        "\n",
        "min_simple_regret_approx_7, min_simple_regret_exact_7\n"
      ]
    },
    {
      "cell_type": "code",
      "execution_count": 60,
      "metadata": {
        "id": "yTxbjos2JLlN",
        "colab": {
          "base_uri": "https://localhost:8080/"
        },
        "outputId": "c5a7919a-db7d-41f1-b67b-d802f7f5e331"
      },
      "outputs": [
        {
          "output_type": "execute_result",
          "data": {
            "text/plain": [
              "(-3.160268951166336, -5.961153403862587)"
            ]
          },
          "metadata": {},
          "execution_count": 60
        }
      ],
      "source": [
        "### Simple regret minimisation: run number = 8\n",
        "\n",
        "approx_output_8 = np.append(np.max(approx_8.GP.y[0:n_init]),approx_8.GP.y[n_init:(n_init+max_iter)]) \n",
        "exact_output_8 = np.append(np.max(exact_8.GP.y[0:n_init]),exact_8.GP.y[n_init:(n_init+max_iter)]) \n",
        "\n",
        "regret_approx_8 = np.log(y_global_orig - approx_output_8)\n",
        "regret_exact_8 = np.log(y_global_orig - exact_output_8)\n",
        "\n",
        "simple_regret_approx_8 = min_array(regret_approx_8)\n",
        "simple_regret_exact_8 = min_array(regret_exact_8)\n",
        "\n",
        "min_simple_regret_approx_8 = min(simple_regret_approx_8)\n",
        "min_simple_regret_exact_8 = min(simple_regret_exact_8)\n",
        "\n",
        "min_simple_regret_approx_8, min_simple_regret_exact_8\n"
      ]
    },
    {
      "cell_type": "code",
      "execution_count": 61,
      "metadata": {
        "id": "iBuMpq59JLlO",
        "colab": {
          "base_uri": "https://localhost:8080/"
        },
        "outputId": "e8f1aed2-1677-4cc7-dd87-ac88789d5c1e"
      },
      "outputs": [
        {
          "output_type": "execute_result",
          "data": {
            "text/plain": [
              "(-4.067900346332126, -1.8654220526320773)"
            ]
          },
          "metadata": {},
          "execution_count": 61
        }
      ],
      "source": [
        "### Simple regret minimisation: run number = 9\n",
        "\n",
        "approx_output_9 = np.append(np.max(approx_9.GP.y[0:n_init]),approx_9.GP.y[n_init:(n_init+max_iter)]) \n",
        "exact_output_9 = np.append(np.max(exact_9.GP.y[0:n_init]),exact_9.GP.y[n_init:(n_init+max_iter)]) \n",
        "\n",
        "regret_approx_9 = np.log(y_global_orig - approx_output_9)\n",
        "regret_exact_9 = np.log(y_global_orig - exact_output_9)\n",
        "\n",
        "simple_regret_approx_9 = min_array(regret_approx_9)\n",
        "simple_regret_exact_9 = min_array(regret_exact_9)\n",
        "\n",
        "min_simple_regret_approx_9 = min(simple_regret_approx_9)\n",
        "min_simple_regret_exact_9 = min(simple_regret_exact_9)\n",
        "\n",
        "min_simple_regret_approx_9, min_simple_regret_exact_9\n"
      ]
    },
    {
      "cell_type": "code",
      "execution_count": 62,
      "metadata": {
        "id": "MT-MYaKEJLlO",
        "colab": {
          "base_uri": "https://localhost:8080/"
        },
        "outputId": "5c600083-2e9e-48b9-dbc8-0ecad3e948dd"
      },
      "outputs": [
        {
          "output_type": "execute_result",
          "data": {
            "text/plain": [
              "(-5.934435730191625, -4.484748269748821)"
            ]
          },
          "metadata": {},
          "execution_count": 62
        }
      ],
      "source": [
        "### Simple regret minimisation: run number = 10\n",
        "\n",
        "approx_output_10 = np.append(np.max(approx_10.GP.y[0:n_init]),approx_10.GP.y[n_init:(n_init+max_iter)]) \n",
        "exact_output_10 = np.append(np.max(exact_10.GP.y[0:n_init]),exact_10.GP.y[n_init:(n_init+max_iter)]) \n",
        "\n",
        "regret_approx_10 = np.log(y_global_orig - approx_output_10)\n",
        "regret_exact_10 = np.log(y_global_orig - exact_output_10)\n",
        "\n",
        "simple_regret_approx_10 = min_array(regret_approx_10)\n",
        "simple_regret_exact_10 = min_array(regret_exact_10)\n",
        "\n",
        "min_simple_regret_approx_10 = min(simple_regret_approx_10)\n",
        "min_simple_regret_exact_10 = min(simple_regret_exact_10)\n",
        "\n",
        "min_simple_regret_approx_10, min_simple_regret_exact_10\n"
      ]
    },
    {
      "cell_type": "code",
      "execution_count": 63,
      "metadata": {
        "id": "JgXNMHBOJLlP",
        "colab": {
          "base_uri": "https://localhost:8080/"
        },
        "outputId": "ae8f8664-9586-449d-80ab-608626d8bf47"
      },
      "outputs": [
        {
          "output_type": "execute_result",
          "data": {
            "text/plain": [
              "(-3.475286411197468, -7.209562772302787)"
            ]
          },
          "metadata": {},
          "execution_count": 63
        }
      ],
      "source": [
        "### Simple regret minimisation: run number = 11\n",
        "\n",
        "approx_output_11 = np.append(np.max(approx_11.GP.y[0:n_init]),approx_11.GP.y[n_init:(n_init+max_iter)]) \n",
        "exact_output_11 = np.append(np.max(exact_11.GP.y[0:n_init]),exact_11.GP.y[n_init:(n_init+max_iter)]) \n",
        "\n",
        "regret_approx_11 = np.log(y_global_orig - approx_output_11)\n",
        "regret_exact_11 = np.log(y_global_orig - exact_output_11)\n",
        "\n",
        "simple_regret_approx_11 = min_array(regret_approx_11)\n",
        "simple_regret_exact_11 = min_array(regret_exact_11)\n",
        "\n",
        "min_simple_regret_approx_11 = min(simple_regret_approx_11)\n",
        "min_simple_regret_exact_11 = min(simple_regret_exact_11)\n",
        "\n",
        "min_simple_regret_approx_11, min_simple_regret_exact_11\n"
      ]
    },
    {
      "cell_type": "code",
      "execution_count": 64,
      "metadata": {
        "id": "CNvnLAXOJLlQ",
        "colab": {
          "base_uri": "https://localhost:8080/"
        },
        "outputId": "8b7f46de-dd9a-47a3-b327-915366f5b6a7"
      },
      "outputs": [
        {
          "output_type": "execute_result",
          "data": {
            "text/plain": [
              "(-2.4131136622083385, -2.423356944231762)"
            ]
          },
          "metadata": {},
          "execution_count": 64
        }
      ],
      "source": [
        "### Simple regret minimisation: run number = 12\n",
        "\n",
        "approx_output_12 = np.append(np.max(approx_12.GP.y[0:n_init]),approx_12.GP.y[n_init:(n_init+max_iter)]) \n",
        "exact_output_12 = np.append(np.max(exact_12.GP.y[0:n_init]),exact_12.GP.y[n_init:(n_init+max_iter)]) \n",
        "\n",
        "regret_approx_12 = np.log(y_global_orig - approx_output_12)\n",
        "regret_exact_12 = np.log(y_global_orig - exact_output_12)\n",
        "\n",
        "simple_regret_approx_12 = min_array(regret_approx_12)\n",
        "simple_regret_exact_12 = min_array(regret_exact_12)\n",
        "\n",
        "min_simple_regret_approx_12 = min(simple_regret_approx_12)\n",
        "min_simple_regret_exact_12 = min(simple_regret_exact_12)\n",
        "\n",
        "min_simple_regret_approx_12, min_simple_regret_exact_12\n"
      ]
    },
    {
      "cell_type": "code",
      "execution_count": 65,
      "metadata": {
        "id": "LccPP2SJJLlQ",
        "colab": {
          "base_uri": "https://localhost:8080/"
        },
        "outputId": "6478d345-1754-4f2a-f90f-778c20ae665f"
      },
      "outputs": [
        {
          "output_type": "execute_result",
          "data": {
            "text/plain": [
              "(-3.3995948634694217, -5.816855822016586)"
            ]
          },
          "metadata": {},
          "execution_count": 65
        }
      ],
      "source": [
        "### Simple regret minimisation: run number = 13\n",
        "\n",
        "approx_output_13 = np.append(np.max(approx_13.GP.y[0:n_init]),approx_13.GP.y[n_init:(n_init+max_iter)]) \n",
        "exact_output_13 = np.append(np.max(exact_13.GP.y[0:n_init]),exact_13.GP.y[n_init:(n_init+max_iter)]) \n",
        "\n",
        "regret_approx_13 = np.log(y_global_orig - approx_output_13)\n",
        "regret_exact_13 = np.log(y_global_orig - exact_output_13)\n",
        "\n",
        "simple_regret_approx_13 = min_array(regret_approx_13)\n",
        "simple_regret_exact_13 = min_array(regret_exact_13)\n",
        "\n",
        "min_simple_regret_approx_13 = min(simple_regret_approx_13)\n",
        "min_simple_regret_exact_13 = min(simple_regret_exact_13)\n",
        "\n",
        "min_simple_regret_approx_13, min_simple_regret_exact_13\n"
      ]
    },
    {
      "cell_type": "code",
      "execution_count": 66,
      "metadata": {
        "id": "OsCDbV_CJLlR",
        "colab": {
          "base_uri": "https://localhost:8080/"
        },
        "outputId": "41dccd3d-a65f-4eac-a483-57e15e6112b8"
      },
      "outputs": [
        {
          "output_type": "execute_result",
          "data": {
            "text/plain": [
              "(-5.9348446363583625, -6.607463114879785)"
            ]
          },
          "metadata": {},
          "execution_count": 66
        }
      ],
      "source": [
        "### Simple regret minimisation: run number = 14\n",
        "\n",
        "approx_output_14 = np.append(np.max(approx_14.GP.y[0:n_init]),approx_14.GP.y[n_init:(n_init+max_iter)]) \n",
        "exact_output_14 = np.append(np.max(exact_14.GP.y[0:n_init]),exact_14.GP.y[n_init:(n_init+max_iter)]) \n",
        "\n",
        "regret_approx_14 = np.log(y_global_orig - approx_output_14)\n",
        "regret_exact_14 = np.log(y_global_orig - exact_output_14)\n",
        "\n",
        "simple_regret_approx_14 = min_array(regret_approx_14)\n",
        "simple_regret_exact_14 = min_array(regret_exact_14)\n",
        "\n",
        "min_simple_regret_approx_14 = min(simple_regret_approx_14)\n",
        "min_simple_regret_exact_14 = min(simple_regret_exact_14)\n",
        "\n",
        "min_simple_regret_approx_14, min_simple_regret_exact_14\n"
      ]
    },
    {
      "cell_type": "code",
      "execution_count": 67,
      "metadata": {
        "id": "HVNGSKzNJLlR",
        "colab": {
          "base_uri": "https://localhost:8080/"
        },
        "outputId": "5b009b17-2983-4451-e9c1-774542b2a280"
      },
      "outputs": [
        {
          "output_type": "execute_result",
          "data": {
            "text/plain": [
              "(-4.916488277258566, -7.983957903641856)"
            ]
          },
          "metadata": {},
          "execution_count": 67
        }
      ],
      "source": [
        "### Simple regret minimisation: run number = 15\n",
        "\n",
        "approx_output_15 = np.append(np.max(approx_15.GP.y[0:n_init]),approx_15.GP.y[n_init:(n_init+max_iter)]) \n",
        "exact_output_15 = np.append(np.max(exact_15.GP.y[0:n_init]),exact_15.GP.y[n_init:(n_init+max_iter)]) \n",
        "\n",
        "regret_approx_15 = np.log(y_global_orig - approx_output_15)\n",
        "regret_exact_15 = np.log(y_global_orig - exact_output_15)\n",
        "\n",
        "simple_regret_approx_15 = min_array(regret_approx_15)\n",
        "simple_regret_exact_15 = min_array(regret_exact_15)\n",
        "\n",
        "min_simple_regret_approx_15 = min(simple_regret_approx_15)\n",
        "min_simple_regret_exact_15 = min(simple_regret_exact_15)\n",
        "\n",
        "min_simple_regret_approx_15, min_simple_regret_exact_15\n"
      ]
    },
    {
      "cell_type": "code",
      "execution_count": 68,
      "metadata": {
        "id": "vFT0-DcpJLlS",
        "colab": {
          "base_uri": "https://localhost:8080/"
        },
        "outputId": "f978666b-a7b1-438a-cde8-9554ae584406"
      },
      "outputs": [
        {
          "output_type": "execute_result",
          "data": {
            "text/plain": [
              "(-2.5877720081218216, -1.5278968438114962)"
            ]
          },
          "metadata": {},
          "execution_count": 68
        }
      ],
      "source": [
        "### Simple regret minimisation: run number = 16\n",
        "\n",
        "approx_output_16 = np.append(np.max(approx_16.GP.y[0:n_init]),approx_16.GP.y[n_init:(n_init+max_iter)]) \n",
        "exact_output_16 = np.append(np.max(exact_16.GP.y[0:n_init]),exact_16.GP.y[n_init:(n_init+max_iter)]) \n",
        "\n",
        "regret_approx_16 = np.log(y_global_orig - approx_output_16)\n",
        "regret_exact_16 = np.log(y_global_orig - exact_output_16)\n",
        "\n",
        "simple_regret_approx_16 = min_array(regret_approx_16)\n",
        "simple_regret_exact_16 = min_array(regret_exact_16)\n",
        "\n",
        "min_simple_regret_approx_16 = min(simple_regret_approx_16)\n",
        "min_simple_regret_exact_16 = min(simple_regret_exact_16)\n",
        "\n",
        "min_simple_regret_approx_16, min_simple_regret_exact_16\n"
      ]
    },
    {
      "cell_type": "code",
      "execution_count": 69,
      "metadata": {
        "id": "TPbl73U3JLlS",
        "colab": {
          "base_uri": "https://localhost:8080/"
        },
        "outputId": "03c9e48d-1441-46f2-aee8-705373bd114f"
      },
      "outputs": [
        {
          "output_type": "execute_result",
          "data": {
            "text/plain": [
              "(-2.9175760587925343, -4.031355336767628)"
            ]
          },
          "metadata": {},
          "execution_count": 69
        }
      ],
      "source": [
        "### Simple regret minimisation: run number = 17\n",
        "\n",
        "approx_output_17 = np.append(np.max(approx_17.GP.y[0:n_init]),approx_17.GP.y[n_init:(n_init+max_iter)]) \n",
        "exact_output_17 = np.append(np.max(exact_17.GP.y[0:n_init]),exact_17.GP.y[n_init:(n_init+max_iter)]) \n",
        "\n",
        "regret_approx_17 = np.log(y_global_orig - approx_output_17)\n",
        "regret_exact_17 = np.log(y_global_orig - exact_output_17)\n",
        "\n",
        "simple_regret_approx_17 = min_array(regret_approx_17)\n",
        "simple_regret_exact_17 = min_array(regret_exact_17)\n",
        "\n",
        "min_simple_regret_approx_17 = min(simple_regret_approx_17)\n",
        "min_simple_regret_exact_17 = min(simple_regret_exact_17)\n",
        "\n",
        "min_simple_regret_approx_17, min_simple_regret_exact_17\n"
      ]
    },
    {
      "cell_type": "code",
      "execution_count": 70,
      "metadata": {
        "id": "ANjpLP7uJLlT",
        "colab": {
          "base_uri": "https://localhost:8080/"
        },
        "outputId": "422b7e55-e86f-4bf4-cbee-350343935f60"
      },
      "outputs": [
        {
          "output_type": "execute_result",
          "data": {
            "text/plain": [
              "(-3.3811022213575095, -3.9006548372236)"
            ]
          },
          "metadata": {},
          "execution_count": 70
        }
      ],
      "source": [
        "### Simple regret minimisation: run number = 18\n",
        "\n",
        "approx_output_18 = np.append(np.max(approx_18.GP.y[0:n_init]),approx_18.GP.y[n_init:(n_init+max_iter)]) \n",
        "exact_output_18 = np.append(np.max(exact_18.GP.y[0:n_init]),exact_18.GP.y[n_init:(n_init+max_iter)]) \n",
        "\n",
        "regret_approx_18 = np.log(y_global_orig - approx_output_18)\n",
        "regret_exact_18 = np.log(y_global_orig - exact_output_18)\n",
        "\n",
        "simple_regret_approx_18 = min_array(regret_approx_18)\n",
        "simple_regret_exact_18 = min_array(regret_exact_18)\n",
        "\n",
        "min_simple_regret_approx_18 = min(simple_regret_approx_18)\n",
        "min_simple_regret_exact_18 = min(simple_regret_exact_18)\n",
        "\n",
        "min_simple_regret_approx_18, min_simple_regret_exact_18\n"
      ]
    },
    {
      "cell_type": "code",
      "execution_count": 71,
      "metadata": {
        "id": "yYy7bHMOJLlT",
        "colab": {
          "base_uri": "https://localhost:8080/"
        },
        "outputId": "e4546031-7970-4ab3-a3be-d27c7803487d"
      },
      "outputs": [
        {
          "output_type": "execute_result",
          "data": {
            "text/plain": [
              "(-7.489050612058152, -2.9794320496309776)"
            ]
          },
          "metadata": {},
          "execution_count": 71
        }
      ],
      "source": [
        "### Simple regret minimisation: run number = 19\n",
        "\n",
        "approx_output_19 = np.append(np.max(approx_19.GP.y[0:n_init]),approx_19.GP.y[n_init:(n_init+max_iter)]) \n",
        "exact_output_19 = np.append(np.max(exact_19.GP.y[0:n_init]),exact_19.GP.y[n_init:(n_init+max_iter)]) \n",
        "\n",
        "regret_approx_19 = np.log(y_global_orig - approx_output_19)\n",
        "regret_exact_19 = np.log(y_global_orig - exact_output_19)\n",
        "\n",
        "simple_regret_approx_19 = min_array(regret_approx_19)\n",
        "simple_regret_exact_19 = min_array(regret_exact_19)\n",
        "\n",
        "min_simple_regret_approx_19 = min(simple_regret_approx_19)\n",
        "min_simple_regret_exact_19 = min(simple_regret_exact_19)\n",
        "\n",
        "min_simple_regret_approx_19, min_simple_regret_exact_19\n"
      ]
    },
    {
      "cell_type": "code",
      "execution_count": 72,
      "metadata": {
        "id": "7h8DTQ7MJLlU",
        "colab": {
          "base_uri": "https://localhost:8080/"
        },
        "outputId": "1f372cf1-ca5a-4361-fc45-5d08a35c942c"
      },
      "outputs": [
        {
          "output_type": "execute_result",
          "data": {
            "text/plain": [
              "(-3.964338961128579, -5.129465359422259)"
            ]
          },
          "metadata": {},
          "execution_count": 72
        }
      ],
      "source": [
        "### Simple regret minimisation: run number = 20\n",
        "\n",
        "approx_output_20 = np.append(np.max(approx_20.GP.y[0:n_init]),approx_20.GP.y[n_init:(n_init+max_iter)]) \n",
        "exact_output_20 = np.append(np.max(exact_20.GP.y[0:n_init]),exact_20.GP.y[n_init:(n_init+max_iter)]) \n",
        "\n",
        "regret_approx_20 = np.log(y_global_orig - approx_output_20)\n",
        "regret_exact_20 = np.log(y_global_orig - exact_output_20)\n",
        "\n",
        "simple_regret_approx_20 = min_array(regret_approx_20)\n",
        "simple_regret_exact_20 = min_array(regret_exact_20)\n",
        "\n",
        "min_simple_regret_approx_20 = min(simple_regret_approx_20)\n",
        "min_simple_regret_exact_20 = min(simple_regret_exact_20)\n",
        "\n",
        "min_simple_regret_approx_20, min_simple_regret_exact_20\n"
      ]
    },
    {
      "cell_type": "code",
      "execution_count": 73,
      "metadata": {
        "id": "FuTVzVQkJLlU"
      },
      "outputs": [],
      "source": [
        "# Iteration1 :\n",
        "\n",
        "slice1 = 0\n",
        "\n",
        "approx1 = [simple_regret_approx_1[slice1],\n",
        "       simple_regret_approx_2[slice1],\n",
        "       simple_regret_approx_3[slice1],\n",
        "       simple_regret_approx_4[slice1],\n",
        "       simple_regret_approx_5[slice1],\n",
        "       simple_regret_approx_6[slice1],\n",
        "       simple_regret_approx_7[slice1],\n",
        "       simple_regret_approx_8[slice1],\n",
        "       simple_regret_approx_9[slice1],\n",
        "       simple_regret_approx_10[slice1],\n",
        "       simple_regret_approx_11[slice1],\n",
        "       simple_regret_approx_12[slice1],\n",
        "       simple_regret_approx_13[slice1],\n",
        "       simple_regret_approx_14[slice1],\n",
        "       simple_regret_approx_15[slice1],\n",
        "       simple_regret_approx_16[slice1],\n",
        "       simple_regret_approx_17[slice1],\n",
        "       simple_regret_approx_18[slice1],\n",
        "       simple_regret_approx_19[slice1],\n",
        "       simple_regret_approx_20[slice1]]\n",
        "\n",
        "exact1 = [simple_regret_exact_1[slice1],\n",
        "       simple_regret_exact_2[slice1],\n",
        "       simple_regret_exact_3[slice1],\n",
        "       simple_regret_exact_4[slice1],\n",
        "       simple_regret_exact_5[slice1],\n",
        "       simple_regret_exact_6[slice1],\n",
        "       simple_regret_exact_7[slice1],\n",
        "       simple_regret_exact_8[slice1],\n",
        "       simple_regret_exact_9[slice1],\n",
        "       simple_regret_exact_10[slice1],\n",
        "       simple_regret_exact_11[slice1],\n",
        "       simple_regret_exact_12[slice1],\n",
        "       simple_regret_exact_13[slice1],\n",
        "       simple_regret_exact_14[slice1],\n",
        "       simple_regret_exact_15[slice1],\n",
        "       simple_regret_exact_16[slice1],\n",
        "       simple_regret_exact_17[slice1],\n",
        "       simple_regret_exact_18[slice1],\n",
        "       simple_regret_exact_19[slice1],\n",
        "       simple_regret_exact_20[slice1]]\n",
        "\n",
        "approx1_results = pd.DataFrame(approx1).sort_values(by=[0], ascending=False)\n",
        "exact1_results = pd.DataFrame(exact1).sort_values(by=[0], ascending=False)\n",
        "\n",
        "### Best simple regret minimization IQR - approx:\n",
        "lower_approx1 = np.asarray(approx1_results[4:5][0])[0]\n",
        "median_approx1 = np.asarray(approx1_results[9:10][0])[0]\n",
        "upper_approx1 = np.asarray(approx1_results[14:15][0])[0]\n",
        "\n",
        "lower_exact1 = np.asarray(exact1_results[4:5][0])[0]\n",
        "median_exact1 = np.asarray(exact1_results[9:10][0])[0]\n",
        "upper_exact1 = np.asarray(exact1_results[14:15][0])[0]\n"
      ]
    },
    {
      "cell_type": "code",
      "execution_count": 74,
      "metadata": {
        "id": "OCTtqlBHJLlV"
      },
      "outputs": [],
      "source": [
        "# Iteration11 :\n",
        "\n",
        "slice11 = 10\n",
        "\n",
        "approx11 = [simple_regret_approx_1[slice11],\n",
        "       simple_regret_approx_2[slice11],\n",
        "       simple_regret_approx_3[slice11],\n",
        "       simple_regret_approx_4[slice11],\n",
        "       simple_regret_approx_5[slice11],\n",
        "       simple_regret_approx_6[slice11],\n",
        "       simple_regret_approx_7[slice11],\n",
        "       simple_regret_approx_8[slice11],\n",
        "       simple_regret_approx_9[slice11],\n",
        "       simple_regret_approx_10[slice11],\n",
        "       simple_regret_approx_11[slice11],\n",
        "       simple_regret_approx_12[slice11],\n",
        "       simple_regret_approx_13[slice11],\n",
        "       simple_regret_approx_14[slice11],\n",
        "       simple_regret_approx_15[slice11],\n",
        "       simple_regret_approx_16[slice11],\n",
        "       simple_regret_approx_17[slice11],\n",
        "       simple_regret_approx_18[slice11],\n",
        "       simple_regret_approx_19[slice11],\n",
        "       simple_regret_approx_20[slice11]]\n",
        "\n",
        "exact11 = [simple_regret_exact_1[slice11],\n",
        "       simple_regret_exact_2[slice11],\n",
        "       simple_regret_exact_3[slice11],\n",
        "       simple_regret_exact_4[slice11],\n",
        "       simple_regret_exact_5[slice11],\n",
        "       simple_regret_exact_6[slice11],\n",
        "       simple_regret_exact_7[slice11],\n",
        "       simple_regret_exact_8[slice11],\n",
        "       simple_regret_exact_9[slice11],\n",
        "       simple_regret_exact_10[slice11],\n",
        "       simple_regret_exact_11[slice11],\n",
        "       simple_regret_exact_12[slice11],\n",
        "       simple_regret_exact_13[slice11],\n",
        "       simple_regret_exact_14[slice11],\n",
        "       simple_regret_exact_15[slice11],\n",
        "       simple_regret_exact_16[slice11],\n",
        "       simple_regret_exact_17[slice11],\n",
        "       simple_regret_exact_18[slice11],\n",
        "       simple_regret_exact_19[slice11],\n",
        "       simple_regret_exact_20[slice11]]\n",
        "\n",
        "approx11_results = pd.DataFrame(approx11).sort_values(by=[0], ascending=False)\n",
        "exact11_results = pd.DataFrame(exact11).sort_values(by=[0], ascending=False)\n",
        "\n",
        "### Best simple regret minimization IQR - approx:\n",
        "lower_approx11 = np.asarray(approx11_results[4:5][0])[0]\n",
        "median_approx11 = np.asarray(approx11_results[9:10][0])[0]\n",
        "upper_approx11 = np.asarray(approx11_results[14:15][0])[0]\n",
        "\n",
        "lower_exact11 = np.asarray(exact11_results[4:5][0])[0]\n",
        "median_exact11 = np.asarray(exact11_results[9:10][0])[0]\n",
        "upper_exact11 = np.asarray(exact11_results[14:15][0])[0]\n"
      ]
    },
    {
      "cell_type": "code",
      "execution_count": 75,
      "metadata": {
        "id": "OhneK6K5JLlV"
      },
      "outputs": [],
      "source": [
        "# Iteration21 :\n",
        "\n",
        "slice21 = 20\n",
        "\n",
        "approx21 = [simple_regret_approx_1[slice21],\n",
        "       simple_regret_approx_2[slice21],\n",
        "       simple_regret_approx_3[slice21],\n",
        "       simple_regret_approx_4[slice21],\n",
        "       simple_regret_approx_5[slice21],\n",
        "       simple_regret_approx_6[slice21],\n",
        "       simple_regret_approx_7[slice21],\n",
        "       simple_regret_approx_8[slice21],\n",
        "       simple_regret_approx_9[slice21],\n",
        "       simple_regret_approx_10[slice21],\n",
        "       simple_regret_approx_11[slice21],\n",
        "       simple_regret_approx_12[slice21],\n",
        "       simple_regret_approx_13[slice21],\n",
        "       simple_regret_approx_14[slice21],\n",
        "       simple_regret_approx_15[slice21],\n",
        "       simple_regret_approx_16[slice21],\n",
        "       simple_regret_approx_17[slice21],\n",
        "       simple_regret_approx_18[slice21],\n",
        "       simple_regret_approx_19[slice21],\n",
        "       simple_regret_approx_20[slice21]]\n",
        "\n",
        "exact21 = [simple_regret_exact_1[slice21],\n",
        "       simple_regret_exact_2[slice21],\n",
        "       simple_regret_exact_3[slice21],\n",
        "       simple_regret_exact_4[slice21],\n",
        "       simple_regret_exact_5[slice21],\n",
        "       simple_regret_exact_6[slice21],\n",
        "       simple_regret_exact_7[slice21],\n",
        "       simple_regret_exact_8[slice21],\n",
        "       simple_regret_exact_9[slice21],\n",
        "       simple_regret_exact_10[slice21],\n",
        "       simple_regret_exact_11[slice21],\n",
        "       simple_regret_exact_12[slice21],\n",
        "       simple_regret_exact_13[slice21],\n",
        "       simple_regret_exact_14[slice21],\n",
        "       simple_regret_exact_15[slice21],\n",
        "       simple_regret_exact_16[slice21],\n",
        "       simple_regret_exact_17[slice21],\n",
        "       simple_regret_exact_18[slice21],\n",
        "       simple_regret_exact_19[slice21],\n",
        "       simple_regret_exact_20[slice21]]\n",
        "\n",
        "approx21_results = pd.DataFrame(approx21).sort_values(by=[0], ascending=False)\n",
        "exact21_results = pd.DataFrame(exact21).sort_values(by=[0], ascending=False)\n",
        "\n",
        "### Best simple regret minimization IQR - approx:\n",
        "lower_approx21 = np.asarray(approx21_results[4:5][0])[0]\n",
        "median_approx21 = np.asarray(approx21_results[9:10][0])[0]\n",
        "upper_approx21 = np.asarray(approx21_results[14:15][0])[0]\n",
        "\n",
        "lower_exact21 = np.asarray(exact21_results[4:5][0])[0]\n",
        "median_exact21 = np.asarray(exact21_results[9:10][0])[0]\n",
        "upper_exact21 = np.asarray(exact21_results[14:15][0])[0]\n"
      ]
    },
    {
      "cell_type": "code",
      "execution_count": 76,
      "metadata": {
        "id": "wetKUCmLJLlb"
      },
      "outputs": [],
      "source": [
        "# Iteration2 :\n",
        "\n",
        "slice2 = 1\n",
        "\n",
        "approx2 = [simple_regret_approx_1[slice2],\n",
        "       simple_regret_approx_2[slice2],\n",
        "       simple_regret_approx_3[slice2],\n",
        "       simple_regret_approx_4[slice2],\n",
        "       simple_regret_approx_5[slice2],\n",
        "       simple_regret_approx_6[slice2],\n",
        "       simple_regret_approx_7[slice2],\n",
        "       simple_regret_approx_8[slice2],\n",
        "       simple_regret_approx_9[slice2],\n",
        "       simple_regret_approx_10[slice2],\n",
        "       simple_regret_approx_11[slice2],\n",
        "       simple_regret_approx_12[slice2],\n",
        "       simple_regret_approx_13[slice2],\n",
        "       simple_regret_approx_14[slice2],\n",
        "       simple_regret_approx_15[slice2],\n",
        "       simple_regret_approx_16[slice2],\n",
        "       simple_regret_approx_17[slice2],\n",
        "       simple_regret_approx_18[slice2],\n",
        "       simple_regret_approx_19[slice2],\n",
        "       simple_regret_approx_20[slice2]]\n",
        "\n",
        "exact2 = [simple_regret_exact_1[slice2],\n",
        "       simple_regret_exact_2[slice2],\n",
        "       simple_regret_exact_3[slice2],\n",
        "       simple_regret_exact_4[slice2],\n",
        "       simple_regret_exact_5[slice2],\n",
        "       simple_regret_exact_6[slice2],\n",
        "       simple_regret_exact_7[slice2],\n",
        "       simple_regret_exact_8[slice2],\n",
        "       simple_regret_exact_9[slice2],\n",
        "       simple_regret_exact_10[slice2],\n",
        "       simple_regret_exact_11[slice2],\n",
        "       simple_regret_exact_12[slice2],\n",
        "       simple_regret_exact_13[slice2],\n",
        "       simple_regret_exact_14[slice2],\n",
        "       simple_regret_exact_15[slice2],\n",
        "       simple_regret_exact_16[slice2],\n",
        "       simple_regret_exact_17[slice2],\n",
        "       simple_regret_exact_18[slice2],\n",
        "       simple_regret_exact_19[slice2],\n",
        "       simple_regret_exact_20[slice2]]\n",
        "\n",
        "approx2_results = pd.DataFrame(approx2).sort_values(by=[0], ascending=False)\n",
        "exact2_results = pd.DataFrame(exact2).sort_values(by=[0], ascending=False)\n",
        "\n",
        "### Best simple regret minimization IQR - approx:\n",
        "lower_approx2 = np.asarray(approx2_results[4:5][0])[0]\n",
        "median_approx2 = np.asarray(approx2_results[9:10][0])[0]\n",
        "upper_approx2 = np.asarray(approx2_results[14:15][0])[0]\n",
        "\n",
        "lower_exact2 = np.asarray(exact2_results[4:5][0])[0]\n",
        "median_exact2 = np.asarray(exact2_results[9:10][0])[0]\n",
        "upper_exact2 = np.asarray(exact2_results[14:15][0])[0]\n"
      ]
    },
    {
      "cell_type": "code",
      "execution_count": 77,
      "metadata": {
        "id": "8dIyaTLKJLlc"
      },
      "outputs": [],
      "source": [
        "# Iteration12 :\n",
        "\n",
        "slice12 = 11\n",
        "\n",
        "approx12 = [simple_regret_approx_1[slice12],\n",
        "       simple_regret_approx_2[slice12],\n",
        "       simple_regret_approx_3[slice12],\n",
        "       simple_regret_approx_4[slice12],\n",
        "       simple_regret_approx_5[slice12],\n",
        "       simple_regret_approx_6[slice12],\n",
        "       simple_regret_approx_7[slice12],\n",
        "       simple_regret_approx_8[slice12],\n",
        "       simple_regret_approx_9[slice12],\n",
        "       simple_regret_approx_10[slice12],\n",
        "       simple_regret_approx_11[slice12],\n",
        "       simple_regret_approx_12[slice12],\n",
        "       simple_regret_approx_13[slice12],\n",
        "       simple_regret_approx_14[slice12],\n",
        "       simple_regret_approx_15[slice12],\n",
        "       simple_regret_approx_16[slice12],\n",
        "       simple_regret_approx_17[slice12],\n",
        "       simple_regret_approx_18[slice12],\n",
        "       simple_regret_approx_19[slice12],\n",
        "       simple_regret_approx_20[slice12]]\n",
        "\n",
        "exact12 = [simple_regret_exact_1[slice12],\n",
        "       simple_regret_exact_2[slice12],\n",
        "       simple_regret_exact_3[slice12],\n",
        "       simple_regret_exact_4[slice12],\n",
        "       simple_regret_exact_5[slice12],\n",
        "       simple_regret_exact_6[slice12],\n",
        "       simple_regret_exact_7[slice12],\n",
        "       simple_regret_exact_8[slice12],\n",
        "       simple_regret_exact_9[slice12],\n",
        "       simple_regret_exact_10[slice12],\n",
        "       simple_regret_exact_11[slice12],\n",
        "       simple_regret_exact_12[slice12],\n",
        "       simple_regret_exact_13[slice12],\n",
        "       simple_regret_exact_14[slice12],\n",
        "       simple_regret_exact_15[slice12],\n",
        "       simple_regret_exact_16[slice12],\n",
        "       simple_regret_exact_17[slice12],\n",
        "       simple_regret_exact_18[slice12],\n",
        "       simple_regret_exact_19[slice12],\n",
        "       simple_regret_exact_20[slice12]]\n",
        "\n",
        "approx12_results = pd.DataFrame(approx12).sort_values(by=[0], ascending=False)\n",
        "exact12_results = pd.DataFrame(exact12).sort_values(by=[0], ascending=False)\n",
        "\n",
        "### Best simple regret minimization IQR - approx:\n",
        "lower_approx12 = np.asarray(approx12_results[4:5][0])[0]\n",
        "median_approx12 = np.asarray(approx12_results[9:10][0])[0]\n",
        "upper_approx12 = np.asarray(approx12_results[14:15][0])[0]\n",
        "\n",
        "lower_exact12 = np.asarray(exact12_results[4:5][0])[0]\n",
        "median_exact12 = np.asarray(exact12_results[9:10][0])[0]\n",
        "upper_exact12 = np.asarray(exact12_results[14:15][0])[0]\n"
      ]
    },
    {
      "cell_type": "code",
      "execution_count": 78,
      "metadata": {
        "id": "1_6u8LF1JLlt"
      },
      "outputs": [],
      "source": [
        "# Iteration3 :\n",
        "\n",
        "slice3 = 2\n",
        "\n",
        "approx3 = [simple_regret_approx_1[slice3],\n",
        "       simple_regret_approx_2[slice3],\n",
        "       simple_regret_approx_3[slice3],\n",
        "       simple_regret_approx_4[slice3],\n",
        "       simple_regret_approx_5[slice3],\n",
        "       simple_regret_approx_6[slice3],\n",
        "       simple_regret_approx_7[slice3],\n",
        "       simple_regret_approx_8[slice3],\n",
        "       simple_regret_approx_9[slice3],\n",
        "       simple_regret_approx_10[slice3],\n",
        "       simple_regret_approx_11[slice3],\n",
        "       simple_regret_approx_12[slice3],\n",
        "       simple_regret_approx_13[slice3],\n",
        "       simple_regret_approx_14[slice3],\n",
        "       simple_regret_approx_15[slice3],\n",
        "       simple_regret_approx_16[slice3],\n",
        "       simple_regret_approx_17[slice3],\n",
        "       simple_regret_approx_18[slice3],\n",
        "       simple_regret_approx_19[slice3],\n",
        "       simple_regret_approx_20[slice3]]\n",
        "\n",
        "exact3 = [simple_regret_exact_1[slice3],\n",
        "       simple_regret_exact_2[slice3],\n",
        "       simple_regret_exact_3[slice3],\n",
        "       simple_regret_exact_4[slice3],\n",
        "       simple_regret_exact_5[slice3],\n",
        "       simple_regret_exact_6[slice3],\n",
        "       simple_regret_exact_7[slice3],\n",
        "       simple_regret_exact_8[slice3],\n",
        "       simple_regret_exact_9[slice3],\n",
        "       simple_regret_exact_10[slice3],\n",
        "       simple_regret_exact_11[slice3],\n",
        "       simple_regret_exact_12[slice3],\n",
        "       simple_regret_exact_13[slice3],\n",
        "       simple_regret_exact_14[slice3],\n",
        "       simple_regret_exact_15[slice3],\n",
        "       simple_regret_exact_16[slice3],\n",
        "       simple_regret_exact_17[slice3],\n",
        "       simple_regret_exact_18[slice3],\n",
        "       simple_regret_exact_19[slice3],\n",
        "       simple_regret_exact_20[slice3]]\n",
        "\n",
        "approx3_results = pd.DataFrame(approx3).sort_values(by=[0], ascending=False)\n",
        "exact3_results = pd.DataFrame(exact3).sort_values(by=[0], ascending=False)\n",
        "\n",
        "### Best simple regret minimization IQR - approx:\n",
        "lower_approx3 = np.asarray(approx3_results[4:5][0])[0]\n",
        "median_approx3 = np.asarray(approx3_results[9:10][0])[0]\n",
        "upper_approx3 = np.asarray(approx3_results[14:15][0])[0]\n",
        "\n",
        "lower_exact3 = np.asarray(exact3_results[4:5][0])[0]\n",
        "median_exact3 = np.asarray(exact3_results[9:10][0])[0]\n",
        "upper_exact3 = np.asarray(exact3_results[14:15][0])[0]\n"
      ]
    },
    {
      "cell_type": "code",
      "execution_count": 79,
      "metadata": {
        "id": "GGEAa73pJLlu"
      },
      "outputs": [],
      "source": [
        "# Iteration13 :\n",
        "\n",
        "slice13 = 12\n",
        "\n",
        "approx13 = [simple_regret_approx_1[slice13],\n",
        "       simple_regret_approx_2[slice13],\n",
        "       simple_regret_approx_3[slice13],\n",
        "       simple_regret_approx_4[slice13],\n",
        "       simple_regret_approx_5[slice13],\n",
        "       simple_regret_approx_6[slice13],\n",
        "       simple_regret_approx_7[slice13],\n",
        "       simple_regret_approx_8[slice13],\n",
        "       simple_regret_approx_9[slice13],\n",
        "       simple_regret_approx_10[slice13],\n",
        "       simple_regret_approx_11[slice13],\n",
        "       simple_regret_approx_12[slice13],\n",
        "       simple_regret_approx_13[slice13],\n",
        "       simple_regret_approx_14[slice13],\n",
        "       simple_regret_approx_15[slice13],\n",
        "       simple_regret_approx_16[slice13],\n",
        "       simple_regret_approx_17[slice13],\n",
        "       simple_regret_approx_18[slice13],\n",
        "       simple_regret_approx_19[slice13],\n",
        "       simple_regret_approx_20[slice13]]\n",
        "\n",
        "exact13 = [simple_regret_exact_1[slice13],\n",
        "       simple_regret_exact_2[slice13],\n",
        "       simple_regret_exact_3[slice13],\n",
        "       simple_regret_exact_4[slice13],\n",
        "       simple_regret_exact_5[slice13],\n",
        "       simple_regret_exact_6[slice13],\n",
        "       simple_regret_exact_7[slice13],\n",
        "       simple_regret_exact_8[slice13],\n",
        "       simple_regret_exact_9[slice13],\n",
        "       simple_regret_exact_10[slice13],\n",
        "       simple_regret_exact_11[slice13],\n",
        "       simple_regret_exact_12[slice13],\n",
        "       simple_regret_exact_13[slice13],\n",
        "       simple_regret_exact_14[slice13],\n",
        "       simple_regret_exact_15[slice13],\n",
        "       simple_regret_exact_16[slice13],\n",
        "       simple_regret_exact_17[slice13],\n",
        "       simple_regret_exact_18[slice13],\n",
        "       simple_regret_exact_19[slice13],\n",
        "       simple_regret_exact_20[slice13]]\n",
        "\n",
        "approx13_results = pd.DataFrame(approx13).sort_values(by=[0], ascending=False)\n",
        "exact13_results = pd.DataFrame(exact13).sort_values(by=[0], ascending=False)\n",
        "\n",
        "### Best simple regret minimization IQR - approx:\n",
        "lower_approx13 = np.asarray(approx13_results[4:5][0])[0]\n",
        "median_approx13 = np.asarray(approx13_results[9:10][0])[0]\n",
        "upper_approx13 = np.asarray(approx13_results[14:15][0])[0]\n",
        "\n",
        "lower_exact13 = np.asarray(exact13_results[4:5][0])[0]\n",
        "median_exact13 = np.asarray(exact13_results[9:10][0])[0]\n",
        "upper_exact13 = np.asarray(exact13_results[14:15][0])[0]\n"
      ]
    },
    {
      "cell_type": "code",
      "execution_count": 80,
      "metadata": {
        "id": "T30xLxygJLl0"
      },
      "outputs": [],
      "source": [
        "# Iteration4 :\n",
        "\n",
        "slice4 = 3\n",
        "\n",
        "approx4 = [simple_regret_approx_1[slice4],\n",
        "       simple_regret_approx_2[slice4],\n",
        "       simple_regret_approx_3[slice4],\n",
        "       simple_regret_approx_4[slice4],\n",
        "       simple_regret_approx_5[slice4],\n",
        "       simple_regret_approx_6[slice4],\n",
        "       simple_regret_approx_7[slice4],\n",
        "       simple_regret_approx_8[slice4],\n",
        "       simple_regret_approx_9[slice4],\n",
        "       simple_regret_approx_10[slice4],\n",
        "       simple_regret_approx_11[slice4],\n",
        "       simple_regret_approx_12[slice4],\n",
        "       simple_regret_approx_13[slice4],\n",
        "       simple_regret_approx_14[slice4],\n",
        "       simple_regret_approx_15[slice4],\n",
        "       simple_regret_approx_16[slice4],\n",
        "       simple_regret_approx_17[slice4],\n",
        "       simple_regret_approx_18[slice4],\n",
        "       simple_regret_approx_19[slice4],\n",
        "       simple_regret_approx_20[slice4]]\n",
        "\n",
        "exact4 = [simple_regret_exact_1[slice4],\n",
        "       simple_regret_exact_2[slice4],\n",
        "       simple_regret_exact_3[slice4],\n",
        "       simple_regret_exact_4[slice4],\n",
        "       simple_regret_exact_5[slice4],\n",
        "       simple_regret_exact_6[slice4],\n",
        "       simple_regret_exact_7[slice4],\n",
        "       simple_regret_exact_8[slice4],\n",
        "       simple_regret_exact_9[slice4],\n",
        "       simple_regret_exact_10[slice4],\n",
        "       simple_regret_exact_11[slice4],\n",
        "       simple_regret_exact_12[slice4],\n",
        "       simple_regret_exact_13[slice4],\n",
        "       simple_regret_exact_14[slice4],\n",
        "       simple_regret_exact_15[slice4],\n",
        "       simple_regret_exact_16[slice4],\n",
        "       simple_regret_exact_17[slice4],\n",
        "       simple_regret_exact_18[slice4],\n",
        "       simple_regret_exact_19[slice4],\n",
        "       simple_regret_exact_20[slice4]]\n",
        "\n",
        "approx4_results = pd.DataFrame(approx4).sort_values(by=[0], ascending=False)\n",
        "exact4_results = pd.DataFrame(exact4).sort_values(by=[0], ascending=False)\n",
        "\n",
        "### Best simple regret minimization IQR - approx:\n",
        "lower_approx4 = np.asarray(approx4_results[4:5][0])[0]\n",
        "median_approx4 = np.asarray(approx4_results[9:10][0])[0]\n",
        "upper_approx4 = np.asarray(approx4_results[14:15][0])[0]\n",
        "\n",
        "lower_exact4 = np.asarray(exact4_results[4:5][0])[0]\n",
        "median_exact4 = np.asarray(exact4_results[9:10][0])[0]\n",
        "upper_exact4 = np.asarray(exact4_results[14:15][0])[0]\n"
      ]
    },
    {
      "cell_type": "code",
      "execution_count": 81,
      "metadata": {
        "id": "MQ-jpNrnJLl1"
      },
      "outputs": [],
      "source": [
        "# Iteration14 :\n",
        "\n",
        "slice14 = 13\n",
        "\n",
        "approx14 = [simple_regret_approx_1[slice14],\n",
        "       simple_regret_approx_2[slice14],\n",
        "       simple_regret_approx_3[slice14],\n",
        "       simple_regret_approx_4[slice14],\n",
        "       simple_regret_approx_5[slice14],\n",
        "       simple_regret_approx_6[slice14],\n",
        "       simple_regret_approx_7[slice14],\n",
        "       simple_regret_approx_8[slice14],\n",
        "       simple_regret_approx_9[slice14],\n",
        "       simple_regret_approx_10[slice14],\n",
        "       simple_regret_approx_11[slice14],\n",
        "       simple_regret_approx_12[slice14],\n",
        "       simple_regret_approx_13[slice14],\n",
        "       simple_regret_approx_14[slice14],\n",
        "       simple_regret_approx_15[slice14],\n",
        "       simple_regret_approx_16[slice14],\n",
        "       simple_regret_approx_17[slice14],\n",
        "       simple_regret_approx_18[slice14],\n",
        "       simple_regret_approx_19[slice14],\n",
        "       simple_regret_approx_20[slice14]]\n",
        "\n",
        "exact14 = [simple_regret_exact_1[slice14],\n",
        "       simple_regret_exact_2[slice14],\n",
        "       simple_regret_exact_3[slice14],\n",
        "       simple_regret_exact_4[slice14],\n",
        "       simple_regret_exact_5[slice14],\n",
        "       simple_regret_exact_6[slice14],\n",
        "       simple_regret_exact_7[slice14],\n",
        "       simple_regret_exact_8[slice14],\n",
        "       simple_regret_exact_9[slice14],\n",
        "       simple_regret_exact_10[slice14],\n",
        "       simple_regret_exact_11[slice14],\n",
        "       simple_regret_exact_12[slice14],\n",
        "       simple_regret_exact_13[slice14],\n",
        "       simple_regret_exact_14[slice14],\n",
        "       simple_regret_exact_15[slice14],\n",
        "       simple_regret_exact_16[slice14],\n",
        "       simple_regret_exact_17[slice14],\n",
        "       simple_regret_exact_18[slice14],\n",
        "       simple_regret_exact_19[slice14],\n",
        "       simple_regret_exact_20[slice14]]\n",
        "\n",
        "approx14_results = pd.DataFrame(approx14).sort_values(by=[0], ascending=False)\n",
        "exact14_results = pd.DataFrame(exact14).sort_values(by=[0], ascending=False)\n",
        "\n",
        "### Best simple regret minimization IQR - approx:\n",
        "lower_approx14 = np.asarray(approx14_results[4:5][0])[0]\n",
        "median_approx14 = np.asarray(approx14_results[9:10][0])[0]\n",
        "upper_approx14 = np.asarray(approx14_results[14:15][0])[0]\n",
        "\n",
        "lower_exact14 = np.asarray(exact14_results[4:5][0])[0]\n",
        "median_exact14 = np.asarray(exact14_results[9:10][0])[0]\n",
        "upper_exact14 = np.asarray(exact14_results[14:15][0])[0]\n"
      ]
    },
    {
      "cell_type": "code",
      "execution_count": 82,
      "metadata": {
        "id": "Xhy_AN9jJLl9"
      },
      "outputs": [],
      "source": [
        "# Iteration5 :\n",
        "\n",
        "slice5 = 4\n",
        "\n",
        "approx5 = [simple_regret_approx_1[slice5],\n",
        "       simple_regret_approx_2[slice5],\n",
        "       simple_regret_approx_3[slice5],\n",
        "       simple_regret_approx_4[slice5],\n",
        "       simple_regret_approx_5[slice5],\n",
        "       simple_regret_approx_6[slice5],\n",
        "       simple_regret_approx_7[slice5],\n",
        "       simple_regret_approx_8[slice5],\n",
        "       simple_regret_approx_9[slice5],\n",
        "       simple_regret_approx_10[slice5],\n",
        "       simple_regret_approx_11[slice5],\n",
        "       simple_regret_approx_12[slice5],\n",
        "       simple_regret_approx_13[slice5],\n",
        "       simple_regret_approx_14[slice5],\n",
        "       simple_regret_approx_15[slice5],\n",
        "       simple_regret_approx_16[slice5],\n",
        "       simple_regret_approx_17[slice5],\n",
        "       simple_regret_approx_18[slice5],\n",
        "       simple_regret_approx_19[slice5],\n",
        "       simple_regret_approx_20[slice5]]\n",
        "\n",
        "exact5 = [simple_regret_exact_1[slice5],\n",
        "       simple_regret_exact_2[slice5],\n",
        "       simple_regret_exact_3[slice5],\n",
        "       simple_regret_exact_4[slice5],\n",
        "       simple_regret_exact_5[slice5],\n",
        "       simple_regret_exact_6[slice5],\n",
        "       simple_regret_exact_7[slice5],\n",
        "       simple_regret_exact_8[slice5],\n",
        "       simple_regret_exact_9[slice5],\n",
        "       simple_regret_exact_10[slice5],\n",
        "       simple_regret_exact_11[slice5],\n",
        "       simple_regret_exact_12[slice5],\n",
        "       simple_regret_exact_13[slice5],\n",
        "       simple_regret_exact_14[slice5],\n",
        "       simple_regret_exact_15[slice5],\n",
        "       simple_regret_exact_16[slice5],\n",
        "       simple_regret_exact_17[slice5],\n",
        "       simple_regret_exact_18[slice5],\n",
        "       simple_regret_exact_19[slice5],\n",
        "       simple_regret_exact_20[slice5]]\n",
        "\n",
        "approx5_results = pd.DataFrame(approx5).sort_values(by=[0], ascending=False)\n",
        "exact5_results = pd.DataFrame(exact5).sort_values(by=[0], ascending=False)\n",
        "\n",
        "### Best simple regret minimization IQR - approx:\n",
        "lower_approx5 = np.asarray(approx5_results[4:5][0])[0]\n",
        "median_approx5 = np.asarray(approx5_results[9:10][0])[0]\n",
        "upper_approx5 = np.asarray(approx5_results[14:15][0])[0]\n",
        "\n",
        "lower_exact5 = np.asarray(exact5_results[4:5][0])[0]\n",
        "median_exact5 = np.asarray(exact5_results[9:10][0])[0]\n",
        "upper_exact5 = np.asarray(exact5_results[14:15][0])[0]\n"
      ]
    },
    {
      "cell_type": "code",
      "execution_count": 83,
      "metadata": {
        "id": "WHbtLHnbJLl-"
      },
      "outputs": [],
      "source": [
        "# Iteration15 :\n",
        "\n",
        "slice15 = 14\n",
        "\n",
        "approx15 = [simple_regret_approx_1[slice15],\n",
        "       simple_regret_approx_2[slice15],\n",
        "       simple_regret_approx_3[slice15],\n",
        "       simple_regret_approx_4[slice15],\n",
        "       simple_regret_approx_5[slice15],\n",
        "       simple_regret_approx_6[slice15],\n",
        "       simple_regret_approx_7[slice15],\n",
        "       simple_regret_approx_8[slice15],\n",
        "       simple_regret_approx_9[slice15],\n",
        "       simple_regret_approx_10[slice15],\n",
        "       simple_regret_approx_11[slice15],\n",
        "       simple_regret_approx_12[slice15],\n",
        "       simple_regret_approx_13[slice15],\n",
        "       simple_regret_approx_14[slice15],\n",
        "       simple_regret_approx_15[slice15],\n",
        "       simple_regret_approx_16[slice15],\n",
        "       simple_regret_approx_17[slice15],\n",
        "       simple_regret_approx_18[slice15],\n",
        "       simple_regret_approx_19[slice15],\n",
        "       simple_regret_approx_20[slice15]]\n",
        "\n",
        "exact15 = [simple_regret_exact_1[slice15],\n",
        "       simple_regret_exact_2[slice15],\n",
        "       simple_regret_exact_3[slice15],\n",
        "       simple_regret_exact_4[slice15],\n",
        "       simple_regret_exact_5[slice15],\n",
        "       simple_regret_exact_6[slice15],\n",
        "       simple_regret_exact_7[slice15],\n",
        "       simple_regret_exact_8[slice15],\n",
        "       simple_regret_exact_9[slice15],\n",
        "       simple_regret_exact_10[slice15],\n",
        "       simple_regret_exact_11[slice15],\n",
        "       simple_regret_exact_12[slice15],\n",
        "       simple_regret_exact_13[slice15],\n",
        "       simple_regret_exact_14[slice15],\n",
        "       simple_regret_exact_15[slice15],\n",
        "       simple_regret_exact_16[slice15],\n",
        "       simple_regret_exact_17[slice15],\n",
        "       simple_regret_exact_18[slice15],\n",
        "       simple_regret_exact_19[slice15],\n",
        "       simple_regret_exact_20[slice15]]\n",
        "\n",
        "approx15_results = pd.DataFrame(approx15).sort_values(by=[0], ascending=False)\n",
        "exact15_results = pd.DataFrame(exact15).sort_values(by=[0], ascending=False)\n",
        "\n",
        "### Best simple regret minimization IQR - approx:\n",
        "lower_approx15 = np.asarray(approx15_results[4:5][0])[0]\n",
        "median_approx15 = np.asarray(approx15_results[9:10][0])[0]\n",
        "upper_approx15 = np.asarray(approx15_results[14:15][0])[0]\n",
        "\n",
        "lower_exact15 = np.asarray(exact15_results[4:5][0])[0]\n",
        "median_exact15 = np.asarray(exact15_results[9:10][0])[0]\n",
        "upper_exact15 = np.asarray(exact15_results[14:15][0])[0]\n"
      ]
    },
    {
      "cell_type": "code",
      "execution_count": 84,
      "metadata": {
        "id": "XqsNyHzqJLmC"
      },
      "outputs": [],
      "source": [
        "# Iteration6 :\n",
        "\n",
        "slice6 = 5\n",
        "\n",
        "approx6 = [simple_regret_approx_1[slice6],\n",
        "       simple_regret_approx_2[slice6],\n",
        "       simple_regret_approx_3[slice6],\n",
        "       simple_regret_approx_4[slice6],\n",
        "       simple_regret_approx_5[slice6],\n",
        "       simple_regret_approx_6[slice6],\n",
        "       simple_regret_approx_7[slice6],\n",
        "       simple_regret_approx_8[slice6],\n",
        "       simple_regret_approx_9[slice6],\n",
        "       simple_regret_approx_10[slice6],\n",
        "       simple_regret_approx_11[slice6],\n",
        "       simple_regret_approx_12[slice6],\n",
        "       simple_regret_approx_13[slice6],\n",
        "       simple_regret_approx_14[slice6],\n",
        "       simple_regret_approx_15[slice6],\n",
        "       simple_regret_approx_16[slice6],\n",
        "       simple_regret_approx_17[slice6],\n",
        "       simple_regret_approx_18[slice6],\n",
        "       simple_regret_approx_19[slice6],\n",
        "       simple_regret_approx_20[slice6]]\n",
        "\n",
        "exact6 = [simple_regret_exact_1[slice6],\n",
        "       simple_regret_exact_2[slice6],\n",
        "       simple_regret_exact_3[slice6],\n",
        "       simple_regret_exact_4[slice6],\n",
        "       simple_regret_exact_5[slice6],\n",
        "       simple_regret_exact_6[slice6],\n",
        "       simple_regret_exact_7[slice6],\n",
        "       simple_regret_exact_8[slice6],\n",
        "       simple_regret_exact_9[slice6],\n",
        "       simple_regret_exact_10[slice6],\n",
        "       simple_regret_exact_11[slice6],\n",
        "       simple_regret_exact_12[slice6],\n",
        "       simple_regret_exact_13[slice6],\n",
        "       simple_regret_exact_14[slice6],\n",
        "       simple_regret_exact_15[slice6],\n",
        "       simple_regret_exact_16[slice6],\n",
        "       simple_regret_exact_17[slice6],\n",
        "       simple_regret_exact_18[slice6],\n",
        "       simple_regret_exact_19[slice6],\n",
        "       simple_regret_exact_20[slice6]]\n",
        "\n",
        "approx6_results = pd.DataFrame(approx6).sort_values(by=[0], ascending=False)\n",
        "exact6_results = pd.DataFrame(exact6).sort_values(by=[0], ascending=False)\n",
        "\n",
        "### Best simple regret minimization IQR - approx:\n",
        "lower_approx6 = np.asarray(approx6_results[4:5][0])[0]\n",
        "median_approx6 = np.asarray(approx6_results[9:10][0])[0]\n",
        "upper_approx6 = np.asarray(approx6_results[14:15][0])[0]\n",
        "\n",
        "lower_exact6 = np.asarray(exact6_results[4:5][0])[0]\n",
        "median_exact6 = np.asarray(exact6_results[9:10][0])[0]\n",
        "upper_exact6 = np.asarray(exact6_results[14:15][0])[0]\n"
      ]
    },
    {
      "cell_type": "code",
      "execution_count": 85,
      "metadata": {
        "id": "V0-8P_clJLmD"
      },
      "outputs": [],
      "source": [
        "# Iteration16 :\n",
        "\n",
        "slice16 = 15\n",
        "\n",
        "approx16 = [simple_regret_approx_1[slice16],\n",
        "       simple_regret_approx_2[slice16],\n",
        "       simple_regret_approx_3[slice16],\n",
        "       simple_regret_approx_4[slice16],\n",
        "       simple_regret_approx_5[slice16],\n",
        "       simple_regret_approx_6[slice16],\n",
        "       simple_regret_approx_7[slice16],\n",
        "       simple_regret_approx_8[slice16],\n",
        "       simple_regret_approx_9[slice16],\n",
        "       simple_regret_approx_10[slice16],\n",
        "       simple_regret_approx_11[slice16],\n",
        "       simple_regret_approx_12[slice16],\n",
        "       simple_regret_approx_13[slice16],\n",
        "       simple_regret_approx_14[slice16],\n",
        "       simple_regret_approx_15[slice16],\n",
        "       simple_regret_approx_16[slice16],\n",
        "       simple_regret_approx_17[slice16],\n",
        "       simple_regret_approx_18[slice16],\n",
        "       simple_regret_approx_19[slice16],\n",
        "       simple_regret_approx_20[slice16]]\n",
        "\n",
        "exact16 = [simple_regret_exact_1[slice16],\n",
        "       simple_regret_exact_2[slice16],\n",
        "       simple_regret_exact_3[slice16],\n",
        "       simple_regret_exact_4[slice16],\n",
        "       simple_regret_exact_5[slice16],\n",
        "       simple_regret_exact_6[slice16],\n",
        "       simple_regret_exact_7[slice16],\n",
        "       simple_regret_exact_8[slice16],\n",
        "       simple_regret_exact_9[slice16],\n",
        "       simple_regret_exact_10[slice16],\n",
        "       simple_regret_exact_11[slice16],\n",
        "       simple_regret_exact_12[slice16],\n",
        "       simple_regret_exact_13[slice16],\n",
        "       simple_regret_exact_14[slice16],\n",
        "       simple_regret_exact_15[slice16],\n",
        "       simple_regret_exact_16[slice16],\n",
        "       simple_regret_exact_17[slice16],\n",
        "       simple_regret_exact_18[slice16],\n",
        "       simple_regret_exact_19[slice16],\n",
        "       simple_regret_exact_20[slice16]]\n",
        "\n",
        "approx16_results = pd.DataFrame(approx16).sort_values(by=[0], ascending=False)\n",
        "exact16_results = pd.DataFrame(exact16).sort_values(by=[0], ascending=False)\n",
        "\n",
        "### Best simple regret minimization IQR - approx:\n",
        "lower_approx16 = np.asarray(approx16_results[4:5][0])[0]\n",
        "median_approx16 = np.asarray(approx16_results[9:10][0])[0]\n",
        "upper_approx16 = np.asarray(approx16_results[14:15][0])[0]\n",
        "\n",
        "lower_exact16 = np.asarray(exact16_results[4:5][0])[0]\n",
        "median_exact16 = np.asarray(exact16_results[9:10][0])[0]\n",
        "upper_exact16 = np.asarray(exact16_results[14:15][0])[0]\n"
      ]
    },
    {
      "cell_type": "code",
      "execution_count": 86,
      "metadata": {
        "id": "OcLUACB0JLmM"
      },
      "outputs": [],
      "source": [
        "# Iteration7 :\n",
        "\n",
        "slice7 = 6\n",
        "\n",
        "approx7 = [simple_regret_approx_1[slice7],\n",
        "       simple_regret_approx_2[slice7],\n",
        "       simple_regret_approx_3[slice7],\n",
        "       simple_regret_approx_4[slice7],\n",
        "       simple_regret_approx_5[slice7],\n",
        "       simple_regret_approx_6[slice7],\n",
        "       simple_regret_approx_7[slice7],\n",
        "       simple_regret_approx_8[slice7],\n",
        "       simple_regret_approx_9[slice7],\n",
        "       simple_regret_approx_10[slice7],\n",
        "       simple_regret_approx_11[slice7],\n",
        "       simple_regret_approx_12[slice7],\n",
        "       simple_regret_approx_13[slice7],\n",
        "       simple_regret_approx_14[slice7],\n",
        "       simple_regret_approx_15[slice7],\n",
        "       simple_regret_approx_16[slice7],\n",
        "       simple_regret_approx_17[slice7],\n",
        "       simple_regret_approx_18[slice7],\n",
        "       simple_regret_approx_19[slice7],\n",
        "       simple_regret_approx_20[slice7]]\n",
        "\n",
        "exact7 = [simple_regret_exact_1[slice7],\n",
        "       simple_regret_exact_2[slice7],\n",
        "       simple_regret_exact_3[slice7],\n",
        "       simple_regret_exact_4[slice7],\n",
        "       simple_regret_exact_5[slice7],\n",
        "       simple_regret_exact_6[slice7],\n",
        "       simple_regret_exact_7[slice7],\n",
        "       simple_regret_exact_8[slice7],\n",
        "       simple_regret_exact_9[slice7],\n",
        "       simple_regret_exact_10[slice7],\n",
        "       simple_regret_exact_11[slice7],\n",
        "       simple_regret_exact_12[slice7],\n",
        "       simple_regret_exact_13[slice7],\n",
        "       simple_regret_exact_14[slice7],\n",
        "       simple_regret_exact_15[slice7],\n",
        "       simple_regret_exact_16[slice7],\n",
        "       simple_regret_exact_17[slice7],\n",
        "       simple_regret_exact_18[slice7],\n",
        "       simple_regret_exact_19[slice7],\n",
        "       simple_regret_exact_20[slice7]]\n",
        "\n",
        "approx7_results = pd.DataFrame(approx7).sort_values(by=[0], ascending=False)\n",
        "exact7_results = pd.DataFrame(exact7).sort_values(by=[0], ascending=False)\n",
        "\n",
        "### Best simple regret minimization IQR - approx:\n",
        "lower_approx7 = np.asarray(approx7_results[4:5][0])[0]\n",
        "median_approx7 = np.asarray(approx7_results[9:10][0])[0]\n",
        "upper_approx7 = np.asarray(approx7_results[14:15][0])[0]\n",
        "\n",
        "lower_exact7 = np.asarray(exact7_results[4:5][0])[0]\n",
        "median_exact7 = np.asarray(exact7_results[9:10][0])[0]\n",
        "upper_exact7 = np.asarray(exact7_results[14:15][0])[0]\n"
      ]
    },
    {
      "cell_type": "code",
      "execution_count": 87,
      "metadata": {
        "id": "q-Fd0t3kJLmN"
      },
      "outputs": [],
      "source": [
        "# Iteration17 :\n",
        "\n",
        "slice17 = 16\n",
        "\n",
        "approx17 = [simple_regret_approx_1[slice17],\n",
        "       simple_regret_approx_2[slice17],\n",
        "       simple_regret_approx_3[slice17],\n",
        "       simple_regret_approx_4[slice17],\n",
        "       simple_regret_approx_5[slice17],\n",
        "       simple_regret_approx_6[slice17],\n",
        "       simple_regret_approx_7[slice17],\n",
        "       simple_regret_approx_8[slice17],\n",
        "       simple_regret_approx_9[slice17],\n",
        "       simple_regret_approx_10[slice17],\n",
        "       simple_regret_approx_11[slice17],\n",
        "       simple_regret_approx_12[slice17],\n",
        "       simple_regret_approx_13[slice17],\n",
        "       simple_regret_approx_14[slice17],\n",
        "       simple_regret_approx_15[slice17],\n",
        "       simple_regret_approx_16[slice17],\n",
        "       simple_regret_approx_17[slice17],\n",
        "       simple_regret_approx_18[slice17],\n",
        "       simple_regret_approx_19[slice17],\n",
        "       simple_regret_approx_20[slice17]]\n",
        "\n",
        "exact17 = [simple_regret_exact_1[slice17],\n",
        "       simple_regret_exact_2[slice17],\n",
        "       simple_regret_exact_3[slice17],\n",
        "       simple_regret_exact_4[slice17],\n",
        "       simple_regret_exact_5[slice17],\n",
        "       simple_regret_exact_6[slice17],\n",
        "       simple_regret_exact_7[slice17],\n",
        "       simple_regret_exact_8[slice17],\n",
        "       simple_regret_exact_9[slice17],\n",
        "       simple_regret_exact_10[slice17],\n",
        "       simple_regret_exact_11[slice17],\n",
        "       simple_regret_exact_12[slice17],\n",
        "       simple_regret_exact_13[slice17],\n",
        "       simple_regret_exact_14[slice17],\n",
        "       simple_regret_exact_15[slice17],\n",
        "       simple_regret_exact_16[slice17],\n",
        "       simple_regret_exact_17[slice17],\n",
        "       simple_regret_exact_18[slice17],\n",
        "       simple_regret_exact_19[slice17],\n",
        "       simple_regret_exact_20[slice17]]\n",
        "\n",
        "approx17_results = pd.DataFrame(approx17).sort_values(by=[0], ascending=False)\n",
        "exact17_results = pd.DataFrame(exact17).sort_values(by=[0], ascending=False)\n",
        "\n",
        "### Best simple regret minimization IQR - approx:\n",
        "lower_approx17 = np.asarray(approx17_results[4:5][0])[0]\n",
        "median_approx17 = np.asarray(approx17_results[9:10][0])[0]\n",
        "upper_approx17 = np.asarray(approx17_results[14:15][0])[0]\n",
        "\n",
        "lower_exact17 = np.asarray(exact17_results[4:5][0])[0]\n",
        "median_exact17 = np.asarray(exact17_results[9:10][0])[0]\n",
        "upper_exact17 = np.asarray(exact17_results[14:15][0])[0]\n"
      ]
    },
    {
      "cell_type": "code",
      "execution_count": 88,
      "metadata": {
        "id": "JueXVbnGJLmU"
      },
      "outputs": [],
      "source": [
        "# Iteration8 :\n",
        "\n",
        "slice8 = 7\n",
        "\n",
        "approx8 = [simple_regret_approx_1[slice8],\n",
        "       simple_regret_approx_2[slice8],\n",
        "       simple_regret_approx_3[slice8],\n",
        "       simple_regret_approx_4[slice8],\n",
        "       simple_regret_approx_5[slice8],\n",
        "       simple_regret_approx_6[slice8],\n",
        "       simple_regret_approx_7[slice8],\n",
        "       simple_regret_approx_8[slice8],\n",
        "       simple_regret_approx_9[slice8],\n",
        "       simple_regret_approx_10[slice8],\n",
        "       simple_regret_approx_11[slice8],\n",
        "       simple_regret_approx_12[slice8],\n",
        "       simple_regret_approx_13[slice8],\n",
        "       simple_regret_approx_14[slice8],\n",
        "       simple_regret_approx_15[slice8],\n",
        "       simple_regret_approx_16[slice8],\n",
        "       simple_regret_approx_17[slice8],\n",
        "       simple_regret_approx_18[slice8],\n",
        "       simple_regret_approx_19[slice8],\n",
        "       simple_regret_approx_20[slice8]]\n",
        "\n",
        "exact8 = [simple_regret_exact_1[slice8],\n",
        "       simple_regret_exact_2[slice8],\n",
        "       simple_regret_exact_3[slice8],\n",
        "       simple_regret_exact_4[slice8],\n",
        "       simple_regret_exact_5[slice8],\n",
        "       simple_regret_exact_6[slice8],\n",
        "       simple_regret_exact_7[slice8],\n",
        "       simple_regret_exact_8[slice8],\n",
        "       simple_regret_exact_9[slice8],\n",
        "       simple_regret_exact_10[slice8],\n",
        "       simple_regret_exact_11[slice8],\n",
        "       simple_regret_exact_12[slice8],\n",
        "       simple_regret_exact_13[slice8],\n",
        "       simple_regret_exact_14[slice8],\n",
        "       simple_regret_exact_15[slice8],\n",
        "       simple_regret_exact_16[slice8],\n",
        "       simple_regret_exact_17[slice8],\n",
        "       simple_regret_exact_18[slice8],\n",
        "       simple_regret_exact_19[slice8],\n",
        "       simple_regret_exact_20[slice8]]\n",
        "\n",
        "approx8_results = pd.DataFrame(approx8).sort_values(by=[0], ascending=False)\n",
        "exact8_results = pd.DataFrame(exact8).sort_values(by=[0], ascending=False)\n",
        "\n",
        "### Best simple regret minimization IQR - approx:\n",
        "lower_approx8 = np.asarray(approx8_results[4:5][0])[0]\n",
        "median_approx8 = np.asarray(approx8_results[9:10][0])[0]\n",
        "upper_approx8 = np.asarray(approx8_results[14:15][0])[0]\n",
        "\n",
        "lower_exact8 = np.asarray(exact8_results[4:5][0])[0]\n",
        "median_exact8 = np.asarray(exact8_results[9:10][0])[0]\n",
        "upper_exact8 = np.asarray(exact8_results[14:15][0])[0]\n"
      ]
    },
    {
      "cell_type": "code",
      "execution_count": 89,
      "metadata": {
        "id": "mnFJ7maJJLmU"
      },
      "outputs": [],
      "source": [
        "# Iteration18 :\n",
        "\n",
        "slice18 = 17\n",
        "\n",
        "approx18 = [simple_regret_approx_1[slice18],\n",
        "       simple_regret_approx_2[slice18],\n",
        "       simple_regret_approx_3[slice18],\n",
        "       simple_regret_approx_4[slice18],\n",
        "       simple_regret_approx_5[slice18],\n",
        "       simple_regret_approx_6[slice18],\n",
        "       simple_regret_approx_7[slice18],\n",
        "       simple_regret_approx_8[slice18],\n",
        "       simple_regret_approx_9[slice18],\n",
        "       simple_regret_approx_10[slice18],\n",
        "       simple_regret_approx_11[slice18],\n",
        "       simple_regret_approx_12[slice18],\n",
        "       simple_regret_approx_13[slice18],\n",
        "       simple_regret_approx_14[slice18],\n",
        "       simple_regret_approx_15[slice18],\n",
        "       simple_regret_approx_16[slice18],\n",
        "       simple_regret_approx_17[slice18],\n",
        "       simple_regret_approx_18[slice18],\n",
        "       simple_regret_approx_19[slice18],\n",
        "       simple_regret_approx_20[slice18]]\n",
        "\n",
        "exact18 = [simple_regret_exact_1[slice18],\n",
        "       simple_regret_exact_2[slice18],\n",
        "       simple_regret_exact_3[slice18],\n",
        "       simple_regret_exact_4[slice18],\n",
        "       simple_regret_exact_5[slice18],\n",
        "       simple_regret_exact_6[slice18],\n",
        "       simple_regret_exact_7[slice18],\n",
        "       simple_regret_exact_8[slice18],\n",
        "       simple_regret_exact_9[slice18],\n",
        "       simple_regret_exact_10[slice18],\n",
        "       simple_regret_exact_11[slice18],\n",
        "       simple_regret_exact_12[slice18],\n",
        "       simple_regret_exact_13[slice18],\n",
        "       simple_regret_exact_14[slice18],\n",
        "       simple_regret_exact_15[slice18],\n",
        "       simple_regret_exact_16[slice18],\n",
        "       simple_regret_exact_17[slice18],\n",
        "       simple_regret_exact_18[slice18],\n",
        "       simple_regret_exact_19[slice18],\n",
        "       simple_regret_exact_20[slice18]]\n",
        "\n",
        "approx18_results = pd.DataFrame(approx18).sort_values(by=[0], ascending=False)\n",
        "exact18_results = pd.DataFrame(exact18).sort_values(by=[0], ascending=False)\n",
        "\n",
        "### Best simple regret minimization IQR - approx:\n",
        "lower_approx18 = np.asarray(approx18_results[4:5][0])[0]\n",
        "median_approx18 = np.asarray(approx18_results[9:10][0])[0]\n",
        "upper_approx18 = np.asarray(approx18_results[14:15][0])[0]\n",
        "\n",
        "lower_exact18 = np.asarray(exact18_results[4:5][0])[0]\n",
        "median_exact18 = np.asarray(exact18_results[9:10][0])[0]\n",
        "upper_exact18 = np.asarray(exact18_results[14:15][0])[0]\n"
      ]
    },
    {
      "cell_type": "code",
      "execution_count": 90,
      "metadata": {
        "id": "ll-p_qWUJLmb"
      },
      "outputs": [],
      "source": [
        "# Iteration9 :\n",
        "\n",
        "slice9 = 8\n",
        "\n",
        "approx9 = [simple_regret_approx_1[slice9],\n",
        "       simple_regret_approx_2[slice9],\n",
        "       simple_regret_approx_3[slice9],\n",
        "       simple_regret_approx_4[slice9],\n",
        "       simple_regret_approx_5[slice9],\n",
        "       simple_regret_approx_6[slice9],\n",
        "       simple_regret_approx_7[slice9],\n",
        "       simple_regret_approx_8[slice9],\n",
        "       simple_regret_approx_9[slice9],\n",
        "       simple_regret_approx_10[slice9],\n",
        "       simple_regret_approx_11[slice9],\n",
        "       simple_regret_approx_12[slice9],\n",
        "       simple_regret_approx_13[slice9],\n",
        "       simple_regret_approx_14[slice9],\n",
        "       simple_regret_approx_15[slice9],\n",
        "       simple_regret_approx_16[slice9],\n",
        "       simple_regret_approx_17[slice9],\n",
        "       simple_regret_approx_18[slice9],\n",
        "       simple_regret_approx_19[slice9],\n",
        "       simple_regret_approx_20[slice9]]\n",
        "\n",
        "exact9 = [simple_regret_exact_1[slice9],\n",
        "       simple_regret_exact_2[slice9],\n",
        "       simple_regret_exact_3[slice9],\n",
        "       simple_regret_exact_4[slice9],\n",
        "       simple_regret_exact_5[slice9],\n",
        "       simple_regret_exact_6[slice9],\n",
        "       simple_regret_exact_7[slice9],\n",
        "       simple_regret_exact_8[slice9],\n",
        "       simple_regret_exact_9[slice9],\n",
        "       simple_regret_exact_10[slice9],\n",
        "       simple_regret_exact_11[slice9],\n",
        "       simple_regret_exact_12[slice9],\n",
        "       simple_regret_exact_13[slice9],\n",
        "       simple_regret_exact_14[slice9],\n",
        "       simple_regret_exact_15[slice9],\n",
        "       simple_regret_exact_16[slice9],\n",
        "       simple_regret_exact_17[slice9],\n",
        "       simple_regret_exact_18[slice9],\n",
        "       simple_regret_exact_19[slice9],\n",
        "       simple_regret_exact_20[slice9]]\n",
        "\n",
        "approx9_results = pd.DataFrame(approx9).sort_values(by=[0], ascending=False)\n",
        "exact9_results = pd.DataFrame(exact9).sort_values(by=[0], ascending=False)\n",
        "\n",
        "### Best simple regret minimization IQR - approx:\n",
        "lower_approx9 = np.asarray(approx9_results[4:5][0])[0]\n",
        "median_approx9 = np.asarray(approx9_results[9:10][0])[0]\n",
        "upper_approx9 = np.asarray(approx9_results[14:15][0])[0]\n",
        "\n",
        "lower_exact9 = np.asarray(exact9_results[4:5][0])[0]\n",
        "median_exact9 = np.asarray(exact9_results[9:10][0])[0]\n",
        "upper_exact9 = np.asarray(exact9_results[14:15][0])[0]\n"
      ]
    },
    {
      "cell_type": "code",
      "execution_count": 91,
      "metadata": {
        "id": "G3QVtLpJJLmc"
      },
      "outputs": [],
      "source": [
        "# Iteration19 :\n",
        "\n",
        "slice19 = 18\n",
        "\n",
        "approx19 = [simple_regret_approx_1[slice19],\n",
        "       simple_regret_approx_2[slice19],\n",
        "       simple_regret_approx_3[slice19],\n",
        "       simple_regret_approx_4[slice19],\n",
        "       simple_regret_approx_5[slice19],\n",
        "       simple_regret_approx_6[slice19],\n",
        "       simple_regret_approx_7[slice19],\n",
        "       simple_regret_approx_8[slice19],\n",
        "       simple_regret_approx_9[slice19],\n",
        "       simple_regret_approx_10[slice19],\n",
        "       simple_regret_approx_11[slice19],\n",
        "       simple_regret_approx_12[slice19],\n",
        "       simple_regret_approx_13[slice19],\n",
        "       simple_regret_approx_14[slice19],\n",
        "       simple_regret_approx_15[slice19],\n",
        "       simple_regret_approx_16[slice19],\n",
        "       simple_regret_approx_17[slice19],\n",
        "       simple_regret_approx_18[slice19],\n",
        "       simple_regret_approx_19[slice19],\n",
        "       simple_regret_approx_20[slice19]]\n",
        "\n",
        "exact19 = [simple_regret_exact_1[slice19],\n",
        "       simple_regret_exact_2[slice19],\n",
        "       simple_regret_exact_3[slice19],\n",
        "       simple_regret_exact_4[slice19],\n",
        "       simple_regret_exact_5[slice19],\n",
        "       simple_regret_exact_6[slice19],\n",
        "       simple_regret_exact_7[slice19],\n",
        "       simple_regret_exact_8[slice19],\n",
        "       simple_regret_exact_9[slice19],\n",
        "       simple_regret_exact_10[slice19],\n",
        "       simple_regret_exact_11[slice19],\n",
        "       simple_regret_exact_12[slice19],\n",
        "       simple_regret_exact_13[slice19],\n",
        "       simple_regret_exact_14[slice19],\n",
        "       simple_regret_exact_15[slice19],\n",
        "       simple_regret_exact_16[slice19],\n",
        "       simple_regret_exact_17[slice19],\n",
        "       simple_regret_exact_18[slice19],\n",
        "       simple_regret_exact_19[slice19],\n",
        "       simple_regret_exact_20[slice19]]\n",
        "\n",
        "approx19_results = pd.DataFrame(approx19).sort_values(by=[0], ascending=False)\n",
        "exact19_results = pd.DataFrame(exact19).sort_values(by=[0], ascending=False)\n",
        "\n",
        "### Best simple regret minimization IQR - approx:\n",
        "lower_approx19 = np.asarray(approx19_results[4:5][0])[0]\n",
        "median_approx19 = np.asarray(approx19_results[9:10][0])[0]\n",
        "upper_approx19 = np.asarray(approx19_results[14:15][0])[0]\n",
        "\n",
        "lower_exact19 = np.asarray(exact19_results[4:5][0])[0]\n",
        "median_exact19 = np.asarray(exact19_results[9:10][0])[0]\n",
        "upper_exact19 = np.asarray(exact19_results[14:15][0])[0]\n"
      ]
    },
    {
      "cell_type": "code",
      "execution_count": 92,
      "metadata": {
        "id": "IzQng-ULJLmj"
      },
      "outputs": [],
      "source": [
        "# Iteration10 :\n",
        "\n",
        "slice10 = 9\n",
        "\n",
        "approx10 = [simple_regret_approx_1[slice10],\n",
        "       simple_regret_approx_2[slice10],\n",
        "       simple_regret_approx_3[slice10],\n",
        "       simple_regret_approx_4[slice10],\n",
        "       simple_regret_approx_5[slice10],\n",
        "       simple_regret_approx_6[slice10],\n",
        "       simple_regret_approx_7[slice10],\n",
        "       simple_regret_approx_8[slice10],\n",
        "       simple_regret_approx_9[slice10],\n",
        "       simple_regret_approx_10[slice10],\n",
        "       simple_regret_approx_11[slice10],\n",
        "       simple_regret_approx_12[slice10],\n",
        "       simple_regret_approx_13[slice10],\n",
        "       simple_regret_approx_14[slice10],\n",
        "       simple_regret_approx_15[slice10],\n",
        "       simple_regret_approx_16[slice10],\n",
        "       simple_regret_approx_17[slice10],\n",
        "       simple_regret_approx_18[slice10],\n",
        "       simple_regret_approx_19[slice10],\n",
        "       simple_regret_approx_20[slice10]]\n",
        "\n",
        "exact10 = [simple_regret_exact_1[slice10],\n",
        "       simple_regret_exact_2[slice10],\n",
        "       simple_regret_exact_3[slice10],\n",
        "       simple_regret_exact_4[slice10],\n",
        "       simple_regret_exact_5[slice10],\n",
        "       simple_regret_exact_6[slice10],\n",
        "       simple_regret_exact_7[slice10],\n",
        "       simple_regret_exact_8[slice10],\n",
        "       simple_regret_exact_9[slice10],\n",
        "       simple_regret_exact_10[slice10],\n",
        "       simple_regret_exact_11[slice10],\n",
        "       simple_regret_exact_12[slice10],\n",
        "       simple_regret_exact_13[slice10],\n",
        "       simple_regret_exact_14[slice10],\n",
        "       simple_regret_exact_15[slice10],\n",
        "       simple_regret_exact_16[slice10],\n",
        "       simple_regret_exact_17[slice10],\n",
        "       simple_regret_exact_18[slice10],\n",
        "       simple_regret_exact_19[slice10],\n",
        "       simple_regret_exact_20[slice10]]\n",
        "\n",
        "approx10_results = pd.DataFrame(approx10).sort_values(by=[0], ascending=False)\n",
        "exact10_results = pd.DataFrame(exact10).sort_values(by=[0], ascending=False)\n",
        "\n",
        "### Best simple regret minimization IQR - approx:\n",
        "lower_approx10 = np.asarray(approx10_results[4:5][0])[0]\n",
        "median_approx10 = np.asarray(approx10_results[9:10][0])[0]\n",
        "upper_approx10 = np.asarray(approx10_results[14:15][0])[0]\n",
        "\n",
        "lower_exact10 = np.asarray(exact10_results[4:5][0])[0]\n",
        "median_exact10 = np.asarray(exact10_results[9:10][0])[0]\n",
        "upper_exact10 = np.asarray(exact10_results[14:15][0])[0]\n"
      ]
    },
    {
      "cell_type": "code",
      "execution_count": 93,
      "metadata": {
        "id": "DQ_Cuh-4JLmk"
      },
      "outputs": [],
      "source": [
        "# Iteration20 :\n",
        "\n",
        "slice20 = 19\n",
        "\n",
        "approx20 = [simple_regret_approx_1[slice20],\n",
        "       simple_regret_approx_2[slice20],\n",
        "       simple_regret_approx_3[slice20],\n",
        "       simple_regret_approx_4[slice20],\n",
        "       simple_regret_approx_5[slice20],\n",
        "       simple_regret_approx_6[slice20],\n",
        "       simple_regret_approx_7[slice20],\n",
        "       simple_regret_approx_8[slice20],\n",
        "       simple_regret_approx_9[slice20],\n",
        "       simple_regret_approx_10[slice20],\n",
        "       simple_regret_approx_11[slice20],\n",
        "       simple_regret_approx_12[slice20],\n",
        "       simple_regret_approx_13[slice20],\n",
        "       simple_regret_approx_14[slice20],\n",
        "       simple_regret_approx_15[slice20],\n",
        "       simple_regret_approx_16[slice20],\n",
        "       simple_regret_approx_17[slice20],\n",
        "       simple_regret_approx_18[slice20],\n",
        "       simple_regret_approx_19[slice20],\n",
        "       simple_regret_approx_20[slice20]]\n",
        "\n",
        "exact20 = [simple_regret_exact_1[slice20],\n",
        "       simple_regret_exact_2[slice20],\n",
        "       simple_regret_exact_3[slice20],\n",
        "       simple_regret_exact_4[slice20],\n",
        "       simple_regret_exact_5[slice20],\n",
        "       simple_regret_exact_6[slice20],\n",
        "       simple_regret_exact_7[slice20],\n",
        "       simple_regret_exact_8[slice20],\n",
        "       simple_regret_exact_9[slice20],\n",
        "       simple_regret_exact_10[slice20],\n",
        "       simple_regret_exact_11[slice20],\n",
        "       simple_regret_exact_12[slice20],\n",
        "       simple_regret_exact_13[slice20],\n",
        "       simple_regret_exact_14[slice20],\n",
        "       simple_regret_exact_15[slice20],\n",
        "       simple_regret_exact_16[slice20],\n",
        "       simple_regret_exact_17[slice20],\n",
        "       simple_regret_exact_18[slice20],\n",
        "       simple_regret_exact_19[slice20],\n",
        "       simple_regret_exact_20[slice20]]\n",
        "\n",
        "approx20_results = pd.DataFrame(approx20).sort_values(by=[0], ascending=False)\n",
        "exact20_results = pd.DataFrame(exact20).sort_values(by=[0], ascending=False)\n",
        "\n",
        "### Best simple regret minimization IQR - approx:\n",
        "lower_approx20 = np.asarray(approx20_results[4:5][0])[0]\n",
        "median_approx20 = np.asarray(approx20_results[9:10][0])[0]\n",
        "upper_approx20 = np.asarray(approx20_results[14:15][0])[0]\n",
        "\n",
        "lower_exact20 = np.asarray(exact20_results[4:5][0])[0]\n",
        "median_exact20 = np.asarray(exact20_results[9:10][0])[0]\n",
        "upper_exact20 = np.asarray(exact20_results[14:15][0])[0]\n"
      ]
    },
    {
      "cell_type": "code",
      "execution_count": 94,
      "metadata": {
        "id": "R1gk3HGTJLms"
      },
      "outputs": [],
      "source": [
        "### Summarise arrays: 'GP EI'\n",
        "\n",
        "lower_approx = [lower_approx1,\n",
        "            lower_approx2,\n",
        "            lower_approx3,\n",
        "            lower_approx4,\n",
        "            lower_approx5,\n",
        "            lower_approx6,\n",
        "            lower_approx7,\n",
        "            lower_approx8,\n",
        "            lower_approx9,\n",
        "            lower_approx10,\n",
        "            lower_approx11,\n",
        "            lower_approx12,\n",
        "            lower_approx13,\n",
        "            lower_approx14,\n",
        "            lower_approx15,\n",
        "            lower_approx16,\n",
        "            lower_approx17,\n",
        "            lower_approx18,\n",
        "            lower_approx19,\n",
        "            lower_approx20,\n",
        "            lower_approx21]\n",
        "\n",
        "median_approx = [median_approx1,\n",
        "            median_approx2,\n",
        "            median_approx3,\n",
        "            median_approx4,\n",
        "            median_approx5,\n",
        "            median_approx6,\n",
        "            median_approx7,\n",
        "            median_approx8,\n",
        "            median_approx9,\n",
        "            median_approx10,\n",
        "            median_approx11,\n",
        "            median_approx12,\n",
        "            median_approx13,\n",
        "            median_approx14,\n",
        "            median_approx15,\n",
        "            median_approx16,\n",
        "            median_approx17,\n",
        "            median_approx18,\n",
        "            median_approx19,\n",
        "            median_approx20,\n",
        "            median_approx21]\n",
        "\n",
        "upper_approx = [upper_approx1,\n",
        "            upper_approx2,\n",
        "            upper_approx3,\n",
        "            upper_approx4,\n",
        "            upper_approx5,\n",
        "            upper_approx6,\n",
        "            upper_approx7,\n",
        "            upper_approx8,\n",
        "            upper_approx9,\n",
        "            upper_approx10,\n",
        "            upper_approx11,\n",
        "            upper_approx12,\n",
        "            upper_approx13,\n",
        "            upper_approx14,\n",
        "            upper_approx15,\n",
        "            upper_approx16,\n",
        "            upper_approx17,\n",
        "            upper_approx18,\n",
        "            upper_approx19,\n",
        "            upper_approx20,\n",
        "            upper_approx21]\n"
      ]
    },
    {
      "cell_type": "code",
      "execution_count": 95,
      "metadata": {
        "id": "jox8uqaeJLmu"
      },
      "outputs": [],
      "source": [
        "### Summarise arrays: 'GP dEI'\n",
        "\n",
        "lower_exact = [lower_exact1,\n",
        "            lower_exact2,\n",
        "            lower_exact3,\n",
        "            lower_exact4,\n",
        "            lower_exact5,\n",
        "            lower_exact6,\n",
        "            lower_exact7,\n",
        "            lower_exact8,\n",
        "            lower_exact9,\n",
        "            lower_exact10,\n",
        "            lower_exact11,\n",
        "            lower_exact12,\n",
        "            lower_exact13,\n",
        "            lower_exact14,\n",
        "            lower_exact15,\n",
        "            lower_exact16,\n",
        "            lower_exact17,\n",
        "            lower_exact18,\n",
        "            lower_exact19,\n",
        "            lower_exact20,\n",
        "            lower_exact21]\n",
        "\n",
        "median_exact = [median_exact1,\n",
        "            median_exact2,\n",
        "            median_exact3,\n",
        "            median_exact4,\n",
        "            median_exact5,\n",
        "            median_exact6,\n",
        "            median_exact7,\n",
        "            median_exact8,\n",
        "            median_exact9,\n",
        "            median_exact10,\n",
        "            median_exact11,\n",
        "            median_exact12,\n",
        "            median_exact13,\n",
        "            median_exact14,\n",
        "            median_exact15,\n",
        "            median_exact16,\n",
        "            median_exact17,\n",
        "            median_exact18,\n",
        "            median_exact19,\n",
        "            median_exact20,\n",
        "            median_exact21]\n",
        "\n",
        "upper_exact = [upper_exact1,\n",
        "            upper_exact2,\n",
        "            upper_exact3,\n",
        "            upper_exact4,\n",
        "            upper_exact5,\n",
        "            upper_exact6,\n",
        "            upper_exact7,\n",
        "            upper_exact8,\n",
        "            upper_exact9,\n",
        "            upper_exact10,\n",
        "            upper_exact11,\n",
        "            upper_exact12,\n",
        "            upper_exact13,\n",
        "            upper_exact14,\n",
        "            upper_exact15,\n",
        "            upper_exact16,\n",
        "            upper_exact17,\n",
        "            upper_exact18,\n",
        "            upper_exact19,\n",
        "            upper_exact20,\n",
        "            upper_exact21]\n"
      ]
    },
    {
      "cell_type": "code",
      "source": [
        "def extractAcqFuncMax(x):\n",
        "    new_array = []\n",
        "    x = np.array(x) \n",
        "    for i, num in enumerate(x):\n",
        "            new_array = x[::-1][:-1][::-3]\n",
        "    return new_array\n",
        "\n",
        "def exploitExtract(x):\n",
        "    new_array = []\n",
        "    x = np.array(x) \n",
        "    for i, num in enumerate(x):\n",
        "            new_array = x[::-1][:-2][::-3]\n",
        "    return new_array\n",
        "\n",
        "def extractTau(x):\n",
        "    new_array = []\n",
        "    x = np.array(x) \n",
        "    for i, num in enumerate(x):\n",
        "            new_array = x[::-1][:-3][::-3] * -1\n",
        "    return new_array\n"
      ],
      "metadata": {
        "id": "LMt1agnP73Ni"
      },
      "execution_count": 96,
      "outputs": []
    },
    {
      "cell_type": "code",
      "source": [
        "approx1_acqFuncMax = extractAcqFuncMax(approx_1.history) + eps\n",
        "approx1_exploit = exploitExtract(approx_1.history) + eps\n",
        "approx1_ratio = approx1_exploit/approx1_acqFuncMax \n",
        "\n",
        "np.round(approx1_acqFuncMax, 3), np.round(approx1_exploit,3)\n"
      ],
      "metadata": {
        "id": "DVD6SnGctX7H",
        "colab": {
          "base_uri": "https://localhost:8080/"
        },
        "outputId": "fdca11d4-3cb9-4578-a8c4-d6d1394b8b98"
      },
      "execution_count": 97,
      "outputs": [
        {
          "output_type": "execute_result",
          "data": {
            "text/plain": [
              "(array([1.593, 1.593, 1.593, 1.592, 1.583, 1.582, 1.538, 1.513, 1.315,\n",
              "        1.317, 0.811, 0.738, 0.705, 0.554, 0.557, 0.554, 0.556, 0.549,\n",
              "        0.544, 0.546]),\n",
              " array([0.942, 0.942, 0.942, 0.941, 0.929, 0.928, 0.872, 0.84 , 0.597,\n",
              "        0.601, 0.013, 0.013, 0.   , 0.   , 0.   , 0.   , 0.   , 0.   ,\n",
              "        0.   , 0.   ]))"
            ]
          },
          "metadata": {},
          "execution_count": 97
        }
      ]
    },
    {
      "cell_type": "code",
      "source": [
        "approx2_acqFuncMax = extractAcqFuncMax(approx_2.history) + eps\n",
        "approx2_exploit = exploitExtract(approx_2.history) + eps\n",
        "approx2_ratio = approx2_exploit/approx2_acqFuncMax\n",
        "\n",
        "np.round(approx2_acqFuncMax, 3), np.round(approx2_exploit, 3)\n"
      ],
      "metadata": {
        "id": "7RNHlRgYvmb6",
        "colab": {
          "base_uri": "https://localhost:8080/"
        },
        "outputId": "c3c4d029-2578-4d4d-8d1e-e333b7a831f0"
      },
      "execution_count": 98,
      "outputs": [
        {
          "output_type": "execute_result",
          "data": {
            "text/plain": [
              "(array([1.195, 1.195, 1.194, 1.194, 1.194, 1.166, 1.154, 1.119, 1.038,\n",
              "        0.988, 0.968, 0.873, 0.848, 0.566, 0.565, 0.561, 0.559, 0.559,\n",
              "        0.559, 0.559]),\n",
              " array([0.444, 0.444, 0.444, 0.443, 0.442, 0.418, 0.395, 0.354, 0.26 ,\n",
              "        0.203, 0.076, 0.075, 0.102, 0.   , 0.   , 0.   , 0.   , 0.   ,\n",
              "        0.   , 0.   ]))"
            ]
          },
          "metadata": {},
          "execution_count": 98
        }
      ]
    },
    {
      "cell_type": "code",
      "source": [
        "approx3_acqFuncMax = extractAcqFuncMax(approx_3.history) + eps\n",
        "approx3_exploit = exploitExtract(approx_3.history) + eps\n",
        "approx3_ratio = approx3_exploit/approx3_acqFuncMax\n",
        "\n",
        "np.round(approx3_acqFuncMax, 3), np.round(approx3_exploit, 3)\n"
      ],
      "metadata": {
        "id": "TQPZOVBxvmmw",
        "colab": {
          "base_uri": "https://localhost:8080/"
        },
        "outputId": "f037aef1-299f-4ffa-a481-1c00b73624b1"
      },
      "execution_count": 99,
      "outputs": [
        {
          "output_type": "execute_result",
          "data": {
            "text/plain": [
              "(array([4.604, 4.604, 4.604, 4.582, 4.572, 2.414, 2.253, 2.197, 2.121,\n",
              "        2.035, 1.96 , 1.89 , 1.848, 1.791, 1.855, 0.527, 0.536, 0.543,\n",
              "        0.547, 0.55 ]),\n",
              " array([4.547, 4.547, 4.547, 4.524, 4.512, 2.   , 1.794, 1.723, 1.627,\n",
              "        1.206, 1.325, 1.325, 1.209, 1.209, 1.301, 0.   , 0.   , 0.   ,\n",
              "        0.   , 0.   ]))"
            ]
          },
          "metadata": {},
          "execution_count": 99
        }
      ]
    },
    {
      "cell_type": "code",
      "source": [
        "approx4_acqFuncMax = extractAcqFuncMax(approx_4.history) + eps\n",
        "approx4_exploit = exploitExtract(approx_4.history) + eps\n",
        "approx4_ratio = approx4_exploit/approx4_acqFuncMax\n",
        "\n",
        "np.round(approx4_acqFuncMax, 3), np.round(approx4_exploit, 3)\n"
      ],
      "metadata": {
        "id": "GnRH8wU8vmvg",
        "colab": {
          "base_uri": "https://localhost:8080/"
        },
        "outputId": "4968b1be-7529-4d83-9255-8e59a0b7c1d5"
      },
      "execution_count": 100,
      "outputs": [
        {
          "output_type": "execute_result",
          "data": {
            "text/plain": [
              "(array([6.844, 6.844, 6.844, 6.833, 6.833, 1.734, 1.727, 1.697, 1.552,\n",
              "        0.935, 0.905, 0.895, 0.824, 0.545, 0.55 , 0.553, 0.554, 0.555,\n",
              "        0.556, 0.557]),\n",
              " array([6.842, 6.842, 6.842, 6.831, 6.83 , 1.124, 1.115, 1.037, 0.892,\n",
              "        0.141, 0.168, 0.121, 0.085, 0.   , 0.   , 0.   , 0.   , 0.   ,\n",
              "        0.   , 0.   ]))"
            ]
          },
          "metadata": {},
          "execution_count": 100
        }
      ]
    },
    {
      "cell_type": "code",
      "source": [
        "approx5_acqFuncMax = extractAcqFuncMax(approx_5.history) + eps\n",
        "approx5_exploit = exploitExtract(approx_5.history) + eps\n",
        "approx5_ratio = approx5_exploit/approx5_acqFuncMax\n",
        "\n",
        "np.round(approx5_acqFuncMax, 3), np.round(approx5_exploit, 3)\n"
      ],
      "metadata": {
        "id": "qlQrBWFjvm5V",
        "colab": {
          "base_uri": "https://localhost:8080/"
        },
        "outputId": "b399a9f2-8472-48dd-d44d-871e5aa0724b"
      },
      "execution_count": 101,
      "outputs": [
        {
          "output_type": "execute_result",
          "data": {
            "text/plain": [
              "(array([1.628, 1.628, 1.627, 1.621, 1.62 , 1.589, 1.572, 1.504, 1.482,\n",
              "        1.44 , 1.299, 1.247, 1.036, 0.483, 0.506, 0.518, 0.526, 0.532,\n",
              "        0.536, 0.539]),\n",
              " array([0.987, 0.987, 0.986, 0.978, 0.976, 0.937, 0.915, 0.828, 0.804,\n",
              "        0.586, 0.587, 0.24 , 0.298, 0.   , 0.   , 0.   , 0.   , 0.   ,\n",
              "        0.   , 0.   ]))"
            ]
          },
          "metadata": {},
          "execution_count": 101
        }
      ]
    },
    {
      "cell_type": "code",
      "source": [
        "approx6_acqFuncMax = extractAcqFuncMax(approx_6.history) + eps\n",
        "approx6_exploit = exploitExtract(approx_6.history) + eps\n",
        "approx6_ratio = approx6_exploit/approx6_acqFuncMax\n",
        "\n",
        "np.round(approx6_acqFuncMax, 3), np.round(approx6_exploit, 3)\n"
      ],
      "metadata": {
        "id": "Ikyi5fCtvnCI",
        "colab": {
          "base_uri": "https://localhost:8080/"
        },
        "outputId": "f442e29b-5cfc-4510-b02c-59a3fcc331a9"
      },
      "execution_count": 102,
      "outputs": [
        {
          "output_type": "execute_result",
          "data": {
            "text/plain": [
              "(array([1.251, 1.251, 1.25 , 1.25 , 1.247, 1.239, 1.205, 1.133, 0.979,\n",
              "        0.935, 0.845, 0.528, 0.537, 0.542, 0.546, 0.548, 0.55 , 0.552,\n",
              "        0.553, 0.554]),\n",
              " array([0.512, 0.512, 0.511, 0.511, 0.508, 0.498, 0.37 , 0.37 , 0.231,\n",
              "        0.192, 0.119, 0.   , 0.   , 0.   , 0.   , 0.   , 0.   , 0.   ,\n",
              "        0.   , 0.   ]))"
            ]
          },
          "metadata": {},
          "execution_count": 102
        }
      ]
    },
    {
      "cell_type": "code",
      "source": [
        "approx7_acqFuncMax = extractAcqFuncMax(approx_7.history) + eps\n",
        "approx7_exploit = exploitExtract(approx_7.history) + eps\n",
        "approx7_ratio = approx7_exploit/approx7_acqFuncMax\n",
        "\n",
        "np.round(approx7_acqFuncMax, 3), np.round(approx7_exploit, 3)\n"
      ],
      "metadata": {
        "id": "SocrfrpHvnKw",
        "colab": {
          "base_uri": "https://localhost:8080/"
        },
        "outputId": "c3abc005-13ec-4122-91e0-265b895a7aad"
      },
      "execution_count": 103,
      "outputs": [
        {
          "output_type": "execute_result",
          "data": {
            "text/plain": [
              "(array([5.624, 5.624, 5.624, 5.624, 5.603, 2.202, 2.097, 2.081, 1.891,\n",
              "        1.621, 1.61 , 1.611, 1.514, 0.477, 0.502, 0.516, 0.524, 0.53 ,\n",
              "        0.534, 0.537]),\n",
              " array([5.609, 5.609, 5.609, 5.609, 5.587, 1.729, 1.594, 1.572, 1.332,\n",
              "        0.978, 0.965, 0.965, 0.868, 0.   , 0.   , 0.   , 0.   , 0.   ,\n",
              "        0.   , 0.   ]))"
            ]
          },
          "metadata": {},
          "execution_count": 103
        }
      ]
    },
    {
      "cell_type": "code",
      "source": [
        "approx8_acqFuncMax = extractAcqFuncMax(approx_8.history) + eps\n",
        "approx8_exploit = exploitExtract(approx_8.history) + eps\n",
        "approx8_ratio = approx8_exploit/approx8_acqFuncMax\n",
        "\n",
        "np.round(approx8_acqFuncMax, 3), np.round(approx8_exploit, 3)\n"
      ],
      "metadata": {
        "id": "Zmy0_HJevnTH",
        "colab": {
          "base_uri": "https://localhost:8080/"
        },
        "outputId": "4371e1fb-eae0-41a6-b67f-02c1c00368df"
      },
      "execution_count": 104,
      "outputs": [
        {
          "output_type": "execute_result",
          "data": {
            "text/plain": [
              "(array([0.851, 0.85 , 0.85 , 0.85 , 0.841, 0.828, 0.779, 0.711, 0.689,\n",
              "        0.683, 0.559, 0.671, 0.546, 0.544, 0.537, 0.538, 0.54 , 0.542,\n",
              "        0.544, 0.546]),\n",
              " array([ 0.056,  0.054,  0.054,  0.054,  0.044,  0.03 ,  0.   ,  0.   ,\n",
              "         0.   , -0.   ,  0.   ,  0.   ,  0.   ,  0.   ,  0.   ,  0.   ,\n",
              "         0.   ,  0.   ,  0.   ,  0.   ]))"
            ]
          },
          "metadata": {},
          "execution_count": 104
        }
      ]
    },
    {
      "cell_type": "code",
      "source": [
        "approx9_acqFuncMax = extractAcqFuncMax(approx_9.history) + eps\n",
        "approx9_exploit = exploitExtract(approx_9.history) + eps\n",
        "approx9_ratio = approx9_exploit/approx9_acqFuncMax\n",
        "\n",
        "np.round(approx9_acqFuncMax, 3), np.round(approx9_exploit, 3)\n"
      ],
      "metadata": {
        "id": "0sxBONQwvncD",
        "colab": {
          "base_uri": "https://localhost:8080/"
        },
        "outputId": "2afe90be-0fb8-48c0-aa00-17d3bcd71124"
      },
      "execution_count": 105,
      "outputs": [
        {
          "output_type": "execute_result",
          "data": {
            "text/plain": [
              "(array([7.35 , 7.35 , 7.35 , 7.349, 2.239, 2.155, 2.138, 2.104, 2.049,\n",
              "        2.014, 2.008, 1.724, 1.677, 1.707, 0.591, 0.578, 0.57 , 0.554,\n",
              "        0.488, 0.503]),\n",
              " array([7.349, 7.349, 7.349, 7.348, 1.776, 1.667, 1.647, 1.602, 1.531,\n",
              "        1.486, 1.479, 1.057, 1.055, 1.097, 0.   , 0.   , 0.   , 0.   ,\n",
              "        0.   , 0.   ]))"
            ]
          },
          "metadata": {},
          "execution_count": 105
        }
      ]
    },
    {
      "cell_type": "code",
      "source": [
        "approx10_acqFuncMax = extractAcqFuncMax(approx_10.history) + eps\n",
        "approx10_exploit = exploitExtract(approx_10.history) + eps\n",
        "approx10_ratio = approx10_exploit/approx10_acqFuncMax\n",
        "\n",
        "np.round(approx10_acqFuncMax, 3), np.round(approx10_exploit, 3)\n"
      ],
      "metadata": {
        "id": "-hi6-IrGvnjw",
        "colab": {
          "base_uri": "https://localhost:8080/"
        },
        "outputId": "a1762bd6-d0aa-44b1-a585-11c622ac8287"
      },
      "execution_count": 106,
      "outputs": [
        {
          "output_type": "execute_result",
          "data": {
            "text/plain": [
              "(array([7.942, 7.942, 7.932, 7.901, 7.889, 7.859, 1.197, 1.067, 1.008,\n",
              "        1.004, 0.977, 0.948, 0.836, 0.776, 0.47 , 0.495, 0.509, 0.519,\n",
              "        0.526, 0.531]),\n",
              " array([7.941, 7.941, 7.932, 7.901, 7.888, 7.859, 0.447, 0.312, 0.245,\n",
              "        0.245, 0.245, 0.158, 0.056, 0.057, 0.   , 0.   , 0.   , 0.   ,\n",
              "        0.   , 0.   ]))"
            ]
          },
          "metadata": {},
          "execution_count": 106
        }
      ]
    },
    {
      "cell_type": "code",
      "source": [
        "approx11_acqFuncMax = extractAcqFuncMax(approx_11.history) + eps\n",
        "approx11_exploit = exploitExtract(approx_11.history) + eps\n",
        "approx11_ratio = approx11_exploit/approx11_acqFuncMax\n",
        "\n",
        "np.round(approx11_acqFuncMax, 3), np.round(approx11_exploit, 3)\n"
      ],
      "metadata": {
        "id": "H1AV-5wnvnsn",
        "colab": {
          "base_uri": "https://localhost:8080/"
        },
        "outputId": "4831a7e9-5cb6-421b-aa5f-23b2d25fcc0b"
      },
      "execution_count": 107,
      "outputs": [
        {
          "output_type": "execute_result",
          "data": {
            "text/plain": [
              "(array([1.19 , 1.19 , 1.188, 1.171, 1.168, 1.139, 1.053, 1.017, 0.962,\n",
              "        0.889, 0.802, 0.801, 0.823, 0.769, 0.511, 0.523, 0.532, 0.537,\n",
              "        0.541, 0.544]),\n",
              " array([0.438, 0.438, 0.436, 0.412, 0.412, 0.377, 0.277, 0.235, 0.191,\n",
              "        0.095, 0.007, 0.045, 0.043, 0.044, 0.   , 0.   , 0.   , 0.   ,\n",
              "        0.   , 0.   ]))"
            ]
          },
          "metadata": {},
          "execution_count": 107
        }
      ]
    },
    {
      "cell_type": "code",
      "source": [
        "approx12_acqFuncMax = extractAcqFuncMax(approx_12.history) + eps\n",
        "approx12_exploit = exploitExtract(approx_12.history) + eps\n",
        "approx12_ratio = approx12_exploit/approx12_acqFuncMax\n",
        "\n",
        "np.round(approx12_acqFuncMax, 3), np.round(approx12_exploit, 3)\n"
      ],
      "metadata": {
        "id": "YlkQrTV6vn0w",
        "colab": {
          "base_uri": "https://localhost:8080/"
        },
        "outputId": "ba55ccb4-4002-419a-93fd-76800d831e86"
      },
      "execution_count": 108,
      "outputs": [
        {
          "output_type": "execute_result",
          "data": {
            "text/plain": [
              "(array([5.994, 5.994, 5.994, 5.811, 5.81 , 5.782, 5.762, 5.583, 2.991,\n",
              "        2.982, 2.969, 2.851, 2.776, 0.559, 0.561, 0.562, 0.562, 0.563,\n",
              "        0.563, 0.563]),\n",
              " array([5.985, 5.985, 5.985, 5.8  , 5.798, 5.77 , 5.75 , 5.567, 2.719,\n",
              "        2.707, 2.691, 2.547, 2.456, 0.   , 0.   , 0.   , 0.   , 0.   ,\n",
              "        0.   , 0.   ]))"
            ]
          },
          "metadata": {},
          "execution_count": 108
        }
      ]
    },
    {
      "cell_type": "code",
      "source": [
        "approx13_acqFuncMax = extractAcqFuncMax(approx_13.history) + eps\n",
        "approx13_exploit = exploitExtract(approx_13.history) + eps\n",
        "approx13_ratio = approx13_exploit/approx13_acqFuncMax\n",
        "\n",
        "np.round(approx13_acqFuncMax, 3), np.round(approx13_exploit, 3)\n"
      ],
      "metadata": {
        "id": "cw8ngwKsvn82",
        "colab": {
          "base_uri": "https://localhost:8080/"
        },
        "outputId": "bcaabb5f-4ebd-479a-bc12-6fd1444ad4fa"
      },
      "execution_count": 109,
      "outputs": [
        {
          "output_type": "execute_result",
          "data": {
            "text/plain": [
              "(array([7.272, 7.272, 7.269, 7.261, 7.259, 1.285, 1.253, 1.134, 1.112,\n",
              "        1.112, 1.061, 1.023, 0.887, 0.844, 0.503, 0.518, 0.527, 0.532,\n",
              "        0.536, 0.54 ]),\n",
              " array([ 7.27 ,  7.27 ,  7.268,  7.26 ,  7.258,  0.515,  0.515,  0.383,\n",
              "         0.37 ,  0.238,  0.286,  0.157,  0.   ,  0.119, -0.   ,  0.   ,\n",
              "         0.   ,  0.   ,  0.   ,  0.   ]))"
            ]
          },
          "metadata": {},
          "execution_count": 109
        }
      ]
    },
    {
      "cell_type": "code",
      "source": [
        "approx14_acqFuncMax = extractAcqFuncMax(approx_14.history) + eps\n",
        "approx14_exploit = exploitExtract(approx_14.history) + eps\n",
        "approx14_ratio = approx14_exploit/approx14_acqFuncMax\n",
        "\n",
        "np.round(approx14_acqFuncMax, 3), np.round(approx14_exploit, 3)\n"
      ],
      "metadata": {
        "id": "SnxJgM50voEV",
        "colab": {
          "base_uri": "https://localhost:8080/"
        },
        "outputId": "f56652c1-dacd-463b-aa89-f997166b9742"
      },
      "execution_count": 110,
      "outputs": [
        {
          "output_type": "execute_result",
          "data": {
            "text/plain": [
              "(array([3.514, 3.514, 3.514, 3.514, 3.444, 2.553, 2.544, 2.518, 2.473,\n",
              "        2.452, 2.311, 2.197, 2.136, 1.967, 0.509, 0.526, 0.535, 0.54 ,\n",
              "        0.544, 0.547]),\n",
              " array([3.338, 3.338, 3.338, 3.338, 3.257, 2.132, 2.164, 2.131, 2.048,\n",
              "        2.048, 1.868, 1.723, 1.647, 1.447, 0.   , 0.   , 0.   , 0.   ,\n",
              "        0.   , 0.   ]))"
            ]
          },
          "metadata": {},
          "execution_count": 110
        }
      ]
    },
    {
      "cell_type": "code",
      "source": [
        "approx15_acqFuncMax = extractAcqFuncMax(approx_15.history) + eps\n",
        "approx15_exploit = exploitExtract(approx_15.history) + eps\n",
        "approx15_ratio = approx15_exploit/approx15_acqFuncMax\n",
        "\n",
        "np.round(approx15_acqFuncMax, 3), np.round(approx15_exploit, 3)\n"
      ],
      "metadata": {
        "id": "MrcPmB4DvoMK",
        "colab": {
          "base_uri": "https://localhost:8080/"
        },
        "outputId": "0279d061-7379-43bf-d234-f09db0153fb5"
      },
      "execution_count": 111,
      "outputs": [
        {
          "output_type": "execute_result",
          "data": {
            "text/plain": [
              "(array([5.386, 5.386, 5.383, 5.379, 5.367, 5.354, 1.566, 1.472, 1.452,\n",
              "        1.434, 1.332, 1.19 , 1.186, 1.152, 1.009, 0.479, 0.503, 0.516,\n",
              "        0.524, 0.53 ]),\n",
              " array([5.365, 5.365, 5.361, 5.358, 5.345, 5.332, 0.762, 0.788, 0.763,\n",
              "        0.622, 0.622, 0.481, 0.434, 0.262, 0.262, 0.   , 0.   , 0.   ,\n",
              "        0.   , 0.   ]))"
            ]
          },
          "metadata": {},
          "execution_count": 111
        }
      ]
    },
    {
      "cell_type": "code",
      "source": [
        "approx16_acqFuncMax = extractAcqFuncMax(approx_16.history) + eps\n",
        "approx16_exploit = exploitExtract(approx_16.history) + eps\n",
        "approx16_ratio = approx16_exploit/approx16_acqFuncMax\n",
        "\n",
        "np.round(approx16_acqFuncMax, 3), np.round(approx16_exploit, 3)\n"
      ],
      "metadata": {
        "id": "2qaM50VBvoT9",
        "colab": {
          "base_uri": "https://localhost:8080/"
        },
        "outputId": "70bb6566-d23c-4100-98fe-b43b6cd124ca"
      },
      "execution_count": 112,
      "outputs": [
        {
          "output_type": "execute_result",
          "data": {
            "text/plain": [
              "(array([8.085, 8.085, 8.085, 8.079, 1.97 , 1.933, 1.895, 1.839, 1.728,\n",
              "        1.618, 1.582, 1.666, 0.611, 0.596, 0.59 , 0.584, 0.576, 0.572,\n",
              "        0.571, 0.57 ]),\n",
              " array([8.085, 8.085, 8.084, 8.079, 1.381, 1.381, 1.332, 1.259, 1.121,\n",
              "        0.974, 0.938, 1.049, 0.   , 0.   , 0.   , 0.   , 0.   , 0.   ,\n",
              "        0.   , 0.   ]))"
            ]
          },
          "metadata": {},
          "execution_count": 112
        }
      ]
    },
    {
      "cell_type": "code",
      "source": [
        "approx17_acqFuncMax = extractAcqFuncMax(approx_17.history) + eps\n",
        "approx17_exploit = exploitExtract(approx_17.history) + eps\n",
        "approx17_ratio = approx17_exploit/approx17_acqFuncMax\n",
        "\n",
        "np.round(approx17_acqFuncMax, 3), np.round(approx17_exploit, 3)\n"
      ],
      "metadata": {
        "id": "NcYxsy0Rvobx",
        "colab": {
          "base_uri": "https://localhost:8080/"
        },
        "outputId": "ac98cfbf-c3c3-4073-e121-cbb85da8b6b0"
      },
      "execution_count": 113,
      "outputs": [
        {
          "output_type": "execute_result",
          "data": {
            "text/plain": [
              "(array([2.675, 2.675, 2.675, 2.674, 2.672, 2.625, 2.447, 2.421, 2.396,\n",
              "        2.269, 0.616, 0.592, 0.577, 0.562, 0.549, 0.549, 0.552, 0.551,\n",
              "        0.534, 0.536]),\n",
              " array([2.329, 2.329, 2.328, 2.327, 2.324, 2.266, 2.042, 2.009, 1.976,\n",
              "        1.823, 0.   , 0.   , 0.   , 0.   , 0.   , 0.   , 0.   , 0.   ,\n",
              "        0.   , 0.   ]))"
            ]
          },
          "metadata": {},
          "execution_count": 113
        }
      ]
    },
    {
      "cell_type": "code",
      "source": [
        "approx18_acqFuncMax = extractAcqFuncMax(approx_18.history) + eps\n",
        "approx18_exploit = exploitExtract(approx_18.history) + eps\n",
        "approx18_ratio = approx18_exploit/approx18_acqFuncMax\n",
        "\n",
        "np.round(approx18_acqFuncMax, 3), np.round(approx18_exploit, 3)\n"
      ],
      "metadata": {
        "id": "1o1ZW4xZvojY",
        "colab": {
          "base_uri": "https://localhost:8080/"
        },
        "outputId": "a0bf333d-8801-40d2-bd43-37f3cc32ca76"
      },
      "execution_count": 114,
      "outputs": [
        {
          "output_type": "execute_result",
          "data": {
            "text/plain": [
              "(array([2.489, 2.487, 2.477, 2.456, 2.451, 2.429, 2.38 , 2.352, 2.094,\n",
              "        2.067, 2.074, 1.907, 1.633, 1.497, 1.573, 0.443, 0.477, 0.497,\n",
              "        0.509, 0.518]),\n",
              " array([2.095, 2.092, 2.08 , 2.053, 2.046, 2.019, 1.956, 1.921, 1.556,\n",
              "        1.556, 1.567, 1.354, 0.994, 0.841, 0.938, 0.   , 0.   , 0.   ,\n",
              "        0.   , 0.   ]))"
            ]
          },
          "metadata": {},
          "execution_count": 114
        }
      ]
    },
    {
      "cell_type": "code",
      "source": [
        "approx19_acqFuncMax = extractAcqFuncMax(approx_19.history) + eps\n",
        "approx19_exploit = exploitExtract(approx_19.history) + eps\n",
        "approx19_ratio = approx19_exploit/approx19_acqFuncMax\n",
        "\n",
        "np.round(approx19_acqFuncMax, 3), np.round(approx19_exploit, 3)\n"
      ],
      "metadata": {
        "id": "ZyY6Ebhfvop6",
        "colab": {
          "base_uri": "https://localhost:8080/"
        },
        "outputId": "da02b186-8631-452c-b85a-e4ead2235f48"
      },
      "execution_count": 115,
      "outputs": [
        {
          "output_type": "execute_result",
          "data": {
            "text/plain": [
              "(array([12.958, 12.956,  4.268,  4.267,  4.264,  4.256,  1.652,  1.642,\n",
              "         1.615,  1.468,  1.433,  1.458,  1.303,  1.19 ,  1.036,  0.444,\n",
              "         0.477,  0.496,  0.508,  0.516]),\n",
              " array([12.958, 12.956,  4.185,  4.184,  4.181,  4.172,  1.018,  1.005,\n",
              "         0.971,  0.715,  0.752,  0.793,  0.579,  0.465,  0.303,  0.   ,\n",
              "         0.   ,  0.   ,  0.   ,  0.   ]))"
            ]
          },
          "metadata": {},
          "execution_count": 115
        }
      ]
    },
    {
      "cell_type": "code",
      "source": [
        "approx20_acqFuncMax = extractAcqFuncMax(approx_20.history) + eps\n",
        "approx20_exploit = exploitExtract(approx_20.history) + eps\n",
        "approx20_ratio = approx20_exploit/approx20_acqFuncMax\n",
        "\n",
        "np.round(approx20_acqFuncMax, 3), np.round(approx20_exploit, 3)\n"
      ],
      "metadata": {
        "id": "voIxbv_Lvo3N",
        "colab": {
          "base_uri": "https://localhost:8080/"
        },
        "outputId": "97e5dc1f-61c2-4ebf-87e6-ef0488ef331d"
      },
      "execution_count": 116,
      "outputs": [
        {
          "output_type": "execute_result",
          "data": {
            "text/plain": [
              "(array([1.824, 1.823, 1.82 , 1.81 , 1.799, 1.779, 1.727, 1.63 , 1.589,\n",
              "        1.258, 0.574, 0.566, 0.559, 0.559, 0.56 , 0.557, 0.498, 0.483,\n",
              "        0.484, 0.489]),\n",
              " array([1.24 , 1.238, 1.235, 1.221, 1.208, 1.181, 1.115, 0.99 , 0.943,\n",
              "        0.544, 0.   , 0.   , 0.   , 0.   , 0.   , 0.   , 0.   , 0.   ,\n",
              "        0.   , 0.   ]))"
            ]
          },
          "metadata": {},
          "execution_count": 116
        }
      ]
    },
    {
      "cell_type": "code",
      "source": [
        "exact1_acqFuncMax = extractAcqFuncMax(exact_1.history) + eps\n",
        "exact1_exploit = exploitExtract(exact_1.history) + eps\n",
        "exact1_ratio = exact1_exploit/exact1_acqFuncMax\n",
        "\n",
        "np.round(exact1_acqFuncMax, 3), np.round(exact1_exploit, 3)\n"
      ],
      "metadata": {
        "id": "13ypDM-0tX-8",
        "colab": {
          "base_uri": "https://localhost:8080/"
        },
        "outputId": "5ed8ad1f-44d0-44e0-b7aa-5594dac73b5f"
      },
      "execution_count": 117,
      "outputs": [
        {
          "output_type": "execute_result",
          "data": {
            "text/plain": [
              "(array([1.593, 1.593, 1.59 , 1.593, 1.587, 1.582, 1.524, 1.434, 1.486,\n",
              "        1.279, 1.23 , 0.934, 1.007, 0.69 , 0.761, 0.434, 0.277, 0.272,\n",
              "        0.364, 0.512]),\n",
              " array([0.942, 0.942, 0.938, 0.941, 0.934, 0.81 , 0.845, 0.736, 0.804,\n",
              "        0.528, 0.403, 0.183, 0.238, 0.033, 0.001, 0.   , 0.   , 0.   ,\n",
              "        0.   , 0.   ]))"
            ]
          },
          "metadata": {},
          "execution_count": 117
        }
      ]
    },
    {
      "cell_type": "code",
      "source": [
        "exact2_acqFuncMax = extractAcqFuncMax(exact_2.history) + eps\n",
        "exact2_exploit = exploitExtract(exact_2.history) + eps\n",
        "exact2_ratio = exact2_exploit/exact2_acqFuncMax\n",
        "\n",
        "np.round(exact2_acqFuncMax, 3), np.round(exact2_exploit, 3)\n"
      ],
      "metadata": {
        "id": "AThtbAyHtYCa",
        "colab": {
          "base_uri": "https://localhost:8080/"
        },
        "outputId": "66aa9154-c0c7-4b4f-dfac-bb752a040852"
      },
      "execution_count": 118,
      "outputs": [
        {
          "output_type": "execute_result",
          "data": {
            "text/plain": [
              "(array([1.195, 1.195, 1.194, 1.194, 1.194, 1.188, 1.16 , 1.116, 1.154,\n",
              "        0.95 , 0.873, 0.751, 0.66 , 0.706, 0.548, 0.497, 0.493, 0.514,\n",
              "        0.523, 0.519]),\n",
              " array([0.444, 0.444, 0.444, 0.443, 0.442, 0.436, 0.373, 0.372, 0.206,\n",
              "        0.044, 0.092, 0.   , 0.   , 0.017, 0.   , 0.   , 0.   , 0.   ,\n",
              "        0.   , 0.   ]))"
            ]
          },
          "metadata": {},
          "execution_count": 118
        }
      ]
    },
    {
      "cell_type": "code",
      "source": [
        "exact3_acqFuncMax = extractAcqFuncMax(exact_3.history) + eps\n",
        "exact3_exploit = exploitExtract(exact_3.history) + eps\n",
        "exact3_ratio = exact3_exploit/exact3_acqFuncMax\n",
        "\n",
        "np.round(exact3_acqFuncMax, 3), np.round(exact3_exploit, 3)\n"
      ],
      "metadata": {
        "id": "lTX9JQs8v2uD",
        "colab": {
          "base_uri": "https://localhost:8080/"
        },
        "outputId": "9934b382-dade-44ef-cad1-5333e15e15ac"
      },
      "execution_count": 119,
      "outputs": [
        {
          "output_type": "execute_result",
          "data": {
            "text/plain": [
              "(array([4.604, 4.604, 4.532, 4.575, 4.566, 4.571, 4.547, 4.372, 4.604,\n",
              "        4.299, 4.179, 0.771, 0.705, 0.586, 0.47 , 0.417, 0.541, 0.38 ,\n",
              "        0.514, 0.516]),\n",
              " array([4.547, 4.547, 4.457, 4.507, 4.507, 4.51 , 4.486, 4.296, 4.547,\n",
              "        4.079, 3.851, 0.   , 0.   , 0.   , 0.   , 0.   , 0.   , 0.   ,\n",
              "        0.   , 0.   ]))"
            ]
          },
          "metadata": {},
          "execution_count": 119
        }
      ]
    },
    {
      "cell_type": "code",
      "source": [
        "exact4_acqFuncMax = extractAcqFuncMax(exact_4.history) + eps\n",
        "exact4_exploit = exploitExtract(exact_4.history) + eps\n",
        "exact4_ratio = exact4_exploit/exact4_acqFuncMax\n",
        "\n",
        "np.round(exact4_acqFuncMax, 3), np.round(exact4_exploit, 3)\n"
      ],
      "metadata": {
        "id": "ubS53hcMv23S",
        "colab": {
          "base_uri": "https://localhost:8080/"
        },
        "outputId": "ef534497-5bc5-479c-fb7f-dc437ce6e246"
      },
      "execution_count": 120,
      "outputs": [
        {
          "output_type": "execute_result",
          "data": {
            "text/plain": [
              "(array([6.844, 6.844, 6.833, 6.831, 2.018, 1.999, 1.916, 1.715, 1.709,\n",
              "        0.721, 0.708, 0.629, 0.534, 0.634, 0.604, 0.571, 0.45 , 0.458,\n",
              "        0.454, 0.47 ]),\n",
              " array([6.842, 6.842, 6.831, 6.829, 1.485, 1.455, 1.351, 1.098, 1.079,\n",
              "        0.   , 0.   , 0.   , 0.   , 0.   , 0.   , 0.   , 0.   , 0.   ,\n",
              "        0.   , 0.   ]))"
            ]
          },
          "metadata": {},
          "execution_count": 120
        }
      ]
    },
    {
      "cell_type": "code",
      "source": [
        "exact5_acqFuncMax = extractAcqFuncMax(exact_5.history) + eps\n",
        "exact5_exploit = exploitExtract(exact_5.history) + eps\n",
        "exact5_ratio = exact5_exploit/exact5_acqFuncMax\n",
        "\n",
        "np.round(exact5_acqFuncMax, 3), np.round(exact5_exploit, 3)\n"
      ],
      "metadata": {
        "id": "S_k0naQ1v2_p",
        "colab": {
          "base_uri": "https://localhost:8080/"
        },
        "outputId": "0a9ea9e2-a511-43f5-e074-3af70e63f011"
      },
      "execution_count": 121,
      "outputs": [
        {
          "output_type": "execute_result",
          "data": {
            "text/plain": [
              "(array([1.628, 1.628, 1.627, 1.621, 1.62 , 1.587, 1.571, 1.487, 1.464,\n",
              "        1.274, 1.465, 1.137, 1.188, 0.658, 0.539, 0.545, 0.537, 0.523,\n",
              "        0.517, 0.527]),\n",
              " array([ 0.987,  0.987,  0.978,  0.976,  0.976,  0.934,  0.869,  0.623,\n",
              "         0.762,  0.567,  0.777,  0.401,  0.303,  0.   ,  0.   ,  0.   ,\n",
              "         0.   , -0.   ,  0.   ,  0.   ]))"
            ]
          },
          "metadata": {},
          "execution_count": 121
        }
      ]
    },
    {
      "cell_type": "code",
      "source": [
        "exact6_acqFuncMax = extractAcqFuncMax(exact_6.history) + eps\n",
        "exact6_exploit = exploitExtract(exact_6.history) + eps\n",
        "exact6_ratio = exact6_exploit/exact6_acqFuncMax\n",
        "\n",
        "np.round(exact6_acqFuncMax, 3), np.round(exact6_exploit, 3)\n"
      ],
      "metadata": {
        "id": "5tT6L8Jiv3Ha",
        "colab": {
          "base_uri": "https://localhost:8080/"
        },
        "outputId": "1cd5df99-d0e2-43fc-f507-1c11b8f9b946"
      },
      "execution_count": 122,
      "outputs": [
        {
          "output_type": "execute_result",
          "data": {
            "text/plain": [
              "(array([1.251, 1.251, 1.251, 1.241, 1.227, 1.234, 1.121, 1.098, 0.944,\n",
              "        0.64 , 0.613, 0.614, 0.582, 0.546, 0.395, 0.488, 0.45 , 0.387,\n",
              "        0.331, 0.527]),\n",
              " array([ 0.512,  0.512,  0.512,  0.487,  0.446,  0.491,  0.321,  0.329,\n",
              "         0.224, -0.   ,  0.   ,  0.   ,  0.   ,  0.   ,  0.   ,  0.   ,\n",
              "         0.   ,  0.   ,  0.   ,  0.   ]))"
            ]
          },
          "metadata": {},
          "execution_count": 122
        }
      ]
    },
    {
      "cell_type": "code",
      "source": [
        "exact7_acqFuncMax = extractAcqFuncMax(exact_7.history) + eps\n",
        "exact7_exploit = exploitExtract(exact_7.history) + eps\n",
        "exact7_ratio = exact7_exploit/exact7_acqFuncMax\n",
        "\n",
        "np.round(exact7_acqFuncMax, 3), np.round(exact7_exploit, 3)\n"
      ],
      "metadata": {
        "id": "JJUBcR5nv3Pi",
        "colab": {
          "base_uri": "https://localhost:8080/"
        },
        "outputId": "188b75b9-e9e2-411a-dabb-4bb5bf616c63"
      },
      "execution_count": 123,
      "outputs": [
        {
          "output_type": "execute_result",
          "data": {
            "text/plain": [
              "(array([5.624, 5.624, 5.623, 5.624, 5.602, 2.018, 2.15 , 1.583, 1.662,\n",
              "        0.676, 0.619, 0.522, 0.577, 0.6  , 0.494, 0.515, 0.509, 0.498,\n",
              "        0.525, 0.518]),\n",
              " array([ 5.609,  5.609,  5.605,  5.609,  5.587,  1.409,  1.656,  1.093,\n",
              "         1.024,  0.   ,  0.   , -0.   ,  0.   ,  0.   ,  0.   ,  0.   ,\n",
              "         0.   ,  0.   ,  0.   ,  0.   ]))"
            ]
          },
          "metadata": {},
          "execution_count": 123
        }
      ]
    },
    {
      "cell_type": "code",
      "source": [
        "exact8_acqFuncMax = extractAcqFuncMax(exact_8.history) + eps\n",
        "exact8_exploit = exploitExtract(exact_8.history) + eps\n",
        "exact8_ratio = exact8_exploit/exact8_acqFuncMax\n",
        "\n",
        "np.round(exact8_acqFuncMax, 3), np.round(exact8_exploit, 3)\n"
      ],
      "metadata": {
        "id": "gaaabxY9v3X_",
        "colab": {
          "base_uri": "https://localhost:8080/"
        },
        "outputId": "de612066-0ba2-445e-f08b-2bd90a9b166f"
      },
      "execution_count": 124,
      "outputs": [
        {
          "output_type": "execute_result",
          "data": {
            "text/plain": [
              "(array([0.851, 0.85 , 0.849, 0.85 , 0.829, 0.797, 0.751, 0.77 , 0.629,\n",
              "        0.574, 0.616, 0.541, 0.456, 0.5  , 0.513, 0.444, 0.408, 0.47 ,\n",
              "        0.501, 0.493]),\n",
              " array([ 0.054,  0.054,  0.049,  0.053,  0.038,  0.   ,  0.   ,  0.   ,\n",
              "         0.   ,  0.   ,  0.   ,  0.   ,  0.   ,  0.   , -0.   ,  0.   ,\n",
              "         0.   ,  0.   ,  0.   ,  0.   ]))"
            ]
          },
          "metadata": {},
          "execution_count": 124
        }
      ]
    },
    {
      "cell_type": "code",
      "source": [
        "exact9_acqFuncMax = extractAcqFuncMax(exact_9.history) + eps\n",
        "exact9_exploit = exploitExtract(exact_9.history) + eps\n",
        "exact9_ratio = exact9_exploit/exact9_acqFuncMax\n",
        "\n",
        "np.round(exact9_acqFuncMax, 3), np.round(exact9_exploit, 3)\n"
      ],
      "metadata": {
        "id": "rILOuznAv3fc",
        "colab": {
          "base_uri": "https://localhost:8080/"
        },
        "outputId": "416aaa79-ea39-4832-c7d7-1ad337c473ff"
      },
      "execution_count": 125,
      "outputs": [
        {
          "output_type": "execute_result",
          "data": {
            "text/plain": [
              "(array([7.35 , 7.35 , 7.35 , 7.347, 2.442, 2.5  , 2.487, 1.704, 1.643,\n",
              "        1.549, 1.549, 1.33 , 1.181, 0.542, 0.545, 0.548, 0.531, 0.556,\n",
              "        0.528, 0.493]),\n",
              " array([7.349, 7.349, 7.349, 7.346, 2.03 , 2.108, 2.073, 1.084, 0.976,\n",
              "        0.909, 0.862, 0.577, 0.48 , 0.   , 0.   , 0.   , 0.   , 0.   ,\n",
              "        0.   , 0.   ]))"
            ]
          },
          "metadata": {},
          "execution_count": 125
        }
      ]
    },
    {
      "cell_type": "code",
      "source": [
        "exact10_acqFuncMax = extractAcqFuncMax(exact_10.history) + eps\n",
        "exact10_exploit = exploitExtract(exact_10.history) + eps\n",
        "exact10_ratio = exact10_exploit/exact10_acqFuncMax\n",
        "\n",
        "np.round(exact10_acqFuncMax, 3), np.round(exact10_exploit, 3)\n"
      ],
      "metadata": {
        "id": "bW1F6YQ7v3o0",
        "colab": {
          "base_uri": "https://localhost:8080/"
        },
        "outputId": "77ec8b13-5ed0-4cd1-e9da-610a30396050"
      },
      "execution_count": 126,
      "outputs": [
        {
          "output_type": "execute_result",
          "data": {
            "text/plain": [
              "(array([7.942, 7.942, 7.904, 7.819, 7.795, 0.715, 0.763, 0.548, 0.565,\n",
              "        0.545, 0.603, 0.533, 0.595, 0.469, 0.469, 0.502, 0.51 , 0.465,\n",
              "        0.527, 0.281]),\n",
              " array([ 7.941,  7.941,  7.904,  7.82 ,  7.794,  0.   ,  0.   ,  0.   ,\n",
              "         0.   ,  0.   , -0.   ,  0.   ,  0.   ,  0.   ,  0.   ,  0.   ,\n",
              "         0.   ,  0.   ,  0.   ,  0.   ]))"
            ]
          },
          "metadata": {},
          "execution_count": 126
        }
      ]
    },
    {
      "cell_type": "code",
      "source": [
        "exact11_acqFuncMax = extractAcqFuncMax(exact_11.history) + eps\n",
        "exact11_exploit = exploitExtract(exact_11.history) + eps\n",
        "exact11_ratio = exact11_exploit/exact11_acqFuncMax\n",
        "\n",
        "np.round(exact11_acqFuncMax, 3), np.round(exact11_exploit, 3)\n"
      ],
      "metadata": {
        "id": "4Ev60bH7v3wk",
        "colab": {
          "base_uri": "https://localhost:8080/"
        },
        "outputId": "f7b0bf43-bc94-42fa-b7cc-6d68941a3404"
      },
      "execution_count": 127,
      "outputs": [
        {
          "output_type": "execute_result",
          "data": {
            "text/plain": [
              "(array([1.19 , 1.188, 1.167, 1.16 , 1.121, 1.094, 1.048, 1.008, 0.947,\n",
              "        0.705, 0.644, 0.461, 0.466, 0.506, 0.389, 0.376, 0.487, 0.527,\n",
              "        0.524, 0.345]),\n",
              " array([0.438, 0.435, 0.41 , 0.402, 0.346, 0.303, 0.103, 0.243, 0.187,\n",
              "        0.   , 0.   , 0.   , 0.   , 0.   , 0.   , 0.   , 0.   , 0.   ,\n",
              "        0.   , 0.   ]))"
            ]
          },
          "metadata": {},
          "execution_count": 127
        }
      ]
    },
    {
      "cell_type": "code",
      "source": [
        "exact12_acqFuncMax = extractAcqFuncMax(exact_12.history) + eps\n",
        "exact12_exploit = exploitExtract(exact_12.history) + eps\n",
        "exact12_ratio = exact12_exploit/exact12_acqFuncMax\n",
        "\n",
        "np.round(exact12_acqFuncMax, 3), np.round(exact12_exploit, 3)\n"
      ],
      "metadata": {
        "id": "EqCmrsFQv346",
        "colab": {
          "base_uri": "https://localhost:8080/"
        },
        "outputId": "1f3bce95-2d03-4b4a-ca16-0eba3524de7f"
      },
      "execution_count": 128,
      "outputs": [
        {
          "output_type": "execute_result",
          "data": {
            "text/plain": [
              "(array([5.994, 5.994, 5.994, 5.994, 3.909, 3.861, 3.889, 3.68 , 1.545,\n",
              "        1.483, 1.179, 1.419, 1.152, 0.501, 0.521, 0.411, 0.502, 0.535,\n",
              "        0.487, 0.485]),\n",
              " array([5.985, 5.985, 5.985, 5.984, 3.789, 3.735, 3.754, 3.509, 0.819,\n",
              "        0.755, 0.399, 0.723, 0.428, 0.   , 0.   , 0.   , 0.   , 0.   ,\n",
              "        0.   , 0.   ]))"
            ]
          },
          "metadata": {},
          "execution_count": 128
        }
      ]
    },
    {
      "cell_type": "code",
      "source": [
        "exact13_acqFuncMax = extractAcqFuncMax(exact_13.history) + eps\n",
        "exact13_exploit = exploitExtract(exact_13.history) + eps\n",
        "exact13_ratio = exact13_exploit/exact13_acqFuncMax\n",
        "\n",
        "np.round(exact13_acqFuncMax, 3), np.round(exact13_exploit, 3)\n"
      ],
      "metadata": {
        "id": "LRD2tlISv3_-",
        "colab": {
          "base_uri": "https://localhost:8080/"
        },
        "outputId": "80be8413-28ae-4b10-b75a-447c23c3eb9f"
      },
      "execution_count": 129,
      "outputs": [
        {
          "output_type": "execute_result",
          "data": {
            "text/plain": [
              "(array([7.272, 7.272, 7.27 , 7.259, 1.303, 1.183, 1.126, 1.133, 1.06 ,\n",
              "        0.981, 1.033, 1.059, 0.787, 1.004, 0.756, 0.711, 0.406, 0.403,\n",
              "        0.252, 0.202]),\n",
              " array([7.27 , 7.27 , 7.269, 7.258, 0.428, 0.43 , 0.356, 0.436, 0.314,\n",
              "        0.195, 0.238, 0.275, 0.   , 0.274, 0.028, 0.   , 0.   , 0.   ,\n",
              "        0.   , 0.   ]))"
            ]
          },
          "metadata": {},
          "execution_count": 129
        }
      ]
    },
    {
      "cell_type": "code",
      "source": [
        "exact14_acqFuncMax = extractAcqFuncMax(exact_14.history) + eps\n",
        "exact14_exploit = exploitExtract(exact_14.history) + eps\n",
        "exact14_ratio = exact14_exploit/exact14_acqFuncMax\n",
        "\n",
        "np.round(exact14_acqFuncMax, 3), np.round(exact14_exploit, 3)\n"
      ],
      "metadata": {
        "id": "YiCrC-1cv4Hw",
        "colab": {
          "base_uri": "https://localhost:8080/"
        },
        "outputId": "58ee944a-899a-4882-b836-8eabaf93c7be"
      },
      "execution_count": 130,
      "outputs": [
        {
          "output_type": "execute_result",
          "data": {
            "text/plain": [
              "(array([3.514, 3.514, 3.514, 3.514, 3.435, 3.082, 2.87 , 2.986, 2.859,\n",
              "        2.776, 2.588, 2.676, 2.242, 2.384, 0.52 , 0.53 , 0.492, 0.531,\n",
              "        0.408, 0.537]),\n",
              " array([3.338, 3.338, 3.338, 3.338, 3.242, 2.797, 2.559, 2.683, 2.556,\n",
              "        2.442, 2.195, 2.276, 1.753, 1.945, 0.   , 0.   , 0.   , 0.   ,\n",
              "        0.   , 0.   ]))"
            ]
          },
          "metadata": {},
          "execution_count": 130
        }
      ]
    },
    {
      "cell_type": "code",
      "source": [
        "exact15_acqFuncMax = extractAcqFuncMax(exact_15.history) + eps\n",
        "exact15_exploit = exploitExtract(exact_15.history) + eps\n",
        "exact15_ratio = exact15_exploit/exact15_acqFuncMax\n",
        "\n",
        "np.round(exact15_acqFuncMax, 3), np.round(exact15_exploit, 3)\n"
      ],
      "metadata": {
        "id": "2yfZeWaFv4O3",
        "colab": {
          "base_uri": "https://localhost:8080/"
        },
        "outputId": "8c847820-4bf4-4519-fb3d-ec40e9954364"
      },
      "execution_count": 131,
      "outputs": [
        {
          "output_type": "execute_result",
          "data": {
            "text/plain": [
              "(array([5.386, 5.386, 5.386, 5.384, 5.367, 5.265, 5.224, 2.899, 2.898,\n",
              "        2.558, 2.399, 2.488, 2.018, 2.284, 0.481, 0.451, 0.511, 0.526,\n",
              "        0.51 , 0.534]),\n",
              " array([5.365, 5.365, 5.364, 5.363, 5.33 , 5.18 , 5.198, 2.605, 2.605,\n",
              "        2.189, 1.92 , 2.092, 1.368, 1.802, 0.   , 0.   , 0.   , 0.   ,\n",
              "        0.   , 0.   ]))"
            ]
          },
          "metadata": {},
          "execution_count": 131
        }
      ]
    },
    {
      "cell_type": "code",
      "source": [
        "exact16_acqFuncMax = extractAcqFuncMax(exact_16.history) + eps\n",
        "exact16_exploit = exploitExtract(exact_16.history) + eps\n",
        "exact16_ratio = exact16_exploit/exact16_acqFuncMax\n",
        "\n",
        "np.round(exact16_acqFuncMax, 3), np.round(exact16_exploit, 3)\n"
      ],
      "metadata": {
        "id": "oFa3Bt6Bv4W3",
        "colab": {
          "base_uri": "https://localhost:8080/"
        },
        "outputId": "acac93f4-1795-495f-d5fc-68915312ff31"
      },
      "execution_count": 132,
      "outputs": [
        {
          "output_type": "execute_result",
          "data": {
            "text/plain": [
              "(array([8.085, 8.085, 8.085, 8.081, 2.778, 2.784, 2.595, 2.745, 2.14 ,\n",
              "        2.315, 0.601, 0.662, 0.597, 0.615, 0.588, 0.581, 0.575, 0.566,\n",
              "        0.563, 0.553]),\n",
              " array([8.085, 8.085, 8.084, 8.081, 2.451, 2.464, 2.163, 2.197, 1.849,\n",
              "        1.876, 0.   , 0.   , 0.   , 0.   , 0.   , 0.   , 0.   , 0.   ,\n",
              "        0.   , 0.   ]))"
            ]
          },
          "metadata": {},
          "execution_count": 132
        }
      ]
    },
    {
      "cell_type": "code",
      "source": [
        "exact17_acqFuncMax = extractAcqFuncMax(exact_17.history) + eps\n",
        "exact17_exploit = exploitExtract(exact_17.history) + eps\n",
        "exact17_ratio = exact17_exploit/exact17_acqFuncMax\n",
        "\n",
        "np.round(exact17_acqFuncMax, 3), np.round(exact17_exploit, 3)\n"
      ],
      "metadata": {
        "id": "VuC8BwhNv4ei",
        "colab": {
          "base_uri": "https://localhost:8080/"
        },
        "outputId": "c0668140-4ae9-4043-d06a-056f593929b8"
      },
      "execution_count": 133,
      "outputs": [
        {
          "output_type": "execute_result",
          "data": {
            "text/plain": [
              "(array([2.675, 2.675, 2.674, 2.671, 2.67 , 2.462, 2.431, 2.446, 2.275,\n",
              "        2.243, 0.666, 0.688, 0.596, 0.541, 0.51 , 0.525, 0.525, 0.528,\n",
              "        0.437, 0.45 ]),\n",
              " array([ 2.329,  2.328,  2.327,  2.294,  2.25 ,  2.042,  1.9  ,  1.813,\n",
              "         1.73 ,  1.693, -0.   ,  0.   ,  0.   ,  0.   ,  0.   ,  0.   ,\n",
              "         0.   ,  0.   ,  0.   ,  0.   ]))"
            ]
          },
          "metadata": {},
          "execution_count": 133
        }
      ]
    },
    {
      "cell_type": "code",
      "source": [
        "exact18_acqFuncMax = extractAcqFuncMax(exact_18.history) + eps\n",
        "exact18_exploit = exploitExtract(exact_18.history) + eps\n",
        "exact18_ratio = exact18_exploit/exact18_acqFuncMax\n",
        "\n",
        "np.round(exact18_acqFuncMax, 3), np.round(exact18_exploit, 3)\n"
      ],
      "metadata": {
        "id": "JbbWo0CAv4mQ",
        "colab": {
          "base_uri": "https://localhost:8080/"
        },
        "outputId": "c306e391-79d7-458c-d97e-d8c398f3f2fe"
      },
      "execution_count": 134,
      "outputs": [
        {
          "output_type": "execute_result",
          "data": {
            "text/plain": [
              "(array([2.489, 2.487, 2.451, 2.472, 2.422, 2.358, 2.352, 2.032, 2.361,\n",
              "        2.216, 1.978, 0.644, 0.545, 0.532, 0.496, 0.509, 0.438, 0.338,\n",
              "        0.406, 0.525]),\n",
              " array([2.095, 2.091, 2.047, 2.04 , 2.013, 1.963, 1.92 , 1.509, 1.456,\n",
              "        1.693, 1.443, 0.   , 0.   , 0.   , 0.   , 0.   , 0.   , 0.   ,\n",
              "        0.   , 0.   ]))"
            ]
          },
          "metadata": {},
          "execution_count": 134
        }
      ]
    },
    {
      "cell_type": "code",
      "source": [
        "exact19_acqFuncMax = extractAcqFuncMax(exact_19.history) + eps\n",
        "exact19_exploit = exploitExtract(exact_19.history) + eps\n",
        "exact19_ratio = exact19_exploit/exact19_acqFuncMax\n",
        "\n",
        "np.round(exact19_acqFuncMax, 3), np.round(exact19_exploit, 3)\n"
      ],
      "metadata": {
        "id": "zv0ODQ5sv4uS",
        "colab": {
          "base_uri": "https://localhost:8080/"
        },
        "outputId": "8a93a4a3-219e-477f-d89a-a791ae6ed573"
      },
      "execution_count": 135,
      "outputs": [
        {
          "output_type": "execute_result",
          "data": {
            "text/plain": [
              "(array([12.958, 12.953,  1.017,  1.016,  1.014,  1.014,  0.946,  0.989,\n",
              "         0.93 ,  0.887,  0.676,  0.643,  0.639,  0.661,  0.616,  0.542,\n",
              "         0.543,  0.414,  0.551,  0.459]),\n",
              " array([12.958, 12.953,  0.235,  0.232,  0.231,  0.206,  0.157,  0.2  ,\n",
              "         0.16 ,  0.127,  0.   ,  0.   ,  0.   , -0.   ,  0.   ,  0.   ,\n",
              "        -0.   ,  0.   ,  0.   ,  0.   ]))"
            ]
          },
          "metadata": {},
          "execution_count": 135
        }
      ]
    },
    {
      "cell_type": "code",
      "source": [
        "exact20_acqFuncMax = extractAcqFuncMax(exact_20.history) + eps\n",
        "exact20_exploit = exploitExtract(exact_20.history) + eps\n",
        "exact20_ratio = exact20_exploit/exact20_acqFuncMax\n",
        "\n",
        "np.round(exact20_acqFuncMax, 3), np.round(exact20_exploit, 3)\n"
      ],
      "metadata": {
        "id": "ZAso2OGDv41y",
        "colab": {
          "base_uri": "https://localhost:8080/"
        },
        "outputId": "e1e927ba-51ce-4a41-fc60-60871a300889"
      },
      "execution_count": 136,
      "outputs": [
        {
          "output_type": "execute_result",
          "data": {
            "text/plain": [
              "(array([1.824, 1.822, 1.781, 1.781, 1.767, 1.786, 1.653, 1.487, 1.577,\n",
              "        1.105, 1.218, 0.453, 0.393, 0.3  , 0.489, 0.336, 0.467, 0.526,\n",
              "        0.505, 0.477]),\n",
              " array([1.24 , 1.238, 1.184, 1.101, 1.156, 1.191, 1.004, 0.812, 0.849,\n",
              "        0.325, 0.497, 0.   , 0.   , 0.   , 0.   , 0.   , 0.   , 0.   ,\n",
              "        0.   , 0.   ]))"
            ]
          },
          "metadata": {},
          "execution_count": 136
        }
      ]
    },
    {
      "cell_type": "code",
      "source": [
        "approx_ratio = [np.mean(approx1_ratio),\n",
        "                np.mean(approx2_ratio),\n",
        "                np.mean(approx3_ratio),\n",
        "                np.mean(approx4_ratio),\n",
        "                np.mean(approx5_ratio),\n",
        "                np.mean(approx6_ratio),\n",
        "                np.mean(approx7_ratio),\n",
        "                np.mean(approx8_ratio),\n",
        "                np.mean(approx9_ratio),\n",
        "                np.mean(approx10_ratio),\n",
        "                np.mean(approx11_ratio),\n",
        "                np.mean(approx12_ratio),\n",
        "                np.mean(approx13_ratio),\n",
        "                np.mean(approx14_ratio),\n",
        "                np.mean(approx15_ratio),\n",
        "                np.mean(approx16_ratio),\n",
        "                np.mean(approx17_ratio),\n",
        "                np.mean(approx18_ratio),\n",
        "                np.mean(approx19_ratio),\n",
        "                np.mean(approx20_ratio)]\n",
        "\n",
        "np.mean(approx_ratio)\n"
      ],
      "metadata": {
        "id": "O7Dlz50Tv4-s",
        "colab": {
          "base_uri": "https://localhost:8080/"
        },
        "outputId": "7e031f90-c6d6-41ab-d785-d76f0f73ee9d"
      },
      "execution_count": 137,
      "outputs": [
        {
          "output_type": "execute_result",
          "data": {
            "text/plain": [
              "0.39954358528891054"
            ]
          },
          "metadata": {},
          "execution_count": 137
        }
      ]
    },
    {
      "cell_type": "code",
      "source": [
        "exact_ratio = [np.mean(exact1_ratio),\n",
        "               np.mean(exact2_ratio),\n",
        "               np.mean(exact3_ratio),\n",
        "               np.mean(exact4_ratio),\n",
        "               np.mean(exact5_ratio),\n",
        "               np.mean(exact6_ratio),\n",
        "               np.mean(exact7_ratio),\n",
        "               np.mean(exact8_ratio),\n",
        "               np.mean(exact9_ratio),\n",
        "               np.mean(exact10_ratio),\n",
        "               np.mean(exact11_ratio),\n",
        "               np.mean(exact12_ratio),\n",
        "               np.mean(exact13_ratio),\n",
        "               np.mean(exact14_ratio),\n",
        "               np.mean(exact15_ratio),\n",
        "               np.mean(exact16_ratio),\n",
        "               np.mean(exact17_ratio),\n",
        "               np.mean(exact18_ratio),\n",
        "               np.mean(exact19_ratio),\n",
        "               np.mean(exact20_ratio)]\n",
        "\n",
        "np.mean(exact_ratio)\n"
      ],
      "metadata": {
        "id": "JR4Hd6cTg2n0",
        "colab": {
          "base_uri": "https://localhost:8080/"
        },
        "outputId": "0ebdd342-814b-46e0-ceca-61cc1b5614df"
      },
      "execution_count": 138,
      "outputs": [
        {
          "output_type": "execute_result",
          "data": {
            "text/plain": [
              "0.35203688167674796"
            ]
          },
          "metadata": {},
          "execution_count": 138
        }
      ]
    },
    {
      "cell_type": "code",
      "execution_count": 139,
      "metadata": {
        "id": "UkX9CtiD76La",
        "colab": {
          "base_uri": "https://localhost:8080/",
          "height": 299
        },
        "outputId": "f96d8714-ee1f-4528-cbd3-f4d856b744be"
      },
      "outputs": [
        {
          "output_type": "display_data",
          "data": {
            "text/plain": [
              "<Figure size 432x288 with 1 Axes>"
            ],
            "image/png": "[encoded data removed]"
          },
          "metadata": {
            "needs_background": "light"
          }
        }
      ],
      "source": [
        "### Visualise!\n",
        "\n",
        "title = obj_func\n",
        "\n",
        "plt.figure()\n",
        "\n",
        "plt.plot(median_approx, color = 'Yellow')\n",
        "plt.plot(median_exact, color = 'Red')\n",
        "\n",
        "xstar = np.arange(0, max_iter+1, step=1)\n",
        "plt.fill_between(xstar, lower_approx, upper_approx, facecolor = 'Yellow', alpha=0.4, label='GP EI($\\mathbf{x}$):   Synthetic function, log(Regret) IQR')\n",
        "plt.fill_between(xstar, lower_exact, upper_exact, facecolor = 'Red', alpha=0.4, label='GP dEI($\\mathbf{x}$): Synthetic function, log(Regret) IQR')\n",
        "\n",
        "plt.title(title, weight = 'bold')\n",
        "plt.xlabel('(Post-initialisation) iteration $\\it{k}$', weight = 'bold') # x-axis label\n",
        "plt.ylabel('Synthetic Function: log(Regret)', weight = 'bold') # y-axis label\n",
        "plt.legend(loc=1) # add plot legend\n",
        "\n",
        "### Make the x-ticks integers, not floats:\n",
        "count = len(xstar)\n",
        "plt.xticks(np.arange(count), np.arange(0, count))\n",
        "plt.show()\n"
      ]
    },
    {
      "cell_type": "code",
      "source": [
        "### Visualise!\n",
        "\n",
        "title = obj_func\n",
        "\n",
        "plt.figure()\n",
        "\n",
        "plt.plot(approx_ratio, color = 'Yellow', label='GP EI($\\mathbf{x}$):   exploitation ratio')\n",
        "plt.plot(exact_ratio, color = 'Red', ls='-.', label='GP dEI($\\mathbf{x}$): exploitation ratio')\n",
        "\n",
        "plt.title(title, weight = 'bold')\n",
        "plt.xlabel('Experiment $\\it{j}$' , weight = 'bold') # x-axis label\n",
        "plt.ylabel('GP EI, GP dEI: exploitation ratio', weight = 'bold') # y-axis label\n",
        "plt.legend(loc=4) # add plot legend\n",
        "\n",
        "### Make the x-ticks integers, not floats:\n",
        "count = len(xstar)\n",
        "plt.xticks(np.arange(count), np.arange(1, count))\n",
        "plt.show()\n"
      ],
      "metadata": {
        "id": "hKyod0HBzjSz",
        "colab": {
          "base_uri": "https://localhost:8080/",
          "height": 299
        },
        "outputId": "70d58160-7616-490c-e2df-be33993812a8"
      },
      "execution_count": 140,
      "outputs": [
        {
          "output_type": "display_data",
          "data": {
            "text/plain": [
              "<Figure size 432x288 with 1 Axes>"
            ],
            "image/png": "[encoded data removed]"
          },
          "metadata": {
            "needs_background": "light"
          }
        }
      ]
    },
    {
      "cell_type": "code",
      "source": [
        "### Visualise!\n",
        "\n",
        "title = obj_func\n",
        "\n",
        "plt.figure()\n",
        "\n",
        "plt.plot(np.sort(approx_ratio)[::-1], color = 'Yellow', label='GP EI($\\mathbf{x}$):   exploitation ratio (sorted)')\n",
        "plt.plot(np.sort(exact_ratio)[::-1], color = 'Red', ls='-.', label='GP dEI($\\mathbf{x}$): exploitation ratio (sorted)')\n",
        "\n",
        "plt.title(title, weight = 'bold')\n",
        "plt.xlabel('Experiment $\\it{j}$ (sorted)' , weight = 'bold') # x-axis label\n",
        "plt.ylabel('GP EI, GP dEI: exploitation ratio', weight = 'bold') # y-axis label\n",
        "plt.legend(loc=3) # add plot legend\n",
        "\n",
        "### Make the x-ticks integers, not floats:\n",
        "count = len(xstar)\n",
        "plt.xticks(np.arange(count), np.arange(1, count))\n",
        "plt.show()\n"
      ],
      "metadata": {
        "id": "Rh9aZDVnHbqf",
        "colab": {
          "base_uri": "https://localhost:8080/",
          "height": 299
        },
        "outputId": "a0c6e6cd-6bbf-46b7-ddb2-b6caaef6815c"
      },
      "execution_count": 142,
      "outputs": [
        {
          "output_type": "display_data",
          "data": {
            "text/plain": [
              "<Figure size 432x288 with 1 Axes>"
            ],
            "image/png": "[encoded data removed]"
          },
          "metadata": {
            "needs_background": "light"
          }
        }
      ]
    },
    {
      "cell_type": "code",
      "source": [],
      "metadata": {
        "id": "adwkIxvdyLhY"
      },
      "execution_count": 141,
      "outputs": []
    }
  ],
  "metadata": {
    "colab": {
      "provenance": []
    },
    "kernelspec": {
      "display_name": "Python 3",
      "language": "python",
      "name": "python3"
    },
    "language_info": {
      "codemirror_mode": {
        "name": "ipython",
        "version": 3
      },
      "file_extension": ".py",
      "mimetype": "text/x-python",
      "name": "python",
      "nbconvert_exporter": "python",
      "pygments_lexer": "ipython3",
      "version": "3.6.5"
    }
  },
  "nbformat": 4,
  "nbformat_minor": 0
}