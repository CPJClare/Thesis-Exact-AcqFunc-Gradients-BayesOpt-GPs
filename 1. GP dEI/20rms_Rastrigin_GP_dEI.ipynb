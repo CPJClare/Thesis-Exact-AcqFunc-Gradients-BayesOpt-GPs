{
  "cells": [
    {
      "cell_type": "markdown",
      "metadata": {
        "id": "OrYfJFnSJLkS"
      },
      "source": [
        "Rastrigin synthetic function:\n",
        "\n",
        "GP EI versus GP dEI (winner)\n",
        "\n",
        "https://www.sfu.ca/~ssurjano/rastr.html"
      ]
    },
    {
      "cell_type": "code",
      "execution_count": 1,
      "metadata": {
        "colab": {
          "base_uri": "https://localhost:8080/"
        },
        "id": "2FgAmLMpOX3c",
        "outputId": "21f407ca-2985-4750-9c29-fc68b5eab14f"
      },
      "outputs": [
        {
          "output_type": "stream",
          "name": "stdout",
          "text": [
            "Looking in indexes: https://pypi.org/simple, https://us-python.pkg.dev/colab-wheels/public/simple/\n",
            "Requirement already satisfied: pyGPGO in /usr/local/lib/python3.8/dist-packages (0.5.1)\n",
            "Requirement already satisfied: scikit-learn in /usr/local/lib/python3.8/dist-packages (from pyGPGO) (1.0.2)\n",
            "Requirement already satisfied: pyMC3 in /usr/local/lib/python3.8/dist-packages (from pyGPGO) (3.11.5)\n",
            "Requirement already satisfied: joblib in /usr/local/lib/python3.8/dist-packages (from pyGPGO) (1.2.0)\n",
            "Requirement already satisfied: scipy in /usr/local/lib/python3.8/dist-packages (from pyGPGO) (1.7.3)\n",
            "Requirement already satisfied: numpy in /usr/local/lib/python3.8/dist-packages (from pyGPGO) (1.21.6)\n",
            "Requirement already satisfied: Theano-PyMC in /usr/local/lib/python3.8/dist-packages (from pyGPGO) (1.1.2)\n",
            "Requirement already satisfied: mkl in /usr/local/lib/python3.8/dist-packages (from pyGPGO) (2019.0)\n",
            "Requirement already satisfied: intel-openmp in /usr/local/lib/python3.8/dist-packages (from mkl->pyGPGO) (2023.0.0)\n",
            "Requirement already satisfied: pandas>=0.24.0 in /usr/local/lib/python3.8/dist-packages (from pyMC3->pyGPGO) (1.3.5)\n",
            "Requirement already satisfied: deprecat in /usr/local/lib/python3.8/dist-packages (from pyMC3->pyGPGO) (2.1.1)\n",
            "Requirement already satisfied: cachetools>=4.2.1 in /usr/local/lib/python3.8/dist-packages (from pyMC3->pyGPGO) (5.2.0)\n",
            "Requirement already satisfied: semver>=2.13.0 in /usr/local/lib/python3.8/dist-packages (from pyMC3->pyGPGO) (2.13.0)\n",
            "Requirement already satisfied: patsy>=0.5.1 in /usr/local/lib/python3.8/dist-packages (from pyMC3->pyGPGO) (0.5.3)\n",
            "Requirement already satisfied: typing-extensions>=3.7.4 in /usr/local/lib/python3.8/dist-packages (from pyMC3->pyGPGO) (4.4.0)\n",
            "Requirement already satisfied: dill in /usr/local/lib/python3.8/dist-packages (from pyMC3->pyGPGO) (0.3.6)\n",
            "Requirement already satisfied: fastprogress>=0.2.0 in /usr/local/lib/python3.8/dist-packages (from pyMC3->pyGPGO) (1.0.3)\n",
            "Requirement already satisfied: arviz>=0.11.0 in /usr/local/lib/python3.8/dist-packages (from pyMC3->pyGPGO) (0.12.1)\n",
            "Requirement already satisfied: filelock in /usr/local/lib/python3.8/dist-packages (from Theano-PyMC->pyGPGO) (3.9.0)\n",
            "Requirement already satisfied: threadpoolctl>=2.0.0 in /usr/local/lib/python3.8/dist-packages (from scikit-learn->pyGPGO) (3.1.0)\n",
            "Requirement already satisfied: xarray-einstats>=0.2 in /usr/local/lib/python3.8/dist-packages (from arviz>=0.11.0->pyMC3->pyGPGO) (0.4.0)\n",
            "Requirement already satisfied: packaging in /usr/local/lib/python3.8/dist-packages (from arviz>=0.11.0->pyMC3->pyGPGO) (21.3)\n",
            "Requirement already satisfied: matplotlib>=3.0 in /usr/local/lib/python3.8/dist-packages (from arviz>=0.11.0->pyMC3->pyGPGO) (3.2.2)\n",
            "Requirement already satisfied: netcdf4 in /usr/local/lib/python3.8/dist-packages (from arviz>=0.11.0->pyMC3->pyGPGO) (1.6.2)\n",
            "Requirement already satisfied: setuptools>=38.4 in /usr/local/lib/python3.8/dist-packages (from arviz>=0.11.0->pyMC3->pyGPGO) (57.4.0)\n",
            "Requirement already satisfied: xarray>=0.16.1 in /usr/local/lib/python3.8/dist-packages (from arviz>=0.11.0->pyMC3->pyGPGO) (2022.12.0)\n",
            "Requirement already satisfied: pytz>=2017.3 in /usr/local/lib/python3.8/dist-packages (from pandas>=0.24.0->pyMC3->pyGPGO) (2022.7)\n",
            "Requirement already satisfied: python-dateutil>=2.7.3 in /usr/local/lib/python3.8/dist-packages (from pandas>=0.24.0->pyMC3->pyGPGO) (2.8.2)\n",
            "Requirement already satisfied: six in /usr/local/lib/python3.8/dist-packages (from patsy>=0.5.1->pyMC3->pyGPGO) (1.15.0)\n",
            "Requirement already satisfied: wrapt<2,>=1.10 in /usr/local/lib/python3.8/dist-packages (from deprecat->pyMC3->pyGPGO) (1.14.1)\n",
            "Requirement already satisfied: pyparsing!=2.0.4,!=2.1.2,!=2.1.6,>=2.0.1 in /usr/local/lib/python3.8/dist-packages (from matplotlib>=3.0->arviz>=0.11.0->pyMC3->pyGPGO) (3.0.9)\n",
            "Requirement already satisfied: cycler>=0.10 in /usr/local/lib/python3.8/dist-packages (from matplotlib>=3.0->arviz>=0.11.0->pyMC3->pyGPGO) (0.11.0)\n",
            "Requirement already satisfied: kiwisolver>=1.0.1 in /usr/local/lib/python3.8/dist-packages (from matplotlib>=3.0->arviz>=0.11.0->pyMC3->pyGPGO) (1.4.4)\n",
            "Requirement already satisfied: cftime in /usr/local/lib/python3.8/dist-packages (from netcdf4->arviz>=0.11.0->pyMC3->pyGPGO) (1.6.2)\n"
          ]
        }
      ],
      "source": [
        "pip install pyGPGO\n"
      ]
    },
    {
      "cell_type": "code",
      "execution_count": 2,
      "metadata": {
        "id": "Dn_SAbhVJLke"
      },
      "outputs": [],
      "source": [
        "### Import modules:\n",
        "\n",
        "import numpy as np\n",
        "import scipy as sp\n",
        "import pandas as pd\n",
        "import matplotlib.pyplot as plt\n",
        "import random\n",
        "import warnings\n",
        "import itertools\n",
        "\n",
        "from pyGPGO.logger import EventLogger\n",
        "from pyGPGO.GPGO import GPGO\n",
        "from pyGPGO.surrogates.GaussianProcess import GaussianProcess\n",
        "from pyGPGO.surrogates.tStudentProcess import tStudentProcess, logpdf\n",
        "from pyGPGO.acquisition import Acquisition\n",
        "from pyGPGO.covfunc import squaredExponential\n",
        "\n",
        "from collections import OrderedDict\n",
        "from joblib import Parallel, delayed\n",
        "from numpy.linalg import slogdet, inv, cholesky, solve\n",
        "from scipy.optimize import minimize\n",
        "from scipy.spatial.distance import cdist\n",
        "from scipy.special import gamma\n",
        "from scipy.stats import norm, t\n",
        "from matplotlib.pyplot import rc\n",
        "\n",
        "rc('text', usetex=False)\n",
        "plt.rcParams['text.latex.preamble']=[r'\\usepackage{amsmath}']\n",
        "plt.rcParams['text.latex.preamble'] = [r'\\boldmath']\n",
        "\n",
        "warnings.filterwarnings(\"ignore\", category=FutureWarning)\n",
        "warnings.filterwarnings(\"ignore\", category=RuntimeWarning)\n",
        "warnings.filterwarnings(\"ignore\", category=UserWarning)\n"
      ]
    },
    {
      "cell_type": "code",
      "execution_count": 3,
      "metadata": {
        "id": "4Nwg_XO0JLki"
      },
      "outputs": [],
      "source": [
        "### Inputs:\n",
        "\n",
        "obj_func = 'Rastrigin'\n",
        "n_test = 500 # test points\n",
        "eps = 1e-08\n",
        "df = 3 # nu\n",
        "\n",
        "util = 'EI'\n",
        "n_init = 5 # random initialisations\n",
        "\n",
        "cov_func = squaredExponential()\n",
        "hyperOpt = True\n"
      ]
    },
    {
      "cell_type": "code",
      "execution_count": 4,
      "metadata": {
        "id": "DVYGZ6jYJLkj"
      },
      "outputs": [],
      "source": [
        "### Objective function:\n",
        "\n",
        "if obj_func == 'Rastrigin':\n",
        "    \n",
        "    # True y bounds:\n",
        "    y_lb = 0\n",
        "    operator = -1 # targets global minimum \n",
        "    y_global_orig = y_lb * operator # targets global minimum\n",
        "            \n",
        "# Constraints:\n",
        "    lb = -5.12\n",
        "    ub = +5.12\n",
        "\n",
        "# Input array dimension(s):\n",
        "    dim = 2\n",
        "\n",
        "# 2-D inputs' parameter bounds:\n",
        "    param = {'x1_training': ('cont', [lb, ub]),\n",
        "             'x2_training': ('cont', [lb, ub])}\n",
        "    \n",
        "# Test data:\n",
        "    x1_test = np.linspace(lb, ub, n_test)\n",
        "    x2_test = np.linspace(lb, ub, n_test)\n",
        "    Xstar_d = np.column_stack((x1_test, x2_test))\n",
        "\n",
        "    def f_syn_polarity(x1_training, x2_training):\n",
        "        return operator * (10 * dim + x1_training** 2 - 10 * np.cos(2 * np.pi * x1_training)\n",
        "                                    + x2_training** 2 - 10 * np.cos(2 * np.pi * x2_training)\n",
        "                          )\n",
        "    "
      ]
    },
    {
      "cell_type": "code",
      "execution_count": 5,
      "metadata": {
        "id": "S9JivCxiYACE"
      },
      "outputs": [],
      "source": [
        "max_iter = dim * 10  # iterations of Bayesian optimisation\n",
        "Beta_CBM = dim\n"
      ]
    },
    {
      "cell_type": "code",
      "execution_count": 6,
      "metadata": {
        "id": "hE7COdNcJLkl"
      },
      "outputs": [],
      "source": [
        "### Cumulative Regret Calculator:\n",
        "\n",
        "def min_array(x):\n",
        "    new_list = []\n",
        "    for i, num in enumerate(x):\n",
        "            new_list.append(np.min(x[0:i+1]))\n",
        "    return new_list\n"
      ]
    },
    {
      "cell_type": "code",
      "execution_count": 7,
      "metadata": {
        "id": "gkY6wLl_JLkm"
      },
      "outputs": [],
      "source": [
        "### Set-seeds:\n",
        "\n",
        "run_num_1 = 1\n",
        "run_num_2 = 2\n",
        "run_num_3 = 3\n",
        "run_num_4 = 4\n",
        "run_num_5 = 5\n",
        "run_num_6 = 6\n",
        "run_num_7 = 7\n",
        "run_num_8 = 8\n",
        "run_num_9 = 9\n",
        "run_num_10 = 10\n",
        "run_num_11 = 11\n",
        "run_num_12 = 12\n",
        "run_num_13 = 13\n",
        "run_num_14 = 14\n",
        "run_num_15 = 15\n",
        "run_num_16 = 16\n",
        "run_num_17 = 17\n",
        "run_num_18 = 18\n",
        "run_num_19 = 19\n",
        "run_num_20 = 20\n"
      ]
    },
    {
      "cell_type": "code",
      "execution_count": 8,
      "metadata": {
        "id": "t-StV6KfkrJe"
      },
      "outputs": [],
      "source": [
        "### Surrogate derivatives: \n",
        "\n",
        "def kronDelta(X, Xstar):                     # Kronecker's Delta method\n",
        "    return cdist(X, Xstar) < np.finfo(np.float32).eps\n",
        "\n",
        "def se(X, Xstar, sigmaf, l, sigman):         # S.E. kernel method\n",
        "    return sigmaf * np.exp(-0.5 * cdist(X, Xstar) ** 2 / l ** 2) + sigman * kronDelta(X, Xstar)\n",
        "\n",
        "def delta(X, Xstar):                         # Distance between training X and test Xstar vectors\n",
        "    return (X - Xstar)\n",
        "   \n",
        "def der_covmat(X, Xstar, sigmaf, l, sigman): # Covariance matrix derivative terms (i.e. exact, first-order)\n",
        "    nx = len(X)\n",
        "    ny = len(Xstar)\n",
        "    return np.round(np.array([(delta(np.atleast_2d(i), np.atleast_2d(j))[0] * se(np.atleast_2d(i), np.atleast_2d(j), sigmaf, l, sigman)[0]).sum() for (i, j) in itertools.product(X, Xstar)]).reshape(nx, ny), 8)\n",
        "\n",
        "class dGaussianProcess(GaussianProcess):    # Via inheritance, also optimises hyperparameters when opt = TRUE\n",
        "    \n",
        "    def AcqGrad(self, Xstar):               # Method returning exact, first-order derivatives of the GP's posterior mean and standard deviation\n",
        "        Xstar = np.atleast_2d(Xstar)\n",
        "        Kstar = self.covfunc.K(self.X, Xstar).T\n",
        "        \n",
        "        dKstar = der_covmat(self.X, Xstar, self.covfunc.sigmaf, self.covfunc.l, self.covfunc.sigman).T\n",
        "        alpha_Kstar = np.dot(np.linalg.inv(self.K + (self.covfunc.sigman**2) * np.eye(len(self.X))), Kstar.T)\n",
        "        \n",
        "        dm = np.dot(dKstar, self.alpha)\n",
        "        ds = -2 * np.dot(dKstar, alpha_Kstar)\n",
        "        \n",
        "        return dm, ds           \n"
      ]
    },
    {
      "cell_type": "code",
      "execution_count": 9,
      "metadata": {
        "id": "Mh53nXeyJLko"
      },
      "outputs": [],
      "source": [
        "### Add exact acquisition function gradient as attribute:\n",
        "\n",
        "class Acquisition_grad(Acquisition):    \n",
        "    def __init__(self, mode, eps=eps, **params):\n",
        "        \n",
        "        self.params = params\n",
        "        self.eps = eps\n",
        "\n",
        "        mode_dict = {\n",
        "            'EI': self.EI\n",
        "        }\n",
        "\n",
        "        self.f = mode_dict[mode]\n",
        "    \n",
        "    def EI(self, tau, mean, std, ds, dm):\n",
        "        gamma = (mean - tau - self.eps) / (std + self.eps)\n",
        "        gamma_h = (mean - tau) / (std + self.eps)\n",
        "        dsdx = ds / (2 * (std + self.eps))\n",
        "        dmdx = (dm - gamma * dsdx) / (std + self.eps)\n",
        "        \n",
        "        f = (std + self.eps) * (gamma * norm.cdf(gamma) + norm.pdf(gamma))\n",
        "        df1 = f / (std + self.eps) * dsdx \n",
        "        df2 = (std + self.eps) * norm.cdf(gamma) * dmdx\n",
        "        df = (df1 + df2)[0]\n",
        "        df_arr = []\n",
        "\n",
        "        for j in range(0, dim):\n",
        "          df_arr.append(df)\n",
        "        return f, np.asarray(df_arr).transpose()\n",
        "        \n",
        "    def d_eval(self, tau, mean, std, ds, dm):\n",
        "    \n",
        "        return self.f(tau, mean, std, ds, dm, **self.params)\n",
        "        "
      ]
    },
    {
      "cell_type": "code",
      "execution_count": 10,
      "metadata": {
        "id": "xSwpeFj-Y-Hl"
      },
      "outputs": [],
      "source": [
        "n_start_AcqFunc = max_iter\n",
        "inverse = -1\n"
      ]
    },
    {
      "cell_type": "code",
      "execution_count": 11,
      "metadata": {
        "id": "YorxhvyZXyfZ"
      },
      "outputs": [],
      "source": [
        "## GPGO_approx: BayesOpt class, acquision function optimised using approximate acquisition function gradients\n",
        "\n",
        "n_start = n_start_AcqFunc\n",
        "\n",
        "class GPGO_approx(GPGO):\n",
        "  \n",
        "    def __init__(self, surrogate, acquisition, f, parameter_dict, n_jobs=1):\n",
        "        self.GP = surrogate\n",
        "        self.A = acquisition\n",
        "        self.f = f\n",
        "        self.parameters = parameter_dict\n",
        "        self.n_jobs = n_jobs\n",
        "\n",
        "        self.parameter_key = list(parameter_dict.keys())\n",
        "        self.parameter_value = list(parameter_dict.values())\n",
        "        self.parameter_type = [p[0] for p in self.parameter_value]\n",
        "        self.parameter_range = [p[1] for p in self.parameter_value]\n",
        "\n",
        "        self.history = []\n",
        "        self.header =   'Evaluation \\t Proposed point \\t  Current eval. \\t  Best eval. \\t         GP EI: maximum y \\t GP EI: exploit'\n",
        "        self.template = '{:3}\\t {}\\t {:3}\\t {:3}\\t {:3}\\t {:3}'\n",
        "  \n",
        "    def acqfuncApprox(self, xnew):\n",
        "        new_mean, new_var = self.GP.predict(xnew, return_std=True)\n",
        "        new_std = np.sqrt(new_var + eps)\n",
        "        dm, ds = self.GP.AcqGrad(xnew)\n",
        "        f, df = self.A.d_eval(self.tau, new_mean, new_std, ds=ds, dm=dm)\n",
        "\n",
        "        return -f\n",
        "\n",
        "    def acqfuncApproxMeanTerm(self, xnew):\n",
        "        new_mean, new_var = self.GP.predict(xnew, return_std=True)\n",
        "        new_std = np.sqrt(new_var + eps)\n",
        "        gamma = (new_mean - self.tau - eps) / (new_std + eps) \n",
        "        \n",
        "        dm, ds = self.GP.AcqGrad(xnew)\n",
        "        dsdx = ds / (2 * (new_std + eps))\n",
        "        dmdx = (dm - gamma * dsdx) / (new_std + eps)\n",
        "            \n",
        "        f = (new_std + eps) * (gamma * norm.cdf(gamma))\n",
        "        df1 = norm.cdf(gamma) * gamma * dsdx\n",
        "        df2 = (new_std + eps) * (norm.cdf(gamma) * dmdx + norm.pdf(gamma) * gamma)\n",
        "        df = df1 + df2\n",
        "\n",
        "        return -f\n",
        "\n",
        "    def _optimizeAcq(self, method='L-BFGS-B'):\n",
        "        \n",
        "        start_points_dict = [self._sampleParam() for i in range(n_start)]\n",
        "        start_points_arr = np.array([list(s.values())\n",
        "                                     for s in start_points_dict])\n",
        "        x_best = np.empty((n_start, len(self.parameter_key)))\n",
        "        f_best = np.empty((n_start,))\n",
        "        opt = Parallel(n_jobs=self.n_jobs)(delayed(minimize)(self.acqfuncApprox,\n",
        "                                                                 x0=start_point,\n",
        "                                                                 method=method,\n",
        "                                                                 jac = False,\n",
        "                                                                 bounds=self.parameter_range) for start_point in\n",
        "                                               start_points_arr)\n",
        "        x_best = np.array([res.x for res in opt])\n",
        "        f_best = np.array([np.atleast_1d(res.fun)[0] for res in opt])\n",
        "        self.x_best = x_best\n",
        "        self.f_best = f_best\n",
        "        self.best = x_best[np.argmin(f_best)]\n",
        "        self.start_points_arr = start_points_arr\n",
        "        self.min_acqfuncApprox = -min(self.f_best)\n",
        "        self.history.append(self.min_acqfuncApprox)\n",
        "\n",
        "        opt_exploit = Parallel(n_jobs=self.n_jobs)(delayed(minimize)(self.acqfuncApproxMeanTerm,\n",
        "                                                                 x0=start_point,\n",
        "                                                                 method=method,\n",
        "                                                                 jac = False,\n",
        "                                                                 bounds=self.parameter_range) for start_point in\n",
        "                                               start_points_arr)\n",
        "        f_best_exploit = np.array([np.atleast_1d(res.fun)[0] for res in opt_exploit])\n",
        "        self.f_best_exploit = f_best_exploit\n",
        "        self.min_acqfuncApprox_exploit = -min(self.f_best_exploit)\n",
        "        self.history.append(self.min_acqfuncApprox_exploit)\n",
        "        \n",
        "    def _printInit(self):\n",
        "        print(self.header)\n",
        "        for init_eval in range(self.init_evals):\n",
        "            print(self.template.format('init', self.GP.X[init_eval], inverse * self.GP.y[init_eval], inverse * self.tau, '', ''))\n",
        "      \n",
        "    def _printCurrent(self):\n",
        "        OKGREEN = '\\033[92m'\n",
        "        ENDC = '\\033[0m'\n",
        "        BOLD = '\\033[1m'\n",
        "        eval = str(len(self.GP.y) - self.init_evals)\n",
        "        proposed = str(self.best)\n",
        "        curr_eval = str(inverse * self.GP.y[-1])\n",
        "        curr_best = str(inverse * self.tau)\n",
        "        min_acqfuncApprox = self.min_acqfuncApprox\n",
        "        min_acqfuncApprox_exploit = self.min_acqfuncApprox_exploit\n",
        "        if float(curr_eval) <= float(curr_best):\n",
        "            eval = BOLD + OKGREEN + eval + ENDC\n",
        "            proposed = BOLD + OKGREEN + proposed + ENDC\n",
        "            curr_eval = BOLD + OKGREEN + curr_eval + ENDC\n",
        "            curr_best = BOLD + OKGREEN + curr_best + ENDC\n",
        "            min_acqfuncApprox = BOLD + OKGREEN + str(min_acqfuncApprox) + ENDC\n",
        "            min_acqfuncApprox_exploit = BOLD + OKGREEN + str(min_acqfuncApprox_exploit) + ENDC\n",
        "        print(self.template.format(eval, proposed, curr_eval, curr_best, min_acqfuncApprox, min_acqfuncApprox_exploit))\n",
        "        \n",
        "    def run(self, max_iter=10, init_evals=3, resume=False):\n",
        "        \n",
        "        if not resume:\n",
        "            self.init_evals = init_evals\n",
        "            self._firstRun(self.init_evals)\n",
        "            self._printInit()\n",
        "        for iteration in range(max_iter):\n",
        "            self._optimizeAcq()\n",
        "            self.updateGP()\n",
        "            self._printCurrent()\n"
      ]
    },
    {
      "cell_type": "code",
      "execution_count": 12,
      "metadata": {
        "id": "QaOjAKNoXynM"
      },
      "outputs": [],
      "source": [
        "## GPGO_exact: BayesOpt class, acquision function optimised using exact acquisition function gradients\n",
        "\n",
        "class GPGO_exact(GPGO):\n",
        "\n",
        "    def __init__(self, surrogate, acquisition, f, parameter_dict, n_jobs=1):\n",
        "        self.GP = surrogate\n",
        "        self.A = acquisition\n",
        "        self.f = f\n",
        "        self.parameters = parameter_dict\n",
        "        self.n_jobs = n_jobs\n",
        "\n",
        "        self.parameter_key = list(parameter_dict.keys())\n",
        "        self.parameter_value = list(parameter_dict.values())\n",
        "        self.parameter_type = [p[0] for p in self.parameter_value]\n",
        "        self.parameter_range = [p[1] for p in self.parameter_value]\n",
        "\n",
        "        self.history = []\n",
        "        self.header =   'Evaluation \\t Proposed point \\t  Current eval. \\t  Best eval. \\t         GP dEI: maximum y \\t GP dEI: exploit'\n",
        "        self.template = '{:3}\\t {}\\t {:3}\\t {:3}\\t {:3}\\t {:3}'\n",
        " \n",
        "    def acqfuncExact(self, xnew):\n",
        "        new_mean, new_var = self.GP.predict(xnew, return_std=True)\n",
        "        new_std = np.sqrt(new_var + eps)\n",
        "        dm, ds = self.GP.AcqGrad(xnew)\n",
        "        f, df = self.A.d_eval(self.tau, new_mean, new_std, ds=ds, dm=dm)\n",
        "\n",
        "        return -f, -df\n",
        "\n",
        "    def acqfuncExactExploitTerm(self, xnew):\n",
        "        new_mean, new_var = self.GP.predict(xnew, return_std=True)\n",
        "        new_std = np.sqrt(new_var + eps)\n",
        "        gamma = (new_mean - self.tau - eps) / (new_std + eps) \n",
        "        \n",
        "        dm, ds = self.GP.AcqGrad(xnew)\n",
        "        dsdx = ds / (2 * (new_std + eps))\n",
        "        dmdx = (dm - gamma * dsdx) / (new_std + eps)\n",
        "            \n",
        "        f = (new_std + eps) * (gamma * norm.cdf(gamma))\n",
        "        df1 = norm.cdf(gamma) * gamma * dsdx\n",
        "        df2 = (new_std + eps) * (norm.cdf(gamma) * dmdx + norm.pdf(gamma) * gamma)\n",
        "        df = -(df1 + df2)[0]\n",
        "        df_arr = []\n",
        "\n",
        "        for j in range(0, dim):\n",
        "          df_arr.append(df)\n",
        "        return -f, np.asarray(df_arr).transpose()\n",
        "\n",
        "    def _optimizeAcq(self, method='L-BFGS-B'):\n",
        "        \n",
        "        start_points_dict = [self._sampleParam() for i in range(n_start)]\n",
        "        start_points_arr = np.array([list(s.values())\n",
        "                                     for s in start_points_dict])\n",
        "        x_best = np.empty((n_start, len(self.parameter_key)))\n",
        "        f_best = np.empty((n_start,))\n",
        "        opt = Parallel(n_jobs=self.n_jobs)(delayed(minimize)(self.acqfuncExact,\n",
        "                                                                 x0=start_point,\n",
        "                                                                 method=method,\n",
        "                                                                 jac = True,\n",
        "                                                                 bounds=self.parameter_range) for start_point in\n",
        "                                               start_points_arr)\n",
        "        x_best = np.array([res.x for res in opt])\n",
        "        f_best = np.array([np.atleast_1d(res.fun)[0] for res in opt])\n",
        "        self.x_best = x_best\n",
        "        self.f_best = f_best\n",
        "        self.best = x_best[np.argmin(f_best)]\n",
        "        self.start_points_arr = start_points_arr\n",
        "        self.min_acqfuncExact = -min(self.f_best)\n",
        "        self.history.append(self.min_acqfuncExact) \n",
        "        \n",
        "        opt_exploit = Parallel(n_jobs=self.n_jobs)(delayed(minimize)(self.acqfuncExactExploitTerm,\n",
        "                                                                 x0=start_point,\n",
        "                                                                 method=method,\n",
        "                                                                 jac = True,\n",
        "                                                                 bounds=self.parameter_range) for start_point in\n",
        "                                               start_points_arr)\n",
        "        f_best_exploit = np.array([np.atleast_1d(res.fun)[0] for res in opt_exploit])\n",
        "        self.f_best_exploit = f_best_exploit\n",
        "        self.min_acqfuncExact_exploit = -min(self.f_best_exploit)\n",
        "        self.history.append(self.min_acqfuncExact_exploit)\n",
        "            \n",
        "    def _printInit(self):\n",
        "        print(self.header)\n",
        "        for init_eval in range(self.init_evals):\n",
        "            print(self.template.format('init', self.GP.X[init_eval], inverse * self.GP.y[init_eval], inverse * self.tau, '', ''))\n",
        "      \n",
        "    def _printCurrent(self):\n",
        "        OKGREEN = '\\033[92m'\n",
        "        ENDC = '\\033[0m'\n",
        "        BOLD = '\\033[1m'\n",
        "        eval = str(len(self.GP.y) - self.init_evals)\n",
        "        proposed = str(self.best)\n",
        "        curr_eval = str(inverse * self.GP.y[-1])\n",
        "        curr_best = str(inverse * self.tau)\n",
        "        min_acqfuncExact = self.min_acqfuncExact\n",
        "        min_acqfuncExact_exploit = self.min_acqfuncExact_exploit\n",
        "        if float(curr_eval) <= float(curr_best):\n",
        "            eval = BOLD + OKGREEN + eval + ENDC\n",
        "            proposed = BOLD + OKGREEN + proposed + ENDC\n",
        "            curr_eval = BOLD + OKGREEN + curr_eval + ENDC\n",
        "            curr_best = BOLD + OKGREEN + curr_best + ENDC\n",
        "            min_acqfuncExact = BOLD + OKGREEN + str(min_acqfuncExact) + ENDC\n",
        "            min_acqfuncExact_exploit = BOLD + OKGREEN + str(min_acqfuncExact_exploit) + ENDC\n",
        "        print(self.template.format(eval, proposed, curr_eval, curr_best, min_acqfuncExact, min_acqfuncExact_exploit))\n",
        "\n",
        "    def run(self, max_iter=10, init_evals=3, resume=False):\n",
        "        \n",
        "        if not resume:\n",
        "            self.init_evals = init_evals\n",
        "            self._firstRun(self.init_evals)\n",
        "            self._printInit()\n",
        "        for iteration in range(max_iter):\n",
        "            self._optimizeAcq()\n",
        "            self.updateGP()\n",
        "            self._printCurrent()\n"
      ]
    },
    {
      "cell_type": "code",
      "execution_count": 13,
      "metadata": {
        "colab": {
          "base_uri": "https://localhost:8080/"
        },
        "id": "Fio5AsW9JLkp",
        "outputId": "f4cce26b-9b5a-4232-9fcd-5fc35b5327cf",
        "scrolled": false
      },
      "outputs": [
        {
          "output_type": "stream",
          "name": "stdout",
          "text": [
            "Evaluation \t Proposed point \t  Current eval. \t  Best eval. \t         GP EI: maximum y \t GP EI: exploit\n",
            "init\t [-0.84969467  2.25612281]\t 20.33436270766351\t 19.908403246996286\t    \t    \n",
            "init\t [-5.1188288  -2.02411446]\t 33.07414982069084\t 19.908403246996286\t    \t    \n",
            "init\t [-3.61721968 -4.17445279]\t 53.347974723929894\t 19.908403246996286\t    \t    \n",
            "init\t [-3.21269544 -1.58145816]\t 39.218472310354045\t 19.908403246996286\t    \t    \n",
            "init\t [-1.05710106  0.39748336]\t 19.908403246996286\t 19.908403246996286\t    \t    \n",
            "1  \t [ 5.12 -5.12]\t 57.849427451571785\t 19.908403246996286\t 19.908403236996275\t 19.908403236996275\n",
            "2  \t [4.60721335 5.12      ]\t 67.96668100470607\t 19.908403246996286\t 19.90840318387475\t 19.90840318387475\n",
            "3  \t [-5.12  5.12]\t 57.849427451571785\t 19.908403246996286\t 19.908386159773798\t 19.908386159773798\n",
            "4  \t [ 4.13946627 -0.05871948]\t 21.41150362481602\t 19.908403246996286\t 19.908294908352897\t 19.908294908352897\n",
            "5  \t [ 0.90023157 -3.68903381]\t 30.05829511815247\t 19.908403246996286\t 19.905323202304928\t 19.905323202304928\n",
            "6  \t [0.72642643 5.12      ]\t 40.92817052480629\t 19.908403246996286\t 19.84527544333001\t 19.84527544333001\n",
            "7  \t [-5.12        1.53252349]\t 51.0652706292773\t 19.908403246996286\t 19.81054370832556\t 19.810543708325543\n",
            "8  \t [2.30640321 2.21296087]\t 31.38060502874938\t 19.908403246996286\t 19.566197527688647\t 19.56619752769252\n",
            "9  \t [ 1.42595283 -0.86724357]\t 25.00433839094279\t 19.908403246996286\t 19.188711069920284\t 19.188711069920288\n",
            "10 \t [-2.14588398  5.12      ]\t 37.44444228528431\t 19.908403246996286\t 19.164828200933446\t 19.164828200933446\n",
            "11 \t [ 5.12       -2.23991046]\t 43.3083926934808\t 19.908403246996286\t 18.844578516403885\t 18.844578516403885\n",
            "12 \t [5.12       2.16931005]\t 38.775139674044475\t 19.908403246996286\t 18.717704667263593\t 18.71770466726361\n",
            "13 \t [-1.04360781 -5.12      ]\t 30.386857326005895\t 19.908403246996286\t 18.484706305322746\t 18.48470630532281\n",
            "14 \t [ 2.494707 -5.12    ]\t 55.14274713582971\t 19.908403246996286\t 17.488192137520915\t 17.488192137520944\n",
            "\u001b[1m\u001b[92m15\u001b[0m\t \u001b[1m\u001b[92m[-0.83006852 -2.1188027 ]\u001b[0m\t \u001b[1m\u001b[92m13.01605265733128\u001b[0m\t \u001b[1m\u001b[92m13.01605265733128\u001b[0m\t \u001b[1m\u001b[92m17.10738724813494\u001b[0m\t \u001b[1m\u001b[92m17.107387248134927\u001b[0m\n",
            "16 \t [-2.91259722  2.68161057]\t 31.310678649007006\t 13.01605265733128\t 9.912051719877665\t 9.9120481964317\n",
            "17 \t [ 2.8263571  -2.40319452]\t 37.354435398169215\t 13.01605265733128\t 8.291057960760604\t 8.290917858497965\n",
            "18 \t [-5.12 -5.12]\t 57.849427451571785\t 13.01605265733128\t 7.513753520563183\t 7.513120158595202\n",
            "\u001b[1m\u001b[92m19\u001b[0m\t \u001b[1m\u001b[92m[0.73001212 0.96651685]\u001b[0m\t \u001b[1m\u001b[92m12.940134959973665\u001b[0m\t \u001b[1m\u001b[92m12.940134959973665\u001b[0m\t \u001b[1m\u001b[92m6.74175426525688\u001b[0m\t \u001b[1m\u001b[92m6.739356799071468\u001b[0m\n",
            "20 \t [-2.87362544  0.49069107]\t 31.471665587309957\t 12.940134959973665\t 6.576722480473276\t 6.573442848299905\n"
          ]
        }
      ],
      "source": [
        "### Bayesian optimisation runs (x20): 'GP EI' Acquisition Function run number = 1\n",
        "\n",
        "np.random.seed(run_num_1)\n",
        "surrogate_approx_1 = dGaussianProcess(cov_func, optimize=hyperOpt)\n",
        "\n",
        "approx_1 = GPGO_approx(surrogate_approx_1, Acquisition_grad(util), f_syn_polarity, param, n_jobs = -1) # define BayesOpt\n",
        "approx_1.run(max_iter = max_iter, init_evals = n_init) # run\n"
      ]
    },
    {
      "cell_type": "code",
      "execution_count": 14,
      "metadata": {
        "colab": {
          "base_uri": "https://localhost:8080/"
        },
        "id": "6CLxOiUrJLks",
        "outputId": "495b5640-e599-4f55-8fda-5c4da49e1a40"
      },
      "outputs": [
        {
          "output_type": "stream",
          "name": "stdout",
          "text": [
            "Evaluation \t Proposed point \t  Current eval. \t  Best eval. \t         GP EI: maximum y \t GP EI: exploit\n",
            "init\t [-0.6554122  -4.85451539]\t 43.490296251903594\t 18.964539418712707\t    \t    \n",
            "init\t [ 0.50854377 -0.6622987 ]\t 35.91861667536101\t 18.964539418712707\t    \t    \n",
            "init\t [-0.81543371 -1.73737143]\t 20.479562046739524\t 18.964539418712707\t    \t    \n",
            "init\t [-3.02439799  1.2213347 ]\t 18.964539418712707\t 18.964539418712707\t    \t    \n",
            "init\t [-2.05153614 -2.3876887 ]\t 28.041315668371354\t 18.964539418712707\t    \t    \n",
            "1  \t [2.38617166 4.77152771]\t 54.66237788059252\t 18.964539418712707\t 18.964538255082907\t 18.96453822311067\n",
            "2  \t [ 5.12 -5.12]\t 57.849427451571785\t 18.964539418712707\t 18.964538196136406\t 18.964538196136406\n",
            "3  \t [5.12       0.47381735]\t 49.01420306112916\t 18.964539418712707\t 18.964253317748756\t 18.964253317305044\n",
            "4  \t [-5.12  5.12]\t 57.849427451571785\t 18.964539418712707\t 18.964011927182664\t 18.964011927182664\n",
            "5  \t [-5.12 -5.12]\t 57.849427451571785\t 18.964539418712707\t 18.96082338852578\t 18.96082338852578\n",
            "6  \t [-1.34695967  5.12      ]\t 46.4612574297726\t 18.964539418712707\t 18.915722462098138\t 18.915722462098156\n",
            "7  \t [-5.12       -1.23369181]\t 39.42382754812533\t 18.964539418712707\t 18.83840580499883\t 18.838405804998843\n",
            "8  \t [ 3.04989781 -2.53709653]\t 35.95577417221448\t 18.964539418712707\t 18.691224567685044\t 18.69122456768827\n",
            "9  \t [0.1676417  2.29163449]\t 22.919078959122338\t 18.964539418712707\t 18.481742774709456\t 18.481742774709232\n",
            "10 \t [5.12 5.12]\t 57.849427451571785\t 18.964539418712707\t 18.351888706345946\t 18.351888706345946\n",
            "11 \t [-5.12        2.08792353]\t 34.77167140476227\t 18.964539418712707\t 17.8756002443902\t 17.875600244390363\n",
            "12 \t [ 2.09917288 -5.12      ]\t 35.210633071659984\t 18.964539418712707\t 17.788963705000587\t 17.78896370500059\n",
            "13 \t [2.63916373 1.66927901]\t 41.02350020767391\t 18.964539418712707\t 17.64115039606907\t 17.641150396069065\n",
            "14 \t [ 5.12       -2.19463846]\t 40.33240787062459\t 18.964539418712707\t 15.919353863218314\t 15.9193538632183\n",
            "15 \t [-2.70110909  3.16083817]\t 34.99697991488233\t 18.964539418712707\t 15.481734438598652\t 15.481734438598611\n",
            "16 \t [5.12       2.77464907]\t 45.08082859596604\t 18.964539418712707\t 14.849730417938765\t 14.849730417937964\n",
            "17 \t [-1.68777525  0.28860968]\t 29.144924750493704\t 18.964539418712707\t 14.700722334036513\t 14.700722334035536\n",
            "18 \t [-2.80461094 -5.12      ]\t 43.42618751971757\t 18.964539418712707\t 14.699592011891824\t 14.69959201189048\n",
            "\u001b[1m\u001b[92m19\u001b[0m\t \u001b[1m\u001b[92m[ 0.80436662 -2.99156206]\u001b[0m\t \u001b[1m\u001b[92m16.260590981835303\u001b[0m\t \u001b[1m\u001b[92m16.260590981835303\u001b[0m\t \u001b[1m\u001b[92m13.855082056576\u001b[0m\t \u001b[1m\u001b[92m13.855082056550597\u001b[0m\n",
            "20 \t [ 2.74731942 -0.51027583]\t 37.95572719572181\t 16.260590981835303\t 9.909496888048078\t 9.909493521021314\n"
          ]
        }
      ],
      "source": [
        "### Bayesian optimisation runs (x20): 'GP EI' Acquisition Function run number = 2\n",
        "\n",
        "np.random.seed(run_num_2)\n",
        "surrogate_approx_2 = dGaussianProcess(cov_func, optimize=hyperOpt)\n",
        "\n",
        "approx_2 = GPGO_approx(surrogate_approx_2, Acquisition_grad(util), f_syn_polarity, param, n_jobs = -1) # define BayesOpt\n",
        "approx_2.run(max_iter = max_iter, init_evals = n_init) # run\n"
      ]
    },
    {
      "cell_type": "code",
      "execution_count": 15,
      "metadata": {
        "colab": {
          "base_uri": "https://localhost:8080/"
        },
        "id": "OrboSzBtJLku",
        "outputId": "bee4e946-3e6a-4660-a488-274ea5671cb7"
      },
      "outputs": [
        {
          "output_type": "stream",
          "name": "stdout",
          "text": [
            "Evaluation \t Proposed point \t  Current eval. \t  Best eval. \t         GP EI: maximum y \t GP EI: exploit\n",
            "init\t [0.52017052 2.1314337 ]\t 27.953858411008774\t 10.607662635789808\t    \t    \n",
            "init\t [-2.14113547  0.11087468]\t 10.607662635789808\t 10.607662635789808\t    \t    \n",
            "init\t [4.02377681 4.05804123]\t 33.42749829480097\t 10.607662635789808\t    \t    \n",
            "init\t [-3.83400642 -2.99783293]\t 28.650953928965198\t 10.607662635789808\t    \t    \n",
            "init\t [-4.59297584 -0.6061072 ]\t 57.6631355589384\t 10.607662635789808\t    \t    \n",
            "1  \t [ 5.12       -3.02919363]\t 38.26848757526031\t 10.607662635789808\t 10.607662645167347\t 10.60766202430571\n",
            "2  \t [-5.12  5.12]\t 57.849427451571785\t 10.607662635789808\t 10.607660548564983\t 10.607659927045704\n",
            "3  \t [ 0.5961628 -5.12     ]\t 47.509642946385\t 10.607662635789808\t 10.607506200434454\t 10.60750557866077\n",
            "4  \t [ 1.61983752 -1.35910867]\t 38.09870921315859\t 10.607662635789808\t 10.566747023861172\t 10.566746331263213\n",
            "5  \t [-1.2386669  5.12     ]\t 39.74753161288041\t 10.607662635789808\t 10.557997119710882\t 10.557996410935138\n",
            "6  \t [5.12      0.6465698]\t 45.39360441315899\t 10.607662635789808\t 10.552486872143495\t 10.55248615298083\n",
            "7  \t [-3.188998    2.50505823]\t 42.70026624844219\t 10.607662635789808\t 10.111422960548953\t 10.111420722018474\n",
            "8  \t [-5.12 -5.12]\t 57.849427451571785\t 10.607662635789808\t 9.97574640490215\t 9.975743267413232\n",
            "9  \t [-1.12783576 -2.43078994]\t 29.306082160008064\t 10.607662635789808\t 9.814709635430967\t 9.814704948593514\n",
            "10 \t [ 3.52413414 -5.12      ]\t 61.22948295485128\t 10.607662635789808\t 9.677670251736835\t 9.6776637050502\n",
            "11 \t [1.57507914 5.12      ]\t 50.31339481461005\t 10.607662635789808\t 9.664175054152855\t 9.664168290985266\n",
            "12 \t [-2.16928862 -5.12      ]\t 38.77386995798743\t 10.607662635789808\t 9.163625379716192\t 8.263845680374153\n",
            "13 \t [2.69649062 1.41576528]\t 41.2063610351372\t 10.607662635789808\t 8.263988459546034\t 8.263834459386553\n",
            "14 \t [-0.59574826  0.1205928 ]\t 21.34960860076819\t 10.607662635789808\t 7.2986051553006375\t 7.297750656652698\n",
            "15 \t [-5.12        2.00560084]\t 32.95333990527016\t 10.607662635789808\t 6.667566839060303\t 5.483910366209142\n",
            "16 \t [5.12 5.12]\t 57.849427451571785\t 10.607662635789808\t 5.500287621561009\t 5.483910294522179\n",
            "17 \t [ 2.35177883 -3.11614415]\t 33.755747322552715\t 10.607662635789808\t 4.425936367215988\t 3.953697837527682\n",
            "18 \t [ 3.89350715 -1.18145526]\t 24.536639176557003\t 10.607662635789808\t 4.762303726779689\t 4.71601195976174\n",
            "19 \t [-1.09115086  2.81846794]\t 16.559562731129546\t 10.607662635789808\t 4.052580089480899\t 3.9526897235940313\n",
            "20 \t [5.12       2.64390759]\t 52.09812136177007\t 10.607662635789808\t 3.4916484396350875\t 2.9612808445543575\n"
          ]
        }
      ],
      "source": [
        "### Bayesian optimisation runs (x20): 'GP EI' Acquisition Function run number = 3\n",
        "\n",
        "np.random.seed(run_num_3)\n",
        "surrogate_approx_3 = dGaussianProcess(cov_func, optimize=hyperOpt)\n",
        "\n",
        "approx_3 = GPGO_approx(surrogate_approx_3, Acquisition_grad(util), f_syn_polarity, param, n_jobs = -1) # define BayesOpt\n",
        "approx_3.run(max_iter = max_iter, init_evals = n_init) # run\n"
      ]
    },
    {
      "cell_type": "code",
      "execution_count": 16,
      "metadata": {
        "colab": {
          "base_uri": "https://localhost:8080/"
        },
        "id": "wmlwMmKcJLkv",
        "outputId": "9de66872-a80b-4479-cf56-42741ec6d598"
      },
      "outputs": [
        {
          "output_type": "stream",
          "name": "stdout",
          "text": [
            "Evaluation \t Proposed point \t  Current eval. \t  Best eval. \t         GP EI: maximum y \t GP EI: exploit\n",
            "init\t [4.78238555 0.48365823]\t 51.03163809010808\t 14.323038259018315\t    \t    \n",
            "init\t [4.84028785 2.19971578]\t 39.78645699016559\t 14.323038259018315\t    \t    \n",
            "init\t [ 2.02474316 -2.90724357]\t 14.323038259018315\t 14.323038259018315\t    \t    \n",
            "init\t [ 4.87705042 -5.05620219]\t 52.80627247106233\t 14.323038259018315\t    \t    \n",
            "init\t [-2.52946061 -0.66773471]\t 41.61497868486559\t 14.323038259018315\t    \t    \n",
            "1  \t [-5.12  5.12]\t 57.849427451571785\t 14.323038259018315\t 14.323038210382029\t 14.323038210376208\n",
            "2  \t [0.36056217 5.12      ]\t 45.45613498837177\t 14.323038259018315\t 14.323018900468911\t 14.323018900463113\n",
            "3  \t [-5.12 -5.12]\t 57.849427451571785\t 14.323038259018315\t 14.323002230148575\t 14.323002230142752\n",
            "4  \t [-0.95955563 -5.12      ]\t 30.166610371082413\t 14.323038259018315\t 14.310508764675394\t 14.310508764669242\n",
            "\u001b[1m\u001b[92m5\u001b[0m\t \u001b[1m\u001b[92m[0.85384491 1.14528037]\u001b[0m\t \u001b[1m\u001b[92m9.854013339971154\u001b[0m\t \u001b[1m\u001b[92m9.854013339971154\u001b[0m\t \u001b[1m\u001b[92m14.28953161787869\u001b[0m\t \u001b[1m\u001b[92m14.289531617872079\u001b[0m\n",
            "6  \t [-5.12        1.50098193]\t 51.177470166852345\t 9.854013339971154\t 9.74346966318968\t 9.743464063118452\n",
            "7  \t [3.9143796 5.12     ]\t 45.65956945244747\t 9.854013339971154\t 9.654969478444707\t 9.654962539516852\n",
            "8  \t [-1.97853044  2.82545139]\t 17.42344948233775\t 9.854013339971154\t 9.595121014487866\t 9.59511299989353\n",
            "9  \t [ 0.31055985 -1.28096442]\t 27.384547873760006\t 9.854013339971154\t 8.884995027260123\t 8.884954330550904\n",
            "10 \t [-5.12       -1.96192496]\t 33.058662080489185\t 9.854013339971154\t 9.280995256608655\t 9.280978449181479\n",
            "11 \t [ 5.12       -2.25318852]\t 44.20189945982961\t 9.854013339971154\t 8.777886777120436\t 8.77783452941584\n",
            "12 \t [ 1.82467318 -5.12      ]\t 37.732547319837494\t 9.854013339971154\t 8.725692130125083\t 8.725634549572035\n",
            "13 \t [2.02588195 2.72620666]\t 23.15775430216855\t 9.854013339971154\t 8.321309298965845\t 8.321177004130423\n",
            "14 \t [-2.35556722  5.12      ]\t 50.63060308143082\t 9.854013339971154\t 8.07987875003987\t 8.079653527792109\n",
            "15 \t [-2.64734419 -3.36989662]\t 51.21739716918318\t 9.854013339971154\t 7.95355470867055\t 7.953263386518077\n",
            "16 \t [ 2.44665555 -0.45897887]\t 45.30999556055601\t 9.854013339971154\t 7.134891142483336\t 7.133550243394727\n",
            "17 \t [-0.59672853  1.36767201]\t 37.173999811246986\t 9.854013339971154\t 6.962555874435053\t 6.961071897678305\n",
            "18 \t [ 0.07106369 -3.22106689]\t 19.55278578478495\t 9.854013339971154\t 4.5705737806423885\t 4.513816233571322\n",
            "19 \t [-3.38755143  2.82455162]\t 42.544969580591186\t 9.854013339971154\t 3.427861644404687\t 1.1260880001211064\n",
            "20 \t [ 3.05542268 -3.08903564]\t 21.002379220511795\t 9.854013339971154\t 2.7617845805799495\t 1.5177552661303033\n"
          ]
        }
      ],
      "source": [
        "### Bayesian optimisation runs (x20): 'GP EI' Acquisition Function run number = 4\n",
        "\n",
        "np.random.seed(run_num_4)\n",
        "surrogate_approx_4 = dGaussianProcess(cov_func, optimize=hyperOpt)\n",
        "\n",
        "approx_4 = GPGO_approx(surrogate_approx_4, Acquisition_grad(util), f_syn_polarity, param, n_jobs = -1) # define BayesOpt\n",
        "approx_4.run(max_iter = max_iter, init_evals = n_init) # run\n"
      ]
    },
    {
      "cell_type": "code",
      "execution_count": 17,
      "metadata": {
        "colab": {
          "base_uri": "https://localhost:8080/"
        },
        "id": "ntlcfbyWJLkw",
        "outputId": "42612a88-09ad-4dcb-83f8-2f396d3eb8d0"
      },
      "outputs": [
        {
          "output_type": "stream",
          "name": "stdout",
          "text": [
            "Evaluation \t Proposed point \t  Current eval. \t  Best eval. \t         GP EI: maximum y \t GP EI: exploit\n",
            "init\t [-2.84678993  3.79629882]\t 33.93442008827236\t 7.8108627039749745\t    \t    \n",
            "init\t [-3.00319585  4.2865757 ]\t 39.673876075575784\t 7.8108627039749745\t    \t    \n",
            "init\t [-0.11866943  1.14425716]\t 7.8108627039749745\t 7.8108627039749745\t    \t    \n",
            "init\t [2.72289645 0.1886002 ]\t 25.38160395721669\t 7.8108627039749745\t    \t    \n",
            "init\t [-2.08076286 -3.19773462]\t 22.589982116319675\t 7.8108627039749745\t    \t    \n",
            "1  \t [ 5.12       -4.99232967]\t 53.859680359158276\t 7.8108627039749745\t 7.810883274331691\t 7.810494313660058\n",
            "2  \t [5.12 5.12]\t 57.849427451571785\t 7.8108627039749745\t 7.810880583399053\t 7.810491602735789\n",
            "3  \t [-5.12       -0.04624801]\t 29.346087750018796\t 7.8108627039749745\t 7.80948253948962\t 7.809092495206171\n",
            "4  \t [1.00367549 5.12      ]\t 29.934744720429038\t 7.8108627039749745\t 7.797950818230285\t 7.797551899485458\n",
            "5  \t [-5.12 -5.12]\t 57.849427451571785\t 7.8108627039749745\t 7.793280247284989\t 7.792877682477816\n",
            "6  \t [ 1.11159218 -5.12      ]\t 32.51937074646514\t 7.8108627039749745\t 7.791338219573511\t 7.790934127687014\n",
            "7  \t [ 5.12       -1.57391133]\t 50.34282145495706\t 7.8108627039749745\t 7.581267049325243\t 7.5806621607642475\n",
            "8  \t [ 0.59847481 -1.87829397]\t 24.816395280263684\t 7.8108627039749745\t 7.419732361981697\t 7.41891378022774\n",
            "9  \t [5.12       1.88585894]\t 34.944486099808984\t 7.8108627039749745\t 7.42637037023154\t 7.425561577287446\n",
            "10 \t [-2.19739625  0.02225705]\t 11.68132896003134\t 7.8108627039749745\t 7.263567371038318\t 7.262484033982093\n",
            "11 \t [2.18693369 2.78644167]\t 26.41750939813169\t 7.8108627039749745\t 6.709727937035601\t 6.706866986553647\n",
            "12 \t [-5.12        2.61669813]\t 53.201948226183234\t 7.8108627039749745\t 6.595645678286249\t 6.592186446853013\n",
            "13 \t [-5.12       -2.41193649]\t 53.24999969675778\t 7.8108627039749745\t 6.11875558758403\t 6.1113865746566\n",
            "14 \t [ 2.80919519 -3.10569541]\t 26.028045034462473\t 7.8108627039749745\t 5.903649041937773\t 5.893445665233185\n",
            "15 \t [-1.68165912 -5.12      ]\t 45.91593014308768\t 7.8108627039749745\t 5.79009301999046\t 5.778301086789762\n",
            "16 \t [-0.55454127  2.7790959 ]\t 35.6314388296815\t 7.8108627039749745\t 5.696190746711838\t 5.683271701716303\n",
            "17 \t [-0.03922337  0.21463201]\t 8.145762389792031\t 7.8108627039749745\t 4.374876392261268\t 4.323125423801647\n",
            "18 \t [-2.75161243  1.29707859]\t 32.0675588033732\t 7.8108627039749745\t 3.608413929603574\t 3.4605274754153594\n",
            "19 \t [-5.12  5.12]\t 57.849427451571785\t 7.8108627039749745\t 5.250482129872796\t 4.069593574419696\n",
            "20 \t [-1.96606343 -1.21102924]\t 13.134261826803915\t 7.8108627039749745\t 4.150014643413762\t 4.070225717309218\n"
          ]
        }
      ],
      "source": [
        "### Bayesian optimisation runs (x20): 'GP EI' Acquisition Function run number = 5\n",
        "\n",
        "np.random.seed(run_num_5)\n",
        "surrogate_approx_5 = dGaussianProcess(cov_func, optimize=hyperOpt)\n",
        "\n",
        "approx_5 = GPGO_approx(surrogate_approx_5, Acquisition_grad(util), f_syn_polarity, param, n_jobs = -1) # define BayesOpt\n",
        "approx_5.run(max_iter = max_iter, init_evals = n_init) # run\n"
      ]
    },
    {
      "cell_type": "code",
      "execution_count": 18,
      "metadata": {
        "colab": {
          "base_uri": "https://localhost:8080/"
        },
        "id": "HHrK2qnsJLkx",
        "outputId": "3c1da912-41ed-4027-b835-7c9b0052ddcc"
      },
      "outputs": [
        {
          "output_type": "stream",
          "name": "stdout",
          "text": [
            "Evaluation \t Proposed point \t  Current eval. \t  Best eval. \t         GP EI: maximum y \t GP EI: exploit\n",
            "init\t [ 4.02288795 -1.72052679]\t 31.08835710146886\t 17.28954482757088\t    \t    \n",
            "init\t [ 3.28938622 -4.69302655]\t 58.797867722203385\t 17.28954482757088\t    \t    \n",
            "init\t [-4.0175956   0.97333314]\t 17.28954482757088\t 17.28954482757088\t    \t    \n",
            "init\t [ 0.30532979 -0.83141193]\t 19.296253155889353\t 17.28954482757088\t    \t    \n",
            "init\t [-1.68542362  1.25459899]\t 28.650630936276173\t 17.28954482757088\t    \t    \n",
            "1  \t [5.12 5.12]\t 57.849427451571785\t 17.28954482757088\t 17.28954481698576\t 17.28954481698576\n",
            "2  \t [-4.80259373 -4.71437125]\t 64.2654268354374\t 17.28954482757088\t 17.28954423527899\t 17.289544235278896\n",
            "3  \t [-5.12  5.12]\t 57.849427451571785\t 17.28954482757088\t 17.288698462495336\t 17.288698462495336\n",
            "4  \t [0.39539475 5.12      ]\t 46.99777851653171\t 17.28954482757088\t 17.28821160658744\t 17.288211606590213\n",
            "5  \t [-0.74584822 -5.12      ]\t 39.74183768667681\t 17.28954482757088\t 17.273292610298007\t 17.2732926102975\n",
            "6  \t [2.84227361 1.91251524]\t 17.730997938997028\t 17.28954482757088\t 17.250377684631786\t 17.250377684631786\n",
            "7  \t [-2.70112069 -2.00627672]\t 24.352100408519405\t 17.28954482757088\t 17.042478896939798\t 17.042478896940285\n",
            "8  \t [5.12       1.12270866]\t 33.01305520734124\t 17.28954482757088\t 16.64767362889125\t 16.647673628891244\n",
            "9  \t [-2.34756426  4.03987827]\t 37.8972990582526\t 17.28954482757088\t 16.388596384669675\t 16.38859638466965\n",
            "10 \t [-5.12       -1.34881902]\t 46.56168599211964\t 17.28954482757088\t 16.361822597321094\t 16.36182259732109\n",
            "\u001b[1m\u001b[92m11\u001b[0m\t \u001b[1m\u001b[92m[ 0.9947677 -2.9644768]\u001b[0m\t \u001b[1m\u001b[92m10.03114528150226\u001b[0m\t \u001b[1m\u001b[92m10.03114528150226\u001b[0m\t \u001b[1m\u001b[92m15.538660267851819\u001b[0m\t \u001b[1m\u001b[92m15.538660267851792\u001b[0m\n",
            "12 \t [0.64470894 2.21142417]\t 29.04942829256953\t 10.03114528150226\t 8.277261286176827\t 8.277112223930642\n",
            "13 \t [-5.12       2.4245722]\t 53.70109399989006\t 10.03114528150226\t 7.652831396992956\t 7.6523404550412515\n",
            "14 \t [2.74684043 4.13804611]\t 38.398716117240205\t 10.03114528150226\t 7.157826272109823\t 7.156528815400551\n",
            "15 \t [ 2.28480828 -0.11267055]\t 19.805622508328693\t 10.03114528150226\t 6.905274182813222\t 6.903307073878085\n",
            "16 \t [-0.70791566 -2.66470032]\t 35.321915253547814\t 10.03114528150226\t 5.8611909478107025\t 5.85124361986956\n",
            "17 \t [ 5.12 -5.12]\t 57.849427451571785\t 10.03114528150226\t 5.001112975084164\t 4.9668583812789695\n",
            "18 \t [ 1.85406752 -2.52635938]\t 33.60054913165557\t 10.03114528150226\t 4.95032261277181\t 4.925229681891659\n",
            "19 \t [ 1.18885184 -5.12      ]\t 36.58985803294812\t 10.03114528150226\t 4.018949221714437\t 3.914113418399735\n",
            "20 \t [-2.59382741 -4.27182811]\t 54.65565400468877\t 10.03114528150226\t 3.6195485692165854\t 3.82496638827963\n"
          ]
        }
      ],
      "source": [
        "### Bayesian optimisation runs (x20): 'GP EI' Acquisition Function run number = 6\n",
        "\n",
        "np.random.seed(run_num_6)\n",
        "surrogate_approx_6 = dGaussianProcess(cov_func, optimize=hyperOpt)\n",
        "\n",
        "approx_6 = GPGO_approx(surrogate_approx_6, Acquisition_grad(util), f_syn_polarity, param, n_jobs = -1) # define BayesOpt\n",
        "approx_6.run(max_iter = max_iter, init_evals = n_init) # run\n"
      ]
    },
    {
      "cell_type": "code",
      "execution_count": 19,
      "metadata": {
        "colab": {
          "base_uri": "https://localhost:8080/"
        },
        "id": "rht2Y9u8JLky",
        "outputId": "c7c5f771-b6ed-47c1-80e0-ce7af28cab29"
      },
      "outputs": [
        {
          "output_type": "stream",
          "name": "stdout",
          "text": [
            "Evaluation \t Proposed point \t  Current eval. \t  Best eval. \t         GP EI: maximum y \t GP EI: exploit\n",
            "init\t [-4.33860312  2.86636843]\t 45.646133072936244\t 22.52235437888213\t    \t    \n",
            "init\t [-0.63068947  2.28828342]\t 34.83012662845338\t 22.52235437888213\t    \t    \n",
            "init\t [4.8946126  0.39419771]\t 44.09657005662876\t 22.52235437888213\t    \t    \n",
            "init\t [ 0.01147355 -4.38219639]\t 36.613209822404315\t 22.52235437888213\t    \t    \n",
            "init\t [-2.37118484e+00 -1.20319155e-03]\t 22.52235437888213\t 22.52235437888213\t    \t    \n",
            "1  \t [-5.12 -5.12]\t 57.849427451571785\t 22.52235437888213\t 22.5223271525891\t 22.5223271525891\n",
            "2  \t [ 5.12 -5.12]\t 57.849427451571785\t 22.52235437888213\t 22.522318976237948\t 22.522318976237948\n",
            "3  \t [3.59561593 5.12      ]\t 60.102158804111625\t 22.52235437888213\t 22.522178732453476\t 22.522178732735696\n",
            "4  \t [-4.02558214 -1.33646422]\t 33.289738493146906\t 22.52235437888213\t 22.52235436888213\t 22.52235436888213\n",
            "\u001b[1m\u001b[92m5\u001b[0m\t \u001b[1m\u001b[92m[ 1.40596248 -0.96125051]\u001b[0m\t \u001b[1m\u001b[92m21.50030659915684\u001b[0m\t \u001b[1m\u001b[92m21.50030659915684\u001b[0m\t \u001b[1m\u001b[92m22.466154042356017\u001b[0m\t \u001b[1m\u001b[92m22.466154042356017\u001b[0m\n",
            "6  \t [-1.80766108  5.12      ]\t 38.6481378642918\t 21.50030659915684\t 21.269915727972876\t 21.26991572797289\n",
            "7  \t [2.33777545 2.13219842]\t 28.5070705118175\t 21.50030659915684\t 20.892195425773526\t 20.892195425773526\n",
            "8  \t [ 3.57873521 -2.53947217]\t 57.75136482333049\t 21.50030659915684\t 20.763267799772173\t 20.763267799772173\n",
            "9  \t [-2.52321129 -3.63366108]\t 56.13991719116473\t 21.50030659915684\t 20.228408103914106\t 20.22840810391528\n",
            "10 \t [-5.12  5.12]\t 57.849427451571785\t 21.50030659915684\t 20.096484621272364\t 20.096484621272364\n",
            "11 \t [0.80820191 5.12      ]\t 36.00193501532993\t 21.50030659915684\t 20.097381674428036\t 20.097381674428036\n",
            "12 \t [5.12       2.99296201]\t 37.89231121509042\t 21.50030659915684\t 19.59820082160752\t 19.59820082160752\n",
            "13 \t [ 2.32121637 -5.12      ]\t 48.639580108977256\t 21.50030659915684\t 19.51766815474096\t 19.51766815474096\n",
            "14 \t [-0.64232356 -1.52937933]\t 38.8427605939146\t 21.50030659915684\t 18.893862864428968\t 18.89386286442898\n",
            "15 \t [-5.12        0.58519314]\t 47.868401159557116\t 21.50030659915684\t 18.74540736704499\t 18.745407367044788\n",
            "16 \t [0.75281852 0.65105088]\t 26.637825714601348\t 21.50030659915684\t 15.706247554823223\t 15.706247554823205\n",
            "17 \t [-5.12       -2.73896174]\t 47.1196235270653\t 21.50030659915684\t 16.041559205920443\t 16.041559205920436\n",
            "18 \t [-2.50636937  1.82867937]\t 34.873291102035985\t 21.50030659915684\t 14.360055428061068\t 14.172699952999354\n",
            "\u001b[1m\u001b[92m19\u001b[0m\t \u001b[1m\u001b[92m[ 2.81561811 -0.03624501]\u001b[0m\t \u001b[1m\u001b[92m14.180122880206511\u001b[0m\t \u001b[1m\u001b[92m14.180122880206511\u001b[0m\t \u001b[1m\u001b[92m14.170084478522904\u001b[0m\t \u001b[1m\u001b[92m14.17008447851812\u001b[0m\n",
            "20 \t [ 1.24721231 -2.72566386]\t 30.332768261251335\t 14.180122880206511\t 6.390778663128146\t 6.386381817661093\n"
          ]
        }
      ],
      "source": [
        "### Bayesian optimisation runs (x20): 'GP EI' Acquisition Function run number = 7\n",
        "\n",
        "np.random.seed(run_num_7)\n",
        "surrogate_approx_7 = dGaussianProcess(cov_func, optimize=hyperOpt)\n",
        "\n",
        "approx_7 = GPGO_approx(surrogate_approx_7, Acquisition_grad(util), f_syn_polarity, param, n_jobs = -1) # define BayesOpt\n",
        "approx_7.run(max_iter = max_iter, init_evals = n_init) # run\n"
      ]
    },
    {
      "cell_type": "code",
      "execution_count": 20,
      "metadata": {
        "colab": {
          "base_uri": "https://localhost:8080/"
        },
        "id": "vHGwZn0qJLkz",
        "outputId": "3ba2fc06-ffed-4408-c107-e95a594acfaf"
      },
      "outputs": [
        {
          "output_type": "stream",
          "name": "stdout",
          "text": [
            "Evaluation \t Proposed point \t  Current eval. \t  Best eval. \t         GP EI: maximum y \t GP EI: exploit\n",
            "init\t [3.82391708 4.79785639]\t 50.20079446939181\t 13.871821018360485\t    \t    \n",
            "init\t [3.78055209 0.31596228]\t 36.5114251593508\t 13.871821018360485\t    \t    \n",
            "init\t [-2.73686192 -5.00327624]\t 43.34985765011677\t 13.871821018360485\t    \t    \n",
            "init\t [-0.7119993  -0.99992207]\t 13.871821018360485\t 13.871821018360485\t    \t    \n",
            "init\t [ 0.23218863 -0.22126801]\t 17.190590355445654\t 13.871821018360485\t    \t    \n",
            "1  \t [-5.12  5.12]\t 57.849427451571785\t 13.871821018360485\t 13.87182100835591\t 13.8718196989802\n",
            "2  \t [ 5.12 -5.12]\t 57.849427451571785\t 13.871821018360485\t 13.871818156847137\t 13.871818156818582\n",
            "3  \t [-5.12       -0.06364033]\t 29.71762440781003\t 13.871821018360485\t 13.871565591201186\t 13.871565591013788\n",
            "4  \t [-0.66932547  4.17628239]\t 38.27599827837763\t 13.871821018360485\t 13.869722654657604\t 13.86972265462955\n",
            "5  \t [ 1.18397079 -4.40958062]\t 45.244574900951825\t 13.871821018360485\t 13.850453864999546\t 13.850453864965617\n",
            "6  \t [-2.62664423  1.70434339]\t 39.63119211712395\t 13.871821018360485\t 13.555411139835833\t 13.555411139751456\n",
            "7  \t [1.62766802 2.34326803]\t 40.62224865931505\t 13.871821018360485\t 13.170260561538367\t 13.170260561233434\n",
            "8  \t [-5.12       -3.13060175]\t 41.90752041364226\t 13.871821018360485\t 13.518563397449453\t 13.518563397353851\n",
            "9  \t [ 5.12       -2.11119333]\t 35.724728250930646\t 13.871821018360485\t 13.169696188943231\t 13.169696188637758\n",
            "10 \t [-2.59357163 -1.83824544]\t 33.16181378841205\t 13.871821018360485\t 12.538527639976687\t 12.538527637818289\n",
            "11 \t [5.12       2.44906953]\t 54.41499194698268\t 13.871821018360485\t 12.389160162085956\t 12.389160158421543\n",
            "12 \t [ 2.13261473 -1.86114713]\t 14.857513236711618\t 13.871821018360485\t 12.326125891984478\t 12.326125887545418\n",
            "13 \t [-5.12        2.43344797]\t 53.984764762957795\t 13.871821018360485\t 11.76900109551585\t 11.769001071788333\n",
            "14 \t [1.3847913 5.12     ]\t 48.3347929246235\t 13.871821018360485\t 10.79275763630306\t 10.792757269848478\n",
            "15 \t [-2.63543277  5.12      ]\t 52.462917072995424\t 13.871821018360485\t 10.797371288166946\t 10.797370928873386\n",
            "16 \t [-0.67835095 -3.04212027]\t 24.414127550254847\t 13.871821018360485\t 10.022238308445761\t 10.022235724385759\n",
            "17 \t [-5.12 -5.12]\t 57.849427451571785\t 13.871821018360485\t 9.771860408562242\t 9.771855536377247\n",
            "18 \t [ 3.23550257 -3.37200024]\t 47.865765255625696\t 13.871821018360485\t 8.724447316373956\t 8.72439439089007\n",
            "19 \t [-0.47327792  1.43385712]\t 41.28810822785493\t 13.871821018360485\t 8.574489632304712\t 8.574418302615209\n",
            "20 \t [ 1.66323616 -0.59511488]\t 36.5727538985758\t 13.871821018360485\t 7.982605708562532\t 7.98245690868861\n"
          ]
        }
      ],
      "source": [
        "### Bayesian optimisation runs (x20): 'GP EI' Acquisition Function run number = 8\n",
        "\n",
        "np.random.seed(run_num_8)\n",
        "surrogate_approx_8 = dGaussianProcess(cov_func, optimize=hyperOpt)\n",
        "\n",
        "approx_8 = GPGO_approx(surrogate_approx_8, Acquisition_grad(util), f_syn_polarity, param, n_jobs = -1) # define BayesOpt\n",
        "approx_8.run(max_iter = max_iter, init_evals = n_init) # run\n"
      ]
    },
    {
      "cell_type": "code",
      "execution_count": 21,
      "metadata": {
        "colab": {
          "base_uri": "https://localhost:8080/"
        },
        "id": "YC6sxKgkJLkz",
        "outputId": "8d720764-3d0a-44cb-de04-02386bec2c22"
      },
      "outputs": [
        {
          "output_type": "stream",
          "name": "stdout",
          "text": [
            "Evaluation \t Proposed point \t  Current eval. \t  Best eval. \t         GP EI: maximum y \t GP EI: exploit\n",
            "init\t [-5.01376866  0.01919582]\t 25.248289026162446\t 24.454800313488693\t    \t    \n",
            "init\t [-0.04328148 -3.74958562]\t 24.454800313488693\t 24.454800313488693\t    \t    \n",
            "init\t [-3.66478248 -2.88195916]\t 39.46509426509438\t 24.454800313488693\t    \t    \n",
            "init\t [-0.83447623 -2.57944404]\t 31.06766397812992\t 24.454800313488693\t    \t    \n",
            "init\t [-4.25922917 -1.58209393]\t 49.922543556206975\t 24.454800313488693\t    \t    \n",
            "1  \t [3.51080109 5.12      ]\t 61.22741838896637\t 24.454800313488693\t 24.454800303488692\t 24.454800303488692\n",
            "2  \t [ 5.12       -0.82070126]\t 35.300644588387776\t 24.454800313488693\t 24.454799847060574\t 24.454799847060574\n",
            "3  \t [-2.49910307  5.12      ]\t 55.17007107623675\t 24.454800313488693\t 24.454798878468488\t 24.454798878612014\n",
            "4  \t [ 4.37633724 -5.12      ]\t 65.20727067883779\t 24.454800313488693\t 24.453284877385897\t 24.453284877385897\n",
            "5  \t [0.62646235 1.5424505 ]\t 39.42380302867643\t 24.454800313488693\t 24.452650608253094\t 24.45265060825116\n",
            "6  \t [-5.12        3.14029447]\t 42.42619010349213\t 24.454800313488693\t 24.250099729744143\t 24.250099729744143\n",
            "7  \t [5.12       2.29111203]\t 46.72842153076276\t 24.454800313488693\t 24.161456849127013\t 24.161456849127024\n",
            "8  \t [ 2.16646636 -1.56137064]\t 31.386276807085373\t 24.454800313488693\t 24.0638186758549\t 24.063818675854197\n",
            "9  \t [-5.12 -5.12]\t 57.849427451571785\t 24.454800313488693\t 23.97924018469628\t 23.97924018469628\n",
            "10 \t [-2.35740136  1.37492647]\t 40.76315289351804\t 24.454800313488693\t 23.939332474424898\t 23.939332474424898\n",
            "11 \t [0.4856065 5.12     ]\t 49.11966098744288\t 24.454800313488693\t 23.78749406616596\t 23.78749406616596\n",
            "12 \t [-2.04408437 -5.12      ]\t 33.48416621029693\t 24.454800313488693\t 23.091337864616385\t 23.091337864616385\n",
            "13 \t [2.71787707 2.3218791 ]\t 39.14697034626743\t 24.454800313488693\t 21.041195277145004\t 21.041195277145007\n",
            "14 \t [ 1.56161052 -5.12      ]\t 50.62337926069773\t 24.454800313488693\t 22.75903979291773\t 22.75903979291773\n",
            "15 \t [-0.67536677 -0.50700852]\t 35.22284336808711\t 24.454800313488693\t 20.83408022819698\t 20.83408022819697\n",
            "16 \t [-5.12  5.12]\t 57.849427451571785\t 24.454800313488693\t 20.60294159358491\t 20.60294159358491\n",
            "\u001b[1m\u001b[92m17\u001b[0m\t \u001b[1m\u001b[92m[-0.97596971  3.17998522]\u001b[0m\t \u001b[1m\u001b[92m16.91995823245124\u001b[0m\t \u001b[1m\u001b[92m16.91995823245124\u001b[0m\t \u001b[1m\u001b[92m19.03589135762374\u001b[0m\t \u001b[1m\u001b[92m19.03589135762369\u001b[0m\n",
            "18 \t [ 5.12       -2.87638104]\t 40.066122628129214\t 16.91995823245124\t 12.73909360075574\t 12.73909359963272\n",
            "19 \t [3.15191704 0.21778712]\t 22.191826373965384\t 16.91995823245124\t 11.091600104990876\t 11.09159995854945\n",
            "20 \t [ 2.73767338 -3.17102816]\t 33.56317960673448\t 16.91995823245124\t 9.127982809952904\t 9.127962801204976\n"
          ]
        }
      ],
      "source": [
        "### Bayesian optimisation runs (x20): 'GP EI' Acquisition Function run number = 9\n",
        "\n",
        "np.random.seed(run_num_9)\n",
        "surrogate_approx_9 = dGaussianProcess(cov_func, optimize=hyperOpt)\n",
        "\n",
        "approx_9 = GPGO_approx(surrogate_approx_9, Acquisition_grad(util), f_syn_polarity, param, n_jobs = -1) # define BayesOpt\n",
        "approx_9.run(max_iter = max_iter, init_evals = n_init) # run\n"
      ]
    },
    {
      "cell_type": "code",
      "execution_count": 22,
      "metadata": {
        "colab": {
          "base_uri": "https://localhost:8080/"
        },
        "id": "P-0wfCEIJLk0",
        "outputId": "1688deeb-0e3a-4ec1-d3fd-ed1693dd7981"
      },
      "outputs": [
        {
          "output_type": "stream",
          "name": "stdout",
          "text": [
            "Evaluation \t Proposed point \t  Current eval. \t  Best eval. \t         GP EI: maximum y \t GP EI: exploit\n",
            "init\t [ 2.77832339 -4.90750004]\t 41.674330194390116\t 13.839458310244165\t    \t    \n",
            "init\t [1.36855793 2.54775176]\t 44.69639719065837\t 13.839458310244165\t    \t    \n",
            "init\t [-0.01528819 -2.81808235]\t 13.839458310244165\t 13.839458310244165\t    \t    \n",
            "init\t [-3.09183626  2.66783449]\t 33.23221510904937\t 13.839458310244165\t    \t    \n",
            "init\t [-3.38830503 -4.2154003 ]\t 54.73014366983691\t 13.839458310244165\t    \t    \n",
            "1  \t [ 5.12       -0.56822298]\t 48.342836229559616\t 13.839458310244165\t 13.839194745157116\t 13.839194745101318\n",
            "2  \t [5.12 5.12]\t 57.849427451571785\t 13.839458310244165\t 13.838737394294975\t 13.838737394262955\n",
            "3  \t [-5.12       -0.60617674]\t 47.14818198780898\t 13.839458310244165\t 13.82040158655753\t 13.820401586523413\n",
            "4  \t [-5.12  5.12]\t 57.849427451571785\t 13.839458310244165\t 13.73441165618979\t 13.734411656143923\n",
            "5  \t [-0.83794369  5.12      ]\t 34.378128412445356\t 13.839458310244165\t 13.700357471249482\t 13.700357471197949\n",
            "\u001b[1m\u001b[92m6\u001b[0m\t \u001b[1m\u001b[92m[-1.23131014 -0.10568939]\u001b[0m\t \u001b[1m\u001b[92m12.480746030578509\u001b[0m\t \u001b[1m\u001b[92m12.480746030578509\u001b[0m\t \u001b[1m\u001b[92m13.660227061274805\u001b[0m\t \u001b[1m\u001b[92m13.66022706121768\u001b[0m\n",
            "7  \t [ 1.89637783 -0.7930265 ]\t 13.600202137025928\t 12.480746030578509\t 12.095901545926198\t 12.095901536844446\n",
            "8  \t [-0.38408614 -5.12      ]\t 46.53525107558117\t 12.480746030578509\t 11.696880310859477\t 11.696880281614387\n",
            "9  \t [4.52999964 2.23269448]\t 54.243501313177475\t 12.480746030578509\t 11.557385175313826\t 11.557385130668944\n",
            "10 \t [ 5.12       -3.59595893]\t 60.09242383933993\t 12.480746030578509\t 11.669406509371585\t 11.669406477174475\n",
            "11 \t [2.14083556 5.12      ]\t 37.17419041723423\t 12.480746030578509\t 11.31116313349329\t 11.311163043432822\n",
            "12 \t [-2.40329348 -1.64489857]\t 42.82567857009356\t 12.480746030578509\t 10.392848313231886\t 10.392847313689906\n",
            "13 \t [-5.12        2.04203325]\t 33.44134234768545\t 12.480746030578509\t 9.79236298354092\t 9.300156232678956\n",
            "14 \t [-0.94074347  1.56250979]\t 23.25013515750325\t 12.480746030578509\t 9.530131110276171\t 9.530123335388014\n",
            "15 \t [ 2.3412297  -2.43952495]\t 46.14271772475651\t 12.480746030578509\t 9.300362680351311\t 9.300349127707365\n",
            "16 \t [ 0.44840399 -0.31402851]\t 33.69416441418359\t 12.480746030578509\t 8.770257430392071\t 8.770222230264599\n",
            "17 \t [-5.12    -2.99177]\t 37.88876842399399\t 12.480746030578509\t 8.069497044903917\t 8.069271504674301\n",
            "18 \t [2.74015106 0.33612159]\t 33.39078297794947\t 12.480746030578509\t 7.972346869834031\t 7.972139198245497\n",
            "19 \t [-2.80731574  5.12      ]\t 43.28181933304627\t 12.480746030578509\t 7.304133673987844\t 7.30316962743165\n",
            "20 \t [-2.85520883  0.56164703]\t 31.587403655093475\t 12.480746030578509\t 6.639664694136221\t 6.852820817990242\n"
          ]
        }
      ],
      "source": [
        "### Bayesian optimisation runs (x20): 'GP EI' Acquisition Function run number = 10\n",
        "\n",
        "np.random.seed(run_num_10)\n",
        "surrogate_approx_10 = dGaussianProcess(cov_func, optimize=hyperOpt)\n",
        "\n",
        "approx_10 = GPGO_approx(surrogate_approx_10, Acquisition_grad(util), f_syn_polarity, param, n_jobs = -1) # define BayesOpt\n",
        "approx_10.run(max_iter = max_iter, init_evals = n_init) # run\n"
      ]
    },
    {
      "cell_type": "code",
      "execution_count": 23,
      "metadata": {
        "colab": {
          "base_uri": "https://localhost:8080/"
        },
        "id": "Z6wmPCIEJLk2",
        "outputId": "80ad8895-2de0-4f55-e288-754328ce6715"
      },
      "outputs": [
        {
          "output_type": "stream",
          "name": "stdout",
          "text": [
            "Evaluation \t Proposed point \t  Current eval. \t  Best eval. \t         GP EI: maximum y \t GP EI: exploit\n",
            "init\t [-3.27403839 -4.92057353]\t 47.655641290890955\t 10.679755252484755\t    \t    \n",
            "init\t [-0.37664229  2.30332343]\t 35.87889240695259\t 10.679755252484755\t    \t    \n",
            "init\t [-0.81711509 -0.14922651]\t 10.679755252484755\t 10.679755252484755\t    \t    \n",
            "init\t [-4.98912446 -0.12931474]\t 28.05462905574235\t 10.679755252484755\t    \t    \n",
            "init\t [4.52410012 3.59214172]\t 71.62694632141611\t 10.679755252484755\t    \t    \n",
            "1  \t [ 5.12       -4.19757369]\t 53.309545194818966\t 10.679755252484755\t 10.679755258820743\t 10.679754745821844\n",
            "2  \t [-5.12  5.12]\t 57.849427451571785\t 10.679755252484755\t 10.679736422670041\t 10.6797359096174\n",
            "3  \t [ 0.96008613 -5.12      ]\t 30.15930307283154\t 10.679755252484755\t 10.673719223736814\t 10.673718702376851\n",
            "4  \t [ 3.08642864 -0.51789892]\t 31.169708360304476\t 10.679755252484755\t 10.670015725009897\t 10.670015198475351\n",
            "5  \t [1.20979303 5.12      ]\t 37.88882045619993\t 10.679755252484755\t 10.53794773109206\t 10.537946983900227\n",
            "6  \t [-1.93526602  5.12      ]\t 33.48579679074601\t 10.679755252484755\t 10.26409560795409\t 10.264094085463519\n",
            "7  \t [-0.89795318 -2.64270842]\t 26.01851828970851\t 10.679755252484755\t 10.228658207533492\t 10.228656551365479\n",
            "8  \t [-3.48309312  2.27188453]\t 48.607743772679605\t 10.679755252484755\t 10.060327049996449\t 10.060324497663656\n",
            "9  \t [-5.12       -2.81628555]\t 42.81069940853159\t 10.679755252484755\t 9.834349126029904\t 9.834344658182317\n",
            "10 \t [5.12       0.65030666]\t 45.20986581339974\t 10.679755252484755\t 9.287789499431346\t 9.287773137481619\n",
            "11 \t [ 2.21431405 -2.88804971]\t 23.39409860411954\t 10.679755252484755\t 9.2342953469287\t 9.234276773908254\n",
            "12 \t [2.11111561 1.90834598]\t 12.051192627131456\t 10.679755252484755\t 8.802855131870274\t 8.496545592212607\n",
            "13 \t [-2.69537264 -0.92830396]\t 22.48973802228408\t 10.679755252484755\t 8.49690027395812\t 8.496808843079961\n",
            "14 \t [ 0.7315732  -0.46690813]\t 31.693026518191417\t 10.679755252484755\t 7.770489156754074\t 7.770137532950649\n",
            "15 \t [ 5.12       -1.79841141]\t 39.163908403850265\t 10.679755252484755\t 7.213032124998043\t 7.211854532225934\n",
            "16 \t [ 3.03775803 -5.12      ]\t 38.43278597921184\t 10.679755252484755\t 6.368744856044225\t 6.363882830230458\n",
            "17 \t [-1.00818285 -5.12      ]\t 29.95436065193455\t 10.679755252484755\t 6.327132659831495\t 6.321982919078966\n",
            "18 \t [-5.12 -5.12]\t 57.849427451571785\t 10.679755252484755\t 5.083036293347573\t 4.28355417312309\n",
            "19 \t [1.9506771 2.9712826]\t 13.27238171346011\t 10.679755252484755\t 4.441240692011198\t 4.388562681075378\n",
            "20 \t [-1.67218975  0.52362756]\t 37.656927064636314\t 10.679755252484755\t 4.347280458939159\t 4.2893809951165025\n"
          ]
        }
      ],
      "source": [
        "### Bayesian optimisation runs (x20): 'GP EI' Acquisition Function run number = 11\n",
        "\n",
        "np.random.seed(run_num_11)\n",
        "surrogate_approx_11 = dGaussianProcess(cov_func, optimize=hyperOpt)\n",
        "\n",
        "approx_11 = GPGO_approx(surrogate_approx_11, Acquisition_grad(util), f_syn_polarity, param, n_jobs = -1) # define BayesOpt\n",
        "approx_11.run(max_iter = max_iter, init_evals = n_init) # run\n"
      ]
    },
    {
      "cell_type": "code",
      "execution_count": 24,
      "metadata": {
        "colab": {
          "base_uri": "https://localhost:8080/"
        },
        "id": "oNR6-n7iJLk3",
        "outputId": "e7f79a6d-7fbc-40e0-9b55-28b5a45b7540"
      },
      "outputs": [
        {
          "output_type": "stream",
          "name": "stdout",
          "text": [
            "Evaluation \t Proposed point \t  Current eval. \t  Best eval. \t         GP EI: maximum y \t GP EI: exploit\n",
            "init\t [-3.54137249  2.45810889]\t 57.903242869085595\t 40.51116653209555\t    \t    \n",
            "init\t [-2.42365424  0.34549139]\t 40.51116653209555\t 40.51116653209555\t    \t    \n",
            "init\t [-4.97075238  4.28796936]\t 55.62655915398208\t 40.51116653209555\t    \t    \n",
            "init\t [ 4.10332011 -4.77776458]\t 49.962803461970296\t 40.51116653209555\t    \t    \n",
            "init\t [ 4.6791612  -3.71497655]\t 62.183891474990624\t 40.51116653209555\t    \t    \n",
            "1  \t [5.12 5.12]\t 57.849427451571785\t 40.51116653209555\t 40.51116652209555\t 40.51116652209555\n",
            "2  \t [-5.12 -5.12]\t 57.849427451571785\t 40.51116653209555\t 40.511166354596\t 40.511166354596\n",
            "\u001b[1m\u001b[92m3\u001b[0m\t \u001b[1m\u001b[92m[2.51251401 0.83277565]\u001b[0m\t \u001b[1m\u001b[92m32.005722529378936\u001b[0m\t \u001b[1m\u001b[92m32.005722529378936\u001b[0m\t \u001b[1m\u001b[92m40.5108964820784\u001b[0m\t \u001b[1m\u001b[92m40.5108964820784\u001b[0m\n",
            "4  \t [0.33246165 5.12      ]\t 43.98773777137889\t 32.005722529378936\t 32.00480783751506\t 32.00480783751506\n",
            "5  \t [-0.48612801 -4.11887937]\t 39.82582218172278\t 32.005722529378936\t 32.00476239107483\t 32.00476239090395\n",
            "6  \t [-5.12       -1.54443998]\t 50.92270281076486\t 32.005722529378936\t 31.8685656175886\t 31.868565617588597\n",
            "7  \t [ 5.12       -0.37799197]\t 46.27033185660744\t 32.005722529378936\t 31.656038067134105\t 31.65603806713411\n",
            "\u001b[1m\u001b[92m8\u001b[0m\t \u001b[1m\u001b[92m[ 1.63834951 -1.98114848]\u001b[0m\t \u001b[1m\u001b[92m23.13300627910809\u001b[0m\t \u001b[1m\u001b[92m23.13300627910809\u001b[0m\t \u001b[1m\u001b[92m31.49651229881448\u001b[0m\t \u001b[1m\u001b[92m31.496512298814558\u001b[0m\n",
            "\u001b[1m\u001b[92m9\u001b[0m\t \u001b[1m\u001b[92m[-0.0438144  2.1429769]\u001b[0m\t \u001b[1m\u001b[92m8.741802936705255\u001b[0m\t \u001b[1m\u001b[92m8.741802936705255\u001b[0m\t \u001b[1m\u001b[92m22.349334073726876\u001b[0m\t \u001b[1m\u001b[92m22.34933407373057\u001b[0m\n",
            "10 \t [2.70822446 3.49146035]\t 52.10518078646453\t 8.741802936705255\t 7.48895398923406\t 7.488235825283311\n",
            "11 \t [-2.63767601 -2.7223414 ]\t 42.5836514849395\t 8.741802936705255\t 7.1723028876951656\t 7.171020907515283\n",
            "12 \t [-2.2879087  5.12     ]\t 46.518655396075715\t 8.741802936705255\t 7.152306803513986\t 7.150977087179356\n",
            "13 \t [5.12       2.25441711]\t 44.28460978305942\t 8.741802936705255\t 6.717814724576707\t 6.714990964109998\n",
            "14 \t [ 0.0035634  -0.32691368]\t 14.75610075645543\t 8.741802936705255\t 6.608844122646906\t 6.605492367318364\n",
            "15 \t [ 1.66589356 -5.12      ]\t 46.74192382365168\t 8.741802936705255\t 6.4930750658046\t 6.489004601967847\n",
            "16 \t [-2.54698002 -5.12      ]\t 54.97930670534113\t 8.741802936705255\t 5.1695257935822925\t 4.267634830817932\n",
            "17 \t [-0.77301429  2.68341173]\t 30.42011915010601\t 8.741802936705255\t 4.322445552256804\t 4.267600461233124\n",
            "18 \t [0.51410455 1.34088798]\t 37.42833330349831\t 8.741802936705255\t 3.2496786650052383\t 3.0736939974283675\n",
            "19 \t [-5.12        0.84597234]\t 33.96912470121685\t 8.741802936705255\t 4.653101165933506\t 4.599824687340273\n",
            "20 \t [-0.52185424 -1.60218248]\t 40.7540018643862\t 8.741802936705255\t 3.504815478250355\t 3.3427522949278683\n"
          ]
        }
      ],
      "source": [
        "### Bayesian optimisation runs (x20): 'GP EI' Acquisition Function run number = 12\n",
        "\n",
        "np.random.seed(run_num_12)\n",
        "surrogate_approx_12 = dGaussianProcess(cov_func, optimize=hyperOpt)\n",
        "\n",
        "approx_12 = GPGO_approx(surrogate_approx_12, Acquisition_grad(util), f_syn_polarity, param, n_jobs = -1) # define BayesOpt\n",
        "approx_12.run(max_iter = max_iter, init_evals = n_init) # run\n"
      ]
    },
    {
      "cell_type": "code",
      "execution_count": 25,
      "metadata": {
        "colab": {
          "base_uri": "https://localhost:8080/"
        },
        "id": "z1CyiX30JLk4",
        "outputId": "1bc47cd8-58b9-42d2-899d-00c29d5c8493"
      },
      "outputs": [
        {
          "output_type": "stream",
          "name": "stdout",
          "text": [
            "Evaluation \t Proposed point \t  Current eval. \t  Best eval. \t         GP EI: maximum y \t GP EI: exploit\n",
            "init\t [ 2.84367268 -2.68757791]\t 33.58019830007169\t 17.435826639425656\t    \t    \n",
            "init\t [3.32061217 4.76927179]\t 56.857057997503354\t 17.435826639425656\t    \t    \n",
            "init\t [ 4.83943541 -0.47667971]\t 48.211919361679726\t 17.435826639425656\t    \t    \n",
            "init\t [1.11659482 2.82139151]\t 17.435826639425656\t 17.435826639425656\t    \t    \n",
            "init\t [1.45012065 2.27346667]\t 38.25352329493884\t 17.435826639425656\t    \t    \n",
            "1  \t [-5.12       -2.72662604]\t 47.82255874469426\t 17.435826639425656\t 17.435826629425343\t 17.435826629425343\n",
            "2  \t [-5.12  5.12]\t 57.849427451571785\t 17.435826639425656\t 17.435826629045824\t 17.435826629045824\n",
            "3  \t [-1.07700212 -5.12      ]\t 31.232396259441025\t 17.435826639425656\t 17.43504492040659\t 17.43504492040659\n",
            "\u001b[1m\u001b[92m4\u001b[0m\t \u001b[1m\u001b[92m[-2.85656003  1.1263478 ]\u001b[0m\t \u001b[1m\u001b[92m16.211435218405377\u001b[0m\t \u001b[1m\u001b[92m16.211435218405377\u001b[0m\t \u001b[1m\u001b[92m17.432965983973418\u001b[0m\t \u001b[1m\u001b[92m17.432965983973418\u001b[0m\n",
            "5  \t [-1.15488899  5.12      ]\t 34.631880897342306\t 16.211435218405377\t 16.182432839700446\t 16.182432839700454\n",
            "6  \t [-0.62086316 -1.40876825]\t 38.024110347672334\t 16.211435218405377\t 16.149179030192535\t 16.149179030192307\n",
            "7  \t [ 5.12 -5.12]\t 57.849427451571785\t 16.211435218405377\t 16.146224479522388\t 16.14622447952238\n",
            "8  \t [5.12       2.46276689]\t 54.717534627939955\t 16.211435218405377\t 15.489571103055994\t 15.48957110305592\n",
            "9  \t [-5.12       1.7378469]\t 42.707685571911945\t 16.211435218405377\t 15.598590300678321\t 15.598590300678273\n",
            "10 \t [ 1.73842132 -5.12      ]\t 42.67369061556199\t 16.211435218405377\t 15.351411797817727\t 15.351411797817589\n",
            "11 \t [-3.90822919 -5.12      ]\t 45.81582910466021\t 16.211435218405377\t 15.276936151309288\t 15.27693615130911\n",
            "12 \t [-1.25796918  2.43117801]\t 37.07315934391851\t 16.211435218405377\t 14.328539506248323\t 14.328539506243214\n",
            "\u001b[1m\u001b[92m13\u001b[0m\t \u001b[1m\u001b[92m[ 1.88140599 -0.24378771]\u001b[0m\t \u001b[1m\u001b[92m15.859015661997645\u001b[0m\t \u001b[1m\u001b[92m15.859015661997645\u001b[0m\t \u001b[1m\u001b[92m14.257756841935237\u001b[0m\t \u001b[1m\u001b[92m14.2577568419281\u001b[0m\n",
            "14 \t [-3.23791375 -0.94252429]\t 21.258786232918936\t 15.859015661997645\t 13.684549537105118\t 13.684549537063479\n",
            "15 \t [0.95611063 5.12      ]\t 30.216689604687247\t 15.859015661997645\t 12.04499553302041\t 12.044995523353037\n",
            "16 \t [-2.30296132 -3.07764691]\t 29.20879180702484\t 15.859015661997645\t 12.015178765485649\t 12.015178754543244\n",
            "17 \t [ 5.12       -2.74078371]\t 47.01536221785513\t 15.859015661997645\t 11.176989578187822\t 11.176989453820845\n",
            "18 \t [-3.2037981   3.62576575]\t 47.58511441844999\t 15.859015661997645\t 11.578258306841896\t 11.578258266811421\n",
            "19 \t [-5.12       -0.42607962]\t 48.046913930704655\t 15.859015661997645\t 10.69940323939234\t 10.699402814190227\n",
            "20 \t [ 0.51107335 -3.18005891]\t 36.09533309494915\t 15.859015661997645\t 10.519089270902471\t 10.5190885467475\n"
          ]
        }
      ],
      "source": [
        "### Bayesian optimisation runs (x20): 'GP EI' Acquisition Function run number = 13\n",
        "\n",
        "np.random.seed(run_num_13)\n",
        "surrogate_approx_13 = dGaussianProcess(cov_func, optimize=hyperOpt)\n",
        "\n",
        "approx_13 = GPGO_approx(surrogate_approx_13, Acquisition_grad(util), f_syn_polarity, param, n_jobs = -1) # define BayesOpt\n",
        "approx_13.run(max_iter = max_iter, init_evals = n_init) # run\n"
      ]
    },
    {
      "cell_type": "code",
      "execution_count": 26,
      "metadata": {
        "colab": {
          "base_uri": "https://localhost:8080/"
        },
        "id": "Dx5l3xHMJLk5",
        "outputId": "2a2ca8a1-1ccb-4671-96aa-0ed352f79d35"
      },
      "outputs": [
        {
          "output_type": "stream",
          "name": "stdout",
          "text": [
            "Evaluation \t Proposed point \t  Current eval. \t  Best eval. \t         GP EI: maximum y \t GP EI: exploit\n",
            "init\t [0.14277984 2.79721013]\t 18.683085263052178\t 10.423838604848608\t    \t    \n",
            "init\t [ 3.7931795  -5.03759925]\t 47.36348784446708\t 10.423838604848608\t    \t    \n",
            "init\t [-1.94830412  4.68586229]\t 40.19779334078636\t 10.423838604848608\t    \t    \n",
            "init\t [ 0.13431513 -1.86076749]\t 10.423838604848608\t 10.423838604848608\t    \t    \n",
            "init\t [ 0.40140736 -2.85434939]\t 30.353548735049138\t 10.423838604848608\t    \t    \n",
            "1  \t [-5.12 -5.12]\t 57.849427451571785\t 10.423838604848608\t 10.423838349238634\t 10.423837341540427\n",
            "2  \t [5.12 5.12]\t 57.849427451571785\t 10.423838604848608\t 10.423836054052794\t 10.423835046348561\n",
            "3  \t [-5.12        0.35579134]\t 45.21958340622901\t 10.423838604848608\t 10.423818065791446\t 10.423817058002456\n",
            "4  \t [ 5.12       -0.06379914]\t 29.72153355734465\t 10.423838604848608\t 10.423748909814018\t 10.423747901880262\n",
            "5  \t [-5.12  5.12]\t 57.849427451571785\t 10.423838604848608\t 10.304461634285257\t 10.304460261479946\n",
            "6  \t [-1.64652967  0.04125168]\t 19.099632744916413\t 10.423838604848608\t 10.27538950295627\t 10.275388029546772\n",
            "7  \t [-1.68579742 -5.12      ]\t 45.69207326000724\t 10.423838604848608\t 10.213487320601555\t 10.213485587314555\n",
            "8  \t [1.91875481 0.23697336]\t 14.195094248688873\t 10.423838604848608\t 10.197476411585349\t 10.197474609291367\n",
            "9  \t [1.75616185 5.12      ]\t 41.621754569708116\t 10.423838604848608\t 10.136940069507393\t 10.136937965463042\n",
            "10 \t [-3.37001739 -2.32602649]\t 48.21096100132123\t 10.423838604848608\t 9.910687888745844\t 9.910684178339526\n",
            "11 \t [3.48152754 2.41513003]\t 56.49818257398282\t 10.423838604848608\t 9.705831165496534\t 9.705825047215445\n",
            "12 \t [ 3.28653453 -2.13814015]\t 31.184533919783988\t 10.423838604848608\t 9.456364354394927\t 9.456353243173947\n",
            "13 \t [-3.14107406  2.27897406]\t 30.54842689828208\t 10.423838604848608\t 9.026442354278334\t 9.026412393341584\n",
            "14 \t [ 1.13105775 -5.12      ]\t 33.407132671679705\t 10.423838604848608\t 8.42524099576373\t 8.425130472237734\n",
            "15 \t [ 5.12       -2.95114025]\t 38.101482328781465\t 10.423838604848608\t 7.07816321563517\t 6.802191189369257\n",
            "16 \t [ 0.28551419 -0.04893536]\t 12.765839820064265\t 10.423838604848608\t 6.8017248751741395\t 6.799714109081862\n",
            "17 \t [-0.83833596  1.60687789]\t 25.843849423763203\t 10.423838604848608\t 4.2914823320839774\t 4.219292903118513\n",
            "18 \t [-5.12        2.72957502]\t 47.65511293111281\t 10.423838604848608\t 5.586084028878826\t 5.570313284797979\n",
            "19 \t [-1.08351489 -1.58146601]\t 23.73881490317843\t 10.423838604848608\t 4.472151110072806\t 3.5518794937858673\n",
            "20 \t [-5.12       -2.31604771]\t 48.32059832473381\t 10.423838604848608\t 4.148730607877673\t 3.9772509569582764\n"
          ]
        }
      ],
      "source": [
        "### Bayesian optimisation runs (x20): 'GP EI' Acquisition Function run number = 14\n",
        "\n",
        "np.random.seed(run_num_14)\n",
        "surrogate_approx_14 = dGaussianProcess(cov_func, optimize=hyperOpt)\n",
        "\n",
        "approx_14 = GPGO_approx(surrogate_approx_14, Acquisition_grad(util), f_syn_polarity, param, n_jobs = -1) # define BayesOpt\n",
        "approx_14.run(max_iter = max_iter, init_evals = n_init) # run\n"
      ]
    },
    {
      "cell_type": "code",
      "execution_count": 27,
      "metadata": {
        "colab": {
          "base_uri": "https://localhost:8080/"
        },
        "id": "mNCLg6LHJLk6",
        "outputId": "b602fcc1-22b5-42ac-a37f-128e7a019cf2"
      },
      "outputs": [
        {
          "output_type": "stream",
          "name": "stdout",
          "text": [
            "Evaluation \t Proposed point \t  Current eval. \t  Best eval. \t         GP EI: maximum y \t GP EI: exploit\n",
            "init\t [ 3.57189322 -3.28810573]\t 54.938487770767075\t 7.990765314336182\t    \t    \n",
            "init\t [-4.56332069 -1.41784631]\t 60.750198753157726\t 7.990765314336182\t    \t    \n",
            "init\t [-2.29989449  0.3072023 ]\t 31.984997246800887\t 7.990765314336182\t    \t    \n",
            "init\t [-1.9873903  -2.00218256]\t 7.990765314336182\t 7.990765314336182\t    \t    \n",
            "init\t [-3.97576933 -2.5610341 ]\t 41.754957769694336\t 7.990765314336182\t    \t    \n",
            "1  \t [3.22352538 5.12      ]\t 47.66004087319409\t 7.990765314336182\t 7.990779890165227\t 7.990507243165965\n",
            "2  \t [-5.12  5.12]\t 57.849427451571785\t 7.990765314336182\t 7.99077713723363\t 7.990504488700184\n",
            "3  \t [5.12       1.00950206]\t 29.961625195999897\t 7.990765314336182\t 7.989125545259686\t 7.988851995737583\n",
            "4  \t [-0.33203436 -5.12      ]\t 43.96411228375585\t 7.990765314336182\t 7.98321889480877\t 7.982942102426407\n",
            "5  \t [-0.90983276  4.4464838 ]\t 41.60134848739645\t 7.990765314336182\t 7.982677965690018\t 7.982400872169525\n",
            "6  \t [1.41822379 0.64258617]\t 37.38123319970241\t 7.990765314336182\t 7.958636297789486\t 7.958345607018606\n",
            "7  \t [-5.12        1.86998088]\t 35.57694674126717\t 7.990765314336182\t 7.652854020430848\t 7.652326142202705\n",
            "8  \t [-5.12 -5.12]\t 57.849427451571785\t 7.990765314336182\t 7.674548561010101\t 7.674042502958886\n",
            "9  \t [ 0.38228983 -2.14116983]\t 25.800737691070065\t 7.990765314336182\t 7.32175382954648\t 7.320779326207487\n",
            "10 \t [ 5.12 -5.12]\t 57.849427451571785\t 7.990765314336182\t 6.444525774259124\t 6.4401041752443176\n",
            "11 \t [1.47713219 3.1310993 ]\t 35.087698813976175\t 7.990765314336182\t 5.925307537468317\t 5.783125915359037\n",
            "12 \t [ 5.12       -1.31475759]\t 44.6107969724238\t 7.990765314336182\t 5.816210955163015\t 6.239994858071092\n",
            "13 \t [5.12      3.4811284]\t 60.97275231810377\t 7.990765314336182\t 6.278797360140891\t 6.273047277544086\n",
            "14 \t [-2.84541354  2.92633285]\t 22.06972489669557\t 7.990765314336182\t 5.603428114445671\t 5.5877271214173\n",
            "15 \t [-2.63518107 -5.12      ]\t 52.47347347366595\t 7.990765314336182\t 4.895832699948647\t 4.855980574084856\n",
            "16 \t [-0.70179304  1.83745202]\t 21.62915879693238\t 7.990765314336182\t 3.850559102663444\t 3.7241317843436748\n",
            "17 \t [ 2.66945702 -0.99065041]\t 22.97204432892571\t 7.990765314336182\t 3.0639285846066238\t 2.8082672821566024\n",
            "18 \t [ 2.04028693 -5.12      ]\t 33.406152112028536\t 7.990765314336182\t 4.945977575194028\t 4.908517349825183\n",
            "19 \t [-1.57779685 -2.54141051]\t 47.440534886796925\t 7.990765314336182\t 2.9266980357975396\t 2.715838703409069\n",
            "20 \t [-2.83549134  5.12      ]\t 41.847762302980215\t 7.990765314336182\t 2.569976890132642\t 1.0855533809491567\n"
          ]
        }
      ],
      "source": [
        "### Bayesian optimisation runs (x20): 'GP EI' Acquisition Function run number = 15\n",
        "\n",
        "np.random.seed(run_num_15)\n",
        "surrogate_approx_15 = dGaussianProcess(cov_func, optimize=hyperOpt)\n",
        "\n",
        "approx_15 = GPGO_approx(surrogate_approx_15, Acquisition_grad(util), f_syn_polarity, param, n_jobs = -1) # define BayesOpt\n",
        "approx_15.run(max_iter = max_iter, init_evals = n_init) # run\n"
      ]
    },
    {
      "cell_type": "code",
      "execution_count": 28,
      "metadata": {
        "colab": {
          "base_uri": "https://localhost:8080/"
        },
        "id": "5xwjkr9RJLk6",
        "outputId": "c1605737-4f49-4b3f-d5ad-87caeca369a5"
      },
      "outputs": [
        {
          "output_type": "stream",
          "name": "stdout",
          "text": [
            "Evaluation \t Proposed point \t  Current eval. \t  Best eval. \t         GP EI: maximum y \t GP EI: exploit\n",
            "init\t [-2.83349935  0.23719262]\t 22.27210456874814\t 22.27210456874814\t    \t    \n",
            "init\t [ 0.51918292 -4.65303603]\t 57.57021076017139\t 22.27210456874814\t    \t    \n",
            "init\t [-1.42613673 -2.83565116]\t 33.89145899403749\t 22.27210456874814\t    \t    \n",
            "init\t [ 1.9325559  -3.44339021]\t 35.85029586225333\t 22.27210456874814\t    \t    \n",
            "init\t [-4.39987336  4.51595121]\t 77.78800881964571\t 22.27210456874814\t    \t    \n",
            "1  \t [5.12 5.12]\t 57.849427451571785\t 22.27210456874814\t 22.27210455874814\t 22.27210455874814\n",
            "2  \t [5.12       0.13354467]\t 32.26111583386254\t 22.27210456874814\t 22.27182863981133\t 22.27182863981133\n",
            "3  \t [0.5398628  3.56731246]\t 51.824017447015066\t 22.27210456874814\t 22.27159061777961\t 22.27159061777961\n",
            "4  \t [-5.12 -5.12]\t 57.849427451571785\t 22.27210456874814\t 22.270777410706692\t 22.270777410706692\n",
            "5  \t [ 5.12 -5.12]\t 57.849427451571785\t 22.27210456874814\t 22.247836002502357\t 22.247836002502357\n",
            "\u001b[1m\u001b[92m6\u001b[0m\t \u001b[1m\u001b[92m[1.26298944 0.01633028]\u001b[0m\t \u001b[1m\u001b[92m12.463247977319158\u001b[0m\t \u001b[1m\u001b[92m12.463247977319158\u001b[0m\t \u001b[1m\u001b[92m22.184654346198148\u001b[0m\t \u001b[1m\u001b[92m22.18465434620245\u001b[0m\n",
            "7  \t [-5.12       -1.65387336]\t 47.33925141326317\t 12.463247977319158\t 12.247028071876837\t 12.247028066133682\n",
            "8  \t [3.37858526 2.40312317]\t 52.622336975225906\t 12.463247977319158\t 11.76300892863592\t 11.763008904115193\n",
            "9  \t [-5.12        1.50296729]\t 51.18188645754396\t 12.463247977319158\t 11.62073658090398\t 11.05801527958985\n",
            "10 \t [ 5.12       -2.35306374]\t 50.494112978011\t 12.463247977319158\t 11.058015460873774\t 11.04066397306819\n",
            "11 \t [-1.58298613  5.12      ]\t 50.101700038879045\t 12.463247977319158\t 11.039894638213122\t 11.039894446175623\n",
            "12 \t [-0.67720234  1.00534824]\t 15.891153189988263\t 12.463247977319158\t 10.654693160120281\t 10.654692639863107\n",
            "13 \t [-2.3707208 -5.12     ]\t 51.42344575201791\t 12.463247977319158\t 10.649722132954377\t 10.649721583073855\n",
            "14 \t [2.42523411 5.12      ]\t 53.723207699620204\t 12.463247977319158\t 9.995724048746522\t 9.630880731120882\n",
            "15 \t [ 2.68511651 -0.95812616]\t 22.43673502079278\t 12.463247977319158\t 9.631212530493434\t 9.631206294430417\n",
            "16 \t [-2.26757357  2.47837196]\t 42.293962340027576\t 12.463247977319158\t 9.451839463878038\t 9.451828653462666\n",
            "\u001b[1m\u001b[92m17\u001b[0m\t \u001b[1m\u001b[92m[-0.06493118 -1.03459478]\u001b[0m\t \u001b[1m\u001b[92m2.130649551976223\u001b[0m\t \u001b[1m\u001b[92m2.130649551976223\u001b[0m\t \u001b[1m\u001b[92m8.986135251649259\u001b[0m\t \u001b[1m\u001b[92m8.986108061224694\u001b[0m\n",
            "18 \t [-0.07144973 -1.03869485]\t 2.368980723137115\t 2.130649551976223\t 0.39979037486290797\t -1.2317530052078655e-37\n",
            "19 \t [-0.07112917 -1.03855697]\t 2.3578433877256337\t 2.130649551976223\t 0.41652957373945154\t -4.695297849318804e-55\n",
            "20 \t [-0.07097463 -1.03848849]\t 2.352455809887527\t 2.130649551976223\t 0.4263197266321799\t -1.0501891917884383e-62\n"
          ]
        }
      ],
      "source": [
        "### Bayesian optimisation runs (x20): 'GP EI' Acquisition Function run number = 16\n",
        "\n",
        "np.random.seed(run_num_16)\n",
        "surrogate_approx_16 = dGaussianProcess(cov_func, optimize=hyperOpt)\n",
        "\n",
        "approx_16 = GPGO_approx(surrogate_approx_16, Acquisition_grad(util), f_syn_polarity, param, n_jobs = -1) # define BayesOpt\n",
        "approx_16.run(max_iter = max_iter, init_evals = n_init) # run\n"
      ]
    },
    {
      "cell_type": "code",
      "execution_count": 29,
      "metadata": {
        "colab": {
          "base_uri": "https://localhost:8080/"
        },
        "id": "zbpfP0FWJLk7",
        "outputId": "d3fe2122-a378-44bf-9798-116675b17fcb"
      },
      "outputs": [
        {
          "output_type": "stream",
          "name": "stdout",
          "text": [
            "Evaluation \t Proposed point \t  Current eval. \t  Best eval. \t         GP EI: maximum y \t GP EI: exploit\n",
            "init\t [-2.10263037  0.31320838]\t 20.395145364684023\t 20.395145364684023\t    \t    \n",
            "init\t [-3.15882714 -4.42470033]\t 53.03732051200137\t 20.395145364684023\t    \t    \n",
            "init\t [2.93873111 1.60085526]\t 29.989224812583537\t 20.395145364684023\t    \t    \n",
            "init\t [1.40821398 0.77417363]\t 29.451989415882437\t 20.395145364684023\t    \t    \n",
            "init\t [-4.71999574 -1.45598869]\t 55.89242173757483\t 20.395145364684023\t    \t    \n",
            "1  \t [ 5.12 -5.12]\t 57.849427451571785\t 20.395145364684023\t 20.39514535410384\t 20.39514535410384\n",
            "2  \t [-5.12        5.04639191]\t 54.812614501366646\t 20.395145364684023\t 20.395143885218694\t 20.395143861937797\n",
            "3  \t [-0.25151688  5.12      ]\t 39.08328165022297\t 20.395145364684023\t 20.394497924888107\t 20.394497924888107\n",
            "4  \t [5.12 5.12]\t 57.849427451571785\t 20.395145364684023\t 20.392568324785124\t 20.392568324785124\n",
            "5  \t [ 1.07732227 -3.51439108]\t 34.627838894066734\t 20.395145364684023\t 20.389356853513082\t 20.389356853514002\n",
            "6  \t [ 5.12      -1.2538001]\t 40.735472832160404\t 20.395145364684023\t 20.35529993551037\t 20.35529993551037\n",
            "7  \t [-5.12       1.8046791]\t 38.81317868649198\t 20.395145364684023\t 20.090615451575964\t 20.090615451575996\n",
            "8  \t [-2.31070733  3.10171229]\t 30.65605330060758\t 20.395145364684023\t 19.64631470838877\t 19.64631470838872\n",
            "\u001b[1m\u001b[92m9\u001b[0m\t \u001b[1m\u001b[92m[-1.18604647 -1.98912534]\u001b[0m\t \u001b[1m\u001b[92m11.475610183135492\u001b[0m\t \u001b[1m\u001b[92m11.475610183135492\u001b[0m\t \u001b[1m\u001b[92m19.266199293084046\u001b[0m\t \u001b[1m\u001b[92m19.266199293084032\u001b[0m\n",
            "10 \t [2.32512722 4.3641745 ]\t 55.57338441579203\t 11.475610183135492\t 10.250060048670298\t 10.250058476713406\n",
            "11 \t [5.12       2.01172955]\t 32.99891489290742\t 11.475610183135492\t 9.977407780312202\t 9.977404709036941\n",
            "12 \t [-0.58774371 -5.12      ]\t 47.78854713151647\t 11.475610183135492\t 9.493082514233937\t 9.493072456035295\n",
            "13 \t [ 2.51459842 -1.52793031]\t 48.462147488839946\t 11.475610183135492\t 9.400451654929762\t 9.400439110363438\n",
            "14 \t [ 2.54666387 -5.12      ]\t 54.98345631100392\t 11.475610183135492\t 8.727699270255496\t 8.449212833463639\n",
            "15 \t [-0.09099593  2.36455633]\t 23.782005439990023\t 11.475610183135492\t 8.449332338556674\t 8.44922939648764\n",
            "\u001b[1m\u001b[92m16\u001b[0m\t \u001b[1m\u001b[92m[-0.17378711 -0.83566433]\u001b[0m\t \u001b[1m\u001b[92m10.994563854655413\u001b[0m\t \u001b[1m\u001b[92m10.994563854655413\u001b[0m\t \u001b[1m\u001b[92m7.395428326484586\u001b[0m\t \u001b[1m\u001b[92m7.394727687332977\u001b[0m\n",
            "17 \t [-5.12 -5.12]\t 57.849427451571785\t 10.994563854655413\t 7.964629424711017\t 5.407685908185187\n",
            "18 \t [-2.64973294  5.12      ]\t 51.837218050152714\t 10.994563854655413\t 6.82308535439558\t 6.820791040530727\n",
            "19 \t [-2.21848279 -2.04128064]\t 17.455618090119774\t 10.994563854655413\t 5.471177912626981\t 5.458533359848931\n",
            "20 \t [-0.13846559 -1.55992202]\t 25.303869187840014\t 10.994563854655413\t 3.8676557878632933\t 3.7963300570366125\n"
          ]
        }
      ],
      "source": [
        "### Bayesian optimisation runs (x20): 'GP EI' Acquisition Function run number = 17\n",
        "\n",
        "np.random.seed(run_num_17)\n",
        "surrogate_approx_17 = dGaussianProcess(cov_func, optimize=hyperOpt)\n",
        "\n",
        "approx_17 = GPGO_approx(surrogate_approx_17, Acquisition_grad(util), f_syn_polarity, param, n_jobs = -1) # define BayesOpt\n",
        "approx_17.run(max_iter = max_iter, init_evals = n_init) # run\n"
      ]
    },
    {
      "cell_type": "code",
      "execution_count": 30,
      "metadata": {
        "colab": {
          "base_uri": "https://localhost:8080/"
        },
        "id": "1d-1rDI5JLk8",
        "outputId": "6fcef0a3-1566-428e-80ab-4fb3da775aa8"
      },
      "outputs": [
        {
          "output_type": "stream",
          "name": "stdout",
          "text": [
            "Evaluation \t Proposed point \t  Current eval. \t  Best eval. \t         GP EI: maximum y \t GP EI: exploit\n",
            "init\t [1.53983224 0.05584255]\t 22.67190580753611\t 22.67190580753611\t    \t    \n",
            "init\t [ 3.87687906 -3.25795609]\t 38.990099416711985\t 22.67190580753611\t    \t    \n",
            "init\t [3.60686662 2.56139557]\t 56.66448698782129\t 22.67190580753611\t    \t    \n",
            "init\t [1.70088108 4.99604939]\t 40.894059318256296\t 22.67190580753611\t    \t    \n",
            "init\t [-2.48864335 -4.83014733]\t 54.6725749848372\t 22.67190580753611\t    \t    \n",
            "1  \t [-5.12        2.10205646]\t 35.329806981264156\t 22.67190580753611\t 22.671905797155784\t 22.671905797155965\n",
            "2  \t [-2.46249897  5.12      ]\t 54.71229896676769\t 22.67190580753611\t 22.662989807583642\t 22.66298980758363\n",
            "3  \t [-2.31060743 -0.70591316]\t 32.2886926389127\t 22.67190580753611\t 22.654749728431607\t 22.654749728431607\n",
            "4  \t [ 1.04805566 -5.12      ]\t 30.475528403629312\t 22.67190580753611\t 22.55849899945573\t 22.558498999455033\n",
            "5  \t [-5.12       -2.45342851]\t 54.51894691997906\t 22.67190580753611\t 22.552769088340433\t 22.55276908834065\n",
            "6  \t [-0.69696348  2.25257308]\t 28.99255657496657\t 22.67190580753611\t 22.40979764306375\t 22.409797643063715\n",
            "7  \t [ 5.12       -0.35164303]\t 45.00942292790282\t 22.67190580753611\t 22.39418839706561\t 22.39418839706561\n",
            "8  \t [5.12 5.12]\t 57.849427451571785\t 22.67190580753611\t 22.273918773916474\t 22.273918773916474\n",
            "9  \t [ 0.15291077 -2.40801172]\t 28.468667642621206\t 22.67190580753611\t 21.970066860313402\t 21.9700668603134\n",
            "10 \t [-5.12  5.12]\t 57.849427451571785\t 22.67190580753611\t 21.686163937058822\t 21.686163937058822\n",
            "11 \t [ 5.12 -5.12]\t 57.849427451571785\t 22.67190580753611\t 21.086293286069626\t 21.086293286069626\n",
            "12 \t [-5.12 -5.12]\t 57.849427451571785\t 22.67190580753611\t 21.074099340333085\t 21.074099340333085\n",
            "\u001b[1m\u001b[92m13\u001b[0m\t \u001b[1m\u001b[92m[-2.86833301  1.88954843]\u001b[0m\t \u001b[1m\u001b[92m17.341967234694057\u001b[0m\t \u001b[1m\u001b[92m17.341967234694057\u001b[0m\t \u001b[1m\u001b[92m19.423988020977962\u001b[0m\t \u001b[1m\u001b[92m19.423988020977987\u001b[0m\n",
            "14 \t [ 2.49766581 -1.57551121]\t 47.61493159725018\t 17.341967234694057\t 12.799902936567298\t 12.79990293573968\n",
            "15 \t [-5.12       -0.05581187]\t 29.536422835107572\t 17.341967234694057\t 13.816191020435756\t 13.816191020403785\n",
            "16 \t [1.22676013 2.3057882 ]\t 28.80051243777016\t 17.341967234694057\t 12.344459109311877\t 12.344459105711847\n",
            "\u001b[1m\u001b[92m17\u001b[0m\t \u001b[1m\u001b[92m[-0.33017234  0.00783761]\u001b[0m\t \u001b[1m\u001b[92m14.948221318417325\u001b[0m\t \u001b[1m\u001b[92m14.948221318417325\u001b[0m\t \u001b[1m\u001b[92m12.041758389119204\u001b[0m\t \u001b[1m\u001b[92m12.041758380649283\u001b[0m\n",
            "18 \t [-0.28956946  5.12      ]\t 41.46925240211432\t 14.948221318417325\t 9.384866548567945\t 9.002065475172095\n",
            "19 \t [-2.16220755 -2.62671613]\t 33.32854739660544\t 14.948221318417325\t 9.002096052852961\t 9.00206716046173\n",
            "20 \t [ 2.76420632 -5.12      ]\t 45.674125746482915\t 14.948221318417325\t 8.046066832114546\t 8.045855068184697\n"
          ]
        }
      ],
      "source": [
        "### Bayesian optimisation runs (x20): 'GP EI' Acquisition Function run number = 18\n",
        "\n",
        "np.random.seed(run_num_18)\n",
        "surrogate_approx_18 = dGaussianProcess(cov_func, optimize=hyperOpt)\n",
        "\n",
        "approx_18 = GPGO_approx(surrogate_approx_18, Acquisition_grad(util), f_syn_polarity, param, n_jobs = -1) # define BayesOpt\n",
        "approx_18.run(max_iter = max_iter, init_evals = n_init) # run\n"
      ]
    },
    {
      "cell_type": "code",
      "execution_count": 31,
      "metadata": {
        "colab": {
          "base_uri": "https://localhost:8080/"
        },
        "id": "E7485DWlJLk8",
        "outputId": "e8ac8d8e-11d6-4002-b5d8-d529e02f6104"
      },
      "outputs": [
        {
          "output_type": "stream",
          "name": "stdout",
          "text": [
            "Evaluation \t Proposed point \t  Current eval. \t  Best eval. \t         GP EI: maximum y \t GP EI: exploit\n",
            "init\t [-4.12125592  2.6751971 ]\t 41.43485596167127\t 25.867003842388073\t    \t    \n",
            "init\t [-2.59135515 -3.70553152]\t 51.60126035043229\t 25.867003842388073\t    \t    \n",
            "init\t [-1.72598719 -4.27008445]\t 43.97430127029199\t 25.867003842388073\t    \t    \n",
            "init\t [1.76104531 3.13952049]\t 25.867003842388073\t 25.867003842388073\t    \t    \n",
            "init\t [4.9432772  1.38916592]\t 44.66580306903559\t 25.867003842388073\t    \t    \n",
            "1  \t [ 5.12 -5.12]\t 57.849427451571785\t 25.867003842388073\t 25.867003817800185\t 25.867003817800185\n",
            "2  \t [ 1.77610555 -1.68637021]\t 28.257800696860357\t 25.867003842388073\t 25.863869667308037\t 25.863869667378186\n",
            "3  \t [5.12 5.12]\t 57.849427451571785\t 25.867003842388073\t 25.83968647350202\t 25.83968647350202\n",
            "4  \t [-1.28669658  5.12      ]\t 42.865640128605456\t 25.867003842388073\t 25.830755885472026\t 25.830755885472026\n",
            "5  \t [-5.12       -0.97841466]\t 29.973838378434763\t 25.867003842388073\t 25.829893913928995\t 25.829893913928995\n",
            "\u001b[1m\u001b[92m6\u001b[0m\t \u001b[1m\u001b[92m[-1.20071904  0.35658574]\u001b[0m\t \u001b[1m\u001b[92m24.729200877054538\u001b[0m\t \u001b[1m\u001b[92m24.729200877054538\u001b[0m\t \u001b[1m\u001b[92m25.81750315989054\u001b[0m\t \u001b[1m\u001b[92m25.81750315989054\u001b[0m\n",
            "7  \t [ 1.54013895 -5.12      ]\t 50.98039839956516\t 24.729200877054538\t 24.589105097372258\t 24.589105097372258\n",
            "8  \t [ 5.12       -1.82150339]\t 37.89951571903204\t 24.729200877054538\t 24.424665279355636\t 24.424665279355644\n",
            "9  \t [-5.12 -5.12]\t 57.849427451571785\t 24.729200877054538\t 24.37340154935588\t 24.37340154935588\n",
            "10 \t [-5.12  5.12]\t 57.849427451571785\t 24.729200877054538\t 24.082429096653563\t 24.082429096653563\n",
            "\u001b[1m\u001b[92m11\u001b[0m\t \u001b[1m\u001b[92m[1.81512714 0.74351998]\u001b[0m\t \u001b[1m\u001b[92m20.275738798980814\u001b[0m\t \u001b[1m\u001b[92m20.275738798980814\u001b[0m\t \u001b[1m\u001b[92m23.00643599621368\u001b[0m\t \u001b[1m\u001b[92m23.006435996213916\u001b[0m\n",
            "12 \t [2.02694749 5.12      ]\t 33.17622737939979\t 20.275738798980814\t 18.229009374925074\t 18.22900937492506\n",
            "13 \t [-0.86390524  2.59077202]\t 29.314254696174135\t 20.275738798980814\t 18.04575067139478\t 18.0457506713948\n",
            "14 \t [-0.58607405 -1.85538197]\t 26.210780323769423\t 20.275738798980814\t 17.611519672940727\t 17.61151967294073\n",
            "\u001b[1m\u001b[92m15\u001b[0m\t \u001b[1m\u001b[92m[-3.21486993  0.05283628]\u001b[0m\t \u001b[1m\u001b[92m18.694784692820306\u001b[0m\t \u001b[1m\u001b[92m18.694784692820306\u001b[0m\t \u001b[1m\u001b[92m16.878170479979666\u001b[0m\t \u001b[1m\u001b[92m16.878170479979662\u001b[0m\n",
            "16 \t [ 3.23902693 -3.27858634]\t 42.33800220812209\t 18.694784692820306\t 14.278376375177151\t 14.278376375171007\n",
            "17 \t [-5.12       -2.80416551]\t 43.45005774931359\t 18.694784692820306\t 13.363740013008305\t 13.363740012881294\n",
            "18 \t [ 3.37955728 -0.28975071]\t 41.24770340285519\t 18.694784692820306\t 12.713931439327538\t 12.713931438294065\n",
            "19 \t [3.66248796 3.14300345]\t 42.290211260277424\t 18.694784692820306\t 12.657018229185688\t 13.072253462489355\n",
            "20 \t [-5.12        0.93865554]\t 30.539451659711055\t 18.694784692820306\t 13.072260043499163\t 13.072260043186105\n"
          ]
        }
      ],
      "source": [
        "### Bayesian optimisation runs (x20): 'GP EI' Acquisition Function run number = 19\n",
        "\n",
        "np.random.seed(run_num_19)\n",
        "surrogate_approx_19 = dGaussianProcess(cov_func, optimize=hyperOpt)\n",
        "\n",
        "approx_19 = GPGO_approx(surrogate_approx_19, Acquisition_grad(util), f_syn_polarity, param, n_jobs = -1) # define BayesOpt\n",
        "approx_19.run(max_iter = max_iter, init_evals = n_init) # run\n"
      ]
    },
    {
      "cell_type": "code",
      "execution_count": 32,
      "metadata": {
        "colab": {
          "base_uri": "https://localhost:8080/"
        },
        "id": "v9oZm6NvJLk9",
        "outputId": "44ecfb7c-6154-4f11-ea40-7bc9458eb7cf"
      },
      "outputs": [
        {
          "output_type": "stream",
          "name": "stdout",
          "text": [
            "Evaluation \t Proposed point \t  Current eval. \t  Best eval. \t         GP EI: maximum y \t GP EI: exploit\n",
            "init\t [0.9024594  4.07258857]\t 20.24255447774017\t 17.388691338534382\t    \t    \n",
            "init\t [4.00927467 3.23417577]\t 35.55852254546393\t 17.388691338534382\t    \t    \n",
            "init\t [-4.75249064  1.96359764]\t 36.54582989269194\t 17.388691338534382\t    \t    \n",
            "init\t [-1.24230715  0.18955208]\t 17.388691338534382\t 17.388691338534382\t    \t    \n",
            "init\t [ 1.61742301 -3.13497377]\t 33.22932870179905\t 17.388691338534382\t    \t    \n",
            "1  \t [-5.12 -5.12]\t 57.849427451571785\t 17.388691338534382\t 17.388691324429224\t 17.388691324429224\n",
            "2  \t [ 5.12       -0.92646264]\t 30.831636408205867\t 17.388691338534382\t 17.38387969925886\t 17.38387969925886\n",
            "3  \t [ 5.12 -5.12]\t 57.849427451571785\t 17.388691338534382\t 17.381329812260716\t 17.381329812260716\n",
            "4  \t [-2.70368996  5.12      ]\t 49.10351295059661\t 17.388691338534382\t 17.364569480344798\t 17.36456948034485\n",
            "5  \t [-1.34011193 -5.12      ]\t 46.0848184885253\t 17.388691338534382\t 17.33664596118368\t 17.336645961183713\n",
            "6  \t [-4.41681515 -1.56024818]\t 59.89955875979777\t 17.388691338534382\t 17.301419337969644\t 17.30141933796959\n",
            "7  \t [1.91138288 0.46614041]\t 25.15570172069959\t 17.388691338534382\t 17.220993817799695\t 17.220993817799616\n",
            "8  \t [-1.24979251 -2.24022712]\t 25.953899396092048\t 17.388691338534382\t 16.23325689724785\t 16.23325689724785\n",
            "9  \t [-1.34785265  2.53662839]\t 43.7556952108585\t 17.388691338534382\t 16.21502486922414\t 16.215024869224177\n",
            "10 \t [-5.12  5.12]\t 57.849427451571785\t 17.388691338534382\t 15.95494705191527\t 15.954947051915257\n",
            "11 \t [2.81009534 5.12      ]\t 43.13453488443848\t 17.388691338534382\t 15.011051229466583\t 15.01105122946617\n",
            "12 \t [ 2.24024765 -5.12      ]\t 43.33104871787925\t 17.388691338534382\t 14.99665213780889\t 14.996652137808457\n",
            "13 \t [5.12       1.32212775]\t 45.05111081240407\t 17.388691338534382\t 14.642711811387013\t 14.642711811385354\n",
            "14 \t [5.12 5.12]\t 57.849427451571785\t 17.388691338534382\t 14.493503838924742\t 14.493503838921848\n",
            "15 \t [ 3.91404895 -2.66535791]\t 38.91810844413524\t 17.388691338534382\t 13.9076139272232\t 13.907613927200869\n",
            "16 \t [-0.28396331  5.12      ]\t 41.123167200194054\t 17.388691338534382\t 12.98991447138354\t 12.989914471038004\n",
            "17 \t [1.4491349 2.3988669]\t 45.396300239751895\t 17.388691338534382\t 13.203813603733902\t 13.203813603545456\n",
            "18 \t [ 0.62540563 -1.01800886]\t 18.544447045874648\t 17.388691338534382\t 13.099627013424774\t 13.099627013113526\n",
            "19 \t [-2.95751871  0.49057962]\t 29.32418882077652\t 17.388691338534382\t 12.51908188750754\t 12.519081885639224\n",
            "20 \t [-3.09361955 -3.62444573]\t 41.48349192832917\t 17.388691338534382\t 12.24640488954553\t 12.246404884162661\n"
          ]
        }
      ],
      "source": [
        "### Bayesian optimisation runs (x20): 'GP EI' Acquisition Function run number = 20\n",
        "\n",
        "np.random.seed(run_num_20)\n",
        "surrogate_approx_20 = dGaussianProcess(cov_func, optimize=hyperOpt)\n",
        "\n",
        "approx_20 = GPGO_approx(surrogate_approx_20, Acquisition_grad(util), f_syn_polarity, param, n_jobs = -1) # define BayesOpt\n",
        "approx_20.run(max_iter = max_iter, init_evals = n_init) # run\n"
      ]
    },
    {
      "cell_type": "code",
      "execution_count": 33,
      "metadata": {
        "colab": {
          "base_uri": "https://localhost:8080/"
        },
        "id": "m3W7oEVSJLk9",
        "outputId": "c4e2d102-0044-4702-94c7-ebca5bba0789"
      },
      "outputs": [
        {
          "output_type": "stream",
          "name": "stdout",
          "text": [
            "Evaluation \t Proposed point \t  Current eval. \t  Best eval. \t         GP dEI: maximum y \t GP dEI: exploit\n",
            "init\t [-0.84969467  2.25612281]\t 20.33436270766351\t 19.908403246996286\t    \t    \n",
            "init\t [-5.1188288  -2.02411446]\t 33.07414982069084\t 19.908403246996286\t    \t    \n",
            "init\t [-3.61721968 -4.17445279]\t 53.347974723929894\t 19.908403246996286\t    \t    \n",
            "init\t [-3.21269544 -1.58145816]\t 39.218472310354045\t 19.908403246996286\t    \t    \n",
            "init\t [-1.05710106  0.39748336]\t 19.908403246996286\t 19.908403246996286\t    \t    \n",
            "1  \t [ 4.04077223 -4.24914728]\t 44.655863836006326\t 19.908403246996286\t 19.908403236569633\t 19.908403236569633\n",
            "2  \t [5.12 5.12]\t 57.849427451571785\t 19.908403246996286\t 19.90840323415899\t 19.90840323415899\n",
            "3  \t [4.33744349 0.432798  ]\t 53.344410128242544\t 19.908403246996286\t 19.90766397882616\t 19.907663978826147\n",
            "4  \t [-5.12        4.36680096]\t 64.69123843795754\t 19.908403246996286\t 19.90829130925116\t 19.90829130925116\n",
            "5  \t [ 0.15769158 -5.09614947]\t 32.285447952253\t 19.908403246996286\t 19.88621777482304\t 19.88621777482304\n",
            "6  \t [1.14453864 5.12      ]\t 34.082732834665336\t 19.908403246996286\t 19.876419828256836\t 19.876419825909487\n",
            "7  \t [ 1.31267743 -1.72405678]\t 30.155476940398223\t 19.908403246996286\t 19.772872900856346\t 19.77287290085634\n",
            "8  \t [-4.10739872  1.26622556]\t 31.683487300375575\t 19.908403246996286\t 19.413756937484635\t 19.413756937484635\n",
            "9  \t [-1.80418265  5.01629981]\t 35.13172156440348\t 19.908403246996286\t 19.44957045517234\t 19.44957045517234\n",
            "10 \t [1.43547837 2.68579275]\t 42.38923907785543\t 19.908403246996286\t 18.38357523032791\t 18.383575230363917\n",
            "11 \t [-1.024038   -2.45601624]\t 26.81506619013562\t 19.908403246996286\t 17.434556580546758\t 17.434556580546758\n",
            "12 \t [ 5.12       -1.99028245]\t 32.904572054647616\t 19.908403246996286\t 17.884264129308697\t 17.884264146707583\n",
            "13 \t [3.95610073 2.93943604]\t 25.38435272623046\t 19.908403246996286\t 16.630175232753608\t 16.700788580774088\n",
            "14 \t [1.38617381 0.40255192]\t 37.81657844327279\t 19.908403246996286\t 15.950776357043392\t 15.950776357043381\n",
            "15 \t [-2.47234479  2.64661596]\t 49.01500509838675\t 19.908403246996286\t 14.901761451601926\t 14.901772505571515\n",
            "16 \t [ 1.67108194 -3.60529414]\t 48.43872428213943\t 19.908403246996286\t 14.760335420312538\t 14.760335424945687\n",
            "17 \t [-5.12 -5.12]\t 57.849427451571785\t 19.908403246996286\t 14.382917944515768\t 14.382917944512235\n",
            "18 \t [-1.84363535 -4.76249809]\t 39.74619653591705\t 19.908403246996286\t 13.138005934648037\t 13.217194461649648\n",
            "19 \t [3.03015577 5.08323948]\t 36.536932544703106\t 19.908403246996286\t 12.872204083528352\t 13.026919118685402\n",
            "20 \t [-5.12000000e+00  4.08425346e-04]\t 28.92474681980258\t 19.908403246996286\t 13.274024995343561\t 11.19984138250567\n"
          ]
        }
      ],
      "source": [
        "### Bayesian optimisation runs (x20): 'GP dEI' Acquisition Function run number = 1 \n",
        "\n",
        "np.random.seed(run_num_1)\n",
        "surrogate_exact_1 = dGaussianProcess(cov_func, optimize=hyperOpt)\n",
        "\n",
        "exact_1 = GPGO_exact(surrogate_exact_1, Acquisition_grad(util), f_syn_polarity, param, n_jobs = -1) # Define BayesOpt\n",
        "exact_1.run(max_iter = max_iter, init_evals = n_init) # run\n"
      ]
    },
    {
      "cell_type": "code",
      "execution_count": 34,
      "metadata": {
        "colab": {
          "base_uri": "https://localhost:8080/"
        },
        "id": "FGw67C40JLk-",
        "outputId": "3e5e3515-6105-43b4-c92f-295aa23e2824"
      },
      "outputs": [
        {
          "output_type": "stream",
          "name": "stdout",
          "text": [
            "Evaluation \t Proposed point \t  Current eval. \t  Best eval. \t         GP dEI: maximum y \t GP dEI: exploit\n",
            "init\t [-0.6554122  -4.85451539]\t 43.490296251903594\t 18.964539418712707\t    \t    \n",
            "init\t [ 0.50854377 -0.6622987 ]\t 35.91861667536101\t 18.964539418712707\t    \t    \n",
            "init\t [-0.81543371 -1.73737143]\t 20.479562046739524\t 18.964539418712707\t    \t    \n",
            "init\t [-3.02439799  1.2213347 ]\t 18.964539418712707\t 18.964539418712707\t    \t    \n",
            "init\t [-2.05153614 -2.3876887 ]\t 28.041315668371354\t 18.964539418712707\t    \t    \n",
            "1  \t [5.12       3.79058262]\t 50.77089119709249\t 18.964539418712707\t 18.96453938815674\t 18.96453938815674\n",
            "2  \t [ 4.8426374  -3.96513962]\t 43.91494982240336\t 18.964539418712707\t 18.9645292393409\t 18.9645292393409\n",
            "3  \t [0.07192172 5.12      ]\t 29.933685188852706\t 18.964539418712707\t 18.964468578788942\t 18.964468578788942\n",
            "4  \t [-5.12 -5.12]\t 57.849427451571785\t 18.964539418712707\t 18.96082338803084\t 18.96082338803084\n",
            "5  \t [ 4.59349575 -0.07218847]\t 40.44010539027009\t 18.964539418712707\t 18.93748325196505\t 18.93748325196505\n",
            "6  \t [-3.91737664  4.88361111]\t 43.06990976462939\t 18.964539418712707\t 18.951667359958297\t 18.951667359958297\n",
            "7  \t [-5.12       -1.25907101]\t 41.07961364023437\t 18.964539418712707\t 18.838280444552236\t 18.83749188803988\n",
            "8  \t [1.21915537 2.47386203]\t 35.54586282014931\t 18.964539418712707\t 18.624287474646735\t 18.624287474646735\n",
            "9  \t [2.92833189 4.73591641]\t 42.88462753435191\t 18.964539418712707\t 16.94504979955154\t 16.945049821649672\n",
            "10 \t [ 1.96058274 -3.20105963]\t 21.369013127520887\t 18.964539418712707\t 18.238956095626612\t 18.238956095626612\n",
            "11 \t [-1.72859059  3.20560299]\t 31.85154721603225\t 18.964539418712707\t 17.279102342814394\t 17.27983567306402\n",
            "12 \t [ 2.9040523  -1.51694656]\t 32.440822281872606\t 18.964539418712707\t 14.806988721434653\t 14.806988776273899\n",
            "13 \t [ 1.66049265 -4.96039671]\t 43.00287785938545\t 18.964539418712707\t 15.516947107779881\t 15.516947106990367\n",
            "14 \t [-4.99831434  1.60737689]\t 45.37650566911981\t 18.964539418712707\t 17.370187538058108\t 17.37021546710804\n",
            "15 \t [-1.46025746  1.01097184]\t 22.868010780594293\t 18.964539418712707\t 14.551592288405413\t 14.551592288404049\n",
            "16 \t [-2.86264666 -5.11492505]\t 40.351495188498575\t 18.964539418712707\t 14.709561507190518\t 14.709545586045934\n",
            "17 \t [3.34026269 1.81361455]\t 35.92731048853902\t 18.964539418712707\t 14.938362674102516\t 14.927479137821265\n",
            "18 \t [-2.87051238 -0.57889849]\t 30.502259492777462\t 18.964539418712707\t 13.129944730024446\t 13.133441488602928\n",
            "19 \t [-5.12       -3.05916295]\t 38.966194662981216\t 18.964539418712707\t 11.348259795162068\t 11.002221953986902\n",
            "20 \t [-5.083233    3.50723547]\t 59.46622169136021\t 18.964539418712707\t 11.051431344835603\t 11.046353141756446\n"
          ]
        }
      ],
      "source": [
        "### Bayesian optimisation runs (x20): 'GP dEI' Acquisition Function run number = 2 \n",
        "\n",
        "np.random.seed(run_num_2)\n",
        "surrogate_exact_2 = dGaussianProcess(cov_func, optimize=hyperOpt)\n",
        "\n",
        "exact_2 = GPGO_exact(surrogate_exact_2, Acquisition_grad(util), f_syn_polarity, param, n_jobs = -1) # Define BayesOpt\n",
        "exact_2.run(max_iter = max_iter, init_evals = n_init) # run\n"
      ]
    },
    {
      "cell_type": "code",
      "execution_count": 35,
      "metadata": {
        "colab": {
          "base_uri": "https://localhost:8080/"
        },
        "id": "oFLQAtDZJLk_",
        "outputId": "a566ec80-dbb0-48a9-bdf2-6fc20978257e"
      },
      "outputs": [
        {
          "output_type": "stream",
          "name": "stdout",
          "text": [
            "Evaluation \t Proposed point \t  Current eval. \t  Best eval. \t         GP dEI: maximum y \t GP dEI: exploit\n",
            "init\t [0.52017052 2.1314337 ]\t 27.953858411008774\t 10.607662635789808\t    \t    \n",
            "init\t [-2.14113547  0.11087468]\t 10.607662635789808\t 10.607662635789808\t    \t    \n",
            "init\t [4.02377681 4.05804123]\t 33.42749829480097\t 10.607662635789808\t    \t    \n",
            "init\t [-3.83400642 -2.99783293]\t 28.650953928965198\t 10.607662635789808\t    \t    \n",
            "init\t [-4.59297584 -0.6061072 ]\t 57.6631355589384\t 10.607662635789808\t    \t    \n",
            "1  \t [ 1.67759318 -3.17566744]\t 32.79081619438729\t 10.607662635789808\t 10.607639236553297\t 10.607638650749266\n",
            "2  \t [-3.55868405  4.82551581]\t 60.708961282145246\t 10.607662635789808\t 10.607539928681135\t 10.607539309295317\n",
            "3  \t [ 5.12      -0.3507253]\t 44.96238197718422\t 10.607662635789808\t 10.60628490665781\t 10.606284274210797\n",
            "4  \t [-1.57258335 -5.10192032]\t 49.46191739291357\t 10.607662635789808\t 10.478411578989444\t 10.478410209441535\n",
            "5  \t [ 4.60130562 -3.45104534]\t 70.65406330267014\t 10.607662635789808\t 10.227228980960454\t 10.22722730829778\n",
            "6  \t [1.39442511 5.02099968]\t 45.121139687836546\t 10.607662635789808\t 10.12953747600545\t 9.93494432887848\n",
            "7  \t [-5.12 -5.12]\t 57.849427451571785\t 10.607662635789808\t 9.934947807457684\t 9.934944334492117\n",
            "8  \t [ 1.77493964 -0.2518877 ]\t 21.771864555434156\t 10.607662635789808\t 9.926920144830543\t 9.92691658808951\n",
            "9  \t [-2.40026603  2.1748725 ]\t 34.04428960044136\t 10.607662635789808\t 9.356170169539032\t 9.35615659210985\n",
            "10 \t [-0.5930262  -2.40244595]\t 42.64284633340007\t 10.607662635789808\t 9.132574006541768\t 9.132550570843014\n",
            "11 \t [3.34863025 1.67261288]\t 44.49199600977465\t 10.607662635789808\t 8.530142783818278\t 8.530058242578123\n",
            "12 \t [ 2.11690505 -5.08843091]\t 34.456303959661774\t 10.607662635789808\t 7.8869668163139695\t 7.892604751532782\n",
            "13 \t [-4.95344287  2.14008376]\t 33.171188903009735\t 10.607662635789808\t 9.041833635145846\t 9.048364448191192\n",
            "14 \t [-0.25672789 -0.12315258]\t 13.351007263103071\t 10.607662635789808\t 6.366854983695864\t 6.362165679141019\n",
            "15 \t [-1.01330751  5.12      ]\t 29.9864415743168\t 10.607662635789808\t 8.124121766210642\t 7.892395501378347\n",
            "16 \t [5.12 5.12]\t 57.849427451571785\t 10.607662635789808\t 5.583562250311848\t 5.569016014622111\n",
            "17 \t [-2.11976583 -0.62790959]\t 24.528551053236477\t 10.607662635789808\t 4.256948546095229\t 4.204669151139547\n",
            "18 \t [-0.64045276  0.56933831]\t 36.152514655895395\t 10.607662635789808\t 2.55840319805955\t 0.2000598537431699\n",
            "19 \t [5.12      2.4692841]\t 54.83642225451931\t 10.607662635789808\t 4.33206106518671\t 0.8293097533429963\n",
            "20 \t [ 2.67169968 -1.11975834]\t 25.8154453929145\t 10.607662635789808\t 3.506736772691389\t 3.3475251284759353\n"
          ]
        }
      ],
      "source": [
        "### Bayesian optimisation runs (x20): 'GP dEI' Acquisition Function run number = 3 \n",
        "\n",
        "np.random.seed(run_num_3)\n",
        "surrogate_exact_3 = dGaussianProcess(cov_func, optimize=hyperOpt)\n",
        "\n",
        "exact_3 = GPGO_exact(surrogate_exact_3, Acquisition_grad(util), f_syn_polarity, param, n_jobs = -1) # Define BayesOpt\n",
        "exact_3.run(max_iter = max_iter, init_evals = n_init) # run\n"
      ]
    },
    {
      "cell_type": "code",
      "execution_count": 36,
      "metadata": {
        "colab": {
          "base_uri": "https://localhost:8080/"
        },
        "id": "zhFOxkF0JLk_",
        "outputId": "eb2ae22c-b252-4a8d-df68-03f2732e3533"
      },
      "outputs": [
        {
          "output_type": "stream",
          "name": "stdout",
          "text": [
            "Evaluation \t Proposed point \t  Current eval. \t  Best eval. \t         GP dEI: maximum y \t GP dEI: exploit\n",
            "init\t [4.78238555 0.48365823]\t 51.03163809010808\t 14.323038259018315\t    \t    \n",
            "init\t [4.84028785 2.19971578]\t 39.78645699016559\t 14.323038259018315\t    \t    \n",
            "init\t [ 2.02474316 -2.90724357]\t 14.323038259018315\t 14.323038259018315\t    \t    \n",
            "init\t [ 4.87705042 -5.05620219]\t 52.80627247106233\t 14.323038259018315\t    \t    \n",
            "init\t [-2.52946061 -0.66773471]\t 41.61497868486559\t 14.323038259018315\t    \t    \n",
            "1  \t [-2.37593926  5.12      ]\t 51.682475782417484\t 14.323038259018315\t 14.323037154731137\t 14.323037154725636\n",
            "2  \t [-5.12 -5.12]\t 57.849427451571785\t 14.323038259018315\t 14.323002230149687\t 14.323002230143864\n",
            "3  \t [1.96075502 5.12      ]\t 33.07175374525896\t 14.323038259018315\t 14.317069408044068\t 14.317069408035856\n",
            "4  \t [0.79127659 1.31343849]\t 23.667976570604065\t 14.323038259018315\t 14.295724376544108\t 14.310322777390448\n",
            "5  \t [-1.08833013 -4.87479297]\t 29.387172349591154\t 14.323038259018315\t 14.305589604476479\t 14.30570187942055\n",
            "6  \t [5.12 5.12]\t 57.849427451571785\t 14.323038259018315\t 13.9775320528673\t 13.977532052847566\n",
            "7  \t [-5.12       -1.84843169]\t 36.543565483758904\t 14.323038259018315\t 13.82432530606683\t 13.824325305264402\n",
            "8  \t [-3.18235306  2.10393102]\t 22.487802657603762\t 14.323038259018315\t 13.762889299085149\t 13.762887852473824\n",
            "\u001b[1m\u001b[92m9\u001b[0m\t \u001b[1m\u001b[92m[ 2.03147824 -0.76219726]\u001b[0m\t \u001b[1m\u001b[92m14.137176713029609\u001b[0m\t \u001b[1m\u001b[92m14.137176713029609\u001b[0m\t \u001b[1m\u001b[92m12.721884306907064\u001b[0m\t \u001b[1m\u001b[92m12.721884305687158\u001b[0m\n",
            "10 \t [ 4.49925806 -2.18621233]\t 51.121282290516845\t 14.137176713029609\t 12.74123876542335\t 12.741237850920998\n",
            "11 \t [-0.28369163 -1.90698955]\t 17.47779971603191\t 14.137176713029609\t 12.717948412090799\t 12.717948410798419\n",
            "12 \t [ 1.38821255 -4.9510036 ]\t 44.54276845153296\t 14.137176713029609\t 12.744713949764982\t 12.744713948627028\n",
            "13 \t [-0.1407541   3.35280024]\t 30.94269822182789\t 14.137176713029609\t 12.320510749573673\t 12.32051074515012\n",
            "14 \t [-2.93273112 -3.28461606]\t 32.427498830724836\t 14.137176713029609\t 11.62368722356151\t 11.623687187439202\n",
            "15 \t [-4.67783867  0.34511684]\t 52.00845662996129\t 14.137176713029609\t 10.714796926684198\t 10.714796484833728\n",
            "16 \t [2.6078937  2.49788176]\t 50.828450958660405\t 14.137176713029609\t 10.728629877159118\t 10.662719811317958\n",
            "17 \t [-4.18829284  3.50886611]\t 56.057662539468296\t 14.137176713029609\t 10.361807470752105\t 10.36181375791492\n",
            "18 \t [-1.5063409   1.58059287]\t 43.50446138426804\t 14.137176713029609\t 9.590094279934581\t 9.590087505697321\n",
            "19 \t [ 0.40119356 -0.52930566]\t 38.40609676738939\t 14.137176713029609\t 7.852077603737821\t 7.84105665127468\n",
            "20 \t [ 0.40525086 -3.10651155]\t 30.251312377012283\t 14.137176713029609\t 6.561193591291568\t 6.558615454182953\n"
          ]
        }
      ],
      "source": [
        "### Bayesian optimisation runs (x20): 'GP dEI' Acquisition Function run number = 4 \n",
        "\n",
        "np.random.seed(run_num_4)\n",
        "surrogate_exact_4 = dGaussianProcess(cov_func, optimize=hyperOpt)\n",
        "\n",
        "exact_4 = GPGO_exact(surrogate_exact_4, Acquisition_grad(util), f_syn_polarity, param, n_jobs = -1) # Define BayesOpt\n",
        "exact_4.run(max_iter = max_iter, init_evals = n_init) # run\n"
      ]
    },
    {
      "cell_type": "code",
      "execution_count": 37,
      "metadata": {
        "colab": {
          "base_uri": "https://localhost:8080/"
        },
        "id": "YdzaqIajJLlA",
        "outputId": "0eb92933-df0e-4b54-f549-dec2cd1074dc"
      },
      "outputs": [
        {
          "output_type": "stream",
          "name": "stdout",
          "text": [
            "Evaluation \t Proposed point \t  Current eval. \t  Best eval. \t         GP dEI: maximum y \t GP dEI: exploit\n",
            "init\t [-2.84678993  3.79629882]\t 33.93442008827236\t 7.8108627039749745\t    \t    \n",
            "init\t [-3.00319585  4.2865757 ]\t 39.673876075575784\t 7.8108627039749745\t    \t    \n",
            "init\t [-0.11866943  1.14425716]\t 7.8108627039749745\t 7.8108627039749745\t    \t    \n",
            "init\t [2.72289645 0.1886002 ]\t 25.38160395721669\t 7.8108627039749745\t    \t    \n",
            "init\t [-2.08076286 -3.19773462]\t 22.589982116319675\t 7.8108627039749745\t    \t    \n",
            "1  \t [ 4.32894502 -5.09733749]\t 61.29459456639687\t 7.8108627039749745\t 7.810881347216296\t 7.810492367012083\n",
            "2  \t [5.12 5.12]\t 57.849427451571785\t 7.8108627039749745\t 7.810880583399788\t 7.810491602736525\n",
            "3  \t [-5.12       -0.31192635]\t 42.81552120921353\t 7.8108627039749745\t 7.8089377374162465\t 7.80869375618108\n",
            "4  \t [1.11276445 4.76007737]\t 35.670566143430165\t 7.8108627039749745\t 7.793938181882096\t 7.793135038640674\n",
            "5  \t [-5.12 -5.12]\t 57.849427451571785\t 7.8108627039749745\t 7.793115264556636\t 7.79271257032399\n",
            "6  \t [ 0.39675772 -5.12      ]\t 47.050887099555275\t 7.8108627039749745\t 7.71488434980356\t 7.704974461243532\n",
            "7  \t [ 5.12       -1.68100108]\t 45.951274194956675\t 7.8108627039749745\t 7.620691637069226\t 7.498282231229873\n",
            "8  \t [ 0.36506031 -1.61080919]\t 37.01656033743204\t 7.8108627039749745\t 7.370536434440062\t 7.37263876533947\n",
            "9  \t [5.12       1.87551399]\t 35.3483995511112\t 7.8108627039749745\t 7.450493807979845\t 7.400347699877233\n",
            "10 \t [-2.50968262  1.00263895]\t 27.286665905108197\t 7.8108627039749745\t 7.036649798263651\t 7.050934141476077\n",
            "11 \t [-5.12        2.28846656]\t 46.55525560741453\t 7.8108627039749745\t 6.426846162724699\t 6.609879006602504\n",
            "12 \t [ 2.58213167 -2.99766268]\t 34.35222216431596\t 7.8108627039749745\t 5.791760168967217\t 5.47089997637597\n",
            "13 \t [1.54295635 2.32966985]\t 42.245392949778136\t 7.8108627039749745\t 5.904809757085324\t 5.8947130370386125\n",
            "14 \t [-4.6668877  -2.59526534]\t 61.764633888586125\t 7.8108627039749745\t 5.0163300618391045\t 4.979742088629457\n",
            "\u001b[1m\u001b[92m15\u001b[0m\t \u001b[1m\u001b[92m[-2.02064412 -1.08259386]\u001b[0m\t \u001b[1m\u001b[92m6.655626983308281\u001b[0m\t \u001b[1m\u001b[92m6.655626983308281\u001b[0m\t \u001b[1m\u001b[92m4.022521549280119\u001b[0m\t \u001b[1m\u001b[92m3.1179479775174004\u001b[0m\n",
            "16 \t [-0.8224438   4.02088213]\t 22.533638667556986\t 6.655626983308281\t 1.8871399770567279\t -0.0\n",
            "17 \t [3.19224475 3.88483621]\t 34.23833171017681\t 6.655626983308281\t 1.6163461751398118\t 0.92937434011039\n",
            "18 \t [-2.44538611 -5.12      ]\t 54.321624731129646\t 6.655626983308281\t 3.812637768192196\t 1.0571121050189571\n",
            "19 \t [-2.4196922  -0.97607333]\t 25.674154270347685\t 6.655626983308281\t 1.568250811741348\t 1.0311236211863997\n",
            "20 \t [-0.98309116  2.17159622]\t 11.009273530074312\t 6.655626983308281\t 1.2093223486210718\t 0.4890585824110051\n"
          ]
        }
      ],
      "source": [
        "### Bayesian optimisation runs (x20): 'GP dEI' Acquisition Function run number = 5 \n",
        "\n",
        "np.random.seed(run_num_5)\n",
        "surrogate_exact_5 = dGaussianProcess(cov_func, optimize=hyperOpt)\n",
        "\n",
        "exact_5 = GPGO_exact(surrogate_exact_5, Acquisition_grad(util), f_syn_polarity, param, n_jobs = -1) # Define BayesOpt\n",
        "exact_5.run(max_iter = max_iter, init_evals = n_init) # run\n"
      ]
    },
    {
      "cell_type": "code",
      "execution_count": 38,
      "metadata": {
        "colab": {
          "base_uri": "https://localhost:8080/"
        },
        "id": "_KSBbC1zJLlA",
        "outputId": "ce321c66-92f3-455c-f726-b0938ed46a31"
      },
      "outputs": [
        {
          "output_type": "stream",
          "name": "stdout",
          "text": [
            "Evaluation \t Proposed point \t  Current eval. \t  Best eval. \t         GP dEI: maximum y \t GP dEI: exploit\n",
            "init\t [ 4.02288795 -1.72052679]\t 31.08835710146886\t 17.28954482757088\t    \t    \n",
            "init\t [ 3.28938622 -4.69302655]\t 58.797867722203385\t 17.28954482757088\t    \t    \n",
            "init\t [-4.0175956   0.97333314]\t 17.28954482757088\t 17.28954482757088\t    \t    \n",
            "init\t [ 0.30532979 -0.83141193]\t 19.296253155889353\t 17.28954482757088\t    \t    \n",
            "init\t [-1.68542362  1.25459899]\t 28.650630936276173\t 17.28954482757088\t    \t    \n",
            "1  \t [5.12 5.12]\t 57.849427451571785\t 17.28954482757088\t 17.28954481698576\t 17.28954481698576\n",
            "2  \t [-5.12 -5.12]\t 57.849427451571785\t 17.28954482757088\t 17.289544778430603\t 17.289544778430603\n",
            "3  \t [0.39239961 5.12      ]\t 46.879049981380305\t 17.28954482757088\t 17.288218848126796\t 17.288218848126796\n",
            "4  \t [-0.95408494 -4.92186911]\t 26.729297813340416\t 17.28954482757088\t 17.280194724131146\t 17.280194724131146\n",
            "5  \t [3.88132283 1.66847213]\t 35.40357333585098\t 17.28954482757088\t 17.20503138168115\t 17.20503138168115\n",
            "6  \t [-3.50135733  4.65921874]\t 69.36710849405449\t 17.28954482757088\t 17.262559027765388\t 17.262559027765388\n",
            "7  \t [-2.93001825 -2.19131086]\t 20.73354995532408\t 17.28954482757088\t 17.140388251706806\t 17.140388251706806\n",
            "\u001b[1m\u001b[92m8\u001b[0m\t \u001b[1m\u001b[92m[1.07553306 2.06715424]\u001b[0m\t \u001b[1m\u001b[92m7.412137046156813\u001b[0m\t \u001b[1m\u001b[92m7.412137046156813\u001b[0m\t \u001b[1m\u001b[92m16.466989379165504\u001b[0m\t \u001b[1m\u001b[92m16.46699516088295\u001b[0m\n",
            "9  \t [-5.12       -1.60992955]\t 49.22454018711592\t 7.412137046156813\t 6.402557624626916\t 6.4256927764255485\n",
            "10 \t [ 0.39818689 -2.89160704]\t 28.7735278144756\t 7.412137046156813\t 5.471040791648005\t 5.452258700591372\n",
            "11 \t [2.8543868 3.5640956]\t 43.95168582413419\t 7.412137046156813\t 4.475050333884127\t 4.409848918391474\n",
            "12 \t [1.47022114 0.77531512]\t 31.00423299668415\t 7.412137046156813\t 4.261926017839883\t 3.4984664776130314\n",
            "13 \t [-0.21745353  2.81863352]\t 21.781299040701573\t 7.412137046156813\t 4.141904199175724\t 4.038295077340159\n",
            "14 \t [-4.92313474  2.42023295]\t 50.008644011662\t 7.412137046156813\t 4.496020819625936\t 4.437910179402597\n",
            "15 \t [-2.83052469 -4.2316744 ]\t 39.92364908503027\t 7.412137046156813\t 3.0449318706335267\t 2.7820574527094553\n",
            "16 \t [-1.74729971 -0.92252376]\t 15.235407365005406\t 7.412137046156813\t 3.0496749326113424\t 1.0765738837435468\n",
            "17 \t [5.12      0.0169308]\t 28.98152984191843\t 7.412137046156813\t 3.6164959153358227\t 3.4593131764509355\n",
            "18 \t [ 0.72393115 -5.12      ]\t 41.07942972632672\t 7.412137046156813\t 2.5937846644590934\t -0.0\n",
            "19 \t [ 2.14738809 -1.8833903 ]\t 14.714768368319437\t 7.412137046156813\t 1.9747834598910448\t 1.4536133088615375\n",
            "20 \t [ 4.9340119  -3.15179319]\t 39.339231124959305\t 7.412137046156813\t 1.862085136145784\t 1.2978641925487213\n"
          ]
        }
      ],
      "source": [
        "### Bayesian optimisation runs (x20): 'GP dEI' Acquisition Function run number = 6 \n",
        "\n",
        "np.random.seed(run_num_6)\n",
        "surrogate_exact_6 = dGaussianProcess(cov_func, optimize=hyperOpt)\n",
        "\n",
        "exact_6 = GPGO_exact(surrogate_exact_6, Acquisition_grad(util), f_syn_polarity, param, n_jobs = -1) # Define BayesOpt\n",
        "exact_6.run(max_iter = max_iter, init_evals = n_init) # run\n"
      ]
    },
    {
      "cell_type": "code",
      "execution_count": 39,
      "metadata": {
        "colab": {
          "base_uri": "https://localhost:8080/"
        },
        "id": "WB64BgXFJLlB",
        "outputId": "98c8b6b8-07ac-42e3-e7e3-c35bd8e41023"
      },
      "outputs": [
        {
          "output_type": "stream",
          "name": "stdout",
          "text": [
            "Evaluation \t Proposed point \t  Current eval. \t  Best eval. \t         GP dEI: maximum y \t GP dEI: exploit\n",
            "init\t [-4.33860312  2.86636843]\t 45.646133072936244\t 22.52235437888213\t    \t    \n",
            "init\t [-0.63068947  2.28828342]\t 34.83012662845338\t 22.52235437888213\t    \t    \n",
            "init\t [4.8946126  0.39419771]\t 44.09657005662876\t 22.52235437888213\t    \t    \n",
            "init\t [ 0.01147355 -4.38219639]\t 36.613209822404315\t 22.52235437888213\t    \t    \n",
            "init\t [-2.37118484e+00 -1.20319155e-03]\t 22.52235437888213\t 22.52235437888213\t    \t    \n",
            "1  \t [-5.12 -5.12]\t 57.849427451571785\t 22.52235437888213\t 22.5223271525891\t 22.5223271525891\n",
            "2  \t [3.66237484 5.12      ]\t 57.569392297613234\t 22.52235437888213\t 22.522177196868483\t 22.522177195655278\n",
            "3  \t [ 4.52828409 -4.16265128]\t 62.45864721017638\t 22.52235437888213\t 22.5210520808623\t 22.5210520808623\n",
            "4  \t [-4.02558214 -1.33646422]\t 33.289738493146906\t 22.52235437888213\t 22.52235436888213\t 22.52235436888213\n",
            "\u001b[1m\u001b[92m5\u001b[0m\t \u001b[1m\u001b[92m[ 1.30561129 -0.85934528]\u001b[0m\t \u001b[1m\u001b[92m19.524098049117512\u001b[0m\t \u001b[1m\u001b[92m19.524098049117512\u001b[0m\t \u001b[1m\u001b[92m22.462586981371796\u001b[0m\t \u001b[1m\u001b[92m22.462586981371796\u001b[0m\n",
            "6  \t [0.11609633 5.12      ]\t 31.482813126571905\t 19.524098049117512\t 19.232738351900178\t 19.289145773438328\n",
            "7  \t [2.24434445 2.31532115]\t 34.032510308894345\t 19.524098049117512\t 18.86583585423762\t 18.86583585423762\n",
            "8  \t [-2.56582402 -3.4758337 ]\t 57.7066762278762\t 19.524098049117512\t 18.21210318994103\t 18.21210318994103\n",
            "9  \t [-2.37887928  4.82157764]\t 51.80070543635907\t 19.524098049117512\t 18.217079595131626\t 18.226566968252442\n",
            "10 \t [5.12       3.01055289]\t 38.010116626139904\t 19.524098049117512\t 17.541794317585936\t 17.541794317581555\n",
            "11 \t [ 2.15680208 -5.12      ]\t 38.04968210532146\t 19.524098049117512\t 16.966374188718383\t 16.49282110723194\n",
            "12 \t [-5.11292055  5.04211319]\t 54.3260309744776\t 19.524098049117512\t 17.371648599638668\t 17.371648599638668\n",
            "13 \t [ 3.2419681  -1.77056739]\t 31.852127747330183\t 19.524098049117512\t 17.195330192819824\t 16.942833408844063\n",
            "14 \t [-0.74632964 -0.77947533]\t 19.55376409843953\t 19.524098049117512\t 16.034299504685283\t 16.03429950468528\n",
            "15 \t [ 0.52171952 -2.38079273]\t 43.17108477596321\t 19.524098049117512\t 13.954920585468797\t 13.954919631016656\n",
            "16 \t [-5.12        0.33751728]\t 44.264543231983346\t 19.524098049117512\t 16.54958976397185\t 16.564310649443147\n",
            "17 \t [1.26169743 0.50194426]\t 32.577391869741945\t 19.524098049117512\t 13.637804840820007\t 13.694700677278444\n",
            "18 \t [ 5.12       -1.58040355]\t 50.17321262059416\t 19.524098049117512\t 13.120419417288417\t 12.802866136917292\n",
            "19 \t [-4.89363627 -2.96944867]\t 35.10023543726601\t 19.524098049117512\t 12.430053911403752\t 12.680564714443008\n",
            "20 \t [-2.62600488  1.85585522]\t 31.194941008149257\t 19.524098049117512\t 12.188124325052863\t 11.610853221763515\n"
          ]
        }
      ],
      "source": [
        "### Bayesian optimisation runs (x20): 'GP dEI' Acquisition Function run number = 7 \n",
        "\n",
        "np.random.seed(run_num_7)\n",
        "surrogate_exact_7 = dGaussianProcess(cov_func, optimize=hyperOpt)\n",
        "\n",
        "exact_7 = GPGO_exact(surrogate_exact_7, Acquisition_grad(util), f_syn_polarity, param, n_jobs = -1) # Define BayesOpt\n",
        "exact_7.run(max_iter = max_iter, init_evals = n_init) # run\n"
      ]
    },
    {
      "cell_type": "code",
      "execution_count": 40,
      "metadata": {
        "colab": {
          "base_uri": "https://localhost:8080/"
        },
        "id": "yCh1YYTlJLlB",
        "outputId": "e04a8c8d-85ef-45ee-db21-6ac73bddfc25"
      },
      "outputs": [
        {
          "output_type": "stream",
          "name": "stdout",
          "text": [
            "Evaluation \t Proposed point \t  Current eval. \t  Best eval. \t         GP dEI: maximum y \t GP dEI: exploit\n",
            "init\t [3.82391708 4.79785639]\t 50.20079446939181\t 13.871821018360485\t    \t    \n",
            "init\t [3.78055209 0.31596228]\t 36.5114251593508\t 13.871821018360485\t    \t    \n",
            "init\t [-2.73686192 -5.00327624]\t 43.34985765011677\t 13.871821018360485\t    \t    \n",
            "init\t [-0.7119993  -0.99992207]\t 13.871821018360485\t 13.871821018360485\t    \t    \n",
            "init\t [ 0.23218863 -0.22126801]\t 17.190590355445654\t 13.871821018360485\t    \t    \n",
            "1  \t [ 4.96376909 -4.82584897]\t 53.598448729164815\t 13.871821018360485\t 13.871804552259617\t 13.87180455223105\n",
            "2  \t [-5.03492225  2.95509263]\t 34.71822332027364\t 13.871821018360485\t 13.871820781110607\t 13.871820781082052\n",
            "3  \t [-0.88346227  5.12      ]\t 32.26835247215\t 13.871821018360485\t 13.871149387167755\t 13.871149387117194\n",
            "4  \t [ 1.0844111  -4.79070896]\t 32.97062299379361\t 13.871821018360485\t 13.842134558934491\t 13.842134558902844\n",
            "5  \t [-5.12       -1.44673329]\t 50.46289040957707\t 13.871821018360485\t 13.868193054446522\t 13.868193054455563\n",
            "\u001b[1m\u001b[92m6\u001b[0m\t \u001b[1m\u001b[92m[-1.95159419  1.92940076]\u001b[0m\t \u001b[1m\u001b[92m8.958091411800888\u001b[0m\t \u001b[1m\u001b[92m8.958091411800888\u001b[0m\t \u001b[1m\u001b[92m13.62658991038897\u001b[0m\t \u001b[1m\u001b[92m13.626589910322693\u001b[0m\n",
            "7  \t [1.43796867 2.43201855]\t 46.3340350028271\t 8.958091411800888\t 8.596192559529197\t 8.596114891044442\n",
            "8  \t [ 2.15576526 -2.10872731]\t 15.757196595783046\t 8.958091411800888\t 8.197514693451224\t 7.94771730053777\n",
            "9  \t [ 5.09033741 -1.80057301]\t 37.59730661475024\t 8.958091411800888\t 7.769806187033872\t 7.769386756323245\n",
            "10 \t [-5.12 -5.12]\t 57.849427451571785\t 8.958091411800888\t 7.6706864452063925\t 7.670179592088126\n",
            "11 \t [5.12       2.58500429]\t 54.21424408874834\t 8.958091411800888\t 7.44564173788529\t 7.411543436074169\n",
            "12 \t [-2.24170879 -2.30162295]\t 32.98899954267589\t 8.958091411800888\t 7.456715679282449\t 7.460051047467265\n",
            "13 \t [-3.16274303  0.56090919]\t 34.38218654040147\t 8.958091411800888\t 7.229758911115892\t 7.231079713989681\n",
            "14 \t [-3.48568377  5.08364923]\t 59.30273884482088\t 8.958091411800888\t 7.866869309308508\t 7.867710452354244\n",
            "15 \t [1.57289281 5.12      ]\t 50.36809578337911\t 8.958091411800888\t 5.7269193987134726\t 5.451215517633516\n",
            "16 \t [-0.87779246  1.84628676]\t 11.297737039014914\t 8.958091411800888\t 4.966598079111012\t 4.939514007451185\n",
            "17 \t [ 0.05935303 -2.74147852]\t 18.741739572599794\t 8.958091411800888\t 5.109257910551972\t 5.085755280399489\n",
            "18 \t [-1.7103522   2.86725968]\t 26.892992150046926\t 8.958091411800888\t 4.280386340007922\t 4.222277459644423\n",
            "19 \t [ 2.98112013 -3.51358623]\t 41.26622963346738\t 8.958091411800888\t 3.8039387240404823\t 3.664354086208631\n",
            "20 \t [ 1.78388063 -0.57786684]\t 30.230266776355226\t 8.958091411800888\t 3.3367649431400155\t 3.1454833427465623\n"
          ]
        }
      ],
      "source": [
        "### Bayesian optimisation runs (x20): 'GP dEI' Acquisition Function run number = 8 \n",
        "\n",
        "np.random.seed(run_num_8)\n",
        "surrogate_exact_8 = dGaussianProcess(cov_func, optimize=hyperOpt)\n",
        "\n",
        "exact_8 = GPGO_exact(surrogate_exact_8, Acquisition_grad(util), f_syn_polarity, param, n_jobs = -1) # Define BayesOpt\n",
        "exact_8.run(max_iter = max_iter, init_evals = n_init) # run\n"
      ]
    },
    {
      "cell_type": "code",
      "execution_count": 41,
      "metadata": {
        "colab": {
          "base_uri": "https://localhost:8080/"
        },
        "id": "IDhy8DkEJLlC",
        "outputId": "75e10228-00bf-4184-eb34-c1a264a54ca6"
      },
      "outputs": [
        {
          "output_type": "stream",
          "name": "stdout",
          "text": [
            "Evaluation \t Proposed point \t  Current eval. \t  Best eval. \t         GP dEI: maximum y \t GP dEI: exploit\n",
            "init\t [-5.01376866  0.01919582]\t 25.248289026162446\t 24.454800313488693\t    \t    \n",
            "init\t [-0.04328148 -3.74958562]\t 24.454800313488693\t 24.454800313488693\t    \t    \n",
            "init\t [-3.66478248 -2.88195916]\t 39.46509426509438\t 24.454800313488693\t    \t    \n",
            "init\t [-0.83447623 -2.57944404]\t 31.06766397812992\t 24.454800313488693\t    \t    \n",
            "init\t [-4.25922917 -1.58209393]\t 49.922543556206975\t 24.454800313488693\t    \t    \n",
            "1  \t [5.12 5.12]\t 57.849427451571785\t 24.454800313488693\t 24.454800303488692\t 24.454800303488692\n",
            "2  \t [ 5.03785231 -1.04596176]\t 27.16958169742484\t 24.454800313488693\t 24.454799385147297\t 24.454799385147297\n",
            "3  \t [-1.47691444  4.45110873]\t 61.42049213265991\t 24.454800313488693\t 24.45479920624852\t 24.45479920624852\n",
            "4  \t [1.55244529 1.27551439]\t 35.09524858557889\t 24.454800313488693\t 24.45016399153349\t 24.45016399153349\n",
            "5  \t [-2.25090749  1.29293161]\t 29.460154598682422\t 24.454800313488693\t 24.136678374381976\t 24.136678374381976\n",
            "6  \t [1.8025736 5.12     ]\t 38.930436244639026\t 24.454800313488693\t 24.213123071370998\t 24.21317179939711\n",
            "7  \t [ 2.90505959 -3.3723889 ]\t 38.49358175215039\t 24.454800313488693\t 24.235013132614093\t 24.235013132614093\n",
            "8  \t [4.95138848 1.94729695]\t 29.314338159432932\t 24.454800313488693\t 24.072230079488328\t 24.0722300794883\n",
            "9  \t [-5.12 -5.12]\t 57.849427451571785\t 24.454800313488693\t 23.979201782243425\t 23.979201782243425\n",
            "10 \t [-2.04794507 -5.12      ]\t 33.56912257570726\t 24.454800313488693\t 23.093554105185504\t 23.093587053172552\n",
            "11 \t [-4.99094553  3.24345975]\t 45.0349263236176\t 24.454800313488693\t 24.315997685948386\t 24.315997685948386\n",
            "12 \t [-0.31056367 -0.33541589]\t 29.035994239901903\t 24.454800313488693\t 22.038851358123132\t 22.038851358123107\n",
            "\u001b[1m\u001b[92m13\u001b[0m\t \u001b[1m\u001b[92m[ 2.32763953 -0.95684751]\u001b[0m\t \u001b[1m\u001b[92m21.385832201239403\u001b[0m\t \u001b[1m\u001b[92m21.385832201239403\u001b[0m\t \u001b[1m\u001b[92m21.804369105353782\u001b[0m\t \u001b[1m\u001b[92m21.804369105353782\u001b[0m\n",
            "14 \t [0.43634702 2.93638572]\t 28.811813269830658\t 21.385832201239403\t 16.69277979119903\t 17.38755379401499\n",
            "15 \t [3.14858982 3.10369468]\t 25.645683655116798\t 21.385832201239403\t 17.221520590233613\t 17.22062719120914\n",
            "16 \t [ 4.40639363 -4.2982085 ]\t 69.19353017553054\t 21.385832201239403\t 17.33179738989289\t 17.33179738989289\n",
            "17 \t [-3.77307603  4.75427167]\t 55.12600184002387\t 21.385832201239403\t 15.884097780944543\t 15.883909528382135\n",
            "18 \t [ 0.84859728 -4.40252137]\t 42.47825906850564\t 21.385832201239403\t 14.397261820843598\t 14.397261820843081\n",
            "19 \t [3.60464469 0.47105014]\t 50.96558733504713\t 21.385832201239403\t 14.76271851721869\t 14.762733662083615\n",
            "\u001b[1m\u001b[92m20\u001b[0m\t \u001b[1m\u001b[92m[-2.11350524 -0.91056025]\u001b[0m\t \u001b[1m\u001b[92m9.271047107468181\u001b[0m\t \u001b[1m\u001b[92m9.271047107468181\u001b[0m\t \u001b[1m\u001b[92m13.990098179184868\u001b[0m\t \u001b[1m\u001b[92m13.99009817917128\u001b[0m\n"
          ]
        }
      ],
      "source": [
        "### Bayesian optimisation runs (x20): 'GP dEI' Acquisition Function run number = 9 \n",
        "\n",
        "np.random.seed(run_num_9)\n",
        "surrogate_exact_9 = dGaussianProcess(cov_func, optimize=hyperOpt)\n",
        "\n",
        "exact_9 = GPGO_exact(surrogate_exact_9, Acquisition_grad(util), f_syn_polarity, param, n_jobs = -1) # Define BayesOpt\n",
        "exact_9.run(max_iter = max_iter, init_evals = n_init) # run\n"
      ]
    },
    {
      "cell_type": "code",
      "execution_count": 42,
      "metadata": {
        "colab": {
          "base_uri": "https://localhost:8080/"
        },
        "id": "RqwHOur5JLlC",
        "outputId": "b7edcaf8-f413-4f5e-e87c-90a4e4d76644"
      },
      "outputs": [
        {
          "output_type": "stream",
          "name": "stdout",
          "text": [
            "Evaluation \t Proposed point \t  Current eval. \t  Best eval. \t         GP dEI: maximum y \t GP dEI: exploit\n",
            "init\t [ 2.77832339 -4.90750004]\t 41.674330194390116\t 13.839458310244165\t    \t    \n",
            "init\t [1.36855793 2.54775176]\t 44.69639719065837\t 13.839458310244165\t    \t    \n",
            "init\t [-0.01528819 -2.81808235]\t 13.839458310244165\t 13.839458310244165\t    \t    \n",
            "init\t [-3.09183626  2.66783449]\t 33.23221510904937\t 13.839458310244165\t    \t    \n",
            "init\t [-3.38830503 -4.2154003 ]\t 54.73014366983691\t 13.839458310244165\t    \t    \n",
            "1  \t [ 5.12       -0.53830217]\t 48.92629267922258\t 13.839458310244165\t 13.839193299462396\t 13.839193299422716\n",
            "2  \t [5.12 5.12]\t 57.849427451571785\t 13.839458310244165\t 13.838736940818274\t 13.838736940786253\n",
            "3  \t [-4.22754093 -0.73798976]\t 37.76417471725897\t 13.839458310244165\t 13.767410946664924\t 13.767410946623968\n",
            "4  \t [ 1.77944761 -0.72160778]\t 23.6219314007071\t 13.839458310244165\t 13.495993287041971\t 13.495993286848535\n",
            "5  \t [-4.5050859   5.00650982]\t 65.36419794062027\t 13.839458310244165\t 13.442488879648867\t 13.442488879525598\n",
            "6  \t [0.10579747 5.07144996]\t 28.850951888017963\t 13.839458310244165\t 13.416799619630586\t 13.416799619496038\n",
            "\u001b[1m\u001b[92m7\u001b[0m\t \u001b[1m\u001b[92m[-1.10430841 -0.00826503]\u001b[0m\t \u001b[1m\u001b[92m3.304937571276623\u001b[0m\t \u001b[1m\u001b[92m3.304937571276623\u001b[0m\t \u001b[1m\u001b[92m13.413574047975152\u001b[0m\t \u001b[1m\u001b[92m13.413574047839194\u001b[0m\n",
            "8  \t [4.02447235 2.51756262]\t 42.59166081837165\t 3.304937571276623\t 2.1539734192063653\t 1.240235578421461\n",
            "9  \t [-0.53137903 -4.86686758]\t 47.07434955710461\t 3.304937571276623\t 2.2683482119377394\t 1.8685019380529257\n",
            "10 \t [-0.93666847  0.62454078]\t 19.140164738802195\t 3.304937571276623\t 1.7427607821711704\t 0.6720496939619344\n",
            "11 \t [-1.27350046 -1.65147014]\t 31.623247710938486\t 3.304937571276623\t 1.8044826831225333\t 1.2091900224485124\n",
            "12 \t [ 4.37130588 -2.95944354]\t 45.0945962517404\t 3.304937571276623\t 1.6948966069365738\t 0.7869518108157895\n",
            "13 \t [-5.12 -5.12]\t 57.849427451571785\t 3.304937571276623\t 0.48550367170020337\t -9.685220453609608e-48\n",
            "14 \t [-5.12        1.64301018]\t 47.85157330243807\t 3.304937571276623\t 1.5713404571822207\t -4.039193121886992e-30\n",
            "15 \t [2.77700547 4.67542814]\t 52.39863399663816\t 3.304937571276623\t 0.5700225762971199\t -2.1873853349399867e-35\n",
            "16 \t [-1.84996598  5.11863861]\t 36.398737849146066\t 3.304937571276623\t 0.7691549889063337\t -2.4820572539516444e-60\n",
            "17 \t [-2.45053553  0.58330932]\t 44.52729163203699\t 3.304937571276623\t 0.09946047979903568\t -2.5155645582964716e-25\n",
            "18 \t [-5.12       -2.57923472]\t 54.36329541155715\t 3.304937571276623\t 0.28228323100753233\t -2.4344193261343277e-49\n",
            "19 \t [ 1.48850798 -2.72487854]\t 41.18644351224248\t 3.304937571276623\t 0.37201653564126674\t -7.94343698451015e-29\n",
            "20 \t [-0.76633817  2.58851034]\t 34.75596565544681\t 3.304937571276623\t 0.12828752828291434\t -7.139468282452882e-53\n"
          ]
        }
      ],
      "source": [
        "### Bayesian optimisation runs (x20): 'GP dEI' Acquisition Function run number = 10 \n",
        "\n",
        "np.random.seed(run_num_10)\n",
        "surrogate_exact_10 = dGaussianProcess(cov_func, optimize=hyperOpt)\n",
        "\n",
        "exact_10 = GPGO_exact(surrogate_exact_10, Acquisition_grad(util), f_syn_polarity, param, n_jobs = -1) # Define BayesOpt\n",
        "exact_10.run(max_iter = max_iter, init_evals = n_init) # run\n"
      ]
    },
    {
      "cell_type": "code",
      "execution_count": 43,
      "metadata": {
        "colab": {
          "base_uri": "https://localhost:8080/"
        },
        "id": "iXLW3-5DJLlD",
        "outputId": "c34ac816-8197-4ec9-ed71-012ee7ab4e2b"
      },
      "outputs": [
        {
          "output_type": "stream",
          "name": "stdout",
          "text": [
            "Evaluation \t Proposed point \t  Current eval. \t  Best eval. \t         GP dEI: maximum y \t GP dEI: exploit\n",
            "init\t [-3.27403839 -4.92057353]\t 47.655641290890955\t 10.679755252484755\t    \t    \n",
            "init\t [-0.37664229  2.30332343]\t 35.87889240695259\t 10.679755252484755\t    \t    \n",
            "init\t [-0.81711509 -0.14922651]\t 10.679755252484755\t 10.679755252484755\t    \t    \n",
            "init\t [-4.98912446 -0.12931474]\t 28.05462905574235\t 10.679755252484755\t    \t    \n",
            "init\t [4.52410012 3.59214172]\t 71.62694632141611\t 10.679755252484755\t    \t    \n",
            "1  \t [ 3.03550212 -4.46785095]\t 49.22040431745476\t 10.679755252484755\t 10.67975494666741\t 10.679754433640142\n",
            "2  \t [ 4.25360926 -0.55294285]\t 48.0774987666756\t 10.679755252484755\t 10.667816115686156\t 10.667815499765732\n",
            "3  \t [1.24702516 5.12      ]\t 40.292881856182845\t 10.679755252484755\t 10.537519173805586\t 10.537773779335167\n",
            "4  \t [-0.14982725 -3.281103  ]\t 26.843298318720986\t 10.679755252484755\t 10.52699427880254\t 10.52699350979042\n",
            "5  \t [-3.6313084   3.02560873]\t 39.25519344676327\t 10.679755252484755\t 10.572042718817748\t 10.572042035910965\n",
            "6  \t [-2.84140872 -1.78911886]\t 23.40852235390129\t 10.679755252484755\t 9.88487427438095\t 9.884870339376628\n",
            "7  \t [ 1.44886905 -0.97131575]\t 22.693014772502647\t 10.679755252484755\t 9.701630853873292\t 9.739652695603446\n",
            "8  \t [-1.42594454  4.96073383]\t 45.88185417083119\t 10.679755252484755\t 9.558843870138004\t 9.556052094707246\n",
            "9  \t [-5.12       -2.99585908]\t 37.90326989039408\t 10.679755252484755\t 9.367599097256099\t 9.201912837510076\n",
            "10 \t [2.20330635 1.72636343]\t 26.422625257782258\t 10.679755252484755\t 9.241309791901637\t 9.246949572338083\n",
            "11 \t [-2.56052552  0.6641364 ]\t 41.419971254031566\t 10.679755252484755\t 7.845272053614891\t 7.844923616201221\n",
            "12 \t [-4.69318951  4.53457892]\t 75.84752782491911\t 10.679755252484755\t 7.101028271092273\t 7.106888293570682\n",
            "13 \t [-0.66210384 -1.15536966]\t 21.41784511837718\t 10.679755252484755\t 5.139917160139678\t 5.119877769616993\n",
            "14 \t [ 0.03622543 -5.12      ]\t 29.183943611692925\t 10.679755252484755\t 8.036492539016173\t 5.352455782465456\n",
            "15 \t [5.12       1.34047705]\t 46.10514389584846\t 10.679755252484755\t 5.41234564467728\t 4.7462845932488325\n",
            "16 \t [ 3.94417466 -2.51560884]\t 42.44563327320033\t 10.679755252484755\t 4.965995202396097\t 4.939456545213252\n",
            "17 \t [0.73875144 0.31404037]\t 25.26662496239247\t 10.679755252484755\t 3.0572053499850065\t 2.8206422867773124\n",
            "18 \t [-5.12 -5.12]\t 57.849427451571785\t 10.679755252484755\t 4.57322652394937\t 4.516232348676519\n",
            "19 \t [ 1.57003711 -2.6401009 ]\t 44.85178025868372\t 10.679755252484755\t 3.21274053459283\t 2.9979309300117114\n",
            "20 \t [-5.02099311  1.57425239]\t 46.7068016452303\t 10.679755252484755\t 4.400983083837207\t 4.802749424523692\n"
          ]
        }
      ],
      "source": [
        "### Bayesian optimisation runs (x20): 'GP dEI' Acquisition Function run number = 11 \n",
        "\n",
        "np.random.seed(run_num_11)\n",
        "surrogate_exact_11 = dGaussianProcess(cov_func, optimize=hyperOpt)\n",
        "\n",
        "exact_11 = GPGO_exact(surrogate_exact_11, Acquisition_grad(util), f_syn_polarity, param, n_jobs = -1) # Define BayesOpt\n",
        "exact_11.run(max_iter = max_iter, init_evals = n_init) # run\n"
      ]
    },
    {
      "cell_type": "code",
      "execution_count": 44,
      "metadata": {
        "colab": {
          "base_uri": "https://localhost:8080/"
        },
        "id": "Sv5SygMbJLlD",
        "outputId": "2773c86d-f815-485e-c14e-c176df05e8cd"
      },
      "outputs": [
        {
          "output_type": "stream",
          "name": "stdout",
          "text": [
            "Evaluation \t Proposed point \t  Current eval. \t  Best eval. \t         GP dEI: maximum y \t GP dEI: exploit\n",
            "init\t [-3.54137249  2.45810889]\t 57.903242869085595\t 40.51116653209555\t    \t    \n",
            "init\t [-2.42365424  0.34549139]\t 40.51116653209555\t 40.51116653209555\t    \t    \n",
            "init\t [-4.97075238  4.28796936]\t 55.62655915398208\t 40.51116653209555\t    \t    \n",
            "init\t [ 4.10332011 -4.77776458]\t 49.962803461970296\t 40.51116653209555\t    \t    \n",
            "init\t [ 4.6791612  -3.71497655]\t 62.183891474990624\t 40.51116653209555\t    \t    \n",
            "1  \t [5.12 5.12]\t 57.849427451571785\t 40.51116653209555\t 40.51116652209555\t 40.51116652209555\n",
            "2  \t [-5.12 -5.12]\t 57.849427451571785\t 40.51116653209555\t 40.511166354596\t 40.511166354596\n",
            "\u001b[1m\u001b[92m3\u001b[0m\t \u001b[1m\u001b[92m[2.39120481 0.97307722]\u001b[0m\t \u001b[1m\u001b[92m24.5606403651218\u001b[0m\t \u001b[1m\u001b[92m24.5606403651218\u001b[0m\t \u001b[1m\u001b[92m40.51085659049695\u001b[0m\t \u001b[1m\u001b[92m40.51085659049695\u001b[0m\n",
            "4  \t [-0.46882411 -4.42580423]\t 58.54919150500953\t 24.5606403651218\t 24.55961089021675\t 24.55961089021675\n",
            "5  \t [0.89124597 4.54092672]\t 43.33072399829906\t 24.5606403651218\t 24.5503937109417\t 24.550242862923643\n",
            "6  \t [-5.12       -1.55605117]\t 50.73223892290047\t 24.5606403651218\t 24.42343370082603\t 24.216769321448368\n",
            "7  \t [5.12       0.41252994]\t 47.62227907653468\t 24.5606403651218\t 24.301949346507037\t 24.301949346507037\n",
            "8  \t [ 0.70322767 -1.40847166]\t 33.76643081847721\t 24.5606403651218\t 24.20298193822541\t 24.20298193822541\n",
            "9  \t [-0.47128385  2.26775686]\t 36.31588134803827\t 24.5606403651218\t 23.121744889298558\t 23.121745322922237\n",
            "10 \t [-1.82181678  5.12      ]\t 37.882929567150335\t 24.5606403651218\t 23.669699593543296\t 23.719819913924233\n",
            "11 \t [-2.58478391 -2.5553685 ]\t 51.226279276971354\t 24.5606403651218\t 23.037044707313797\t 23.0367871612043\n",
            "12 \t [3.15345759 3.25556616]\t 35.191943560389156\t 24.5606403651218\t 22.37639953311171\t 22.37639953311199\n",
            "13 \t [ 3.20548171 -1.60794185]\t 37.886672676414435\t 24.5606403651218\t 22.00351110852661\t 22.00351110852661\n",
            "\u001b[1m\u001b[92m14\u001b[0m\t \u001b[1m\u001b[92m[ 1.84660394 -3.9885046 ]\u001b[0m\t \u001b[1m\u001b[92m23.640288920312173\u001b[0m\t \u001b[1m\u001b[92m23.640288920312173\u001b[0m\t \u001b[1m\u001b[92m20.51060363337417\u001b[0m\t \u001b[1m\u001b[92m20.50950721371653\u001b[0m\n",
            "15 \t [-2.94072526 -5.12      ]\t 38.25813529204089\t 23.640288920312173\t 19.015495740380672\t 19.015497343795214\n",
            "16 \t [5.12       2.66482547]\t 51.125858479659684\t 23.640288920312173\t 18.298217414442686\t 18.062155710542346\n",
            "17 \t [-5.12        0.83177094]\t 34.70181197342633\t 23.640288920312173\t 19.581699833640503\t 16.7361469523652\n",
            "\u001b[1m\u001b[92m18\u001b[0m\t \u001b[1m\u001b[92m[0.16795967 0.38981213]\u001b[0m\t \u001b[1m\u001b[92m22.948288354366888\u001b[0m\t \u001b[1m\u001b[92m22.948288354366888\u001b[0m\t \u001b[1m\u001b[92m16.929838401828842\u001b[0m\t \u001b[1m\u001b[92m16.929838401828842\u001b[0m\n",
            "19 \t [2.82417895 5.12      ]\t 42.4068211431546\t 22.948288354366888\t 15.585014440775515\t 15.584939861923882\n",
            "20 \t [-0.34871375 -2.35996999]\t 37.87612510004953\t 22.948288354366888\t 11.469224741836308\t 11.469224712572242\n"
          ]
        }
      ],
      "source": [
        "### Bayesian optimisation runs (x20): 'GP dEI' Acquisition Function run number = 12\n",
        "\n",
        "np.random.seed(run_num_12)\n",
        "surrogate_exact_12 = dGaussianProcess(cov_func, optimize=hyperOpt)\n",
        "\n",
        "exact_12 = GPGO_exact(surrogate_exact_12, Acquisition_grad(util), f_syn_polarity, param, n_jobs = -1) # Define BayesOpt\n",
        "exact_12.run(max_iter = max_iter, init_evals = n_init) # run\n"
      ]
    },
    {
      "cell_type": "code",
      "execution_count": 45,
      "metadata": {
        "colab": {
          "base_uri": "https://localhost:8080/"
        },
        "id": "NSskozWHJLlE",
        "outputId": "d3d2e706-0d90-4912-af23-bec19d20a08d"
      },
      "outputs": [
        {
          "output_type": "stream",
          "name": "stdout",
          "text": [
            "Evaluation \t Proposed point \t  Current eval. \t  Best eval. \t         GP dEI: maximum y \t GP dEI: exploit\n",
            "init\t [ 2.84367268 -2.68757791]\t 33.58019830007169\t 17.435826639425656\t    \t    \n",
            "init\t [3.32061217 4.76927179]\t 56.857057997503354\t 17.435826639425656\t    \t    \n",
            "init\t [ 4.83943541 -0.47667971]\t 48.211919361679726\t 17.435826639425656\t    \t    \n",
            "init\t [1.11659482 2.82139151]\t 17.435826639425656\t 17.435826639425656\t    \t    \n",
            "init\t [1.45012065 2.27346667]\t 38.25352329493884\t 17.435826639425656\t    \t    \n",
            "1  \t [-5.12 -5.12]\t 57.849427451571785\t 17.435826639425656\t 17.43582662942564\t 17.43582662942564\n",
            "2  \t [-3.81749683  0.42652771]\t 39.59347826031612\t 17.435826639425656\t 17.435820572853327\t 17.435820572853327\n",
            "3  \t [-2.89939236  5.12      ]\t 39.26351982732489\t 17.435826639425656\t 17.43556617907401\t 17.43556617907401\n",
            "4  \t [-0.69420447 -5.12      ]\t 42.84099984901968\t 17.435826639425656\t 17.43255839935984\t 17.43255839935984\n",
            "5  \t [-2.78914898 -2.47302964]\t 41.316915597905414\t 17.435826639425656\t 17.13212634024342\t 17.132126340263092\n",
            "\u001b[1m\u001b[92m6\u001b[0m\t \u001b[1m\u001b[92m[ 0.03880372 -0.71742593]\u001b[0m\t \u001b[1m\u001b[92m12.844385152016885\u001b[0m\t \u001b[1m\u001b[92m12.844385152016885\u001b[0m\t \u001b[1m\u001b[92m17.22163532519574\u001b[0m\t \u001b[1m\u001b[92m17.2216353252276\u001b[0m\n",
            "7  \t [0.09078976 5.12      ]\t 30.51636983993898\t 12.844385152016885\t 12.306498608729147\t 12.30649855556274\n",
            "8  \t [5.12       2.47329596]\t 54.90147507527987\t 12.844385152016885\t 12.1228317899039\t 12.123041531628262\n",
            "9  \t [-1.21732831  1.56627536]\t 31.04209865846844\t 12.844385152016885\t 11.82791543079742\t 12.065895300938248\n",
            "10 \t [-5.10580865 -2.0041286 ]\t 32.218870655181334\t 12.844385152016885\t 10.919573638468908\t 10.9193743834148\n",
            "11 \t [ 5.03138232 -3.60708349]\t 56.34027180209547\t 12.844385152016885\t 11.67406529693797\t 11.674065577848985\n",
            "12 \t [ 0.09034221 -2.56877804]\t 27.25573791220445\t 12.844385152016885\t 10.474045471524565\t 10.474044688845948\n",
            "13 \t [-4.81172351  2.85489858]\t 41.39738072804022\t 12.844385152016885\t 11.97217496417617\t 11.993797633685524\n",
            "\u001b[1m\u001b[92m14\u001b[0m\t \u001b[1m\u001b[92m[ 1.95235326 -0.09348735]\u001b[0m\t \u001b[1m\u001b[92m5.941354841974341\u001b[0m\t \u001b[1m\u001b[92m5.941354841974341\u001b[0m\t \u001b[1m\u001b[92m10.351006048972776\u001b[0m\t \u001b[1m\u001b[92m10.351004918156345\u001b[0m\n",
            "15 \t [ 2.01112218 -0.11927577]\t 6.762486409977261\t 5.941354841974341\t 1.9187027113686086\t 1.4991639890955912\n",
            "16 \t [-2.8215701 -5.12     ]\t 42.53912406771682\t 5.941354841974341\t 1.438464316341579\t 0.2876969713743172\n",
            "17 \t [ 2.03329422 -5.05867865]\t 30.614521437016535\t 5.941354841974341\t 4.588539085148537\t 4.540695829852518\n",
            "18 \t [ 2.01811016 -0.14504301]\t 8.031541581982859\t 5.941354841974341\t 1.220511440438462\t 0.4104455394551965\n",
            "19 \t [-1.56507992  3.4636285 ]\t 53.36175559672206\t 5.941354841974341\t 1.0127485430912282\t 0.23314960832288872\n",
            "20 \t [-1.29283482 -0.66043089]\t 30.101996451610056\t 5.941354841974341\t 0.9923457662612878\t -1.6588945083918376e-31\n"
          ]
        }
      ],
      "source": [
        "### Bayesian optimisation runs (x20): 'GP dEI' Acquisition Function run number = 13 \n",
        "\n",
        "np.random.seed(run_num_13)\n",
        "surrogate_exact_13 = dGaussianProcess(cov_func, optimize=hyperOpt)\n",
        "\n",
        "exact_13 = GPGO_exact(surrogate_exact_13, Acquisition_grad(util), f_syn_polarity, param, n_jobs = -1) # Define BayesOpt\n",
        "exact_13.run(max_iter = max_iter, init_evals = n_init) # run\n"
      ]
    },
    {
      "cell_type": "code",
      "execution_count": 46,
      "metadata": {
        "colab": {
          "base_uri": "https://localhost:8080/"
        },
        "id": "aM5FQ3ibJLlE",
        "outputId": "599a5d59-fdba-4c74-e795-53e10a3c60ec"
      },
      "outputs": [
        {
          "output_type": "stream",
          "name": "stdout",
          "text": [
            "Evaluation \t Proposed point \t  Current eval. \t  Best eval. \t         GP dEI: maximum y \t GP dEI: exploit\n",
            "init\t [0.14277984 2.79721013]\t 18.683085263052178\t 10.423838604848608\t    \t    \n",
            "init\t [ 3.7931795  -5.03759925]\t 47.36348784446708\t 10.423838604848608\t    \t    \n",
            "init\t [-1.94830412  4.68586229]\t 40.19779334078636\t 10.423838604848608\t    \t    \n",
            "init\t [ 0.13431513 -1.86076749]\t 10.423838604848608\t 10.423838604848608\t    \t    \n",
            "init\t [ 0.40140736 -2.85434939]\t 30.353548735049138\t 10.423838604848608\t    \t    \n",
            "1  \t [-5.12 -5.12]\t 57.849427451571785\t 10.423838604848608\t 10.423838349238634\t 10.423837341540427\n",
            "2  \t [5.12 5.12]\t 57.849427451571785\t 10.423838604848608\t 10.423836054052794\t 10.423835046348561\n",
            "3  \t [-5.12       0.3554545]\t 45.20267174597589\t 10.423838604848608\t 10.423818065806698\t 10.423816810164372\n",
            "4  \t [ 5.12       -0.06050559]\t 29.64235096159109\t 10.423838604848608\t 10.423748898324018\t 10.423747901872453\n",
            "5  \t [-1.59760721 -0.03747418]\t 21.007297417913293\t 10.423838604848608\t 10.272278532852788\t 10.272273151295172\n",
            "6  \t [1.79491608 0.4967805 ]\t 30.681621476903537\t 10.423838604848608\t 10.149596289393548\t 10.149594253481606\n",
            "7  \t [1.87787595 5.12      ]\t 35.2534502651111\t 10.423838604848608\t 10.126031032239093\t 10.12590609649776\n",
            "8  \t [-1.84751481 -5.07969837]\t 34.69365150738844\t 10.423838604848608\t 10.186162059039756\t 10.186160575205767\n",
            "9  \t [-5.06303497  3.61466724]\t 56.98918336534741\t 10.423838604848608\t 10.224281600702716\t 10.22428169102195\n",
            "10 \t [-3.03052822 -2.48250516]\t 35.46997890891047\t 10.423838604848608\t 9.755645639986806\t 9.755640214456244\n",
            "11 \t [ 3.51567076 -2.24145855]\t 46.79922511829074\t 10.423838604848608\t 9.40833259500993\t 9.4083821186468\n",
            "12 \t [4.16303795 2.34249801]\t 43.11216909525142\t 10.423838604848608\t 9.329437438443811\t 9.273619478696597\n",
            "13 \t [ 0.96698163 -5.11378773]\t 29.749042993026592\t 10.423838604848608\t 8.664142939433956\t 8.664081965657468\n",
            "14 \t [-2.38931098  1.93052581]\t 28.050913877098253\t 10.423838604848608\t 8.338402807709482\t 8.148129733524248\n",
            "15 \t [-5.12       -2.27919076]\t 45.94326795972898\t 10.423838604848608\t 7.289782760504031\t 7.274959573341138\n",
            "16 \t [-0.03425382 -0.58284916]\t 19.24702356869264\t 10.423838604848608\t 5.085538747405402\t 4.775247124957551\n",
            "17 \t [1.74001513 3.0141411 ]\t 22.77910209948601\t 10.423838604848608\t 4.6525343921246884\t 4.007240640346023\n",
            "18 \t [ 5.12       -2.57733492]\t 54.40987413939273\t 10.423838604848608\t 3.417227837253149\t 2.432237478332322\n",
            "19 \t [-0.27612864  1.40547877]\t 31.973640394746\t 10.423838604848608\t 2.9197096245238257\t 2.6443424180771133\n",
            "20 \t [0.11699165 5.12      ]\t 31.520631010352062\t 10.423838604848608\t 4.060919148148465\t 2.47315117456741\n"
          ]
        }
      ],
      "source": [
        "### Bayesian optimisation runs (x20): 'GP dEI' Acquisition Function run number = 14 \n",
        "\n",
        "np.random.seed(run_num_14)\n",
        "surrogate_exact_14 = dGaussianProcess(cov_func, optimize=hyperOpt)\n",
        "\n",
        "exact_14 = GPGO_exact(surrogate_exact_14, Acquisition_grad(util), f_syn_polarity, param, n_jobs = -1) # Define BayesOpt\n",
        "exact_14.run(max_iter = max_iter, init_evals = n_init) # run\n"
      ]
    },
    {
      "cell_type": "code",
      "execution_count": 47,
      "metadata": {
        "colab": {
          "base_uri": "https://localhost:8080/"
        },
        "id": "XmPTh2j_JLlF",
        "outputId": "d78a7f82-e57b-47ae-8b82-c05ce7b54b4f"
      },
      "outputs": [
        {
          "output_type": "stream",
          "name": "stdout",
          "text": [
            "Evaluation \t Proposed point \t  Current eval. \t  Best eval. \t         GP dEI: maximum y \t GP dEI: exploit\n",
            "init\t [ 3.57189322 -3.28810573]\t 54.938487770767075\t 7.990765314336182\t    \t    \n",
            "init\t [-4.56332069 -1.41784631]\t 60.750198753157726\t 7.990765314336182\t    \t    \n",
            "init\t [-2.29989449  0.3072023 ]\t 31.984997246800887\t 7.990765314336182\t    \t    \n",
            "init\t [-1.9873903  -2.00218256]\t 7.990765314336182\t 7.990765314336182\t    \t    \n",
            "init\t [-3.97576933 -2.5610341 ]\t 41.754957769694336\t 7.990765314336182\t    \t    \n",
            "1  \t [5.12 5.12]\t 57.849427451571785\t 7.990765314336182\t 7.990779890199916\t 7.990507243165966\n",
            "2  \t [-0.35157246  5.12      ]\t 45.005812766692976\t 7.990765314336182\t 7.990748857348481\t 7.99047478793911\n",
            "3  \t [2.59308841 1.16950306]\t 31.584688947189136\t 7.990765314336182\t 7.989281592406023\t 7.989008128013564\n",
            "4  \t [-5.04628403  4.05419228]\t 42.89546382913226\t 7.990765314336182\t 7.990241474878395\t 7.9899678091435575\n",
            "5  \t [-1.61688397 -5.12      ]\t 48.96133288911423\t 7.990765314336182\t 7.939861236753102\t 7.9395595289170515\n",
            "6  \t [ 0.44121736 -1.25803038]\t 31.607312983087798\t 7.990765314336182\t 7.689815766380155\t 7.689325395054295\n",
            "7  \t [-5.12 -5.12]\t 57.849427451571785\t 7.990765314336182\t 7.622145611010176\t 7.621586214999631\n",
            "8  \t [ 1.2456693 -5.12     ]\t 40.20433313144186\t 7.990765314336182\t 7.235518880001323\t 7.248404765073478\n",
            "9  \t [5.12       2.17724979]\t 39.251626151569496\t 7.990765314336182\t 7.2206711632533995\t 7.213477340367182\n",
            "10 \t [ 5.12       -0.68442226]\t 43.39791518470368\t 7.990765314336182\t 7.277545527964248\t 7.166621970543488\n",
            "11 \t [-0.38004684  2.30015163]\t 35.826063182224324\t 7.990765314336182\t 7.111290141041836\t 7.112898449169065\n",
            "12 \t [2.33574772 5.12      ]\t 49.51122710285044\t 7.990765314336182\t 6.770571148763217\t 3.4931985759866766\n",
            "13 \t [-5.12        1.30392631]\t 43.948766474177724\t 7.990765314336182\t 6.753356512290625\t 6.69868069826631\n",
            "14 \t [-2.73026125  4.84418965]\t 46.57889543636715\t 7.990765314336182\t 5.632183986689926\t 5.617055086141198\n",
            "15 \t [-0.07680533 -3.24805925]\t 21.575854048238497\t 7.990765314336182\t 3.2569959478399992\t 2.989247388810395\n",
            "16 \t [-3.11619201  2.63209789]\t 35.93601127557172\t 7.990765314336182\t 2.7870050348410893\t 2.53710428863466\n",
            "17 \t [ 2.52174401 -0.97887479]\t 27.312168210194933\t 7.990765314336182\t 3.033116799379814\t 2.7637236564134793\n",
            "18 \t [2.29784905 2.9360215 ]\t 27.658843488657478\t 7.990765314336182\t 2.1750525980870115\t 1.7993852197821356\n",
            "19 \t [-1.91582211 -1.51531788]\t 27.286683075972906\t 7.990765314336182\t 1.260726883153425\t 0.6358044687176679\n",
            "20 \t [0.40275477 0.56899058]\t 37.75174557442823\t 7.990765314336182\t 1.076732005000067\t 0.3122508906371186\n"
          ]
        }
      ],
      "source": [
        "### Bayesian optimisation runs (x20): 'GP dEI' Acquisition Function run number = 15 \n",
        "\n",
        "np.random.seed(run_num_15)\n",
        "surrogate_exact_15 = dGaussianProcess(cov_func, optimize=hyperOpt)\n",
        "\n",
        "exact_15 = GPGO_exact(surrogate_exact_15, Acquisition_grad(util), f_syn_polarity, param, n_jobs = -1) # Define BayesOpt\n",
        "exact_15.run(max_iter = max_iter, init_evals = n_init) # run\n"
      ]
    },
    {
      "cell_type": "code",
      "execution_count": 48,
      "metadata": {
        "colab": {
          "base_uri": "https://localhost:8080/"
        },
        "id": "6aUP_b73JLlG",
        "outputId": "cb38bcb1-b858-4f82-b65f-a03d287e98f7"
      },
      "outputs": [
        {
          "output_type": "stream",
          "name": "stdout",
          "text": [
            "Evaluation \t Proposed point \t  Current eval. \t  Best eval. \t         GP dEI: maximum y \t GP dEI: exploit\n",
            "init\t [-2.83349935  0.23719262]\t 22.27210456874814\t 22.27210456874814\t    \t    \n",
            "init\t [ 0.51918292 -4.65303603]\t 57.57021076017139\t 22.27210456874814\t    \t    \n",
            "init\t [-1.42613673 -2.83565116]\t 33.89145899403749\t 22.27210456874814\t    \t    \n",
            "init\t [ 1.9325559  -3.44339021]\t 35.85029586225333\t 22.27210456874814\t    \t    \n",
            "init\t [-4.39987336  4.51595121]\t 77.78800881964571\t 22.27210456874814\t    \t    \n",
            "1  \t [5.12 5.12]\t 57.849427451571785\t 22.27210456874814\t 22.27210455874814\t 22.27210455874814\n",
            "2  \t [5.12     0.135655]\t 32.36092416035443\t 22.27210456874814\t 22.271828627969274\t 22.271828627969274\n",
            "3  \t [0.43755248 3.98750253]\t 35.362499449628345\t 22.27210456874814\t 22.271513294204595\t 22.271513294204595\n",
            "4  \t [-5.12 -5.12]\t 57.849427451571785\t 22.27210456874814\t 22.270777410718544\t 22.270777410718544\n",
            "5  \t [0.82489184 0.43273641]\t 25.45399405097639\t 22.27210456874814\t 22.216551594464626\t 22.216551594464626\n",
            "6  \t [ 5.12       -3.28421464]\t 51.84402802347754\t 22.27210456874814\t 22.12998306279858\t 22.12998306279858\n",
            "7  \t [3.32293585 2.36707067]\t 47.77904299747091\t 22.27210456874814\t 21.715278113338293\t 21.715278113338293\n",
            "8  \t [-5.12       -1.66515995]\t 46.77923253499253\t 22.27210456874814\t 22.05589442953871\t 22.05589442953871\n",
            "9  \t [-1.71195722  2.41151709]\t 39.60778461421753\t 22.27210456874814\t 21.031239416076243\t 21.031239722959416\n",
            "10 \t [ 2.65571287 -0.87624494]\t 26.278185956203046\t 22.27210456874814\t 20.205793305811024\t 20.45560392416247\n",
            "11 \t [-2.57560446 -5.11762436]\t 54.325526472969386\t 22.27210456874814\t 20.30061528307897\t 20.300735461939432\n",
            "12 \t [-4.89116878  1.40739184]\t 46.50688984115988\t 22.27210456874814\t 21.08494488671972\t 21.08494488671972\n",
            "13 \t [2.51477901 4.99994776]\t 51.2805083697396\t 22.27210456874814\t 19.576113183092158\t 19.57611318407408\n",
            "\u001b[1m\u001b[92m14\u001b[0m\t \u001b[1m\u001b[92m[-0.56751952 -0.91766733]\u001b[0m\t \u001b[1m\u001b[92m21.58620021652571\u001b[0m\t \u001b[1m\u001b[92m21.58620021652571\u001b[0m\t \u001b[1m\u001b[92m18.135850425562126\u001b[0m\t \u001b[1m\u001b[92m18.135850425562094\u001b[0m\n",
            "15 \t [-3.13401707 -2.2141628 ]\t 25.832523313208423\t 21.58620021652571\t 14.839128443483638\t 14.839126395018011\n",
            "\u001b[1m\u001b[92m16\u001b[0m\t \u001b[1m\u001b[92m[0.86257725 2.04238562]\u001b[0m\t \u001b[1m\u001b[92m8.76973987442613\u001b[0m\t \u001b[1m\u001b[92m8.76973987442613\u001b[0m\t \u001b[1m\u001b[92m14.309813797033906\u001b[0m\t \u001b[1m\u001b[92m14.309813797030715\u001b[0m\n",
            "17 \t [-0.95999727  4.43647875]\t 40.13219927431472\t 8.76973987442613\t 1.4863080192893252\t 1.031500949153736\n",
            "18 \t [5.04429792 2.68535401]\t 46.99197259634724\t 8.76973987442613\t 1.8280250188461955\t 1.2521181276025857\n",
            "\u001b[1m\u001b[92m19\u001b[0m\t \u001b[1m\u001b[92m[ 0.95732027 -1.91035677]\u001b[0m\t \u001b[1m\u001b[92m6.468067378794288\u001b[0m\t \u001b[1m\u001b[92m6.468067378794288\u001b[0m\t \u001b[1m\u001b[92m1.143031064770948\u001b[0m\t \u001b[1m\u001b[92m0.3936409639560009\u001b[0m\n",
            "20 \t [ 3.39634706 -4.62439904]\t 67.97109901429685\t 6.468067378794288\t 1.4154265635960002\t 0.7246091630544153\n"
          ]
        }
      ],
      "source": [
        "### Bayesian optimisation runs (x20): 'GP dEI' Acquisition Function run number = 16 \n",
        "\n",
        "np.random.seed(run_num_16)\n",
        "surrogate_exact_16 = dGaussianProcess(cov_func, optimize=hyperOpt)\n",
        "\n",
        "exact_16 = GPGO_exact(surrogate_exact_16, Acquisition_grad(util), f_syn_polarity, param, n_jobs = -1) # Define BayesOpt\n",
        "exact_16.run(max_iter = max_iter, init_evals = n_init) # run\n"
      ]
    },
    {
      "cell_type": "code",
      "execution_count": 49,
      "metadata": {
        "colab": {
          "base_uri": "https://localhost:8080/"
        },
        "id": "TV8_B_7cJLlH",
        "outputId": "49169875-ee02-4f0d-fc2e-c995c30e5919"
      },
      "outputs": [
        {
          "output_type": "stream",
          "name": "stdout",
          "text": [
            "Evaluation \t Proposed point \t  Current eval. \t  Best eval. \t         GP dEI: maximum y \t GP dEI: exploit\n",
            "init\t [-2.10263037  0.31320838]\t 20.395145364684023\t 20.395145364684023\t    \t    \n",
            "init\t [-3.15882714 -4.42470033]\t 53.03732051200137\t 20.395145364684023\t    \t    \n",
            "init\t [2.93873111 1.60085526]\t 29.989224812583537\t 20.395145364684023\t    \t    \n",
            "init\t [1.40821398 0.77417363]\t 29.451989415882437\t 20.395145364684023\t    \t    \n",
            "init\t [-4.71999574 -1.45598869]\t 55.89242173757483\t 20.395145364684023\t    \t    \n",
            "1  \t [ 4.96008736 -4.44720822]\t 64.14783177084814\t 20.395145364684023\t 20.395145305707423\t 20.395145305707423\n",
            "2  \t [-1.51638461  5.12      ]\t 51.17119182678712\t 20.395145364684023\t 20.39504778016532\t 20.39504778016532\n",
            "3  \t [5.12 5.12]\t 57.849427451571785\t 20.395145364684023\t 20.392578904491298\t 20.392578904491298\n",
            "4  \t [ 0.84045277 -5.12      ]\t 34.24880863486494\t 20.395145364684023\t 20.382873056610034\t 20.378840434437198\n",
            "5  \t [ 5.12       -0.71699151]\t 41.49793838029413\t 20.395145364684023\t 20.275127860986647\t 20.275127860986643\n",
            "6  \t [-4.62723796  2.47167833]\t 64.33355300363587\t 20.395145364684023\t 20.336103759853042\t 20.336103759853042\n",
            "7  \t [1.79768893 5.08864246]\t 37.6855446670606\t 20.395145364684023\t 20.156676607971143\t 20.15857198860093\n",
            "\u001b[1m\u001b[92m8\u001b[0m\t \u001b[1m\u001b[92m[ 0.03574683 -2.1119669 ]\u001b[0m\t \u001b[1m\u001b[92m7.087087482637973\u001b[0m\t \u001b[1m\u001b[92m7.087087482637973\u001b[0m\t \u001b[1m\u001b[92m20.115303989707876\u001b[0m\t \u001b[1m\u001b[92m20.11530398970786\u001b[0m\n",
            "9  \t [-0.28416496  2.3784656 ]\t 35.09139964234975\t 7.087087482637973\t 5.5982861033217866\t 5.6427029338259835\n",
            "10 \t [ 2.44600398 -2.36091836]\t 47.40545321518014\t 7.087087482637973\t 6.438550359309553\t 6.4276066987729195\n",
            "11 \t [-1.32205218 -2.30059461]\t 34.540343805350155\t 7.087087482637973\t 5.136522784025782\t 5.111091499523511\n",
            "12 \t [3.93980815 3.14996969]\t 30.271683467778434\t 7.087087482637973\t 2.362908686261898\t 1.9384745453657535\n",
            "13 \t [ 0.2051792  -0.83369043]\t 12.938622986468797\t 7.087087482637973\t 2.8436221046237327\t 3.949724779857844\n",
            "14 \t [5.12       2.19365077]\t 40.26979797473886\t 7.087087482637973\t 1.6656487275976708\t -8.420763385789451e-36\n",
            "15 \t [-5.12 -5.12]\t 57.849427451571785\t 7.087087482637973\t 4.052831856121648\t 3.949641840509373\n",
            "16 \t [-3.59631837  4.43651874]\t 70.05519238755448\t 7.087087482637973\t 2.18282886732298\t 1.6189138322181424\n",
            "17 \t [ 2.70580749 -5.09279351]\t 47.65115926610733\t 7.087087482637973\t 1.764986607791103\t 0.3859700281495989\n",
            "18 \t [-1.13738561 -5.12      ]\t 33.71841547352999\t 7.087087482637973\t 2.245855803563372\t -3.205763295686873e-36\n",
            "19 \t [-2.25090078  2.01396246]\t 19.217653372995052\t 7.087087482637973\t 0.8298617808473717\t -0.0\n",
            "20 \t [ 0.36609594 -2.76295723]\t 33.619344813692436\t 7.087087482637973\t 0.8707731877362567\t -1.8922638794287498e-31\n"
          ]
        }
      ],
      "source": [
        "### Bayesian optimisation runs (x20): 'GP dEI' Acquisition Function run number = 17 \n",
        "\n",
        "np.random.seed(run_num_17)\n",
        "surrogate_exact_17 = dGaussianProcess(cov_func, optimize=hyperOpt)\n",
        "\n",
        "exact_17 = GPGO_exact(surrogate_exact_17, Acquisition_grad(util), f_syn_polarity, param, n_jobs = -1) # Define BayesOpt\n",
        "exact_17.run(max_iter = max_iter, init_evals = n_init) # run\n"
      ]
    },
    {
      "cell_type": "code",
      "execution_count": 50,
      "metadata": {
        "colab": {
          "base_uri": "https://localhost:8080/"
        },
        "id": "57ABzGR1JLlI",
        "outputId": "1cfb07b7-6fca-43be-91f7-7b5d443b63e3"
      },
      "outputs": [
        {
          "output_type": "stream",
          "name": "stdout",
          "text": [
            "Evaluation \t Proposed point \t  Current eval. \t  Best eval. \t         GP dEI: maximum y \t GP dEI: exploit\n",
            "init\t [1.53983224 0.05584255]\t 22.67190580753611\t 22.67190580753611\t    \t    \n",
            "init\t [ 3.87687906 -3.25795609]\t 38.990099416711985\t 22.67190580753611\t    \t    \n",
            "init\t [3.60686662 2.56139557]\t 56.66448698782129\t 22.67190580753611\t    \t    \n",
            "init\t [1.70088108 4.99604939]\t 40.894059318256296\t 22.67190580753611\t    \t    \n",
            "init\t [-2.48864335 -4.83014733]\t 54.6725749848372\t 22.67190580753611\t    \t    \n",
            "1  \t [-5.00718904  2.9174042 ]\t 34.91005808676357\t 22.67190580753611\t 22.671905797046726\t 22.671905797046726\n",
            "2  \t [-2.5172874  -0.57162906]\t 45.60877814255882\t 22.67190580753611\t 22.66450117022293\t 22.66450117022293\n",
            "\u001b[1m\u001b[92m3\u001b[0m\t \u001b[1m\u001b[92m[-1.16270398  2.84418166]\u001b[0m\t \u001b[1m\u001b[92m18.64896345126307\u001b[0m\t \u001b[1m\u001b[92m18.64896345126307\u001b[0m\t \u001b[1m\u001b[92m22.594935781672323\u001b[0m\t \u001b[1m\u001b[92m22.594936284603886\u001b[0m\n",
            "4  \t [ 0.94316799 -5.09984298]\t 29.43280579581087\t 18.64896345126307\t 18.52757528971427\t 18.527575032457204\n",
            "5  \t [-5.12       -3.24013922]\t 48.80404132120228\t 18.64896345126307\t 18.38501185430478\t 18.385011869972256\n",
            "6  \t [5.12 5.12]\t 57.849427451571785\t 18.64896345126307\t 18.250350680487564\t 18.250350680487564\n",
            "7  \t [ 5.0674446 -0.0834171]\t 27.912867477339134\t 18.64896345126307\t 18.272466884175007\t 18.272202567325035\n",
            "\u001b[1m\u001b[92m8\u001b[0m\t \u001b[1m\u001b[92m[-0.25335679 -2.14069554]\u001b[0m\t \u001b[1m\u001b[92m18.517158783097425\u001b[0m\t \u001b[1m\u001b[92m18.517158783097425\u001b[0m\t \u001b[1m\u001b[92m17.782037879271456\u001b[0m\t \u001b[1m\u001b[92m17.782037879271456\u001b[0m\n",
            "9  \t [-2.05931647  4.63332738]\t 43.086601890136585\t 18.517158783097425\t 17.195414901662875\t 17.195414901662875\n",
            "\u001b[1m\u001b[92m10\u001b[0m\t \u001b[1m\u001b[92m[-3.06190771  1.84446368]\u001b[0m\t \u001b[1m\u001b[92m17.931421372299255\u001b[0m\t \u001b[1m\u001b[92m17.931421372299255\u001b[0m\t \u001b[1m\u001b[92m14.937640123728254\u001b[0m\t \u001b[1m\u001b[92m14.937651333003013\u001b[0m\n",
            "\u001b[1m\u001b[92m11\u001b[0m\t \u001b[1m\u001b[92m[1.11479303 1.78314352]\u001b[0m\t \u001b[1m\u001b[92m14.845210391160803\u001b[0m\t \u001b[1m\u001b[92m14.845210391160803\u001b[0m\t \u001b[1m\u001b[92m14.284847535884872\u001b[0m\t \u001b[1m\u001b[92m14.28483894255185\u001b[0m\n",
            "12 \t [ 1.71784862 -2.11999715]\t 22.162001901858353\t 14.845210391160803\t 11.475682435853674\t 11.475682386388945\n",
            "13 \t [-4.80195874 -0.59143393]\t 48.596282216849595\t 14.845210391160803\t 12.38002267208129\t 12.660136536529803\n",
            "14 \t [-0.53176123  0.77156943]\t 29.32852248948683\t 14.845210391160803\t 10.818323090939172\t 10.727977583317125\n",
            "15 \t [-4.93311462  4.65004427]\t 62.70427715056073\t 14.845210391160803\t 10.681179392871035\t 10.681178968396551\n",
            "16 \t [-5.12 -5.12]\t 57.849427451571785\t 14.845210391160803\t 9.935715162816038\t 9.935711996028294\n",
            "17 \t [ 2.72046965 -5.12      ]\t 48.17048769912702\t 14.845210391160803\t 10.034824912203804\t 10.03499289029157\n",
            "18 \t [ 3.33245696 -0.83504526]\t 31.661946079120415\t 14.845210391160803\t 9.171454906149892\t 8.994245186457977\n",
            "19 \t [0.57391536 3.10987091]\t 31.231173310313025\t 14.845210391160803\t 8.886000648248954\t 8.890381527682147\n",
            "20 \t [-2.26254551 -2.63464349]\t 39.477804480034344\t 14.845210391160803\t 8.628225786244572\t 8.559365034134423\n"
          ]
        }
      ],
      "source": [
        "### Bayesian optimisation runs (x20): 'GP dEI' Acquisition Function run number = 18 \n",
        "\n",
        "np.random.seed(run_num_18)\n",
        "surrogate_exact_18 = dGaussianProcess(cov_func, optimize=hyperOpt)\n",
        "\n",
        "exact_18 = GPGO_exact(surrogate_exact_18, Acquisition_grad(util), f_syn_polarity, param, n_jobs = -1) # Define BayesOpt\n",
        "exact_18.run(max_iter = max_iter, init_evals = n_init) # run\n"
      ]
    },
    {
      "cell_type": "code",
      "execution_count": 51,
      "metadata": {
        "colab": {
          "base_uri": "https://localhost:8080/"
        },
        "id": "x2CyIorrJLlJ",
        "outputId": "21a59aa0-bd13-4505-f72c-f59ff39a620e"
      },
      "outputs": [
        {
          "output_type": "stream",
          "name": "stdout",
          "text": [
            "Evaluation \t Proposed point \t  Current eval. \t  Best eval. \t         GP dEI: maximum y \t GP dEI: exploit\n",
            "init\t [-4.12125592  2.6751971 ]\t 41.43485596167127\t 25.867003842388073\t    \t    \n",
            "init\t [-2.59135515 -3.70553152]\t 51.60126035043229\t 25.867003842388073\t    \t    \n",
            "init\t [-1.72598719 -4.27008445]\t 43.97430127029199\t 25.867003842388073\t    \t    \n",
            "init\t [1.76104531 3.13952049]\t 25.867003842388073\t 25.867003842388073\t    \t    \n",
            "init\t [4.9432772  1.38916592]\t 44.66580306903559\t 25.867003842388073\t    \t    \n",
            "1  \t [ 4.82659077 -3.73107955]\t 53.77420826130772\t 25.867003842388073\t 25.866958859664855\t 25.866958859664855\n",
            "\u001b[1m\u001b[92m2\u001b[0m\t \u001b[1m\u001b[92m[-0.85223298  0.10979632]\u001b[0m\t \u001b[1m\u001b[92m7.034295421249853\u001b[0m\t \u001b[1m\u001b[92m7.034295421249853\u001b[0m\t \u001b[1m\u001b[92m25.855043552960773\u001b[0m\t \u001b[1m\u001b[92m25.855043552960773\u001b[0m\n",
            "3  \t [5.12 5.12]\t 57.849427451571785\t 7.034295421249853\t 7.007093301406828\t 7.0053691333582355\n",
            "4  \t [-5.11255451 -1.1055489 ]\t 31.87825221324293\t 7.034295421249853\t 6.993867956507509\t 6.991799045368637\n",
            "5  \t [ 1.56245442 -1.92118448]\t 26.573427226374246\t 7.034295421249853\t 6.979243991490397\t 6.9774296248163825\n",
            "6  \t [-0.99816082  5.12      ]\t 29.921706441277976\t 7.034295421249853\t 6.98608577612897\t 6.996406611929684\n",
            "7  \t [-5.12 -5.12]\t 57.849427451571785\t 7.034295421249853\t 6.676641645452063\t 6.673607934200347\n",
            "8  \t [ 1.0622837 -4.8155417]\t 31.071208079848283\t 7.034295421249853\t 6.550907641426468\t 6.568402560594946\n",
            "9  \t [1.68385177 0.62377718]\t 34.38722872910704\t 7.034295421249853\t 5.77645925756878\t 5.764097989373447\n",
            "10 \t [-2.40317684 -0.59527481]\t 42.59657583625126\t 7.034295421249853\t 5.731312105875655\t 5.718917747111966\n",
            "11 \t [ 4.37918599 -1.12402395]\t 40.580979665513624\t 7.034295421249853\t 5.1443337800806725\t 5.118024257629215\n",
            "12 \t [-1.23054569  2.36150354]\t 32.3183779765921\t 7.034295421249853\t 6.064823223724002\t 5.855386426284538\n",
            "13 \t [2.22723814 5.12      ]\t 42.46000413259053\t 7.034295421249853\t 4.940545421621912\t 2.7926802428159054\n",
            "14 \t [-0.25945523 -0.50723634]\t 30.908011605041025\t 7.034295421249853\t 2.532896977757508\t 1.3128496676333927\n",
            "15 \t [-3.22506538  5.02925336]\t 44.30259392993066\t 7.034295421249853\t 4.887277456079367\t 1.5517983413429814\n",
            "16 \t [3.75691314 3.0015309 ]\t 32.68981758670726\t 7.034295421249853\t 1.115456553795009\t 0.26223551456400274\n",
            "17 \t [ 2.74464821 -4.40396173]\t 55.49813355529702\t 7.034295421249853\t 1.3150549059603334\t -4.539624930741887e-16\n",
            "18 \t [-4.77840417 -2.96121721]\t 40.12215840940467\t 7.034295421249853\t 0.8754616609854692\t -0.0\n",
            "19 \t [-0.67819963 -2.29054675]\t 32.58659041821047\t 7.034295421249853\t 0.7254335211559371\t -1.5745281185692643e-36\n",
            "20 \t [0.20571735 3.70530046]\t 33.79674809972096\t 7.034295421249853\t 0.2806457823658922\t -1.6064422849401822e-32\n"
          ]
        }
      ],
      "source": [
        "### Bayesian optimisation runs (x20): 'GP dEI' Acquisition Function run number = 19 \n",
        "\n",
        "np.random.seed(run_num_19)\n",
        "surrogate_exact_19 = dGaussianProcess(cov_func, optimize=hyperOpt)\n",
        "\n",
        "exact_19 = GPGO_exact(surrogate_exact_19, Acquisition_grad(util), f_syn_polarity, param, n_jobs = -1) # Define BayesOpt\n",
        "exact_19.run(max_iter = max_iter, init_evals = n_init) # run\n"
      ]
    },
    {
      "cell_type": "code",
      "execution_count": 52,
      "metadata": {
        "colab": {
          "base_uri": "https://localhost:8080/"
        },
        "id": "4O6_IplWJLlJ",
        "outputId": "dfcfcee8-2777-4859-8e29-68f5cd8bb01e"
      },
      "outputs": [
        {
          "output_type": "stream",
          "name": "stdout",
          "text": [
            "Evaluation \t Proposed point \t  Current eval. \t  Best eval. \t         GP dEI: maximum y \t GP dEI: exploit\n",
            "init\t [0.9024594  4.07258857]\t 20.24255447774017\t 17.388691338534382\t    \t    \n",
            "init\t [4.00927467 3.23417577]\t 35.55852254546393\t 17.388691338534382\t    \t    \n",
            "init\t [-4.75249064  1.96359764]\t 36.54582989269194\t 17.388691338534382\t    \t    \n",
            "init\t [-1.24230715  0.18955208]\t 17.388691338534382\t 17.388691338534382\t    \t    \n",
            "init\t [ 1.61742301 -3.13497377]\t 33.22932870179905\t 17.388691338534382\t    \t    \n",
            "1  \t [-5.12 -5.12]\t 57.849427451571785\t 17.388691338534382\t 17.388691324429224\t 17.388691324429224\n",
            "2  \t [ 5.12       -0.90774061]\t 31.382342682975256\t 17.388691338534382\t 17.383872698790483\t 17.383872698790483\n",
            "3  \t [-2.32334252  4.6958363 ]\t 55.23356041730585\t 17.388691338534382\t 17.320008093204432\t 17.320008093204432\n",
            "4  \t [-1.42211353 -5.12      ]\t 49.77338827837845\t 17.388691338534382\t 17.33480809013927\t 17.33480809013934\n",
            "5  \t [-5.12       -1.50067346]\t 51.17664504423531\t 17.388691338534382\t 17.303898653450858\t 17.301663755293124\n",
            "6  \t [ 4.69062041 -4.43553031]\t 74.51155070056905\t 17.388691338534382\t 17.29694086700278\t 17.29694086700278\n",
            "7  \t [ 2.29239594 -0.05852186]\t 18.559374477490238\t 17.388691338534382\t 17.03722858881737\t 17.099996824673365\n",
            "8  \t [-2.42559783 -1.87740665]\t 31.158056009228396\t 17.388691338534382\t 16.163496760768655\t 16.497073212539753\n",
            "9  \t [5.12 5.12]\t 57.849427451571785\t 17.388691338534382\t 15.770016386901304\t 15.77001638690128\n",
            "\u001b[1m\u001b[92m10\u001b[0m\t \u001b[1m\u001b[92m[0.18139001 1.90444121]\u001b[0m\t \u001b[1m\u001b[92m11.23017165756345\u001b[0m\t \u001b[1m\u001b[92m11.23017165756345\u001b[0m\t \u001b[1m\u001b[92m15.793325046131288\u001b[0m\t \u001b[1m\u001b[92m15.797994425592423\u001b[0m\n",
            "11 \t [-2.15244084  2.00602785]\t 12.911227135195427\t 11.23017165756345\t 8.52515962900485\t 8.500838548143834\n",
            "12 \t [-4.45972891  4.76447717]\t 71.36263247821208\t 11.23017165756345\t 8.076561843175897\t 8.076337625216512\n",
            "\u001b[1m\u001b[92m13\u001b[0m\t \u001b[1m\u001b[92m[ 0.15341581 -1.06922862]\u001b[0m\t \u001b[1m\u001b[92m6.395106375361616\u001b[0m\t \u001b[1m\u001b[92m6.395106375361616\u001b[0m\t \u001b[1m\u001b[92m8.239136883495364\u001b[0m\t \u001b[1m\u001b[92m8.238984720350805\u001b[0m\n",
            "14 \t [2.72519987 5.11567279]\t 47.6756742008929\t 6.395106375361616\t 2.5810107227782177\t 1.603489840454112\n",
            "15 \t [ 1.43903964 -5.12      ]\t 50.270931474158076\t 6.395106375361616\t 3.6020607659011272\t 1.6970406777788563\n",
            "16 \t [1.7791486  2.07541448]\t 16.75326382883663\t 6.395106375361616\t 2.7431514062128834\t 2.4151225865678083\n",
            "17 \t [5.12       1.62936311]\t 48.45412530443218\t 6.395106375361616\t 3.371251269592969\t 3.5300495037628727\n",
            "18 \t [ 2.99277789 -1.58227928]\t 30.16379904190219\t 6.395106375361616\t 1.4431586740056515\t 0.808317955146708\n",
            "19 \t [-0.32178688 -2.62366949]\t 38.47623125395933\t 6.395106375361616\t 2.0398903087363367\t 1.1707132123536337\n",
            "20 \t [ 0.52995263 -0.31805349]\t 34.352251714745286\t 6.395106375361616\t 2.2359556637441123\t 1.0223840598233531\n"
          ]
        }
      ],
      "source": [
        "### Bayesian optimisation runs (x20): 'GP dEI' Acquisition Function run number = 20 \n",
        "\n",
        "np.random.seed(run_num_20)\n",
        "surrogate_exact_20 = dGaussianProcess(cov_func, optimize=hyperOpt)\n",
        "\n",
        "exact_20 = GPGO_exact(surrogate_exact_20, Acquisition_grad(util), f_syn_polarity, param, n_jobs = -1) # Define BayesOpt\n",
        "exact_20.run(max_iter = max_iter, init_evals = n_init) # run\n"
      ]
    },
    {
      "cell_type": "code",
      "execution_count": 53,
      "metadata": {
        "colab": {
          "base_uri": "https://localhost:8080/"
        },
        "id": "B9S2UvZ9JLlK",
        "outputId": "98006ff4-b2b3-4010-a39e-84d7a9eac98d"
      },
      "outputs": [
        {
          "output_type": "execute_result",
          "data": {
            "text/plain": [
              "(2.560333718691756, 2.9911419163163977)"
            ]
          },
          "metadata": {},
          "execution_count": 53
        }
      ],
      "source": [
        "### Simple regret minimisation: run number = 1\n",
        "\n",
        "approx_output_1 = np.append(np.max(approx_1.GP.y[0:n_init]),approx_1.GP.y[n_init:(n_init+max_iter)]) \n",
        "exact_output_1 = np.append(np.max(exact_1.GP.y[0:n_init]),exact_1.GP.y[n_init:(n_init+max_iter)]) \n",
        "\n",
        "regret_approx_1 = np.log(y_global_orig - approx_output_1)\n",
        "regret_exact_1 = np.log(y_global_orig - exact_output_1)\n",
        "\n",
        "simple_regret_approx_1 = min_array(regret_approx_1)\n",
        "simple_regret_exact_1 = min_array(regret_exact_1)\n",
        "\n",
        "min_simple_regret_approx_1 = min(simple_regret_approx_1)\n",
        "min_simple_regret_exact_1 = min(simple_regret_exact_1)\n",
        "\n",
        "min_simple_regret_approx_1, min_simple_regret_exact_1\n"
      ]
    },
    {
      "cell_type": "code",
      "execution_count": 54,
      "metadata": {
        "colab": {
          "base_uri": "https://localhost:8080/"
        },
        "id": "adGcU8l5JLlK",
        "outputId": "0d46b824-d38c-4c6d-ec69-cd66461ca6ba"
      },
      "outputs": [
        {
          "output_type": "execute_result",
          "data": {
            "text/plain": [
              "(2.7887444492055025, 2.9425708889884663)"
            ]
          },
          "metadata": {},
          "execution_count": 54
        }
      ],
      "source": [
        "### Simple regret minimisation: run number = 2\n",
        "\n",
        "approx_output_2 = np.append(np.max(approx_2.GP.y[0:n_init]),approx_2.GP.y[n_init:(n_init+max_iter)]) \n",
        "exact_output_2 = np.append(np.max(exact_2.GP.y[0:n_init]),exact_2.GP.y[n_init:(n_init+max_iter)]) \n",
        "\n",
        "regret_approx_2 = np.log(y_global_orig - approx_output_2)\n",
        "regret_exact_2 = np.log(y_global_orig - exact_output_2)\n",
        "\n",
        "simple_regret_approx_2 = min_array(regret_approx_2)\n",
        "simple_regret_exact_2 = min_array(regret_exact_2)\n",
        "\n",
        "min_simple_regret_approx_2 = min(simple_regret_approx_2)\n",
        "min_simple_regret_exact_2 = min(simple_regret_exact_2)\n",
        "\n",
        "min_simple_regret_approx_2, min_simple_regret_exact_2\n"
      ]
    },
    {
      "cell_type": "code",
      "execution_count": 55,
      "metadata": {
        "colab": {
          "base_uri": "https://localhost:8080/"
        },
        "id": "1F9LaViaJLlL",
        "outputId": "4cdcd819-707c-43ba-9aa6-d9d30664bfab"
      },
      "outputs": [
        {
          "output_type": "execute_result",
          "data": {
            "text/plain": [
              "(2.361576630127625, 2.361576630127625)"
            ]
          },
          "metadata": {},
          "execution_count": 55
        }
      ],
      "source": [
        "### Simple regret minimisation: run number = 3\n",
        "\n",
        "approx_output_3 = np.append(np.max(approx_3.GP.y[0:n_init]),approx_3.GP.y[n_init:(n_init+max_iter)]) \n",
        "exact_output_3 = np.append(np.max(exact_3.GP.y[0:n_init]),exact_3.GP.y[n_init:(n_init+max_iter)]) \n",
        "\n",
        "regret_approx_3 = np.log(y_global_orig - approx_output_3)\n",
        "regret_exact_3 = np.log(y_global_orig - exact_output_3)\n",
        "\n",
        "simple_regret_approx_3 = min_array(regret_approx_3)\n",
        "simple_regret_exact_3 = min_array(regret_exact_3)\n",
        "\n",
        "min_simple_regret_approx_3 = min(simple_regret_approx_3)\n",
        "min_simple_regret_exact_3 = min(simple_regret_exact_3)\n",
        "\n",
        "min_simple_regret_approx_3, min_simple_regret_exact_3\n"
      ]
    },
    {
      "cell_type": "code",
      "execution_count": 56,
      "metadata": {
        "colab": {
          "base_uri": "https://localhost:8080/"
        },
        "id": "vThMylZmJLlL",
        "outputId": "a82f5f4d-9c0d-4fcf-db47-76cd344ec56d"
      },
      "outputs": [
        {
          "output_type": "execute_result",
          "data": {
            "text/plain": [
              "(2.287878817882896, 2.6488079738442334)"
            ]
          },
          "metadata": {},
          "execution_count": 56
        }
      ],
      "source": [
        "### Simple regret minimisation: run number = 4\n",
        "\n",
        "approx_output_4 = np.append(np.max(approx_4.GP.y[0:n_init]),approx_4.GP.y[n_init:(n_init+max_iter)]) \n",
        "exact_output_4 = np.append(np.max(exact_4.GP.y[0:n_init]),exact_4.GP.y[n_init:(n_init+max_iter)]) \n",
        "\n",
        "regret_approx_4 = np.log(y_global_orig - approx_output_4)\n",
        "regret_exact_4 = np.log(y_global_orig - exact_output_4)\n",
        "\n",
        "simple_regret_approx_4 = min_array(regret_approx_4)\n",
        "simple_regret_exact_4 = min_array(regret_exact_4)\n",
        "\n",
        "min_simple_regret_approx_4 = min(simple_regret_approx_4)\n",
        "min_simple_regret_exact_4 = min(simple_regret_exact_4)\n",
        "\n",
        "min_simple_regret_approx_4, min_simple_regret_exact_4\n"
      ]
    },
    {
      "cell_type": "code",
      "execution_count": 57,
      "metadata": {
        "colab": {
          "base_uri": "https://localhost:8080/"
        },
        "id": "9Um6_WG7JLlM",
        "outputId": "48f2580d-7253-4494-9679-72af4500bccc"
      },
      "outputs": [
        {
          "output_type": "execute_result",
          "data": {
            "text/plain": [
              "(2.05551541920764, 1.8954626597772544)"
            ]
          },
          "metadata": {},
          "execution_count": 57
        }
      ],
      "source": [
        "### Simple regret minimisation: run number = 5\n",
        "\n",
        "approx_output_5 = np.append(np.max(approx_5.GP.y[0:n_init]),approx_5.GP.y[n_init:(n_init+max_iter)]) \n",
        "exact_output_5 = np.append(np.max(exact_5.GP.y[0:n_init]),exact_5.GP.y[n_init:(n_init+max_iter)]) \n",
        "\n",
        "regret_approx_5 = np.log(y_global_orig - approx_output_5)\n",
        "regret_exact_5 = np.log(y_global_orig - exact_output_5)\n",
        "\n",
        "simple_regret_approx_5 = min_array(regret_approx_5)\n",
        "simple_regret_exact_5 = min_array(regret_exact_5)\n",
        "\n",
        "min_simple_regret_approx_5 = min(simple_regret_approx_5)\n",
        "min_simple_regret_exact_5 = min(simple_regret_exact_5)\n",
        "\n",
        "min_simple_regret_approx_5, min_simple_regret_exact_5\n"
      ]
    },
    {
      "cell_type": "code",
      "execution_count": 58,
      "metadata": {
        "colab": {
          "base_uri": "https://localhost:8080/"
        },
        "id": "s7F8Y3b9JLlM",
        "outputId": "d0ea3dc7-b664-4367-ac72-d315301af9e0"
      },
      "outputs": [
        {
          "output_type": "execute_result",
          "data": {
            "text/plain": [
              "(2.305694781048611, 2.0031187980196936)"
            ]
          },
          "metadata": {},
          "execution_count": 58
        }
      ],
      "source": [
        "### Simple regret minimisation: run number = 6\n",
        "\n",
        "approx_output_6 = np.append(np.max(approx_6.GP.y[0:n_init]),approx_6.GP.y[n_init:(n_init+max_iter)]) \n",
        "exact_output_6 = np.append(np.max(exact_6.GP.y[0:n_init]),exact_6.GP.y[n_init:(n_init+max_iter)]) \n",
        "\n",
        "regret_approx_6 = np.log(y_global_orig - approx_output_6)\n",
        "regret_exact_6 = np.log(y_global_orig - exact_output_6)\n",
        "\n",
        "simple_regret_approx_6 = min_array(regret_approx_6)\n",
        "simple_regret_exact_6 = min_array(regret_exact_6)\n",
        "\n",
        "min_simple_regret_approx_6 = min(simple_regret_approx_6)\n",
        "min_simple_regret_exact_6 = min(simple_regret_exact_6)\n",
        "\n",
        "min_simple_regret_approx_6, min_simple_regret_exact_6\n"
      ]
    },
    {
      "cell_type": "code",
      "execution_count": 59,
      "metadata": {
        "colab": {
          "base_uri": "https://localhost:8080/"
        },
        "id": "FbMNex-gJLlN",
        "outputId": "93e99956-71f7-48cf-aa18-9a788a79c039"
      },
      "outputs": [
        {
          "output_type": "execute_result",
          "data": {
            "text/plain": [
              "(2.651841186807373, 2.9716494999912664)"
            ]
          },
          "metadata": {},
          "execution_count": 59
        }
      ],
      "source": [
        "### Simple regret minimisation: run number = 7\n",
        "\n",
        "approx_output_7 = np.append(np.max(approx_7.GP.y[0:n_init]),approx_7.GP.y[n_init:(n_init+max_iter)]) \n",
        "exact_output_7 = np.append(np.max(exact_7.GP.y[0:n_init]),exact_7.GP.y[n_init:(n_init+max_iter)]) \n",
        "\n",
        "regret_approx_7 = np.log(y_global_orig - approx_output_7)\n",
        "regret_exact_7 = np.log(y_global_orig - exact_output_7)\n",
        "\n",
        "simple_regret_approx_7 = min_array(regret_approx_7)\n",
        "simple_regret_exact_7 = min_array(regret_exact_7)\n",
        "\n",
        "min_simple_regret_approx_7 = min(simple_regret_approx_7)\n",
        "min_simple_regret_exact_7 = min(simple_regret_exact_7)\n",
        "\n",
        "min_simple_regret_approx_7, min_simple_regret_exact_7\n"
      ]
    },
    {
      "cell_type": "code",
      "execution_count": 60,
      "metadata": {
        "colab": {
          "base_uri": "https://localhost:8080/"
        },
        "id": "yTxbjos2JLlN",
        "outputId": "e24c8eaa-3cbc-49f7-b98f-9334922cb903"
      },
      "outputs": [
        {
          "output_type": "execute_result",
          "data": {
            "text/plain": [
              "(2.6298595175876263, 2.1925571922207507)"
            ]
          },
          "metadata": {},
          "execution_count": 60
        }
      ],
      "source": [
        "### Simple regret minimisation: run number = 8\n",
        "\n",
        "approx_output_8 = np.append(np.max(approx_8.GP.y[0:n_init]),approx_8.GP.y[n_init:(n_init+max_iter)]) \n",
        "exact_output_8 = np.append(np.max(exact_8.GP.y[0:n_init]),exact_8.GP.y[n_init:(n_init+max_iter)]) \n",
        "\n",
        "regret_approx_8 = np.log(y_global_orig - approx_output_8)\n",
        "regret_exact_8 = np.log(y_global_orig - exact_output_8)\n",
        "\n",
        "simple_regret_approx_8 = min_array(regret_approx_8)\n",
        "simple_regret_exact_8 = min_array(regret_exact_8)\n",
        "\n",
        "min_simple_regret_approx_8 = min(simple_regret_approx_8)\n",
        "min_simple_regret_exact_8 = min(simple_regret_exact_8)\n",
        "\n",
        "min_simple_regret_approx_8, min_simple_regret_exact_8\n"
      ]
    },
    {
      "cell_type": "code",
      "execution_count": 61,
      "metadata": {
        "colab": {
          "base_uri": "https://localhost:8080/"
        },
        "id": "iBuMpq59JLlO",
        "outputId": "ab424aa6-c138-4d44-a6e3-65a1f982cff8"
      },
      "outputs": [
        {
          "output_type": "execute_result",
          "data": {
            "text/plain": [
              "(2.82849388564378, 2.226896329775584)"
            ]
          },
          "metadata": {},
          "execution_count": 61
        }
      ],
      "source": [
        "### Simple regret minimisation: run number = 9\n",
        "\n",
        "approx_output_9 = np.append(np.max(approx_9.GP.y[0:n_init]),approx_9.GP.y[n_init:(n_init+max_iter)]) \n",
        "exact_output_9 = np.append(np.max(exact_9.GP.y[0:n_init]),exact_9.GP.y[n_init:(n_init+max_iter)]) \n",
        "\n",
        "regret_approx_9 = np.log(y_global_orig - approx_output_9)\n",
        "regret_exact_9 = np.log(y_global_orig - exact_output_9)\n",
        "\n",
        "simple_regret_approx_9 = min_array(regret_approx_9)\n",
        "simple_regret_exact_9 = min_array(regret_exact_9)\n",
        "\n",
        "min_simple_regret_approx_9 = min(simple_regret_approx_9)\n",
        "min_simple_regret_exact_9 = min(simple_regret_exact_9)\n",
        "\n",
        "min_simple_regret_approx_9, min_simple_regret_exact_9\n"
      ]
    },
    {
      "cell_type": "code",
      "execution_count": 62,
      "metadata": {
        "colab": {
          "base_uri": "https://localhost:8080/"
        },
        "id": "MT-MYaKEJLlO",
        "outputId": "90da579b-2e36-4f29-b440-73f218efe790"
      },
      "outputs": [
        {
          "output_type": "execute_result",
          "data": {
            "text/plain": [
              "(2.5241871392458695, 1.1954175839502463)"
            ]
          },
          "metadata": {},
          "execution_count": 62
        }
      ],
      "source": [
        "### Simple regret minimisation: run number = 10\n",
        "\n",
        "approx_output_10 = np.append(np.max(approx_10.GP.y[0:n_init]),approx_10.GP.y[n_init:(n_init+max_iter)]) \n",
        "exact_output_10 = np.append(np.max(exact_10.GP.y[0:n_init]),exact_10.GP.y[n_init:(n_init+max_iter)]) \n",
        "\n",
        "regret_approx_10 = np.log(y_global_orig - approx_output_10)\n",
        "regret_exact_10 = np.log(y_global_orig - exact_output_10)\n",
        "\n",
        "simple_regret_approx_10 = min_array(regret_approx_10)\n",
        "simple_regret_exact_10 = min_array(regret_exact_10)\n",
        "\n",
        "min_simple_regret_approx_10 = min(simple_regret_approx_10)\n",
        "min_simple_regret_exact_10 = min(simple_regret_exact_10)\n",
        "\n",
        "min_simple_regret_approx_10, min_simple_regret_exact_10\n"
      ]
    },
    {
      "cell_type": "code",
      "execution_count": 63,
      "metadata": {
        "colab": {
          "base_uri": "https://localhost:8080/"
        },
        "id": "JgXNMHBOJLlP",
        "outputId": "78d1867b-3620-4e25-b717-7fe41d322ec4"
      },
      "outputs": [
        {
          "output_type": "execute_result",
          "data": {
            "text/plain": [
              "(2.3683499168354514, 2.3683499168354514)"
            ]
          },
          "metadata": {},
          "execution_count": 63
        }
      ],
      "source": [
        "### Simple regret minimisation: run number = 11\n",
        "\n",
        "approx_output_11 = np.append(np.max(approx_11.GP.y[0:n_init]),approx_11.GP.y[n_init:(n_init+max_iter)]) \n",
        "exact_output_11 = np.append(np.max(exact_11.GP.y[0:n_init]),exact_11.GP.y[n_init:(n_init+max_iter)]) \n",
        "\n",
        "regret_approx_11 = np.log(y_global_orig - approx_output_11)\n",
        "regret_exact_11 = np.log(y_global_orig - exact_output_11)\n",
        "\n",
        "simple_regret_approx_11 = min_array(regret_approx_11)\n",
        "simple_regret_exact_11 = min_array(regret_exact_11)\n",
        "\n",
        "min_simple_regret_approx_11 = min(simple_regret_approx_11)\n",
        "min_simple_regret_exact_11 = min(simple_regret_exact_11)\n",
        "\n",
        "min_simple_regret_approx_11, min_simple_regret_exact_11\n"
      ]
    },
    {
      "cell_type": "code",
      "execution_count": 64,
      "metadata": {
        "colab": {
          "base_uri": "https://localhost:8080/"
        },
        "id": "CNvnLAXOJLlQ",
        "outputId": "892f40bc-461b-48aa-8dea-f8a664714a47"
      },
      "outputs": [
        {
          "output_type": "execute_result",
          "data": {
            "text/plain": [
              "(2.168116454057699, 3.133243352216147)"
            ]
          },
          "metadata": {},
          "execution_count": 64
        }
      ],
      "source": [
        "### Simple regret minimisation: run number = 12\n",
        "\n",
        "approx_output_12 = np.append(np.max(approx_12.GP.y[0:n_init]),approx_12.GP.y[n_init:(n_init+max_iter)]) \n",
        "exact_output_12 = np.append(np.max(exact_12.GP.y[0:n_init]),exact_12.GP.y[n_init:(n_init+max_iter)]) \n",
        "\n",
        "regret_approx_12 = np.log(y_global_orig - approx_output_12)\n",
        "regret_exact_12 = np.log(y_global_orig - exact_output_12)\n",
        "\n",
        "simple_regret_approx_12 = min_array(regret_approx_12)\n",
        "simple_regret_exact_12 = min_array(regret_exact_12)\n",
        "\n",
        "min_simple_regret_approx_12 = min(simple_regret_approx_12)\n",
        "min_simple_regret_exact_12 = min(simple_regret_exact_12)\n",
        "\n",
        "min_simple_regret_approx_12, min_simple_regret_exact_12\n"
      ]
    },
    {
      "cell_type": "code",
      "execution_count": 65,
      "metadata": {
        "colab": {
          "base_uri": "https://localhost:8080/"
        },
        "id": "LccPP2SJJLlQ",
        "outputId": "01a23e08-f9ff-44ed-85dc-79856c3c8099"
      },
      "outputs": [
        {
          "output_type": "execute_result",
          "data": {
            "text/plain": [
              "(2.763738150093859, 1.7819371952409373)"
            ]
          },
          "metadata": {},
          "execution_count": 65
        }
      ],
      "source": [
        "### Simple regret minimisation: run number = 13\n",
        "\n",
        "approx_output_13 = np.append(np.max(approx_13.GP.y[0:n_init]),approx_13.GP.y[n_init:(n_init+max_iter)]) \n",
        "exact_output_13 = np.append(np.max(exact_13.GP.y[0:n_init]),exact_13.GP.y[n_init:(n_init+max_iter)]) \n",
        "\n",
        "regret_approx_13 = np.log(y_global_orig - approx_output_13)\n",
        "regret_exact_13 = np.log(y_global_orig - exact_output_13)\n",
        "\n",
        "simple_regret_approx_13 = min_array(regret_approx_13)\n",
        "simple_regret_exact_13 = min_array(regret_exact_13)\n",
        "\n",
        "min_simple_regret_approx_13 = min(simple_regret_approx_13)\n",
        "min_simple_regret_exact_13 = min(simple_regret_exact_13)\n",
        "\n",
        "min_simple_regret_approx_13, min_simple_regret_exact_13\n"
      ]
    },
    {
      "cell_type": "code",
      "execution_count": 66,
      "metadata": {
        "colab": {
          "base_uri": "https://localhost:8080/"
        },
        "id": "OsCDbV_CJLlR",
        "outputId": "6eab7870-8079-4abf-ca86-302737313d1f"
      },
      "outputs": [
        {
          "output_type": "execute_result",
          "data": {
            "text/plain": [
              "(2.3440953566682032, 2.3440953566682032)"
            ]
          },
          "metadata": {},
          "execution_count": 66
        }
      ],
      "source": [
        "### Simple regret minimisation: run number = 14\n",
        "\n",
        "approx_output_14 = np.append(np.max(approx_14.GP.y[0:n_init]),approx_14.GP.y[n_init:(n_init+max_iter)]) \n",
        "exact_output_14 = np.append(np.max(exact_14.GP.y[0:n_init]),exact_14.GP.y[n_init:(n_init+max_iter)]) \n",
        "\n",
        "regret_approx_14 = np.log(y_global_orig - approx_output_14)\n",
        "regret_exact_14 = np.log(y_global_orig - exact_output_14)\n",
        "\n",
        "simple_regret_approx_14 = min_array(regret_approx_14)\n",
        "simple_regret_exact_14 = min_array(regret_exact_14)\n",
        "\n",
        "min_simple_regret_approx_14 = min(simple_regret_approx_14)\n",
        "min_simple_regret_exact_14 = min(simple_regret_exact_14)\n",
        "\n",
        "min_simple_regret_approx_14, min_simple_regret_exact_14\n"
      ]
    },
    {
      "cell_type": "code",
      "execution_count": 67,
      "metadata": {
        "colab": {
          "base_uri": "https://localhost:8080/"
        },
        "id": "HVNGSKzNJLlR",
        "outputId": "7d6bd475-cf27-4646-aa2a-791b8f3f7b3a"
      },
      "outputs": [
        {
          "output_type": "execute_result",
          "data": {
            "text/plain": [
              "(2.078286539213237, 2.078286539213237)"
            ]
          },
          "metadata": {},
          "execution_count": 67
        }
      ],
      "source": [
        "### Simple regret minimisation: run number = 15\n",
        "\n",
        "approx_output_15 = np.append(np.max(approx_15.GP.y[0:n_init]),approx_15.GP.y[n_init:(n_init+max_iter)]) \n",
        "exact_output_15 = np.append(np.max(exact_15.GP.y[0:n_init]),exact_15.GP.y[n_init:(n_init+max_iter)]) \n",
        "\n",
        "regret_approx_15 = np.log(y_global_orig - approx_output_15)\n",
        "regret_exact_15 = np.log(y_global_orig - exact_output_15)\n",
        "\n",
        "simple_regret_approx_15 = min_array(regret_approx_15)\n",
        "simple_regret_exact_15 = min_array(regret_exact_15)\n",
        "\n",
        "min_simple_regret_approx_15 = min(simple_regret_approx_15)\n",
        "min_simple_regret_exact_15 = min(simple_regret_exact_15)\n",
        "\n",
        "min_simple_regret_approx_15, min_simple_regret_exact_15\n"
      ]
    },
    {
      "cell_type": "code",
      "execution_count": 68,
      "metadata": {
        "colab": {
          "base_uri": "https://localhost:8080/"
        },
        "id": "vFT0-DcpJLlS",
        "outputId": "8d21df91-a758-4cb5-ec1d-294aed62207d"
      },
      "outputs": [
        {
          "output_type": "execute_result",
          "data": {
            "text/plain": [
              "(0.7564268872117674, 1.8668773589138925)"
            ]
          },
          "metadata": {},
          "execution_count": 68
        }
      ],
      "source": [
        "### Simple regret minimisation: run number = 16\n",
        "\n",
        "approx_output_16 = np.append(np.max(approx_16.GP.y[0:n_init]),approx_16.GP.y[n_init:(n_init+max_iter)]) \n",
        "exact_output_16 = np.append(np.max(exact_16.GP.y[0:n_init]),exact_16.GP.y[n_init:(n_init+max_iter)]) \n",
        "\n",
        "regret_approx_16 = np.log(y_global_orig - approx_output_16)\n",
        "regret_exact_16 = np.log(y_global_orig - exact_output_16)\n",
        "\n",
        "simple_regret_approx_16 = min_array(regret_approx_16)\n",
        "simple_regret_exact_16 = min_array(regret_exact_16)\n",
        "\n",
        "min_simple_regret_approx_16 = min(simple_regret_approx_16)\n",
        "min_simple_regret_exact_16 = min(simple_regret_exact_16)\n",
        "\n",
        "min_simple_regret_approx_16, min_simple_regret_exact_16\n"
      ]
    },
    {
      "cell_type": "code",
      "execution_count": 69,
      "metadata": {
        "colab": {
          "base_uri": "https://localhost:8080/"
        },
        "id": "TPbl73U3JLlS",
        "outputId": "bc4e0701-8e07-4a82-a7c3-693eaf69cdab"
      },
      "outputs": [
        {
          "output_type": "execute_result",
          "data": {
            "text/plain": [
              "(2.397400955612433, 1.9582744638521108)"
            ]
          },
          "metadata": {},
          "execution_count": 69
        }
      ],
      "source": [
        "### Simple regret minimisation: run number = 17\n",
        "\n",
        "approx_output_17 = np.append(np.max(approx_17.GP.y[0:n_init]),approx_17.GP.y[n_init:(n_init+max_iter)]) \n",
        "exact_output_17 = np.append(np.max(exact_17.GP.y[0:n_init]),exact_17.GP.y[n_init:(n_init+max_iter)]) \n",
        "\n",
        "regret_approx_17 = np.log(y_global_orig - approx_output_17)\n",
        "regret_exact_17 = np.log(y_global_orig - exact_output_17)\n",
        "\n",
        "simple_regret_approx_17 = min_array(regret_approx_17)\n",
        "simple_regret_exact_17 = min_array(regret_exact_17)\n",
        "\n",
        "min_simple_regret_approx_17 = min(simple_regret_approx_17)\n",
        "min_simple_regret_exact_17 = min(simple_regret_exact_17)\n",
        "\n",
        "min_simple_regret_approx_17, min_simple_regret_exact_17\n"
      ]
    },
    {
      "cell_type": "code",
      "execution_count": 70,
      "metadata": {
        "colab": {
          "base_uri": "https://localhost:8080/"
        },
        "id": "ANjpLP7uJLlT",
        "outputId": "6d7c8f14-3de6-4bb7-a641-2ccb2826492e"
      },
      "outputs": [
        {
          "output_type": "execute_result",
          "data": {
            "text/plain": [
              "(2.7045923174018656, 2.6976772806421248)"
            ]
          },
          "metadata": {},
          "execution_count": 70
        }
      ],
      "source": [
        "### Simple regret minimisation: run number = 18\n",
        "\n",
        "approx_output_18 = np.append(np.max(approx_18.GP.y[0:n_init]),approx_18.GP.y[n_init:(n_init+max_iter)]) \n",
        "exact_output_18 = np.append(np.max(exact_18.GP.y[0:n_init]),exact_18.GP.y[n_init:(n_init+max_iter)]) \n",
        "\n",
        "regret_approx_18 = np.log(y_global_orig - approx_output_18)\n",
        "regret_exact_18 = np.log(y_global_orig - exact_output_18)\n",
        "\n",
        "simple_regret_approx_18 = min_array(regret_approx_18)\n",
        "simple_regret_exact_18 = min_array(regret_exact_18)\n",
        "\n",
        "min_simple_regret_approx_18 = min(simple_regret_approx_18)\n",
        "min_simple_regret_exact_18 = min(simple_regret_exact_18)\n",
        "\n",
        "min_simple_regret_approx_18, min_simple_regret_exact_18\n"
      ]
    },
    {
      "cell_type": "code",
      "execution_count": 71,
      "metadata": {
        "colab": {
          "base_uri": "https://localhost:8080/"
        },
        "id": "yYy7bHMOJLlT",
        "outputId": "437e86b1-d6ea-4adc-81b1-7c67243bae0e"
      },
      "outputs": [
        {
          "output_type": "execute_result",
          "data": {
            "text/plain": [
              "(2.9282445915304662, 1.95079753221021)"
            ]
          },
          "metadata": {},
          "execution_count": 71
        }
      ],
      "source": [
        "### Simple regret minimisation: run number = 19\n",
        "\n",
        "approx_output_19 = np.append(np.max(approx_19.GP.y[0:n_init]),approx_19.GP.y[n_init:(n_init+max_iter)]) \n",
        "exact_output_19 = np.append(np.max(exact_19.GP.y[0:n_init]),exact_19.GP.y[n_init:(n_init+max_iter)]) \n",
        "\n",
        "regret_approx_19 = np.log(y_global_orig - approx_output_19)\n",
        "regret_exact_19 = np.log(y_global_orig - exact_output_19)\n",
        "\n",
        "simple_regret_approx_19 = min_array(regret_approx_19)\n",
        "simple_regret_exact_19 = min_array(regret_exact_19)\n",
        "\n",
        "min_simple_regret_approx_19 = min(simple_regret_approx_19)\n",
        "min_simple_regret_exact_19 = min(simple_regret_exact_19)\n",
        "\n",
        "min_simple_regret_approx_19, min_simple_regret_exact_19\n"
      ]
    },
    {
      "cell_type": "code",
      "execution_count": 72,
      "metadata": {
        "colab": {
          "base_uri": "https://localhost:8080/"
        },
        "id": "7h8DTQ7MJLlU",
        "outputId": "210a4117-397a-4f3c-9262-98ae942541dc"
      },
      "outputs": [
        {
          "output_type": "execute_result",
          "data": {
            "text/plain": [
              "(2.8558200718561926, 1.8555330690381389)"
            ]
          },
          "metadata": {},
          "execution_count": 72
        }
      ],
      "source": [
        "### Simple regret minimisation: run number = 20\n",
        "\n",
        "approx_output_20 = np.append(np.max(approx_20.GP.y[0:n_init]),approx_20.GP.y[n_init:(n_init+max_iter)]) \n",
        "exact_output_20 = np.append(np.max(exact_20.GP.y[0:n_init]),exact_20.GP.y[n_init:(n_init+max_iter)]) \n",
        "\n",
        "regret_approx_20 = np.log(y_global_orig - approx_output_20)\n",
        "regret_exact_20 = np.log(y_global_orig - exact_output_20)\n",
        "\n",
        "simple_regret_approx_20 = min_array(regret_approx_20)\n",
        "simple_regret_exact_20 = min_array(regret_exact_20)\n",
        "\n",
        "min_simple_regret_approx_20 = min(simple_regret_approx_20)\n",
        "min_simple_regret_exact_20 = min(simple_regret_exact_20)\n",
        "\n",
        "min_simple_regret_approx_20, min_simple_regret_exact_20\n"
      ]
    },
    {
      "cell_type": "code",
      "execution_count": 73,
      "metadata": {
        "id": "FuTVzVQkJLlU"
      },
      "outputs": [],
      "source": [
        "# Iteration1 :\n",
        "\n",
        "slice1 = 0\n",
        "\n",
        "approx1 = [simple_regret_approx_1[slice1],\n",
        "       simple_regret_approx_2[slice1],\n",
        "       simple_regret_approx_3[slice1],\n",
        "       simple_regret_approx_4[slice1],\n",
        "       simple_regret_approx_5[slice1],\n",
        "       simple_regret_approx_6[slice1],\n",
        "       simple_regret_approx_7[slice1],\n",
        "       simple_regret_approx_8[slice1],\n",
        "       simple_regret_approx_9[slice1],\n",
        "       simple_regret_approx_10[slice1],\n",
        "       simple_regret_approx_11[slice1],\n",
        "       simple_regret_approx_12[slice1],\n",
        "       simple_regret_approx_13[slice1],\n",
        "       simple_regret_approx_14[slice1],\n",
        "       simple_regret_approx_15[slice1],\n",
        "       simple_regret_approx_16[slice1],\n",
        "       simple_regret_approx_17[slice1],\n",
        "       simple_regret_approx_18[slice1],\n",
        "       simple_regret_approx_19[slice1],\n",
        "       simple_regret_approx_20[slice1]]\n",
        "\n",
        "exact1 = [simple_regret_exact_1[slice1],\n",
        "       simple_regret_exact_2[slice1],\n",
        "       simple_regret_exact_3[slice1],\n",
        "       simple_regret_exact_4[slice1],\n",
        "       simple_regret_exact_5[slice1],\n",
        "       simple_regret_exact_6[slice1],\n",
        "       simple_regret_exact_7[slice1],\n",
        "       simple_regret_exact_8[slice1],\n",
        "       simple_regret_exact_9[slice1],\n",
        "       simple_regret_exact_10[slice1],\n",
        "       simple_regret_exact_11[slice1],\n",
        "       simple_regret_exact_12[slice1],\n",
        "       simple_regret_exact_13[slice1],\n",
        "       simple_regret_exact_14[slice1],\n",
        "       simple_regret_exact_15[slice1],\n",
        "       simple_regret_exact_16[slice1],\n",
        "       simple_regret_exact_17[slice1],\n",
        "       simple_regret_exact_18[slice1],\n",
        "       simple_regret_exact_19[slice1],\n",
        "       simple_regret_exact_20[slice1]]\n",
        "\n",
        "approx1_results = pd.DataFrame(approx1).sort_values(by=[0], ascending=False)\n",
        "exact1_results = pd.DataFrame(exact1).sort_values(by=[0], ascending=False)\n",
        "\n",
        "### Best simple regret minimization IQR - approx:\n",
        "lower_approx1 = np.asarray(approx1_results[4:5][0])[0]\n",
        "median_approx1 = np.asarray(approx1_results[9:10][0])[0]\n",
        "upper_approx1 = np.asarray(approx1_results[14:15][0])[0]\n",
        "\n",
        "lower_exact1 = np.asarray(exact1_results[4:5][0])[0]\n",
        "median_exact1 = np.asarray(exact1_results[9:10][0])[0]\n",
        "upper_exact1 = np.asarray(exact1_results[14:15][0])[0]\n"
      ]
    },
    {
      "cell_type": "code",
      "execution_count": 74,
      "metadata": {
        "id": "OCTtqlBHJLlV"
      },
      "outputs": [],
      "source": [
        "# Iteration11 :\n",
        "\n",
        "slice11 = 10\n",
        "\n",
        "approx11 = [simple_regret_approx_1[slice11],\n",
        "       simple_regret_approx_2[slice11],\n",
        "       simple_regret_approx_3[slice11],\n",
        "       simple_regret_approx_4[slice11],\n",
        "       simple_regret_approx_5[slice11],\n",
        "       simple_regret_approx_6[slice11],\n",
        "       simple_regret_approx_7[slice11],\n",
        "       simple_regret_approx_8[slice11],\n",
        "       simple_regret_approx_9[slice11],\n",
        "       simple_regret_approx_10[slice11],\n",
        "       simple_regret_approx_11[slice11],\n",
        "       simple_regret_approx_12[slice11],\n",
        "       simple_regret_approx_13[slice11],\n",
        "       simple_regret_approx_14[slice11],\n",
        "       simple_regret_approx_15[slice11],\n",
        "       simple_regret_approx_16[slice11],\n",
        "       simple_regret_approx_17[slice11],\n",
        "       simple_regret_approx_18[slice11],\n",
        "       simple_regret_approx_19[slice11],\n",
        "       simple_regret_approx_20[slice11]]\n",
        "\n",
        "exact11 = [simple_regret_exact_1[slice11],\n",
        "       simple_regret_exact_2[slice11],\n",
        "       simple_regret_exact_3[slice11],\n",
        "       simple_regret_exact_4[slice11],\n",
        "       simple_regret_exact_5[slice11],\n",
        "       simple_regret_exact_6[slice11],\n",
        "       simple_regret_exact_7[slice11],\n",
        "       simple_regret_exact_8[slice11],\n",
        "       simple_regret_exact_9[slice11],\n",
        "       simple_regret_exact_10[slice11],\n",
        "       simple_regret_exact_11[slice11],\n",
        "       simple_regret_exact_12[slice11],\n",
        "       simple_regret_exact_13[slice11],\n",
        "       simple_regret_exact_14[slice11],\n",
        "       simple_regret_exact_15[slice11],\n",
        "       simple_regret_exact_16[slice11],\n",
        "       simple_regret_exact_17[slice11],\n",
        "       simple_regret_exact_18[slice11],\n",
        "       simple_regret_exact_19[slice11],\n",
        "       simple_regret_exact_20[slice11]]\n",
        "\n",
        "approx11_results = pd.DataFrame(approx11).sort_values(by=[0], ascending=False)\n",
        "exact11_results = pd.DataFrame(exact11).sort_values(by=[0], ascending=False)\n",
        "\n",
        "### Best simple regret minimization IQR - approx:\n",
        "lower_approx11 = np.asarray(approx11_results[4:5][0])[0]\n",
        "median_approx11 = np.asarray(approx11_results[9:10][0])[0]\n",
        "upper_approx11 = np.asarray(approx11_results[14:15][0])[0]\n",
        "\n",
        "lower_exact11 = np.asarray(exact11_results[4:5][0])[0]\n",
        "median_exact11 = np.asarray(exact11_results[9:10][0])[0]\n",
        "upper_exact11 = np.asarray(exact11_results[14:15][0])[0]\n"
      ]
    },
    {
      "cell_type": "code",
      "execution_count": 75,
      "metadata": {
        "id": "OhneK6K5JLlV"
      },
      "outputs": [],
      "source": [
        "# Iteration21 :\n",
        "\n",
        "slice21 = 20\n",
        "\n",
        "approx21 = [simple_regret_approx_1[slice21],\n",
        "       simple_regret_approx_2[slice21],\n",
        "       simple_regret_approx_3[slice21],\n",
        "       simple_regret_approx_4[slice21],\n",
        "       simple_regret_approx_5[slice21],\n",
        "       simple_regret_approx_6[slice21],\n",
        "       simple_regret_approx_7[slice21],\n",
        "       simple_regret_approx_8[slice21],\n",
        "       simple_regret_approx_9[slice21],\n",
        "       simple_regret_approx_10[slice21],\n",
        "       simple_regret_approx_11[slice21],\n",
        "       simple_regret_approx_12[slice21],\n",
        "       simple_regret_approx_13[slice21],\n",
        "       simple_regret_approx_14[slice21],\n",
        "       simple_regret_approx_15[slice21],\n",
        "       simple_regret_approx_16[slice21],\n",
        "       simple_regret_approx_17[slice21],\n",
        "       simple_regret_approx_18[slice21],\n",
        "       simple_regret_approx_19[slice21],\n",
        "       simple_regret_approx_20[slice21]]\n",
        "\n",
        "exact21 = [simple_regret_exact_1[slice21],\n",
        "       simple_regret_exact_2[slice21],\n",
        "       simple_regret_exact_3[slice21],\n",
        "       simple_regret_exact_4[slice21],\n",
        "       simple_regret_exact_5[slice21],\n",
        "       simple_regret_exact_6[slice21],\n",
        "       simple_regret_exact_7[slice21],\n",
        "       simple_regret_exact_8[slice21],\n",
        "       simple_regret_exact_9[slice21],\n",
        "       simple_regret_exact_10[slice21],\n",
        "       simple_regret_exact_11[slice21],\n",
        "       simple_regret_exact_12[slice21],\n",
        "       simple_regret_exact_13[slice21],\n",
        "       simple_regret_exact_14[slice21],\n",
        "       simple_regret_exact_15[slice21],\n",
        "       simple_regret_exact_16[slice21],\n",
        "       simple_regret_exact_17[slice21],\n",
        "       simple_regret_exact_18[slice21],\n",
        "       simple_regret_exact_19[slice21],\n",
        "       simple_regret_exact_20[slice21]]\n",
        "\n",
        "approx21_results = pd.DataFrame(approx21).sort_values(by=[0], ascending=False)\n",
        "exact21_results = pd.DataFrame(exact21).sort_values(by=[0], ascending=False)\n",
        "\n",
        "### Best simple regret minimization IQR - approx:\n",
        "lower_approx21 = np.asarray(approx21_results[4:5][0])[0]\n",
        "median_approx21 = np.asarray(approx21_results[9:10][0])[0]\n",
        "upper_approx21 = np.asarray(approx21_results[14:15][0])[0]\n",
        "\n",
        "lower_exact21 = np.asarray(exact21_results[4:5][0])[0]\n",
        "median_exact21 = np.asarray(exact21_results[9:10][0])[0]\n",
        "upper_exact21 = np.asarray(exact21_results[14:15][0])[0]\n"
      ]
    },
    {
      "cell_type": "code",
      "execution_count": 76,
      "metadata": {
        "id": "wetKUCmLJLlb"
      },
      "outputs": [],
      "source": [
        "# Iteration2 :\n",
        "\n",
        "slice2 = 1\n",
        "\n",
        "approx2 = [simple_regret_approx_1[slice2],\n",
        "       simple_regret_approx_2[slice2],\n",
        "       simple_regret_approx_3[slice2],\n",
        "       simple_regret_approx_4[slice2],\n",
        "       simple_regret_approx_5[slice2],\n",
        "       simple_regret_approx_6[slice2],\n",
        "       simple_regret_approx_7[slice2],\n",
        "       simple_regret_approx_8[slice2],\n",
        "       simple_regret_approx_9[slice2],\n",
        "       simple_regret_approx_10[slice2],\n",
        "       simple_regret_approx_11[slice2],\n",
        "       simple_regret_approx_12[slice2],\n",
        "       simple_regret_approx_13[slice2],\n",
        "       simple_regret_approx_14[slice2],\n",
        "       simple_regret_approx_15[slice2],\n",
        "       simple_regret_approx_16[slice2],\n",
        "       simple_regret_approx_17[slice2],\n",
        "       simple_regret_approx_18[slice2],\n",
        "       simple_regret_approx_19[slice2],\n",
        "       simple_regret_approx_20[slice2]]\n",
        "\n",
        "exact2 = [simple_regret_exact_1[slice2],\n",
        "       simple_regret_exact_2[slice2],\n",
        "       simple_regret_exact_3[slice2],\n",
        "       simple_regret_exact_4[slice2],\n",
        "       simple_regret_exact_5[slice2],\n",
        "       simple_regret_exact_6[slice2],\n",
        "       simple_regret_exact_7[slice2],\n",
        "       simple_regret_exact_8[slice2],\n",
        "       simple_regret_exact_9[slice2],\n",
        "       simple_regret_exact_10[slice2],\n",
        "       simple_regret_exact_11[slice2],\n",
        "       simple_regret_exact_12[slice2],\n",
        "       simple_regret_exact_13[slice2],\n",
        "       simple_regret_exact_14[slice2],\n",
        "       simple_regret_exact_15[slice2],\n",
        "       simple_regret_exact_16[slice2],\n",
        "       simple_regret_exact_17[slice2],\n",
        "       simple_regret_exact_18[slice2],\n",
        "       simple_regret_exact_19[slice2],\n",
        "       simple_regret_exact_20[slice2]]\n",
        "\n",
        "approx2_results = pd.DataFrame(approx2).sort_values(by=[0], ascending=False)\n",
        "exact2_results = pd.DataFrame(exact2).sort_values(by=[0], ascending=False)\n",
        "\n",
        "### Best simple regret minimization IQR - approx:\n",
        "lower_approx2 = np.asarray(approx2_results[4:5][0])[0]\n",
        "median_approx2 = np.asarray(approx2_results[9:10][0])[0]\n",
        "upper_approx2 = np.asarray(approx2_results[14:15][0])[0]\n",
        "\n",
        "lower_exact2 = np.asarray(exact2_results[4:5][0])[0]\n",
        "median_exact2 = np.asarray(exact2_results[9:10][0])[0]\n",
        "upper_exact2 = np.asarray(exact2_results[14:15][0])[0]\n"
      ]
    },
    {
      "cell_type": "code",
      "execution_count": 77,
      "metadata": {
        "id": "8dIyaTLKJLlc"
      },
      "outputs": [],
      "source": [
        "# Iteration12 :\n",
        "\n",
        "slice12 = 11\n",
        "\n",
        "approx12 = [simple_regret_approx_1[slice12],\n",
        "       simple_regret_approx_2[slice12],\n",
        "       simple_regret_approx_3[slice12],\n",
        "       simple_regret_approx_4[slice12],\n",
        "       simple_regret_approx_5[slice12],\n",
        "       simple_regret_approx_6[slice12],\n",
        "       simple_regret_approx_7[slice12],\n",
        "       simple_regret_approx_8[slice12],\n",
        "       simple_regret_approx_9[slice12],\n",
        "       simple_regret_approx_10[slice12],\n",
        "       simple_regret_approx_11[slice12],\n",
        "       simple_regret_approx_12[slice12],\n",
        "       simple_regret_approx_13[slice12],\n",
        "       simple_regret_approx_14[slice12],\n",
        "       simple_regret_approx_15[slice12],\n",
        "       simple_regret_approx_16[slice12],\n",
        "       simple_regret_approx_17[slice12],\n",
        "       simple_regret_approx_18[slice12],\n",
        "       simple_regret_approx_19[slice12],\n",
        "       simple_regret_approx_20[slice12]]\n",
        "\n",
        "exact12 = [simple_regret_exact_1[slice12],\n",
        "       simple_regret_exact_2[slice12],\n",
        "       simple_regret_exact_3[slice12],\n",
        "       simple_regret_exact_4[slice12],\n",
        "       simple_regret_exact_5[slice12],\n",
        "       simple_regret_exact_6[slice12],\n",
        "       simple_regret_exact_7[slice12],\n",
        "       simple_regret_exact_8[slice12],\n",
        "       simple_regret_exact_9[slice12],\n",
        "       simple_regret_exact_10[slice12],\n",
        "       simple_regret_exact_11[slice12],\n",
        "       simple_regret_exact_12[slice12],\n",
        "       simple_regret_exact_13[slice12],\n",
        "       simple_regret_exact_14[slice12],\n",
        "       simple_regret_exact_15[slice12],\n",
        "       simple_regret_exact_16[slice12],\n",
        "       simple_regret_exact_17[slice12],\n",
        "       simple_regret_exact_18[slice12],\n",
        "       simple_regret_exact_19[slice12],\n",
        "       simple_regret_exact_20[slice12]]\n",
        "\n",
        "approx12_results = pd.DataFrame(approx12).sort_values(by=[0], ascending=False)\n",
        "exact12_results = pd.DataFrame(exact12).sort_values(by=[0], ascending=False)\n",
        "\n",
        "### Best simple regret minimization IQR - approx:\n",
        "lower_approx12 = np.asarray(approx12_results[4:5][0])[0]\n",
        "median_approx12 = np.asarray(approx12_results[9:10][0])[0]\n",
        "upper_approx12 = np.asarray(approx12_results[14:15][0])[0]\n",
        "\n",
        "lower_exact12 = np.asarray(exact12_results[4:5][0])[0]\n",
        "median_exact12 = np.asarray(exact12_results[9:10][0])[0]\n",
        "upper_exact12 = np.asarray(exact12_results[14:15][0])[0]\n"
      ]
    },
    {
      "cell_type": "code",
      "execution_count": 78,
      "metadata": {
        "id": "1_6u8LF1JLlt"
      },
      "outputs": [],
      "source": [
        "# Iteration3 :\n",
        "\n",
        "slice3 = 2\n",
        "\n",
        "approx3 = [simple_regret_approx_1[slice3],\n",
        "       simple_regret_approx_2[slice3],\n",
        "       simple_regret_approx_3[slice3],\n",
        "       simple_regret_approx_4[slice3],\n",
        "       simple_regret_approx_5[slice3],\n",
        "       simple_regret_approx_6[slice3],\n",
        "       simple_regret_approx_7[slice3],\n",
        "       simple_regret_approx_8[slice3],\n",
        "       simple_regret_approx_9[slice3],\n",
        "       simple_regret_approx_10[slice3],\n",
        "       simple_regret_approx_11[slice3],\n",
        "       simple_regret_approx_12[slice3],\n",
        "       simple_regret_approx_13[slice3],\n",
        "       simple_regret_approx_14[slice3],\n",
        "       simple_regret_approx_15[slice3],\n",
        "       simple_regret_approx_16[slice3],\n",
        "       simple_regret_approx_17[slice3],\n",
        "       simple_regret_approx_18[slice3],\n",
        "       simple_regret_approx_19[slice3],\n",
        "       simple_regret_approx_20[slice3]]\n",
        "\n",
        "exact3 = [simple_regret_exact_1[slice3],\n",
        "       simple_regret_exact_2[slice3],\n",
        "       simple_regret_exact_3[slice3],\n",
        "       simple_regret_exact_4[slice3],\n",
        "       simple_regret_exact_5[slice3],\n",
        "       simple_regret_exact_6[slice3],\n",
        "       simple_regret_exact_7[slice3],\n",
        "       simple_regret_exact_8[slice3],\n",
        "       simple_regret_exact_9[slice3],\n",
        "       simple_regret_exact_10[slice3],\n",
        "       simple_regret_exact_11[slice3],\n",
        "       simple_regret_exact_12[slice3],\n",
        "       simple_regret_exact_13[slice3],\n",
        "       simple_regret_exact_14[slice3],\n",
        "       simple_regret_exact_15[slice3],\n",
        "       simple_regret_exact_16[slice3],\n",
        "       simple_regret_exact_17[slice3],\n",
        "       simple_regret_exact_18[slice3],\n",
        "       simple_regret_exact_19[slice3],\n",
        "       simple_regret_exact_20[slice3]]\n",
        "\n",
        "approx3_results = pd.DataFrame(approx3).sort_values(by=[0], ascending=False)\n",
        "exact3_results = pd.DataFrame(exact3).sort_values(by=[0], ascending=False)\n",
        "\n",
        "### Best simple regret minimization IQR - approx:\n",
        "lower_approx3 = np.asarray(approx3_results[4:5][0])[0]\n",
        "median_approx3 = np.asarray(approx3_results[9:10][0])[0]\n",
        "upper_approx3 = np.asarray(approx3_results[14:15][0])[0]\n",
        "\n",
        "lower_exact3 = np.asarray(exact3_results[4:5][0])[0]\n",
        "median_exact3 = np.asarray(exact3_results[9:10][0])[0]\n",
        "upper_exact3 = np.asarray(exact3_results[14:15][0])[0]\n"
      ]
    },
    {
      "cell_type": "code",
      "execution_count": 79,
      "metadata": {
        "id": "GGEAa73pJLlu"
      },
      "outputs": [],
      "source": [
        "# Iteration13 :\n",
        "\n",
        "slice13 = 12\n",
        "\n",
        "approx13 = [simple_regret_approx_1[slice13],\n",
        "       simple_regret_approx_2[slice13],\n",
        "       simple_regret_approx_3[slice13],\n",
        "       simple_regret_approx_4[slice13],\n",
        "       simple_regret_approx_5[slice13],\n",
        "       simple_regret_approx_6[slice13],\n",
        "       simple_regret_approx_7[slice13],\n",
        "       simple_regret_approx_8[slice13],\n",
        "       simple_regret_approx_9[slice13],\n",
        "       simple_regret_approx_10[slice13],\n",
        "       simple_regret_approx_11[slice13],\n",
        "       simple_regret_approx_12[slice13],\n",
        "       simple_regret_approx_13[slice13],\n",
        "       simple_regret_approx_14[slice13],\n",
        "       simple_regret_approx_15[slice13],\n",
        "       simple_regret_approx_16[slice13],\n",
        "       simple_regret_approx_17[slice13],\n",
        "       simple_regret_approx_18[slice13],\n",
        "       simple_regret_approx_19[slice13],\n",
        "       simple_regret_approx_20[slice13]]\n",
        "\n",
        "exact13 = [simple_regret_exact_1[slice13],\n",
        "       simple_regret_exact_2[slice13],\n",
        "       simple_regret_exact_3[slice13],\n",
        "       simple_regret_exact_4[slice13],\n",
        "       simple_regret_exact_5[slice13],\n",
        "       simple_regret_exact_6[slice13],\n",
        "       simple_regret_exact_7[slice13],\n",
        "       simple_regret_exact_8[slice13],\n",
        "       simple_regret_exact_9[slice13],\n",
        "       simple_regret_exact_10[slice13],\n",
        "       simple_regret_exact_11[slice13],\n",
        "       simple_regret_exact_12[slice13],\n",
        "       simple_regret_exact_13[slice13],\n",
        "       simple_regret_exact_14[slice13],\n",
        "       simple_regret_exact_15[slice13],\n",
        "       simple_regret_exact_16[slice13],\n",
        "       simple_regret_exact_17[slice13],\n",
        "       simple_regret_exact_18[slice13],\n",
        "       simple_regret_exact_19[slice13],\n",
        "       simple_regret_exact_20[slice13]]\n",
        "\n",
        "approx13_results = pd.DataFrame(approx13).sort_values(by=[0], ascending=False)\n",
        "exact13_results = pd.DataFrame(exact13).sort_values(by=[0], ascending=False)\n",
        "\n",
        "### Best simple regret minimization IQR - approx:\n",
        "lower_approx13 = np.asarray(approx13_results[4:5][0])[0]\n",
        "median_approx13 = np.asarray(approx13_results[9:10][0])[0]\n",
        "upper_approx13 = np.asarray(approx13_results[14:15][0])[0]\n",
        "\n",
        "lower_exact13 = np.asarray(exact13_results[4:5][0])[0]\n",
        "median_exact13 = np.asarray(exact13_results[9:10][0])[0]\n",
        "upper_exact13 = np.asarray(exact13_results[14:15][0])[0]\n"
      ]
    },
    {
      "cell_type": "code",
      "execution_count": 80,
      "metadata": {
        "id": "T30xLxygJLl0"
      },
      "outputs": [],
      "source": [
        "# Iteration4 :\n",
        "\n",
        "slice4 = 3\n",
        "\n",
        "approx4 = [simple_regret_approx_1[slice4],\n",
        "       simple_regret_approx_2[slice4],\n",
        "       simple_regret_approx_3[slice4],\n",
        "       simple_regret_approx_4[slice4],\n",
        "       simple_regret_approx_5[slice4],\n",
        "       simple_regret_approx_6[slice4],\n",
        "       simple_regret_approx_7[slice4],\n",
        "       simple_regret_approx_8[slice4],\n",
        "       simple_regret_approx_9[slice4],\n",
        "       simple_regret_approx_10[slice4],\n",
        "       simple_regret_approx_11[slice4],\n",
        "       simple_regret_approx_12[slice4],\n",
        "       simple_regret_approx_13[slice4],\n",
        "       simple_regret_approx_14[slice4],\n",
        "       simple_regret_approx_15[slice4],\n",
        "       simple_regret_approx_16[slice4],\n",
        "       simple_regret_approx_17[slice4],\n",
        "       simple_regret_approx_18[slice4],\n",
        "       simple_regret_approx_19[slice4],\n",
        "       simple_regret_approx_20[slice4]]\n",
        "\n",
        "exact4 = [simple_regret_exact_1[slice4],\n",
        "       simple_regret_exact_2[slice4],\n",
        "       simple_regret_exact_3[slice4],\n",
        "       simple_regret_exact_4[slice4],\n",
        "       simple_regret_exact_5[slice4],\n",
        "       simple_regret_exact_6[slice4],\n",
        "       simple_regret_exact_7[slice4],\n",
        "       simple_regret_exact_8[slice4],\n",
        "       simple_regret_exact_9[slice4],\n",
        "       simple_regret_exact_10[slice4],\n",
        "       simple_regret_exact_11[slice4],\n",
        "       simple_regret_exact_12[slice4],\n",
        "       simple_regret_exact_13[slice4],\n",
        "       simple_regret_exact_14[slice4],\n",
        "       simple_regret_exact_15[slice4],\n",
        "       simple_regret_exact_16[slice4],\n",
        "       simple_regret_exact_17[slice4],\n",
        "       simple_regret_exact_18[slice4],\n",
        "       simple_regret_exact_19[slice4],\n",
        "       simple_regret_exact_20[slice4]]\n",
        "\n",
        "approx4_results = pd.DataFrame(approx4).sort_values(by=[0], ascending=False)\n",
        "exact4_results = pd.DataFrame(exact4).sort_values(by=[0], ascending=False)\n",
        "\n",
        "### Best simple regret minimization IQR - approx:\n",
        "lower_approx4 = np.asarray(approx4_results[4:5][0])[0]\n",
        "median_approx4 = np.asarray(approx4_results[9:10][0])[0]\n",
        "upper_approx4 = np.asarray(approx4_results[14:15][0])[0]\n",
        "\n",
        "lower_exact4 = np.asarray(exact4_results[4:5][0])[0]\n",
        "median_exact4 = np.asarray(exact4_results[9:10][0])[0]\n",
        "upper_exact4 = np.asarray(exact4_results[14:15][0])[0]\n"
      ]
    },
    {
      "cell_type": "code",
      "execution_count": 81,
      "metadata": {
        "id": "MQ-jpNrnJLl1"
      },
      "outputs": [],
      "source": [
        "# Iteration14 :\n",
        "\n",
        "slice14 = 13\n",
        "\n",
        "approx14 = [simple_regret_approx_1[slice14],\n",
        "       simple_regret_approx_2[slice14],\n",
        "       simple_regret_approx_3[slice14],\n",
        "       simple_regret_approx_4[slice14],\n",
        "       simple_regret_approx_5[slice14],\n",
        "       simple_regret_approx_6[slice14],\n",
        "       simple_regret_approx_7[slice14],\n",
        "       simple_regret_approx_8[slice14],\n",
        "       simple_regret_approx_9[slice14],\n",
        "       simple_regret_approx_10[slice14],\n",
        "       simple_regret_approx_11[slice14],\n",
        "       simple_regret_approx_12[slice14],\n",
        "       simple_regret_approx_13[slice14],\n",
        "       simple_regret_approx_14[slice14],\n",
        "       simple_regret_approx_15[slice14],\n",
        "       simple_regret_approx_16[slice14],\n",
        "       simple_regret_approx_17[slice14],\n",
        "       simple_regret_approx_18[slice14],\n",
        "       simple_regret_approx_19[slice14],\n",
        "       simple_regret_approx_20[slice14]]\n",
        "\n",
        "exact14 = [simple_regret_exact_1[slice14],\n",
        "       simple_regret_exact_2[slice14],\n",
        "       simple_regret_exact_3[slice14],\n",
        "       simple_regret_exact_4[slice14],\n",
        "       simple_regret_exact_5[slice14],\n",
        "       simple_regret_exact_6[slice14],\n",
        "       simple_regret_exact_7[slice14],\n",
        "       simple_regret_exact_8[slice14],\n",
        "       simple_regret_exact_9[slice14],\n",
        "       simple_regret_exact_10[slice14],\n",
        "       simple_regret_exact_11[slice14],\n",
        "       simple_regret_exact_12[slice14],\n",
        "       simple_regret_exact_13[slice14],\n",
        "       simple_regret_exact_14[slice14],\n",
        "       simple_regret_exact_15[slice14],\n",
        "       simple_regret_exact_16[slice14],\n",
        "       simple_regret_exact_17[slice14],\n",
        "       simple_regret_exact_18[slice14],\n",
        "       simple_regret_exact_19[slice14],\n",
        "       simple_regret_exact_20[slice14]]\n",
        "\n",
        "approx14_results = pd.DataFrame(approx14).sort_values(by=[0], ascending=False)\n",
        "exact14_results = pd.DataFrame(exact14).sort_values(by=[0], ascending=False)\n",
        "\n",
        "### Best simple regret minimization IQR - approx:\n",
        "lower_approx14 = np.asarray(approx14_results[4:5][0])[0]\n",
        "median_approx14 = np.asarray(approx14_results[9:10][0])[0]\n",
        "upper_approx14 = np.asarray(approx14_results[14:15][0])[0]\n",
        "\n",
        "lower_exact14 = np.asarray(exact14_results[4:5][0])[0]\n",
        "median_exact14 = np.asarray(exact14_results[9:10][0])[0]\n",
        "upper_exact14 = np.asarray(exact14_results[14:15][0])[0]\n"
      ]
    },
    {
      "cell_type": "code",
      "execution_count": 82,
      "metadata": {
        "id": "Xhy_AN9jJLl9"
      },
      "outputs": [],
      "source": [
        "# Iteration5 :\n",
        "\n",
        "slice5 = 4\n",
        "\n",
        "approx5 = [simple_regret_approx_1[slice5],\n",
        "       simple_regret_approx_2[slice5],\n",
        "       simple_regret_approx_3[slice5],\n",
        "       simple_regret_approx_4[slice5],\n",
        "       simple_regret_approx_5[slice5],\n",
        "       simple_regret_approx_6[slice5],\n",
        "       simple_regret_approx_7[slice5],\n",
        "       simple_regret_approx_8[slice5],\n",
        "       simple_regret_approx_9[slice5],\n",
        "       simple_regret_approx_10[slice5],\n",
        "       simple_regret_approx_11[slice5],\n",
        "       simple_regret_approx_12[slice5],\n",
        "       simple_regret_approx_13[slice5],\n",
        "       simple_regret_approx_14[slice5],\n",
        "       simple_regret_approx_15[slice5],\n",
        "       simple_regret_approx_16[slice5],\n",
        "       simple_regret_approx_17[slice5],\n",
        "       simple_regret_approx_18[slice5],\n",
        "       simple_regret_approx_19[slice5],\n",
        "       simple_regret_approx_20[slice5]]\n",
        "\n",
        "exact5 = [simple_regret_exact_1[slice5],\n",
        "       simple_regret_exact_2[slice5],\n",
        "       simple_regret_exact_3[slice5],\n",
        "       simple_regret_exact_4[slice5],\n",
        "       simple_regret_exact_5[slice5],\n",
        "       simple_regret_exact_6[slice5],\n",
        "       simple_regret_exact_7[slice5],\n",
        "       simple_regret_exact_8[slice5],\n",
        "       simple_regret_exact_9[slice5],\n",
        "       simple_regret_exact_10[slice5],\n",
        "       simple_regret_exact_11[slice5],\n",
        "       simple_regret_exact_12[slice5],\n",
        "       simple_regret_exact_13[slice5],\n",
        "       simple_regret_exact_14[slice5],\n",
        "       simple_regret_exact_15[slice5],\n",
        "       simple_regret_exact_16[slice5],\n",
        "       simple_regret_exact_17[slice5],\n",
        "       simple_regret_exact_18[slice5],\n",
        "       simple_regret_exact_19[slice5],\n",
        "       simple_regret_exact_20[slice5]]\n",
        "\n",
        "approx5_results = pd.DataFrame(approx5).sort_values(by=[0], ascending=False)\n",
        "exact5_results = pd.DataFrame(exact5).sort_values(by=[0], ascending=False)\n",
        "\n",
        "### Best simple regret minimization IQR - approx:\n",
        "lower_approx5 = np.asarray(approx5_results[4:5][0])[0]\n",
        "median_approx5 = np.asarray(approx5_results[9:10][0])[0]\n",
        "upper_approx5 = np.asarray(approx5_results[14:15][0])[0]\n",
        "\n",
        "lower_exact5 = np.asarray(exact5_results[4:5][0])[0]\n",
        "median_exact5 = np.asarray(exact5_results[9:10][0])[0]\n",
        "upper_exact5 = np.asarray(exact5_results[14:15][0])[0]\n"
      ]
    },
    {
      "cell_type": "code",
      "execution_count": 83,
      "metadata": {
        "id": "WHbtLHnbJLl-"
      },
      "outputs": [],
      "source": [
        "# Iteration15 :\n",
        "\n",
        "slice15 = 14\n",
        "\n",
        "approx15 = [simple_regret_approx_1[slice15],\n",
        "       simple_regret_approx_2[slice15],\n",
        "       simple_regret_approx_3[slice15],\n",
        "       simple_regret_approx_4[slice15],\n",
        "       simple_regret_approx_5[slice15],\n",
        "       simple_regret_approx_6[slice15],\n",
        "       simple_regret_approx_7[slice15],\n",
        "       simple_regret_approx_8[slice15],\n",
        "       simple_regret_approx_9[slice15],\n",
        "       simple_regret_approx_10[slice15],\n",
        "       simple_regret_approx_11[slice15],\n",
        "       simple_regret_approx_12[slice15],\n",
        "       simple_regret_approx_13[slice15],\n",
        "       simple_regret_approx_14[slice15],\n",
        "       simple_regret_approx_15[slice15],\n",
        "       simple_regret_approx_16[slice15],\n",
        "       simple_regret_approx_17[slice15],\n",
        "       simple_regret_approx_18[slice15],\n",
        "       simple_regret_approx_19[slice15],\n",
        "       simple_regret_approx_20[slice15]]\n",
        "\n",
        "exact15 = [simple_regret_exact_1[slice15],\n",
        "       simple_regret_exact_2[slice15],\n",
        "       simple_regret_exact_3[slice15],\n",
        "       simple_regret_exact_4[slice15],\n",
        "       simple_regret_exact_5[slice15],\n",
        "       simple_regret_exact_6[slice15],\n",
        "       simple_regret_exact_7[slice15],\n",
        "       simple_regret_exact_8[slice15],\n",
        "       simple_regret_exact_9[slice15],\n",
        "       simple_regret_exact_10[slice15],\n",
        "       simple_regret_exact_11[slice15],\n",
        "       simple_regret_exact_12[slice15],\n",
        "       simple_regret_exact_13[slice15],\n",
        "       simple_regret_exact_14[slice15],\n",
        "       simple_regret_exact_15[slice15],\n",
        "       simple_regret_exact_16[slice15],\n",
        "       simple_regret_exact_17[slice15],\n",
        "       simple_regret_exact_18[slice15],\n",
        "       simple_regret_exact_19[slice15],\n",
        "       simple_regret_exact_20[slice15]]\n",
        "\n",
        "approx15_results = pd.DataFrame(approx15).sort_values(by=[0], ascending=False)\n",
        "exact15_results = pd.DataFrame(exact15).sort_values(by=[0], ascending=False)\n",
        "\n",
        "### Best simple regret minimization IQR - approx:\n",
        "lower_approx15 = np.asarray(approx15_results[4:5][0])[0]\n",
        "median_approx15 = np.asarray(approx15_results[9:10][0])[0]\n",
        "upper_approx15 = np.asarray(approx15_results[14:15][0])[0]\n",
        "\n",
        "lower_exact15 = np.asarray(exact15_results[4:5][0])[0]\n",
        "median_exact15 = np.asarray(exact15_results[9:10][0])[0]\n",
        "upper_exact15 = np.asarray(exact15_results[14:15][0])[0]\n"
      ]
    },
    {
      "cell_type": "code",
      "execution_count": 84,
      "metadata": {
        "id": "XqsNyHzqJLmC"
      },
      "outputs": [],
      "source": [
        "# Iteration6 :\n",
        "\n",
        "slice6 = 5\n",
        "\n",
        "approx6 = [simple_regret_approx_1[slice6],\n",
        "       simple_regret_approx_2[slice6],\n",
        "       simple_regret_approx_3[slice6],\n",
        "       simple_regret_approx_4[slice6],\n",
        "       simple_regret_approx_5[slice6],\n",
        "       simple_regret_approx_6[slice6],\n",
        "       simple_regret_approx_7[slice6],\n",
        "       simple_regret_approx_8[slice6],\n",
        "       simple_regret_approx_9[slice6],\n",
        "       simple_regret_approx_10[slice6],\n",
        "       simple_regret_approx_11[slice6],\n",
        "       simple_regret_approx_12[slice6],\n",
        "       simple_regret_approx_13[slice6],\n",
        "       simple_regret_approx_14[slice6],\n",
        "       simple_regret_approx_15[slice6],\n",
        "       simple_regret_approx_16[slice6],\n",
        "       simple_regret_approx_17[slice6],\n",
        "       simple_regret_approx_18[slice6],\n",
        "       simple_regret_approx_19[slice6],\n",
        "       simple_regret_approx_20[slice6]]\n",
        "\n",
        "exact6 = [simple_regret_exact_1[slice6],\n",
        "       simple_regret_exact_2[slice6],\n",
        "       simple_regret_exact_3[slice6],\n",
        "       simple_regret_exact_4[slice6],\n",
        "       simple_regret_exact_5[slice6],\n",
        "       simple_regret_exact_6[slice6],\n",
        "       simple_regret_exact_7[slice6],\n",
        "       simple_regret_exact_8[slice6],\n",
        "       simple_regret_exact_9[slice6],\n",
        "       simple_regret_exact_10[slice6],\n",
        "       simple_regret_exact_11[slice6],\n",
        "       simple_regret_exact_12[slice6],\n",
        "       simple_regret_exact_13[slice6],\n",
        "       simple_regret_exact_14[slice6],\n",
        "       simple_regret_exact_15[slice6],\n",
        "       simple_regret_exact_16[slice6],\n",
        "       simple_regret_exact_17[slice6],\n",
        "       simple_regret_exact_18[slice6],\n",
        "       simple_regret_exact_19[slice6],\n",
        "       simple_regret_exact_20[slice6]]\n",
        "\n",
        "approx6_results = pd.DataFrame(approx6).sort_values(by=[0], ascending=False)\n",
        "exact6_results = pd.DataFrame(exact6).sort_values(by=[0], ascending=False)\n",
        "\n",
        "### Best simple regret minimization IQR - approx:\n",
        "lower_approx6 = np.asarray(approx6_results[4:5][0])[0]\n",
        "median_approx6 = np.asarray(approx6_results[9:10][0])[0]\n",
        "upper_approx6 = np.asarray(approx6_results[14:15][0])[0]\n",
        "\n",
        "lower_exact6 = np.asarray(exact6_results[4:5][0])[0]\n",
        "median_exact6 = np.asarray(exact6_results[9:10][0])[0]\n",
        "upper_exact6 = np.asarray(exact6_results[14:15][0])[0]\n"
      ]
    },
    {
      "cell_type": "code",
      "execution_count": 85,
      "metadata": {
        "id": "V0-8P_clJLmD"
      },
      "outputs": [],
      "source": [
        "# Iteration16 :\n",
        "\n",
        "slice16 = 15\n",
        "\n",
        "approx16 = [simple_regret_approx_1[slice16],\n",
        "       simple_regret_approx_2[slice16],\n",
        "       simple_regret_approx_3[slice16],\n",
        "       simple_regret_approx_4[slice16],\n",
        "       simple_regret_approx_5[slice16],\n",
        "       simple_regret_approx_6[slice16],\n",
        "       simple_regret_approx_7[slice16],\n",
        "       simple_regret_approx_8[slice16],\n",
        "       simple_regret_approx_9[slice16],\n",
        "       simple_regret_approx_10[slice16],\n",
        "       simple_regret_approx_11[slice16],\n",
        "       simple_regret_approx_12[slice16],\n",
        "       simple_regret_approx_13[slice16],\n",
        "       simple_regret_approx_14[slice16],\n",
        "       simple_regret_approx_15[slice16],\n",
        "       simple_regret_approx_16[slice16],\n",
        "       simple_regret_approx_17[slice16],\n",
        "       simple_regret_approx_18[slice16],\n",
        "       simple_regret_approx_19[slice16],\n",
        "       simple_regret_approx_20[slice16]]\n",
        "\n",
        "exact16 = [simple_regret_exact_1[slice16],\n",
        "       simple_regret_exact_2[slice16],\n",
        "       simple_regret_exact_3[slice16],\n",
        "       simple_regret_exact_4[slice16],\n",
        "       simple_regret_exact_5[slice16],\n",
        "       simple_regret_exact_6[slice16],\n",
        "       simple_regret_exact_7[slice16],\n",
        "       simple_regret_exact_8[slice16],\n",
        "       simple_regret_exact_9[slice16],\n",
        "       simple_regret_exact_10[slice16],\n",
        "       simple_regret_exact_11[slice16],\n",
        "       simple_regret_exact_12[slice16],\n",
        "       simple_regret_exact_13[slice16],\n",
        "       simple_regret_exact_14[slice16],\n",
        "       simple_regret_exact_15[slice16],\n",
        "       simple_regret_exact_16[slice16],\n",
        "       simple_regret_exact_17[slice16],\n",
        "       simple_regret_exact_18[slice16],\n",
        "       simple_regret_exact_19[slice16],\n",
        "       simple_regret_exact_20[slice16]]\n",
        "\n",
        "approx16_results = pd.DataFrame(approx16).sort_values(by=[0], ascending=False)\n",
        "exact16_results = pd.DataFrame(exact16).sort_values(by=[0], ascending=False)\n",
        "\n",
        "### Best simple regret minimization IQR - approx:\n",
        "lower_approx16 = np.asarray(approx16_results[4:5][0])[0]\n",
        "median_approx16 = np.asarray(approx16_results[9:10][0])[0]\n",
        "upper_approx16 = np.asarray(approx16_results[14:15][0])[0]\n",
        "\n",
        "lower_exact16 = np.asarray(exact16_results[4:5][0])[0]\n",
        "median_exact16 = np.asarray(exact16_results[9:10][0])[0]\n",
        "upper_exact16 = np.asarray(exact16_results[14:15][0])[0]\n"
      ]
    },
    {
      "cell_type": "code",
      "execution_count": 86,
      "metadata": {
        "id": "OcLUACB0JLmM"
      },
      "outputs": [],
      "source": [
        "# Iteration7 :\n",
        "\n",
        "slice7 = 6\n",
        "\n",
        "approx7 = [simple_regret_approx_1[slice7],\n",
        "       simple_regret_approx_2[slice7],\n",
        "       simple_regret_approx_3[slice7],\n",
        "       simple_regret_approx_4[slice7],\n",
        "       simple_regret_approx_5[slice7],\n",
        "       simple_regret_approx_6[slice7],\n",
        "       simple_regret_approx_7[slice7],\n",
        "       simple_regret_approx_8[slice7],\n",
        "       simple_regret_approx_9[slice7],\n",
        "       simple_regret_approx_10[slice7],\n",
        "       simple_regret_approx_11[slice7],\n",
        "       simple_regret_approx_12[slice7],\n",
        "       simple_regret_approx_13[slice7],\n",
        "       simple_regret_approx_14[slice7],\n",
        "       simple_regret_approx_15[slice7],\n",
        "       simple_regret_approx_16[slice7],\n",
        "       simple_regret_approx_17[slice7],\n",
        "       simple_regret_approx_18[slice7],\n",
        "       simple_regret_approx_19[slice7],\n",
        "       simple_regret_approx_20[slice7]]\n",
        "\n",
        "exact7 = [simple_regret_exact_1[slice7],\n",
        "       simple_regret_exact_2[slice7],\n",
        "       simple_regret_exact_3[slice7],\n",
        "       simple_regret_exact_4[slice7],\n",
        "       simple_regret_exact_5[slice7],\n",
        "       simple_regret_exact_6[slice7],\n",
        "       simple_regret_exact_7[slice7],\n",
        "       simple_regret_exact_8[slice7],\n",
        "       simple_regret_exact_9[slice7],\n",
        "       simple_regret_exact_10[slice7],\n",
        "       simple_regret_exact_11[slice7],\n",
        "       simple_regret_exact_12[slice7],\n",
        "       simple_regret_exact_13[slice7],\n",
        "       simple_regret_exact_14[slice7],\n",
        "       simple_regret_exact_15[slice7],\n",
        "       simple_regret_exact_16[slice7],\n",
        "       simple_regret_exact_17[slice7],\n",
        "       simple_regret_exact_18[slice7],\n",
        "       simple_regret_exact_19[slice7],\n",
        "       simple_regret_exact_20[slice7]]\n",
        "\n",
        "approx7_results = pd.DataFrame(approx7).sort_values(by=[0], ascending=False)\n",
        "exact7_results = pd.DataFrame(exact7).sort_values(by=[0], ascending=False)\n",
        "\n",
        "### Best simple regret minimization IQR - approx:\n",
        "lower_approx7 = np.asarray(approx7_results[4:5][0])[0]\n",
        "median_approx7 = np.asarray(approx7_results[9:10][0])[0]\n",
        "upper_approx7 = np.asarray(approx7_results[14:15][0])[0]\n",
        "\n",
        "lower_exact7 = np.asarray(exact7_results[4:5][0])[0]\n",
        "median_exact7 = np.asarray(exact7_results[9:10][0])[0]\n",
        "upper_exact7 = np.asarray(exact7_results[14:15][0])[0]\n"
      ]
    },
    {
      "cell_type": "code",
      "execution_count": 87,
      "metadata": {
        "id": "q-Fd0t3kJLmN"
      },
      "outputs": [],
      "source": [
        "# Iteration17 :\n",
        "\n",
        "slice17 = 16\n",
        "\n",
        "approx17 = [simple_regret_approx_1[slice17],\n",
        "       simple_regret_approx_2[slice17],\n",
        "       simple_regret_approx_3[slice17],\n",
        "       simple_regret_approx_4[slice17],\n",
        "       simple_regret_approx_5[slice17],\n",
        "       simple_regret_approx_6[slice17],\n",
        "       simple_regret_approx_7[slice17],\n",
        "       simple_regret_approx_8[slice17],\n",
        "       simple_regret_approx_9[slice17],\n",
        "       simple_regret_approx_10[slice17],\n",
        "       simple_regret_approx_11[slice17],\n",
        "       simple_regret_approx_12[slice17],\n",
        "       simple_regret_approx_13[slice17],\n",
        "       simple_regret_approx_14[slice17],\n",
        "       simple_regret_approx_15[slice17],\n",
        "       simple_regret_approx_16[slice17],\n",
        "       simple_regret_approx_17[slice17],\n",
        "       simple_regret_approx_18[slice17],\n",
        "       simple_regret_approx_19[slice17],\n",
        "       simple_regret_approx_20[slice17]]\n",
        "\n",
        "exact17 = [simple_regret_exact_1[slice17],\n",
        "       simple_regret_exact_2[slice17],\n",
        "       simple_regret_exact_3[slice17],\n",
        "       simple_regret_exact_4[slice17],\n",
        "       simple_regret_exact_5[slice17],\n",
        "       simple_regret_exact_6[slice17],\n",
        "       simple_regret_exact_7[slice17],\n",
        "       simple_regret_exact_8[slice17],\n",
        "       simple_regret_exact_9[slice17],\n",
        "       simple_regret_exact_10[slice17],\n",
        "       simple_regret_exact_11[slice17],\n",
        "       simple_regret_exact_12[slice17],\n",
        "       simple_regret_exact_13[slice17],\n",
        "       simple_regret_exact_14[slice17],\n",
        "       simple_regret_exact_15[slice17],\n",
        "       simple_regret_exact_16[slice17],\n",
        "       simple_regret_exact_17[slice17],\n",
        "       simple_regret_exact_18[slice17],\n",
        "       simple_regret_exact_19[slice17],\n",
        "       simple_regret_exact_20[slice17]]\n",
        "\n",
        "approx17_results = pd.DataFrame(approx17).sort_values(by=[0], ascending=False)\n",
        "exact17_results = pd.DataFrame(exact17).sort_values(by=[0], ascending=False)\n",
        "\n",
        "### Best simple regret minimization IQR - approx:\n",
        "lower_approx17 = np.asarray(approx17_results[4:5][0])[0]\n",
        "median_approx17 = np.asarray(approx17_results[9:10][0])[0]\n",
        "upper_approx17 = np.asarray(approx17_results[14:15][0])[0]\n",
        "\n",
        "lower_exact17 = np.asarray(exact17_results[4:5][0])[0]\n",
        "median_exact17 = np.asarray(exact17_results[9:10][0])[0]\n",
        "upper_exact17 = np.asarray(exact17_results[14:15][0])[0]\n"
      ]
    },
    {
      "cell_type": "code",
      "execution_count": 88,
      "metadata": {
        "id": "JueXVbnGJLmU"
      },
      "outputs": [],
      "source": [
        "# Iteration8 :\n",
        "\n",
        "slice8 = 7\n",
        "\n",
        "approx8 = [simple_regret_approx_1[slice8],\n",
        "       simple_regret_approx_2[slice8],\n",
        "       simple_regret_approx_3[slice8],\n",
        "       simple_regret_approx_4[slice8],\n",
        "       simple_regret_approx_5[slice8],\n",
        "       simple_regret_approx_6[slice8],\n",
        "       simple_regret_approx_7[slice8],\n",
        "       simple_regret_approx_8[slice8],\n",
        "       simple_regret_approx_9[slice8],\n",
        "       simple_regret_approx_10[slice8],\n",
        "       simple_regret_approx_11[slice8],\n",
        "       simple_regret_approx_12[slice8],\n",
        "       simple_regret_approx_13[slice8],\n",
        "       simple_regret_approx_14[slice8],\n",
        "       simple_regret_approx_15[slice8],\n",
        "       simple_regret_approx_16[slice8],\n",
        "       simple_regret_approx_17[slice8],\n",
        "       simple_regret_approx_18[slice8],\n",
        "       simple_regret_approx_19[slice8],\n",
        "       simple_regret_approx_20[slice8]]\n",
        "\n",
        "exact8 = [simple_regret_exact_1[slice8],\n",
        "       simple_regret_exact_2[slice8],\n",
        "       simple_regret_exact_3[slice8],\n",
        "       simple_regret_exact_4[slice8],\n",
        "       simple_regret_exact_5[slice8],\n",
        "       simple_regret_exact_6[slice8],\n",
        "       simple_regret_exact_7[slice8],\n",
        "       simple_regret_exact_8[slice8],\n",
        "       simple_regret_exact_9[slice8],\n",
        "       simple_regret_exact_10[slice8],\n",
        "       simple_regret_exact_11[slice8],\n",
        "       simple_regret_exact_12[slice8],\n",
        "       simple_regret_exact_13[slice8],\n",
        "       simple_regret_exact_14[slice8],\n",
        "       simple_regret_exact_15[slice8],\n",
        "       simple_regret_exact_16[slice8],\n",
        "       simple_regret_exact_17[slice8],\n",
        "       simple_regret_exact_18[slice8],\n",
        "       simple_regret_exact_19[slice8],\n",
        "       simple_regret_exact_20[slice8]]\n",
        "\n",
        "approx8_results = pd.DataFrame(approx8).sort_values(by=[0], ascending=False)\n",
        "exact8_results = pd.DataFrame(exact8).sort_values(by=[0], ascending=False)\n",
        "\n",
        "### Best simple regret minimization IQR - approx:\n",
        "lower_approx8 = np.asarray(approx8_results[4:5][0])[0]\n",
        "median_approx8 = np.asarray(approx8_results[9:10][0])[0]\n",
        "upper_approx8 = np.asarray(approx8_results[14:15][0])[0]\n",
        "\n",
        "lower_exact8 = np.asarray(exact8_results[4:5][0])[0]\n",
        "median_exact8 = np.asarray(exact8_results[9:10][0])[0]\n",
        "upper_exact8 = np.asarray(exact8_results[14:15][0])[0]\n"
      ]
    },
    {
      "cell_type": "code",
      "execution_count": 89,
      "metadata": {
        "id": "mnFJ7maJJLmU"
      },
      "outputs": [],
      "source": [
        "# Iteration18 :\n",
        "\n",
        "slice18 = 17\n",
        "\n",
        "approx18 = [simple_regret_approx_1[slice18],\n",
        "       simple_regret_approx_2[slice18],\n",
        "       simple_regret_approx_3[slice18],\n",
        "       simple_regret_approx_4[slice18],\n",
        "       simple_regret_approx_5[slice18],\n",
        "       simple_regret_approx_6[slice18],\n",
        "       simple_regret_approx_7[slice18],\n",
        "       simple_regret_approx_8[slice18],\n",
        "       simple_regret_approx_9[slice18],\n",
        "       simple_regret_approx_10[slice18],\n",
        "       simple_regret_approx_11[slice18],\n",
        "       simple_regret_approx_12[slice18],\n",
        "       simple_regret_approx_13[slice18],\n",
        "       simple_regret_approx_14[slice18],\n",
        "       simple_regret_approx_15[slice18],\n",
        "       simple_regret_approx_16[slice18],\n",
        "       simple_regret_approx_17[slice18],\n",
        "       simple_regret_approx_18[slice18],\n",
        "       simple_regret_approx_19[slice18],\n",
        "       simple_regret_approx_20[slice18]]\n",
        "\n",
        "exact18 = [simple_regret_exact_1[slice18],\n",
        "       simple_regret_exact_2[slice18],\n",
        "       simple_regret_exact_3[slice18],\n",
        "       simple_regret_exact_4[slice18],\n",
        "       simple_regret_exact_5[slice18],\n",
        "       simple_regret_exact_6[slice18],\n",
        "       simple_regret_exact_7[slice18],\n",
        "       simple_regret_exact_8[slice18],\n",
        "       simple_regret_exact_9[slice18],\n",
        "       simple_regret_exact_10[slice18],\n",
        "       simple_regret_exact_11[slice18],\n",
        "       simple_regret_exact_12[slice18],\n",
        "       simple_regret_exact_13[slice18],\n",
        "       simple_regret_exact_14[slice18],\n",
        "       simple_regret_exact_15[slice18],\n",
        "       simple_regret_exact_16[slice18],\n",
        "       simple_regret_exact_17[slice18],\n",
        "       simple_regret_exact_18[slice18],\n",
        "       simple_regret_exact_19[slice18],\n",
        "       simple_regret_exact_20[slice18]]\n",
        "\n",
        "approx18_results = pd.DataFrame(approx18).sort_values(by=[0], ascending=False)\n",
        "exact18_results = pd.DataFrame(exact18).sort_values(by=[0], ascending=False)\n",
        "\n",
        "### Best simple regret minimization IQR - approx:\n",
        "lower_approx18 = np.asarray(approx18_results[4:5][0])[0]\n",
        "median_approx18 = np.asarray(approx18_results[9:10][0])[0]\n",
        "upper_approx18 = np.asarray(approx18_results[14:15][0])[0]\n",
        "\n",
        "lower_exact18 = np.asarray(exact18_results[4:5][0])[0]\n",
        "median_exact18 = np.asarray(exact18_results[9:10][0])[0]\n",
        "upper_exact18 = np.asarray(exact18_results[14:15][0])[0]\n"
      ]
    },
    {
      "cell_type": "code",
      "execution_count": 90,
      "metadata": {
        "id": "ll-p_qWUJLmb"
      },
      "outputs": [],
      "source": [
        "# Iteration9 :\n",
        "\n",
        "slice9 = 8\n",
        "\n",
        "approx9 = [simple_regret_approx_1[slice9],\n",
        "       simple_regret_approx_2[slice9],\n",
        "       simple_regret_approx_3[slice9],\n",
        "       simple_regret_approx_4[slice9],\n",
        "       simple_regret_approx_5[slice9],\n",
        "       simple_regret_approx_6[slice9],\n",
        "       simple_regret_approx_7[slice9],\n",
        "       simple_regret_approx_8[slice9],\n",
        "       simple_regret_approx_9[slice9],\n",
        "       simple_regret_approx_10[slice9],\n",
        "       simple_regret_approx_11[slice9],\n",
        "       simple_regret_approx_12[slice9],\n",
        "       simple_regret_approx_13[slice9],\n",
        "       simple_regret_approx_14[slice9],\n",
        "       simple_regret_approx_15[slice9],\n",
        "       simple_regret_approx_16[slice9],\n",
        "       simple_regret_approx_17[slice9],\n",
        "       simple_regret_approx_18[slice9],\n",
        "       simple_regret_approx_19[slice9],\n",
        "       simple_regret_approx_20[slice9]]\n",
        "\n",
        "exact9 = [simple_regret_exact_1[slice9],\n",
        "       simple_regret_exact_2[slice9],\n",
        "       simple_regret_exact_3[slice9],\n",
        "       simple_regret_exact_4[slice9],\n",
        "       simple_regret_exact_5[slice9],\n",
        "       simple_regret_exact_6[slice9],\n",
        "       simple_regret_exact_7[slice9],\n",
        "       simple_regret_exact_8[slice9],\n",
        "       simple_regret_exact_9[slice9],\n",
        "       simple_regret_exact_10[slice9],\n",
        "       simple_regret_exact_11[slice9],\n",
        "       simple_regret_exact_12[slice9],\n",
        "       simple_regret_exact_13[slice9],\n",
        "       simple_regret_exact_14[slice9],\n",
        "       simple_regret_exact_15[slice9],\n",
        "       simple_regret_exact_16[slice9],\n",
        "       simple_regret_exact_17[slice9],\n",
        "       simple_regret_exact_18[slice9],\n",
        "       simple_regret_exact_19[slice9],\n",
        "       simple_regret_exact_20[slice9]]\n",
        "\n",
        "approx9_results = pd.DataFrame(approx9).sort_values(by=[0], ascending=False)\n",
        "exact9_results = pd.DataFrame(exact9).sort_values(by=[0], ascending=False)\n",
        "\n",
        "### Best simple regret minimization IQR - approx:\n",
        "lower_approx9 = np.asarray(approx9_results[4:5][0])[0]\n",
        "median_approx9 = np.asarray(approx9_results[9:10][0])[0]\n",
        "upper_approx9 = np.asarray(approx9_results[14:15][0])[0]\n",
        "\n",
        "lower_exact9 = np.asarray(exact9_results[4:5][0])[0]\n",
        "median_exact9 = np.asarray(exact9_results[9:10][0])[0]\n",
        "upper_exact9 = np.asarray(exact9_results[14:15][0])[0]\n"
      ]
    },
    {
      "cell_type": "code",
      "execution_count": 91,
      "metadata": {
        "id": "G3QVtLpJJLmc"
      },
      "outputs": [],
      "source": [
        "# Iteration19 :\n",
        "\n",
        "slice19 = 18\n",
        "\n",
        "approx19 = [simple_regret_approx_1[slice19],\n",
        "       simple_regret_approx_2[slice19],\n",
        "       simple_regret_approx_3[slice19],\n",
        "       simple_regret_approx_4[slice19],\n",
        "       simple_regret_approx_5[slice19],\n",
        "       simple_regret_approx_6[slice19],\n",
        "       simple_regret_approx_7[slice19],\n",
        "       simple_regret_approx_8[slice19],\n",
        "       simple_regret_approx_9[slice19],\n",
        "       simple_regret_approx_10[slice19],\n",
        "       simple_regret_approx_11[slice19],\n",
        "       simple_regret_approx_12[slice19],\n",
        "       simple_regret_approx_13[slice19],\n",
        "       simple_regret_approx_14[slice19],\n",
        "       simple_regret_approx_15[slice19],\n",
        "       simple_regret_approx_16[slice19],\n",
        "       simple_regret_approx_17[slice19],\n",
        "       simple_regret_approx_18[slice19],\n",
        "       simple_regret_approx_19[slice19],\n",
        "       simple_regret_approx_20[slice19]]\n",
        "\n",
        "exact19 = [simple_regret_exact_1[slice19],\n",
        "       simple_regret_exact_2[slice19],\n",
        "       simple_regret_exact_3[slice19],\n",
        "       simple_regret_exact_4[slice19],\n",
        "       simple_regret_exact_5[slice19],\n",
        "       simple_regret_exact_6[slice19],\n",
        "       simple_regret_exact_7[slice19],\n",
        "       simple_regret_exact_8[slice19],\n",
        "       simple_regret_exact_9[slice19],\n",
        "       simple_regret_exact_10[slice19],\n",
        "       simple_regret_exact_11[slice19],\n",
        "       simple_regret_exact_12[slice19],\n",
        "       simple_regret_exact_13[slice19],\n",
        "       simple_regret_exact_14[slice19],\n",
        "       simple_regret_exact_15[slice19],\n",
        "       simple_regret_exact_16[slice19],\n",
        "       simple_regret_exact_17[slice19],\n",
        "       simple_regret_exact_18[slice19],\n",
        "       simple_regret_exact_19[slice19],\n",
        "       simple_regret_exact_20[slice19]]\n",
        "\n",
        "approx19_results = pd.DataFrame(approx19).sort_values(by=[0], ascending=False)\n",
        "exact19_results = pd.DataFrame(exact19).sort_values(by=[0], ascending=False)\n",
        "\n",
        "### Best simple regret minimization IQR - approx:\n",
        "lower_approx19 = np.asarray(approx19_results[4:5][0])[0]\n",
        "median_approx19 = np.asarray(approx19_results[9:10][0])[0]\n",
        "upper_approx19 = np.asarray(approx19_results[14:15][0])[0]\n",
        "\n",
        "lower_exact19 = np.asarray(exact19_results[4:5][0])[0]\n",
        "median_exact19 = np.asarray(exact19_results[9:10][0])[0]\n",
        "upper_exact19 = np.asarray(exact19_results[14:15][0])[0]\n"
      ]
    },
    {
      "cell_type": "code",
      "execution_count": 92,
      "metadata": {
        "id": "IzQng-ULJLmj"
      },
      "outputs": [],
      "source": [
        "# Iteration10 :\n",
        "\n",
        "slice10 = 9\n",
        "\n",
        "approx10 = [simple_regret_approx_1[slice10],\n",
        "       simple_regret_approx_2[slice10],\n",
        "       simple_regret_approx_3[slice10],\n",
        "       simple_regret_approx_4[slice10],\n",
        "       simple_regret_approx_5[slice10],\n",
        "       simple_regret_approx_6[slice10],\n",
        "       simple_regret_approx_7[slice10],\n",
        "       simple_regret_approx_8[slice10],\n",
        "       simple_regret_approx_9[slice10],\n",
        "       simple_regret_approx_10[slice10],\n",
        "       simple_regret_approx_11[slice10],\n",
        "       simple_regret_approx_12[slice10],\n",
        "       simple_regret_approx_13[slice10],\n",
        "       simple_regret_approx_14[slice10],\n",
        "       simple_regret_approx_15[slice10],\n",
        "       simple_regret_approx_16[slice10],\n",
        "       simple_regret_approx_17[slice10],\n",
        "       simple_regret_approx_18[slice10],\n",
        "       simple_regret_approx_19[slice10],\n",
        "       simple_regret_approx_20[slice10]]\n",
        "\n",
        "exact10 = [simple_regret_exact_1[slice10],\n",
        "       simple_regret_exact_2[slice10],\n",
        "       simple_regret_exact_3[slice10],\n",
        "       simple_regret_exact_4[slice10],\n",
        "       simple_regret_exact_5[slice10],\n",
        "       simple_regret_exact_6[slice10],\n",
        "       simple_regret_exact_7[slice10],\n",
        "       simple_regret_exact_8[slice10],\n",
        "       simple_regret_exact_9[slice10],\n",
        "       simple_regret_exact_10[slice10],\n",
        "       simple_regret_exact_11[slice10],\n",
        "       simple_regret_exact_12[slice10],\n",
        "       simple_regret_exact_13[slice10],\n",
        "       simple_regret_exact_14[slice10],\n",
        "       simple_regret_exact_15[slice10],\n",
        "       simple_regret_exact_16[slice10],\n",
        "       simple_regret_exact_17[slice10],\n",
        "       simple_regret_exact_18[slice10],\n",
        "       simple_regret_exact_19[slice10],\n",
        "       simple_regret_exact_20[slice10]]\n",
        "\n",
        "approx10_results = pd.DataFrame(approx10).sort_values(by=[0], ascending=False)\n",
        "exact10_results = pd.DataFrame(exact10).sort_values(by=[0], ascending=False)\n",
        "\n",
        "### Best simple regret minimization IQR - approx:\n",
        "lower_approx10 = np.asarray(approx10_results[4:5][0])[0]\n",
        "median_approx10 = np.asarray(approx10_results[9:10][0])[0]\n",
        "upper_approx10 = np.asarray(approx10_results[14:15][0])[0]\n",
        "\n",
        "lower_exact10 = np.asarray(exact10_results[4:5][0])[0]\n",
        "median_exact10 = np.asarray(exact10_results[9:10][0])[0]\n",
        "upper_exact10 = np.asarray(exact10_results[14:15][0])[0]\n"
      ]
    },
    {
      "cell_type": "code",
      "execution_count": 93,
      "metadata": {
        "id": "DQ_Cuh-4JLmk"
      },
      "outputs": [],
      "source": [
        "# Iteration20 :\n",
        "\n",
        "slice20 = 19\n",
        "\n",
        "approx20 = [simple_regret_approx_1[slice20],\n",
        "       simple_regret_approx_2[slice20],\n",
        "       simple_regret_approx_3[slice20],\n",
        "       simple_regret_approx_4[slice20],\n",
        "       simple_regret_approx_5[slice20],\n",
        "       simple_regret_approx_6[slice20],\n",
        "       simple_regret_approx_7[slice20],\n",
        "       simple_regret_approx_8[slice20],\n",
        "       simple_regret_approx_9[slice20],\n",
        "       simple_regret_approx_10[slice20],\n",
        "       simple_regret_approx_11[slice20],\n",
        "       simple_regret_approx_12[slice20],\n",
        "       simple_regret_approx_13[slice20],\n",
        "       simple_regret_approx_14[slice20],\n",
        "       simple_regret_approx_15[slice20],\n",
        "       simple_regret_approx_16[slice20],\n",
        "       simple_regret_approx_17[slice20],\n",
        "       simple_regret_approx_18[slice20],\n",
        "       simple_regret_approx_19[slice20],\n",
        "       simple_regret_approx_20[slice20]]\n",
        "\n",
        "exact20 = [simple_regret_exact_1[slice20],\n",
        "       simple_regret_exact_2[slice20],\n",
        "       simple_regret_exact_3[slice20],\n",
        "       simple_regret_exact_4[slice20],\n",
        "       simple_regret_exact_5[slice20],\n",
        "       simple_regret_exact_6[slice20],\n",
        "       simple_regret_exact_7[slice20],\n",
        "       simple_regret_exact_8[slice20],\n",
        "       simple_regret_exact_9[slice20],\n",
        "       simple_regret_exact_10[slice20],\n",
        "       simple_regret_exact_11[slice20],\n",
        "       simple_regret_exact_12[slice20],\n",
        "       simple_regret_exact_13[slice20],\n",
        "       simple_regret_exact_14[slice20],\n",
        "       simple_regret_exact_15[slice20],\n",
        "       simple_regret_exact_16[slice20],\n",
        "       simple_regret_exact_17[slice20],\n",
        "       simple_regret_exact_18[slice20],\n",
        "       simple_regret_exact_19[slice20],\n",
        "       simple_regret_exact_20[slice20]]\n",
        "\n",
        "approx20_results = pd.DataFrame(approx20).sort_values(by=[0], ascending=False)\n",
        "exact20_results = pd.DataFrame(exact20).sort_values(by=[0], ascending=False)\n",
        "\n",
        "### Best simple regret minimization IQR - approx:\n",
        "lower_approx20 = np.asarray(approx20_results[4:5][0])[0]\n",
        "median_approx20 = np.asarray(approx20_results[9:10][0])[0]\n",
        "upper_approx20 = np.asarray(approx20_results[14:15][0])[0]\n",
        "\n",
        "lower_exact20 = np.asarray(exact20_results[4:5][0])[0]\n",
        "median_exact20 = np.asarray(exact20_results[9:10][0])[0]\n",
        "upper_exact20 = np.asarray(exact20_results[14:15][0])[0]\n"
      ]
    },
    {
      "cell_type": "code",
      "execution_count": 94,
      "metadata": {
        "id": "R1gk3HGTJLms"
      },
      "outputs": [],
      "source": [
        "### Summarise arrays: 'GP EI'\n",
        "\n",
        "lower_approx = [lower_approx1,\n",
        "            lower_approx2,\n",
        "            lower_approx3,\n",
        "            lower_approx4,\n",
        "            lower_approx5,\n",
        "            lower_approx6,\n",
        "            lower_approx7,\n",
        "            lower_approx8,\n",
        "            lower_approx9,\n",
        "            lower_approx10,\n",
        "            lower_approx11,\n",
        "            lower_approx12,\n",
        "            lower_approx13,\n",
        "            lower_approx14,\n",
        "            lower_approx15,\n",
        "            lower_approx16,\n",
        "            lower_approx17,\n",
        "            lower_approx18,\n",
        "            lower_approx19,\n",
        "            lower_approx20,\n",
        "            lower_approx21]\n",
        "\n",
        "median_approx = [median_approx1,\n",
        "            median_approx2,\n",
        "            median_approx3,\n",
        "            median_approx4,\n",
        "            median_approx5,\n",
        "            median_approx6,\n",
        "            median_approx7,\n",
        "            median_approx8,\n",
        "            median_approx9,\n",
        "            median_approx10,\n",
        "            median_approx11,\n",
        "            median_approx12,\n",
        "            median_approx13,\n",
        "            median_approx14,\n",
        "            median_approx15,\n",
        "            median_approx16,\n",
        "            median_approx17,\n",
        "            median_approx18,\n",
        "            median_approx19,\n",
        "            median_approx20,\n",
        "            median_approx21]\n",
        "\n",
        "upper_approx = [upper_approx1,\n",
        "            upper_approx2,\n",
        "            upper_approx3,\n",
        "            upper_approx4,\n",
        "            upper_approx5,\n",
        "            upper_approx6,\n",
        "            upper_approx7,\n",
        "            upper_approx8,\n",
        "            upper_approx9,\n",
        "            upper_approx10,\n",
        "            upper_approx11,\n",
        "            upper_approx12,\n",
        "            upper_approx13,\n",
        "            upper_approx14,\n",
        "            upper_approx15,\n",
        "            upper_approx16,\n",
        "            upper_approx17,\n",
        "            upper_approx18,\n",
        "            upper_approx19,\n",
        "            upper_approx20,\n",
        "            upper_approx21]\n"
      ]
    },
    {
      "cell_type": "code",
      "execution_count": 95,
      "metadata": {
        "id": "jox8uqaeJLmu"
      },
      "outputs": [],
      "source": [
        "### Summarise arrays: 'GP dEI'\n",
        "\n",
        "lower_exact = [lower_exact1,\n",
        "            lower_exact2,\n",
        "            lower_exact3,\n",
        "            lower_exact4,\n",
        "            lower_exact5,\n",
        "            lower_exact6,\n",
        "            lower_exact7,\n",
        "            lower_exact8,\n",
        "            lower_exact9,\n",
        "            lower_exact10,\n",
        "            lower_exact11,\n",
        "            lower_exact12,\n",
        "            lower_exact13,\n",
        "            lower_exact14,\n",
        "            lower_exact15,\n",
        "            lower_exact16,\n",
        "            lower_exact17,\n",
        "            lower_exact18,\n",
        "            lower_exact19,\n",
        "            lower_exact20,\n",
        "            lower_exact21]\n",
        "\n",
        "median_exact = [median_exact1,\n",
        "            median_exact2,\n",
        "            median_exact3,\n",
        "            median_exact4,\n",
        "            median_exact5,\n",
        "            median_exact6,\n",
        "            median_exact7,\n",
        "            median_exact8,\n",
        "            median_exact9,\n",
        "            median_exact10,\n",
        "            median_exact11,\n",
        "            median_exact12,\n",
        "            median_exact13,\n",
        "            median_exact14,\n",
        "            median_exact15,\n",
        "            median_exact16,\n",
        "            median_exact17,\n",
        "            median_exact18,\n",
        "            median_exact19,\n",
        "            median_exact20,\n",
        "            median_exact21]\n",
        "\n",
        "upper_exact = [upper_exact1,\n",
        "            upper_exact2,\n",
        "            upper_exact3,\n",
        "            upper_exact4,\n",
        "            upper_exact5,\n",
        "            upper_exact6,\n",
        "            upper_exact7,\n",
        "            upper_exact8,\n",
        "            upper_exact9,\n",
        "            upper_exact10,\n",
        "            upper_exact11,\n",
        "            upper_exact12,\n",
        "            upper_exact13,\n",
        "            upper_exact14,\n",
        "            upper_exact15,\n",
        "            upper_exact16,\n",
        "            upper_exact17,\n",
        "            upper_exact18,\n",
        "            upper_exact19,\n",
        "            upper_exact20,\n",
        "            upper_exact21]\n"
      ]
    },
    {
      "cell_type": "code",
      "source": [
        "def extractAcqFuncMax(x):\n",
        "    new_array = []\n",
        "    x = np.array(x) \n",
        "    for i, num in enumerate(x):\n",
        "            new_array = x[::-1][:-1][::-3]\n",
        "    return new_array\n",
        "\n",
        "def exploitExtract(x):\n",
        "    new_array = []\n",
        "    x = np.array(x) \n",
        "    for i, num in enumerate(x):\n",
        "            new_array = x[::-1][:-2][::-3]\n",
        "    return new_array\n",
        "\n",
        "def extractTau(x):\n",
        "    new_array = []\n",
        "    x = np.array(x) \n",
        "    for i, num in enumerate(x):\n",
        "            new_array = x[::-1][:-3][::-3] * -1\n",
        "    return new_array\n"
      ],
      "metadata": {
        "id": "LMt1agnP73Ni"
      },
      "execution_count": 96,
      "outputs": []
    },
    {
      "cell_type": "code",
      "source": [
        "approx1_acqFuncMax = extractAcqFuncMax(approx_1.history) + eps\n",
        "approx1_exploit = exploitExtract(approx_1.history) + eps\n",
        "approx1_ratio = approx1_exploit/approx1_acqFuncMax \n",
        "\n",
        "np.round(approx1_acqFuncMax, 3), np.round(approx1_exploit,3)\n"
      ],
      "metadata": {
        "colab": {
          "base_uri": "https://localhost:8080/"
        },
        "id": "DVD6SnGctX7H",
        "outputId": "a956018d-0c35-4415-a4e9-17ff9e9ad700"
      },
      "execution_count": 97,
      "outputs": [
        {
          "output_type": "execute_result",
          "data": {
            "text/plain": [
              "(array([19.908, 19.908, 19.908, 19.908, 19.905, 19.845, 19.811, 19.566,\n",
              "        19.189, 19.165, 18.845, 18.718, 18.485, 17.488, 17.107,  9.912,\n",
              "         8.291,  7.514,  6.742,  6.577]),\n",
              " array([19.908, 19.908, 19.908, 19.908, 19.905, 19.845, 19.811, 19.566,\n",
              "        19.189, 19.165, 18.845, 18.718, 18.485, 17.488, 17.107,  9.912,\n",
              "         8.291,  7.513,  6.739,  6.573]))"
            ]
          },
          "metadata": {},
          "execution_count": 97
        }
      ]
    },
    {
      "cell_type": "code",
      "source": [
        "approx2_acqFuncMax = extractAcqFuncMax(approx_2.history) + eps\n",
        "approx2_exploit = exploitExtract(approx_2.history) + eps\n",
        "approx2_ratio = approx2_exploit/approx2_acqFuncMax\n",
        "\n",
        "np.round(approx2_acqFuncMax, 3), np.round(approx2_exploit, 3)\n"
      ],
      "metadata": {
        "colab": {
          "base_uri": "https://localhost:8080/"
        },
        "id": "7RNHlRgYvmb6",
        "outputId": "da56d948-57bd-4a25-b519-b937cecea26f"
      },
      "execution_count": 98,
      "outputs": [
        {
          "output_type": "execute_result",
          "data": {
            "text/plain": [
              "(array([18.965, 18.965, 18.964, 18.964, 18.961, 18.916, 18.838, 18.691,\n",
              "        18.482, 18.352, 17.876, 17.789, 17.641, 15.919, 15.482, 14.85 ,\n",
              "        14.701, 14.7  , 13.855,  9.909]),\n",
              " array([18.965, 18.965, 18.964, 18.964, 18.961, 18.916, 18.838, 18.691,\n",
              "        18.482, 18.352, 17.876, 17.789, 17.641, 15.919, 15.482, 14.85 ,\n",
              "        14.701, 14.7  , 13.855,  9.909]))"
            ]
          },
          "metadata": {},
          "execution_count": 98
        }
      ]
    },
    {
      "cell_type": "code",
      "source": [
        "approx3_acqFuncMax = extractAcqFuncMax(approx_3.history) + eps\n",
        "approx3_exploit = exploitExtract(approx_3.history) + eps\n",
        "approx3_ratio = approx3_exploit/approx3_acqFuncMax\n",
        "\n",
        "np.round(approx3_acqFuncMax, 3), np.round(approx3_exploit, 3)\n"
      ],
      "metadata": {
        "colab": {
          "base_uri": "https://localhost:8080/"
        },
        "id": "TQPZOVBxvmmw",
        "outputId": "2ec46b26-4091-475a-bdc1-d33fbcb5337a"
      },
      "execution_count": 99,
      "outputs": [
        {
          "output_type": "execute_result",
          "data": {
            "text/plain": [
              "(array([10.608, 10.608, 10.608, 10.567, 10.558, 10.552, 10.111,  9.976,\n",
              "         9.815,  9.678,  9.664,  9.164,  8.264,  7.299,  6.668,  5.5  ,\n",
              "         4.426,  4.762,  4.053,  3.492]),\n",
              " array([10.608, 10.608, 10.608, 10.567, 10.558, 10.552, 10.111,  9.976,\n",
              "         9.815,  9.678,  9.664,  8.264,  8.264,  7.298,  5.484,  5.484,\n",
              "         3.954,  4.716,  3.953,  2.961]))"
            ]
          },
          "metadata": {},
          "execution_count": 99
        }
      ]
    },
    {
      "cell_type": "code",
      "source": [
        "approx4_acqFuncMax = extractAcqFuncMax(approx_4.history) + eps\n",
        "approx4_exploit = exploitExtract(approx_4.history) + eps\n",
        "approx4_ratio = approx4_exploit/approx4_acqFuncMax\n",
        "\n",
        "np.round(approx4_acqFuncMax, 3), np.round(approx4_exploit, 3)\n"
      ],
      "metadata": {
        "colab": {
          "base_uri": "https://localhost:8080/"
        },
        "id": "GnRH8wU8vmvg",
        "outputId": "e3624ae0-0fd9-411a-8b60-f160e9ac91a0"
      },
      "execution_count": 100,
      "outputs": [
        {
          "output_type": "execute_result",
          "data": {
            "text/plain": [
              "(array([14.323, 14.323, 14.323, 14.311, 14.29 ,  9.743,  9.655,  9.595,\n",
              "         8.885,  9.281,  8.778,  8.726,  8.321,  8.08 ,  7.954,  7.135,\n",
              "         6.963,  4.571,  3.428,  2.762]),\n",
              " array([14.323, 14.323, 14.323, 14.311, 14.29 ,  9.743,  9.655,  9.595,\n",
              "         8.885,  9.281,  8.778,  8.726,  8.321,  8.08 ,  7.953,  7.134,\n",
              "         6.961,  4.514,  1.126,  1.518]))"
            ]
          },
          "metadata": {},
          "execution_count": 100
        }
      ]
    },
    {
      "cell_type": "code",
      "source": [
        "approx5_acqFuncMax = extractAcqFuncMax(approx_5.history) + eps\n",
        "approx5_exploit = exploitExtract(approx_5.history) + eps\n",
        "approx5_ratio = approx5_exploit/approx5_acqFuncMax\n",
        "\n",
        "np.round(approx5_acqFuncMax, 3), np.round(approx5_exploit, 3)\n"
      ],
      "metadata": {
        "colab": {
          "base_uri": "https://localhost:8080/"
        },
        "id": "qlQrBWFjvm5V",
        "outputId": "45db5028-580e-40a0-eafe-a03b45393e8b"
      },
      "execution_count": 101,
      "outputs": [
        {
          "output_type": "execute_result",
          "data": {
            "text/plain": [
              "(array([7.811, 7.811, 7.809, 7.798, 7.793, 7.791, 7.581, 7.42 , 7.426,\n",
              "        7.264, 6.71 , 6.596, 6.119, 5.904, 5.79 , 5.696, 4.375, 3.608,\n",
              "        5.25 , 4.15 ]),\n",
              " array([7.81 , 7.81 , 7.809, 7.798, 7.793, 7.791, 7.581, 7.419, 7.426,\n",
              "        7.262, 6.707, 6.592, 6.111, 5.893, 5.778, 5.683, 4.323, 3.461,\n",
              "        4.07 , 4.07 ]))"
            ]
          },
          "metadata": {},
          "execution_count": 101
        }
      ]
    },
    {
      "cell_type": "code",
      "source": [
        "approx6_acqFuncMax = extractAcqFuncMax(approx_6.history) + eps\n",
        "approx6_exploit = exploitExtract(approx_6.history) + eps\n",
        "approx6_ratio = approx6_exploit/approx6_acqFuncMax\n",
        "\n",
        "np.round(approx6_acqFuncMax, 3), np.round(approx6_exploit, 3)\n"
      ],
      "metadata": {
        "colab": {
          "base_uri": "https://localhost:8080/"
        },
        "id": "Ikyi5fCtvnCI",
        "outputId": "9219beae-a40e-422f-dbbf-5bfd31a55ebb"
      },
      "execution_count": 102,
      "outputs": [
        {
          "output_type": "execute_result",
          "data": {
            "text/plain": [
              "(array([17.29 , 17.29 , 17.289, 17.288, 17.273, 17.25 , 17.042, 16.648,\n",
              "        16.389, 16.362, 15.539,  8.277,  7.653,  7.158,  6.905,  5.861,\n",
              "         5.001,  4.95 ,  4.019,  3.62 ]),\n",
              " array([17.29 , 17.29 , 17.289, 17.288, 17.273, 17.25 , 17.042, 16.648,\n",
              "        16.389, 16.362, 15.539,  8.277,  7.652,  7.157,  6.903,  5.851,\n",
              "         4.967,  4.925,  3.914,  3.825]))"
            ]
          },
          "metadata": {},
          "execution_count": 102
        }
      ]
    },
    {
      "cell_type": "code",
      "source": [
        "approx7_acqFuncMax = extractAcqFuncMax(approx_7.history) + eps\n",
        "approx7_exploit = exploitExtract(approx_7.history) + eps\n",
        "approx7_ratio = approx7_exploit/approx7_acqFuncMax\n",
        "\n",
        "np.round(approx7_acqFuncMax, 3), np.round(approx7_exploit, 3)\n"
      ],
      "metadata": {
        "colab": {
          "base_uri": "https://localhost:8080/"
        },
        "id": "SocrfrpHvnKw",
        "outputId": "3f0d8eeb-43cb-48ea-9ef4-c43025d474b7"
      },
      "execution_count": 103,
      "outputs": [
        {
          "output_type": "execute_result",
          "data": {
            "text/plain": [
              "(array([22.522, 22.522, 22.522, 22.522, 22.466, 21.27 , 20.892, 20.763,\n",
              "        20.228, 20.096, 20.097, 19.598, 19.518, 18.894, 18.745, 15.706,\n",
              "        16.042, 14.36 , 14.17 ,  6.391]),\n",
              " array([22.522, 22.522, 22.522, 22.522, 22.466, 21.27 , 20.892, 20.763,\n",
              "        20.228, 20.096, 20.097, 19.598, 19.518, 18.894, 18.745, 15.706,\n",
              "        16.042, 14.173, 14.17 ,  6.386]))"
            ]
          },
          "metadata": {},
          "execution_count": 103
        }
      ]
    },
    {
      "cell_type": "code",
      "source": [
        "approx8_acqFuncMax = extractAcqFuncMax(approx_8.history) + eps\n",
        "approx8_exploit = exploitExtract(approx_8.history) + eps\n",
        "approx8_ratio = approx8_exploit/approx8_acqFuncMax\n",
        "\n",
        "np.round(approx8_acqFuncMax, 3), np.round(approx8_exploit, 3)\n"
      ],
      "metadata": {
        "colab": {
          "base_uri": "https://localhost:8080/"
        },
        "id": "Zmy0_HJevnTH",
        "outputId": "2f12f00f-70e6-403a-dbb3-5461208211aa"
      },
      "execution_count": 104,
      "outputs": [
        {
          "output_type": "execute_result",
          "data": {
            "text/plain": [
              "(array([13.872, 13.872, 13.872, 13.87 , 13.85 , 13.555, 13.17 , 13.519,\n",
              "        13.17 , 12.539, 12.389, 12.326, 11.769, 10.793, 10.797, 10.022,\n",
              "         9.772,  8.724,  8.574,  7.983]),\n",
              " array([13.872, 13.872, 13.872, 13.87 , 13.85 , 13.555, 13.17 , 13.519,\n",
              "        13.17 , 12.539, 12.389, 12.326, 11.769, 10.793, 10.797, 10.022,\n",
              "         9.772,  8.724,  8.574,  7.982]))"
            ]
          },
          "metadata": {},
          "execution_count": 104
        }
      ]
    },
    {
      "cell_type": "code",
      "source": [
        "approx9_acqFuncMax = extractAcqFuncMax(approx_9.history) + eps\n",
        "approx9_exploit = exploitExtract(approx_9.history) + eps\n",
        "approx9_ratio = approx9_exploit/approx9_acqFuncMax\n",
        "\n",
        "np.round(approx9_acqFuncMax, 3), np.round(approx9_exploit, 3)\n"
      ],
      "metadata": {
        "colab": {
          "base_uri": "https://localhost:8080/"
        },
        "id": "0sxBONQwvncD",
        "outputId": "e8b1cf13-f7c0-41ac-b356-f88ec974bc50"
      },
      "execution_count": 105,
      "outputs": [
        {
          "output_type": "execute_result",
          "data": {
            "text/plain": [
              "(array([24.455, 24.455, 24.455, 24.453, 24.453, 24.25 , 24.161, 24.064,\n",
              "        23.979, 23.939, 23.787, 23.091, 21.041, 22.759, 20.834, 20.603,\n",
              "        19.036, 12.739, 11.092,  9.128]),\n",
              " array([24.455, 24.455, 24.455, 24.453, 24.453, 24.25 , 24.161, 24.064,\n",
              "        23.979, 23.939, 23.787, 23.091, 21.041, 22.759, 20.834, 20.603,\n",
              "        19.036, 12.739, 11.092,  9.128]))"
            ]
          },
          "metadata": {},
          "execution_count": 105
        }
      ]
    },
    {
      "cell_type": "code",
      "source": [
        "approx10_acqFuncMax = extractAcqFuncMax(approx_10.history) + eps\n",
        "approx10_exploit = exploitExtract(approx_10.history) + eps\n",
        "approx10_ratio = approx10_exploit/approx10_acqFuncMax\n",
        "\n",
        "np.round(approx10_acqFuncMax, 3), np.round(approx10_exploit, 3)\n"
      ],
      "metadata": {
        "colab": {
          "base_uri": "https://localhost:8080/"
        },
        "id": "-hi6-IrGvnjw",
        "outputId": "f78a243e-b9d4-4e0a-f247-9477460816ae"
      },
      "execution_count": 106,
      "outputs": [
        {
          "output_type": "execute_result",
          "data": {
            "text/plain": [
              "(array([13.839, 13.839, 13.82 , 13.734, 13.7  , 13.66 , 12.096, 11.697,\n",
              "        11.557, 11.669, 11.311, 10.393,  9.792,  9.53 ,  9.3  ,  8.77 ,\n",
              "         8.069,  7.972,  7.304,  6.64 ]),\n",
              " array([13.839, 13.839, 13.82 , 13.734, 13.7  , 13.66 , 12.096, 11.697,\n",
              "        11.557, 11.669, 11.311, 10.393,  9.3  ,  9.53 ,  9.3  ,  8.77 ,\n",
              "         8.069,  7.972,  7.303,  6.853]))"
            ]
          },
          "metadata": {},
          "execution_count": 106
        }
      ]
    },
    {
      "cell_type": "code",
      "source": [
        "approx11_acqFuncMax = extractAcqFuncMax(approx_11.history) + eps\n",
        "approx11_exploit = exploitExtract(approx_11.history) + eps\n",
        "approx11_ratio = approx11_exploit/approx11_acqFuncMax\n",
        "\n",
        "np.round(approx11_acqFuncMax, 3), np.round(approx11_exploit, 3)\n"
      ],
      "metadata": {
        "colab": {
          "base_uri": "https://localhost:8080/"
        },
        "id": "H1AV-5wnvnsn",
        "outputId": "5206574e-0c05-45db-964c-212fb5daeffd"
      },
      "execution_count": 107,
      "outputs": [
        {
          "output_type": "execute_result",
          "data": {
            "text/plain": [
              "(array([10.68 , 10.68 , 10.674, 10.67 , 10.538, 10.264, 10.229, 10.06 ,\n",
              "         9.834,  9.288,  9.234,  8.803,  8.497,  7.77 ,  7.213,  6.369,\n",
              "         6.327,  5.083,  4.441,  4.347]),\n",
              " array([10.68 , 10.68 , 10.674, 10.67 , 10.538, 10.264, 10.229, 10.06 ,\n",
              "         9.834,  9.288,  9.234,  8.497,  8.497,  7.77 ,  7.212,  6.364,\n",
              "         6.322,  4.284,  4.389,  4.289]))"
            ]
          },
          "metadata": {},
          "execution_count": 107
        }
      ]
    },
    {
      "cell_type": "code",
      "source": [
        "approx12_acqFuncMax = extractAcqFuncMax(approx_12.history) + eps\n",
        "approx12_exploit = exploitExtract(approx_12.history) + eps\n",
        "approx12_ratio = approx12_exploit/approx12_acqFuncMax\n",
        "\n",
        "np.round(approx12_acqFuncMax, 3), np.round(approx12_exploit, 3)\n"
      ],
      "metadata": {
        "colab": {
          "base_uri": "https://localhost:8080/"
        },
        "id": "YlkQrTV6vn0w",
        "outputId": "50051b9f-b4c9-4909-e568-730e9ba24d91"
      },
      "execution_count": 108,
      "outputs": [
        {
          "output_type": "execute_result",
          "data": {
            "text/plain": [
              "(array([40.511, 40.511, 40.511, 32.005, 32.005, 31.869, 31.656, 31.497,\n",
              "        22.349,  7.489,  7.172,  7.152,  6.718,  6.609,  6.493,  5.17 ,\n",
              "         4.322,  3.25 ,  4.653,  3.505]),\n",
              " array([40.511, 40.511, 40.511, 32.005, 32.005, 31.869, 31.656, 31.497,\n",
              "        22.349,  7.488,  7.171,  7.151,  6.715,  6.605,  6.489,  4.268,\n",
              "         4.268,  3.074,  4.6  ,  3.343]))"
            ]
          },
          "metadata": {},
          "execution_count": 108
        }
      ]
    },
    {
      "cell_type": "code",
      "source": [
        "approx13_acqFuncMax = extractAcqFuncMax(approx_13.history) + eps\n",
        "approx13_exploit = exploitExtract(approx_13.history) + eps\n",
        "approx13_ratio = approx13_exploit/approx13_acqFuncMax\n",
        "\n",
        "np.round(approx13_acqFuncMax, 3), np.round(approx13_exploit, 3)\n"
      ],
      "metadata": {
        "colab": {
          "base_uri": "https://localhost:8080/"
        },
        "id": "cw8ngwKsvn82",
        "outputId": "a93fc5cb-7dfd-4756-c613-f7e6e306c9c6"
      },
      "execution_count": 109,
      "outputs": [
        {
          "output_type": "execute_result",
          "data": {
            "text/plain": [
              "(array([17.436, 17.436, 17.435, 17.433, 16.182, 16.149, 16.146, 15.49 ,\n",
              "        15.599, 15.351, 15.277, 14.329, 14.258, 13.685, 12.045, 12.015,\n",
              "        11.177, 11.578, 10.699, 10.519]),\n",
              " array([17.436, 17.436, 17.435, 17.433, 16.182, 16.149, 16.146, 15.49 ,\n",
              "        15.599, 15.351, 15.277, 14.329, 14.258, 13.685, 12.045, 12.015,\n",
              "        11.177, 11.578, 10.699, 10.519]))"
            ]
          },
          "metadata": {},
          "execution_count": 109
        }
      ]
    },
    {
      "cell_type": "code",
      "source": [
        "approx14_acqFuncMax = extractAcqFuncMax(approx_14.history) + eps\n",
        "approx14_exploit = exploitExtract(approx_14.history) + eps\n",
        "approx14_ratio = approx14_exploit/approx14_acqFuncMax\n",
        "\n",
        "np.round(approx14_acqFuncMax, 3), np.round(approx14_exploit, 3)\n"
      ],
      "metadata": {
        "colab": {
          "base_uri": "https://localhost:8080/"
        },
        "id": "SnxJgM50voEV",
        "outputId": "2c76ed35-1afc-4f84-e305-b5f01c9dca67"
      },
      "execution_count": 110,
      "outputs": [
        {
          "output_type": "execute_result",
          "data": {
            "text/plain": [
              "(array([10.424, 10.424, 10.424, 10.424, 10.304, 10.275, 10.213, 10.197,\n",
              "        10.137,  9.911,  9.706,  9.456,  9.026,  8.425,  7.078,  6.802,\n",
              "         4.291,  5.586,  4.472,  4.149]),\n",
              " array([10.424, 10.424, 10.424, 10.424, 10.304, 10.275, 10.213, 10.197,\n",
              "        10.137,  9.911,  9.706,  9.456,  9.026,  8.425,  6.802,  6.8  ,\n",
              "         4.219,  5.57 ,  3.552,  3.977]))"
            ]
          },
          "metadata": {},
          "execution_count": 110
        }
      ]
    },
    {
      "cell_type": "code",
      "source": [
        "approx15_acqFuncMax = extractAcqFuncMax(approx_15.history) + eps\n",
        "approx15_exploit = exploitExtract(approx_15.history) + eps\n",
        "approx15_ratio = approx15_exploit/approx15_acqFuncMax\n",
        "\n",
        "np.round(approx15_acqFuncMax, 3), np.round(approx15_exploit, 3)\n"
      ],
      "metadata": {
        "colab": {
          "base_uri": "https://localhost:8080/"
        },
        "id": "MrcPmB4DvoMK",
        "outputId": "c1ec44f2-e682-4007-c69b-8d8c2ed60d4f"
      },
      "execution_count": 111,
      "outputs": [
        {
          "output_type": "execute_result",
          "data": {
            "text/plain": [
              "(array([7.991, 7.991, 7.989, 7.983, 7.983, 7.959, 7.653, 7.675, 7.322,\n",
              "        6.445, 5.925, 5.816, 6.279, 5.603, 4.896, 3.851, 3.064, 4.946,\n",
              "        2.927, 2.57 ]),\n",
              " array([7.991, 7.991, 7.989, 7.983, 7.982, 7.958, 7.652, 7.674, 7.321,\n",
              "        6.44 , 5.783, 6.24 , 6.273, 5.588, 4.856, 3.724, 2.808, 4.909,\n",
              "        2.716, 1.086]))"
            ]
          },
          "metadata": {},
          "execution_count": 111
        }
      ]
    },
    {
      "cell_type": "code",
      "source": [
        "approx16_acqFuncMax = extractAcqFuncMax(approx_16.history) + eps\n",
        "approx16_exploit = exploitExtract(approx_16.history) + eps\n",
        "approx16_ratio = approx16_exploit/approx16_acqFuncMax\n",
        "\n",
        "np.round(approx16_acqFuncMax, 3), np.round(approx16_exploit, 3)\n"
      ],
      "metadata": {
        "colab": {
          "base_uri": "https://localhost:8080/"
        },
        "id": "2qaM50VBvoT9",
        "outputId": "b74a81b0-d422-442f-c5e0-ec6b43d30c4f"
      },
      "execution_count": 112,
      "outputs": [
        {
          "output_type": "execute_result",
          "data": {
            "text/plain": [
              "(array([22.272, 22.272, 22.272, 22.271, 22.248, 22.185, 12.247, 11.763,\n",
              "        11.621, 11.058, 11.04 , 10.655, 10.65 ,  9.996,  9.631,  9.452,\n",
              "         8.986,  0.4  ,  0.417,  0.426]),\n",
              " array([22.272, 22.272, 22.272, 22.271, 22.248, 22.185, 12.247, 11.763,\n",
              "        11.058, 11.041, 11.04 , 10.655, 10.65 ,  9.631,  9.631,  9.452,\n",
              "         8.986,  0.   ,  0.   ,  0.   ]))"
            ]
          },
          "metadata": {},
          "execution_count": 112
        }
      ]
    },
    {
      "cell_type": "code",
      "source": [
        "approx17_acqFuncMax = extractAcqFuncMax(approx_17.history) + eps\n",
        "approx17_exploit = exploitExtract(approx_17.history) + eps\n",
        "approx17_ratio = approx17_exploit/approx17_acqFuncMax\n",
        "\n",
        "np.round(approx17_acqFuncMax, 3), np.round(approx17_exploit, 3)\n"
      ],
      "metadata": {
        "colab": {
          "base_uri": "https://localhost:8080/"
        },
        "id": "NcYxsy0Rvobx",
        "outputId": "9750b47d-fd62-46bf-9d2e-f22b332670a5"
      },
      "execution_count": 113,
      "outputs": [
        {
          "output_type": "execute_result",
          "data": {
            "text/plain": [
              "(array([20.395, 20.395, 20.394, 20.393, 20.389, 20.355, 20.091, 19.646,\n",
              "        19.266, 10.25 ,  9.977,  9.493,  9.4  ,  8.728,  8.449,  7.395,\n",
              "         7.965,  6.823,  5.471,  3.868]),\n",
              " array([20.395, 20.395, 20.394, 20.393, 20.389, 20.355, 20.091, 19.646,\n",
              "        19.266, 10.25 ,  9.977,  9.493,  9.4  ,  8.449,  8.449,  7.395,\n",
              "         5.408,  6.821,  5.459,  3.796]))"
            ]
          },
          "metadata": {},
          "execution_count": 113
        }
      ]
    },
    {
      "cell_type": "code",
      "source": [
        "approx18_acqFuncMax = extractAcqFuncMax(approx_18.history) + eps\n",
        "approx18_exploit = exploitExtract(approx_18.history) + eps\n",
        "approx18_ratio = approx18_exploit/approx18_acqFuncMax\n",
        "\n",
        "np.round(approx18_acqFuncMax, 3), np.round(approx18_exploit, 3)\n"
      ],
      "metadata": {
        "colab": {
          "base_uri": "https://localhost:8080/"
        },
        "id": "1o1ZW4xZvojY",
        "outputId": "f2e0c2d6-4735-419f-950f-4acecce62766"
      },
      "execution_count": 114,
      "outputs": [
        {
          "output_type": "execute_result",
          "data": {
            "text/plain": [
              "(array([22.672, 22.663, 22.655, 22.558, 22.553, 22.41 , 22.394, 22.274,\n",
              "        21.97 , 21.686, 21.086, 21.074, 19.424, 12.8  , 13.816, 12.344,\n",
              "        12.042,  9.385,  9.002,  8.046]),\n",
              " array([22.672, 22.663, 22.655, 22.558, 22.553, 22.41 , 22.394, 22.274,\n",
              "        21.97 , 21.686, 21.086, 21.074, 19.424, 12.8  , 13.816, 12.344,\n",
              "        12.042,  9.002,  9.002,  8.046]))"
            ]
          },
          "metadata": {},
          "execution_count": 114
        }
      ]
    },
    {
      "cell_type": "code",
      "source": [
        "approx19_acqFuncMax = extractAcqFuncMax(approx_19.history) + eps\n",
        "approx19_exploit = exploitExtract(approx_19.history) + eps\n",
        "approx19_ratio = approx19_exploit/approx19_acqFuncMax\n",
        "\n",
        "np.round(approx19_acqFuncMax, 3), np.round(approx19_exploit, 3)\n"
      ],
      "metadata": {
        "colab": {
          "base_uri": "https://localhost:8080/"
        },
        "id": "ZyY6Ebhfvop6",
        "outputId": "a0ffc71c-da1d-4c6d-b74b-78d0ac2525ca"
      },
      "execution_count": 115,
      "outputs": [
        {
          "output_type": "execute_result",
          "data": {
            "text/plain": [
              "(array([25.867, 25.864, 25.84 , 25.831, 25.83 , 25.818, 24.589, 24.425,\n",
              "        24.373, 24.082, 23.006, 18.229, 18.046, 17.612, 16.878, 14.278,\n",
              "        13.364, 12.714, 12.657, 13.072]),\n",
              " array([25.867, 25.864, 25.84 , 25.831, 25.83 , 25.818, 24.589, 24.425,\n",
              "        24.373, 24.082, 23.006, 18.229, 18.046, 17.612, 16.878, 14.278,\n",
              "        13.364, 12.714, 13.072, 13.072]))"
            ]
          },
          "metadata": {},
          "execution_count": 115
        }
      ]
    },
    {
      "cell_type": "code",
      "source": [
        "approx20_acqFuncMax = extractAcqFuncMax(approx_20.history) + eps\n",
        "approx20_exploit = exploitExtract(approx_20.history) + eps\n",
        "approx20_ratio = approx20_exploit/approx20_acqFuncMax\n",
        "\n",
        "np.round(approx20_acqFuncMax, 3), np.round(approx20_exploit, 3)\n"
      ],
      "metadata": {
        "colab": {
          "base_uri": "https://localhost:8080/"
        },
        "id": "voIxbv_Lvo3N",
        "outputId": "b5193106-3cd3-47a8-e4e9-0952b821104e"
      },
      "execution_count": 116,
      "outputs": [
        {
          "output_type": "execute_result",
          "data": {
            "text/plain": [
              "(array([17.389, 17.384, 17.381, 17.365, 17.337, 17.301, 17.221, 16.233,\n",
              "        16.215, 15.955, 15.011, 14.997, 14.643, 14.494, 13.908, 12.99 ,\n",
              "        13.204, 13.1  , 12.519, 12.246]),\n",
              " array([17.389, 17.384, 17.381, 17.365, 17.337, 17.301, 17.221, 16.233,\n",
              "        16.215, 15.955, 15.011, 14.997, 14.643, 14.494, 13.908, 12.99 ,\n",
              "        13.204, 13.1  , 12.519, 12.246]))"
            ]
          },
          "metadata": {},
          "execution_count": 116
        }
      ]
    },
    {
      "cell_type": "code",
      "source": [
        "exact1_acqFuncMax = extractAcqFuncMax(exact_1.history) + eps\n",
        "exact1_exploit = exploitExtract(exact_1.history) + eps\n",
        "exact1_ratio = exact1_exploit/exact1_acqFuncMax\n",
        "\n",
        "np.round(exact1_acqFuncMax, 3), np.round(exact1_exploit, 3)\n"
      ],
      "metadata": {
        "colab": {
          "base_uri": "https://localhost:8080/"
        },
        "id": "13ypDM-0tX-8",
        "outputId": "1bb907e8-f937-4e9d-8ed1-83409dc85cca"
      },
      "execution_count": 117,
      "outputs": [
        {
          "output_type": "execute_result",
          "data": {
            "text/plain": [
              "(array([19.908, 19.908, 19.908, 19.908, 19.886, 19.876, 19.773, 19.414,\n",
              "        19.45 , 18.384, 17.435, 17.884, 16.63 , 15.951, 14.902, 14.76 ,\n",
              "        14.383, 13.138, 12.872, 13.274]),\n",
              " array([19.908, 19.908, 19.908, 19.908, 19.886, 19.876, 19.773, 19.414,\n",
              "        19.45 , 18.384, 17.435, 17.884, 16.701, 15.951, 14.902, 14.76 ,\n",
              "        14.383, 13.217, 13.027, 11.2  ]))"
            ]
          },
          "metadata": {},
          "execution_count": 117
        }
      ]
    },
    {
      "cell_type": "code",
      "source": [
        "exact2_acqFuncMax = extractAcqFuncMax(exact_2.history) + eps\n",
        "exact2_exploit = exploitExtract(exact_2.history) + eps\n",
        "exact2_ratio = exact2_exploit/exact2_acqFuncMax\n",
        "\n",
        "np.round(exact2_acqFuncMax, 3), np.round(exact2_exploit, 3)\n"
      ],
      "metadata": {
        "colab": {
          "base_uri": "https://localhost:8080/"
        },
        "id": "AThtbAyHtYCa",
        "outputId": "e96a3d0d-ebac-436d-b08d-aa07dc236119"
      },
      "execution_count": 118,
      "outputs": [
        {
          "output_type": "execute_result",
          "data": {
            "text/plain": [
              "(array([18.965, 18.965, 18.964, 18.961, 18.937, 18.952, 18.838, 18.624,\n",
              "        16.945, 18.239, 17.279, 14.807, 15.517, 17.37 , 14.552, 14.71 ,\n",
              "        14.938, 13.13 , 11.348, 11.051]),\n",
              " array([18.965, 18.965, 18.964, 18.961, 18.937, 18.952, 18.837, 18.624,\n",
              "        16.945, 18.239, 17.28 , 14.807, 15.517, 17.37 , 14.552, 14.71 ,\n",
              "        14.927, 13.133, 11.002, 11.046]))"
            ]
          },
          "metadata": {},
          "execution_count": 118
        }
      ]
    },
    {
      "cell_type": "code",
      "source": [
        "exact3_acqFuncMax = extractAcqFuncMax(exact_3.history) + eps\n",
        "exact3_exploit = exploitExtract(exact_3.history) + eps\n",
        "exact3_ratio = exact3_exploit/exact3_acqFuncMax\n",
        "\n",
        "np.round(exact3_acqFuncMax, 3), np.round(exact3_exploit, 3)\n"
      ],
      "metadata": {
        "colab": {
          "base_uri": "https://localhost:8080/"
        },
        "id": "lTX9JQs8v2uD",
        "outputId": "b99cc1b3-4276-4677-f0b3-ab5bf7953630"
      },
      "execution_count": 119,
      "outputs": [
        {
          "output_type": "execute_result",
          "data": {
            "text/plain": [
              "(array([10.608, 10.608, 10.606, 10.478, 10.227, 10.13 ,  9.935,  9.927,\n",
              "         9.356,  9.133,  8.53 ,  7.887,  9.042,  6.367,  8.124,  5.584,\n",
              "         4.257,  2.558,  4.332,  3.507]),\n",
              " array([10.608, 10.608, 10.606, 10.478, 10.227,  9.935,  9.935,  9.927,\n",
              "         9.356,  9.133,  8.53 ,  7.893,  9.048,  6.362,  7.892,  5.569,\n",
              "         4.205,  0.2  ,  0.829,  3.348]))"
            ]
          },
          "metadata": {},
          "execution_count": 119
        }
      ]
    },
    {
      "cell_type": "code",
      "source": [
        "exact4_acqFuncMax = extractAcqFuncMax(exact_4.history) + eps\n",
        "exact4_exploit = exploitExtract(exact_4.history) + eps\n",
        "exact4_ratio = exact4_exploit/exact4_acqFuncMax\n",
        "\n",
        "np.round(exact4_acqFuncMax, 3), np.round(exact4_exploit, 3)\n"
      ],
      "metadata": {
        "colab": {
          "base_uri": "https://localhost:8080/"
        },
        "id": "ubS53hcMv23S",
        "outputId": "addc26c5-d22e-4234-f2d6-9d5698ff03e8"
      },
      "execution_count": 120,
      "outputs": [
        {
          "output_type": "execute_result",
          "data": {
            "text/plain": [
              "(array([14.323, 14.323, 14.317, 14.296, 14.306, 13.978, 13.824, 13.763,\n",
              "        12.722, 12.741, 12.718, 12.745, 12.321, 11.624, 10.715, 10.729,\n",
              "        10.362,  9.59 ,  7.852,  6.561]),\n",
              " array([14.323, 14.323, 14.317, 14.31 , 14.306, 13.978, 13.824, 13.763,\n",
              "        12.722, 12.741, 12.718, 12.745, 12.321, 11.624, 10.715, 10.663,\n",
              "        10.362,  9.59 ,  7.841,  6.559]))"
            ]
          },
          "metadata": {},
          "execution_count": 120
        }
      ]
    },
    {
      "cell_type": "code",
      "source": [
        "exact5_acqFuncMax = extractAcqFuncMax(exact_5.history) + eps\n",
        "exact5_exploit = exploitExtract(exact_5.history) + eps\n",
        "exact5_ratio = exact5_exploit/exact5_acqFuncMax\n",
        "\n",
        "np.round(exact5_acqFuncMax, 3), np.round(exact5_exploit, 3)\n"
      ],
      "metadata": {
        "colab": {
          "base_uri": "https://localhost:8080/"
        },
        "id": "S_k0naQ1v2_p",
        "outputId": "5db9d89b-3adf-400a-bee2-7dc18f4073a2"
      },
      "execution_count": 121,
      "outputs": [
        {
          "output_type": "execute_result",
          "data": {
            "text/plain": [
              "(array([7.811, 7.811, 7.809, 7.794, 7.793, 7.715, 7.621, 7.371, 7.45 ,\n",
              "        7.037, 6.427, 5.792, 5.905, 5.016, 4.023, 1.887, 1.616, 3.813,\n",
              "        1.568, 1.209]),\n",
              " array([7.81 , 7.81 , 7.809, 7.793, 7.793, 7.705, 7.498, 7.373, 7.4  ,\n",
              "        7.051, 6.61 , 5.471, 5.895, 4.98 , 3.118, 0.   , 0.929, 1.057,\n",
              "        1.031, 0.489]))"
            ]
          },
          "metadata": {},
          "execution_count": 121
        }
      ]
    },
    {
      "cell_type": "code",
      "source": [
        "exact6_acqFuncMax = extractAcqFuncMax(exact_6.history) + eps\n",
        "exact6_exploit = exploitExtract(exact_6.history) + eps\n",
        "exact6_ratio = exact6_exploit/exact6_acqFuncMax\n",
        "\n",
        "np.round(exact6_acqFuncMax, 3), np.round(exact6_exploit, 3)\n"
      ],
      "metadata": {
        "colab": {
          "base_uri": "https://localhost:8080/"
        },
        "id": "5tT6L8Jiv3Ha",
        "outputId": "e2b4ea9c-69a6-4b21-8940-c41c96e5980c"
      },
      "execution_count": 122,
      "outputs": [
        {
          "output_type": "execute_result",
          "data": {
            "text/plain": [
              "(array([17.29 , 17.29 , 17.288, 17.28 , 17.205, 17.263, 17.14 , 16.467,\n",
              "         6.403,  5.471,  4.475,  4.262,  4.142,  4.496,  3.045,  3.05 ,\n",
              "         3.616,  2.594,  1.975,  1.862]),\n",
              " array([17.29 , 17.29 , 17.288, 17.28 , 17.205, 17.263, 17.14 , 16.467,\n",
              "         6.426,  5.452,  4.41 ,  3.498,  4.038,  4.438,  2.782,  1.077,\n",
              "         3.459,  0.   ,  1.454,  1.298]))"
            ]
          },
          "metadata": {},
          "execution_count": 122
        }
      ]
    },
    {
      "cell_type": "code",
      "source": [
        "exact7_acqFuncMax = extractAcqFuncMax(exact_7.history) + eps\n",
        "exact7_exploit = exploitExtract(exact_7.history) + eps\n",
        "exact7_ratio = exact7_exploit/exact7_acqFuncMax\n",
        "\n",
        "np.round(exact7_acqFuncMax, 3), np.round(exact7_exploit, 3)\n"
      ],
      "metadata": {
        "colab": {
          "base_uri": "https://localhost:8080/"
        },
        "id": "JJUBcR5nv3Pi",
        "outputId": "6a091915-2580-42ef-ac1f-f2da9cd4f900"
      },
      "execution_count": 123,
      "outputs": [
        {
          "output_type": "execute_result",
          "data": {
            "text/plain": [
              "(array([22.522, 22.522, 22.521, 22.522, 22.463, 19.233, 18.866, 18.212,\n",
              "        18.217, 17.542, 16.966, 17.372, 17.195, 16.034, 13.955, 16.55 ,\n",
              "        13.638, 13.12 , 12.43 , 12.188]),\n",
              " array([22.522, 22.522, 22.521, 22.522, 22.463, 19.289, 18.866, 18.212,\n",
              "        18.227, 17.542, 16.493, 17.372, 16.943, 16.034, 13.955, 16.564,\n",
              "        13.695, 12.803, 12.681, 11.611]))"
            ]
          },
          "metadata": {},
          "execution_count": 123
        }
      ]
    },
    {
      "cell_type": "code",
      "source": [
        "exact8_acqFuncMax = extractAcqFuncMax(exact_8.history) + eps\n",
        "exact8_exploit = exploitExtract(exact_8.history) + eps\n",
        "exact8_ratio = exact8_exploit/exact8_acqFuncMax\n",
        "\n",
        "np.round(exact8_acqFuncMax, 3), np.round(exact8_exploit, 3)\n"
      ],
      "metadata": {
        "colab": {
          "base_uri": "https://localhost:8080/"
        },
        "id": "gaaabxY9v3X_",
        "outputId": "71dd6425-d82e-443a-f84a-1fe834d3baa7"
      },
      "execution_count": 124,
      "outputs": [
        {
          "output_type": "execute_result",
          "data": {
            "text/plain": [
              "(array([13.872, 13.872, 13.871, 13.842, 13.868, 13.627,  8.596,  8.198,\n",
              "         7.77 ,  7.671,  7.446,  7.457,  7.23 ,  7.867,  5.727,  4.967,\n",
              "         5.109,  4.28 ,  3.804,  3.337]),\n",
              " array([13.872, 13.872, 13.871, 13.842, 13.868, 13.627,  8.596,  7.948,\n",
              "         7.769,  7.67 ,  7.412,  7.46 ,  7.231,  7.868,  5.451,  4.94 ,\n",
              "         5.086,  4.222,  3.664,  3.145]))"
            ]
          },
          "metadata": {},
          "execution_count": 124
        }
      ]
    },
    {
      "cell_type": "code",
      "source": [
        "exact9_acqFuncMax = extractAcqFuncMax(exact_9.history) + eps\n",
        "exact9_exploit = exploitExtract(exact_9.history) + eps\n",
        "exact9_ratio = exact9_exploit/exact9_acqFuncMax\n",
        "\n",
        "np.round(exact9_acqFuncMax, 3), np.round(exact9_exploit, 3)\n"
      ],
      "metadata": {
        "colab": {
          "base_uri": "https://localhost:8080/"
        },
        "id": "rILOuznAv3fc",
        "outputId": "1b5e4e27-2262-4ea3-e812-f7f78b3e5608"
      },
      "execution_count": 125,
      "outputs": [
        {
          "output_type": "execute_result",
          "data": {
            "text/plain": [
              "(array([24.455, 24.455, 24.455, 24.45 , 24.137, 24.213, 24.235, 24.072,\n",
              "        23.979, 23.094, 24.316, 22.039, 21.804, 16.693, 17.222, 17.332,\n",
              "        15.884, 14.397, 14.763, 13.99 ]),\n",
              " array([24.455, 24.455, 24.455, 24.45 , 24.137, 24.213, 24.235, 24.072,\n",
              "        23.979, 23.094, 24.316, 22.039, 21.804, 17.388, 17.221, 17.332,\n",
              "        15.884, 14.397, 14.763, 13.99 ]))"
            ]
          },
          "metadata": {},
          "execution_count": 125
        }
      ]
    },
    {
      "cell_type": "code",
      "source": [
        "exact10_acqFuncMax = extractAcqFuncMax(exact_10.history) + eps\n",
        "exact10_exploit = exploitExtract(exact_10.history) + eps\n",
        "exact10_ratio = exact10_exploit/exact10_acqFuncMax\n",
        "\n",
        "np.round(exact10_acqFuncMax, 3), np.round(exact10_exploit, 3)\n"
      ],
      "metadata": {
        "colab": {
          "base_uri": "https://localhost:8080/"
        },
        "id": "bW1F6YQ7v3o0",
        "outputId": "e71a91c1-d5b4-4a1b-963e-44e088a3ead2"
      },
      "execution_count": 126,
      "outputs": [
        {
          "output_type": "execute_result",
          "data": {
            "text/plain": [
              "(array([13.839, 13.839, 13.767, 13.496, 13.442, 13.417, 13.414,  2.154,\n",
              "         2.268,  1.743,  1.804,  1.695,  0.486,  1.571,  0.57 ,  0.769,\n",
              "         0.099,  0.282,  0.372,  0.128]),\n",
              " array([13.839, 13.839, 13.767, 13.496, 13.442, 13.417, 13.414,  1.24 ,\n",
              "         1.869,  0.672,  1.209,  0.787,  0.   ,  0.   ,  0.   ,  0.   ,\n",
              "         0.   ,  0.   ,  0.   ,  0.   ]))"
            ]
          },
          "metadata": {},
          "execution_count": 126
        }
      ]
    },
    {
      "cell_type": "code",
      "source": [
        "exact11_acqFuncMax = extractAcqFuncMax(exact_11.history) + eps\n",
        "exact11_exploit = exploitExtract(exact_11.history) + eps\n",
        "exact11_ratio = exact11_exploit/exact11_acqFuncMax\n",
        "\n",
        "np.round(exact11_acqFuncMax, 3), np.round(exact11_exploit, 3)\n"
      ],
      "metadata": {
        "colab": {
          "base_uri": "https://localhost:8080/"
        },
        "id": "4Ev60bH7v3wk",
        "outputId": "291f3f7b-0f13-476e-8364-3016b6c6e565"
      },
      "execution_count": 127,
      "outputs": [
        {
          "output_type": "execute_result",
          "data": {
            "text/plain": [
              "(array([10.68 , 10.668, 10.538, 10.527, 10.572,  9.885,  9.702,  9.559,\n",
              "         9.368,  9.241,  7.845,  7.101,  5.14 ,  8.036,  5.412,  4.966,\n",
              "         3.057,  4.573,  3.213,  4.401]),\n",
              " array([10.68 , 10.668, 10.538, 10.527, 10.572,  9.885,  9.74 ,  9.556,\n",
              "         9.202,  9.247,  7.845,  7.107,  5.12 ,  5.352,  4.746,  4.939,\n",
              "         2.821,  4.516,  2.998,  4.803]))"
            ]
          },
          "metadata": {},
          "execution_count": 127
        }
      ]
    },
    {
      "cell_type": "code",
      "source": [
        "exact12_acqFuncMax = extractAcqFuncMax(exact_12.history) + eps\n",
        "exact12_exploit = exploitExtract(exact_12.history) + eps\n",
        "exact12_ratio = exact12_exploit/exact12_acqFuncMax\n",
        "\n",
        "np.round(exact12_acqFuncMax, 3), np.round(exact12_exploit, 3)\n"
      ],
      "metadata": {
        "colab": {
          "base_uri": "https://localhost:8080/"
        },
        "id": "EqCmrsFQv346",
        "outputId": "eca44e14-2e6c-4979-a6c3-ee2916b5c466"
      },
      "execution_count": 128,
      "outputs": [
        {
          "output_type": "execute_result",
          "data": {
            "text/plain": [
              "(array([40.511, 40.511, 40.511, 24.56 , 24.55 , 24.423, 24.302, 24.203,\n",
              "        23.122, 23.67 , 23.037, 22.376, 22.004, 20.511, 19.015, 18.298,\n",
              "        19.582, 16.93 , 15.585, 11.469]),\n",
              " array([40.511, 40.511, 40.511, 24.56 , 24.55 , 24.217, 24.302, 24.203,\n",
              "        23.122, 23.72 , 23.037, 22.376, 22.004, 20.51 , 19.015, 18.062,\n",
              "        16.736, 16.93 , 15.585, 11.469]))"
            ]
          },
          "metadata": {},
          "execution_count": 128
        }
      ]
    },
    {
      "cell_type": "code",
      "source": [
        "exact13_acqFuncMax = extractAcqFuncMax(exact_13.history) + eps\n",
        "exact13_exploit = exploitExtract(exact_13.history) + eps\n",
        "exact13_ratio = exact13_exploit/exact13_acqFuncMax\n",
        "\n",
        "np.round(exact13_acqFuncMax, 3), np.round(exact13_exploit, 3)\n"
      ],
      "metadata": {
        "colab": {
          "base_uri": "https://localhost:8080/"
        },
        "id": "LRD2tlISv3_-",
        "outputId": "e5558f6a-9aa8-4eb3-a619-91a7c09222a7"
      },
      "execution_count": 129,
      "outputs": [
        {
          "output_type": "execute_result",
          "data": {
            "text/plain": [
              "(array([17.436, 17.436, 17.436, 17.433, 17.132, 17.222, 12.306, 12.123,\n",
              "        11.828, 10.92 , 11.674, 10.474, 11.972, 10.351,  1.919,  1.438,\n",
              "         4.589,  1.221,  1.013,  0.992]),\n",
              " array([17.436, 17.436, 17.436, 17.433, 17.132, 17.222, 12.306, 12.123,\n",
              "        12.066, 10.919, 11.674, 10.474, 11.994, 10.351,  1.499,  0.288,\n",
              "         4.541,  0.41 ,  0.233,  0.   ]))"
            ]
          },
          "metadata": {},
          "execution_count": 129
        }
      ]
    },
    {
      "cell_type": "code",
      "source": [
        "exact14_acqFuncMax = extractAcqFuncMax(exact_14.history) + eps\n",
        "exact14_exploit = exploitExtract(exact_14.history) + eps\n",
        "exact14_ratio = exact14_exploit/exact14_acqFuncMax\n",
        "\n",
        "np.round(exact14_acqFuncMax, 3), np.round(exact14_exploit, 3)\n"
      ],
      "metadata": {
        "colab": {
          "base_uri": "https://localhost:8080/"
        },
        "id": "YiCrC-1cv4Hw",
        "outputId": "cfa3afcb-0487-47ac-e745-4ff60a7413ef"
      },
      "execution_count": 130,
      "outputs": [
        {
          "output_type": "execute_result",
          "data": {
            "text/plain": [
              "(array([10.424, 10.424, 10.424, 10.424, 10.272, 10.15 , 10.126, 10.186,\n",
              "        10.224,  9.756,  9.408,  9.329,  8.664,  8.338,  7.29 ,  5.086,\n",
              "         4.653,  3.417,  2.92 ,  4.061]),\n",
              " array([10.424, 10.424, 10.424, 10.424, 10.272, 10.15 , 10.126, 10.186,\n",
              "        10.224,  9.756,  9.408,  9.274,  8.664,  8.148,  7.275,  4.775,\n",
              "         4.007,  2.432,  2.644,  2.473]))"
            ]
          },
          "metadata": {},
          "execution_count": 130
        }
      ]
    },
    {
      "cell_type": "code",
      "source": [
        "exact15_acqFuncMax = extractAcqFuncMax(exact_15.history) + eps\n",
        "exact15_exploit = exploitExtract(exact_15.history) + eps\n",
        "exact15_ratio = exact15_exploit/exact15_acqFuncMax\n",
        "\n",
        "np.round(exact15_acqFuncMax, 3), np.round(exact15_exploit, 3)\n"
      ],
      "metadata": {
        "colab": {
          "base_uri": "https://localhost:8080/"
        },
        "id": "2yfZeWaFv4O3",
        "outputId": "f7c2c045-4521-4eb7-8456-b0dbaca3df2c"
      },
      "execution_count": 131,
      "outputs": [
        {
          "output_type": "execute_result",
          "data": {
            "text/plain": [
              "(array([7.991, 7.991, 7.989, 7.99 , 7.94 , 7.69 , 7.622, 7.236, 7.221,\n",
              "        7.278, 7.111, 6.771, 6.753, 5.632, 3.257, 2.787, 3.033, 2.175,\n",
              "        1.261, 1.077]),\n",
              " array([7.991, 7.99 , 7.989, 7.99 , 7.94 , 7.689, 7.622, 7.248, 7.213,\n",
              "        7.167, 7.113, 3.493, 6.699, 5.617, 2.989, 2.537, 2.764, 1.799,\n",
              "        0.636, 0.312]))"
            ]
          },
          "metadata": {},
          "execution_count": 131
        }
      ]
    },
    {
      "cell_type": "code",
      "source": [
        "exact16_acqFuncMax = extractAcqFuncMax(exact_16.history) + eps\n",
        "exact16_exploit = exploitExtract(exact_16.history) + eps\n",
        "exact16_ratio = exact16_exploit/exact16_acqFuncMax\n",
        "\n",
        "np.round(exact16_acqFuncMax, 3), np.round(exact16_exploit, 3)\n"
      ],
      "metadata": {
        "colab": {
          "base_uri": "https://localhost:8080/"
        },
        "id": "oFa3Bt6Bv4W3",
        "outputId": "21087f71-6975-4e8d-e62f-6367f5253d20"
      },
      "execution_count": 132,
      "outputs": [
        {
          "output_type": "execute_result",
          "data": {
            "text/plain": [
              "(array([22.272, 22.272, 22.272, 22.271, 22.217, 22.13 , 21.715, 22.056,\n",
              "        21.031, 20.206, 20.301, 21.085, 19.576, 18.136, 14.839, 14.31 ,\n",
              "         1.486,  1.828,  1.143,  1.415]),\n",
              " array([22.272, 22.272, 22.272, 22.271, 22.217, 22.13 , 21.715, 22.056,\n",
              "        21.031, 20.456, 20.301, 21.085, 19.576, 18.136, 14.839, 14.31 ,\n",
              "         1.032,  1.252,  0.394,  0.725]))"
            ]
          },
          "metadata": {},
          "execution_count": 132
        }
      ]
    },
    {
      "cell_type": "code",
      "source": [
        "exact17_acqFuncMax = extractAcqFuncMax(exact_17.history) + eps\n",
        "exact17_exploit = exploitExtract(exact_17.history) + eps\n",
        "exact17_ratio = exact17_exploit/exact17_acqFuncMax\n",
        "\n",
        "np.round(exact17_acqFuncMax, 3), np.round(exact17_exploit, 3)\n"
      ],
      "metadata": {
        "colab": {
          "base_uri": "https://localhost:8080/"
        },
        "id": "VuC8BwhNv4ei",
        "outputId": "8c573ab1-f0bc-4526-9046-5c5984c6d34a"
      },
      "execution_count": 133,
      "outputs": [
        {
          "output_type": "execute_result",
          "data": {
            "text/plain": [
              "(array([20.395, 20.395, 20.393, 20.383, 20.275, 20.336, 20.157, 20.115,\n",
              "         5.598,  6.439,  5.137,  2.363,  2.844,  1.666,  4.053,  2.183,\n",
              "         1.765,  2.246,  0.83 ,  0.871]),\n",
              " array([20.395, 20.395, 20.393, 20.379, 20.275, 20.336, 20.159, 20.115,\n",
              "         5.643,  6.428,  5.111,  1.938,  3.95 ,  0.   ,  3.95 ,  1.619,\n",
              "         0.386,  0.   ,  0.   ,  0.   ]))"
            ]
          },
          "metadata": {},
          "execution_count": 133
        }
      ]
    },
    {
      "cell_type": "code",
      "source": [
        "exact18_acqFuncMax = extractAcqFuncMax(exact_18.history) + eps\n",
        "exact18_exploit = exploitExtract(exact_18.history) + eps\n",
        "exact18_ratio = exact18_exploit/exact18_acqFuncMax\n",
        "\n",
        "np.round(exact18_acqFuncMax, 3), np.round(exact18_exploit, 3)\n"
      ],
      "metadata": {
        "colab": {
          "base_uri": "https://localhost:8080/"
        },
        "id": "JbbWo0CAv4mQ",
        "outputId": "10b04f25-473d-4e25-b742-2dded7dc087b"
      },
      "execution_count": 134,
      "outputs": [
        {
          "output_type": "execute_result",
          "data": {
            "text/plain": [
              "(array([22.672, 22.665, 22.595, 18.528, 18.385, 18.25 , 18.272, 17.782,\n",
              "        17.195, 14.938, 14.285, 11.476, 12.38 , 10.818, 10.681,  9.936,\n",
              "        10.035,  9.171,  8.886,  8.628]),\n",
              " array([22.672, 22.665, 22.595, 18.528, 18.385, 18.25 , 18.272, 17.782,\n",
              "        17.195, 14.938, 14.285, 11.476, 12.66 , 10.728, 10.681,  9.936,\n",
              "        10.035,  8.994,  8.89 ,  8.559]))"
            ]
          },
          "metadata": {},
          "execution_count": 134
        }
      ]
    },
    {
      "cell_type": "code",
      "source": [
        "exact19_acqFuncMax = extractAcqFuncMax(exact_19.history) + eps\n",
        "exact19_exploit = exploitExtract(exact_19.history) + eps\n",
        "exact19_ratio = exact19_exploit/exact19_acqFuncMax\n",
        "\n",
        "np.round(exact19_acqFuncMax, 3), np.round(exact19_exploit, 3)\n"
      ],
      "metadata": {
        "colab": {
          "base_uri": "https://localhost:8080/"
        },
        "id": "zv0ODQ5sv4uS",
        "outputId": "4bec70d3-36fa-45b3-e88e-aa74e4981356"
      },
      "execution_count": 135,
      "outputs": [
        {
          "output_type": "execute_result",
          "data": {
            "text/plain": [
              "(array([25.867, 25.855,  7.007,  6.994,  6.979,  6.986,  6.677,  6.551,\n",
              "         5.776,  5.731,  5.144,  6.065,  4.941,  2.533,  4.887,  1.115,\n",
              "         1.315,  0.875,  0.725,  0.281]),\n",
              " array([25.867, 25.855,  7.005,  6.992,  6.977,  6.996,  6.674,  6.568,\n",
              "         5.764,  5.719,  5.118,  5.855,  2.793,  1.313,  1.552,  0.262,\n",
              "         0.   ,  0.   ,  0.   ,  0.   ]))"
            ]
          },
          "metadata": {},
          "execution_count": 135
        }
      ]
    },
    {
      "cell_type": "code",
      "source": [
        "exact20_acqFuncMax = extractAcqFuncMax(exact_20.history) + eps\n",
        "exact20_exploit = exploitExtract(exact_20.history) + eps\n",
        "exact20_ratio = exact20_exploit/exact20_acqFuncMax\n",
        "\n",
        "np.round(exact20_acqFuncMax, 3), np.round(exact20_exploit, 3)\n"
      ],
      "metadata": {
        "colab": {
          "base_uri": "https://localhost:8080/"
        },
        "id": "ZAso2OGDv41y",
        "outputId": "703350ab-7968-4518-9b48-5c78642a09ee"
      },
      "execution_count": 136,
      "outputs": [
        {
          "output_type": "execute_result",
          "data": {
            "text/plain": [
              "(array([17.389, 17.384, 17.32 , 17.335, 17.304, 17.297, 17.037, 16.163,\n",
              "        15.77 , 15.793,  8.525,  8.077,  8.239,  2.581,  3.602,  2.743,\n",
              "         3.371,  1.443,  2.04 ,  2.236]),\n",
              " array([17.389, 17.384, 17.32 , 17.335, 17.302, 17.297, 17.1  , 16.497,\n",
              "        15.77 , 15.798,  8.501,  8.076,  8.239,  1.603,  1.697,  2.415,\n",
              "         3.53 ,  0.808,  1.171,  1.022]))"
            ]
          },
          "metadata": {},
          "execution_count": 136
        }
      ]
    },
    {
      "cell_type": "code",
      "source": [
        "approx_ratio = [np.mean(approx1_ratio),\n",
        "                np.mean(approx2_ratio),\n",
        "                np.mean(approx3_ratio),\n",
        "                np.mean(approx4_ratio),\n",
        "                np.mean(approx5_ratio),\n",
        "                np.mean(approx6_ratio),\n",
        "                np.mean(approx7_ratio),\n",
        "                np.mean(approx8_ratio),\n",
        "                np.mean(approx9_ratio),\n",
        "                np.mean(approx10_ratio),\n",
        "                np.mean(approx11_ratio),\n",
        "                np.mean(approx12_ratio),\n",
        "                np.mean(approx13_ratio),\n",
        "                np.mean(approx14_ratio),\n",
        "                np.mean(approx15_ratio),\n",
        "                np.mean(approx16_ratio),\n",
        "                np.mean(approx17_ratio),\n",
        "                np.mean(approx18_ratio),\n",
        "                np.mean(approx19_ratio),\n",
        "                np.mean(approx20_ratio)]\n",
        "\n",
        "np.mean(approx_ratio)\n"
      ],
      "metadata": {
        "colab": {
          "base_uri": "https://localhost:8080/"
        },
        "id": "O7Dlz50Tv4-s",
        "outputId": "8b7362b4-05e1-4751-ec46-9070391857ea"
      },
      "execution_count": 137,
      "outputs": [
        {
          "output_type": "execute_result",
          "data": {
            "text/plain": [
              "0.982346110674848"
            ]
          },
          "metadata": {},
          "execution_count": 137
        }
      ]
    },
    {
      "cell_type": "code",
      "source": [
        "exact_ratio = [np.mean(exact1_ratio),\n",
        "               np.mean(exact2_ratio),\n",
        "               np.mean(exact3_ratio),\n",
        "               np.mean(exact4_ratio),\n",
        "               np.mean(exact5_ratio),\n",
        "               np.mean(exact6_ratio),\n",
        "               np.mean(exact7_ratio),\n",
        "               np.mean(exact8_ratio),\n",
        "               np.mean(exact9_ratio),\n",
        "               np.mean(exact10_ratio),\n",
        "               np.mean(exact11_ratio),\n",
        "               np.mean(exact12_ratio),\n",
        "               np.mean(exact13_ratio),\n",
        "               np.mean(exact14_ratio),\n",
        "               np.mean(exact15_ratio),\n",
        "               np.mean(exact16_ratio),\n",
        "               np.mean(exact17_ratio),\n",
        "               np.mean(exact18_ratio),\n",
        "               np.mean(exact19_ratio),\n",
        "               np.mean(exact20_ratio)]\n",
        "\n",
        "np.mean(exact_ratio)\n"
      ],
      "metadata": {
        "colab": {
          "base_uri": "https://localhost:8080/"
        },
        "id": "JR4Hd6cTg2n0",
        "outputId": "af978c71-215f-4dea-fba0-abef06934f78"
      },
      "execution_count": 138,
      "outputs": [
        {
          "output_type": "execute_result",
          "data": {
            "text/plain": [
              "0.8975693487964536"
            ]
          },
          "metadata": {},
          "execution_count": 138
        }
      ]
    },
    {
      "cell_type": "code",
      "execution_count": 139,
      "metadata": {
        "colab": {
          "base_uri": "https://localhost:8080/",
          "height": 299
        },
        "id": "UkX9CtiD76La",
        "outputId": "68b83051-4a7f-4b23-a568-5478c3b809ad"
      },
      "outputs": [
        {
          "output_type": "display_data",
          "data": {
            "text/plain": [
              "<Figure size 432x288 with 1 Axes>"
            ],
            "image/png": "[encoded data removed]"
          },
          "metadata": {
            "needs_background": "light"
          }
        }
      ],
      "source": [
        "### Visualise!\n",
        "\n",
        "title = obj_func\n",
        "\n",
        "plt.figure()\n",
        "\n",
        "plt.plot(median_approx, color = 'Yellow')\n",
        "plt.plot(median_exact, color = 'Red')\n",
        "\n",
        "xstar = np.arange(0, max_iter+1, step=1)\n",
        "plt.fill_between(xstar, lower_approx, upper_approx, facecolor = 'Yellow', alpha=0.4, label='GP EI($\\mathbf{x}$):   Synthetic function, log(Regret) IQR')\n",
        "plt.fill_between(xstar, lower_exact, upper_exact, facecolor = 'Red', alpha=0.4, label='GP dEI($\\mathbf{x}$): Synthetic function, log(Regret) IQR')\n",
        "\n",
        "plt.title(title, weight = 'bold')\n",
        "plt.xlabel('(Post-initialisation) iteration $\\it{k}$', weight = 'bold') # x-axis label\n",
        "plt.ylabel('Synthetic Function: log(Regret)', weight = 'bold') # y-axis label\n",
        "plt.legend(loc=0) # add plot legend\n",
        "\n",
        "### Make the x-ticks integers, not floats:\n",
        "count = len(xstar)\n",
        "plt.xticks(np.arange(count), np.arange(0, count))\n",
        "plt.show()\n"
      ]
    },
    {
      "cell_type": "code",
      "source": [
        "### Visualise!\n",
        "\n",
        "title = obj_func\n",
        "\n",
        "plt.figure()\n",
        "\n",
        "plt.plot(approx_ratio, color = 'Yellow', label='GP EI($\\mathbf{x}$):   exploitation ratio')\n",
        "plt.plot(exact_ratio, color = 'Red', ls='-.', label='GP dEI($\\mathbf{x}$): exploitation ratio')\n",
        "\n",
        "plt.title(title, weight = 'bold')\n",
        "plt.xlabel('Experiment $\\it{j}$' , weight = 'bold') # x-axis label\n",
        "plt.ylabel('GP EI, GP dEI: exploitation ratio', weight = 'bold') # y-axis label\n",
        "plt.legend(loc=4) # add plot legend\n",
        "\n",
        "### Make the x-ticks integers, not floats:\n",
        "count = len(xstar)\n",
        "plt.xticks(np.arange(count), np.arange(1, count))\n",
        "plt.show()\n"
      ],
      "metadata": {
        "colab": {
          "base_uri": "https://localhost:8080/",
          "height": 299
        },
        "id": "hKyod0HBzjSz",
        "outputId": "0cbbb7dc-022d-41e6-d99a-7ffe065e6d67"
      },
      "execution_count": 140,
      "outputs": [
        {
          "output_type": "display_data",
          "data": {
            "text/plain": [
              "<Figure size 432x288 with 1 Axes>"
            ],
            "image/png": "[encoded data removed]"
          },
          "metadata": {
            "needs_background": "light"
          }
        }
      ]
    },
    {
      "cell_type": "code",
      "source": [
        "### Visualise!\n",
        "\n",
        "title = obj_func\n",
        "\n",
        "plt.figure()\n",
        "\n",
        "plt.plot(np.sort(approx_ratio)[::-1], color = 'Yellow', label='GP EI($\\mathbf{x}$):   exploitation ratio (sorted)')\n",
        "plt.plot(np.sort(exact_ratio)[::-1], color = 'Red', ls='-.', label='GP dEI($\\mathbf{x}$): exploitation ratio (sorted)')\n",
        "\n",
        "plt.title(title, weight = 'bold')\n",
        "plt.xlabel('Experiment $\\it{j}$ (sorted)' , weight = 'bold') # x-axis label\n",
        "plt.ylabel('GP EI, GP dEI: exploitation ratio', weight = 'bold') # y-axis label\n",
        "plt.legend(loc=0) # add plot legend\n",
        "\n",
        "### Make the x-ticks integers, not floats:\n",
        "count = len(xstar)\n",
        "plt.xticks(np.arange(count), np.arange(1, count))\n",
        "plt.show()\n"
      ],
      "metadata": {
        "id": "Rh9aZDVnHbqf",
        "colab": {
          "base_uri": "https://localhost:8080/",
          "height": 299
        },
        "outputId": "295d6515-61a7-44f9-9998-836ec3e82f3d"
      },
      "execution_count": 141,
      "outputs": [
        {
          "output_type": "display_data",
          "data": {
            "text/plain": [
              "<Figure size 432x288 with 1 Axes>"
            ],
            "image/png": "[encoded data removed]"
          },
          "metadata": {
            "needs_background": "light"
          }
        }
      ]
    },
    {
      "cell_type": "code",
      "source": [],
      "metadata": {
        "id": "adwkIxvdyLhY"
      },
      "execution_count": 141,
      "outputs": []
    }
  ],
  "metadata": {
    "colab": {
      "provenance": []
    },
    "kernelspec": {
      "display_name": "Python 3",
      "language": "python",
      "name": "python3"
    },
    "language_info": {
      "codemirror_mode": {
        "name": "ipython",
        "version": 3
      },
      "file_extension": ".py",
      "mimetype": "text/x-python",
      "name": "python",
      "nbconvert_exporter": "python",
      "pygments_lexer": "ipython3",
      "version": "3.6.5"
    }
  },
  "nbformat": 4,
  "nbformat_minor": 0
}