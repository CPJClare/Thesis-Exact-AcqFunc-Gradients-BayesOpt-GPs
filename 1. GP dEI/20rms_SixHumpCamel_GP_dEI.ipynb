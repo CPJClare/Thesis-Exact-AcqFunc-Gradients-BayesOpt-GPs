{
  "cells": [
    {
      "cell_type": "markdown",
      "metadata": {
        "id": "OrYfJFnSJLkS"
      },
      "source": [
        "Six-Hump Camel synthetic function:\n",
        "\n",
        "GP EI versus GP dEI (winner)\n",
        "\n",
        "https://www.sfu.ca/~ssurjano/camel6.html"
      ]
    },
    {
      "cell_type": "code",
      "execution_count": 1,
      "metadata": {
        "colab": {
          "base_uri": "https://localhost:8080/"
        },
        "id": "2FgAmLMpOX3c",
        "outputId": "25f45661-de7e-4e2d-d013-6ea418fde707"
      },
      "outputs": [
        {
          "output_type": "stream",
          "name": "stdout",
          "text": [
            "Looking in indexes: https://pypi.org/simple, https://us-python.pkg.dev/colab-wheels/public/simple/\n",
            "Requirement already satisfied: pyGPGO in /usr/local/lib/python3.8/dist-packages (0.5.1)\n",
            "Requirement already satisfied: pyMC3 in /usr/local/lib/python3.8/dist-packages (from pyGPGO) (3.11.5)\n",
            "Requirement already satisfied: scikit-learn in /usr/local/lib/python3.8/dist-packages (from pyGPGO) (1.0.2)\n",
            "Requirement already satisfied: Theano-PyMC in /usr/local/lib/python3.8/dist-packages (from pyGPGO) (1.1.2)\n",
            "Requirement already satisfied: scipy in /usr/local/lib/python3.8/dist-packages (from pyGPGO) (1.7.3)\n",
            "Requirement already satisfied: mkl in /usr/local/lib/python3.8/dist-packages (from pyGPGO) (2019.0)\n",
            "Requirement already satisfied: numpy in /usr/local/lib/python3.8/dist-packages (from pyGPGO) (1.21.6)\n",
            "Requirement already satisfied: joblib in /usr/local/lib/python3.8/dist-packages (from pyGPGO) (1.2.0)\n",
            "Requirement already satisfied: intel-openmp in /usr/local/lib/python3.8/dist-packages (from mkl->pyGPGO) (2023.0.0)\n",
            "Requirement already satisfied: typing-extensions>=3.7.4 in /usr/local/lib/python3.8/dist-packages (from pyMC3->pyGPGO) (4.4.0)\n",
            "Requirement already satisfied: fastprogress>=0.2.0 in /usr/local/lib/python3.8/dist-packages (from pyMC3->pyGPGO) (1.0.3)\n",
            "Requirement already satisfied: pandas>=0.24.0 in /usr/local/lib/python3.8/dist-packages (from pyMC3->pyGPGO) (1.3.5)\n",
            "Requirement already satisfied: dill in /usr/local/lib/python3.8/dist-packages (from pyMC3->pyGPGO) (0.3.6)\n",
            "Requirement already satisfied: patsy>=0.5.1 in /usr/local/lib/python3.8/dist-packages (from pyMC3->pyGPGO) (0.5.3)\n",
            "Requirement already satisfied: deprecat in /usr/local/lib/python3.8/dist-packages (from pyMC3->pyGPGO) (2.1.1)\n",
            "Requirement already satisfied: arviz>=0.11.0 in /usr/local/lib/python3.8/dist-packages (from pyMC3->pyGPGO) (0.12.1)\n",
            "Requirement already satisfied: semver>=2.13.0 in /usr/local/lib/python3.8/dist-packages (from pyMC3->pyGPGO) (2.13.0)\n",
            "Requirement already satisfied: cachetools>=4.2.1 in /usr/local/lib/python3.8/dist-packages (from pyMC3->pyGPGO) (5.2.0)\n",
            "Requirement already satisfied: filelock in /usr/local/lib/python3.8/dist-packages (from Theano-PyMC->pyGPGO) (3.9.0)\n",
            "Requirement already satisfied: threadpoolctl>=2.0.0 in /usr/local/lib/python3.8/dist-packages (from scikit-learn->pyGPGO) (3.1.0)\n",
            "Requirement already satisfied: matplotlib>=3.0 in /usr/local/lib/python3.8/dist-packages (from arviz>=0.11.0->pyMC3->pyGPGO) (3.2.2)\n",
            "Requirement already satisfied: xarray>=0.16.1 in /usr/local/lib/python3.8/dist-packages (from arviz>=0.11.0->pyMC3->pyGPGO) (2022.12.0)\n",
            "Requirement already satisfied: xarray-einstats>=0.2 in /usr/local/lib/python3.8/dist-packages (from arviz>=0.11.0->pyMC3->pyGPGO) (0.4.0)\n",
            "Requirement already satisfied: setuptools>=38.4 in /usr/local/lib/python3.8/dist-packages (from arviz>=0.11.0->pyMC3->pyGPGO) (57.4.0)\n",
            "Requirement already satisfied: netcdf4 in /usr/local/lib/python3.8/dist-packages (from arviz>=0.11.0->pyMC3->pyGPGO) (1.6.2)\n",
            "Requirement already satisfied: packaging in /usr/local/lib/python3.8/dist-packages (from arviz>=0.11.0->pyMC3->pyGPGO) (21.3)\n",
            "Requirement already satisfied: python-dateutil>=2.7.3 in /usr/local/lib/python3.8/dist-packages (from pandas>=0.24.0->pyMC3->pyGPGO) (2.8.2)\n",
            "Requirement already satisfied: pytz>=2017.3 in /usr/local/lib/python3.8/dist-packages (from pandas>=0.24.0->pyMC3->pyGPGO) (2022.7)\n",
            "Requirement already satisfied: six in /usr/local/lib/python3.8/dist-packages (from patsy>=0.5.1->pyMC3->pyGPGO) (1.15.0)\n",
            "Requirement already satisfied: wrapt<2,>=1.10 in /usr/local/lib/python3.8/dist-packages (from deprecat->pyMC3->pyGPGO) (1.14.1)\n",
            "Requirement already satisfied: kiwisolver>=1.0.1 in /usr/local/lib/python3.8/dist-packages (from matplotlib>=3.0->arviz>=0.11.0->pyMC3->pyGPGO) (1.4.4)\n",
            "Requirement already satisfied: cycler>=0.10 in /usr/local/lib/python3.8/dist-packages (from matplotlib>=3.0->arviz>=0.11.0->pyMC3->pyGPGO) (0.11.0)\n",
            "Requirement already satisfied: pyparsing!=2.0.4,!=2.1.2,!=2.1.6,>=2.0.1 in /usr/local/lib/python3.8/dist-packages (from matplotlib>=3.0->arviz>=0.11.0->pyMC3->pyGPGO) (3.0.9)\n",
            "Requirement already satisfied: cftime in /usr/local/lib/python3.8/dist-packages (from netcdf4->arviz>=0.11.0->pyMC3->pyGPGO) (1.6.2)\n"
          ]
        }
      ],
      "source": [
        "pip install pyGPGO\n"
      ]
    },
    {
      "cell_type": "code",
      "execution_count": 2,
      "metadata": {
        "id": "Dn_SAbhVJLke"
      },
      "outputs": [],
      "source": [
        "### Import modules:\n",
        "\n",
        "import numpy as np\n",
        "import scipy as sp\n",
        "import pandas as pd\n",
        "import matplotlib.pyplot as plt\n",
        "import random\n",
        "import warnings\n",
        "import itertools\n",
        "\n",
        "from pyGPGO.logger import EventLogger\n",
        "from pyGPGO.GPGO import GPGO\n",
        "from pyGPGO.surrogates.GaussianProcess import GaussianProcess\n",
        "from pyGPGO.surrogates.tStudentProcess import tStudentProcess, logpdf\n",
        "from pyGPGO.acquisition import Acquisition\n",
        "from pyGPGO.covfunc import squaredExponential\n",
        "\n",
        "from collections import OrderedDict\n",
        "from joblib import Parallel, delayed\n",
        "from numpy.linalg import slogdet, inv, cholesky, solve\n",
        "from scipy.optimize import minimize\n",
        "from scipy.spatial.distance import cdist\n",
        "from scipy.special import gamma\n",
        "from scipy.stats import norm, t\n",
        "from matplotlib.pyplot import rc\n",
        "\n",
        "rc('text', usetex=False)\n",
        "plt.rcParams['text.latex.preamble']=[r'\\usepackage{amsmath}']\n",
        "plt.rcParams['text.latex.preamble'] = [r'\\boldmath']\n",
        "\n",
        "warnings.filterwarnings(\"ignore\", category=FutureWarning)\n",
        "warnings.filterwarnings(\"ignore\", category=RuntimeWarning)\n",
        "warnings.filterwarnings(\"ignore\", category=UserWarning)\n"
      ]
    },
    {
      "cell_type": "code",
      "execution_count": 3,
      "metadata": {
        "id": "4Nwg_XO0JLki"
      },
      "outputs": [],
      "source": [
        "### Inputs:\n",
        "\n",
        "obj_func = 'SixHumpCamel'\n",
        "n_test = 500 # test points\n",
        "eps = 1e-08\n",
        "df = 3 # nu\n",
        "\n",
        "util = 'EI'\n",
        "n_init = 5 # random initialisations\n",
        "\n",
        "cov_func = squaredExponential()\n",
        "hyperOpt = True\n"
      ]
    },
    {
      "cell_type": "code",
      "execution_count": 4,
      "metadata": {
        "id": "DVYGZ6jYJLkj"
      },
      "outputs": [],
      "source": [
        "### Objective function:\n",
        "\n",
        "if obj_func == 'SixHumpCamel':\n",
        "    \n",
        "    # True y bounds:\n",
        "    operator = -1\n",
        "    y_lb = -1.0316 # targets global minimum\n",
        "    y_global_orig = y_lb * operator # targets global minimum\n",
        "\n",
        "# Constraints:\n",
        "    lb_x1 = -3 \n",
        "    ub_x1 = +3\n",
        "    lb_x2 = -2 \n",
        "    ub_x2 = +2\n",
        "\n",
        "# Input array dimension(s):\n",
        "    dim = 2\n",
        "\n",
        "# 2-D inputs' parameter bounds:\n",
        "    param = {'x1_training': ('cont', [lb_x1, ub_x1]),\n",
        "             'x2_training': ('cont', [lb_x2, ub_x2])}\n",
        "\n",
        "# Test data:\n",
        "    x1_test = np.linspace(lb_x1, ub_x1, n_test)\n",
        "    x2_test = np.linspace(lb_x2, ub_x2, n_test)\n",
        "    Xstar_d = np.column_stack((x1_test, x2_test))\n",
        "\n",
        "    def f_syn_polarity(x1_training, x2_training):\n",
        "        return operator * ((4 - 2.1 * x1_training ** 2 + 1 / 3 * x1_training ** 4) * x1_training ** 2 +\n",
        "                (x1_training * x2_training) + (-4 + 4 * x2_training ** 2) * x2_training ** 2)\n",
        "        "
      ]
    },
    {
      "cell_type": "code",
      "execution_count": 5,
      "metadata": {
        "id": "S9JivCxiYACE"
      },
      "outputs": [],
      "source": [
        "max_iter = dim * 10  # iterations of Bayesian optimisation\n",
        "Beta_CBM = dim\n"
      ]
    },
    {
      "cell_type": "code",
      "execution_count": 6,
      "metadata": {
        "id": "hE7COdNcJLkl"
      },
      "outputs": [],
      "source": [
        "### Cumulative Regret Calculator:\n",
        "\n",
        "def min_array(x):\n",
        "    new_list = []\n",
        "    for i, num in enumerate(x):\n",
        "            new_list.append(np.min(x[0:i+1]))\n",
        "    return new_list\n"
      ]
    },
    {
      "cell_type": "code",
      "execution_count": 7,
      "metadata": {
        "id": "gkY6wLl_JLkm"
      },
      "outputs": [],
      "source": [
        "### Set-seeds:\n",
        "\n",
        "run_num_1 = 1\n",
        "run_num_2 = 2\n",
        "run_num_3 = 3\n",
        "run_num_4 = 4\n",
        "run_num_5 = 5\n",
        "run_num_6 = 6\n",
        "run_num_7 = 7\n",
        "run_num_8 = 8\n",
        "run_num_9 = 9\n",
        "run_num_10 = 10\n",
        "run_num_11 = 11\n",
        "run_num_12 = 12\n",
        "run_num_13 = 13\n",
        "run_num_14 = 14\n",
        "run_num_15 = 15\n",
        "run_num_16 = 16\n",
        "run_num_17 = 17\n",
        "run_num_18 = 18\n",
        "run_num_19 = 19\n",
        "run_num_20 = 20\n"
      ]
    },
    {
      "cell_type": "code",
      "execution_count": 8,
      "metadata": {
        "id": "t-StV6KfkrJe"
      },
      "outputs": [],
      "source": [
        "### Surrogate derivatives: \n",
        "\n",
        "def kronDelta(X, Xstar):                     # Kronecker's Delta method\n",
        "    return cdist(X, Xstar) < np.finfo(np.float32).eps\n",
        "\n",
        "def se(X, Xstar, sigmaf, l, sigman):         # S.E. kernel method\n",
        "    return sigmaf * np.exp(-0.5 * cdist(X, Xstar) ** 2 / l ** 2) + sigman * kronDelta(X, Xstar)\n",
        "\n",
        "def delta(X, Xstar):                         # Distance between training X and test Xstar vectors\n",
        "    return (X - Xstar)\n",
        "   \n",
        "def der_covmat(X, Xstar, sigmaf, l, sigman): # Covariance matrix derivative terms (i.e. exact, first-order)\n",
        "    nx = len(X)\n",
        "    ny = len(Xstar)\n",
        "    return np.round(np.array([(delta(np.atleast_2d(i), np.atleast_2d(j))[0] * se(np.atleast_2d(i), np.atleast_2d(j), sigmaf, l, sigman)[0]).sum() for (i, j) in itertools.product(X, Xstar)]).reshape(nx, ny), 8)\n",
        "\n",
        "class dGaussianProcess(GaussianProcess):    # Via inheritance, also optimises hyperparameters when opt = TRUE\n",
        "    \n",
        "    def AcqGrad(self, Xstar):               # Method returning exact, first-order derivatives of the GP's posterior mean and standard deviation\n",
        "        Xstar = np.atleast_2d(Xstar)\n",
        "        Kstar = self.covfunc.K(self.X, Xstar).T\n",
        "        \n",
        "        dKstar = der_covmat(self.X, Xstar, self.covfunc.sigmaf, self.covfunc.l, self.covfunc.sigman).T\n",
        "        alpha_Kstar = np.dot(np.linalg.inv(self.K + (self.covfunc.sigman**2) * np.eye(len(self.X))), Kstar.T)\n",
        "        \n",
        "        dm = np.dot(dKstar, self.alpha)\n",
        "        ds = -2 * np.dot(dKstar, alpha_Kstar)\n",
        "        \n",
        "        return dm, ds           \n"
      ]
    },
    {
      "cell_type": "code",
      "execution_count": 9,
      "metadata": {
        "id": "Mh53nXeyJLko"
      },
      "outputs": [],
      "source": [
        "### Add exact acquisition function gradient as attribute:\n",
        "\n",
        "class Acquisition_grad(Acquisition):    \n",
        "    def __init__(self, mode, eps=eps, **params):\n",
        "        \n",
        "        self.params = params\n",
        "        self.eps = eps\n",
        "\n",
        "        mode_dict = {\n",
        "            'EI': self.EI\n",
        "        }\n",
        "\n",
        "        self.f = mode_dict[mode]\n",
        "    \n",
        "    def EI(self, tau, mean, std, ds, dm):\n",
        "        gamma = (mean - tau - self.eps) / (std + self.eps)\n",
        "        gamma_h = (mean - tau) / (std + self.eps)\n",
        "        dsdx = ds / (2 * (std + self.eps))\n",
        "        dmdx = (dm - gamma * dsdx) / (std + self.eps)\n",
        "        \n",
        "        f = (std + self.eps) * (gamma * norm.cdf(gamma) + norm.pdf(gamma))\n",
        "        df1 = f / (std + self.eps) * dsdx \n",
        "        df2 = (std + self.eps) * norm.cdf(gamma) * dmdx\n",
        "        df = (df1 + df2)[0]\n",
        "        df_arr = []\n",
        "\n",
        "        for j in range(0, dim):\n",
        "          df_arr.append(df)\n",
        "        return f, np.asarray(df_arr).transpose()\n",
        "        \n",
        "    def d_eval(self, tau, mean, std, ds, dm):\n",
        "    \n",
        "        return self.f(tau, mean, std, ds, dm, **self.params)\n",
        "        "
      ]
    },
    {
      "cell_type": "code",
      "execution_count": 10,
      "metadata": {
        "id": "xSwpeFj-Y-Hl"
      },
      "outputs": [],
      "source": [
        "n_start_AcqFunc = max_iter\n",
        "inverse = -1\n"
      ]
    },
    {
      "cell_type": "code",
      "execution_count": 11,
      "metadata": {
        "id": "YorxhvyZXyfZ"
      },
      "outputs": [],
      "source": [
        "## GPGO_approx: BayesOpt class, acquision function optimised using approximate acquisition function gradients\n",
        "\n",
        "n_start = n_start_AcqFunc\n",
        "\n",
        "class GPGO_approx(GPGO):\n",
        "  \n",
        "    def __init__(self, surrogate, acquisition, f, parameter_dict, n_jobs=1):\n",
        "        self.GP = surrogate\n",
        "        self.A = acquisition\n",
        "        self.f = f\n",
        "        self.parameters = parameter_dict\n",
        "        self.n_jobs = n_jobs\n",
        "\n",
        "        self.parameter_key = list(parameter_dict.keys())\n",
        "        self.parameter_value = list(parameter_dict.values())\n",
        "        self.parameter_type = [p[0] for p in self.parameter_value]\n",
        "        self.parameter_range = [p[1] for p in self.parameter_value]\n",
        "\n",
        "        self.history = []\n",
        "        self.header =   'Evaluation \\t Proposed point \\t  Current eval. \\t  Best eval. \\t         GP EI: maximum y \\t GP EI: exploit'\n",
        "        self.template = '{:3}\\t {}\\t {:3}\\t {:3}\\t {:3}\\t {:3}'\n",
        "  \n",
        "    def acqfuncApprox(self, xnew):\n",
        "        new_mean, new_var = self.GP.predict(xnew, return_std=True)\n",
        "        new_std = np.sqrt(new_var + eps)\n",
        "        dm, ds = self.GP.AcqGrad(xnew)\n",
        "        f, df = self.A.d_eval(self.tau, new_mean, new_std, ds=ds, dm=dm)\n",
        "\n",
        "        return -f\n",
        "\n",
        "    def acqfuncApproxMeanTerm(self, xnew):\n",
        "        new_mean, new_var = self.GP.predict(xnew, return_std=True)\n",
        "        new_std = np.sqrt(new_var + eps)\n",
        "        gamma = (new_mean - self.tau - eps) / (new_std + eps) \n",
        "        \n",
        "        dm, ds = self.GP.AcqGrad(xnew)\n",
        "        dsdx = ds / (2 * (new_std + eps))\n",
        "        dmdx = (dm - gamma * dsdx) / (new_std + eps)\n",
        "            \n",
        "        f = (new_std + eps) * (gamma * norm.cdf(gamma))\n",
        "        df1 = norm.cdf(gamma) * gamma * dsdx\n",
        "        df2 = (new_std + eps) * (norm.cdf(gamma) * dmdx + norm.pdf(gamma) * gamma)\n",
        "        df = df1 + df2\n",
        "\n",
        "        return -f\n",
        "\n",
        "    def _optimizeAcq(self, method='L-BFGS-B'):\n",
        "        \n",
        "        start_points_dict = [self._sampleParam() for i in range(n_start)]\n",
        "        start_points_arr = np.array([list(s.values())\n",
        "                                     for s in start_points_dict])\n",
        "        x_best = np.empty((n_start, len(self.parameter_key)))\n",
        "        f_best = np.empty((n_start,))\n",
        "        opt = Parallel(n_jobs=self.n_jobs)(delayed(minimize)(self.acqfuncApprox,\n",
        "                                                                 x0=start_point,\n",
        "                                                                 method=method,\n",
        "                                                                 jac = False,\n",
        "                                                                 bounds=self.parameter_range) for start_point in\n",
        "                                               start_points_arr)\n",
        "        x_best = np.array([res.x for res in opt])\n",
        "        f_best = np.array([np.atleast_1d(res.fun)[0] for res in opt])\n",
        "        self.x_best = x_best\n",
        "        self.f_best = f_best\n",
        "        self.best = x_best[np.argmin(f_best)]\n",
        "        self.start_points_arr = start_points_arr\n",
        "        self.min_acqfuncApprox = -min(self.f_best)\n",
        "        self.history.append(self.min_acqfuncApprox)\n",
        "\n",
        "        opt_exploit = Parallel(n_jobs=self.n_jobs)(delayed(minimize)(self.acqfuncApproxMeanTerm,\n",
        "                                                                 x0=start_point,\n",
        "                                                                 method=method,\n",
        "                                                                 jac = False,\n",
        "                                                                 bounds=self.parameter_range) for start_point in\n",
        "                                               start_points_arr)\n",
        "        f_best_exploit = np.array([np.atleast_1d(res.fun)[0] for res in opt_exploit])\n",
        "        self.f_best_exploit = f_best_exploit\n",
        "        self.min_acqfuncApprox_exploit = -min(self.f_best_exploit)\n",
        "        self.history.append(self.min_acqfuncApprox_exploit)\n",
        "        \n",
        "    def _printInit(self):\n",
        "        print(self.header)\n",
        "        for init_eval in range(self.init_evals):\n",
        "            print(self.template.format('init', self.GP.X[init_eval], inverse * self.GP.y[init_eval], inverse * self.tau, '', ''))\n",
        "      \n",
        "    def _printCurrent(self):\n",
        "        OKGREEN = '\\033[92m'\n",
        "        ENDC = '\\033[0m'\n",
        "        BOLD = '\\033[1m'\n",
        "        eval = str(len(self.GP.y) - self.init_evals)\n",
        "        proposed = str(self.best)\n",
        "        curr_eval = str(inverse * self.GP.y[-1])\n",
        "        curr_best = str(inverse * self.tau)\n",
        "        min_acqfuncApprox = self.min_acqfuncApprox\n",
        "        min_acqfuncApprox_exploit = self.min_acqfuncApprox_exploit\n",
        "        if float(curr_eval) <= float(curr_best):\n",
        "            eval = BOLD + OKGREEN + eval + ENDC\n",
        "            proposed = BOLD + OKGREEN + proposed + ENDC\n",
        "            curr_eval = BOLD + OKGREEN + curr_eval + ENDC\n",
        "            curr_best = BOLD + OKGREEN + curr_best + ENDC\n",
        "            min_acqfuncApprox = BOLD + OKGREEN + str(min_acqfuncApprox) + ENDC\n",
        "            min_acqfuncApprox_exploit = BOLD + OKGREEN + str(min_acqfuncApprox_exploit) + ENDC\n",
        "        print(self.template.format(eval, proposed, curr_eval, curr_best, min_acqfuncApprox, min_acqfuncApprox_exploit))\n",
        "        \n",
        "    def run(self, max_iter=10, init_evals=3, resume=False):\n",
        "        \n",
        "        if not resume:\n",
        "            self.init_evals = init_evals\n",
        "            self._firstRun(self.init_evals)\n",
        "            self._printInit()\n",
        "        for iteration in range(max_iter):\n",
        "            self._optimizeAcq()\n",
        "            self.updateGP()\n",
        "            self._printCurrent()\n"
      ]
    },
    {
      "cell_type": "code",
      "execution_count": 12,
      "metadata": {
        "id": "QaOjAKNoXynM"
      },
      "outputs": [],
      "source": [
        "## GPGO_exact: BayesOpt class, acquision function optimised using exact acquisition function gradients\n",
        "\n",
        "class GPGO_exact(GPGO):\n",
        "\n",
        "    def __init__(self, surrogate, acquisition, f, parameter_dict, n_jobs=1):\n",
        "        self.GP = surrogate\n",
        "        self.A = acquisition\n",
        "        self.f = f\n",
        "        self.parameters = parameter_dict\n",
        "        self.n_jobs = n_jobs\n",
        "\n",
        "        self.parameter_key = list(parameter_dict.keys())\n",
        "        self.parameter_value = list(parameter_dict.values())\n",
        "        self.parameter_type = [p[0] for p in self.parameter_value]\n",
        "        self.parameter_range = [p[1] for p in self.parameter_value]\n",
        "\n",
        "        self.history = []\n",
        "        self.header =   'Evaluation \\t Proposed point \\t  Current eval. \\t  Best eval. \\t         GP dEI: maximum y \\t GP dEI: exploit'\n",
        "        self.template = '{:3}\\t {}\\t {:3}\\t {:3}\\t {:3}\\t {:3}'\n",
        " \n",
        "    def acqfuncExact(self, xnew):\n",
        "        new_mean, new_var = self.GP.predict(xnew, return_std=True)\n",
        "        new_std = np.sqrt(new_var + eps)\n",
        "        dm, ds = self.GP.AcqGrad(xnew)\n",
        "        f, df = self.A.d_eval(self.tau, new_mean, new_std, ds=ds, dm=dm)\n",
        "\n",
        "        return -f, -df\n",
        "\n",
        "    def acqfuncExactExploitTerm(self, xnew):\n",
        "        new_mean, new_var = self.GP.predict(xnew, return_std=True)\n",
        "        new_std = np.sqrt(new_var + eps)\n",
        "        gamma = (new_mean - self.tau - eps) / (new_std + eps) \n",
        "        \n",
        "        dm, ds = self.GP.AcqGrad(xnew)\n",
        "        dsdx = ds / (2 * (new_std + eps))\n",
        "        dmdx = (dm - gamma * dsdx) / (new_std + eps)\n",
        "            \n",
        "        f = (new_std + eps) * (gamma * norm.cdf(gamma))\n",
        "        df1 = norm.cdf(gamma) * gamma * dsdx\n",
        "        df2 = (new_std + eps) * (norm.cdf(gamma) * dmdx + norm.pdf(gamma) * gamma)\n",
        "        df = -(df1 + df2)[0]\n",
        "        df_arr = []\n",
        "\n",
        "        for j in range(0, dim):\n",
        "          df_arr.append(df)\n",
        "        return -f, np.asarray(df_arr).transpose()\n",
        "\n",
        "    def _optimizeAcq(self, method='L-BFGS-B'):\n",
        "        \n",
        "        start_points_dict = [self._sampleParam() for i in range(n_start)]\n",
        "        start_points_arr = np.array([list(s.values())\n",
        "                                     for s in start_points_dict])\n",
        "        x_best = np.empty((n_start, len(self.parameter_key)))\n",
        "        f_best = np.empty((n_start,))\n",
        "        opt = Parallel(n_jobs=self.n_jobs)(delayed(minimize)(self.acqfuncExact,\n",
        "                                                                 x0=start_point,\n",
        "                                                                 method=method,\n",
        "                                                                 jac = True,\n",
        "                                                                 bounds=self.parameter_range) for start_point in\n",
        "                                               start_points_arr)\n",
        "        x_best = np.array([res.x for res in opt])\n",
        "        f_best = np.array([np.atleast_1d(res.fun)[0] for res in opt])\n",
        "        self.x_best = x_best\n",
        "        self.f_best = f_best\n",
        "        self.best = x_best[np.argmin(f_best)]\n",
        "        self.start_points_arr = start_points_arr\n",
        "        self.min_acqfuncExact = -min(self.f_best)\n",
        "        self.history.append(self.min_acqfuncExact) \n",
        "        \n",
        "        opt_exploit = Parallel(n_jobs=self.n_jobs)(delayed(minimize)(self.acqfuncExactExploitTerm,\n",
        "                                                                 x0=start_point,\n",
        "                                                                 method=method,\n",
        "                                                                 jac = True,\n",
        "                                                                 bounds=self.parameter_range) for start_point in\n",
        "                                               start_points_arr)\n",
        "        f_best_exploit = np.array([np.atleast_1d(res.fun)[0] for res in opt_exploit])\n",
        "        self.f_best_exploit = f_best_exploit\n",
        "        self.min_acqfuncExact_exploit = -min(self.f_best_exploit)\n",
        "        self.history.append(self.min_acqfuncExact_exploit)\n",
        "            \n",
        "    def _printInit(self):\n",
        "        print(self.header)\n",
        "        for init_eval in range(self.init_evals):\n",
        "            print(self.template.format('init', self.GP.X[init_eval], inverse * self.GP.y[init_eval], inverse * self.tau, '', ''))\n",
        "      \n",
        "    def _printCurrent(self):\n",
        "        OKGREEN = '\\033[92m'\n",
        "        ENDC = '\\033[0m'\n",
        "        BOLD = '\\033[1m'\n",
        "        eval = str(len(self.GP.y) - self.init_evals)\n",
        "        proposed = str(self.best)\n",
        "        curr_eval = str(inverse * self.GP.y[-1])\n",
        "        curr_best = str(inverse * self.tau)\n",
        "        min_acqfuncExact = self.min_acqfuncExact\n",
        "        min_acqfuncExact_exploit = self.min_acqfuncExact_exploit\n",
        "        if float(curr_eval) <= float(curr_best):\n",
        "            eval = BOLD + OKGREEN + eval + ENDC\n",
        "            proposed = BOLD + OKGREEN + proposed + ENDC\n",
        "            curr_eval = BOLD + OKGREEN + curr_eval + ENDC\n",
        "            curr_best = BOLD + OKGREEN + curr_best + ENDC\n",
        "            min_acqfuncExact = BOLD + OKGREEN + str(min_acqfuncExact) + ENDC\n",
        "            min_acqfuncExact_exploit = BOLD + OKGREEN + str(min_acqfuncExact_exploit) + ENDC\n",
        "        print(self.template.format(eval, proposed, curr_eval, curr_best, min_acqfuncExact, min_acqfuncExact_exploit))\n",
        "\n",
        "    def run(self, max_iter=10, init_evals=3, resume=False):\n",
        "        \n",
        "        if not resume:\n",
        "            self.init_evals = init_evals\n",
        "            self._firstRun(self.init_evals)\n",
        "            self._printInit()\n",
        "        for iteration in range(max_iter):\n",
        "            self._optimizeAcq()\n",
        "            self.updateGP()\n",
        "            self._printCurrent()\n"
      ]
    },
    {
      "cell_type": "code",
      "execution_count": 13,
      "metadata": {
        "colab": {
          "base_uri": "https://localhost:8080/"
        },
        "id": "Fio5AsW9JLkp",
        "outputId": "b32ab22a-870a-475f-a86c-f555c18b68d8",
        "scrolled": false
      },
      "outputs": [
        {
          "output_type": "stream",
          "name": "stdout",
          "text": [
            "Evaluation \t Proposed point \t  Current eval. \t  Best eval. \t         GP EI: maximum y \t GP EI: exploit\n",
            "init\t [-0.49786797  0.88129797]\t -0.2650082867644827\t -0.2650082867644827\t    \t    \n",
            "init\t [-2.99931375 -0.79066971]\t 110.13991869176735\t -0.2650082867644827\t    \t    \n",
            "init\t [-2.11946466 -1.63064562]\t 26.90935479429681\t -0.2650082867644827\t    \t    \n",
            "init\t [-1.88243873 -0.61775709]\t 2.8558363102363344\t -0.2650082867644827\t    \t    \n",
            "init\t [-0.61939515  0.15526694]\t 1.0540522096005847\t -0.2650082867644827\t    \t    \n",
            "1  \t [-1.19209699 -0.31431616]\t 2.418604194089478\t -0.2650082867644827\t 1.5097990090803877\t 0.9188024152555437\n",
            "2  \t [-0.22547579  1.70883971]\t 22.240849622618942\t -0.2650082867644827\t 0.7046348253537699\t -3.18617719852186e-20\n",
            "3  \t [ 2.48246431 -1.70176508]\t 40.65026890583644\t -0.2650082867644827\t 0.6723744435129764\t -2.580485742773404e-80\n",
            "4  \t [3. 2.]\t 162.89999999999998\t -0.2650082867644827\t 0.6723360499298292\t -1.3838913333865292e-190\n",
            "5  \t [-3.  2.]\t 150.89999999999998\t -0.2650082867644827\t 0.6683819182371965\t -4.094324562287294e-63\n",
            "6  \t [-0.58935416 -0.48427705]\t 0.7172893452801496\t -0.2650082867644827\t 1.7543231365727925\t 1.3005961712042113\n",
            "7  \t [-0.62476117 -0.40876799]\t 0.9598789644377128\t -0.2650082867644827\t 1.0890895911681777\t 0.5100697236800197\n",
            "8  \t [-0.64302548 -0.37126206]\t 1.0818433619377557\t -0.2650082867644827\t 0.7817499738039786\t 0.16748531800124275\n",
            "9  \t [ 0.78636389 -0.03010281]\t 1.7220002170695694\t -0.2650082867644827\t 0.6270586626343103\t -0.0\n",
            "10 \t [ 0.08552815 -2.        ]\t 47.85809171060208\t -0.2650082867644827\t 0.6336745036259179\t -4.376920488470933e-298\n",
            "11 \t [-0.72526502  0.00631218]\t 1.5667728945315373\t -0.2650082867644827\t 0.7956375630962886\t -9.549476720009049e-84\n",
            "12 \t [-0.72510363 -0.00295731]\t 1.5731355983264401\t -0.2650082867644827\t 0.5925170540270308\t -2.1160949695865236e-275\n",
            "13 \t [-0.72512159 -0.00975332]\t 1.5777719827163406\t -0.2650082867644827\t 0.46870240125796797\t -5.289934371354869e-96\n",
            "14 \t [-0.72520472 -0.01493155]\t 1.5812662448411932\t -0.2650082867644827\t 0.3873727549023849\t -0.0\n",
            "15 \t [-0.72530603 -0.01899165]\t 1.58396579706333\t -0.2650082867644827\t 0.33080050793277543\t -5.452383983172052e-160\n",
            "16 \t [-0.72540518 -0.02224737]\t 1.5860901072922569\t -0.2650082867644827\t 0.2896428693909632\t -0.0\n",
            "17 \t [-0.72549509 -0.02490598]\t 1.5877896271043106\t -0.2650082867644827\t 0.25860587282626585\t -0.0\n",
            "18 \t [-0.72557331 -0.02711027]\t 1.5891674613557774\t -0.2650082867644827\t 0.23450732402756438\t -5.640104387178114e-281\n",
            "19 \t [-0.72563997 -0.02896172]\t 1.5902979763085254\t -0.2650082867644827\t 0.2153389003231261\t -0.0\n",
            "20 \t [-0.72569611 -0.03053467]\t 1.591235725733698\t -0.2650082867644827\t 0.19978031815408354\t -1.116355678776207e-296\n"
          ]
        }
      ],
      "source": [
        "### Bayesian optimisation runs (x20): 'GP EI' Acquisition Function run number = 1\n",
        "\n",
        "np.random.seed(run_num_1)\n",
        "surrogate_approx_1 = dGaussianProcess(cov_func, optimize=hyperOpt)\n",
        "\n",
        "approx_1 = GPGO_approx(surrogate_approx_1, Acquisition_grad(util), f_syn_polarity, param, n_jobs = -1) # define BayesOpt\n",
        "approx_1.run(max_iter = max_iter, init_evals = n_init) # run\n"
      ]
    },
    {
      "cell_type": "code",
      "execution_count": 14,
      "metadata": {
        "colab": {
          "base_uri": "https://localhost:8080/"
        },
        "id": "6CLxOiUrJLks",
        "outputId": "de3cfcf5-aee6-4c2a-8f92-c0d612734c35"
      },
      "outputs": [
        {
          "output_type": "stream",
          "name": "stdout",
          "text": [
            "Evaluation \t Proposed point \t  Current eval. \t  Best eval. \t         GP EI: maximum y \t GP EI: exploit\n",
            "init\t [-0.38403059 -1.89629507]\t 38.61280125654363\t 0.011939608840498828\t    \t    \n",
            "init\t [ 0.29797487 -0.25871043]\t 0.011939608840498828\t 0.011939608840498828\t    \t    \n",
            "init\t [-0.47779319 -0.67866072]\t 0.1381453419305213\t 0.011939608840498828\t    \t    \n",
            "init\t [-1.7721082   0.47708387]\t 0.626144759281101\t 0.011939608840498828\t    \t    \n",
            "init\t [-1.20207196 -0.9326909 ]\t 3.0693811601417798\t 0.011939608840498828\t    \t    \n",
            "1  \t [-0.39431495 -0.08552524]\t 0.5771014397304058\t 0.011939608840498828\t 0.906568619126185\t 0.16886228428524486\n",
            "2  \t [ 1.85203999 -0.19665791]\t 1.9520503538370169\t 0.011939608840498828\t 0.8038997384103904\t 0.006208404590324406\n",
            "3  \t [0.73875436 2.        ]\t 51.08923695270019\t 0.011939608840498828\t 0.8038430929767131\t 0.005972625477217093\n",
            "4  \t [ 3. -2.]\t 150.89999999999998\t 0.011939608840498828\t 0.8036905829278483\t 0.00581941657059811\n",
            "5  \t [-3.  2.]\t 150.89999999999998\t 0.011939608840498828\t 0.8036394057940972\t 0.00576822293053113\n",
            "6  \t [-3. -2.]\t 162.89999999999998\t 0.011939608840498828\t 0.803404592401801\t 0.0055321786545947365\n",
            "7  \t [-0.98446418  1.00392892]\t 1.2510228029565031\t 0.011939608840498828\t 0.7123240726279719\t 0.0005472551285922244\n",
            "8  \t [3.         1.41046782]\t 121.00488481415645\t 0.011939608840498828\t 0.798421903148686\t 0.004919278488341197\n",
            "9  \t [-1.05187709  0.07738194]\t 2.2012232871578425\t 0.011939608840498828\t 2.5707480759935812\t 2.3494341715910028\n",
            "10 \t [-1.04872867  0.07012655]\t 2.209449497499625\t 0.011939608840498828\t 1.244700331214423\t 0.7072365978183145\n",
            "11 \t [-1.04797819  0.06274854]\t 2.2201894067207766\t 0.011939608840498828\t 0.6983081313844446\t 0.0733771343040906\n",
            "12 \t [ 0.89652751 -0.28380572]\t 1.4807911337323192\t 0.011939608840498828\t 0.6967446060840481\t -1.4949746661619352e-194\n",
            "13 \t [-1.03780577  0.05468583]\t 2.2199099348333333\t 0.011939608840498828\t 0.4570508737574433\t -2.0008581459772167e-284\n",
            "14 \t [ 0.87820674 -0.28092565]\t 1.4513055590929895\t 0.011939608840498828\t 0.42769582776810977\t -0.0\n",
            "15 \t [-1.02827933  0.04654446]\t 2.219156478689629\t 0.011939608840498828\t 0.3265809534826946\t -5.378967205194149e-221\n",
            "16 \t [ 0.86390274 -0.27887932]\t 1.4263456818835707\t 0.011939608840498828\t 0.32497543932778533\t -1.2234652655623818e-231\n",
            "17 \t [ 0.85334798 -0.27712367]\t 1.4078599556634304\t 0.011939608840498828\t 0.2716443169418498\t -6.924125166225961e-206\n",
            "18 \t [-1.01153628  0.0374812 ]\t 2.207784594567266\t 0.011939608840498828\t 0.25095860660681213\t -5.438037762593063e-197\n",
            "19 \t [ 0.84238084 -0.27573163]\t 1.3868311728856082\t 0.011939608840498828\t 0.2415103274586657\t -0.0\n",
            "\u001b[1m\u001b[92m20\u001b[0m\t \u001b[1m\u001b[92m[-0.08609633 -0.09442052]\u001b[0m\t \u001b[1m\u001b[92m0.002321305387935013\u001b[0m\t \u001b[1m\u001b[92m0.002321305387935013\u001b[0m\t \u001b[1m\u001b[92m0.2332210931065261\u001b[0m\t \u001b[1m\u001b[92m-0.0\u001b[0m\n"
          ]
        }
      ],
      "source": [
        "### Bayesian optimisation runs (x20): 'GP EI' Acquisition Function run number = 2\n",
        "\n",
        "np.random.seed(run_num_2)\n",
        "surrogate_approx_2 = dGaussianProcess(cov_func, optimize=hyperOpt)\n",
        "\n",
        "approx_2 = GPGO_approx(surrogate_approx_2, Acquisition_grad(util), f_syn_polarity, param, n_jobs = -1) # define BayesOpt\n",
        "approx_2.run(max_iter = max_iter, init_evals = n_init) # run\n"
      ]
    },
    {
      "cell_type": "code",
      "execution_count": 15,
      "metadata": {
        "colab": {
          "base_uri": "https://localhost:8080/"
        },
        "id": "OrboSzBtJLku",
        "outputId": "be0828d3-2439-447a-bb47-2a62de7376bf"
      },
      "outputs": [
        {
          "output_type": "stream",
          "name": "stdout",
          "text": [
            "Evaluation \t Proposed point \t  Current eval. \t  Best eval. \t         GP EI: maximum y \t GP EI: exploit\n",
            "init\t [0.30478742 0.83259129]\t -0.2431922946563294\t -0.2431922946563294\t    \t    \n",
            "init\t [-1.25457157  0.04331042]\t 2.3313310458730996\t -0.2431922946563294\t    \t    \n",
            "init\t [2.35768173 1.58517236]\t 33.54152175045586\t -0.2431922946563294\t    \t    \n",
            "init\t [-2.24648814 -1.17102849]\t 14.214109412296352\t -0.2431922946563294\t    \t    \n",
            "init\t [-2.69119678 -0.23676063]\t 45.87579771712209\t -0.2431922946563294\t    \t    \n",
            "1  \t [-0.2309166   0.29148206]\t -0.1709116466540207\t -0.2431922946563294\t 0.9349098832252827\t 0.22236108255766499\n",
            "\u001b[1m\u001b[92m2\u001b[0m\t \u001b[1m\u001b[92m[-0.39661823  0.8583581 ]\u001b[0m\t \u001b[1m\u001b[92m-0.5376272709585427\u001b[0m\t \u001b[1m\u001b[92m-0.5376272709585427\u001b[0m\t \u001b[1m\u001b[92m0.7838215742349289\u001b[0m\t \u001b[1m\u001b[92m0.11260893335953687\u001b[0m\n",
            "3  \t [-0.20567488  0.24083004]\t -0.10259756511713929\t -0.5376272709585427\t 0.6200783228144964\t -8.927864977605781e-24\n",
            "4  \t [-0.53334406  1.38957064]\t 7.4244290218126\t -0.5376272709585427\t 0.6048661533028978\t -1.1946452846117504e-26\n",
            "5  \t [ 0.02178157 -0.23983294]\t -0.22017189571021173\t -0.5376272709585427\t 0.704778016502448\t 0.012668948063616603\n",
            "6  \t [-0.02409238 -0.13744117]\t -0.06850061181348849\t -0.5376272709585427\t 0.6065599935116409\t -1.8088780354387517e-35\n",
            "7  \t [ 3. -2.]\t 150.89999999999998\t -0.5376272709585427\t 0.5571587749655829\t -7.311386667876368e-38\n",
            "8  \t [-0.07264048 -0.08893959]\t -0.003881964359290259\t -0.5376272709585427\t 0.5473882066312279\t -1.2519414683018637e-193\n",
            "9  \t [-0.07142552 -0.05714462]\t 0.011414014791689008\t -0.5376272709585427\t 0.5064858227368411\t -0.0\n",
            "10 \t [-0.22246467 -2.        ]\t 48.63778831110919\t -0.5376272709585427\t 0.4969692226675957\t -4.769611800849869e-259\n",
            "11 \t [-0.00934143  0.33240337]\t -0.39589016298952323\t -0.5376272709585427\t 0.692784194189684\t 0.09065728352892564\n",
            "12 \t [-0.01396807  0.33100883]\t -0.394091011262704\t -0.5376272709585427\t 0.6653401101896214\t 0.06718914040199478\n",
            "13 \t [-0.01747423  0.32991571]\t -0.3925329372144878\t -0.5376272709585427\t 0.6445660276830729\t -5.60990992097804e-34\n",
            "14 \t [-0.02021278  0.32903378]\t -0.3911860125081714\t -0.5376272709585427\t 0.6282665987307665\t 0.03618077161920581\n",
            "15 \t [-0.02240347  0.32830684]\t -0.3900188561961237\t -0.5376272709585427\t 0.6151202075029568\t -4.081147777193543e-93\n",
            "16 \t [-0.02419046  0.32769691]\t -0.38900183256611176\t -0.5376272709585427\t 0.6042822129807875\t -2.980925705352433e-30\n",
            "17 \t [-0.02567215  0.32717785]\t -0.3881105838051082\t -0.5376272709585427\t 0.5951867659426017\t 0.009246214596983484\n",
            "18 \t [-0.02691758  0.32673039]\t -0.38732406954766957\t -0.5376272709585427\t 0.587440140817892\t -1.7001024793924604e-141\n",
            "19 \t [-0.02797697  0.32634077]\t -0.3866261046874206\t -0.5376272709585427\t 0.5807596315173791\t -6.060120829133545e-273\n",
            "20 \t [-0.0288874   0.32599831]\t -0.3860029516244495\t -0.5376272709585427\t 0.5749368737216659\t -4.237516701015442e-33\n"
          ]
        }
      ],
      "source": [
        "### Bayesian optimisation runs (x20): 'GP EI' Acquisition Function run number = 3\n",
        "\n",
        "np.random.seed(run_num_3)\n",
        "surrogate_approx_3 = dGaussianProcess(cov_func, optimize=hyperOpt)\n",
        "\n",
        "approx_3 = GPGO_approx(surrogate_approx_3, Acquisition_grad(util), f_syn_polarity, param, n_jobs = -1) # define BayesOpt\n",
        "approx_3.run(max_iter = max_iter, init_evals = n_init) # run\n"
      ]
    },
    {
      "cell_type": "code",
      "execution_count": 16,
      "metadata": {
        "colab": {
          "base_uri": "https://localhost:8080/"
        },
        "id": "wmlwMmKcJLkv",
        "outputId": "f944804f-16cf-488d-da65-dc797c6f2ebe"
      },
      "outputs": [
        {
          "output_type": "stream",
          "name": "stdout",
          "text": [
            "Evaluation \t Proposed point \t  Current eval. \t  Best eval. \t         GP EI: maximum y \t GP EI: exploit\n",
            "init\t [2.80217903 0.188929  ]\t 63.70212732873661\t 2.3196402150601703\t    \t    \n",
            "init\t [2.83610616 0.85926397]\t 71.43837110827245\t 2.3196402150601703\t    \t    \n",
            "init\t [ 1.18637295 -1.13564202]\t 2.5463267765341566\t 2.3196402150601703\t    \t    \n",
            "init\t [ 2.85764673 -1.97507898]\t 113.76785286351424\t 2.3196402150601703\t    \t    \n",
            "init\t [-1.48210583 -0.26083387]\t 2.3196402150601703\t 2.3196402150601703\t    \t    \n",
            "\u001b[1m\u001b[92m1\u001b[0m\t \u001b[1m\u001b[92m[ 0.13819595 -1.09159236]\u001b[0m\t \u001b[1m\u001b[92m0.8378729983345513\u001b[0m\t \u001b[1m\u001b[92m0.8378729983345513\u001b[0m\t \u001b[1m\u001b[92m3.7916921413335207\u001b[0m\t \u001b[1m\u001b[92m3.684891882473408\u001b[0m\n",
            "\u001b[1m\u001b[92m2\u001b[0m\t \u001b[1m\u001b[92m[ 0.16279961 -1.07402786]\u001b[0m\t \u001b[1m\u001b[92m0.6381310288891437\u001b[0m\t \u001b[1m\u001b[92m0.6381310288891437\u001b[0m\t \u001b[1m\u001b[92m1.4908153932174946\u001b[0m\t \u001b[1m\u001b[92m0.9767803202631784\u001b[0m\n",
            "3  \t [-3.  2.]\t 150.89999999999998\t 0.6381310288891437\t 1.1409869665791987\t 0.49880683286920197\n",
            "4  \t [-3. -2.]\t 162.89999999999998\t 0.6381310288891437\t 1.1311537715140516\t 0.5539689936175095\n",
            "\u001b[1m\u001b[92m5\u001b[0m\t \u001b[1m\u001b[92m[-0.26848645 -0.13256574]\u001b[0m\t \u001b[1m\u001b[92m0.24408538465589355\u001b[0m\t \u001b[1m\u001b[92m0.24408538465589355\u001b[0m\t \u001b[1m\u001b[92m1.4217620586582336\u001b[0m\t \u001b[1m\u001b[92m0.8161805050127187\u001b[0m\n",
            "\u001b[1m\u001b[92m6\u001b[0m\t \u001b[1m\u001b[92m[ 0.09461061 -0.68489841]\u001b[0m\t \u001b[1m\u001b[92m-1.0253392627072793\u001b[0m\t \u001b[1m\u001b[92m-1.0253392627072793\u001b[0m\t \u001b[1m\u001b[92m0.9224907685939852\u001b[0m\t \u001b[1m\u001b[92m0.30799160228171607\u001b[0m\n",
            "7  \t [ 0.06534235 -0.61164432]\t -0.9595316410739002\t -1.0253392627072793\t 0.3757524225430191\t -0.0\n",
            "8  \t [ 0.0592899  -0.59809247]\t -0.9404450650068944\t -1.0253392627072793\t 0.4022465212132319\t -1.0226810956147208e-122\n",
            "9  \t [ 0.05520847 -0.58916912]\t -0.9268658524950629\t -1.0253392627072793\t 0.41999243962128235\t -1.5674716280875528e-122\n",
            "10 \t [ 0.05231963 -0.58296652]\t -0.9169748147227864\t -1.0253392627072793\t 0.4324847910278676\t -0.0\n",
            "11 \t [ 0.05020237 -0.57848202]\t -0.9095995901565014\t -1.0253392627072793\t 0.441642544640907\t -0.0\n",
            "12 \t [ 0.04860564 -0.57513759]\t -0.9039793728094603\t -1.0253392627072793\t 0.44858221616454874\t -0.0\n",
            "13 \t [ 0.04737384 -0.57258043]\t -0.8996140250606074\t -1.0253392627072793\t 0.45398727815228607\t -0.0\n",
            "14 \t [ 0.04640608 -0.57058544]\t -0.8961678291456997\t -1.0253392627072793\t 0.45829486784157814\t -5.449300494373481e-225\n",
            "15 \t [ 0.04563304 -0.56900126]\t -0.8934061493173955\t -1.0253392627072793\t 0.46179528964180716\t -0.0\n",
            "16 \t [ 0.04500641 -0.56772377]\t -0.8911629660356095\t -1.0253392627072793\t 0.46468754536938406\t -8.986226541518836e-266\n",
            "17 \t [ 0.04449233 -0.56668006]\t -0.8893196537076937\t -1.0253392627072793\t 0.4671118869214649\t -1.2404216340638136e-196\n",
            "18 \t [ 0.04406645 -0.56581788]\t -0.8877898166582933\t -1.0253392627072793\t 0.4691696151303567\t -1.6719851366456176e-169\n",
            "19 \t [ 0.04370925 -0.56509756]\t -0.8865066474767459\t -1.0253392627072793\t 0.4709354891820724\t -4.632869185006404e-168\n",
            "20 \t [ 0.04340743 -0.56449043]\t -0.8854216226252406\t -1.0253392627072793\t 0.4724656687832457\t -2.8023432189371632e-251\n"
          ]
        }
      ],
      "source": [
        "### Bayesian optimisation runs (x20): 'GP EI' Acquisition Function run number = 4\n",
        "\n",
        "np.random.seed(run_num_4)\n",
        "surrogate_approx_4 = dGaussianProcess(cov_func, optimize=hyperOpt)\n",
        "\n",
        "approx_4 = GPGO_approx(surrogate_approx_4, Acquisition_grad(util), f_syn_polarity, param, n_jobs = -1) # define BayesOpt\n",
        "approx_4.run(max_iter = max_iter, init_evals = n_init) # run\n"
      ]
    },
    {
      "cell_type": "code",
      "execution_count": 17,
      "metadata": {
        "colab": {
          "base_uri": "https://localhost:8080/"
        },
        "id": "ntlcfbyWJLkw",
        "outputId": "0143d7cd-08e1-4c41-ec33-db965ce25133"
      },
      "outputs": [
        {
          "output_type": "stream",
          "name": "stdout",
          "text": [
            "Evaluation \t Proposed point \t  Current eval. \t  Best eval. \t         GP EI: maximum y \t GP EI: exploit\n",
            "init\t [-1.66804097  1.48292922]\t 10.126030408244933\t -0.6512780061070701\t    \t    \n",
            "init\t [-1.75968507  1.67444363]\t 19.4300499315822\t -0.6512780061070701\t    \t    \n",
            "init\t [-0.06953287  0.44697545]\t -0.6512780061070701\t -0.6512780061070701\t    \t    \n",
            "init\t [1.59544714 0.07367195]\t 2.168775388880503\t -0.6512780061070701\t    \t    \n",
            "init\t [-1.21919699 -1.24911509]\t 7.420330936884148\t -0.6512780061070701\t    \t    \n",
            "1  \t [0.32583964 1.00818374]\t 0.7967371894748262\t -0.6512780061070701\t 0.523408070519103\t -1.693962554295879e-07\n",
            "2  \t [ 3. -2.]\t 150.89999999999998\t -0.6512780061070701\t 0.5131927061669258\t -1.9718622393957618e-07\n",
            "3  \t [3. 2.]\t 162.89999999999998\t -0.6512780061070701\t 0.508620246487194\t -2.1274764913661798e-265\n",
            "4  \t [0.4254109 0.0313057]\t 0.6664962659071133\t -0.6512780061070701\t 0.4887484722236481\t -1.7841268738158813e-65\n",
            "5  \t [-3. -2.]\t 162.89999999999998\t -0.6512780061070701\t 0.4234000297201961\t -0.0\n",
            "6  \t [-0.00420925 -0.36483768]\t -0.4599501642496032\t -0.6512780061070701\t 0.4013201649202892\t -0.0\n",
            "7  \t [ 0.00399182 -0.33000859]\t -0.38943449561075455\t -0.6512780061070701\t 0.4276522417509588\t -9.22958585393881e-279\n",
            "8  \t [ 0.0138439  -0.29924543]\t -0.32949224039472225\t -0.6512780061070701\t 0.43235391465066214\t -9.45451451621421e-247\n",
            "9  \t [ 0.02489497 -0.27195011]\t -0.2782409465414962\t -0.6512780061070701\t 0.4299798133980376\t -7.20840389813857e-79\n",
            "10 \t [ 0.03619908 -0.24852848]\t -0.2355638743363945\t -0.6512780061070701\t 0.42488819411531414\t -0.0\n",
            "11 \t [ 0.04635343 -0.22980511]\t -0.2021531891099208\t -0.6512780061070701\t 0.41881940588386274\t -2.102294597809029e-206\n",
            "12 \t [ 0.05396003 -0.21655482]\t -0.17884338398716013\t -0.6512780061070701\t 0.41262422206767296\t -4.162945013103474e-171\n",
            "13 \t [ 0.05830289 -0.20882735]\t -0.16543110325052388\t -0.6512780061070701\t 0.40678945542329736\t -0.0\n",
            "14 \t [ 0.05984308 -0.20551774]\t -0.1598150779660937\t -0.6512780061070701\t 0.40159402759557405\t -4.615159415976739e-246\n",
            "15 \t [ 0.05987865 -0.2046672 ]\t -0.1584763778393738\t -0.6512780061070701\t 0.39713975614265234\t -1.7886884140081791e-196\n",
            "\u001b[1m\u001b[92m16\u001b[0m\t \u001b[1m\u001b[92m[ 0.05084815 -0.83604028]\u001b[0m\t \u001b[1m\u001b[92m-0.8738373293595434\u001b[0m\t \u001b[1m\u001b[92m-0.8738373293595434\u001b[0m\t \u001b[1m\u001b[92m0.3936941146754298\u001b[0m\t \u001b[1m\u001b[92m-8.992458589323219e-97\u001b[0m\n",
            "17 \t [ 0.05708295 -1.06224934]\t 0.5317890536611886\t -0.8738373293595434\t 0.37809288652189066\t -0.0\n",
            "18 \t [-0.00097637 -0.34438859]\t -0.4178067713869296\t -0.8738373293595434\t 0.3232568670274142\t -7.761424621993707e-280\n",
            "19 \t [-0.00589407 -0.34798768]\t -0.42353526338515035\t -0.8738373293595434\t 0.326313060795958\t -0.0\n",
            "20 \t [-0.01066141 -0.35133531]\t -0.42859936102146906\t -0.8738373293595434\t 0.32911671519821617\t -0.0\n"
          ]
        }
      ],
      "source": [
        "### Bayesian optimisation runs (x20): 'GP EI' Acquisition Function run number = 5\n",
        "\n",
        "np.random.seed(run_num_5)\n",
        "surrogate_approx_5 = dGaussianProcess(cov_func, optimize=hyperOpt)\n",
        "\n",
        "approx_5 = GPGO_approx(surrogate_approx_5, Acquisition_grad(util), f_syn_polarity, param, n_jobs = -1) # define BayesOpt\n",
        "approx_5.run(max_iter = max_iter, init_evals = n_init) # run\n"
      ]
    },
    {
      "cell_type": "code",
      "execution_count": 18,
      "metadata": {
        "colab": {
          "base_uri": "https://localhost:8080/"
        },
        "id": "HHrK2qnsJLkx",
        "outputId": "27e87f28-304d-418e-ab5b-d000eba7e63b"
      },
      "outputs": [
        {
          "output_type": "stream",
          "name": "stdout",
          "text": [
            "Evaluation \t Proposed point \t  Current eval. \t  Best eval. \t         GP EI: maximum y \t GP EI: exploit\n",
            "init\t [ 2.35716091 -0.67208078]\t 11.995980169715628\t -0.3096187466378422\t    \t    \n",
            "init\t [ 1.92737474 -1.8332135 ]\t 31.167927894156623\t -0.3096187466378422\t    \t    \n",
            "init\t [-2.35405992  0.38020826]\t 13.013381745677465\t -0.3096187466378422\t    \t    \n",
            "init\t [ 0.17890417 -0.32477029]\t -0.3096187466378422\t -0.3096187466378422\t    \t    \n",
            "init\t [-0.9875529   0.49007773]\t 0.9989196280666852\t -0.3096187466378422\t    \t    \n",
            "1  \t [0.19888424 0.91003727]\t -0.23327669759911474\t -0.3096187466378422\t 0.7522208865862204\t 0.003127391473709932\n",
            "\u001b[1m\u001b[92m2\u001b[0m\t \u001b[1m\u001b[92m[0.11616366 0.67403998]\u001b[0m\t \u001b[1m\u001b[92m-0.8597635887265809\u001b[0m\t \u001b[1m\u001b[92m-0.8597635887265809\u001b[0m\t \u001b[1m\u001b[92m0.6621933034826909\u001b[0m\t \u001b[1m\u001b[92m-1.1360177718910707e-11\u001b[0m\n",
            "3  \t [0.13061593 0.7053691 ]\t -0.8402109420699337\t -0.8597635887265809\t 0.4609708623254385\t -1.1001710103484286e-13\n",
            "4  \t [0.13127649 0.70691014]\t -0.8388869269372223\t -0.8597635887265809\t 0.4803783256048187\t -5.695663322062996e-13\n",
            "5  \t [0.1317468  0.70800797]\t -0.8379177577819039\t -0.8597635887265809\t 0.49301007810746145\t -3.216356152421428e-08\n",
            "6  \t [0.132092   0.70881635]\t -0.8371919685687033\t -0.8597635887265809\t 0.5018683368751614\t -3.814518716238767e-12\n",
            "7  \t [0.13235777 0.70943924]\t -0.8366249285112739\t -0.8597635887265809\t 0.5084148937104974\t -6.168882468173681e-10\n",
            "8  \t [0.1325656  0.70992661]\t -0.8361764745401212\t -0.8597635887265809\t 0.5134445994582972\t -1.673530040545186e-17\n",
            "9  \t [0.13273242 0.71031933]\t -0.8358130786940723\t -0.8597635887265809\t 0.5174267259318811\t -5.556532026702785e-22\n",
            "10 \t [0.13286912 0.71064192]\t -0.8355130256306187\t -0.8597635887265809\t 0.520655623745021\t -8.896842943532761e-21\n",
            "11 \t [0.13298282 0.71091116]\t -0.8352618088556387\t -0.8597635887265809\t 0.5233251538603513\t -6.862062915619102e-17\n",
            "12 \t [0.13307854 0.71113758]\t -0.8350493348323778\t -0.8597635887265809\t 0.52556813828849\t -2.744929923924807e-16\n",
            "13 \t [0.1331601  0.71133065]\t -0.8348675144761074\t -0.8597635887265809\t 0.5274785937237799\t -1.7945973751612827e-07\n",
            "14 \t [0.13323081 0.71149958]\t -0.8347090079460051\t -0.8597635887265809\t 0.5291248896641543\t -1.2060323714309638e-20\n",
            "15 \t [0.13329181 0.71164469]\t -0.8345719751160661\t -0.8597635887265809\t 0.5305578781957391\t -5.44494152639465e-17\n",
            "16 \t [0.13334576 0.71177218]\t -0.8344506382355464\t -0.8597635887265809\t 0.531816257598441\t -4.962748112321634e-11\n",
            "17 \t [0.1333926  0.71188382]\t -0.8343448369822637\t -0.8597635887265809\t 0.5329298789528218\t -4.584957415556076e-20\n",
            "18 \t [0.13343535 0.71198605]\t -0.8342480094082858\t -0.8597635887265809\t 0.5339222404366046\t -5.651982841483243e-18\n",
            "19 \t [0.13347304 0.71207593]\t -0.8341625275356023\t -0.8597635887265809\t 0.5348119354730175\t -1.0436786999558198e-16\n",
            "20 \t [0.13350657 0.71215627]\t -0.8340862844328427\t -0.8597635887265809\t 0.5356140368958606\t -3.0318562895144426e-08\n"
          ]
        }
      ],
      "source": [
        "### Bayesian optimisation runs (x20): 'GP EI' Acquisition Function run number = 6\n",
        "\n",
        "np.random.seed(run_num_6)\n",
        "surrogate_approx_6 = dGaussianProcess(cov_func, optimize=hyperOpt)\n",
        "\n",
        "approx_6 = GPGO_approx(surrogate_approx_6, Acquisition_grad(util), f_syn_polarity, param, n_jobs = -1) # define BayesOpt\n",
        "approx_6.run(max_iter = max_iter, init_evals = n_init) # run\n"
      ]
    },
    {
      "cell_type": "code",
      "execution_count": 19,
      "metadata": {
        "colab": {
          "base_uri": "https://localhost:8080/"
        },
        "id": "rht2Y9u8JLky",
        "outputId": "7970a49e-81d3-4e31-a93b-e431378e1509"
      },
      "outputs": [
        {
          "output_type": "stream",
          "name": "stdout",
          "text": [
            "Evaluation \t Proposed point \t  Current eval. \t  Best eval. \t         GP EI: maximum y \t GP EI: exploit\n",
            "init\t [-2.54215026  1.11967517]\t 26.53843863832488\t -0.46481072558790276\t    \t    \n",
            "init\t [-0.36954461  0.89386071]\t -0.46481072558790276\t -0.46481072558790276\t    \t    \n",
            "init\t [2.86793707 0.15398348]\t 76.66051064695093\t -0.46481072558790276\t    \t    \n",
            "init\t [ 0.00672278 -1.71179547]\t 22.613010892757885\t -0.46481072558790276\t    \t    \n",
            "init\t [-1.38936612e+00 -4.69996698e-04]\t 2.294585534557751\t -0.46481072558790276\t    \t    \n",
            "1  \t [0.14003009 1.65200772]\t 19.18503288903285\t -0.46481072558790276\t 0.6285586421843669\t -2.7342928706042297e-10\n",
            "2  \t [-2.0069916  -0.34039291]\t 4.09787808897999\t -0.46481072558790276\t 0.5869305043864016\t -0.18969464864866273\n",
            "3  \t [-0.47109136  0.58002622]\t -0.3783020334196958\t -0.46481072558790276\t 0.6533643807880518\t -2.970760562160921e-33\n",
            "\u001b[1m\u001b[92m4\u001b[0m\t \u001b[1m\u001b[92m[-0.14196887  0.42856901]\u001b[0m\t \u001b[1m\u001b[92m-0.5808180226262771\u001b[0m\t \u001b[1m\u001b[92m-0.5808180226262771\u001b[0m\t \u001b[1m\u001b[92m0.620625425244183\u001b[0m\t \u001b[1m\u001b[92m-2.7362527767352515e-13\u001b[0m\n",
            "5  \t [-0.3520866   0.51707111]\t -0.5013495032619739\t -0.5808180226262771\t 0.5782423919830233\t -6.851604936659261e-101\n",
            "6  \t [-0.74791688  0.80059305]\t 0.11945089884471094\t -0.5808180226262771\t 0.5798053684303173\t -3.8754633388687424e-107\n",
            "7  \t [0.00554696 0.23992917]\t -0.21555469228399216\t -0.5808180226262771\t 0.5748081780965778\t -1.2753085106667197e-08\n",
            "8  \t [-0.30597075  0.47659807]\t -0.49168647804879007\t -0.5808180226262771\t 0.555707813982134\t -5.935889048991322e-13\n",
            "9  \t [-0.31146829  0.47559684]\t -0.4796604854951852\t -0.5808180226262771\t 0.5493556376400373\t -4.053307382089913e-11\n",
            "10 \t [ 2.23965942 -2.        ]\t 52.81669322644354\t -0.5808180226262771\t 0.5408706932686737\t -2.7996794737202905e-108\n",
            "11 \t [-0.51752651  0.20528451]\t 0.6593924490417203\t -0.5808180226262771\t 0.5889088935499368\t -4.88423611155296e-68\n",
            "12 \t [-0.50812506  0.22134553]\t 0.5996650119571225\t -0.5808180226262771\t 0.4949108195920925\t -5.626741076942989e-76\n",
            "13 \t [-3. -2.]\t 162.89999999999998\t -0.5808180226262771\t 0.454421191392451\t -2.8110677369255537e-115\n",
            "14 \t [-0.69559919  0.18571101]\t 1.2191666932721872\t -0.5808180226262771\t 0.6515863529704449\t -1.3613107711767453e-163\n",
            "15 \t [-0.67249505  0.20280743]\t 1.1161754194333593\t -0.5808180226262771\t 0.5167054628001923\t -9.605486153961211e-225\n",
            "16 \t [-0.6551003   0.21512702]\t 1.0387232268197732\t -0.5808180226262771\t 0.4352851977590451\t -4.7793816839680885e-116\n",
            "17 \t [-0.64177448  0.22433425]\t 0.9793982461578562\t -0.5808180226262771\t 0.3816481970842801\t -9.369658646871933e-107\n",
            "18 \t [-0.63138772  0.23142036]\t 0.9331185551856559\t -0.5808180226262771\t 0.3439920282431638\t -9.995435254063217e-75\n",
            "19 \t [-0.62315742  0.2370077 ]\t 0.8963852739608025\t -0.5808180226262771\t 0.31625958236458734\t -2.3905613717860504e-204\n",
            "20 \t [-0.61653728  0.24150335]\t 0.8667672916264283\t -0.5808180226262771\t 0.2950658461348611\t -1.813700839754149e-102\n"
          ]
        }
      ],
      "source": [
        "### Bayesian optimisation runs (x20): 'GP EI' Acquisition Function run number = 7\n",
        "\n",
        "np.random.seed(run_num_7)\n",
        "surrogate_approx_7 = dGaussianProcess(cov_func, optimize=hyperOpt)\n",
        "\n",
        "approx_7 = GPGO_approx(surrogate_approx_7, Acquisition_grad(util), f_syn_polarity, param, n_jobs = -1) # define BayesOpt\n",
        "approx_7.run(max_iter = max_iter, init_evals = n_init) # run\n"
      ]
    },
    {
      "cell_type": "code",
      "execution_count": 20,
      "metadata": {
        "colab": {
          "base_uri": "https://localhost:8080/"
        },
        "id": "vHGwZn0qJLkz",
        "outputId": "dbe552c0-c299-4508-81bc-5945695f256a"
      },
      "outputs": [
        {
          "output_type": "stream",
          "name": "stdout",
          "text": [
            "Evaluation \t Proposed point \t  Current eval. \t  Best eval. \t         GP EI: maximum y \t GP EI: exploit\n",
            "init\t [2.24057642 1.87416265]\t 48.82879577505094\t 0.03190064766213015\t    \t    \n",
            "init\t [2.21516724 0.12342277]\t 8.660623551418242\t 0.03190064766213015\t    \t    \n",
            "init\t [-1.60363003 -1.95440478]\t 48.28332373939171\t 0.03190064766213015\t    \t    \n",
            "init\t [-0.41718709 -0.39059456]\t 0.2801229037700297\t 0.03190064766213015\t    \t    \n",
            "init\t [ 0.13604803 -0.08643282]\t 0.03190064766213015\t 0.03190064766213015\t    \t    \n",
            "1  \t [-0.77086886  0.84272184]\t 0.23242422233356008\t 0.03190064766213015\t 0.91523883411738\t 0.16304433145541153\n",
            "2  \t [-3.  2.]\t 150.89999999999998\t 0.03190064766213015\t 0.8081807517734181\t 0.05405622153987977\n",
            "\u001b[1m\u001b[92m3\u001b[0m\t \u001b[1m\u001b[92m[-0.24360329  0.39126551]\u001b[0m\t \u001b[1m\u001b[92m-0.38387907993258125\u001b[0m\t \u001b[1m\u001b[92m-0.38387907993258125\u001b[0m\t \u001b[1m\u001b[92m0.9759772757460892\u001b[0m\t \u001b[1m\u001b[92m0.3369673502044986\u001b[0m\n",
            "4  \t [-0.24416435  0.38712394]\t -0.3730716827364074\t -0.38387907993258125\t 0.686632366675899\t 0.045499183942687066\n",
            "5  \t [-0.24497437  0.38151423]\t -0.3583721394862776\t -0.38387907993258125\t 0.658142316348085\t 0.033685437020028595\n",
            "6  \t [-0.24548886  0.37772027]\t -0.3484894307524471\t -0.38387907993258125\t 0.6386790718805223\t 0.024883880206347138\n",
            "7  \t [-0.2458453   0.37499111]\t -0.3414070906142888\t -0.38387907993258125\t 0.6244577707323191\t 0.018090516473920713\n",
            "8  \t [-0.24610789  0.37294036]\t -0.33609725752416875\t -0.38387907993258125\t 0.6135701027722159\t 0.012686256565678965\n",
            "9  \t [-0.24630977  0.37134801]\t -0.3319800612204693\t -0.38387907993258125\t 0.6049432786061872\t 0.008279812046239433\n",
            "10 \t [-0.24647043  0.3700801 ]\t -0.32870371795340836\t -0.38387907993258125\t 0.597925139754555\t 0.004613981003397587\n",
            "11 \t [-0.2466018   0.36904918]\t -0.3260399362999102\t -0.38387907993258125\t 0.5920951400581358\t 0.001513293536884799\n",
            "12 \t [-0.24671159  0.36819663]\t -0.3238362064230144\t -0.38387907993258125\t 0.5871690487433165\t -0.0\n",
            "13 \t [-0.24680461  0.36748147]\t -0.32198689773412287\t -0.38387907993258125\t 0.582947793957174\t -0.0\n",
            "14 \t [-0.24688463  0.36687377]\t -0.3204144699002144\t -0.38387907993258125\t 0.5792872732631079\t -0.0\n",
            "15 \t [-0.24695496  0.36635307]\t -0.31906486443026977\t -0.38387907993258125\t 0.5760806696867599\t -1.1626435849655777e-23\n",
            "16 \t [-0.24701641  0.36590137]\t -0.31789372004302957\t -0.38387907993258125\t 0.573246907815455\t -1.1815755762048859e-83\n",
            "17 \t [-0.24707155  0.36550774]\t -0.316870972461664\t -0.38387907993258125\t 0.5707232807218484\t -0.0\n",
            "18 \t [-0.24712039  0.36516102]\t -0.31596985238786884\t -0.38387907993258125\t 0.568460797123926\t -2.8285763926441155e-304\n",
            "19 \t [ 3. -2.]\t 150.89999999999998\t -0.38387907993258125\t 0.5672463831954421\t -3.9172608249974885e-59\n",
            "20 \t [-0.23979027  0.3626011 ]\t -0.32060106173175296\t -0.38387907993258125\t 0.5635673539166531\t -9.602420967504536e-37\n"
          ]
        }
      ],
      "source": [
        "### Bayesian optimisation runs (x20): 'GP EI' Acquisition Function run number = 8\n",
        "\n",
        "np.random.seed(run_num_8)\n",
        "surrogate_approx_8 = dGaussianProcess(cov_func, optimize=hyperOpt)\n",
        "\n",
        "approx_8 = GPGO_approx(surrogate_approx_8, Acquisition_grad(util), f_syn_polarity, param, n_jobs = -1) # define BayesOpt\n",
        "approx_8.run(max_iter = max_iter, init_evals = n_init) # run\n"
      ]
    },
    {
      "cell_type": "code",
      "execution_count": 21,
      "metadata": {
        "colab": {
          "base_uri": "https://localhost:8080/"
        },
        "id": "YC6sxKgkJLkz",
        "outputId": "156ee2ec-ca58-445b-c927-685f6da0b7ab"
      },
      "outputs": [
        {
          "output_type": "stream",
          "name": "stdout",
          "text": [
            "Evaluation \t Proposed point \t  Current eval. \t  Best eval. \t         GP EI: maximum y \t GP EI: exploit\n",
            "init\t [-2.93775508  0.00749837]\t 92.35857237145763\t 1.395407492769129\t    \t    \n",
            "init\t [-0.02536024 -1.46468188]\t 9.867672894921913\t 1.395407492769129\t    \t    \n",
            "init\t [-2.14733349 -1.1257653 ]\t 10.24680089963123\t 1.395407492769129\t    \t    \n",
            "init\t [-0.48895092 -1.00759533]\t 1.395407492769129\t 1.395407492769129\t    \t    \n",
            "init\t [-2.49564209 -0.61800544]\t 24.58298635463645\t 1.395407492769129\t    \t    \n",
            "1  \t [0.19950386 1.29272168]\t 4.899980086595864\t 1.395407492769129\t 1.6825554726423106\t 1.057126604330861\n",
            "2  \t [ 3.         -0.21547441]\t 108.07648258328325\t 1.395407492769129\t 1.6820245197700332\t 1.0564403128392896\n",
            "3  \t [-1.44939862  2.        ]\t 47.32689265929798\t 1.395407492769129\t 1.5059197460104214\t 0.8311636268008732\n",
            "4  \t [-1.57484893 -2.        ]\t 53.238148922947346\t 1.395407492769129\t 1.0433687877426328\t -4.07714106958632e-98\n",
            "\u001b[1m\u001b[92m5\u001b[0m\t \u001b[1m\u001b[92m[-0.51196048 -0.15338005]\u001b[0m\t \u001b[1m\u001b[92m0.8967863571366157\u001b[0m\t \u001b[1m\u001b[92m0.8967863571366157\u001b[0m\t \u001b[1m\u001b[92m1.6385935301672818\u001b[0m\t \u001b[1m\u001b[92m1.029214586600586\u001b[0m\n",
            "6  \t [1.95347264 2.        ]\t 55.113868859122576\t 0.8967863571366157\t 1.2563661046213588\t 0.518857093735155\n",
            "\u001b[1m\u001b[92m7\u001b[0m\t \u001b[1m\u001b[92m[-0.03140947 -0.13756292]\u001b[0m\t \u001b[1m\u001b[92m-0.06599686781721516\u001b[0m\t \u001b[1m\u001b[92m-0.06599686781721516\u001b[0m\t \u001b[1m\u001b[92m1.014501483810162\u001b[0m\t \u001b[1m\u001b[92m0.358350524281743\u001b[0m\n",
            "8  \t [-0.02686178 -0.13539285]\t -0.06545874131171577\t -0.06599686781721516\t 0.5303606380893381\t -2.309052473664528e-171\n",
            "9  \t [-0.02767321 -0.13577531]\t -0.06556101760447572\t -0.06599686781721516\t 0.5386226500392177\t -2.886305540999885e-170\n",
            "10 \t [-0.02817043 -0.1360105 ]\t -0.06562215097077609\t -0.06599686781721516\t 0.5436240640014566\t -1.7033837877036718e-109\n",
            "11 \t [-0.0285055  -0.13616929]\t -0.06566262736998782\t -0.06599686781721516\t 0.5469794884856354\t -1.47357667704373e-141\n",
            "12 \t [-0.02874732 -0.13628429]\t -0.06569173655003248\t -0.06599686781721516\t 0.5493877096205713\t -1.0343817334165917e-143\n",
            "13 \t [-0.02892922 -0.13637086]\t -0.06571341899543652\t -0.06599686781721516\t 0.5512007198341916\t -3.65694234975328e-177\n",
            "14 \t [-0.02907121 -0.13643849]\t -0.06573023357975608\t -0.06599686781721516\t 0.5526151835319825\t -2.429206671300224e-165\n",
            "15 \t [-0.02918498 -0.13649269]\t -0.06574360066255253\t -0.06599686781721516\t 0.5537496596965699\t -4.7099542644560015e-74\n",
            "16 \t [-0.02927826 -0.13653724]\t -0.06575462149379532\t -0.06599686781721516\t 0.554679889502632\t -2.347341536152978e-131\n",
            "17 \t [-0.02935606 -0.13657438]\t -0.06576372762757146\t -0.06599686781721516\t 0.555456542075332\t -2.2607833389753994e-118\n",
            "18 \t [-0.02942193 -0.1366059 ]\t -0.06577149529256174\t -0.06599686781721516\t 0.5561147900326787\t -1.2396086239404514e-143\n",
            "19 \t [-0.02947841 -0.13663289]\t -0.06577809153480636\t -0.06599686781721516\t 0.5566798248114334\t -6.727130534546045e-208\n",
            "20 \t [-0.02952736 -0.13665631]\t -0.06578380520139909\t -0.06599686781721516\t 0.5571701565693292\t -1.864704532579831e-179\n"
          ]
        }
      ],
      "source": [
        "### Bayesian optimisation runs (x20): 'GP EI' Acquisition Function run number = 9\n",
        "\n",
        "np.random.seed(run_num_9)\n",
        "surrogate_approx_9 = dGaussianProcess(cov_func, optimize=hyperOpt)\n",
        "\n",
        "approx_9 = GPGO_approx(surrogate_approx_9, Acquisition_grad(util), f_syn_polarity, param, n_jobs = -1) # define BayesOpt\n",
        "approx_9.run(max_iter = max_iter, init_evals = n_init) # run\n"
      ]
    },
    {
      "cell_type": "code",
      "execution_count": 22,
      "metadata": {
        "colab": {
          "base_uri": "https://localhost:8080/"
        },
        "id": "P-0wfCEIJLk0",
        "outputId": "2ab793a8-0738-437f-d1c9-77ea3e106c73"
      },
      "outputs": [
        {
          "output_type": "stream",
          "name": "stdout",
          "text": [
            "Evaluation \t Proposed point \t  Current eval. \t  Best eval. \t         GP EI: maximum y \t GP EI: exploit\n",
            "init\t [ 1.62792386 -1.9169922 ]\t 38.25414770674631\t 0.7775687473184012\t    \t    \n",
            "init\t [0.80188941 0.99521553]\t 2.552651714051803\t 0.7775687473184012\t    \t    \n",
            "init\t [-0.00895793 -1.10081342]\t 1.0367630165263393\t 0.7775687473184012\t    \t    \n",
            "init\t [-1.81162281  1.04212285]\t 0.7775687473184012\t 0.7775687473184012\t    \t    \n",
            "init\t [-1.98533498 -1.64664074]\t 25.383481436170044\t 0.7775687473184012\t    \t    \n",
            "1  \t [3. 2.]\t 162.89999999999998\t 0.7775687473184012\t 1.242737374749332\t 0.5021663084364411\n",
            "2  \t [-3.  2.]\t 150.89999999999998\t 0.7775687473184012\t 1.2003547477215273\t 0.4550285164173864\n",
            "3  \t [ 3.         -0.56605295]\t 106.33084289570883\t 0.7775687473184012\t 1.2462221349744769\t 0.5064166519415918\n",
            "\u001b[1m\u001b[92m4\u001b[0m\t \u001b[1m\u001b[92m[-0.7532562   0.62545309]\u001b[0m\t \u001b[1m\u001b[92m0.23063111601765074\u001b[0m\t \u001b[1m\u001b[92m0.23063111601765074\u001b[0m\t \u001b[1m\u001b[92m4.702602429096982\u001b[0m\t \u001b[1m\u001b[92m4.666427165520929\u001b[0m\n",
            "5  \t [-0.77425408  0.62943664]\t 0.270785017851114\t 0.23063111601765074\t 2.3621661132500993\t 2.088568991029299\n",
            "6  \t [-0.78273918  0.63084953]\t 0.28694075214717873\t 0.23063111601765074\t 1.7147653624616803\t 1.3125721765160026\n",
            "7  \t [-0.7870539   0.63179584]\t 0.29464245732691596\t 0.23063111601765074\t 1.3929937597302755\t 0.921970628233701\n",
            "8  \t [-0.78955499  0.63252487]\t 0.2987504617062877\t 0.23063111601765074\t 1.2039928624979415\t 0.6947875267252495\n",
            "9  \t [-0.79113619  0.63310382]\t 0.30112434540504107\t 0.23063111601765074\t 1.0808308581221737\t 0.5492210590302985\n",
            "10 \t [-0.79220333  0.6335673 ]\t 0.30259175333159827\t 0.23063111601765074\t 0.9946846384887799\t -4.980563655481122e-269\n",
            "11 \t [-0.79296131  0.63394045]\t 0.3035536173026985\t 0.23063111601765074\t 0.9312602735927604\t 0.37696225912317083\n",
            "12 \t [-0.79352131  0.63424409]\t 0.3042135367432388\t 0.23063111601765074\t 0.882719961549197\t -0.0\n",
            "13 \t [-0.7939498   0.63449223]\t 0.30468996374576274\t 0.23063111601765074\t 0.8444296294462441\t 0.2802670881418253\n",
            "14 \t [-0.7942867   0.63469694]\t 0.3050472853632413\t 0.23063111601765074\t 0.8134831814291508\t 0.24656693042665795\n",
            "15 \t [-0.79455642  0.63486846]\t 0.30531969335559517\t 0.23063111601765074\t 0.7879705373683471\t 0.219130305124774\n",
            "16 \t [-0.79477693  0.63501288]\t 0.3055349115192998\t 0.23063111601765074\t 0.766587085948145\t 0.1963944821337863\n",
            "17 \t [-0.7949608   0.63513489]\t 0.3057115350296774\t 0.23063111601765074\t 0.7484123293208261\t 0.17726919330199117\n",
            "18 \t [-0.79511435  0.63524054]\t 0.3058523292966596\t 0.23063111601765074\t 0.7327788537598398\t 0.16097249829754348\n",
            "19 \t [-0.7952465   0.63533033]\t 0.3059755342595971\t 0.23063111601765074\t 0.7191916683597608\t 0.14693047485402982\n",
            "20 \t [-0.79535886  0.63540954]\t 0.3060752271925372\t 0.23063111601765074\t 0.7072755846796461\t 0.134712412341707\n"
          ]
        }
      ],
      "source": [
        "### Bayesian optimisation runs (x20): 'GP EI' Acquisition Function run number = 10\n",
        "\n",
        "np.random.seed(run_num_10)\n",
        "surrogate_approx_10 = dGaussianProcess(cov_func, optimize=hyperOpt)\n",
        "\n",
        "approx_10 = GPGO_approx(surrogate_approx_10, Acquisition_grad(util), f_syn_polarity, param, n_jobs = -1) # define BayesOpt\n",
        "approx_10.run(max_iter = max_iter, init_evals = n_init) # run\n"
      ]
    },
    {
      "cell_type": "code",
      "execution_count": 23,
      "metadata": {
        "colab": {
          "base_uri": "https://localhost:8080/"
        },
        "id": "Z6wmPCIEJLk2",
        "outputId": "db3b4b8a-e6b1-4792-8283-aceb6f83f796"
      },
      "outputs": [
        {
          "output_type": "stream",
          "name": "stdout",
          "text": [
            "Evaluation \t Proposed point \t  Current eval. \t  Best eval. \t         GP EI: maximum y \t GP EI: exploit\n",
            "init\t [-1.91838187 -1.92209903]\t 46.39910375151002\t -0.6254688257880329\t    \t    \n",
            "init\t [-0.22068884  0.89973572]\t -0.6254688257880329\t -0.6254688257880329\t    \t    \n",
            "init\t [-0.47877837 -0.05829161]\t 0.8249470187639529\t -0.6254688257880329\t    \t    \n",
            "init\t [-2.92331511 -0.05051357]\t 88.99028404075307\t -0.6254688257880329\t    \t    \n",
            "init\t [2.65083991 1.40318036]\t 51.423425402262914\t -0.6254688257880329\t    \t    \n",
            "1  \t [ 1.79052491 -2.        ]\t 46.642439808247566\t -0.6254688257880329\t 0.5012187568587065\t -3.1088135992620363e-130\n",
            "2  \t [-0.41855111  2.        ]\t 47.800981468687965\t -0.6254688257880329\t 0.4990340161834902\t -1.0501755657702141e-84\n",
            "3  \t [ 0.09051383 -0.00503656]\t 0.03207290039322645\t -0.6254688257880329\t 0.5878057730786099\t -3.7372728714887694e-132\n",
            "4  \t [ 0.08003266 -0.00212966]\t 0.025346253591978556\t -0.6254688257880329\t 0.4792252975615052\t -4.109435696098485e-152\n",
            "5  \t [ 0.07460426 -0.00058538]\t 0.022153143735240476\t -0.6254688257880329\t 0.4301721959379141\t -1.5299993654755546e-99\n",
            "6  \t [0.07129016 0.00037421]\t 0.02030106785475776\t -0.6254688257880329\t 0.40224777749736823\t -2.9938972232468845e-99\n",
            "7  \t [0.06906382 0.00103551]\t 0.019098733220902647\t -0.6254688257880329\t 0.38422806217080524\t -4.7792666784835095e-43\n",
            "8  \t [0.06747082 0.0015137 ]\t 0.018258722021911547\t -0.6254688257880329\t 0.3716409112453633\t -5.252732826366146e-154\n",
            "9  \t [0.0662778  0.00187673]\t 0.017640791881517525\t -0.6254688257880329\t 0.3623534991572189\t -8.477418517294766e-98\n",
            "10 \t [0.06535304 0.00216149]\t 0.017168371330589308\t -0.6254688257880329\t 0.3552198834203871\t -1.2348543132243457e-96\n",
            "11 \t [0.06461667 0.00239076]\t 0.016796291764349016\t -0.6254688257880329\t 0.34956948974917723\t -3.9740976622545114e-53\n",
            "12 \t [0.06401733 0.00257922]\t 0.016496133025598145\t -0.6254688257880329\t 0.34498382545117523\t -1.6922687597137768e-91\n",
            "13 \t [0.06352091 0.00273672]\t 0.01624933889285421\t -0.6254688257880329\t 0.34118822997771137\t -1.0662916913519748e-147\n",
            "14 \t [0.06310332 0.00286922]\t 0.016042965145131392\t -0.6254688257880329\t 0.3379949821014737\t -7.518662259050039e-116\n",
            "15 \t [0.06274737 0.00298536]\t 0.015868071231093604\t -0.6254688257880329\t 0.3352714380205386\t -4.394608609035773e-51\n",
            "16 \t [0.06244097 0.0030846 ]\t 0.015718144577913623\t -0.6254688257880329\t 0.3329212135227767\t -8.400545064068091e-134\n",
            "17 \t [0.06217462 0.00317184]\t 0.015588335254789342\t -0.6254688257880329\t 0.3308725894613191\t -1.4228559683833508e-63\n",
            "18 \t [0.06194111 0.0032488 ]\t 0.015474925132830024\t -0.6254688257880329\t 0.32907109984677485\t -4.337563556863997e-103\n",
            "19 \t [0.06173453 0.00331714]\t 0.015374894500852684\t -0.6254688257880329\t 0.3274746401890353\t -7.169052333651969e-137\n",
            "20 \t [0.06155092 0.00337831]\t 0.015286227800761146\t -0.6254688257880329\t 0.32605015290117356\t -1.6428508625446407e-137\n"
          ]
        }
      ],
      "source": [
        "### Bayesian optimisation runs (x20): 'GP EI' Acquisition Function run number = 11\n",
        "\n",
        "np.random.seed(run_num_11)\n",
        "surrogate_approx_11 = dGaussianProcess(cov_func, optimize=hyperOpt)\n",
        "\n",
        "approx_11 = GPGO_approx(surrogate_approx_11, Acquisition_grad(util), f_syn_polarity, param, n_jobs = -1) # define BayesOpt\n",
        "approx_11.run(max_iter = max_iter, init_evals = n_init) # run\n"
      ]
    },
    {
      "cell_type": "code",
      "execution_count": 24,
      "metadata": {
        "colab": {
          "base_uri": "https://localhost:8080/"
        },
        "id": "oNR6-n7iJLk3",
        "outputId": "822adec4-51d6-4f58-f2b7-54283ad4ed33"
      },
      "outputs": [
        {
          "output_type": "stream",
          "name": "stdout",
          "text": [
            "Evaluation \t Proposed point \t  Current eval. \t  Best eval. \t         GP EI: maximum y \t GP EI: exploit\n",
            "init\t [-2.07502295  0.96019879]\t 2.6185857163917037\t 1.9967735906956543\t    \t    \n",
            "init\t [-1.42010991  0.13495757]\t 1.9967735906956543\t 1.9967735906956543\t    \t    \n",
            "init\t [-2.91255023  1.67498803]\t 101.67816714332157\t 1.9967735906956543\t    \t    \n",
            "init\t [ 2.40428912 -1.86631429]\t 47.44624883788006\t 1.9967735906956543\t    \t    \n",
            "init\t [ 2.74169602 -1.45116271]\t 58.32400185681089\t 1.9967735906956543\t    \t    \n",
            "\u001b[1m\u001b[92m1\u001b[0m\t \u001b[1m\u001b[92m[-1.337878    0.82388566]\u001b[0m\t \u001b[1m\u001b[92m0.36879704199305774\u001b[0m\t \u001b[1m\u001b[92m0.36879704199305774\u001b[0m\t \u001b[1m\u001b[92m2.6078869720887123\u001b[0m\t \u001b[1m\u001b[92m2.3170060831443857\u001b[0m\n",
            "2  \t [1.74301928 2.        ]\t 53.60261104768335\t 0.36879704199305774\t 0.9958062237839763\t 0.2113717015114936\n",
            "3  \t [-3. -2.]\t 162.89999999999998\t 0.36879704199305774\t 0.9956543245697344\t 0.3418721269701908\n",
            "4  \t [-0.16291724 -2.        ]\t 48.430529410549696\t 0.36879704199305774\t 0.988297440269319\t 0.3446372111245051\n",
            "\u001b[1m\u001b[92m5\u001b[0m\t \u001b[1m\u001b[92m[-1.49393438  0.64566136]\u001b[0m\t \u001b[1m\u001b[92m0.23577047222883796\u001b[0m\t \u001b[1m\u001b[92m0.23577047222883796\u001b[0m\t \u001b[1m\u001b[92m0.9799676544724304\u001b[0m\t \u001b[1m\u001b[92m0.3517060861657069\u001b[0m\n",
            "6  \t [-0.63881474  1.79548609]\t 28.83398703617356\t 0.23577047222883796\t 0.8777436401718827\t 0.17610043782347462\n",
            "7  \t [-1.22457381  0.27566251]\t 1.7815902978158533\t 0.23577047222883796\t 0.8362769727614733\t -1.2013484898388344e-139\n",
            "8  \t [-1.23788991  0.2830767 ]\t 1.7525013314324018\t 0.23577047222883796\t 0.5714093266892276\t -6.527547255541452e-115\n",
            "9  \t [-1.24570007  0.28764533]\t 1.7339541939424141\t 0.23577047222883796\t 0.4409502435618214\t -0.0\n",
            "10 \t [-1.25080495  0.29075426]\t 1.721124401170723\t 0.23577047222883796\t 0.3655161634845157\t -1.180571811352234e-126\n",
            "11 \t [-1.25437901  0.29300615]\t 1.7117519240566297\t 0.23577047222883796\t 0.31712963145083783\t -0.0\n",
            "12 \t [-1.25700559  0.29471071]\t 1.7046259967496415\t 0.23577047222883796\t 0.28377016074625844\t -1.652638789738386e-83\n",
            "13 \t [-1.25900721  0.29604424]\t 1.6990393577954097\t 0.23577047222883796\t 0.2595235499377315\t -1.488009397479694e-139\n",
            "14 \t [-1.26057621  0.29711435]\t 1.694552816877228\t 0.23577047222883796\t 0.24117789255738734\t -4.668821401439341e-188\n",
            "15 \t [-1.26183489  0.29799099]\t 1.690877435818484\t 0.23577047222883796\t 0.22685268694445293\t -2.5684545066332485e-93\n",
            "16 \t [-1.26286177  0.29872262]\t 1.6878141889269571\t 0.23577047222883796\t 0.21537999763189794\t -4.3233858417761246e-243\n",
            "17 \t [-1.2637179   0.29933958]\t 1.6852296078249847\t 0.23577047222883796\t 0.20599912285720773\t -0.0\n",
            "18 \t [-1.2644371   0.29986801]\t 1.6830199046532441\t 0.23577047222883796\t 0.19819471315903997\t -8.641849993754515e-150\n",
            "19 \t [-1.26504924  0.30032495]\t 1.6811117776969773\t 0.23577047222883796\t 0.19160612256382298\t -4.638087304506916e-100\n",
            "20 \t [-1.26557603  0.30072376]\t 1.6794485882744776\t 0.23577047222883796\t 0.18597381095820562\t -1.0013646424890846e-66\n"
          ]
        }
      ],
      "source": [
        "### Bayesian optimisation runs (x20): 'GP EI' Acquisition Function run number = 12\n",
        "\n",
        "np.random.seed(run_num_12)\n",
        "surrogate_approx_12 = dGaussianProcess(cov_func, optimize=hyperOpt)\n",
        "\n",
        "approx_12 = GPGO_approx(surrogate_approx_12, Acquisition_grad(util), f_syn_polarity, param, n_jobs = -1) # define BayesOpt\n",
        "approx_12.run(max_iter = max_iter, init_evals = n_init) # run\n"
      ]
    },
    {
      "cell_type": "code",
      "execution_count": 25,
      "metadata": {
        "colab": {
          "base_uri": "https://localhost:8080/"
        },
        "id": "z1CyiX30JLk4",
        "outputId": "436a983e-870e-4a9c-d7b0-35707d937d00"
      },
      "outputs": [
        {
          "output_type": "stream",
          "name": "stdout",
          "text": [
            "Evaluation \t Proposed point \t  Current eval. \t  Best eval. \t         GP EI: maximum y \t GP EI: exploit\n",
            "init\t [ 1.66621446 -1.04983512]\t 0.752930921147986\t 0.752930921147986\t    \t    \n",
            "init\t [1.9456712  1.86299679]\t 41.05776363102951\t 0.752930921147986\t    \t    \n",
            "init\t [ 2.83560668 -0.18620301]\t 69.0134544723513\t 0.752930921147986\t    \t    \n",
            "init\t [0.65425478 1.10210606]\t 3.117452174069064\t 0.752930921147986\t    \t    \n",
            "init\t [0.84968007 0.88807292]\t 2.006601529383926\t 0.752930921147986\t    \t    \n",
            "1  \t [ 0.69815135 -1.5584218 ]\t 14.280544136905649\t 0.752930921147986\t 2.68563201296615\t 2.380791694546714\n",
            "2  \t [-3.  2.]\t 150.89999999999998\t 0.752930921147986\t 1.2302321816711441\t 0.48693089954324686\n",
            "3  \t [-3. -2.]\t 162.89999999999998\t 0.752930921147986\t 1.2302321776790974\t 0.48693085799253094\n",
            "4  \t [-1.32681869 -1.1815997 ]\t 6.132474358637779\t 0.752930921147986\t 1.2302321819970747\t 0.4869313776555921\n",
            "\u001b[1m\u001b[92m5\u001b[0m\t \u001b[1m\u001b[92m[-0.19817028  0.59883805]\u001b[0m\t \u001b[1m\u001b[92m-0.8848366775560662\u001b[0m\t \u001b[1m\u001b[92m-0.8848366775560662\u001b[0m\t \u001b[1m\u001b[92m1.2251818292022054\u001b[0m\t \u001b[1m\u001b[92m0.5159303586281226\u001b[0m\n",
            "6  \t [-0.23865393  0.58626093]\t -0.8211249819209709\t -0.8848366775560662\t 0.4817856001294038\t -0.0\n",
            "7  \t [-0.23022375  0.58730585]\t -0.8328606812446508\t -0.8848366775560662\t 0.4979374493585321\t -0.0\n",
            "8  \t [-0.22624539  0.58782051]\t -0.8382610240004593\t -0.8848366775560662\t 0.507551428215237\t -6.406079918378205e-115\n",
            "9  \t [-0.22397885  0.58812658]\t -0.8413087325793747\t -0.8848366775560662\t 0.5139465563599567\t -5.7592097837310966e-83\n",
            "10 \t [-0.22253404  0.58832848]\t -0.84324359248486\t -0.8848366775560662\t 0.5185197113771379\t -8.69051347596736e-263\n",
            "11 \t [-0.22153906  0.58847066]\t -0.8445725213965889\t -0.8848366775560662\t 0.5219593927322789\t -5.127027375977936e-237\n",
            "12 \t [-0.22081921  0.58857614]\t -0.8455338615323282\t -0.8848366775560662\t 0.524644410276579\t -1.0284688357238997e-83\n",
            "13 \t [-0.22027375  0.58865665]\t -0.8462607825650548\t -0.8848366775560662\t 0.5268011582736376\t -0.0\n",
            "14 \t [-0.21985037  0.58872078]\t -0.8468262460904055\t -0.8848366775560662\t 0.5285730181508663\t -1.126794777518e-65\n",
            "15 \t [-0.21950989  0.58877172]\t -0.8472789837812976\t -0.8848366775560662\t 0.5300558316846227\t -1.7608030147791353e-265\n",
            "16 \t [-0.21923493  0.58881409]\t -0.8476460089280051\t -0.8848366775560662\t 0.5313155328021315\t -3.025432705217728e-40\n",
            "17 \t [-0.21900388  0.58884933]\t -0.8479534117121691\t -0.8848366775560662\t 0.5323996172562909\t -0.0\n",
            "18 \t [-0.21881005  0.5888787 ]\t -0.8482106685224083\t -0.8848366775560662\t 0.5333427783497371\t -0.0\n",
            "19 \t [-0.2186438   0.58890435]\t -0.8484318754977104\t -0.8848366775560662\t 0.5341711267509356\t -5.253782088270261e-170\n",
            "20 \t [-0.21850166  0.58892616]\t -0.8486206266485875\t -0.8848366775560662\t 0.5349046142982792\t -7.9353879280763814e-292\n"
          ]
        }
      ],
      "source": [
        "### Bayesian optimisation runs (x20): 'GP EI' Acquisition Function run number = 13\n",
        "\n",
        "np.random.seed(run_num_13)\n",
        "surrogate_approx_13 = dGaussianProcess(cov_func, optimize=hyperOpt)\n",
        "\n",
        "approx_13 = GPGO_approx(surrogate_approx_13, Acquisition_grad(util), f_syn_polarity, param, n_jobs = -1) # define BayesOpt\n",
        "approx_13.run(max_iter = max_iter, init_evals = n_init) # run\n"
      ]
    },
    {
      "cell_type": "code",
      "execution_count": 26,
      "metadata": {
        "colab": {
          "base_uri": "https://localhost:8080/"
        },
        "id": "Dx5l3xHMJLk5",
        "outputId": "a13f5b3f-77ad-4206-e643-ba515e5a5c09"
      },
      "outputs": [
        {
          "output_type": "stream",
          "name": "stdout",
          "text": [
            "Evaluation \t Proposed point \t  Current eval. \t  Best eval. \t         GP EI: maximum y \t GP EI: exploit\n",
            "init\t [0.08366006 1.09266021]\t 1.0453292732107575\t -1.029299726828387\t    \t    \n",
            "init\t [ 2.22256611 -1.96781221]\t 48.81113313056442\t -1.029299726828387\t    \t    \n",
            "init\t [-1.14158445  1.83041496]\t 31.794043287944216\t -1.029299726828387\t    \t    \n",
            "init\t [ 0.07870027 -0.7268623 ]\t -1.029299726828387\t -1.029299726828387\t    \t    \n",
            "init\t [ 0.23519962 -1.11498023]\t 1.161934062902255\t -1.029299726828387\t    \t    \n",
            "1  \t [-1.4544454   0.80460528]\t 0.13632292703505466\t -1.029299726828387\t 0.3866284247694952\t -0.31228836317112474\n",
            "2  \t [-1.62889462 -1.85708112]\t 38.86111235771161\t -1.029299726828387\t 0.3866284247694952\t -0.31228836317112474\n",
            "3  \t [-0.15386684 -1.39029353]\t 7.520441668707877\t -1.029299726828387\t 0.3866284247694952\t -0.31228836317112474\n",
            "4  \t [0.42921709 0.75222473]\t 0.007928470491904593\t -1.029299726828387\t 0.3866284247694952\t -0.31228836317112474\n",
            "5  \t [ 0.10283639 -0.51837162]\t -0.7972587881828173\t -1.029299726828387\t 0.4828729102685634\t -6.743331188653524e-11\n",
            "6  \t [ 0.23768276 -0.55410632]\t -0.7634273267633378\t -1.029299726828387\t 0.48014510143579936\t -6.668211578963813e-16\n",
            "7  \t [-0.00717557 -0.48651925]\t -0.7189975013092375\t -1.029299726828387\t 0.4821643668978567\t -0.013246276627000043\n",
            "8  \t [ 0.20747619 -0.52500136]\t -0.7392305031420606\t -1.029299726828387\t 0.47519682096080945\t -4.030547385255464e-26\n",
            "9  \t [ 0.11350743 -0.49906376]\t -0.7535853390580053\t -1.029299726828387\t 0.4680636202529148\t -2.0502890971043287e-47\n",
            "10 \t [ 0.20178523 -0.52921081]\t -0.7538896685516099\t -1.029299726828387\t 0.46370288661418607\t -4.3575999422836275e-32\n",
            "11 \t [ 0.05836501 -0.48100926]\t -0.7258240538337197\t -1.029299726828387\t 0.461678210528276\t -4.992671112721835e-47\n",
            "12 \t [ 0.25198631 -0.53854314]\t -0.7137469473596392\t -1.029299726828387\t 0.4593323892326629\t -7.418430363435127e-29\n",
            "13 \t [ 0.10813039 -0.48333236]\t -0.7219265852379894\t -1.029299726828387\t 0.4565956065348628\t -1.5797573746157639e-19\n",
            "14 \t [ 0.16515824 -0.50562929]\t -0.7371493790071633\t -1.029299726828387\t 0.45339995480054435\t -2.655430434826478e-36\n",
            "15 \t [ 0.1425565  -0.49950629]\t -0.7397950304395694\t -1.029299726828387\t 0.45131428348111097\t -2.2665009801603283e-23\n",
            "16 \t [ 0.16868881 -0.50966242]\t -0.7429743177503502\t -1.029299726828387\t 0.449672553752766\t -3.8276704156614066e-31\n",
            "17 \t [ 0.09120632 -0.48242921]\t -0.7251553204606361\t -1.029299726828387\t 0.4485030463225909\t -2.0250354617909514e-47\n",
            "18 \t [ 0.29753819 -0.54856432]\t -0.6668032393381595\t -1.029299726828387\t 0.44808233532346525\t -2.330590141052522e-19\n",
            "19 \t [ 0.10830668 -0.46760579]\t -0.6873922727079524\t -1.029299726828387\t 0.44675084429900797\t -1.0326932021216531e-20\n",
            "20 \t [ 0.15790881 -0.49047659]\t -0.7097890054336458\t -1.029299726828387\t 0.4442340714992742\t -3.715751129568301e-46\n"
          ]
        }
      ],
      "source": [
        "### Bayesian optimisation runs (x20): 'GP EI' Acquisition Function run number = 14\n",
        "\n",
        "np.random.seed(run_num_14)\n",
        "surrogate_approx_14 = dGaussianProcess(cov_func, optimize=hyperOpt)\n",
        "\n",
        "approx_14 = GPGO_approx(surrogate_approx_14, Acquisition_grad(util), f_syn_polarity, param, n_jobs = -1) # define BayesOpt\n",
        "approx_14.run(max_iter = max_iter, init_evals = n_init) # run\n"
      ]
    },
    {
      "cell_type": "code",
      "execution_count": 27,
      "metadata": {
        "colab": {
          "base_uri": "https://localhost:8080/"
        },
        "id": "mNCLg6LHJLk6",
        "outputId": "82dc20aa-210b-4da8-8082-68bf3ebc2e4d"
      },
      "outputs": [
        {
          "output_type": "stream",
          "name": "stdout",
          "text": [
            "Evaluation \t Proposed point \t  Current eval. \t  Best eval. \t         GP EI: maximum y \t GP EI: exploit\n",
            "init\t [ 2.09290618 -1.2844163 ]\t 6.84252100896936\t 2.1163170846379233\t    \t    \n",
            "init\t [-2.67382071 -0.55384622]\t 43.69785230561242\t 2.1163170846379233\t    \t    \n",
            "init\t [-1.34759443  0.1200009 ]\t 2.1163170846379233\t 2.1163170846379233\t    \t    \n",
            "init\t [-1.16448651 -0.78210256]\t 2.3544087277459513\t 2.1163170846379233\t    \t    \n",
            "init\t [-2.32955234 -1.00040394]\t 15.469119251600274\t 2.1163170846379233\t    \t    \n",
            "1  \t [-0.31230925  1.23090386]\t 3.107966059914712\t 2.1163170846379233\t 2.2682349603974403\t 1.8149407448690968\n",
            "2  \t [3. 2.]\t 162.89999999999998\t 2.1163170846379233\t 2.2652732718226036\t 1.809439395497574\n",
            "3  \t [-3.  2.]\t 150.89999999999998\t 2.1163170846379233\t 2.2467674329839866\t 1.7857035036451063\n",
            "\u001b[1m\u001b[92m4\u001b[0m\t \u001b[1m\u001b[92m[-0.27070757 -0.29550408]\u001b[0m\t \u001b[1m\u001b[92m0.04318936470340434\u001b[0m\t \u001b[1m\u001b[92m0.04318936470340434\u001b[0m\t \u001b[1m\u001b[92m2.966959336757291\u001b[0m\t \u001b[1m\u001b[92m2.750773192836854\u001b[0m\n",
            "5  \t [-0.27822716 -0.29112708]\t 0.06792524325045923\t 0.04318936470340434\t 0.9456885277761657\t 0.3015893992895414\n",
            "6  \t [-0.28998257 -0.28350518]\t 0.10825994237381381\t 0.04318936470340434\t 0.8253726733400902\t 0.1979078201267902\n",
            "7  \t [-0.29693398 -0.27975665]\t 0.13109743405511365\t 0.04318936470340434\t 0.7563337732377438\t 0.1394442247930493\n",
            "8  \t [-0.28575101 -2.        ]\t 48.88429668007866\t 0.04318936470340434\t 0.7403448624347012\t 0.10194732630149272\n",
            "9  \t [-0.34300812  0.25547483]\t 0.1104315362789415\t 0.04318936470340434\t 1.6209009952682396\t 1.196122055725195\n",
            "10 \t [-0.35311053  0.23713802]\t 0.17072151559582932\t 0.04318936470340434\t 1.33415586682898\t 0.8506250367911015\n",
            "11 \t [-0.35948783  0.22478223]\t 0.20987104410599064\t 0.04318936470340434\t 1.1580902345273711\t 0.6401963033681294\n",
            "12 \t [-0.36380291  0.21588099]\t 0.237128353332279\t 0.04318936470340434\t 1.03898040600771\t 0.5000056148152283\n",
            "13 \t [-0.36686294  0.20917166]\t 0.25703558585578257\t 0.04318936470340434\t 0.9530428432599934\t -0.0\n",
            "14 \t [-0.36910907  0.2039441 ]\t 0.27209888903490775\t 0.04318936470340434\t 0.8881182066778344\t 0.3269532108650216\n",
            "15 \t [-0.37080228  0.1997658 ]\t 0.28381485462338274\t 0.04318936470340434\t 0.8373418207771238\t 0.2703430797009161\n",
            "16 \t [-0.37210631  0.19635735]\t 0.2931317103783744\t 0.04318936470340434\t 0.7965447830833214\t 0.22563274837578318\n",
            "17 \t [-0.37312848  0.19352991]\t 0.3006778438866015\t 0.04318936470340434\t 0.7630491087077855\t -0.0\n",
            "18 \t [-0.37394157  0.19115133]\t 0.3068847064118033\t 0.04318936470340434\t 0.7350560508554772\t -0.0\n",
            "19 \t [-0.37459666  0.18912627]\t 0.31205824963841516\t 0.04318936470340434\t 0.711312717545416\t -0.0\n",
            "20 \t [-0.3751302   0.18738402]\t 0.3164206771130615\t 0.04318936470340434\t 0.6909196397783547\t 0.11385345262236071\n"
          ]
        }
      ],
      "source": [
        "### Bayesian optimisation runs (x20): 'GP EI' Acquisition Function run number = 15\n",
        "\n",
        "np.random.seed(run_num_15)\n",
        "surrogate_approx_15 = dGaussianProcess(cov_func, optimize=hyperOpt)\n",
        "\n",
        "approx_15 = GPGO_approx(surrogate_approx_15, Acquisition_grad(util), f_syn_polarity, param, n_jobs = -1) # define BayesOpt\n",
        "approx_15.run(max_iter = max_iter, init_evals = n_init) # run\n"
      ]
    },
    {
      "cell_type": "code",
      "execution_count": 28,
      "metadata": {
        "colab": {
          "base_uri": "https://localhost:8080/"
        },
        "id": "5xwjkr9RJLk6",
        "outputId": "963c5307-4042-46ff-8d77-55a9bc575a2e"
      },
      "outputs": [
        {
          "output_type": "stream",
          "name": "stdout",
          "text": [
            "Evaluation \t Proposed point \t  Current eval. \t  Best eval. \t         GP EI: maximum y \t GP EI: exploit\n",
            "init\t [-1.66025353  0.09265337]\t 1.8632773736203017\t 1.8632773736203017\t    \t    \n",
            "init\t [ 0.30420874 -1.8175922 ]\t 30.24114424375299\t 1.8632773736203017\t    \t    \n",
            "init\t [-0.83562699 -1.10767623]\t 3.922061281476444\t 1.8632773736203017\t    \t    \n",
            "init\t [ 1.13235697 -1.3450743 ]\t 6.7121671493737685\t 1.8632773736203017\t    \t    \n",
            "init\t [-2.5780508   1.76404344]\t 53.42443470756798\t 1.8632773736203017\t    \t    \n",
            "1  \t [ 3.         -0.04378922]\t 108.7609770576423\t 1.8632773736203017\t 2.053886212873812\t 1.5372829420695178\n",
            "2  \t [-3. -2.]\t 162.89999999999998\t 1.8632773736203017\t 2.047899482520367\t 1.5295228874602356\n",
            "3  \t [0.53255234 2.        ]\t 50.03824175828417\t 1.8632773736203017\t 2.042164250384682\t 1.5220959456454406\n",
            "4  \t [-0.91745731 -0.01809519]\t 2.093131287996447\t 1.8632773736203017\t 1.485430760028271\t -0.0\n",
            "5  \t [-1.03036552 -0.06609219]\t 2.329255444267561\t 1.8632773736203017\t 1.0117265666364919\t 0.385131564304869\n",
            "6  \t [-1.07315926 -0.0768716 ]\t 2.3895267258174884\t 1.8632773736203017\t 0.7980262281624964\t -1.4494860264972044e-142\n",
            "7  \t [ 2.26353565 -2.        ]\t 53.67327224783114\t 1.8632773736203017\t 0.7670996431822169\t 0.05943233254226298\n",
            "\u001b[1m\u001b[92m8\u001b[0m\t \u001b[1m\u001b[92m[-0.79239277 -0.15246141]\u001b[0m\t \u001b[1m\u001b[92m1.7961441601366583\u001b[0m\t \u001b[1m\u001b[92m1.7961441601366583\u001b[0m\t \u001b[1m\u001b[92m0.7454175580100354\u001b[0m\t \u001b[1m\u001b[92m0.11918712670915049\u001b[0m\n",
            "9  \t [-0.79761751 -0.15150891]\t 1.8117812887984803\t 1.7961441601366583\t 0.6794386259773731\t -0.0\n",
            "10 \t [-0.80177945 -0.15073975]\t 1.824151929979035\t 1.7961441601366583\t 0.6586989558943533\t 0.050397313733354814\n",
            "11 \t [-0.80488239 -0.15016273]\t 1.8333234755027352\t 1.7961441601366583\t 0.6430739621351319\t -0.0\n",
            "12 \t [-0.80728948 -0.14971326]\t 1.840407515471004\t 1.7961441601366583\t 0.6308254226230992\t -4.895456978262062e-81\n",
            "13 \t [-0.80921085 -0.14935335]\t 1.8460425131416829\t 1.7961441601366583\t 0.6209332238250418\t -1.1414985684773452e-117\n",
            "14 \t [-0.81078088 -0.14905899]\t 1.8506339877463578\t 1.7961441601366583\t 0.612756836717131\t -2.1277526327981276e-86\n",
            "15 \t [-0.81208797 -0.14881391]\t 1.854447346637407\t 1.7961441601366583\t 0.605872010788457\t -0.0\n",
            "16 \t [-0.81319279 -0.14860691]\t 1.85766404256825\t 1.7961441601366583\t 0.599985857596046\t -0.0\n",
            "17 \t [-0.81413891 -0.14842989]\t 1.8604138395865089\t 1.7961441601366583\t 0.5948892257454803\t 0.009628300937921571\n",
            "18 \t [-0.81495784 -0.14827692]\t 1.8627903334896532\t 1.7961441601366583\t 0.5904284594224679\t 0.006629459441888122\n",
            "19 \t [-0.81567375 -0.14814344]\t 1.8648650809889218\t 1.7961441601366583\t 0.5864879997654345\t 0.003964664465463839\n",
            "20 \t [-0.81630447 -0.1480261 ]\t 1.86669075981431\t 1.7961441601366583\t 0.5829791049456848\t 0.0015792658053733154\n"
          ]
        }
      ],
      "source": [
        "### Bayesian optimisation runs (x20): 'GP EI' Acquisition Function run number = 16\n",
        "\n",
        "np.random.seed(run_num_16)\n",
        "surrogate_approx_16 = dGaussianProcess(cov_func, optimize=hyperOpt)\n",
        "\n",
        "approx_16 = GPGO_approx(surrogate_approx_16, Acquisition_grad(util), f_syn_polarity, param, n_jobs = -1) # define BayesOpt\n",
        "approx_16.run(max_iter = max_iter, init_evals = n_init) # run\n"
      ]
    },
    {
      "cell_type": "code",
      "execution_count": 29,
      "metadata": {
        "colab": {
          "base_uri": "https://localhost:8080/"
        },
        "id": "zbpfP0FWJLk7",
        "outputId": "522bc6bd-06af-4176-918e-2fa8420fb2a0"
      },
      "outputs": [
        {
          "output_type": "stream",
          "name": "stdout",
          "text": [
            "Evaluation \t Proposed point \t  Current eval. \t  Best eval. \t         GP EI: maximum y \t GP EI: exploit\n",
            "init\t [-1.23200998  0.12234702]\t 2.189206652278967\t 1.7722768782964888\t    \t    \n",
            "init\t [-1.85087528 -1.72839857]\t 29.406067820453675\t 1.7722768782964888\t    \t    \n",
            "init\t [1.72191276 0.62533409]\t 2.2113401446731897\t 1.7722768782964888\t    \t    \n",
            "init\t [0.82512538 0.30241158]\t 1.7722768782964888\t 1.7722768782964888\t    \t    \n",
            "init\t [-2.7656225  -0.56874558]\t 57.5922315952177\t 1.7722768782964888\t    \t    \n",
            "\u001b[1m\u001b[92m1\u001b[0m\t \u001b[1m\u001b[92m[-0.55712466  1.08599903]\u001b[0m\t \u001b[1m\u001b[92m1.2904712864486778\u001b[0m\t \u001b[1m\u001b[92m1.2904712864486778\u001b[0m\t \u001b[1m\u001b[92m2.4395876955173423\u001b[0m\t \u001b[1m\u001b[92m2.0765525416326844\u001b[0m\n",
            "2  \t [ 3. -2.]\t 150.89999999999998\t 1.2904712864486778\t 1.5912883774316626\t 0.9398848862297376\n",
            "3  \t [3. 2.]\t 162.89999999999998\t 1.2904712864486778\t 1.524132247295509\t 0.8582322459311009\n",
            "4  \t [0.92241907 0.18981443]\t 2.1246079247590357\t 1.2904712864486778\t 1.4178588579102105\t 0.7294223633368577\n",
            "5  \t [-1.56013619  2.        ]\t 46.98120007046126\t 1.2904712864486778\t 1.4242832287494782\t 0.7428520684721953\n",
            "\u001b[1m\u001b[92m6\u001b[0m\t \u001b[1m\u001b[92m[-0.26160156  0.25122854]\u001b[0m\t \u001b[1m\u001b[92m-0.038237284416990897\u001b[0m\t \u001b[1m\u001b[92m-0.038237284416990897\u001b[0m\t \u001b[1m\u001b[92m1.8708057096394757\u001b[0m\t \u001b[1m\u001b[92m1.4092049001741587\u001b[0m\n",
            "\u001b[1m\u001b[92m7\u001b[0m\t \u001b[1m\u001b[92m[-0.26130207  0.25259997]\u001b[0m\t \u001b[1m\u001b[92m-0.04151566116204192\u001b[0m\t \u001b[1m\u001b[92m-0.04151566116204192\u001b[0m\t \u001b[1m\u001b[92m0.7855508512255184\u001b[0m\t \u001b[1m\u001b[92m0.1276644263628827\u001b[0m\n",
            "\u001b[1m\u001b[92m8\u001b[0m\t \u001b[1m\u001b[92m[-0.26002564  0.25928054]\u001b[0m\t \u001b[1m\u001b[92m-0.05729154873943998\u001b[0m\t \u001b[1m\u001b[92m-0.05729154873943998\u001b[0m\t \u001b[1m\u001b[92m0.7230200695192236\u001b[0m\t \u001b[1m\u001b[92m0.08860497518475176\u001b[0m\n",
            "\u001b[1m\u001b[92m9\u001b[0m\t \u001b[1m\u001b[92m[-0.25931235  0.26293016]\u001b[0m\t \u001b[1m\u001b[92m-0.06601548466027987\u001b[0m\t \u001b[1m\u001b[92m-0.06601548466027987\u001b[0m\t \u001b[1m\u001b[92m0.682130321983614\u001b[0m\t \u001b[1m\u001b[92m0.06141092352351227\u001b[0m\n",
            "\u001b[1m\u001b[92m10\u001b[0m\t \u001b[1m\u001b[92m[-0.25887202  0.26523228]\u001b[0m\t \u001b[1m\u001b[92m-0.07153022887134963\u001b[0m\t \u001b[1m\u001b[92m-0.07153022887134963\u001b[0m\t \u001b[1m\u001b[92m0.6574966749624876\u001b[0m\t \u001b[1m\u001b[92m0.046086238336537716\u001b[0m\n",
            "\u001b[1m\u001b[92m11\u001b[0m\t \u001b[1m\u001b[92m[-0.25858766  0.2667886 ]\u001b[0m\t \u001b[1m\u001b[92m-0.0752483885189022\u001b[0m\t \u001b[1m\u001b[92m-0.0752483885189022\u001b[0m\t \u001b[1m\u001b[92m0.6410690663799108\u001b[0m\t \u001b[1m\u001b[92m0.036364160684126075\u001b[0m\n",
            "\u001b[1m\u001b[92m12\u001b[0m\t \u001b[1m\u001b[92m[-0.25839646  0.26789656]\u001b[0m\t \u001b[1m\u001b[92m-0.07788267262210741\u001b[0m\t \u001b[1m\u001b[92m-0.07788267262210741\u001b[0m\t \u001b[1m\u001b[92m0.6293918057745655\u001b[0m\t \u001b[1m\u001b[92m-0.0\u001b[0m\n",
            "\u001b[1m\u001b[92m13\u001b[0m\t \u001b[1m\u001b[92m[-0.25826488  0.26871716]\u001b[0m\t \u001b[1m\u001b[92m-0.07982029992967993\u001b[0m\t \u001b[1m\u001b[92m-0.07982029992967993\u001b[0m\t \u001b[1m\u001b[92m0.6206933732002137\u001b[0m\t \u001b[1m\u001b[92m0.024978294902670364\u001b[0m\n",
            "\u001b[1m\u001b[92m14\u001b[0m\t \u001b[1m\u001b[92m[-0.25817155  0.26934457]\u001b[0m\t \u001b[1m\u001b[92m-0.08129159872378439\u001b[0m\t \u001b[1m\u001b[92m-0.08129159872378439\u001b[0m\t \u001b[1m\u001b[92m0.6139796704957148\u001b[0m\t \u001b[1m\u001b[92m0.021419532533141723\u001b[0m\n",
            "\u001b[1m\u001b[92m15\u001b[0m\t \u001b[1m\u001b[92m[-0.25810463  0.26983625]\u001b[0m\t \u001b[1m\u001b[92m-0.08243542339447685\u001b[0m\t \u001b[1m\u001b[92m-0.08243542339447685\u001b[0m\t \u001b[1m\u001b[92m0.6086495137475136\u001b[0m\t \u001b[1m\u001b[92m0.018672553795355477\u001b[0m\n",
            "\u001b[1m\u001b[92m16\u001b[0m\t \u001b[1m\u001b[92m[-0.2580553   0.27023025]\u001b[0m\t \u001b[1m\u001b[92m-0.08334566276129352\u001b[0m\t \u001b[1m\u001b[92m-0.08334566276129352\u001b[0m\t \u001b[1m\u001b[92m0.604321822870786\u001b[0m\t \u001b[1m\u001b[92m0.016498308453907273\u001b[0m\n",
            "\u001b[1m\u001b[92m17\u001b[0m\t \u001b[1m\u001b[92m[-0.25801935  0.27055143]\u001b[0m\t \u001b[1m\u001b[92m-0.08408107789891214\u001b[0m\t \u001b[1m\u001b[92m-0.08408107789891214\u001b[0m\t \u001b[1m\u001b[92m0.6007407386214997\u001b[0m\t \u001b[1m\u001b[92m0.014739625425073835\u001b[0m\n",
            "\u001b[1m\u001b[92m18\u001b[0m\t \u001b[1m\u001b[92m[-0.25799246  0.27081727]\u001b[0m\t \u001b[1m\u001b[92m-0.08468540093427371\u001b[0m\t \u001b[1m\u001b[92m-0.08468540093427371\u001b[0m\t \u001b[1m\u001b[92m0.5977317885364691\u001b[0m\t \u001b[1m\u001b[92m0.013292758962772374\u001b[0m\n",
            "\u001b[1m\u001b[92m19\u001b[0m\t \u001b[1m\u001b[92m[-0.25797275  0.27104021]\u001b[0m\t \u001b[1m\u001b[92m-0.085187712838806\u001b[0m\t \u001b[1m\u001b[92m-0.085187712838806\u001b[0m\t \u001b[1m\u001b[92m0.5951691764971953\u001b[0m\t \u001b[1m\u001b[92m-6.372725023454909e-71\u001b[0m\n",
            "\u001b[1m\u001b[92m20\u001b[0m\t \u001b[1m\u001b[92m[-0.25795808  0.27122934]\u001b[0m\t \u001b[1m\u001b[92m-0.0856106295917669\u001b[0m\t \u001b[1m\u001b[92m-0.0856106295917669\u001b[0m\t \u001b[1m\u001b[92m0.5929620720887869\u001b[0m\t \u001b[1m\u001b[92m-5.79885259920229e-230\u001b[0m\n"
          ]
        }
      ],
      "source": [
        "### Bayesian optimisation runs (x20): 'GP EI' Acquisition Function run number = 17\n",
        "\n",
        "np.random.seed(run_num_17)\n",
        "surrogate_approx_17 = dGaussianProcess(cov_func, optimize=hyperOpt)\n",
        "\n",
        "approx_17 = GPGO_approx(surrogate_approx_17, Acquisition_grad(util), f_syn_polarity, param, n_jobs = -1) # define BayesOpt\n",
        "approx_17.run(max_iter = max_iter, init_evals = n_init) # run\n"
      ]
    },
    {
      "cell_type": "code",
      "execution_count": 30,
      "metadata": {
        "colab": {
          "base_uri": "https://localhost:8080/"
        },
        "id": "1d-1rDI5JLk8",
        "outputId": "cc483512-96df-482b-aa96-f73ab6c92b6f"
      },
      "outputs": [
        {
          "output_type": "stream",
          "name": "stdout",
          "text": [
            "Evaluation \t Proposed point \t  Current eval. \t  Best eval. \t         GP EI: maximum y \t GP EI: exploit\n",
            "init\t [0.90224545 0.02181349]\t 2.062169771852028\t 2.062169771852028\t    \t    \n",
            "init\t [ 2.27160883 -1.2726391 ]\t 11.64729291207819\t 2.062169771852028\t    \t    \n",
            "init\t [2.11339841 1.00054514]\t 7.792128760671214\t 2.062169771852028\t    \t    \n",
            "init\t [0.99661    1.95158179]\t 46.96206222999227\t 2.062169771852028\t    \t    \n",
            "init\t [-1.45818946 -1.8867763 ]\t 41.4190528039297\t 2.062169771852028\t    \t    \n",
            "1  \t [-3.  2.]\t 150.89999999999998\t 2.062169771852028\t 2.2168306774450874\t 1.747261660410442\n",
            "\u001b[1m\u001b[92m2\u001b[0m\t \u001b[1m\u001b[92m[ 0.51933718 -0.47021367]\u001b[0m\t \u001b[1m\u001b[92m-0.0004387791505781058\u001b[0m\t \u001b[1m\u001b[92m-0.0004387791505781058\u001b[0m\t \u001b[1m\u001b[92m1.022904098881382\u001b[0m\t \u001b[1m\u001b[92m0.32392084914507635\u001b[0m\n",
            "\u001b[1m\u001b[92m3\u001b[0m\t \u001b[1m\u001b[92m[ 0.46722715 -0.47742819]\u001b[0m\t \u001b[1m\u001b[92m-0.15039958734018488\u001b[0m\t \u001b[1m\u001b[92m-0.15039958734018488\u001b[0m\t \u001b[1m\u001b[92m0.33973799744242655\u001b[0m\t \u001b[1m\u001b[92m-3.643525355348516e-53\u001b[0m\n",
            "\u001b[1m\u001b[92m4\u001b[0m\t \u001b[1m\u001b[92m[ 0.44976542 -0.47473192]\u001b[0m\t \u001b[1m\u001b[92m-0.1858510183284554\u001b[0m\t \u001b[1m\u001b[92m-0.1858510183284554\u001b[0m\t \u001b[1m\u001b[92m0.36646653580790994\u001b[0m\t \u001b[1m\u001b[92m-1.1203601329461037e-35\u001b[0m\n",
            "\u001b[1m\u001b[92m5\u001b[0m\t \u001b[1m\u001b[92m[ 0.44009002 -0.47280303]\u001b[0m\t \u001b[1m\u001b[92m-0.2039971659151858\u001b[0m\t \u001b[1m\u001b[92m-0.2039971659151858\u001b[0m\t \u001b[1m\u001b[92m0.3984728438108926\u001b[0m\t \u001b[1m\u001b[92m-2.6571679914158996e-96\u001b[0m\n",
            "\u001b[1m\u001b[92m6\u001b[0m\t \u001b[1m\u001b[92m[ 0.43358498 -0.47135969]\u001b[0m\t \u001b[1m\u001b[92m-0.2156592800569721\u001b[0m\t \u001b[1m\u001b[92m-0.2156592800569721\u001b[0m\t \u001b[1m\u001b[92m0.42174939843016007\u001b[0m\t \u001b[1m\u001b[92m-2.743122083185557e-108\u001b[0m\n",
            "\u001b[1m\u001b[92m7\u001b[0m\t \u001b[1m\u001b[92m[ 0.42877891 -0.47018936]\u001b[0m\t \u001b[1m\u001b[92m-0.22392331783558928\u001b[0m\t \u001b[1m\u001b[92m-0.22392331783558928\u001b[0m\t \u001b[1m\u001b[92m0.43901956285068\u001b[0m\t \u001b[1m\u001b[92m-0.0\u001b[0m\n",
            "\u001b[1m\u001b[92m8\u001b[0m\t \u001b[1m\u001b[92m[ 0.42501526 -0.46919433]\u001b[0m\t \u001b[1m\u001b[92m-0.23014222543693708\u001b[0m\t \u001b[1m\u001b[92m-0.23014222543693708\u001b[0m\t \u001b[1m\u001b[92m0.4523171836237819\u001b[0m\t \u001b[1m\u001b[92m-2.744887860539046e-26\u001b[0m\n",
            "\u001b[1m\u001b[92m9\u001b[0m\t \u001b[1m\u001b[92m[ 0.42194779 -0.46832243]\u001b[0m\t \u001b[1m\u001b[92m-0.2350211311973034\u001b[0m\t \u001b[1m\u001b[92m-0.2350211311973034\u001b[0m\t \u001b[1m\u001b[92m0.46287697152514656\u001b[0m\t \u001b[1m\u001b[92m-3.370558060210998e-199\u001b[0m\n",
            "\u001b[1m\u001b[92m10\u001b[0m\t \u001b[1m\u001b[92m[ 0.41937281 -0.4675424 ]\u001b[0m\t \u001b[1m\u001b[92m-0.23897009313130135\u001b[0m\t \u001b[1m\u001b[92m-0.23897009313130135\u001b[0m\t \u001b[1m\u001b[92m0.4714741617165095\u001b[0m\t \u001b[1m\u001b[92m-0.0\u001b[0m\n",
            "\u001b[1m\u001b[92m11\u001b[0m\t \u001b[1m\u001b[92m[ 0.41716297 -0.46683389]\u001b[0m\t \u001b[1m\u001b[92m-0.24224191344149998\u001b[0m\t \u001b[1m\u001b[92m-0.24224191344149998\u001b[0m\t \u001b[1m\u001b[92m0.4786159713853429\u001b[0m\t \u001b[1m\u001b[92m-0.0\u001b[0m\n",
            "\u001b[1m\u001b[92m12\u001b[0m\t \u001b[1m\u001b[92m[ 0.41523253 -0.46618395]\u001b[0m\t \u001b[1m\u001b[92m-0.24500772352878908\u001b[0m\t \u001b[1m\u001b[92m-0.24500772352878908\u001b[0m\t \u001b[1m\u001b[92m0.4846493229677214\u001b[0m\t \u001b[1m\u001b[92m-4.746939535031431e-185\u001b[0m\n",
            "\u001b[1m\u001b[92m13\u001b[0m\t \u001b[1m\u001b[92m[ 0.41352324 -0.46558186]\u001b[0m\t \u001b[1m\u001b[92m-0.2473784824809363\u001b[0m\t \u001b[1m\u001b[92m-0.2473784824809363\u001b[0m\t \u001b[1m\u001b[92m0.48981658712753584\u001b[0m\t \u001b[1m\u001b[92m-4.070487801100052e-40\u001b[0m\n",
            "\u001b[1m\u001b[92m14\u001b[0m\t \u001b[1m\u001b[92m[ 0.41199086 -0.46502019]\u001b[0m\t \u001b[1m\u001b[92m-0.24943973873780606\u001b[0m\t \u001b[1m\u001b[92m-0.24943973873780606\u001b[0m\t \u001b[1m\u001b[92m0.49429706356080755\u001b[0m\t \u001b[1m\u001b[92m-5.640170292380317e-42\u001b[0m\n",
            "\u001b[1m\u001b[92m15\u001b[0m\t \u001b[1m\u001b[92m[ 0.41060473 -0.46449317]\u001b[0m\t \u001b[1m\u001b[92m-0.2512491712197713\u001b[0m\t \u001b[1m\u001b[92m-0.2512491712197713\u001b[0m\t \u001b[1m\u001b[92m0.498220307417029\u001b[0m\t \u001b[1m\u001b[92m-0.0\u001b[0m\n",
            "\u001b[1m\u001b[92m16\u001b[0m\t \u001b[1m\u001b[92m[ 0.40934023 -0.46399642]\u001b[0m\t \u001b[1m\u001b[92m-0.2528534764923212\u001b[0m\t \u001b[1m\u001b[92m-0.2528534764923212\u001b[0m\t \u001b[1m\u001b[92m0.5016873698449408\u001b[0m\t \u001b[1m\u001b[92m-0.0\u001b[0m\n",
            "\u001b[1m\u001b[92m17\u001b[0m\t \u001b[1m\u001b[92m[ 0.40817751 -0.46352569]\u001b[0m\t \u001b[1m\u001b[92m-0.2542882535194001\u001b[0m\t \u001b[1m\u001b[92m-0.2542882535194001\u001b[0m\t \u001b[1m\u001b[92m0.5047749463489357\u001b[0m\t \u001b[1m\u001b[92m-0.0\u001b[0m\n",
            "\u001b[1m\u001b[92m18\u001b[0m\t \u001b[1m\u001b[92m[ 0.40710413 -0.46307897]\u001b[0m\t \u001b[1m\u001b[92m-0.2555777740319958\u001b[0m\t \u001b[1m\u001b[92m-0.2555777740319958\u001b[0m\t \u001b[1m\u001b[92m0.5075425350098393\u001b[0m\t \u001b[1m\u001b[92m-9.991177452692443e-33\u001b[0m\n",
            "\u001b[1m\u001b[92m19\u001b[0m\t \u001b[1m\u001b[92m[ 0.40610603 -0.46265285]\u001b[0m\t \u001b[1m\u001b[92m-0.2567459898706339\u001b[0m\t \u001b[1m\u001b[92m-0.2567459898706339\u001b[0m\t \u001b[1m\u001b[92m0.5100401773196072\u001b[0m\t \u001b[1m\u001b[92m-7.586890533687173e-36\u001b[0m\n",
            "\u001b[1m\u001b[92m20\u001b[0m\t \u001b[1m\u001b[92m[ 0.40517403 -0.46224517]\u001b[0m\t \u001b[1m\u001b[92m-0.2578088534457341\u001b[0m\t \u001b[1m\u001b[92m-0.2578088534457341\u001b[0m\t \u001b[1m\u001b[92m0.5123055511008608\u001b[0m\t \u001b[1m\u001b[92m-1.659385808044186e-126\u001b[0m\n"
          ]
        }
      ],
      "source": [
        "### Bayesian optimisation runs (x20): 'GP EI' Acquisition Function run number = 18\n",
        "\n",
        "np.random.seed(run_num_18)\n",
        "surrogate_approx_18 = dGaussianProcess(cov_func, optimize=hyperOpt)\n",
        "\n",
        "approx_18 = GPGO_approx(surrogate_approx_18, Acquisition_grad(util), f_syn_polarity, param, n_jobs = -1) # define BayesOpt\n",
        "approx_18.run(max_iter = max_iter, init_evals = n_init) # run\n"
      ]
    },
    {
      "cell_type": "code",
      "execution_count": 31,
      "metadata": {
        "colab": {
          "base_uri": "https://localhost:8080/"
        },
        "id": "E7485DWlJLk8",
        "outputId": "da40e36c-1df7-46b9-e1b4-b5a2e240e951"
      },
      "outputs": [
        {
          "output_type": "stream",
          "name": "stdout",
          "text": [
            "Evaluation \t Proposed point \t  Current eval. \t  Best eval. \t         GP EI: maximum y \t GP EI: exploit\n",
            "init\t [-2.41479839  1.04499887]\t 15.890475442873509\t 6.578088852480828\t    \t    \n",
            "init\t [-1.51837216 -1.44747325]\t 13.520839509777993\t 6.578088852480828\t    \t    \n",
            "init\t [-1.01132062 -1.66800174]\t 23.772158573571232\t 6.578088852480828\t    \t    \n",
            "init\t [1.03186249 1.22637519]\t 6.578088852480828\t 6.578088852480828\t    \t    \n",
            "init\t [2.89645149 0.54264294]\t 83.31828503667734\t 6.578088852480828\t    \t    \n",
            "1  \t [-0.04594902  2.        ]\t 47.916537858903055\t 6.578088852480828\t 5.923965955295372\t 5.916007521918661\n",
            "2  \t [ 1.6626862 -2.       ]\t 46.725988988445636\t 6.578088852480828\t 6.421344447472726\t 6.416734173111807\n",
            "3  \t [-3. -2.]\t 162.89999999999998\t 6.578088852480828\t 4.553585229212489\t 4.49710716890754\n",
            "\u001b[1m\u001b[92m4\u001b[0m\t \u001b[1m\u001b[92m[-0.30754482 -0.24340017]\u001b[0m\t \u001b[1m\u001b[92m0.21175163798172386\u001b[0m\t \u001b[1m\u001b[92m0.21175163798172386\u001b[0m\t \u001b[1m\u001b[92m3.328302393361501\u001b[0m\t \u001b[1m\u001b[92m3.130975259042787\u001b[0m\n",
            "\u001b[1m\u001b[92m5\u001b[0m\t \u001b[1m\u001b[92m[-0.23874691 -0.2198156 ]\u001b[0m\t \u001b[1m\u001b[92m0.08978273567635284\u001b[0m\t \u001b[1m\u001b[92m0.08978273567635284\u001b[0m\t \u001b[1m\u001b[92m0.1845406628499552\u001b[0m\t \u001b[1m\u001b[92m-1.3174198566146549e-142\u001b[0m\n",
            "\u001b[1m\u001b[92m6\u001b[0m\t \u001b[1m\u001b[92m[-0.21242247 -0.21285343]\u001b[0m\t \u001b[1m\u001b[92m0.04844727516002503\u001b[0m\t \u001b[1m\u001b[92m0.04844727516002503\u001b[0m\t \u001b[1m\u001b[92m0.25375055167765936\u001b[0m\t \u001b[1m\u001b[92m-0.0\u001b[0m\n",
            "\u001b[1m\u001b[92m7\u001b[0m\t \u001b[1m\u001b[92m[-0.19619434 -0.20899811]\u001b[0m\t \u001b[1m\u001b[92m0.024791679441103248\u001b[0m\t \u001b[1m\u001b[92m0.024791679441103248\u001b[0m\t \u001b[1m\u001b[92m0.304893874648354\u001b[0m\t \u001b[1m\u001b[92m-1.2380408444033025e-149\u001b[0m\n",
            "\u001b[1m\u001b[92m8\u001b[0m\t \u001b[1m\u001b[92m[-0.18465448 -0.20646008]\u001b[0m\t \u001b[1m\u001b[92m0.008849351802870109\u001b[0m\t \u001b[1m\u001b[92m0.008849351802870109\u001b[0m\t \u001b[1m\u001b[92m0.34145030326009557\u001b[0m\t \u001b[1m\u001b[92m-6.003452496869382e-231\u001b[0m\n",
            "\u001b[1m\u001b[92m9\u001b[0m\t \u001b[1m\u001b[92m[-0.1757829  -0.20461964]\u001b[0m\t \u001b[1m\u001b[92m-0.002892745065521507\u001b[0m\t \u001b[1m\u001b[92m-0.002892745065521507\u001b[0m\t \u001b[1m\u001b[92m0.3686176679260007\u001b[0m\t \u001b[1m\u001b[92m-0.0\u001b[0m\n",
            "\u001b[1m\u001b[92m10\u001b[0m\t \u001b[1m\u001b[92m[-0.16860723 -0.20320088]\u001b[0m\t \u001b[1m\u001b[92m-0.012057507130662254\u001b[0m\t \u001b[1m\u001b[92m-0.012057507130662254\u001b[0m\t \u001b[1m\u001b[92m0.3895410843201322\u001b[0m\t \u001b[1m\u001b[92m-1.2853629509192308e-89\u001b[0m\n",
            "\u001b[1m\u001b[92m11\u001b[0m\t \u001b[1m\u001b[92m[-0.16262073 -0.20205905]\u001b[0m\t \u001b[1m\u001b[92m-0.019465287300401923\u001b[0m\t \u001b[1m\u001b[92m-0.019465287300401923\u001b[0m\t \u001b[1m\u001b[92m0.4061311924856378\u001b[0m\t \u001b[1m\u001b[92m-1.8505301727452792e-104\u001b[0m\n",
            "\u001b[1m\u001b[92m12\u001b[0m\t \u001b[1m\u001b[92m[-0.15748151 -0.20111055]\u001b[0m\t \u001b[1m\u001b[92m-0.025652113955616285\u001b[0m\t \u001b[1m\u001b[92m-0.025652113955616285\u001b[0m\t \u001b[1m\u001b[92m0.41961638551158736\u001b[0m\t \u001b[1m\u001b[92m-1.076186634260688e-110\u001b[0m\n",
            "\u001b[1m\u001b[92m13\u001b[0m\t \u001b[1m\u001b[92m[-0.15298808 -0.20030337]\u001b[0m\t \u001b[1m\u001b[92m-0.030927522282454628\u001b[0m\t \u001b[1m\u001b[92m-0.030927522282454628\u001b[0m\t \u001b[1m\u001b[92m0.4307876002157672\u001b[0m\t \u001b[1m\u001b[92m-6.362707101362811e-42\u001b[0m\n",
            "\u001b[1m\u001b[92m14\u001b[0m\t \u001b[1m\u001b[92m[-0.14900072 -0.19960353]\u001b[0m\t \u001b[1m\u001b[92m-0.03550236728327108\u001b[0m\t \u001b[1m\u001b[92m-0.03550236728327108\u001b[0m\t \u001b[1m\u001b[92m0.44019787247079967\u001b[0m\t \u001b[1m\u001b[92m-6.716584126288743e-76\u001b[0m\n",
            "\u001b[1m\u001b[92m15\u001b[0m\t \u001b[1m\u001b[92m[-0.14541806 -0.19898736]\u001b[0m\t \u001b[1m\u001b[92m-0.03952642091736344\u001b[0m\t \u001b[1m\u001b[92m-0.03952642091736344\u001b[0m\t \u001b[1m\u001b[92m0.4482368134157411\u001b[0m\t \u001b[1m\u001b[92m-9.636399242943547e-84\u001b[0m\n",
            "\u001b[1m\u001b[92m16\u001b[0m\t \u001b[1m\u001b[92m[-0.14216703 -0.19843818]\u001b[0m\t \u001b[1m\u001b[92m-0.043106303881952454\u001b[0m\t \u001b[1m\u001b[92m-0.043106303881952454\u001b[0m\t \u001b[1m\u001b[92m0.4551859493184735\u001b[0m\t \u001b[1m\u001b[92m-2.2494093487211492e-120\u001b[0m\n",
            "\u001b[1m\u001b[92m17\u001b[0m\t \u001b[1m\u001b[92m[-0.13919071 -0.1979432 ]\u001b[0m\t \u001b[1m\u001b[92m-0.04632301854827396\u001b[0m\t \u001b[1m\u001b[92m-0.04632301854827396\u001b[0m\t \u001b[1m\u001b[92m0.46125559309076203\u001b[0m\t \u001b[1m\u001b[92m-0.0\u001b[0m\n",
            "\u001b[1m\u001b[92m18\u001b[0m\t \u001b[1m\u001b[92m[-0.13644841 -0.19749373]\u001b[0m\t \u001b[1m\u001b[92m-0.049235318499777886\u001b[0m\t \u001b[1m\u001b[92m-0.049235318499777886\u001b[0m\t \u001b[1m\u001b[92m0.4666038434385474\u001b[0m\t \u001b[1m\u001b[92m-2.6042670028312965e-123\u001b[0m\n",
            "\u001b[1m\u001b[92m19\u001b[0m\t \u001b[1m\u001b[92m[-0.13390426 -0.19708187]\u001b[0m\t \u001b[1m\u001b[92m-0.05189220377319537\u001b[0m\t \u001b[1m\u001b[92m-0.05189220377319537\u001b[0m\t \u001b[1m\u001b[92m0.4713548230182574\u001b[0m\t \u001b[1m\u001b[92m-9.310312057008642e-216\u001b[0m\n",
            "\u001b[1m\u001b[92m20\u001b[0m\t \u001b[1m\u001b[92m[-0.13153214 -0.19670233]\u001b[0m\t \u001b[1m\u001b[92m-0.05433034543529251\u001b[0m\t \u001b[1m\u001b[92m-0.05433034543529251\u001b[0m\t \u001b[1m\u001b[92m0.47560394039004555\u001b[0m\t \u001b[1m\u001b[92m-4.1070796282320613e-36\u001b[0m\n"
          ]
        }
      ],
      "source": [
        "### Bayesian optimisation runs (x20): 'GP EI' Acquisition Function run number = 19\n",
        "\n",
        "np.random.seed(run_num_19)\n",
        "surrogate_approx_19 = dGaussianProcess(cov_func, optimize=hyperOpt)\n",
        "\n",
        "approx_19 = GPGO_approx(surrogate_approx_19, Acquisition_grad(util), f_syn_polarity, param, n_jobs = -1) # define BayesOpt\n",
        "approx_19.run(max_iter = max_iter, init_evals = n_init) # run\n"
      ]
    },
    {
      "cell_type": "code",
      "execution_count": 32,
      "metadata": {
        "colab": {
          "base_uri": "https://localhost:8080/"
        },
        "id": "v9oZm6NvJLk9",
        "outputId": "37eb8c89-ed58-40dd-b1e1-980ce74b7f49"
      },
      "outputs": [
        {
          "output_type": "stream",
          "name": "stdout",
          "text": [
            "Evaluation \t Proposed point \t  Current eval. \t  Best eval. \t         GP EI: maximum y \t GP EI: exploit\n",
            "init\t [0.52878481 1.59085491]\t 17.29968374481291\t 1.5037392797834441\t    \t    \n",
            "init\t [2.34918438 1.26334991]\t 20.91583049569433\t 1.5037392797834441\t    \t    \n",
            "init\t [-2.78466249  0.76703033]\t 57.06253405225224\t 1.5037392797834441\t    \t    \n",
            "init\t [-0.72791435  0.07404378]\t 1.5037392797834441\t 1.5037392797834441\t    \t    \n",
            "init\t [ 0.94770879 -1.22459913]\t 3.9766737661914173\t 1.5037392797834441\t    \t    \n",
            "1  \t [-1.16287628 -2.        ]\t 52.71897154250457\t 1.5037392797834441\t 1.6228041681659169\t 0.9826089132045954\n",
            "2  \t [ 3. -2.]\t 150.89999999999998\t 1.5037392797834441\t 1.6680546482650702\t 1.0395838184931585\n",
            "\u001b[1m\u001b[92m3\u001b[0m\t \u001b[1m\u001b[92m[ 0.44491632 -0.32008893]\u001b[0m\t \u001b[1m\u001b[92m0.2018495674177776\u001b[0m\t \u001b[1m\u001b[92m0.2018495674177776\u001b[0m\t \u001b[1m\u001b[92m0.7085212854773342\u001b[0m\t \u001b[1m\u001b[92m-2.106634772521456e-27\u001b[0m\n",
            "4  \t [ 0.44440557 -0.31347918]\t 0.21688159575915594\t 0.2018495674177776\t 0.35438590133011955\t -1.8279435545685347e-131\n",
            "5  \t [ 0.44473352 -0.31307705]\t 0.21870336094154053\t 0.2018495674177776\t 0.405353986196912\t -9.932362115280166e-47\n",
            "6  \t [ 0.44492254 -0.3128241 ]\t 0.21980544163944155\t 0.2018495674177776\t 0.4357663274357303\t -2.0479098685688895e-259\n",
            "7  \t [ 0.4450435  -0.31265081]\t 0.22053878434348184\t 0.2018495674177776\t 0.4559020846667679\t -7.084584694090272e-58\n",
            "8  \t [ 0.44512847 -0.3125244 ]\t 0.2210654051978272\t 0.2018495674177776\t 0.47019504209749746\t -4.096500116149641e-158\n",
            "9  \t [ 0.44519106 -0.31242814]\t 0.22146103713585902\t 0.2018495674177776\t 0.48085646448089253\t -2.6471625858992236e-133\n",
            "10 \t [ 0.44523934 -0.31235254]\t 0.22176954642133256\t 0.2018495674177776\t 0.4891096954851383\t -5.3393094714918564e-198\n",
            "11 \t [ 0.44527737 -0.31229142]\t 0.2220163982760192\t 0.2018495674177776\t 0.4956851386940378\t -0.0\n",
            "12 \t [ 0.44530838 -0.3122411 ]\t 0.22221886291511833\t 0.2018495674177776\t 0.5010456652396508\t -2.933406368803554e-197\n",
            "13 \t [ 0.44533414 -0.31219888]\t 0.22238808621305395\t 0.2018495674177776\t 0.5054984483716246\t -2.8004025320550974e-213\n",
            "14 \t [ 0.44535562 -0.31216311]\t 0.2225305534040421\t 0.2018495674177776\t 0.5092553643654003\t -1.5122781815651014e-57\n",
            "15 \t [ 0.44537418 -0.31213233]\t 0.22265336481447923\t 0.2018495674177776\t 0.5124672653290597\t -3.615733029875446e-63\n",
            "16 \t [ 0.44539014 -0.31210552]\t 0.22275981084888785\t 0.2018495674177776\t 0.5152443209060298\t -0.0\n",
            "17 \t [ 0.44540413 -0.31208199]\t 0.2228531848117588\t 0.2018495674177776\t 0.5176690032316636\t -9.37091426035629e-259\n",
            "18 \t [ 0.44541626 -0.31206115]\t 0.22293523464185894\t 0.2018495674177776\t 0.5198041481339299\t -2.1637718762660615e-30\n",
            "19 \t [ 0.44542718 -0.31204265]\t 0.2230084361374502\t 0.2018495674177776\t 0.521698585446872\t -3.406361411944316e-109\n",
            "20 \t [ 0.44543705 -0.31202611]\t 0.22307415820092658\t 0.2018495674177776\t 0.5233907185721884\t -1.959199838382459e-42\n"
          ]
        }
      ],
      "source": [
        "### Bayesian optimisation runs (x20): 'GP EI' Acquisition Function run number = 20\n",
        "\n",
        "np.random.seed(run_num_20)\n",
        "surrogate_approx_20 = dGaussianProcess(cov_func, optimize=hyperOpt)\n",
        "\n",
        "approx_20 = GPGO_approx(surrogate_approx_20, Acquisition_grad(util), f_syn_polarity, param, n_jobs = -1) # define BayesOpt\n",
        "approx_20.run(max_iter = max_iter, init_evals = n_init) # run\n"
      ]
    },
    {
      "cell_type": "code",
      "execution_count": 33,
      "metadata": {
        "colab": {
          "base_uri": "https://localhost:8080/"
        },
        "id": "m3W7oEVSJLk9",
        "outputId": "78e78c5d-6976-47b9-cf53-aa37c724a38d"
      },
      "outputs": [
        {
          "output_type": "stream",
          "name": "stdout",
          "text": [
            "Evaluation \t Proposed point \t  Current eval. \t  Best eval. \t         GP dEI: maximum y \t GP dEI: exploit\n",
            "init\t [-0.49786797  0.88129797]\t -0.2650082867644827\t -0.2650082867644827\t    \t    \n",
            "init\t [-2.99931375 -0.79066971]\t 110.13991869176735\t -0.2650082867644827\t    \t    \n",
            "init\t [-2.11946466 -1.63064562]\t 26.90935479429681\t -0.2650082867644827\t    \t    \n",
            "init\t [-1.88243873 -0.61775709]\t 2.8558363102363344\t -0.2650082867644827\t    \t    \n",
            "init\t [-0.61939515  0.15526694]\t 1.0540522096005847\t -0.2650082867644827\t    \t    \n",
            "1  \t [-1.0222508  -0.56767233]\t 1.9738149569435763\t -0.2650082867644827\t 1.337802723187696\t 0.629264713123948\n",
            "2  \t [-1.26808267 -0.11971967]\t 2.4833208094638186\t -0.2650082867644827\t 0.8119767266061961\t 0.11076026209454763\n",
            "3  \t [-0.4682545   1.65874906]\t 19.278966809435275\t -0.2650082867644827\t 0.7060383202615662\t -1.6942665220706295e-82\n",
            "4  \t [0.57640459 0.14873338]\t 1.108587133549329\t -0.2650082867644827\t 0.6973396676340106\t -1.6684030070570907e-190\n",
            "5  \t [3. 2.]\t 162.89999999999998\t -0.2650082867644827\t 0.6723624063265204\t -1.1345245917897257e-12\n",
            "6  \t [ 1.62245446 -2.        ]\t 46.81311522637849\t -0.2650082867644827\t 0.67193039036838\t -3.5008817653217035e-172\n",
            "7  \t [-2.33577482  1.41142395]\t 18.056485514077938\t -0.2650082867644827\t 0.5591994020810854\t -2.0369077472127473e-109\n",
            "8  \t [1.55140561 0.11333102]\t 2.234925791924943\t -0.2650082867644827\t 0.43537775467355644\t -9.334417853568333e-263\n",
            "9  \t [-0.41362527 -1.2419735 ]\t 4.485466378560737\t -0.2650082867644827\t 0.3588840809353698\t -7.514050431438144e-263\n",
            "10 \t [ 3.         -0.44634136]\t 106.922848880709\t -0.2650082867644827\t 0.4867274550638506\t -1.3779326376060562e-303\n",
            "11 \t [-0.55435427 -0.23061508]\t 0.9670105495804036\t -0.2650082867644827\t 0.8337448869564247\t 0.20336228408987475\n",
            "12 \t [0.45618444 0.19746525]\t 0.6846677700569301\t -0.2650082867644827\t 0.6584089413957156\t -3.239554522754101e-197\n",
            "13 \t [0.39398071 0.21868707]\t 0.4755443561854027\t -0.2650082867644827\t 0.5092177942612222\t -3.736545947698327e-135\n",
            "14 \t [-0.74257473 -0.1075505 ]\t 1.6571600856276385\t -0.2650082867644827\t 0.5235620037342488\t -0.0\n",
            "15 \t [0.50775251 0.19471017]\t 0.8503467276613143\t -0.2650082867644827\t 0.43153961333562313\t -6.093189899708258e-169\n",
            "16 \t [0.58529281 0.12169625]\t 1.1500959800437505\t -0.2650082867644827\t 0.32431377541607015\t -1.2135346973497154e-178\n",
            "17 \t [0.50995867 0.18465468]\t 0.8664981540565608\t -0.2650082867644827\t 0.32983376128637965\t -0.0\n",
            "18 \t [0.57359396 0.12622587]\t 1.110277634942178\t -0.2650082867644827\t 0.26788547617745384\t -0.0\n",
            "19 \t [-0.638635   -0.28383212]\t 1.189690685686625\t -0.2650082867644827\t 0.41860467312000355\t -0.0\n",
            "20 \t [-0.76975354 -0.09851442]\t 1.7395419122743336\t -0.2650082867644827\t 0.31641722000372274\t -2.409567274184421e-200\n"
          ]
        }
      ],
      "source": [
        "### Bayesian optimisation runs (x20): 'GP dEI' Acquisition Function run number = 1 \n",
        "\n",
        "np.random.seed(run_num_1)\n",
        "surrogate_exact_1 = dGaussianProcess(cov_func, optimize=hyperOpt)\n",
        "\n",
        "exact_1 = GPGO_exact(surrogate_exact_1, Acquisition_grad(util), f_syn_polarity, param, n_jobs = -1) # Define BayesOpt\n",
        "exact_1.run(max_iter = max_iter, init_evals = n_init) # run\n"
      ]
    },
    {
      "cell_type": "code",
      "execution_count": 34,
      "metadata": {
        "colab": {
          "base_uri": "https://localhost:8080/"
        },
        "id": "FGw67C40JLk-",
        "outputId": "9d20650d-4cf7-4f72-975a-8bc6bd5ca1e2"
      },
      "outputs": [
        {
          "output_type": "stream",
          "name": "stdout",
          "text": [
            "Evaluation \t Proposed point \t  Current eval. \t  Best eval. \t         GP dEI: maximum y \t GP dEI: exploit\n",
            "init\t [-0.38403059 -1.89629507]\t 38.61280125654363\t 0.011939608840498828\t    \t    \n",
            "init\t [ 0.29797487 -0.25871043]\t 0.011939608840498828\t 0.011939608840498828\t    \t    \n",
            "init\t [-0.47779319 -0.67866072]\t 0.1381453419305213\t 0.011939608840498828\t    \t    \n",
            "init\t [-1.7721082   0.47708387]\t 0.626144759281101\t 0.011939608840498828\t    \t    \n",
            "init\t [-1.20207196 -0.9326909 ]\t 3.0693811601417798\t 0.011939608840498828\t    \t    \n",
            "1  \t [-0.31993922 -0.13822595]\t 0.35705703278801193\t 0.011939608840498828\t 0.9015114982733211\t 0.16872520426363652\n",
            "2  \t [ 2.04712486 -0.34678071]\t 3.2819773046713774\t 0.011939608840498828\t 0.8038736053985057\t 0.006000197446719373\n",
            "3  \t [0.87539145 2.        ]\t 51.73283837601235\t 0.011939608840498828\t 0.803856887569106\t 0.00598624055551247\n",
            "4  \t [-3. -2.]\t 162.89999999999998\t 0.011939608840498828\t 0.8034960174697786\t 0.01740853292694663\n",
            "5  \t [3.         1.37226805]\t 119.66888349229755\t 0.011939608840498828\t 0.798047103561054\t 0.015190531882885834\n",
            "6  \t [-1.21016181  0.32572009]\t 1.6274790665782064\t 0.011939608840498828\t 1.3012474927520692\t -1.1788775865976234e-155\n",
            "7  \t [ 2.57822459 -1.73411104]\t 51.37545795641484\t 0.011939608840498828\t 0.9806990898681038\t 0.2052079370512669\n",
            "8  \t [-1.13497412  0.24567019]\t 1.8748246583881507\t 0.011939608840498828\t 0.7961105027354478\t 0.15568680801413826\n",
            "9  \t [-2.53093763  1.58874316]\t 38.43452837803527\t 0.011939608840498828\t 0.6583673375735424\t -1.7461049670402215e-192\n",
            "10 \t [-0.76656072 -0.04169767]\t 1.7180026301046591\t 0.011939608840498828\t 1.084966613909975\t 0.5193575958290901\n",
            "11 \t [-0.72677218 -0.06724057]\t 1.6068923860923892\t 0.011939608840498828\t 0.7517886044400511\t -0.0\n",
            "12 \t [-0.78299377 -0.04440794]\t 1.7667083925091904\t 0.011939608840498828\t 0.5973503603277359\t -1.3562301189641111e-238\n",
            "\u001b[1m\u001b[92m13\u001b[0m\t \u001b[1m\u001b[92m[-0.00776059 -0.17638189]\u001b[0m\t \u001b[1m\u001b[92m-0.11896108969403411\u001b[0m\t \u001b[1m\u001b[92m-0.11896108969403411\u001b[0m\t \u001b[1m\u001b[92m0.20741131697578552\u001b[0m\t \u001b[1m\u001b[92m-0.0\u001b[0m\n",
            "14 \t [-0.3235518  -0.14196628]\t 0.36305190914853197\t -0.11896108969403411\t 0.3144836615818125\t -0.0\n",
            "15 \t [-0.22531248 -0.15205578]\t 0.14160896155349106\t -0.11896108969403411\t 0.2870190132391993\t -3.3862398094777007e-240\n",
            "16 \t [-0.58376693 -0.09294834]\t 1.1524480178219354\t -0.11896108969403411\t 0.4394180089243372\t -2.616522328620785e-284\n",
            "17 \t [-0.44536759 -0.12143538]\t 0.7093558649288298\t -0.11896108969403411\t 0.3503982269676437\t -4.644571741322068e-211\n",
            "18 \t [-1.01083452  0.07946213]\t 2.1448233030985664\t -0.11896108969403411\t 0.34714708808901157\t -4.486508602532076e-229\n",
            "19 \t [-0.51267083 -0.10284075]\t 0.9231749634758364\t -0.11896108969403411\t 0.330042275828265\t -0.0\n",
            "20 \t [-0.12180052 -0.14854931]\t -0.009346043698255715\t -0.11896108969403411\t 0.23445433013347008\t -3.368952496050368e-34\n"
          ]
        }
      ],
      "source": [
        "### Bayesian optimisation runs (x20): 'GP dEI' Acquisition Function run number = 2 \n",
        "\n",
        "np.random.seed(run_num_2)\n",
        "surrogate_exact_2 = dGaussianProcess(cov_func, optimize=hyperOpt)\n",
        "\n",
        "exact_2 = GPGO_exact(surrogate_exact_2, Acquisition_grad(util), f_syn_polarity, param, n_jobs = -1) # Define BayesOpt\n",
        "exact_2.run(max_iter = max_iter, init_evals = n_init) # run\n"
      ]
    },
    {
      "cell_type": "code",
      "execution_count": 35,
      "metadata": {
        "colab": {
          "base_uri": "https://localhost:8080/"
        },
        "id": "oFLQAtDZJLk_",
        "outputId": "672eaded-8fd8-4240-a9db-fb78a1bf8c4d"
      },
      "outputs": [
        {
          "output_type": "stream",
          "name": "stdout",
          "text": [
            "Evaluation \t Proposed point \t  Current eval. \t  Best eval. \t         GP dEI: maximum y \t GP dEI: exploit\n",
            "init\t [0.30478742 0.83259129]\t -0.2431922946563294\t -0.2431922946563294\t    \t    \n",
            "init\t [-1.25457157  0.04331042]\t 2.3313310458730996\t -0.2431922946563294\t    \t    \n",
            "init\t [2.35768173 1.58517236]\t 33.54152175045586\t -0.2431922946563294\t    \t    \n",
            "init\t [-2.24648814 -1.17102849]\t 14.214109412296352\t -0.2431922946563294\t    \t    \n",
            "init\t [-2.69119678 -0.23676063]\t 45.87579771712209\t -0.2431922946563294\t    \t    \n",
            "1  \t [-0.24615031  0.33088407]\t -0.23671242014455512\t -0.2431922946563294\t 0.9345839458281968\t 0.08194134069705998\n",
            "\u001b[1m\u001b[92m2\u001b[0m\t \u001b[1m\u001b[92m[-0.26381503  0.4354689 ]\u001b[0m\t \u001b[1m\u001b[92m-0.4612393470974674\u001b[0m\t \u001b[1m\u001b[92m-0.4612393470974674\u001b[0m\t \u001b[1m\u001b[92m0.7867737753492747\u001b[0m\t \u001b[1m\u001b[92m0.06040329168988206\u001b[0m\n",
            "3  \t [-0.51799266  1.2341212 ]\t 3.4758193603861836\t -0.4612393470974674\t 0.6561897207749525\t 0.0022605811072868433\n",
            "4  \t [-0.0673234  -0.21593135]\t -0.14518543952304563\t -0.4612393470974674\t 0.7615632543494404\t 0.05185450802413667\n",
            "5  \t [ 0.05023894 -0.29319294]\t -0.31893773832699984\t -0.4612393470974674\t 0.6346183053978937\t -3.11784508973113e-29\n",
            "6  \t [ 0.12147888 -0.35789422]\t -0.43163102803521386\t -0.4612393470974674\t 0.5881841437358569\t -2.229330562041507e-19\n",
            "7  \t [-0.03575096 -0.17723115]\t -0.11025167395845886\t -0.4612393470974674\t 0.59590606440065\t -1.2445136821235728e-37\n",
            "8  \t [ 2.06216375 -2.        ]\t 48.543590513997486\t -0.4612393470974674\t 0.5873665045713158\t -3.3424964072586815e-28\n",
            "9  \t [-0.12353318 -0.09983315]\t 0.033417337879939335\t -0.4612393470974674\t 0.5791536814610069\t -5.800498653076133e-40\n",
            "\u001b[1m\u001b[92m10\u001b[0m\t \u001b[1m\u001b[92m[-0.1291267  -0.64417092]\u001b[0m\t \u001b[1m\u001b[92m-0.8217779839685982\u001b[0m\t \u001b[1m\u001b[92m-0.8217779839685982\u001b[0m\t \u001b[1m\u001b[92m0.45905114520826584\u001b[0m\t \u001b[1m\u001b[92m-3.8231193763332124e-42\u001b[0m\n",
            "11 \t [-0.29574404  0.05253284]\t 0.30747148064680496\t -0.8217779839685982\t 0.3838571654368132\t -7.019093779004462e-35\n",
            "12 \t [-0.18041224 -0.4906387 ]\t -0.5146104005958982\t -0.8217779839685982\t 0.38673648444981823\t -7.351652309988607e-33\n",
            "13 \t [-0.18219109 -0.32370731]\t -0.1857755696749902\t -0.8217779839685982\t 0.39735170626193594\t -8.506389942691308e-34\n",
            "14 \t [-0.15550354 -0.3062085 ]\t -0.1967694253728341\t -0.8217779839685982\t 0.38653000510681523\t -1.065053702889514e-36\n",
            "15 \t [-0.1735317  -0.50043517]\t -0.5454707984793465\t -0.8217779839685982\t 0.3714303213607869\t -4.1370232637936824e-17\n",
            "16 \t [-0.24535894 -0.85183977]\t -0.35409008418354904\t -0.8217779839685982\t 0.3613495936815051\t -2.8613053453786988e-19\n",
            "17 \t [-0.19474459 -0.20591331]\t 0.0263899598555839\t -0.8217779839685982\t 0.38467542571037583\t -3.396398025702495e-23\n",
            "18 \t [-0.21876696 -0.66806222]\t -0.6556559106660252\t -0.8217779839685982\t 0.36671103142783806\t -3.105505257109229e-36\n",
            "19 \t [-0.21398794 -0.51850498]\t -0.4965280259760927\t -0.8217779839685982\t 0.3849459739234474\t -6.738107331516705e-36\n",
            "20 \t [-0.56979007 -2.        ]\t 50.228280318885595\t -0.8217779839685982\t 0.3688565713557053\t -2.3432162682787777e-16\n"
          ]
        }
      ],
      "source": [
        "### Bayesian optimisation runs (x20): 'GP dEI' Acquisition Function run number = 3 \n",
        "\n",
        "np.random.seed(run_num_3)\n",
        "surrogate_exact_3 = dGaussianProcess(cov_func, optimize=hyperOpt)\n",
        "\n",
        "exact_3 = GPGO_exact(surrogate_exact_3, Acquisition_grad(util), f_syn_polarity, param, n_jobs = -1) # Define BayesOpt\n",
        "exact_3.run(max_iter = max_iter, init_evals = n_init) # run\n"
      ]
    },
    {
      "cell_type": "code",
      "execution_count": 36,
      "metadata": {
        "colab": {
          "base_uri": "https://localhost:8080/"
        },
        "id": "zhFOxkF0JLk_",
        "outputId": "15ee1b81-c8c1-4bed-f51f-a5d71647b429"
      },
      "outputs": [
        {
          "output_type": "stream",
          "name": "stdout",
          "text": [
            "Evaluation \t Proposed point \t  Current eval. \t  Best eval. \t         GP dEI: maximum y \t GP dEI: exploit\n",
            "init\t [2.80217903 0.188929  ]\t 63.70212732873661\t 2.3196402150601703\t    \t    \n",
            "init\t [2.83610616 0.85926397]\t 71.43837110827245\t 2.3196402150601703\t    \t    \n",
            "init\t [ 1.18637295 -1.13564202]\t 2.5463267765341566\t 2.3196402150601703\t    \t    \n",
            "init\t [ 2.85764673 -1.97507898]\t 113.76785286351424\t 2.3196402150601703\t    \t    \n",
            "init\t [-1.48210583 -0.26083387]\t 2.3196402150601703\t 2.3196402150601703\t    \t    \n",
            "\u001b[1m\u001b[92m1\u001b[0m\t \u001b[1m\u001b[92m[-0.19248638 -0.29673967]\u001b[0m\t \u001b[1m\u001b[92m-0.118746904624908\u001b[0m\t \u001b[1m\u001b[92m-0.118746904624908\u001b[0m\t \u001b[1m\u001b[92m2.801662033633455\u001b[0m\t \u001b[1m\u001b[92m2.5125182578949046\u001b[0m\n",
            "\u001b[1m\u001b[92m2\u001b[0m\t \u001b[1m\u001b[92m[ 0.0771446 -0.9683799]\u001b[0m\t \u001b[1m\u001b[92m-0.2844404270558513\u001b[0m\t \u001b[1m\u001b[92m-0.2844404270558513\u001b[0m\t \u001b[1m\u001b[92m1.4618491526354545\u001b[0m\t \u001b[1m\u001b[92m0.7582442586464574\u001b[0m\n",
            "3  \t [ 0.15454763 -1.42856043]\t 8.369638169079648\t -0.2844404270558513\t 1.0080760300974796\t 0.342484671233503\n",
            "4  \t [-0.59840288  1.94539575]\t 42.167704564580156\t -0.2844404270558513\t 0.6339682859220072\t -9.93327859073916e-235\n",
            "5  \t [-3. -2.]\t 162.89999999999998\t -0.2844404270558513\t 0.6339729933996755\t -4.206157761907055e-106\n",
            "\u001b[1m\u001b[92m6\u001b[0m\t \u001b[1m\u001b[92m[ 0.4344578  -0.88853037]\u001b[0m\t \u001b[1m\u001b[92m-0.3683825364525794\u001b[0m\t \u001b[1m\u001b[92m-0.3683825364525794\u001b[0m\t \u001b[1m\u001b[92m0.1791702058990037\u001b[0m\t \u001b[1m\u001b[92m-4.0631311879220785e-115\u001b[0m\n",
            "\u001b[1m\u001b[92m7\u001b[0m\t \u001b[1m\u001b[92m[-0.00719016 -0.43245909]\u001b[0m\t \u001b[1m\u001b[92m-0.604860009707508\u001b[0m\t \u001b[1m\u001b[92m-0.604860009707508\u001b[0m\t \u001b[1m\u001b[92m0.39660430652061013\u001b[0m\t \u001b[1m\u001b[92m-6.989804522419241e-166\u001b[0m\n",
            "\u001b[1m\u001b[92m8\u001b[0m\t \u001b[1m\u001b[92m[ 0.17688634 -0.53889405]\u001b[0m\t \u001b[1m\u001b[92m-0.7964963032738657\u001b[0m\t \u001b[1m\u001b[92m-0.7964963032738657\u001b[0m\t \u001b[1m\u001b[92m0.38964380375767177\u001b[0m\t \u001b[1m\u001b[92m-1.206549620215787e-119\u001b[0m\n",
            "\u001b[1m\u001b[92m9\u001b[0m\t \u001b[1m\u001b[92m[ 0.32482404 -0.67671998]\u001b[0m\t \u001b[1m\u001b[92m-0.8136861810695815\u001b[0m\t \u001b[1m\u001b[92m-0.8136861810695815\u001b[0m\t \u001b[1m\u001b[92m0.30331201384545076\u001b[0m\t \u001b[1m\u001b[92m-1.0633931588495459e-96\u001b[0m\n",
            "10 \t [ 0.44588596 -0.85413066]\t -0.4552221934254165\t -0.8136861810695815\t 0.19602033840794103\t -0.0\n",
            "11 \t [ 0.17961507 -0.5226659 ]\t -0.761216993134217\t -0.8136861810695815\t 0.4191176184964438\t -0.0\n",
            "12 \t [-0.71569504 -0.17362165]\t 1.5500170627121175\t -0.8136861810695815\t 0.094227897487775\t -0.0\n",
            "13 \t [ 0.29258834 -0.62047788]\t -0.8013874009662579\t -0.8136861810695815\t 0.399334467721651\t -0.0\n",
            "14 \t [ 0.32860924 -0.65912497]\t -0.7915364039463807\t -0.8136861810695815\t 0.39097242436417085\t -1.3627656030385418e-140\n",
            "15 \t [ 0.39240801 -0.74272345]\t -0.7134247075686775\t -0.8136861810695815\t 0.33776385701386363\t -0.0\n",
            "16 \t [-0.02178001 -0.38499236]\t -0.49471870244360466\t -0.8136861810695815\t 0.3850894700095473\t -9.31942443783605e-130\n",
            "17 \t [ 0.17863573 -0.50611606]\t -0.7270505794451327\t -0.8136861810695815\t 0.4724326915792115\t -3.650066827113123e-117\n",
            "18 \t [ 0.19715612 -0.51991923]\t -0.7391575197103449\t -0.8136861810695815\t 0.47779830723987465\t -1.058096851031143e-167\n",
            "19 \t [-0.05225443 -0.37129233]\t -0.44510454909173036\t -0.8136861810695815\t 0.3764612162178137\t -5.386190786382767e-157\n",
            "20 \t [-0.59071384 -0.21713408]\t 1.1028022983599066\t -0.8136861810695815\t 0.10994920676403902\t -1.6653101211831976e-247\n"
          ]
        }
      ],
      "source": [
        "### Bayesian optimisation runs (x20): 'GP dEI' Acquisition Function run number = 4 \n",
        "\n",
        "np.random.seed(run_num_4)\n",
        "surrogate_exact_4 = dGaussianProcess(cov_func, optimize=hyperOpt)\n",
        "\n",
        "exact_4 = GPGO_exact(surrogate_exact_4, Acquisition_grad(util), f_syn_polarity, param, n_jobs = -1) # Define BayesOpt\n",
        "exact_4.run(max_iter = max_iter, init_evals = n_init) # run\n"
      ]
    },
    {
      "cell_type": "code",
      "execution_count": 37,
      "metadata": {
        "colab": {
          "base_uri": "https://localhost:8080/"
        },
        "id": "YdzaqIajJLlA",
        "outputId": "822ef12c-80bf-40ca-a1d1-54ab28c73d93"
      },
      "outputs": [
        {
          "output_type": "stream",
          "name": "stdout",
          "text": [
            "Evaluation \t Proposed point \t  Current eval. \t  Best eval. \t         GP dEI: maximum y \t GP dEI: exploit\n",
            "init\t [-1.66804097  1.48292922]\t 10.126030408244933\t -0.6512780061070701\t    \t    \n",
            "init\t [-1.75968507  1.67444363]\t 19.4300499315822\t -0.6512780061070701\t    \t    \n",
            "init\t [-0.06953287  0.44697545]\t -0.6512780061070701\t -0.6512780061070701\t    \t    \n",
            "init\t [1.59544714 0.07367195]\t 2.168775388880503\t -0.6512780061070701\t    \t    \n",
            "init\t [-1.21919699 -1.24911509]\t 7.420330936884148\t -0.6512780061070701\t    \t    \n",
            "1  \t [0.27873899 1.08341635]\t 1.4162287546962613\t -0.6512780061070701\t 0.5212081300221553\t -1.693962554295879e-07\n",
            "2  \t [3. 2.]\t 162.89999999999998\t -0.6512780061070701\t 0.5110424854660709\t -0.007693401585749041\n",
            "3  \t [ 2.22867989 -2.        ]\t 52.44856270446538\t -0.6512780061070701\t 0.5135688175365126\t -1.0901773356602586e-10\n",
            "4  \t [0.27494103 0.1639579 ]\t 0.23095496884843886\t -0.6512780061070701\t 0.4391275416005083\t -1.7259045920241207e-64\n",
            "5  \t [-3. -2.]\t 162.89999999999998\t -0.6512780061070701\t 0.4220209811641843\t -4.836900359862397e-35\n",
            "6  \t [-0.19095792 -0.04204985]\t 0.14405301455804922\t -0.6512780061070701\t 0.4055430203552807\t -0.0\n",
            "7  \t [ 0.22610228 -0.27289114]\t -0.13835154176778736\t -0.6512780061070701\t 0.3767595860244782\t -0.0\n",
            "8  \t [ 0.05221633 -0.02048553]\t 0.008142972991233401\t -0.6512780061070701\t 0.38206950875980455\t -1.6723566815588742e-38\n",
            "9  \t [ 0.5512364  -0.17662669]\t 0.8126434220475512\t -0.6512780061070701\t 0.31623561318191284\t -0.0\n",
            "10 \t [-0.12947676 -0.25297171]\t -0.1403751852768219\t -0.6512780061070701\t 0.34433946061229553\t -0.0\n",
            "\u001b[1m\u001b[92m11\u001b[0m\t \u001b[1m\u001b[92m[-0.05655308 -0.67797815]\u001b[0m\t \u001b[1m\u001b[92m-0.9423756339338356\u001b[0m\t \u001b[1m\u001b[92m-0.9423756339338356\u001b[0m\t \u001b[1m\u001b[92m0.3098711611072955\u001b[0m\t \u001b[1m\u001b[92m-0.0\u001b[0m\n",
            "12 \t [-0.11044791 -0.76040549]\t -0.8430604329254955\t -0.9423756339338356\t 0.30034078564207617\t -0.0\n",
            "13 \t [-0.1469946  -0.69416336]\t -0.8111933421673008\t -0.9423756339338356\t 0.3500446922424169\t -0.0\n",
            "14 \t [-0.15748774 -0.67107638]\t -0.7865278134787642\t -0.9423756339338356\t 0.3754605624827359\t -0.0\n",
            "15 \t [-0.17995558 -0.66070392]\t -0.7376436624060454\t -0.9423756339338356\t 0.3918667497056596\t -4.1605533837980146e-200\n",
            "16 \t [-0.18062878 -0.65707728]\t -0.7343978380839619\t -0.9423756339338356\t 0.4012568040026216\t -8.456595605035511e-99\n",
            "17 \t [-0.16961657 -0.69436279]\t -0.7675997070810321\t -0.9423756339338356\t 0.4067855181130026\t -0.0\n",
            "18 \t [-0.23823205 -0.5469834 ]\t -0.488079021877653\t -0.9423756339338356\t 0.41293448179821857\t -4.328280945620481e-282\n",
            "19 \t [-0.18985579 -0.63728879]\t -0.7022979297413268\t -0.9423756339338356\t 0.4119560979622585\t -0.0\n",
            "20 \t [-0.19992319 -0.61649843]\t -0.662671583711916\t -0.9423756339338356\t 0.4151617189329066\t -1.798326049144022e-88\n"
          ]
        }
      ],
      "source": [
        "### Bayesian optimisation runs (x20): 'GP dEI' Acquisition Function run number = 5 \n",
        "\n",
        "np.random.seed(run_num_5)\n",
        "surrogate_exact_5 = dGaussianProcess(cov_func, optimize=hyperOpt)\n",
        "\n",
        "exact_5 = GPGO_exact(surrogate_exact_5, Acquisition_grad(util), f_syn_polarity, param, n_jobs = -1) # Define BayesOpt\n",
        "exact_5.run(max_iter = max_iter, init_evals = n_init) # run\n"
      ]
    },
    {
      "cell_type": "code",
      "execution_count": 38,
      "metadata": {
        "colab": {
          "base_uri": "https://localhost:8080/"
        },
        "id": "_KSBbC1zJLlA",
        "outputId": "23d7c883-b36a-4af7-a625-8c6f1a59e8f6"
      },
      "outputs": [
        {
          "output_type": "stream",
          "name": "stdout",
          "text": [
            "Evaluation \t Proposed point \t  Current eval. \t  Best eval. \t         GP dEI: maximum y \t GP dEI: exploit\n",
            "init\t [ 2.35716091 -0.67208078]\t 11.995980169715628\t -0.3096187466378422\t    \t    \n",
            "init\t [ 1.92737474 -1.8332135 ]\t 31.167927894156623\t -0.3096187466378422\t    \t    \n",
            "init\t [-2.35405992  0.38020826]\t 13.013381745677465\t -0.3096187466378422\t    \t    \n",
            "init\t [ 0.17890417 -0.32477029]\t -0.3096187466378422\t -0.3096187466378422\t    \t    \n",
            "init\t [-0.9875529   0.49007773]\t 0.9989196280666852\t -0.3096187466378422\t    \t    \n",
            "1  \t [0.14564833 0.99656045]\t 0.20177881687152865\t -0.3096187466378422\t 0.7490117988921283\t 0.0010812092295807289\n",
            "2  \t [3. 2.]\t 162.89999999999998\t -0.3096187466378422\t 0.624361690543775\t -1.1358168780510443e-11\n",
            "\u001b[1m\u001b[92m3\u001b[0m\t \u001b[1m\u001b[92m[-0.20642557  0.73264737]\u001b[0m\t \u001b[1m\u001b[92m-0.9791695830839107\u001b[0m\t \u001b[1m\u001b[92m-0.9791695830839107\u001b[0m\t \u001b[1m\u001b[92m0.5720634054283468\u001b[0m\t \u001b[1m\u001b[92m-0.0\u001b[0m\n",
            "4  \t [-0.1567979   0.53674031]\t -0.8074587029374714\t -0.9791695830839107\t 0.4034354809521641\t -1.6535923561483e-22\n",
            "5  \t [-0.08928664  0.26902626]\t -0.2608132060388308\t -0.9791695830839107\t 0.4338798308610164\t -1.8791080374371147e-117\n",
            "6  \t [-0.11041711  0.38382373]\t -0.4963936304845496\t -0.9791695830839107\t 0.400462809743522\t -0.0\n",
            "7  \t [-0.16661884  0.62848754]\t -0.9511790198898469\t -0.9791695830839107\t 0.380181513825224\t -5.969473283854112e-272\n",
            "8  \t [-0.13061649  0.4864093 ]\t -0.7183691159226645\t -0.9791695830839107\t 0.41048297132422323\t -0.0\n",
            "9  \t [-0.13770994  0.51972874]\t -0.785085651991113\t -0.9791695830839107\t 0.41267406951939234\t -7.758115690940867e-61\n",
            "10 \t [-0.13875642  0.52423407]\t -0.793681859448063\t -0.9791695830839107\t 0.41845627256097845\t -2.1390856922431809e-277\n",
            "11 \t [-0.32278764  1.2802356 ]\t 4.170415850488464\t -0.9791695830839107\t 0.3652577096648328\t -0.0\n",
            "12 \t [-0.24247511  0.30014348]\t -0.17267445542938734\t -0.9791695830839107\t 0.41320985653273773\t -8.001286845271803e-16\n",
            "13 \t [-0.19099316  0.23870791]\t -0.11739457828095863\t -0.9791695830839107\t 0.4253987671487584\t -0.0\n",
            "14 \t [-0.08109887  0.01715182]\t 0.02364997577543407\t -0.9791695830839107\t 0.4318671005844087\t -4.142570842713719e-296\n",
            "15 \t [-1.62972918 -2.        ]\t 53.31478983090572\t -0.9791695830839107\t 0.32055042234821157\t -1.7379390840546336e-146\n",
            "16 \t [-0.0367273   0.41748185]\t -0.5855960523571475\t -0.9791695830839107\t 0.39088592279186585\t -1.8086957229711365e-49\n",
            "17 \t [0.34092604 0.02316341]\t 0.4428276015422455\t -0.9791695830839107\t 0.2781605093069063\t -0.0\n",
            "18 \t [-0.41389521  0.92588436]\t -0.24739062509480603\t -0.9791695830839107\t 0.15103914606012211\t -1.9188974036620304e-40\n",
            "19 \t [-0.16041999  0.55297633]\t -0.8362739869199789\t -0.9791695830839107\t 0.3367962033431498\t -0.0\n",
            "20 \t [-0.12145617  0.50757529]\t -0.768129966551967\t -0.9791695830839107\t 0.36487926272273147\t -0.0\n"
          ]
        }
      ],
      "source": [
        "### Bayesian optimisation runs (x20): 'GP dEI' Acquisition Function run number = 6 \n",
        "\n",
        "np.random.seed(run_num_6)\n",
        "surrogate_exact_6 = dGaussianProcess(cov_func, optimize=hyperOpt)\n",
        "\n",
        "exact_6 = GPGO_exact(surrogate_exact_6, Acquisition_grad(util), f_syn_polarity, param, n_jobs = -1) # Define BayesOpt\n",
        "exact_6.run(max_iter = max_iter, init_evals = n_init) # run\n"
      ]
    },
    {
      "cell_type": "code",
      "execution_count": 39,
      "metadata": {
        "colab": {
          "base_uri": "https://localhost:8080/"
        },
        "id": "WB64BgXFJLlB",
        "outputId": "b3309eff-7cf4-4f91-ab80-bb124f80cfe2"
      },
      "outputs": [
        {
          "output_type": "stream",
          "name": "stdout",
          "text": [
            "Evaluation \t Proposed point \t  Current eval. \t  Best eval. \t         GP dEI: maximum y \t GP dEI: exploit\n",
            "init\t [-2.54215026  1.11967517]\t 26.53843863832488\t -0.46481072558790276\t    \t    \n",
            "init\t [-0.36954461  0.89386071]\t -0.46481072558790276\t -0.46481072558790276\t    \t    \n",
            "init\t [2.86793707 0.15398348]\t 76.66051064695093\t -0.46481072558790276\t    \t    \n",
            "init\t [ 0.00672278 -1.71179547]\t 22.613010892757885\t -0.46481072558790276\t    \t    \n",
            "init\t [-1.38936612e+00 -4.69996698e-04]\t 2.294585534557751\t -0.46481072558790276\t    \t    \n",
            "1  \t [0.1310842  1.64834684]\t 18.945381193780257\t -0.46481072558790276\t 0.6285322890609756\t -2.7342928706042297e-10\n",
            "2  \t [-2.0069916  -0.34039291]\t 4.09787808897999\t -0.46481072558790276\t 0.5869305043864016\t -0.18969464864866273\n",
            "3  \t [-0.62752856  0.70661994]\t -0.17355017380823146\t -0.46481072558790276\t 0.6492442081456917\t -1.192481621421512e-06\n",
            "\u001b[1m\u001b[92m4\u001b[0m\t \u001b[1m\u001b[92m[-0.29852921  0.52826691]\u001b[0m\t \u001b[1m\u001b[92m-0.6224198225575582\u001b[0m\t \u001b[1m\u001b[92m-0.6224198225575582\u001b[0m\t \u001b[1m\u001b[92m0.6233739906842195\u001b[0m\t \u001b[1m\u001b[92m-5.81192409654036e-09\u001b[0m\n",
            "5  \t [-3. -2.]\t 162.89999999999998\t -0.6224198225575582\t 0.5250001495628585\t -6.246631400555307e-101\n",
            "6  \t [2.09924505 2.        ]\t 57.57059352637283\t -0.6224198225575582\t 0.5249609389653613\t -0.0\n",
            "7  \t [-0.87135168  0.27247566]\t 1.4599845885734641\t -0.6224198225575582\t 0.512172489417413\t -8.22457870972689e-51\n",
            "8  \t [-0.77541622  0.22027339]\t 1.362866847569483\t -0.6224198225575582\t 0.3676394676016943\t -3.289961027919409e-145\n",
            "9  \t [-0.47584579  0.07451895]\t 0.7443706807799777\t -0.6224198225575582\t 0.18842997103446357\t -0.0\n",
            "10 \t [-0.63791797  0.15118225]\t 1.1166845583102132\t -0.6224198225575582\t 0.2437410833721645\t -0.0\n",
            "11 \t [-0.76350077  0.22731818]\t 1.3145877356367257\t -0.6224198225575582\t 0.22836429609680234\t -0.0\n",
            "12 \t [-0.65733795  0.17519063]\t 1.1290259475931659\t -0.6224198225575582\t 0.18694559812165823\t -5.838504966413031e-169\n",
            "13 \t [-0.3762991   0.06129751]\t 0.48720440363337875\t -0.6224198225575582\t 0.0862770540445541\t -7.283966726800497e-119\n",
            "14 \t [-0.73480996  0.22176784]\t 1.2500120292580907\t -0.6224198225575582\t 0.19202132273222342\t -3.1881378333527012e-164\n",
            "15 \t [-0.16628085 -0.00363702]\t 0.10955076500172106\t -0.6224198225575582\t 0.03894316461946864\t -2.9998168014632015e-225\n",
            "16 \t [-0.72072037  0.23431368]\t 1.1814270300672032\t -0.6224198225575582\t 0.19271297890390954\t -3.3482859747478216e-122\n",
            "17 \t [-0.86365075  0.32902077]\t 1.2832491316241128\t -0.6224198225575582\t 0.1403953226803732\t -1.2812358545074803e-89\n",
            "18 \t [-0.53167598  0.15291448]\t 0.7977955331480273\t -0.6224198225575582\t 0.15910169577277403\t -9.087390600550134e-99\n",
            "19 \t [-0.85663759  0.32941291]\t 1.2670387450011618\t -0.6224198225575582\t 0.1301973166838425\t -8.087255326498147e-205\n",
            "20 \t [-0.53082868  0.15604654]\t 0.7899709082079502\t -0.6224198225575582\t 0.15168505970425702\t -4.667169601965009e-103\n"
          ]
        }
      ],
      "source": [
        "### Bayesian optimisation runs (x20): 'GP dEI' Acquisition Function run number = 7 \n",
        "\n",
        "np.random.seed(run_num_7)\n",
        "surrogate_exact_7 = dGaussianProcess(cov_func, optimize=hyperOpt)\n",
        "\n",
        "exact_7 = GPGO_exact(surrogate_exact_7, Acquisition_grad(util), f_syn_polarity, param, n_jobs = -1) # Define BayesOpt\n",
        "exact_7.run(max_iter = max_iter, init_evals = n_init) # run\n"
      ]
    },
    {
      "cell_type": "code",
      "execution_count": 40,
      "metadata": {
        "colab": {
          "base_uri": "https://localhost:8080/"
        },
        "id": "yCh1YYTlJLlB",
        "outputId": "7177316e-fb73-4253-e522-685daf1e5a90"
      },
      "outputs": [
        {
          "output_type": "stream",
          "name": "stdout",
          "text": [
            "Evaluation \t Proposed point \t  Current eval. \t  Best eval. \t         GP dEI: maximum y \t GP dEI: exploit\n",
            "init\t [2.24057642 1.87416265]\t 48.82879577505094\t 0.03190064766213015\t    \t    \n",
            "init\t [2.21516724 0.12342277]\t 8.660623551418242\t 0.03190064766213015\t    \t    \n",
            "init\t [-1.60363003 -1.95440478]\t 48.28332373939171\t 0.03190064766213015\t    \t    \n",
            "init\t [-0.41718709 -0.39059456]\t 0.2801229037700297\t 0.03190064766213015\t    \t    \n",
            "init\t [ 0.13604803 -0.08643282]\t 0.03190064766213015\t 0.03190064766213015\t    \t    \n",
            "\u001b[1m\u001b[92m1\u001b[0m\t \u001b[1m\u001b[92m[-0.57246742  0.6534526 ]\u001b[0m\t \u001b[1m\u001b[92m-0.25569579328253045\u001b[0m\t \u001b[1m\u001b[92m-0.25569579328253045\u001b[0m\t \u001b[1m\u001b[92m0.9022574499586161\u001b[0m\t \u001b[1m\u001b[92m0.16080467174744836\u001b[0m\n",
            "2  \t [-1.18831557  1.21804401]\t 3.8222330710419667\t -0.25569579328253045\t 0.6921018395852151\t -6.791361360733351e-42\n",
            "3  \t [0.04982841 0.04620172]\t 0.003700531824410219\t -0.25569579328253045\t 0.5314874765523403\t -3.857814849553308e-42\n",
            "4  \t [ 1.5233709  -1.90834873]\t 37.71548823920068\t -0.25569579328253045\t 0.5544341266061554\t -2.886206121009707e-43\n",
            "\u001b[1m\u001b[92m5\u001b[0m\t \u001b[1m\u001b[92m[-0.33912575  0.43440778]\u001b[0m\t \u001b[1m\u001b[92m-0.32695670284957334\u001b[0m\t \u001b[1m\u001b[92m-0.32695670284957334\u001b[0m\t \u001b[1m\u001b[92m0.568974023715323\u001b[0m\t \u001b[1m\u001b[92m-5.61971523682618e-16\u001b[0m\n",
            "6  \t [-0.0246738   0.15315498]\t -0.09296948437208957\t -0.32695670284957334\t 0.511748242994091\t -1.0261534145795643e-39\n",
            "7  \t [-0.04969907  0.17332622]\t -0.11530480388362623\t -0.32695670284957334\t 0.5181983556736172\t -2.372344779160739e-24\n",
            "8  \t [-0.28400811  0.38062026]\t -0.2944805612666978\t -0.32695670284957334\t 0.5509573811036704\t -7.270553923147773e-34\n",
            "9  \t [-0.20166936  0.30552359]\t -0.2409095429867211\t -0.32695670284957334\t 0.5609620482786822\t -1.7744886378623714e-22\n",
            "10 \t [-0.24751797  0.3462792 ]\t -0.2705794615232793\t -0.32695670284957334\t 0.553730348454382\t -4.5412028523163494e-29\n",
            "11 \t [-0.2611143   0.35826569]\t -0.2779999169895273\t -0.32695670284957334\t 0.5496154773344942\t -3.72023194699487e-38\n",
            "12 \t [-0.33469293  0.42534393]\t -0.31291045425922753\t -0.32695670284957334\t 0.5255635564151715\t -6.53601237973399e-39\n",
            "13 \t [-0.23959081  0.3379682 ]\t -0.2629187826568246\t -0.32695670284957334\t 0.5554003301225757\t -8.013204731103992e-38\n",
            "14 \t [-0.18106472  0.28551202]\t -0.2222920837650148\t -0.32695670284957334\t 0.5541229297432155\t -6.063975516008667e-27\n",
            "15 \t [-0.34614125  0.4347818 ]\t -0.31401735970094863\t -0.32695670284957334\t 0.5192696274053655\t -2.0153031142757026e-24\n",
            "16 \t [-0.09184302  0.20636134]\t -0.14844758862751387\t -0.32695670284957334\t 0.5281678206432022\t -1.1914015398081356e-28\n",
            "17 \t [-0.28924722  0.38179032]\t -0.28834703636193115\t -0.32695670284957334\t 0.5412983640759953\t -1.31196611013218e-42\n",
            "18 \t [-2.96747048  1.3827406 ]\t 102.86656681896146\t -0.32695670284957334\t 0.4614729760911926\t -3.154511393981703e-31\n",
            "\u001b[1m\u001b[92m19\u001b[0m\t \u001b[1m\u001b[92m[-0.3186898   0.71688384]\u001b[0m\t \u001b[1m\u001b[92m-0.8427479393050974\u001b[0m\t \u001b[1m\u001b[92m-0.8427479393050974\u001b[0m\t \u001b[1m\u001b[92m0.6024265777679326\u001b[0m\t \u001b[1m\u001b[92m-2.2957453962513158e-67\u001b[0m\n",
            "20 \t [-0.31259074  0.98018318]\t -0.08608807467623161\t -0.8427479393050974\t 0.3995183898907934\t -8.966213942199271e-38\n"
          ]
        }
      ],
      "source": [
        "### Bayesian optimisation runs (x20): 'GP dEI' Acquisition Function run number = 8 \n",
        "\n",
        "np.random.seed(run_num_8)\n",
        "surrogate_exact_8 = dGaussianProcess(cov_func, optimize=hyperOpt)\n",
        "\n",
        "exact_8 = GPGO_exact(surrogate_exact_8, Acquisition_grad(util), f_syn_polarity, param, n_jobs = -1) # Define BayesOpt\n",
        "exact_8.run(max_iter = max_iter, init_evals = n_init) # run\n"
      ]
    },
    {
      "cell_type": "code",
      "execution_count": 41,
      "metadata": {
        "colab": {
          "base_uri": "https://localhost:8080/"
        },
        "id": "IDhy8DkEJLlC",
        "outputId": "3abaa1b6-a93c-4e45-e32f-f930e851d0c5"
      },
      "outputs": [
        {
          "output_type": "stream",
          "name": "stdout",
          "text": [
            "Evaluation \t Proposed point \t  Current eval. \t  Best eval. \t         GP dEI: maximum y \t GP dEI: exploit\n",
            "init\t [-2.93775508  0.00749837]\t 92.35857237145763\t 1.395407492769129\t    \t    \n",
            "init\t [-0.02536024 -1.46468188]\t 9.867672894921913\t 1.395407492769129\t    \t    \n",
            "init\t [-2.14733349 -1.1257653 ]\t 10.24680089963123\t 1.395407492769129\t    \t    \n",
            "init\t [-0.48895092 -1.00759533]\t 1.395407492769129\t 1.395407492769129\t    \t    \n",
            "init\t [-2.49564209 -0.61800544]\t 24.58298635463645\t 1.395407492769129\t    \t    \n",
            "1  \t [0.30007956 2.        ]\t 48.94356541468191\t 1.395407492769129\t 1.6822915469107884\t 1.056793643653693\n",
            "2  \t [3.         0.35932676]\t 109.528200874667\t 1.395407492769129\t 1.680932054459341\t 1.0531704164633504\n",
            "3  \t [ 1.74044958 -1.84128563]\t 31.323868720181455\t 1.395407492769129\t 1.4217090234463703\t 0.764495512863785\n",
            "4  \t [-1.55536773 -2.        ]\t 53.216714029899045\t 1.395407492769129\t 1.1926782124922368\t -4.142302681406747e-28\n",
            "\u001b[1m\u001b[92m5\u001b[0m\t \u001b[1m\u001b[92m[-0.45357128 -0.14814099]\u001b[0m\t \u001b[1m\u001b[92m0.7182664624905546\u001b[0m\t \u001b[1m\u001b[92m0.7182664624905546\u001b[0m\t \u001b[1m\u001b[92m1.721912455123421\u001b[0m\t \u001b[1m\u001b[92m0.9986083860387862\u001b[0m\n",
            "6  \t [-1.96004765  2.        ]\t 47.35319532029028\t 0.7182664624905546\t 1.0437483543390875\t 0.2522646177609993\n",
            "\u001b[1m\u001b[92m7\u001b[0m\t \u001b[1m\u001b[92m[-0.16356259 -0.36014396]\u001b[0m\t \u001b[1m\u001b[92m-0.2871021596302432\u001b[0m\t \u001b[1m\u001b[92m-0.2871021596302432\u001b[0m\t \u001b[1m\u001b[92m0.36736508784605837\u001b[0m\t \u001b[1m\u001b[92m-5.705824059374081e-62\u001b[0m\n",
            "8  \t [-0.36732676 -0.19354551]\t 0.42917035945099546\t -0.2871021596302432\t 0.13573289779377165\t -1.1106266929935508e-148\n",
            "\u001b[1m\u001b[92m9\u001b[0m\t \u001b[1m\u001b[92m[ 0.16700826 -0.61404645]\u001b[0m\t \u001b[1m\u001b[92m-0.9321464430925556\u001b[0m\t \u001b[1m\u001b[92m-0.9321464430925556\u001b[0m\t \u001b[1m\u001b[92m0.06928043014646672\u001b[0m\t \u001b[1m\u001b[92m-3.7369224922485147e-159\u001b[0m\n",
            "10 \t [-0.0802732  -0.37810835]\t -0.43406667180697184\t -0.9321464430925556\t 0.20295523073974384\t -1.081264371654894e-89\n",
            "11 \t [-0.23561097 -0.26181651]\t 0.021926247322003656\t -0.9321464430925556\t 0.18839623499228123\t -7.658833400940974e-130\n",
            "12 \t [ 0.01601806 -0.45029128]\t -0.6527854579423339\t -0.9321464430925556\t 0.19389532447199312\t -1.0343880309671657e-80\n",
            "13 \t [-0.27832569 -0.22712788]\t 0.16492604324603452\t -0.9321464430925556\t 0.18069641020360816\t -3.4743914013794737e-118\n",
            "14 \t [ 0.2472223  -0.65468679]\t -0.9047627962799873\t -0.9321464430925556\t 0.05163416743751236\t -1.5970806063729348e-146\n",
            "15 \t [ 0.14744464 -0.54464077]\t -0.8289021471199531\t -0.9321464430925556\t 0.19070593184151258\t -2.443574806885435e-115\n",
            "16 \t [-0.11101316 -0.33082681]\t -0.30416798168130454\t -0.9321464430925556\t 0.33655158127061147\t -2.584648463508014e-144\n",
            "17 \t [ 0.08702736 -0.48677353]\t -0.735403450883302\t -0.9321464430925556\t 0.28134744983987436\t -6.879879718674196e-155\n",
            "18 \t [ 0.4613512  -0.90929697]\t -0.23279976403060382\t -0.9321464430925556\t 0.0026758767361360525\t -1.891197682504339e-154\n",
            "19 \t [-0.07112496 -0.34999603]\t -0.3848918207049138\t -0.9321464430925556\t 0.3985619584663132\t -5.391133503448568e-129\n",
            "20 \t [ 0.2167365 -0.5937928]\t -0.8584781229549232\t -0.9321464430925556\t 0.24652621307309702\t -6.343539774674383e-214\n"
          ]
        }
      ],
      "source": [
        "### Bayesian optimisation runs (x20): 'GP dEI' Acquisition Function run number = 9 \n",
        "\n",
        "np.random.seed(run_num_9)\n",
        "surrogate_exact_9 = dGaussianProcess(cov_func, optimize=hyperOpt)\n",
        "\n",
        "exact_9 = GPGO_exact(surrogate_exact_9, Acquisition_grad(util), f_syn_polarity, param, n_jobs = -1) # Define BayesOpt\n",
        "exact_9.run(max_iter = max_iter, init_evals = n_init) # run\n"
      ]
    },
    {
      "cell_type": "code",
      "execution_count": 42,
      "metadata": {
        "colab": {
          "base_uri": "https://localhost:8080/"
        },
        "id": "RqwHOur5JLlC",
        "outputId": "57472427-e6d7-434f-fd46-9230df9eb597"
      },
      "outputs": [
        {
          "output_type": "stream",
          "name": "stdout",
          "text": [
            "Evaluation \t Proposed point \t  Current eval. \t  Best eval. \t         GP dEI: maximum y \t GP dEI: exploit\n",
            "init\t [ 1.62792386 -1.9169922 ]\t 38.25414770674631\t 0.7775687473184012\t    \t    \n",
            "init\t [0.80188941 0.99521553]\t 2.552651714051803\t 0.7775687473184012\t    \t    \n",
            "init\t [-0.00895793 -1.10081342]\t 1.0367630165263393\t 0.7775687473184012\t    \t    \n",
            "init\t [-1.81162281  1.04212285]\t 0.7775687473184012\t 0.7775687473184012\t    \t    \n",
            "init\t [-1.98533498 -1.64664074]\t 25.383481436170044\t 0.7775687473184012\t    \t    \n",
            "1  \t [3. 2.]\t 162.89999999999998\t 0.7775687473184012\t 1.242737374749332\t 0.5021663084364411\n",
            "2  \t [-2.52977022  2.        ]\t 69.90104466534116\t 0.7775687473184012\t 1.1534076357755347\t 0.40801252280256156\n",
            "3  \t [-0.96096779  0.29985852]\t 1.5500307910683613\t 0.7775687473184012\t 1.2459534857113914\t 0.5067941083399505\n",
            "4  \t [ 3.         -0.28423181]\t 107.75026028666434\t 0.7775687473184012\t 1.2461072221951357\t 0.5062761598411009\n",
            "\u001b[1m\u001b[92m5\u001b[0m\t \u001b[1m\u001b[92m[-0.348341    0.78170365]\u001b[0m\t \u001b[1m\u001b[92m-0.7679201385345631\u001b[0m\t \u001b[1m\u001b[92m-0.7679201385345631\u001b[0m\t \u001b[1m\u001b[92m1.8933802765586911\u001b[0m\t \u001b[1m\u001b[92m1.4427101947752956\u001b[0m\n",
            "\u001b[1m\u001b[92m6\u001b[0m\t \u001b[1m\u001b[92m[-0.31261101  0.73686067]\u001b[0m\t \u001b[1m\u001b[92m-0.8518092149277464\u001b[0m\t \u001b[1m\u001b[92m-0.8518092149277464\u001b[0m\t \u001b[1m\u001b[92m0.7362749203953383\u001b[0m\t \u001b[1m\u001b[92m-0.0\u001b[0m\n",
            "7  \t [-0.16515877  1.78290853]\t 27.516171865562928\t -0.8518092149277464\t 0.2437290214637507\t -0.0\n",
            "8  \t [-0.74720773  0.20089502]\t 1.3316474156266114\t -0.8518092149277464\t 0.7330745145652591\t 0.07927557949556144\n",
            "9  \t [ 0.03874176 -0.13855199]\t -0.07468134710866335\t -0.8518092149277464\t 0.5455941884329226\t -2.3748576771527647e-288\n",
            "10 \t [-0.95475877  0.26521926]\t 1.6389574211458704\t -0.8518092149277464\t 0.3087996719666307\t -2.0528952667503254e-287\n",
            "11 \t [-0.01738714 -0.03927793]\t -0.004269512299061877\t -0.8518092149277464\t 0.4894162981593631\t -4.7733662732966426e-234\n",
            "12 \t [-0.14622812  0.049272  ]\t 0.06768145144185406\t -0.8518092149277464\t 0.46207504400200977\t -0.0\n",
            "13 \t [-0.08742385  0.01226895]\t 0.028774581603405163\t -0.8518092149277464\t 0.4062214498174055\t -0.0\n",
            "14 \t [ 0.06251034 -0.13800712]\t -0.06776161663403883\t -0.8518092149277464\t 0.27605436726986454\t -1.6543893288098324e-258\n",
            "15 \t [-0.09070467  0.0127903 ]\t 0.030952986896645173\t -0.8518092149277464\t 0.37557813068347806\t -0.0\n",
            "16 \t [-0.54257768  0.17940258]\t 0.7821311199422929\t -0.8518092149277464\t 0.2909965266773562\t -0.0\n",
            "17 \t [-0.22019749  0.09303065]\t 0.1342443666018353\t -0.8518092149277464\t 0.33484963522759714\t -6.788244552096885e-309\n",
            "18 \t [-0.06002255  0.00804925]\t 0.01364130577067953\t -0.8518092149277464\t 0.3165267602640275\t -1.564928257514416e-270\n",
            "19 \t [-0.16366561  0.06709281]\t 0.0767398444910384\t -0.8518092149277464\t 0.31850706625545744\t -1.4431100785890518e-191\n",
            "20 \t [-1.14611855  0.29999731]\t 1.7148844473633833\t -0.8518092149277464\t 0.11627176355964723\t -0.0\n"
          ]
        }
      ],
      "source": [
        "### Bayesian optimisation runs (x20): 'GP dEI' Acquisition Function run number = 10 \n",
        "\n",
        "np.random.seed(run_num_10)\n",
        "surrogate_exact_10 = dGaussianProcess(cov_func, optimize=hyperOpt)\n",
        "\n",
        "exact_10 = GPGO_exact(surrogate_exact_10, Acquisition_grad(util), f_syn_polarity, param, n_jobs = -1) # Define BayesOpt\n",
        "exact_10.run(max_iter = max_iter, init_evals = n_init) # run\n"
      ]
    },
    {
      "cell_type": "code",
      "execution_count": 43,
      "metadata": {
        "colab": {
          "base_uri": "https://localhost:8080/"
        },
        "id": "iXLW3-5DJLlD",
        "outputId": "858bde50-8cd7-4c8e-b140-3b04816e3cfc"
      },
      "outputs": [
        {
          "output_type": "stream",
          "name": "stdout",
          "text": [
            "Evaluation \t Proposed point \t  Current eval. \t  Best eval. \t         GP dEI: maximum y \t GP dEI: exploit\n",
            "init\t [-1.91838187 -1.92209903]\t 46.39910375151002\t -0.6254688257880329\t    \t    \n",
            "init\t [-0.22068884  0.89973572]\t -0.6254688257880329\t -0.6254688257880329\t    \t    \n",
            "init\t [-0.47877837 -0.05829161]\t 0.8249470187639529\t -0.6254688257880329\t    \t    \n",
            "init\t [-2.92331511 -0.05051357]\t 88.99028404075307\t -0.6254688257880329\t    \t    \n",
            "init\t [2.65083991 1.40318036]\t 51.423425402262914\t -0.6254688257880329\t    \t    \n",
            "1  \t [0.1162043  0.20936558]\t -0.08968928579150665\t -0.6254688257880329\t 0.4979421281625386\t -1.9797354341368066e-45\n",
            "2  \t [-0.26857992  1.50634431]\t 11.391644241601337\t -0.6254688257880329\t 0.46476682236841\t -6.611718841507785e-23\n",
            "3  \t [ 1.46188583 -1.88617587]\t 35.8505521757125\t -0.6254688257880329\t 0.49924493450018015\t -1.4815611671022749e-131\n",
            "4  \t [ 0.19155584 -0.03220303]\t 0.13365101792458087\t -0.6254688257880329\t 0.1756330394634262\t -4.256736728307279e-152\n",
            "5  \t [0.05153275 0.10757978]\t -0.02960628402370909\t -0.6254688257880329\t 0.2513158209681263\t -1.3597575059854058e-99\n",
            "6  \t [-0.14985578  0.35002975]\t -0.39372013328167677\t -0.6254688257880329\t 0.1821356899730136\t -2.814737201152123e-99\n",
            "7  \t [0.11699506 0.04199121]\t 0.05223093842347089\t -0.6254688257880329\t 0.2789343004891917\t -4.148790988588608e-43\n",
            "\u001b[1m\u001b[92m8\u001b[0m\t \u001b[1m\u001b[92m[-0.26995571  0.51572618]\u001b[0m\t \u001b[1m\u001b[92m-0.6396691910644168\u001b[0m\t \u001b[1m\u001b[92m-0.6396691910644168\u001b[0m\t \u001b[1m\u001b[92m0.10968857025588886\u001b[0m\t \u001b[1m\u001b[92m-6.774073073070433e-154\u001b[0m\n",
            "\u001b[1m\u001b[92m9\u001b[0m\t \u001b[1m\u001b[92m[-0.393145    0.69615932]\u001b[0m\t \u001b[1m\u001b[92m-0.7034331925830128\u001b[0m\t \u001b[1m\u001b[92m-0.7034331925830128\u001b[0m\t \u001b[1m\u001b[92m0.05190656706870318\u001b[0m\t \u001b[1m\u001b[92m-6.563441810908385e-98\u001b[0m\n",
            "10 \t [-0.0286944   0.20165924]\t -0.1585452007876021\t -0.7034331925830128\t 0.37822166607217855\t -1.0364388025456493e-96\n",
            "11 \t [-0.40388298  0.69790768]\t -0.6831502436487227\t -0.7034331925830128\t 0.07559703159999721\t -1.7290108887114668e-53\n",
            "12 \t [-0.28956346  0.52146925]\t -0.6221142445499778\t -0.7034331925830128\t 0.23796987248445953\t -6.186661035278635e-91\n",
            "13 \t [0.07296327 0.09167691]\t -0.005411931909274456\t -0.7034331925830128\t 0.36701281651563195\t -1.468606862278311e-147\n",
            "14 \t [-0.40762452  0.68865933]\t -0.669880046445132\t -0.7034331925830128\t 0.12091125815599991\t -4.561842403888372e-115\n",
            "15 \t [-0.16295451  0.354311  ]\t -0.3921021023264619\t -0.7034331925830128\t 0.4319492457320139\t -2.634639903934475e-49\n",
            "16 \t [-0.09430454  0.27288273]\t -0.26600634524117533\t -0.7034331925830128\t 0.45615884088716907\t -3.4466343556160587e-134\n",
            "17 \t [0.05270265 0.11195745]\t -0.032514892251090735\t -0.7034331925830128\t 0.3789749020236643\t -8.631024024546181e-64\n",
            "18 \t [0.06165995 0.10256876]\t -0.020136846620696487\t -0.7034331925830128\t 0.36219070914365514\t -1.8380907437031544e-101\n",
            "19 \t [-0.23664306  0.44654725]\t -0.5267688507378256\t -0.7034331925830128\t 0.35499422970670397\t -2.4451225093125984e-137\n",
            "20 \t [-0.47210751  0.77990244]\t -0.530418290737255\t -0.7034331925830128\t 0.09007694583648795\t -1.5097806020253466e-137\n"
          ]
        }
      ],
      "source": [
        "### Bayesian optimisation runs (x20): 'GP dEI' Acquisition Function run number = 11 \n",
        "\n",
        "np.random.seed(run_num_11)\n",
        "surrogate_exact_11 = dGaussianProcess(cov_func, optimize=hyperOpt)\n",
        "\n",
        "exact_11 = GPGO_exact(surrogate_exact_11, Acquisition_grad(util), f_syn_polarity, param, n_jobs = -1) # Define BayesOpt\n",
        "exact_11.run(max_iter = max_iter, init_evals = n_init) # run\n"
      ]
    },
    {
      "cell_type": "code",
      "execution_count": 44,
      "metadata": {
        "colab": {
          "base_uri": "https://localhost:8080/"
        },
        "id": "Sv5SygMbJLlD",
        "outputId": "e30739f4-8d60-4d79-91af-a56034e40534"
      },
      "outputs": [
        {
          "output_type": "stream",
          "name": "stdout",
          "text": [
            "Evaluation \t Proposed point \t  Current eval. \t  Best eval. \t         GP dEI: maximum y \t GP dEI: exploit\n",
            "init\t [-2.07502295  0.96019879]\t 2.6185857163917037\t 1.9967735906956543\t    \t    \n",
            "init\t [-1.42010991  0.13495757]\t 1.9967735906956543\t 1.9967735906956543\t    \t    \n",
            "init\t [-2.91255023  1.67498803]\t 101.67816714332157\t 1.9967735906956543\t    \t    \n",
            "init\t [ 2.40428912 -1.86631429]\t 47.44624883788006\t 1.9967735906956543\t    \t    \n",
            "init\t [ 2.74169602 -1.45116271]\t 58.32400185681089\t 1.9967735906956543\t    \t    \n",
            "\u001b[1m\u001b[92m1\u001b[0m\t \u001b[1m\u001b[92m[-1.15648604  0.74752304]\u001b[0m\t \u001b[1m\u001b[92m0.5401694705946541\u001b[0m\t \u001b[1m\u001b[92m0.5401694705946541\u001b[0m\t \u001b[1m\u001b[92m2.435731761390791\u001b[0m\t \u001b[1m\u001b[92m2.0907937155381715\u001b[0m\n",
            "2  \t [1.83110409 2.        ]\t 54.030151566854705\t 0.5401694705946541\t 1.0968899682399211\t 0.32757896276818893\n",
            "3  \t [-3. -2.]\t 162.89999999999998\t 0.5401694705946541\t 1.0967323724584053\t 0.327306806037018\n",
            "4  \t [-0.1634226 -2.       ]\t 48.432181477152\t 0.5401694705946541\t 1.08901945942379\t 0.31172349382568626\n",
            "\u001b[1m\u001b[92m5\u001b[0m\t \u001b[1m\u001b[92m[-1.47701762  0.78295106]\u001b[0m\t \u001b[1m\u001b[92m0.08738741316331844\u001b[0m\t \u001b[1m\u001b[92m0.08738741316331844\u001b[0m\t \u001b[1m\u001b[92m1.0876994167300023\u001b[0m\t \u001b[1m\u001b[92m0.46724620341487294\u001b[0m\n",
            "6  \t [-0.56372555  1.77672487]\t 27.301492466718933\t 0.08738741316331844\t 0.8000911634482369\t 0.07464040265950807\n",
            "7  \t [-1.32916854  0.36325826]\t 1.409306764759222\t 0.08738741316331844\t 0.6514684598200599\t -0.0\n",
            "8  \t [-1.54019582  0.51680302]\t 0.5421387074091392\t 0.08738741316331844\t 0.0916309940513785\t -6.408143751381587e-116\n",
            "9  \t [-1.38546631  0.40038232]\t 1.20489020798732\t 0.08738741316331844\t 0.4844438806052127\t -0.0\n",
            "10 \t [-1.101641    0.22547265]\t 1.9158756250012319\t 0.08738741316331844\t 0.5154300278078231\t -1.598089950867094e-126\n",
            "11 \t [-1.38333554  0.39654734]\t 1.2216115217177954\t 0.08738741316331844\t 0.35050396878226825\t -0.0\n",
            "12 \t [-1.02556798  0.18719706]\t 1.9446187150465724\t 0.08738741316331844\t 0.27589381256339984\t -3.0211265411863464e-84\n",
            "13 \t [-0.79863541  0.10457803]\t 1.656671195526609\t 0.08738741316331844\t 0.06671711911493641\t -2.4085063383733124e-140\n",
            "14 \t [-1.47362163  0.46069777]\t 0.8491057101856692\t 0.08738741316331844\t 0.16636317651315208\t -7.327526364840409e-189\n",
            "15 \t [0.27175881 0.06014818]\t 0.2860187007424736\t 0.08738741316331844\t 0.0008358017845431829\t -4.088568390750306e-94\n",
            "16 \t [ 1.06424465 -0.11289495]\t 2.150379067901458\t 0.08738741316331844\t 0.7027402874228025\t -3.320357513605358e-86\n",
            "17 \t [0.21004926 0.06559156]\t 0.169065943572126\t 0.08738741316331844\t 0.4650951669542518\t -1.6313651442680218e-190\n",
            "18 \t [0.18016095 0.07016777]\t 0.12067527428032451\t 0.08738741316331844\t 0.4828146534388148\t -3.531691588602063e-160\n",
            "19 \t [-1.84414227  0.10965706]\t 2.176692494245547\t 0.08738741316331844\t 0.522430534386656\t -2.2443340505535016e-94\n",
            "20 \t [3.        0.4992175]\t 109.64921872204634\t 0.08738741316331844\t 0.5654985099476255\t -3.330650260785923e-35\n"
          ]
        }
      ],
      "source": [
        "### Bayesian optimisation runs (x20): 'GP dEI' Acquisition Function run number = 12\n",
        "\n",
        "np.random.seed(run_num_12)\n",
        "surrogate_exact_12 = dGaussianProcess(cov_func, optimize=hyperOpt)\n",
        "\n",
        "exact_12 = GPGO_exact(surrogate_exact_12, Acquisition_grad(util), f_syn_polarity, param, n_jobs = -1) # Define BayesOpt\n",
        "exact_12.run(max_iter = max_iter, init_evals = n_init) # run\n"
      ]
    },
    {
      "cell_type": "code",
      "execution_count": 45,
      "metadata": {
        "colab": {
          "base_uri": "https://localhost:8080/"
        },
        "id": "NSskozWHJLlE",
        "outputId": "b35c18a5-8d04-48fc-821e-023c0f6fa45c"
      },
      "outputs": [
        {
          "output_type": "stream",
          "name": "stdout",
          "text": [
            "Evaluation \t Proposed point \t  Current eval. \t  Best eval. \t         GP dEI: maximum y \t GP dEI: exploit\n",
            "init\t [ 1.66621446 -1.04983512]\t 0.752930921147986\t 0.752930921147986\t    \t    \n",
            "init\t [1.9456712  1.86299679]\t 41.05776363102951\t 0.752930921147986\t    \t    \n",
            "init\t [ 2.83560668 -0.18620301]\t 69.0134544723513\t 0.752930921147986\t    \t    \n",
            "init\t [0.65425478 1.10210606]\t 3.117452174069064\t 0.752930921147986\t    \t    \n",
            "init\t [0.84968007 0.88807292]\t 2.006601529383926\t 0.752930921147986\t    \t    \n",
            "1  \t [ 0.4943127  -1.24330367]\t 3.617106922875216\t 0.752930921147986\t 2.6187640905685425\t 2.2903351240365066\n",
            "2  \t [-0.83460691  1.3144168 ]\t 5.811882953645614\t 0.752930921147986\t 1.598822105756367\t 0.9508406872087454\n",
            "3  \t [-3. -2.]\t 162.89999999999998\t 0.752930921147986\t 1.2263652050001004\t 0.43814216845090204\n",
            "4  \t [ 1.11089436 -2.        ]\t 48.14281330125023\t 0.752930921147986\t 1.320203587249645\t -0.0\n",
            "5  \t [ 2.10322474 -1.94085306]\t 43.06366123572329\t 0.752930921147986\t 1.2302321819970747\t 0.4869313776555921\n",
            "\u001b[1m\u001b[92m6\u001b[0m\t \u001b[1m\u001b[92m[ 0.67539348 -0.4460929 ]\u001b[0m\t \u001b[1m\u001b[92m0.48041758029772375\u001b[0m\t \u001b[1m\u001b[92m0.48041758029772375\u001b[0m\t \u001b[1m\u001b[92m1.1523340059871703\u001b[0m\t \u001b[1m\u001b[92m0.27553600696562774\u001b[0m\n",
            "\u001b[1m\u001b[92m7\u001b[0m\t \u001b[1m\u001b[92m[ 0.28034324 -0.09501552]\u001b[0m\t \u001b[1m\u001b[92m0.23913723226132994\u001b[0m\t \u001b[1m\u001b[92m0.23913723226132994\u001b[0m\t \u001b[1m\u001b[92m2.2128035091744658\u001b[0m\t \u001b[1m\u001b[92m1.8820688414978388\u001b[0m\n",
            "8  \t [ 0.27784105 -0.07276598]\t 0.2551369053186061\t 0.23913723226132994\t 1.4569339316480499\t 0.9669042466074131\n",
            "9  \t [ 0.50766827 -0.28741446]\t 0.44808206776626724\t 0.23913723226132994\t 0.9098524379903977\t -4.732999089561002e-82\n",
            "10 \t [ 0.41932255 -0.2060404 ]\t 0.39121355929682405\t 0.23913723226132994\t 0.9984407419536903\t -0.0\n",
            "\u001b[1m\u001b[92m11\u001b[0m\t \u001b[1m\u001b[92m[ 0.23334509 -0.00939766]\u001b[0m\t \u001b[1m\u001b[92m0.20908133672113435\u001b[0m\t \u001b[1m\u001b[92m0.20908133672113435\u001b[0m\t \u001b[1m\u001b[92m0.9964732282147503\u001b[0m\t \u001b[1m\u001b[92m0.43009827950245244\u001b[0m\n",
            "12 \t [ 0.24088522 -0.01181628]\t 0.22169243042773173\t 0.20908133672113435\t 0.9042740851226881\t -0.0\n",
            "13 \t [-2.86911375  1.45773345]\t 81.94218776296277\t 0.20908133672113435\t 0.620469091965886\t -0.0\n",
            "14 \t [ 0.35597384 -0.13974094]\t 0.3474984765857199\t 0.20908133672113435\t 0.8665869178426655\t 0.29696062634057946\n",
            "15 \t [ 0.39848483 -0.1836059 ]\t 0.38008226789529664\t 0.20908133672113435\t 0.7728989887479335\t 0.1918012076461475\n",
            "\u001b[1m\u001b[92m16\u001b[0m\t \u001b[1m\u001b[92m[0.20548332 0.05648837]\u001b[0m\t \u001b[1m\u001b[92m0.16405915722798126\u001b[0m\t \u001b[1m\u001b[92m0.16405915722798126\u001b[0m\t \u001b[1m\u001b[92m0.8314110874110566\u001b[0m\t \u001b[1m\u001b[92m-0.0\u001b[0m\n",
            "\u001b[1m\u001b[92m17\u001b[0m\t \u001b[1m\u001b[92m[-0.07815219  0.78238554]\u001b[0m\t \u001b[1m\u001b[92m-0.9865023741957851\u001b[0m\t \u001b[1m\u001b[92m-0.9865023741957851\u001b[0m\t \u001b[1m\u001b[92m0.381061501064416\u001b[0m\t \u001b[1m\u001b[92m-1.5247529605844216e-228\u001b[0m\n",
            "18 \t [0.14490601 0.18043526]\t -0.01677339179714274\t -0.9865023741957851\t 0.31498060094291813\t -0.0\n",
            "19 \t [-0.08221415  0.80858087]\t -0.9449144808115315\t -0.9865023741957851\t 0.16439027420135144\t -1.382121383637649e-160\n",
            "20 \t [0.01226802 0.51091026]\t -0.7647021868118351\t -0.9865023741957851\t 0.2899942358828833\t -2.6486503898883504e-126\n"
          ]
        }
      ],
      "source": [
        "### Bayesian optimisation runs (x20): 'GP dEI' Acquisition Function run number = 13 \n",
        "\n",
        "np.random.seed(run_num_13)\n",
        "surrogate_exact_13 = dGaussianProcess(cov_func, optimize=hyperOpt)\n",
        "\n",
        "exact_13 = GPGO_exact(surrogate_exact_13, Acquisition_grad(util), f_syn_polarity, param, n_jobs = -1) # Define BayesOpt\n",
        "exact_13.run(max_iter = max_iter, init_evals = n_init) # run\n"
      ]
    },
    {
      "cell_type": "code",
      "execution_count": 46,
      "metadata": {
        "colab": {
          "base_uri": "https://localhost:8080/"
        },
        "id": "aM5FQ3ibJLlE",
        "outputId": "b6a5c6b2-5868-4e86-c721-854846e0b47d"
      },
      "outputs": [
        {
          "output_type": "stream",
          "name": "stdout",
          "text": [
            "Evaluation \t Proposed point \t  Current eval. \t  Best eval. \t         GP dEI: maximum y \t GP dEI: exploit\n",
            "init\t [0.08366006 1.09266021]\t 1.0453292732107575\t -1.029299726828387\t    \t    \n",
            "init\t [ 2.22256611 -1.96781221]\t 48.81113313056442\t -1.029299726828387\t    \t    \n",
            "init\t [-1.14158445  1.83041496]\t 31.794043287944216\t -1.029299726828387\t    \t    \n",
            "init\t [ 0.07870027 -0.7268623 ]\t -1.029299726828387\t -1.029299726828387\t    \t    \n",
            "init\t [ 0.23519962 -1.11498023]\t 1.161934062902255\t -1.029299726828387\t    \t    \n",
            "1  \t [-1.4544454   0.80460528]\t 0.13632292703505466\t -1.029299726828387\t 0.3866284247694952\t -0.31228836317112474\n",
            "2  \t [-1.62889462 -1.85708112]\t 38.86111235771161\t -1.029299726828387\t 0.3866284247694952\t -0.31228836317112474\n",
            "3  \t [-0.15386684 -1.39029353]\t 7.520441668707877\t -1.029299726828387\t 0.3866284247694952\t -0.31228836317112474\n",
            "4  \t [0.42921709 0.75222473]\t 0.007928470491904593\t -1.029299726828387\t 0.3866284247694952\t -0.31228836317112474\n",
            "5  \t [ 0.17242163 -0.54461366]\t -0.811353901266326\t -1.029299726828387\t 0.48088520424647574\t -2.2958992636166403e-13\n",
            "6  \t [ 0.06717019 -0.52421601]\t -0.8143512817292351\t -1.029299726828387\t 0.48509077562955705\t -1.359146092321678e-10\n",
            "7  \t [-0.118      -0.40712549]\t -0.4497802933384173\t -1.029299726828387\t 0.4719263768936717\t -2.0280305117537134e-07\n",
            "8  \t [ 0.2592621  -0.56726335]\t -0.7605508340586425\t -1.029299726828387\t 0.48314530622899493\t -4.1566579195635414e-26\n",
            "9  \t [ 0.06304136 -0.15679668]\t -0.0899440331807559\t -1.029299726828387\t 0.4268629397139855\t -6.479608233761975e-08\n",
            "10 \t [-0.08968669 -0.4502591 ]\t -0.5741085689360789\t -1.029299726828387\t 0.41648861484112\t -4.7220925372329376e-33\n",
            "11 \t [ 0.46905033 -0.65007266]\t -0.49901532086738676\t -1.029299726828387\t 0.46007993124974206\t -1.1151764025434319e-08\n",
            "12 \t [ 0.156359   -0.48217757]\t -0.6926153169088273\t -1.029299726828387\t 0.4556891552714932\t -7.420646519255416e-07\n",
            "13 \t [ 0.37398364 -0.57880722]\t -0.5883008050555698\t -1.029299726828387\t 0.44370402471969145\t -2.067785294099735e-20\n",
            "14 \t [ 0.05481065 -0.43736292]\t -0.6307577358252267\t -1.029299726828387\t 0.42615589216737193\t -1.4061671801502626e-10\n",
            "15 \t [ 0.98160168 -0.88383851]\t 0.6513386265952582\t -1.029299726828387\t 0.39000591939108004\t -1.5536357240395234e-07\n",
            "16 \t [-1.24464695  0.11685708]\t 2.1968108543450007\t -1.029299726828387\t 0.39136725844260606\t -1.3626984497259154e-27\n",
            "17 \t [2.24352856 1.99339116]\t 61.173330026700434\t -1.029299726828387\t 0.3866284260048398\t -4.5704927918220765e-24\n",
            "18 \t [ 0.29416761 -0.56838537]\t -0.7113432033413133\t -1.029299726828387\t 0.4382345099590852\t -5.816899607092606e-22\n",
            "19 \t [ 0.19218583 -0.50568497]\t -0.7135958180421648\t -1.029299726828387\t 0.44670776689567365\t -2.660614813887423e-23\n",
            "20 \t [ 0.05079192 -0.44249446]\t -0.6420225549045016\t -1.029299726828387\t 0.42242717151293047\t -2.510901889787421e-19\n"
          ]
        }
      ],
      "source": [
        "### Bayesian optimisation runs (x20): 'GP dEI' Acquisition Function run number = 14 \n",
        "\n",
        "np.random.seed(run_num_14)\n",
        "surrogate_exact_14 = dGaussianProcess(cov_func, optimize=hyperOpt)\n",
        "\n",
        "exact_14 = GPGO_exact(surrogate_exact_14, Acquisition_grad(util), f_syn_polarity, param, n_jobs = -1) # Define BayesOpt\n",
        "exact_14.run(max_iter = max_iter, init_evals = n_init) # run\n"
      ]
    },
    {
      "cell_type": "code",
      "execution_count": 47,
      "metadata": {
        "colab": {
          "base_uri": "https://localhost:8080/"
        },
        "id": "XmPTh2j_JLlF",
        "outputId": "3b8fd90a-1535-46f7-cb8c-a1c9cb695f74"
      },
      "outputs": [
        {
          "output_type": "stream",
          "name": "stdout",
          "text": [
            "Evaluation \t Proposed point \t  Current eval. \t  Best eval. \t         GP dEI: maximum y \t GP dEI: exploit\n",
            "init\t [ 2.09290618 -1.2844163 ]\t 6.84252100896936\t 2.1163170846379233\t    \t    \n",
            "init\t [-2.67382071 -0.55384622]\t 43.69785230561242\t 2.1163170846379233\t    \t    \n",
            "init\t [-1.34759443  0.1200009 ]\t 2.1163170846379233\t 2.1163170846379233\t    \t    \n",
            "init\t [-1.16448651 -0.78210256]\t 2.3544087277459513\t 2.1163170846379233\t    \t    \n",
            "init\t [-2.32955234 -1.00040394]\t 15.469119251600274\t 2.1163170846379233\t    \t    \n",
            "\u001b[1m\u001b[92m1\u001b[0m\t \u001b[1m\u001b[92m[-0.21638275  1.08971893]\u001b[0m\t \u001b[1m\u001b[92m0.837475442441042\u001b[0m\t \u001b[1m\u001b[92m0.837475442441042\u001b[0m\t \u001b[1m\u001b[92m2.2680470317080035\u001b[0m\t \u001b[1m\u001b[92m1.8107453414668002\u001b[0m\n",
            "2  \t [3. 2.]\t 162.89999999999998\t 0.837475442441042\t 1.285553155314791\t 0.5546373595667987\n",
            "3  \t [-1.96941567  2.        ]\t 47.43342240539559\t 0.837475442441042\t 1.2719067300092128\t 0.5376726107393225\n",
            "4  \t [-0.17804804 -2.        ]\t 48.4808006875014\t 0.837475442441042\t 1.2619425086575085\t 0.5353820072932262\n",
            "5  \t [0.70088083 0.45442263]\t 1.1607617601927824\t 0.837475442441042\t 1.2077437565965479\t 0.46770765882767923\n",
            "6  \t [0.44051215 2.        ]\t 49.58058670666018\t 0.837475442441042\t 1.1593784253114032\t 0.40877485853635714\n",
            "\u001b[1m\u001b[92m7\u001b[0m\t \u001b[1m\u001b[92m[-0.33208872  0.14525558]\u001b[0m\t \u001b[1m\u001b[92m0.28518411794690623\u001b[0m\t \u001b[1m\u001b[92m0.28518411794690623\u001b[0m\t \u001b[1m\u001b[92m2.274205317648251\u001b[0m\t \u001b[1m\u001b[92m-5.0227272753810545e-92\u001b[0m\n",
            "\u001b[1m\u001b[92m8\u001b[0m\t \u001b[1m\u001b[92m[-0.15032425  0.09334754]\u001b[0m\t \u001b[1m\u001b[92m0.040737291029828274\u001b[0m\t \u001b[1m\u001b[92m0.040737291029828274\u001b[0m\t \u001b[1m\u001b[92m1.1517963429243647\u001b[0m\t \u001b[1m\u001b[92m-1.1083053570055305e-77\u001b[0m\n",
            "9  \t [-0.60364389  0.27091131]\t 0.7592796091439257\t 0.040737291029828274\t 0.8013267550886758\t 0.17256126869202237\n",
            "10 \t [-0.53953456  0.23814866]\t 0.6521808387640313\t 0.040737291029828274\t 0.7679064673172541\t -1.6131229322512964e-217\n",
            "\u001b[1m\u001b[92m11\u001b[0m\t \u001b[1m\u001b[92m[-0.15367368  0.10558428]\u001b[0m\t \u001b[1m\u001b[92m0.03297505803852837\u001b[0m\t \u001b[1m\u001b[92m0.03297505803852837\u001b[0m\t \u001b[1m\u001b[92m0.696987656756815\u001b[0m\t \u001b[1m\u001b[92m0.07837230508872979\u001b[0m\n",
            "12 \t [-0.46148817  0.20228707]\t 0.5095204408183469\t 0.03297505803852837\t 0.7313595753952088\t -1.0307801245934288e-31\n",
            "13 \t [-0.6706137   0.30839231]\t 0.8534287797282545\t 0.03297505803852837\t 0.3928295881398955\t -0.0\n",
            "14 \t [-0.39040207  0.17694105]\t 0.3716625015829975\t 0.03297505803852837\t 0.6820646349637891\t 0.08836643055762604\n",
            "15 \t [-0.29168397  0.14566616]\t 0.19976044183287361\t 0.03297505803852837\t 0.6472103632806321\t -1.3161182785338228e-89\n",
            "16 \t [-0.46881106  0.20657559]\t 0.5209790588249992\t 0.03297505803852837\t 0.5993836935457287\t -0.0\n",
            "17 \t [-0.57443921  0.25487473]\t 0.7138608762610047\t 0.03297505803852837\t 0.47096232954636247\t -3.423094499122833e-97\n",
            "\u001b[1m\u001b[92m18\u001b[0m\t \u001b[1m\u001b[92m[-0.14314159  0.11219463]\u001b[0m\t \u001b[1m\u001b[92m0.01530284548601591\u001b[0m\t \u001b[1m\u001b[92m0.01530284548601591\u001b[0m\t \u001b[1m\u001b[92m0.5306598487974447\u001b[0m\t \u001b[1m\u001b[92m-0.0\u001b[0m\n",
            "19 \t [-0.29914665  0.15010662]\t 0.20837534930795665\t 0.01530284548601591\t 0.5882407612728534\t -0.0\n",
            "20 \t [-0.2577758   0.13882127]\t 0.14523433154448256\t 0.01530284548601591\t 0.5690065082729738\t -0.0\n"
          ]
        }
      ],
      "source": [
        "### Bayesian optimisation runs (x20): 'GP dEI' Acquisition Function run number = 15 \n",
        "\n",
        "np.random.seed(run_num_15)\n",
        "surrogate_exact_15 = dGaussianProcess(cov_func, optimize=hyperOpt)\n",
        "\n",
        "exact_15 = GPGO_exact(surrogate_exact_15, Acquisition_grad(util), f_syn_polarity, param, n_jobs = -1) # Define BayesOpt\n",
        "exact_15.run(max_iter = max_iter, init_evals = n_init) # run\n"
      ]
    },
    {
      "cell_type": "code",
      "execution_count": 48,
      "metadata": {
        "colab": {
          "base_uri": "https://localhost:8080/"
        },
        "id": "6aUP_b73JLlG",
        "outputId": "459aaefd-c167-4097-8aa4-7758c68b8808"
      },
      "outputs": [
        {
          "output_type": "stream",
          "name": "stdout",
          "text": [
            "Evaluation \t Proposed point \t  Current eval. \t  Best eval. \t         GP dEI: maximum y \t GP dEI: exploit\n",
            "init\t [-1.66025353  0.09265337]\t 1.8632773736203017\t 1.8632773736203017\t    \t    \n",
            "init\t [ 0.30420874 -1.8175922 ]\t 30.24114424375299\t 1.8632773736203017\t    \t    \n",
            "init\t [-0.83562699 -1.10767623]\t 3.922061281476444\t 1.8632773736203017\t    \t    \n",
            "init\t [ 1.13235697 -1.3450743 ]\t 6.7121671493737685\t 1.8632773736203017\t    \t    \n",
            "init\t [-2.5780508   1.76404344]\t 53.42443470756798\t 1.8632773736203017\t    \t    \n",
            "1  \t [ 3.         -0.03166106]\t 108.80101115742967\t 1.8632773736203017\t 2.05388559765654\t 1.5367590301027523\n",
            "2  \t [-3. -2.]\t 162.89999999999998\t 1.8632773736203017\t 2.047894663117556\t 1.5188946912342196\n",
            "3  \t [0.53458945 2.        ]\t 50.04858828808778\t 1.8632773736203017\t 2.041814102376638\t 1.5147965214932488\n",
            "4  \t [-1.10134941  0.07301427]\t 2.25541265535764\t 1.8632773736203017\t 1.4047282842161761\t 0.7160970231807388\n",
            "\u001b[1m\u001b[92m5\u001b[0m\t \u001b[1m\u001b[92m[-0.38436994 -0.07390268]\u001b[0m\t \u001b[1m\u001b[92m0.5528776934672587\u001b[0m\t \u001b[1m\u001b[92m0.5528776934672587\u001b[0m\t \u001b[1m\u001b[92m0.876407034278634\u001b[0m\t \u001b[1m\u001b[92m0.13554260133969726\u001b[0m\n",
            "6  \t [-0.42109164 -0.02890779]\t 0.6539364235501978\t 0.5528776934672587\t 0.43919736010253724\t -1.7616135196540848e-153\n",
            "7  \t [-0.67443952  0.00846508]\t 1.4103489071958895\t 0.5528776934672587\t 0.4876394199992865\t -1.5265562062487795e-57\n",
            "8  \t [-0.72625606  0.01352737]\t 1.5639248811969788\t 0.5528776934672587\t 0.42369223909746084\t -3.970779692609018e-250\n",
            "9  \t [-0.81161396  0.01654354]\t 1.8044141832528953\t 0.5528776934672587\t 0.37003388367485934\t -0.0\n",
            "\u001b[1m\u001b[92m10\u001b[0m\t \u001b[1m\u001b[92m[ 0.07713587 -0.00636867]\u001b[0m\t \u001b[1m\u001b[92m0.023072012720087676\u001b[0m\t \u001b[1m\u001b[92m0.023072012720087676\u001b[0m\t \u001b[1m\u001b[92m0.3553086694042472\u001b[0m\t \u001b[1m\u001b[92m-2.0504993878290647e-192\u001b[0m\n",
            "11 \t [ 0.37605161 -0.0128942 ]\t 0.5190919891752236\t 0.023072012720087676\t 0.3438425523394959\t -0.0\n",
            "\u001b[1m\u001b[92m12\u001b[0m\t \u001b[1m\u001b[92m[0.01493499 0.05445315]\u001b[0m\t \u001b[1m\u001b[92m-0.010120044571410986\u001b[0m\t \u001b[1m\u001b[92m-0.010120044571410986\u001b[0m\t \u001b[1m\u001b[92m0.34412962597201197\u001b[0m\t \u001b[1m\u001b[92m-4.86179034450377e-24\u001b[0m\n",
            "13 \t [ 0.38159612 -0.00932071]\t 0.5350591803499689\t -0.010120044571410986\t 0.38544501833895245\t -0.0\n",
            "14 \t [0.20912662 0.02148252]\t 0.17359449862179185\t -0.010120044571410986\t 0.38427240856722195\t -3.128563468100985e-44\n",
            "15 \t [0.14663272 0.03564373]\t 0.08518819830076803\t -0.010120044571410986\t 0.3976953225634139\t -0.0\n",
            "16 \t [ 0.47898382 -0.03060929]\t 0.7927860715349668\t -0.010120044571410986\t 0.38773830899227857\t -0.0\n",
            "17 \t [-0.16021375  0.11146876]\t 0.03435338221987872\t -0.010120044571410986\t 0.35664123004510695\t -1.3816183846154859e-152\n",
            "18 \t [ 0.3657922  -0.01345584]\t 0.49277077666583735\t -0.010120044571410986\t 0.39010026300763107\t -0.0\n",
            "19 \t [0.07050842 0.04456898]\t 0.015046584777817713\t -0.010120044571410986\t 0.4145491693874599\t -7.366993807884229e-195\n",
            "20 \t [ 0.54719232 -0.05922142]\t 0.9719713692130382\t -0.010120044571410986\t 0.3396791189314567\t -2.5492802821524657e-73\n"
          ]
        }
      ],
      "source": [
        "### Bayesian optimisation runs (x20): 'GP dEI' Acquisition Function run number = 16 \n",
        "\n",
        "np.random.seed(run_num_16)\n",
        "surrogate_exact_16 = dGaussianProcess(cov_func, optimize=hyperOpt)\n",
        "\n",
        "exact_16 = GPGO_exact(surrogate_exact_16, Acquisition_grad(util), f_syn_polarity, param, n_jobs = -1) # Define BayesOpt\n",
        "exact_16.run(max_iter = max_iter, init_evals = n_init) # run\n"
      ]
    },
    {
      "cell_type": "code",
      "execution_count": 49,
      "metadata": {
        "colab": {
          "base_uri": "https://localhost:8080/"
        },
        "id": "TV8_B_7cJLlH",
        "outputId": "b1f74c57-1556-41b1-87df-1d860f360939"
      },
      "outputs": [
        {
          "output_type": "stream",
          "name": "stdout",
          "text": [
            "Evaluation \t Proposed point \t  Current eval. \t  Best eval. \t         GP dEI: maximum y \t GP dEI: exploit\n",
            "init\t [-1.23200998  0.12234702]\t 2.189206652278967\t 1.7722768782964888\t    \t    \n",
            "init\t [-1.85087528 -1.72839857]\t 29.406067820453675\t 1.7722768782964888\t    \t    \n",
            "init\t [1.72191276 0.62533409]\t 2.2113401446731897\t 1.7722768782964888\t    \t    \n",
            "init\t [0.82512538 0.30241158]\t 1.7722768782964888\t 1.7722768782964888\t    \t    \n",
            "init\t [-2.7656225  -0.56874558]\t 57.5922315952177\t 1.7722768782964888\t    \t    \n",
            "1  \t [-0.94844345  1.77369891]\t 27.464707626764916\t 1.7722768782964888\t 2.250920008342742\t 1.7791195981056946\n",
            "2  \t [ 2.16747806 -2.        ]\t 50.670774669928775\t 1.7722768782964888\t 1.9472789324332946\t 1.3612027066839845\n",
            "3  \t [3. 2.]\t 162.89999999999998\t 1.7722768782964888\t 1.87718084296977\t 1.3129241881143794\n",
            "4  \t [0.97958062 0.2221369 ]\t 2.229137979813862\t 1.7722768782964888\t 1.6277903229034736\t 1.1501581513804033\n",
            "\u001b[1m\u001b[92m5\u001b[0m\t \u001b[1m\u001b[92m[-0.08334248 -0.32165678]\u001b[0m\t \u001b[1m\u001b[92m-0.3165435517895191\u001b[0m\t \u001b[1m\u001b[92m-0.3165435517895191\u001b[0m\t \u001b[1m\u001b[92m1.264151086728202\u001b[0m\t \u001b[1m\u001b[92m0.5744856327890187\u001b[0m\n",
            "\u001b[1m\u001b[92m6\u001b[0m\t \u001b[1m\u001b[92m[-0.00456981 -0.44315296]\u001b[0m\t \u001b[1m\u001b[92m-0.6291619745773486\u001b[0m\t \u001b[1m\u001b[92m-0.6291619745773486\u001b[0m\t \u001b[1m\u001b[92m0.37588789597480077\u001b[0m\t \u001b[1m\u001b[92m-1.3675361053316718e-115\u001b[0m\n",
            "7  \t [-0.1632596  -0.28702899]\t -0.1504035258575224\t -0.6291619745773486\t 0.36076691486152906\t -0.0\n",
            "8  \t [-0.51449392  0.02033092]\t 0.905742352851246\t -0.6291619745773486\t 0.17141336279447492\t -4.292081305185767e-63\n",
            "9  \t [-0.24611679 -0.20700637]\t 0.12154902372513854\t -0.6291619745773486\t 0.32027866011053696\t -1.3182374461892874e-35\n",
            "10 \t [-0.12197426 -0.32652525]\t -0.2821299159793492\t -0.6291619745773486\t 0.34620729539818423\t -2.4527023316104155e-51\n",
            "11 \t [-0.09346761 -0.35734336]\t -0.3773690429532704\t -0.6291619745773486\t 0.3570398506354057\t -1.010982343368959e-40\n",
            "\u001b[1m\u001b[92m12\u001b[0m\t \u001b[1m\u001b[92m[ 0.11830541 -0.66154268]\u001b[0m\t \u001b[1m\u001b[92m-1.0071341453385254\u001b[0m\t \u001b[1m\u001b[92m-1.0071341453385254\u001b[0m\t \u001b[1m\u001b[92m0.2927296708078236\u001b[0m\t \u001b[1m\u001b[92m-3.814304195318352e-59\u001b[0m\n",
            "13 \t [ 0.02521467 -0.5409358 ]\t -0.8390573586806962\t -1.0071341453385254\t 0.2863929757523385\t -0.0\n",
            "14 \t [-0.22662511 -0.2519287 ]\t 0.019275540572454036\t -1.0071341453385254\t 0.2623006927214171\t -0.0\n",
            "15 \t [-0.16389763 -0.31697259]\t -0.20361640390927133\t -1.0071341453385254\t 0.28180192755817135\t -2.4980285115743548e-110\n",
            "16 \t [-0.15109936 -0.32851068]\t -0.2452196480292425\t -1.0071341453385254\t 0.28329870236869564\t -6.110114389045973e-28\n",
            "17 \t [-0.04980417 -0.445235  ]\t -0.6036661482255725\t -1.0071341453385254\t 0.3041298266786806\t -4.824189185903767e-55\n",
            "18 \t [-0.06071976 -0.43213563]\t -0.5665175114584124\t -1.0071341453385254\t 0.30921256980004347\t -9.378016103197246e-86\n",
            "19 \t [-0.03885298 -0.46159453]\t -0.6467158225913533\t -1.0071341453385254\t 0.3155589974950653\t -1.4145524273055796e-55\n",
            "20 \t [ 0.02878038 -0.55676542]\t -0.8682934750247281\t -1.0071341453385254\t 0.31637117499945516\t -4.9806421379921895e-241\n"
          ]
        }
      ],
      "source": [
        "### Bayesian optimisation runs (x20): 'GP dEI' Acquisition Function run number = 17 \n",
        "\n",
        "np.random.seed(run_num_17)\n",
        "surrogate_exact_17 = dGaussianProcess(cov_func, optimize=hyperOpt)\n",
        "\n",
        "exact_17 = GPGO_exact(surrogate_exact_17, Acquisition_grad(util), f_syn_polarity, param, n_jobs = -1) # Define BayesOpt\n",
        "exact_17.run(max_iter = max_iter, init_evals = n_init) # run\n"
      ]
    },
    {
      "cell_type": "code",
      "execution_count": 50,
      "metadata": {
        "colab": {
          "base_uri": "https://localhost:8080/"
        },
        "id": "57ABzGR1JLlI",
        "outputId": "11678522-b7c2-454b-93d4-62e158959312"
      },
      "outputs": [
        {
          "output_type": "stream",
          "name": "stdout",
          "text": [
            "Evaluation \t Proposed point \t  Current eval. \t  Best eval. \t         GP dEI: maximum y \t GP dEI: exploit\n",
            "init\t [0.90224545 0.02181349]\t 2.062169771852028\t 2.062169771852028\t    \t    \n",
            "init\t [ 2.27160883 -1.2726391 ]\t 11.64729291207819\t 2.062169771852028\t    \t    \n",
            "init\t [2.11339841 1.00054514]\t 7.792128760671214\t 2.062169771852028\t    \t    \n",
            "init\t [0.99661    1.95158179]\t 46.96206222999227\t 2.062169771852028\t    \t    \n",
            "init\t [-1.45818946 -1.8867763 ]\t 41.4190528039297\t 2.062169771852028\t    \t    \n",
            "1  \t [-2.66531515  1.40819569]\t 45.982813537937645\t 2.062169771852028\t 2.19985588075394\t 1.7209401663505781\n",
            "2  \t [3.        0.6031628]\t 109.78368431836117\t 2.062169771852028\t 0.9295860323761012\t -1.3737597502067933e-29\n",
            "3  \t [1.89592609 0.6375228 ]\t 2.969704029748832\t 2.062169771852028\t 2.2191685332046376\t 1.7502655335013715\n",
            "4  \t [-0.32173714 -1.49268739]\t 11.817714263649087\t 2.062169771852028\t 2.2191685332046376\t 1.7502655335013715\n",
            "\u001b[1m\u001b[92m5\u001b[0m\t \u001b[1m\u001b[92m[-0.73927187  0.43212922]\u001b[0m\t \u001b[1m\u001b[92m0.686338663645771\u001b[0m\t \u001b[1m\u001b[92m0.686338663645771\u001b[0m\t \u001b[1m\u001b[92m2.210140934062737\u001b[0m\t \u001b[1m\u001b[92m1.7385262026575585\u001b[0m\n",
            "6  \t [-3.         -0.66721437]\t 109.91366621956408\t 0.686338663645771\t 1.1776017029393353\t 0.3231324869634283\n",
            "\u001b[1m\u001b[92m7\u001b[0m\t \u001b[1m\u001b[92m[-0.30694961 -0.82375239]\u001b[0m\t \u001b[1m\u001b[92m-0.26109415258126123\u001b[0m\t \u001b[1m\u001b[92m-0.26109415258126123\u001b[0m\t \u001b[1m\u001b[92m1.1875797121563854\u001b[0m\t \u001b[1m\u001b[92m0.4353202154086532\u001b[0m\n",
            "8  \t [-0.33373115 -0.2909626 ]\t 0.2070516228311136\t -0.26109415258126123\t 0.7811578136658982\t 0.027332618735783187\n",
            "9  \t [-1.75084061  0.3508495 ]\t 1.0840719089652828\t -0.26109415258126123\t 0.6741268348272671\t -0.11698762696877195\n",
            "10 \t [-0.83421251  1.80811902]\t 30.04658126333667\t -0.26109415258126123\t 0.6385306627629442\t -5.268387759352046e-202\n",
            "11 \t [-0.8431111  -0.17299245]\t 1.9316943314986037\t -0.26109415258126123\t 0.6130702247431827\t -1.1499063387681597e-54\n",
            "\u001b[1m\u001b[92m12\u001b[0m\t \u001b[1m\u001b[92m[-0.04626011 -0.28362371]\u001b[0m\t \u001b[1m\u001b[92m-0.2742148640986231\u001b[0m\t \u001b[1m\u001b[92m-0.2742148640986231\u001b[0m\t \u001b[1m\u001b[92m0.5752131236372862\u001b[0m\t \u001b[1m\u001b[92m-2.143537403280629e-139\u001b[0m\n",
            "13 \t [-0.0940631 -0.2454676]\t -0.16817827869694296\t -0.2742148640986231\t 0.5563758806320959\t -2.8356714047916815e-81\n",
            "14 \t [ 1.01774058 -2.        ]\t 48.2250946914044\t -0.2742148640986231\t 0.5534202598751164\t -3.0597449678345854e-35\n",
            "15 \t [-0.05485529 -0.26668874]\t -0.23761098370645028\t -0.2742148640986231\t 0.5327039012245777\t -5.200273295021204e-65\n",
            "16 \t [-0.21377759 -0.02083701]\t 0.18116776991676747\t -0.2742148640986231\t 0.49634066479160033\t -5.340358287122031e-102\n",
            "\u001b[1m\u001b[92m17\u001b[0m\t \u001b[1m\u001b[92m[ 0.03986443 -0.35291168]\u001b[0m\t \u001b[1m\u001b[92m-0.4438563639723138\u001b[0m\t \u001b[1m\u001b[92m-0.4438563639723138\u001b[0m\t \u001b[1m\u001b[92m0.5088549292354705\u001b[0m\t \u001b[1m\u001b[92m-3.0899228742438846e-68\u001b[0m\n",
            "18 \t [1.37594899 0.40535496]\t 2.316318652745837\t -0.4438563639723138\t 0.4844166879050816\t -9.067385321638417e-70\n",
            "19 \t [-0.03871174 -0.27348568]\t -0.2602240601299831\t -0.4438563639723138\t 0.47521353016437595\t -4.960841996978575e-109\n",
            "20 \t [-0.03166374 -0.28081613]\t -0.27765669081588534\t -0.4438563639723138\t 0.47596482108416394\t -3.710494821888542e-153\n"
          ]
        }
      ],
      "source": [
        "### Bayesian optimisation runs (x20): 'GP dEI' Acquisition Function run number = 18 \n",
        "\n",
        "np.random.seed(run_num_18)\n",
        "surrogate_exact_18 = dGaussianProcess(cov_func, optimize=hyperOpt)\n",
        "\n",
        "exact_18 = GPGO_exact(surrogate_exact_18, Acquisition_grad(util), f_syn_polarity, param, n_jobs = -1) # Define BayesOpt\n",
        "exact_18.run(max_iter = max_iter, init_evals = n_init) # run\n"
      ]
    },
    {
      "cell_type": "code",
      "execution_count": 51,
      "metadata": {
        "colab": {
          "base_uri": "https://localhost:8080/"
        },
        "id": "x2CyIorrJLlJ",
        "outputId": "90dfeb43-0eda-4a09-acbf-7e6080cdfda8"
      },
      "outputs": [
        {
          "output_type": "stream",
          "name": "stdout",
          "text": [
            "Evaluation \t Proposed point \t  Current eval. \t  Best eval. \t         GP dEI: maximum y \t GP dEI: exploit\n",
            "init\t [-2.41479839  1.04499887]\t 15.890475442873509\t 6.578088852480828\t    \t    \n",
            "init\t [-1.51837216 -1.44747325]\t 13.520839509777993\t 6.578088852480828\t    \t    \n",
            "init\t [-1.01132062 -1.66800174]\t 23.772158573571232\t 6.578088852480828\t    \t    \n",
            "init\t [1.03186249 1.22637519]\t 6.578088852480828\t 6.578088852480828\t    \t    \n",
            "init\t [2.89645149 0.54264294]\t 83.31828503667734\t 6.578088852480828\t    \t    \n",
            "1  \t [0.10116931 2.        ]\t 48.243059900228204\t 6.578088852480828\t 5.89231557551927\t 5.822983938398689\n",
            "2  \t [ 1.4154914  -1.88944898]\t 36.29074861563762\t 6.578088852480828\t 6.479937231371906\t 6.478083973717957\n",
            "3  \t [-3. -2.]\t 162.89999999999998\t 6.578088852480828\t 4.56582528616582\t 4.510153524893858\n",
            "\u001b[1m\u001b[92m4\u001b[0m\t \u001b[1m\u001b[92m[-0.2606682 -0.1399839]\u001b[0m\t \u001b[1m\u001b[92m0.22184398731126448\u001b[0m\t \u001b[1m\u001b[92m0.22184398731126448\u001b[0m\t \u001b[1m\u001b[92m3.796201174453703\u001b[0m\t \u001b[1m\u001b[92m3.6611314138265048\u001b[0m\n",
            "\u001b[1m\u001b[92m5\u001b[0m\t \u001b[1m\u001b[92m[ 0.19813133 -0.17803827]\u001b[0m\t \u001b[1m\u001b[92m-0.004238427612070855\u001b[0m\t \u001b[1m\u001b[92m-0.004238427612070855\u001b[0m\t \u001b[1m\u001b[92m0.19128409868887702\u001b[0m\t \u001b[1m\u001b[92m-1.0007375400308553e-124\u001b[0m\n",
            "6  \t [-0.27430555 -0.08600945]\t 0.2834480626298939\t -0.004238427612070855\t 0.2876168780218436\t -0.0\n",
            "\u001b[1m\u001b[92m7\u001b[0m\t \u001b[1m\u001b[92m[ 0.15377079 -0.15070031]\u001b[0m\t \u001b[1m\u001b[92m-0.018540449816608573\u001b[0m\t \u001b[1m\u001b[92m-0.018540449816608573\u001b[0m\t \u001b[1m\u001b[92m0.31272786656789514\u001b[0m\t \u001b[1m\u001b[92m-9.543152840904507e-133\u001b[0m\n",
            "\u001b[1m\u001b[92m8\u001b[0m\t \u001b[1m\u001b[92m[ 0.04723679 -0.12321757]\u001b[0m\t \u001b[1m\u001b[92m-0.0567138350143235\u001b[0m\t \u001b[1m\u001b[92m-0.0567138350143235\u001b[0m\t \u001b[1m\u001b[92m0.381739791730558\u001b[0m\t \u001b[1m\u001b[92m-1.036692488084723e-212\u001b[0m\n",
            "9  \t [-0.02262104 -0.10891735]\t -0.04237891031671153\t -0.0567138350143235\t 0.4012336039580316\t -0.0\n",
            "10 \t [-0.31533916 -0.06475231]\t 0.3810357541960225\t -0.0567138350143235\t 0.37015723149045443\t -0.0\n",
            "11 \t [-0.25225065 -0.07364251]\t 0.24310603495990016\t -0.0567138350143235\t 0.38811623894923347\t -3.218049997477959e-90\n",
            "12 \t [-0.05417523 -0.10273576]\t -0.024485470464218614\t -0.0567138350143235\t 0.42875431731364855\t -0.0\n",
            "13 \t [ 0.33866736 -0.18799463]\t 0.23162025039446218\t -0.0567138350143235\t 0.3167573024659389\t -4.749580461208529e-32\n",
            "14 \t [-0.26533015 -0.06332603]\t 0.27213458348625147\t -0.0567138350143235\t 0.4013332373992914\t -1.0197300983010425e-109\n",
            "15 \t [-0.42371982 -0.03990124]\t 0.6629401471561489\t -0.0567138350143235\t 0.3450119901683684\t -3.790699584106763e-77\n",
            "16 \t [ 0.1572183  -0.13444004]\t 0.005466159632280407\t -0.0567138350143235\t 0.43993781711406915\t -1.2349644398872102e-119\n",
            "17 \t [ 0.08150114 -0.11492688]\t -0.03502441477500619\t -0.0567138350143235\t 0.46519100054566187\t -1.60415294607873e-300\n",
            "18 \t [-0.5728373  -0.01022251]\t 1.103663194548136\t -0.0567138350143235\t 0.27511474494614846\t -1.8684680358031586e-106\n",
            "19 \t [-0.00491067 -0.09384859]\t -0.03436261889905148\t -0.0567138350143235\t 0.46794573190806615\t -6.271573028975048e-198\n",
            "20 \t [-0.03914131 -0.08724883]\t -0.020679366191923534\t -0.0567138350143235\t 0.46767539164102834\t -7.17279913379258e-29\n"
          ]
        }
      ],
      "source": [
        "### Bayesian optimisation runs (x20): 'GP dEI' Acquisition Function run number = 19 \n",
        "\n",
        "np.random.seed(run_num_19)\n",
        "surrogate_exact_19 = dGaussianProcess(cov_func, optimize=hyperOpt)\n",
        "\n",
        "exact_19 = GPGO_exact(surrogate_exact_19, Acquisition_grad(util), f_syn_polarity, param, n_jobs = -1) # Define BayesOpt\n",
        "exact_19.run(max_iter = max_iter, init_evals = n_init) # run\n"
      ]
    },
    {
      "cell_type": "code",
      "execution_count": 52,
      "metadata": {
        "colab": {
          "base_uri": "https://localhost:8080/"
        },
        "id": "4O6_IplWJLlJ",
        "outputId": "799ad838-25d5-4c14-99ab-d9e8d2f720a1"
      },
      "outputs": [
        {
          "output_type": "stream",
          "name": "stdout",
          "text": [
            "Evaluation \t Proposed point \t  Current eval. \t  Best eval. \t         GP dEI: maximum y \t GP dEI: exploit\n",
            "init\t [0.52878481 1.59085491]\t 17.29968374481291\t 1.5037392797834441\t    \t    \n",
            "init\t [2.34918438 1.26334991]\t 20.91583049569433\t 1.5037392797834441\t    \t    \n",
            "init\t [-2.78466249  0.76703033]\t 57.06253405225224\t 1.5037392797834441\t    \t    \n",
            "init\t [-0.72791435  0.07404378]\t 1.5037392797834441\t 1.5037392797834441\t    \t    \n",
            "init\t [ 0.94770879 -1.22459913]\t 3.9766737661914173\t 1.5037392797834441\t    \t    \n",
            "1  \t [-1.18115566 -2.        ]\t 52.76057163057528\t 1.5037392797834441\t 1.6226897877682127\t 0.9821224841735688\n",
            "2  \t [ 2.59213852 -1.65326133]\t 47.84960809826183\t 1.5037392797834441\t 1.4750079879150166\t 0.7830223944710712\n",
            "\u001b[1m\u001b[92m3\u001b[0m\t \u001b[1m\u001b[92m[ 0.22139217 -0.162917  ]\u001b[0m\t \u001b[1m\u001b[92m0.05163369461120049\u001b[0m\t \u001b[1m\u001b[92m0.05163369461120049\u001b[0m\t \u001b[1m\u001b[92m0.4690237988202402\u001b[0m\t \u001b[1m\u001b[92m-1.1458425845256586e-31\u001b[0m\n",
            "\u001b[1m\u001b[92m4\u001b[0m\t \u001b[1m\u001b[92m[-0.33967677  0.28979802]\u001b[0m\t \u001b[1m\u001b[92m0.02792003913677127\u001b[0m\t \u001b[1m\u001b[92m0.02792003913677127\u001b[0m\t \u001b[1m\u001b[92m0.09328850938049889\u001b[0m\t \u001b[1m\u001b[92m-8.832203561886347e-48\u001b[0m\n",
            "\u001b[1m\u001b[92m5\u001b[0m\t \u001b[1m\u001b[92m[ 0.04615981 -0.02633349]\u001b[0m\t \u001b[1m\u001b[92m0.004525945620337681\u001b[0m\t \u001b[1m\u001b[92m0.004525945620337681\u001b[0m\t \u001b[1m\u001b[92m0.32577558211904684\u001b[0m\t \u001b[1m\u001b[92m-1.616793343403267e-47\u001b[0m\n",
            "\u001b[1m\u001b[92m6\u001b[0m\t \u001b[1m\u001b[92m[-0.51229094  0.50493252]\u001b[0m\t \u001b[1m\u001b[92m-0.10733364280664648\u001b[0m\t \u001b[1m\u001b[92m-0.10733364280664648\u001b[0m\t \u001b[1m\u001b[92m0.07741275450360328\u001b[0m\t \u001b[1m\u001b[92m-1.610617673545284e-54\u001b[0m\n",
            "7  \t [ 0.73759828 -0.65234338]\t 0.14930320663757457\t -0.10733364280664648\t 0.07659064086074259\t -3.732864216013474e-59\n",
            "8  \t [ 0.066295   -0.04776447]\t 0.005268067041442573\t -0.10733364280664648\t 0.4875179875814591\t -4.079242709757673e-48\n",
            "9  \t [ 0.04107459 -0.03045656]\t 0.0017845543856657886\t -0.10733364280664648\t 0.48717050625857383\t -7.010099975809951e-55\n",
            "10 \t [ 0.48207724 -0.35527918]\t 0.2079228106405437\t -0.10733364280664648\t 0.41970026239545516\t -3.5815788439256677e-57\n",
            "11 \t [ 0.03793112 -0.02831173]\t 0.001473192262755958\t -0.10733364280664648\t 0.4937555146634211\t -1.814681816831937e-37\n",
            "12 \t [-0.08631549  0.05747769]\t 0.011552730140765032\t -0.10733364280664648\t 0.46133540291839187\t -2.956178014347175e-39\n",
            "13 \t [-0.71738867  1.10505096]\t 1.8352213207479229\t -0.10733364280664648\t 0.013501622704198342\t -2.1661513500050697e-37\n",
            "14 \t [-0.24755388  0.17805514]\t 0.07044937176876051\t -0.10733364280664648\t 0.4258035792224067\t -1.5155162053593304e-58\n",
            "15 \t [ 0.16281427 -0.11186413]\t 0.0369234327849899\t -0.10733364280664648\t 0.5081366227969006\t -5.561408280650438e-54\n",
            "16 \t [ 0.12350205 -0.08525982]\t 0.02112831068983883\t -0.10733364280664648\t 0.5066831766502637\t -5.466582408354991e-39\n",
            "17 \t [-0.09753702  0.06519211]\t 0.014577667106746614\t -0.10733364280664648\t 0.4800091878233789\t -7.1534686067544224e-40\n",
            "18 \t [ 0.15726813 -0.10815404]\t 0.034402405248131575\t -0.10733364280664648\t 0.5085482863444308\t -1.7583961498294255e-31\n",
            "19 \t [ 0.37016845 -0.26059157]\t 0.15987851799057845\t -0.10733364280664648\t 0.4751788207144604\t -6.770422914205732e-53\n",
            "20 \t [ 0.23194416 -0.1600854 ]\t 0.07215320880005457\t -0.10733364280664648\t 0.5008767504289837\t -4.919006945426425e-43\n"
          ]
        }
      ],
      "source": [
        "### Bayesian optimisation runs (x20): 'GP dEI' Acquisition Function run number = 20 \n",
        "\n",
        "np.random.seed(run_num_20)\n",
        "surrogate_exact_20 = dGaussianProcess(cov_func, optimize=hyperOpt)\n",
        "\n",
        "exact_20 = GPGO_exact(surrogate_exact_20, Acquisition_grad(util), f_syn_polarity, param, n_jobs = -1) # Define BayesOpt\n",
        "exact_20.run(max_iter = max_iter, init_evals = n_init) # run\n"
      ]
    },
    {
      "cell_type": "code",
      "execution_count": 53,
      "metadata": {
        "colab": {
          "base_uri": "https://localhost:8080/"
        },
        "id": "B9S2UvZ9JLlK",
        "outputId": "e51194d7-4ff7-4ba4-fb48-62448d2bf6b8"
      },
      "outputs": [
        {
          "output_type": "execute_result",
          "data": {
            "text/plain": [
              "(-0.2658009358573259, -0.2658009358573259)"
            ]
          },
          "metadata": {},
          "execution_count": 53
        }
      ],
      "source": [
        "### Simple regret minimisation: run number = 1\n",
        "\n",
        "approx_output_1 = np.append(np.max(approx_1.GP.y[0:n_init]),approx_1.GP.y[n_init:(n_init+max_iter)]) \n",
        "exact_output_1 = np.append(np.max(exact_1.GP.y[0:n_init]),exact_1.GP.y[n_init:(n_init+max_iter)]) \n",
        "\n",
        "regret_approx_1 = np.log(y_global_orig - approx_output_1)\n",
        "regret_exact_1 = np.log(y_global_orig - exact_output_1)\n",
        "\n",
        "simple_regret_approx_1 = min_array(regret_approx_1)\n",
        "simple_regret_exact_1 = min_array(regret_exact_1)\n",
        "\n",
        "min_simple_regret_approx_1 = min(simple_regret_approx_1)\n",
        "min_simple_regret_exact_1 = min(simple_regret_exact_1)\n",
        "\n",
        "min_simple_regret_approx_1, min_simple_regret_exact_1\n"
      ]
    },
    {
      "cell_type": "code",
      "execution_count": 54,
      "metadata": {
        "colab": {
          "base_uri": "https://localhost:8080/"
        },
        "id": "adGcU8l5JLlK",
        "outputId": "2e985506-e95a-4846-86b4-7a5f5b66912f"
      },
      "outputs": [
        {
          "output_type": "execute_result",
          "data": {
            "text/plain": [
              "(0.03335866621503685, -0.09141497463908152)"
            ]
          },
          "metadata": {},
          "execution_count": 54
        }
      ],
      "source": [
        "### Simple regret minimisation: run number = 2\n",
        "\n",
        "approx_output_2 = np.append(np.max(approx_2.GP.y[0:n_init]),approx_2.GP.y[n_init:(n_init+max_iter)]) \n",
        "exact_output_2 = np.append(np.max(exact_2.GP.y[0:n_init]),exact_2.GP.y[n_init:(n_init+max_iter)]) \n",
        "\n",
        "regret_approx_2 = np.log(y_global_orig - approx_output_2)\n",
        "regret_exact_2 = np.log(y_global_orig - exact_output_2)\n",
        "\n",
        "simple_regret_approx_2 = min_array(regret_approx_2)\n",
        "simple_regret_exact_2 = min_array(regret_exact_2)\n",
        "\n",
        "min_simple_regret_approx_2 = min(simple_regret_approx_2)\n",
        "min_simple_regret_exact_2 = min(simple_regret_exact_2)\n",
        "\n",
        "min_simple_regret_approx_2, min_simple_regret_exact_2\n"
      ]
    },
    {
      "cell_type": "code",
      "execution_count": 55,
      "metadata": {
        "colab": {
          "base_uri": "https://localhost:8080/"
        },
        "id": "1F9LaViaJLlL",
        "outputId": "6d7d8ec7-16eb-474f-9d41-3f493b138111"
      },
      "outputs": [
        {
          "output_type": "execute_result",
          "data": {
            "text/plain": [
              "(-0.7052749676875513, -1.5614956503396664)"
            ]
          },
          "metadata": {},
          "execution_count": 55
        }
      ],
      "source": [
        "### Simple regret minimisation: run number = 3\n",
        "\n",
        "approx_output_3 = np.append(np.max(approx_3.GP.y[0:n_init]),approx_3.GP.y[n_init:(n_init+max_iter)]) \n",
        "exact_output_3 = np.append(np.max(exact_3.GP.y[0:n_init]),exact_3.GP.y[n_init:(n_init+max_iter)]) \n",
        "\n",
        "regret_approx_3 = np.log(y_global_orig - approx_output_3)\n",
        "regret_exact_3 = np.log(y_global_orig - exact_output_3)\n",
        "\n",
        "simple_regret_approx_3 = min_array(regret_approx_3)\n",
        "simple_regret_exact_3 = min_array(regret_exact_3)\n",
        "\n",
        "min_simple_regret_approx_3 = min(simple_regret_approx_3)\n",
        "min_simple_regret_exact_3 = min(simple_regret_exact_3)\n",
        "\n",
        "min_simple_regret_approx_3, min_simple_regret_exact_3\n"
      ]
    },
    {
      "cell_type": "code",
      "execution_count": 56,
      "metadata": {
        "colab": {
          "base_uri": "https://localhost:8080/"
        },
        "id": "vThMylZmJLlL",
        "outputId": "2f5a43d9-0291-4342-d1f1-60cfec866024"
      },
      "outputs": [
        {
          "output_type": "execute_result",
          "data": {
            "text/plain": [
              "(-5.073457322415554, -1.5236556203622285)"
            ]
          },
          "metadata": {},
          "execution_count": 56
        }
      ],
      "source": [
        "### Simple regret minimisation: run number = 4\n",
        "\n",
        "approx_output_4 = np.append(np.max(approx_4.GP.y[0:n_init]),approx_4.GP.y[n_init:(n_init+max_iter)]) \n",
        "exact_output_4 = np.append(np.max(exact_4.GP.y[0:n_init]),exact_4.GP.y[n_init:(n_init+max_iter)]) \n",
        "\n",
        "regret_approx_4 = np.log(y_global_orig - approx_output_4)\n",
        "regret_exact_4 = np.log(y_global_orig - exact_output_4)\n",
        "\n",
        "simple_regret_approx_4 = min_array(regret_approx_4)\n",
        "simple_regret_exact_4 = min_array(regret_exact_4)\n",
        "\n",
        "min_simple_regret_approx_4 = min(simple_regret_approx_4)\n",
        "min_simple_regret_exact_4 = min(simple_regret_exact_4)\n",
        "\n",
        "min_simple_regret_approx_4, min_simple_regret_exact_4\n"
      ]
    },
    {
      "cell_type": "code",
      "execution_count": 57,
      "metadata": {
        "colab": {
          "base_uri": "https://localhost:8080/"
        },
        "id": "9Um6_WG7JLlM",
        "outputId": "f1cbe3ea-be51-4536-d643-ec5ccd5f30b2"
      },
      "outputs": [
        {
          "output_type": "execute_result",
          "data": {
            "text/plain": [
              "(-1.8466634597692166, -2.4166011145214363)"
            ]
          },
          "metadata": {},
          "execution_count": 57
        }
      ],
      "source": [
        "### Simple regret minimisation: run number = 5\n",
        "\n",
        "approx_output_5 = np.append(np.max(approx_5.GP.y[0:n_init]),approx_5.GP.y[n_init:(n_init+max_iter)]) \n",
        "exact_output_5 = np.append(np.max(exact_5.GP.y[0:n_init]),exact_5.GP.y[n_init:(n_init+max_iter)]) \n",
        "\n",
        "regret_approx_5 = np.log(y_global_orig - approx_output_5)\n",
        "regret_exact_5 = np.log(y_global_orig - exact_output_5)\n",
        "\n",
        "simple_regret_approx_5 = min_array(regret_approx_5)\n",
        "simple_regret_exact_5 = min_array(regret_exact_5)\n",
        "\n",
        "min_simple_regret_approx_5 = min(simple_regret_approx_5)\n",
        "min_simple_regret_exact_5 = min(simple_regret_exact_5)\n",
        "\n",
        "min_simple_regret_approx_5, min_simple_regret_exact_5\n"
      ]
    },
    {
      "cell_type": "code",
      "execution_count": 58,
      "metadata": {
        "colab": {
          "base_uri": "https://localhost:8080/"
        },
        "id": "s7F8Y3b9JLlM",
        "outputId": "5719a516-749d-46f1-a685-34fec0da5d73"
      },
      "outputs": [
        {
          "output_type": "execute_result",
          "data": {
            "text/plain": [
              "(-1.7612123519962217, -2.948268380567984)"
            ]
          },
          "metadata": {},
          "execution_count": 58
        }
      ],
      "source": [
        "### Simple regret minimisation: run number = 6\n",
        "\n",
        "approx_output_6 = np.append(np.max(approx_6.GP.y[0:n_init]),approx_6.GP.y[n_init:(n_init+max_iter)]) \n",
        "exact_output_6 = np.append(np.max(exact_6.GP.y[0:n_init]),exact_6.GP.y[n_init:(n_init+max_iter)]) \n",
        "\n",
        "regret_approx_6 = np.log(y_global_orig - approx_output_6)\n",
        "regret_exact_6 = np.log(y_global_orig - exact_output_6)\n",
        "\n",
        "simple_regret_approx_6 = min_array(regret_approx_6)\n",
        "simple_regret_exact_6 = min_array(regret_exact_6)\n",
        "\n",
        "min_simple_regret_approx_6 = min(simple_regret_approx_6)\n",
        "min_simple_regret_exact_6 = min(simple_regret_exact_6)\n",
        "\n",
        "min_simple_regret_approx_6, min_simple_regret_exact_6\n"
      ]
    },
    {
      "cell_type": "code",
      "execution_count": 59,
      "metadata": {
        "colab": {
          "base_uri": "https://localhost:8080/"
        },
        "id": "FbMNex-gJLlN",
        "outputId": "a1d04888-e9d8-42f3-cbfb-34d299820797"
      },
      "outputs": [
        {
          "output_type": "execute_result",
          "data": {
            "text/plain": [
              "(-0.7967714768221764, -0.8935996883007996)"
            ]
          },
          "metadata": {},
          "execution_count": 59
        }
      ],
      "source": [
        "### Simple regret minimisation: run number = 7\n",
        "\n",
        "approx_output_7 = np.append(np.max(approx_7.GP.y[0:n_init]),approx_7.GP.y[n_init:(n_init+max_iter)]) \n",
        "exact_output_7 = np.append(np.max(exact_7.GP.y[0:n_init]),exact_7.GP.y[n_init:(n_init+max_iter)]) \n",
        "\n",
        "regret_approx_7 = np.log(y_global_orig - approx_output_7)\n",
        "regret_exact_7 = np.log(y_global_orig - exact_output_7)\n",
        "\n",
        "simple_regret_approx_7 = min_array(regret_approx_7)\n",
        "simple_regret_exact_7 = min_array(regret_exact_7)\n",
        "\n",
        "min_simple_regret_approx_7 = min(simple_regret_approx_7)\n",
        "min_simple_regret_exact_7 = min(simple_regret_exact_7)\n",
        "\n",
        "min_simple_regret_approx_7, min_simple_regret_exact_7\n"
      ]
    },
    {
      "cell_type": "code",
      "execution_count": 60,
      "metadata": {
        "colab": {
          "base_uri": "https://localhost:8080/"
        },
        "id": "yTxbjos2JLlN",
        "outputId": "ceb01e68-9976-4235-d38f-f572097467d9"
      },
      "outputs": [
        {
          "output_type": "execute_result",
          "data": {
            "text/plain": [
              "(-0.4342953543069644, -1.6667913180754064)"
            ]
          },
          "metadata": {},
          "execution_count": 60
        }
      ],
      "source": [
        "### Simple regret minimisation: run number = 8\n",
        "\n",
        "approx_output_8 = np.append(np.max(approx_8.GP.y[0:n_init]),approx_8.GP.y[n_init:(n_init+max_iter)]) \n",
        "exact_output_8 = np.append(np.max(exact_8.GP.y[0:n_init]),exact_8.GP.y[n_init:(n_init+max_iter)]) \n",
        "\n",
        "regret_approx_8 = np.log(y_global_orig - approx_output_8)\n",
        "regret_exact_8 = np.log(y_global_orig - exact_output_8)\n",
        "\n",
        "simple_regret_approx_8 = min_array(regret_approx_8)\n",
        "simple_regret_exact_8 = min_array(regret_exact_8)\n",
        "\n",
        "min_simple_regret_approx_8 = min(simple_regret_approx_8)\n",
        "min_simple_regret_exact_8 = min(simple_regret_exact_8)\n",
        "\n",
        "min_simple_regret_approx_8, min_simple_regret_exact_8\n"
      ]
    },
    {
      "cell_type": "code",
      "execution_count": 61,
      "metadata": {
        "colab": {
          "base_uri": "https://localhost:8080/"
        },
        "id": "iBuMpq59JLlO",
        "outputId": "8fdea26d-33d3-4e9e-9095-67eb6b930eb5"
      },
      "outputs": [
        {
          "output_type": "execute_result",
          "data": {
            "text/plain": [
              "(-0.03500236543565779, -2.308064508535467)"
            ]
          },
          "metadata": {},
          "execution_count": 61
        }
      ],
      "source": [
        "### Simple regret minimisation: run number = 9\n",
        "\n",
        "approx_output_9 = np.append(np.max(approx_9.GP.y[0:n_init]),approx_9.GP.y[n_init:(n_init+max_iter)]) \n",
        "exact_output_9 = np.append(np.max(exact_9.GP.y[0:n_init]),exact_9.GP.y[n_init:(n_init+max_iter)]) \n",
        "\n",
        "regret_approx_9 = np.log(y_global_orig - approx_output_9)\n",
        "regret_exact_9 = np.log(y_global_orig - exact_output_9)\n",
        "\n",
        "simple_regret_approx_9 = min_array(regret_approx_9)\n",
        "simple_regret_exact_9 = min_array(regret_exact_9)\n",
        "\n",
        "min_simple_regret_approx_9 = min(simple_regret_approx_9)\n",
        "min_simple_regret_exact_9 = min(simple_regret_exact_9)\n",
        "\n",
        "min_simple_regret_approx_9, min_simple_regret_exact_9\n"
      ]
    },
    {
      "cell_type": "code",
      "execution_count": 62,
      "metadata": {
        "colab": {
          "base_uri": "https://localhost:8080/"
        },
        "id": "MT-MYaKEJLlO",
        "outputId": "565c8fd3-7d66-4979-eec4-c9ec085b0a50"
      },
      "outputs": [
        {
          "output_type": "execute_result",
          "data": {
            "text/plain": [
              "(0.23288088207270655, -1.715961409246572)"
            ]
          },
          "metadata": {},
          "execution_count": 62
        }
      ],
      "source": [
        "### Simple regret minimisation: run number = 10\n",
        "\n",
        "approx_output_10 = np.append(np.max(approx_10.GP.y[0:n_init]),approx_10.GP.y[n_init:(n_init+max_iter)]) \n",
        "exact_output_10 = np.append(np.max(exact_10.GP.y[0:n_init]),exact_10.GP.y[n_init:(n_init+max_iter)]) \n",
        "\n",
        "regret_approx_10 = np.log(y_global_orig - approx_output_10)\n",
        "regret_exact_10 = np.log(y_global_orig - exact_output_10)\n",
        "\n",
        "simple_regret_approx_10 = min_array(regret_approx_10)\n",
        "simple_regret_exact_10 = min_array(regret_exact_10)\n",
        "\n",
        "min_simple_regret_approx_10 = min(simple_regret_approx_10)\n",
        "min_simple_regret_exact_10 = min(simple_regret_exact_10)\n",
        "\n",
        "min_simple_regret_approx_10, min_simple_regret_exact_10\n"
      ]
    },
    {
      "cell_type": "code",
      "execution_count": 63,
      "metadata": {
        "colab": {
          "base_uri": "https://localhost:8080/"
        },
        "id": "JgXNMHBOJLlP",
        "outputId": "f7d44aaa-9a23-401d-895d-d91f25ddfee8"
      },
      "outputs": [
        {
          "output_type": "execute_result",
          "data": {
            "text/plain": [
              "(-0.9010790823704407, -1.114233240672264)"
            ]
          },
          "metadata": {},
          "execution_count": 63
        }
      ],
      "source": [
        "### Simple regret minimisation: run number = 11\n",
        "\n",
        "approx_output_11 = np.append(np.max(approx_11.GP.y[0:n_init]),approx_11.GP.y[n_init:(n_init+max_iter)]) \n",
        "exact_output_11 = np.append(np.max(exact_11.GP.y[0:n_init]),exact_11.GP.y[n_init:(n_init+max_iter)]) \n",
        "\n",
        "regret_approx_11 = np.log(y_global_orig - approx_output_11)\n",
        "regret_exact_11 = np.log(y_global_orig - exact_output_11)\n",
        "\n",
        "simple_regret_approx_11 = min_array(regret_approx_11)\n",
        "simple_regret_exact_11 = min_array(regret_exact_11)\n",
        "\n",
        "min_simple_regret_approx_11 = min(simple_regret_approx_11)\n",
        "min_simple_regret_exact_11 = min(simple_regret_exact_11)\n",
        "\n",
        "min_simple_regret_approx_11, min_simple_regret_exact_11\n"
      ]
    },
    {
      "cell_type": "code",
      "execution_count": 64,
      "metadata": {
        "colab": {
          "base_uri": "https://localhost:8080/"
        },
        "id": "CNvnLAXOJLlQ",
        "outputId": "086fb497-84ae-43b9-ec85-279d1b4d667f"
      },
      "outputs": [
        {
          "output_type": "execute_result",
          "data": {
            "text/plain": [
              "(0.23694425972585687, 0.11242418097637234)"
            ]
          },
          "metadata": {},
          "execution_count": 64
        }
      ],
      "source": [
        "### Simple regret minimisation: run number = 12\n",
        "\n",
        "approx_output_12 = np.append(np.max(approx_12.GP.y[0:n_init]),approx_12.GP.y[n_init:(n_init+max_iter)]) \n",
        "exact_output_12 = np.append(np.max(exact_12.GP.y[0:n_init]),exact_12.GP.y[n_init:(n_init+max_iter)]) \n",
        "\n",
        "regret_approx_12 = np.log(y_global_orig - approx_output_12)\n",
        "regret_exact_12 = np.log(y_global_orig - exact_output_12)\n",
        "\n",
        "simple_regret_approx_12 = min_array(regret_approx_12)\n",
        "simple_regret_exact_12 = min_array(regret_exact_12)\n",
        "\n",
        "min_simple_regret_approx_12 = min(simple_regret_approx_12)\n",
        "min_simple_regret_exact_12 = min(simple_regret_exact_12)\n",
        "\n",
        "min_simple_regret_approx_12, min_simple_regret_exact_12\n"
      ]
    },
    {
      "cell_type": "code",
      "execution_count": 65,
      "metadata": {
        "colab": {
          "base_uri": "https://localhost:8080/"
        },
        "id": "LccPP2SJJLlQ",
        "outputId": "d7d1b8a3-3218-4644-bbbf-fb90cd27a4ab"
      },
      "outputs": [
        {
          "output_type": "execute_result",
          "data": {
            "text/plain": [
              "(-1.9189340411308784, -3.098925676781255)"
            ]
          },
          "metadata": {},
          "execution_count": 65
        }
      ],
      "source": [
        "### Simple regret minimisation: run number = 13\n",
        "\n",
        "approx_output_13 = np.append(np.max(approx_13.GP.y[0:n_init]),approx_13.GP.y[n_init:(n_init+max_iter)]) \n",
        "exact_output_13 = np.append(np.max(exact_13.GP.y[0:n_init]),exact_13.GP.y[n_init:(n_init+max_iter)]) \n",
        "\n",
        "regret_approx_13 = np.log(y_global_orig - approx_output_13)\n",
        "regret_exact_13 = np.log(y_global_orig - exact_output_13)\n",
        "\n",
        "simple_regret_approx_13 = min_array(regret_approx_13)\n",
        "simple_regret_exact_13 = min_array(regret_exact_13)\n",
        "\n",
        "min_simple_regret_approx_13 = min(simple_regret_approx_13)\n",
        "min_simple_regret_exact_13 = min(simple_regret_exact_13)\n",
        "\n",
        "min_simple_regret_approx_13, min_simple_regret_exact_13\n"
      ]
    },
    {
      "cell_type": "code",
      "execution_count": 66,
      "metadata": {
        "colab": {
          "base_uri": "https://localhost:8080/"
        },
        "id": "OsCDbV_CJLlR",
        "outputId": "6a949f66-67dc-4212-a64a-7e91e33324a9"
      },
      "outputs": [
        {
          "output_type": "execute_result",
          "data": {
            "text/plain": [
              "(-6.074727392833108, -6.074727392833108)"
            ]
          },
          "metadata": {},
          "execution_count": 66
        }
      ],
      "source": [
        "### Simple regret minimisation: run number = 14\n",
        "\n",
        "approx_output_14 = np.append(np.max(approx_14.GP.y[0:n_init]),approx_14.GP.y[n_init:(n_init+max_iter)]) \n",
        "exact_output_14 = np.append(np.max(exact_14.GP.y[0:n_init]),exact_14.GP.y[n_init:(n_init+max_iter)]) \n",
        "\n",
        "regret_approx_14 = np.log(y_global_orig - approx_output_14)\n",
        "regret_exact_14 = np.log(y_global_orig - exact_output_14)\n",
        "\n",
        "simple_regret_approx_14 = min_array(regret_approx_14)\n",
        "simple_regret_exact_14 = min_array(regret_exact_14)\n",
        "\n",
        "min_simple_regret_approx_14 = min(simple_regret_approx_14)\n",
        "min_simple_regret_exact_14 = min(simple_regret_exact_14)\n",
        "\n",
        "min_simple_regret_approx_14, min_simple_regret_exact_14\n"
      ]
    },
    {
      "cell_type": "code",
      "execution_count": 67,
      "metadata": {
        "colab": {
          "base_uri": "https://localhost:8080/"
        },
        "id": "HVNGSKzNJLlR",
        "outputId": "48e76116-0c70-492e-ea2f-3eb99a079699"
      },
      "outputs": [
        {
          "output_type": "execute_result",
          "data": {
            "text/plain": [
              "(0.07212470257012685, 0.04583613435076517)"
            ]
          },
          "metadata": {},
          "execution_count": 67
        }
      ],
      "source": [
        "### Simple regret minimisation: run number = 15\n",
        "\n",
        "approx_output_15 = np.append(np.max(approx_15.GP.y[0:n_init]),approx_15.GP.y[n_init:(n_init+max_iter)]) \n",
        "exact_output_15 = np.append(np.max(exact_15.GP.y[0:n_init]),exact_15.GP.y[n_init:(n_init+max_iter)]) \n",
        "\n",
        "regret_approx_15 = np.log(y_global_orig - approx_output_15)\n",
        "regret_exact_15 = np.log(y_global_orig - exact_output_15)\n",
        "\n",
        "simple_regret_approx_15 = min_array(regret_approx_15)\n",
        "simple_regret_exact_15 = min_array(regret_exact_15)\n",
        "\n",
        "min_simple_regret_approx_15 = min(simple_regret_approx_15)\n",
        "min_simple_regret_exact_15 = min(simple_regret_exact_15)\n",
        "\n",
        "min_simple_regret_approx_15, min_simple_regret_exact_15\n"
      ]
    },
    {
      "cell_type": "code",
      "execution_count": 68,
      "metadata": {
        "colab": {
          "base_uri": "https://localhost:8080/"
        },
        "id": "vFT0-DcpJLlS",
        "outputId": "17092114-648a-44b3-c9da-b69d2541e5fd"
      },
      "outputs": [
        {
          "output_type": "execute_result",
          "data": {
            "text/plain": [
              "(1.039479277229328, 0.021252512399301267)"
            ]
          },
          "metadata": {},
          "execution_count": 68
        }
      ],
      "source": [
        "### Simple regret minimisation: run number = 16\n",
        "\n",
        "approx_output_16 = np.append(np.max(approx_16.GP.y[0:n_init]),approx_16.GP.y[n_init:(n_init+max_iter)]) \n",
        "exact_output_16 = np.append(np.max(exact_16.GP.y[0:n_init]),exact_16.GP.y[n_init:(n_init+max_iter)]) \n",
        "\n",
        "regret_approx_16 = np.log(y_global_orig - approx_output_16)\n",
        "regret_exact_16 = np.log(y_global_orig - exact_output_16)\n",
        "\n",
        "simple_regret_approx_16 = min_array(regret_approx_16)\n",
        "simple_regret_exact_16 = min_array(regret_exact_16)\n",
        "\n",
        "min_simple_regret_approx_16 = min(simple_regret_approx_16)\n",
        "min_simple_regret_exact_16 = min(simple_regret_exact_16)\n",
        "\n",
        "min_simple_regret_approx_16, min_simple_regret_exact_16\n"
      ]
    },
    {
      "cell_type": "code",
      "execution_count": 69,
      "metadata": {
        "colab": {
          "base_uri": "https://localhost:8080/"
        },
        "id": "TPbl73U3JLlS",
        "outputId": "15d040a4-a908-4530-d5ea-58ff3996a289"
      },
      "outputs": [
        {
          "output_type": "execute_result",
          "data": {
            "text/plain": [
              "(-0.055523946348320315, -3.7104768208036245)"
            ]
          },
          "metadata": {},
          "execution_count": 69
        }
      ],
      "source": [
        "### Simple regret minimisation: run number = 17\n",
        "\n",
        "approx_output_17 = np.append(np.max(approx_17.GP.y[0:n_init]),approx_17.GP.y[n_init:(n_init+max_iter)]) \n",
        "exact_output_17 = np.append(np.max(exact_17.GP.y[0:n_init]),exact_17.GP.y[n_init:(n_init+max_iter)]) \n",
        "\n",
        "regret_approx_17 = np.log(y_global_orig - approx_output_17)\n",
        "regret_exact_17 = np.log(y_global_orig - exact_output_17)\n",
        "\n",
        "simple_regret_approx_17 = min_array(regret_approx_17)\n",
        "simple_regret_exact_17 = min_array(regret_exact_17)\n",
        "\n",
        "min_simple_regret_approx_17 = min(simple_regret_approx_17)\n",
        "min_simple_regret_exact_17 = min(simple_regret_exact_17)\n",
        "\n",
        "min_simple_regret_approx_17, min_simple_regret_exact_17\n"
      ]
    },
    {
      "cell_type": "code",
      "execution_count": 70,
      "metadata": {
        "colab": {
          "base_uri": "https://localhost:8080/"
        },
        "id": "ANjpLP7uJLlT",
        "outputId": "c37527d0-a509-4a94-f434-9b9c7e55d459"
      },
      "outputs": [
        {
          "output_type": "execute_result",
          "data": {
            "text/plain": [
              "(-0.25645327829802333, -0.5314644193063522)"
            ]
          },
          "metadata": {},
          "execution_count": 70
        }
      ],
      "source": [
        "### Simple regret minimisation: run number = 18\n",
        "\n",
        "approx_output_18 = np.append(np.max(approx_18.GP.y[0:n_init]),approx_18.GP.y[n_init:(n_init+max_iter)]) \n",
        "exact_output_18 = np.append(np.max(exact_18.GP.y[0:n_init]),exact_18.GP.y[n_init:(n_init+max_iter)]) \n",
        "\n",
        "regret_approx_18 = np.log(y_global_orig - approx_output_18)\n",
        "regret_exact_18 = np.log(y_global_orig - exact_output_18)\n",
        "\n",
        "simple_regret_approx_18 = min_array(regret_approx_18)\n",
        "simple_regret_exact_18 = min_array(regret_exact_18)\n",
        "\n",
        "min_simple_regret_approx_18 = min(simple_regret_approx_18)\n",
        "min_simple_regret_exact_18 = min(simple_regret_exact_18)\n",
        "\n",
        "min_simple_regret_approx_18, min_simple_regret_exact_18\n"
      ]
    },
    {
      "cell_type": "code",
      "execution_count": 71,
      "metadata": {
        "colab": {
          "base_uri": "https://localhost:8080/"
        },
        "id": "yYy7bHMOJLlT",
        "outputId": "76684a9e-56c4-462d-b2ae-40fe5c72bff9"
      },
      "outputs": [
        {
          "output_type": "execute_result",
          "data": {
            "text/plain": [
              "(-0.02299266239598735, -0.02543456866139696)"
            ]
          },
          "metadata": {},
          "execution_count": 71
        }
      ],
      "source": [
        "### Simple regret minimisation: run number = 19\n",
        "\n",
        "approx_output_19 = np.append(np.max(approx_19.GP.y[0:n_init]),approx_19.GP.y[n_init:(n_init+max_iter)]) \n",
        "exact_output_19 = np.append(np.max(exact_19.GP.y[0:n_init]),exact_19.GP.y[n_init:(n_init+max_iter)]) \n",
        "\n",
        "regret_approx_19 = np.log(y_global_orig - approx_output_19)\n",
        "regret_exact_19 = np.log(y_global_orig - exact_output_19)\n",
        "\n",
        "simple_regret_approx_19 = min_array(regret_approx_19)\n",
        "simple_regret_exact_19 = min_array(regret_exact_19)\n",
        "\n",
        "min_simple_regret_approx_19 = min(simple_regret_approx_19)\n",
        "min_simple_regret_exact_19 = min(simple_regret_exact_19)\n",
        "\n",
        "min_simple_regret_approx_19, min_simple_regret_exact_19\n"
      ]
    },
    {
      "cell_type": "code",
      "execution_count": 72,
      "metadata": {
        "colab": {
          "base_uri": "https://localhost:8080/"
        },
        "id": "7h8DTQ7MJLlU",
        "outputId": "7dfdc54a-dc6d-4434-c606-a31d88d64798"
      },
      "outputs": [
        {
          "output_type": "execute_result",
          "data": {
            "text/plain": [
              "(0.2098147703936484, -0.0787549835201568)"
            ]
          },
          "metadata": {},
          "execution_count": 72
        }
      ],
      "source": [
        "### Simple regret minimisation: run number = 20\n",
        "\n",
        "approx_output_20 = np.append(np.max(approx_20.GP.y[0:n_init]),approx_20.GP.y[n_init:(n_init+max_iter)]) \n",
        "exact_output_20 = np.append(np.max(exact_20.GP.y[0:n_init]),exact_20.GP.y[n_init:(n_init+max_iter)]) \n",
        "\n",
        "regret_approx_20 = np.log(y_global_orig - approx_output_20)\n",
        "regret_exact_20 = np.log(y_global_orig - exact_output_20)\n",
        "\n",
        "simple_regret_approx_20 = min_array(regret_approx_20)\n",
        "simple_regret_exact_20 = min_array(regret_exact_20)\n",
        "\n",
        "min_simple_regret_approx_20 = min(simple_regret_approx_20)\n",
        "min_simple_regret_exact_20 = min(simple_regret_exact_20)\n",
        "\n",
        "min_simple_regret_approx_20, min_simple_regret_exact_20\n"
      ]
    },
    {
      "cell_type": "code",
      "execution_count": 73,
      "metadata": {
        "id": "FuTVzVQkJLlU"
      },
      "outputs": [],
      "source": [
        "# Iteration1 :\n",
        "\n",
        "slice1 = 0\n",
        "\n",
        "approx1 = [simple_regret_approx_1[slice1],\n",
        "       simple_regret_approx_2[slice1],\n",
        "       simple_regret_approx_3[slice1],\n",
        "       simple_regret_approx_4[slice1],\n",
        "       simple_regret_approx_5[slice1],\n",
        "       simple_regret_approx_6[slice1],\n",
        "       simple_regret_approx_7[slice1],\n",
        "       simple_regret_approx_8[slice1],\n",
        "       simple_regret_approx_9[slice1],\n",
        "       simple_regret_approx_10[slice1],\n",
        "       simple_regret_approx_11[slice1],\n",
        "       simple_regret_approx_12[slice1],\n",
        "       simple_regret_approx_13[slice1],\n",
        "       simple_regret_approx_14[slice1],\n",
        "       simple_regret_approx_15[slice1],\n",
        "       simple_regret_approx_16[slice1],\n",
        "       simple_regret_approx_17[slice1],\n",
        "       simple_regret_approx_18[slice1],\n",
        "       simple_regret_approx_19[slice1],\n",
        "       simple_regret_approx_20[slice1]]\n",
        "\n",
        "exact1 = [simple_regret_exact_1[slice1],\n",
        "       simple_regret_exact_2[slice1],\n",
        "       simple_regret_exact_3[slice1],\n",
        "       simple_regret_exact_4[slice1],\n",
        "       simple_regret_exact_5[slice1],\n",
        "       simple_regret_exact_6[slice1],\n",
        "       simple_regret_exact_7[slice1],\n",
        "       simple_regret_exact_8[slice1],\n",
        "       simple_regret_exact_9[slice1],\n",
        "       simple_regret_exact_10[slice1],\n",
        "       simple_regret_exact_11[slice1],\n",
        "       simple_regret_exact_12[slice1],\n",
        "       simple_regret_exact_13[slice1],\n",
        "       simple_regret_exact_14[slice1],\n",
        "       simple_regret_exact_15[slice1],\n",
        "       simple_regret_exact_16[slice1],\n",
        "       simple_regret_exact_17[slice1],\n",
        "       simple_regret_exact_18[slice1],\n",
        "       simple_regret_exact_19[slice1],\n",
        "       simple_regret_exact_20[slice1]]\n",
        "\n",
        "approx1_results = pd.DataFrame(approx1).sort_values(by=[0], ascending=False)\n",
        "exact1_results = pd.DataFrame(exact1).sort_values(by=[0], ascending=False)\n",
        "\n",
        "### Best simple regret minimization IQR - approx:\n",
        "lower_approx1 = np.asarray(approx1_results[4:5][0])[0]\n",
        "median_approx1 = np.asarray(approx1_results[9:10][0])[0]\n",
        "upper_approx1 = np.asarray(approx1_results[14:15][0])[0]\n",
        "\n",
        "lower_exact1 = np.asarray(exact1_results[4:5][0])[0]\n",
        "median_exact1 = np.asarray(exact1_results[9:10][0])[0]\n",
        "upper_exact1 = np.asarray(exact1_results[14:15][0])[0]\n"
      ]
    },
    {
      "cell_type": "code",
      "execution_count": 74,
      "metadata": {
        "id": "OCTtqlBHJLlV"
      },
      "outputs": [],
      "source": [
        "# Iteration11 :\n",
        "\n",
        "slice11 = 10\n",
        "\n",
        "approx11 = [simple_regret_approx_1[slice11],\n",
        "       simple_regret_approx_2[slice11],\n",
        "       simple_regret_approx_3[slice11],\n",
        "       simple_regret_approx_4[slice11],\n",
        "       simple_regret_approx_5[slice11],\n",
        "       simple_regret_approx_6[slice11],\n",
        "       simple_regret_approx_7[slice11],\n",
        "       simple_regret_approx_8[slice11],\n",
        "       simple_regret_approx_9[slice11],\n",
        "       simple_regret_approx_10[slice11],\n",
        "       simple_regret_approx_11[slice11],\n",
        "       simple_regret_approx_12[slice11],\n",
        "       simple_regret_approx_13[slice11],\n",
        "       simple_regret_approx_14[slice11],\n",
        "       simple_regret_approx_15[slice11],\n",
        "       simple_regret_approx_16[slice11],\n",
        "       simple_regret_approx_17[slice11],\n",
        "       simple_regret_approx_18[slice11],\n",
        "       simple_regret_approx_19[slice11],\n",
        "       simple_regret_approx_20[slice11]]\n",
        "\n",
        "exact11 = [simple_regret_exact_1[slice11],\n",
        "       simple_regret_exact_2[slice11],\n",
        "       simple_regret_exact_3[slice11],\n",
        "       simple_regret_exact_4[slice11],\n",
        "       simple_regret_exact_5[slice11],\n",
        "       simple_regret_exact_6[slice11],\n",
        "       simple_regret_exact_7[slice11],\n",
        "       simple_regret_exact_8[slice11],\n",
        "       simple_regret_exact_9[slice11],\n",
        "       simple_regret_exact_10[slice11],\n",
        "       simple_regret_exact_11[slice11],\n",
        "       simple_regret_exact_12[slice11],\n",
        "       simple_regret_exact_13[slice11],\n",
        "       simple_regret_exact_14[slice11],\n",
        "       simple_regret_exact_15[slice11],\n",
        "       simple_regret_exact_16[slice11],\n",
        "       simple_regret_exact_17[slice11],\n",
        "       simple_regret_exact_18[slice11],\n",
        "       simple_regret_exact_19[slice11],\n",
        "       simple_regret_exact_20[slice11]]\n",
        "\n",
        "approx11_results = pd.DataFrame(approx11).sort_values(by=[0], ascending=False)\n",
        "exact11_results = pd.DataFrame(exact11).sort_values(by=[0], ascending=False)\n",
        "\n",
        "### Best simple regret minimization IQR - approx:\n",
        "lower_approx11 = np.asarray(approx11_results[4:5][0])[0]\n",
        "median_approx11 = np.asarray(approx11_results[9:10][0])[0]\n",
        "upper_approx11 = np.asarray(approx11_results[14:15][0])[0]\n",
        "\n",
        "lower_exact11 = np.asarray(exact11_results[4:5][0])[0]\n",
        "median_exact11 = np.asarray(exact11_results[9:10][0])[0]\n",
        "upper_exact11 = np.asarray(exact11_results[14:15][0])[0]\n"
      ]
    },
    {
      "cell_type": "code",
      "execution_count": 75,
      "metadata": {
        "id": "OhneK6K5JLlV"
      },
      "outputs": [],
      "source": [
        "# Iteration21 :\n",
        "\n",
        "slice21 = 20\n",
        "\n",
        "approx21 = [simple_regret_approx_1[slice21],\n",
        "       simple_regret_approx_2[slice21],\n",
        "       simple_regret_approx_3[slice21],\n",
        "       simple_regret_approx_4[slice21],\n",
        "       simple_regret_approx_5[slice21],\n",
        "       simple_regret_approx_6[slice21],\n",
        "       simple_regret_approx_7[slice21],\n",
        "       simple_regret_approx_8[slice21],\n",
        "       simple_regret_approx_9[slice21],\n",
        "       simple_regret_approx_10[slice21],\n",
        "       simple_regret_approx_11[slice21],\n",
        "       simple_regret_approx_12[slice21],\n",
        "       simple_regret_approx_13[slice21],\n",
        "       simple_regret_approx_14[slice21],\n",
        "       simple_regret_approx_15[slice21],\n",
        "       simple_regret_approx_16[slice21],\n",
        "       simple_regret_approx_17[slice21],\n",
        "       simple_regret_approx_18[slice21],\n",
        "       simple_regret_approx_19[slice21],\n",
        "       simple_regret_approx_20[slice21]]\n",
        "\n",
        "exact21 = [simple_regret_exact_1[slice21],\n",
        "       simple_regret_exact_2[slice21],\n",
        "       simple_regret_exact_3[slice21],\n",
        "       simple_regret_exact_4[slice21],\n",
        "       simple_regret_exact_5[slice21],\n",
        "       simple_regret_exact_6[slice21],\n",
        "       simple_regret_exact_7[slice21],\n",
        "       simple_regret_exact_8[slice21],\n",
        "       simple_regret_exact_9[slice21],\n",
        "       simple_regret_exact_10[slice21],\n",
        "       simple_regret_exact_11[slice21],\n",
        "       simple_regret_exact_12[slice21],\n",
        "       simple_regret_exact_13[slice21],\n",
        "       simple_regret_exact_14[slice21],\n",
        "       simple_regret_exact_15[slice21],\n",
        "       simple_regret_exact_16[slice21],\n",
        "       simple_regret_exact_17[slice21],\n",
        "       simple_regret_exact_18[slice21],\n",
        "       simple_regret_exact_19[slice21],\n",
        "       simple_regret_exact_20[slice21]]\n",
        "\n",
        "approx21_results = pd.DataFrame(approx21).sort_values(by=[0], ascending=False)\n",
        "exact21_results = pd.DataFrame(exact21).sort_values(by=[0], ascending=False)\n",
        "\n",
        "### Best simple regret minimization IQR - approx:\n",
        "lower_approx21 = np.asarray(approx21_results[4:5][0])[0]\n",
        "median_approx21 = np.asarray(approx21_results[9:10][0])[0]\n",
        "upper_approx21 = np.asarray(approx21_results[14:15][0])[0]\n",
        "\n",
        "lower_exact21 = np.asarray(exact21_results[4:5][0])[0]\n",
        "median_exact21 = np.asarray(exact21_results[9:10][0])[0]\n",
        "upper_exact21 = np.asarray(exact21_results[14:15][0])[0]\n"
      ]
    },
    {
      "cell_type": "code",
      "execution_count": 76,
      "metadata": {
        "id": "wetKUCmLJLlb"
      },
      "outputs": [],
      "source": [
        "# Iteration2 :\n",
        "\n",
        "slice2 = 1\n",
        "\n",
        "approx2 = [simple_regret_approx_1[slice2],\n",
        "       simple_regret_approx_2[slice2],\n",
        "       simple_regret_approx_3[slice2],\n",
        "       simple_regret_approx_4[slice2],\n",
        "       simple_regret_approx_5[slice2],\n",
        "       simple_regret_approx_6[slice2],\n",
        "       simple_regret_approx_7[slice2],\n",
        "       simple_regret_approx_8[slice2],\n",
        "       simple_regret_approx_9[slice2],\n",
        "       simple_regret_approx_10[slice2],\n",
        "       simple_regret_approx_11[slice2],\n",
        "       simple_regret_approx_12[slice2],\n",
        "       simple_regret_approx_13[slice2],\n",
        "       simple_regret_approx_14[slice2],\n",
        "       simple_regret_approx_15[slice2],\n",
        "       simple_regret_approx_16[slice2],\n",
        "       simple_regret_approx_17[slice2],\n",
        "       simple_regret_approx_18[slice2],\n",
        "       simple_regret_approx_19[slice2],\n",
        "       simple_regret_approx_20[slice2]]\n",
        "\n",
        "exact2 = [simple_regret_exact_1[slice2],\n",
        "       simple_regret_exact_2[slice2],\n",
        "       simple_regret_exact_3[slice2],\n",
        "       simple_regret_exact_4[slice2],\n",
        "       simple_regret_exact_5[slice2],\n",
        "       simple_regret_exact_6[slice2],\n",
        "       simple_regret_exact_7[slice2],\n",
        "       simple_regret_exact_8[slice2],\n",
        "       simple_regret_exact_9[slice2],\n",
        "       simple_regret_exact_10[slice2],\n",
        "       simple_regret_exact_11[slice2],\n",
        "       simple_regret_exact_12[slice2],\n",
        "       simple_regret_exact_13[slice2],\n",
        "       simple_regret_exact_14[slice2],\n",
        "       simple_regret_exact_15[slice2],\n",
        "       simple_regret_exact_16[slice2],\n",
        "       simple_regret_exact_17[slice2],\n",
        "       simple_regret_exact_18[slice2],\n",
        "       simple_regret_exact_19[slice2],\n",
        "       simple_regret_exact_20[slice2]]\n",
        "\n",
        "approx2_results = pd.DataFrame(approx2).sort_values(by=[0], ascending=False)\n",
        "exact2_results = pd.DataFrame(exact2).sort_values(by=[0], ascending=False)\n",
        "\n",
        "### Best simple regret minimization IQR - approx:\n",
        "lower_approx2 = np.asarray(approx2_results[4:5][0])[0]\n",
        "median_approx2 = np.asarray(approx2_results[9:10][0])[0]\n",
        "upper_approx2 = np.asarray(approx2_results[14:15][0])[0]\n",
        "\n",
        "lower_exact2 = np.asarray(exact2_results[4:5][0])[0]\n",
        "median_exact2 = np.asarray(exact2_results[9:10][0])[0]\n",
        "upper_exact2 = np.asarray(exact2_results[14:15][0])[0]\n"
      ]
    },
    {
      "cell_type": "code",
      "execution_count": 77,
      "metadata": {
        "id": "8dIyaTLKJLlc"
      },
      "outputs": [],
      "source": [
        "# Iteration12 :\n",
        "\n",
        "slice12 = 11\n",
        "\n",
        "approx12 = [simple_regret_approx_1[slice12],\n",
        "       simple_regret_approx_2[slice12],\n",
        "       simple_regret_approx_3[slice12],\n",
        "       simple_regret_approx_4[slice12],\n",
        "       simple_regret_approx_5[slice12],\n",
        "       simple_regret_approx_6[slice12],\n",
        "       simple_regret_approx_7[slice12],\n",
        "       simple_regret_approx_8[slice12],\n",
        "       simple_regret_approx_9[slice12],\n",
        "       simple_regret_approx_10[slice12],\n",
        "       simple_regret_approx_11[slice12],\n",
        "       simple_regret_approx_12[slice12],\n",
        "       simple_regret_approx_13[slice12],\n",
        "       simple_regret_approx_14[slice12],\n",
        "       simple_regret_approx_15[slice12],\n",
        "       simple_regret_approx_16[slice12],\n",
        "       simple_regret_approx_17[slice12],\n",
        "       simple_regret_approx_18[slice12],\n",
        "       simple_regret_approx_19[slice12],\n",
        "       simple_regret_approx_20[slice12]]\n",
        "\n",
        "exact12 = [simple_regret_exact_1[slice12],\n",
        "       simple_regret_exact_2[slice12],\n",
        "       simple_regret_exact_3[slice12],\n",
        "       simple_regret_exact_4[slice12],\n",
        "       simple_regret_exact_5[slice12],\n",
        "       simple_regret_exact_6[slice12],\n",
        "       simple_regret_exact_7[slice12],\n",
        "       simple_regret_exact_8[slice12],\n",
        "       simple_regret_exact_9[slice12],\n",
        "       simple_regret_exact_10[slice12],\n",
        "       simple_regret_exact_11[slice12],\n",
        "       simple_regret_exact_12[slice12],\n",
        "       simple_regret_exact_13[slice12],\n",
        "       simple_regret_exact_14[slice12],\n",
        "       simple_regret_exact_15[slice12],\n",
        "       simple_regret_exact_16[slice12],\n",
        "       simple_regret_exact_17[slice12],\n",
        "       simple_regret_exact_18[slice12],\n",
        "       simple_regret_exact_19[slice12],\n",
        "       simple_regret_exact_20[slice12]]\n",
        "\n",
        "approx12_results = pd.DataFrame(approx12).sort_values(by=[0], ascending=False)\n",
        "exact12_results = pd.DataFrame(exact12).sort_values(by=[0], ascending=False)\n",
        "\n",
        "### Best simple regret minimization IQR - approx:\n",
        "lower_approx12 = np.asarray(approx12_results[4:5][0])[0]\n",
        "median_approx12 = np.asarray(approx12_results[9:10][0])[0]\n",
        "upper_approx12 = np.asarray(approx12_results[14:15][0])[0]\n",
        "\n",
        "lower_exact12 = np.asarray(exact12_results[4:5][0])[0]\n",
        "median_exact12 = np.asarray(exact12_results[9:10][0])[0]\n",
        "upper_exact12 = np.asarray(exact12_results[14:15][0])[0]\n"
      ]
    },
    {
      "cell_type": "code",
      "execution_count": 78,
      "metadata": {
        "id": "1_6u8LF1JLlt"
      },
      "outputs": [],
      "source": [
        "# Iteration3 :\n",
        "\n",
        "slice3 = 2\n",
        "\n",
        "approx3 = [simple_regret_approx_1[slice3],\n",
        "       simple_regret_approx_2[slice3],\n",
        "       simple_regret_approx_3[slice3],\n",
        "       simple_regret_approx_4[slice3],\n",
        "       simple_regret_approx_5[slice3],\n",
        "       simple_regret_approx_6[slice3],\n",
        "       simple_regret_approx_7[slice3],\n",
        "       simple_regret_approx_8[slice3],\n",
        "       simple_regret_approx_9[slice3],\n",
        "       simple_regret_approx_10[slice3],\n",
        "       simple_regret_approx_11[slice3],\n",
        "       simple_regret_approx_12[slice3],\n",
        "       simple_regret_approx_13[slice3],\n",
        "       simple_regret_approx_14[slice3],\n",
        "       simple_regret_approx_15[slice3],\n",
        "       simple_regret_approx_16[slice3],\n",
        "       simple_regret_approx_17[slice3],\n",
        "       simple_regret_approx_18[slice3],\n",
        "       simple_regret_approx_19[slice3],\n",
        "       simple_regret_approx_20[slice3]]\n",
        "\n",
        "exact3 = [simple_regret_exact_1[slice3],\n",
        "       simple_regret_exact_2[slice3],\n",
        "       simple_regret_exact_3[slice3],\n",
        "       simple_regret_exact_4[slice3],\n",
        "       simple_regret_exact_5[slice3],\n",
        "       simple_regret_exact_6[slice3],\n",
        "       simple_regret_exact_7[slice3],\n",
        "       simple_regret_exact_8[slice3],\n",
        "       simple_regret_exact_9[slice3],\n",
        "       simple_regret_exact_10[slice3],\n",
        "       simple_regret_exact_11[slice3],\n",
        "       simple_regret_exact_12[slice3],\n",
        "       simple_regret_exact_13[slice3],\n",
        "       simple_regret_exact_14[slice3],\n",
        "       simple_regret_exact_15[slice3],\n",
        "       simple_regret_exact_16[slice3],\n",
        "       simple_regret_exact_17[slice3],\n",
        "       simple_regret_exact_18[slice3],\n",
        "       simple_regret_exact_19[slice3],\n",
        "       simple_regret_exact_20[slice3]]\n",
        "\n",
        "approx3_results = pd.DataFrame(approx3).sort_values(by=[0], ascending=False)\n",
        "exact3_results = pd.DataFrame(exact3).sort_values(by=[0], ascending=False)\n",
        "\n",
        "### Best simple regret minimization IQR - approx:\n",
        "lower_approx3 = np.asarray(approx3_results[4:5][0])[0]\n",
        "median_approx3 = np.asarray(approx3_results[9:10][0])[0]\n",
        "upper_approx3 = np.asarray(approx3_results[14:15][0])[0]\n",
        "\n",
        "lower_exact3 = np.asarray(exact3_results[4:5][0])[0]\n",
        "median_exact3 = np.asarray(exact3_results[9:10][0])[0]\n",
        "upper_exact3 = np.asarray(exact3_results[14:15][0])[0]\n"
      ]
    },
    {
      "cell_type": "code",
      "execution_count": 79,
      "metadata": {
        "id": "GGEAa73pJLlu"
      },
      "outputs": [],
      "source": [
        "# Iteration13 :\n",
        "\n",
        "slice13 = 12\n",
        "\n",
        "approx13 = [simple_regret_approx_1[slice13],\n",
        "       simple_regret_approx_2[slice13],\n",
        "       simple_regret_approx_3[slice13],\n",
        "       simple_regret_approx_4[slice13],\n",
        "       simple_regret_approx_5[slice13],\n",
        "       simple_regret_approx_6[slice13],\n",
        "       simple_regret_approx_7[slice13],\n",
        "       simple_regret_approx_8[slice13],\n",
        "       simple_regret_approx_9[slice13],\n",
        "       simple_regret_approx_10[slice13],\n",
        "       simple_regret_approx_11[slice13],\n",
        "       simple_regret_approx_12[slice13],\n",
        "       simple_regret_approx_13[slice13],\n",
        "       simple_regret_approx_14[slice13],\n",
        "       simple_regret_approx_15[slice13],\n",
        "       simple_regret_approx_16[slice13],\n",
        "       simple_regret_approx_17[slice13],\n",
        "       simple_regret_approx_18[slice13],\n",
        "       simple_regret_approx_19[slice13],\n",
        "       simple_regret_approx_20[slice13]]\n",
        "\n",
        "exact13 = [simple_regret_exact_1[slice13],\n",
        "       simple_regret_exact_2[slice13],\n",
        "       simple_regret_exact_3[slice13],\n",
        "       simple_regret_exact_4[slice13],\n",
        "       simple_regret_exact_5[slice13],\n",
        "       simple_regret_exact_6[slice13],\n",
        "       simple_regret_exact_7[slice13],\n",
        "       simple_regret_exact_8[slice13],\n",
        "       simple_regret_exact_9[slice13],\n",
        "       simple_regret_exact_10[slice13],\n",
        "       simple_regret_exact_11[slice13],\n",
        "       simple_regret_exact_12[slice13],\n",
        "       simple_regret_exact_13[slice13],\n",
        "       simple_regret_exact_14[slice13],\n",
        "       simple_regret_exact_15[slice13],\n",
        "       simple_regret_exact_16[slice13],\n",
        "       simple_regret_exact_17[slice13],\n",
        "       simple_regret_exact_18[slice13],\n",
        "       simple_regret_exact_19[slice13],\n",
        "       simple_regret_exact_20[slice13]]\n",
        "\n",
        "approx13_results = pd.DataFrame(approx13).sort_values(by=[0], ascending=False)\n",
        "exact13_results = pd.DataFrame(exact13).sort_values(by=[0], ascending=False)\n",
        "\n",
        "### Best simple regret minimization IQR - approx:\n",
        "lower_approx13 = np.asarray(approx13_results[4:5][0])[0]\n",
        "median_approx13 = np.asarray(approx13_results[9:10][0])[0]\n",
        "upper_approx13 = np.asarray(approx13_results[14:15][0])[0]\n",
        "\n",
        "lower_exact13 = np.asarray(exact13_results[4:5][0])[0]\n",
        "median_exact13 = np.asarray(exact13_results[9:10][0])[0]\n",
        "upper_exact13 = np.asarray(exact13_results[14:15][0])[0]\n"
      ]
    },
    {
      "cell_type": "code",
      "execution_count": 80,
      "metadata": {
        "id": "T30xLxygJLl0"
      },
      "outputs": [],
      "source": [
        "# Iteration4 :\n",
        "\n",
        "slice4 = 3\n",
        "\n",
        "approx4 = [simple_regret_approx_1[slice4],\n",
        "       simple_regret_approx_2[slice4],\n",
        "       simple_regret_approx_3[slice4],\n",
        "       simple_regret_approx_4[slice4],\n",
        "       simple_regret_approx_5[slice4],\n",
        "       simple_regret_approx_6[slice4],\n",
        "       simple_regret_approx_7[slice4],\n",
        "       simple_regret_approx_8[slice4],\n",
        "       simple_regret_approx_9[slice4],\n",
        "       simple_regret_approx_10[slice4],\n",
        "       simple_regret_approx_11[slice4],\n",
        "       simple_regret_approx_12[slice4],\n",
        "       simple_regret_approx_13[slice4],\n",
        "       simple_regret_approx_14[slice4],\n",
        "       simple_regret_approx_15[slice4],\n",
        "       simple_regret_approx_16[slice4],\n",
        "       simple_regret_approx_17[slice4],\n",
        "       simple_regret_approx_18[slice4],\n",
        "       simple_regret_approx_19[slice4],\n",
        "       simple_regret_approx_20[slice4]]\n",
        "\n",
        "exact4 = [simple_regret_exact_1[slice4],\n",
        "       simple_regret_exact_2[slice4],\n",
        "       simple_regret_exact_3[slice4],\n",
        "       simple_regret_exact_4[slice4],\n",
        "       simple_regret_exact_5[slice4],\n",
        "       simple_regret_exact_6[slice4],\n",
        "       simple_regret_exact_7[slice4],\n",
        "       simple_regret_exact_8[slice4],\n",
        "       simple_regret_exact_9[slice4],\n",
        "       simple_regret_exact_10[slice4],\n",
        "       simple_regret_exact_11[slice4],\n",
        "       simple_regret_exact_12[slice4],\n",
        "       simple_regret_exact_13[slice4],\n",
        "       simple_regret_exact_14[slice4],\n",
        "       simple_regret_exact_15[slice4],\n",
        "       simple_regret_exact_16[slice4],\n",
        "       simple_regret_exact_17[slice4],\n",
        "       simple_regret_exact_18[slice4],\n",
        "       simple_regret_exact_19[slice4],\n",
        "       simple_regret_exact_20[slice4]]\n",
        "\n",
        "approx4_results = pd.DataFrame(approx4).sort_values(by=[0], ascending=False)\n",
        "exact4_results = pd.DataFrame(exact4).sort_values(by=[0], ascending=False)\n",
        "\n",
        "### Best simple regret minimization IQR - approx:\n",
        "lower_approx4 = np.asarray(approx4_results[4:5][0])[0]\n",
        "median_approx4 = np.asarray(approx4_results[9:10][0])[0]\n",
        "upper_approx4 = np.asarray(approx4_results[14:15][0])[0]\n",
        "\n",
        "lower_exact4 = np.asarray(exact4_results[4:5][0])[0]\n",
        "median_exact4 = np.asarray(exact4_results[9:10][0])[0]\n",
        "upper_exact4 = np.asarray(exact4_results[14:15][0])[0]\n"
      ]
    },
    {
      "cell_type": "code",
      "execution_count": 81,
      "metadata": {
        "id": "MQ-jpNrnJLl1"
      },
      "outputs": [],
      "source": [
        "# Iteration14 :\n",
        "\n",
        "slice14 = 13\n",
        "\n",
        "approx14 = [simple_regret_approx_1[slice14],\n",
        "       simple_regret_approx_2[slice14],\n",
        "       simple_regret_approx_3[slice14],\n",
        "       simple_regret_approx_4[slice14],\n",
        "       simple_regret_approx_5[slice14],\n",
        "       simple_regret_approx_6[slice14],\n",
        "       simple_regret_approx_7[slice14],\n",
        "       simple_regret_approx_8[slice14],\n",
        "       simple_regret_approx_9[slice14],\n",
        "       simple_regret_approx_10[slice14],\n",
        "       simple_regret_approx_11[slice14],\n",
        "       simple_regret_approx_12[slice14],\n",
        "       simple_regret_approx_13[slice14],\n",
        "       simple_regret_approx_14[slice14],\n",
        "       simple_regret_approx_15[slice14],\n",
        "       simple_regret_approx_16[slice14],\n",
        "       simple_regret_approx_17[slice14],\n",
        "       simple_regret_approx_18[slice14],\n",
        "       simple_regret_approx_19[slice14],\n",
        "       simple_regret_approx_20[slice14]]\n",
        "\n",
        "exact14 = [simple_regret_exact_1[slice14],\n",
        "       simple_regret_exact_2[slice14],\n",
        "       simple_regret_exact_3[slice14],\n",
        "       simple_regret_exact_4[slice14],\n",
        "       simple_regret_exact_5[slice14],\n",
        "       simple_regret_exact_6[slice14],\n",
        "       simple_regret_exact_7[slice14],\n",
        "       simple_regret_exact_8[slice14],\n",
        "       simple_regret_exact_9[slice14],\n",
        "       simple_regret_exact_10[slice14],\n",
        "       simple_regret_exact_11[slice14],\n",
        "       simple_regret_exact_12[slice14],\n",
        "       simple_regret_exact_13[slice14],\n",
        "       simple_regret_exact_14[slice14],\n",
        "       simple_regret_exact_15[slice14],\n",
        "       simple_regret_exact_16[slice14],\n",
        "       simple_regret_exact_17[slice14],\n",
        "       simple_regret_exact_18[slice14],\n",
        "       simple_regret_exact_19[slice14],\n",
        "       simple_regret_exact_20[slice14]]\n",
        "\n",
        "approx14_results = pd.DataFrame(approx14).sort_values(by=[0], ascending=False)\n",
        "exact14_results = pd.DataFrame(exact14).sort_values(by=[0], ascending=False)\n",
        "\n",
        "### Best simple regret minimization IQR - approx:\n",
        "lower_approx14 = np.asarray(approx14_results[4:5][0])[0]\n",
        "median_approx14 = np.asarray(approx14_results[9:10][0])[0]\n",
        "upper_approx14 = np.asarray(approx14_results[14:15][0])[0]\n",
        "\n",
        "lower_exact14 = np.asarray(exact14_results[4:5][0])[0]\n",
        "median_exact14 = np.asarray(exact14_results[9:10][0])[0]\n",
        "upper_exact14 = np.asarray(exact14_results[14:15][0])[0]\n"
      ]
    },
    {
      "cell_type": "code",
      "execution_count": 82,
      "metadata": {
        "id": "Xhy_AN9jJLl9"
      },
      "outputs": [],
      "source": [
        "# Iteration5 :\n",
        "\n",
        "slice5 = 4\n",
        "\n",
        "approx5 = [simple_regret_approx_1[slice5],\n",
        "       simple_regret_approx_2[slice5],\n",
        "       simple_regret_approx_3[slice5],\n",
        "       simple_regret_approx_4[slice5],\n",
        "       simple_regret_approx_5[slice5],\n",
        "       simple_regret_approx_6[slice5],\n",
        "       simple_regret_approx_7[slice5],\n",
        "       simple_regret_approx_8[slice5],\n",
        "       simple_regret_approx_9[slice5],\n",
        "       simple_regret_approx_10[slice5],\n",
        "       simple_regret_approx_11[slice5],\n",
        "       simple_regret_approx_12[slice5],\n",
        "       simple_regret_approx_13[slice5],\n",
        "       simple_regret_approx_14[slice5],\n",
        "       simple_regret_approx_15[slice5],\n",
        "       simple_regret_approx_16[slice5],\n",
        "       simple_regret_approx_17[slice5],\n",
        "       simple_regret_approx_18[slice5],\n",
        "       simple_regret_approx_19[slice5],\n",
        "       simple_regret_approx_20[slice5]]\n",
        "\n",
        "exact5 = [simple_regret_exact_1[slice5],\n",
        "       simple_regret_exact_2[slice5],\n",
        "       simple_regret_exact_3[slice5],\n",
        "       simple_regret_exact_4[slice5],\n",
        "       simple_regret_exact_5[slice5],\n",
        "       simple_regret_exact_6[slice5],\n",
        "       simple_regret_exact_7[slice5],\n",
        "       simple_regret_exact_8[slice5],\n",
        "       simple_regret_exact_9[slice5],\n",
        "       simple_regret_exact_10[slice5],\n",
        "       simple_regret_exact_11[slice5],\n",
        "       simple_regret_exact_12[slice5],\n",
        "       simple_regret_exact_13[slice5],\n",
        "       simple_regret_exact_14[slice5],\n",
        "       simple_regret_exact_15[slice5],\n",
        "       simple_regret_exact_16[slice5],\n",
        "       simple_regret_exact_17[slice5],\n",
        "       simple_regret_exact_18[slice5],\n",
        "       simple_regret_exact_19[slice5],\n",
        "       simple_regret_exact_20[slice5]]\n",
        "\n",
        "approx5_results = pd.DataFrame(approx5).sort_values(by=[0], ascending=False)\n",
        "exact5_results = pd.DataFrame(exact5).sort_values(by=[0], ascending=False)\n",
        "\n",
        "### Best simple regret minimization IQR - approx:\n",
        "lower_approx5 = np.asarray(approx5_results[4:5][0])[0]\n",
        "median_approx5 = np.asarray(approx5_results[9:10][0])[0]\n",
        "upper_approx5 = np.asarray(approx5_results[14:15][0])[0]\n",
        "\n",
        "lower_exact5 = np.asarray(exact5_results[4:5][0])[0]\n",
        "median_exact5 = np.asarray(exact5_results[9:10][0])[0]\n",
        "upper_exact5 = np.asarray(exact5_results[14:15][0])[0]\n"
      ]
    },
    {
      "cell_type": "code",
      "execution_count": 83,
      "metadata": {
        "id": "WHbtLHnbJLl-"
      },
      "outputs": [],
      "source": [
        "# Iteration15 :\n",
        "\n",
        "slice15 = 14\n",
        "\n",
        "approx15 = [simple_regret_approx_1[slice15],\n",
        "       simple_regret_approx_2[slice15],\n",
        "       simple_regret_approx_3[slice15],\n",
        "       simple_regret_approx_4[slice15],\n",
        "       simple_regret_approx_5[slice15],\n",
        "       simple_regret_approx_6[slice15],\n",
        "       simple_regret_approx_7[slice15],\n",
        "       simple_regret_approx_8[slice15],\n",
        "       simple_regret_approx_9[slice15],\n",
        "       simple_regret_approx_10[slice15],\n",
        "       simple_regret_approx_11[slice15],\n",
        "       simple_regret_approx_12[slice15],\n",
        "       simple_regret_approx_13[slice15],\n",
        "       simple_regret_approx_14[slice15],\n",
        "       simple_regret_approx_15[slice15],\n",
        "       simple_regret_approx_16[slice15],\n",
        "       simple_regret_approx_17[slice15],\n",
        "       simple_regret_approx_18[slice15],\n",
        "       simple_regret_approx_19[slice15],\n",
        "       simple_regret_approx_20[slice15]]\n",
        "\n",
        "exact15 = [simple_regret_exact_1[slice15],\n",
        "       simple_regret_exact_2[slice15],\n",
        "       simple_regret_exact_3[slice15],\n",
        "       simple_regret_exact_4[slice15],\n",
        "       simple_regret_exact_5[slice15],\n",
        "       simple_regret_exact_6[slice15],\n",
        "       simple_regret_exact_7[slice15],\n",
        "       simple_regret_exact_8[slice15],\n",
        "       simple_regret_exact_9[slice15],\n",
        "       simple_regret_exact_10[slice15],\n",
        "       simple_regret_exact_11[slice15],\n",
        "       simple_regret_exact_12[slice15],\n",
        "       simple_regret_exact_13[slice15],\n",
        "       simple_regret_exact_14[slice15],\n",
        "       simple_regret_exact_15[slice15],\n",
        "       simple_regret_exact_16[slice15],\n",
        "       simple_regret_exact_17[slice15],\n",
        "       simple_regret_exact_18[slice15],\n",
        "       simple_regret_exact_19[slice15],\n",
        "       simple_regret_exact_20[slice15]]\n",
        "\n",
        "approx15_results = pd.DataFrame(approx15).sort_values(by=[0], ascending=False)\n",
        "exact15_results = pd.DataFrame(exact15).sort_values(by=[0], ascending=False)\n",
        "\n",
        "### Best simple regret minimization IQR - approx:\n",
        "lower_approx15 = np.asarray(approx15_results[4:5][0])[0]\n",
        "median_approx15 = np.asarray(approx15_results[9:10][0])[0]\n",
        "upper_approx15 = np.asarray(approx15_results[14:15][0])[0]\n",
        "\n",
        "lower_exact15 = np.asarray(exact15_results[4:5][0])[0]\n",
        "median_exact15 = np.asarray(exact15_results[9:10][0])[0]\n",
        "upper_exact15 = np.asarray(exact15_results[14:15][0])[0]\n"
      ]
    },
    {
      "cell_type": "code",
      "execution_count": 84,
      "metadata": {
        "id": "XqsNyHzqJLmC"
      },
      "outputs": [],
      "source": [
        "# Iteration6 :\n",
        "\n",
        "slice6 = 5\n",
        "\n",
        "approx6 = [simple_regret_approx_1[slice6],\n",
        "       simple_regret_approx_2[slice6],\n",
        "       simple_regret_approx_3[slice6],\n",
        "       simple_regret_approx_4[slice6],\n",
        "       simple_regret_approx_5[slice6],\n",
        "       simple_regret_approx_6[slice6],\n",
        "       simple_regret_approx_7[slice6],\n",
        "       simple_regret_approx_8[slice6],\n",
        "       simple_regret_approx_9[slice6],\n",
        "       simple_regret_approx_10[slice6],\n",
        "       simple_regret_approx_11[slice6],\n",
        "       simple_regret_approx_12[slice6],\n",
        "       simple_regret_approx_13[slice6],\n",
        "       simple_regret_approx_14[slice6],\n",
        "       simple_regret_approx_15[slice6],\n",
        "       simple_regret_approx_16[slice6],\n",
        "       simple_regret_approx_17[slice6],\n",
        "       simple_regret_approx_18[slice6],\n",
        "       simple_regret_approx_19[slice6],\n",
        "       simple_regret_approx_20[slice6]]\n",
        "\n",
        "exact6 = [simple_regret_exact_1[slice6],\n",
        "       simple_regret_exact_2[slice6],\n",
        "       simple_regret_exact_3[slice6],\n",
        "       simple_regret_exact_4[slice6],\n",
        "       simple_regret_exact_5[slice6],\n",
        "       simple_regret_exact_6[slice6],\n",
        "       simple_regret_exact_7[slice6],\n",
        "       simple_regret_exact_8[slice6],\n",
        "       simple_regret_exact_9[slice6],\n",
        "       simple_regret_exact_10[slice6],\n",
        "       simple_regret_exact_11[slice6],\n",
        "       simple_regret_exact_12[slice6],\n",
        "       simple_regret_exact_13[slice6],\n",
        "       simple_regret_exact_14[slice6],\n",
        "       simple_regret_exact_15[slice6],\n",
        "       simple_regret_exact_16[slice6],\n",
        "       simple_regret_exact_17[slice6],\n",
        "       simple_regret_exact_18[slice6],\n",
        "       simple_regret_exact_19[slice6],\n",
        "       simple_regret_exact_20[slice6]]\n",
        "\n",
        "approx6_results = pd.DataFrame(approx6).sort_values(by=[0], ascending=False)\n",
        "exact6_results = pd.DataFrame(exact6).sort_values(by=[0], ascending=False)\n",
        "\n",
        "### Best simple regret minimization IQR - approx:\n",
        "lower_approx6 = np.asarray(approx6_results[4:5][0])[0]\n",
        "median_approx6 = np.asarray(approx6_results[9:10][0])[0]\n",
        "upper_approx6 = np.asarray(approx6_results[14:15][0])[0]\n",
        "\n",
        "lower_exact6 = np.asarray(exact6_results[4:5][0])[0]\n",
        "median_exact6 = np.asarray(exact6_results[9:10][0])[0]\n",
        "upper_exact6 = np.asarray(exact6_results[14:15][0])[0]\n"
      ]
    },
    {
      "cell_type": "code",
      "execution_count": 85,
      "metadata": {
        "id": "V0-8P_clJLmD"
      },
      "outputs": [],
      "source": [
        "# Iteration16 :\n",
        "\n",
        "slice16 = 15\n",
        "\n",
        "approx16 = [simple_regret_approx_1[slice16],\n",
        "       simple_regret_approx_2[slice16],\n",
        "       simple_regret_approx_3[slice16],\n",
        "       simple_regret_approx_4[slice16],\n",
        "       simple_regret_approx_5[slice16],\n",
        "       simple_regret_approx_6[slice16],\n",
        "       simple_regret_approx_7[slice16],\n",
        "       simple_regret_approx_8[slice16],\n",
        "       simple_regret_approx_9[slice16],\n",
        "       simple_regret_approx_10[slice16],\n",
        "       simple_regret_approx_11[slice16],\n",
        "       simple_regret_approx_12[slice16],\n",
        "       simple_regret_approx_13[slice16],\n",
        "       simple_regret_approx_14[slice16],\n",
        "       simple_regret_approx_15[slice16],\n",
        "       simple_regret_approx_16[slice16],\n",
        "       simple_regret_approx_17[slice16],\n",
        "       simple_regret_approx_18[slice16],\n",
        "       simple_regret_approx_19[slice16],\n",
        "       simple_regret_approx_20[slice16]]\n",
        "\n",
        "exact16 = [simple_regret_exact_1[slice16],\n",
        "       simple_regret_exact_2[slice16],\n",
        "       simple_regret_exact_3[slice16],\n",
        "       simple_regret_exact_4[slice16],\n",
        "       simple_regret_exact_5[slice16],\n",
        "       simple_regret_exact_6[slice16],\n",
        "       simple_regret_exact_7[slice16],\n",
        "       simple_regret_exact_8[slice16],\n",
        "       simple_regret_exact_9[slice16],\n",
        "       simple_regret_exact_10[slice16],\n",
        "       simple_regret_exact_11[slice16],\n",
        "       simple_regret_exact_12[slice16],\n",
        "       simple_regret_exact_13[slice16],\n",
        "       simple_regret_exact_14[slice16],\n",
        "       simple_regret_exact_15[slice16],\n",
        "       simple_regret_exact_16[slice16],\n",
        "       simple_regret_exact_17[slice16],\n",
        "       simple_regret_exact_18[slice16],\n",
        "       simple_regret_exact_19[slice16],\n",
        "       simple_regret_exact_20[slice16]]\n",
        "\n",
        "approx16_results = pd.DataFrame(approx16).sort_values(by=[0], ascending=False)\n",
        "exact16_results = pd.DataFrame(exact16).sort_values(by=[0], ascending=False)\n",
        "\n",
        "### Best simple regret minimization IQR - approx:\n",
        "lower_approx16 = np.asarray(approx16_results[4:5][0])[0]\n",
        "median_approx16 = np.asarray(approx16_results[9:10][0])[0]\n",
        "upper_approx16 = np.asarray(approx16_results[14:15][0])[0]\n",
        "\n",
        "lower_exact16 = np.asarray(exact16_results[4:5][0])[0]\n",
        "median_exact16 = np.asarray(exact16_results[9:10][0])[0]\n",
        "upper_exact16 = np.asarray(exact16_results[14:15][0])[0]\n"
      ]
    },
    {
      "cell_type": "code",
      "execution_count": 86,
      "metadata": {
        "id": "OcLUACB0JLmM"
      },
      "outputs": [],
      "source": [
        "# Iteration7 :\n",
        "\n",
        "slice7 = 6\n",
        "\n",
        "approx7 = [simple_regret_approx_1[slice7],\n",
        "       simple_regret_approx_2[slice7],\n",
        "       simple_regret_approx_3[slice7],\n",
        "       simple_regret_approx_4[slice7],\n",
        "       simple_regret_approx_5[slice7],\n",
        "       simple_regret_approx_6[slice7],\n",
        "       simple_regret_approx_7[slice7],\n",
        "       simple_regret_approx_8[slice7],\n",
        "       simple_regret_approx_9[slice7],\n",
        "       simple_regret_approx_10[slice7],\n",
        "       simple_regret_approx_11[slice7],\n",
        "       simple_regret_approx_12[slice7],\n",
        "       simple_regret_approx_13[slice7],\n",
        "       simple_regret_approx_14[slice7],\n",
        "       simple_regret_approx_15[slice7],\n",
        "       simple_regret_approx_16[slice7],\n",
        "       simple_regret_approx_17[slice7],\n",
        "       simple_regret_approx_18[slice7],\n",
        "       simple_regret_approx_19[slice7],\n",
        "       simple_regret_approx_20[slice7]]\n",
        "\n",
        "exact7 = [simple_regret_exact_1[slice7],\n",
        "       simple_regret_exact_2[slice7],\n",
        "       simple_regret_exact_3[slice7],\n",
        "       simple_regret_exact_4[slice7],\n",
        "       simple_regret_exact_5[slice7],\n",
        "       simple_regret_exact_6[slice7],\n",
        "       simple_regret_exact_7[slice7],\n",
        "       simple_regret_exact_8[slice7],\n",
        "       simple_regret_exact_9[slice7],\n",
        "       simple_regret_exact_10[slice7],\n",
        "       simple_regret_exact_11[slice7],\n",
        "       simple_regret_exact_12[slice7],\n",
        "       simple_regret_exact_13[slice7],\n",
        "       simple_regret_exact_14[slice7],\n",
        "       simple_regret_exact_15[slice7],\n",
        "       simple_regret_exact_16[slice7],\n",
        "       simple_regret_exact_17[slice7],\n",
        "       simple_regret_exact_18[slice7],\n",
        "       simple_regret_exact_19[slice7],\n",
        "       simple_regret_exact_20[slice7]]\n",
        "\n",
        "approx7_results = pd.DataFrame(approx7).sort_values(by=[0], ascending=False)\n",
        "exact7_results = pd.DataFrame(exact7).sort_values(by=[0], ascending=False)\n",
        "\n",
        "### Best simple regret minimization IQR - approx:\n",
        "lower_approx7 = np.asarray(approx7_results[4:5][0])[0]\n",
        "median_approx7 = np.asarray(approx7_results[9:10][0])[0]\n",
        "upper_approx7 = np.asarray(approx7_results[14:15][0])[0]\n",
        "\n",
        "lower_exact7 = np.asarray(exact7_results[4:5][0])[0]\n",
        "median_exact7 = np.asarray(exact7_results[9:10][0])[0]\n",
        "upper_exact7 = np.asarray(exact7_results[14:15][0])[0]\n"
      ]
    },
    {
      "cell_type": "code",
      "execution_count": 87,
      "metadata": {
        "id": "q-Fd0t3kJLmN"
      },
      "outputs": [],
      "source": [
        "# Iteration17 :\n",
        "\n",
        "slice17 = 16\n",
        "\n",
        "approx17 = [simple_regret_approx_1[slice17],\n",
        "       simple_regret_approx_2[slice17],\n",
        "       simple_regret_approx_3[slice17],\n",
        "       simple_regret_approx_4[slice17],\n",
        "       simple_regret_approx_5[slice17],\n",
        "       simple_regret_approx_6[slice17],\n",
        "       simple_regret_approx_7[slice17],\n",
        "       simple_regret_approx_8[slice17],\n",
        "       simple_regret_approx_9[slice17],\n",
        "       simple_regret_approx_10[slice17],\n",
        "       simple_regret_approx_11[slice17],\n",
        "       simple_regret_approx_12[slice17],\n",
        "       simple_regret_approx_13[slice17],\n",
        "       simple_regret_approx_14[slice17],\n",
        "       simple_regret_approx_15[slice17],\n",
        "       simple_regret_approx_16[slice17],\n",
        "       simple_regret_approx_17[slice17],\n",
        "       simple_regret_approx_18[slice17],\n",
        "       simple_regret_approx_19[slice17],\n",
        "       simple_regret_approx_20[slice17]]\n",
        "\n",
        "exact17 = [simple_regret_exact_1[slice17],\n",
        "       simple_regret_exact_2[slice17],\n",
        "       simple_regret_exact_3[slice17],\n",
        "       simple_regret_exact_4[slice17],\n",
        "       simple_regret_exact_5[slice17],\n",
        "       simple_regret_exact_6[slice17],\n",
        "       simple_regret_exact_7[slice17],\n",
        "       simple_regret_exact_8[slice17],\n",
        "       simple_regret_exact_9[slice17],\n",
        "       simple_regret_exact_10[slice17],\n",
        "       simple_regret_exact_11[slice17],\n",
        "       simple_regret_exact_12[slice17],\n",
        "       simple_regret_exact_13[slice17],\n",
        "       simple_regret_exact_14[slice17],\n",
        "       simple_regret_exact_15[slice17],\n",
        "       simple_regret_exact_16[slice17],\n",
        "       simple_regret_exact_17[slice17],\n",
        "       simple_regret_exact_18[slice17],\n",
        "       simple_regret_exact_19[slice17],\n",
        "       simple_regret_exact_20[slice17]]\n",
        "\n",
        "approx17_results = pd.DataFrame(approx17).sort_values(by=[0], ascending=False)\n",
        "exact17_results = pd.DataFrame(exact17).sort_values(by=[0], ascending=False)\n",
        "\n",
        "### Best simple regret minimization IQR - approx:\n",
        "lower_approx17 = np.asarray(approx17_results[4:5][0])[0]\n",
        "median_approx17 = np.asarray(approx17_results[9:10][0])[0]\n",
        "upper_approx17 = np.asarray(approx17_results[14:15][0])[0]\n",
        "\n",
        "lower_exact17 = np.asarray(exact17_results[4:5][0])[0]\n",
        "median_exact17 = np.asarray(exact17_results[9:10][0])[0]\n",
        "upper_exact17 = np.asarray(exact17_results[14:15][0])[0]\n"
      ]
    },
    {
      "cell_type": "code",
      "execution_count": 88,
      "metadata": {
        "id": "JueXVbnGJLmU"
      },
      "outputs": [],
      "source": [
        "# Iteration8 :\n",
        "\n",
        "slice8 = 7\n",
        "\n",
        "approx8 = [simple_regret_approx_1[slice8],\n",
        "       simple_regret_approx_2[slice8],\n",
        "       simple_regret_approx_3[slice8],\n",
        "       simple_regret_approx_4[slice8],\n",
        "       simple_regret_approx_5[slice8],\n",
        "       simple_regret_approx_6[slice8],\n",
        "       simple_regret_approx_7[slice8],\n",
        "       simple_regret_approx_8[slice8],\n",
        "       simple_regret_approx_9[slice8],\n",
        "       simple_regret_approx_10[slice8],\n",
        "       simple_regret_approx_11[slice8],\n",
        "       simple_regret_approx_12[slice8],\n",
        "       simple_regret_approx_13[slice8],\n",
        "       simple_regret_approx_14[slice8],\n",
        "       simple_regret_approx_15[slice8],\n",
        "       simple_regret_approx_16[slice8],\n",
        "       simple_regret_approx_17[slice8],\n",
        "       simple_regret_approx_18[slice8],\n",
        "       simple_regret_approx_19[slice8],\n",
        "       simple_regret_approx_20[slice8]]\n",
        "\n",
        "exact8 = [simple_regret_exact_1[slice8],\n",
        "       simple_regret_exact_2[slice8],\n",
        "       simple_regret_exact_3[slice8],\n",
        "       simple_regret_exact_4[slice8],\n",
        "       simple_regret_exact_5[slice8],\n",
        "       simple_regret_exact_6[slice8],\n",
        "       simple_regret_exact_7[slice8],\n",
        "       simple_regret_exact_8[slice8],\n",
        "       simple_regret_exact_9[slice8],\n",
        "       simple_regret_exact_10[slice8],\n",
        "       simple_regret_exact_11[slice8],\n",
        "       simple_regret_exact_12[slice8],\n",
        "       simple_regret_exact_13[slice8],\n",
        "       simple_regret_exact_14[slice8],\n",
        "       simple_regret_exact_15[slice8],\n",
        "       simple_regret_exact_16[slice8],\n",
        "       simple_regret_exact_17[slice8],\n",
        "       simple_regret_exact_18[slice8],\n",
        "       simple_regret_exact_19[slice8],\n",
        "       simple_regret_exact_20[slice8]]\n",
        "\n",
        "approx8_results = pd.DataFrame(approx8).sort_values(by=[0], ascending=False)\n",
        "exact8_results = pd.DataFrame(exact8).sort_values(by=[0], ascending=False)\n",
        "\n",
        "### Best simple regret minimization IQR - approx:\n",
        "lower_approx8 = np.asarray(approx8_results[4:5][0])[0]\n",
        "median_approx8 = np.asarray(approx8_results[9:10][0])[0]\n",
        "upper_approx8 = np.asarray(approx8_results[14:15][0])[0]\n",
        "\n",
        "lower_exact8 = np.asarray(exact8_results[4:5][0])[0]\n",
        "median_exact8 = np.asarray(exact8_results[9:10][0])[0]\n",
        "upper_exact8 = np.asarray(exact8_results[14:15][0])[0]\n"
      ]
    },
    {
      "cell_type": "code",
      "execution_count": 89,
      "metadata": {
        "id": "mnFJ7maJJLmU"
      },
      "outputs": [],
      "source": [
        "# Iteration18 :\n",
        "\n",
        "slice18 = 17\n",
        "\n",
        "approx18 = [simple_regret_approx_1[slice18],\n",
        "       simple_regret_approx_2[slice18],\n",
        "       simple_regret_approx_3[slice18],\n",
        "       simple_regret_approx_4[slice18],\n",
        "       simple_regret_approx_5[slice18],\n",
        "       simple_regret_approx_6[slice18],\n",
        "       simple_regret_approx_7[slice18],\n",
        "       simple_regret_approx_8[slice18],\n",
        "       simple_regret_approx_9[slice18],\n",
        "       simple_regret_approx_10[slice18],\n",
        "       simple_regret_approx_11[slice18],\n",
        "       simple_regret_approx_12[slice18],\n",
        "       simple_regret_approx_13[slice18],\n",
        "       simple_regret_approx_14[slice18],\n",
        "       simple_regret_approx_15[slice18],\n",
        "       simple_regret_approx_16[slice18],\n",
        "       simple_regret_approx_17[slice18],\n",
        "       simple_regret_approx_18[slice18],\n",
        "       simple_regret_approx_19[slice18],\n",
        "       simple_regret_approx_20[slice18]]\n",
        "\n",
        "exact18 = [simple_regret_exact_1[slice18],\n",
        "       simple_regret_exact_2[slice18],\n",
        "       simple_regret_exact_3[slice18],\n",
        "       simple_regret_exact_4[slice18],\n",
        "       simple_regret_exact_5[slice18],\n",
        "       simple_regret_exact_6[slice18],\n",
        "       simple_regret_exact_7[slice18],\n",
        "       simple_regret_exact_8[slice18],\n",
        "       simple_regret_exact_9[slice18],\n",
        "       simple_regret_exact_10[slice18],\n",
        "       simple_regret_exact_11[slice18],\n",
        "       simple_regret_exact_12[slice18],\n",
        "       simple_regret_exact_13[slice18],\n",
        "       simple_regret_exact_14[slice18],\n",
        "       simple_regret_exact_15[slice18],\n",
        "       simple_regret_exact_16[slice18],\n",
        "       simple_regret_exact_17[slice18],\n",
        "       simple_regret_exact_18[slice18],\n",
        "       simple_regret_exact_19[slice18],\n",
        "       simple_regret_exact_20[slice18]]\n",
        "\n",
        "approx18_results = pd.DataFrame(approx18).sort_values(by=[0], ascending=False)\n",
        "exact18_results = pd.DataFrame(exact18).sort_values(by=[0], ascending=False)\n",
        "\n",
        "### Best simple regret minimization IQR - approx:\n",
        "lower_approx18 = np.asarray(approx18_results[4:5][0])[0]\n",
        "median_approx18 = np.asarray(approx18_results[9:10][0])[0]\n",
        "upper_approx18 = np.asarray(approx18_results[14:15][0])[0]\n",
        "\n",
        "lower_exact18 = np.asarray(exact18_results[4:5][0])[0]\n",
        "median_exact18 = np.asarray(exact18_results[9:10][0])[0]\n",
        "upper_exact18 = np.asarray(exact18_results[14:15][0])[0]\n"
      ]
    },
    {
      "cell_type": "code",
      "execution_count": 90,
      "metadata": {
        "id": "ll-p_qWUJLmb"
      },
      "outputs": [],
      "source": [
        "# Iteration9 :\n",
        "\n",
        "slice9 = 8\n",
        "\n",
        "approx9 = [simple_regret_approx_1[slice9],\n",
        "       simple_regret_approx_2[slice9],\n",
        "       simple_regret_approx_3[slice9],\n",
        "       simple_regret_approx_4[slice9],\n",
        "       simple_regret_approx_5[slice9],\n",
        "       simple_regret_approx_6[slice9],\n",
        "       simple_regret_approx_7[slice9],\n",
        "       simple_regret_approx_8[slice9],\n",
        "       simple_regret_approx_9[slice9],\n",
        "       simple_regret_approx_10[slice9],\n",
        "       simple_regret_approx_11[slice9],\n",
        "       simple_regret_approx_12[slice9],\n",
        "       simple_regret_approx_13[slice9],\n",
        "       simple_regret_approx_14[slice9],\n",
        "       simple_regret_approx_15[slice9],\n",
        "       simple_regret_approx_16[slice9],\n",
        "       simple_regret_approx_17[slice9],\n",
        "       simple_regret_approx_18[slice9],\n",
        "       simple_regret_approx_19[slice9],\n",
        "       simple_regret_approx_20[slice9]]\n",
        "\n",
        "exact9 = [simple_regret_exact_1[slice9],\n",
        "       simple_regret_exact_2[slice9],\n",
        "       simple_regret_exact_3[slice9],\n",
        "       simple_regret_exact_4[slice9],\n",
        "       simple_regret_exact_5[slice9],\n",
        "       simple_regret_exact_6[slice9],\n",
        "       simple_regret_exact_7[slice9],\n",
        "       simple_regret_exact_8[slice9],\n",
        "       simple_regret_exact_9[slice9],\n",
        "       simple_regret_exact_10[slice9],\n",
        "       simple_regret_exact_11[slice9],\n",
        "       simple_regret_exact_12[slice9],\n",
        "       simple_regret_exact_13[slice9],\n",
        "       simple_regret_exact_14[slice9],\n",
        "       simple_regret_exact_15[slice9],\n",
        "       simple_regret_exact_16[slice9],\n",
        "       simple_regret_exact_17[slice9],\n",
        "       simple_regret_exact_18[slice9],\n",
        "       simple_regret_exact_19[slice9],\n",
        "       simple_regret_exact_20[slice9]]\n",
        "\n",
        "approx9_results = pd.DataFrame(approx9).sort_values(by=[0], ascending=False)\n",
        "exact9_results = pd.DataFrame(exact9).sort_values(by=[0], ascending=False)\n",
        "\n",
        "### Best simple regret minimization IQR - approx:\n",
        "lower_approx9 = np.asarray(approx9_results[4:5][0])[0]\n",
        "median_approx9 = np.asarray(approx9_results[9:10][0])[0]\n",
        "upper_approx9 = np.asarray(approx9_results[14:15][0])[0]\n",
        "\n",
        "lower_exact9 = np.asarray(exact9_results[4:5][0])[0]\n",
        "median_exact9 = np.asarray(exact9_results[9:10][0])[0]\n",
        "upper_exact9 = np.asarray(exact9_results[14:15][0])[0]\n"
      ]
    },
    {
      "cell_type": "code",
      "execution_count": 91,
      "metadata": {
        "id": "G3QVtLpJJLmc"
      },
      "outputs": [],
      "source": [
        "# Iteration19 :\n",
        "\n",
        "slice19 = 18\n",
        "\n",
        "approx19 = [simple_regret_approx_1[slice19],\n",
        "       simple_regret_approx_2[slice19],\n",
        "       simple_regret_approx_3[slice19],\n",
        "       simple_regret_approx_4[slice19],\n",
        "       simple_regret_approx_5[slice19],\n",
        "       simple_regret_approx_6[slice19],\n",
        "       simple_regret_approx_7[slice19],\n",
        "       simple_regret_approx_8[slice19],\n",
        "       simple_regret_approx_9[slice19],\n",
        "       simple_regret_approx_10[slice19],\n",
        "       simple_regret_approx_11[slice19],\n",
        "       simple_regret_approx_12[slice19],\n",
        "       simple_regret_approx_13[slice19],\n",
        "       simple_regret_approx_14[slice19],\n",
        "       simple_regret_approx_15[slice19],\n",
        "       simple_regret_approx_16[slice19],\n",
        "       simple_regret_approx_17[slice19],\n",
        "       simple_regret_approx_18[slice19],\n",
        "       simple_regret_approx_19[slice19],\n",
        "       simple_regret_approx_20[slice19]]\n",
        "\n",
        "exact19 = [simple_regret_exact_1[slice19],\n",
        "       simple_regret_exact_2[slice19],\n",
        "       simple_regret_exact_3[slice19],\n",
        "       simple_regret_exact_4[slice19],\n",
        "       simple_regret_exact_5[slice19],\n",
        "       simple_regret_exact_6[slice19],\n",
        "       simple_regret_exact_7[slice19],\n",
        "       simple_regret_exact_8[slice19],\n",
        "       simple_regret_exact_9[slice19],\n",
        "       simple_regret_exact_10[slice19],\n",
        "       simple_regret_exact_11[slice19],\n",
        "       simple_regret_exact_12[slice19],\n",
        "       simple_regret_exact_13[slice19],\n",
        "       simple_regret_exact_14[slice19],\n",
        "       simple_regret_exact_15[slice19],\n",
        "       simple_regret_exact_16[slice19],\n",
        "       simple_regret_exact_17[slice19],\n",
        "       simple_regret_exact_18[slice19],\n",
        "       simple_regret_exact_19[slice19],\n",
        "       simple_regret_exact_20[slice19]]\n",
        "\n",
        "approx19_results = pd.DataFrame(approx19).sort_values(by=[0], ascending=False)\n",
        "exact19_results = pd.DataFrame(exact19).sort_values(by=[0], ascending=False)\n",
        "\n",
        "### Best simple regret minimization IQR - approx:\n",
        "lower_approx19 = np.asarray(approx19_results[4:5][0])[0]\n",
        "median_approx19 = np.asarray(approx19_results[9:10][0])[0]\n",
        "upper_approx19 = np.asarray(approx19_results[14:15][0])[0]\n",
        "\n",
        "lower_exact19 = np.asarray(exact19_results[4:5][0])[0]\n",
        "median_exact19 = np.asarray(exact19_results[9:10][0])[0]\n",
        "upper_exact19 = np.asarray(exact19_results[14:15][0])[0]\n"
      ]
    },
    {
      "cell_type": "code",
      "execution_count": 92,
      "metadata": {
        "id": "IzQng-ULJLmj"
      },
      "outputs": [],
      "source": [
        "# Iteration10 :\n",
        "\n",
        "slice10 = 9\n",
        "\n",
        "approx10 = [simple_regret_approx_1[slice10],\n",
        "       simple_regret_approx_2[slice10],\n",
        "       simple_regret_approx_3[slice10],\n",
        "       simple_regret_approx_4[slice10],\n",
        "       simple_regret_approx_5[slice10],\n",
        "       simple_regret_approx_6[slice10],\n",
        "       simple_regret_approx_7[slice10],\n",
        "       simple_regret_approx_8[slice10],\n",
        "       simple_regret_approx_9[slice10],\n",
        "       simple_regret_approx_10[slice10],\n",
        "       simple_regret_approx_11[slice10],\n",
        "       simple_regret_approx_12[slice10],\n",
        "       simple_regret_approx_13[slice10],\n",
        "       simple_regret_approx_14[slice10],\n",
        "       simple_regret_approx_15[slice10],\n",
        "       simple_regret_approx_16[slice10],\n",
        "       simple_regret_approx_17[slice10],\n",
        "       simple_regret_approx_18[slice10],\n",
        "       simple_regret_approx_19[slice10],\n",
        "       simple_regret_approx_20[slice10]]\n",
        "\n",
        "exact10 = [simple_regret_exact_1[slice10],\n",
        "       simple_regret_exact_2[slice10],\n",
        "       simple_regret_exact_3[slice10],\n",
        "       simple_regret_exact_4[slice10],\n",
        "       simple_regret_exact_5[slice10],\n",
        "       simple_regret_exact_6[slice10],\n",
        "       simple_regret_exact_7[slice10],\n",
        "       simple_regret_exact_8[slice10],\n",
        "       simple_regret_exact_9[slice10],\n",
        "       simple_regret_exact_10[slice10],\n",
        "       simple_regret_exact_11[slice10],\n",
        "       simple_regret_exact_12[slice10],\n",
        "       simple_regret_exact_13[slice10],\n",
        "       simple_regret_exact_14[slice10],\n",
        "       simple_regret_exact_15[slice10],\n",
        "       simple_regret_exact_16[slice10],\n",
        "       simple_regret_exact_17[slice10],\n",
        "       simple_regret_exact_18[slice10],\n",
        "       simple_regret_exact_19[slice10],\n",
        "       simple_regret_exact_20[slice10]]\n",
        "\n",
        "approx10_results = pd.DataFrame(approx10).sort_values(by=[0], ascending=False)\n",
        "exact10_results = pd.DataFrame(exact10).sort_values(by=[0], ascending=False)\n",
        "\n",
        "### Best simple regret minimization IQR - approx:\n",
        "lower_approx10 = np.asarray(approx10_results[4:5][0])[0]\n",
        "median_approx10 = np.asarray(approx10_results[9:10][0])[0]\n",
        "upper_approx10 = np.asarray(approx10_results[14:15][0])[0]\n",
        "\n",
        "lower_exact10 = np.asarray(exact10_results[4:5][0])[0]\n",
        "median_exact10 = np.asarray(exact10_results[9:10][0])[0]\n",
        "upper_exact10 = np.asarray(exact10_results[14:15][0])[0]\n"
      ]
    },
    {
      "cell_type": "code",
      "execution_count": 93,
      "metadata": {
        "id": "DQ_Cuh-4JLmk"
      },
      "outputs": [],
      "source": [
        "# Iteration20 :\n",
        "\n",
        "slice20 = 19\n",
        "\n",
        "approx20 = [simple_regret_approx_1[slice20],\n",
        "       simple_regret_approx_2[slice20],\n",
        "       simple_regret_approx_3[slice20],\n",
        "       simple_regret_approx_4[slice20],\n",
        "       simple_regret_approx_5[slice20],\n",
        "       simple_regret_approx_6[slice20],\n",
        "       simple_regret_approx_7[slice20],\n",
        "       simple_regret_approx_8[slice20],\n",
        "       simple_regret_approx_9[slice20],\n",
        "       simple_regret_approx_10[slice20],\n",
        "       simple_regret_approx_11[slice20],\n",
        "       simple_regret_approx_12[slice20],\n",
        "       simple_regret_approx_13[slice20],\n",
        "       simple_regret_approx_14[slice20],\n",
        "       simple_regret_approx_15[slice20],\n",
        "       simple_regret_approx_16[slice20],\n",
        "       simple_regret_approx_17[slice20],\n",
        "       simple_regret_approx_18[slice20],\n",
        "       simple_regret_approx_19[slice20],\n",
        "       simple_regret_approx_20[slice20]]\n",
        "\n",
        "exact20 = [simple_regret_exact_1[slice20],\n",
        "       simple_regret_exact_2[slice20],\n",
        "       simple_regret_exact_3[slice20],\n",
        "       simple_regret_exact_4[slice20],\n",
        "       simple_regret_exact_5[slice20],\n",
        "       simple_regret_exact_6[slice20],\n",
        "       simple_regret_exact_7[slice20],\n",
        "       simple_regret_exact_8[slice20],\n",
        "       simple_regret_exact_9[slice20],\n",
        "       simple_regret_exact_10[slice20],\n",
        "       simple_regret_exact_11[slice20],\n",
        "       simple_regret_exact_12[slice20],\n",
        "       simple_regret_exact_13[slice20],\n",
        "       simple_regret_exact_14[slice20],\n",
        "       simple_regret_exact_15[slice20],\n",
        "       simple_regret_exact_16[slice20],\n",
        "       simple_regret_exact_17[slice20],\n",
        "       simple_regret_exact_18[slice20],\n",
        "       simple_regret_exact_19[slice20],\n",
        "       simple_regret_exact_20[slice20]]\n",
        "\n",
        "approx20_results = pd.DataFrame(approx20).sort_values(by=[0], ascending=False)\n",
        "exact20_results = pd.DataFrame(exact20).sort_values(by=[0], ascending=False)\n",
        "\n",
        "### Best simple regret minimization IQR - approx:\n",
        "lower_approx20 = np.asarray(approx20_results[4:5][0])[0]\n",
        "median_approx20 = np.asarray(approx20_results[9:10][0])[0]\n",
        "upper_approx20 = np.asarray(approx20_results[14:15][0])[0]\n",
        "\n",
        "lower_exact20 = np.asarray(exact20_results[4:5][0])[0]\n",
        "median_exact20 = np.asarray(exact20_results[9:10][0])[0]\n",
        "upper_exact20 = np.asarray(exact20_results[14:15][0])[0]\n"
      ]
    },
    {
      "cell_type": "code",
      "execution_count": 94,
      "metadata": {
        "id": "R1gk3HGTJLms"
      },
      "outputs": [],
      "source": [
        "### Summarise arrays: 'GP EI'\n",
        "\n",
        "lower_approx = [lower_approx1,\n",
        "            lower_approx2,\n",
        "            lower_approx3,\n",
        "            lower_approx4,\n",
        "            lower_approx5,\n",
        "            lower_approx6,\n",
        "            lower_approx7,\n",
        "            lower_approx8,\n",
        "            lower_approx9,\n",
        "            lower_approx10,\n",
        "            lower_approx11,\n",
        "            lower_approx12,\n",
        "            lower_approx13,\n",
        "            lower_approx14,\n",
        "            lower_approx15,\n",
        "            lower_approx16,\n",
        "            lower_approx17,\n",
        "            lower_approx18,\n",
        "            lower_approx19,\n",
        "            lower_approx20,\n",
        "            lower_approx21]\n",
        "\n",
        "median_approx = [median_approx1,\n",
        "            median_approx2,\n",
        "            median_approx3,\n",
        "            median_approx4,\n",
        "            median_approx5,\n",
        "            median_approx6,\n",
        "            median_approx7,\n",
        "            median_approx8,\n",
        "            median_approx9,\n",
        "            median_approx10,\n",
        "            median_approx11,\n",
        "            median_approx12,\n",
        "            median_approx13,\n",
        "            median_approx14,\n",
        "            median_approx15,\n",
        "            median_approx16,\n",
        "            median_approx17,\n",
        "            median_approx18,\n",
        "            median_approx19,\n",
        "            median_approx20,\n",
        "            median_approx21]\n",
        "\n",
        "upper_approx = [upper_approx1,\n",
        "            upper_approx2,\n",
        "            upper_approx3,\n",
        "            upper_approx4,\n",
        "            upper_approx5,\n",
        "            upper_approx6,\n",
        "            upper_approx7,\n",
        "            upper_approx8,\n",
        "            upper_approx9,\n",
        "            upper_approx10,\n",
        "            upper_approx11,\n",
        "            upper_approx12,\n",
        "            upper_approx13,\n",
        "            upper_approx14,\n",
        "            upper_approx15,\n",
        "            upper_approx16,\n",
        "            upper_approx17,\n",
        "            upper_approx18,\n",
        "            upper_approx19,\n",
        "            upper_approx20,\n",
        "            upper_approx21]\n"
      ]
    },
    {
      "cell_type": "code",
      "execution_count": 95,
      "metadata": {
        "id": "jox8uqaeJLmu"
      },
      "outputs": [],
      "source": [
        "### Summarise arrays: 'GP dEI'\n",
        "\n",
        "lower_exact = [lower_exact1,\n",
        "            lower_exact2,\n",
        "            lower_exact3,\n",
        "            lower_exact4,\n",
        "            lower_exact5,\n",
        "            lower_exact6,\n",
        "            lower_exact7,\n",
        "            lower_exact8,\n",
        "            lower_exact9,\n",
        "            lower_exact10,\n",
        "            lower_exact11,\n",
        "            lower_exact12,\n",
        "            lower_exact13,\n",
        "            lower_exact14,\n",
        "            lower_exact15,\n",
        "            lower_exact16,\n",
        "            lower_exact17,\n",
        "            lower_exact18,\n",
        "            lower_exact19,\n",
        "            lower_exact20,\n",
        "            lower_exact21]\n",
        "\n",
        "median_exact = [median_exact1,\n",
        "            median_exact2,\n",
        "            median_exact3,\n",
        "            median_exact4,\n",
        "            median_exact5,\n",
        "            median_exact6,\n",
        "            median_exact7,\n",
        "            median_exact8,\n",
        "            median_exact9,\n",
        "            median_exact10,\n",
        "            median_exact11,\n",
        "            median_exact12,\n",
        "            median_exact13,\n",
        "            median_exact14,\n",
        "            median_exact15,\n",
        "            median_exact16,\n",
        "            median_exact17,\n",
        "            median_exact18,\n",
        "            median_exact19,\n",
        "            median_exact20,\n",
        "            median_exact21]\n",
        "\n",
        "upper_exact = [upper_exact1,\n",
        "            upper_exact2,\n",
        "            upper_exact3,\n",
        "            upper_exact4,\n",
        "            upper_exact5,\n",
        "            upper_exact6,\n",
        "            upper_exact7,\n",
        "            upper_exact8,\n",
        "            upper_exact9,\n",
        "            upper_exact10,\n",
        "            upper_exact11,\n",
        "            upper_exact12,\n",
        "            upper_exact13,\n",
        "            upper_exact14,\n",
        "            upper_exact15,\n",
        "            upper_exact16,\n",
        "            upper_exact17,\n",
        "            upper_exact18,\n",
        "            upper_exact19,\n",
        "            upper_exact20,\n",
        "            upper_exact21]\n"
      ]
    },
    {
      "cell_type": "code",
      "source": [
        "def extractAcqFuncMax(x):\n",
        "    new_array = []\n",
        "    x = np.array(x) \n",
        "    for i, num in enumerate(x):\n",
        "            new_array = x[::-1][:-1][::-3]\n",
        "    return new_array\n",
        "\n",
        "def exploitExtract(x):\n",
        "    new_array = []\n",
        "    x = np.array(x) \n",
        "    for i, num in enumerate(x):\n",
        "            new_array = x[::-1][:-2][::-3]\n",
        "    return new_array\n",
        "\n",
        "def extractTau(x):\n",
        "    new_array = []\n",
        "    x = np.array(x) \n",
        "    for i, num in enumerate(x):\n",
        "            new_array = x[::-1][:-3][::-3] * -1\n",
        "    return new_array\n"
      ],
      "metadata": {
        "id": "LMt1agnP73Ni"
      },
      "execution_count": 96,
      "outputs": []
    },
    {
      "cell_type": "code",
      "source": [
        "approx1_acqFuncMax = extractAcqFuncMax(approx_1.history) + eps\n",
        "approx1_exploit = exploitExtract(approx_1.history) + eps\n",
        "approx1_ratio = approx1_exploit/approx1_acqFuncMax \n",
        "\n",
        "np.round(approx1_acqFuncMax, 3), np.round(approx1_exploit,3)\n"
      ],
      "metadata": {
        "colab": {
          "base_uri": "https://localhost:8080/"
        },
        "id": "DVD6SnGctX7H",
        "outputId": "b4864ff3-f7f7-4441-e018-1e2c796d4e76"
      },
      "execution_count": 97,
      "outputs": [
        {
          "output_type": "execute_result",
          "data": {
            "text/plain": [
              "(array([1.51 , 0.705, 0.672, 0.672, 0.668, 1.754, 1.089, 0.782, 0.627,\n",
              "        0.634, 0.796, 0.593, 0.469, 0.387, 0.331, 0.29 , 0.259, 0.235,\n",
              "        0.215, 0.2  ]),\n",
              " array([0.919, 0.   , 0.   , 0.   , 0.   , 1.301, 0.51 , 0.167, 0.   ,\n",
              "        0.   , 0.   , 0.   , 0.   , 0.   , 0.   , 0.   , 0.   , 0.   ,\n",
              "        0.   , 0.   ]))"
            ]
          },
          "metadata": {},
          "execution_count": 97
        }
      ]
    },
    {
      "cell_type": "code",
      "source": [
        "approx2_acqFuncMax = extractAcqFuncMax(approx_2.history) + eps\n",
        "approx2_exploit = exploitExtract(approx_2.history) + eps\n",
        "approx2_ratio = approx2_exploit/approx2_acqFuncMax\n",
        "\n",
        "np.round(approx2_acqFuncMax, 3), np.round(approx2_exploit, 3)\n"
      ],
      "metadata": {
        "colab": {
          "base_uri": "https://localhost:8080/"
        },
        "id": "7RNHlRgYvmb6",
        "outputId": "4ddd8a24-124c-402a-e0b2-0b260ea2a1a9"
      },
      "execution_count": 98,
      "outputs": [
        {
          "output_type": "execute_result",
          "data": {
            "text/plain": [
              "(array([0.907, 0.804, 0.804, 0.804, 0.804, 0.803, 0.712, 0.798, 2.571,\n",
              "        1.245, 0.698, 0.697, 0.457, 0.428, 0.327, 0.325, 0.272, 0.251,\n",
              "        0.242, 0.233]),\n",
              " array([1.690e-01, 6.000e-03, 6.000e-03, 6.000e-03, 6.000e-03, 6.000e-03,\n",
              "        1.000e-03, 5.000e-03, 2.349e+00, 7.070e-01, 7.300e-02, 0.000e+00,\n",
              "        0.000e+00, 0.000e+00, 0.000e+00, 0.000e+00, 0.000e+00, 0.000e+00,\n",
              "        0.000e+00, 0.000e+00]))"
            ]
          },
          "metadata": {},
          "execution_count": 98
        }
      ]
    },
    {
      "cell_type": "code",
      "source": [
        "approx3_acqFuncMax = extractAcqFuncMax(approx_3.history) + eps\n",
        "approx3_exploit = exploitExtract(approx_3.history) + eps\n",
        "approx3_ratio = approx3_exploit/approx3_acqFuncMax\n",
        "\n",
        "np.round(approx3_acqFuncMax, 3), np.round(approx3_exploit, 3)\n"
      ],
      "metadata": {
        "colab": {
          "base_uri": "https://localhost:8080/"
        },
        "id": "TQPZOVBxvmmw",
        "outputId": "e2ab83a5-a3c8-48b4-8d7b-f33d6745478e"
      },
      "execution_count": 99,
      "outputs": [
        {
          "output_type": "execute_result",
          "data": {
            "text/plain": [
              "(array([0.935, 0.784, 0.62 , 0.605, 0.705, 0.607, 0.557, 0.547, 0.506,\n",
              "        0.497, 0.693, 0.665, 0.645, 0.628, 0.615, 0.604, 0.595, 0.587,\n",
              "        0.581, 0.575]),\n",
              " array([0.222, 0.113, 0.   , 0.   , 0.013, 0.   , 0.   , 0.   , 0.   ,\n",
              "        0.   , 0.091, 0.067, 0.   , 0.036, 0.   , 0.   , 0.009, 0.   ,\n",
              "        0.   , 0.   ]))"
            ]
          },
          "metadata": {},
          "execution_count": 99
        }
      ]
    },
    {
      "cell_type": "code",
      "source": [
        "approx4_acqFuncMax = extractAcqFuncMax(approx_4.history) + eps\n",
        "approx4_exploit = exploitExtract(approx_4.history) + eps\n",
        "approx4_ratio = approx4_exploit/approx4_acqFuncMax\n",
        "\n",
        "np.round(approx4_acqFuncMax, 3), np.round(approx4_exploit, 3)\n"
      ],
      "metadata": {
        "colab": {
          "base_uri": "https://localhost:8080/"
        },
        "id": "GnRH8wU8vmvg",
        "outputId": "f58e37f5-07ca-4f87-db98-f8cdd337a77c"
      },
      "execution_count": 100,
      "outputs": [
        {
          "output_type": "execute_result",
          "data": {
            "text/plain": [
              "(array([3.792, 1.491, 1.141, 1.131, 1.422, 0.922, 0.376, 0.402, 0.42 ,\n",
              "        0.432, 0.442, 0.449, 0.454, 0.458, 0.462, 0.465, 0.467, 0.469,\n",
              "        0.471, 0.472]),\n",
              " array([3.685, 0.977, 0.499, 0.554, 0.816, 0.308, 0.   , 0.   , 0.   ,\n",
              "        0.   , 0.   , 0.   , 0.   , 0.   , 0.   , 0.   , 0.   , 0.   ,\n",
              "        0.   , 0.   ]))"
            ]
          },
          "metadata": {},
          "execution_count": 100
        }
      ]
    },
    {
      "cell_type": "code",
      "source": [
        "approx5_acqFuncMax = extractAcqFuncMax(approx_5.history) + eps\n",
        "approx5_exploit = exploitExtract(approx_5.history) + eps\n",
        "approx5_ratio = approx5_exploit/approx5_acqFuncMax\n",
        "\n",
        "np.round(approx5_acqFuncMax, 3), np.round(approx5_exploit, 3)\n"
      ],
      "metadata": {
        "colab": {
          "base_uri": "https://localhost:8080/"
        },
        "id": "qlQrBWFjvm5V",
        "outputId": "a48820a4-626a-45f8-8021-f36cacdba66e"
      },
      "execution_count": 101,
      "outputs": [
        {
          "output_type": "execute_result",
          "data": {
            "text/plain": [
              "(array([0.523, 0.513, 0.509, 0.489, 0.423, 0.401, 0.428, 0.432, 0.43 ,\n",
              "        0.425, 0.419, 0.413, 0.407, 0.402, 0.397, 0.394, 0.378, 0.323,\n",
              "        0.326, 0.329]),\n",
              " array([-0., -0.,  0.,  0.,  0.,  0.,  0.,  0.,  0.,  0.,  0.,  0.,  0.,\n",
              "         0.,  0.,  0.,  0.,  0.,  0.,  0.]))"
            ]
          },
          "metadata": {},
          "execution_count": 101
        }
      ]
    },
    {
      "cell_type": "code",
      "source": [
        "approx6_acqFuncMax = extractAcqFuncMax(approx_6.history) + eps\n",
        "approx6_exploit = exploitExtract(approx_6.history) + eps\n",
        "approx6_ratio = approx6_exploit/approx6_acqFuncMax\n",
        "\n",
        "np.round(approx6_acqFuncMax, 3), np.round(approx6_exploit, 3)\n"
      ],
      "metadata": {
        "colab": {
          "base_uri": "https://localhost:8080/"
        },
        "id": "Ikyi5fCtvnCI",
        "outputId": "f85b4e0f-3535-431b-d727-ca0534b05ca2"
      },
      "execution_count": 102,
      "outputs": [
        {
          "output_type": "execute_result",
          "data": {
            "text/plain": [
              "(array([0.752, 0.662, 0.461, 0.48 , 0.493, 0.502, 0.508, 0.513, 0.517,\n",
              "        0.521, 0.523, 0.526, 0.527, 0.529, 0.531, 0.532, 0.533, 0.534,\n",
              "        0.535, 0.536]),\n",
              " array([ 0.003,  0.   ,  0.   ,  0.   , -0.   ,  0.   ,  0.   ,  0.   ,\n",
              "         0.   ,  0.   ,  0.   ,  0.   , -0.   ,  0.   ,  0.   ,  0.   ,\n",
              "         0.   ,  0.   ,  0.   , -0.   ]))"
            ]
          },
          "metadata": {},
          "execution_count": 102
        }
      ]
    },
    {
      "cell_type": "code",
      "source": [
        "approx7_acqFuncMax = extractAcqFuncMax(approx_7.history) + eps\n",
        "approx7_exploit = exploitExtract(approx_7.history) + eps\n",
        "approx7_ratio = approx7_exploit/approx7_acqFuncMax\n",
        "\n",
        "np.round(approx7_acqFuncMax, 3), np.round(approx7_exploit, 3)\n"
      ],
      "metadata": {
        "colab": {
          "base_uri": "https://localhost:8080/"
        },
        "id": "SocrfrpHvnKw",
        "outputId": "20a8b505-084b-4197-a4f4-8c509ef7ad0b"
      },
      "execution_count": 103,
      "outputs": [
        {
          "output_type": "execute_result",
          "data": {
            "text/plain": [
              "(array([0.629, 0.587, 0.653, 0.621, 0.578, 0.58 , 0.575, 0.556, 0.549,\n",
              "        0.541, 0.589, 0.495, 0.454, 0.652, 0.517, 0.435, 0.382, 0.344,\n",
              "        0.316, 0.295]),\n",
              " array([ 0.  , -0.19,  0.  ,  0.  ,  0.  ,  0.  , -0.  ,  0.  ,  0.  ,\n",
              "         0.  ,  0.  ,  0.  ,  0.  ,  0.  ,  0.  ,  0.  ,  0.  ,  0.  ,\n",
              "         0.  ,  0.  ]))"
            ]
          },
          "metadata": {},
          "execution_count": 103
        }
      ]
    },
    {
      "cell_type": "code",
      "source": [
        "approx8_acqFuncMax = extractAcqFuncMax(approx_8.history) + eps\n",
        "approx8_exploit = exploitExtract(approx_8.history) + eps\n",
        "approx8_ratio = approx8_exploit/approx8_acqFuncMax\n",
        "\n",
        "np.round(approx8_acqFuncMax, 3), np.round(approx8_exploit, 3)\n"
      ],
      "metadata": {
        "colab": {
          "base_uri": "https://localhost:8080/"
        },
        "id": "Zmy0_HJevnTH",
        "outputId": "d37b896a-c048-49f4-cba3-ec8160f6da3b"
      },
      "execution_count": 104,
      "outputs": [
        {
          "output_type": "execute_result",
          "data": {
            "text/plain": [
              "(array([0.915, 0.808, 0.976, 0.687, 0.658, 0.639, 0.624, 0.614, 0.605,\n",
              "        0.598, 0.592, 0.587, 0.583, 0.579, 0.576, 0.573, 0.571, 0.568,\n",
              "        0.567, 0.564]),\n",
              " array([0.163, 0.054, 0.337, 0.045, 0.034, 0.025, 0.018, 0.013, 0.008,\n",
              "        0.005, 0.002, 0.   , 0.   , 0.   , 0.   , 0.   , 0.   , 0.   ,\n",
              "        0.   , 0.   ]))"
            ]
          },
          "metadata": {},
          "execution_count": 104
        }
      ]
    },
    {
      "cell_type": "code",
      "source": [
        "approx9_acqFuncMax = extractAcqFuncMax(approx_9.history) + eps\n",
        "approx9_exploit = exploitExtract(approx_9.history) + eps\n",
        "approx9_ratio = approx9_exploit/approx9_acqFuncMax\n",
        "\n",
        "np.round(approx9_acqFuncMax, 3), np.round(approx9_exploit, 3)\n"
      ],
      "metadata": {
        "colab": {
          "base_uri": "https://localhost:8080/"
        },
        "id": "0sxBONQwvncD",
        "outputId": "a8874374-bbd2-465b-94e4-eb1d0c76728e"
      },
      "execution_count": 105,
      "outputs": [
        {
          "output_type": "execute_result",
          "data": {
            "text/plain": [
              "(array([1.683, 1.682, 1.506, 1.043, 1.639, 1.256, 1.015, 0.53 , 0.539,\n",
              "        0.544, 0.547, 0.549, 0.551, 0.553, 0.554, 0.555, 0.555, 0.556,\n",
              "        0.557, 0.557]),\n",
              " array([1.057, 1.056, 0.831, 0.   , 1.029, 0.519, 0.358, 0.   , 0.   ,\n",
              "        0.   , 0.   , 0.   , 0.   , 0.   , 0.   , 0.   , 0.   , 0.   ,\n",
              "        0.   , 0.   ]))"
            ]
          },
          "metadata": {},
          "execution_count": 105
        }
      ]
    },
    {
      "cell_type": "code",
      "source": [
        "approx10_acqFuncMax = extractAcqFuncMax(approx_10.history) + eps\n",
        "approx10_exploit = exploitExtract(approx_10.history) + eps\n",
        "approx10_ratio = approx10_exploit/approx10_acqFuncMax\n",
        "\n",
        "np.round(approx10_acqFuncMax, 3), np.round(approx10_exploit, 3)\n"
      ],
      "metadata": {
        "colab": {
          "base_uri": "https://localhost:8080/"
        },
        "id": "-hi6-IrGvnjw",
        "outputId": "ba38c1d3-72ac-4054-ac3e-abf3ebca6206"
      },
      "execution_count": 106,
      "outputs": [
        {
          "output_type": "execute_result",
          "data": {
            "text/plain": [
              "(array([1.243, 1.2  , 1.246, 4.703, 2.362, 1.715, 1.393, 1.204, 1.081,\n",
              "        0.995, 0.931, 0.883, 0.844, 0.813, 0.788, 0.767, 0.748, 0.733,\n",
              "        0.719, 0.707]),\n",
              " array([0.502, 0.455, 0.506, 4.666, 2.089, 1.313, 0.922, 0.695, 0.549,\n",
              "        0.   , 0.377, 0.   , 0.28 , 0.247, 0.219, 0.196, 0.177, 0.161,\n",
              "        0.147, 0.135]))"
            ]
          },
          "metadata": {},
          "execution_count": 106
        }
      ]
    },
    {
      "cell_type": "code",
      "source": [
        "approx11_acqFuncMax = extractAcqFuncMax(approx_11.history) + eps\n",
        "approx11_exploit = exploitExtract(approx_11.history) + eps\n",
        "approx11_ratio = approx11_exploit/approx11_acqFuncMax\n",
        "\n",
        "np.round(approx11_acqFuncMax, 3), np.round(approx11_exploit, 3)\n"
      ],
      "metadata": {
        "colab": {
          "base_uri": "https://localhost:8080/"
        },
        "id": "H1AV-5wnvnsn",
        "outputId": "d887e3d8-6d2d-4e62-f15b-2b27351a84a3"
      },
      "execution_count": 107,
      "outputs": [
        {
          "output_type": "execute_result",
          "data": {
            "text/plain": [
              "(array([0.501, 0.499, 0.588, 0.479, 0.43 , 0.402, 0.384, 0.372, 0.362,\n",
              "        0.355, 0.35 , 0.345, 0.341, 0.338, 0.335, 0.333, 0.331, 0.329,\n",
              "        0.327, 0.326]),\n",
              " array([0., 0., 0., 0., 0., 0., 0., 0., 0., 0., 0., 0., 0., 0., 0., 0., 0.,\n",
              "        0., 0., 0.]))"
            ]
          },
          "metadata": {},
          "execution_count": 107
        }
      ]
    },
    {
      "cell_type": "code",
      "source": [
        "approx12_acqFuncMax = extractAcqFuncMax(approx_12.history) + eps\n",
        "approx12_exploit = exploitExtract(approx_12.history) + eps\n",
        "approx12_ratio = approx12_exploit/approx12_acqFuncMax\n",
        "\n",
        "np.round(approx12_acqFuncMax, 3), np.round(approx12_exploit, 3)\n"
      ],
      "metadata": {
        "colab": {
          "base_uri": "https://localhost:8080/"
        },
        "id": "YlkQrTV6vn0w",
        "outputId": "6ec65d27-6961-4f2f-d8b9-fd8bb96c64c2"
      },
      "execution_count": 108,
      "outputs": [
        {
          "output_type": "execute_result",
          "data": {
            "text/plain": [
              "(array([2.608, 0.996, 0.996, 0.988, 0.98 , 0.878, 0.836, 0.571, 0.441,\n",
              "        0.366, 0.317, 0.284, 0.26 , 0.241, 0.227, 0.215, 0.206, 0.198,\n",
              "        0.192, 0.186]),\n",
              " array([2.317, 0.211, 0.342, 0.345, 0.352, 0.176, 0.   , 0.   , 0.   ,\n",
              "        0.   , 0.   , 0.   , 0.   , 0.   , 0.   , 0.   , 0.   , 0.   ,\n",
              "        0.   , 0.   ]))"
            ]
          },
          "metadata": {},
          "execution_count": 108
        }
      ]
    },
    {
      "cell_type": "code",
      "source": [
        "approx13_acqFuncMax = extractAcqFuncMax(approx_13.history) + eps\n",
        "approx13_exploit = exploitExtract(approx_13.history) + eps\n",
        "approx13_ratio = approx13_exploit/approx13_acqFuncMax\n",
        "\n",
        "np.round(approx13_acqFuncMax, 3), np.round(approx13_exploit, 3)\n"
      ],
      "metadata": {
        "colab": {
          "base_uri": "https://localhost:8080/"
        },
        "id": "cw8ngwKsvn82",
        "outputId": "ef3fb5dd-d149-424a-a9c0-0117d188ce71"
      },
      "execution_count": 109,
      "outputs": [
        {
          "output_type": "execute_result",
          "data": {
            "text/plain": [
              "(array([2.686, 1.23 , 1.23 , 1.23 , 1.225, 0.482, 0.498, 0.508, 0.514,\n",
              "        0.519, 0.522, 0.525, 0.527, 0.529, 0.53 , 0.531, 0.532, 0.533,\n",
              "        0.534, 0.535]),\n",
              " array([2.381, 0.487, 0.487, 0.487, 0.516, 0.   , 0.   , 0.   , 0.   ,\n",
              "        0.   , 0.   , 0.   , 0.   , 0.   , 0.   , 0.   , 0.   , 0.   ,\n",
              "        0.   , 0.   ]))"
            ]
          },
          "metadata": {},
          "execution_count": 109
        }
      ]
    },
    {
      "cell_type": "code",
      "source": [
        "approx14_acqFuncMax = extractAcqFuncMax(approx_14.history) + eps\n",
        "approx14_exploit = exploitExtract(approx_14.history) + eps\n",
        "approx14_ratio = approx14_exploit/approx14_acqFuncMax\n",
        "\n",
        "np.round(approx14_acqFuncMax, 3), np.round(approx14_exploit, 3)\n"
      ],
      "metadata": {
        "colab": {
          "base_uri": "https://localhost:8080/"
        },
        "id": "SnxJgM50voEV",
        "outputId": "072b15b4-41fb-4bca-ad95-5a05d29c3956"
      },
      "execution_count": 110,
      "outputs": [
        {
          "output_type": "execute_result",
          "data": {
            "text/plain": [
              "(array([0.387, 0.387, 0.387, 0.387, 0.483, 0.48 , 0.482, 0.475, 0.468,\n",
              "        0.464, 0.462, 0.459, 0.457, 0.453, 0.451, 0.45 , 0.449, 0.448,\n",
              "        0.447, 0.444]),\n",
              " array([-0.312, -0.312, -0.312, -0.312,  0.   ,  0.   , -0.013,  0.   ,\n",
              "         0.   ,  0.   ,  0.   ,  0.   ,  0.   ,  0.   ,  0.   ,  0.   ,\n",
              "         0.   ,  0.   ,  0.   ,  0.   ]))"
            ]
          },
          "metadata": {},
          "execution_count": 110
        }
      ]
    },
    {
      "cell_type": "code",
      "source": [
        "approx15_acqFuncMax = extractAcqFuncMax(approx_15.history) + eps\n",
        "approx15_exploit = exploitExtract(approx_15.history) + eps\n",
        "approx15_ratio = approx15_exploit/approx15_acqFuncMax\n",
        "\n",
        "np.round(approx15_acqFuncMax, 3), np.round(approx15_exploit, 3)\n"
      ],
      "metadata": {
        "colab": {
          "base_uri": "https://localhost:8080/"
        },
        "id": "MrcPmB4DvoMK",
        "outputId": "28539c9d-148a-4e6e-ca83-9e9c2d85a65b"
      },
      "execution_count": 111,
      "outputs": [
        {
          "output_type": "execute_result",
          "data": {
            "text/plain": [
              "(array([2.268, 2.265, 2.247, 2.967, 0.946, 0.825, 0.756, 0.74 , 1.621,\n",
              "        1.334, 1.158, 1.039, 0.953, 0.888, 0.837, 0.797, 0.763, 0.735,\n",
              "        0.711, 0.691]),\n",
              " array([1.815, 1.809, 1.786, 2.751, 0.302, 0.198, 0.139, 0.102, 1.196,\n",
              "        0.851, 0.64 , 0.5  , 0.   , 0.327, 0.27 , 0.226, 0.   , 0.   ,\n",
              "        0.   , 0.114]))"
            ]
          },
          "metadata": {},
          "execution_count": 111
        }
      ]
    },
    {
      "cell_type": "code",
      "source": [
        "approx16_acqFuncMax = extractAcqFuncMax(approx_16.history) + eps\n",
        "approx16_exploit = exploitExtract(approx_16.history) + eps\n",
        "approx16_ratio = approx16_exploit/approx16_acqFuncMax\n",
        "\n",
        "np.round(approx16_acqFuncMax, 3), np.round(approx16_exploit, 3)\n"
      ],
      "metadata": {
        "colab": {
          "base_uri": "https://localhost:8080/"
        },
        "id": "2qaM50VBvoT9",
        "outputId": "ded89644-2e86-4dfe-ebf0-bc7d6a8e0b59"
      },
      "execution_count": 112,
      "outputs": [
        {
          "output_type": "execute_result",
          "data": {
            "text/plain": [
              "(array([2.054, 2.048, 2.042, 1.485, 1.012, 0.798, 0.767, 0.745, 0.679,\n",
              "        0.659, 0.643, 0.631, 0.621, 0.613, 0.606, 0.6  , 0.595, 0.59 ,\n",
              "        0.586, 0.583]),\n",
              " array([1.537, 1.53 , 1.522, 0.   , 0.385, 0.   , 0.059, 0.119, 0.   ,\n",
              "        0.05 , 0.   , 0.   , 0.   , 0.   , 0.   , 0.   , 0.01 , 0.007,\n",
              "        0.004, 0.002]))"
            ]
          },
          "metadata": {},
          "execution_count": 112
        }
      ]
    },
    {
      "cell_type": "code",
      "source": [
        "approx17_acqFuncMax = extractAcqFuncMax(approx_17.history) + eps\n",
        "approx17_exploit = exploitExtract(approx_17.history) + eps\n",
        "approx17_ratio = approx17_exploit/approx17_acqFuncMax\n",
        "\n",
        "np.round(approx17_acqFuncMax, 3), np.round(approx17_exploit, 3)\n"
      ],
      "metadata": {
        "colab": {
          "base_uri": "https://localhost:8080/"
        },
        "id": "NcYxsy0Rvobx",
        "outputId": "e1d0ebaf-12b6-443f-a958-a5e42dca4c95"
      },
      "execution_count": 113,
      "outputs": [
        {
          "output_type": "execute_result",
          "data": {
            "text/plain": [
              "(array([2.44 , 1.591, 1.524, 1.418, 1.424, 1.871, 0.786, 0.723, 0.682,\n",
              "        0.657, 0.641, 0.629, 0.621, 0.614, 0.609, 0.604, 0.601, 0.598,\n",
              "        0.595, 0.593]),\n",
              " array([2.077, 0.94 , 0.858, 0.729, 0.743, 1.409, 0.128, 0.089, 0.061,\n",
              "        0.046, 0.036, 0.   , 0.025, 0.021, 0.019, 0.016, 0.015, 0.013,\n",
              "        0.   , 0.   ]))"
            ]
          },
          "metadata": {},
          "execution_count": 113
        }
      ]
    },
    {
      "cell_type": "code",
      "source": [
        "approx18_acqFuncMax = extractAcqFuncMax(approx_18.history) + eps\n",
        "approx18_exploit = exploitExtract(approx_18.history) + eps\n",
        "approx18_ratio = approx18_exploit/approx18_acqFuncMax\n",
        "\n",
        "np.round(approx18_acqFuncMax, 3), np.round(approx18_exploit, 3)\n"
      ],
      "metadata": {
        "colab": {
          "base_uri": "https://localhost:8080/"
        },
        "id": "1o1ZW4xZvojY",
        "outputId": "ba40f995-ef4d-463e-ee07-dffc5764cbf2"
      },
      "execution_count": 114,
      "outputs": [
        {
          "output_type": "execute_result",
          "data": {
            "text/plain": [
              "(array([2.217, 1.023, 0.34 , 0.366, 0.398, 0.422, 0.439, 0.452, 0.463,\n",
              "        0.471, 0.479, 0.485, 0.49 , 0.494, 0.498, 0.502, 0.505, 0.508,\n",
              "        0.51 , 0.512]),\n",
              " array([1.747, 0.324, 0.   , 0.   , 0.   , 0.   , 0.   , 0.   , 0.   ,\n",
              "        0.   , 0.   , 0.   , 0.   , 0.   , 0.   , 0.   , 0.   , 0.   ,\n",
              "        0.   , 0.   ]))"
            ]
          },
          "metadata": {},
          "execution_count": 114
        }
      ]
    },
    {
      "cell_type": "code",
      "source": [
        "approx19_acqFuncMax = extractAcqFuncMax(approx_19.history) + eps\n",
        "approx19_exploit = exploitExtract(approx_19.history) + eps\n",
        "approx19_ratio = approx19_exploit/approx19_acqFuncMax\n",
        "\n",
        "np.round(approx19_acqFuncMax, 3), np.round(approx19_exploit, 3)\n"
      ],
      "metadata": {
        "colab": {
          "base_uri": "https://localhost:8080/"
        },
        "id": "ZyY6Ebhfvop6",
        "outputId": "6c740661-16f3-469b-c255-c9bdab5b6803"
      },
      "execution_count": 115,
      "outputs": [
        {
          "output_type": "execute_result",
          "data": {
            "text/plain": [
              "(array([5.924, 6.421, 4.554, 3.328, 0.185, 0.254, 0.305, 0.341, 0.369,\n",
              "        0.39 , 0.406, 0.42 , 0.431, 0.44 , 0.448, 0.455, 0.461, 0.467,\n",
              "        0.471, 0.476]),\n",
              " array([5.916, 6.417, 4.497, 3.131, 0.   , 0.   , 0.   , 0.   , 0.   ,\n",
              "        0.   , 0.   , 0.   , 0.   , 0.   , 0.   , 0.   , 0.   , 0.   ,\n",
              "        0.   , 0.   ]))"
            ]
          },
          "metadata": {},
          "execution_count": 115
        }
      ]
    },
    {
      "cell_type": "code",
      "source": [
        "approx20_acqFuncMax = extractAcqFuncMax(approx_20.history) + eps\n",
        "approx20_exploit = exploitExtract(approx_20.history) + eps\n",
        "approx20_ratio = approx20_exploit/approx20_acqFuncMax\n",
        "\n",
        "np.round(approx20_acqFuncMax, 3), np.round(approx20_exploit, 3)\n"
      ],
      "metadata": {
        "colab": {
          "base_uri": "https://localhost:8080/"
        },
        "id": "voIxbv_Lvo3N",
        "outputId": "269c4277-ac0b-4150-b097-5f98e9e69675"
      },
      "execution_count": 116,
      "outputs": [
        {
          "output_type": "execute_result",
          "data": {
            "text/plain": [
              "(array([1.623, 1.668, 0.709, 0.354, 0.405, 0.436, 0.456, 0.47 , 0.481,\n",
              "        0.489, 0.496, 0.501, 0.505, 0.509, 0.512, 0.515, 0.518, 0.52 ,\n",
              "        0.522, 0.523]),\n",
              " array([0.983, 1.04 , 0.   , 0.   , 0.   , 0.   , 0.   , 0.   , 0.   ,\n",
              "        0.   , 0.   , 0.   , 0.   , 0.   , 0.   , 0.   , 0.   , 0.   ,\n",
              "        0.   , 0.   ]))"
            ]
          },
          "metadata": {},
          "execution_count": 116
        }
      ]
    },
    {
      "cell_type": "code",
      "source": [
        "exact1_acqFuncMax = extractAcqFuncMax(exact_1.history) + eps\n",
        "exact1_exploit = exploitExtract(exact_1.history) + eps\n",
        "exact1_ratio = exact1_exploit/exact1_acqFuncMax\n",
        "\n",
        "np.round(exact1_acqFuncMax, 3), np.round(exact1_exploit, 3)\n"
      ],
      "metadata": {
        "colab": {
          "base_uri": "https://localhost:8080/"
        },
        "id": "13ypDM-0tX-8",
        "outputId": "57d7e15f-b5d6-4cbd-9468-ef9ed4e1492f"
      },
      "execution_count": 117,
      "outputs": [
        {
          "output_type": "execute_result",
          "data": {
            "text/plain": [
              "(array([1.338, 0.812, 0.706, 0.697, 0.672, 0.672, 0.559, 0.435, 0.359,\n",
              "        0.487, 0.834, 0.658, 0.509, 0.524, 0.432, 0.324, 0.33 , 0.268,\n",
              "        0.419, 0.316]),\n",
              " array([0.629, 0.111, 0.   , 0.   , 0.   , 0.   , 0.   , 0.   , 0.   ,\n",
              "        0.   , 0.203, 0.   , 0.   , 0.   , 0.   , 0.   , 0.   , 0.   ,\n",
              "        0.   , 0.   ]))"
            ]
          },
          "metadata": {},
          "execution_count": 117
        }
      ]
    },
    {
      "cell_type": "code",
      "source": [
        "exact2_acqFuncMax = extractAcqFuncMax(exact_2.history) + eps\n",
        "exact2_exploit = exploitExtract(exact_2.history) + eps\n",
        "exact2_ratio = exact2_exploit/exact2_acqFuncMax\n",
        "\n",
        "np.round(exact2_acqFuncMax, 3), np.round(exact2_exploit, 3)\n"
      ],
      "metadata": {
        "colab": {
          "base_uri": "https://localhost:8080/"
        },
        "id": "AThtbAyHtYCa",
        "outputId": "9f4fad41-13d7-4c24-f58a-4ff1008d4e09"
      },
      "execution_count": 118,
      "outputs": [
        {
          "output_type": "execute_result",
          "data": {
            "text/plain": [
              "(array([0.902, 0.804, 0.804, 0.803, 0.798, 1.301, 0.981, 0.796, 0.658,\n",
              "        1.085, 0.752, 0.597, 0.207, 0.314, 0.287, 0.439, 0.35 , 0.347,\n",
              "        0.33 , 0.234]),\n",
              " array([0.169, 0.006, 0.006, 0.017, 0.015, 0.   , 0.205, 0.156, 0.   ,\n",
              "        0.519, 0.   , 0.   , 0.   , 0.   , 0.   , 0.   , 0.   , 0.   ,\n",
              "        0.   , 0.   ]))"
            ]
          },
          "metadata": {},
          "execution_count": 118
        }
      ]
    },
    {
      "cell_type": "code",
      "source": [
        "exact3_acqFuncMax = extractAcqFuncMax(exact_3.history) + eps\n",
        "exact3_exploit = exploitExtract(exact_3.history) + eps\n",
        "exact3_ratio = exact3_exploit/exact3_acqFuncMax\n",
        "\n",
        "np.round(exact3_acqFuncMax, 3), np.round(exact3_exploit, 3)\n"
      ],
      "metadata": {
        "colab": {
          "base_uri": "https://localhost:8080/"
        },
        "id": "lTX9JQs8v2uD",
        "outputId": "2287cc40-450a-41ee-a4c1-dad0eda8de6a"
      },
      "execution_count": 119,
      "outputs": [
        {
          "output_type": "execute_result",
          "data": {
            "text/plain": [
              "(array([0.935, 0.787, 0.656, 0.762, 0.635, 0.588, 0.596, 0.587, 0.579,\n",
              "        0.459, 0.384, 0.387, 0.397, 0.387, 0.371, 0.361, 0.385, 0.367,\n",
              "        0.385, 0.369]),\n",
              " array([0.082, 0.06 , 0.002, 0.052, 0.   , 0.   , 0.   , 0.   , 0.   ,\n",
              "        0.   , 0.   , 0.   , 0.   , 0.   , 0.   , 0.   , 0.   , 0.   ,\n",
              "        0.   , 0.   ]))"
            ]
          },
          "metadata": {},
          "execution_count": 119
        }
      ]
    },
    {
      "cell_type": "code",
      "source": [
        "exact4_acqFuncMax = extractAcqFuncMax(exact_4.history) + eps\n",
        "exact4_exploit = exploitExtract(exact_4.history) + eps\n",
        "exact4_ratio = exact4_exploit/exact4_acqFuncMax\n",
        "\n",
        "np.round(exact4_acqFuncMax, 3), np.round(exact4_exploit, 3)\n"
      ],
      "metadata": {
        "colab": {
          "base_uri": "https://localhost:8080/"
        },
        "id": "ubS53hcMv23S",
        "outputId": "476bb576-61ad-4eeb-a8d4-8633ff407461"
      },
      "execution_count": 120,
      "outputs": [
        {
          "output_type": "execute_result",
          "data": {
            "text/plain": [
              "(array([2.802, 1.462, 1.008, 0.634, 0.634, 0.179, 0.397, 0.39 , 0.303,\n",
              "        0.196, 0.419, 0.094, 0.399, 0.391, 0.338, 0.385, 0.472, 0.478,\n",
              "        0.376, 0.11 ]),\n",
              " array([2.513, 0.758, 0.342, 0.   , 0.   , 0.   , 0.   , 0.   , 0.   ,\n",
              "        0.   , 0.   , 0.   , 0.   , 0.   , 0.   , 0.   , 0.   , 0.   ,\n",
              "        0.   , 0.   ]))"
            ]
          },
          "metadata": {},
          "execution_count": 120
        }
      ]
    },
    {
      "cell_type": "code",
      "source": [
        "exact5_acqFuncMax = extractAcqFuncMax(exact_5.history) + eps\n",
        "exact5_exploit = exploitExtract(exact_5.history) + eps\n",
        "exact5_ratio = exact5_exploit/exact5_acqFuncMax\n",
        "\n",
        "np.round(exact5_acqFuncMax, 3), np.round(exact5_exploit, 3)\n"
      ],
      "metadata": {
        "colab": {
          "base_uri": "https://localhost:8080/"
        },
        "id": "S_k0naQ1v2_p",
        "outputId": "4f5686c1-a3f4-43bc-9c64-67a40e17b692"
      },
      "execution_count": 121,
      "outputs": [
        {
          "output_type": "execute_result",
          "data": {
            "text/plain": [
              "(array([0.521, 0.511, 0.514, 0.439, 0.422, 0.406, 0.377, 0.382, 0.316,\n",
              "        0.344, 0.31 , 0.3  , 0.35 , 0.375, 0.392, 0.401, 0.407, 0.413,\n",
              "        0.412, 0.415]),\n",
              " array([-0.   , -0.008,  0.   ,  0.   ,  0.   ,  0.   ,  0.   ,  0.   ,\n",
              "         0.   ,  0.   ,  0.   ,  0.   ,  0.   ,  0.   ,  0.   ,  0.   ,\n",
              "         0.   ,  0.   ,  0.   ,  0.   ]))"
            ]
          },
          "metadata": {},
          "execution_count": 121
        }
      ]
    },
    {
      "cell_type": "code",
      "source": [
        "exact6_acqFuncMax = extractAcqFuncMax(exact_6.history) + eps\n",
        "exact6_exploit = exploitExtract(exact_6.history) + eps\n",
        "exact6_ratio = exact6_exploit/exact6_acqFuncMax\n",
        "\n",
        "np.round(exact6_acqFuncMax, 3), np.round(exact6_exploit, 3)\n"
      ],
      "metadata": {
        "colab": {
          "base_uri": "https://localhost:8080/"
        },
        "id": "5tT6L8Jiv3Ha",
        "outputId": "7a039a82-1836-49b4-c8ff-dbd843aecb58"
      },
      "execution_count": 122,
      "outputs": [
        {
          "output_type": "execute_result",
          "data": {
            "text/plain": [
              "(array([0.749, 0.624, 0.572, 0.403, 0.434, 0.4  , 0.38 , 0.41 , 0.413,\n",
              "        0.418, 0.365, 0.413, 0.425, 0.432, 0.321, 0.391, 0.278, 0.151,\n",
              "        0.337, 0.365]),\n",
              " array([0.001, 0.   , 0.   , 0.   , 0.   , 0.   , 0.   , 0.   , 0.   ,\n",
              "        0.   , 0.   , 0.   , 0.   , 0.   , 0.   , 0.   , 0.   , 0.   ,\n",
              "        0.   , 0.   ]))"
            ]
          },
          "metadata": {},
          "execution_count": 122
        }
      ]
    },
    {
      "cell_type": "code",
      "source": [
        "exact7_acqFuncMax = extractAcqFuncMax(exact_7.history) + eps\n",
        "exact7_exploit = exploitExtract(exact_7.history) + eps\n",
        "exact7_ratio = exact7_exploit/exact7_acqFuncMax\n",
        "\n",
        "np.round(exact7_acqFuncMax, 3), np.round(exact7_exploit, 3)\n"
      ],
      "metadata": {
        "colab": {
          "base_uri": "https://localhost:8080/"
        },
        "id": "JJUBcR5nv3Pi",
        "outputId": "32e9ba2d-af03-4464-b9f1-f282393c86e7"
      },
      "execution_count": 123,
      "outputs": [
        {
          "output_type": "execute_result",
          "data": {
            "text/plain": [
              "(array([0.629, 0.587, 0.649, 0.623, 0.525, 0.525, 0.512, 0.368, 0.188,\n",
              "        0.244, 0.228, 0.187, 0.086, 0.192, 0.039, 0.193, 0.14 , 0.159,\n",
              "        0.13 , 0.152]),\n",
              " array([ 0.  , -0.19, -0.  ,  0.  ,  0.  ,  0.  ,  0.  ,  0.  ,  0.  ,\n",
              "         0.  ,  0.  ,  0.  ,  0.  ,  0.  ,  0.  ,  0.  ,  0.  ,  0.  ,\n",
              "         0.  ,  0.  ]))"
            ]
          },
          "metadata": {},
          "execution_count": 123
        }
      ]
    },
    {
      "cell_type": "code",
      "source": [
        "exact8_acqFuncMax = extractAcqFuncMax(exact_8.history) + eps\n",
        "exact8_exploit = exploitExtract(exact_8.history) + eps\n",
        "exact8_ratio = exact8_exploit/exact8_acqFuncMax\n",
        "\n",
        "np.round(exact8_acqFuncMax, 3), np.round(exact8_exploit, 3)\n"
      ],
      "metadata": {
        "colab": {
          "base_uri": "https://localhost:8080/"
        },
        "id": "gaaabxY9v3X_",
        "outputId": "08d21240-0e57-471e-c3ce-0c11431d61e1"
      },
      "execution_count": 124,
      "outputs": [
        {
          "output_type": "execute_result",
          "data": {
            "text/plain": [
              "(array([0.902, 0.692, 0.531, 0.554, 0.569, 0.512, 0.518, 0.551, 0.561,\n",
              "        0.554, 0.55 , 0.526, 0.555, 0.554, 0.519, 0.528, 0.541, 0.461,\n",
              "        0.602, 0.4  ]),\n",
              " array([0.161, 0.   , 0.   , 0.   , 0.   , 0.   , 0.   , 0.   , 0.   ,\n",
              "        0.   , 0.   , 0.   , 0.   , 0.   , 0.   , 0.   , 0.   , 0.   ,\n",
              "        0.   , 0.   ]))"
            ]
          },
          "metadata": {},
          "execution_count": 124
        }
      ]
    },
    {
      "cell_type": "code",
      "source": [
        "exact9_acqFuncMax = extractAcqFuncMax(exact_9.history) + eps\n",
        "exact9_exploit = exploitExtract(exact_9.history) + eps\n",
        "exact9_ratio = exact9_exploit/exact9_acqFuncMax\n",
        "\n",
        "np.round(exact9_acqFuncMax, 3), np.round(exact9_exploit, 3)\n"
      ],
      "metadata": {
        "colab": {
          "base_uri": "https://localhost:8080/"
        },
        "id": "rILOuznAv3fc",
        "outputId": "7cf7285a-7eef-4eb4-d469-179039eb0da3"
      },
      "execution_count": 125,
      "outputs": [
        {
          "output_type": "execute_result",
          "data": {
            "text/plain": [
              "(array([1.682, 1.681, 1.422, 1.193, 1.722, 1.044, 0.367, 0.136, 0.069,\n",
              "        0.203, 0.188, 0.194, 0.181, 0.052, 0.191, 0.337, 0.281, 0.003,\n",
              "        0.399, 0.247]),\n",
              " array([1.057, 1.053, 0.764, 0.   , 0.999, 0.252, 0.   , 0.   , 0.   ,\n",
              "        0.   , 0.   , 0.   , 0.   , 0.   , 0.   , 0.   , 0.   , 0.   ,\n",
              "        0.   , 0.   ]))"
            ]
          },
          "metadata": {},
          "execution_count": 125
        }
      ]
    },
    {
      "cell_type": "code",
      "source": [
        "exact10_acqFuncMax = extractAcqFuncMax(exact_10.history) + eps\n",
        "exact10_exploit = exploitExtract(exact_10.history) + eps\n",
        "exact10_ratio = exact10_exploit/exact10_acqFuncMax\n",
        "\n",
        "np.round(exact10_acqFuncMax, 3), np.round(exact10_exploit, 3)\n"
      ],
      "metadata": {
        "colab": {
          "base_uri": "https://localhost:8080/"
        },
        "id": "bW1F6YQ7v3o0",
        "outputId": "2daf260c-05cb-4347-cc6f-eb522cf42e53"
      },
      "execution_count": 126,
      "outputs": [
        {
          "output_type": "execute_result",
          "data": {
            "text/plain": [
              "(array([1.243, 1.153, 1.246, 1.246, 1.893, 0.736, 0.244, 0.733, 0.546,\n",
              "        0.309, 0.489, 0.462, 0.406, 0.276, 0.376, 0.291, 0.335, 0.317,\n",
              "        0.319, 0.116]),\n",
              " array([0.502, 0.408, 0.507, 0.506, 1.443, 0.   , 0.   , 0.079, 0.   ,\n",
              "        0.   , 0.   , 0.   , 0.   , 0.   , 0.   , 0.   , 0.   , 0.   ,\n",
              "        0.   , 0.   ]))"
            ]
          },
          "metadata": {},
          "execution_count": 126
        }
      ]
    },
    {
      "cell_type": "code",
      "source": [
        "exact11_acqFuncMax = extractAcqFuncMax(exact_11.history) + eps\n",
        "exact11_exploit = exploitExtract(exact_11.history) + eps\n",
        "exact11_ratio = exact11_exploit/exact11_acqFuncMax\n",
        "\n",
        "np.round(exact11_acqFuncMax, 3), np.round(exact11_exploit, 3)\n"
      ],
      "metadata": {
        "colab": {
          "base_uri": "https://localhost:8080/"
        },
        "id": "4Ev60bH7v3wk",
        "outputId": "f90b2d22-5840-4acf-fff5-ec183f0c5ed0"
      },
      "execution_count": 127,
      "outputs": [
        {
          "output_type": "execute_result",
          "data": {
            "text/plain": [
              "(array([0.498, 0.465, 0.499, 0.176, 0.251, 0.182, 0.279, 0.11 , 0.052,\n",
              "        0.378, 0.076, 0.238, 0.367, 0.121, 0.432, 0.456, 0.379, 0.362,\n",
              "        0.355, 0.09 ]),\n",
              " array([0., 0., 0., 0., 0., 0., 0., 0., 0., 0., 0., 0., 0., 0., 0., 0., 0.,\n",
              "        0., 0., 0.]))"
            ]
          },
          "metadata": {},
          "execution_count": 127
        }
      ]
    },
    {
      "cell_type": "code",
      "source": [
        "exact12_acqFuncMax = extractAcqFuncMax(exact_12.history) + eps\n",
        "exact12_exploit = exploitExtract(exact_12.history) + eps\n",
        "exact12_ratio = exact12_exploit/exact12_acqFuncMax\n",
        "\n",
        "np.round(exact12_acqFuncMax, 3), np.round(exact12_exploit, 3)\n"
      ],
      "metadata": {
        "colab": {
          "base_uri": "https://localhost:8080/"
        },
        "id": "EqCmrsFQv346",
        "outputId": "cfac5e15-fb78-4b41-8e29-ea8787e69c31"
      },
      "execution_count": 128,
      "outputs": [
        {
          "output_type": "execute_result",
          "data": {
            "text/plain": [
              "(array([2.436e+00, 1.097e+00, 1.097e+00, 1.089e+00, 1.088e+00, 8.000e-01,\n",
              "        6.510e-01, 9.200e-02, 4.840e-01, 5.150e-01, 3.510e-01, 2.760e-01,\n",
              "        6.700e-02, 1.660e-01, 1.000e-03, 7.030e-01, 4.650e-01, 4.830e-01,\n",
              "        5.220e-01, 5.650e-01]),\n",
              " array([2.091, 0.328, 0.327, 0.312, 0.467, 0.075, 0.   , 0.   , 0.   ,\n",
              "        0.   , 0.   , 0.   , 0.   , 0.   , 0.   , 0.   , 0.   , 0.   ,\n",
              "        0.   , 0.   ]))"
            ]
          },
          "metadata": {},
          "execution_count": 128
        }
      ]
    },
    {
      "cell_type": "code",
      "source": [
        "exact13_acqFuncMax = extractAcqFuncMax(exact_13.history) + eps\n",
        "exact13_exploit = exploitExtract(exact_13.history) + eps\n",
        "exact13_ratio = exact13_exploit/exact13_acqFuncMax\n",
        "\n",
        "np.round(exact13_acqFuncMax, 3), np.round(exact13_exploit, 3)\n"
      ],
      "metadata": {
        "colab": {
          "base_uri": "https://localhost:8080/"
        },
        "id": "LRD2tlISv3_-",
        "outputId": "ae6503c9-f97b-4a1a-855b-3a63fe02d6ce"
      },
      "execution_count": 129,
      "outputs": [
        {
          "output_type": "execute_result",
          "data": {
            "text/plain": [
              "(array([2.619, 1.599, 1.226, 1.32 , 1.23 , 1.152, 2.213, 1.457, 0.91 ,\n",
              "        0.998, 0.996, 0.904, 0.62 , 0.867, 0.773, 0.831, 0.381, 0.315,\n",
              "        0.164, 0.29 ]),\n",
              " array([2.29 , 0.951, 0.438, 0.   , 0.487, 0.276, 1.882, 0.967, 0.   ,\n",
              "        0.   , 0.43 , 0.   , 0.   , 0.297, 0.192, 0.   , 0.   , 0.   ,\n",
              "        0.   , 0.   ]))"
            ]
          },
          "metadata": {},
          "execution_count": 129
        }
      ]
    },
    {
      "cell_type": "code",
      "source": [
        "exact14_acqFuncMax = extractAcqFuncMax(exact_14.history) + eps\n",
        "exact14_exploit = exploitExtract(exact_14.history) + eps\n",
        "exact14_ratio = exact14_exploit/exact14_acqFuncMax\n",
        "\n",
        "np.round(exact14_acqFuncMax, 3), np.round(exact14_exploit, 3)\n"
      ],
      "metadata": {
        "colab": {
          "base_uri": "https://localhost:8080/"
        },
        "id": "YiCrC-1cv4Hw",
        "outputId": "ed77dcb7-75bb-42de-a363-072ec1cb7fd5"
      },
      "execution_count": 130,
      "outputs": [
        {
          "output_type": "execute_result",
          "data": {
            "text/plain": [
              "(array([0.387, 0.387, 0.387, 0.387, 0.481, 0.485, 0.472, 0.483, 0.427,\n",
              "        0.416, 0.46 , 0.456, 0.444, 0.426, 0.39 , 0.391, 0.387, 0.438,\n",
              "        0.447, 0.422]),\n",
              " array([-0.312, -0.312, -0.312, -0.312,  0.   ,  0.   , -0.   ,  0.   ,\n",
              "        -0.   ,  0.   , -0.   , -0.   ,  0.   ,  0.   , -0.   ,  0.   ,\n",
              "         0.   ,  0.   ,  0.   ,  0.   ]))"
            ]
          },
          "metadata": {},
          "execution_count": 130
        }
      ]
    },
    {
      "cell_type": "code",
      "source": [
        "exact15_acqFuncMax = extractAcqFuncMax(exact_15.history) + eps\n",
        "exact15_exploit = exploitExtract(exact_15.history) + eps\n",
        "exact15_ratio = exact15_exploit/exact15_acqFuncMax\n",
        "\n",
        "np.round(exact15_acqFuncMax, 3), np.round(exact15_exploit, 3)\n"
      ],
      "metadata": {
        "colab": {
          "base_uri": "https://localhost:8080/"
        },
        "id": "2yfZeWaFv4O3",
        "outputId": "0ebcaae3-f734-425d-998c-fe112c86c2d3"
      },
      "execution_count": 131,
      "outputs": [
        {
          "output_type": "execute_result",
          "data": {
            "text/plain": [
              "(array([2.268, 1.286, 1.272, 1.262, 1.208, 1.159, 2.274, 1.152, 0.801,\n",
              "        0.768, 0.697, 0.731, 0.393, 0.682, 0.647, 0.599, 0.471, 0.531,\n",
              "        0.588, 0.569]),\n",
              " array([1.811, 0.555, 0.538, 0.535, 0.468, 0.409, 0.   , 0.   , 0.173,\n",
              "        0.   , 0.078, 0.   , 0.   , 0.088, 0.   , 0.   , 0.   , 0.   ,\n",
              "        0.   , 0.   ]))"
            ]
          },
          "metadata": {},
          "execution_count": 131
        }
      ]
    },
    {
      "cell_type": "code",
      "source": [
        "exact16_acqFuncMax = extractAcqFuncMax(exact_16.history) + eps\n",
        "exact16_exploit = exploitExtract(exact_16.history) + eps\n",
        "exact16_ratio = exact16_exploit/exact16_acqFuncMax\n",
        "\n",
        "np.round(exact16_acqFuncMax, 3), np.round(exact16_exploit, 3)\n"
      ],
      "metadata": {
        "colab": {
          "base_uri": "https://localhost:8080/"
        },
        "id": "oFa3Bt6Bv4W3",
        "outputId": "18dff9c2-8fb5-4752-e7bb-434f165f6a5a"
      },
      "execution_count": 132,
      "outputs": [
        {
          "output_type": "execute_result",
          "data": {
            "text/plain": [
              "(array([2.054, 2.048, 2.042, 1.405, 0.876, 0.439, 0.488, 0.424, 0.37 ,\n",
              "        0.355, 0.344, 0.344, 0.385, 0.384, 0.398, 0.388, 0.357, 0.39 ,\n",
              "        0.415, 0.34 ]),\n",
              " array([1.537, 1.519, 1.515, 0.716, 0.136, 0.   , 0.   , 0.   , 0.   ,\n",
              "        0.   , 0.   , 0.   , 0.   , 0.   , 0.   , 0.   , 0.   , 0.   ,\n",
              "        0.   , 0.   ]))"
            ]
          },
          "metadata": {},
          "execution_count": 132
        }
      ]
    },
    {
      "cell_type": "code",
      "source": [
        "exact17_acqFuncMax = extractAcqFuncMax(exact_17.history) + eps\n",
        "exact17_exploit = exploitExtract(exact_17.history) + eps\n",
        "exact17_ratio = exact17_exploit/exact17_acqFuncMax\n",
        "\n",
        "np.round(exact17_acqFuncMax, 3), np.round(exact17_exploit, 3)\n"
      ],
      "metadata": {
        "colab": {
          "base_uri": "https://localhost:8080/"
        },
        "id": "VuC8BwhNv4ei",
        "outputId": "f54bd342-4a97-4fe6-ceed-8b76313cab5f"
      },
      "execution_count": 133,
      "outputs": [
        {
          "output_type": "execute_result",
          "data": {
            "text/plain": [
              "(array([2.251, 1.947, 1.877, 1.628, 1.264, 0.376, 0.361, 0.171, 0.32 ,\n",
              "        0.346, 0.357, 0.293, 0.286, 0.262, 0.282, 0.283, 0.304, 0.309,\n",
              "        0.316, 0.316]),\n",
              " array([1.779, 1.361, 1.313, 1.15 , 0.574, 0.   , 0.   , 0.   , 0.   ,\n",
              "        0.   , 0.   , 0.   , 0.   , 0.   , 0.   , 0.   , 0.   , 0.   ,\n",
              "        0.   , 0.   ]))"
            ]
          },
          "metadata": {},
          "execution_count": 133
        }
      ]
    },
    {
      "cell_type": "code",
      "source": [
        "exact18_acqFuncMax = extractAcqFuncMax(exact_18.history) + eps\n",
        "exact18_exploit = exploitExtract(exact_18.history) + eps\n",
        "exact18_ratio = exact18_exploit/exact18_acqFuncMax\n",
        "\n",
        "np.round(exact18_acqFuncMax, 3), np.round(exact18_exploit, 3)\n"
      ],
      "metadata": {
        "colab": {
          "base_uri": "https://localhost:8080/"
        },
        "id": "JbbWo0CAv4mQ",
        "outputId": "2980937d-c11d-41b5-d327-a4e27d9f8dc3"
      },
      "execution_count": 134,
      "outputs": [
        {
          "output_type": "execute_result",
          "data": {
            "text/plain": [
              "(array([2.2  , 0.93 , 2.219, 2.219, 2.21 , 1.178, 1.188, 0.781, 0.674,\n",
              "        0.639, 0.613, 0.575, 0.556, 0.553, 0.533, 0.496, 0.509, 0.484,\n",
              "        0.475, 0.476]),\n",
              " array([ 1.721,  0.   ,  1.75 ,  1.75 ,  1.739,  0.323,  0.435,  0.027,\n",
              "        -0.117,  0.   ,  0.   ,  0.   ,  0.   ,  0.   ,  0.   ,  0.   ,\n",
              "         0.   ,  0.   ,  0.   ,  0.   ]))"
            ]
          },
          "metadata": {},
          "execution_count": 134
        }
      ]
    },
    {
      "cell_type": "code",
      "source": [
        "exact19_acqFuncMax = extractAcqFuncMax(exact_19.history) + eps\n",
        "exact19_exploit = exploitExtract(exact_19.history) + eps\n",
        "exact19_ratio = exact19_exploit/exact19_acqFuncMax\n",
        "\n",
        "np.round(exact19_acqFuncMax, 3), np.round(exact19_exploit, 3)\n"
      ],
      "metadata": {
        "colab": {
          "base_uri": "https://localhost:8080/"
        },
        "id": "zv0ODQ5sv4uS",
        "outputId": "a12d6542-8ceb-4e77-b84a-c042df149529"
      },
      "execution_count": 135,
      "outputs": [
        {
          "output_type": "execute_result",
          "data": {
            "text/plain": [
              "(array([5.892, 6.48 , 4.566, 3.796, 0.191, 0.288, 0.313, 0.382, 0.401,\n",
              "        0.37 , 0.388, 0.429, 0.317, 0.401, 0.345, 0.44 , 0.465, 0.275,\n",
              "        0.468, 0.468]),\n",
              " array([5.823, 6.478, 4.51 , 3.661, 0.   , 0.   , 0.   , 0.   , 0.   ,\n",
              "        0.   , 0.   , 0.   , 0.   , 0.   , 0.   , 0.   , 0.   , 0.   ,\n",
              "        0.   , 0.   ]))"
            ]
          },
          "metadata": {},
          "execution_count": 135
        }
      ]
    },
    {
      "cell_type": "code",
      "source": [
        "exact20_acqFuncMax = extractAcqFuncMax(exact_20.history) + eps\n",
        "exact20_exploit = exploitExtract(exact_20.history) + eps\n",
        "exact20_ratio = exact20_exploit/exact20_acqFuncMax\n",
        "\n",
        "np.round(exact20_acqFuncMax, 3), np.round(exact20_exploit, 3)\n"
      ],
      "metadata": {
        "colab": {
          "base_uri": "https://localhost:8080/"
        },
        "id": "ZAso2OGDv41y",
        "outputId": "a8a03850-61d1-4798-fa77-2de555926de2"
      },
      "execution_count": 136,
      "outputs": [
        {
          "output_type": "execute_result",
          "data": {
            "text/plain": [
              "(array([1.623, 1.475, 0.469, 0.093, 0.326, 0.077, 0.077, 0.488, 0.487,\n",
              "        0.42 , 0.494, 0.461, 0.014, 0.426, 0.508, 0.507, 0.48 , 0.509,\n",
              "        0.475, 0.501]),\n",
              " array([0.982, 0.783, 0.   , 0.   , 0.   , 0.   , 0.   , 0.   , 0.   ,\n",
              "        0.   , 0.   , 0.   , 0.   , 0.   , 0.   , 0.   , 0.   , 0.   ,\n",
              "        0.   , 0.   ]))"
            ]
          },
          "metadata": {},
          "execution_count": 136
        }
      ]
    },
    {
      "cell_type": "code",
      "source": [
        "approx_ratio = [np.mean(approx1_ratio),\n",
        "                np.mean(approx2_ratio),\n",
        "                np.mean(approx3_ratio),\n",
        "                np.mean(approx4_ratio),\n",
        "                np.mean(approx5_ratio),\n",
        "                np.mean(approx6_ratio),\n",
        "                np.mean(approx7_ratio),\n",
        "                np.mean(approx8_ratio),\n",
        "                np.mean(approx9_ratio),\n",
        "                np.mean(approx10_ratio),\n",
        "                np.mean(approx11_ratio),\n",
        "                np.mean(approx12_ratio),\n",
        "                np.mean(approx13_ratio),\n",
        "                np.mean(approx14_ratio),\n",
        "                np.mean(approx15_ratio),\n",
        "                np.mean(approx16_ratio),\n",
        "                np.mean(approx17_ratio),\n",
        "                np.mean(approx18_ratio),\n",
        "                np.mean(approx19_ratio),\n",
        "                np.mean(approx20_ratio)]\n",
        "\n",
        "np.mean(approx_ratio)\n"
      ],
      "metadata": {
        "colab": {
          "base_uri": "https://localhost:8080/"
        },
        "id": "O7Dlz50Tv4-s",
        "outputId": "d81dd37b-9cc1-408c-af6a-188a5323127c"
      },
      "execution_count": 137,
      "outputs": [
        {
          "output_type": "execute_result",
          "data": {
            "text/plain": [
              "0.10692654956737706"
            ]
          },
          "metadata": {},
          "execution_count": 137
        }
      ]
    },
    {
      "cell_type": "code",
      "source": [
        "exact_ratio = [np.mean(exact1_ratio),\n",
        "               np.mean(exact2_ratio),\n",
        "               np.mean(exact3_ratio),\n",
        "               np.mean(exact4_ratio),\n",
        "               np.mean(exact5_ratio),\n",
        "               np.mean(exact6_ratio),\n",
        "               np.mean(exact7_ratio),\n",
        "               np.mean(exact8_ratio),\n",
        "               np.mean(exact9_ratio),\n",
        "               np.mean(exact10_ratio),\n",
        "               np.mean(exact11_ratio),\n",
        "               np.mean(exact12_ratio),\n",
        "               np.mean(exact13_ratio),\n",
        "               np.mean(exact14_ratio),\n",
        "               np.mean(exact15_ratio),\n",
        "               np.mean(exact16_ratio),\n",
        "               np.mean(exact17_ratio),\n",
        "               np.mean(exact18_ratio),\n",
        "               np.mean(exact19_ratio),\n",
        "               np.mean(exact20_ratio)]\n",
        "\n",
        "np.mean(exact_ratio)\n"
      ],
      "metadata": {
        "colab": {
          "base_uri": "https://localhost:8080/"
        },
        "id": "JR4Hd6cTg2n0",
        "outputId": "88491859-3c39-467e-a596-ee892d2e4b1f"
      },
      "execution_count": 138,
      "outputs": [
        {
          "output_type": "execute_result",
          "data": {
            "text/plain": [
              "0.07785389037751515"
            ]
          },
          "metadata": {},
          "execution_count": 138
        }
      ]
    },
    {
      "cell_type": "code",
      "execution_count": 139,
      "metadata": {
        "colab": {
          "base_uri": "https://localhost:8080/",
          "height": 299
        },
        "id": "UkX9CtiD76La",
        "outputId": "7cc5ddf1-10fa-477d-f453-3cd57947dc49"
      },
      "outputs": [
        {
          "output_type": "display_data",
          "data": {
            "text/plain": [
              "<Figure size 432x288 with 1 Axes>"
            ],
            "image/png": "[encoded data removed]"
          },
          "metadata": {
            "needs_background": "light"
          }
        }
      ],
      "source": [
        "### Visualise!\n",
        "\n",
        "title = obj_func\n",
        "\n",
        "plt.figure()\n",
        "\n",
        "plt.plot(median_approx, color = 'Yellow')\n",
        "plt.plot(median_exact, color = 'Red')\n",
        "\n",
        "xstar = np.arange(0, max_iter+1, step=1)\n",
        "plt.fill_between(xstar, lower_approx, upper_approx, facecolor = 'Yellow', alpha=0.4, label='GP EI($\\mathbf{x}$):   Synthetic function, log(Regret) IQR')\n",
        "plt.fill_between(xstar, lower_exact, upper_exact, facecolor = 'Red', alpha=0.4, label='GP dEI($\\mathbf{x}$): Synthetic function, log(Regret) IQR')\n",
        "\n",
        "plt.title(title, weight = 'bold')\n",
        "plt.xlabel('(Post-initialisation) iteration $\\it{k}$', weight = 'bold') # x-axis label\n",
        "plt.ylabel('Synthetic Function: log(Regret)', weight = 'bold') # y-axis label\n",
        "plt.legend(loc=0) # add plot legend\n",
        "\n",
        "### Make the x-ticks integers, not floats:\n",
        "count = len(xstar)\n",
        "plt.xticks(np.arange(count), np.arange(0, count))\n",
        "plt.show()\n"
      ]
    },
    {
      "cell_type": "code",
      "source": [
        "### Visualise!\n",
        "\n",
        "title = obj_func\n",
        "\n",
        "plt.figure()\n",
        "\n",
        "plt.plot(approx_ratio, color = 'Yellow', label='GP EI($\\mathbf{x}$):   exploitation ratio')\n",
        "plt.plot(exact_ratio, color = 'Red', ls='-.', label='GP dEI($\\mathbf{x}$): exploitation ratio')\n",
        "\n",
        "plt.title(title, weight = 'bold')\n",
        "plt.xlabel('Experiment $\\it{j}$' , weight = 'bold') # x-axis label\n",
        "plt.ylabel('GP EI, GP dEI: exploitation ratio', weight = 'bold') # y-axis label\n",
        "plt.legend(loc=3) # add plot legend\n",
        "\n",
        "### Make the x-ticks integers, not floats:\n",
        "count = len(xstar)\n",
        "plt.xticks(np.arange(count), np.arange(1, count))\n",
        "plt.show()\n"
      ],
      "metadata": {
        "colab": {
          "base_uri": "https://localhost:8080/",
          "height": 299
        },
        "id": "hKyod0HBzjSz",
        "outputId": "aae1ed29-abce-4c10-caf5-0477b5bdd26d"
      },
      "execution_count": 140,
      "outputs": [
        {
          "output_type": "display_data",
          "data": {
            "text/plain": [
              "<Figure size 432x288 with 1 Axes>"
            ],
            "image/png": "[encoded data removed]"
          },
          "metadata": {
            "needs_background": "light"
          }
        }
      ]
    },
    {
      "cell_type": "code",
      "source": [
        "### Visualise!\n",
        "\n",
        "title = obj_func\n",
        "\n",
        "plt.figure()\n",
        "\n",
        "plt.plot(np.sort(approx_ratio)[::-1], color = 'Yellow', label='GP EI($\\mathbf{x}$):   exploitation ratio (sorted)')\n",
        "plt.plot(np.sort(exact_ratio)[::-1], color = 'Red', ls='-.', label='GP dEI($\\mathbf{x}$): exploitation ratio (sorted)')\n",
        "\n",
        "plt.title(title, weight = 'bold')\n",
        "plt.xlabel('Experiment $\\it{j}$ (sorted)' , weight = 'bold') # x-axis label\n",
        "plt.ylabel('GP EI, GP dEI: exploitation ratio', weight = 'bold') # y-axis label\n",
        "plt.legend(loc=0) # add plot legend\n",
        "\n",
        "### Make the x-ticks integers, not floats:\n",
        "count = len(xstar)\n",
        "plt.xticks(np.arange(count), np.arange(1, count))\n",
        "plt.show()\n"
      ],
      "metadata": {
        "id": "Rh9aZDVnHbqf",
        "colab": {
          "base_uri": "https://localhost:8080/",
          "height": 299
        },
        "outputId": "519fc894-9050-4933-b08d-55c4c1fd872e"
      },
      "execution_count": 141,
      "outputs": [
        {
          "output_type": "display_data",
          "data": {
            "text/plain": [
              "<Figure size 432x288 with 1 Axes>"
            ],
            "image/png": "[encoded data removed]"
          },
          "metadata": {
            "needs_background": "light"
          }
        }
      ]
    },
    {
      "cell_type": "code",
      "source": [],
      "metadata": {
        "id": "adwkIxvdyLhY"
      },
      "execution_count": 141,
      "outputs": []
    }
  ],
  "metadata": {
    "colab": {
      "provenance": []
    },
    "kernelspec": {
      "display_name": "Python 3",
      "language": "python",
      "name": "python3"
    },
    "language_info": {
      "codemirror_mode": {
        "name": "ipython",
        "version": 3
      },
      "file_extension": ".py",
      "mimetype": "text/x-python",
      "name": "python",
      "nbconvert_exporter": "python",
      "pygments_lexer": "ipython3",
      "version": "3.6.5"
    }
  },
  "nbformat": 4,
  "nbformat_minor": 0
}