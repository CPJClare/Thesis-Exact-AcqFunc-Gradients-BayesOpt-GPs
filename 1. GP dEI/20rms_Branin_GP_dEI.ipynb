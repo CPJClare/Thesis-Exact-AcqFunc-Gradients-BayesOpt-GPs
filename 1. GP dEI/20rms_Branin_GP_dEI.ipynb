{
  "cells": [
    {
      "cell_type": "markdown",
      "metadata": {
        "id": "OrYfJFnSJLkS"
      },
      "source": [
        "Branin synthetic function:\n",
        "\n",
        "GP EI versus GP dEI (winner)\n",
        "\n",
        "https://www.sfu.ca/~ssurjano/branin.html"
      ]
    },
    {
      "cell_type": "code",
      "execution_count": 1,
      "metadata": {
        "colab": {
          "base_uri": "https://localhost:8080/"
        },
        "id": "2FgAmLMpOX3c",
        "outputId": "421ebc7e-53d1-41c7-bb77-a64b3645e9c6"
      },
      "outputs": [
        {
          "output_type": "stream",
          "name": "stdout",
          "text": [
            "Looking in indexes: https://pypi.org/simple, https://us-python.pkg.dev/colab-wheels/public/simple/\n",
            "Requirement already satisfied: pyGPGO in /usr/local/lib/python3.8/dist-packages (0.5.1)\n",
            "Requirement already satisfied: scikit-learn in /usr/local/lib/python3.8/dist-packages (from pyGPGO) (1.0.2)\n",
            "Requirement already satisfied: scipy in /usr/local/lib/python3.8/dist-packages (from pyGPGO) (1.7.3)\n",
            "Requirement already satisfied: numpy in /usr/local/lib/python3.8/dist-packages (from pyGPGO) (1.21.6)\n",
            "Requirement already satisfied: pyMC3 in /usr/local/lib/python3.8/dist-packages (from pyGPGO) (3.11.5)\n",
            "Requirement already satisfied: mkl in /usr/local/lib/python3.8/dist-packages (from pyGPGO) (2019.0)\n",
            "Requirement already satisfied: Theano-PyMC in /usr/local/lib/python3.8/dist-packages (from pyGPGO) (1.1.2)\n",
            "Requirement already satisfied: joblib in /usr/local/lib/python3.8/dist-packages (from pyGPGO) (1.2.0)\n",
            "Requirement already satisfied: intel-openmp in /usr/local/lib/python3.8/dist-packages (from mkl->pyGPGO) (2023.0.0)\n",
            "Requirement already satisfied: pandas>=0.24.0 in /usr/local/lib/python3.8/dist-packages (from pyMC3->pyGPGO) (1.3.5)\n",
            "Requirement already satisfied: cachetools>=4.2.1 in /usr/local/lib/python3.8/dist-packages (from pyMC3->pyGPGO) (5.2.0)\n",
            "Requirement already satisfied: semver>=2.13.0 in /usr/local/lib/python3.8/dist-packages (from pyMC3->pyGPGO) (2.13.0)\n",
            "Requirement already satisfied: deprecat in /usr/local/lib/python3.8/dist-packages (from pyMC3->pyGPGO) (2.1.1)\n",
            "Requirement already satisfied: dill in /usr/local/lib/python3.8/dist-packages (from pyMC3->pyGPGO) (0.3.6)\n",
            "Requirement already satisfied: fastprogress>=0.2.0 in /usr/local/lib/python3.8/dist-packages (from pyMC3->pyGPGO) (1.0.3)\n",
            "Requirement already satisfied: typing-extensions>=3.7.4 in /usr/local/lib/python3.8/dist-packages (from pyMC3->pyGPGO) (4.4.0)\n",
            "Requirement already satisfied: patsy>=0.5.1 in /usr/local/lib/python3.8/dist-packages (from pyMC3->pyGPGO) (0.5.3)\n",
            "Requirement already satisfied: arviz>=0.11.0 in /usr/local/lib/python3.8/dist-packages (from pyMC3->pyGPGO) (0.12.1)\n",
            "Requirement already satisfied: filelock in /usr/local/lib/python3.8/dist-packages (from Theano-PyMC->pyGPGO) (3.9.0)\n",
            "Requirement already satisfied: threadpoolctl>=2.0.0 in /usr/local/lib/python3.8/dist-packages (from scikit-learn->pyGPGO) (3.1.0)\n",
            "Requirement already satisfied: setuptools>=38.4 in /usr/local/lib/python3.8/dist-packages (from arviz>=0.11.0->pyMC3->pyGPGO) (57.4.0)\n",
            "Requirement already satisfied: xarray-einstats>=0.2 in /usr/local/lib/python3.8/dist-packages (from arviz>=0.11.0->pyMC3->pyGPGO) (0.4.0)\n",
            "Requirement already satisfied: netcdf4 in /usr/local/lib/python3.8/dist-packages (from arviz>=0.11.0->pyMC3->pyGPGO) (1.6.2)\n",
            "Requirement already satisfied: xarray>=0.16.1 in /usr/local/lib/python3.8/dist-packages (from arviz>=0.11.0->pyMC3->pyGPGO) (2022.12.0)\n",
            "Requirement already satisfied: matplotlib>=3.0 in /usr/local/lib/python3.8/dist-packages (from arviz>=0.11.0->pyMC3->pyGPGO) (3.2.2)\n",
            "Requirement already satisfied: packaging in /usr/local/lib/python3.8/dist-packages (from arviz>=0.11.0->pyMC3->pyGPGO) (21.3)\n",
            "Requirement already satisfied: pytz>=2017.3 in /usr/local/lib/python3.8/dist-packages (from pandas>=0.24.0->pyMC3->pyGPGO) (2022.7)\n",
            "Requirement already satisfied: python-dateutil>=2.7.3 in /usr/local/lib/python3.8/dist-packages (from pandas>=0.24.0->pyMC3->pyGPGO) (2.8.2)\n",
            "Requirement already satisfied: six in /usr/local/lib/python3.8/dist-packages (from patsy>=0.5.1->pyMC3->pyGPGO) (1.15.0)\n",
            "Requirement already satisfied: wrapt<2,>=1.10 in /usr/local/lib/python3.8/dist-packages (from deprecat->pyMC3->pyGPGO) (1.14.1)\n",
            "Requirement already satisfied: kiwisolver>=1.0.1 in /usr/local/lib/python3.8/dist-packages (from matplotlib>=3.0->arviz>=0.11.0->pyMC3->pyGPGO) (1.4.4)\n",
            "Requirement already satisfied: pyparsing!=2.0.4,!=2.1.2,!=2.1.6,>=2.0.1 in /usr/local/lib/python3.8/dist-packages (from matplotlib>=3.0->arviz>=0.11.0->pyMC3->pyGPGO) (3.0.9)\n",
            "Requirement already satisfied: cycler>=0.10 in /usr/local/lib/python3.8/dist-packages (from matplotlib>=3.0->arviz>=0.11.0->pyMC3->pyGPGO) (0.11.0)\n",
            "Requirement already satisfied: cftime in /usr/local/lib/python3.8/dist-packages (from netcdf4->arviz>=0.11.0->pyMC3->pyGPGO) (1.6.2)\n"
          ]
        }
      ],
      "source": [
        "pip install pyGPGO\n"
      ]
    },
    {
      "cell_type": "code",
      "execution_count": 2,
      "metadata": {
        "id": "Dn_SAbhVJLke"
      },
      "outputs": [],
      "source": [
        "### Import modules:\n",
        "\n",
        "import numpy as np\n",
        "import scipy as sp\n",
        "import pandas as pd\n",
        "import matplotlib.pyplot as plt\n",
        "import random\n",
        "import warnings\n",
        "import itertools\n",
        "\n",
        "from pyGPGO.logger import EventLogger\n",
        "from pyGPGO.GPGO import GPGO\n",
        "from pyGPGO.surrogates.GaussianProcess import GaussianProcess\n",
        "from pyGPGO.surrogates.tStudentProcess import tStudentProcess, logpdf\n",
        "from pyGPGO.acquisition import Acquisition\n",
        "from pyGPGO.covfunc import squaredExponential\n",
        "\n",
        "from collections import OrderedDict\n",
        "from joblib import Parallel, delayed\n",
        "from numpy.linalg import slogdet, inv, cholesky, solve\n",
        "from scipy.optimize import minimize\n",
        "from scipy.spatial.distance import cdist\n",
        "from scipy.special import gamma\n",
        "from scipy.stats import norm, t\n",
        "from matplotlib.pyplot import rc\n",
        "\n",
        "rc('text', usetex=False)\n",
        "plt.rcParams['text.latex.preamble']=[r'\\usepackage{amsmath}']\n",
        "plt.rcParams['text.latex.preamble'] = [r'\\boldmath']\n",
        "\n",
        "warnings.filterwarnings(\"ignore\", category=FutureWarning)\n",
        "warnings.filterwarnings(\"ignore\", category=RuntimeWarning)\n",
        "warnings.filterwarnings(\"ignore\", category=UserWarning)\n"
      ]
    },
    {
      "cell_type": "code",
      "execution_count": 3,
      "metadata": {
        "id": "4Nwg_XO0JLki"
      },
      "outputs": [],
      "source": [
        "### Inputs:\n",
        "\n",
        "obj_func = 'Branin'\n",
        "n_test = 500 # test points\n",
        "eps = 1e-08\n",
        "df = 3 # nu\n",
        "\n",
        "util = 'EI'\n",
        "n_init = 5 # random initialisations\n",
        "\n",
        "cov_func = squaredExponential()\n",
        "hyperOpt = True\n"
      ]
    },
    {
      "cell_type": "code",
      "execution_count": 4,
      "metadata": {
        "id": "DVYGZ6jYJLkj"
      },
      "outputs": [],
      "source": [
        "### Objective function:\n",
        "\n",
        "if obj_func == 'Branin':\n",
        "    \n",
        "    # True y bounds:\n",
        "    operator = -1\n",
        "    y_lb = 0.397887 # targets global minimum\n",
        "    y_global_orig = y_lb * operator # targets global minimum\n",
        "\n",
        "# Constraints:\n",
        "    lb_x1 = -5 \n",
        "    ub_x1 = +10\n",
        "    lb_x2 = +0 \n",
        "    ub_x2 = +15\n",
        "\n",
        "# Input array dimension(s):\n",
        "    dim = 2\n",
        "\n",
        "# 2-D inputs' parameter bounds:\n",
        "    param = {'x1_training': ('cont', [lb_x1, ub_x1]),\n",
        "             'x2_training': ('cont', [lb_x2, ub_x2])}\n",
        "\n",
        "# Test data:\n",
        "    x1_test = np.linspace(lb_x1, ub_x1, n_test)\n",
        "    x2_test = np.linspace(lb_x2, ub_x2, n_test)\n",
        "    Xstar_d = np.column_stack((x1_test, x2_test))\n",
        "\n",
        "    def f_syn_polarity(x1_training, x2_training, a = 1, b = (5.1 / (4 * (np.pi) ** 2)), c = (5 / (np.pi)), r = 6, s = 10, t = (1 / (8 * np.pi))):\n",
        "        return operator * ((a * (x2_training - b * x1_training ** 2 + c * x1_training - r) ** 2) + \n",
        "                 s * (1 - t) * np.cos(x1_training) + s)\n",
        "        "
      ]
    },
    {
      "cell_type": "code",
      "execution_count": 5,
      "metadata": {
        "id": "S9JivCxiYACE"
      },
      "outputs": [],
      "source": [
        "max_iter = dim * 10  # iterations of Bayesian optimisation\n",
        "Beta_CBM = dim\n"
      ]
    },
    {
      "cell_type": "code",
      "execution_count": 6,
      "metadata": {
        "id": "hE7COdNcJLkl"
      },
      "outputs": [],
      "source": [
        "### Cumulative Regret Calculator:\n",
        "\n",
        "def min_array(x):\n",
        "    new_list = []\n",
        "    for i, num in enumerate(x):\n",
        "            new_list.append(np.min(x[0:i+1]))\n",
        "    return new_list\n"
      ]
    },
    {
      "cell_type": "code",
      "execution_count": 7,
      "metadata": {
        "id": "gkY6wLl_JLkm"
      },
      "outputs": [],
      "source": [
        "### Set-seeds:\n",
        "\n",
        "run_num_1 = 1\n",
        "run_num_2 = 2\n",
        "run_num_3 = 3\n",
        "run_num_4 = 4\n",
        "run_num_5 = 5\n",
        "run_num_6 = 6\n",
        "run_num_7 = 7\n",
        "run_num_8 = 8\n",
        "run_num_9 = 9\n",
        "run_num_10 = 10\n",
        "run_num_11 = 11\n",
        "run_num_12 = 12\n",
        "run_num_13 = 13\n",
        "run_num_14 = 14\n",
        "run_num_15 = 15\n",
        "run_num_16 = 16\n",
        "run_num_17 = 17\n",
        "run_num_18 = 18\n",
        "run_num_19 = 19\n",
        "run_num_20 = 20\n"
      ]
    },
    {
      "cell_type": "code",
      "execution_count": 8,
      "metadata": {
        "id": "t-StV6KfkrJe"
      },
      "outputs": [],
      "source": [
        "### Surrogate derivatives: \n",
        "\n",
        "def kronDelta(X, Xstar):                     # Kronecker's Delta method\n",
        "    return cdist(X, Xstar) < np.finfo(np.float32).eps\n",
        "\n",
        "def se(X, Xstar, sigmaf, l, sigman):         # S.E. kernel method\n",
        "    return sigmaf * np.exp(-0.5 * cdist(X, Xstar) ** 2 / l ** 2) + sigman * kronDelta(X, Xstar)\n",
        "\n",
        "def delta(X, Xstar):                         # Distance between training X and test Xstar vectors\n",
        "    return (X - Xstar)\n",
        "   \n",
        "def der_covmat(X, Xstar, sigmaf, l, sigman): # Covariance matrix derivative terms (i.e. exact, first-order)\n",
        "    nx = len(X)\n",
        "    ny = len(Xstar)\n",
        "    return np.round(np.array([(delta(np.atleast_2d(i), np.atleast_2d(j))[0] * se(np.atleast_2d(i), np.atleast_2d(j), sigmaf, l, sigman)[0]).sum() for (i, j) in itertools.product(X, Xstar)]).reshape(nx, ny), 8)\n",
        "\n",
        "class dGaussianProcess(GaussianProcess):    # Via inheritance, also optimises hyperparameters when opt = TRUE\n",
        "    \n",
        "    def AcqGrad(self, Xstar):               # Method returning exact, first-order derivatives of the GP's posterior mean and standard deviation\n",
        "        Xstar = np.atleast_2d(Xstar)\n",
        "        Kstar = self.covfunc.K(self.X, Xstar).T\n",
        "        \n",
        "        dKstar = der_covmat(self.X, Xstar, self.covfunc.sigmaf, self.covfunc.l, self.covfunc.sigman).T\n",
        "        alpha_Kstar = np.dot(np.linalg.inv(self.K + (self.covfunc.sigman**2) * np.eye(len(self.X))), Kstar.T)\n",
        "        \n",
        "        dm = np.dot(dKstar, self.alpha)\n",
        "        ds = -2 * np.dot(dKstar, alpha_Kstar)\n",
        "        \n",
        "        return dm, ds           \n"
      ]
    },
    {
      "cell_type": "code",
      "execution_count": 9,
      "metadata": {
        "id": "Mh53nXeyJLko"
      },
      "outputs": [],
      "source": [
        "### Add exact acquisition function gradient as attribute:\n",
        "\n",
        "class Acquisition_grad(Acquisition):    \n",
        "    def __init__(self, mode, eps=eps, **params):\n",
        "        \n",
        "        self.params = params\n",
        "        self.eps = eps\n",
        "\n",
        "        mode_dict = {\n",
        "            'EI': self.EI\n",
        "        }\n",
        "\n",
        "        self.f = mode_dict[mode]\n",
        "    \n",
        "    def EI(self, tau, mean, std, ds, dm):\n",
        "        gamma = (mean - tau - self.eps) / (std + self.eps)\n",
        "        gamma_h = (mean - tau) / (std + self.eps)\n",
        "        dsdx = ds / (2 * (std + self.eps))\n",
        "        dmdx = (dm - gamma * dsdx) / (std + self.eps)\n",
        "        \n",
        "        f = (std + self.eps) * (gamma * norm.cdf(gamma) + norm.pdf(gamma))\n",
        "        df1 = f / (std + self.eps) * dsdx \n",
        "        df2 = (std + self.eps) * norm.cdf(gamma) * dmdx\n",
        "        df = (df1 + df2)[0]\n",
        "        df_arr = []\n",
        "\n",
        "        for j in range(0, dim):\n",
        "          df_arr.append(df)\n",
        "        return f, np.asarray(df_arr).transpose()\n",
        "        \n",
        "    def d_eval(self, tau, mean, std, ds, dm):\n",
        "    \n",
        "        return self.f(tau, mean, std, ds, dm, **self.params)\n",
        "        "
      ]
    },
    {
      "cell_type": "code",
      "execution_count": 10,
      "metadata": {
        "id": "xSwpeFj-Y-Hl"
      },
      "outputs": [],
      "source": [
        "n_start_AcqFunc = max_iter\n",
        "inverse = -1\n"
      ]
    },
    {
      "cell_type": "code",
      "execution_count": 11,
      "metadata": {
        "id": "YorxhvyZXyfZ"
      },
      "outputs": [],
      "source": [
        "## GPGO_approx: BayesOpt class, acquision function optimised using approximate acquisition function gradients\n",
        "\n",
        "n_start = n_start_AcqFunc\n",
        "\n",
        "class GPGO_approx(GPGO):\n",
        "  \n",
        "    def __init__(self, surrogate, acquisition, f, parameter_dict, n_jobs=1):\n",
        "        self.GP = surrogate\n",
        "        self.A = acquisition\n",
        "        self.f = f\n",
        "        self.parameters = parameter_dict\n",
        "        self.n_jobs = n_jobs\n",
        "\n",
        "        self.parameter_key = list(parameter_dict.keys())\n",
        "        self.parameter_value = list(parameter_dict.values())\n",
        "        self.parameter_type = [p[0] for p in self.parameter_value]\n",
        "        self.parameter_range = [p[1] for p in self.parameter_value]\n",
        "\n",
        "        self.history = []\n",
        "        self.header =   'Evaluation \\t Proposed point \\t  Current eval. \\t  Best eval. \\t         GP EI: maximum y \\t GP EI: exploit'\n",
        "        self.template = '{:3}\\t {}\\t {:3}\\t {:3}\\t {:3}\\t {:3}'\n",
        "  \n",
        "    def acqfuncApprox(self, xnew):\n",
        "        new_mean, new_var = self.GP.predict(xnew, return_std=True)\n",
        "        new_std = np.sqrt(new_var + eps)\n",
        "        dm, ds = self.GP.AcqGrad(xnew)\n",
        "        f, df = self.A.d_eval(self.tau, new_mean, new_std, ds=ds, dm=dm)\n",
        "\n",
        "        return -f\n",
        "\n",
        "    def acqfuncApproxMeanTerm(self, xnew):\n",
        "        new_mean, new_var = self.GP.predict(xnew, return_std=True)\n",
        "        new_std = np.sqrt(new_var + eps)\n",
        "        gamma = (new_mean - self.tau - eps) / (new_std + eps) \n",
        "        \n",
        "        dm, ds = self.GP.AcqGrad(xnew)\n",
        "        dsdx = ds / (2 * (new_std + eps))\n",
        "        dmdx = (dm - gamma * dsdx) / (new_std + eps)\n",
        "            \n",
        "        f = (new_std + eps) * (gamma * norm.cdf(gamma))\n",
        "        df1 = norm.cdf(gamma) * gamma * dsdx\n",
        "        df2 = (new_std + eps) * (norm.cdf(gamma) * dmdx + norm.pdf(gamma) * gamma)\n",
        "        df = df1 + df2\n",
        "\n",
        "        return -f\n",
        "\n",
        "    def _optimizeAcq(self, method='L-BFGS-B'):\n",
        "        \n",
        "        start_points_dict = [self._sampleParam() for i in range(n_start)]\n",
        "        start_points_arr = np.array([list(s.values())\n",
        "                                     for s in start_points_dict])\n",
        "        x_best = np.empty((n_start, len(self.parameter_key)))\n",
        "        f_best = np.empty((n_start,))\n",
        "        opt = Parallel(n_jobs=self.n_jobs)(delayed(minimize)(self.acqfuncApprox,\n",
        "                                                                 x0=start_point,\n",
        "                                                                 method=method,\n",
        "                                                                 jac = False,\n",
        "                                                                 bounds=self.parameter_range) for start_point in\n",
        "                                               start_points_arr)\n",
        "        x_best = np.array([res.x for res in opt])\n",
        "        f_best = np.array([np.atleast_1d(res.fun)[0] for res in opt])\n",
        "        self.x_best = x_best\n",
        "        self.f_best = f_best\n",
        "        self.best = x_best[np.argmin(f_best)]\n",
        "        self.start_points_arr = start_points_arr\n",
        "        self.min_acqfuncApprox = -min(self.f_best)\n",
        "        self.history.append(self.min_acqfuncApprox)\n",
        "\n",
        "        opt_exploit = Parallel(n_jobs=self.n_jobs)(delayed(minimize)(self.acqfuncApproxMeanTerm,\n",
        "                                                                 x0=start_point,\n",
        "                                                                 method=method,\n",
        "                                                                 jac = False,\n",
        "                                                                 bounds=self.parameter_range) for start_point in\n",
        "                                               start_points_arr)\n",
        "        f_best_exploit = np.array([np.atleast_1d(res.fun)[0] for res in opt_exploit])\n",
        "        self.f_best_exploit = f_best_exploit\n",
        "        self.min_acqfuncApprox_exploit = -min(self.f_best_exploit)\n",
        "        self.history.append(self.min_acqfuncApprox_exploit)\n",
        "        \n",
        "    def _printInit(self):\n",
        "        print(self.header)\n",
        "        for init_eval in range(self.init_evals):\n",
        "            print(self.template.format('init', self.GP.X[init_eval], inverse * self.GP.y[init_eval], inverse * self.tau, '', ''))\n",
        "      \n",
        "    def _printCurrent(self):\n",
        "        OKGREEN = '\\033[92m'\n",
        "        ENDC = '\\033[0m'\n",
        "        BOLD = '\\033[1m'\n",
        "        eval = str(len(self.GP.y) - self.init_evals)\n",
        "        proposed = str(self.best)\n",
        "        curr_eval = str(inverse * self.GP.y[-1])\n",
        "        curr_best = str(inverse * self.tau)\n",
        "        min_acqfuncApprox = self.min_acqfuncApprox\n",
        "        min_acqfuncApprox_exploit = self.min_acqfuncApprox_exploit\n",
        "        if float(curr_eval) <= float(curr_best):\n",
        "            eval = BOLD + OKGREEN + eval + ENDC\n",
        "            proposed = BOLD + OKGREEN + proposed + ENDC\n",
        "            curr_eval = BOLD + OKGREEN + curr_eval + ENDC\n",
        "            curr_best = BOLD + OKGREEN + curr_best + ENDC\n",
        "            min_acqfuncApprox = BOLD + OKGREEN + str(min_acqfuncApprox) + ENDC\n",
        "            min_acqfuncApprox_exploit = BOLD + OKGREEN + str(min_acqfuncApprox_exploit) + ENDC\n",
        "        print(self.template.format(eval, proposed, curr_eval, curr_best, min_acqfuncApprox, min_acqfuncApprox_exploit))\n",
        "        \n",
        "    def run(self, max_iter=10, init_evals=3, resume=False):\n",
        "        \n",
        "        if not resume:\n",
        "            self.init_evals = init_evals\n",
        "            self._firstRun(self.init_evals)\n",
        "            self._printInit()\n",
        "        for iteration in range(max_iter):\n",
        "            self._optimizeAcq()\n",
        "            self.updateGP()\n",
        "            self._printCurrent()\n"
      ]
    },
    {
      "cell_type": "code",
      "execution_count": 12,
      "metadata": {
        "id": "QaOjAKNoXynM"
      },
      "outputs": [],
      "source": [
        "## GPGO_exact: BayesOpt class, acquision function optimised using exact acquisition function gradients\n",
        "\n",
        "class GPGO_exact(GPGO):\n",
        "\n",
        "    def __init__(self, surrogate, acquisition, f, parameter_dict, n_jobs=1):\n",
        "        self.GP = surrogate\n",
        "        self.A = acquisition\n",
        "        self.f = f\n",
        "        self.parameters = parameter_dict\n",
        "        self.n_jobs = n_jobs\n",
        "\n",
        "        self.parameter_key = list(parameter_dict.keys())\n",
        "        self.parameter_value = list(parameter_dict.values())\n",
        "        self.parameter_type = [p[0] for p in self.parameter_value]\n",
        "        self.parameter_range = [p[1] for p in self.parameter_value]\n",
        "\n",
        "        self.history = []\n",
        "        self.header =   'Evaluation \\t Proposed point \\t  Current eval. \\t  Best eval. \\t         GP dEI: maximum y \\t GP dEI: exploit'\n",
        "        self.template = '{:3}\\t {}\\t {:3}\\t {:3}\\t {:3}\\t {:3}'\n",
        " \n",
        "    def acqfuncExact(self, xnew):\n",
        "        new_mean, new_var = self.GP.predict(xnew, return_std=True)\n",
        "        new_std = np.sqrt(new_var + eps)\n",
        "        dm, ds = self.GP.AcqGrad(xnew)\n",
        "        f, df = self.A.d_eval(self.tau, new_mean, new_std, ds=ds, dm=dm)\n",
        "\n",
        "        return -f, -df\n",
        "\n",
        "    def acqfuncExactExploitTerm(self, xnew):\n",
        "        new_mean, new_var = self.GP.predict(xnew, return_std=True)\n",
        "        new_std = np.sqrt(new_var + eps)\n",
        "        gamma = (new_mean - self.tau - eps) / (new_std + eps) \n",
        "        \n",
        "        dm, ds = self.GP.AcqGrad(xnew)\n",
        "        dsdx = ds / (2 * (new_std + eps))\n",
        "        dmdx = (dm - gamma * dsdx) / (new_std + eps)\n",
        "            \n",
        "        f = (new_std + eps) * (gamma * norm.cdf(gamma))\n",
        "        df1 = norm.cdf(gamma) * gamma * dsdx\n",
        "        df2 = (new_std + eps) * (norm.cdf(gamma) * dmdx + norm.pdf(gamma) * gamma)\n",
        "        df = -(df1 + df2)[0]\n",
        "        df_arr = []\n",
        "\n",
        "        for j in range(0, dim):\n",
        "          df_arr.append(df)\n",
        "        return -f, np.asarray(df_arr).transpose()\n",
        "\n",
        "    def _optimizeAcq(self, method='L-BFGS-B'):\n",
        "        \n",
        "        start_points_dict = [self._sampleParam() for i in range(n_start)]\n",
        "        start_points_arr = np.array([list(s.values())\n",
        "                                     for s in start_points_dict])\n",
        "        x_best = np.empty((n_start, len(self.parameter_key)))\n",
        "        f_best = np.empty((n_start,))\n",
        "        opt = Parallel(n_jobs=self.n_jobs)(delayed(minimize)(self.acqfuncExact,\n",
        "                                                                 x0=start_point,\n",
        "                                                                 method=method,\n",
        "                                                                 jac = True,\n",
        "                                                                 bounds=self.parameter_range) for start_point in\n",
        "                                               start_points_arr)\n",
        "        x_best = np.array([res.x for res in opt])\n",
        "        f_best = np.array([np.atleast_1d(res.fun)[0] for res in opt])\n",
        "        self.x_best = x_best\n",
        "        self.f_best = f_best\n",
        "        self.best = x_best[np.argmin(f_best)]\n",
        "        self.start_points_arr = start_points_arr\n",
        "        self.min_acqfuncExact = -min(self.f_best)\n",
        "        self.history.append(self.min_acqfuncExact) \n",
        "        \n",
        "        opt_exploit = Parallel(n_jobs=self.n_jobs)(delayed(minimize)(self.acqfuncExactExploitTerm,\n",
        "                                                                 x0=start_point,\n",
        "                                                                 method=method,\n",
        "                                                                 jac = True,\n",
        "                                                                 bounds=self.parameter_range) for start_point in\n",
        "                                               start_points_arr)\n",
        "        f_best_exploit = np.array([np.atleast_1d(res.fun)[0] for res in opt_exploit])\n",
        "        self.f_best_exploit = f_best_exploit\n",
        "        self.min_acqfuncExact_exploit = -min(self.f_best_exploit)\n",
        "        self.history.append(self.min_acqfuncExact_exploit)\n",
        "            \n",
        "    def _printInit(self):\n",
        "        print(self.header)\n",
        "        for init_eval in range(self.init_evals):\n",
        "            print(self.template.format('init', self.GP.X[init_eval], inverse * self.GP.y[init_eval], inverse * self.tau, '', ''))\n",
        "      \n",
        "    def _printCurrent(self):\n",
        "        OKGREEN = '\\033[92m'\n",
        "        ENDC = '\\033[0m'\n",
        "        BOLD = '\\033[1m'\n",
        "        eval = str(len(self.GP.y) - self.init_evals)\n",
        "        proposed = str(self.best)\n",
        "        curr_eval = str(inverse * self.GP.y[-1])\n",
        "        curr_best = str(inverse * self.tau)\n",
        "        min_acqfuncExact = self.min_acqfuncExact\n",
        "        min_acqfuncExact_exploit = self.min_acqfuncExact_exploit\n",
        "        if float(curr_eval) <= float(curr_best):\n",
        "            eval = BOLD + OKGREEN + eval + ENDC\n",
        "            proposed = BOLD + OKGREEN + proposed + ENDC\n",
        "            curr_eval = BOLD + OKGREEN + curr_eval + ENDC\n",
        "            curr_best = BOLD + OKGREEN + curr_best + ENDC\n",
        "            min_acqfuncExact = BOLD + OKGREEN + str(min_acqfuncExact) + ENDC\n",
        "            min_acqfuncExact_exploit = BOLD + OKGREEN + str(min_acqfuncExact_exploit) + ENDC\n",
        "        print(self.template.format(eval, proposed, curr_eval, curr_best, min_acqfuncExact, min_acqfuncExact_exploit))\n",
        "\n",
        "    def run(self, max_iter=10, init_evals=3, resume=False):\n",
        "        \n",
        "        if not resume:\n",
        "            self.init_evals = init_evals\n",
        "            self._firstRun(self.init_evals)\n",
        "            self._printInit()\n",
        "        for iteration in range(max_iter):\n",
        "            self._optimizeAcq()\n",
        "            self.updateGP()\n",
        "            self._printCurrent()\n"
      ]
    },
    {
      "cell_type": "code",
      "execution_count": 13,
      "metadata": {
        "colab": {
          "base_uri": "https://localhost:8080/"
        },
        "id": "Fio5AsW9JLkp",
        "outputId": "9848e60c-58b5-4d65-ca92-f84291874ff1",
        "scrolled": false
      },
      "outputs": [
        {
          "output_type": "stream",
          "name": "stdout",
          "text": [
            "Evaluation \t Proposed point \t  Current eval. \t  Best eval. \t         GP EI: maximum y \t GP EI: exploit\n",
            "init\t [ 1.25533007 10.8048674 ]\t 56.52874004692151\t 27.68166689936483\t    \t    \n",
            "init\t [-4.99828438  4.53498859]\t 172.66531086516164\t 27.68166689936483\t    \t    \n",
            "init\t [-2.79866164  1.38507892]\t 102.58290348816024\t 27.68166689936483\t    \t    \n",
            "init\t [-2.20609683  5.18341091]\t 28.868064601155666\t 27.68166689936483\t    \t    \n",
            "init\t [0.95151211 8.08225101]\t 27.68166689936483\t 27.68166689936483\t    \t    \n",
            "\u001b[1m\u001b[92m1\u001b[0m\t \u001b[1m\u001b[92m[8.41909995 1.27566317]\u001b[0m\t \u001b[1m\u001b[92m5.089934878453152\u001b[0m\t \u001b[1m\u001b[92m5.089934878453152\u001b[0m\t \u001b[1m\u001b[92m27.68166688936483\u001b[0m\t \u001b[1m\u001b[92m27.68166688936483\u001b[0m\n",
            "2  \t [ 8.98893195 10.45227242]\t 70.52424256621515\t 5.089934878453152\t 5.093418823776248\t 5.062121444888492\n",
            "\u001b[1m\u001b[92m3\u001b[0m\t \u001b[1m\u001b[92m[-3.98443869 13.27643184]\u001b[0m\t \u001b[1m\u001b[92m4.856556129138367\u001b[0m\t \u001b[1m\u001b[92m4.856556129138367\u001b[0m\t \u001b[1m\u001b[92m5.0934173844556945\u001b[0m\t \u001b[1m\u001b[92m5.062120149803852\u001b[0m\n",
            "4  \t [2.90512774 0.        ]\t 6.749370292693687\t 4.856556129138367\t 4.861548934817805\t 4.819715310543853\n",
            "5  \t [ 5.3348007 15.       ]\t 206.4244586271804\t 4.856556129138367\t 4.861548447489136\t 4.819714850071489\n",
            "6  \t [5.82730156 5.65849845]\t 39.28905326289761\t 4.856556129138367\t 4.8615376580225265\t 4.819703485413737\n",
            "7  \t [-5.          9.40524725]\t 73.28503335699106\t 4.856556129138367\t 4.860107550007744\t 4.818200156350903\n",
            "8  \t [-0.27570884 15.        ]\t 92.36549183866397\t 4.856556129138367\t 4.859672061365188\t 4.816981486525985\n",
            "9  \t [10. 15.]\t 145.87219087939556\t 4.856556129138367\t 4.85894833597691\t 4.816981486592133\n",
            "10 \t [10.          5.15305911]\t 6.566081429458171\t 4.856556129138367\t 4.858298642183766\t 4.816298442883906\n",
            "11 \t [1.84148122 3.72777254]\t 7.481101495067109\t 4.856556129138367\t 4.8565867684974355\t 4.814498595606579\n",
            "12 \t [5.04202986 9.64730405]\t 83.46353817902751\t 4.856556129138367\t 4.834085083217809\t 4.753742895862115\n",
            "13 \t [5.37384181 1.91221818]\t 16.43748679951871\t 4.856556129138367\t 4.798888117336188\t 4.753747440833531\n",
            "14 \t [-2.07714597 11.43751006]\t 7.821378544100525\t 4.856556129138367\t 4.620921613593403\t 4.565197726417245\n",
            "15 \t [0.4064629 0.       ]\t 47.70435414680799\t 4.856556129138367\t 4.5998385723820805\t 4.485165371595152\n",
            "16 \t [10.  0.]\t 10.960889035651505\t 4.856556129138367\t 4.545269067943154\t 4.485166416179044\n",
            "17 \t [8.72018144 7.17429278]\t 30.03208465004716\t 4.856556129138367\t 4.423566546692229\t 4.353874400820789\n",
            "18 \t [-5. 15.]\t 17.508299515778166\t 4.856556129138367\t 4.5446119822827455\t 4.301021639246539\n",
            "19 \t [8.29436873 3.45677352]\t 9.040406284827128\t 4.856556129138367\t 4.374206855660054\t 4.301021639223935\n",
            "20 \t [-1.92936421  8.36727689]\t 8.032825073834074\t 4.856556129138367\t 4.344791938628157\t 4.268567370672613\n"
          ]
        }
      ],
      "source": [
        "### Bayesian optimisation runs (x20): 'GP EI' Acquisition Function run number = 1\n",
        "\n",
        "np.random.seed(run_num_1)\n",
        "surrogate_approx_1 = dGaussianProcess(cov_func, optimize=hyperOpt)\n",
        "\n",
        "approx_1 = GPGO_approx(surrogate_approx_1, Acquisition_grad(util), f_syn_polarity, param, n_jobs = -1) # define BayesOpt\n",
        "approx_1.run(max_iter = max_iter, init_evals = n_init) # run\n"
      ]
    },
    {
      "cell_type": "code",
      "execution_count": 14,
      "metadata": {
        "id": "6CLxOiUrJLks",
        "colab": {
          "base_uri": "https://localhost:8080/"
        },
        "outputId": "7e7876ff-8f21-441e-8b30-97c08daaa220"
      },
      "outputs": [
        {
          "output_type": "stream",
          "name": "stdout",
          "text": [
            "Evaluation \t Proposed point \t  Current eval. \t  Best eval. \t         GP EI: maximum y \t GP EI: exploit\n",
            "init\t [1.53992353 0.38889348]\t 22.31361308916297\t 6.692051508754487\t    \t    \n",
            "init\t [3.24493717 6.52983589]\t 19.233109967858276\t 6.692051508754487\t    \t    \n",
            "init\t [1.30551703 4.95502232]\t 13.177851563387286\t 6.692051508754487\t    \t    \n",
            "init\t [-1.93027049  9.2890645 ]\t 6.692051508754487\t 6.692051508754487\t    \t    \n",
            "init\t [-0.50517989  4.00240913]\t 26.437522758780958\t 6.692051508754487\t    \t    \n",
            "1  \t [ 9.5587047  12.00387527]\t 89.09951357262268\t 6.692051508754487\t 6.6922650079064745\t 6.689308467376912\n",
            "\u001b[1m\u001b[92m2\u001b[0m\t \u001b[1m\u001b[92m[9.59366035 1.69164323]\u001b[0m\t \u001b[1m\u001b[92m1.3984593420568778\u001b[0m\t \u001b[1m\u001b[92m1.3984593420568778\u001b[0m\t \u001b[1m\u001b[92m6.692265007906303\u001b[0m\t \u001b[1m\u001b[92m6.68930846737674\u001b[0m\n",
            "3  \t [ 3.24245232 12.67669673]\t 110.25694222671481\t 1.3984593420568778\t 1.684590944528292\t 1.0597463773791687\n",
            "4  \t [-2.58611214 14.70647972]\t 15.728927661559513\t 1.3984593420568778\t 1.6845899705558112\t 1.0597453219924597\n",
            "5  \t [-4.49465842  0.        ]\t 256.405875659363\t 1.3984593420568778\t 1.6845898296574207\t 1.0597448116126726\n",
            "6  \t [8.72654897 6.41265603]\t 22.569095286958294\t 1.3984593420568778\t 1.6845797780077387\t 1.0597321130176718\n",
            "7  \t [-5.          5.78531296]\t 142.73043040104332\t 1.3984593420568778\t 1.68445559392949\t 1.0595720089181295\n",
            "8  \t [5.71567674 2.44847177]\t 19.852352522199936\t 1.3984593420568778\t 1.6840808525564255\t 1.0590892692541511\n",
            "9  \t [-5.         11.43104493]\t 45.85891814905954\t 1.3984593420568778\t 1.6807733241378222\t 1.0548287934322877\n",
            "10 \t [6.05662669 9.3568208 ]\t 87.54141192968102\t 1.3984593420568778\t 1.6734653136868647\t 1.0454173501327846\n",
            "11 \t [ 6.75314372 15.        ]\t 210.56396025908995\t 1.3984593420568778\t 1.6712785515707573\t 1.0426018404636925\n",
            "12 \t [1.14328196 9.28747775]\t 38.36706382141317\t 1.3984593420568778\t 1.6296022478261694\t 0.9890184049745662\n",
            "13 \t [8.03150407 0.        ]\t 10.708456131568257\t 1.3984593420568778\t 1.6217460491399254\t 0.9796181977444841\n",
            "14 \t [ 0.46597826 15.        ]\t 112.93193441374463\t 1.3984593420568778\t 1.5726886693168791\t 0.9160566733133141\n",
            "15 \t [-1.32512052 11.81865801]\t 24.465399820848376\t 1.3984593420568778\t 1.4656171938038682\t 0.7798934972884053\n",
            "16 \t [4.54976774 0.        ]\t 10.498823474874627\t 1.3984593420568778\t 1.4119426271274214\t 0.7120972791155215\n",
            "17 \t [10.          3.46853029]\t 2.1598995215074686\t 1.3984593420568778\t 1.5587382987049798\t 0.9033954532654522\n",
            "18 \t [-1.392       6.90733098]\t 14.136368950416902\t 1.3984593420568778\t 1.3899330321733765\t 0.6847208123860954\n",
            "19 \t [-5. 15.]\t 17.508299515778166\t 1.3984593420568778\t 1.3717888984222812\t 0.6620075102012056\n",
            "20 \t [5.93677428 5.40441263]\t 37.5211797065705\t 1.3984593420568778\t 1.3861156368351963\t 0.6796471660738548\n"
          ]
        }
      ],
      "source": [
        "### Bayesian optimisation runs (x20): 'GP EI' Acquisition Function run number = 2\n",
        "\n",
        "np.random.seed(run_num_2)\n",
        "surrogate_approx_2 = dGaussianProcess(cov_func, optimize=hyperOpt)\n",
        "\n",
        "approx_2 = GPGO_approx(surrogate_approx_2, Acquisition_grad(util), f_syn_polarity, param, n_jobs = -1) # define BayesOpt\n",
        "approx_2.run(max_iter = max_iter, init_evals = n_init) # run\n"
      ]
    },
    {
      "cell_type": "code",
      "execution_count": 15,
      "metadata": {
        "id": "OrboSzBtJLku",
        "colab": {
          "base_uri": "https://localhost:8080/"
        },
        "outputId": "adde17e2-5a33-4fb8-ad89-b8e6d927b0bc"
      },
      "outputs": [
        {
          "output_type": "stream",
          "name": "stdout",
          "text": [
            "Evaluation \t Proposed point \t  Current eval. \t  Best eval. \t         GP EI: maximum y \t GP EI: exploit\n",
            "init\t [ 3.26196854 10.62221734]\t 71.68783452098575\t 18.07886746449891\t    \t    \n",
            "init\t [-0.63642892  7.66241408]\t 18.07886746449891\t 18.07886746449891\t    \t    \n",
            "init\t [ 8.39420432 13.44439633]\t 141.98653529865882\t 18.07886746449891\t    \t    \n",
            "init\t [-3.11622034  3.10864317]\t 83.31045707266176\t 18.07886746449891\t    \t    \n",
            "init\t [-4.22799195  6.61214765]\t 76.5294170688398\t 18.07886746449891\t    \t    \n",
            "1  \t [6.70472147 4.59545299]\t 30.726791812855225\t 18.07886746449891\t 18.07886745449891\t 18.07886745449891\n",
            "\u001b[1m\u001b[92m2\u001b[0m\t \u001b[1m\u001b[92m[-5. 15.]\u001b[0m\t \u001b[1m\u001b[92m17.508299515778166\u001b[0m\t \u001b[1m\u001b[92m17.508299515778166\u001b[0m\t \u001b[1m\u001b[92m18.07886745449889\u001b[0m\t \u001b[1m\u001b[92m18.07886745449889\u001b[0m\n",
            "\u001b[1m\u001b[92m3\u001b[0m\t \u001b[1m\u001b[92m[2.64492238 0.66856133]\u001b[0m\t \u001b[1m\u001b[92m5.661284999877455\u001b[0m\t \u001b[1m\u001b[92m5.661284999877455\u001b[0m\t \u001b[1m\u001b[92m17.508297558832044\u001b[0m\t \u001b[1m\u001b[92m17.508297558832044\u001b[0m\n",
            "4  \t [10.  0.]\t 10.960889035651505\t 5.661284999877455\t 5.662656051008728\t 5.648133568146241\n",
            "5  \t [ 0.17572036 15.        ]\t 105.49246408403764\t 5.661284999877455\t 5.66262342313561\t 5.648029686837559\n",
            "6  \t [10.          8.34438297]\t 30.473976245890775\t 5.661284999877455\t 5.66255426689693\t 5.648029686239175\n",
            "7  \t [-0.6195202  11.33294215]\t 36.28496106529289\t 5.661284999877455\t 5.662657752728408\t 5.648135304924414\n",
            "8  \t [2.26478181 4.63090009]\t 6.332114166073294\t 5.661284999877455\t 5.659473797388495\t 5.6448856268385805\n",
            "9  \t [7.57758365 1.58614563]\t 12.672552824993334\t 5.661284999877455\t 5.6626577950860275\t 5.648135348154675\n",
            "10 \t [ 4.40947615 15.        ]\t 189.55048768987606\t 5.661284999877455\t 5.64710878568677\t 5.632262884274223\n",
            "11 \t [-5.         10.94928018]\t 51.63739464025742\t 5.661284999877455\t 5.656792923294542\t 5.642149208841479\n",
            "12 \t [6.32108564 8.30850722]\t 71.53772726221239\t 5.661284999877455\t 5.607893228040137\t 5.621975682981779\n",
            "13 \t [-0.61485529  0.        ]\t 67.22804933237742\t 5.661284999877455\t 5.637034252368476\t 5.621975682976446\n",
            "14 \t [-5.  0.]\t 308.12909601160663\t 5.661284999877455\t 5.604276348447777\t 5.392512935737922\n",
            "\u001b[1m\u001b[92m15\u001b[0m\t \u001b[1m\u001b[92m[10.          4.13818916]\u001b[0m\t \u001b[1m\u001b[92m3.231893608619532\u001b[0m\t \u001b[1m\u001b[92m3.231893608619532\u001b[0m\t \u001b[1m\u001b[92m5.58629756421012\u001b[0m\t \u001b[1m\u001b[92m5.570125541839055\u001b[0m\n",
            "16 \t [2.74159145 7.14210639]\t 21.71749185148699\t 3.231893608619532\t 3.041356692415685\t 2.77887827874118\n",
            "17 \t [0.32841809 3.40263841]\t 23.45117253041081\t 3.231893608619532\t 2.9112030402372495\t 2.742672147909395\n",
            "18 \t [4.34774501 2.43649726]\t 7.411466426961951\t 3.231893608619532\t 3.013605409968329\t 2.745383941037649\n",
            "19 \t [5.27380484 0.        ]\t 16.550799319636845\t 3.231893608619532\t 2.984333603722602\t 2.709779323645669\n",
            "20 \t [10.          5.55953731]\t 8.479245548347297\t 3.231893608619532\t 2.416577344778757\t 1.5976090939221155\n"
          ]
        }
      ],
      "source": [
        "### Bayesian optimisation runs (x20): 'GP EI' Acquisition Function run number = 3\n",
        "\n",
        "np.random.seed(run_num_3)\n",
        "surrogate_approx_3 = dGaussianProcess(cov_func, optimize=hyperOpt)\n",
        "\n",
        "approx_3 = GPGO_approx(surrogate_approx_3, Acquisition_grad(util), f_syn_polarity, param, n_jobs = -1) # define BayesOpt\n",
        "approx_3.run(max_iter = max_iter, init_evals = n_init) # run\n"
      ]
    },
    {
      "cell_type": "code",
      "execution_count": 16,
      "metadata": {
        "id": "wmlwMmKcJLkv",
        "colab": {
          "base_uri": "https://localhost:8080/"
        },
        "outputId": "c6da6afa-15c2-435a-f5bf-fbfacfdc20c0"
      },
      "outputs": [
        {
          "output_type": "stream",
          "name": "stdout",
          "text": [
            "Evaluation \t Proposed point \t  Current eval. \t  Best eval. \t         GP EI: maximum y \t GP EI: exploit\n",
            "init\t [9.50544759 8.20848374]\t 32.51676744781521\t 7.247126865776948\t    \t    \n",
            "init\t [ 9.5902654  10.72223991]\t 66.20566674364716\t 7.247126865776948\t    \t    \n",
            "init\t [5.46593237 3.24134243]\t 20.90089401680587\t 7.247126865776948\t    \t    \n",
            "init\t [9.64411682 0.09345383]\t 7.247126865776948\t 7.247126865776948\t    \t    \n",
            "init\t [-1.20526456  6.52187299]\t 15.941376982363263\t 7.247126865776948\t    \t    \n",
            "1  \t [ 1.25164457 13.57001383]\t 100.61648848019335\t 7.247126865776948\t 7.247197909829161\t 7.246073949949372\n",
            "2  \t [-4.27198795  1.64727177]\t 188.41076037632916\t 7.247126865776948\t 7.247197409325942\t 7.246073448426794\n",
            "3  \t [-4.64886205 10.90918479]\t 37.28607541173125\t 7.247126865776948\t 7.2471964679364484\t 7.246072513009213\n",
            "4  \t [3.91133965 8.49906097]\t 48.63781804318897\t 7.247126865776948\t 7.247185995789564\t 7.246062012367481\n",
            "5  \t [1.2501607 0.       ]\t 30.769010850910195\t 7.247126865776948\t 7.24718455727612\t 7.246060569887732\n",
            "6  \t [ 6.50670021 15.        ]\t 212.1962305407001\t 7.247126865776948\t 7.247149675349752\t 7.246025617619196\n",
            "\u001b[1m\u001b[92m7\u001b[0m\t \u001b[1m\u001b[92m[10.         3.9710834]\u001b[0m\t \u001b[1m\u001b[92m2.8804101566386846\u001b[0m\t \u001b[1m\u001b[92m2.8804101566386846\u001b[0m\t \u001b[1m\u001b[92m7.243337831475011\u001b[0m\t \u001b[1m\u001b[92m7.242205984876054\u001b[0m\n",
            "8  \t [-3.32101574 15.        ]\t 5.794504001793091\t 2.8804101566386846\t 2.9453487809295043\t 2.662040661576904\n",
            "9  \t [-5.          6.41960122]\t 128.6683829016809\t 2.8804101566386846\t 2.9405772399438743\t 2.6472184076784195\n",
            "10 \t [1.67704842 4.11184401]\t 9.156079763831384\t 2.8804101566386846\t 2.9332286148265894\t 2.6472415907814466\n",
            "11 \t [6.17585953 0.        ]\t 20.75262479806055\t 2.8804101566386846\t 2.9000511275686143\t 2.6066530885908983\n",
            "12 \t [-0.6962027  10.02127529]\t 25.493564735425053\t 2.8804101566386846\t 2.915627145847266\t 2.6257219564715717\n",
            "13 \t [ 5.92890889 11.19403264]\t 120.79564645763605\t 2.8804101566386846\t 2.77788312505162\t 2.456188092236054\n",
            "14 \t [6.81429291 6.1815748 ]\t 43.5624795585275\t 2.8804101566386846\t 2.823722265992995\t 2.3925584768393597\n",
            "15 \t [-0.81586142  3.03557588]\t 35.492668510576934\t 2.8804101566386846\t 2.7265288196960022\t 2.3925581146360173\n",
            "16 \t [10.         14.43248802]\t 132.57732909848184\t 2.8804101566386846\t 2.73382882730875\t 2.401551752576187\n",
            "17 \t [-2.17578511 12.907686  ]\t 12.566086273583661\t 2.8804101566386846\t 2.5238899677708497\t 2.139042580572309\n",
            "18 \t [1.46308725 6.68753768]\t 18.5375229513906\t 2.8804101566386846\t 2.3922829948338236\t 1.9720160863392848\n",
            "19 \t [8.46558076 2.51468307]\t 5.019479577732405\t 2.8804101566386846\t 2.604474950465453\t 2.2416009621866833\n",
            "\u001b[1m\u001b[92m20\u001b[0m\t \u001b[1m\u001b[92m[3.2818078  1.84718748]\u001b[0m\t \u001b[1m\u001b[92m0.5951666875769774\u001b[0m\t \u001b[1m\u001b[92m0.5951666875769774\u001b[0m\t \u001b[1m\u001b[92m2.2049191689304797\u001b[0m\t \u001b[1m\u001b[92m1.7322558870541331\u001b[0m\n"
          ]
        }
      ],
      "source": [
        "### Bayesian optimisation runs (x20): 'GP EI' Acquisition Function run number = 4\n",
        "\n",
        "np.random.seed(run_num_4)\n",
        "surrogate_approx_4 = dGaussianProcess(cov_func, optimize=hyperOpt)\n",
        "\n",
        "approx_4 = GPGO_approx(surrogate_approx_4, Acquisition_grad(util), f_syn_polarity, param, n_jobs = -1) # define BayesOpt\n",
        "approx_4.run(max_iter = max_iter, init_evals = n_init) # run\n"
      ]
    },
    {
      "cell_type": "code",
      "execution_count": 17,
      "metadata": {
        "id": "ntlcfbyWJLkw",
        "colab": {
          "base_uri": "https://localhost:8080/"
        },
        "outputId": "b7bd642f-3711-4bbc-9245-5d2b6d244d44"
      },
      "outputs": [
        {
          "output_type": "stream",
          "name": "stdout",
          "text": [
            "Evaluation \t Proposed point \t  Current eval. \t  Best eval. \t         GP EI: maximum y \t GP EI: exploit\n",
            "init\t [-1.67010243 13.06098459]\t 25.390690545664548\t 25.311309190989615\t    \t    \n",
            "init\t [-1.89921267 13.77916362]\t 25.311309190989615\t 25.311309190989615\t    \t    \n",
            "init\t [2.32616783 9.17615794]\t 41.60147975414021\t 25.311309190989615\t    \t    \n",
            "init\t [6.48861785 7.77626982]\t 63.81281921768236\t 25.311309190989615\t    \t    \n",
            "init\t [-0.54799248  2.81581843]\t 34.966203644931994\t 25.311309190989615\t    \t    \n",
            "\u001b[1m\u001b[92m1\u001b[0m\t \u001b[1m\u001b[92m[8.84124421 0.03321319]\u001b[0m\t \u001b[1m\u001b[92m5.96108856337545\u001b[0m\t \u001b[1m\u001b[92m5.96108856337545\u001b[0m\t \u001b[1m\u001b[92m25.311309180989422\u001b[0m\t \u001b[1m\u001b[92m25.311309180989422\u001b[0m\n",
            "2  \t [ 8.39476442 14.47736321]\t 167.21523769473345\t 5.96108856337545\t 5.961907098265746\t 5.952512433999762\n",
            "3  \t [-4.14019794  7.24510313]\t 61.933263744898504\t 5.96108856337545\t 5.961905563429438\t 5.952510328250705\n",
            "4  \t [-5.  0.]\t 308.12909601160663\t 5.96108856337545\t 5.961890642882623\t 5.9524957478968625\n",
            "5  \t [3.90128236 0.        ]\t 6.125408773900473\t 5.96108856337545\t 5.961875502097774\t 5.952480392928253\n",
            "6  \t [ 3.02984949 15.        ]\t 160.13241058768565\t 5.96108856337545\t 5.961819900376904\t 5.9524240134604876\n",
            "\u001b[1m\u001b[92m7\u001b[0m\t \u001b[1m\u001b[92m[10.          4.33672865]\u001b[0m\t \u001b[1m\u001b[92m3.7220885371828807\u001b[0m\t \u001b[1m\u001b[92m3.7220885371828807\u001b[0m\t \u001b[1m\u001b[92m5.9615817138471705\u001b[0m\t \u001b[1m\u001b[92m5.952182486488175\u001b[0m\n",
            "8  \t [3.79917121 4.09223078]\t 7.572107287039092\t 3.7220885371828807\t 3.7443096830884945\t 3.6028011781329217\n",
            "9  \t [10.         10.16742573]\t 53.27275847160229\t 3.7220885371828807\t 3.7407461490121277\t 3.5987528467947594\n",
            "10 \t [-5.         11.31014308]\t 47.26543362180786\t 3.7220885371828807\t 3.7301878508841577\t 3.586750916132904\n",
            "11 \t [6.99659177 2.92337609]\t 20.270458112946322\t 3.7220885371828807\t 3.719454855853884\t 3.5745418080104696\n",
            "12 \t [ 5.43139533 11.54550093]\t 124.04556194251663\t 3.7220885371828807\t 3.6971983763818836\t 3.5491797976419104\n",
            "13 \t [-0.26302254  6.51752827]\t 19.279977872824848\t 3.7220885371828807\t 3.6962310248082484\t 3.548076618063136\n",
            "14 \t [-5. 15.]\t 17.508299515778166\t 3.7220885371828807\t 3.6815222795229086\t 3.531290148378155\n",
            "15 \t [-4.11227307  3.81297367]\t 123.74782336126489\t 3.7220885371828807\t 3.5759551641480907\t 3.4101617192352003\n",
            "16 \t [-1.31533562  9.78775797]\t 14.589719571325805\t 3.7220885371828807\t 3.6271644163502517\t 3.469062280346251\n",
            "17 \t [1.04547188 0.        ]\t 34.86143518308449\t 3.7220885371828807\t 3.606541988892377\t 3.3671781474283407\n",
            "18 \t [10.          6.70039122]\t 15.61416337981994\t 3.7220885371828807\t 3.5384356427814985\t 3.0585947045461634\n",
            "\u001b[1m\u001b[92m19\u001b[0m\t \u001b[1m\u001b[92m[10.          2.10858627]\u001b[0m\t \u001b[1m\u001b[92m2.7430389664218886\u001b[0m\t \u001b[1m\u001b[92m2.7430389664218886\u001b[0m\t \u001b[1m\u001b[92m3.3714811343602653\u001b[0m\t \u001b[1m\u001b[92m3.173304222299017\u001b[0m\n",
            "20 \t [6.31604066 0.        ]\t 20.809539490269714\t 2.7430389664218886\t 2.469819410754512\t 2.0708386924675977\n"
          ]
        }
      ],
      "source": [
        "### Bayesian optimisation runs (x20): 'GP EI' Acquisition Function run number = 5\n",
        "\n",
        "np.random.seed(run_num_5)\n",
        "surrogate_approx_5 = dGaussianProcess(cov_func, optimize=hyperOpt)\n",
        "\n",
        "approx_5 = GPGO_approx(surrogate_approx_5, Acquisition_grad(util), f_syn_polarity, param, n_jobs = -1) # define BayesOpt\n",
        "approx_5.run(max_iter = max_iter, init_evals = n_init) # run\n"
      ]
    },
    {
      "cell_type": "code",
      "execution_count": 18,
      "metadata": {
        "id": "HHrK2qnsJLkx",
        "colab": {
          "base_uri": "https://localhost:8080/"
        },
        "outputId": "bfa5f7a4-3bfa-4821-81ba-d93418698e42"
      },
      "outputs": [
        {
          "output_type": "stream",
          "name": "stdout",
          "text": [
            "Evaluation \t Proposed point \t  Current eval. \t  Best eval. \t         GP EI: maximum y \t GP EI: exploit\n",
            "init\t [8.39290227 4.97969708]\t 15.553860636684597\t 15.31731051317483\t    \t    \n",
            "init\t [7.31843685 0.62544939]\t 15.31731051317483\t 15.31731051317483\t    \t    \n",
            "init\t [-3.3851498   8.92578096]\t 16.222288919361837\t 15.31731051317483\t    \t    \n",
            "init\t [2.94726043 6.28211143]\t 15.406373581304088\t 15.31731051317483\t    \t    \n",
            "init\t [0.03111774 9.33779148]\t 31.07053245856209\t 15.31731051317483\t    \t    \n",
            "1  \t [ 9.64829531 12.55362889]\t 98.32295673962142\t 15.31731051317483\t 15.317310503173594\t 15.317310503173449\n",
            "2  \t [-1.22578785  0.62063252]\t 69.8637190838968\t 15.31731051317483\t 15.317310503035172\t 15.317310503035026\n",
            "3  \t [ 4.11366061 15.        ]\t 183.1048464690602\t 15.31731051317483\t 15.317309952766703\t 15.317309952766015\n",
            "\u001b[1m\u001b[92m4\u001b[0m\t \u001b[1m\u001b[92m[-2.66581011 14.57032849]\u001b[0m\t \u001b[1m\u001b[92m13.089071799586758\u001b[0m\t \u001b[1m\u001b[92m13.089071799586758\u001b[0m\t \u001b[1m\u001b[92m15.317309277235875\u001b[0m\t \u001b[1m\u001b[92m15.31730927723573\u001b[0m\n",
            "5  \t [-5.          4.21692696]\t 180.95588650406685\t 13.089071799586758\t 13.088994339731487\t 13.08899433933207\n",
            "6  \t [5.44159957 9.98675116]\t 94.22614246906714\t 13.089071799586758\t 13.088312535647159\t 13.088312535260293\n",
            "\u001b[1m\u001b[92m7\u001b[0m\t \u001b[1m\u001b[92m[3.23829399 1.87842442]\u001b[0m\t \u001b[1m\u001b[92m0.5466703025685415\u001b[0m\t \u001b[1m\u001b[92m0.5466703025685415\u001b[0m\t \u001b[1m\u001b[92m13.087024494086023\u001b[0m\t \u001b[1m\u001b[92m13.087024493684023\u001b[0m\n",
            "8  \t [-0.62167161  5.0016137 ]\t 21.957975591821935\t 0.5466703025685415\t 1.092663736714695\t 0.32263481799732563\n",
            "9  \t [ 0.18638758 12.6865283 ]\t 68.1378550124482\t 0.5466703025685415\t 1.1008413262703742\t 0.33221272949045366\n",
            "10 \t [-4.20711823  1.10293431]\t 197.9912263058933\t 0.5466703025685415\t 1.1008406123726728\t 0.3322123311131161\n",
            "11 \t [10.          8.32702489]\t 30.28884378410268\t 0.5466703025685415\t 1.0921366778573236\t 0.3220184668911154\n",
            "12 \t [-5.         12.08042009]\t 38.80459032770182\t 0.5466703025685415\t 1.0800495936309973\t 0.29756125621322127\n",
            "13 \t [6.26632983 6.91792673]\t 53.45483620188975\t 0.5466703025685415\t 1.100841334130926\t 0.33221273637465293\n",
            "14 \t [3.02686544 0.        ]\t 6.05977850555649\t 0.5466703025685415\t 1.0682142100806675\t -2.0690167783518214e-28\n",
            "15 \t [4.71317378 3.12038884]\t 13.076802425814115\t 0.5466703025685415\t 1.0753765232247552\t 0.3061346650843647\n",
            "16 \t [1.87435137 2.59209771]\t 7.901778240510687\t 0.5466703025685415\t 1.0457411641339573\t 0.2603999215387595\n",
            "17 \t [10.          2.12957984]\t 2.705927629354168\t 0.5466703025685415\t 1.0389300908366796\t 0.2603997979283154\n",
            "18 \t [10.  0.]\t 10.960889035651505\t 0.5466703025685415\t 0.9221089896378959\t -0.0\n",
            "19 \t [-5. 15.]\t 17.508299515778166\t 0.5466703025685415\t 0.7421208994009187\t -5.302231695948036e-82\n",
            "20 \t [ 7.63500421 15.        ]\t 197.61470749707425\t 0.5466703025685415\t 0.8159330237330256\t 0.01818140120522939\n"
          ]
        }
      ],
      "source": [
        "### Bayesian optimisation runs (x20): 'GP EI' Acquisition Function run number = 6\n",
        "\n",
        "np.random.seed(run_num_6)\n",
        "surrogate_approx_6 = dGaussianProcess(cov_func, optimize=hyperOpt)\n",
        "\n",
        "approx_6 = GPGO_approx(surrogate_approx_6, Acquisition_grad(util), f_syn_polarity, param, n_jobs = -1) # define BayesOpt\n",
        "approx_6.run(max_iter = max_iter, init_evals = n_init) # run\n"
      ]
    },
    {
      "cell_type": "code",
      "execution_count": 19,
      "metadata": {
        "id": "rht2Y9u8JLky",
        "colab": {
          "base_uri": "https://localhost:8080/"
        },
        "outputId": "2378cd28-f15d-4589-9bd7-cc5789d72e8e"
      },
      "outputs": [
        {
          "output_type": "stream",
          "name": "stdout",
          "text": [
            "Evaluation \t Proposed point \t  Current eval. \t  Best eval. \t         GP EI: maximum y \t GP EI: exploit\n",
            "init\t [-3.85537566 11.69878188]\t 8.299317850233932\t 5.211335324193094\t    \t    \n",
            "init\t [ 1.57613847 10.85197767]\t 59.50408380701259\t 5.211335324193094\t    \t    \n",
            "init\t [9.66984268 8.07743806]\t 29.714921414987273\t 5.211335324193094\t    \t    \n",
            "init\t [2.51680695 1.080767  ]\t 5.211335324193094\t 5.211335324193094\t    \t    \n",
            "init\t [-0.9734153   7.49823751]\t 15.431057204948033\t 5.211335324193094\t    \t    \n",
            "1  \t [-4.97859679  1.38393519]\t 260.3293952774437\t 5.211335324193094\t 5.214210673253922\t 5.187442543130133\n",
            "2  \t [ 7.42679792 14.12713902]\t 178.37635728719692\t 5.211335324193094\t 5.214210654642059\t 5.187442523866203\n",
            "3  \t [8.08940775 0.35854539]\t 9.249625108410735\t 5.211335324193094\t 5.214210312347393\t 5.1874421695792226\n",
            "4  \t [-3.39684884  5.54228873]\t 54.79871094423047\t 5.211335324193094\t 5.214210673253922\t 5.187442543130133\n",
            "5  \t [4.5745799  5.89625789]\t 28.693235382945684\t 5.211335324193094\t 5.214202666027069\t 5.187434262537426\n",
            "6  \t [-0.88571854 15.        ]\t 72.16055111056878\t 5.211335324193094\t 5.2137320951930075\t 5.186947197478451\n",
            "\u001b[1m\u001b[92m7\u001b[0m\t \u001b[1m\u001b[92m[10.          3.80987004]\u001b[0m\t \u001b[1m\u001b[92m2.594249946077147\u001b[0m\t \u001b[1m\u001b[92m2.594249946077147\u001b[0m\t \u001b[1m\u001b[92m5.210733216380182\u001b[0m\t \u001b[1m\u001b[92m5.183843020129663\u001b[0m\n",
            "8  \t [-0.72256918  0.        ]\t 69.29425491448787\t 2.594249946077147\t 2.6737084290422763\t 2.3258003994051224\n",
            "9  \t [5.83871203 9.85316455]\t 95.0880609033701\t 2.594249946077147\t 2.6774339772696174\t 2.331327758439725\n",
            "10 \t [-5. 15.]\t 17.508299515778166\t 2.594249946077147\t 2.6706385169670694\t 2.3228454613700684\n",
            "11 \t [0.81138092 4.14200353]\t 17.035732377364063\t 2.594249946077147\t 2.670430605658941\t 2.322585872898052\n",
            "12 \t [ 3.21226119 15.        ]\t 163.736614390789\t 2.594249946077147\t 2.669590243731921\t 2.321535848763568\n",
            "13 \t [5.48827914 2.34327893]\t 18.133713813283663\t 2.594249946077147\t 2.638164963398073\t 2.282252411683345\n",
            "14 \t [-5.         8.8512904]\t 82.21381064077347\t 2.594249946077147\t 2.622930821353988\t 2.2631751996846634\n",
            "15 \t [10.         11.37764831]\t 72.07860184075574\t 2.594249946077147\t 2.562522353660428\t 2.1872903084752298\n",
            "16 \t [1.96593654 7.35735385]\t 22.199579900250605\t 2.594249946077147\t 2.685862525354409\t 2.341842896888933\n",
            "17 \t [7.85492265 5.00913583]\t 22.522379167749065\t 2.594249946077147\t 2.552084604205171\t 2.174457277610507\n",
            "18 \t [10.          1.89977628]\t 3.1601474939220466\t 2.594249946077147\t 2.3303798122918984\t 1.8967227635063917\n",
            "19 \t [-1.66597887 10.4953578 ]\t 11.293602466605181\t 2.594249946077147\t 2.307490455693168\t 1.863786558146314\n",
            "20 \t [4.52422383 0.        ]\t 10.288130702615746\t 2.594249946077147\t 2.195661402649163\t 1.7210387581959203\n"
          ]
        }
      ],
      "source": [
        "### Bayesian optimisation runs (x20): 'GP EI' Acquisition Function run number = 7\n",
        "\n",
        "np.random.seed(run_num_7)\n",
        "surrogate_approx_7 = dGaussianProcess(cov_func, optimize=hyperOpt)\n",
        "\n",
        "approx_7 = GPGO_approx(surrogate_approx_7, Acquisition_grad(util), f_syn_polarity, param, n_jobs = -1) # define BayesOpt\n",
        "approx_7.run(max_iter = max_iter, init_evals = n_init) # run\n"
      ]
    },
    {
      "cell_type": "code",
      "execution_count": 20,
      "metadata": {
        "id": "vHGwZn0qJLkz",
        "colab": {
          "base_uri": "https://localhost:8080/"
        },
        "outputId": "8ec85ffc-7c85-41b6-d986-8b73c1cc7766"
      },
      "outputs": [
        {
          "output_type": "stream",
          "name": "stdout",
          "text": [
            "Evaluation \t Proposed point \t  Current eval. \t  Best eval. \t         GP EI: maximum y \t GP EI: exploit\n",
            "init\t [ 8.10144104 14.52810994]\t 175.17297136347514\t 15.416245468470875\t    \t    \n",
            "init\t [8.0379181  7.96283537]\t 49.32173799887473\t 15.416245468470875\t    \t    \n",
            "init\t [-1.50907508  0.17098206]\t 83.26753461673219\t 15.416245468470875\t    \t    \n",
            "init\t [1.45703227 6.0352704 ]\t 15.416245468470875\t 15.416245468470875\t    \t    \n",
            "init\t [2.84012007 7.17587694]\t 22.49093277852639\t 15.416245468470875\t    \t    \n",
            "\u001b[1m\u001b[92m1\u001b[0m\t \u001b[1m\u001b[92m[9.77124156 0.43098073]\u001b[0m\t \u001b[1m\u001b[92m6.499298445992174\u001b[0m\t \u001b[1m\u001b[92m6.499298445992174\u001b[0m\t \u001b[1m\u001b[92m15.416245458468238\u001b[0m\t \u001b[1m\u001b[92m15.416245458468138\u001b[0m\n",
            "2  \t [-4.87537438 11.82874897]\t 36.57081146531108\t 6.499298445992174\t 6.499606274426392\t 6.495543549232031\n",
            "3  \t [ 1.38233826 12.68601766]\t 86.43509303241686\t 6.499298445992174\t 6.499605297753907\t 6.495542544257884\n",
            "4  \t [-5.         4.9331771]\t 162.88875202992193\t 6.499298445992174\t 6.499605152622068\t 6.495542394704709\n",
            "5  \t [4.45960766 1.26264545]\t 7.642172669057232\t 6.499298445992174\t 6.499603233850996\t 6.495540768218494\n",
            "6  \t [-1.7162825   8.75518795]\t 8.735318519291516\t 6.499298445992174\t 6.496930753394357\t 6.492850321099729\n",
            "7  \t [7.61812158 3.65803369]\t 17.466536763458482\t 6.499298445992174\t 6.494240634977032\t 6.490142331866322\n",
            "8  \t [-2.31879924 15.        ]\t 24.76629631979477\t 6.499298445992174\t 6.4918999922109\t 6.487786077367199\n",
            "9  \t [ 5.24211373 10.95516628]\t 109.88107656321785\t 6.499298445992174\t 6.485411482309242\t 6.481254014422855\n",
            "10 \t [1.53174072 2.65341158]\t 11.843486644717224\t 6.499298445992174\t 6.438962781103106\t 6.434481386511354\n",
            "11 \t [10.         11.01206578]\t 66.08897041223153\t 6.499298445992174\t 6.4346812393619395\t 6.430168610513471\n",
            "12 \t [-5.          0.69081935]\t 284.85960587236076\t 6.499298445992174\t 6.40747607743666\t 6.4027618951639145\n",
            "13 \t [ 4.1972078 15.       ]\t 184.94377684569102\t 6.499298445992174\t 6.395843778856073\t 6.3910409433931665\n",
            "14 \t [-1.22742986  4.23775042]\t 28.523804262600034\t 6.499298445992174\t 6.3639018694597045\t 6.358848318359787\n",
            "15 \t [6.98858216 0.        ]\t 18.7189468117559\t 6.499298445992174\t 6.35914795372582\t 6.354060479649152\n",
            "16 \t [4.52196126 4.35809774]\t 16.670658240879774\t 6.499298445992174\t 6.333240504915638\t 6.3279352900338575\n",
            "17 \t [-5.          8.61747514]\t 86.16668077656767\t 6.499298445992174\t 6.283603947157137\t 6.184564114233533\n",
            "18 \t [2.15639181 0.        ]\t 14.733658044801466\t 6.499298445992174\t 6.1911791840073285\t 6.184564115173549\n",
            "19 \t [10.          5.22808371]\t 6.894331315669073\t 6.499298445992174\t 6.265651699593015\t 6.259751434251593\n",
            "20 \t [-1.77398217 11.4766044 ]\t 13.109948888059233\t 6.499298445992174\t 6.087670027935171\t 6.079905050005683\n"
          ]
        }
      ],
      "source": [
        "### Bayesian optimisation runs (x20): 'GP EI' Acquisition Function run number = 8\n",
        "\n",
        "np.random.seed(run_num_8)\n",
        "surrogate_approx_8 = dGaussianProcess(cov_func, optimize=hyperOpt)\n",
        "\n",
        "approx_8 = GPGO_approx(surrogate_approx_8, Acquisition_grad(util), f_syn_polarity, param, n_jobs = -1) # define BayesOpt\n",
        "approx_8.run(max_iter = max_iter, init_evals = n_init) # run\n"
      ]
    },
    {
      "cell_type": "code",
      "execution_count": 21,
      "metadata": {
        "id": "YC6sxKgkJLkz",
        "colab": {
          "base_uri": "https://localhost:8080/"
        },
        "outputId": "6623ce8a-d99a-46a3-ff78-7104c6f3471c"
      },
      "outputs": [
        {
          "output_type": "stream",
          "name": "stdout",
          "text": [
            "Evaluation \t Proposed point \t  Current eval. \t  Best eval. \t         GP EI: maximum y \t GP EI: exploit\n",
            "init\t [-4.84438769  7.52811888]\t 96.15564306553264\t 3.4640248583909496\t    \t    \n",
            "init\t [2.4365994  2.00744293]\t 3.4640248583909496\t 3.4640248583909496\t    \t    \n",
            "init\t [-2.86833372  3.27838013]\t 70.46930174488207\t 3.4640248583909496\t    \t    \n",
            "init\t [1.27762271 3.72151753]\t 12.982825924833865\t 3.4640248583909496\t    \t    \n",
            "init\t [-3.73910523  5.1824796 ]\t 75.58547400560856\t 3.4640248583909496\t    \t    \n",
            "1  \t [ 7.05609655 14.75038872]\t 200.4388688685465\t 3.4640248583909496\t 3.497841782110876\t 3.31979783164339\n",
            "2  \t [-0.46054038 14.56197292]\t 79.4666617606301\t 3.4640248583909496\t 3.4978417820600054\t 3.3197978315843355\n",
            "3  \t [8.28747407 1.2035024 ]\t 6.196385269800155\t 3.4640248583909496\t 3.497841747459437\t 3.3197977914170287\n",
            "4  \t [7.59811302 8.71517261]\t 66.45196249675806\t 3.4640248583909496\t 3.4978407603382\t 3.3197969365149596\n",
            "5  \t [1.75712256 9.14412423]\t 38.93294557365744\t 3.4640248583909496\t 3.49783700809622\t 3.3197924099375897\n",
            "6  \t [-5.        12.6760437]\t 33.07572996559651\t 3.4640248583909496\t 3.4975471020890225\t 3.3194557372636964\n",
            "7  \t [5.6715996  4.46953721]\t 29.021795006367803\t 3.4640248583909496\t 3.496134041150059\t 3.3178151953791657\n",
            "8  \t [10.         4.8390562]\t 5.314402373557158\t 3.4640248583909496\t 3.4948360781291594\t 3.3163080892620984\n",
            "9  \t [-0.2984386  0.       ]\t 61.252164519803785\t 3.4640248583909496\t 3.4865530955446977\t 3.3043199249510815\n",
            "10 \t [4.94290864 0.        ]\t 13.85646903193776\t 3.4640248583909496\t 3.4847482278173225\t 3.3045921406967684\n",
            "11 \t [-5.  0.]\t 308.12909601160663\t 3.4640248583909496\t 3.4821191808112237\t 3.30153275207556\n",
            "12 \t [ 3.28034386 12.74090202]\t 112.24934727921114\t 3.4640248583909496\t 3.4719186978840364\t 3.289668870232115\n",
            "13 \t [-1.8329408  10.47587725]\t 8.776413601988395\t 3.4640248583909496\t 3.4664413843367843\t 3.28329389616675\n",
            "14 \t [10.         11.79694951]\t 79.27745190832408\t 3.4640248583909496\t 3.4663661053857315\t 3.2832062062690572\n",
            "15 \t [-0.38236838  6.54108932]\t 18.91613957234983\t 3.4640248583909496\t 3.3486410753195806\t 3.1454197077635078\n",
            "16 \t [3.1399701  6.24875882]\t 16.178601506392653\t 3.4640248583909496\t 3.213892465062798\t 2.9858904735396354\n",
            "17 \t [-3.69765809 15.        ]\t 3.6635380206809156\t 3.4640248583909496\t 2.870399956001204\t 2.5703766318744834\n",
            "18 \t [4.66780147 9.53643999]\t 76.0068441271057\t 3.4640248583909496\t 2.8208744889221804\t 2.5093464554893137\n",
            "\u001b[1m\u001b[92m19\u001b[0m\t \u001b[1m\u001b[92m[10.          2.49589868]\u001b[0m\t \u001b[1m\u001b[92m2.200248399256905\u001b[0m\t \u001b[1m\u001b[92m2.200248399256905\u001b[0m\t \u001b[1m\u001b[92m3.0431259352907873\u001b[0m\t \u001b[1m\u001b[92m2.7824465341637006\u001b[0m\n",
            "20 \t [10.  0.]\t 10.960889035651505\t 2.200248399256905\t 2.017151928653233\t 1.4917217194587669\n"
          ]
        }
      ],
      "source": [
        "### Bayesian optimisation runs (x20): 'GP EI' Acquisition Function run number = 9\n",
        "\n",
        "np.random.seed(run_num_9)\n",
        "surrogate_approx_9 = dGaussianProcess(cov_func, optimize=hyperOpt)\n",
        "\n",
        "approx_9 = GPGO_approx(surrogate_approx_9, Acquisition_grad(util), f_syn_polarity, param, n_jobs = -1) # define BayesOpt\n",
        "approx_9.run(max_iter = max_iter, init_evals = n_init) # run\n"
      ]
    },
    {
      "cell_type": "code",
      "execution_count": 22,
      "metadata": {
        "id": "P-0wfCEIJLk0",
        "colab": {
          "base_uri": "https://localhost:8080/"
        },
        "outputId": "d358bd99-c97a-40d3-a5e9-73b973db3a43"
      },
      "outputs": [
        {
          "output_type": "stream",
          "name": "stdout",
          "text": [
            "Evaluation \t Proposed point \t  Current eval. \t  Best eval. \t         GP EI: maximum y \t GP EI: exploit\n",
            "init\t [6.56980965 0.31127924]\t 19.863985024602144\t 2.710610964564512\t    \t    \n",
            "init\t [ 4.50472352 11.23205824]\t 103.66999147252169\t 2.710610964564512\t    \t    \n",
            "init\t [2.47760518 3.37194968]\t 2.710610964564512\t 2.710610964564512\t    \t    \n",
            "init\t [-2.02905703 11.40796068]\t 8.463930835255017\t 2.710610964564512\t    \t    \n",
            "init\t [-2.46333745  1.32509721]\t 90.49481266026973\t 2.710610964564512\t    \t    \n",
            "1  \t [ 9.16391068 14.81438212]\t 158.2412724465548\t 2.710610964564512\t 2.791471383796652\t 2.4729984549295345\n",
            "2  \t [9.65621089 6.61160737]\t 16.1339423373336\t 2.710610964564512\t 2.7914713837968415\t 2.4729984549297694\n",
            "3  \t [-3.43070383  6.59407857]\t 41.58407101130534\t 2.710610964564512\t 2.7914713830067637\t 2.472998453952799\n",
            "4  \t [ 1.02022796 14.99263201]\t 124.89402405246402\t 2.710610964564512\t 2.791469993641612\t 2.4729970990230457\n",
            "5  \t [-5. 15.]\t 17.508299515778166\t 2.710610964564512\t 2.791396791464147\t 2.472906217535571\n",
            "6  \t [1.3076529  7.43245455]\t 23.339868796515702\t 2.710610964564512\t 2.7909150753205063\t 2.472310538060514\n",
            "7  \t [5.49081833 5.84072721]\t 38.68997466437173\t 2.710610964564512\t 2.789420498970904\t 2.4704622510119094\n",
            "\u001b[1m\u001b[92m8\u001b[0m\t \u001b[1m\u001b[92m[10.          2.46597296]\u001b[0m\t \u001b[1m\u001b[92m2.2314920976094097\u001b[0m\t \u001b[1m\u001b[92m2.2314920976094097\u001b[0m\t \u001b[1m\u001b[92m2.7877062821260186\u001b[0m\t \u001b[1m\u001b[92m2.468342003354025\u001b[0m\n",
            "9  \t [2.04111685 0.        ]\t 16.470485089652325\t 2.2314920976094097\t 2.3599673546290263\t 1.930547171813775\n",
            "10 \t [10.         10.45459975]\t 57.47012616611987\t 2.2314920976094097\t 2.3568017962625003\t 1.9265075508856748\n",
            "11 \t [-5.          9.90819334]\t 65.71002179800195\t 2.2314920976094097\t 2.3645025256830827\t 1.9363304505153307\n",
            "12 \t [ 5.10253073 15.        ]\t 202.92082220426636\t 2.2314920976094097\t 2.3029967579506994\t 1.8577578728380415\n",
            "13 \t [10.  0.]\t 10.960889035651505\t 2.2314920976094097\t 2.2956498103739023\t 1.8486672227557381\n",
            "14 \t [7.92999479 3.437291  ]\t 13.013204461725984\t 2.2314920976094097\t 2.2180718770015235\t 1.7496052943690672\n",
            "15 \t [ 0.78077826 10.84387046]\t 52.91425311718574\t 2.2314920976094097\t 2.2298953545751408\t 1.7640825697031837\n",
            "16 \t [-0.21624803  4.37650575]\t 23.273983891067402\t 2.2314920976094097\t 2.278063448799345\t 1.622132537615995\n",
            "17 \t [-5.          3.69163795]\t 194.85826674480165\t 2.2314920976094097\t 2.193092159748682\t 1.6221324137376583\n",
            "18 \t [7.08425579 8.68914256]\t 72.64401259813195\t 2.2314920976094097\t 2.1196344254128108\t 1.6221324137411692\n",
            "19 \t [4.46442397 2.50742994]\t 8.720769355123474\t 2.2314920976094097\t 2.1178853649773024\t 1.621168615913562\n",
            "20 \t [-2.37411464 14.07664203]\t 15.834483857656402\t 2.2314920976094097\t 2.0118157574588182\t 1.4830201791340043\n"
          ]
        }
      ],
      "source": [
        "### Bayesian optimisation runs (x20): 'GP EI' Acquisition Function run number = 10\n",
        "\n",
        "np.random.seed(run_num_10)\n",
        "surrogate_approx_10 = dGaussianProcess(cov_func, optimize=hyperOpt)\n",
        "\n",
        "approx_10 = GPGO_approx(surrogate_approx_10, Acquisition_grad(util), f_syn_polarity, param, n_jobs = -1) # define BayesOpt\n",
        "approx_10.run(max_iter = max_iter, init_evals = n_init) # run\n"
      ]
    },
    {
      "cell_type": "code",
      "execution_count": 23,
      "metadata": {
        "id": "Z6wmPCIEJLk2",
        "colab": {
          "base_uri": "https://localhost:8080/"
        },
        "outputId": "4abb2758-216b-477b-cd60-fa91777bdc6f"
      },
      "outputs": [
        {
          "output_type": "stream",
          "name": "stdout",
          "text": [
            "Evaluation \t Proposed point \t  Current eval. \t  Best eval. \t         GP EI: maximum y \t GP EI: exploit\n",
            "init\t [-2.29595467  0.29212862]\t 104.49282729548965\t 22.37435843952312\t    \t    \n",
            "init\t [ 1.9482779  10.87400894]\t 62.47758067812407\t 22.37435843952312\t    \t    \n",
            "init\t [1.30305407 7.28140647]\t 22.37435843952312\t 22.37435843952312\t    \t    \n",
            "init\t [-4.80828778  7.31057411]\t 97.94503054415523\t 22.37435843952312\t    \t    \n",
            "init\t [ 9.12709979 12.76192634]\t 111.62900800771942\t 22.37435843952312\t    \t    \n",
            "\u001b[1m\u001b[92m1\u001b[0m\t \u001b[1m\u001b[92m[6.94653631 0.95529646]\u001b[0m\t \u001b[1m\u001b[92m17.615403152614682\u001b[0m\t \u001b[1m\u001b[92m17.615403152614682\u001b[0m\t \u001b[1m\u001b[92m22.374358429523117\u001b[0m\t \u001b[1m\u001b[92m22.374358429523117\u001b[0m\n",
            "\u001b[1m\u001b[92m2\u001b[0m\t \u001b[1m\u001b[92m[9.97230855 6.82110601]\u001b[0m\t \u001b[1m\u001b[92m16.589650805576685\u001b[0m\t \u001b[1m\u001b[92m16.589650805576685\u001b[0m\t \u001b[1m\u001b[92m17.615402292780683\u001b[0m\t \u001b[1m\u001b[92m17.615402292780683\u001b[0m\n",
            "3  \t [-5. 15.]\t 17.508299515778166\t 16.589650805576685\t 16.58965079556952\t 16.58965079556952\n",
            "\u001b[1m\u001b[92m4\u001b[0m\t \u001b[1m\u001b[92m[2.40781929 2.48994243]\u001b[0m\t \u001b[1m\u001b[92m3.051168412611748\u001b[0m\t \u001b[1m\u001b[92m3.051168412611748\u001b[0m\t \u001b[1m\u001b[92m16.589423570025154\u001b[0m\t \u001b[1m\u001b[92m16.589423570025154\u001b[0m\n",
            "5  \t [ 4.54061416 15.        ]\t 192.31887539788474\t 3.051168412611748\t 3.106127517221562\t 2.8568614628290776\n",
            "6  \t [5.60602918 5.53130859]\t 36.78743781050825\t 3.051168412611748\t 3.105807088249035\t 2.8564759742064076\n",
            "7  \t [-0.5430178 15.       ]\t 83.79310514369296\t 3.051168412611748\t 3.1055649089803326\t 2.856184614226025\n",
            "\u001b[1m\u001b[92m8\u001b[0m\t \u001b[1m\u001b[92m[-2.80957415 11.22736831]\u001b[0m\t \u001b[1m\u001b[92m0.9919648372639394\u001b[0m\t \u001b[1m\u001b[92m0.9919648372639394\u001b[0m\t \u001b[1m\u001b[92m3.1001675389291794\u001b[0m\t \u001b[1m\u001b[92m2.8496895302496648\u001b[0m\n",
            "9  \t [6.09912776 9.61696382]\t 92.00384987099892\t 0.9919648372639394\t 1.3827345906066602\t 0.6724663679351085\n",
            "10 \t [-1.43283497  4.48388364]\t 27.81843201032059\t 0.9919648372639394\t 1.380434752723373\t 0.6724663736404699\n",
            "11 \t [10.         2.9956318]\t 1.9431943157150968\t 0.9919648372639394\t 1.3790690366777507\t 0.6707572207363892\n",
            "12 \t [-5.          3.20440785]\t 208.24670386859515\t 0.9919648372639394\t 1.362238111259551\t 0.6397460148456956\n",
            "13 \t [-5.         11.41906718]\t 45.99695698277882\t 0.9919648372639394\t 1.3423497936060622\t 0.6259765013338248\n",
            "14 \t [-1.76668893 10.91123411]\t 11.008294996171248\t 0.9919648372639394\t 1.4684659194142717\t 0.6397459772881149\n",
            "15 \t [1.90784392 0.        ]\t 18.61545088366099\t 0.9919648372639394\t 1.3434531710736304\t 0.6265164923365715\n",
            "16 \t [8.39467016 3.93888709]\t 9.87874418788536\t 0.9919648372639394\t 1.156784448506982\t 0.4023678202932907\n",
            "17 \t [2.31869615 4.45326456]\t 5.5693224403023125\t 0.9919648372639394\t 1.1418501612994683\t 0.38326498617274046\n",
            "18 \t [10.  0.]\t 10.960889035651505\t 0.9919648372639394\t 1.3494130395648454\t 0.6337506482851043\n",
            "19 \t [4.43215765 2.32293093]\t 8.048566939040743\t 0.9919648372639394\t 1.1262369887320707\t 0.3641466136323307\n",
            "20 \t [-1.46950258  8.12552262]\t 11.213261217008448\t 0.9919648372639394\t 1.1081837202975193\t 0.34091054820074085\n"
          ]
        }
      ],
      "source": [
        "### Bayesian optimisation runs (x20): 'GP EI' Acquisition Function run number = 11\n",
        "\n",
        "np.random.seed(run_num_11)\n",
        "surrogate_approx_11 = dGaussianProcess(cov_func, optimize=hyperOpt)\n",
        "\n",
        "approx_11 = GPGO_approx(surrogate_approx_11, Acquisition_grad(util), f_syn_polarity, param, n_jobs = -1) # define BayesOpt\n",
        "approx_11.run(max_iter = max_iter, init_evals = n_init) # run\n"
      ]
    },
    {
      "cell_type": "code",
      "execution_count": 24,
      "metadata": {
        "id": "oNR6-n7iJLk3",
        "colab": {
          "base_uri": "https://localhost:8080/"
        },
        "outputId": "07a1fdf8-b034-4861-fd99-59eb4295f755"
      },
      "outputs": [
        {
          "output_type": "stream",
          "name": "stdout",
          "text": [
            "Evaluation \t Proposed point \t  Current eval. \t  Best eval. \t         GP EI: maximum y \t GP EI: exploit\n",
            "init\t [-2.68755736 11.10074545]\t 1.3827702760021356\t 0.5499315281120278\t    \t    \n",
            "init\t [-1.05027477  8.0060909 ]\t 14.81231853080056\t 0.5499315281120278\t    \t    \n",
            "init\t [-4.78137556 13.78120512]\t 18.401131000214548\t 0.5499315281120278\t    \t    \n",
            "init\t [8.51072281 0.50132141]\t 5.855172364344769\t 0.5499315281120278\t    \t    \n",
            "init\t [9.35424004 2.05813982]\t 0.5499315281120278\t 0.5499315281120278\t    \t    \n",
            "1  \t [10.          4.42353593]\t 3.9611862792252275\t 0.5499315281120278\t 1.1032403857304094\t 0.33583699444422843\n",
            "2  \t [ 8.50155249 13.79797306]\t 148.00655208378976\t 0.5499315281120278\t 1.1028242099285575\t 0.3345391402651518\n",
            "3  \t [-4.8799499   0.15657603]\t 290.0404981832191\t 0.5499315281120278\t 1.1028242099285575\t 0.3345391402651517\n",
            "4  \t [5.82026378 8.50131991]\t 73.17953807026612\t 0.5499315281120278\t 1.1028231615217545\t 0.33453813878503036\n",
            "5  \t [3.15979756 0.59150564]\t 3.186174209194043\t 0.5499315281120278\t 1.1028231319233353\t 0.33453828605144564\n",
            "6  \t [ 2.51924598 13.29510997]\t 112.12776714896611\t 0.5499315281120278\t 1.1028225042503033\t 0.3345371465729486\n",
            "7  \t [-0.40193493  3.26237141]\t 30.384628521175927\t 0.5499315281120278\t 1.1026972617159954\t 0.33439012936378565\n",
            "8  \t [-5.         5.5768929]\t 147.5266998279592\t 0.5499315281120278\t 1.102674855766246\t 0.3343638574782791\n",
            "9  \t [5.64082048 3.75710959]\t 24.5749246858461\t 0.5499315281120278\t 1.1020372644081802\t 0.33361569451548967\n",
            "10 \t [10.          9.24120289]\t 40.858857349524385\t 0.5499315281120278\t 1.0996391420878595\t 0.3308030218780761\n",
            "11 \t [2.33681391 6.17964244]\t 13.540681699410555\t 0.5499315281120278\t 1.091853413823745\t 0.3216871718763504\n",
            "12 \t [-5.         9.8166692]\t 67.05083734031369\t 0.5499315281120278\t 1.0824535872040733\t 0.310822745133273\n",
            "13 \t [0.06672916 0.        ]\t 54.32436931407636\t 0.5499315281120278\t 1.055739040821955\t 0.27973499122678214\n",
            "14 \t [-1.29338903 15.        ]\t 57.86067464261707\t 0.5499315281120278\t 1.091208687859299\t 0.32093345713995347\n",
            "15 \t [5.68010219 0.        ]\t 19.180119695149266\t 0.5499315281120278\t 1.0368701987271944\t 0.25820039822826224\n",
            "16 \t [1.95735967 9.50128027]\t 43.853622219615005\t 0.5499315281120278\t 1.0428382772804252\t 0.2648763921375807\n",
            "17 \t [-1.12546221 11.38242781]\t 25.884406217980487\t 0.5499315281120278\t 0.9995539016992505\t 0.22630771903891342\n",
            "18 \t [2.7140677  2.90254687]\t 1.3353120858914398\t 0.5499315281120278\t 0.8990645374727058\t 0.10540042828028588\n",
            "19 \t [ 5.61349693 11.79012255]\t 131.02531515903587\t 0.5499315281120278\t 0.8409027100352106\t 0.12003715908583305\n",
            "20 \t [8.28722761 6.00751101]\t 24.673535582348364\t 0.5499315281120278\t 0.9493386935837593\t 0.160086077472125\n"
          ]
        }
      ],
      "source": [
        "### Bayesian optimisation runs (x20): 'GP EI' Acquisition Function run number = 12\n",
        "\n",
        "np.random.seed(run_num_12)\n",
        "surrogate_approx_12 = dGaussianProcess(cov_func, optimize=hyperOpt)\n",
        "\n",
        "approx_12 = GPGO_approx(surrogate_approx_12, Acquisition_grad(util), f_syn_polarity, param, n_jobs = -1) # define BayesOpt\n",
        "approx_12.run(max_iter = max_iter, init_evals = n_init) # run\n"
      ]
    },
    {
      "cell_type": "code",
      "execution_count": 25,
      "metadata": {
        "id": "z1CyiX30JLk4",
        "colab": {
          "base_uri": "https://localhost:8080/"
        },
        "outputId": "a232656b-bf99-444a-f26a-a51a9c8899bc"
      },
      "outputs": [
        {
          "output_type": "stream",
          "name": "stdout",
          "text": [
            "Evaluation \t Proposed point \t  Current eval. \t  Best eval. \t         GP EI: maximum y \t GP EI: exploit\n",
            "init\t [6.66553616 3.5631183 ]\t 24.823670200298267\t 18.038943061558626\t    \t    \n",
            "init\t [ 7.36417799 14.48623797]\t 188.7803334745195\t 18.038943061558626\t    \t    \n",
            "init\t [9.58901671 6.80173871]\t 18.038943061558626\t 18.038943061558626\t    \t    \n",
            "init\t [ 4.13563694 11.63289772]\t 104.87319703906111\t 18.038943061558626\t    \t    \n",
            "init\t [ 4.62420017 10.83027344]\t 98.03271225790056\t 18.038943061558626\t    \t    \n",
            "1  \t [-5.         10.55852145]\t 56.665255254022\t 18.038943061558626\t 18.038943051558626\t 18.038943051558626\n",
            "2  \t [-3.36042638  1.3238031 ]\t 132.49290788011677\t 18.038943061558626\t 18.038943051558626\t 18.038943051558626\n",
            "3  \t [-0.52477309  6.71287575]\t 18.334962929598774\t 18.038943061558626\t 18.03894166733079\t 18.03894166733079\n",
            "4  \t [-0.84251917 15.        ]\t 73.65639591438165\t 18.038943061558626\t 18.038942202567238\t 18.038942202567238\n",
            "\u001b[1m\u001b[92m5\u001b[0m\t \u001b[1m\u001b[92m[2.39368641 0.        ]\u001b[0m\t \u001b[1m\u001b[92m11.548515885786035\u001b[0m\t \u001b[1m\u001b[92m11.548515885786035\u001b[0m\t \u001b[1m\u001b[92m18.038938901895197\u001b[0m\t \u001b[1m\u001b[92m18.03893890042434\u001b[0m\n",
            "\u001b[1m\u001b[92m6\u001b[0m\t \u001b[1m\u001b[92m[10.  0.]\u001b[0m\t \u001b[1m\u001b[92m10.960889035651505\u001b[0m\t \u001b[1m\u001b[92m10.960889035651505\u001b[0m\t \u001b[1m\u001b[92m11.548432204366398\u001b[0m\t \u001b[1m\u001b[92m11.548432158456125\u001b[0m\n",
            "7  \t [-5.         5.8734449]\t 140.7284284564394\t 10.960889035651505\t 10.959562345251255\t 10.959562104568892\n",
            "8  \t [3.59484374 6.3929121 ]\t 21.12407605353507\t 10.960889035651505\t 10.955903718592277\t 10.955903475487496\n",
            "9  \t [10.         10.78931528]\t 62.57052211578388\t 10.960889035651505\t 10.954795940134995\t 10.954795696290866\n",
            "10 \t [-5. 15.]\t 17.508299515778166\t 10.960889035651505\t 10.95291513222387\t 10.952914887120306\n",
            "11 \t [-0.38542701 10.68226823]\t 35.29735727725985\t 10.960889035651505\t 10.952737357113085\t 10.95273711189117\n",
            "12 \t [0.81212181 3.2168552 ]\t 19.089064304551307\t 10.960889035651505\t 10.939965521302833\t 10.93996526735909\n",
            "\u001b[1m\u001b[92m13\u001b[0m\t \u001b[1m\u001b[92m[10.          3.30729161]\u001b[0m\t \u001b[1m\u001b[92m2.0357604600653403\u001b[0m\t \u001b[1m\u001b[92m2.0357604600653403\u001b[0m\t \u001b[1m\u001b[92m10.873053174714697\u001b[0m\t \u001b[1m\u001b[92m10.87305286998447\u001b[0m\n",
            "14 \t [6.11094395 0.        ]\t 20.66640362121629\t 2.0357604600653403\t 2.173809969281083\t 1.691932412446623\n",
            "15 \t [ 2.94665505 15.        ]\t 158.53606224221758\t 2.0357604600653403\t 2.109513109399907\t 1.6090696420850386\n",
            "16 \t [6.62440968 7.74152714]\t 62.81499202061386\t 2.0357604600653403\t 2.063142678691286\t 1.379101348861749\n",
            "17 \t [3.75855669 2.70015545]\t 2.9028122510554955\t 2.0357604600653403\t 1.9316676193151054\t 1.379198062675295\n",
            "18 \t [1.85140491 8.61857398]\t 33.57946738767484\t 2.0357604600653403\t 1.74969525712815\t 1.1438063771993576\n",
            "19 \t [-2.59824116  8.50552582]\t 8.039827654651454\t 2.0357604600653403\t 1.6593590842030521\t 1.0273524410409638\n",
            "20 \t [-0.18544674  0.        ]\t 59.12231345832846\t 2.0357604600653403\t 1.8542363176780106\t 1.2791026477284968\n"
          ]
        }
      ],
      "source": [
        "### Bayesian optimisation runs (x20): 'GP EI' Acquisition Function run number = 13\n",
        "\n",
        "np.random.seed(run_num_13)\n",
        "surrogate_approx_13 = dGaussianProcess(cov_func, optimize=hyperOpt)\n",
        "\n",
        "approx_13 = GPGO_approx(surrogate_approx_13, Acquisition_grad(util), f_syn_polarity, param, n_jobs = -1) # define BayesOpt\n",
        "approx_13.run(max_iter = max_iter, init_evals = n_init) # run\n"
      ]
    },
    {
      "cell_type": "code",
      "execution_count": 26,
      "metadata": {
        "id": "Dx5l3xHMJLk5",
        "colab": {
          "base_uri": "https://localhost:8080/"
        },
        "outputId": "2c93ae06-8c9d-4072-9ebd-0aa0c67ed692"
      },
      "outputs": [
        {
          "output_type": "stream",
          "name": "stdout",
          "text": [
            "Evaluation \t Proposed point \t  Current eval. \t  Best eval. \t         GP EI: maximum y \t GP EI: exploit\n",
            "init\t [ 2.70915016 11.59747578]\t 81.58264375064097\t 1.4149920024014744\t    \t    \n",
            "init\t [8.05641529 0.12070423]\t 10.148649076616518\t 1.4149920024014744\t    \t    \n",
            "init\t [-0.35396112 14.36405609]\t 79.6056658956529\t 1.4149920024014744\t    \t    \n",
            "init\t [2.69675068 4.77426637]\t 5.855607664288365\t 1.4149920024014744\t    \t    \n",
            "init\t [3.08799906 3.31882414]\t 1.4149920024014744\t 1.4149920024014744\t    \t    \n",
            "1  \t [-5.          5.52357421]\t 148.76765257173\t 1.4149920024014744\t 1.697140747475291\t 1.0759186619938361\n",
            "2  \t [ 9.02510452 14.92575454]\t 164.15736583327134\t 1.4149920024014744\t 1.6971407472101587\t 1.075918661763138\n",
            "3  \t [8.4415984  6.61360555]\t 28.132050221972662\t 1.4149920024014744\t 1.6971407168951451\t 1.075918622686731\n",
            "4  \t [-1.09394501  0.        ]\t 76.74873707612674\t 1.4149920024014744\t 1.6971406025087192\t 1.0759171965886254\n",
            "5  \t [-2.07607151  9.6649294 ]\t 5.390544119887941\t 1.4149920024014744\t 1.6968310308283163\t 1.0755194357276296\n",
            "6  \t [-5.        13.0224447]\t 30.07027471602619\t 1.4149920024014744\t 1.6967862821553568\t 1.0752639604680947\n",
            "7  \t [3.75008755 0.        ]\t 5.537561492056323\t 1.4149920024014744\t 1.6959281068863477\t 1.0743571106881902\n",
            "8  \t [ 7.18054398 10.64001427]\t 104.48824693100309\t 1.4149920024014744\t 1.6936226239424832\t 1.0713841146141134\n",
            "9  \t [-0.76955152  4.4562825 ]\t 24.990487391341638\t 1.4149920024014744\t 1.6864532323590344\t 1.0621463856806148\n",
            "10 \t [6.11916108 3.31141579]\t 24.37131742334873\t 1.4149920024014744\t 1.685907546101144\t 1.0614570195330308\n",
            "11 \t [-5.          0.98378105]\t 275.27972334203093\t 1.4149920024014744\t 1.6865135729839489\t 1.0622233792173228\n",
            "12 \t [10.          3.06951894]\t 1.9475712070317055\t 1.4149920024014744\t 1.6788746121302103\t 1.052383771192508\n",
            "13 \t [ 4.71960617 15.        ]\t 195.9536904520231\t 1.4149920024014744\t 1.678523290901944\t 1.0493992055492432\n",
            "14 \t [1.03799508 7.86805911]\t 26.3078063201501\t 1.4149920024014744\t 1.6765603666348887\t 1.0494037775364309\n",
            "15 \t [4.74052359 7.34522746]\t 46.113062990130864\t 1.4149920024014744\t 1.6591478516647\t 0.9842268511597793\n",
            "16 \t [-5.          9.49421404]\t 71.90824929382477\t 1.4149920024014744\t 1.6258597508584696\t 0.9842267432687983\n",
            "17 \t [1.89404472 2.03098908]\t 8.960578319442963\t 1.4149920024014744\t 1.5254530370438106\t 0.8623931981174435\n",
            "18 \t [-1.93656843  7.34101714]\t 11.51893725442255\t 1.4149920024014744\t 1.2962282749693155\t 0.5683887488782007\n",
            "19 \t [10.          9.10713643]\t 39.20415201059338\t 1.4149920024014744\t 1.3446169893394362\t 0.40753661401542807\n",
            "20 \t [10.          1.40708862]\t 4.489935284111423\t 1.4149920024014744\t 1.2792681131389514\t 0.5562306237823835\n"
          ]
        }
      ],
      "source": [
        "### Bayesian optimisation runs (x20): 'GP EI' Acquisition Function run number = 14\n",
        "\n",
        "np.random.seed(run_num_14)\n",
        "surrogate_approx_14 = dGaussianProcess(cov_func, optimize=hyperOpt)\n",
        "\n",
        "approx_14 = GPGO_approx(surrogate_approx_14, Acquisition_grad(util), f_syn_polarity, param, n_jobs = -1) # define BayesOpt\n",
        "approx_14.run(max_iter = max_iter, init_evals = n_init) # run\n"
      ]
    },
    {
      "cell_type": "code",
      "execution_count": 27,
      "metadata": {
        "id": "mNCLg6LHJLk6",
        "colab": {
          "base_uri": "https://localhost:8080/"
        },
        "outputId": "54c7ab8a-5daa-412a-d88a-f718ea37418b"
      },
      "outputs": [
        {
          "output_type": "stream",
          "name": "stdout",
          "text": [
            "Evaluation \t Proposed point \t  Current eval. \t  Best eval. \t         GP EI: maximum y \t GP EI: exploit\n",
            "init\t [7.73226546 2.68343887]\t 12.768724532005583\t 12.768724532005583\t    \t    \n",
            "init\t [-4.18455179  5.42307669]\t 95.39334176626551\t 12.768724532005583\t    \t    \n",
            "init\t [-0.86898607  7.95000337]\t 16.419487782111716\t 12.768724532005583\t    \t    \n",
            "init\t [-0.41121626  4.56711539]\t 23.250362743740954\t 12.768724532005583\t    \t    \n",
            "init\t [-3.32388086  3.74848521]\t 80.99796277938532\t 12.768724532005583\t    \t    \n",
            "1  \t [ 6.5655417  11.87699252]\t 134.95011349993544\t 12.768724532005583\t 12.768724522031354\t 12.768724520906746\n",
            "2  \t [-4.77493765 13.49591113]\t 19.896906503438096\t 12.768724532005583\t 12.768724521196418\t 12.76872452007181\n",
            "3  \t [ 0.6952482 15.       ]\t 118.25691358098898\t 12.768724532005583\t 12.76872348454927\t 12.768723483429449\n",
            "\u001b[1m\u001b[92m4\u001b[0m\t \u001b[1m\u001b[92m[2.88465109 0.        ]\u001b[0m\t \u001b[1m\u001b[92m6.882901559170483\u001b[0m\t \u001b[1m\u001b[92m6.882901559170483\u001b[0m\t \u001b[1m\u001b[92m12.768721669484274\u001b[0m\t \u001b[1m\u001b[92m12.76872166723098\u001b[0m\n",
            "5  \t [10.         7.3920374]\t 21.207170929206335\t 6.882901559170483\t 6.883033537557906\t 6.8808948363722475\n",
            "6  \t [4.43690997 6.68806116]\t 34.49552590466526\t 6.882901559170483\t 6.883015883904788\t 6.880877117959674\n",
            "7  \t [-1.06526341  0.        ]\t 76.14726866647226\t 6.882901559170483\t 6.878826772935623\t 6.876672534833731\n",
            "8  \t [ 2.15248037 10.62513405]\t 60.26224588412754\t 6.882901559170483\t 6.876875885346993\t 6.874714406504152\n",
            "9  \t [10. 15.]\t 145.87219087939556\t 6.882901559170483\t 6.8816371400744565\t 6.870385503069767\n",
            "10 \t [-5.          9.62124354]\t 69.96987277733237\t 6.882901559170483\t 6.87256306673263\t 6.867536601451982\n",
            "11 \t [-5.  0.]\t 308.12909601160663\t 6.882901559170483\t 6.858500877636278\t 6.867536601451982\n",
            "12 \t [10.  0.]\t 10.960889035651505\t 6.882901559170483\t 6.869724796554283\t 6.867536601451983\n",
            "\u001b[1m\u001b[92m13\u001b[0m\t \u001b[1m\u001b[92m[3.82108123 3.03884873]\u001b[0m\t \u001b[1m\u001b[92m4.05359746029134\u001b[0m\t \u001b[1m\u001b[92m4.05359746029134\u001b[0m\t \u001b[1m\u001b[92m6.839556870805686\u001b[0m\t \u001b[1m\u001b[92m6.837252679858463\u001b[0m\n",
            "14 \t [-1.62750724 11.64017112]\t 16.787557664354182\t 4.05359746029134\t 4.007722772614772\t 3.8987142140053104\n",
            "15 \t [6.03782588 0.        ]\t 20.524457621712273\t 4.05359746029134\t 4.001877266799707\t 3.892222684637297\n",
            "16 \t [ 4.54915351 15.        ]\t 192.4963983365679\t 4.05359746029134\t 3.9690242758798187\t 3.855641546013203\n",
            "\u001b[1m\u001b[92m17\u001b[0m\t \u001b[1m\u001b[92m[10.          4.23438223]\u001b[0m\t \u001b[1m\u001b[92m3.459549720351779\u001b[0m\t \u001b[1m\u001b[92m3.459549720351779\u001b[0m\t \u001b[1m\u001b[92m3.8558449962898482\u001b[0m\t \u001b[1m\u001b[92m3.72893338389377\u001b[0m\n",
            "18 \t [10.         10.71367168]\t 61.39826764448471\t 3.459549720351779\t 3.355898357458836\t 2.9848181508020186\n",
            "19 \t [7.46063439 5.63476939]\t 32.32708680221636\t 3.459549720351779\t 3.213450449346471\t 2.98539750136748\n",
            "20 \t [1.61897963 2.35685149]\t 11.511731570588825\t 3.459549720351779\t 3.0897909093734954\t 2.5897682338657164\n"
          ]
        }
      ],
      "source": [
        "### Bayesian optimisation runs (x20): 'GP EI' Acquisition Function run number = 15\n",
        "\n",
        "np.random.seed(run_num_15)\n",
        "surrogate_approx_15 = dGaussianProcess(cov_func, optimize=hyperOpt)\n",
        "\n",
        "approx_15 = GPGO_approx(surrogate_approx_15, Acquisition_grad(util), f_syn_polarity, param, n_jobs = -1) # define BayesOpt\n",
        "approx_15.run(max_iter = max_iter, init_evals = n_init) # run\n"
      ]
    },
    {
      "cell_type": "code",
      "execution_count": 28,
      "metadata": {
        "id": "5xwjkr9RJLk6",
        "colab": {
          "base_uri": "https://localhost:8080/"
        },
        "outputId": "816865d3-e0aa-4457-980e-60ec3574b157"
      },
      "outputs": [
        {
          "output_type": "stream",
          "name": "stdout",
          "text": [
            "Evaluation \t Proposed point \t  Current eval. \t  Best eval. \t         GP EI: maximum y \t GP EI: exploit\n",
            "init\t [-1.65063381  7.84745012]\t 10.514702126319445\t 2.715864006988424\t    \t    \n",
            "init\t [3.26052185 0.68402925]\t 2.715864006988424\t 2.715864006988424\t    \t    \n",
            "init\t [0.41093253 3.34621413]\t 22.889515127492515\t 2.715864006988424\t    \t    \n",
            "init\t [5.33089243 2.45597138]\t 17.178157611778595\t 2.715864006988424\t    \t    \n",
            "init\t [-3.945127  14.1151629]\t 3.3649224341694195\t 2.715864006988424\t    \t    \n",
            "1  \t [ 5.63879248 14.58068289]\t 198.51319639462758\t 2.715864006988424\t 2.7962650410643577\t 2.4789248717510164\n",
            "2  \t [9.4202829  9.76772141]\t 53.637049482645274\t 2.715864006988424\t 2.796264377546995\t 2.47892405160541\n",
            "3  \t [-4.02259831  0.        ]\t 213.9230769501899\t 2.715864006988424\t 2.796262955464986\t 2.4789205965053522\n",
            "4  \t [3.77183963 8.41852715]\t 45.58796263948214\t 2.715864006988424\t 2.7962619681171716\t 2.4789204287686006\n",
            "5  \t [10.  0.]\t 10.960889035651505\t 2.715864006988424\t 2.7962579646085044\t 2.478884366230859\n",
            "6  \t [ 0.46285109 12.6144398 ]\t 72.2242133016737\t 2.715864006988424\t 2.796195933049009\t 2.478839449752318\n",
            "7  \t [10.          4.74011737]\t 4.960868170328828\t 2.715864006988424\t 2.79612116939933\t 2.478747037064794\n",
            "8  \t [-5.          5.03613352]\t 160.3760583914788\t 2.715864006988424\t 2.7957377421955143\t 2.478273086360312\n",
            "9  \t [-5.         10.31233958]\t 59.98966044934063\t 2.715864006988424\t 2.7947186715414736\t 2.4521164728069005\n",
            "10 \t [6.95452318 6.05824146]\t 41.319579316326504\t 2.715864006988424\t 2.774594220833602\t 2.4521164728065017\n",
            "11 \t [10. 15.]\t 145.87219087939556\t 2.715864006988424\t 2.7900949129077603\t 2.4712962830849263\n",
            "12 \t [0.2963451 0.       ]\t 49.87180312571451\t 2.715864006988424\t 2.7381361524917374\t 2.406915278876459\n",
            "13 \t [3.24239215 4.97264172]\t 8.14691135816767\t 2.715864006988424\t 2.6512682927842204\t 2.2986464873259806\n",
            "14 \t [6.99162059 0.        ]\t 18.701544821788627\t 2.715864006988424\t 2.645990024313264\t 2.292072316643062\n",
            "15 \t [ 6.1278102  10.80685195]\t 113.74488911983916\t 2.715864006988424\t 2.5952199971755454\t 2.1653690097298433\n",
            "16 \t [8.64020698 2.71723981]\t 3.884504089585147\t 2.715864006988424\t 2.5338287536475823\t 2.1656664390661087\n",
            "17 \t [-1.9157297 15.       ]\t 36.74976154149907\t 2.715864006988424\t 2.553874791241909\t 2.177374387548512\n",
            "18 \t [0.82594075 6.62711815]\t 19.944466871507302\t 2.715864006988424\t 2.545284450860657\t 2.165666304878542\n",
            "19 \t [-5. 15.]\t 17.508299515778166\t 2.715864006988424\t 2.3413423298214164\t 1.7901621520587951\n",
            "20 \t [-1.79496756 10.38768547]\t 9.107988801665142\t 2.715864006988424\t 2.2520449663922406\t 1.7901624856344018\n"
          ]
        }
      ],
      "source": [
        "### Bayesian optimisation runs (x20): 'GP EI' Acquisition Function run number = 16\n",
        "\n",
        "np.random.seed(run_num_16)\n",
        "surrogate_approx_16 = dGaussianProcess(cov_func, optimize=hyperOpt)\n",
        "\n",
        "approx_16 = GPGO_approx(surrogate_approx_16, Acquisition_grad(util), f_syn_polarity, param, n_jobs = -1) # define BayesOpt\n",
        "approx_16.run(max_iter = max_iter, init_evals = n_init) # run\n"
      ]
    },
    {
      "cell_type": "code",
      "execution_count": 29,
      "metadata": {
        "id": "zbpfP0FWJLk7",
        "colab": {
          "base_uri": "https://localhost:8080/"
        },
        "outputId": "5d3cf0b6-5dd6-4dad-d716-9257005a1e6f"
      },
      "outputs": [
        {
          "output_type": "stream",
          "name": "stdout",
          "text": [
            "Evaluation \t Proposed point \t  Current eval. \t  Best eval. \t         GP EI: maximum y \t GP EI: exploit\n",
            "init\t [-0.58002496  7.95880133]\t 19.016141117164256\t 19.016141117164256\t    \t    \n",
            "init\t [-2.1271882   1.01850537]\t 85.05949339404415\t 19.016141117164256\t    \t    \n",
            "init\t [6.8047819  9.84500283]\t 93.89792695202516\t 19.016141117164256\t    \t    \n",
            "init\t [4.56281344 8.63404341]\t 60.50217141122736\t 19.016141117164256\t    \t    \n",
            "init\t [-4.41405626  5.36720407]\t 110.70834086593878\t 19.016141117164256\t    \t    \n",
            "\u001b[1m\u001b[92m1\u001b[0m\t \u001b[1m\u001b[92m[10.  0.]\u001b[0m\t \u001b[1m\u001b[92m10.960889035651505\u001b[0m\t \u001b[1m\u001b[92m10.960889035651505\u001b[0m\t \u001b[1m\u001b[92m19.016141107164255\u001b[0m\t \u001b[1m\u001b[92m19.016141107164255\u001b[0m\n",
            "2  \t [-0.36591853 14.49945231]\t 81.3728947682288\t 10.960889035651505\t 10.960889028171572\t 10.960888788363556\n",
            "\u001b[1m\u001b[92m3\u001b[0m\t \u001b[1m\u001b[92m[3.74599703 2.35814314]\u001b[0m\t \u001b[1m\u001b[92m2.3563457989420957\u001b[0m\t \u001b[1m\u001b[92m2.3563457989420957\u001b[0m\t \u001b[1m\u001b[92m10.96088841225565\u001b[0m\t \u001b[1m\u001b[92m10.960888172447234\u001b[0m\n",
            "4  \t [10.         14.81517083]\t 141.47154557588692\t 2.3563457989420957\t 2.473666220784963\t 2.0750816669562373\n",
            "5  \t [-5.         11.26935865]\t 47.74649486673399\t 2.3563457989420957\t 2.473659952929459\t 2.0750739434422494\n",
            "6  \t [10.          5.23982846]\t 6.946736352510642\t 2.3563457989420957\t 2.47365584173864\t 2.0750687937025862\n",
            "7  \t [ 4.74570431 15.        ]\t 196.4667594753223\t 2.3563457989420957\t 2.473529979130538\t 2.074909370976632\n",
            "8  \t [7.1099804  2.78584193]\t 18.97162521647025\t 2.3563457989420957\t 2.466523386984955\t 2.066033930904241\n",
            "9  \t [0.97031935 4.29389279]\t 15.505870161586397\t 2.3563457989420957\t 2.465816523609914\t 2.0521347367725347\n",
            "10 \t [1.95188571 0.        ]\t 17.891307396663834\t 2.3563457989420957\t 2.45526328497742\t 2.0517785876408565\n",
            "11 \t [-5. 15.]\t 17.508299515778166\t 2.3563457989420957\t 2.453031688066415\t 2.0279296976824788\n",
            "12 \t [ 1.5672088  11.08024655]\t 62.70199675063021\t 2.3563457989420957\t 2.4364848238702117\t 2.027929739298907\n",
            "13 \t [4.44735776 4.98297826]\t 19.777065841976494\t 2.3563457989420957\t 2.3830538504369674\t 1.9600608384754195\n",
            "14 \t [5.48153065 0.        ]\t 18.018262801547465\t 2.3563457989420957\t 2.4008086744313784\t 1.9460799600976066\n",
            "15 \t [10.         10.97105218]\t 65.43368771113708\t 2.3563457989420957\t 2.3056118559256924\t 1.861105350458964\n",
            "16 \t [7.50160494 6.21292593]\t 37.15143073297133\t 2.3563457989420957\t 2.2704048973315194\t 1.81612483910777\n",
            "17 \t [-5.  0.]\t 308.12909601160663\t 2.3563457989420957\t 2.122806586868096\t 1.3518633941423808\n",
            "18 \t [-1.81171163 10.94999125]\t 10.406955694969996\t 2.3563457989420957\t 2.1966147962741607\t 1.3518630501299826\n",
            "\u001b[1m\u001b[92m19\u001b[0m\t \u001b[1m\u001b[92m[10.          2.72932793]\u001b[0m\t \u001b[1m\u001b[92m2.0180133129302638\u001b[0m\t \u001b[1m\u001b[92m2.0180133129302638\u001b[0m\t \u001b[1m\u001b[92m2.1163655525800364\u001b[0m\t \u001b[1m\u001b[92m1.423826055117236\u001b[0m\n",
            "20 \t [-3.45282377  8.58369271]\t 20.67757687202272\t 2.0180133129302638\t 1.7001455176693012\t 1.079862293786516\n"
          ]
        }
      ],
      "source": [
        "### Bayesian optimisation runs (x20): 'GP EI' Acquisition Function run number = 17\n",
        "\n",
        "np.random.seed(run_num_17)\n",
        "surrogate_approx_17 = dGaussianProcess(cov_func, optimize=hyperOpt)\n",
        "\n",
        "approx_17 = GPGO_approx(surrogate_approx_17, Acquisition_grad(util), f_syn_polarity, param, n_jobs = -1) # define BayesOpt\n",
        "approx_17.run(max_iter = max_iter, init_evals = n_init) # run\n"
      ]
    },
    {
      "cell_type": "code",
      "execution_count": 30,
      "metadata": {
        "id": "1d-1rDI5JLk8",
        "colab": {
          "base_uri": "https://localhost:8080/"
        },
        "outputId": "76dd6e84-9b32-4061-d5cd-c8bdecc0b652"
      },
      "outputs": [
        {
          "output_type": "stream",
          "name": "stdout",
          "text": [
            "Evaluation \t Proposed point \t  Current eval. \t  Best eval. \t         GP EI: maximum y \t GP EI: exploit\n",
            "init\t [4.75561363 7.58180061]\t 49.215059064668324\t 8.150075223157177\t    \t    \n",
            "init\t [8.17902206 2.72760338]\t 8.150075223157177\t 8.150075223157177\t    \t    \n",
            "init\t [ 7.78349603 11.25204429]\t 106.98107856533271\t 8.150075223157177\t    \t    \n",
            "init\t [ 4.99152501 14.81843172]\t 196.08601750690153\t 8.150075223157177\t    \t    \n",
            "init\t [-1.14547366  0.42458888]\t 71.23649635555944\t 8.150075223157177\t    \t    \n",
            "1  \t [-4.83474958 11.77354131]\t 35.58412906267954\t 8.150075223157177\t 8.150085433802543\t 8.149887733241535\n",
            "2  \t [-1.00357121  6.84655739]\t 15.934937141101628\t 8.150075223157177\t 8.15008415447532\t 8.149886671261145\n",
            "3  \t [10.         7.3720746]\t 21.032332692938766\t 8.150075223157177\t 8.150084445196063\t 8.14988679078149\n",
            "4  \t [-0.65340519 15.        ]\t 80.11200680341189\t 8.150075223157177\t 8.150058222742361\t 8.14986051121654\n",
            "5  \t [10. 15.]\t 145.87219087939556\t 8.150075223157177\t 8.150085433771585\t 8.14988773321353\n",
            "\u001b[1m\u001b[92m6\u001b[0m\t \u001b[1m\u001b[92m[4.16824864 0.        ]\u001b[0m\t \u001b[1m\u001b[92m7.622914178129404\u001b[0m\t \u001b[1m\u001b[92m7.622914178129404\u001b[0m\t \u001b[1m\u001b[92m8.150029646567793\u001b[0m\t \u001b[1m\u001b[92m8.14983192349464\u001b[0m\n",
            "7  \t [-5.          3.98979975]\t 186.89934968519705\t 7.622914178129404\t 7.622864030378468\t 7.622304960476203\n",
            "8  \t [ 1.3367925  10.72648184]\t 56.093241101653824\t 7.622914178129404\t 7.621534876526328\t 7.62097438889913\n",
            "\u001b[1m\u001b[92m9\u001b[0m\t \u001b[1m\u001b[92m[2.23868394 3.74394771]\u001b[0m\t \u001b[1m\u001b[92m4.488060305308067\u001b[0m\t \u001b[1m\u001b[92m4.488060305308067\u001b[0m\t \u001b[1m\u001b[92m7.620947233319348\u001b[0m\t \u001b[1m\u001b[92m7.6203861178462535\u001b[0m\n",
            "10 \t [-5.          8.11440901]\t 95.04219372160001\t 4.488060305308067\t 4.455380195074945\t 4.3879668965169545\n",
            "11 \t [10.  0.]\t 10.960889035651505\t 4.488060305308067\t 4.478096178683565\t 4.412390806397999\n",
            "12 \t [-5.  0.]\t 308.12909601160663\t 4.488060305308067\t 4.445360619369655\t 4.377182991367051\n",
            "13 \t [5.18713463 3.62863432]\t 20.18929585412022\t 4.488060305308067\t 4.425746273799975\t 4.356063721920281\n",
            "14 \t [6.96064224 0.        ]\t 18.876085069762098\t 4.488060305308067\t 4.318743990735524\t 4.240324654592821\n",
            "15 \t [-5.         14.79816366]\t 18.432014832638572\t 4.488060305308067\t 4.496676076838004\t 4.4323396711520004\n",
            "16 \t [-0.61836223  3.88545717]\t 27.734571585892486\t 4.488060305308067\t 4.287144052695008\t 4.20596269723072\n",
            "17 \t [-1.94336142 10.15893996]\t 6.838974325081308\t 4.488060305308067\t 4.240723828192731\t 4.155341645586771\n",
            "\u001b[1m\u001b[92m18\u001b[0m\t \u001b[1m\u001b[92m[10.          4.35067813]\u001b[0m\t \u001b[1m\u001b[92m3.7594939704492543\u001b[0m\t \u001b[1m\u001b[92m3.7594939704492543\u001b[0m\t \u001b[1m\u001b[92m4.188744663407722\u001b[0m\t \u001b[1m\u001b[92m4.098645880119223\u001b[0m\n",
            "19 \t [7.54809693 5.63981041]\t 31.320125851365184\t 3.7594939704492543\t 3.4387884548430128\t 3.2511352995117067\n",
            "20 \t [1.8057093  6.34163834]\t 15.573122380779198\t 3.7594939704492543\t 3.413564003610775\t 3.221712809473128\n"
          ]
        }
      ],
      "source": [
        "### Bayesian optimisation runs (x20): 'GP EI' Acquisition Function run number = 18\n",
        "\n",
        "np.random.seed(run_num_18)\n",
        "surrogate_approx_18 = dGaussianProcess(cov_func, optimize=hyperOpt)\n",
        "\n",
        "approx_18 = GPGO_approx(surrogate_approx_18, Acquisition_grad(util), f_syn_polarity, param, n_jobs = -1) # define BayesOpt\n",
        "approx_18.run(max_iter = max_iter, init_evals = n_init) # run\n"
      ]
    },
    {
      "cell_type": "code",
      "execution_count": 31,
      "metadata": {
        "id": "E7485DWlJLk8",
        "colab": {
          "base_uri": "https://localhost:8080/"
        },
        "outputId": "86c91851-dfd5-4272-9d48-25749f424c7a"
      },
      "outputs": [
        {
          "output_type": "stream",
          "name": "stdout",
          "text": [
            "Evaluation \t Proposed point \t  Current eval. \t  Best eval. \t         GP EI: maximum y \t GP EI: exploit\n",
            "init\t [-3.53699597 11.41874575]\t 4.475608269502271\t 4.475608269502271\t    \t    \n",
            "init\t [-1.2959304   2.07197531]\t 51.13947793770689\t 4.475608269502271\t    \t    \n",
            "init\t [-0.02830155  1.24499348]\t 42.63973921760034\t 4.475608269502271\t    \t    \n",
            "init\t [ 5.07965622 12.09890697]\t 131.17235664506808\t 4.475608269502271\t    \t    \n",
            "init\t [9.74112872 9.53491102]\t 46.84458913925112\t 4.475608269502271\t    \t    \n",
            "\u001b[1m\u001b[92m1\u001b[0m\t \u001b[1m\u001b[92m[9.57054653 2.03489665]\u001b[0m\t \u001b[1m\u001b[92m0.8198597583535783\u001b[0m\t \u001b[1m\u001b[92m0.8198597583535783\u001b[0m\t \u001b[1m\u001b[92m4.484380377136809\u001b[0m\t \u001b[1m\u001b[92m4.4191398862311475\u001b[0m\n",
            "2  \t [4.35925134 5.04996868]\t 19.16147327361864\t 0.8198597583535783\t 1.2739298753963988\t 0.5403457981360908\n",
            "3  \t [-5.          6.34813718]\t 130.21250516921657\t 0.8198597583535783\t 1.273927449390786\t 0.5403423425843261\n",
            "4  \t [ 0.06675761 15.        ]\t 102.49399255751578\t 0.8198597583535783\t 1.2739245457656516\t 0.5403388013750416\n",
            "5  \t [10. 15.]\t 145.87219087939556\t 0.8198597583535783\t 1.2739220163266103\t 0.540335671697322\n",
            "6  \t [0.46495858 8.52057206]\t 29.032771190470974\t 0.8198597583535783\t 1.2739122435499854\t 0.5403236900292047\n",
            "7  \t [5.38611019 0.        ]\t 17.37232159319457\t 0.8198597583535783\t 1.2739119586488707\t 0.5403233189651658\n",
            "8  \t [-5. 15.]\t 17.508299515778166\t 0.8198597583535783\t 1.2730108898085732\t 0.5392168311536422\n",
            "9  \t [-5.  0.]\t 308.12909601160663\t 0.8198597583535783\t 1.2720694787636206\t 0.5380609443965958\n",
            "10 \t [8.73985503 5.22961963]\t 13.267910521135391\t 0.8198597583535783\t 1.2714614555272814\t 0.5373169186236243\n",
            "11 \t [6.09385623 8.10738001]\t 68.55346888328594\t 0.8198597583535783\t 1.2427728510584937\t 0.5022079580530896\n",
            "12 \t [10.  0.]\t 10.960889035651505\t 0.8198597583535783\t 1.2427696638378034\t 0.5038820839535715\n",
            "13 \t [0.87664713 5.04350317]\t 16.258003120583865\t 0.8198597583535783\t 1.2163783880105055\t 0.4361162373471843\n",
            "14 \t [7.43039438 2.43336238]\t 15.216527895972494\t 0.8198597583535783\t 1.1872091119051835\t 0.4361178802380201\n",
            "15 \t [ 1.2883552  11.60049063]\t 67.97829689827603\t 0.8198597583535783\t 1.1401937900155334\t 0.37866648246707907\n",
            "\u001b[1m\u001b[92m16\u001b[0m\t \u001b[1m\u001b[92m[3.17082212 2.14171939]\u001b[0m\t \u001b[1m\u001b[92m0.41422040345264755\u001b[0m\t \u001b[1m\u001b[92m0.41422040345264755\u001b[0m\t \u001b[1m\u001b[92m1.1302249241995124\u001b[0m\t \u001b[1m\u001b[92m0.3668582111679391\u001b[0m\n",
            "17 \t [-2.64909048  9.17096824]\t 5.348464058074212\t 0.41422040345264755\t 0.8617380211696546\t 0.06571122871476891\n",
            "18 \t [ 3.53282394 15.        ]\t 170.39216206369045\t 0.41422040345264755\t 0.7903278596931289\t -0.0\n",
            "19 \t [10.          2.81739854]\t 1.9775724601120963\t 0.41422040345264755\t 0.7885848390183416\t 0.0417169443840504\n",
            "20 \t [-1.63532119  5.92889511]\t 18.496872456063052\t 0.41422040345264755\t 0.7478028841995058\t -3.257943526270716e-247\n"
          ]
        }
      ],
      "source": [
        "### Bayesian optimisation runs (x20): 'GP EI' Acquisition Function run number = 19\n",
        "\n",
        "np.random.seed(run_num_19)\n",
        "surrogate_approx_19 = dGaussianProcess(cov_func, optimize=hyperOpt)\n",
        "\n",
        "approx_19 = GPGO_approx(surrogate_approx_19, Acquisition_grad(util), f_syn_polarity, param, n_jobs = -1) # define BayesOpt\n",
        "approx_19.run(max_iter = max_iter, init_evals = n_init) # run\n"
      ]
    },
    {
      "cell_type": "code",
      "execution_count": 32,
      "metadata": {
        "id": "v9oZm6NvJLk9",
        "colab": {
          "base_uri": "https://localhost:8080/"
        },
        "outputId": "593193e2-20e6-45d4-c101-34b1b7c56ae2"
      },
      "outputs": [
        {
          "output_type": "stream",
          "name": "stdout",
          "text": [
            "Evaluation \t Proposed point \t  Current eval. \t  Best eval. \t         GP EI: maximum y \t GP EI: exploit\n",
            "init\t [ 3.82196202 13.46570592]\t 138.5264349938869\t 14.042667401507376\t    \t    \n",
            "init\t [ 8.37296094 12.23756216]\t 115.63178540512689\t 14.042667401507376\t    \t    \n",
            "init\t [-4.46165622 10.37636373]\t 35.66708529307584\t 14.042667401507376\t    \t    \n",
            "init\t [0.68021413 7.77766418]\t 25.307769914281764\t 14.042667401507376\t    \t    \n",
            "init\t [4.86927198 2.90775327]\t 14.042667401507376\t 14.042667401507376\t    \t    \n",
            "1  \t [-0.46683041  1.12730576]\t 50.42750988022418\t 14.042667401507376\t 14.042666445779654\t 14.042667194626693\n",
            "\u001b[1m\u001b[92m2\u001b[0m\t \u001b[1m\u001b[92m[10.          5.93633926]\u001b[0m\t \u001b[1m\u001b[92m10.547874467067842\u001b[0m\t \u001b[1m\u001b[92m10.547874467067842\u001b[0m\t \u001b[1m\u001b[92m14.042667217222407\u001b[0m\t \u001b[1m\u001b[92m14.042667217206676\u001b[0m\n",
            "\u001b[1m\u001b[92m3\u001b[0m\t \u001b[1m\u001b[92m[10.          0.32520612]\u001b[0m\t \u001b[1m\u001b[92m9.113488331150725\u001b[0m\t \u001b[1m\u001b[92m9.113488331150725\u001b[0m\t \u001b[1m\u001b[92m10.547873232238413\u001b[0m\t \u001b[1m\u001b[92m10.547872612311863\u001b[0m\n",
            "4  \t [-2.95527783 15.        ]\t 10.602030856014657\t 9.113488331150725\t 9.113489366902959\t 9.113464643235233\n",
            "5  \t [-5.          4.58919409]\t 171.43753769458684\t 9.113488331150725\t 9.113486367695746\t 9.113461473877738\n",
            "6  \t [5.58060577 7.79322904]\t 61.574896139118046\t 9.113488331150725\t 9.113260652072295\t 9.113235915525566\n",
            "7  \t [-5.  0.]\t 308.12909601160663\t 9.113488331150725\t 9.11073888434028\t 9.110714005283176\n",
            "8  \t [-0.4365731 11.876792 ]\t 45.299671393872586\t 9.113488331150725\t 9.106257341655322\t 9.10623220742537\n",
            "9  \t [6.56821318 0.        ]\t 20.4681360606627\t 9.113488331150725\t 9.077322451509287\t 9.077295610031012\n",
            "10 \t [1.68926717 4.33259769]\t 9.290852793224124\t 9.113488331150725\t 9.062658620347152\t 9.062630870581174\n",
            "\u001b[1m\u001b[92m11\u001b[0m\t \u001b[1m\u001b[92m[3.02964337 0.        ]\u001b[0m\t \u001b[1m\u001b[92m6.046129757403625\u001b[0m\t \u001b[1m\u001b[92m6.046129757403625\u001b[0m\t \u001b[1m\u001b[92m9.045445900571114\u001b[0m\t \u001b[1m\u001b[92m9.045417048611355\u001b[0m\n",
            "12 \t [8.30720171 3.239596  ]\t 8.18554377233304\t 6.046129757403625\t 5.968430747038604\t 5.9591278364418665\n",
            "13 \t [10.         8.8984763]\t 36.70029311538681\t 6.046129757403625\t 5.922259092845428\t 5.866666914184514\n",
            "14 \t [-1.2222407   4.94495732]\t 23.476576600755564\t 6.046129757403625\t 5.877314375065417\t 5.866666914185527\n",
            "15 \t [ 0.34340856 15.        ]\t 109.88747373597965\t 6.046129757403625\t 5.846560890104695\t 5.835420442872353\n",
            "16 \t [-2.61669526  7.80172926]\t 12.236233928034482\t 6.046129757403625\t 5.770231179572166\t 5.75778336967728\n",
            "17 \t [2.85338406 9.98142536]\t 56.60876471416034\t 6.046129757403625\t 5.757436228759519\t 5.744755966836587\n",
            "18 \t [-5.      13.54456]\t 25.993747252664676\t 6.046129757403625\t 5.723285081507859\t 5.709994134958843\n",
            "19 \t [6.94336991 5.02676849]\t 32.40277202341075\t 6.046129757403625\t 5.3417160507813115\t 5.69490022350456\n",
            "20 \t [3.39474575 5.68572252]\t 13.662975186968843\t 6.046129757403625\t 5.207678932653634\t 5.180915208935545\n"
          ]
        }
      ],
      "source": [
        "### Bayesian optimisation runs (x20): 'GP EI' Acquisition Function run number = 20\n",
        "\n",
        "np.random.seed(run_num_20)\n",
        "surrogate_approx_20 = dGaussianProcess(cov_func, optimize=hyperOpt)\n",
        "\n",
        "approx_20 = GPGO_approx(surrogate_approx_20, Acquisition_grad(util), f_syn_polarity, param, n_jobs = -1) # define BayesOpt\n",
        "approx_20.run(max_iter = max_iter, init_evals = n_init) # run\n"
      ]
    },
    {
      "cell_type": "code",
      "execution_count": 33,
      "metadata": {
        "id": "m3W7oEVSJLk9",
        "colab": {
          "base_uri": "https://localhost:8080/"
        },
        "outputId": "498ca7f8-9015-4890-c395-2c94ec3e1393"
      },
      "outputs": [
        {
          "output_type": "stream",
          "name": "stdout",
          "text": [
            "Evaluation \t Proposed point \t  Current eval. \t  Best eval. \t         GP dEI: maximum y \t GP dEI: exploit\n",
            "init\t [ 1.25533007 10.8048674 ]\t 56.52874004692151\t 27.68166689936483\t    \t    \n",
            "init\t [-4.99828438  4.53498859]\t 172.66531086516164\t 27.68166689936483\t    \t    \n",
            "init\t [-2.79866164  1.38507892]\t 102.58290348816024\t 27.68166689936483\t    \t    \n",
            "init\t [-2.20609683  5.18341091]\t 28.868064601155666\t 27.68166689936483\t    \t    \n",
            "init\t [0.95151211 8.08225101]\t 27.68166689936483\t 27.68166689936483\t    \t    \n",
            "\u001b[1m\u001b[92m1\u001b[0m\t \u001b[1m\u001b[92m[8.41909995 1.27566317]\u001b[0m\t \u001b[1m\u001b[92m5.089934878453152\u001b[0m\t \u001b[1m\u001b[92m5.089934878453152\u001b[0m\t \u001b[1m\u001b[92m27.68166688936483\u001b[0m\t \u001b[1m\u001b[92m27.68166688936483\u001b[0m\n",
            "2  \t [ 8.98893195 10.45227242]\t 70.52424256621515\t 5.089934878453152\t 5.093418823776248\t 5.0621214448913125\n",
            "3  \t [3.1784986 0.       ]\t 5.450714203742865\t 5.089934878453152\t 5.0934172630199805\t 5.062118619598452\n",
            "4  \t [-4.67712792 14.21955317]\t 13.865244792739254\t 5.089934878453152\t 5.0934188219075285\t 5.062121442944941\n",
            "5  \t [ 5.30676004 15.        ]\t 206.03558952485747\t 5.089934878453152\t 5.093416386657059\t 5.062118817406712\n",
            "6  \t [5.6509709  6.05693568]\t 42.00603936853098\t 5.089934878453152\t 5.093382021405725\t 5.06196481716754\n",
            "7  \t [-3.81418147  9.6732151 ]\t 20.778570204409263\t 5.089934878453152\t 5.092945812345689\t 5.061187132465077\n",
            "8  \t [10. 15.]\t 145.87219087939556\t 5.089934878453152\t 5.091051079965663\t 5.0603696251814405\n",
            "9  \t [-0.28894486 15.        ]\t 91.95377472918058\t 5.089934878453152\t 5.091788448454323\t 5.06035244303859\n",
            "10 \t [10.          5.29237281]\t 7.18456719951715\t 5.089934878453152\t 5.091937930562366\t 5.060578196311273\n",
            "\u001b[1m\u001b[92m11\u001b[0m\t \u001b[1m\u001b[92m[2.19337067 3.45287133]\u001b[0m\t \u001b[1m\u001b[92m4.504572815126114\u001b[0m\t \u001b[1m\u001b[92m4.504572815126114\u001b[0m\t \u001b[1m\u001b[92m5.086983171135194\u001b[0m\t \u001b[1m\u001b[92m5.055409774344011\u001b[0m\n",
            "12 \t [5.42675726 2.23126487]\t 17.42234372828822\t 4.504572815126114\t 4.457998876654248\t 4.36749267211144\n",
            "13 \t [5.13257302 9.83709993]\t 87.923363463295\t 4.504572815126114\t 4.471612155991252\t 4.40504158200514\n",
            "14 \t [0.64301419 0.49016326]\t 38.29483628261505\t 4.504572815126114\t 4.319295556398823\t 4.278769515994814\n",
            "15 \t [8.24298487 3.59982364]\t 10.126761992549532\t 4.504572815126114\t 4.070716570364492\t 3.962910688961447\n",
            "16 \t [1.88683678 5.43189266]\t 10.916116630836918\t 4.504572815126114\t 3.9484739140089635\t 3.815413044075522\n",
            "17 \t [-1.50798545 10.24937492]\t 13.022529101464315\t 4.504572815126114\t 3.3379988236996034\t 3.1265904417207087\n",
            "18 \t [8.88202855 7.16672204]\t 27.90509748368775\t 4.504572815126114\t 3.9740564792203714\t 3.849434019092084\n",
            "19 \t [-2.31211909 12.39801829]\t 7.627035872636235\t 4.504572815126114\t 3.7280473344330978\t 3.717108134840359\n",
            "20 \t [-0.10633456  3.82570689]\t 25.04685852577163\t 4.504572815126114\t 3.491770143645005\t 3.307916912074159\n"
          ]
        }
      ],
      "source": [
        "### Bayesian optimisation runs (x20): 'GP dEI' Acquisition Function run number = 1 \n",
        "\n",
        "np.random.seed(run_num_1)\n",
        "surrogate_exact_1 = dGaussianProcess(cov_func, optimize=hyperOpt)\n",
        "\n",
        "exact_1 = GPGO_exact(surrogate_exact_1, Acquisition_grad(util), f_syn_polarity, param, n_jobs = -1) # Define BayesOpt\n",
        "exact_1.run(max_iter = max_iter, init_evals = n_init) # run\n"
      ]
    },
    {
      "cell_type": "code",
      "execution_count": 34,
      "metadata": {
        "id": "FGw67C40JLk-",
        "colab": {
          "base_uri": "https://localhost:8080/"
        },
        "outputId": "c1273b90-b8c8-4393-9f0b-6ad0642abba3"
      },
      "outputs": [
        {
          "output_type": "stream",
          "name": "stdout",
          "text": [
            "Evaluation \t Proposed point \t  Current eval. \t  Best eval. \t         GP dEI: maximum y \t GP dEI: exploit\n",
            "init\t [1.53992353 0.38889348]\t 22.31361308916297\t 6.692051508754487\t    \t    \n",
            "init\t [3.24493717 6.52983589]\t 19.233109967858276\t 6.692051508754487\t    \t    \n",
            "init\t [1.30551703 4.95502232]\t 13.177851563387286\t 6.692051508754487\t    \t    \n",
            "init\t [-1.93027049  9.2890645 ]\t 6.692051508754487\t 6.692051508754487\t    \t    \n",
            "init\t [-0.50517989  4.00240913]\t 26.437522758780958\t 6.692051508754487\t    \t    \n",
            "1  \t [ 9.5587047  12.00387527]\t 89.09951357262268\t 6.692051508754487\t 6.6922650079064745\t 6.689308467376918\n",
            "\u001b[1m\u001b[92m2\u001b[0m\t \u001b[1m\u001b[92m[9.59366035 1.69164323]\u001b[0m\t \u001b[1m\u001b[92m1.3984593420568778\u001b[0m\t \u001b[1m\u001b[92m1.3984593420568778\u001b[0m\t \u001b[1m\u001b[92m6.692265007906303\u001b[0m\t \u001b[1m\u001b[92m6.68930846737674\u001b[0m\n",
            "3  \t [ 3.24245232 12.67669673]\t 110.25694222671481\t 1.3984593420568778\t 1.684590944528292\t 1.0597463773791687\n",
            "4  \t [-5.          0.47652372]\t 291.9758016736889\t 1.3984593420568778\t 1.6845902571525213\t 1.0593296095318294\n",
            "5  \t [9.02917984 6.38725122]\t 18.99628463361546\t 1.3984593420568778\t 1.684579166431471\t 1.0595873357122116\n",
            "6  \t [-3.95507934 14.02731525]\t 3.4866936150466845\t 1.3984593420568778\t 1.684586709027148\t 1.0597409207028512\n",
            "7  \t [6.11121402 0.        ]\t 20.66684023677474\t 1.3984593420568778\t 1.684069162720535\t 1.0555206076373498\n",
            "8  \t [-0.53518615 15.        ]\t 84.05142673602415\t 1.3984593420568778\t 1.6799790561793706\t 1.0515070375416342\n",
            "9  \t [-5.         5.9468696]\t 139.07237800431037\t 1.3984593420568778\t 1.6844099514411082\t 1.0503179302130676\n",
            "10 \t [ 6.76609444 15.        ]\t 210.45133046784113\t 1.3984593420568778\t 1.6712715449600561\t 1.0404241487085624\n",
            "11 \t [6.15066039 9.24517374]\t 85.89353371388567\t 1.3984593420568778\t 1.6760816144853723\t 1.0010972161113825\n",
            "12 \t [6.26654663 3.75224143]\t 26.637788043362853\t 1.3984593420568778\t 1.6710678596221427\t 1.0379853802853045\n",
            "13 \t [10.          3.46971226]\t 2.1610015012252557\t 1.3984593420568778\t 1.5134048817130976\t 0.8328889878752559\n",
            "14 \t [-5.         10.68349678]\t 55.02399145829575\t 1.3984593420568778\t 1.6724876761134664\t 1.0355752385589467\n",
            "15 \t [-1.05743169 11.63035107]\t 29.17810911637783\t 1.3984593420568778\t 1.4765717394870626\t 0.7767587908184551\n",
            "16 \t [1.14276169 9.20729766]\t 37.57959383598781\t 1.3984593420568778\t 1.5806750347829552\t 0.8286250250928745\n",
            "\u001b[1m\u001b[92m17\u001b[0m\t \u001b[1m\u001b[92m[3.29061963 2.88248012]\u001b[0m\t \u001b[1m\u001b[92m1.0239145109053958\u001b[0m\t \u001b[1m\u001b[92m1.0239145109053958\u001b[0m\t \u001b[1m\u001b[92m1.4449323641047718\u001b[0m\t \u001b[1m\u001b[92m0.727776350296477\u001b[0m\n",
            "18 \t [-1.52707094  6.9978374 ]\t 13.42586363502191\t 1.0239145109053958\t 1.1262894888960917\t 0.3483298806383346\n",
            "19 \t [-1.42856749  1.19510368]\t 65.26859455646289\t 1.0239145109053958\t 1.1154823197960781\t 0.3493918365681827\n",
            "20 \t [10.          8.81339013]\t 35.70427836394819\t 1.0239145109053958\t 1.0365983801816456\t -6.4826320293630065e-149\n"
          ]
        }
      ],
      "source": [
        "### Bayesian optimisation runs (x20): 'GP dEI' Acquisition Function run number = 2 \n",
        "\n",
        "np.random.seed(run_num_2)\n",
        "surrogate_exact_2 = dGaussianProcess(cov_func, optimize=hyperOpt)\n",
        "\n",
        "exact_2 = GPGO_exact(surrogate_exact_2, Acquisition_grad(util), f_syn_polarity, param, n_jobs = -1) # Define BayesOpt\n",
        "exact_2.run(max_iter = max_iter, init_evals = n_init) # run\n"
      ]
    },
    {
      "cell_type": "code",
      "execution_count": 35,
      "metadata": {
        "id": "oFLQAtDZJLk_",
        "colab": {
          "base_uri": "https://localhost:8080/"
        },
        "outputId": "dccb15fb-d740-4070-bbbf-40c491300986"
      },
      "outputs": [
        {
          "output_type": "stream",
          "name": "stdout",
          "text": [
            "Evaluation \t Proposed point \t  Current eval. \t  Best eval. \t         GP dEI: maximum y \t GP dEI: exploit\n",
            "init\t [ 3.26196854 10.62221734]\t 71.68783452098575\t 18.07886746449891\t    \t    \n",
            "init\t [-0.63642892  7.66241408]\t 18.07886746449891\t 18.07886746449891\t    \t    \n",
            "init\t [ 8.39420432 13.44439633]\t 141.98653529865882\t 18.07886746449891\t    \t    \n",
            "init\t [-3.11622034  3.10864317]\t 83.31045707266176\t 18.07886746449891\t    \t    \n",
            "init\t [-4.22799195  6.61214765]\t 76.5294170688398\t 18.07886746449891\t    \t    \n",
            "1  \t [6.70472147 4.59545299]\t 30.726791812855225\t 18.07886746449891\t 18.07886745449891\t 18.07886745449891\n",
            "\u001b[1m\u001b[92m2\u001b[0m\t \u001b[1m\u001b[92m[-3.89564496 13.38589781]\u001b[0m\t \u001b[1m\u001b[92m3.6010193697779265\u001b[0m\t \u001b[1m\u001b[92m3.6010193697779265\u001b[0m\t \u001b[1m\u001b[92m18.078867447127802\u001b[0m\t \u001b[1m\u001b[92m18.078867447127802\u001b[0m\n",
            "3  \t [ 0.53511805 15.        ]\t 114.58765716763713\t 3.6010193697779265\t 3.62945032452176\t 3.4716740212804793\n",
            "4  \t [3.11133413 0.        ]\t 5.686376470456184\t 3.6010193697779265\t 3.629533318036846\t 3.4717742141408356\n",
            "5  \t [9.70346787 8.50929412]\t 34.28297118578492\t 3.6010193697779265\t 3.6293065722933138\t 3.466482100745686\n",
            "6  \t [9.9367654  0.73581581]\t 6.490812722618764\t 3.6010193697779265\t 3.6294874211857984\t 3.471725064821219\n",
            "7  \t [-0.6195202  11.33294215]\t 36.28496106529289\t 3.6010193697779265\t 3.629533898563171\t 3.4717783897281977\n",
            "8  \t [1.56074043 4.20064923]\t 10.233428734977783\t 3.6010193697779265\t 3.627052115245637\t 3.4254542626492395\n",
            "9  \t [-2.53287617  0.2265116 ]\t 115.19315667597515\t 3.6010193697779265\t 3.6295339206173396\t 3.4717784150311\n",
            "10 \t [6.54561084 0.        ]\t 20.52161785545228\t 3.6010193697779265\t 3.6140315853373823\t 3.411995467917341\n",
            "11 \t [6.0458577  8.12119653]\t 68.63406939804878\t 3.6010193697779265\t 3.555324378123724\t 3.385027634466965\n",
            "12 \t [ 4.68107407 14.96625596]\t 194.26970941980653\t 3.6010193697779265\t 3.5965266202756845\t 3.413143931602474\n",
            "13 \t [-5.         10.50373468]\t 57.39460205302869\t 3.6010193697779265\t 3.599841291223589\t 3.381414138932089\n",
            "14 \t [2.43309701 7.10720069]\t 20.47348795811149\t 3.6010193697779265\t 3.4341843712697733\t 3.2089405056298546\n",
            "15 \t [10.          4.55181794]\t 4.342112083281274\t 3.6010193697779265\t 3.5564279393024343\t 3.3857771906898173\n",
            "16 \t [0.9476583  1.34257093]\t 26.265185563975166\t 3.6010193697779265\t 3.3845759498569494\t 3.146815284567177\n",
            "17 \t [3.89175399 3.17224744]\t 4.9621850236122365\t 3.6010193697779265\t 3.2964840048811177\t 3.0835223674030607\n",
            "18 \t [8.48415476 2.47485514]\t 4.802652555865299\t 3.6010193697779265\t 2.9369542433718197\t 2.560093738445401\n",
            "19 \t [4.7187222  1.72006089]\t 10.185897482463801\t 3.6010193697779265\t 2.4932379178095934\t 2.1078255381029494\n",
            "20 \t [-0.75272331  5.17702483]\t 21.393441640847428\t 3.6010193697779265\t 2.7289000963578847\t 2.3701464193644752\n"
          ]
        }
      ],
      "source": [
        "### Bayesian optimisation runs (x20): 'GP dEI' Acquisition Function run number = 3 \n",
        "\n",
        "np.random.seed(run_num_3)\n",
        "surrogate_exact_3 = dGaussianProcess(cov_func, optimize=hyperOpt)\n",
        "\n",
        "exact_3 = GPGO_exact(surrogate_exact_3, Acquisition_grad(util), f_syn_polarity, param, n_jobs = -1) # Define BayesOpt\n",
        "exact_3.run(max_iter = max_iter, init_evals = n_init) # run\n"
      ]
    },
    {
      "cell_type": "code",
      "execution_count": 36,
      "metadata": {
        "id": "zhFOxkF0JLk_",
        "colab": {
          "base_uri": "https://localhost:8080/"
        },
        "outputId": "1f2d032d-3a9b-4444-a909-c69ec53c12d9"
      },
      "outputs": [
        {
          "output_type": "stream",
          "name": "stdout",
          "text": [
            "Evaluation \t Proposed point \t  Current eval. \t  Best eval. \t         GP dEI: maximum y \t GP dEI: exploit\n",
            "init\t [9.50544759 8.20848374]\t 32.51676744781521\t 7.247126865776948\t    \t    \n",
            "init\t [ 9.5902654  10.72223991]\t 66.20566674364716\t 7.247126865776948\t    \t    \n",
            "init\t [5.46593237 3.24134243]\t 20.90089401680587\t 7.247126865776948\t    \t    \n",
            "init\t [9.64411682 0.09345383]\t 7.247126865776948\t 7.247126865776948\t    \t    \n",
            "init\t [-1.20526456  6.52187299]\t 15.941376982363263\t 7.247126865776948\t    \t    \n",
            "1  \t [-5.  0.]\t 308.12909601160663\t 7.247126865776948\t 7.24719790983207\t 7.246073949955741\n",
            "2  \t [ 1.1294018  14.15696259]\t 109.93986979623045\t 7.247126865776948\t 7.247197909835409\t 7.2460739499556315\n",
            "3  \t [1.01107069 0.        ]\t 35.554826707809156\t 7.247126865776948\t 7.24719303389414\t 7.24606430585531\n",
            "4  \t [3.23218268 8.99706827]\t 46.56384602934775\t 7.247126865776948\t 7.247168110546214\t 7.246049348323823\n",
            "5  \t [-4.71931664 12.72607102]\t 23.47782987479111\t 7.247126865776948\t 7.247197172880776\t 7.2460726329066185\n",
            "6  \t [ 6.54237273 15.        ]\t 212.0210607174384\t 7.247126865776948\t 7.247147720643839\t 7.243833312600174\n",
            "7  \t [-5.          4.97123958]\t 161.95735144062687\t 7.247126865776948\t 7.2447472713287375\t 7.243622474297574\n",
            "\u001b[1m\u001b[92m8\u001b[0m\t \u001b[1m\u001b[92m[9.02535081 4.41775622]\u001b[0m\t \u001b[1m\u001b[92m6.257130409697806\u001b[0m\t \u001b[1m\u001b[92m6.257130409697806\u001b[0m\t \u001b[1m\u001b[92m7.22714768884938\u001b[0m\t \u001b[1m\u001b[92m7.225974716350144\u001b[0m\n",
            "9  \t [-1.66747037 10.74580077]\t 12.075583092561683\t 6.257130409697806\t 6.2376813451978075\t 6.230254213122999\n",
            "10 \t [-1.14870967  2.88992831]\t 40.03311016175269\t 6.257130409697806\t 6.213274618232779\t 6.196000494628963\n",
            "11 \t [2.30621771 4.92833989]\t 7.212593938941006\t 6.257130409697806\t 6.225541545975544\t 6.218510341990161\n",
            "12 \t [-4.78210044  9.01143995]\t 67.72817440816127\t 6.257130409697806\t 6.212193544860332\t 6.206716606939619\n",
            "13 \t [4.98289101 0.        ]\t 14.1966391438109\t 6.257130409697806\t 6.202299933306357\t 6.195723908346165\n",
            "14 \t [6.14503446 6.75154276]\t 51.47240275629184\t 6.257130409697806\t 6.190590098278462\t 6.183691413748184\n",
            "15 \t [10. 15.]\t 145.87219087939556\t 6.257130409697806\t 5.985984583841141\t 5.805980981331199\n",
            "16 \t [-2.31940994 14.86579944]\t 23.52937322780063\t 6.257130409697806\t 6.078379981451645\t 6.068964453997371\n",
            "17 \t [ 5.97759725 11.05583517]\t 118.2293824651525\t 6.257130409697806\t 6.107062664164485\t 6.0994090982606535\n",
            "\u001b[1m\u001b[92m18\u001b[0m\t \u001b[1m\u001b[92m[2.81891202 2.33673074]\u001b[0m\t \u001b[1m\u001b[92m0.9348218204625756\u001b[0m\t \u001b[1m\u001b[92m0.9348218204625756\u001b[0m\t \u001b[1m\u001b[92m5.664047515011343\u001b[0m\t \u001b[1m\u001b[92m5.532924829853821\u001b[0m\n",
            "19 \t [8.122305   1.74929378]\t 7.477989934904331\t 0.9348218204625756\t 1.0575158903887298\t 0.26827491628693295\n",
            "20 \t [ 0.81186795 10.58999841]\t 50.212582057427106\t 0.9348218204625756\t 0.9133930620309507\t -8.458879658860052e-145\n"
          ]
        }
      ],
      "source": [
        "### Bayesian optimisation runs (x20): 'GP dEI' Acquisition Function run number = 4 \n",
        "\n",
        "np.random.seed(run_num_4)\n",
        "surrogate_exact_4 = dGaussianProcess(cov_func, optimize=hyperOpt)\n",
        "\n",
        "exact_4 = GPGO_exact(surrogate_exact_4, Acquisition_grad(util), f_syn_polarity, param, n_jobs = -1) # Define BayesOpt\n",
        "exact_4.run(max_iter = max_iter, init_evals = n_init) # run\n"
      ]
    },
    {
      "cell_type": "code",
      "execution_count": 37,
      "metadata": {
        "id": "YdzaqIajJLlA",
        "colab": {
          "base_uri": "https://localhost:8080/"
        },
        "outputId": "d42862fe-a03b-4469-b3e8-e2e9518af929"
      },
      "outputs": [
        {
          "output_type": "stream",
          "name": "stdout",
          "text": [
            "Evaluation \t Proposed point \t  Current eval. \t  Best eval. \t         GP dEI: maximum y \t GP dEI: exploit\n",
            "init\t [-1.67010243 13.06098459]\t 25.390690545664548\t 25.311309190989615\t    \t    \n",
            "init\t [-1.89921267 13.77916362]\t 25.311309190989615\t 25.311309190989615\t    \t    \n",
            "init\t [2.32616783 9.17615794]\t 41.60147975414021\t 25.311309190989615\t    \t    \n",
            "init\t [6.48861785 7.77626982]\t 63.81281921768236\t 25.311309190989615\t    \t    \n",
            "init\t [-0.54799248  2.81581843]\t 34.966203644931994\t 25.311309190989615\t    \t    \n",
            "\u001b[1m\u001b[92m1\u001b[0m\t \u001b[1m\u001b[92m[8.84124421 0.03321319]\u001b[0m\t \u001b[1m\u001b[92m5.96108856337545\u001b[0m\t \u001b[1m\u001b[92m5.96108856337545\u001b[0m\t \u001b[1m\u001b[92m25.311309180989422\u001b[0m\t \u001b[1m\u001b[92m25.311309180989422\u001b[0m\n",
            "2  \t [ 8.39476442 14.47736321]\t 167.21523769473345\t 5.96108856337545\t 5.961907098265746\t 5.952512434926683\n",
            "3  \t [-5.          8.10986515]\t 95.12466680670255\t 5.96108856337545\t 5.96190691908924\t 5.952511370256219\n",
            "4  \t [-5.  0.]\t 308.12909601160663\t 5.96108856337545\t 5.961890642966492\t 5.952495747981907\n",
            "5  \t [4.68041959 2.64376529]\t 11.288061329654056\t 5.96108856337545\t 5.961858176609415\t 5.9523602010856\n",
            "6  \t [ 3.07485242 14.94793353]\t 159.6914920096218\t 5.96108856337545\t 5.961813011235977\t 5.952359066488088\n",
            "\u001b[1m\u001b[92m7\u001b[0m\t \u001b[1m\u001b[92m[10.          4.34286402]\u001b[0m\t \u001b[1m\u001b[92m3.738492541321359\u001b[0m\t \u001b[1m\u001b[92m3.738492541321359\u001b[0m\t \u001b[1m\u001b[92m5.961580684366263\u001b[0m\t \u001b[1m\u001b[92m5.952105377739148\u001b[0m\n",
            "8  \t [10.         10.27581248]\t 54.83757329070061\t 3.738492541321359\t 3.7562928147610672\t 3.552960209375278\n",
            "9  \t [-1.03519792  6.99126788]\t 15.53210397903008\t 3.738492541321359\t 3.7439343411838637\t 3.5999755870855816\n",
            "10 \t [-4.87522279  4.21394897]\t 170.71102908806404\t 3.738492541321359\t 3.7180356663878285\t 3.539115619762748\n",
            "11 \t [2.06982231 0.        ]\t 16.027247417193454\t 3.738492541321359\t 3.746484639019117\t 3.5693924402146804\n",
            "12 \t [-5.         12.15297558]\t 38.06878161278433\t 3.738492541321359\t 3.706932968479487\t 3.50885752167207\n",
            "13 \t [2.33452895 5.41477519]\t 9.24558006183136\t 3.738492541321359\t 3.7210438758412545\t 3.527205194495337\n",
            "14 \t [6.54425406 4.56515632]\t 31.16573156949684\t 3.738492541321359\t 3.429854241017659\t 3.1639773193271084\n",
            "15 \t [ 6.6657743  11.06795891]\t 117.64930528535555\t 3.738492541321359\t 3.4993891210979227\t 3.283842434003133\n",
            "16 \t [-0.74857815  9.80931008]\t 23.51472972870166\t 3.738492541321359\t 3.449657163767583\t 3.221865763387529\n",
            "17 \t [10.          6.77140164]\t 16.144318607650213\t 3.738492541321359\t 3.5697214976173677\t 3.402780131712741\n",
            "18 \t [-1.19292359  0.        ]\t 78.86839901179698\t 3.738492541321359\t 3.3605255014524826\t 3.16370282137283\n",
            "\u001b[1m\u001b[92m19\u001b[0m\t \u001b[1m\u001b[92m[9.35759935 2.37003592]\u001b[0m\t \u001b[1m\u001b[92m0.421935515032267\u001b[0m\t \u001b[1m\u001b[92m0.421935515032267\u001b[0m\t \u001b[1m\u001b[92m3.3891902996317853\u001b[0m\t \u001b[1m\u001b[92m3.194397329850355\u001b[0m\n",
            "20 \t [10.          2.09532251]\t 2.7669403081998123\t 0.421935515032267\t 0.7815862085010598\t -0.0\n"
          ]
        }
      ],
      "source": [
        "### Bayesian optimisation runs (x20): 'GP dEI' Acquisition Function run number = 5 \n",
        "\n",
        "np.random.seed(run_num_5)\n",
        "surrogate_exact_5 = dGaussianProcess(cov_func, optimize=hyperOpt)\n",
        "\n",
        "exact_5 = GPGO_exact(surrogate_exact_5, Acquisition_grad(util), f_syn_polarity, param, n_jobs = -1) # Define BayesOpt\n",
        "exact_5.run(max_iter = max_iter, init_evals = n_init) # run\n"
      ]
    },
    {
      "cell_type": "code",
      "execution_count": 38,
      "metadata": {
        "id": "_KSBbC1zJLlA",
        "colab": {
          "base_uri": "https://localhost:8080/"
        },
        "outputId": "6caf900d-a93a-4231-9531-ace339a99ad6"
      },
      "outputs": [
        {
          "output_type": "stream",
          "name": "stdout",
          "text": [
            "Evaluation \t Proposed point \t  Current eval. \t  Best eval. \t         GP dEI: maximum y \t GP dEI: exploit\n",
            "init\t [8.39290227 4.97969708]\t 15.553860636684597\t 15.31731051317483\t    \t    \n",
            "init\t [7.31843685 0.62544939]\t 15.31731051317483\t 15.31731051317483\t    \t    \n",
            "init\t [-3.3851498   8.92578096]\t 16.222288919361837\t 15.31731051317483\t    \t    \n",
            "init\t [2.94726043 6.28211143]\t 15.406373581304088\t 15.31731051317483\t    \t    \n",
            "init\t [0.03111774 9.33779148]\t 31.07053245856209\t 15.31731051317483\t    \t    \n",
            "1  \t [10. 15.]\t 145.87219087939556\t 15.31731051317483\t 15.31731050317483\t 15.317310503174685\n",
            "2  \t [-2.67838097  0.        ]\t 126.61486786700603\t 15.31731051317483\t 15.317310503174827\t 15.317310503174681\n",
            "3  \t [ 4.34724927 14.59608757]\t 177.48889452505895\t 15.31731051317483\t 15.31731050317483\t 15.317310503174685\n",
            "4  \t [-1.30746846 14.41632538]\t 49.88755953556025\t 15.31731051317483\t 15.317284392562508\t 15.317284392562383\n",
            "5  \t [8.13676748 9.89528697]\t 76.08522805324013\t 15.31731051317483\t 15.317238566090067\t 15.317238566089923\n",
            "6  \t [-5.          4.50612463]\t 173.5374838335397\t 15.31731051317483\t 15.317017921989262\t 15.317017921989192\n",
            "\u001b[1m\u001b[92m7\u001b[0m\t \u001b[1m\u001b[92m[2.56065162 0.        ]\u001b[0m\t \u001b[1m\u001b[92m9.65519629652384\u001b[0m\t \u001b[1m\u001b[92m9.65519629652384\u001b[0m\t \u001b[1m\u001b[92m15.317164577482284\u001b[0m\t \u001b[1m\u001b[92m15.317164577482139\u001b[0m\n",
            "8  \t [-0.66310856  5.01981229]\t 21.945235150727513\t 9.65519629652384\t 9.642587131498892\t 9.64257997809772\n",
            "9  \t [5.57672442 8.22374038]\t 67.45521325732554\t 9.65519629652384\t 9.655195593317918\t 9.655189610339749\n",
            "\u001b[1m\u001b[92m10\u001b[0m\t \u001b[1m\u001b[92m[2.89081943 3.07178535]\u001b[0m\t \u001b[1m\u001b[92m1.0499933199010147\u001b[0m\t \u001b[1m\u001b[92m1.0499933199010147\u001b[0m\t \u001b[1m\u001b[92m9.567384965465294\u001b[0m\t \u001b[1m\u001b[92m9.567376400514087\u001b[0m\n",
            "11 \t [-4.83671344 12.1991182 ]\t 31.628938411402274\t 1.0499933199010147\t 1.4181448554091074\t 0.693796040984106\n",
            "12 \t [5.24064045 3.49860895]\t 20.09013318586471\t 1.0499933199010147\t 1.3799565942849135\t 0.6714179093321004\n",
            "13 \t [-2.35948288  2.63627018]\t 64.62465195408333\t 1.0499933199010147\t 1.4303806200772948\t 0.735212912103991\n",
            "14 \t [10.          2.42434163]\t 2.2779359530325296\t 1.0499933199010147\t 1.3454184185969436\t 0.5198276975948043\n",
            "15 \t [ 2.89344444 11.04157831]\t 74.0529961126017\t 1.0499933199010147\t 1.3384265961418602\t 0.06295783939250757\n",
            "16 \t [1.56965686 2.57203855]\t 11.56860179736689\t 1.0499933199010147\t 1.2494265050758622\t 0.5296366882549745\n",
            "17 \t [4.79185083 0.01439838]\t 12.519009865422309\t 1.0499933199010147\t 0.9974304633803596\t 0.20974589502171342\n",
            "18 \t [-2.00739214 11.48281845]\t 9.063345388716673\t 1.0499933199010147\t 0.928718001024263\t 0.13671162427932254\n",
            "19 \t [-4.0083223  14.75508283]\t 3.8743809675987535\t 1.0499933199010147\t 0.801331329350989\t 0.0007853109059203249\n",
            "20 \t [10.          3.27429568]\t 2.0167655552872485\t 1.0499933199010147\t 0.6492799539873138\t -2.530376851046471e-75\n"
          ]
        }
      ],
      "source": [
        "### Bayesian optimisation runs (x20): 'GP dEI' Acquisition Function run number = 6 \n",
        "\n",
        "np.random.seed(run_num_6)\n",
        "surrogate_exact_6 = dGaussianProcess(cov_func, optimize=hyperOpt)\n",
        "\n",
        "exact_6 = GPGO_exact(surrogate_exact_6, Acquisition_grad(util), f_syn_polarity, param, n_jobs = -1) # Define BayesOpt\n",
        "exact_6.run(max_iter = max_iter, init_evals = n_init) # run\n"
      ]
    },
    {
      "cell_type": "code",
      "execution_count": 39,
      "metadata": {
        "id": "WB64BgXFJLlB",
        "colab": {
          "base_uri": "https://localhost:8080/"
        },
        "outputId": "d84f86a3-071f-44c1-dec2-ad47658141c4"
      },
      "outputs": [
        {
          "output_type": "stream",
          "name": "stdout",
          "text": [
            "Evaluation \t Proposed point \t  Current eval. \t  Best eval. \t         GP dEI: maximum y \t GP dEI: exploit\n",
            "init\t [-3.85537566 11.69878188]\t 8.299317850233932\t 5.211335324193094\t    \t    \n",
            "init\t [ 1.57613847 10.85197767]\t 59.50408380701259\t 5.211335324193094\t    \t    \n",
            "init\t [9.66984268 8.07743806]\t 29.714921414987273\t 5.211335324193094\t    \t    \n",
            "init\t [2.51680695 1.080767  ]\t 5.211335324193094\t 5.211335324193094\t    \t    \n",
            "init\t [-0.9734153   7.49823751]\t 15.431057204948033\t 5.211335324193094\t    \t    \n",
            "1  \t [-4.97859679  1.38393519]\t 260.3293952774437\t 5.211335324193094\t 5.214210673253922\t 5.187442543130133\n",
            "2  \t [ 7.80155495 14.72615764]\t 186.86153570538508\t 5.211335324193094\t 5.21421067254134\t 5.187442542956664\n",
            "3  \t [8.08940775 0.35854539]\t 9.249625108410735\t 5.211335324193094\t 5.214210312347393\t 5.1874421695792226\n",
            "4  \t [-3.39684884  5.54228873]\t 54.79871094423047\t 5.211335324193094\t 5.214210673253922\t 5.187442543130133\n",
            "5  \t [4.93717413 5.49891249]\t 29.845086555570777\t 5.211335324193094\t 5.214195239068471\t 5.187426372992476\n",
            "6  \t [-0.76126859 15.        ]\t 76.4502145210903\t 5.211335324193094\t 5.213708632446971\t 5.184462016008923\n",
            "\u001b[1m\u001b[92m7\u001b[0m\t \u001b[1m\u001b[92m[10.          3.83258422]\u001b[0m\t \u001b[1m\u001b[92m2.6314226354824584\u001b[0m\t \u001b[1m\u001b[92m2.6314226354824584\u001b[0m\t \u001b[1m\u001b[92m5.210711438793798\u001b[0m\t \u001b[1m\u001b[92m5.183059010609172\u001b[0m\n",
            "8  \t [5.98744485 9.67721516]\t 92.72153836394546\t 2.6314226354824584\t 2.713115868894073\t 2.375893909660465\n",
            "9  \t [-0.74275876  0.        ]\t 69.68488488234455\t 2.6314226354824584\t 2.707248543974965\t 2.294266490542814\n",
            "10 \t [-4.7803007  14.79125203]\t 13.780473177305767\t 2.6314226354824584\t 2.6884579153924513\t 2.344383017741086\n",
            "11 \t [1.29699254 4.02585581]\t 12.612555104465851\t 2.6314226354824584\t 2.69646517590816\t 2.3530901440446996\n",
            "12 \t [ 3.4997838  14.59788967]\t 159.40599219063606\t 2.6314226354824584\t 2.703987143585994\t 2.361550835862041\n",
            "13 \t [5.42061979 1.82772627]\t 16.680457566017523\t 2.6314226354824584\t 2.6393524275216245\t 2.2830106661202625\n",
            "14 \t [2.28546468 7.23691143]\t 21.343444616260573\t 2.6314226354824584\t 2.546637475952946\t 2.1419519497085635\n",
            "15 \t [-5.          8.84822644]\t 82.26490279299715\t 2.6314226354824584\t 2.656389837906916\t 2.2453720537074795\n",
            "16 \t [7.95415311 5.6569449 ]\t 26.204662661616666\t 2.6314226354824584\t 2.719476296758278\t 2.383667872284171\n",
            "17 \t [-1.30664257  3.23533845]\t 38.159303333794156\t 2.6314226354824584\t 2.229519489264111\t 1.7043076474268846\n",
            "18 \t [10.         11.71040965]\t 77.76287912447607\t 2.6314226354824584\t 2.62103862955006\t 1.166586053537556\n",
            "19 \t [-1.59861314 11.39835452]\t 16.10322468449581\t 2.6314226354824584\t 2.268762261058781\t 1.8083786221987768\n",
            "20 \t [10.          1.97251209]\t 3.004956564829926\t 2.6314226354824584\t 2.354734464152813\t 1.9114478897031482\n"
          ]
        }
      ],
      "source": [
        "### Bayesian optimisation runs (x20): 'GP dEI' Acquisition Function run number = 7 \n",
        "\n",
        "np.random.seed(run_num_7)\n",
        "surrogate_exact_7 = dGaussianProcess(cov_func, optimize=hyperOpt)\n",
        "\n",
        "exact_7 = GPGO_exact(surrogate_exact_7, Acquisition_grad(util), f_syn_polarity, param, n_jobs = -1) # Define BayesOpt\n",
        "exact_7.run(max_iter = max_iter, init_evals = n_init) # run\n"
      ]
    },
    {
      "cell_type": "code",
      "execution_count": 40,
      "metadata": {
        "id": "yCh1YYTlJLlB",
        "colab": {
          "base_uri": "https://localhost:8080/"
        },
        "outputId": "4a45cd11-8075-47a4-8a47-185c5677f163"
      },
      "outputs": [
        {
          "output_type": "stream",
          "name": "stdout",
          "text": [
            "Evaluation \t Proposed point \t  Current eval. \t  Best eval. \t         GP dEI: maximum y \t GP dEI: exploit\n",
            "init\t [ 8.10144104 14.52810994]\t 175.17297136347514\t 15.416245468470875\t    \t    \n",
            "init\t [8.0379181  7.96283537]\t 49.32173799887473\t 15.416245468470875\t    \t    \n",
            "init\t [-1.50907508  0.17098206]\t 83.26753461673219\t 15.416245468470875\t    \t    \n",
            "init\t [1.45703227 6.0352704 ]\t 15.416245468470875\t 15.416245468470875\t    \t    \n",
            "init\t [2.84012007 7.17587694]\t 22.49093277852639\t 15.416245468470875\t    \t    \n",
            "\u001b[1m\u001b[92m1\u001b[0m\t \u001b[1m\u001b[92m[9.77124156 0.43098073]\u001b[0m\t \u001b[1m\u001b[92m6.499298445992174\u001b[0m\t \u001b[1m\u001b[92m6.499298445992174\u001b[0m\t \u001b[1m\u001b[92m15.416245458468238\u001b[0m\t \u001b[1m\u001b[92m15.416245458468138\u001b[0m\n",
            "2  \t [-4.87537438 11.82874897]\t 36.57081146531108\t 6.499298445992174\t 6.499606274426392\t 6.495543549232031\n",
            "3  \t [-0.06146391 15.        ]\t 98.82405002647226\t 6.499298445992174\t 6.499605162879605\t 6.495543539348084\n",
            "4  \t [4.4595038 0.8533709]\t 7.979766606771776\t 6.499298445992174\t 6.499603335514521\t 6.495459983117531\n",
            "5  \t [-5.         6.0933586]\t 135.8006206439636\t 6.499298445992174\t 6.499604961661449\t 6.49554118123972\n",
            "6  \t [-0.59967171 10.08537949]\t 27.440988775280903\t 6.499298445992174\t 6.498299639618586\t 6.4926190942305375\n",
            "7  \t [ 3.81402265 11.86667675]\t 103.64479606779845\t 6.499298445992174\t 6.498871613506784\t 6.494774074213283\n",
            "8  \t [7.40395628 3.60928367]\t 19.51908227657733\t 6.499298445992174\t 6.495627153696467\t 6.490372893494814\n",
            "9  \t [1.15423972 2.8903799 ]\t 15.972303814139973\t 6.499298445992174\t 6.422331772901898\t 6.454399501107527\n",
            "10 \t [-5.          1.23092166]\t 267.3316770126038\t 6.499298445992174\t 6.4455385108865\t 6.441104122663085\n",
            "11 \t [ 9.90288513 11.22122281]\t 70.58720754528233\t 6.499298445992174\t 6.405254305489654\t 6.25983674547108\n",
            "12 \t [-1.45457497  5.37896212]\t 21.413662906957107\t 6.499298445992174\t 6.312266215619943\t 6.306781538791021\n",
            "13 \t [4.34653766 3.81561406]\t 11.821552398433539\t 6.499298445992174\t 6.308999858371636\t 6.303372102075831\n",
            "\u001b[1m\u001b[92m14\u001b[0m\t \u001b[1m\u001b[92m[-3.66780073 14.9794794 ]\u001b[0m\t \u001b[1m\u001b[92m3.6683923541112007\u001b[0m\t \u001b[1m\u001b[92m3.6683923541112007\u001b[0m\t \u001b[1m\u001b[92m6.36399991150578\u001b[0m\t \u001b[1m\u001b[92m6.360706714059216\u001b[0m\n",
            "15 \t [6.91978505 0.04950909]\t 18.982638453333138\t 3.6683923541112007\t 3.496272108727359\t 3.3307826618640237\n",
            "16 \t [1.72816761 0.30640526]\t 19.577029373709163\t 3.6683923541112007\t 3.1831511668875194\t 2.8624254410430634\n",
            "17 \t [10.          5.72155397]\t 9.33391232056654\t 3.6683923541112007\t 3.3800238961143094\t 3.3574311611206826\n",
            "18 \t [ 4.67524484 15.        ]\t 195.0709927952468\t 3.6683923541112007\t 3.2299169174402262\t 2.870040964320878\n",
            "19 \t [5.38118116 6.48194153]\t 44.102513813882524\t 3.6683923541112007\t 3.037273666404757\t 2.7696448122280706\n",
            "20 \t [-3.50403068  9.20597036]\t 16.67973291324366\t 3.6683923541112007\t 3.177226151791159\t 2.940816585155355\n"
          ]
        }
      ],
      "source": [
        "### Bayesian optimisation runs (x20): 'GP dEI' Acquisition Function run number = 8 \n",
        "\n",
        "np.random.seed(run_num_8)\n",
        "surrogate_exact_8 = dGaussianProcess(cov_func, optimize=hyperOpt)\n",
        "\n",
        "exact_8 = GPGO_exact(surrogate_exact_8, Acquisition_grad(util), f_syn_polarity, param, n_jobs = -1) # Define BayesOpt\n",
        "exact_8.run(max_iter = max_iter, init_evals = n_init) # run\n"
      ]
    },
    {
      "cell_type": "code",
      "execution_count": 41,
      "metadata": {
        "id": "IDhy8DkEJLlC",
        "colab": {
          "base_uri": "https://localhost:8080/"
        },
        "outputId": "3b90ba53-2ff2-43dc-b174-af22192ef9aa"
      },
      "outputs": [
        {
          "output_type": "stream",
          "name": "stdout",
          "text": [
            "Evaluation \t Proposed point \t  Current eval. \t  Best eval. \t         GP dEI: maximum y \t GP dEI: exploit\n",
            "init\t [-4.84438769  7.52811888]\t 96.15564306553264\t 3.4640248583909496\t    \t    \n",
            "init\t [2.4365994  2.00744293]\t 3.4640248583909496\t 3.4640248583909496\t    \t    \n",
            "init\t [-2.86833372  3.27838013]\t 70.46930174488207\t 3.4640248583909496\t    \t    \n",
            "init\t [1.27762271 3.72151753]\t 12.982825924833865\t 3.4640248583909496\t    \t    \n",
            "init\t [-3.73910523  5.1824796 ]\t 75.58547400560856\t 3.4640248583909496\t    \t    \n",
            "1  \t [ 7.05609655 14.75038872]\t 200.4388688685465\t 3.4640248583909496\t 3.497841782110876\t 3.31979783164339\n",
            "2  \t [-0.46054038 14.56197292]\t 79.4666617606301\t 3.4640248583909496\t 3.4978417820600054\t 3.3197978315843355\n",
            "3  \t [8.28747407 1.2035024 ]\t 6.196385269800155\t 3.4640248583909496\t 3.497841747459437\t 3.3197977914170287\n",
            "4  \t [4.57208176 9.16642126]\t 68.60581850295517\t 3.4640248583909496\t 3.497841027786867\t 3.3197978309854688\n",
            "5  \t [10.          6.41094566]\t 13.557530071759565\t 3.4640248583909496\t 3.497840600895959\t 3.3197947907147416\n",
            "6  \t [5.8912128  4.49095395]\t 30.322494073443522\t 3.4640248583909496\t 3.4963549913827077\t 3.3179297007503328\n",
            "7  \t [-0.25390999  9.35697333]\t 27.964529725443967\t 3.4640248583909496\t 3.497270240463581\t 3.3191342826916435\n",
            "8  \t [-0.32407797  0.        ]\t 61.73473466093925\t 3.4640248583909496\t 3.486530689886054\t 3.2570059110341165\n",
            "9  \t [10.         10.78990116]\t 62.579646216330644\t 3.4640248583909496\t 3.496897930225781\t 3.318187644983962\n",
            "10 \t [4.90384189 0.        ]\t 13.522031488272372\t 3.4640248583909496\t 3.4847623693603853\t 3.3032589005263677\n",
            "11 \t [-5.         12.65482981]\t 33.267585144709244\t 3.4640248583909496\t 3.4975457514074506\t 3.3014590375555373\n",
            "12 \t [-5.  0.]\t 308.12909601160663\t 3.4640248583909496\t 3.4820557725560377\t 3.2613848082293972\n",
            "13 \t [ 3.16990412 14.74787517]\t 156.52302650660098\t 3.4640248583909496\t 3.3962085775099853\t 3.20112895325804\n",
            "\u001b[1m\u001b[92m14\u001b[0m\t \u001b[1m\u001b[92m[9.14851126 3.71728919]\u001b[0m\t \u001b[1m\u001b[92m2.909586327372441\u001b[0m\t \u001b[1m\u001b[92m2.909586327372441\u001b[0m\t \u001b[1m\u001b[92m3.239189641910771\u001b[0m\t \u001b[1m\u001b[92m3.0017202743860416\u001b[0m\n",
            "15 \t [0.59112688 6.42226502]\t 19.709704572558348\t 2.909586327372441\t 2.7302953624774164\t 2.391889544072781\n",
            "16 \t [ 2.10212761 11.29185157]\t 70.205353478914\t 2.909586327372441\t 2.5890652245364265\t 2.209392300368694\n",
            "17 \t [-2.31649307 11.64126192]\t 5.075814329907596\t 2.909586327372441\t 2.5256077084111626\t 1.8848261222742728\n",
            "18 \t [7.43570493 9.37338964]\t 78.94621114259327\t 2.909586327372441\t 2.1022249360640357\t 1.5951286103107667\n",
            "19 \t [-3.69570719 15.        ]\t 3.667091562175994\t 2.909586327372441\t 2.3895380609097745\t 1.628791495393715\n",
            "20 \t [3.36686089 5.99688546]\t 15.78043073149885\t 2.909586327372441\t 2.4747463538988916\t 2.0763891763716456\n"
          ]
        }
      ],
      "source": [
        "### Bayesian optimisation runs (x20): 'GP dEI' Acquisition Function run number = 9 \n",
        "\n",
        "np.random.seed(run_num_9)\n",
        "surrogate_exact_9 = dGaussianProcess(cov_func, optimize=hyperOpt)\n",
        "\n",
        "exact_9 = GPGO_exact(surrogate_exact_9, Acquisition_grad(util), f_syn_polarity, param, n_jobs = -1) # Define BayesOpt\n",
        "exact_9.run(max_iter = max_iter, init_evals = n_init) # run\n"
      ]
    },
    {
      "cell_type": "code",
      "execution_count": 42,
      "metadata": {
        "id": "RqwHOur5JLlC",
        "colab": {
          "base_uri": "https://localhost:8080/"
        },
        "outputId": "abcd8424-9ece-49d6-bef1-47649a18361e"
      },
      "outputs": [
        {
          "output_type": "stream",
          "name": "stdout",
          "text": [
            "Evaluation \t Proposed point \t  Current eval. \t  Best eval. \t         GP dEI: maximum y \t GP dEI: exploit\n",
            "init\t [6.56980965 0.31127924]\t 19.863985024602144\t 2.710610964564512\t    \t    \n",
            "init\t [ 4.50472352 11.23205824]\t 103.66999147252169\t 2.710610964564512\t    \t    \n",
            "init\t [2.47760518 3.37194968]\t 2.710610964564512\t 2.710610964564512\t    \t    \n",
            "init\t [-2.02905703 11.40796068]\t 8.463930835255017\t 2.710610964564512\t    \t    \n",
            "init\t [-2.46333745  1.32509721]\t 90.49481266026973\t 2.710610964564512\t    \t    \n",
            "1  \t [ 9.16391068 14.81438212]\t 158.2412724465548\t 2.710610964564512\t 2.791471383796652\t 2.4729984549297694\n",
            "2  \t [9.65621089 6.61160737]\t 16.1339423373336\t 2.710610964564512\t 2.7914713837968415\t 2.4729984549297694\n",
            "3  \t [-3.43070383  6.59407857]\t 41.58407101130534\t 2.710610964564512\t 2.7914713830067637\t 2.472998453952799\n",
            "4  \t [ 0.96818967 15.        ]\t 124.01515892955138\t 2.710610964564512\t 2.7914699746755316\t 2.4729967832389046\n",
            "5  \t [5.26562048 6.20098174]\t 40.04142137111575\t 2.710610964564512\t 2.790453768197164\t 2.4712313115041753\n",
            "6  \t [2.03162754 0.        ]\t 16.61852349658511\t 2.710610964564512\t 2.7866863028494726\t 2.404352085455174\n",
            "7  \t [1.01047236 7.61600466]\t 24.66556920032004\t 2.710610964564512\t 2.7898670282170714\t 2.4710138648858146\n",
            "8  \t [-5.         10.18073998]\t 61.81647870589653\t 2.710610964564512\t 2.760579873782194\t 2.3457643613604415\n",
            "9  \t [10.         10.49394986]\t 58.05812065646675\t 2.710610964564512\t 2.7832631804276016\t 2.4134148709965357\n",
            "10 \t [7.94022218 3.57703498]\t 13.456090850501838\t 2.710610964564512\t 2.7412565392376704\t 2.4091765689265072\n",
            "11 \t [-0.11817124  4.32816224]\t 23.001137198523924\t 2.710610964564512\t 2.703331288507044\t 2.3428947848036015\n",
            "12 \t [-2.762562   14.08230486]\t 8.367504114526518\t 2.710610964564512\t 2.674885371269084\t 2.251830026148227\n",
            "13 \t [-5.          3.66717233]\t 195.51922766847932\t 2.710610964564512\t 2.61023903923307\t 2.245509643779362\n",
            "14 \t [ 5.39036255 14.85363852]\t 203.1398502099884\t 2.710610964564512\t 2.6851834933150243\t 2.282376326243426\n",
            "15 \t [ 0.65134136 11.25312588]\t 56.51103445783228\t 2.710610964564512\t 2.60091525887366\t 2.2352183473037677\n",
            "16 \t [7.30050102 8.6136563 ]\t 69.0342520627292\t 2.710610964564512\t 2.4611197451323585\t 2.0589344424972884\n",
            "17 \t [ 7.05244435 12.41994017]\t 142.76454466467493\t 2.710610964564512\t 2.791468928623963\t 2.4729604877035785\n",
            "18 \t [4.0886307  3.23652145]\t 6.901239750644848\t 2.710610964564512\t 2.370420862021426\t 1.953820727469548\n",
            "\u001b[1m\u001b[92m19\u001b[0m\t \u001b[1m\u001b[92m[10.         2.8805344]\u001b[0m\t \u001b[1m\u001b[92m1.958127859145474\u001b[0m\t \u001b[1m\u001b[92m1.958127859145474\u001b[0m\t \u001b[1m\u001b[92m2.227334545678723\u001b[0m\t \u001b[1m\u001b[92m1.586672628881023\u001b[0m\n",
            "20 \t [-1.76204958  9.04997081]\t 8.198923946980754\t 1.958127859145474\t 1.5148075798868246\t 0.7703392517213979\n"
          ]
        }
      ],
      "source": [
        "### Bayesian optimisation runs (x20): 'GP dEI' Acquisition Function run number = 10 \n",
        "\n",
        "np.random.seed(run_num_10)\n",
        "surrogate_exact_10 = dGaussianProcess(cov_func, optimize=hyperOpt)\n",
        "\n",
        "exact_10 = GPGO_exact(surrogate_exact_10, Acquisition_grad(util), f_syn_polarity, param, n_jobs = -1) # Define BayesOpt\n",
        "exact_10.run(max_iter = max_iter, init_evals = n_init) # run\n"
      ]
    },
    {
      "cell_type": "code",
      "execution_count": 43,
      "metadata": {
        "id": "iXLW3-5DJLlD",
        "colab": {
          "base_uri": "https://localhost:8080/"
        },
        "outputId": "31684e35-9619-4c6c-bb0b-c631409edbe1"
      },
      "outputs": [
        {
          "output_type": "stream",
          "name": "stdout",
          "text": [
            "Evaluation \t Proposed point \t  Current eval. \t  Best eval. \t         GP dEI: maximum y \t GP dEI: exploit\n",
            "init\t [-2.29595467  0.29212862]\t 104.49282729548965\t 22.37435843952312\t    \t    \n",
            "init\t [ 1.9482779  10.87400894]\t 62.47758067812407\t 22.37435843952312\t    \t    \n",
            "init\t [1.30305407 7.28140647]\t 22.37435843952312\t 22.37435843952312\t    \t    \n",
            "init\t [-4.80828778  7.31057411]\t 97.94503054415523\t 22.37435843952312\t    \t    \n",
            "init\t [ 9.12709979 12.76192634]\t 111.62900800771942\t 22.37435843952312\t    \t    \n",
            "\u001b[1m\u001b[92m1\u001b[0m\t \u001b[1m\u001b[92m[6.94653631 0.95529646]\u001b[0m\t \u001b[1m\u001b[92m17.615403152614682\u001b[0m\t \u001b[1m\u001b[92m17.615403152614682\u001b[0m\t \u001b[1m\u001b[92m22.374358429523117\u001b[0m\t \u001b[1m\u001b[92m22.374358429523117\u001b[0m\n",
            "\u001b[1m\u001b[92m2\u001b[0m\t \u001b[1m\u001b[92m[9.28738882 6.14578118]\u001b[0m\t \u001b[1m\u001b[92m14.808790749874726\u001b[0m\t \u001b[1m\u001b[92m14.808790749874726\u001b[0m\t \u001b[1m\u001b[92m17.615402322258053\u001b[0m\t \u001b[1m\u001b[92m17.615402322258053\u001b[0m\n",
            "\u001b[1m\u001b[92m3\u001b[0m\t \u001b[1m\u001b[92m[2.54385739 0.04476512]\u001b[0m\t \u001b[1m\u001b[92m9.58430283129103\u001b[0m\t \u001b[1m\u001b[92m9.58430283129103\u001b[0m\t \u001b[1m\u001b[92m14.808015906178486\u001b[0m\t \u001b[1m\u001b[92m14.808015907214985\u001b[0m\n",
            "4  \t [ 4.54043559 15.        ]\t 192.31515921238574\t 9.58430283129103\t 9.583961681286047\t 9.581089538861795\n",
            "\u001b[1m\u001b[92m5\u001b[0m\t \u001b[1m\u001b[92m[-2.78845701 11.96288645]\u001b[0m\t \u001b[1m\u001b[92m1.2612701228696341\u001b[0m\t \u001b[1m\u001b[92m1.2612701228696341\u001b[0m\t \u001b[1m\u001b[92m9.58394422743554\u001b[0m\t \u001b[1m\u001b[92m9.583935993708046\u001b[0m\n",
            "6  \t [4.99074378 5.05294312]\t 26.913905406466366\t 1.2612701228696341\t 1.580847830056668\t 0.9163474941567298\n",
            "7  \t [-0.18506082 14.68732815]\t 89.80291618540741\t 1.2612701228696341\t 1.579144877136375\t 0.9243067190401643\n",
            "8  \t [6.22553301 9.18063219]\t 84.90549660847131\t 1.2612701228696341\t 1.5791077547782078\t 0.9139603232547998\n",
            "9  \t [0.35554859 3.60696505]\t 22.400019960224988\t 1.2612701228696341\t 1.5706649571733462\t 0.9115595315627724\n",
            "10 \t [-4.61329932  3.14393371]\t 176.69388802956092\t 1.2612701228696341\t 1.531529014095178\t 0.7001267502427168\n",
            "11 \t [-5.         13.36925696]\t 27.301666173994466\t 1.2612701228696341\t 1.567421565490557\t 0.9062076164427676\n",
            "12 \t [9.87581541 2.90868594]\t 1.3588692040375303\t 1.2612701228696341\t 1.5448557646256307\t 0.8558016615201656\n",
            "13 \t [-1.40839824  9.05862644]\t 11.867063821352444\t 1.2612701228696341\t 1.4987122167064277\t 0.8125678637382873\n",
            "14 \t [9.80212913 9.37818875]\t 44.192245052676036\t 1.2612701228696341\t 1.4038067922158668\t 0.5298235727267581\n",
            "\u001b[1m\u001b[92m15\u001b[0m\t \u001b[1m\u001b[92m[3.51214421 2.450997  ]\u001b[0m\t \u001b[1m\u001b[92m1.2496251948904433\u001b[0m\t \u001b[1m\u001b[92m1.2496251948904433\u001b[0m\t \u001b[1m\u001b[92m1.3241532090028703\u001b[0m\t \u001b[1m\u001b[92m0.538034060390203\u001b[0m\n",
            "16 \t [8.08493465 3.57688428]\t 11.802669332554597\t 1.2496251948904433\t 1.2760713463774673\t 0.5280869195938894\n",
            "17 \t [-1.69663552  6.07120048]\t 17.800539760092622\t 1.2496251948904433\t 1.302433247012185\t 0.5426459937369204\n",
            "18 \t [9.94473912 1.77829676]\t 3.036350240464917\t 1.2496251948904433\t 1.2857480111974346\t 0.5635438839811526\n",
            "19 \t [-3.72854386 10.59665556]\t 11.82337510284313\t 1.2496251948904433\t 1.2417704322724061\t 0.48302670104672024\n",
            "20 \t [-1.64550271 11.83627901]\t 17.506399829213656\t 1.2496251948904433\t 1.16857272894796\t 0.23691747353910503\n"
          ]
        }
      ],
      "source": [
        "### Bayesian optimisation runs (x20): 'GP dEI' Acquisition Function run number = 11 \n",
        "\n",
        "np.random.seed(run_num_11)\n",
        "surrogate_exact_11 = dGaussianProcess(cov_func, optimize=hyperOpt)\n",
        "\n",
        "exact_11 = GPGO_exact(surrogate_exact_11, Acquisition_grad(util), f_syn_polarity, param, n_jobs = -1) # Define BayesOpt\n",
        "exact_11.run(max_iter = max_iter, init_evals = n_init) # run\n"
      ]
    },
    {
      "cell_type": "code",
      "execution_count": 44,
      "metadata": {
        "id": "Sv5SygMbJLlD",
        "colab": {
          "base_uri": "https://localhost:8080/"
        },
        "outputId": "94835d21-541d-4e9a-bc83-c32e32698c5a"
      },
      "outputs": [
        {
          "output_type": "stream",
          "name": "stdout",
          "text": [
            "Evaluation \t Proposed point \t  Current eval. \t  Best eval. \t         GP dEI: maximum y \t GP dEI: exploit\n",
            "init\t [-2.68755736 11.10074545]\t 1.3827702760021356\t 0.5499315281120278\t    \t    \n",
            "init\t [-1.05027477  8.0060909 ]\t 14.81231853080056\t 0.5499315281120278\t    \t    \n",
            "init\t [-4.78137556 13.78120512]\t 18.401131000214548\t 0.5499315281120278\t    \t    \n",
            "init\t [8.51072281 0.50132141]\t 5.855172364344769\t 0.5499315281120278\t    \t    \n",
            "init\t [9.35424004 2.05813982]\t 0.5499315281120278\t 0.5499315281120278\t    \t    \n",
            "1  \t [10.         4.2917554]\t 3.604142984594371\t 0.5499315281120278\t 1.1031910701027643\t 0.3356879734954516\n",
            "2  \t [ 9.19833734 12.85785838]\t 112.3096138370831\t 0.5499315281120278\t 1.1028242099285575\t 0.3345391402651518\n",
            "3  \t [-4.8799499   0.15657603]\t 290.0404981832191\t 0.5499315281120278\t 1.1028242099285575\t 0.3345391402651517\n",
            "4  \t [2.31082274 1.96051811]\t 4.630930870259078\t 0.5499315281120278\t 1.1028242068712346\t 0.3345390794121357\n",
            "5  \t [4.84411484 8.7761414 ]\t 66.82952699849903\t 0.5499315281120278\t 1.1028234850224659\t 0.33453828281144987\n",
            "6  \t [ 2.01644576 13.63114238]\t 112.26327042119459\t 0.5499315281120278\t 1.102821103305723\t 0.3345179194035178\n",
            "7  \t [-5.          5.48610464]\t 149.64313048168344\t 0.5499315281120278\t 1.1026875780570733\t 0.33328449976174745\n",
            "8  \t [9.91777015 8.21247811]\t 29.527850223409104\t 0.5499315281120278\t 1.1017339644738382\t 0.3172110124030559\n",
            "9  \t [5.83605685 4.11212784]\t 27.661352282770494\t 0.5499315281120278\t 1.1020653510056762\t 0.3318043941891803\n",
            "10 \t [-0.41259758  0.        ]\t 63.40084360945968\t 0.5499315281120278\t 1.0937524361377278\t 0.2788116647551216\n",
            "11 \t [-5.          9.73650373]\t 68.23901363739964\t 0.5499315281120278\t 1.084386817884059\t 0.2924643777528202\n",
            "12 \t [ 5.81229962 15.        ]\t 211.38764072010517\t 0.5499315281120278\t 1.0818386409848857\t 0.32288799021449327\n",
            "13 \t [1.70927602 5.55502955]\t 12.27694534891511\t 0.5499315281120278\t 1.09465962953207\t 0.3245479458352611\n",
            "14 \t [-1.25433527  3.80359406]\t 32.31300814999328\t 0.5499315281120278\t 1.0721742732223876\t 0.2984120665021123\n",
            "15 \t [5.02410618 0.        ]\t 14.544412167304742\t 0.5499315281120278\t 1.0928929156632123\t 0.2781111417080341\n",
            "16 \t [-1.64209086 15.        ]\t 45.775740647302655\t 0.5499315281120278\t 1.0672505511928856\t 0.29135830950649505\n",
            "17 \t [1.54730283 9.54676263]\t 42.71653531010302\t 0.5499315281120278\t 0.9851324858254821\t 0.11929936312970539\n",
            "18 \t [-1.28563115 11.40135005]\t 22.57139472963668\t 0.5499315281120278\t 0.9575109861519772\t 0.17730064825538028\n",
            "19 \t [9.71853522 2.52537767]\t 0.8527132899758332\t 0.5499315281120278\t 0.7614632156693876\t 0.04618238675977225\n",
            "20 \t [7.47692657 6.55484485]\t 40.917086051105855\t 0.5499315281120278\t 0.8403263409564498\t 0.043150716326936976\n"
          ]
        }
      ],
      "source": [
        "### Bayesian optimisation runs (x20): 'GP dEI' Acquisition Function run number = 12\n",
        "\n",
        "np.random.seed(run_num_12)\n",
        "surrogate_exact_12 = dGaussianProcess(cov_func, optimize=hyperOpt)\n",
        "\n",
        "exact_12 = GPGO_exact(surrogate_exact_12, Acquisition_grad(util), f_syn_polarity, param, n_jobs = -1) # Define BayesOpt\n",
        "exact_12.run(max_iter = max_iter, init_evals = n_init) # run\n"
      ]
    },
    {
      "cell_type": "code",
      "execution_count": 45,
      "metadata": {
        "id": "NSskozWHJLlE",
        "colab": {
          "base_uri": "https://localhost:8080/"
        },
        "outputId": "4a49bfa9-b19a-4b01-e550-ad0d74ce6fcc"
      },
      "outputs": [
        {
          "output_type": "stream",
          "name": "stdout",
          "text": [
            "Evaluation \t Proposed point \t  Current eval. \t  Best eval. \t         GP dEI: maximum y \t GP dEI: exploit\n",
            "init\t [6.66553616 3.5631183 ]\t 24.823670200298267\t 18.038943061558626\t    \t    \n",
            "init\t [ 7.36417799 14.48623797]\t 188.7803334745195\t 18.038943061558626\t    \t    \n",
            "init\t [9.58901671 6.80173871]\t 18.038943061558626\t 18.038943061558626\t    \t    \n",
            "init\t [ 4.13563694 11.63289772]\t 104.87319703906111\t 18.038943061558626\t    \t    \n",
            "init\t [ 4.62420017 10.83027344]\t 98.03271225790056\t 18.038943061558626\t    \t    \n",
            "1  \t [-5.  0.]\t 308.12909601160663\t 18.038943061558626\t 18.038943051558626\t 18.038943051558626\n",
            "\u001b[1m\u001b[92m2\u001b[0m\t \u001b[1m\u001b[92m[-3.06562888 11.40851515]\u001b[0m\t \u001b[1m\u001b[92m0.8943531028899869\u001b[0m\t \u001b[1m\u001b[92m0.8943531028899869\u001b[0m\t \u001b[1m\u001b[92m18.038943051335508\u001b[0m\t \u001b[1m\u001b[92m18.038943051335508\u001b[0m\n",
            "3  \t [-0.77721745  5.55115316]\t 19.956248293009427\t 0.8943531028899869\t 1.3235330933561291\t 0.6015653196102482\n",
            "4  \t [-0.24948802 15.        ]\t 93.17689500314201\t 0.8943531028899869\t 1.3235177097998942\t 0.6015356591104736\n",
            "5  \t [2.24297905 0.        ]\t 13.507883026233038\t 0.8943531028899869\t 1.3235322551908622\t 0.6011920921098222\n",
            "6  \t [-5.          5.28665565]\t 154.35051756072184\t 0.8943531028899869\t 1.3225749397382602\t 0.5970652858019535\n",
            "7  \t [3.49764332 6.24904563]\t 18.93821276490805\t 0.8943531028899869\t 1.3211035465224805\t 0.5834137137518515\n",
            "8  \t [0.1330055  9.52209063]\t 33.441323493506054\t 0.8943531028899869\t 1.3200366139689346\t 0.5966219315707849\n",
            "9  \t [10.         10.78922699]\t 62.56914709872043\t 0.8943531028899869\t 1.3194380651322113\t 0.5964886355974489\n",
            "10 \t [-0.92831084  1.79465985]\t 49.32527682039021\t 0.8943531028899869\t 1.3066966697447586\t 0.5187523370719636\n",
            "11 \t [10.          2.34599735]\t 2.374736122313256\t 0.8943531028899869\t 1.307980519050548\t 0.5823081248515399\n",
            "12 \t [6.27024657 0.        ]\t 20.810450559762344\t 0.8943531028899869\t 1.3086538830571737\t 0.5496113857623616\n",
            "13 \t [-4.80002934  9.45928692]\t 62.05801658060028\t 0.8943531028899869\t 1.305215000102772\t 0.5788897012855624\n",
            "\u001b[1m\u001b[92m14\u001b[0m\t \u001b[1m\u001b[92m[-3.31431208 12.77757262]\u001b[0m\t \u001b[1m\u001b[92m0.5477511752924471\u001b[0m\t \u001b[1m\u001b[92m0.5477511752924471\u001b[0m\t \u001b[1m\u001b[92m1.2778629655476512\u001b[0m\t \u001b[1m\u001b[92m0.5640818767513077\u001b[0m\n",
            "15 \t [-4.90448245 13.24427689]\t 25.293617388650464\t 0.5477511752924471\t 1.0440403145313477\t 0.25295979320977374\n",
            "16 \t [2.99675887 3.0237469 ]\t 0.899221563975825\t 0.5477511752924471\t 1.0314975051778994\t 0.24174453842357493\n",
            "17 \t [6.54094574 7.54214436]\t 60.57009683036506\t 0.5477511752924471\t 1.0200857815158388\t 0.2370525377704317\n",
            "18 \t [1.84963948 3.68095808]\t 7.390491087598858\t 0.5477511752924471\t 0.8550037114019037\t 0.07627853530259951\n",
            "19 \t [3.72213456 2.83138554]\t 2.9034036119451967\t 0.5477511752924471\t 0.8358817078308841\t 0.15347015605844322\n",
            "20 \t [-2.61803296 12.67726494]\t 4.325066076777643\t 0.5477511752924471\t 1.086439596505274\t 0.23848557643298388\n"
          ]
        }
      ],
      "source": [
        "### Bayesian optimisation runs (x20): 'GP dEI' Acquisition Function run number = 13 \n",
        "\n",
        "np.random.seed(run_num_13)\n",
        "surrogate_exact_13 = dGaussianProcess(cov_func, optimize=hyperOpt)\n",
        "\n",
        "exact_13 = GPGO_exact(surrogate_exact_13, Acquisition_grad(util), f_syn_polarity, param, n_jobs = -1) # Define BayesOpt\n",
        "exact_13.run(max_iter = max_iter, init_evals = n_init) # run\n"
      ]
    },
    {
      "cell_type": "code",
      "execution_count": 46,
      "metadata": {
        "id": "aM5FQ3ibJLlE",
        "colab": {
          "base_uri": "https://localhost:8080/"
        },
        "outputId": "d3c6a8d8-6190-430c-912c-12c6f377d466"
      },
      "outputs": [
        {
          "output_type": "stream",
          "name": "stdout",
          "text": [
            "Evaluation \t Proposed point \t  Current eval. \t  Best eval. \t         GP dEI: maximum y \t GP dEI: exploit\n",
            "init\t [ 2.70915016 11.59747578]\t 81.58264375064097\t 1.4149920024014744\t    \t    \n",
            "init\t [8.05641529 0.12070423]\t 10.148649076616518\t 1.4149920024014744\t    \t    \n",
            "init\t [-0.35396112 14.36405609]\t 79.6056658956529\t 1.4149920024014744\t    \t    \n",
            "init\t [2.69675068 4.77426637]\t 5.855607664288365\t 1.4149920024014744\t    \t    \n",
            "init\t [3.08799906 3.31882414]\t 1.4149920024014744\t 1.4149920024014744\t    \t    \n",
            "1  \t [-4.22572169  4.73878507]\t 111.46482334173054\t 1.4149920024014744\t 1.6971407473891316\t 1.0759186621049575\n",
            "2  \t [ 9.02510452 14.92575454]\t 164.15736583327134\t 1.4149920024014744\t 1.6971407472101587\t 1.0759186621048384\n",
            "3  \t [8.4415984  6.61360555]\t 28.132050221972662\t 1.4149920024014744\t 1.6971407168951451\t 1.075918622686731\n",
            "4  \t [-0.6348753  0.       ]\t 67.61008168553072\t 1.4149920024014744\t 1.6971390234773085\t 1.0758066510317743\n",
            "5  \t [-2.40015779  9.60941637]\t 3.8299944025381123\t 1.4149920024014744\t 1.6970290297096808\t 1.0757043096862793\n",
            "6  \t [ 7.23036704 10.62018868]\t 103.48188921884048\t 1.4149920024014744\t 1.6935880450179355\t 1.0702078484628008\n",
            "7  \t [10.          3.08569949]\t 1.9499870470857505\t 1.4149920024014744\t 1.6836721409057758\t 1.0576183502961456\n",
            "8  \t [-5.         13.12598231]\t 29.21854407846937\t 1.4149920024014744\t 1.6967494853321812\t 1.072710412066006\n",
            "9  \t [-5.  0.]\t 308.12909601160663\t 1.4149920024014744\t 1.6948514617478054\t 1.0461614803033952\n",
            "10 \t [3.81718987 0.35764269]\t 4.608055435820795\t 1.4149920024014744\t 1.6936301911550011\t 1.0535952086559957\n",
            "11 \t [ 4.73297197 15.        ]\t 196.2170449024405\t 1.4149920024014744\t 1.6785393085082991\t 1.0515762482319955\n",
            "12 \t [5.86460467 3.7334441 ]\t 25.659208254997083\t 1.4149920024014744\t 1.6778116579243774\t 1.0192452120595414\n",
            "13 \t [0.22924746 7.99065372]\t 24.86739965679198\t 1.4149920024014744\t 1.682039252107267\t 1.0534353825297906\n",
            "14 \t [4.16184    7.76735316]\t 42.84258223436467\t 1.4149920024014744\t 1.6703385823973875\t 1.0380874062757566\n",
            "15 \t [-0.38900439  4.28274191]\t 24.435101215447954\t 1.4149920024014744\t 1.6460254044665308\t 0.9696024030177096\n",
            "16 \t [-4.97973113  8.44579078]\t 87.93417808017053\t 1.4149920024014744\t 1.6384773681437101\t 0.8691250778446697\n",
            "17 \t [5.5911543  0.04197834]\t 18.59846086462394\t 1.4149920024014744\t 1.1959623742866035\t 0.46427796520727715\n",
            "18 \t [8.79961473 2.52422178]\t 2.4907088283548564\t 1.4149920024014744\t 1.1926576251923247\t 0.4265963832972703\n",
            "19 \t [2.66167425 1.27068607]\t 3.4660253665962424\t 1.4149920024014744\t 1.2429952194167957\t 0.5125640908864227\n",
            "20 \t [-1.50421271 11.24621613]\t 17.191893340339796\t 1.4149920024014744\t 1.374202956694882\t 0.4089928545404466\n"
          ]
        }
      ],
      "source": [
        "### Bayesian optimisation runs (x20): 'GP dEI' Acquisition Function run number = 14 \n",
        "\n",
        "np.random.seed(run_num_14)\n",
        "surrogate_exact_14 = dGaussianProcess(cov_func, optimize=hyperOpt)\n",
        "\n",
        "exact_14 = GPGO_exact(surrogate_exact_14, Acquisition_grad(util), f_syn_polarity, param, n_jobs = -1) # Define BayesOpt\n",
        "exact_14.run(max_iter = max_iter, init_evals = n_init) # run\n"
      ]
    },
    {
      "cell_type": "code",
      "execution_count": 47,
      "metadata": {
        "id": "XmPTh2j_JLlF",
        "colab": {
          "base_uri": "https://localhost:8080/"
        },
        "outputId": "1fb50571-dc4f-4224-a1c4-bd22a049c14d"
      },
      "outputs": [
        {
          "output_type": "stream",
          "name": "stdout",
          "text": [
            "Evaluation \t Proposed point \t  Current eval. \t  Best eval. \t         GP dEI: maximum y \t GP dEI: exploit\n",
            "init\t [7.73226546 2.68343887]\t 12.768724532005583\t 12.768724532005583\t    \t    \n",
            "init\t [-4.18455179  5.42307669]\t 95.39334176626551\t 12.768724532005583\t    \t    \n",
            "init\t [-0.86898607  7.95000337]\t 16.419487782111716\t 12.768724532005583\t    \t    \n",
            "init\t [-0.41121626  4.56711539]\t 23.250362743740954\t 12.768724532005583\t    \t    \n",
            "init\t [-3.32388086  3.74848521]\t 80.99796277938532\t 12.768724532005583\t    \t    \n",
            "1  \t [10. 15.]\t 145.87219087939556\t 12.768724532005583\t 12.768724522031357\t 12.76872452090675\n",
            "2  \t [-4.77493765 13.49591113]\t 19.896906503438096\t 12.768724532005583\t 12.768724521196418\t 12.76872452007181\n",
            "3  \t [ 3.80261319 11.96078244]\t 105.3381651976412\t 12.768724532005583\t 12.76872447075339\t 12.768724469628783\n",
            "4  \t [8.63272613 8.32488519]\t 44.68998814179533\t 12.768724532005583\t 12.768723384052656\t 12.768723382928044\n",
            "\u001b[1m\u001b[92m5\u001b[0m\t \u001b[1m\u001b[92m[2.63098807 0.01106722]\u001b[0m\t \u001b[1m\u001b[92m8.890052611403327\u001b[0m\t \u001b[1m\u001b[92m8.890052611403327\u001b[0m\t \u001b[1m\u001b[92m12.76872065092249\u001b[0m\t \u001b[1m\u001b[92m12.768720654199445\u001b[0m\n",
            "6  \t [4.00168618 6.51255375]\t 26.898368577701646\t 8.890052611403327\t 8.889814524898156\t 8.889773627137535\n",
            "7  \t [-1.40724858  0.        ]\t 83.73754499640867\t 8.890052611403327\t 8.883378942217725\t 8.883384353132326\n",
            "8  \t [-0.25920208 15.        ]\t 92.87695097448946\t 8.890052611403327\t 8.889798709941617\t 8.88975779469675\n",
            "\u001b[1m\u001b[92m9\u001b[0m\t \u001b[1m\u001b[92m[3.61319085 3.0311653 ]\u001b[0m\t \u001b[1m\u001b[92m2.6455160649188842\u001b[0m\t \u001b[1m\u001b[92m2.6455160649188842\u001b[0m\t \u001b[1m\u001b[92m8.829975440377986\u001b[0m\t \u001b[1m\u001b[92m8.829928723441741\u001b[0m\n",
            "10 \t [-4.06847001  9.59158085]\t 29.45510497817347\t 2.6455160649188842\t 2.7105080467909923\t 2.33973182236128\n",
            "11 \t [-5.  0.]\t 308.12909601160663\t 2.6455160649188842\t 2.6654374478958696\t 2.316349494798798\n",
            "12 \t [-0.77793435 11.29116954]\t 32.63978577537418\t 2.6455160649188842\t 2.6514730164528655\t 2.3045662626241072\n",
            "13 \t [ 7.29495093 12.4883381 ]\t 141.06833598000512\t 2.6455160649188842\t 2.5661688432328913\t 2.176510883631568\n",
            "14 \t [10.          4.91708611]\t 5.607032443023641\t 2.6455160649188842\t 2.6719733769314176\t 2.28761789534255\n",
            "15 \t [1.67894419 9.19851899]\t 39.28500108182337\t 2.6455160649188842\t 2.3934315093059175\t 1.9501521989560902\n",
            "16 \t [7.66749604 5.14812308]\t 25.89159254231835\t 2.6455160649188842\t 2.222109434178295\t 1.7480132781431752\n",
            "17 \t [5.08330669 9.19463846]\t 76.63281136023525\t 2.6455160649188842\t 2.0182639761363483\t 1.0582096190514059\n",
            "18 \t [5.4554963  0.60383109]\t 16.808315376835758\t 2.6455160649188842\t 2.6117222485450178\t 2.248793620983443\n",
            "19 \t [5.21169875 3.43601347]\t 19.53409967079577\t 2.6455160649188842\t 1.9863460198300473\t 1.4571758802361727\n",
            "20 \t [ 5.68303817 15.        ]\t 210.37247823470142\t 2.6455160649188842\t 1.9447891355885336\t 1.6806549500886676\n"
          ]
        }
      ],
      "source": [
        "### Bayesian optimisation runs (x20): 'GP dEI' Acquisition Function run number = 15 \n",
        "\n",
        "np.random.seed(run_num_15)\n",
        "surrogate_exact_15 = dGaussianProcess(cov_func, optimize=hyperOpt)\n",
        "\n",
        "exact_15 = GPGO_exact(surrogate_exact_15, Acquisition_grad(util), f_syn_polarity, param, n_jobs = -1) # Define BayesOpt\n",
        "exact_15.run(max_iter = max_iter, init_evals = n_init) # run\n"
      ]
    },
    {
      "cell_type": "code",
      "execution_count": 48,
      "metadata": {
        "id": "6aUP_b73JLlG",
        "colab": {
          "base_uri": "https://localhost:8080/"
        },
        "outputId": "114984ae-cb27-4b3b-d7ab-fbaf6a0c8086"
      },
      "outputs": [
        {
          "output_type": "stream",
          "name": "stdout",
          "text": [
            "Evaluation \t Proposed point \t  Current eval. \t  Best eval. \t         GP dEI: maximum y \t GP dEI: exploit\n",
            "init\t [-1.65063381  7.84745012]\t 10.514702126319445\t 2.715864006988424\t    \t    \n",
            "init\t [3.26052185 0.68402925]\t 2.715864006988424\t 2.715864006988424\t    \t    \n",
            "init\t [0.41093253 3.34621413]\t 22.889515127492515\t 2.715864006988424\t    \t    \n",
            "init\t [5.33089243 2.45597138]\t 17.178157611778595\t 2.715864006988424\t    \t    \n",
            "init\t [-3.945127  14.1151629]\t 3.3649224341694195\t 2.715864006988424\t    \t    \n",
            "1  \t [ 5.63879248 14.58068289]\t 198.51319639462758\t 2.715864006988424\t 2.7962650410643577\t 2.4789248717510164\n",
            "2  \t [-5.          0.76360453]\t 282.4634960240413\t 2.715864006988424\t 2.796264877786649\t 2.47892405160541\n",
            "3  \t [6.4086727  8.01053377]\t 67.19879991173286\t 2.715864006988424\t 2.796264138365111\t 2.4789248716316714\n",
            "4  \t [ 1.37630907 11.42929673]\t 66.24718744041212\t 2.715864006988424\t 2.7961126043039553\t 2.4787320360174343\n",
            "5  \t [-5.         10.21600199]\t 61.323587189474544\t 2.715864006988424\t 2.7947614482403345\t 2.471325325801372\n",
            "6  \t [10.         4.0174364]\t 2.9723099203221883\t 2.715864006988424\t 2.796205633171273\t 2.4787466044678603\n",
            "7  \t [10.         11.64579395]\t 76.64177808743001\t 2.715864006988424\t 2.79610904623872\t 2.4787184618330413\n",
            "8  \t [2.37025999 6.80135031]\t 17.922255544951717\t 2.715864006988424\t 2.786831572144048\t 2.4635004816862267\n",
            "9  \t [8.62900177 0.84186346]\t 4.370397698747435\t 2.715864006988424\t 2.78360629882312\t 2.4632706607346266\n",
            "10 \t [-5.          5.57680421]\t 147.528759283989\t 2.715864006988424\t 2.7931362167966163\t 2.435973810234377\n",
            "11 \t [-0.60075742  0.        ]\t 66.95949101400782\t 2.715864006988424\t 2.7665583192450316\t 2.31564391487362\n",
            "12 \t [-1.98556555 12.49323228]\t 14.104401720295524\t 2.715864006988424\t 2.6542551061688484\t 2.3949247830891585\n",
            "13 \t [ 0.49808598 15.        ]\t 113.7062993358486\t 2.715864006988424\t 2.7485658755474165\t 2.411601400244089\n",
            "14 \t [10. 15.]\t 145.87219087939556\t 2.715864006988424\t 2.6648715570417933\t 2.315643918500482\n",
            "15 \t [6.02532716 4.94305188]\t 34.05076542395406\t 2.715864006988424\t 2.272851142159834\t 1.9142427342095698\n",
            "16 \t [10.         7.4930357]\t 22.103950953638623\t 2.715864006988424\t 2.7443245928856537\t 2.099504209809833\n",
            "17 \t [ 4.4639101  11.23526934]\t 103.00566630125667\t 2.715864006988424\t 2.3604279688763277\t 1.9297894954078794\n",
            "18 \t [-2.33079398  3.50645045]\t 51.062990238156985\t 2.715864006988424\t 2.2499121625801815\t 1.7739523946197555\n",
            "19 \t [8.79457482 2.76382139]\t 2.8339002481106537\t 2.715864006988424\t 2.1622713462840397\t 1.6516967907059157\n",
            "20 \t [6.38103885 0.        ]\t 20.775770489177802\t 2.715864006988424\t 2.473073831518156\t 2.068684955008159\n"
          ]
        }
      ],
      "source": [
        "### Bayesian optimisation runs (x20): 'GP dEI' Acquisition Function run number = 16 \n",
        "\n",
        "np.random.seed(run_num_16)\n",
        "surrogate_exact_16 = dGaussianProcess(cov_func, optimize=hyperOpt)\n",
        "\n",
        "exact_16 = GPGO_exact(surrogate_exact_16, Acquisition_grad(util), f_syn_polarity, param, n_jobs = -1) # Define BayesOpt\n",
        "exact_16.run(max_iter = max_iter, init_evals = n_init) # run\n"
      ]
    },
    {
      "cell_type": "code",
      "execution_count": 49,
      "metadata": {
        "id": "TV8_B_7cJLlH",
        "colab": {
          "base_uri": "https://localhost:8080/"
        },
        "outputId": "05149305-9d05-4218-c10b-738b37ddf0f8"
      },
      "outputs": [
        {
          "output_type": "stream",
          "name": "stdout",
          "text": [
            "Evaluation \t Proposed point \t  Current eval. \t  Best eval. \t         GP dEI: maximum y \t GP dEI: exploit\n",
            "init\t [-0.58002496  7.95880133]\t 19.016141117164256\t 19.016141117164256\t    \t    \n",
            "init\t [-2.1271882   1.01850537]\t 85.05949339404415\t 19.016141117164256\t    \t    \n",
            "init\t [6.8047819  9.84500283]\t 93.89792695202516\t 19.016141117164256\t    \t    \n",
            "init\t [4.56281344 8.63404341]\t 60.50217141122736\t 19.016141117164256\t    \t    \n",
            "init\t [-4.41405626  5.36720407]\t 110.70834086593878\t 19.016141117164256\t    \t    \n",
            "\u001b[1m\u001b[92m1\u001b[0m\t \u001b[1m\u001b[92m[9.76575296 0.98553483]\u001b[0m\t \u001b[1m\u001b[92m4.1623278326263815\u001b[0m\t \u001b[1m\u001b[92m4.1623278326263815\u001b[0m\t \u001b[1m\u001b[92m19.016141107164255\u001b[0m\t \u001b[1m\u001b[92m19.016141107164255\u001b[0m\n",
            "2  \t [-0.36591853 14.49945231]\t 81.3728947682288\t 4.1623278326263815\t 4.175953248370189\t 4.084452939148241\n",
            "\u001b[1m\u001b[92m3\u001b[0m\t \u001b[1m\u001b[92m[3.74599703 2.35814314]\u001b[0m\t \u001b[1m\u001b[92m2.3563457989420957\u001b[0m\t \u001b[1m\u001b[92m2.3563457989420957\u001b[0m\t \u001b[1m\u001b[92m4.175952634281328\u001b[0m\t \u001b[1m\u001b[92m4.084452430351597\u001b[0m\n",
            "4  \t [10.         14.92965946]\t 144.18938157396997\t 2.3563457989420957\t 2.4736666897768274\t 2.075073780011422\n",
            "5  \t [9.39679852 5.53959908]\t 9.938002284241987\t 2.3563457989420957\t 2.473477792499469\t 2.0748370923646227\n",
            "6  \t [-5.         11.20259998]\t 48.541107314045135\t 2.3563457989420957\t 2.4736597536760607\t 2.0728658704289677\n",
            "7  \t [ 4.76695041 15.        ]\t 196.88087701650383\t 2.3563457989420957\t 2.4735268469429528\t 2.0628564415124067\n",
            "8  \t [6.73796408 3.08155542]\t 22.391137470039823\t 2.3563457989420957\t 2.456289774834616\t 2.0528743345623988\n",
            "9  \t [1.88309531 0.        ]\t 19.02868052761021\t 2.3563457989420957\t 2.4556283871020095\t 1.9977926487457713\n",
            "10 \t [1.4730599  4.12354892]\t 10.972205983874675\t 2.3563457989420957\t 2.4559010956507916\t 2.055608944063868\n",
            "11 \t [5.44913328 0.01944045]\t 17.759923373023906\t 2.3563457989420957\t 2.405992348805031\t 1.9040459879693774\n",
            "12 \t [ 1.72118454 11.04222898]\t 63.30471743941411\t 2.3563457989420957\t 2.4328843004436957\t 2.021934115427638\n",
            "13 \t [-1.87389928 11.38287603]\t 10.924123007194773\t 2.3563457989420957\t 2.180335438718237\t 1.7002878670740862\n",
            "14 \t [10.          8.89995637]\t 36.71774692163328\t 2.3563457989420957\t 2.304182320905437\t 1.808158074758183\n",
            "15 \t [4.71877166 4.95775684]\t 22.959360162540797\t 2.3563457989420957\t 2.1934391611943593\t 1.6812638298097626\n",
            "\u001b[1m\u001b[92m16\u001b[0m\t \u001b[1m\u001b[92m[-3.7047003  14.16477824]\u001b[0m\t \u001b[1m\u001b[92m2.126003258125605\u001b[0m\t \u001b[1m\u001b[92m2.126003258125605\u001b[0m\t \u001b[1m\u001b[92m2.2167680503856104\u001b[0m\t \u001b[1m\u001b[92m1.7126856320474124\u001b[0m\n",
            "17 \t [-5.  0.]\t 308.12909601160663\t 2.126003258125605\t 1.933901832021342\t 1.3820552538541084\n",
            "18 \t [2.05472744 6.59507853]\t 16.554061429130698\t 2.126003258125605\t 1.7990969802393304\t 0.8725094379692501\n",
            "19 \t [-2.9661298   8.28122846]\t 13.333592639338177\t 2.126003258125605\t 1.5816267984887356\t 0.8464850914012417\n",
            "\u001b[1m\u001b[92m20\u001b[0m\t \u001b[1m\u001b[92m[9.9683401  3.23455468]\u001b[0m\t \u001b[1m\u001b[92m1.8509281105180406\u001b[0m\t \u001b[1m\u001b[92m1.8509281105180406\u001b[0m\t \u001b[1m\u001b[92m1.8481321365786012\u001b[0m\t \u001b[1m\u001b[92m1.272376225226625\u001b[0m\n"
          ]
        }
      ],
      "source": [
        "### Bayesian optimisation runs (x20): 'GP dEI' Acquisition Function run number = 17 \n",
        "\n",
        "np.random.seed(run_num_17)\n",
        "surrogate_exact_17 = dGaussianProcess(cov_func, optimize=hyperOpt)\n",
        "\n",
        "exact_17 = GPGO_exact(surrogate_exact_17, Acquisition_grad(util), f_syn_polarity, param, n_jobs = -1) # Define BayesOpt\n",
        "exact_17.run(max_iter = max_iter, init_evals = n_init) # run\n"
      ]
    },
    {
      "cell_type": "code",
      "execution_count": 50,
      "metadata": {
        "id": "57ABzGR1JLlI",
        "colab": {
          "base_uri": "https://localhost:8080/"
        },
        "outputId": "496c5b4c-5d19-4a48-da7d-b159b8972b72"
      },
      "outputs": [
        {
          "output_type": "stream",
          "name": "stdout",
          "text": [
            "Evaluation \t Proposed point \t  Current eval. \t  Best eval. \t         GP dEI: maximum y \t GP dEI: exploit\n",
            "init\t [4.75561363 7.58180061]\t 49.215059064668324\t 8.150075223157177\t    \t    \n",
            "init\t [8.17902206 2.72760338]\t 8.150075223157177\t 8.150075223157177\t    \t    \n",
            "init\t [ 7.78349603 11.25204429]\t 106.98107856533271\t 8.150075223157177\t    \t    \n",
            "init\t [ 4.99152501 14.81843172]\t 196.08601750690153\t 8.150075223157177\t    \t    \n",
            "init\t [-1.14547366  0.42458888]\t 71.23649635555944\t 8.150075223157177\t    \t    \n",
            "1  \t [-4.83474958 11.77354131]\t 35.58412906267954\t 8.150075223157177\t 8.150085433802543\t 8.149887733241535\n",
            "2  \t [-1.31027796  6.26018244]\t 16.663442406570503\t 8.150075223157177\t 8.150083903898924\t 8.149886819768827\n",
            "3  \t [ 0.35908684 11.68414639]\t 57.91470988730182\t 8.150075223157177\t 8.150043865074647\t 8.149827501194284\n",
            "\u001b[1m\u001b[92m4\u001b[0m\t \u001b[1m\u001b[92m[4.16866889 0.        ]\u001b[0m\t \u001b[1m\u001b[92m7.625670656251107\u001b[0m\t \u001b[1m\u001b[92m7.625670656251107\u001b[0m\t \u001b[1m\u001b[92m8.15002964654158\u001b[0m\t \u001b[1m\u001b[92m8.149754981708007\u001b[0m\n",
            "5  \t [10. 15.]\t 145.87219087939556\t 7.625670656251107\t 7.625702885044119\t 7.625146832551015\n",
            "6  \t [-5.          3.31100639]\t 205.27694256191015\t 7.625670656251107\t 7.6252555260909585\t 7.624710688638493\n",
            "7  \t [10.          6.83388238]\t 16.61913292412361\t 7.625670656251107\t 7.625249144402804\t 7.624644203402202\n",
            "\u001b[1m\u001b[92m8\u001b[0m\t \u001b[1m\u001b[92m[1.91893934 4.15428297]\u001b[0m\t \u001b[1m\u001b[92m7.26101761917622\u001b[0m\t \u001b[1m\u001b[92m7.26101761917622\u001b[0m\t \u001b[1m\u001b[92m7.619165413540172\u001b[0m\t \u001b[1m\u001b[92m7.6185734655531325\u001b[0m\n",
            "9  \t [-1.9875475 15.       ]\t 34.483643171373785\t 7.26101761917622\t 7.251832712884931\t 7.235676494693796\n",
            "10 \t [5.08711682 3.3237184 ]\t 17.82841116968373\t 7.26101761917622\t 7.20278642033778\t 7.246140175032965\n",
            "11 \t [-5.          7.78764073]\t 101.0784764992863\t 7.26101761917622\t 7.247424232956102\t 7.246261495514027\n",
            "12 \t [1.40949089 7.73434554]\t 25.38780997399318\t 7.26101761917622\t 7.089464319859321\t 7.06147589507006\n",
            "\u001b[1m\u001b[92m13\u001b[0m\t \u001b[1m\u001b[92m[9.03261402 0.        ]\u001b[0m\t \u001b[1m\u001b[92m5.810034234100345\u001b[0m\t \u001b[1m\u001b[92m5.810034234100345\u001b[0m\t \u001b[1m\u001b[92m7.19297496117677\u001b[0m\t \u001b[1m\u001b[92m7.191736026632257\u001b[0m\n",
            "14 \t [ 3.71765027 11.1657217 ]\t 88.38351459141313\t 5.810034234100345\t 5.626920306800791\t 5.470354387990998\n",
            "15 \t [-1.81885685  9.65554599]\t 7.753584778277769\t 5.810034234100345\t 5.811097671547239\t 5.799362693087778\n",
            "16 \t [6.58523601 0.09222466]\t 20.22661345150606\t 5.810034234100345\t 5.4142080396127685\t 5.4018969097751555\n",
            "\u001b[1m\u001b[92m17\u001b[0m\t \u001b[1m\u001b[92m[10.          4.06865332]\u001b[0m\t \u001b[1m\u001b[92m3.078850151318427\u001b[0m\t \u001b[1m\u001b[92m3.078850151318427\u001b[0m\t \u001b[1m\u001b[92m5.321942253429737\u001b[0m\t \u001b[1m\u001b[92m5.343721023191851\u001b[0m\n",
            "18 \t [2.15483299 1.41554252]\t 7.784677230602309\t 3.078850151318427\t 2.7926145516261522\t 2.39397403584333\n",
            "19 \t [-5.  0.]\t 308.12909601160663\t 3.078850151318427\t 2.7201672593977824\t 2.3845708555506975\n",
            "20 \t [ 1.27329956 15.        ]\t 129.8237238043874\t 3.078850151318427\t 2.89078435784608\t 2.5422105095728997\n"
          ]
        }
      ],
      "source": [
        "### Bayesian optimisation runs (x20): 'GP dEI' Acquisition Function run number = 18 \n",
        "\n",
        "np.random.seed(run_num_18)\n",
        "surrogate_exact_18 = dGaussianProcess(cov_func, optimize=hyperOpt)\n",
        "\n",
        "exact_18 = GPGO_exact(surrogate_exact_18, Acquisition_grad(util), f_syn_polarity, param, n_jobs = -1) # Define BayesOpt\n",
        "exact_18.run(max_iter = max_iter, init_evals = n_init) # run\n"
      ]
    },
    {
      "cell_type": "code",
      "execution_count": 51,
      "metadata": {
        "id": "x2CyIorrJLlJ",
        "colab": {
          "base_uri": "https://localhost:8080/"
        },
        "outputId": "e5d319a3-82ea-49a9-9017-58b59e6c6e1b"
      },
      "outputs": [
        {
          "output_type": "stream",
          "name": "stdout",
          "text": [
            "Evaluation \t Proposed point \t  Current eval. \t  Best eval. \t         GP dEI: maximum y \t GP dEI: exploit\n",
            "init\t [-3.53699597 11.41874575]\t 4.475608269502271\t 4.475608269502271\t    \t    \n",
            "init\t [-1.2959304   2.07197531]\t 51.13947793770689\t 4.475608269502271\t    \t    \n",
            "init\t [-0.02830155  1.24499348]\t 42.63973921760034\t 4.475608269502271\t    \t    \n",
            "init\t [ 5.07965622 12.09890697]\t 131.17235664506808\t 4.475608269502271\t    \t    \n",
            "init\t [9.74112872 9.53491102]\t 46.84458913925112\t 4.475608269502271\t    \t    \n",
            "\u001b[1m\u001b[92m1\u001b[0m\t \u001b[1m\u001b[92m[9.57054653 2.03489665]\u001b[0m\t \u001b[1m\u001b[92m0.8198597583535783\u001b[0m\t \u001b[1m\u001b[92m0.8198597583535783\u001b[0m\t \u001b[1m\u001b[92m4.484380377136809\u001b[0m\t \u001b[1m\u001b[92m4.4191398862311475\u001b[0m\n",
            "2  \t [5.03077312 4.64729248]\t 24.460797393473307\t 0.8198597583535783\t 1.2739300535480347\t 0.5403441727766556\n",
            "3  \t [0.20107266 7.62370777]\t 23.16644757636532\t 0.8198597583535783\t 1.273927588153038\t 0.5403167397073474\n",
            "4  \t [ 0.09562252 15.        ]\t 103.29917138491766\t 0.8198597583535783\t 1.2739245602064833\t 0.5403387160529388\n",
            "5  \t [10. 15.]\t 145.87219087939556\t 0.8198597583535783\t 1.2739220163266223\t 0.5315936016986214\n",
            "6  \t [5.76502136 0.        ]\t 19.591995850394127\t 0.8198597583535783\t 1.273780011793166\t 0.5216861596864514\n",
            "7  \t [-5.  0.]\t 308.12909601160663\t 0.8198597583535783\t 1.2720695546116583\t 0.5197457737443559\n",
            "8  \t [-5.          6.28808919]\t 131.51785785414725\t 0.8198597583535783\t 1.2739228653361367\t 0.5396788657898238\n",
            "9  \t [4.65863248 8.10578883]\t 54.59624846537711\t 0.8198597583535783\t 1.2411677502865672\t 0.4904420372584667\n",
            "10 \t [10.          5.20984852]\t 6.813512606487913\t 0.8198597583535783\t 1.2710118617044504\t 0.5364931208812169\n",
            "11 \t [ 0.23236245 11.10727736]\t 49.2662554469767\t 0.8198597583535783\t 1.2378826444026945\t 0.4961412493925903\n",
            "12 \t [9.10410543 0.03660365]\t 5.6449422844163415\t 0.8198597583535783\t 1.2166880568307843\t 0.4723637734109319\n",
            "13 \t [7.78332077 3.21082841]\t 13.819188923453073\t 0.8198597583535783\t 1.1596918243660514\t 0.36602998115635976\n",
            "14 \t [-3.20852295  9.37713538]\t 9.778659280304918\t 0.8198597583535783\t 1.0258308850980475\t 0.2268654494133947\n",
            "15 \t [-3.66648234 14.10096019]\t 1.9703012804676767\t 0.8198597583535783\t 1.2202313868148278\t 0.4361709153730282\n",
            "16 \t [1.82994204 4.23826446]\t 8.05509237199721\t 0.8198597583535783\t 1.1903869211433191\t 0.42225119886339657\n",
            "17 \t [3.26348285 1.49272908]\t 0.9440337939764696\t 0.8198597583535783\t 1.1041308720390834\t 0.25779935295228057\n",
            "18 \t [7.6004046  7.06204549]\t 44.85297730090831\t 0.8198597583535783\t 1.0354895821029968\t 0.2562533037477371\n",
            "19 \t [ 8.69925413 11.95601084]\t 103.31688204880545\t 0.8198597583535783\t 0.6558773730221334\t 0.23850526998054364\n",
            "20 \t [-1.71598966  5.4522955 ]\t 22.000374329630393\t 0.8198597583535783\t 0.9914138448261437\t 0.24275740652695782\n"
          ]
        }
      ],
      "source": [
        "### Bayesian optimisation runs (x20): 'GP dEI' Acquisition Function run number = 19 \n",
        "\n",
        "np.random.seed(run_num_19)\n",
        "surrogate_exact_19 = dGaussianProcess(cov_func, optimize=hyperOpt)\n",
        "\n",
        "exact_19 = GPGO_exact(surrogate_exact_19, Acquisition_grad(util), f_syn_polarity, param, n_jobs = -1) # Define BayesOpt\n",
        "exact_19.run(max_iter = max_iter, init_evals = n_init) # run\n"
      ]
    },
    {
      "cell_type": "code",
      "execution_count": 52,
      "metadata": {
        "id": "4O6_IplWJLlJ",
        "colab": {
          "base_uri": "https://localhost:8080/"
        },
        "outputId": "5d55b898-3b15-4dca-9f73-c5972fdc18ca"
      },
      "outputs": [
        {
          "output_type": "stream",
          "name": "stdout",
          "text": [
            "Evaluation \t Proposed point \t  Current eval. \t  Best eval. \t         GP dEI: maximum y \t GP dEI: exploit\n",
            "init\t [ 3.82196202 13.46570592]\t 138.5264349938869\t 14.042667401507376\t    \t    \n",
            "init\t [ 8.37296094 12.23756216]\t 115.63178540512689\t 14.042667401507376\t    \t    \n",
            "init\t [-4.46165622 10.37636373]\t 35.66708529307584\t 14.042667401507376\t    \t    \n",
            "init\t [0.68021413 7.77766418]\t 25.307769914281764\t 14.042667401507376\t    \t    \n",
            "init\t [4.86927198 2.90775327]\t 14.042667401507376\t 14.042667401507376\t    \t    \n",
            "1  \t [-5.  0.]\t 308.12909601160663\t 14.042667401507376\t 14.042667391507678\t 14.042667391491946\n",
            "\u001b[1m\u001b[92m2\u001b[0m\t \u001b[1m\u001b[92m[10.          5.49820193]\u001b[0m\t \u001b[1m\u001b[92m8.169389869926185\u001b[0m\t \u001b[1m\u001b[92m8.169389869926185\u001b[0m\t \u001b[1m\u001b[92m14.042666918413207\u001b[0m\t \u001b[1m\u001b[92m14.042666918414772\u001b[0m\n",
            "3  \t [0.61138061 0.18064926]\t 41.819817406212465\t 8.169389869926185\t 8.169357898860278\t 8.169116967176258\n",
            "4  \t [-1.2637238 15.       ]\t 58.90356087528688\t 8.169389869926185\t 8.169399645127884\t 8.169209582792323\n",
            "5  \t [-4.79483707  5.40415968]\t 136.16520405222136\t 8.169389869926185\t 8.169258523243595\t 8.169055325017752\n",
            "\u001b[1m\u001b[92m6\u001b[0m\t \u001b[1m\u001b[92m[9.09543778 0.72705293]\u001b[0m\t \u001b[1m\u001b[92m3.1166558164350517\u001b[0m\t \u001b[1m\u001b[92m3.1166558164350517\u001b[0m\t \u001b[1m\u001b[92m8.169282533664703\u001b[0m\t \u001b[1m\u001b[92m8.169063133670178\u001b[0m\n",
            "7  \t [6.2877259  7.03753344]\t 54.854569106195044\t 3.1166558164350517\t 3.166221188810351\t 2.929263845252849\n",
            "8  \t [-0.32754319 11.25902138]\t 41.40648193276813\t 3.1166558164350517\t 3.1316424004778907\t 2.885388474556693\n",
            "9  \t [-0.43666184  4.01206985]\t 26.031856556415313\t 3.1166558164350517\t 3.1534021004465584\t 2.907546747565591\n",
            "10 \t [5.55724611 0.        ]\t 18.492151482084402\t 3.1166558164350517\t 3.089845607663869\t 2.6081585828247147\n",
            "11 \t [10.          8.68787681]\t 34.26145842986103\t 3.1166558164350517\t 3.1110182061370626\t 2.856557611892755\n",
            "12 \t [3.5530158  9.63175124]\t 59.8094589777487\t 3.1166558164350517\t 3.0694852484029145\t 2.8121974105788574\n",
            "13 \t [8.01437616 3.29934291]\t 11.553758918487631\t 3.1166558164350517\t 3.0413082488695418\t 2.7587327199327487\n",
            "14 \t [2.81703956 5.43654928]\t 9.279256796734517\t 3.1166558164350517\t 3.015403654597703\t 1.9635775266667563\n",
            "15 \t [10. 15.]\t 145.87219087939556\t 3.1166558164350517\t 2.8528829075364714\t 2.548746061957897\n",
            "16 \t [-1.95810036  7.24732044]\t 11.963763723982527\t 3.1166558164350517\t 2.626147398278906\t 2.247179455963353\n",
            "17 \t [6.67280468 4.20427796]\t 28.321284339165146\t 3.1166558164350517\t 1.075423262692722\t 1.4326072426850591\n",
            "18 \t [-3.96224483 13.2823961 ]\t 4.560160747973746\t 3.1166558164350517\t 2.786894129460972\t 2.4673494594770906\n",
            "\u001b[1m\u001b[92m19\u001b[0m\t \u001b[1m\u001b[92m[2.60106723 2.30398717]\u001b[0m\t \u001b[1m\u001b[92m1.951929253660607\u001b[0m\t \u001b[1m\u001b[92m1.951929253660607\u001b[0m\t \u001b[1m\u001b[92m2.4551254756418213\u001b[0m\t \u001b[1m\u001b[92m1.5500662257355393\u001b[0m\n",
            "20 \t [2.22842663 2.93857546]\t 4.155201227936435\t 1.951929253660607\t 1.2084511528681676\t 0.5295765847854267\n"
          ]
        }
      ],
      "source": [
        "### Bayesian optimisation runs (x20): 'GP dEI' Acquisition Function run number = 20 \n",
        "\n",
        "np.random.seed(run_num_20)\n",
        "surrogate_exact_20 = dGaussianProcess(cov_func, optimize=hyperOpt)\n",
        "\n",
        "exact_20 = GPGO_exact(surrogate_exact_20, Acquisition_grad(util), f_syn_polarity, param, n_jobs = -1) # Define BayesOpt\n",
        "exact_20.run(max_iter = max_iter, init_evals = n_init) # run\n"
      ]
    },
    {
      "cell_type": "code",
      "execution_count": 53,
      "metadata": {
        "id": "B9S2UvZ9JLlK",
        "colab": {
          "base_uri": "https://localhost:8080/"
        },
        "outputId": "b87d62c7-882e-4d27-d1ab-7789fd002511"
      },
      "outputs": [
        {
          "output_type": "execute_result",
          "data": {
            "text/plain": [
              "(1.494850319962892, 1.4126163322006093)"
            ]
          },
          "metadata": {},
          "execution_count": 53
        }
      ],
      "source": [
        "### Simple regret minimisation: run number = 1\n",
        "\n",
        "approx_output_1 = np.append(np.max(approx_1.GP.y[0:n_init]),approx_1.GP.y[n_init:(n_init+max_iter)]) \n",
        "exact_output_1 = np.append(np.max(exact_1.GP.y[0:n_init]),exact_1.GP.y[n_init:(n_init+max_iter)]) \n",
        "\n",
        "regret_approx_1 = np.log(y_global_orig - approx_output_1)\n",
        "regret_exact_1 = np.log(y_global_orig - exact_output_1)\n",
        "\n",
        "simple_regret_approx_1 = min_array(regret_approx_1)\n",
        "simple_regret_exact_1 = min_array(regret_exact_1)\n",
        "\n",
        "min_simple_regret_approx_1 = min(simple_regret_approx_1)\n",
        "min_simple_regret_exact_1 = min(simple_regret_exact_1)\n",
        "\n",
        "min_simple_regret_approx_1, min_simple_regret_exact_1\n"
      ]
    },
    {
      "cell_type": "code",
      "execution_count": 54,
      "metadata": {
        "id": "adGcU8l5JLlK",
        "colab": {
          "base_uri": "https://localhost:8080/"
        },
        "outputId": "411ca3d5-b5ad-4a45-c1fd-3ca9df7cb103"
      },
      "outputs": [
        {
          "output_type": "execute_result",
          "data": {
            "text/plain": [
              "(0.0005721783316311656, -0.4683609617144654)"
            ]
          },
          "metadata": {},
          "execution_count": 54
        }
      ],
      "source": [
        "### Simple regret minimisation: run number = 2\n",
        "\n",
        "approx_output_2 = np.append(np.max(approx_2.GP.y[0:n_init]),approx_2.GP.y[n_init:(n_init+max_iter)]) \n",
        "exact_output_2 = np.append(np.max(exact_2.GP.y[0:n_init]),exact_2.GP.y[n_init:(n_init+max_iter)]) \n",
        "\n",
        "regret_approx_2 = np.log(y_global_orig - approx_output_2)\n",
        "regret_exact_2 = np.log(y_global_orig - exact_output_2)\n",
        "\n",
        "simple_regret_approx_2 = min_array(regret_approx_2)\n",
        "simple_regret_exact_2 = min_array(regret_exact_2)\n",
        "\n",
        "min_simple_regret_approx_2 = min(simple_regret_approx_2)\n",
        "min_simple_regret_exact_2 = min(simple_regret_exact_2)\n",
        "\n",
        "min_simple_regret_approx_2, min_simple_regret_exact_2\n"
      ]
    },
    {
      "cell_type": "code",
      "execution_count": 55,
      "metadata": {
        "id": "1F9LaViaJLlL",
        "colab": {
          "base_uri": "https://localhost:8080/"
        },
        "outputId": "41310fbc-990a-4558-dcf0-433e0ac7e041"
      },
      "outputs": [
        {
          "output_type": "execute_result",
          "data": {
            "text/plain": [
              "(1.0416914731710387, 1.164129196584808)"
            ]
          },
          "metadata": {},
          "execution_count": 55
        }
      ],
      "source": [
        "### Simple regret minimisation: run number = 3\n",
        "\n",
        "approx_output_3 = np.append(np.max(approx_3.GP.y[0:n_init]),approx_3.GP.y[n_init:(n_init+max_iter)]) \n",
        "exact_output_3 = np.append(np.max(exact_3.GP.y[0:n_init]),exact_3.GP.y[n_init:(n_init+max_iter)]) \n",
        "\n",
        "regret_approx_3 = np.log(y_global_orig - approx_output_3)\n",
        "regret_exact_3 = np.log(y_global_orig - exact_output_3)\n",
        "\n",
        "simple_regret_approx_3 = min_array(regret_approx_3)\n",
        "simple_regret_exact_3 = min_array(regret_exact_3)\n",
        "\n",
        "min_simple_regret_approx_3 = min(simple_regret_approx_3)\n",
        "min_simple_regret_exact_3 = min(simple_regret_exact_3)\n",
        "\n",
        "min_simple_regret_approx_3, min_simple_regret_exact_3\n"
      ]
    },
    {
      "cell_type": "code",
      "execution_count": 56,
      "metadata": {
        "id": "vThMylZmJLlL",
        "colab": {
          "base_uri": "https://localhost:8080/"
        },
        "outputId": "2eba06b4-a02c-4b27-aaec-b6c7d24246c1"
      },
      "outputs": [
        {
          "output_type": "execute_result",
          "data": {
            "text/plain": [
              "(-1.6231328232201476, -0.6218785690047403)"
            ]
          },
          "metadata": {},
          "execution_count": 56
        }
      ],
      "source": [
        "### Simple regret minimisation: run number = 4\n",
        "\n",
        "approx_output_4 = np.append(np.max(approx_4.GP.y[0:n_init]),approx_4.GP.y[n_init:(n_init+max_iter)]) \n",
        "exact_output_4 = np.append(np.max(exact_4.GP.y[0:n_init]),exact_4.GP.y[n_init:(n_init+max_iter)]) \n",
        "\n",
        "regret_approx_4 = np.log(y_global_orig - approx_output_4)\n",
        "regret_exact_4 = np.log(y_global_orig - exact_output_4)\n",
        "\n",
        "simple_regret_approx_4 = min_array(regret_approx_4)\n",
        "simple_regret_exact_4 = min_array(regret_exact_4)\n",
        "\n",
        "min_simple_regret_approx_4 = min(simple_regret_approx_4)\n",
        "min_simple_regret_exact_4 = min(simple_regret_exact_4)\n",
        "\n",
        "min_simple_regret_approx_4, min_simple_regret_exact_4\n"
      ]
    },
    {
      "cell_type": "code",
      "execution_count": 57,
      "metadata": {
        "id": "9Um6_WG7JLlM",
        "colab": {
          "base_uri": "https://localhost:8080/"
        },
        "outputId": "eab366e5-bc70-4fbc-9da8-1c51cad91776"
      },
      "outputs": [
        {
          "output_type": "execute_result",
          "data": {
            "text/plain": [
              "(0.8523502042428276, -3.7276820293567514)"
            ]
          },
          "metadata": {},
          "execution_count": 57
        }
      ],
      "source": [
        "### Simple regret minimisation: run number = 5\n",
        "\n",
        "approx_output_5 = np.append(np.max(approx_5.GP.y[0:n_init]),approx_5.GP.y[n_init:(n_init+max_iter)]) \n",
        "exact_output_5 = np.append(np.max(exact_5.GP.y[0:n_init]),exact_5.GP.y[n_init:(n_init+max_iter)]) \n",
        "\n",
        "regret_approx_5 = np.log(y_global_orig - approx_output_5)\n",
        "regret_exact_5 = np.log(y_global_orig - exact_output_5)\n",
        "\n",
        "simple_regret_approx_5 = min_array(regret_approx_5)\n",
        "simple_regret_exact_5 = min_array(regret_exact_5)\n",
        "\n",
        "min_simple_regret_approx_5 = min(simple_regret_approx_5)\n",
        "min_simple_regret_exact_5 = min(simple_regret_exact_5)\n",
        "\n",
        "min_simple_regret_approx_5, min_simple_regret_exact_5\n"
      ]
    },
    {
      "cell_type": "code",
      "execution_count": 58,
      "metadata": {
        "id": "s7F8Y3b9JLlM",
        "colab": {
          "base_uri": "https://localhost:8080/"
        },
        "outputId": "cdcd5dcf-a58c-4bb4-93cd-c00ba5bde4ba"
      },
      "outputs": [
        {
          "output_type": "execute_result",
          "data": {
            "text/plain": [
              "(-1.9052643768006903, -0.4275476630166717)"
            ]
          },
          "metadata": {},
          "execution_count": 58
        }
      ],
      "source": [
        "### Simple regret minimisation: run number = 6\n",
        "\n",
        "approx_output_6 = np.append(np.max(approx_6.GP.y[0:n_init]),approx_6.GP.y[n_init:(n_init+max_iter)]) \n",
        "exact_output_6 = np.append(np.max(exact_6.GP.y[0:n_init]),exact_6.GP.y[n_init:(n_init+max_iter)]) \n",
        "\n",
        "regret_approx_6 = np.log(y_global_orig - approx_output_6)\n",
        "regret_exact_6 = np.log(y_global_orig - exact_output_6)\n",
        "\n",
        "simple_regret_approx_6 = min_array(regret_approx_6)\n",
        "simple_regret_exact_6 = min_array(regret_exact_6)\n",
        "\n",
        "min_simple_regret_approx_6 = min(simple_regret_approx_6)\n",
        "min_simple_regret_exact_6 = min(simple_regret_exact_6)\n",
        "\n",
        "min_simple_regret_approx_6, min_simple_regret_exact_6\n"
      ]
    },
    {
      "cell_type": "code",
      "execution_count": 59,
      "metadata": {
        "id": "FbMNex-gJLlN",
        "colab": {
          "base_uri": "https://localhost:8080/"
        },
        "outputId": "02a12d9c-b2d9-48f7-ef38-766caa43769f"
      },
      "outputs": [
        {
          "output_type": "execute_result",
          "data": {
            "text/plain": [
              "(0.786802785982127, 0.8035858166782609)"
            ]
          },
          "metadata": {},
          "execution_count": 59
        }
      ],
      "source": [
        "### Simple regret minimisation: run number = 7\n",
        "\n",
        "approx_output_7 = np.append(np.max(approx_7.GP.y[0:n_init]),approx_7.GP.y[n_init:(n_init+max_iter)]) \n",
        "exact_output_7 = np.append(np.max(exact_7.GP.y[0:n_init]),exact_7.GP.y[n_init:(n_init+max_iter)]) \n",
        "\n",
        "regret_approx_7 = np.log(y_global_orig - approx_output_7)\n",
        "regret_exact_7 = np.log(y_global_orig - exact_output_7)\n",
        "\n",
        "simple_regret_approx_7 = min_array(regret_approx_7)\n",
        "simple_regret_exact_7 = min_array(regret_exact_7)\n",
        "\n",
        "min_simple_regret_approx_7 = min(simple_regret_approx_7)\n",
        "min_simple_regret_exact_7 = min(simple_regret_exact_7)\n",
        "\n",
        "min_simple_regret_approx_7, min_simple_regret_exact_7\n"
      ]
    },
    {
      "cell_type": "code",
      "execution_count": 60,
      "metadata": {
        "id": "yTxbjos2JLlN",
        "colab": {
          "base_uri": "https://localhost:8080/"
        },
        "outputId": "abdb809b-22a9-431d-d131-74c35701b791"
      },
      "outputs": [
        {
          "output_type": "execute_result",
          "data": {
            "text/plain": [
              "(1.8085201290028612, 1.1849445155103453)"
            ]
          },
          "metadata": {},
          "execution_count": 60
        }
      ],
      "source": [
        "### Simple regret minimisation: run number = 8\n",
        "\n",
        "approx_output_8 = np.append(np.max(approx_8.GP.y[0:n_init]),approx_8.GP.y[n_init:(n_init+max_iter)]) \n",
        "exact_output_8 = np.append(np.max(exact_8.GP.y[0:n_init]),exact_8.GP.y[n_init:(n_init+max_iter)]) \n",
        "\n",
        "regret_approx_8 = np.log(y_global_orig - approx_output_8)\n",
        "regret_exact_8 = np.log(y_global_orig - exact_output_8)\n",
        "\n",
        "simple_regret_approx_8 = min_array(regret_approx_8)\n",
        "simple_regret_exact_8 = min_array(regret_exact_8)\n",
        "\n",
        "min_simple_regret_approx_8 = min(simple_regret_approx_8)\n",
        "min_simple_regret_exact_8 = min(simple_regret_exact_8)\n",
        "\n",
        "min_simple_regret_approx_8, min_simple_regret_exact_8\n"
      ]
    },
    {
      "cell_type": "code",
      "execution_count": 61,
      "metadata": {
        "id": "iBuMpq59JLlO",
        "colab": {
          "base_uri": "https://localhost:8080/"
        },
        "outputId": "c4c78253-0396-4c94-e5a6-dfb85e303cfe"
      },
      "outputs": [
        {
          "output_type": "execute_result",
          "data": {
            "text/plain": [
              "(0.58909769360436, 0.9209595469246515)"
            ]
          },
          "metadata": {},
          "execution_count": 61
        }
      ],
      "source": [
        "### Simple regret minimisation: run number = 9\n",
        "\n",
        "approx_output_9 = np.append(np.max(approx_9.GP.y[0:n_init]),approx_9.GP.y[n_init:(n_init+max_iter)]) \n",
        "exact_output_9 = np.append(np.max(exact_9.GP.y[0:n_init]),exact_9.GP.y[n_init:(n_init+max_iter)]) \n",
        "\n",
        "regret_approx_9 = np.log(y_global_orig - approx_output_9)\n",
        "regret_exact_9 = np.log(y_global_orig - exact_output_9)\n",
        "\n",
        "simple_regret_approx_9 = min_array(regret_approx_9)\n",
        "simple_regret_exact_9 = min_array(regret_exact_9)\n",
        "\n",
        "min_simple_regret_approx_9 = min(simple_regret_approx_9)\n",
        "min_simple_regret_exact_9 = min(simple_regret_exact_9)\n",
        "\n",
        "min_simple_regret_approx_9, min_simple_regret_exact_9\n"
      ]
    },
    {
      "cell_type": "code",
      "execution_count": 62,
      "metadata": {
        "id": "MT-MYaKEJLlO",
        "colab": {
          "base_uri": "https://localhost:8080/"
        },
        "outputId": "94ead94d-fe5f-4b85-e0e1-019bdcdda3e5"
      },
      "outputs": [
        {
          "output_type": "execute_result",
          "data": {
            "text/plain": [
              "(0.6062840276442628, 0.4448402062315973)"
            ]
          },
          "metadata": {},
          "execution_count": 62
        }
      ],
      "source": [
        "### Simple regret minimisation: run number = 10\n",
        "\n",
        "approx_output_10 = np.append(np.max(approx_10.GP.y[0:n_init]),approx_10.GP.y[n_init:(n_init+max_iter)]) \n",
        "exact_output_10 = np.append(np.max(exact_10.GP.y[0:n_init]),exact_10.GP.y[n_init:(n_init+max_iter)]) \n",
        "\n",
        "regret_approx_10 = np.log(y_global_orig - approx_output_10)\n",
        "regret_exact_10 = np.log(y_global_orig - exact_output_10)\n",
        "\n",
        "simple_regret_approx_10 = min_array(regret_approx_10)\n",
        "simple_regret_exact_10 = min_array(regret_exact_10)\n",
        "\n",
        "min_simple_regret_approx_10 = min(simple_regret_approx_10)\n",
        "min_simple_regret_exact_10 = min(simple_regret_exact_10)\n",
        "\n",
        "min_simple_regret_approx_10, min_simple_regret_exact_10\n"
      ]
    },
    {
      "cell_type": "code",
      "execution_count": 63,
      "metadata": {
        "id": "JgXNMHBOJLlP",
        "colab": {
          "base_uri": "https://localhost:8080/"
        },
        "outputId": "8fcc301d-a99c-4cc7-e12d-378f0ff4f052"
      },
      "outputs": [
        {
          "output_type": "execute_result",
          "data": {
            "text/plain": [
              "(-0.5207449290394924, -0.1604760823663512)"
            ]
          },
          "metadata": {},
          "execution_count": 63
        }
      ],
      "source": [
        "### Simple regret minimisation: run number = 11\n",
        "\n",
        "approx_output_11 = np.append(np.max(approx_11.GP.y[0:n_init]),approx_11.GP.y[n_init:(n_init+max_iter)]) \n",
        "exact_output_11 = np.append(np.max(exact_11.GP.y[0:n_init]),exact_11.GP.y[n_init:(n_init+max_iter)]) \n",
        "\n",
        "regret_approx_11 = np.log(y_global_orig - approx_output_11)\n",
        "regret_exact_11 = np.log(y_global_orig - exact_output_11)\n",
        "\n",
        "simple_regret_approx_11 = min_array(regret_approx_11)\n",
        "simple_regret_exact_11 = min_array(regret_exact_11)\n",
        "\n",
        "min_simple_regret_approx_11 = min(simple_regret_approx_11)\n",
        "min_simple_regret_exact_11 = min(simple_regret_exact_11)\n",
        "\n",
        "min_simple_regret_approx_11, min_simple_regret_exact_11\n"
      ]
    },
    {
      "cell_type": "code",
      "execution_count": 64,
      "metadata": {
        "id": "CNvnLAXOJLlQ",
        "colab": {
          "base_uri": "https://localhost:8080/"
        },
        "outputId": "e50f64f3-83f2-4caa-e357-331fc2d507eb"
      },
      "outputs": [
        {
          "output_type": "execute_result",
          "data": {
            "text/plain": [
              "(-1.8835818529313322, -1.8835818529313322)"
            ]
          },
          "metadata": {},
          "execution_count": 64
        }
      ],
      "source": [
        "### Simple regret minimisation: run number = 12\n",
        "\n",
        "approx_output_12 = np.append(np.max(approx_12.GP.y[0:n_init]),approx_12.GP.y[n_init:(n_init+max_iter)]) \n",
        "exact_output_12 = np.append(np.max(exact_12.GP.y[0:n_init]),exact_12.GP.y[n_init:(n_init+max_iter)]) \n",
        "\n",
        "regret_approx_12 = np.log(y_global_orig - approx_output_12)\n",
        "regret_exact_12 = np.log(y_global_orig - exact_output_12)\n",
        "\n",
        "simple_regret_approx_12 = min_array(regret_approx_12)\n",
        "simple_regret_exact_12 = min_array(regret_exact_12)\n",
        "\n",
        "min_simple_regret_approx_12 = min(simple_regret_approx_12)\n",
        "min_simple_regret_exact_12 = min(simple_regret_exact_12)\n",
        "\n",
        "min_simple_regret_approx_12, min_simple_regret_exact_12\n"
      ]
    },
    {
      "cell_type": "code",
      "execution_count": 65,
      "metadata": {
        "id": "LccPP2SJJLlQ",
        "colab": {
          "base_uri": "https://localhost:8080/"
        },
        "outputId": "c3c6a324-3924-4fdf-8fe0-ee7835e77e7c"
      },
      "outputs": [
        {
          "output_type": "execute_result",
          "data": {
            "text/plain": [
              "(0.4933987297393712, -1.8980258931472425)"
            ]
          },
          "metadata": {},
          "execution_count": 65
        }
      ],
      "source": [
        "### Simple regret minimisation: run number = 13\n",
        "\n",
        "approx_output_13 = np.append(np.max(approx_13.GP.y[0:n_init]),approx_13.GP.y[n_init:(n_init+max_iter)]) \n",
        "exact_output_13 = np.append(np.max(exact_13.GP.y[0:n_init]),exact_13.GP.y[n_init:(n_init+max_iter)]) \n",
        "\n",
        "regret_approx_13 = np.log(y_global_orig - approx_output_13)\n",
        "regret_exact_13 = np.log(y_global_orig - exact_output_13)\n",
        "\n",
        "simple_regret_approx_13 = min_array(regret_approx_13)\n",
        "simple_regret_exact_13 = min_array(regret_exact_13)\n",
        "\n",
        "min_simple_regret_approx_13 = min(simple_regret_approx_13)\n",
        "min_simple_regret_exact_13 = min(simple_regret_exact_13)\n",
        "\n",
        "min_simple_regret_approx_13, min_simple_regret_exact_13\n"
      ]
    },
    {
      "cell_type": "code",
      "execution_count": 66,
      "metadata": {
        "id": "OsCDbV_CJLlR",
        "colab": {
          "base_uri": "https://localhost:8080/"
        },
        "outputId": "2649d2c1-b6b7-4475-f549-647257a8cecd"
      },
      "outputs": [
        {
          "output_type": "execute_result",
          "data": {
            "text/plain": [
              "(0.016960358935887654, 0.016960358935887654)"
            ]
          },
          "metadata": {},
          "execution_count": 66
        }
      ],
      "source": [
        "### Simple regret minimisation: run number = 14\n",
        "\n",
        "approx_output_14 = np.append(np.max(approx_14.GP.y[0:n_init]),approx_14.GP.y[n_init:(n_init+max_iter)]) \n",
        "exact_output_14 = np.append(np.max(exact_14.GP.y[0:n_init]),exact_14.GP.y[n_init:(n_init+max_iter)]) \n",
        "\n",
        "regret_approx_14 = np.log(y_global_orig - approx_output_14)\n",
        "regret_exact_14 = np.log(y_global_orig - exact_output_14)\n",
        "\n",
        "simple_regret_approx_14 = min_array(regret_approx_14)\n",
        "simple_regret_exact_14 = min_array(regret_exact_14)\n",
        "\n",
        "min_simple_regret_approx_14 = min(simple_regret_approx_14)\n",
        "min_simple_regret_exact_14 = min(simple_regret_exact_14)\n",
        "\n",
        "min_simple_regret_approx_14, min_simple_regret_exact_14\n"
      ]
    },
    {
      "cell_type": "code",
      "execution_count": 67,
      "metadata": {
        "id": "HVNGSKzNJLlR",
        "colab": {
          "base_uri": "https://localhost:8080/"
        },
        "outputId": "53c55948-0f62-4e7e-9bdf-2e7591549c13"
      },
      "outputs": [
        {
          "output_type": "execute_result",
          "data": {
            "text/plain": [
              "(1.1189581410547993, 0.8098759117076586)"
            ]
          },
          "metadata": {},
          "execution_count": 67
        }
      ],
      "source": [
        "### Simple regret minimisation: run number = 15\n",
        "\n",
        "approx_output_15 = np.append(np.max(approx_15.GP.y[0:n_init]),approx_15.GP.y[n_init:(n_init+max_iter)]) \n",
        "exact_output_15 = np.append(np.max(exact_15.GP.y[0:n_init]),exact_15.GP.y[n_init:(n_init+max_iter)]) \n",
        "\n",
        "regret_approx_15 = np.log(y_global_orig - approx_output_15)\n",
        "regret_exact_15 = np.log(y_global_orig - exact_output_15)\n",
        "\n",
        "simple_regret_approx_15 = min_array(regret_approx_15)\n",
        "simple_regret_exact_15 = min_array(regret_exact_15)\n",
        "\n",
        "min_simple_regret_approx_15 = min(simple_regret_approx_15)\n",
        "min_simple_regret_exact_15 = min(simple_regret_exact_15)\n",
        "\n",
        "min_simple_regret_approx_15, min_simple_regret_exact_15\n"
      ]
    },
    {
      "cell_type": "code",
      "execution_count": 68,
      "metadata": {
        "id": "vFT0-DcpJLlS",
        "colab": {
          "base_uri": "https://localhost:8080/"
        },
        "outputId": "0784d9b1-c0d9-4545-b24e-c5fc6005ba75"
      },
      "outputs": [
        {
          "output_type": "execute_result",
          "data": {
            "text/plain": [
              "(0.8406948255363631, 0.8406948255363631)"
            ]
          },
          "metadata": {},
          "execution_count": 68
        }
      ],
      "source": [
        "### Simple regret minimisation: run number = 16\n",
        "\n",
        "approx_output_16 = np.append(np.max(approx_16.GP.y[0:n_init]),approx_16.GP.y[n_init:(n_init+max_iter)]) \n",
        "exact_output_16 = np.append(np.max(exact_16.GP.y[0:n_init]),exact_16.GP.y[n_init:(n_init+max_iter)]) \n",
        "\n",
        "regret_approx_16 = np.log(y_global_orig - approx_output_16)\n",
        "regret_exact_16 = np.log(y_global_orig - exact_output_16)\n",
        "\n",
        "simple_regret_approx_16 = min_array(regret_approx_16)\n",
        "simple_regret_exact_16 = min_array(regret_exact_16)\n",
        "\n",
        "min_simple_regret_approx_16 = min(simple_regret_approx_16)\n",
        "min_simple_regret_exact_16 = min(simple_regret_exact_16)\n",
        "\n",
        "min_simple_regret_approx_16, min_simple_regret_exact_16\n"
      ]
    },
    {
      "cell_type": "code",
      "execution_count": 69,
      "metadata": {
        "id": "TPbl73U3JLlS",
        "colab": {
          "base_uri": "https://localhost:8080/"
        },
        "outputId": "a98daf81-241e-4ea5-ab66-579c11aeba1b"
      },
      "outputs": [
        {
          "output_type": "execute_result",
          "data": {
            "text/plain": [
              "(0.48250411714932395, 0.3736586777309336)"
            ]
          },
          "metadata": {},
          "execution_count": 69
        }
      ],
      "source": [
        "### Simple regret minimisation: run number = 17\n",
        "\n",
        "approx_output_17 = np.append(np.max(approx_17.GP.y[0:n_init]),approx_17.GP.y[n_init:(n_init+max_iter)]) \n",
        "exact_output_17 = np.append(np.max(exact_17.GP.y[0:n_init]),exact_17.GP.y[n_init:(n_init+max_iter)]) \n",
        "\n",
        "regret_approx_17 = np.log(y_global_orig - approx_output_17)\n",
        "regret_exact_17 = np.log(y_global_orig - exact_output_17)\n",
        "\n",
        "simple_regret_approx_17 = min_array(regret_approx_17)\n",
        "simple_regret_exact_17 = min_array(regret_exact_17)\n",
        "\n",
        "min_simple_regret_approx_17 = min(simple_regret_approx_17)\n",
        "min_simple_regret_exact_17 = min(simple_regret_exact_17)\n",
        "\n",
        "min_simple_regret_approx_17, min_simple_regret_exact_17\n"
      ]
    },
    {
      "cell_type": "code",
      "execution_count": 70,
      "metadata": {
        "id": "ANjpLP7uJLlT",
        "colab": {
          "base_uri": "https://localhost:8080/"
        },
        "outputId": "739dcf36-2e39-4677-c02f-470fe31ae7ce"
      },
      "outputs": [
        {
          "output_type": "execute_result",
          "data": {
            "text/plain": [
              "(1.2124191246575124, 0.9861761147798177)"
            ]
          },
          "metadata": {},
          "execution_count": 70
        }
      ],
      "source": [
        "### Simple regret minimisation: run number = 18\n",
        "\n",
        "approx_output_18 = np.append(np.max(approx_18.GP.y[0:n_init]),approx_18.GP.y[n_init:(n_init+max_iter)]) \n",
        "exact_output_18 = np.append(np.max(exact_18.GP.y[0:n_init]),exact_18.GP.y[n_init:(n_init+max_iter)]) \n",
        "\n",
        "regret_approx_18 = np.log(y_global_orig - approx_output_18)\n",
        "regret_exact_18 = np.log(y_global_orig - exact_output_18)\n",
        "\n",
        "simple_regret_approx_18 = min_array(regret_approx_18)\n",
        "simple_regret_exact_18 = min_array(regret_exact_18)\n",
        "\n",
        "min_simple_regret_approx_18 = min(simple_regret_approx_18)\n",
        "min_simple_regret_exact_18 = min(simple_regret_exact_18)\n",
        "\n",
        "min_simple_regret_approx_18, min_simple_regret_exact_18\n"
      ]
    },
    {
      "cell_type": "code",
      "execution_count": 71,
      "metadata": {
        "id": "yYy7bHMOJLlT",
        "colab": {
          "base_uri": "https://localhost:8080/"
        },
        "outputId": "982e81b0-dd1f-433f-ecd0-8a30bd0872d6"
      },
      "outputs": [
        {
          "output_type": "execute_result",
          "data": {
            "text/plain": [
              "(-4.114542976529597, -0.8628145206943092)"
            ]
          },
          "metadata": {},
          "execution_count": 71
        }
      ],
      "source": [
        "### Simple regret minimisation: run number = 19\n",
        "\n",
        "approx_output_19 = np.append(np.max(approx_19.GP.y[0:n_init]),approx_19.GP.y[n_init:(n_init+max_iter)]) \n",
        "exact_output_19 = np.append(np.max(exact_19.GP.y[0:n_init]),exact_19.GP.y[n_init:(n_init+max_iter)]) \n",
        "\n",
        "regret_approx_19 = np.log(y_global_orig - approx_output_19)\n",
        "regret_exact_19 = np.log(y_global_orig - exact_output_19)\n",
        "\n",
        "simple_regret_approx_19 = min_array(regret_approx_19)\n",
        "simple_regret_exact_19 = min_array(regret_exact_19)\n",
        "\n",
        "min_simple_regret_approx_19 = min(simple_regret_approx_19)\n",
        "min_simple_regret_exact_19 = min(simple_regret_exact_19)\n",
        "\n",
        "min_simple_regret_approx_19, min_simple_regret_exact_19\n"
      ]
    },
    {
      "cell_type": "code",
      "execution_count": 72,
      "metadata": {
        "id": "7h8DTQ7MJLlU",
        "colab": {
          "base_uri": "https://localhost:8080/"
        },
        "outputId": "6e9f05e2-00fe-46aa-9f08-23747d9ff289"
      },
      "outputs": [
        {
          "output_type": "execute_result",
          "data": {
            "text/plain": [
              "(1.731344480393983, 0.44085944183359826)"
            ]
          },
          "metadata": {},
          "execution_count": 72
        }
      ],
      "source": [
        "### Simple regret minimisation: run number = 20\n",
        "\n",
        "approx_output_20 = np.append(np.max(approx_20.GP.y[0:n_init]),approx_20.GP.y[n_init:(n_init+max_iter)]) \n",
        "exact_output_20 = np.append(np.max(exact_20.GP.y[0:n_init]),exact_20.GP.y[n_init:(n_init+max_iter)]) \n",
        "\n",
        "regret_approx_20 = np.log(y_global_orig - approx_output_20)\n",
        "regret_exact_20 = np.log(y_global_orig - exact_output_20)\n",
        "\n",
        "simple_regret_approx_20 = min_array(regret_approx_20)\n",
        "simple_regret_exact_20 = min_array(regret_exact_20)\n",
        "\n",
        "min_simple_regret_approx_20 = min(simple_regret_approx_20)\n",
        "min_simple_regret_exact_20 = min(simple_regret_exact_20)\n",
        "\n",
        "min_simple_regret_approx_20, min_simple_regret_exact_20\n"
      ]
    },
    {
      "cell_type": "code",
      "execution_count": 73,
      "metadata": {
        "id": "FuTVzVQkJLlU"
      },
      "outputs": [],
      "source": [
        "# Iteration1 :\n",
        "\n",
        "slice1 = 0\n",
        "\n",
        "approx1 = [simple_regret_approx_1[slice1],\n",
        "       simple_regret_approx_2[slice1],\n",
        "       simple_regret_approx_3[slice1],\n",
        "       simple_regret_approx_4[slice1],\n",
        "       simple_regret_approx_5[slice1],\n",
        "       simple_regret_approx_6[slice1],\n",
        "       simple_regret_approx_7[slice1],\n",
        "       simple_regret_approx_8[slice1],\n",
        "       simple_regret_approx_9[slice1],\n",
        "       simple_regret_approx_10[slice1],\n",
        "       simple_regret_approx_11[slice1],\n",
        "       simple_regret_approx_12[slice1],\n",
        "       simple_regret_approx_13[slice1],\n",
        "       simple_regret_approx_14[slice1],\n",
        "       simple_regret_approx_15[slice1],\n",
        "       simple_regret_approx_16[slice1],\n",
        "       simple_regret_approx_17[slice1],\n",
        "       simple_regret_approx_18[slice1],\n",
        "       simple_regret_approx_19[slice1],\n",
        "       simple_regret_approx_20[slice1]]\n",
        "\n",
        "exact1 = [simple_regret_exact_1[slice1],\n",
        "       simple_regret_exact_2[slice1],\n",
        "       simple_regret_exact_3[slice1],\n",
        "       simple_regret_exact_4[slice1],\n",
        "       simple_regret_exact_5[slice1],\n",
        "       simple_regret_exact_6[slice1],\n",
        "       simple_regret_exact_7[slice1],\n",
        "       simple_regret_exact_8[slice1],\n",
        "       simple_regret_exact_9[slice1],\n",
        "       simple_regret_exact_10[slice1],\n",
        "       simple_regret_exact_11[slice1],\n",
        "       simple_regret_exact_12[slice1],\n",
        "       simple_regret_exact_13[slice1],\n",
        "       simple_regret_exact_14[slice1],\n",
        "       simple_regret_exact_15[slice1],\n",
        "       simple_regret_exact_16[slice1],\n",
        "       simple_regret_exact_17[slice1],\n",
        "       simple_regret_exact_18[slice1],\n",
        "       simple_regret_exact_19[slice1],\n",
        "       simple_regret_exact_20[slice1]]\n",
        "\n",
        "approx1_results = pd.DataFrame(approx1).sort_values(by=[0], ascending=False)\n",
        "exact1_results = pd.DataFrame(exact1).sort_values(by=[0], ascending=False)\n",
        "\n",
        "### Best simple regret minimization IQR - approx:\n",
        "lower_approx1 = np.asarray(approx1_results[4:5][0])[0]\n",
        "median_approx1 = np.asarray(approx1_results[9:10][0])[0]\n",
        "upper_approx1 = np.asarray(approx1_results[14:15][0])[0]\n",
        "\n",
        "lower_exact1 = np.asarray(exact1_results[4:5][0])[0]\n",
        "median_exact1 = np.asarray(exact1_results[9:10][0])[0]\n",
        "upper_exact1 = np.asarray(exact1_results[14:15][0])[0]\n"
      ]
    },
    {
      "cell_type": "code",
      "execution_count": 74,
      "metadata": {
        "id": "OCTtqlBHJLlV"
      },
      "outputs": [],
      "source": [
        "# Iteration11 :\n",
        "\n",
        "slice11 = 10\n",
        "\n",
        "approx11 = [simple_regret_approx_1[slice11],\n",
        "       simple_regret_approx_2[slice11],\n",
        "       simple_regret_approx_3[slice11],\n",
        "       simple_regret_approx_4[slice11],\n",
        "       simple_regret_approx_5[slice11],\n",
        "       simple_regret_approx_6[slice11],\n",
        "       simple_regret_approx_7[slice11],\n",
        "       simple_regret_approx_8[slice11],\n",
        "       simple_regret_approx_9[slice11],\n",
        "       simple_regret_approx_10[slice11],\n",
        "       simple_regret_approx_11[slice11],\n",
        "       simple_regret_approx_12[slice11],\n",
        "       simple_regret_approx_13[slice11],\n",
        "       simple_regret_approx_14[slice11],\n",
        "       simple_regret_approx_15[slice11],\n",
        "       simple_regret_approx_16[slice11],\n",
        "       simple_regret_approx_17[slice11],\n",
        "       simple_regret_approx_18[slice11],\n",
        "       simple_regret_approx_19[slice11],\n",
        "       simple_regret_approx_20[slice11]]\n",
        "\n",
        "exact11 = [simple_regret_exact_1[slice11],\n",
        "       simple_regret_exact_2[slice11],\n",
        "       simple_regret_exact_3[slice11],\n",
        "       simple_regret_exact_4[slice11],\n",
        "       simple_regret_exact_5[slice11],\n",
        "       simple_regret_exact_6[slice11],\n",
        "       simple_regret_exact_7[slice11],\n",
        "       simple_regret_exact_8[slice11],\n",
        "       simple_regret_exact_9[slice11],\n",
        "       simple_regret_exact_10[slice11],\n",
        "       simple_regret_exact_11[slice11],\n",
        "       simple_regret_exact_12[slice11],\n",
        "       simple_regret_exact_13[slice11],\n",
        "       simple_regret_exact_14[slice11],\n",
        "       simple_regret_exact_15[slice11],\n",
        "       simple_regret_exact_16[slice11],\n",
        "       simple_regret_exact_17[slice11],\n",
        "       simple_regret_exact_18[slice11],\n",
        "       simple_regret_exact_19[slice11],\n",
        "       simple_regret_exact_20[slice11]]\n",
        "\n",
        "approx11_results = pd.DataFrame(approx11).sort_values(by=[0], ascending=False)\n",
        "exact11_results = pd.DataFrame(exact11).sort_values(by=[0], ascending=False)\n",
        "\n",
        "### Best simple regret minimization IQR - approx:\n",
        "lower_approx11 = np.asarray(approx11_results[4:5][0])[0]\n",
        "median_approx11 = np.asarray(approx11_results[9:10][0])[0]\n",
        "upper_approx11 = np.asarray(approx11_results[14:15][0])[0]\n",
        "\n",
        "lower_exact11 = np.asarray(exact11_results[4:5][0])[0]\n",
        "median_exact11 = np.asarray(exact11_results[9:10][0])[0]\n",
        "upper_exact11 = np.asarray(exact11_results[14:15][0])[0]\n"
      ]
    },
    {
      "cell_type": "code",
      "execution_count": 75,
      "metadata": {
        "id": "OhneK6K5JLlV"
      },
      "outputs": [],
      "source": [
        "# Iteration21 :\n",
        "\n",
        "slice21 = 20\n",
        "\n",
        "approx21 = [simple_regret_approx_1[slice21],\n",
        "       simple_regret_approx_2[slice21],\n",
        "       simple_regret_approx_3[slice21],\n",
        "       simple_regret_approx_4[slice21],\n",
        "       simple_regret_approx_5[slice21],\n",
        "       simple_regret_approx_6[slice21],\n",
        "       simple_regret_approx_7[slice21],\n",
        "       simple_regret_approx_8[slice21],\n",
        "       simple_regret_approx_9[slice21],\n",
        "       simple_regret_approx_10[slice21],\n",
        "       simple_regret_approx_11[slice21],\n",
        "       simple_regret_approx_12[slice21],\n",
        "       simple_regret_approx_13[slice21],\n",
        "       simple_regret_approx_14[slice21],\n",
        "       simple_regret_approx_15[slice21],\n",
        "       simple_regret_approx_16[slice21],\n",
        "       simple_regret_approx_17[slice21],\n",
        "       simple_regret_approx_18[slice21],\n",
        "       simple_regret_approx_19[slice21],\n",
        "       simple_regret_approx_20[slice21]]\n",
        "\n",
        "exact21 = [simple_regret_exact_1[slice21],\n",
        "       simple_regret_exact_2[slice21],\n",
        "       simple_regret_exact_3[slice21],\n",
        "       simple_regret_exact_4[slice21],\n",
        "       simple_regret_exact_5[slice21],\n",
        "       simple_regret_exact_6[slice21],\n",
        "       simple_regret_exact_7[slice21],\n",
        "       simple_regret_exact_8[slice21],\n",
        "       simple_regret_exact_9[slice21],\n",
        "       simple_regret_exact_10[slice21],\n",
        "       simple_regret_exact_11[slice21],\n",
        "       simple_regret_exact_12[slice21],\n",
        "       simple_regret_exact_13[slice21],\n",
        "       simple_regret_exact_14[slice21],\n",
        "       simple_regret_exact_15[slice21],\n",
        "       simple_regret_exact_16[slice21],\n",
        "       simple_regret_exact_17[slice21],\n",
        "       simple_regret_exact_18[slice21],\n",
        "       simple_regret_exact_19[slice21],\n",
        "       simple_regret_exact_20[slice21]]\n",
        "\n",
        "approx21_results = pd.DataFrame(approx21).sort_values(by=[0], ascending=False)\n",
        "exact21_results = pd.DataFrame(exact21).sort_values(by=[0], ascending=False)\n",
        "\n",
        "### Best simple regret minimization IQR - approx:\n",
        "lower_approx21 = np.asarray(approx21_results[4:5][0])[0]\n",
        "median_approx21 = np.asarray(approx21_results[9:10][0])[0]\n",
        "upper_approx21 = np.asarray(approx21_results[14:15][0])[0]\n",
        "\n",
        "lower_exact21 = np.asarray(exact21_results[4:5][0])[0]\n",
        "median_exact21 = np.asarray(exact21_results[9:10][0])[0]\n",
        "upper_exact21 = np.asarray(exact21_results[14:15][0])[0]\n"
      ]
    },
    {
      "cell_type": "code",
      "execution_count": 76,
      "metadata": {
        "id": "wetKUCmLJLlb"
      },
      "outputs": [],
      "source": [
        "# Iteration2 :\n",
        "\n",
        "slice2 = 1\n",
        "\n",
        "approx2 = [simple_regret_approx_1[slice2],\n",
        "       simple_regret_approx_2[slice2],\n",
        "       simple_regret_approx_3[slice2],\n",
        "       simple_regret_approx_4[slice2],\n",
        "       simple_regret_approx_5[slice2],\n",
        "       simple_regret_approx_6[slice2],\n",
        "       simple_regret_approx_7[slice2],\n",
        "       simple_regret_approx_8[slice2],\n",
        "       simple_regret_approx_9[slice2],\n",
        "       simple_regret_approx_10[slice2],\n",
        "       simple_regret_approx_11[slice2],\n",
        "       simple_regret_approx_12[slice2],\n",
        "       simple_regret_approx_13[slice2],\n",
        "       simple_regret_approx_14[slice2],\n",
        "       simple_regret_approx_15[slice2],\n",
        "       simple_regret_approx_16[slice2],\n",
        "       simple_regret_approx_17[slice2],\n",
        "       simple_regret_approx_18[slice2],\n",
        "       simple_regret_approx_19[slice2],\n",
        "       simple_regret_approx_20[slice2]]\n",
        "\n",
        "exact2 = [simple_regret_exact_1[slice2],\n",
        "       simple_regret_exact_2[slice2],\n",
        "       simple_regret_exact_3[slice2],\n",
        "       simple_regret_exact_4[slice2],\n",
        "       simple_regret_exact_5[slice2],\n",
        "       simple_regret_exact_6[slice2],\n",
        "       simple_regret_exact_7[slice2],\n",
        "       simple_regret_exact_8[slice2],\n",
        "       simple_regret_exact_9[slice2],\n",
        "       simple_regret_exact_10[slice2],\n",
        "       simple_regret_exact_11[slice2],\n",
        "       simple_regret_exact_12[slice2],\n",
        "       simple_regret_exact_13[slice2],\n",
        "       simple_regret_exact_14[slice2],\n",
        "       simple_regret_exact_15[slice2],\n",
        "       simple_regret_exact_16[slice2],\n",
        "       simple_regret_exact_17[slice2],\n",
        "       simple_regret_exact_18[slice2],\n",
        "       simple_regret_exact_19[slice2],\n",
        "       simple_regret_exact_20[slice2]]\n",
        "\n",
        "approx2_results = pd.DataFrame(approx2).sort_values(by=[0], ascending=False)\n",
        "exact2_results = pd.DataFrame(exact2).sort_values(by=[0], ascending=False)\n",
        "\n",
        "### Best simple regret minimization IQR - approx:\n",
        "lower_approx2 = np.asarray(approx2_results[4:5][0])[0]\n",
        "median_approx2 = np.asarray(approx2_results[9:10][0])[0]\n",
        "upper_approx2 = np.asarray(approx2_results[14:15][0])[0]\n",
        "\n",
        "lower_exact2 = np.asarray(exact2_results[4:5][0])[0]\n",
        "median_exact2 = np.asarray(exact2_results[9:10][0])[0]\n",
        "upper_exact2 = np.asarray(exact2_results[14:15][0])[0]\n"
      ]
    },
    {
      "cell_type": "code",
      "execution_count": 77,
      "metadata": {
        "id": "8dIyaTLKJLlc"
      },
      "outputs": [],
      "source": [
        "# Iteration12 :\n",
        "\n",
        "slice12 = 11\n",
        "\n",
        "approx12 = [simple_regret_approx_1[slice12],\n",
        "       simple_regret_approx_2[slice12],\n",
        "       simple_regret_approx_3[slice12],\n",
        "       simple_regret_approx_4[slice12],\n",
        "       simple_regret_approx_5[slice12],\n",
        "       simple_regret_approx_6[slice12],\n",
        "       simple_regret_approx_7[slice12],\n",
        "       simple_regret_approx_8[slice12],\n",
        "       simple_regret_approx_9[slice12],\n",
        "       simple_regret_approx_10[slice12],\n",
        "       simple_regret_approx_11[slice12],\n",
        "       simple_regret_approx_12[slice12],\n",
        "       simple_regret_approx_13[slice12],\n",
        "       simple_regret_approx_14[slice12],\n",
        "       simple_regret_approx_15[slice12],\n",
        "       simple_regret_approx_16[slice12],\n",
        "       simple_regret_approx_17[slice12],\n",
        "       simple_regret_approx_18[slice12],\n",
        "       simple_regret_approx_19[slice12],\n",
        "       simple_regret_approx_20[slice12]]\n",
        "\n",
        "exact12 = [simple_regret_exact_1[slice12],\n",
        "       simple_regret_exact_2[slice12],\n",
        "       simple_regret_exact_3[slice12],\n",
        "       simple_regret_exact_4[slice12],\n",
        "       simple_regret_exact_5[slice12],\n",
        "       simple_regret_exact_6[slice12],\n",
        "       simple_regret_exact_7[slice12],\n",
        "       simple_regret_exact_8[slice12],\n",
        "       simple_regret_exact_9[slice12],\n",
        "       simple_regret_exact_10[slice12],\n",
        "       simple_regret_exact_11[slice12],\n",
        "       simple_regret_exact_12[slice12],\n",
        "       simple_regret_exact_13[slice12],\n",
        "       simple_regret_exact_14[slice12],\n",
        "       simple_regret_exact_15[slice12],\n",
        "       simple_regret_exact_16[slice12],\n",
        "       simple_regret_exact_17[slice12],\n",
        "       simple_regret_exact_18[slice12],\n",
        "       simple_regret_exact_19[slice12],\n",
        "       simple_regret_exact_20[slice12]]\n",
        "\n",
        "approx12_results = pd.DataFrame(approx12).sort_values(by=[0], ascending=False)\n",
        "exact12_results = pd.DataFrame(exact12).sort_values(by=[0], ascending=False)\n",
        "\n",
        "### Best simple regret minimization IQR - approx:\n",
        "lower_approx12 = np.asarray(approx12_results[4:5][0])[0]\n",
        "median_approx12 = np.asarray(approx12_results[9:10][0])[0]\n",
        "upper_approx12 = np.asarray(approx12_results[14:15][0])[0]\n",
        "\n",
        "lower_exact12 = np.asarray(exact12_results[4:5][0])[0]\n",
        "median_exact12 = np.asarray(exact12_results[9:10][0])[0]\n",
        "upper_exact12 = np.asarray(exact12_results[14:15][0])[0]\n"
      ]
    },
    {
      "cell_type": "code",
      "execution_count": 78,
      "metadata": {
        "id": "1_6u8LF1JLlt"
      },
      "outputs": [],
      "source": [
        "# Iteration3 :\n",
        "\n",
        "slice3 = 2\n",
        "\n",
        "approx3 = [simple_regret_approx_1[slice3],\n",
        "       simple_regret_approx_2[slice3],\n",
        "       simple_regret_approx_3[slice3],\n",
        "       simple_regret_approx_4[slice3],\n",
        "       simple_regret_approx_5[slice3],\n",
        "       simple_regret_approx_6[slice3],\n",
        "       simple_regret_approx_7[slice3],\n",
        "       simple_regret_approx_8[slice3],\n",
        "       simple_regret_approx_9[slice3],\n",
        "       simple_regret_approx_10[slice3],\n",
        "       simple_regret_approx_11[slice3],\n",
        "       simple_regret_approx_12[slice3],\n",
        "       simple_regret_approx_13[slice3],\n",
        "       simple_regret_approx_14[slice3],\n",
        "       simple_regret_approx_15[slice3],\n",
        "       simple_regret_approx_16[slice3],\n",
        "       simple_regret_approx_17[slice3],\n",
        "       simple_regret_approx_18[slice3],\n",
        "       simple_regret_approx_19[slice3],\n",
        "       simple_regret_approx_20[slice3]]\n",
        "\n",
        "exact3 = [simple_regret_exact_1[slice3],\n",
        "       simple_regret_exact_2[slice3],\n",
        "       simple_regret_exact_3[slice3],\n",
        "       simple_regret_exact_4[slice3],\n",
        "       simple_regret_exact_5[slice3],\n",
        "       simple_regret_exact_6[slice3],\n",
        "       simple_regret_exact_7[slice3],\n",
        "       simple_regret_exact_8[slice3],\n",
        "       simple_regret_exact_9[slice3],\n",
        "       simple_regret_exact_10[slice3],\n",
        "       simple_regret_exact_11[slice3],\n",
        "       simple_regret_exact_12[slice3],\n",
        "       simple_regret_exact_13[slice3],\n",
        "       simple_regret_exact_14[slice3],\n",
        "       simple_regret_exact_15[slice3],\n",
        "       simple_regret_exact_16[slice3],\n",
        "       simple_regret_exact_17[slice3],\n",
        "       simple_regret_exact_18[slice3],\n",
        "       simple_regret_exact_19[slice3],\n",
        "       simple_regret_exact_20[slice3]]\n",
        "\n",
        "approx3_results = pd.DataFrame(approx3).sort_values(by=[0], ascending=False)\n",
        "exact3_results = pd.DataFrame(exact3).sort_values(by=[0], ascending=False)\n",
        "\n",
        "### Best simple regret minimization IQR - approx:\n",
        "lower_approx3 = np.asarray(approx3_results[4:5][0])[0]\n",
        "median_approx3 = np.asarray(approx3_results[9:10][0])[0]\n",
        "upper_approx3 = np.asarray(approx3_results[14:15][0])[0]\n",
        "\n",
        "lower_exact3 = np.asarray(exact3_results[4:5][0])[0]\n",
        "median_exact3 = np.asarray(exact3_results[9:10][0])[0]\n",
        "upper_exact3 = np.asarray(exact3_results[14:15][0])[0]\n"
      ]
    },
    {
      "cell_type": "code",
      "execution_count": 79,
      "metadata": {
        "id": "GGEAa73pJLlu"
      },
      "outputs": [],
      "source": [
        "# Iteration13 :\n",
        "\n",
        "slice13 = 12\n",
        "\n",
        "approx13 = [simple_regret_approx_1[slice13],\n",
        "       simple_regret_approx_2[slice13],\n",
        "       simple_regret_approx_3[slice13],\n",
        "       simple_regret_approx_4[slice13],\n",
        "       simple_regret_approx_5[slice13],\n",
        "       simple_regret_approx_6[slice13],\n",
        "       simple_regret_approx_7[slice13],\n",
        "       simple_regret_approx_8[slice13],\n",
        "       simple_regret_approx_9[slice13],\n",
        "       simple_regret_approx_10[slice13],\n",
        "       simple_regret_approx_11[slice13],\n",
        "       simple_regret_approx_12[slice13],\n",
        "       simple_regret_approx_13[slice13],\n",
        "       simple_regret_approx_14[slice13],\n",
        "       simple_regret_approx_15[slice13],\n",
        "       simple_regret_approx_16[slice13],\n",
        "       simple_regret_approx_17[slice13],\n",
        "       simple_regret_approx_18[slice13],\n",
        "       simple_regret_approx_19[slice13],\n",
        "       simple_regret_approx_20[slice13]]\n",
        "\n",
        "exact13 = [simple_regret_exact_1[slice13],\n",
        "       simple_regret_exact_2[slice13],\n",
        "       simple_regret_exact_3[slice13],\n",
        "       simple_regret_exact_4[slice13],\n",
        "       simple_regret_exact_5[slice13],\n",
        "       simple_regret_exact_6[slice13],\n",
        "       simple_regret_exact_7[slice13],\n",
        "       simple_regret_exact_8[slice13],\n",
        "       simple_regret_exact_9[slice13],\n",
        "       simple_regret_exact_10[slice13],\n",
        "       simple_regret_exact_11[slice13],\n",
        "       simple_regret_exact_12[slice13],\n",
        "       simple_regret_exact_13[slice13],\n",
        "       simple_regret_exact_14[slice13],\n",
        "       simple_regret_exact_15[slice13],\n",
        "       simple_regret_exact_16[slice13],\n",
        "       simple_regret_exact_17[slice13],\n",
        "       simple_regret_exact_18[slice13],\n",
        "       simple_regret_exact_19[slice13],\n",
        "       simple_regret_exact_20[slice13]]\n",
        "\n",
        "approx13_results = pd.DataFrame(approx13).sort_values(by=[0], ascending=False)\n",
        "exact13_results = pd.DataFrame(exact13).sort_values(by=[0], ascending=False)\n",
        "\n",
        "### Best simple regret minimization IQR - approx:\n",
        "lower_approx13 = np.asarray(approx13_results[4:5][0])[0]\n",
        "median_approx13 = np.asarray(approx13_results[9:10][0])[0]\n",
        "upper_approx13 = np.asarray(approx13_results[14:15][0])[0]\n",
        "\n",
        "lower_exact13 = np.asarray(exact13_results[4:5][0])[0]\n",
        "median_exact13 = np.asarray(exact13_results[9:10][0])[0]\n",
        "upper_exact13 = np.asarray(exact13_results[14:15][0])[0]\n"
      ]
    },
    {
      "cell_type": "code",
      "execution_count": 80,
      "metadata": {
        "id": "T30xLxygJLl0"
      },
      "outputs": [],
      "source": [
        "# Iteration4 :\n",
        "\n",
        "slice4 = 3\n",
        "\n",
        "approx4 = [simple_regret_approx_1[slice4],\n",
        "       simple_regret_approx_2[slice4],\n",
        "       simple_regret_approx_3[slice4],\n",
        "       simple_regret_approx_4[slice4],\n",
        "       simple_regret_approx_5[slice4],\n",
        "       simple_regret_approx_6[slice4],\n",
        "       simple_regret_approx_7[slice4],\n",
        "       simple_regret_approx_8[slice4],\n",
        "       simple_regret_approx_9[slice4],\n",
        "       simple_regret_approx_10[slice4],\n",
        "       simple_regret_approx_11[slice4],\n",
        "       simple_regret_approx_12[slice4],\n",
        "       simple_regret_approx_13[slice4],\n",
        "       simple_regret_approx_14[slice4],\n",
        "       simple_regret_approx_15[slice4],\n",
        "       simple_regret_approx_16[slice4],\n",
        "       simple_regret_approx_17[slice4],\n",
        "       simple_regret_approx_18[slice4],\n",
        "       simple_regret_approx_19[slice4],\n",
        "       simple_regret_approx_20[slice4]]\n",
        "\n",
        "exact4 = [simple_regret_exact_1[slice4],\n",
        "       simple_regret_exact_2[slice4],\n",
        "       simple_regret_exact_3[slice4],\n",
        "       simple_regret_exact_4[slice4],\n",
        "       simple_regret_exact_5[slice4],\n",
        "       simple_regret_exact_6[slice4],\n",
        "       simple_regret_exact_7[slice4],\n",
        "       simple_regret_exact_8[slice4],\n",
        "       simple_regret_exact_9[slice4],\n",
        "       simple_regret_exact_10[slice4],\n",
        "       simple_regret_exact_11[slice4],\n",
        "       simple_regret_exact_12[slice4],\n",
        "       simple_regret_exact_13[slice4],\n",
        "       simple_regret_exact_14[slice4],\n",
        "       simple_regret_exact_15[slice4],\n",
        "       simple_regret_exact_16[slice4],\n",
        "       simple_regret_exact_17[slice4],\n",
        "       simple_regret_exact_18[slice4],\n",
        "       simple_regret_exact_19[slice4],\n",
        "       simple_regret_exact_20[slice4]]\n",
        "\n",
        "approx4_results = pd.DataFrame(approx4).sort_values(by=[0], ascending=False)\n",
        "exact4_results = pd.DataFrame(exact4).sort_values(by=[0], ascending=False)\n",
        "\n",
        "### Best simple regret minimization IQR - approx:\n",
        "lower_approx4 = np.asarray(approx4_results[4:5][0])[0]\n",
        "median_approx4 = np.asarray(approx4_results[9:10][0])[0]\n",
        "upper_approx4 = np.asarray(approx4_results[14:15][0])[0]\n",
        "\n",
        "lower_exact4 = np.asarray(exact4_results[4:5][0])[0]\n",
        "median_exact4 = np.asarray(exact4_results[9:10][0])[0]\n",
        "upper_exact4 = np.asarray(exact4_results[14:15][0])[0]\n"
      ]
    },
    {
      "cell_type": "code",
      "execution_count": 81,
      "metadata": {
        "id": "MQ-jpNrnJLl1"
      },
      "outputs": [],
      "source": [
        "# Iteration14 :\n",
        "\n",
        "slice14 = 13\n",
        "\n",
        "approx14 = [simple_regret_approx_1[slice14],\n",
        "       simple_regret_approx_2[slice14],\n",
        "       simple_regret_approx_3[slice14],\n",
        "       simple_regret_approx_4[slice14],\n",
        "       simple_regret_approx_5[slice14],\n",
        "       simple_regret_approx_6[slice14],\n",
        "       simple_regret_approx_7[slice14],\n",
        "       simple_regret_approx_8[slice14],\n",
        "       simple_regret_approx_9[slice14],\n",
        "       simple_regret_approx_10[slice14],\n",
        "       simple_regret_approx_11[slice14],\n",
        "       simple_regret_approx_12[slice14],\n",
        "       simple_regret_approx_13[slice14],\n",
        "       simple_regret_approx_14[slice14],\n",
        "       simple_regret_approx_15[slice14],\n",
        "       simple_regret_approx_16[slice14],\n",
        "       simple_regret_approx_17[slice14],\n",
        "       simple_regret_approx_18[slice14],\n",
        "       simple_regret_approx_19[slice14],\n",
        "       simple_regret_approx_20[slice14]]\n",
        "\n",
        "exact14 = [simple_regret_exact_1[slice14],\n",
        "       simple_regret_exact_2[slice14],\n",
        "       simple_regret_exact_3[slice14],\n",
        "       simple_regret_exact_4[slice14],\n",
        "       simple_regret_exact_5[slice14],\n",
        "       simple_regret_exact_6[slice14],\n",
        "       simple_regret_exact_7[slice14],\n",
        "       simple_regret_exact_8[slice14],\n",
        "       simple_regret_exact_9[slice14],\n",
        "       simple_regret_exact_10[slice14],\n",
        "       simple_regret_exact_11[slice14],\n",
        "       simple_regret_exact_12[slice14],\n",
        "       simple_regret_exact_13[slice14],\n",
        "       simple_regret_exact_14[slice14],\n",
        "       simple_regret_exact_15[slice14],\n",
        "       simple_regret_exact_16[slice14],\n",
        "       simple_regret_exact_17[slice14],\n",
        "       simple_regret_exact_18[slice14],\n",
        "       simple_regret_exact_19[slice14],\n",
        "       simple_regret_exact_20[slice14]]\n",
        "\n",
        "approx14_results = pd.DataFrame(approx14).sort_values(by=[0], ascending=False)\n",
        "exact14_results = pd.DataFrame(exact14).sort_values(by=[0], ascending=False)\n",
        "\n",
        "### Best simple regret minimization IQR - approx:\n",
        "lower_approx14 = np.asarray(approx14_results[4:5][0])[0]\n",
        "median_approx14 = np.asarray(approx14_results[9:10][0])[0]\n",
        "upper_approx14 = np.asarray(approx14_results[14:15][0])[0]\n",
        "\n",
        "lower_exact14 = np.asarray(exact14_results[4:5][0])[0]\n",
        "median_exact14 = np.asarray(exact14_results[9:10][0])[0]\n",
        "upper_exact14 = np.asarray(exact14_results[14:15][0])[0]\n"
      ]
    },
    {
      "cell_type": "code",
      "execution_count": 82,
      "metadata": {
        "id": "Xhy_AN9jJLl9"
      },
      "outputs": [],
      "source": [
        "# Iteration5 :\n",
        "\n",
        "slice5 = 4\n",
        "\n",
        "approx5 = [simple_regret_approx_1[slice5],\n",
        "       simple_regret_approx_2[slice5],\n",
        "       simple_regret_approx_3[slice5],\n",
        "       simple_regret_approx_4[slice5],\n",
        "       simple_regret_approx_5[slice5],\n",
        "       simple_regret_approx_6[slice5],\n",
        "       simple_regret_approx_7[slice5],\n",
        "       simple_regret_approx_8[slice5],\n",
        "       simple_regret_approx_9[slice5],\n",
        "       simple_regret_approx_10[slice5],\n",
        "       simple_regret_approx_11[slice5],\n",
        "       simple_regret_approx_12[slice5],\n",
        "       simple_regret_approx_13[slice5],\n",
        "       simple_regret_approx_14[slice5],\n",
        "       simple_regret_approx_15[slice5],\n",
        "       simple_regret_approx_16[slice5],\n",
        "       simple_regret_approx_17[slice5],\n",
        "       simple_regret_approx_18[slice5],\n",
        "       simple_regret_approx_19[slice5],\n",
        "       simple_regret_approx_20[slice5]]\n",
        "\n",
        "exact5 = [simple_regret_exact_1[slice5],\n",
        "       simple_regret_exact_2[slice5],\n",
        "       simple_regret_exact_3[slice5],\n",
        "       simple_regret_exact_4[slice5],\n",
        "       simple_regret_exact_5[slice5],\n",
        "       simple_regret_exact_6[slice5],\n",
        "       simple_regret_exact_7[slice5],\n",
        "       simple_regret_exact_8[slice5],\n",
        "       simple_regret_exact_9[slice5],\n",
        "       simple_regret_exact_10[slice5],\n",
        "       simple_regret_exact_11[slice5],\n",
        "       simple_regret_exact_12[slice5],\n",
        "       simple_regret_exact_13[slice5],\n",
        "       simple_regret_exact_14[slice5],\n",
        "       simple_regret_exact_15[slice5],\n",
        "       simple_regret_exact_16[slice5],\n",
        "       simple_regret_exact_17[slice5],\n",
        "       simple_regret_exact_18[slice5],\n",
        "       simple_regret_exact_19[slice5],\n",
        "       simple_regret_exact_20[slice5]]\n",
        "\n",
        "approx5_results = pd.DataFrame(approx5).sort_values(by=[0], ascending=False)\n",
        "exact5_results = pd.DataFrame(exact5).sort_values(by=[0], ascending=False)\n",
        "\n",
        "### Best simple regret minimization IQR - approx:\n",
        "lower_approx5 = np.asarray(approx5_results[4:5][0])[0]\n",
        "median_approx5 = np.asarray(approx5_results[9:10][0])[0]\n",
        "upper_approx5 = np.asarray(approx5_results[14:15][0])[0]\n",
        "\n",
        "lower_exact5 = np.asarray(exact5_results[4:5][0])[0]\n",
        "median_exact5 = np.asarray(exact5_results[9:10][0])[0]\n",
        "upper_exact5 = np.asarray(exact5_results[14:15][0])[0]\n"
      ]
    },
    {
      "cell_type": "code",
      "execution_count": 83,
      "metadata": {
        "id": "WHbtLHnbJLl-"
      },
      "outputs": [],
      "source": [
        "# Iteration15 :\n",
        "\n",
        "slice15 = 14\n",
        "\n",
        "approx15 = [simple_regret_approx_1[slice15],\n",
        "       simple_regret_approx_2[slice15],\n",
        "       simple_regret_approx_3[slice15],\n",
        "       simple_regret_approx_4[slice15],\n",
        "       simple_regret_approx_5[slice15],\n",
        "       simple_regret_approx_6[slice15],\n",
        "       simple_regret_approx_7[slice15],\n",
        "       simple_regret_approx_8[slice15],\n",
        "       simple_regret_approx_9[slice15],\n",
        "       simple_regret_approx_10[slice15],\n",
        "       simple_regret_approx_11[slice15],\n",
        "       simple_regret_approx_12[slice15],\n",
        "       simple_regret_approx_13[slice15],\n",
        "       simple_regret_approx_14[slice15],\n",
        "       simple_regret_approx_15[slice15],\n",
        "       simple_regret_approx_16[slice15],\n",
        "       simple_regret_approx_17[slice15],\n",
        "       simple_regret_approx_18[slice15],\n",
        "       simple_regret_approx_19[slice15],\n",
        "       simple_regret_approx_20[slice15]]\n",
        "\n",
        "exact15 = [simple_regret_exact_1[slice15],\n",
        "       simple_regret_exact_2[slice15],\n",
        "       simple_regret_exact_3[slice15],\n",
        "       simple_regret_exact_4[slice15],\n",
        "       simple_regret_exact_5[slice15],\n",
        "       simple_regret_exact_6[slice15],\n",
        "       simple_regret_exact_7[slice15],\n",
        "       simple_regret_exact_8[slice15],\n",
        "       simple_regret_exact_9[slice15],\n",
        "       simple_regret_exact_10[slice15],\n",
        "       simple_regret_exact_11[slice15],\n",
        "       simple_regret_exact_12[slice15],\n",
        "       simple_regret_exact_13[slice15],\n",
        "       simple_regret_exact_14[slice15],\n",
        "       simple_regret_exact_15[slice15],\n",
        "       simple_regret_exact_16[slice15],\n",
        "       simple_regret_exact_17[slice15],\n",
        "       simple_regret_exact_18[slice15],\n",
        "       simple_regret_exact_19[slice15],\n",
        "       simple_regret_exact_20[slice15]]\n",
        "\n",
        "approx15_results = pd.DataFrame(approx15).sort_values(by=[0], ascending=False)\n",
        "exact15_results = pd.DataFrame(exact15).sort_values(by=[0], ascending=False)\n",
        "\n",
        "### Best simple regret minimization IQR - approx:\n",
        "lower_approx15 = np.asarray(approx15_results[4:5][0])[0]\n",
        "median_approx15 = np.asarray(approx15_results[9:10][0])[0]\n",
        "upper_approx15 = np.asarray(approx15_results[14:15][0])[0]\n",
        "\n",
        "lower_exact15 = np.asarray(exact15_results[4:5][0])[0]\n",
        "median_exact15 = np.asarray(exact15_results[9:10][0])[0]\n",
        "upper_exact15 = np.asarray(exact15_results[14:15][0])[0]\n"
      ]
    },
    {
      "cell_type": "code",
      "execution_count": 84,
      "metadata": {
        "id": "XqsNyHzqJLmC"
      },
      "outputs": [],
      "source": [
        "# Iteration6 :\n",
        "\n",
        "slice6 = 5\n",
        "\n",
        "approx6 = [simple_regret_approx_1[slice6],\n",
        "       simple_regret_approx_2[slice6],\n",
        "       simple_regret_approx_3[slice6],\n",
        "       simple_regret_approx_4[slice6],\n",
        "       simple_regret_approx_5[slice6],\n",
        "       simple_regret_approx_6[slice6],\n",
        "       simple_regret_approx_7[slice6],\n",
        "       simple_regret_approx_8[slice6],\n",
        "       simple_regret_approx_9[slice6],\n",
        "       simple_regret_approx_10[slice6],\n",
        "       simple_regret_approx_11[slice6],\n",
        "       simple_regret_approx_12[slice6],\n",
        "       simple_regret_approx_13[slice6],\n",
        "       simple_regret_approx_14[slice6],\n",
        "       simple_regret_approx_15[slice6],\n",
        "       simple_regret_approx_16[slice6],\n",
        "       simple_regret_approx_17[slice6],\n",
        "       simple_regret_approx_18[slice6],\n",
        "       simple_regret_approx_19[slice6],\n",
        "       simple_regret_approx_20[slice6]]\n",
        "\n",
        "exact6 = [simple_regret_exact_1[slice6],\n",
        "       simple_regret_exact_2[slice6],\n",
        "       simple_regret_exact_3[slice6],\n",
        "       simple_regret_exact_4[slice6],\n",
        "       simple_regret_exact_5[slice6],\n",
        "       simple_regret_exact_6[slice6],\n",
        "       simple_regret_exact_7[slice6],\n",
        "       simple_regret_exact_8[slice6],\n",
        "       simple_regret_exact_9[slice6],\n",
        "       simple_regret_exact_10[slice6],\n",
        "       simple_regret_exact_11[slice6],\n",
        "       simple_regret_exact_12[slice6],\n",
        "       simple_regret_exact_13[slice6],\n",
        "       simple_regret_exact_14[slice6],\n",
        "       simple_regret_exact_15[slice6],\n",
        "       simple_regret_exact_16[slice6],\n",
        "       simple_regret_exact_17[slice6],\n",
        "       simple_regret_exact_18[slice6],\n",
        "       simple_regret_exact_19[slice6],\n",
        "       simple_regret_exact_20[slice6]]\n",
        "\n",
        "approx6_results = pd.DataFrame(approx6).sort_values(by=[0], ascending=False)\n",
        "exact6_results = pd.DataFrame(exact6).sort_values(by=[0], ascending=False)\n",
        "\n",
        "### Best simple regret minimization IQR - approx:\n",
        "lower_approx6 = np.asarray(approx6_results[4:5][0])[0]\n",
        "median_approx6 = np.asarray(approx6_results[9:10][0])[0]\n",
        "upper_approx6 = np.asarray(approx6_results[14:15][0])[0]\n",
        "\n",
        "lower_exact6 = np.asarray(exact6_results[4:5][0])[0]\n",
        "median_exact6 = np.asarray(exact6_results[9:10][0])[0]\n",
        "upper_exact6 = np.asarray(exact6_results[14:15][0])[0]\n"
      ]
    },
    {
      "cell_type": "code",
      "execution_count": 85,
      "metadata": {
        "id": "V0-8P_clJLmD"
      },
      "outputs": [],
      "source": [
        "# Iteration16 :\n",
        "\n",
        "slice16 = 15\n",
        "\n",
        "approx16 = [simple_regret_approx_1[slice16],\n",
        "       simple_regret_approx_2[slice16],\n",
        "       simple_regret_approx_3[slice16],\n",
        "       simple_regret_approx_4[slice16],\n",
        "       simple_regret_approx_5[slice16],\n",
        "       simple_regret_approx_6[slice16],\n",
        "       simple_regret_approx_7[slice16],\n",
        "       simple_regret_approx_8[slice16],\n",
        "       simple_regret_approx_9[slice16],\n",
        "       simple_regret_approx_10[slice16],\n",
        "       simple_regret_approx_11[slice16],\n",
        "       simple_regret_approx_12[slice16],\n",
        "       simple_regret_approx_13[slice16],\n",
        "       simple_regret_approx_14[slice16],\n",
        "       simple_regret_approx_15[slice16],\n",
        "       simple_regret_approx_16[slice16],\n",
        "       simple_regret_approx_17[slice16],\n",
        "       simple_regret_approx_18[slice16],\n",
        "       simple_regret_approx_19[slice16],\n",
        "       simple_regret_approx_20[slice16]]\n",
        "\n",
        "exact16 = [simple_regret_exact_1[slice16],\n",
        "       simple_regret_exact_2[slice16],\n",
        "       simple_regret_exact_3[slice16],\n",
        "       simple_regret_exact_4[slice16],\n",
        "       simple_regret_exact_5[slice16],\n",
        "       simple_regret_exact_6[slice16],\n",
        "       simple_regret_exact_7[slice16],\n",
        "       simple_regret_exact_8[slice16],\n",
        "       simple_regret_exact_9[slice16],\n",
        "       simple_regret_exact_10[slice16],\n",
        "       simple_regret_exact_11[slice16],\n",
        "       simple_regret_exact_12[slice16],\n",
        "       simple_regret_exact_13[slice16],\n",
        "       simple_regret_exact_14[slice16],\n",
        "       simple_regret_exact_15[slice16],\n",
        "       simple_regret_exact_16[slice16],\n",
        "       simple_regret_exact_17[slice16],\n",
        "       simple_regret_exact_18[slice16],\n",
        "       simple_regret_exact_19[slice16],\n",
        "       simple_regret_exact_20[slice16]]\n",
        "\n",
        "approx16_results = pd.DataFrame(approx16).sort_values(by=[0], ascending=False)\n",
        "exact16_results = pd.DataFrame(exact16).sort_values(by=[0], ascending=False)\n",
        "\n",
        "### Best simple regret minimization IQR - approx:\n",
        "lower_approx16 = np.asarray(approx16_results[4:5][0])[0]\n",
        "median_approx16 = np.asarray(approx16_results[9:10][0])[0]\n",
        "upper_approx16 = np.asarray(approx16_results[14:15][0])[0]\n",
        "\n",
        "lower_exact16 = np.asarray(exact16_results[4:5][0])[0]\n",
        "median_exact16 = np.asarray(exact16_results[9:10][0])[0]\n",
        "upper_exact16 = np.asarray(exact16_results[14:15][0])[0]\n"
      ]
    },
    {
      "cell_type": "code",
      "execution_count": 86,
      "metadata": {
        "id": "OcLUACB0JLmM"
      },
      "outputs": [],
      "source": [
        "# Iteration7 :\n",
        "\n",
        "slice7 = 6\n",
        "\n",
        "approx7 = [simple_regret_approx_1[slice7],\n",
        "       simple_regret_approx_2[slice7],\n",
        "       simple_regret_approx_3[slice7],\n",
        "       simple_regret_approx_4[slice7],\n",
        "       simple_regret_approx_5[slice7],\n",
        "       simple_regret_approx_6[slice7],\n",
        "       simple_regret_approx_7[slice7],\n",
        "       simple_regret_approx_8[slice7],\n",
        "       simple_regret_approx_9[slice7],\n",
        "       simple_regret_approx_10[slice7],\n",
        "       simple_regret_approx_11[slice7],\n",
        "       simple_regret_approx_12[slice7],\n",
        "       simple_regret_approx_13[slice7],\n",
        "       simple_regret_approx_14[slice7],\n",
        "       simple_regret_approx_15[slice7],\n",
        "       simple_regret_approx_16[slice7],\n",
        "       simple_regret_approx_17[slice7],\n",
        "       simple_regret_approx_18[slice7],\n",
        "       simple_regret_approx_19[slice7],\n",
        "       simple_regret_approx_20[slice7]]\n",
        "\n",
        "exact7 = [simple_regret_exact_1[slice7],\n",
        "       simple_regret_exact_2[slice7],\n",
        "       simple_regret_exact_3[slice7],\n",
        "       simple_regret_exact_4[slice7],\n",
        "       simple_regret_exact_5[slice7],\n",
        "       simple_regret_exact_6[slice7],\n",
        "       simple_regret_exact_7[slice7],\n",
        "       simple_regret_exact_8[slice7],\n",
        "       simple_regret_exact_9[slice7],\n",
        "       simple_regret_exact_10[slice7],\n",
        "       simple_regret_exact_11[slice7],\n",
        "       simple_regret_exact_12[slice7],\n",
        "       simple_regret_exact_13[slice7],\n",
        "       simple_regret_exact_14[slice7],\n",
        "       simple_regret_exact_15[slice7],\n",
        "       simple_regret_exact_16[slice7],\n",
        "       simple_regret_exact_17[slice7],\n",
        "       simple_regret_exact_18[slice7],\n",
        "       simple_regret_exact_19[slice7],\n",
        "       simple_regret_exact_20[slice7]]\n",
        "\n",
        "approx7_results = pd.DataFrame(approx7).sort_values(by=[0], ascending=False)\n",
        "exact7_results = pd.DataFrame(exact7).sort_values(by=[0], ascending=False)\n",
        "\n",
        "### Best simple regret minimization IQR - approx:\n",
        "lower_approx7 = np.asarray(approx7_results[4:5][0])[0]\n",
        "median_approx7 = np.asarray(approx7_results[9:10][0])[0]\n",
        "upper_approx7 = np.asarray(approx7_results[14:15][0])[0]\n",
        "\n",
        "lower_exact7 = np.asarray(exact7_results[4:5][0])[0]\n",
        "median_exact7 = np.asarray(exact7_results[9:10][0])[0]\n",
        "upper_exact7 = np.asarray(exact7_results[14:15][0])[0]\n"
      ]
    },
    {
      "cell_type": "code",
      "execution_count": 87,
      "metadata": {
        "id": "q-Fd0t3kJLmN"
      },
      "outputs": [],
      "source": [
        "# Iteration17 :\n",
        "\n",
        "slice17 = 16\n",
        "\n",
        "approx17 = [simple_regret_approx_1[slice17],\n",
        "       simple_regret_approx_2[slice17],\n",
        "       simple_regret_approx_3[slice17],\n",
        "       simple_regret_approx_4[slice17],\n",
        "       simple_regret_approx_5[slice17],\n",
        "       simple_regret_approx_6[slice17],\n",
        "       simple_regret_approx_7[slice17],\n",
        "       simple_regret_approx_8[slice17],\n",
        "       simple_regret_approx_9[slice17],\n",
        "       simple_regret_approx_10[slice17],\n",
        "       simple_regret_approx_11[slice17],\n",
        "       simple_regret_approx_12[slice17],\n",
        "       simple_regret_approx_13[slice17],\n",
        "       simple_regret_approx_14[slice17],\n",
        "       simple_regret_approx_15[slice17],\n",
        "       simple_regret_approx_16[slice17],\n",
        "       simple_regret_approx_17[slice17],\n",
        "       simple_regret_approx_18[slice17],\n",
        "       simple_regret_approx_19[slice17],\n",
        "       simple_regret_approx_20[slice17]]\n",
        "\n",
        "exact17 = [simple_regret_exact_1[slice17],\n",
        "       simple_regret_exact_2[slice17],\n",
        "       simple_regret_exact_3[slice17],\n",
        "       simple_regret_exact_4[slice17],\n",
        "       simple_regret_exact_5[slice17],\n",
        "       simple_regret_exact_6[slice17],\n",
        "       simple_regret_exact_7[slice17],\n",
        "       simple_regret_exact_8[slice17],\n",
        "       simple_regret_exact_9[slice17],\n",
        "       simple_regret_exact_10[slice17],\n",
        "       simple_regret_exact_11[slice17],\n",
        "       simple_regret_exact_12[slice17],\n",
        "       simple_regret_exact_13[slice17],\n",
        "       simple_regret_exact_14[slice17],\n",
        "       simple_regret_exact_15[slice17],\n",
        "       simple_regret_exact_16[slice17],\n",
        "       simple_regret_exact_17[slice17],\n",
        "       simple_regret_exact_18[slice17],\n",
        "       simple_regret_exact_19[slice17],\n",
        "       simple_regret_exact_20[slice17]]\n",
        "\n",
        "approx17_results = pd.DataFrame(approx17).sort_values(by=[0], ascending=False)\n",
        "exact17_results = pd.DataFrame(exact17).sort_values(by=[0], ascending=False)\n",
        "\n",
        "### Best simple regret minimization IQR - approx:\n",
        "lower_approx17 = np.asarray(approx17_results[4:5][0])[0]\n",
        "median_approx17 = np.asarray(approx17_results[9:10][0])[0]\n",
        "upper_approx17 = np.asarray(approx17_results[14:15][0])[0]\n",
        "\n",
        "lower_exact17 = np.asarray(exact17_results[4:5][0])[0]\n",
        "median_exact17 = np.asarray(exact17_results[9:10][0])[0]\n",
        "upper_exact17 = np.asarray(exact17_results[14:15][0])[0]\n"
      ]
    },
    {
      "cell_type": "code",
      "execution_count": 88,
      "metadata": {
        "id": "JueXVbnGJLmU"
      },
      "outputs": [],
      "source": [
        "# Iteration8 :\n",
        "\n",
        "slice8 = 7\n",
        "\n",
        "approx8 = [simple_regret_approx_1[slice8],\n",
        "       simple_regret_approx_2[slice8],\n",
        "       simple_regret_approx_3[slice8],\n",
        "       simple_regret_approx_4[slice8],\n",
        "       simple_regret_approx_5[slice8],\n",
        "       simple_regret_approx_6[slice8],\n",
        "       simple_regret_approx_7[slice8],\n",
        "       simple_regret_approx_8[slice8],\n",
        "       simple_regret_approx_9[slice8],\n",
        "       simple_regret_approx_10[slice8],\n",
        "       simple_regret_approx_11[slice8],\n",
        "       simple_regret_approx_12[slice8],\n",
        "       simple_regret_approx_13[slice8],\n",
        "       simple_regret_approx_14[slice8],\n",
        "       simple_regret_approx_15[slice8],\n",
        "       simple_regret_approx_16[slice8],\n",
        "       simple_regret_approx_17[slice8],\n",
        "       simple_regret_approx_18[slice8],\n",
        "       simple_regret_approx_19[slice8],\n",
        "       simple_regret_approx_20[slice8]]\n",
        "\n",
        "exact8 = [simple_regret_exact_1[slice8],\n",
        "       simple_regret_exact_2[slice8],\n",
        "       simple_regret_exact_3[slice8],\n",
        "       simple_regret_exact_4[slice8],\n",
        "       simple_regret_exact_5[slice8],\n",
        "       simple_regret_exact_6[slice8],\n",
        "       simple_regret_exact_7[slice8],\n",
        "       simple_regret_exact_8[slice8],\n",
        "       simple_regret_exact_9[slice8],\n",
        "       simple_regret_exact_10[slice8],\n",
        "       simple_regret_exact_11[slice8],\n",
        "       simple_regret_exact_12[slice8],\n",
        "       simple_regret_exact_13[slice8],\n",
        "       simple_regret_exact_14[slice8],\n",
        "       simple_regret_exact_15[slice8],\n",
        "       simple_regret_exact_16[slice8],\n",
        "       simple_regret_exact_17[slice8],\n",
        "       simple_regret_exact_18[slice8],\n",
        "       simple_regret_exact_19[slice8],\n",
        "       simple_regret_exact_20[slice8]]\n",
        "\n",
        "approx8_results = pd.DataFrame(approx8).sort_values(by=[0], ascending=False)\n",
        "exact8_results = pd.DataFrame(exact8).sort_values(by=[0], ascending=False)\n",
        "\n",
        "### Best simple regret minimization IQR - approx:\n",
        "lower_approx8 = np.asarray(approx8_results[4:5][0])[0]\n",
        "median_approx8 = np.asarray(approx8_results[9:10][0])[0]\n",
        "upper_approx8 = np.asarray(approx8_results[14:15][0])[0]\n",
        "\n",
        "lower_exact8 = np.asarray(exact8_results[4:5][0])[0]\n",
        "median_exact8 = np.asarray(exact8_results[9:10][0])[0]\n",
        "upper_exact8 = np.asarray(exact8_results[14:15][0])[0]\n"
      ]
    },
    {
      "cell_type": "code",
      "execution_count": 89,
      "metadata": {
        "id": "mnFJ7maJJLmU"
      },
      "outputs": [],
      "source": [
        "# Iteration18 :\n",
        "\n",
        "slice18 = 17\n",
        "\n",
        "approx18 = [simple_regret_approx_1[slice18],\n",
        "       simple_regret_approx_2[slice18],\n",
        "       simple_regret_approx_3[slice18],\n",
        "       simple_regret_approx_4[slice18],\n",
        "       simple_regret_approx_5[slice18],\n",
        "       simple_regret_approx_6[slice18],\n",
        "       simple_regret_approx_7[slice18],\n",
        "       simple_regret_approx_8[slice18],\n",
        "       simple_regret_approx_9[slice18],\n",
        "       simple_regret_approx_10[slice18],\n",
        "       simple_regret_approx_11[slice18],\n",
        "       simple_regret_approx_12[slice18],\n",
        "       simple_regret_approx_13[slice18],\n",
        "       simple_regret_approx_14[slice18],\n",
        "       simple_regret_approx_15[slice18],\n",
        "       simple_regret_approx_16[slice18],\n",
        "       simple_regret_approx_17[slice18],\n",
        "       simple_regret_approx_18[slice18],\n",
        "       simple_regret_approx_19[slice18],\n",
        "       simple_regret_approx_20[slice18]]\n",
        "\n",
        "exact18 = [simple_regret_exact_1[slice18],\n",
        "       simple_regret_exact_2[slice18],\n",
        "       simple_regret_exact_3[slice18],\n",
        "       simple_regret_exact_4[slice18],\n",
        "       simple_regret_exact_5[slice18],\n",
        "       simple_regret_exact_6[slice18],\n",
        "       simple_regret_exact_7[slice18],\n",
        "       simple_regret_exact_8[slice18],\n",
        "       simple_regret_exact_9[slice18],\n",
        "       simple_regret_exact_10[slice18],\n",
        "       simple_regret_exact_11[slice18],\n",
        "       simple_regret_exact_12[slice18],\n",
        "       simple_regret_exact_13[slice18],\n",
        "       simple_regret_exact_14[slice18],\n",
        "       simple_regret_exact_15[slice18],\n",
        "       simple_regret_exact_16[slice18],\n",
        "       simple_regret_exact_17[slice18],\n",
        "       simple_regret_exact_18[slice18],\n",
        "       simple_regret_exact_19[slice18],\n",
        "       simple_regret_exact_20[slice18]]\n",
        "\n",
        "approx18_results = pd.DataFrame(approx18).sort_values(by=[0], ascending=False)\n",
        "exact18_results = pd.DataFrame(exact18).sort_values(by=[0], ascending=False)\n",
        "\n",
        "### Best simple regret minimization IQR - approx:\n",
        "lower_approx18 = np.asarray(approx18_results[4:5][0])[0]\n",
        "median_approx18 = np.asarray(approx18_results[9:10][0])[0]\n",
        "upper_approx18 = np.asarray(approx18_results[14:15][0])[0]\n",
        "\n",
        "lower_exact18 = np.asarray(exact18_results[4:5][0])[0]\n",
        "median_exact18 = np.asarray(exact18_results[9:10][0])[0]\n",
        "upper_exact18 = np.asarray(exact18_results[14:15][0])[0]\n"
      ]
    },
    {
      "cell_type": "code",
      "execution_count": 90,
      "metadata": {
        "id": "ll-p_qWUJLmb"
      },
      "outputs": [],
      "source": [
        "# Iteration9 :\n",
        "\n",
        "slice9 = 8\n",
        "\n",
        "approx9 = [simple_regret_approx_1[slice9],\n",
        "       simple_regret_approx_2[slice9],\n",
        "       simple_regret_approx_3[slice9],\n",
        "       simple_regret_approx_4[slice9],\n",
        "       simple_regret_approx_5[slice9],\n",
        "       simple_regret_approx_6[slice9],\n",
        "       simple_regret_approx_7[slice9],\n",
        "       simple_regret_approx_8[slice9],\n",
        "       simple_regret_approx_9[slice9],\n",
        "       simple_regret_approx_10[slice9],\n",
        "       simple_regret_approx_11[slice9],\n",
        "       simple_regret_approx_12[slice9],\n",
        "       simple_regret_approx_13[slice9],\n",
        "       simple_regret_approx_14[slice9],\n",
        "       simple_regret_approx_15[slice9],\n",
        "       simple_regret_approx_16[slice9],\n",
        "       simple_regret_approx_17[slice9],\n",
        "       simple_regret_approx_18[slice9],\n",
        "       simple_regret_approx_19[slice9],\n",
        "       simple_regret_approx_20[slice9]]\n",
        "\n",
        "exact9 = [simple_regret_exact_1[slice9],\n",
        "       simple_regret_exact_2[slice9],\n",
        "       simple_regret_exact_3[slice9],\n",
        "       simple_regret_exact_4[slice9],\n",
        "       simple_regret_exact_5[slice9],\n",
        "       simple_regret_exact_6[slice9],\n",
        "       simple_regret_exact_7[slice9],\n",
        "       simple_regret_exact_8[slice9],\n",
        "       simple_regret_exact_9[slice9],\n",
        "       simple_regret_exact_10[slice9],\n",
        "       simple_regret_exact_11[slice9],\n",
        "       simple_regret_exact_12[slice9],\n",
        "       simple_regret_exact_13[slice9],\n",
        "       simple_regret_exact_14[slice9],\n",
        "       simple_regret_exact_15[slice9],\n",
        "       simple_regret_exact_16[slice9],\n",
        "       simple_regret_exact_17[slice9],\n",
        "       simple_regret_exact_18[slice9],\n",
        "       simple_regret_exact_19[slice9],\n",
        "       simple_regret_exact_20[slice9]]\n",
        "\n",
        "approx9_results = pd.DataFrame(approx9).sort_values(by=[0], ascending=False)\n",
        "exact9_results = pd.DataFrame(exact9).sort_values(by=[0], ascending=False)\n",
        "\n",
        "### Best simple regret minimization IQR - approx:\n",
        "lower_approx9 = np.asarray(approx9_results[4:5][0])[0]\n",
        "median_approx9 = np.asarray(approx9_results[9:10][0])[0]\n",
        "upper_approx9 = np.asarray(approx9_results[14:15][0])[0]\n",
        "\n",
        "lower_exact9 = np.asarray(exact9_results[4:5][0])[0]\n",
        "median_exact9 = np.asarray(exact9_results[9:10][0])[0]\n",
        "upper_exact9 = np.asarray(exact9_results[14:15][0])[0]\n"
      ]
    },
    {
      "cell_type": "code",
      "execution_count": 91,
      "metadata": {
        "id": "G3QVtLpJJLmc"
      },
      "outputs": [],
      "source": [
        "# Iteration19 :\n",
        "\n",
        "slice19 = 18\n",
        "\n",
        "approx19 = [simple_regret_approx_1[slice19],\n",
        "       simple_regret_approx_2[slice19],\n",
        "       simple_regret_approx_3[slice19],\n",
        "       simple_regret_approx_4[slice19],\n",
        "       simple_regret_approx_5[slice19],\n",
        "       simple_regret_approx_6[slice19],\n",
        "       simple_regret_approx_7[slice19],\n",
        "       simple_regret_approx_8[slice19],\n",
        "       simple_regret_approx_9[slice19],\n",
        "       simple_regret_approx_10[slice19],\n",
        "       simple_regret_approx_11[slice19],\n",
        "       simple_regret_approx_12[slice19],\n",
        "       simple_regret_approx_13[slice19],\n",
        "       simple_regret_approx_14[slice19],\n",
        "       simple_regret_approx_15[slice19],\n",
        "       simple_regret_approx_16[slice19],\n",
        "       simple_regret_approx_17[slice19],\n",
        "       simple_regret_approx_18[slice19],\n",
        "       simple_regret_approx_19[slice19],\n",
        "       simple_regret_approx_20[slice19]]\n",
        "\n",
        "exact19 = [simple_regret_exact_1[slice19],\n",
        "       simple_regret_exact_2[slice19],\n",
        "       simple_regret_exact_3[slice19],\n",
        "       simple_regret_exact_4[slice19],\n",
        "       simple_regret_exact_5[slice19],\n",
        "       simple_regret_exact_6[slice19],\n",
        "       simple_regret_exact_7[slice19],\n",
        "       simple_regret_exact_8[slice19],\n",
        "       simple_regret_exact_9[slice19],\n",
        "       simple_regret_exact_10[slice19],\n",
        "       simple_regret_exact_11[slice19],\n",
        "       simple_regret_exact_12[slice19],\n",
        "       simple_regret_exact_13[slice19],\n",
        "       simple_regret_exact_14[slice19],\n",
        "       simple_regret_exact_15[slice19],\n",
        "       simple_regret_exact_16[slice19],\n",
        "       simple_regret_exact_17[slice19],\n",
        "       simple_regret_exact_18[slice19],\n",
        "       simple_regret_exact_19[slice19],\n",
        "       simple_regret_exact_20[slice19]]\n",
        "\n",
        "approx19_results = pd.DataFrame(approx19).sort_values(by=[0], ascending=False)\n",
        "exact19_results = pd.DataFrame(exact19).sort_values(by=[0], ascending=False)\n",
        "\n",
        "### Best simple regret minimization IQR - approx:\n",
        "lower_approx19 = np.asarray(approx19_results[4:5][0])[0]\n",
        "median_approx19 = np.asarray(approx19_results[9:10][0])[0]\n",
        "upper_approx19 = np.asarray(approx19_results[14:15][0])[0]\n",
        "\n",
        "lower_exact19 = np.asarray(exact19_results[4:5][0])[0]\n",
        "median_exact19 = np.asarray(exact19_results[9:10][0])[0]\n",
        "upper_exact19 = np.asarray(exact19_results[14:15][0])[0]\n"
      ]
    },
    {
      "cell_type": "code",
      "execution_count": 92,
      "metadata": {
        "id": "IzQng-ULJLmj"
      },
      "outputs": [],
      "source": [
        "# Iteration10 :\n",
        "\n",
        "slice10 = 9\n",
        "\n",
        "approx10 = [simple_regret_approx_1[slice10],\n",
        "       simple_regret_approx_2[slice10],\n",
        "       simple_regret_approx_3[slice10],\n",
        "       simple_regret_approx_4[slice10],\n",
        "       simple_regret_approx_5[slice10],\n",
        "       simple_regret_approx_6[slice10],\n",
        "       simple_regret_approx_7[slice10],\n",
        "       simple_regret_approx_8[slice10],\n",
        "       simple_regret_approx_9[slice10],\n",
        "       simple_regret_approx_10[slice10],\n",
        "       simple_regret_approx_11[slice10],\n",
        "       simple_regret_approx_12[slice10],\n",
        "       simple_regret_approx_13[slice10],\n",
        "       simple_regret_approx_14[slice10],\n",
        "       simple_regret_approx_15[slice10],\n",
        "       simple_regret_approx_16[slice10],\n",
        "       simple_regret_approx_17[slice10],\n",
        "       simple_regret_approx_18[slice10],\n",
        "       simple_regret_approx_19[slice10],\n",
        "       simple_regret_approx_20[slice10]]\n",
        "\n",
        "exact10 = [simple_regret_exact_1[slice10],\n",
        "       simple_regret_exact_2[slice10],\n",
        "       simple_regret_exact_3[slice10],\n",
        "       simple_regret_exact_4[slice10],\n",
        "       simple_regret_exact_5[slice10],\n",
        "       simple_regret_exact_6[slice10],\n",
        "       simple_regret_exact_7[slice10],\n",
        "       simple_regret_exact_8[slice10],\n",
        "       simple_regret_exact_9[slice10],\n",
        "       simple_regret_exact_10[slice10],\n",
        "       simple_regret_exact_11[slice10],\n",
        "       simple_regret_exact_12[slice10],\n",
        "       simple_regret_exact_13[slice10],\n",
        "       simple_regret_exact_14[slice10],\n",
        "       simple_regret_exact_15[slice10],\n",
        "       simple_regret_exact_16[slice10],\n",
        "       simple_regret_exact_17[slice10],\n",
        "       simple_regret_exact_18[slice10],\n",
        "       simple_regret_exact_19[slice10],\n",
        "       simple_regret_exact_20[slice10]]\n",
        "\n",
        "approx10_results = pd.DataFrame(approx10).sort_values(by=[0], ascending=False)\n",
        "exact10_results = pd.DataFrame(exact10).sort_values(by=[0], ascending=False)\n",
        "\n",
        "### Best simple regret minimization IQR - approx:\n",
        "lower_approx10 = np.asarray(approx10_results[4:5][0])[0]\n",
        "median_approx10 = np.asarray(approx10_results[9:10][0])[0]\n",
        "upper_approx10 = np.asarray(approx10_results[14:15][0])[0]\n",
        "\n",
        "lower_exact10 = np.asarray(exact10_results[4:5][0])[0]\n",
        "median_exact10 = np.asarray(exact10_results[9:10][0])[0]\n",
        "upper_exact10 = np.asarray(exact10_results[14:15][0])[0]\n"
      ]
    },
    {
      "cell_type": "code",
      "execution_count": 93,
      "metadata": {
        "id": "DQ_Cuh-4JLmk"
      },
      "outputs": [],
      "source": [
        "# Iteration20 :\n",
        "\n",
        "slice20 = 19\n",
        "\n",
        "approx20 = [simple_regret_approx_1[slice20],\n",
        "       simple_regret_approx_2[slice20],\n",
        "       simple_regret_approx_3[slice20],\n",
        "       simple_regret_approx_4[slice20],\n",
        "       simple_regret_approx_5[slice20],\n",
        "       simple_regret_approx_6[slice20],\n",
        "       simple_regret_approx_7[slice20],\n",
        "       simple_regret_approx_8[slice20],\n",
        "       simple_regret_approx_9[slice20],\n",
        "       simple_regret_approx_10[slice20],\n",
        "       simple_regret_approx_11[slice20],\n",
        "       simple_regret_approx_12[slice20],\n",
        "       simple_regret_approx_13[slice20],\n",
        "       simple_regret_approx_14[slice20],\n",
        "       simple_regret_approx_15[slice20],\n",
        "       simple_regret_approx_16[slice20],\n",
        "       simple_regret_approx_17[slice20],\n",
        "       simple_regret_approx_18[slice20],\n",
        "       simple_regret_approx_19[slice20],\n",
        "       simple_regret_approx_20[slice20]]\n",
        "\n",
        "exact20 = [simple_regret_exact_1[slice20],\n",
        "       simple_regret_exact_2[slice20],\n",
        "       simple_regret_exact_3[slice20],\n",
        "       simple_regret_exact_4[slice20],\n",
        "       simple_regret_exact_5[slice20],\n",
        "       simple_regret_exact_6[slice20],\n",
        "       simple_regret_exact_7[slice20],\n",
        "       simple_regret_exact_8[slice20],\n",
        "       simple_regret_exact_9[slice20],\n",
        "       simple_regret_exact_10[slice20],\n",
        "       simple_regret_exact_11[slice20],\n",
        "       simple_regret_exact_12[slice20],\n",
        "       simple_regret_exact_13[slice20],\n",
        "       simple_regret_exact_14[slice20],\n",
        "       simple_regret_exact_15[slice20],\n",
        "       simple_regret_exact_16[slice20],\n",
        "       simple_regret_exact_17[slice20],\n",
        "       simple_regret_exact_18[slice20],\n",
        "       simple_regret_exact_19[slice20],\n",
        "       simple_regret_exact_20[slice20]]\n",
        "\n",
        "approx20_results = pd.DataFrame(approx20).sort_values(by=[0], ascending=False)\n",
        "exact20_results = pd.DataFrame(exact20).sort_values(by=[0], ascending=False)\n",
        "\n",
        "### Best simple regret minimization IQR - approx:\n",
        "lower_approx20 = np.asarray(approx20_results[4:5][0])[0]\n",
        "median_approx20 = np.asarray(approx20_results[9:10][0])[0]\n",
        "upper_approx20 = np.asarray(approx20_results[14:15][0])[0]\n",
        "\n",
        "lower_exact20 = np.asarray(exact20_results[4:5][0])[0]\n",
        "median_exact20 = np.asarray(exact20_results[9:10][0])[0]\n",
        "upper_exact20 = np.asarray(exact20_results[14:15][0])[0]\n"
      ]
    },
    {
      "cell_type": "code",
      "execution_count": 94,
      "metadata": {
        "id": "R1gk3HGTJLms"
      },
      "outputs": [],
      "source": [
        "### Summarise arrays: 'GP EI'\n",
        "\n",
        "lower_approx = [lower_approx1,\n",
        "            lower_approx2,\n",
        "            lower_approx3,\n",
        "            lower_approx4,\n",
        "            lower_approx5,\n",
        "            lower_approx6,\n",
        "            lower_approx7,\n",
        "            lower_approx8,\n",
        "            lower_approx9,\n",
        "            lower_approx10,\n",
        "            lower_approx11,\n",
        "            lower_approx12,\n",
        "            lower_approx13,\n",
        "            lower_approx14,\n",
        "            lower_approx15,\n",
        "            lower_approx16,\n",
        "            lower_approx17,\n",
        "            lower_approx18,\n",
        "            lower_approx19,\n",
        "            lower_approx20,\n",
        "            lower_approx21]\n",
        "\n",
        "median_approx = [median_approx1,\n",
        "            median_approx2,\n",
        "            median_approx3,\n",
        "            median_approx4,\n",
        "            median_approx5,\n",
        "            median_approx6,\n",
        "            median_approx7,\n",
        "            median_approx8,\n",
        "            median_approx9,\n",
        "            median_approx10,\n",
        "            median_approx11,\n",
        "            median_approx12,\n",
        "            median_approx13,\n",
        "            median_approx14,\n",
        "            median_approx15,\n",
        "            median_approx16,\n",
        "            median_approx17,\n",
        "            median_approx18,\n",
        "            median_approx19,\n",
        "            median_approx20,\n",
        "            median_approx21]\n",
        "\n",
        "upper_approx = [upper_approx1,\n",
        "            upper_approx2,\n",
        "            upper_approx3,\n",
        "            upper_approx4,\n",
        "            upper_approx5,\n",
        "            upper_approx6,\n",
        "            upper_approx7,\n",
        "            upper_approx8,\n",
        "            upper_approx9,\n",
        "            upper_approx10,\n",
        "            upper_approx11,\n",
        "            upper_approx12,\n",
        "            upper_approx13,\n",
        "            upper_approx14,\n",
        "            upper_approx15,\n",
        "            upper_approx16,\n",
        "            upper_approx17,\n",
        "            upper_approx18,\n",
        "            upper_approx19,\n",
        "            upper_approx20,\n",
        "            upper_approx21]\n"
      ]
    },
    {
      "cell_type": "code",
      "execution_count": 95,
      "metadata": {
        "id": "jox8uqaeJLmu"
      },
      "outputs": [],
      "source": [
        "### Summarise arrays: 'GP dEI'\n",
        "\n",
        "lower_exact = [lower_exact1,\n",
        "            lower_exact2,\n",
        "            lower_exact3,\n",
        "            lower_exact4,\n",
        "            lower_exact5,\n",
        "            lower_exact6,\n",
        "            lower_exact7,\n",
        "            lower_exact8,\n",
        "            lower_exact9,\n",
        "            lower_exact10,\n",
        "            lower_exact11,\n",
        "            lower_exact12,\n",
        "            lower_exact13,\n",
        "            lower_exact14,\n",
        "            lower_exact15,\n",
        "            lower_exact16,\n",
        "            lower_exact17,\n",
        "            lower_exact18,\n",
        "            lower_exact19,\n",
        "            lower_exact20,\n",
        "            lower_exact21]\n",
        "\n",
        "median_exact = [median_exact1,\n",
        "            median_exact2,\n",
        "            median_exact3,\n",
        "            median_exact4,\n",
        "            median_exact5,\n",
        "            median_exact6,\n",
        "            median_exact7,\n",
        "            median_exact8,\n",
        "            median_exact9,\n",
        "            median_exact10,\n",
        "            median_exact11,\n",
        "            median_exact12,\n",
        "            median_exact13,\n",
        "            median_exact14,\n",
        "            median_exact15,\n",
        "            median_exact16,\n",
        "            median_exact17,\n",
        "            median_exact18,\n",
        "            median_exact19,\n",
        "            median_exact20,\n",
        "            median_exact21]\n",
        "\n",
        "upper_exact = [upper_exact1,\n",
        "            upper_exact2,\n",
        "            upper_exact3,\n",
        "            upper_exact4,\n",
        "            upper_exact5,\n",
        "            upper_exact6,\n",
        "            upper_exact7,\n",
        "            upper_exact8,\n",
        "            upper_exact9,\n",
        "            upper_exact10,\n",
        "            upper_exact11,\n",
        "            upper_exact12,\n",
        "            upper_exact13,\n",
        "            upper_exact14,\n",
        "            upper_exact15,\n",
        "            upper_exact16,\n",
        "            upper_exact17,\n",
        "            upper_exact18,\n",
        "            upper_exact19,\n",
        "            upper_exact20,\n",
        "            upper_exact21]\n"
      ]
    },
    {
      "cell_type": "code",
      "source": [
        "def extractAcqFuncMax(x):\n",
        "    new_array = []\n",
        "    x = np.array(x) \n",
        "    for i, num in enumerate(x):\n",
        "            new_array = x[::-1][:-1][::-3]\n",
        "    return new_array\n",
        "\n",
        "def exploitExtract(x):\n",
        "    new_array = []\n",
        "    x = np.array(x) \n",
        "    for i, num in enumerate(x):\n",
        "            new_array = x[::-1][:-2][::-3]\n",
        "    return new_array\n",
        "\n",
        "def extractTau(x):\n",
        "    new_array = []\n",
        "    x = np.array(x) \n",
        "    for i, num in enumerate(x):\n",
        "            new_array = x[::-1][:-3][::-3] * -1\n",
        "    return new_array\n"
      ],
      "metadata": {
        "id": "LMt1agnP73Ni"
      },
      "execution_count": 96,
      "outputs": []
    },
    {
      "cell_type": "code",
      "source": [
        "approx1_acqFuncMax = extractAcqFuncMax(approx_1.history) + eps\n",
        "approx1_exploit = exploitExtract(approx_1.history) + eps\n",
        "approx1_ratio = approx1_exploit/approx1_acqFuncMax \n",
        "\n",
        "np.round(approx1_acqFuncMax, 3), np.round(approx1_exploit,3)\n"
      ],
      "metadata": {
        "id": "DVD6SnGctX7H",
        "colab": {
          "base_uri": "https://localhost:8080/"
        },
        "outputId": "4560c7e1-2d0b-4887-ece8-4dad99b45b83"
      },
      "execution_count": 97,
      "outputs": [
        {
          "output_type": "execute_result",
          "data": {
            "text/plain": [
              "(array([27.682,  5.093,  5.093,  4.862,  4.862,  4.862,  4.86 ,  4.86 ,\n",
              "         4.859,  4.858,  4.857,  4.834,  4.799,  4.621,  4.6  ,  4.545,\n",
              "         4.424,  4.545,  4.374,  4.345]),\n",
              " array([27.682,  5.062,  5.062,  4.82 ,  4.82 ,  4.82 ,  4.818,  4.817,\n",
              "         4.817,  4.816,  4.814,  4.754,  4.754,  4.565,  4.485,  4.485,\n",
              "         4.354,  4.301,  4.301,  4.269]))"
            ]
          },
          "metadata": {},
          "execution_count": 97
        }
      ]
    },
    {
      "cell_type": "code",
      "source": [
        "approx2_acqFuncMax = extractAcqFuncMax(approx_2.history) + eps\n",
        "approx2_exploit = exploitExtract(approx_2.history) + eps\n",
        "approx2_ratio = approx2_exploit/approx2_acqFuncMax\n",
        "\n",
        "np.round(approx2_acqFuncMax, 3), np.round(approx2_exploit, 3)\n"
      ],
      "metadata": {
        "id": "7RNHlRgYvmb6",
        "colab": {
          "base_uri": "https://localhost:8080/"
        },
        "outputId": "2fb2ead9-f1af-40d7-b827-557f823117a4"
      },
      "execution_count": 98,
      "outputs": [
        {
          "output_type": "execute_result",
          "data": {
            "text/plain": [
              "(array([6.692, 6.692, 1.685, 1.685, 1.685, 1.685, 1.684, 1.684, 1.681,\n",
              "        1.673, 1.671, 1.63 , 1.622, 1.573, 1.466, 1.412, 1.559, 1.39 ,\n",
              "        1.372, 1.386]),\n",
              " array([6.689, 6.689, 1.06 , 1.06 , 1.06 , 1.06 , 1.06 , 1.059, 1.055,\n",
              "        1.045, 1.043, 0.989, 0.98 , 0.916, 0.78 , 0.712, 0.903, 0.685,\n",
              "        0.662, 0.68 ]))"
            ]
          },
          "metadata": {},
          "execution_count": 98
        }
      ]
    },
    {
      "cell_type": "code",
      "source": [
        "approx3_acqFuncMax = extractAcqFuncMax(approx_3.history) + eps\n",
        "approx3_exploit = exploitExtract(approx_3.history) + eps\n",
        "approx3_ratio = approx3_exploit/approx3_acqFuncMax\n",
        "\n",
        "np.round(approx3_acqFuncMax, 3), np.round(approx3_exploit, 3)\n"
      ],
      "metadata": {
        "id": "TQPZOVBxvmmw",
        "colab": {
          "base_uri": "https://localhost:8080/"
        },
        "outputId": "f884ca4e-4902-4462-8a80-64eedddd5a21"
      },
      "execution_count": 99,
      "outputs": [
        {
          "output_type": "execute_result",
          "data": {
            "text/plain": [
              "(array([18.079, 18.079, 17.508,  5.663,  5.663,  5.663,  5.663,  5.659,\n",
              "         5.663,  5.647,  5.657,  5.608,  5.637,  5.604,  5.586,  3.041,\n",
              "         2.911,  3.014,  2.984,  2.417]),\n",
              " array([18.079, 18.079, 17.508,  5.648,  5.648,  5.648,  5.648,  5.645,\n",
              "         5.648,  5.632,  5.642,  5.622,  5.622,  5.393,  5.57 ,  2.779,\n",
              "         2.743,  2.745,  2.71 ,  1.598]))"
            ]
          },
          "metadata": {},
          "execution_count": 99
        }
      ]
    },
    {
      "cell_type": "code",
      "source": [
        "approx4_acqFuncMax = extractAcqFuncMax(approx_4.history) + eps\n",
        "approx4_exploit = exploitExtract(approx_4.history) + eps\n",
        "approx4_ratio = approx4_exploit/approx4_acqFuncMax\n",
        "\n",
        "np.round(approx4_acqFuncMax, 3), np.round(approx4_exploit, 3)\n"
      ],
      "metadata": {
        "id": "GnRH8wU8vmvg",
        "colab": {
          "base_uri": "https://localhost:8080/"
        },
        "outputId": "39f81db5-2b7a-48c5-a214-7607423dea47"
      },
      "execution_count": 100,
      "outputs": [
        {
          "output_type": "execute_result",
          "data": {
            "text/plain": [
              "(array([7.247, 7.247, 7.247, 7.247, 7.247, 7.247, 7.243, 2.945, 2.941,\n",
              "        2.933, 2.9  , 2.916, 2.778, 2.824, 2.727, 2.734, 2.524, 2.392,\n",
              "        2.604, 2.205]),\n",
              " array([7.246, 7.246, 7.246, 7.246, 7.246, 7.246, 7.242, 2.662, 2.647,\n",
              "        2.647, 2.607, 2.626, 2.456, 2.393, 2.393, 2.402, 2.139, 1.972,\n",
              "        2.242, 1.732]))"
            ]
          },
          "metadata": {},
          "execution_count": 100
        }
      ]
    },
    {
      "cell_type": "code",
      "source": [
        "approx5_acqFuncMax = extractAcqFuncMax(approx_5.history) + eps\n",
        "approx5_exploit = exploitExtract(approx_5.history) + eps\n",
        "approx5_ratio = approx5_exploit/approx5_acqFuncMax\n",
        "\n",
        "np.round(approx5_acqFuncMax, 3), np.round(approx5_exploit, 3)\n"
      ],
      "metadata": {
        "id": "qlQrBWFjvm5V",
        "colab": {
          "base_uri": "https://localhost:8080/"
        },
        "outputId": "207e3a01-1590-4d93-c290-3046ef707514"
      },
      "execution_count": 101,
      "outputs": [
        {
          "output_type": "execute_result",
          "data": {
            "text/plain": [
              "(array([25.311,  5.962,  5.962,  5.962,  5.962,  5.962,  5.962,  3.744,\n",
              "         3.741,  3.73 ,  3.719,  3.697,  3.696,  3.682,  3.576,  3.627,\n",
              "         3.607,  3.538,  3.371,  2.47 ]),\n",
              " array([25.311,  5.953,  5.953,  5.952,  5.952,  5.952,  5.952,  3.603,\n",
              "         3.599,  3.587,  3.575,  3.549,  3.548,  3.531,  3.41 ,  3.469,\n",
              "         3.367,  3.059,  3.173,  2.071]))"
            ]
          },
          "metadata": {},
          "execution_count": 101
        }
      ]
    },
    {
      "cell_type": "code",
      "source": [
        "approx6_acqFuncMax = extractAcqFuncMax(approx_6.history) + eps\n",
        "approx6_exploit = exploitExtract(approx_6.history) + eps\n",
        "approx6_ratio = approx6_exploit/approx6_acqFuncMax\n",
        "\n",
        "np.round(approx6_acqFuncMax, 3), np.round(approx6_exploit, 3)\n"
      ],
      "metadata": {
        "id": "Ikyi5fCtvnCI",
        "colab": {
          "base_uri": "https://localhost:8080/"
        },
        "outputId": "d8bd3f53-d9c2-4f78-a29d-f2bf5178a1c0"
      },
      "execution_count": 102,
      "outputs": [
        {
          "output_type": "execute_result",
          "data": {
            "text/plain": [
              "(array([15.317, 15.317, 15.317, 15.317, 13.089, 13.088, 13.087,  1.093,\n",
              "         1.101,  1.101,  1.092,  1.08 ,  1.101,  1.068,  1.075,  1.046,\n",
              "         1.039,  0.922,  0.742,  0.816]),\n",
              " array([15.317, 15.317, 15.317, 15.317, 13.089, 13.088, 13.087,  0.323,\n",
              "         0.332,  0.332,  0.322,  0.298,  0.332,  0.   ,  0.306,  0.26 ,\n",
              "         0.26 ,  0.   ,  0.   ,  0.018]))"
            ]
          },
          "metadata": {},
          "execution_count": 102
        }
      ]
    },
    {
      "cell_type": "code",
      "source": [
        "approx7_acqFuncMax = extractAcqFuncMax(approx_7.history) + eps\n",
        "approx7_exploit = exploitExtract(approx_7.history) + eps\n",
        "approx7_ratio = approx7_exploit/approx7_acqFuncMax\n",
        "\n",
        "np.round(approx7_acqFuncMax, 3), np.round(approx7_exploit, 3)\n"
      ],
      "metadata": {
        "id": "SocrfrpHvnKw",
        "colab": {
          "base_uri": "https://localhost:8080/"
        },
        "outputId": "3d402f34-1601-4dd2-f3a4-cbbe1e356e60"
      },
      "execution_count": 103,
      "outputs": [
        {
          "output_type": "execute_result",
          "data": {
            "text/plain": [
              "(array([5.214, 5.214, 5.214, 5.214, 5.214, 5.214, 5.211, 2.674, 2.677,\n",
              "        2.671, 2.67 , 2.67 , 2.638, 2.623, 2.563, 2.686, 2.552, 2.33 ,\n",
              "        2.307, 2.196]),\n",
              " array([5.187, 5.187, 5.187, 5.187, 5.187, 5.187, 5.184, 2.326, 2.331,\n",
              "        2.323, 2.323, 2.322, 2.282, 2.263, 2.187, 2.342, 2.174, 1.897,\n",
              "        1.864, 1.721]))"
            ]
          },
          "metadata": {},
          "execution_count": 103
        }
      ]
    },
    {
      "cell_type": "code",
      "source": [
        "approx8_acqFuncMax = extractAcqFuncMax(approx_8.history) + eps\n",
        "approx8_exploit = exploitExtract(approx_8.history) + eps\n",
        "approx8_ratio = approx8_exploit/approx8_acqFuncMax\n",
        "\n",
        "np.round(approx8_acqFuncMax, 3), np.round(approx8_exploit, 3)\n"
      ],
      "metadata": {
        "id": "Zmy0_HJevnTH",
        "colab": {
          "base_uri": "https://localhost:8080/"
        },
        "outputId": "c882cf40-8169-4f00-d8d6-b92c2362d8bc"
      },
      "execution_count": 104,
      "outputs": [
        {
          "output_type": "execute_result",
          "data": {
            "text/plain": [
              "(array([15.416,  6.5  ,  6.5  ,  6.5  ,  6.5  ,  6.497,  6.494,  6.492,\n",
              "         6.485,  6.439,  6.435,  6.407,  6.396,  6.364,  6.359,  6.333,\n",
              "         6.284,  6.191,  6.266,  6.088]),\n",
              " array([15.416,  6.496,  6.496,  6.496,  6.496,  6.493,  6.49 ,  6.488,\n",
              "         6.481,  6.434,  6.43 ,  6.403,  6.391,  6.359,  6.354,  6.328,\n",
              "         6.185,  6.185,  6.26 ,  6.08 ]))"
            ]
          },
          "metadata": {},
          "execution_count": 104
        }
      ]
    },
    {
      "cell_type": "code",
      "source": [
        "approx9_acqFuncMax = extractAcqFuncMax(approx_9.history) + eps\n",
        "approx9_exploit = exploitExtract(approx_9.history) + eps\n",
        "approx9_ratio = approx9_exploit/approx9_acqFuncMax\n",
        "\n",
        "np.round(approx9_acqFuncMax, 3), np.round(approx9_exploit, 3)\n"
      ],
      "metadata": {
        "id": "0sxBONQwvncD",
        "colab": {
          "base_uri": "https://localhost:8080/"
        },
        "outputId": "c7dae322-2221-4044-e87a-999d0aa1e1cf"
      },
      "execution_count": 105,
      "outputs": [
        {
          "output_type": "execute_result",
          "data": {
            "text/plain": [
              "(array([3.498, 3.498, 3.498, 3.498, 3.498, 3.498, 3.496, 3.495, 3.487,\n",
              "        3.485, 3.482, 3.472, 3.466, 3.466, 3.349, 3.214, 2.87 , 2.821,\n",
              "        3.043, 2.017]),\n",
              " array([3.32 , 3.32 , 3.32 , 3.32 , 3.32 , 3.319, 3.318, 3.316, 3.304,\n",
              "        3.305, 3.302, 3.29 , 3.283, 3.283, 3.145, 2.986, 2.57 , 2.509,\n",
              "        2.782, 1.492]))"
            ]
          },
          "metadata": {},
          "execution_count": 105
        }
      ]
    },
    {
      "cell_type": "code",
      "source": [
        "approx10_acqFuncMax = extractAcqFuncMax(approx_10.history) + eps\n",
        "approx10_exploit = exploitExtract(approx_10.history) + eps\n",
        "approx10_ratio = approx10_exploit/approx10_acqFuncMax\n",
        "\n",
        "np.round(approx10_acqFuncMax, 3), np.round(approx10_exploit, 3)\n"
      ],
      "metadata": {
        "id": "-hi6-IrGvnjw",
        "colab": {
          "base_uri": "https://localhost:8080/"
        },
        "outputId": "978f9790-36b3-4ff0-cbc5-dbdc89edf35a"
      },
      "execution_count": 106,
      "outputs": [
        {
          "output_type": "execute_result",
          "data": {
            "text/plain": [
              "(array([2.791, 2.791, 2.791, 2.791, 2.791, 2.791, 2.789, 2.788, 2.36 ,\n",
              "        2.357, 2.365, 2.303, 2.296, 2.218, 2.23 , 2.278, 2.193, 2.12 ,\n",
              "        2.118, 2.012]),\n",
              " array([2.473, 2.473, 2.473, 2.473, 2.473, 2.472, 2.47 , 2.468, 1.931,\n",
              "        1.927, 1.936, 1.858, 1.849, 1.75 , 1.764, 1.622, 1.622, 1.622,\n",
              "        1.621, 1.483]))"
            ]
          },
          "metadata": {},
          "execution_count": 106
        }
      ]
    },
    {
      "cell_type": "code",
      "source": [
        "approx11_acqFuncMax = extractAcqFuncMax(approx_11.history) + eps\n",
        "approx11_exploit = exploitExtract(approx_11.history) + eps\n",
        "approx11_ratio = approx11_exploit/approx11_acqFuncMax\n",
        "\n",
        "np.round(approx11_acqFuncMax, 3), np.round(approx11_exploit, 3)\n"
      ],
      "metadata": {
        "id": "H1AV-5wnvnsn",
        "colab": {
          "base_uri": "https://localhost:8080/"
        },
        "outputId": "a26b82fa-f0ea-47e1-d7cf-9a3ae9e37be9"
      },
      "execution_count": 107,
      "outputs": [
        {
          "output_type": "execute_result",
          "data": {
            "text/plain": [
              "(array([22.374, 17.615, 16.59 , 16.589,  3.106,  3.106,  3.106,  3.1  ,\n",
              "         1.383,  1.38 ,  1.379,  1.362,  1.342,  1.468,  1.343,  1.157,\n",
              "         1.142,  1.349,  1.126,  1.108]),\n",
              " array([22.374, 17.615, 16.59 , 16.589,  2.857,  2.856,  2.856,  2.85 ,\n",
              "         0.672,  0.672,  0.671,  0.64 ,  0.626,  0.64 ,  0.627,  0.402,\n",
              "         0.383,  0.634,  0.364,  0.341]))"
            ]
          },
          "metadata": {},
          "execution_count": 107
        }
      ]
    },
    {
      "cell_type": "code",
      "source": [
        "approx12_acqFuncMax = extractAcqFuncMax(approx_12.history) + eps\n",
        "approx12_exploit = exploitExtract(approx_12.history) + eps\n",
        "approx12_ratio = approx12_exploit/approx12_acqFuncMax\n",
        "\n",
        "np.round(approx12_acqFuncMax, 3), np.round(approx12_exploit, 3)\n"
      ],
      "metadata": {
        "id": "YlkQrTV6vn0w",
        "colab": {
          "base_uri": "https://localhost:8080/"
        },
        "outputId": "20ec3231-2fe4-47fe-fff6-96a1b6d981c0"
      },
      "execution_count": 108,
      "outputs": [
        {
          "output_type": "execute_result",
          "data": {
            "text/plain": [
              "(array([1.103, 1.103, 1.103, 1.103, 1.103, 1.103, 1.103, 1.103, 1.102,\n",
              "        1.1  , 1.092, 1.082, 1.056, 1.091, 1.037, 1.043, 1.   , 0.899,\n",
              "        0.841, 0.949]),\n",
              " array([0.336, 0.335, 0.335, 0.335, 0.335, 0.335, 0.334, 0.334, 0.334,\n",
              "        0.331, 0.322, 0.311, 0.28 , 0.321, 0.258, 0.265, 0.226, 0.105,\n",
              "        0.12 , 0.16 ]))"
            ]
          },
          "metadata": {},
          "execution_count": 108
        }
      ]
    },
    {
      "cell_type": "code",
      "source": [
        "approx13_acqFuncMax = extractAcqFuncMax(approx_13.history) + eps\n",
        "approx13_exploit = exploitExtract(approx_13.history) + eps\n",
        "approx13_ratio = approx13_exploit/approx13_acqFuncMax\n",
        "\n",
        "np.round(approx13_acqFuncMax, 3), np.round(approx13_exploit, 3)\n"
      ],
      "metadata": {
        "id": "cw8ngwKsvn82",
        "colab": {
          "base_uri": "https://localhost:8080/"
        },
        "outputId": "be0294fa-eb2c-41d7-e5ec-2d77d2ee9bcb"
      },
      "execution_count": 109,
      "outputs": [
        {
          "output_type": "execute_result",
          "data": {
            "text/plain": [
              "(array([18.039, 18.039, 18.039, 18.039, 18.039, 11.548, 10.96 , 10.956,\n",
              "        10.955, 10.953, 10.953, 10.94 , 10.873,  2.174,  2.11 ,  2.063,\n",
              "         1.932,  1.75 ,  1.659,  1.854]),\n",
              " array([18.039, 18.039, 18.039, 18.039, 18.039, 11.548, 10.96 , 10.956,\n",
              "        10.955, 10.953, 10.953, 10.94 , 10.873,  1.692,  1.609,  1.379,\n",
              "         1.379,  1.144,  1.027,  1.279]))"
            ]
          },
          "metadata": {},
          "execution_count": 109
        }
      ]
    },
    {
      "cell_type": "code",
      "source": [
        "approx14_acqFuncMax = extractAcqFuncMax(approx_14.history) + eps\n",
        "approx14_exploit = exploitExtract(approx_14.history) + eps\n",
        "approx14_ratio = approx14_exploit/approx14_acqFuncMax\n",
        "\n",
        "np.round(approx14_acqFuncMax, 3), np.round(approx14_exploit, 3)\n"
      ],
      "metadata": {
        "id": "SnxJgM50voEV",
        "colab": {
          "base_uri": "https://localhost:8080/"
        },
        "outputId": "f67c120c-2d45-4537-c709-c7ba696bb4cb"
      },
      "execution_count": 110,
      "outputs": [
        {
          "output_type": "execute_result",
          "data": {
            "text/plain": [
              "(array([1.697, 1.697, 1.697, 1.697, 1.697, 1.697, 1.696, 1.694, 1.686,\n",
              "        1.686, 1.687, 1.679, 1.679, 1.677, 1.659, 1.626, 1.525, 1.296,\n",
              "        1.345, 1.279]),\n",
              " array([1.076, 1.076, 1.076, 1.076, 1.076, 1.075, 1.074, 1.071, 1.062,\n",
              "        1.061, 1.062, 1.052, 1.049, 1.049, 0.984, 0.984, 0.862, 0.568,\n",
              "        0.408, 0.556]))"
            ]
          },
          "metadata": {},
          "execution_count": 110
        }
      ]
    },
    {
      "cell_type": "code",
      "source": [
        "approx15_acqFuncMax = extractAcqFuncMax(approx_15.history) + eps\n",
        "approx15_exploit = exploitExtract(approx_15.history) + eps\n",
        "approx15_ratio = approx15_exploit/approx15_acqFuncMax\n",
        "\n",
        "np.round(approx15_acqFuncMax, 3), np.round(approx15_exploit, 3)\n"
      ],
      "metadata": {
        "id": "MrcPmB4DvoMK",
        "colab": {
          "base_uri": "https://localhost:8080/"
        },
        "outputId": "0ee4c788-6bc9-45fa-d6af-860167306357"
      },
      "execution_count": 111,
      "outputs": [
        {
          "output_type": "execute_result",
          "data": {
            "text/plain": [
              "(array([12.769, 12.769, 12.769, 12.769,  6.883,  6.883,  6.879,  6.877,\n",
              "         6.882,  6.873,  6.859,  6.87 ,  6.84 ,  4.008,  4.002,  3.969,\n",
              "         3.856,  3.356,  3.213,  3.09 ]),\n",
              " array([12.769, 12.769, 12.769, 12.769,  6.881,  6.881,  6.877,  6.875,\n",
              "         6.87 ,  6.868,  6.868,  6.868,  6.837,  3.899,  3.892,  3.856,\n",
              "         3.729,  2.985,  2.985,  2.59 ]))"
            ]
          },
          "metadata": {},
          "execution_count": 111
        }
      ]
    },
    {
      "cell_type": "code",
      "source": [
        "approx16_acqFuncMax = extractAcqFuncMax(approx_16.history) + eps\n",
        "approx16_exploit = exploitExtract(approx_16.history) + eps\n",
        "approx16_ratio = approx16_exploit/approx16_acqFuncMax\n",
        "\n",
        "np.round(approx16_acqFuncMax, 3), np.round(approx16_exploit, 3)\n"
      ],
      "metadata": {
        "id": "2qaM50VBvoT9",
        "colab": {
          "base_uri": "https://localhost:8080/"
        },
        "outputId": "ae2d3254-90f4-4818-faeb-757d526c7e06"
      },
      "execution_count": 112,
      "outputs": [
        {
          "output_type": "execute_result",
          "data": {
            "text/plain": [
              "(array([2.796, 2.796, 2.796, 2.796, 2.796, 2.796, 2.796, 2.796, 2.795,\n",
              "        2.775, 2.79 , 2.738, 2.651, 2.646, 2.595, 2.534, 2.554, 2.545,\n",
              "        2.341, 2.252]),\n",
              " array([2.479, 2.479, 2.479, 2.479, 2.479, 2.479, 2.479, 2.478, 2.452,\n",
              "        2.452, 2.471, 2.407, 2.299, 2.292, 2.165, 2.166, 2.177, 2.166,\n",
              "        1.79 , 1.79 ]))"
            ]
          },
          "metadata": {},
          "execution_count": 112
        }
      ]
    },
    {
      "cell_type": "code",
      "source": [
        "approx17_acqFuncMax = extractAcqFuncMax(approx_17.history) + eps\n",
        "approx17_exploit = exploitExtract(approx_17.history) + eps\n",
        "approx17_ratio = approx17_exploit/approx17_acqFuncMax\n",
        "\n",
        "np.round(approx17_acqFuncMax, 3), np.round(approx17_exploit, 3)\n"
      ],
      "metadata": {
        "id": "NcYxsy0Rvobx",
        "colab": {
          "base_uri": "https://localhost:8080/"
        },
        "outputId": "b60cb731-0d29-48f6-cd65-0f2f7e0bd210"
      },
      "execution_count": 113,
      "outputs": [
        {
          "output_type": "execute_result",
          "data": {
            "text/plain": [
              "(array([19.016, 10.961, 10.961,  2.474,  2.474,  2.474,  2.474,  2.467,\n",
              "         2.466,  2.455,  2.453,  2.436,  2.383,  2.401,  2.306,  2.27 ,\n",
              "         2.123,  2.197,  2.116,  1.7  ]),\n",
              " array([19.016, 10.961, 10.961,  2.075,  2.075,  2.075,  2.075,  2.066,\n",
              "         2.052,  2.052,  2.028,  2.028,  1.96 ,  1.946,  1.861,  1.816,\n",
              "         1.352,  1.352,  1.424,  1.08 ]))"
            ]
          },
          "metadata": {},
          "execution_count": 113
        }
      ]
    },
    {
      "cell_type": "code",
      "source": [
        "approx18_acqFuncMax = extractAcqFuncMax(approx_18.history) + eps\n",
        "approx18_exploit = exploitExtract(approx_18.history) + eps\n",
        "approx18_ratio = approx18_exploit/approx18_acqFuncMax\n",
        "\n",
        "np.round(approx18_acqFuncMax, 3), np.round(approx18_exploit, 3)\n"
      ],
      "metadata": {
        "id": "1o1ZW4xZvojY",
        "colab": {
          "base_uri": "https://localhost:8080/"
        },
        "outputId": "1260e00b-d622-4db2-f2c4-aa5b1995bb73"
      },
      "execution_count": 114,
      "outputs": [
        {
          "output_type": "execute_result",
          "data": {
            "text/plain": [
              "(array([8.15 , 8.15 , 8.15 , 8.15 , 8.15 , 8.15 , 7.623, 7.622, 7.621,\n",
              "        4.455, 4.478, 4.445, 4.426, 4.319, 4.497, 4.287, 4.241, 4.189,\n",
              "        3.439, 3.414]),\n",
              " array([8.15 , 8.15 , 8.15 , 8.15 , 8.15 , 8.15 , 7.622, 7.621, 7.62 ,\n",
              "        4.388, 4.412, 4.377, 4.356, 4.24 , 4.432, 4.206, 4.155, 4.099,\n",
              "        3.251, 3.222]))"
            ]
          },
          "metadata": {},
          "execution_count": 114
        }
      ]
    },
    {
      "cell_type": "code",
      "source": [
        "approx19_acqFuncMax = extractAcqFuncMax(approx_19.history) + eps\n",
        "approx19_exploit = exploitExtract(approx_19.history) + eps\n",
        "approx19_ratio = approx19_exploit/approx19_acqFuncMax\n",
        "\n",
        "np.round(approx19_acqFuncMax, 3), np.round(approx19_exploit, 3)\n"
      ],
      "metadata": {
        "id": "ZyY6Ebhfvop6",
        "colab": {
          "base_uri": "https://localhost:8080/"
        },
        "outputId": "d59b7d89-a100-4986-d380-0ade9a36430c"
      },
      "execution_count": 115,
      "outputs": [
        {
          "output_type": "execute_result",
          "data": {
            "text/plain": [
              "(array([4.484, 1.274, 1.274, 1.274, 1.274, 1.274, 1.274, 1.273, 1.272,\n",
              "        1.271, 1.243, 1.243, 1.216, 1.187, 1.14 , 1.13 , 0.862, 0.79 ,\n",
              "        0.789, 0.748]),\n",
              " array([4.419, 0.54 , 0.54 , 0.54 , 0.54 , 0.54 , 0.54 , 0.539, 0.538,\n",
              "        0.537, 0.502, 0.504, 0.436, 0.436, 0.379, 0.367, 0.066, 0.   ,\n",
              "        0.042, 0.   ]))"
            ]
          },
          "metadata": {},
          "execution_count": 115
        }
      ]
    },
    {
      "cell_type": "code",
      "source": [
        "approx20_acqFuncMax = extractAcqFuncMax(approx_20.history) + eps\n",
        "approx20_exploit = exploitExtract(approx_20.history) + eps\n",
        "approx20_ratio = approx20_exploit/approx20_acqFuncMax\n",
        "\n",
        "np.round(approx20_acqFuncMax, 3), np.round(approx20_exploit, 3)\n"
      ],
      "metadata": {
        "id": "voIxbv_Lvo3N",
        "colab": {
          "base_uri": "https://localhost:8080/"
        },
        "outputId": "08c026f0-1f00-425a-c54f-37443ace9604"
      },
      "execution_count": 116,
      "outputs": [
        {
          "output_type": "execute_result",
          "data": {
            "text/plain": [
              "(array([14.043, 14.043, 10.548,  9.113,  9.113,  9.113,  9.111,  9.106,\n",
              "         9.077,  9.063,  9.045,  5.968,  5.922,  5.877,  5.847,  5.77 ,\n",
              "         5.757,  5.723,  5.342,  5.208]),\n",
              " array([14.043, 14.043, 10.548,  9.113,  9.113,  9.113,  9.111,  9.106,\n",
              "         9.077,  9.063,  9.045,  5.959,  5.867,  5.867,  5.835,  5.758,\n",
              "         5.745,  5.71 ,  5.695,  5.181]))"
            ]
          },
          "metadata": {},
          "execution_count": 116
        }
      ]
    },
    {
      "cell_type": "code",
      "source": [
        "exact1_acqFuncMax = extractAcqFuncMax(exact_1.history) + eps\n",
        "exact1_exploit = exploitExtract(exact_1.history) + eps\n",
        "exact1_ratio = exact1_exploit/exact1_acqFuncMax\n",
        "\n",
        "np.round(exact1_acqFuncMax, 3), np.round(exact1_exploit, 3)\n"
      ],
      "metadata": {
        "id": "13ypDM-0tX-8",
        "colab": {
          "base_uri": "https://localhost:8080/"
        },
        "outputId": "a34fdfb2-e26e-48de-84aa-fee4d2d0d202"
      },
      "execution_count": 117,
      "outputs": [
        {
          "output_type": "execute_result",
          "data": {
            "text/plain": [
              "(array([27.682,  5.093,  5.093,  5.093,  5.093,  5.093,  5.093,  5.091,\n",
              "         5.092,  5.092,  5.087,  4.458,  4.472,  4.319,  4.071,  3.948,\n",
              "         3.338,  3.974,  3.728,  3.492]),\n",
              " array([27.682,  5.062,  5.062,  5.062,  5.062,  5.062,  5.061,  5.06 ,\n",
              "         5.06 ,  5.061,  5.055,  4.367,  4.405,  4.279,  3.963,  3.815,\n",
              "         3.127,  3.849,  3.717,  3.308]))"
            ]
          },
          "metadata": {},
          "execution_count": 117
        }
      ]
    },
    {
      "cell_type": "code",
      "source": [
        "exact2_acqFuncMax = extractAcqFuncMax(exact_2.history) + eps\n",
        "exact2_exploit = exploitExtract(exact_2.history) + eps\n",
        "exact2_ratio = exact2_exploit/exact2_acqFuncMax\n",
        "\n",
        "np.round(exact2_acqFuncMax, 3), np.round(exact2_exploit, 3)\n"
      ],
      "metadata": {
        "id": "AThtbAyHtYCa",
        "colab": {
          "base_uri": "https://localhost:8080/"
        },
        "outputId": "25d541b9-9d26-4187-b840-c6a8f0822ff4"
      },
      "execution_count": 118,
      "outputs": [
        {
          "output_type": "execute_result",
          "data": {
            "text/plain": [
              "(array([6.692, 6.692, 1.685, 1.685, 1.685, 1.685, 1.684, 1.68 , 1.684,\n",
              "        1.671, 1.676, 1.671, 1.513, 1.672, 1.477, 1.581, 1.445, 1.126,\n",
              "        1.115, 1.037]),\n",
              " array([6.689, 6.689, 1.06 , 1.059, 1.06 , 1.06 , 1.056, 1.052, 1.05 ,\n",
              "        1.04 , 1.001, 1.038, 0.833, 1.036, 0.777, 0.829, 0.728, 0.348,\n",
              "        0.349, 0.   ]))"
            ]
          },
          "metadata": {},
          "execution_count": 118
        }
      ]
    },
    {
      "cell_type": "code",
      "source": [
        "exact3_acqFuncMax = extractAcqFuncMax(exact_3.history) + eps\n",
        "exact3_exploit = exploitExtract(exact_3.history) + eps\n",
        "exact3_ratio = exact3_exploit/exact3_acqFuncMax\n",
        "\n",
        "np.round(exact3_acqFuncMax, 3), np.round(exact3_exploit, 3)\n"
      ],
      "metadata": {
        "id": "lTX9JQs8v2uD",
        "colab": {
          "base_uri": "https://localhost:8080/"
        },
        "outputId": "9599235f-0824-4e47-942f-d385fd880dc3"
      },
      "execution_count": 119,
      "outputs": [
        {
          "output_type": "execute_result",
          "data": {
            "text/plain": [
              "(array([18.079, 18.079,  3.629,  3.63 ,  3.629,  3.629,  3.63 ,  3.627,\n",
              "         3.63 ,  3.614,  3.555,  3.597,  3.6  ,  3.434,  3.556,  3.385,\n",
              "         3.296,  2.937,  2.493,  2.729]),\n",
              " array([18.079, 18.079,  3.472,  3.472,  3.466,  3.472,  3.472,  3.425,\n",
              "         3.472,  3.412,  3.385,  3.413,  3.381,  3.209,  3.386,  3.147,\n",
              "         3.084,  2.56 ,  2.108,  2.37 ]))"
            ]
          },
          "metadata": {},
          "execution_count": 119
        }
      ]
    },
    {
      "cell_type": "code",
      "source": [
        "exact4_acqFuncMax = extractAcqFuncMax(exact_4.history) + eps\n",
        "exact4_exploit = exploitExtract(exact_4.history) + eps\n",
        "exact4_ratio = exact4_exploit/exact4_acqFuncMax\n",
        "\n",
        "np.round(exact4_acqFuncMax, 3), np.round(exact4_exploit, 3)\n"
      ],
      "metadata": {
        "id": "ubS53hcMv23S",
        "colab": {
          "base_uri": "https://localhost:8080/"
        },
        "outputId": "a7933275-bfa0-44b1-c681-097dc910a764"
      },
      "execution_count": 120,
      "outputs": [
        {
          "output_type": "execute_result",
          "data": {
            "text/plain": [
              "(array([7.247, 7.247, 7.247, 7.247, 7.247, 7.247, 7.245, 7.227, 6.238,\n",
              "        6.213, 6.226, 6.212, 6.202, 6.191, 5.986, 6.078, 6.107, 5.664,\n",
              "        1.058, 0.913]),\n",
              " array([7.246, 7.246, 7.246, 7.246, 7.246, 7.244, 7.244, 7.226, 6.23 ,\n",
              "        6.196, 6.219, 6.207, 6.196, 6.184, 5.806, 6.069, 6.099, 5.533,\n",
              "        0.268, 0.   ]))"
            ]
          },
          "metadata": {},
          "execution_count": 120
        }
      ]
    },
    {
      "cell_type": "code",
      "source": [
        "exact5_acqFuncMax = extractAcqFuncMax(exact_5.history) + eps\n",
        "exact5_exploit = exploitExtract(exact_5.history) + eps\n",
        "exact5_ratio = exact5_exploit/exact5_acqFuncMax\n",
        "\n",
        "np.round(exact5_acqFuncMax, 3), np.round(exact5_exploit, 3)\n"
      ],
      "metadata": {
        "id": "S_k0naQ1v2_p",
        "colab": {
          "base_uri": "https://localhost:8080/"
        },
        "outputId": "c794a9cb-e3cb-41c2-971c-79aa14f01f12"
      },
      "execution_count": 121,
      "outputs": [
        {
          "output_type": "execute_result",
          "data": {
            "text/plain": [
              "(array([25.311,  5.962,  5.962,  5.962,  5.962,  5.962,  5.962,  3.756,\n",
              "         3.744,  3.718,  3.746,  3.707,  3.721,  3.43 ,  3.499,  3.45 ,\n",
              "         3.57 ,  3.361,  3.389,  0.782]),\n",
              " array([25.311,  5.953,  5.953,  5.952,  5.952,  5.952,  5.952,  3.553,\n",
              "         3.6  ,  3.539,  3.569,  3.509,  3.527,  3.164,  3.284,  3.222,\n",
              "         3.403,  3.164,  3.194,  0.   ]))"
            ]
          },
          "metadata": {},
          "execution_count": 121
        }
      ]
    },
    {
      "cell_type": "code",
      "source": [
        "exact6_acqFuncMax = extractAcqFuncMax(exact_6.history) + eps\n",
        "exact6_exploit = exploitExtract(exact_6.history) + eps\n",
        "exact6_ratio = exact6_exploit/exact6_acqFuncMax\n",
        "\n",
        "np.round(exact6_acqFuncMax, 3), np.round(exact6_exploit, 3)\n"
      ],
      "metadata": {
        "id": "5tT6L8Jiv3Ha",
        "colab": {
          "base_uri": "https://localhost:8080/"
        },
        "outputId": "7f149072-a892-44ad-c9ac-8f43f6200162"
      },
      "execution_count": 122,
      "outputs": [
        {
          "output_type": "execute_result",
          "data": {
            "text/plain": [
              "(array([15.317, 15.317, 15.317, 15.317, 15.317, 15.317, 15.317,  9.643,\n",
              "         9.655,  9.567,  1.418,  1.38 ,  1.43 ,  1.345,  1.338,  1.249,\n",
              "         0.997,  0.929,  0.801,  0.649]),\n",
              " array([1.5317e+01, 1.5317e+01, 1.5317e+01, 1.5317e+01, 1.5317e+01,\n",
              "        1.5317e+01, 1.5317e+01, 9.6430e+00, 9.6550e+00, 9.5670e+00,\n",
              "        6.9400e-01, 6.7100e-01, 7.3500e-01, 5.2000e-01, 6.3000e-02,\n",
              "        5.3000e-01, 2.1000e-01, 1.3700e-01, 1.0000e-03, 0.0000e+00]))"
            ]
          },
          "metadata": {},
          "execution_count": 122
        }
      ]
    },
    {
      "cell_type": "code",
      "source": [
        "exact7_acqFuncMax = extractAcqFuncMax(exact_7.history) + eps\n",
        "exact7_exploit = exploitExtract(exact_7.history) + eps\n",
        "exact7_ratio = exact7_exploit/exact7_acqFuncMax\n",
        "\n",
        "np.round(exact7_acqFuncMax, 3), np.round(exact7_exploit, 3)\n"
      ],
      "metadata": {
        "id": "JJUBcR5nv3Pi",
        "colab": {
          "base_uri": "https://localhost:8080/"
        },
        "outputId": "6d2ecc6e-7f5f-4cb7-83b0-1a69ebb64f7e"
      },
      "execution_count": 123,
      "outputs": [
        {
          "output_type": "execute_result",
          "data": {
            "text/plain": [
              "(array([5.214, 5.214, 5.214, 5.214, 5.214, 5.214, 5.211, 2.713, 2.707,\n",
              "        2.688, 2.696, 2.704, 2.639, 2.547, 2.656, 2.719, 2.23 , 2.621,\n",
              "        2.269, 2.355]),\n",
              " array([5.187, 5.187, 5.187, 5.187, 5.187, 5.184, 5.183, 2.376, 2.294,\n",
              "        2.344, 2.353, 2.362, 2.283, 2.142, 2.245, 2.384, 1.704, 1.167,\n",
              "        1.808, 1.911]))"
            ]
          },
          "metadata": {},
          "execution_count": 123
        }
      ]
    },
    {
      "cell_type": "code",
      "source": [
        "exact8_acqFuncMax = extractAcqFuncMax(exact_8.history) + eps\n",
        "exact8_exploit = exploitExtract(exact_8.history) + eps\n",
        "exact8_ratio = exact8_exploit/exact8_acqFuncMax\n",
        "\n",
        "np.round(exact8_acqFuncMax, 3), np.round(exact8_exploit, 3)\n"
      ],
      "metadata": {
        "id": "gaaabxY9v3X_",
        "colab": {
          "base_uri": "https://localhost:8080/"
        },
        "outputId": "0e907adb-440c-418b-c4d2-b1ddf9cc8c7f"
      },
      "execution_count": 124,
      "outputs": [
        {
          "output_type": "execute_result",
          "data": {
            "text/plain": [
              "(array([15.416,  6.5  ,  6.5  ,  6.5  ,  6.5  ,  6.498,  6.499,  6.496,\n",
              "         6.422,  6.446,  6.405,  6.312,  6.309,  6.364,  3.496,  3.183,\n",
              "         3.38 ,  3.23 ,  3.037,  3.177]),\n",
              " array([15.416,  6.496,  6.496,  6.495,  6.496,  6.493,  6.495,  6.49 ,\n",
              "         6.454,  6.441,  6.26 ,  6.307,  6.303,  6.361,  3.331,  2.862,\n",
              "         3.357,  2.87 ,  2.77 ,  2.941]))"
            ]
          },
          "metadata": {},
          "execution_count": 124
        }
      ]
    },
    {
      "cell_type": "code",
      "source": [
        "exact9_acqFuncMax = extractAcqFuncMax(exact_9.history) + eps\n",
        "exact9_exploit = exploitExtract(exact_9.history) + eps\n",
        "exact9_ratio = exact9_exploit/exact9_acqFuncMax\n",
        "\n",
        "np.round(exact9_acqFuncMax, 3), np.round(exact9_exploit, 3)\n"
      ],
      "metadata": {
        "id": "rILOuznAv3fc",
        "colab": {
          "base_uri": "https://localhost:8080/"
        },
        "outputId": "06d57a99-9ad2-41fb-a082-f05e687fdd46"
      },
      "execution_count": 125,
      "outputs": [
        {
          "output_type": "execute_result",
          "data": {
            "text/plain": [
              "(array([3.498, 3.498, 3.498, 3.498, 3.498, 3.496, 3.497, 3.487, 3.497,\n",
              "        3.485, 3.498, 3.482, 3.396, 3.239, 2.73 , 2.589, 2.526, 2.102,\n",
              "        2.39 , 2.475]),\n",
              " array([3.32 , 3.32 , 3.32 , 3.32 , 3.32 , 3.318, 3.319, 3.257, 3.318,\n",
              "        3.303, 3.301, 3.261, 3.201, 3.002, 2.392, 2.209, 1.885, 1.595,\n",
              "        1.629, 2.076]))"
            ]
          },
          "metadata": {},
          "execution_count": 125
        }
      ]
    },
    {
      "cell_type": "code",
      "source": [
        "exact10_acqFuncMax = extractAcqFuncMax(exact_10.history) + eps\n",
        "exact10_exploit = exploitExtract(exact_10.history) + eps\n",
        "exact10_ratio = exact10_exploit/exact10_acqFuncMax\n",
        "\n",
        "np.round(exact10_acqFuncMax, 3), np.round(exact10_exploit, 3)\n"
      ],
      "metadata": {
        "id": "bW1F6YQ7v3o0",
        "colab": {
          "base_uri": "https://localhost:8080/"
        },
        "outputId": "92e96f4c-f82b-414d-e08c-fc2d6d860407"
      },
      "execution_count": 126,
      "outputs": [
        {
          "output_type": "execute_result",
          "data": {
            "text/plain": [
              "(array([2.791, 2.791, 2.791, 2.791, 2.79 , 2.787, 2.79 , 2.761, 2.783,\n",
              "        2.741, 2.703, 2.675, 2.61 , 2.685, 2.601, 2.461, 2.791, 2.37 ,\n",
              "        2.227, 1.515]),\n",
              " array([2.473, 2.473, 2.473, 2.473, 2.471, 2.404, 2.471, 2.346, 2.413,\n",
              "        2.409, 2.343, 2.252, 2.246, 2.282, 2.235, 2.059, 2.473, 1.954,\n",
              "        1.587, 0.77 ]))"
            ]
          },
          "metadata": {},
          "execution_count": 126
        }
      ]
    },
    {
      "cell_type": "code",
      "source": [
        "exact11_acqFuncMax = extractAcqFuncMax(exact_11.history) + eps\n",
        "exact11_exploit = exploitExtract(exact_11.history) + eps\n",
        "exact11_ratio = exact11_exploit/exact11_acqFuncMax\n",
        "\n",
        "np.round(exact11_acqFuncMax, 3), np.round(exact11_exploit, 3)\n"
      ],
      "metadata": {
        "id": "4Ev60bH7v3wk",
        "colab": {
          "base_uri": "https://localhost:8080/"
        },
        "outputId": "f5b8fc9f-c24b-4f54-c73a-0590c35ddbb6"
      },
      "execution_count": 127,
      "outputs": [
        {
          "output_type": "execute_result",
          "data": {
            "text/plain": [
              "(array([22.374, 17.615, 14.808,  9.584,  9.584,  1.581,  1.579,  1.579,\n",
              "         1.571,  1.532,  1.567,  1.545,  1.499,  1.404,  1.324,  1.276,\n",
              "         1.302,  1.286,  1.242,  1.169]),\n",
              " array([22.374, 17.615, 14.808,  9.581,  9.584,  0.916,  0.924,  0.914,\n",
              "         0.912,  0.7  ,  0.906,  0.856,  0.813,  0.53 ,  0.538,  0.528,\n",
              "         0.543,  0.564,  0.483,  0.237]))"
            ]
          },
          "metadata": {},
          "execution_count": 127
        }
      ]
    },
    {
      "cell_type": "code",
      "source": [
        "exact12_acqFuncMax = extractAcqFuncMax(exact_12.history) + eps\n",
        "exact12_exploit = exploitExtract(exact_12.history) + eps\n",
        "exact12_ratio = exact12_exploit/exact12_acqFuncMax\n",
        "\n",
        "np.round(exact12_acqFuncMax, 3), np.round(exact12_exploit, 3)\n"
      ],
      "metadata": {
        "id": "EqCmrsFQv346",
        "colab": {
          "base_uri": "https://localhost:8080/"
        },
        "outputId": "1f734dba-2f2e-4f7f-9e2a-762e3ae7deb0"
      },
      "execution_count": 128,
      "outputs": [
        {
          "output_type": "execute_result",
          "data": {
            "text/plain": [
              "(array([1.103, 1.103, 1.103, 1.103, 1.103, 1.103, 1.103, 1.102, 1.102,\n",
              "        1.094, 1.084, 1.082, 1.095, 1.072, 1.093, 1.067, 0.985, 0.958,\n",
              "        0.761, 0.84 ]),\n",
              " array([0.336, 0.335, 0.335, 0.335, 0.335, 0.335, 0.333, 0.317, 0.332,\n",
              "        0.279, 0.292, 0.323, 0.325, 0.298, 0.278, 0.291, 0.119, 0.177,\n",
              "        0.046, 0.043]))"
            ]
          },
          "metadata": {},
          "execution_count": 128
        }
      ]
    },
    {
      "cell_type": "code",
      "source": [
        "exact13_acqFuncMax = extractAcqFuncMax(exact_13.history) + eps\n",
        "exact13_exploit = exploitExtract(exact_13.history) + eps\n",
        "exact13_ratio = exact13_exploit/exact13_acqFuncMax\n",
        "\n",
        "np.round(exact13_acqFuncMax, 3), np.round(exact13_exploit, 3)\n"
      ],
      "metadata": {
        "id": "LRD2tlISv3_-",
        "colab": {
          "base_uri": "https://localhost:8080/"
        },
        "outputId": "f29c6416-f7d7-4f32-f221-b0fcdb6b57cf"
      },
      "execution_count": 129,
      "outputs": [
        {
          "output_type": "execute_result",
          "data": {
            "text/plain": [
              "(array([18.039, 18.039,  1.324,  1.324,  1.324,  1.323,  1.321,  1.32 ,\n",
              "         1.319,  1.307,  1.308,  1.309,  1.305,  1.278,  1.044,  1.031,\n",
              "         1.02 ,  0.855,  0.836,  1.086]),\n",
              " array([18.039, 18.039,  0.602,  0.602,  0.601,  0.597,  0.583,  0.597,\n",
              "         0.596,  0.519,  0.582,  0.55 ,  0.579,  0.564,  0.253,  0.242,\n",
              "         0.237,  0.076,  0.153,  0.238]))"
            ]
          },
          "metadata": {},
          "execution_count": 129
        }
      ]
    },
    {
      "cell_type": "code",
      "source": [
        "exact14_acqFuncMax = extractAcqFuncMax(exact_14.history) + eps\n",
        "exact14_exploit = exploitExtract(exact_14.history) + eps\n",
        "exact14_ratio = exact14_exploit/exact14_acqFuncMax\n",
        "\n",
        "np.round(exact14_acqFuncMax, 3), np.round(exact14_exploit, 3)\n"
      ],
      "metadata": {
        "id": "YiCrC-1cv4Hw",
        "colab": {
          "base_uri": "https://localhost:8080/"
        },
        "outputId": "c2bb5186-3b7e-41e6-aeda-ab04fc6d693a"
      },
      "execution_count": 130,
      "outputs": [
        {
          "output_type": "execute_result",
          "data": {
            "text/plain": [
              "(array([1.697, 1.697, 1.697, 1.697, 1.697, 1.694, 1.684, 1.697, 1.695,\n",
              "        1.694, 1.679, 1.678, 1.682, 1.67 , 1.646, 1.638, 1.196, 1.193,\n",
              "        1.243, 1.374]),\n",
              " array([1.076, 1.076, 1.076, 1.076, 1.076, 1.07 , 1.058, 1.073, 1.046,\n",
              "        1.054, 1.052, 1.019, 1.053, 1.038, 0.97 , 0.869, 0.464, 0.427,\n",
              "        0.513, 0.409]))"
            ]
          },
          "metadata": {},
          "execution_count": 130
        }
      ]
    },
    {
      "cell_type": "code",
      "source": [
        "exact15_acqFuncMax = extractAcqFuncMax(exact_15.history) + eps\n",
        "exact15_exploit = exploitExtract(exact_15.history) + eps\n",
        "exact15_ratio = exact15_exploit/exact15_acqFuncMax\n",
        "\n",
        "np.round(exact15_acqFuncMax, 3), np.round(exact15_exploit, 3)\n"
      ],
      "metadata": {
        "id": "2yfZeWaFv4O3",
        "colab": {
          "base_uri": "https://localhost:8080/"
        },
        "outputId": "ac5cd5f2-f353-4a6e-a6a8-767bd63c2743"
      },
      "execution_count": 131,
      "outputs": [
        {
          "output_type": "execute_result",
          "data": {
            "text/plain": [
              "(array([12.769, 12.769, 12.769, 12.769, 12.769,  8.89 ,  8.883,  8.89 ,\n",
              "         8.83 ,  2.711,  2.665,  2.651,  2.566,  2.672,  2.393,  2.222,\n",
              "         2.018,  2.612,  1.986,  1.945]),\n",
              " array([12.769, 12.769, 12.769, 12.769, 12.769,  8.89 ,  8.883,  8.89 ,\n",
              "         8.83 ,  2.34 ,  2.316,  2.305,  2.177,  2.288,  1.95 ,  1.748,\n",
              "         1.058,  2.249,  1.457,  1.681]))"
            ]
          },
          "metadata": {},
          "execution_count": 131
        }
      ]
    },
    {
      "cell_type": "code",
      "source": [
        "exact16_acqFuncMax = extractAcqFuncMax(exact_16.history) + eps\n",
        "exact16_exploit = exploitExtract(exact_16.history) + eps\n",
        "exact16_ratio = exact16_exploit/exact16_acqFuncMax\n",
        "\n",
        "np.round(exact16_acqFuncMax, 3), np.round(exact16_exploit, 3)\n"
      ],
      "metadata": {
        "id": "oFa3Bt6Bv4W3",
        "colab": {
          "base_uri": "https://localhost:8080/"
        },
        "outputId": "7ab38e8b-4a1d-4d31-8678-a296ef33e8a3"
      },
      "execution_count": 132,
      "outputs": [
        {
          "output_type": "execute_result",
          "data": {
            "text/plain": [
              "(array([2.796, 2.796, 2.796, 2.796, 2.795, 2.796, 2.796, 2.787, 2.784,\n",
              "        2.793, 2.767, 2.654, 2.749, 2.665, 2.273, 2.744, 2.36 , 2.25 ,\n",
              "        2.162, 2.473]),\n",
              " array([2.479, 2.479, 2.479, 2.479, 2.471, 2.479, 2.479, 2.464, 2.463,\n",
              "        2.436, 2.316, 2.395, 2.412, 2.316, 1.914, 2.1  , 1.93 , 1.774,\n",
              "        1.652, 2.069]))"
            ]
          },
          "metadata": {},
          "execution_count": 132
        }
      ]
    },
    {
      "cell_type": "code",
      "source": [
        "exact17_acqFuncMax = extractAcqFuncMax(exact_17.history) + eps\n",
        "exact17_exploit = exploitExtract(exact_17.history) + eps\n",
        "exact17_ratio = exact17_exploit/exact17_acqFuncMax\n",
        "\n",
        "np.round(exact17_acqFuncMax, 3), np.round(exact17_exploit, 3)\n"
      ],
      "metadata": {
        "id": "VuC8BwhNv4ei",
        "colab": {
          "base_uri": "https://localhost:8080/"
        },
        "outputId": "149ea8b4-b36d-42a2-fe53-cb7afafb18c1"
      },
      "execution_count": 133,
      "outputs": [
        {
          "output_type": "execute_result",
          "data": {
            "text/plain": [
              "(array([19.016,  4.176,  4.176,  2.474,  2.473,  2.474,  2.474,  2.456,\n",
              "         2.456,  2.456,  2.406,  2.433,  2.18 ,  2.304,  2.193,  2.217,\n",
              "         1.934,  1.799,  1.582,  1.848]),\n",
              " array([19.016,  4.084,  4.084,  2.075,  2.075,  2.073,  2.063,  2.053,\n",
              "         1.998,  2.056,  1.904,  2.022,  1.7  ,  1.808,  1.681,  1.713,\n",
              "         1.382,  0.873,  0.846,  1.272]))"
            ]
          },
          "metadata": {},
          "execution_count": 133
        }
      ]
    },
    {
      "cell_type": "code",
      "source": [
        "exact18_acqFuncMax = extractAcqFuncMax(exact_18.history) + eps\n",
        "exact18_exploit = exploitExtract(exact_18.history) + eps\n",
        "exact18_ratio = exact18_exploit/exact18_acqFuncMax\n",
        "\n",
        "np.round(exact18_acqFuncMax, 3), np.round(exact18_exploit, 3)\n"
      ],
      "metadata": {
        "id": "JbbWo0CAv4mQ",
        "colab": {
          "base_uri": "https://localhost:8080/"
        },
        "outputId": "bfeed2fb-0cfd-4c20-a84f-e23823349fed"
      },
      "execution_count": 134,
      "outputs": [
        {
          "output_type": "execute_result",
          "data": {
            "text/plain": [
              "(array([8.15 , 8.15 , 8.15 , 8.15 , 7.626, 7.625, 7.625, 7.619, 7.252,\n",
              "        7.203, 7.247, 7.089, 7.193, 5.627, 5.811, 5.414, 5.322, 2.793,\n",
              "        2.72 , 2.891]),\n",
              " array([8.15 , 8.15 , 8.15 , 8.15 , 7.625, 7.625, 7.625, 7.619, 7.236,\n",
              "        7.246, 7.246, 7.061, 7.192, 5.47 , 5.799, 5.402, 5.344, 2.394,\n",
              "        2.385, 2.542]))"
            ]
          },
          "metadata": {},
          "execution_count": 134
        }
      ]
    },
    {
      "cell_type": "code",
      "source": [
        "exact19_acqFuncMax = extractAcqFuncMax(exact_19.history) + eps\n",
        "exact19_exploit = exploitExtract(exact_19.history) + eps\n",
        "exact19_ratio = exact19_exploit/exact19_acqFuncMax\n",
        "\n",
        "np.round(exact19_acqFuncMax, 3), np.round(exact19_exploit, 3)\n"
      ],
      "metadata": {
        "id": "zv0ODQ5sv4uS",
        "colab": {
          "base_uri": "https://localhost:8080/"
        },
        "outputId": "37b38b1b-2421-41fe-ea5a-d215d304b449"
      },
      "execution_count": 135,
      "outputs": [
        {
          "output_type": "execute_result",
          "data": {
            "text/plain": [
              "(array([4.484, 1.274, 1.274, 1.274, 1.274, 1.274, 1.272, 1.274, 1.241,\n",
              "        1.271, 1.238, 1.217, 1.16 , 1.026, 1.22 , 1.19 , 1.104, 1.035,\n",
              "        0.656, 0.991]),\n",
              " array([4.419, 0.54 , 0.54 , 0.54 , 0.532, 0.522, 0.52 , 0.54 , 0.49 ,\n",
              "        0.536, 0.496, 0.472, 0.366, 0.227, 0.436, 0.422, 0.258, 0.256,\n",
              "        0.239, 0.243]))"
            ]
          },
          "metadata": {},
          "execution_count": 135
        }
      ]
    },
    {
      "cell_type": "code",
      "source": [
        "exact20_acqFuncMax = extractAcqFuncMax(exact_20.history) + eps\n",
        "exact20_exploit = exploitExtract(exact_20.history) + eps\n",
        "exact20_ratio = exact20_exploit/exact20_acqFuncMax\n",
        "\n",
        "np.round(exact20_acqFuncMax, 3), np.round(exact20_exploit, 3)\n"
      ],
      "metadata": {
        "id": "ZAso2OGDv41y",
        "colab": {
          "base_uri": "https://localhost:8080/"
        },
        "outputId": "362290d7-e169-4241-ef06-aa4b431af1be"
      },
      "execution_count": 136,
      "outputs": [
        {
          "output_type": "execute_result",
          "data": {
            "text/plain": [
              "(array([14.043, 14.043,  8.169,  8.169,  8.169,  8.169,  3.166,  3.132,\n",
              "         3.153,  3.09 ,  3.111,  3.069,  3.041,  3.015,  2.853,  2.626,\n",
              "         1.075,  2.787,  2.455,  1.208]),\n",
              " array([14.043, 14.043,  8.169,  8.169,  8.169,  8.169,  2.929,  2.885,\n",
              "         2.908,  2.608,  2.857,  2.812,  2.759,  1.964,  2.549,  2.247,\n",
              "         1.433,  2.467,  1.55 ,  0.53 ]))"
            ]
          },
          "metadata": {},
          "execution_count": 136
        }
      ]
    },
    {
      "cell_type": "code",
      "source": [
        "approx_ratio = [np.mean(approx1_ratio),\n",
        "                np.mean(approx2_ratio),\n",
        "                np.mean(approx3_ratio),\n",
        "                np.mean(approx4_ratio),\n",
        "                np.mean(approx5_ratio),\n",
        "                np.mean(approx6_ratio),\n",
        "                np.mean(approx7_ratio),\n",
        "                np.mean(approx8_ratio),\n",
        "                np.mean(approx9_ratio),\n",
        "                np.mean(approx10_ratio),\n",
        "                np.mean(approx11_ratio),\n",
        "                np.mean(approx12_ratio),\n",
        "                np.mean(approx13_ratio),\n",
        "                np.mean(approx14_ratio),\n",
        "                np.mean(approx15_ratio),\n",
        "                np.mean(approx16_ratio),\n",
        "                np.mean(approx17_ratio),\n",
        "                np.mean(approx18_ratio),\n",
        "                np.mean(approx19_ratio),\n",
        "                np.mean(approx20_ratio)]\n",
        "\n",
        "np.mean(approx_ratio)\n"
      ],
      "metadata": {
        "id": "O7Dlz50Tv4-s",
        "colab": {
          "base_uri": "https://localhost:8080/"
        },
        "outputId": "3bc32fff-9872-4ff4-dcbe-2e6a1796fd2f"
      },
      "execution_count": 137,
      "outputs": [
        {
          "output_type": "execute_result",
          "data": {
            "text/plain": [
              "0.7986833054290862"
            ]
          },
          "metadata": {},
          "execution_count": 137
        }
      ]
    },
    {
      "cell_type": "code",
      "source": [
        "exact_ratio = [np.mean(exact1_ratio),\n",
        "               np.mean(exact2_ratio),\n",
        "               np.mean(exact3_ratio),\n",
        "               np.mean(exact4_ratio),\n",
        "               np.mean(exact5_ratio),\n",
        "               np.mean(exact6_ratio),\n",
        "               np.mean(exact7_ratio),\n",
        "               np.mean(exact8_ratio),\n",
        "               np.mean(exact9_ratio),\n",
        "               np.mean(exact10_ratio),\n",
        "               np.mean(exact11_ratio),\n",
        "               np.mean(exact12_ratio),\n",
        "               np.mean(exact13_ratio),\n",
        "               np.mean(exact14_ratio),\n",
        "               np.mean(exact15_ratio),\n",
        "               np.mean(exact16_ratio),\n",
        "               np.mean(exact17_ratio),\n",
        "               np.mean(exact18_ratio),\n",
        "               np.mean(exact19_ratio),\n",
        "               np.mean(exact20_ratio)]\n",
        "\n",
        "np.mean(exact_ratio)\n"
      ],
      "metadata": {
        "id": "JR4Hd6cTg2n0",
        "colab": {
          "base_uri": "https://localhost:8080/"
        },
        "outputId": "63a2cc3f-e24e-4ccc-cf3f-5d5e8d316151"
      },
      "execution_count": 138,
      "outputs": [
        {
          "output_type": "execute_result",
          "data": {
            "text/plain": [
              "0.7616723895283906"
            ]
          },
          "metadata": {},
          "execution_count": 138
        }
      ]
    },
    {
      "cell_type": "code",
      "execution_count": 139,
      "metadata": {
        "id": "UkX9CtiD76La",
        "colab": {
          "base_uri": "https://localhost:8080/",
          "height": 299
        },
        "outputId": "59b56cf5-f69c-4770-f46f-1ceda51694d3"
      },
      "outputs": [
        {
          "output_type": "display_data",
          "data": {
            "text/plain": [
              "<Figure size 432x288 with 1 Axes>"
            ],
            "image/png": "[encoded data removed]"
          },
          "metadata": {
            "needs_background": "light"
          }
        }
      ],
      "source": [
        "### Visualise!\n",
        "\n",
        "title = obj_func\n",
        "\n",
        "plt.figure()\n",
        "\n",
        "plt.plot(median_approx, color = 'Yellow')\n",
        "plt.plot(median_exact, color = 'Red')\n",
        "\n",
        "xstar = np.arange(0, max_iter+1, step=1)\n",
        "plt.fill_between(xstar, lower_approx, upper_approx, facecolor = 'Yellow', alpha=0.4, label='GP EI($\\mathbf{x}$):   Synthetic function, log(Regret) IQR')\n",
        "plt.fill_between(xstar, lower_exact, upper_exact, facecolor = 'Red', alpha=0.4, label='GP dEI($\\mathbf{x}$): Synthetic function, log(Regret) IQR')\n",
        "\n",
        "plt.title(title, weight = 'bold')\n",
        "plt.xlabel('(Post-initialisation) iteration $\\it{k}$', weight = 'bold') # x-axis label\n",
        "plt.ylabel('Synthetic Function: log(Regret)', weight = 'bold') # y-axis label\n",
        "plt.legend(loc=0) # add plot legend\n",
        "\n",
        "### Make the x-ticks integers, not floats:\n",
        "count = len(xstar)\n",
        "plt.xticks(np.arange(count), np.arange(0, count))\n",
        "plt.show()\n"
      ]
    },
    {
      "cell_type": "code",
      "source": [
        "### Visualise!\n",
        "\n",
        "title = obj_func\n",
        "\n",
        "plt.figure()\n",
        "\n",
        "plt.plot(approx_ratio, color = 'Yellow', label='GP EI($\\mathbf{x}$):   exploitation ratio')\n",
        "plt.plot(exact_ratio, color = 'Red', ls='-.', label='GP dEI($\\mathbf{x}$): exploitation ratio')\n",
        "\n",
        "plt.title(title, weight = 'bold')\n",
        "plt.xlabel('Experiment $\\it{j}$' , weight = 'bold') # x-axis label\n",
        "plt.ylabel('GP EI, GP dEI: exploitation ratio', weight = 'bold') # y-axis label\n",
        "plt.legend(loc=3) # add plot legend\n",
        "\n",
        "### Make the x-ticks integers, not floats:\n",
        "count = len(xstar)\n",
        "plt.xticks(np.arange(count), np.arange(1, count))\n",
        "plt.show()\n"
      ],
      "metadata": {
        "id": "hKyod0HBzjSz",
        "colab": {
          "base_uri": "https://localhost:8080/",
          "height": 299
        },
        "outputId": "6b47104d-0a24-49e2-cafa-4255ee5a9881"
      },
      "execution_count": 140,
      "outputs": [
        {
          "output_type": "display_data",
          "data": {
            "text/plain": [
              "<Figure size 432x288 with 1 Axes>"
            ],
            "image/png": "[encoded data removed]"
          },
          "metadata": {
            "needs_background": "light"
          }
        }
      ]
    },
    {
      "cell_type": "code",
      "source": [
        "### Visualise!\n",
        "\n",
        "title = obj_func\n",
        "\n",
        "plt.figure()\n",
        "\n",
        "plt.plot(np.sort(approx_ratio)[::-1], color = 'Yellow', label='GP EI($\\mathbf{x}$):   exploitation ratio (sorted)')\n",
        "plt.plot(np.sort(exact_ratio)[::-1], color = 'Red', ls='-.', label='GP dEI($\\mathbf{x}$): exploitation ratio (sorted)')\n",
        "\n",
        "plt.title(title, weight = 'bold')\n",
        "plt.xlabel('Experiment $\\it{j}$ (sorted)' , weight = 'bold') # x-axis label\n",
        "plt.ylabel('GP EI, GP dEI: exploitation ratio', weight = 'bold') # y-axis label\n",
        "plt.legend(loc=0) # add plot legend\n",
        "\n",
        "### Make the x-ticks integers, not floats:\n",
        "count = len(xstar)\n",
        "plt.xticks(np.arange(count), np.arange(1, count))\n",
        "plt.show()\n"
      ],
      "metadata": {
        "id": "Rh9aZDVnHbqf",
        "colab": {
          "base_uri": "https://localhost:8080/",
          "height": 299
        },
        "outputId": "99d13554-c5cd-4786-f6a3-943db4b01dde"
      },
      "execution_count": 141,
      "outputs": [
        {
          "output_type": "display_data",
          "data": {
            "text/plain": [
              "<Figure size 432x288 with 1 Axes>"
            ],
            "image/png": "[encoded data removed]"
          },
          "metadata": {
            "needs_background": "light"
          }
        }
      ]
    },
    {
      "cell_type": "code",
      "source": [],
      "metadata": {
        "id": "adwkIxvdyLhY"
      },
      "execution_count": 141,
      "outputs": []
    }
  ],
  "metadata": {
    "colab": {
      "provenance": []
    },
    "kernelspec": {
      "display_name": "Python 3",
      "language": "python",
      "name": "python3"
    },
    "language_info": {
      "codemirror_mode": {
        "name": "ipython",
        "version": 3
      },
      "file_extension": ".py",
      "mimetype": "text/x-python",
      "name": "python",
      "nbconvert_exporter": "python",
      "pygments_lexer": "ipython3",
      "version": "3.6.5"
    }
  },
  "nbformat": 4,
  "nbformat_minor": 0
}