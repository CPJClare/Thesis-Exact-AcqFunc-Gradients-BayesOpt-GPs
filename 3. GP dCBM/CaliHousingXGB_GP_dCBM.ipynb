{
  "nbformat": 4,
  "nbformat_minor": 0,
  "metadata": {
    "colab": {
      "provenance": [],
      "collapsed_sections": []
    },
    "kernelspec": {
      "name": "python3",
      "display_name": "Python 3"
    }
  },
  "cells": [
    {
      "cell_type": "markdown",
      "metadata": {
        "id": "W9wHutsqZUcn"
      },
      "source": [
        "XGBoost Regression - 'real-world' example: Californian Housing Dataset\n",
        "\n",
        "https://scikit-learn.org/stable/datasets/real_world.html#california-housing-dataset"
      ]
    },
    {
      "cell_type": "code",
      "metadata": {
        "id": "X-0Pe1i4Z2R_",
        "colab": {
          "base_uri": "https://localhost:8080/"
        },
        "outputId": "026d13be-1af8-410b-d30a-e7a2cb1f5611"
      },
      "source": [
        "!pip install pyGPGO"
      ],
      "execution_count": null,
      "outputs": [
        {
          "output_type": "stream",
          "name": "stdout",
          "text": [
            "Looking in indexes: https://pypi.org/simple, https://us-python.pkg.dev/colab-wheels/public/simple/\n",
            "Collecting pyGPGO\n",
            "  Downloading pyGPGO-0.5.1.tar.gz (14 kB)\n",
            "Requirement already satisfied: numpy in /usr/local/lib/python3.7/dist-packages (from pyGPGO) (1.21.6)\n",
            "Requirement already satisfied: mkl in /usr/local/lib/python3.7/dist-packages (from pyGPGO) (2019.0)\n",
            "Requirement already satisfied: scipy in /usr/local/lib/python3.7/dist-packages (from pyGPGO) (1.7.3)\n",
            "Requirement already satisfied: joblib in /usr/local/lib/python3.7/dist-packages (from pyGPGO) (1.1.0)\n",
            "Requirement already satisfied: scikit-learn in /usr/local/lib/python3.7/dist-packages (from pyGPGO) (1.0.2)\n",
            "Collecting Theano-PyMC\n",
            "  Downloading Theano-PyMC-1.1.2.tar.gz (1.8 MB)\n",
            "\u001b[K     |████████████████████████████████| 1.8 MB 4.1 MB/s \n",
            "\u001b[?25hCollecting pyMC3\n",
            "  Downloading pymc3-3.11.5-py3-none-any.whl (872 kB)\n",
            "\u001b[K     |████████████████████████████████| 872 kB 38.5 MB/s \n",
            "\u001b[?25hRequirement already satisfied: intel-openmp in /usr/local/lib/python3.7/dist-packages (from mkl->pyGPGO) (2022.1.0)\n",
            "Requirement already satisfied: cachetools>=4.2.1 in /usr/local/lib/python3.7/dist-packages (from pyMC3->pyGPGO) (4.2.4)\n",
            "Requirement already satisfied: patsy>=0.5.1 in /usr/local/lib/python3.7/dist-packages (from pyMC3->pyGPGO) (0.5.2)\n",
            "Requirement already satisfied: pandas>=0.24.0 in /usr/local/lib/python3.7/dist-packages (from pyMC3->pyGPGO) (1.3.5)\n",
            "Requirement already satisfied: typing-extensions>=3.7.4 in /usr/local/lib/python3.7/dist-packages (from pyMC3->pyGPGO) (4.1.1)\n",
            "Requirement already satisfied: fastprogress>=0.2.0 in /usr/local/lib/python3.7/dist-packages (from pyMC3->pyGPGO) (1.0.3)\n",
            "Collecting semver>=2.13.0\n",
            "  Downloading semver-2.13.0-py2.py3-none-any.whl (12 kB)\n",
            "Collecting deprecat\n",
            "  Downloading deprecat-2.1.1-py2.py3-none-any.whl (9.8 kB)\n",
            "Requirement already satisfied: dill in /usr/local/lib/python3.7/dist-packages (from pyMC3->pyGPGO) (0.3.5.1)\n",
            "Requirement already satisfied: arviz>=0.11.0 in /usr/local/lib/python3.7/dist-packages (from pyMC3->pyGPGO) (0.12.1)\n",
            "Requirement already satisfied: filelock in /usr/local/lib/python3.7/dist-packages (from Theano-PyMC->pyGPGO) (3.8.0)\n",
            "Requirement already satisfied: packaging in /usr/local/lib/python3.7/dist-packages (from arviz>=0.11.0->pyMC3->pyGPGO) (21.3)\n",
            "Requirement already satisfied: xarray>=0.16.1 in /usr/local/lib/python3.7/dist-packages (from arviz>=0.11.0->pyMC3->pyGPGO) (0.20.2)\n",
            "Requirement already satisfied: netcdf4 in /usr/local/lib/python3.7/dist-packages (from arviz>=0.11.0->pyMC3->pyGPGO) (1.6.0)\n",
            "Requirement already satisfied: matplotlib>=3.0 in /usr/local/lib/python3.7/dist-packages (from arviz>=0.11.0->pyMC3->pyGPGO) (3.2.2)\n",
            "Requirement already satisfied: setuptools>=38.4 in /usr/local/lib/python3.7/dist-packages (from arviz>=0.11.0->pyMC3->pyGPGO) (57.4.0)\n",
            "Requirement already satisfied: xarray-einstats>=0.2 in /usr/local/lib/python3.7/dist-packages (from arviz>=0.11.0->pyMC3->pyGPGO) (0.2.2)\n",
            "Requirement already satisfied: kiwisolver>=1.0.1 in /usr/local/lib/python3.7/dist-packages (from matplotlib>=3.0->arviz>=0.11.0->pyMC3->pyGPGO) (1.4.4)\n",
            "Requirement already satisfied: pyparsing!=2.0.4,!=2.1.2,!=2.1.6,>=2.0.1 in /usr/local/lib/python3.7/dist-packages (from matplotlib>=3.0->arviz>=0.11.0->pyMC3->pyGPGO) (3.0.9)\n",
            "Requirement already satisfied: python-dateutil>=2.1 in /usr/local/lib/python3.7/dist-packages (from matplotlib>=3.0->arviz>=0.11.0->pyMC3->pyGPGO) (2.8.2)\n",
            "Requirement already satisfied: cycler>=0.10 in /usr/local/lib/python3.7/dist-packages (from matplotlib>=3.0->arviz>=0.11.0->pyMC3->pyGPGO) (0.11.0)\n",
            "Requirement already satisfied: pytz>=2017.3 in /usr/local/lib/python3.7/dist-packages (from pandas>=0.24.0->pyMC3->pyGPGO) (2022.2.1)\n",
            "Requirement already satisfied: six in /usr/local/lib/python3.7/dist-packages (from patsy>=0.5.1->pyMC3->pyGPGO) (1.15.0)\n",
            "Requirement already satisfied: importlib-metadata in /usr/local/lib/python3.7/dist-packages (from xarray>=0.16.1->arviz>=0.11.0->pyMC3->pyGPGO) (4.12.0)\n",
            "Requirement already satisfied: wrapt<2,>=1.10 in /usr/local/lib/python3.7/dist-packages (from deprecat->pyMC3->pyGPGO) (1.14.1)\n",
            "Requirement already satisfied: zipp>=0.5 in /usr/local/lib/python3.7/dist-packages (from importlib-metadata->xarray>=0.16.1->arviz>=0.11.0->pyMC3->pyGPGO) (3.8.1)\n",
            "Requirement already satisfied: cftime in /usr/local/lib/python3.7/dist-packages (from netcdf4->arviz>=0.11.0->pyMC3->pyGPGO) (1.6.1)\n",
            "Requirement already satisfied: threadpoolctl>=2.0.0 in /usr/local/lib/python3.7/dist-packages (from scikit-learn->pyGPGO) (3.1.0)\n",
            "Building wheels for collected packages: pyGPGO, Theano-PyMC\n",
            "  Building wheel for pyGPGO (setup.py) ... \u001b[?25l\u001b[?25hdone\n",
            "  Created wheel for pyGPGO: filename=pyGPGO-0.5.1-py3-none-any.whl size=19879 sha256=031b3d51b29b2a3f3e5527a7aebada2e1a4e0824f6ef0e81bc35f8f8199ccc33\n",
            "  Stored in directory: /root/.cache/pip/wheels/c8/5d/0b/2160114e2f1b87791c51b66cf07f89831dbb6f49167950316f\n",
            "  Building wheel for Theano-PyMC (setup.py) ... \u001b[?25l\u001b[?25hdone\n",
            "  Created wheel for Theano-PyMC: filename=Theano_PyMC-1.1.2-py3-none-any.whl size=1529963 sha256=d87ac6502b2f89d14c7b5063ab02722a57cb25983c6c67d3010cdd626889c21f\n",
            "  Stored in directory: /root/.cache/pip/wheels/f3/af/8c/5dd7553522d74c52a7813806fc7ee1a9caa20a3f7c8fd850d5\n",
            "Successfully built pyGPGO Theano-PyMC\n",
            "Installing collected packages: Theano-PyMC, semver, deprecat, pyMC3, pyGPGO\n",
            "Successfully installed Theano-PyMC-1.1.2 deprecat-2.1.1 pyGPGO-0.5.1 pyMC3-3.11.5 semver-2.13.0\n"
          ]
        }
      ]
    },
    {
      "cell_type": "code",
      "metadata": {
        "id": "W7zDTf1naBsH"
      },
      "source": [
        "# Load some default Python modules:\n",
        "\n",
        "import numpy as np\n",
        "import scipy as sp\n",
        "import pandas as pd\n",
        "import matplotlib.pyplot as plt\n",
        "import xgboost as xgb\n",
        "import time\n",
        "\n",
        "from matplotlib.pyplot import rc\n",
        "rc('font',**{'family':'sans-serif','sans-serif':['Helvetica']})\n",
        "rc('text', usetex=False)\n",
        "import seaborn as sns\n",
        "plt.style.use('seaborn-whitegrid')\n",
        "\n",
        "from collections import OrderedDict\n",
        "from joblib import Parallel, delayed\n",
        "from numpy.linalg import slogdet, inv, cholesky, solve\n",
        "from scipy.optimize import minimize\n",
        "from scipy.spatial.distance import cdist\n",
        "from scipy.special import gamma\n",
        "from scipy.stats import norm\n",
        "from joblib import Parallel, delayed\n",
        "import itertools\n",
        "\n",
        "from pyGPGO.logger import EventLogger\n",
        "from pyGPGO.GPGO import GPGO\n",
        "from pyGPGO.surrogates.GaussianProcess import GaussianProcess\n",
        "from pyGPGO.acquisition import Acquisition\n",
        "from pyGPGO.covfunc import squaredExponential\n",
        "from sklearn.model_selection import cross_val_score, train_test_split\n",
        "from sklearn.metrics import mean_squared_error\n",
        "from xgboost import XGBRegressor\n",
        "from pandas_datareader import data\n",
        "\n",
        "import warnings\n",
        "import random\n",
        "warnings.filterwarnings(\"ignore\", category=FutureWarning)\n",
        "warnings.filterwarnings(\"ignore\", category=RuntimeWarning)\n",
        "warnings.filterwarnings(\"ignore\", category=UserWarning)"
      ],
      "execution_count": null,
      "outputs": []
    },
    {
      "cell_type": "code",
      "metadata": {
        "id": "VXicekJhaE0P"
      },
      "source": [
        "# Read data in pandas dataframe:\n",
        "df_train =  pd.read_csv('/content/sample_data/california_housing_train.csv')\n"
      ],
      "execution_count": null,
      "outputs": []
    },
    {
      "cell_type": "code",
      "metadata": {
        "id": "YQ0mDzt_cBmw",
        "colab": {
          "base_uri": "https://localhost:8080/",
          "height": 270
        },
        "outputId": "46f780a9-1244-4429-a65d-c8018a6f2adb"
      },
      "source": [
        "# List first rows:\n",
        "\n",
        "df_train.head()"
      ],
      "execution_count": null,
      "outputs": [
        {
          "output_type": "execute_result",
          "data": {
            "text/plain": [
              "   longitude  latitude  housing_median_age  total_rooms  total_bedrooms  \\\n",
              "0    -114.31     34.19                15.0       5612.0          1283.0   \n",
              "1    -114.47     34.40                19.0       7650.0          1901.0   \n",
              "2    -114.56     33.69                17.0        720.0           174.0   \n",
              "3    -114.57     33.64                14.0       1501.0           337.0   \n",
              "4    -114.57     33.57                20.0       1454.0           326.0   \n",
              "\n",
              "   population  households  median_income  median_house_value  \n",
              "0      1015.0       472.0         1.4936             66900.0  \n",
              "1      1129.0       463.0         1.8200             80100.0  \n",
              "2       333.0       117.0         1.6509             85700.0  \n",
              "3       515.0       226.0         3.1917             73400.0  \n",
              "4       624.0       262.0         1.9250             65500.0  "
            ],
            "text/html": [
              "\n",
              "  <div id=\"df-12248437-a2f9-4055-a835-4a49b0b9b65e\">\n",
              "    <div class=\"colab-df-container\">\n",
              "      <div>\n",
              "<style scoped>\n",
              "    .dataframe tbody tr th:only-of-type {\n",
              "        vertical-align: middle;\n",
              "    }\n",
              "\n",
              "    .dataframe tbody tr th {\n",
              "        vertical-align: top;\n",
              "    }\n",
              "\n",
              "    .dataframe thead th {\n",
              "        text-align: right;\n",
              "    }\n",
              "</style>\n",
              "<table border=\"1\" class=\"dataframe\">\n",
              "  <thead>\n",
              "    <tr style=\"text-align: right;\">\n",
              "      <th></th>\n",
              "      <th>longitude</th>\n",
              "      <th>latitude</th>\n",
              "      <th>housing_median_age</th>\n",
              "      <th>total_rooms</th>\n",
              "      <th>total_bedrooms</th>\n",
              "      <th>population</th>\n",
              "      <th>households</th>\n",
              "      <th>median_income</th>\n",
              "      <th>median_house_value</th>\n",
              "    </tr>\n",
              "  </thead>\n",
              "  <tbody>\n",
              "    <tr>\n",
              "      <th>0</th>\n",
              "      <td>-114.31</td>\n",
              "      <td>34.19</td>\n",
              "      <td>15.0</td>\n",
              "      <td>5612.0</td>\n",
              "      <td>1283.0</td>\n",
              "      <td>1015.0</td>\n",
              "      <td>472.0</td>\n",
              "      <td>1.4936</td>\n",
              "      <td>66900.0</td>\n",
              "    </tr>\n",
              "    <tr>\n",
              "      <th>1</th>\n",
              "      <td>-114.47</td>\n",
              "      <td>34.40</td>\n",
              "      <td>19.0</td>\n",
              "      <td>7650.0</td>\n",
              "      <td>1901.0</td>\n",
              "      <td>1129.0</td>\n",
              "      <td>463.0</td>\n",
              "      <td>1.8200</td>\n",
              "      <td>80100.0</td>\n",
              "    </tr>\n",
              "    <tr>\n",
              "      <th>2</th>\n",
              "      <td>-114.56</td>\n",
              "      <td>33.69</td>\n",
              "      <td>17.0</td>\n",
              "      <td>720.0</td>\n",
              "      <td>174.0</td>\n",
              "      <td>333.0</td>\n",
              "      <td>117.0</td>\n",
              "      <td>1.6509</td>\n",
              "      <td>85700.0</td>\n",
              "    </tr>\n",
              "    <tr>\n",
              "      <th>3</th>\n",
              "      <td>-114.57</td>\n",
              "      <td>33.64</td>\n",
              "      <td>14.0</td>\n",
              "      <td>1501.0</td>\n",
              "      <td>337.0</td>\n",
              "      <td>515.0</td>\n",
              "      <td>226.0</td>\n",
              "      <td>3.1917</td>\n",
              "      <td>73400.0</td>\n",
              "    </tr>\n",
              "    <tr>\n",
              "      <th>4</th>\n",
              "      <td>-114.57</td>\n",
              "      <td>33.57</td>\n",
              "      <td>20.0</td>\n",
              "      <td>1454.0</td>\n",
              "      <td>326.0</td>\n",
              "      <td>624.0</td>\n",
              "      <td>262.0</td>\n",
              "      <td>1.9250</td>\n",
              "      <td>65500.0</td>\n",
              "    </tr>\n",
              "  </tbody>\n",
              "</table>\n",
              "</div>\n",
              "      <button class=\"colab-df-convert\" onclick=\"convertToInteractive('df-12248437-a2f9-4055-a835-4a49b0b9b65e')\"\n",
              "              title=\"Convert this dataframe to an interactive table.\"\n",
              "              style=\"display:none;\">\n",
              "        \n",
              "  <svg xmlns=\"http://www.w3.org/2000/svg\" height=\"24px\"viewBox=\"0 0 24 24\"\n",
              "       width=\"24px\">\n",
              "    <path d=\"M0 0h24v24H0V0z\" fill=\"none\"/>\n",
              "    <path d=\"M18.56 5.44l.94 2.06.94-2.06 2.06-.94-2.06-.94-.94-2.06-.94 2.06-2.06.94zm-11 1L8.5 8.5l.94-2.06 2.06-.94-2.06-.94L8.5 2.5l-.94 2.06-2.06.94zm10 10l.94 2.06.94-2.06 2.06-.94-2.06-.94-.94-2.06-.94 2.06-2.06.94z\"/><path d=\"M17.41 7.96l-1.37-1.37c-.4-.4-.92-.59-1.43-.59-.52 0-1.04.2-1.43.59L10.3 9.45l-7.72 7.72c-.78.78-.78 2.05 0 2.83L4 21.41c.39.39.9.59 1.41.59.51 0 1.02-.2 1.41-.59l7.78-7.78 2.81-2.81c.8-.78.8-2.07 0-2.86zM5.41 20L4 18.59l7.72-7.72 1.47 1.35L5.41 20z\"/>\n",
              "  </svg>\n",
              "      </button>\n",
              "      \n",
              "  <style>\n",
              "    .colab-df-container {\n",
              "      display:flex;\n",
              "      flex-wrap:wrap;\n",
              "      gap: 12px;\n",
              "    }\n",
              "\n",
              "    .colab-df-convert {\n",
              "      background-color: #E8F0FE;\n",
              "      border: none;\n",
              "      border-radius: 50%;\n",
              "      cursor: pointer;\n",
              "      display: none;\n",
              "      fill: #1967D2;\n",
              "      height: 32px;\n",
              "      padding: 0 0 0 0;\n",
              "      width: 32px;\n",
              "    }\n",
              "\n",
              "    .colab-df-convert:hover {\n",
              "      background-color: #E2EBFA;\n",
              "      box-shadow: 0px 1px 2px rgba(60, 64, 67, 0.3), 0px 1px 3px 1px rgba(60, 64, 67, 0.15);\n",
              "      fill: #174EA6;\n",
              "    }\n",
              "\n",
              "    [theme=dark] .colab-df-convert {\n",
              "      background-color: #3B4455;\n",
              "      fill: #D2E3FC;\n",
              "    }\n",
              "\n",
              "    [theme=dark] .colab-df-convert:hover {\n",
              "      background-color: #434B5C;\n",
              "      box-shadow: 0px 1px 3px 1px rgba(0, 0, 0, 0.15);\n",
              "      filter: drop-shadow(0px 1px 2px rgba(0, 0, 0, 0.3));\n",
              "      fill: #FFFFFF;\n",
              "    }\n",
              "  </style>\n",
              "\n",
              "      <script>\n",
              "        const buttonEl =\n",
              "          document.querySelector('#df-12248437-a2f9-4055-a835-4a49b0b9b65e button.colab-df-convert');\n",
              "        buttonEl.style.display =\n",
              "          google.colab.kernel.accessAllowed ? 'block' : 'none';\n",
              "\n",
              "        async function convertToInteractive(key) {\n",
              "          const element = document.querySelector('#df-12248437-a2f9-4055-a835-4a49b0b9b65e');\n",
              "          const dataTable =\n",
              "            await google.colab.kernel.invokeFunction('convertToInteractive',\n",
              "                                                     [key], {});\n",
              "          if (!dataTable) return;\n",
              "\n",
              "          const docLinkHtml = 'Like what you see? Visit the ' +\n",
              "            '<a target=\"_blank\" href=https://colab.research.google.com/notebooks/data_table.ipynb>data table notebook</a>'\n",
              "            + ' to learn more about interactive tables.';\n",
              "          element.innerHTML = '';\n",
              "          dataTable['output_type'] = 'display_data';\n",
              "          await google.colab.output.renderOutput(dataTable, element);\n",
              "          const docLink = document.createElement('div');\n",
              "          docLink.innerHTML = docLinkHtml;\n",
              "          element.appendChild(docLink);\n",
              "        }\n",
              "      </script>\n",
              "    </div>\n",
              "  </div>\n",
              "  "
            ]
          },
          "metadata": {},
          "execution_count": 4
        }
      ]
    },
    {
      "cell_type": "code",
      "metadata": {
        "id": "KTVDAD2KchTv",
        "colab": {
          "base_uri": "https://localhost:8080/"
        },
        "outputId": "a7b404b5-90a3-4e21-b607-8dcc0d5292db"
      },
      "source": [
        "# Remove missing data:\n",
        "\n",
        "df_train = df_train.dropna(how = 'any', axis = 'rows')\n",
        "print('New size: %d' % len(df_train))"
      ],
      "execution_count": null,
      "outputs": [
        {
          "output_type": "stream",
          "name": "stdout",
          "text": [
            "New size: 17000\n"
          ]
        }
      ]
    },
    {
      "cell_type": "code",
      "metadata": {
        "id": "OXgSHPyYcnuv",
        "colab": {
          "base_uri": "https://localhost:8080/",
          "height": 381
        },
        "outputId": "37f1f01f-f92d-464d-b6f2-17a06465c95d"
      },
      "source": [
        "# Histogram fare plot:\n",
        "\n",
        "df_train.median_house_value.hist(bins=100, figsize=(16,5), color = \"red\")\n",
        "plt.xlabel('$ US Dollars', weight = 'bold', family = 'Arial')\n",
        "plt.title('Median Californian House Price', weight = 'bold', family = 'Arial')\n",
        "plt.grid(b=None)"
      ],
      "execution_count": null,
      "outputs": [
        {
          "output_type": "stream",
          "name": "stderr",
          "text": [
            "WARNING:matplotlib.font_manager:findfont: Font family ['Arial'] not found. Falling back to DejaVu Sans.\n",
            "WARNING:matplotlib.font_manager:findfont: Font family ['Arial'] not found. Falling back to DejaVu Sans.\n"
          ]
        },
        {
          "output_type": "display_data",
          "data": {
            "text/plain": [
              "<Figure size 1152x360 with 1 Axes>"
            ],
            "image/png": "[encoded data removed]"
          },
          "metadata": {}
        }
      ]
    },
    {
      "cell_type": "code",
      "metadata": {
        "id": "9TMSdAAjcr4o",
        "colab": {
          "base_uri": "https://localhost:8080/"
        },
        "outputId": "7b0a27be-d927-4548-d183-3529bfed9bf1"
      },
      "source": [
        "y = df_train.median_house_value.values + 1e-10\n",
        "y ### for supervised learning: output vector y"
      ],
      "execution_count": null,
      "outputs": [
        {
          "output_type": "execute_result",
          "data": {
            "text/plain": [
              "array([ 66900.,  80100.,  85700., ..., 103600.,  85800.,  94600.])"
            ]
          },
          "metadata": {},
          "execution_count": 7
        }
      ]
    },
    {
      "cell_type": "code",
      "metadata": {
        "id": "6FOeHvi3cu1n",
        "colab": {
          "base_uri": "https://localhost:8080/",
          "height": 270
        },
        "outputId": "7e545cdc-cd85-483a-ceb5-9455c97a5483"
      },
      "source": [
        "# List first rows (post-cleaning):\n",
        "\n",
        "df_train.head()"
      ],
      "execution_count": null,
      "outputs": [
        {
          "output_type": "execute_result",
          "data": {
            "text/plain": [
              "   longitude  latitude  housing_median_age  total_rooms  total_bedrooms  \\\n",
              "0    -114.31     34.19                15.0       5612.0          1283.0   \n",
              "1    -114.47     34.40                19.0       7650.0          1901.0   \n",
              "2    -114.56     33.69                17.0        720.0           174.0   \n",
              "3    -114.57     33.64                14.0       1501.0           337.0   \n",
              "4    -114.57     33.57                20.0       1454.0           326.0   \n",
              "\n",
              "   population  households  median_income  median_house_value  \n",
              "0      1015.0       472.0         1.4936             66900.0  \n",
              "1      1129.0       463.0         1.8200             80100.0  \n",
              "2       333.0       117.0         1.6509             85700.0  \n",
              "3       515.0       226.0         3.1917             73400.0  \n",
              "4       624.0       262.0         1.9250             65500.0  "
            ],
            "text/html": [
              "\n",
              "  <div id=\"df-75972fdc-3d9e-43f3-b57a-c4d3f95ecefc\">\n",
              "    <div class=\"colab-df-container\">\n",
              "      <div>\n",
              "<style scoped>\n",
              "    .dataframe tbody tr th:only-of-type {\n",
              "        vertical-align: middle;\n",
              "    }\n",
              "\n",
              "    .dataframe tbody tr th {\n",
              "        vertical-align: top;\n",
              "    }\n",
              "\n",
              "    .dataframe thead th {\n",
              "        text-align: right;\n",
              "    }\n",
              "</style>\n",
              "<table border=\"1\" class=\"dataframe\">\n",
              "  <thead>\n",
              "    <tr style=\"text-align: right;\">\n",
              "      <th></th>\n",
              "      <th>longitude</th>\n",
              "      <th>latitude</th>\n",
              "      <th>housing_median_age</th>\n",
              "      <th>total_rooms</th>\n",
              "      <th>total_bedrooms</th>\n",
              "      <th>population</th>\n",
              "      <th>households</th>\n",
              "      <th>median_income</th>\n",
              "      <th>median_house_value</th>\n",
              "    </tr>\n",
              "  </thead>\n",
              "  <tbody>\n",
              "    <tr>\n",
              "      <th>0</th>\n",
              "      <td>-114.31</td>\n",
              "      <td>34.19</td>\n",
              "      <td>15.0</td>\n",
              "      <td>5612.0</td>\n",
              "      <td>1283.0</td>\n",
              "      <td>1015.0</td>\n",
              "      <td>472.0</td>\n",
              "      <td>1.4936</td>\n",
              "      <td>66900.0</td>\n",
              "    </tr>\n",
              "    <tr>\n",
              "      <th>1</th>\n",
              "      <td>-114.47</td>\n",
              "      <td>34.40</td>\n",
              "      <td>19.0</td>\n",
              "      <td>7650.0</td>\n",
              "      <td>1901.0</td>\n",
              "      <td>1129.0</td>\n",
              "      <td>463.0</td>\n",
              "      <td>1.8200</td>\n",
              "      <td>80100.0</td>\n",
              "    </tr>\n",
              "    <tr>\n",
              "      <th>2</th>\n",
              "      <td>-114.56</td>\n",
              "      <td>33.69</td>\n",
              "      <td>17.0</td>\n",
              "      <td>720.0</td>\n",
              "      <td>174.0</td>\n",
              "      <td>333.0</td>\n",
              "      <td>117.0</td>\n",
              "      <td>1.6509</td>\n",
              "      <td>85700.0</td>\n",
              "    </tr>\n",
              "    <tr>\n",
              "      <th>3</th>\n",
              "      <td>-114.57</td>\n",
              "      <td>33.64</td>\n",
              "      <td>14.0</td>\n",
              "      <td>1501.0</td>\n",
              "      <td>337.0</td>\n",
              "      <td>515.0</td>\n",
              "      <td>226.0</td>\n",
              "      <td>3.1917</td>\n",
              "      <td>73400.0</td>\n",
              "    </tr>\n",
              "    <tr>\n",
              "      <th>4</th>\n",
              "      <td>-114.57</td>\n",
              "      <td>33.57</td>\n",
              "      <td>20.0</td>\n",
              "      <td>1454.0</td>\n",
              "      <td>326.0</td>\n",
              "      <td>624.0</td>\n",
              "      <td>262.0</td>\n",
              "      <td>1.9250</td>\n",
              "      <td>65500.0</td>\n",
              "    </tr>\n",
              "  </tbody>\n",
              "</table>\n",
              "</div>\n",
              "      <button class=\"colab-df-convert\" onclick=\"convertToInteractive('df-75972fdc-3d9e-43f3-b57a-c4d3f95ecefc')\"\n",
              "              title=\"Convert this dataframe to an interactive table.\"\n",
              "              style=\"display:none;\">\n",
              "        \n",
              "  <svg xmlns=\"http://www.w3.org/2000/svg\" height=\"24px\"viewBox=\"0 0 24 24\"\n",
              "       width=\"24px\">\n",
              "    <path d=\"M0 0h24v24H0V0z\" fill=\"none\"/>\n",
              "    <path d=\"M18.56 5.44l.94 2.06.94-2.06 2.06-.94-2.06-.94-.94-2.06-.94 2.06-2.06.94zm-11 1L8.5 8.5l.94-2.06 2.06-.94-2.06-.94L8.5 2.5l-.94 2.06-2.06.94zm10 10l.94 2.06.94-2.06 2.06-.94-2.06-.94-.94-2.06-.94 2.06-2.06.94z\"/><path d=\"M17.41 7.96l-1.37-1.37c-.4-.4-.92-.59-1.43-.59-.52 0-1.04.2-1.43.59L10.3 9.45l-7.72 7.72c-.78.78-.78 2.05 0 2.83L4 21.41c.39.39.9.59 1.41.59.51 0 1.02-.2 1.41-.59l7.78-7.78 2.81-2.81c.8-.78.8-2.07 0-2.86zM5.41 20L4 18.59l7.72-7.72 1.47 1.35L5.41 20z\"/>\n",
              "  </svg>\n",
              "      </button>\n",
              "      \n",
              "  <style>\n",
              "    .colab-df-container {\n",
              "      display:flex;\n",
              "      flex-wrap:wrap;\n",
              "      gap: 12px;\n",
              "    }\n",
              "\n",
              "    .colab-df-convert {\n",
              "      background-color: #E8F0FE;\n",
              "      border: none;\n",
              "      border-radius: 50%;\n",
              "      cursor: pointer;\n",
              "      display: none;\n",
              "      fill: #1967D2;\n",
              "      height: 32px;\n",
              "      padding: 0 0 0 0;\n",
              "      width: 32px;\n",
              "    }\n",
              "\n",
              "    .colab-df-convert:hover {\n",
              "      background-color: #E2EBFA;\n",
              "      box-shadow: 0px 1px 2px rgba(60, 64, 67, 0.3), 0px 1px 3px 1px rgba(60, 64, 67, 0.15);\n",
              "      fill: #174EA6;\n",
              "    }\n",
              "\n",
              "    [theme=dark] .colab-df-convert {\n",
              "      background-color: #3B4455;\n",
              "      fill: #D2E3FC;\n",
              "    }\n",
              "\n",
              "    [theme=dark] .colab-df-convert:hover {\n",
              "      background-color: #434B5C;\n",
              "      box-shadow: 0px 1px 3px 1px rgba(0, 0, 0, 0.15);\n",
              "      filter: drop-shadow(0px 1px 2px rgba(0, 0, 0, 0.3));\n",
              "      fill: #FFFFFF;\n",
              "    }\n",
              "  </style>\n",
              "\n",
              "      <script>\n",
              "        const buttonEl =\n",
              "          document.querySelector('#df-75972fdc-3d9e-43f3-b57a-c4d3f95ecefc button.colab-df-convert');\n",
              "        buttonEl.style.display =\n",
              "          google.colab.kernel.accessAllowed ? 'block' : 'none';\n",
              "\n",
              "        async function convertToInteractive(key) {\n",
              "          const element = document.querySelector('#df-75972fdc-3d9e-43f3-b57a-c4d3f95ecefc');\n",
              "          const dataTable =\n",
              "            await google.colab.kernel.invokeFunction('convertToInteractive',\n",
              "                                                     [key], {});\n",
              "          if (!dataTable) return;\n",
              "\n",
              "          const docLinkHtml = 'Like what you see? Visit the ' +\n",
              "            '<a target=\"_blank\" href=https://colab.research.google.com/notebooks/data_table.ipynb>data table notebook</a>'\n",
              "            + ' to learn more about interactive tables.';\n",
              "          element.innerHTML = '';\n",
              "          dataTable['output_type'] = 'display_data';\n",
              "          await google.colab.output.renderOutput(dataTable, element);\n",
              "          const docLink = document.createElement('div');\n",
              "          docLink.innerHTML = docLinkHtml;\n",
              "          element.appendChild(docLink);\n",
              "        }\n",
              "      </script>\n",
              "    </div>\n",
              "  </div>\n",
              "  "
            ]
          },
          "metadata": {},
          "execution_count": 8
        }
      ]
    },
    {
      "cell_type": "code",
      "metadata": {
        "id": "n-lT9BBicw4P",
        "colab": {
          "base_uri": "https://localhost:8080/",
          "height": 206
        },
        "outputId": "5618332b-af35-46f3-bd22-76c3b19b95c0"
      },
      "source": [
        "X = df_train.drop(['median_house_value'], axis = 1)\n",
        "X.head() ### for supervised learning: input matrix X"
      ],
      "execution_count": null,
      "outputs": [
        {
          "output_type": "execute_result",
          "data": {
            "text/plain": [
              "   longitude  latitude  housing_median_age  total_rooms  total_bedrooms  \\\n",
              "0    -114.31     34.19                15.0       5612.0          1283.0   \n",
              "1    -114.47     34.40                19.0       7650.0          1901.0   \n",
              "2    -114.56     33.69                17.0        720.0           174.0   \n",
              "3    -114.57     33.64                14.0       1501.0           337.0   \n",
              "4    -114.57     33.57                20.0       1454.0           326.0   \n",
              "\n",
              "   population  households  median_income  \n",
              "0      1015.0       472.0         1.4936  \n",
              "1      1129.0       463.0         1.8200  \n",
              "2       333.0       117.0         1.6509  \n",
              "3       515.0       226.0         3.1917  \n",
              "4       624.0       262.0         1.9250  "
            ],
            "text/html": [
              "\n",
              "  <div id=\"df-b6c23ab6-3708-4ae9-8a2d-02e2f8dfe38e\">\n",
              "    <div class=\"colab-df-container\">\n",
              "      <div>\n",
              "<style scoped>\n",
              "    .dataframe tbody tr th:only-of-type {\n",
              "        vertical-align: middle;\n",
              "    }\n",
              "\n",
              "    .dataframe tbody tr th {\n",
              "        vertical-align: top;\n",
              "    }\n",
              "\n",
              "    .dataframe thead th {\n",
              "        text-align: right;\n",
              "    }\n",
              "</style>\n",
              "<table border=\"1\" class=\"dataframe\">\n",
              "  <thead>\n",
              "    <tr style=\"text-align: right;\">\n",
              "      <th></th>\n",
              "      <th>longitude</th>\n",
              "      <th>latitude</th>\n",
              "      <th>housing_median_age</th>\n",
              "      <th>total_rooms</th>\n",
              "      <th>total_bedrooms</th>\n",
              "      <th>population</th>\n",
              "      <th>households</th>\n",
              "      <th>median_income</th>\n",
              "    </tr>\n",
              "  </thead>\n",
              "  <tbody>\n",
              "    <tr>\n",
              "      <th>0</th>\n",
              "      <td>-114.31</td>\n",
              "      <td>34.19</td>\n",
              "      <td>15.0</td>\n",
              "      <td>5612.0</td>\n",
              "      <td>1283.0</td>\n",
              "      <td>1015.0</td>\n",
              "      <td>472.0</td>\n",
              "      <td>1.4936</td>\n",
              "    </tr>\n",
              "    <tr>\n",
              "      <th>1</th>\n",
              "      <td>-114.47</td>\n",
              "      <td>34.40</td>\n",
              "      <td>19.0</td>\n",
              "      <td>7650.0</td>\n",
              "      <td>1901.0</td>\n",
              "      <td>1129.0</td>\n",
              "      <td>463.0</td>\n",
              "      <td>1.8200</td>\n",
              "    </tr>\n",
              "    <tr>\n",
              "      <th>2</th>\n",
              "      <td>-114.56</td>\n",
              "      <td>33.69</td>\n",
              "      <td>17.0</td>\n",
              "      <td>720.0</td>\n",
              "      <td>174.0</td>\n",
              "      <td>333.0</td>\n",
              "      <td>117.0</td>\n",
              "      <td>1.6509</td>\n",
              "    </tr>\n",
              "    <tr>\n",
              "      <th>3</th>\n",
              "      <td>-114.57</td>\n",
              "      <td>33.64</td>\n",
              "      <td>14.0</td>\n",
              "      <td>1501.0</td>\n",
              "      <td>337.0</td>\n",
              "      <td>515.0</td>\n",
              "      <td>226.0</td>\n",
              "      <td>3.1917</td>\n",
              "    </tr>\n",
              "    <tr>\n",
              "      <th>4</th>\n",
              "      <td>-114.57</td>\n",
              "      <td>33.57</td>\n",
              "      <td>20.0</td>\n",
              "      <td>1454.0</td>\n",
              "      <td>326.0</td>\n",
              "      <td>624.0</td>\n",
              "      <td>262.0</td>\n",
              "      <td>1.9250</td>\n",
              "    </tr>\n",
              "  </tbody>\n",
              "</table>\n",
              "</div>\n",
              "      <button class=\"colab-df-convert\" onclick=\"convertToInteractive('df-b6c23ab6-3708-4ae9-8a2d-02e2f8dfe38e')\"\n",
              "              title=\"Convert this dataframe to an interactive table.\"\n",
              "              style=\"display:none;\">\n",
              "        \n",
              "  <svg xmlns=\"http://www.w3.org/2000/svg\" height=\"24px\"viewBox=\"0 0 24 24\"\n",
              "       width=\"24px\">\n",
              "    <path d=\"M0 0h24v24H0V0z\" fill=\"none\"/>\n",
              "    <path d=\"M18.56 5.44l.94 2.06.94-2.06 2.06-.94-2.06-.94-.94-2.06-.94 2.06-2.06.94zm-11 1L8.5 8.5l.94-2.06 2.06-.94-2.06-.94L8.5 2.5l-.94 2.06-2.06.94zm10 10l.94 2.06.94-2.06 2.06-.94-2.06-.94-.94-2.06-.94 2.06-2.06.94z\"/><path d=\"M17.41 7.96l-1.37-1.37c-.4-.4-.92-.59-1.43-.59-.52 0-1.04.2-1.43.59L10.3 9.45l-7.72 7.72c-.78.78-.78 2.05 0 2.83L4 21.41c.39.39.9.59 1.41.59.51 0 1.02-.2 1.41-.59l7.78-7.78 2.81-2.81c.8-.78.8-2.07 0-2.86zM5.41 20L4 18.59l7.72-7.72 1.47 1.35L5.41 20z\"/>\n",
              "  </svg>\n",
              "      </button>\n",
              "      \n",
              "  <style>\n",
              "    .colab-df-container {\n",
              "      display:flex;\n",
              "      flex-wrap:wrap;\n",
              "      gap: 12px;\n",
              "    }\n",
              "\n",
              "    .colab-df-convert {\n",
              "      background-color: #E8F0FE;\n",
              "      border: none;\n",
              "      border-radius: 50%;\n",
              "      cursor: pointer;\n",
              "      display: none;\n",
              "      fill: #1967D2;\n",
              "      height: 32px;\n",
              "      padding: 0 0 0 0;\n",
              "      width: 32px;\n",
              "    }\n",
              "\n",
              "    .colab-df-convert:hover {\n",
              "      background-color: #E2EBFA;\n",
              "      box-shadow: 0px 1px 2px rgba(60, 64, 67, 0.3), 0px 1px 3px 1px rgba(60, 64, 67, 0.15);\n",
              "      fill: #174EA6;\n",
              "    }\n",
              "\n",
              "    [theme=dark] .colab-df-convert {\n",
              "      background-color: #3B4455;\n",
              "      fill: #D2E3FC;\n",
              "    }\n",
              "\n",
              "    [theme=dark] .colab-df-convert:hover {\n",
              "      background-color: #434B5C;\n",
              "      box-shadow: 0px 1px 3px 1px rgba(0, 0, 0, 0.15);\n",
              "      filter: drop-shadow(0px 1px 2px rgba(0, 0, 0, 0.3));\n",
              "      fill: #FFFFFF;\n",
              "    }\n",
              "  </style>\n",
              "\n",
              "      <script>\n",
              "        const buttonEl =\n",
              "          document.querySelector('#df-b6c23ab6-3708-4ae9-8a2d-02e2f8dfe38e button.colab-df-convert');\n",
              "        buttonEl.style.display =\n",
              "          google.colab.kernel.accessAllowed ? 'block' : 'none';\n",
              "\n",
              "        async function convertToInteractive(key) {\n",
              "          const element = document.querySelector('#df-b6c23ab6-3708-4ae9-8a2d-02e2f8dfe38e');\n",
              "          const dataTable =\n",
              "            await google.colab.kernel.invokeFunction('convertToInteractive',\n",
              "                                                     [key], {});\n",
              "          if (!dataTable) return;\n",
              "\n",
              "          const docLinkHtml = 'Like what you see? Visit the ' +\n",
              "            '<a target=\"_blank\" href=https://colab.research.google.com/notebooks/data_table.ipynb>data table notebook</a>'\n",
              "            + ' to learn more about interactive tables.';\n",
              "          element.innerHTML = '';\n",
              "          dataTable['output_type'] = 'display_data';\n",
              "          await google.colab.output.renderOutput(dataTable, element);\n",
              "          const docLink = document.createElement('div');\n",
              "          docLink.innerHTML = docLinkHtml;\n",
              "          element.appendChild(docLink);\n",
              "        }\n",
              "      </script>\n",
              "    </div>\n",
              "  </div>\n",
              "  "
            ]
          },
          "metadata": {},
          "execution_count": 9
        }
      ]
    },
    {
      "cell_type": "code",
      "metadata": {
        "id": "2eC8SDPzczNY"
      },
      "source": [
        "### Optimum rmse: regression model objective function is Root Mean Square Error (RMSE); \n",
        "### Should be minimized (as close to zero as possible):\n",
        "\n",
        "y_global_orig = 0"
      ],
      "execution_count": null,
      "outputs": []
    },
    {
      "cell_type": "code",
      "metadata": {
        "id": "GoTmWEhSc1qQ"
      },
      "source": [
        "### Bayesian Optimization - inputs:\n",
        "\n",
        "obj_func = 'XGBoost'\n",
        "n_test = 500 # test points\n",
        "\n",
        "util = 'CBM'\n",
        "n_init = 5 # random initialisations\n",
        "opt = True\n",
        "\n",
        "test_perc = 0.1\n",
        "train_perc = 1 - test_perc\n",
        "\n",
        "n_test = int(len(df_train) * test_perc)\n",
        "n_train = int(len(df_train) - n_test)\n",
        "\n",
        "eps = 1e-08"
      ],
      "execution_count": null,
      "outputs": []
    },
    {
      "cell_type": "code",
      "metadata": {
        "id": "W2ngnRxbc7cg"
      },
      "source": [
        "### Objective function:\n",
        "\n",
        "if obj_func == 'XGBoost': # 6-D\n",
        "            \n",
        "    # Constraints:\n",
        "    param_lb_alpha = 0\n",
        "    param_ub_alpha = 10\n",
        "    \n",
        "    param_lb_gamma = 0\n",
        "    param_ub_gamma = 10\n",
        "    \n",
        "    param_lb_max_depth = 5\n",
        "    param_ub_max_depth = 15\n",
        "    \n",
        "    param_lb_min_child_weight = 1\n",
        "    param_ub_min_child_weight = 20\n",
        "    \n",
        "    param_lb_subsample = .5\n",
        "    param_ub_subsample = 1\n",
        "    \n",
        "    param_lb_colsample = .1\n",
        "    param_ub_colsample = 1\n",
        "    \n",
        "    # 6-D inputs' parameter bounds:\n",
        "    param = { 'alpha':  ('cont', (param_lb_alpha, param_ub_alpha)),\n",
        "         'gamma':  ('cont', (param_lb_gamma, param_ub_gamma)),     \n",
        "         'max_depth':  ('int', (param_lb_max_depth, param_ub_max_depth)),\n",
        "         'subsample':  ('cont', (param_lb_subsample, param_ub_subsample)),\n",
        "          'min_child_weight':  ('int', (param_lb_min_child_weight, param_ub_min_child_weight)),\n",
        "            'colsample': ('cont', (param_lb_colsample, param_ub_colsample))\n",
        "        }\n",
        "       \n",
        "    # True y bounds:\n",
        "    dim = 6\n",
        "    \n",
        "    max_iter = 30  # iterations of Bayesian optimization\n",
        "    \n",
        "    operator = 1 \n",
        "    \n",
        "    n_est = 5"
      ],
      "execution_count": null,
      "outputs": []
    },
    {
      "cell_type": "code",
      "metadata": {
        "id": "_3pmZYhVl9Hb"
      },
      "source": [
        "n_start_AcqFunc = max_iter\n"
      ],
      "execution_count": null,
      "outputs": []
    },
    {
      "cell_type": "code",
      "metadata": {
        "id": "PmJsNX29c_xA"
      },
      "source": [
        "### Surrogate derivatives: \n",
        "\n",
        "cov_func = squaredExponential()\n",
        "\n",
        "def kronDelta(X, Xstar):                     # Kronecker's Delta method\n",
        "    return cdist(X, Xstar) < np.finfo(np.float32).eps\n",
        "\n",
        "def se(X, Xstar, sigmaf, l, sigman):         # S.E. kernel method\n",
        "    return sigmaf * np.exp(-0.5 * cdist(X, Xstar) ** 2 / l ** 2) + sigman * kronDelta(X, Xstar)\n",
        "\n",
        "def delta(X, Xstar):                         # Distance between training X and test Xstar vectors\n",
        "    return (X - Xstar)\n",
        "   \n",
        "def der_covmat(X, Xstar, sigmaf, l, sigman): # Covariance matrix derivative terms (i.e. exact, first-order)\n",
        "    nx = len(X)\n",
        "    ny = len(Xstar)\n",
        "    return np.round(np.array([(delta(np.atleast_2d(i), np.atleast_2d(j))[0] * se(np.atleast_2d(i), np.atleast_2d(j), sigmaf, l, sigman)[0]).sum() for (i, j) in itertools.product(X, Xstar)]).reshape(nx, ny), 8)\n",
        "\n",
        "class dGaussianProcess(GaussianProcess):    # Via inheritance, also optimises hyperparameters when opt = TRUE\n",
        "    \n",
        "    def AcqGrad(self, Xstar):               # Method returning exact, first-order derivatives of the GP's posterior mean and standard deviation\n",
        "        Xstar = np.atleast_2d(Xstar)\n",
        "        Kstar = self.covfunc.K(self.X, Xstar).T\n",
        "        \n",
        "        dKstar = der_covmat(self.X, Xstar, self.covfunc.sigmaf, self.covfunc.l, self.covfunc.sigman).T\n",
        "        alpha_Kstar = np.dot(np.linalg.inv(self.K + (self.covfunc.sigman**2) * np.eye(len(self.X))), Kstar.T)\n",
        "        \n",
        "        dm = np.dot(dKstar, self.alpha)\n",
        "        ds = -2 * np.dot(dKstar, alpha_Kstar)\n",
        "        \n",
        "        return dm, ds           \n",
        "        "
      ],
      "execution_count": null,
      "outputs": []
    },
    {
      "cell_type": "code",
      "metadata": {
        "id": "n9ZuEB2VdE0W"
      },
      "source": [
        "### Set-seeds:\n",
        "\n",
        "run_num_1 = 1\n",
        "run_num_2 = 2\n",
        "run_num_3 = 3\n",
        "run_num_4 = 4\n",
        "run_num_5 = 5\n",
        "run_num_6 = 6\n",
        "run_num_7 = 7\n",
        "run_num_8 = 8\n",
        "run_num_9 = 9\n",
        "run_num_10 = 10\n",
        "run_num_11 = 11\n",
        "run_num_12 = 12\n",
        "run_num_13 = 13\n",
        "run_num_14 = 14\n",
        "run_num_15 = 15\n",
        "run_num_16 = 16\n",
        "run_num_17 = 17\n",
        "run_num_18 = 18\n",
        "run_num_19 = 19\n",
        "run_num_20 = 20\n"
      ],
      "execution_count": null,
      "outputs": []
    },
    {
      "cell_type": "code",
      "metadata": {
        "id": "XgHMFEyPdCk4"
      },
      "source": [
        "### Cumulative Regret Calculator:\n",
        "\n",
        "def min_max_array(x):\n",
        "    new_list = []\n",
        "    for i, num in enumerate(x):\n",
        "            new_list.append(np.min(x[0:i+1]))\n",
        "    return new_list\n",
        "    "
      ],
      "execution_count": null,
      "outputs": []
    },
    {
      "cell_type": "code",
      "source": [
        "### Add exact acquisition function gradient as attribute:\n",
        "\n",
        "Beta_CBM = dim\n",
        "\n",
        "class Acquisition_grad(Acquisition):    \n",
        "    def __init__(self, mode, eps=eps, **params):\n",
        "        \n",
        "        self.params = params\n",
        "        self.eps = eps\n",
        "\n",
        "        mode_dict = {\n",
        "            'CBM': self.CBM\n",
        "        }\n",
        "\n",
        "        self.f = mode_dict[mode]\n",
        "    \n",
        "    def CBM(self, y_global_orig, mean, std, ds, dm):\n",
        "        gamma = (mean - y_global_orig - self.eps) / (std + self.eps)\n",
        "        gamma_h = (mean - y_global_orig) / (std + self.eps)\n",
        "        dsdx = ds / (2 * (std + self.eps))\n",
        "        dmdx = (dm - gamma * dsdx) / (std + self.eps)\n",
        "\n",
        "        f = (std + self.eps) * (gamma + np.sqrt(Beta_CBM))\n",
        "        df = dsdx * (gamma + np.sqrt(Beta_CBM)) + (std + self.eps) * dmdx\n",
        "        df_arr = []\n",
        "\n",
        "        for j in range(0, dim):\n",
        "          df_arr.append(df)\n",
        "        return f, np.asarray(df_arr).transpose()\n",
        "        \n",
        "    def d_eval(self, y_global_orig, mean, std, ds, dm):\n",
        "    \n",
        "        return self.f(y_global_orig, mean, std, ds, dm, **self.params)\n",
        "        "
      ],
      "metadata": {
        "id": "ZIh5RYGkwBUZ"
      },
      "execution_count": null,
      "outputs": []
    },
    {
      "cell_type": "code",
      "metadata": {
        "id": "yAK8N5bwfuJ7"
      },
      "source": [
        "## GPGO_multi: \n",
        "\n",
        "class GPGO_multi(GPGO):\n",
        "    n_start = n_start_AcqFunc\n",
        "\n",
        "    def __init__(self, surrogate, acquisition, f, parameter_dict, n_jobs=1):\n",
        "        self.GP = surrogate\n",
        "        self.A = acquisition\n",
        "        self.f = f\n",
        "        self.parameters = parameter_dict\n",
        "        self.n_jobs = n_jobs\n",
        "\n",
        "        self.parameter_key = list(parameter_dict.keys())\n",
        "        self.parameter_value = list(parameter_dict.values())\n",
        "        self.parameter_type = [p[0] for p in self.parameter_value]\n",
        "        self.parameter_range = [p[1] for p in self.parameter_value]\n",
        "\n",
        "        self.history = []\n",
        "        self.header =   'Evaluation \\t Proposed point \\t  Current eval. \\t  Best eval. \\t         Max. ExactAcqFunc \\t Max. ApproxAcqFunc '\n",
        "        self.template = '{:3}\\t {}\\t {:3}\\t {:3}\\t {:3}\\t {:3}'\n",
        " \n",
        "    def acqfuncExact(self, xnew, n_start=n_start_AcqFunc):\n",
        "        new_mean, new_var = self.GP.predict(xnew, return_std=True)\n",
        "        new_std = np.sqrt(new_var + eps)\n",
        "        dm, ds = self.GP.AcqGrad(xnew)\n",
        "        f, df = self.A.d_eval(y_global_orig, new_mean, new_std, ds=ds, dm=dm)\n",
        "\n",
        "        return -f, -df\n",
        "   \n",
        "    def acqfuncApprox(self, xnew, n_start=n_start_AcqFunc):\n",
        "        new_mean, new_var = self.GP.predict(xnew, return_std=True)\n",
        "        new_std = np.sqrt(new_var + eps)\n",
        "        dm, ds = self.GP.AcqGrad(xnew)\n",
        "        f, df = self.A.d_eval(y_global_orig, new_mean, new_std, ds=ds, dm=dm)\n",
        "\n",
        "        return -f\n",
        "   \n",
        "    def _optimizeAcq(self, method='L-BFGS-B', n_start=n_start_AcqFunc):\n",
        "        \n",
        "        start_points_dict = [self._sampleParam() for i in range(n_start)]\n",
        "        start_points_arr = np.array([list(s.values())\n",
        "                                     for s in start_points_dict])\n",
        "        x_best = np.empty((n_start, len(self.parameter_key)))\n",
        "        f_best = np.empty((n_start,))\n",
        "        opt = Parallel(n_jobs=self.n_jobs)(delayed(minimize)(self.acqfuncApprox,\n",
        "                                                                 x0=start_point,\n",
        "                                                                 method=method,\n",
        "                                                                 jac = False,\n",
        "                                                                 bounds=self.parameter_range) for start_point in\n",
        "                                               start_points_arr)\n",
        "        x_best = np.array([res.x for res in opt])\n",
        "        f_best = np.array([np.atleast_1d(res.fun)[0] for res in opt])\n",
        "        f_best_min = min(f_best)\n",
        "\n",
        "        self.x_best = x_best\n",
        "        self.f_best = f_best\n",
        "        self.f_best_min = f_best_min\n",
        "        self.best = x_best[np.argmin(f_best)]\n",
        "        self.start_points_arr = start_points_arr        \n",
        "        self.history.append(self.f_best_min)\n",
        "\n",
        "        x_best_exact = np.empty((n_start, len(self.parameter_key)))\n",
        "        f_best_exact = np.empty((n_start,))\n",
        "        opt_exact = Parallel(n_jobs=self.n_jobs)(delayed(minimize)(self.acqfuncExact,\n",
        "                                                                 x0=start_point,\n",
        "                                                                 method=method,\n",
        "                                                                 jac = True,\n",
        "                                                                 bounds=self.parameter_range) for start_point in\n",
        "                                               start_points_arr)\n",
        "        x_best_exact = np.array([res.x for res in opt_exact])\n",
        "        f_best_exact = np.array([np.atleast_1d(res.fun)[0] for res in opt_exact])\n",
        "        f_best_min_exact = min(f_best_exact)\n",
        "\n",
        "        self.x_best_exact = x_best_exact\n",
        "        self.f_best_exact = f_best_exact\n",
        "        self.f_best_min_exact = f_best_min_exact\n",
        "        self.best_exact = x_best_exact[np.argmin(f_best_exact)]\n",
        "        self.start_points_arr = start_points_arr\n",
        "        self.history.append(self.f_best_min_exact)\n",
        "\n",
        "    def _printInit(self):\n",
        "        print(self.header)\n",
        "        inverse = -1\n",
        "        for init_eval in range(self.init_evals):\n",
        "            print(self.template.format('init', self.GP.X[init_eval], inverse * self.GP.y[init_eval], inverse * self.tau, '', ''))\n",
        "      \n",
        "    def _printCurrent(self):\n",
        "        OKGREEN = '\\033[92m'\n",
        "        ENDC = '\\033[0m'\n",
        "        BOLD = '\\033[1m'\n",
        "        inverse = -1\n",
        "        eval = str(len(self.GP.y) - self.init_evals)\n",
        "        proposed = str(self.best)\n",
        "        curr_eval = str(inverse * self.GP.y[-1])\n",
        "        curr_best = str(inverse * self.tau)\n",
        "        max_acqfunc = str(inverse * self.f_best_min)\n",
        "        max_acqfunc_exact = str(inverse * self.f_best_min_exact)\n",
        "        if float(curr_eval) <= float(curr_best):\n",
        "            eval = BOLD + OKGREEN + eval + ENDC\n",
        "            proposed = BOLD + OKGREEN + proposed + ENDC\n",
        "            curr_eval = BOLD + OKGREEN + curr_eval + ENDC\n",
        "            curr_best = BOLD + OKGREEN + curr_best + ENDC\n",
        "            max_acqfunc = BOLD + OKGREEN + max_acqfunc + ENDC\n",
        "            max_acqfunc_exact = BOLD + OKGREEN + max_acqfunc_exact + ENDC\n",
        "        print(self.template.format(eval, proposed, curr_eval, curr_best, max_acqfunc_exact, max_acqfunc))\n",
        "        \n",
        "    def run(self, max_iter=10, init_evals=3, resume=False):\n",
        "        \n",
        "        if not resume:\n",
        "            self.init_evals = init_evals\n",
        "            self._firstRun(self.init_evals)\n",
        "            self._printInit()\n",
        "        for iteration in range(max_iter):\n",
        "            self._optimizeAcq()\n",
        "            self.updateGP()\n",
        "            self._printCurrent()\n"
      ],
      "execution_count": null,
      "outputs": []
    },
    {
      "cell_type": "code",
      "metadata": {
        "id": "S422jNLsdIMm"
      },
      "source": [
        "## dGPGO:\n",
        "\n",
        "class dGPGO(GPGO):\n",
        "    n_start = n_start_AcqFunc\n",
        "\n",
        "    def __init__(self, surrogate, acquisition, f, parameter_dict, n_jobs=1):\n",
        "        self.GP = surrogate\n",
        "        self.A = acquisition\n",
        "        self.f = f\n",
        "        self.parameters = parameter_dict\n",
        "        self.n_jobs = n_jobs\n",
        "\n",
        "        self.parameter_key = list(parameter_dict.keys())\n",
        "        self.parameter_value = list(parameter_dict.values())\n",
        "        self.parameter_type = [p[0] for p in self.parameter_value]\n",
        "        self.parameter_range = [p[1] for p in self.parameter_value]\n",
        "\n",
        "        self.history = []\n",
        "        self.header =   'Evaluation \\t Proposed point \\t  Current eval. \\t  Best eval. \\t         Max. ExactAcqFunc \\t Max. ApproxAcqFunc '\n",
        "        self.template = '{:3}\\t {}\\t {:3}\\t {:3}\\t {:3}\\t {:3}'\n",
        "\n",
        "    def acqfuncExact(self, xnew, n_start=n_start_AcqFunc):\n",
        "        new_mean, new_var = self.GP.predict(xnew, return_std=True)\n",
        "        new_std = np.sqrt(new_var + eps)\n",
        "        dm, ds = self.GP.AcqGrad(xnew)\n",
        "        f, df = self.A.d_eval(y_global_orig, new_mean, new_std, ds=ds, dm=dm)\n",
        "\n",
        "        return -f, -df\n",
        "   \n",
        "    def acqfuncApprox(self, xnew, n_start=n_start_AcqFunc):\n",
        "        new_mean, new_var = self.GP.predict(xnew, return_std=True)\n",
        "        new_std = np.sqrt(new_var + eps)\n",
        "        dm, ds = self.GP.AcqGrad(xnew)\n",
        "        f, df = self.A.d_eval(y_global_orig, new_mean, new_std, ds=ds, dm=dm)\n",
        "\n",
        "        return -f\n",
        "\n",
        "    def d_optimizeAcq(self, method='L-BFGS-B', n_start=n_start_AcqFunc):\n",
        "        start_points_dict = [self._sampleParam() for i in range(n_start)]\n",
        "        start_points_arr = np.array([list(s.values())\n",
        "                                     for s in start_points_dict])\n",
        "        x_best = np.empty((n_start, len(self.parameter_key)))\n",
        "        f_best = np.empty((n_start,))\n",
        "        opt = Parallel(n_jobs=self.n_jobs)(delayed(minimize)(self.acqfuncExact,\n",
        "                                                                 x0=start_point,\n",
        "                                                                 method=method,\n",
        "                                                                 jac = True,\n",
        "                                                                 bounds=self.parameter_range) for start_point in\n",
        "                                               start_points_arr)\n",
        "        x_best = np.array([res.x for res in opt])\n",
        "        f_best = np.array([np.atleast_1d(res.fun)[0] for res in opt])\n",
        "        f_best_min = min(f_best)\n",
        "\n",
        "        self.x_best = x_best\n",
        "        self.f_best = f_best\n",
        "        self.f_best_min = f_best_min\n",
        "        self.best = x_best[np.argmin(f_best)]\n",
        "        self.start_points_arr = start_points_arr\n",
        "        self.history.append(self.f_best_min)\n",
        "\n",
        "        x_best_approx = np.empty((n_start, len(self.parameter_key)))\n",
        "        f_best_approx = np.empty((n_start,))\n",
        "        opt_approx = Parallel(n_jobs=self.n_jobs)(delayed(minimize)(self.acqfuncApprox,\n",
        "                                                                 x0=start_point,\n",
        "                                                                 method=method,\n",
        "                                                                 jac = False,\n",
        "                                                                 bounds=self.parameter_range) for start_point in\n",
        "                                               start_points_arr)\n",
        "        x_best_approx = np.array([res.x for res in opt_approx])\n",
        "        f_best_approx = np.array([np.atleast_1d(res.fun)[0] for res in opt_approx])\n",
        "        f_best_min_approx = min(f_best_approx)\n",
        "\n",
        "        self.x_best_approx = x_best_approx\n",
        "        self.f_best_approx = f_best_approx\n",
        "        self.f_best_min_approx = f_best_min_approx\n",
        "        self.best_approx = x_best_approx[np.argmin(f_best_approx)]\n",
        "        self.start_points_arr = start_points_arr\n",
        "        self.history.append(self.f_best_min_approx)\n",
        "    \n",
        "    def _printInit(self):\n",
        "        print(self.header)\n",
        "        inverse = -1\n",
        "        for init_eval in range(self.init_evals):\n",
        "            print(self.template.format('init', self.GP.X[init_eval], inverse * self.GP.y[init_eval], inverse * self.tau, '', ''))\n",
        "      \n",
        "    def _printCurrent(self):\n",
        "        OKGREEN = '\\033[92m'\n",
        "        ENDC = '\\033[0m'\n",
        "        BOLD = '\\033[1m'\n",
        "        inverse = -1\n",
        "        eval = str(len(self.GP.y) - self.init_evals)\n",
        "        proposed = str(self.best)\n",
        "        curr_eval = str(inverse * self.GP.y[-1])\n",
        "        curr_best = str(inverse * self.tau)\n",
        "        max_acqfunc = str(inverse * self.f_best_min)\n",
        "        max_acqfunc_approx = str(inverse * self.f_best_min_approx)\n",
        "        if float(curr_eval) <= float(curr_best):\n",
        "            eval = BOLD + OKGREEN + eval + ENDC\n",
        "            proposed = BOLD + OKGREEN + proposed + ENDC\n",
        "            curr_eval = BOLD + OKGREEN + curr_eval + ENDC\n",
        "            curr_best = BOLD + OKGREEN + curr_best + ENDC\n",
        "            max_acqfunc = BOLD + OKGREEN + max_acqfunc + ENDC\n",
        "            max_acqfunc_approx = BOLD + OKGREEN + max_acqfunc_approx + ENDC\n",
        "        print(self.template.format(eval, proposed, curr_eval, curr_best, max_acqfunc, max_acqfunc_approx))\n",
        "\n",
        "    def run(self, max_iter=10, init_evals=3, resume=False):\n",
        "        \n",
        "        if not resume:\n",
        "            self.init_evals = init_evals\n",
        "            self._firstRun(self.init_evals)\n",
        "            self._printInit()\n",
        "        for iteration in range(max_iter):\n",
        "            self.d_optimizeAcq()\n",
        "            self.updateGP()\n",
        "            self._printCurrent()\n"
      ],
      "execution_count": null,
      "outputs": []
    },
    {
      "cell_type": "code",
      "metadata": {
        "id": "HlilveEgdIR_",
        "colab": {
          "base_uri": "https://localhost:8080/"
        },
        "outputId": "66344fd4-e3fb-4442-cb7b-48570b710631"
      },
      "source": [
        "start_approx = time.time()\n",
        "start_approx"
      ],
      "execution_count": null,
      "outputs": [
        {
          "output_type": "execute_result",
          "data": {
            "text/plain": [
              "1663852469.4390218"
            ]
          },
          "metadata": {},
          "execution_count": 20
        }
      ]
    },
    {
      "cell_type": "code",
      "metadata": {
        "id": "1wlzDSHbUG-c",
        "colab": {
          "base_uri": "https://localhost:8080/"
        },
        "outputId": "88b5dca2-abb8-46c2-946e-abd9a82fdd0f"
      },
      "source": [
        "### Bayesian optimization runs (x20): 'approx' Acquisition Function run number = 1\n",
        "\n",
        "np.random.seed(run_num_1)\n",
        "surrogate_approx_1 = dGaussianProcess(cov_func, optimize=opt)\n",
        "\n",
        "X_train1, X_test1, y_train1, y_test1 = train_test_split(X, y, test_size=test_perc, random_state=run_num_1)\n",
        "\n",
        "def f_syn_polarity1(alpha, gamma, max_depth, subsample, min_child_weight, colsample):\n",
        "    reg = XGBRegressor(reg_alpha=alpha, gamma=gamma, max_depth=int(max_depth), subsample=subsample, min_child_weight=min_child_weight,\n",
        "          colsample_bytree=colsample, n_estimators = n_est, random_state=run_num_1, objective = 'reg:squarederror')\n",
        "    score = np.array(cross_val_score(reg, X=X_train1, y=y_train1).mean())\n",
        "    return operator * score\n",
        "\n",
        "approx_1 = GPGO_multi(surrogate_approx_1, Acquisition_grad(util), f_syn_polarity1, param, n_jobs = -1) # define BayesOpt\n",
        "approx_1.run(max_iter = max_iter, init_evals = n_init) # run\n",
        "\n",
        "### Return optimal parameters' set:\n",
        "params_approx_1 = approx_1.getResult()[0]\n",
        "params_approx_1['max_depth'] = int(params_approx_1['max_depth'])\n",
        "params_approx_1['min_child_weight'] = int(params_approx_1['min_child_weight'])\n",
        "\n",
        "### Re-train with optimal parameters, run predictons:\n",
        "dX_approx_train1 = xgb.DMatrix(X_train1, y_train1)\n",
        "dX_approx_test1 = xgb.DMatrix(X_test1, y_test1)\n",
        "model_approx_1 = xgb.train(params_approx_1, dX_approx_train1)\n",
        "pred_approx_1 = model_approx_1.predict(dX_approx_test1)\n",
        "\n",
        "rmse_approx_1 = np.sqrt(mean_squared_error(pred_approx_1, y_test1))\n",
        "rmse_approx_1"
      ],
      "execution_count": null,
      "outputs": [
        {
          "output_type": "stream",
          "name": "stdout",
          "text": [
            "Evaluation \t Proposed point \t  Current eval. \t  Best eval. \t         Max. ExactAcqFunc \t Max. ApproxAcqFunc \n",
            "init\t [ 4.17022005  7.20324493 14.          0.65116629 16.          0.31248008]\t 1.0028690365100252\t 0.6536753952667645\t    \t    \n",
            "init\t [ 3.96580727  3.87910741 11.          0.96776954  6.          0.71669755]\t 0.7391862019705779\t 0.6536753952667645\t    \t    \n",
            "init\t [ 2.0445225   8.78117436  7.          0.95698101 10.          0.48762871]\t 0.8806962872539386\t 0.6536753952667645\t    \t    \n",
            "init\t [ 9.39127789  7.78389236 14.          0.98413079  2.          0.87851823]\t 0.6536753952667645\t 0.6536753952667645\t    \t    \n",
            "init\t [8.29146907 8.29603359 8.         0.58491521 9.         0.18851215]\t 1.062518544792604\t 0.6536753952667645\t    \t    \n",
            "1  \t [ 7.86951474  0.6406733  11.          0.78919481 19.          0.44182296]\t 0.8659738506300403\t 0.6536753952667645\t 2.158888799766123\t 2.158888799766123\n",
            "2  \t [ 0.74723898  0.36469704 11.          0.84902862 15.          0.10419698]\t 1.0589776023267656\t 0.6536753952667645\t 2.1526533803426173\t 2.1526533803426173\n",
            "3  \t [ 3.61274713  8.16007507 11.          0.84840025 19.          0.76215891]\t 0.6771887207267527\t 0.6536753952667645\t 2.221071180615788\t 2.221071180615788\n",
            "4  \t [ 9.28266952  0.44927819  7.          0.97265422 12.          0.93288355]\t 0.6820774846874944\t 0.6536753952667645\t 2.1588078297937097\t 2.1588078297937097\n",
            "5  \t [7.26893753 4.77012994 6.         0.80503254 3.         0.5748569 ]\t 0.8345963893957073\t 0.6536753952667645\t 2.1101589341307614\t 2.1101589341297737\n",
            "6  \t [ 5.1476318   2.63826491  5.          0.83046451 17.          0.39543049]\t 0.9004243658767852\t 0.6536753952667645\t 2.1036663850209916\t 2.103666385017277\n",
            "7  \t [ 2.05722318  9.92568059 11.          0.85938245  2.          0.31039182]\t 1.0042308077866626\t 0.6536753952667645\t 2.1131367179971634\t 2.1131367179971634\n",
            "8  \t [1.97196346 6.91027342 6.         0.70962747 4.         0.32017066]\t 1.003362317360003\t 0.6536753952667645\t 2.144174086227158\t 2.1441740862132646\n",
            "9  \t [ 2.08878558  0.52993661 12.          0.75288969  1.          0.24822289]\t 1.0632523501795186\t 0.6536753952667645\t 2.1698978450033426\t 2.1698978450033426\n",
            "10 \t [ 9.11336104  7.53362458  9.          0.74107696 16.          0.6810286 ]\t 0.7469510576000753\t 0.6536753952667645\t 2.2037827472789955\t 2.2037827472789955\n",
            "11 \t [ 9.4605503   2.00186066 12.          0.69186722  8.          0.11311186]\t 1.061946992849472\t 0.6536753952667645\t 2.1808381349032353\t 2.1808381349032353\n",
            "12 \t [ 1.88604523  9.48103721 11.          0.62052948 13.          0.76002949]\t 0.6847474575843426\t 0.6536753952667645\t 2.209457038082458\t 2.209457038082458\n",
            "13 \t [ 0.31984184  8.77960419  5.          0.79374224 16.          0.99761184]\t 0.7310969316491746\t 0.6536753952667645\t 2.181748797206023\t 2.181748797206023\n",
            "14 \t [ 0.99440257  2.23238431 10.          0.58984965 12.          0.68792603]\t 0.7499303794197336\t 0.6536753952667645\t 2.1618857521762234\t 2.1618857521762234\n",
            "15 \t [ 9.20512342  1.60831322 11.          0.87041344  2.          0.50117029]\t 0.8186293003915115\t 0.6536753952667645\t 2.146003391377155\t 2.146003391377155\n",
            "16 \t [ 0.28990425  5.36117717 14.          0.57624837 11.          0.76620972]\t 0.684834878460344\t 0.6536753952667645\t 2.139079973754917\t 2.139079031190328\n",
            "17 \t [ 9.05451551  8.43196135 13.          0.88399349 12.          0.71276317]\t 0.7394602490781731\t 0.6536753952667645\t 2.119465262209937\t 2.1194652621892827\n",
            "18 \t [7.53620606 9.21585827 9.         0.6102649  4.         0.74959467]\t 0.7555390919337681\t 0.6536753952667645\t 2.1064575727085675\t 2.1064575727085675\n",
            "19 \t [0.02000301 0.98539011 7.         0.81225498 5.         0.83272223]\t 0.7016321198241581\t 0.6536753952667645\t 2.0959430438735906\t 2.0959430438735906\n",
            "20 \t [10.         10.          5.          0.5        13.94198272  0.1       ]\t 1.0646374097379132\t 0.6536753952667645\t 2.0815875461021642\t 2.0815869937585267\n",
            "21 \t [ 8.31884352  7.48611185 14.          0.79056923 18.          0.91287819]\t 0.6570802060505262\t 0.6536753952667645\t 2.105204466062386\t 2.105204466062386\n",
            "22 \t [ 4.65410509  7.57869444  5.          0.7635136  15.          0.8131422 ]\t 0.7396988098813949\t 0.6536753952667645\t 2.0883157102373247\t 2.0883157102373247\n",
            "23 \t [9.75910946 3.15553839 5.         0.81190775 7.         0.66076168]\t 0.8026335283678844\t 0.6536753952667645\t 2.078690321094558\t 2.078690002029609\n",
            "24 \t [ 7.04750175  3.42465254 14.          0.6398927  13.          0.58870141]\t 0.815252067284572\t 0.6536753952667645\t 2.074809140466924\t 2.074809140466924\n",
            "25 \t [3.92428694 0.68431362 6.         0.64283095 9.         0.2162494 ]\t 1.0619895012405975\t 0.6536753952667645\t 2.072177501492521\t 2.072177501492521\n",
            "26 \t [ 1.03968583  3.49943563 14.          0.82879876  3.          0.98366866]\t 0.6562345271802523\t 0.6536753952667645\t 2.0919735698051527\t 2.0919735698051527\n",
            "27 \t [ 2.52136808  8.51741902 14.          0.89185963  6.          0.23066693]\t 1.0608073786807473\t 0.6536753952667645\t 2.0781069101536094\t 2.0781069101536094\n",
            "28 \t [ 0.15246909  0.64891005  5.          0.82057511 17.          0.55392553]\t 0.8471082658020649\t 0.6536753952667645\t 2.0962449073317373\t 2.0962449073317373\n",
            "29 \t [ 3.0433149   2.56844612 13.12639793  0.5        18.51421615  1.        ]\t 0.6693506515342948\t 0.6536753952667645\t 2.0956049995850305\t 2.0956041896456\n",
            "30 \t [0.01760125 4.20168637 5.         0.62711786 8.         0.78825566]\t 0.7378644330521015\t 0.6536753952667645\t 2.083690663529901\t 2.083690663529901\n"
          ]
        },
        {
          "output_type": "execute_result",
          "data": {
            "text/plain": [
              "48973.66312746987"
            ]
          },
          "metadata": {},
          "execution_count": 21
        }
      ]
    },
    {
      "cell_type": "code",
      "metadata": {
        "id": "ClJ9rN2KUJzy",
        "colab": {
          "base_uri": "https://localhost:8080/"
        },
        "outputId": "4accca90-5664-40d5-fbe9-c632c769c8ea"
      },
      "source": [
        "### Bayesian optimization runs (x20): 'approx' Acquisition Function run number = 2\n",
        "\n",
        "np.random.seed(run_num_2)\n",
        "surrogate_approx_2 = dGaussianProcess(cov_func, optimize=opt)\n",
        "\n",
        "X_train2, X_test2, y_train2, y_test2 = train_test_split(X, y, test_size=test_perc, random_state=run_num_2)\n",
        "\n",
        "def f_syn_polarity2(alpha, gamma, max_depth, subsample, min_child_weight, colsample):\n",
        "    reg = XGBRegressor(reg_alpha=alpha, gamma=gamma, max_depth=int(max_depth), subsample=subsample, min_child_weight=min_child_weight,\n",
        "          colsample_bytree=colsample, n_estimators = n_est, random_state=run_num_2, objective = 'reg:squarederror')\n",
        "    score = np.array(cross_val_score(reg, X=X_train2, y=y_train2).mean())\n",
        "    return operator * score\n",
        "\n",
        "approx_2 = GPGO_multi(surrogate_approx_2, Acquisition_grad(util), f_syn_polarity2, param, n_jobs = -1) # define BayesOpt\n",
        "approx_2.run(max_iter = max_iter, init_evals = n_init) # run\n",
        "\n",
        "### Return optimal parameters' set:\n",
        "params_approx_2 = approx_2.getResult()[0]\n",
        "params_approx_2['max_depth'] = int(params_approx_2['max_depth'])\n",
        "params_approx_2['min_child_weight'] = int(params_approx_2['min_child_weight'])\n",
        "\n",
        "### Re-train with optimal parameters, run predictons:\n",
        "dX_approx_train2 = xgb.DMatrix(X_train2, y_train2)\n",
        "dX_approx_test2 = xgb.DMatrix(X_test2, y_test2)\n",
        "model_approx_2 = xgb.train(params_approx_2, dX_approx_train2)\n",
        "pred_approx_2 = model_approx_2.predict(dX_approx_test2)\n",
        "\n",
        "rmse_approx_2 = np.sqrt(mean_squared_error(pred_approx_2, y_test2))\n",
        "rmse_approx_2"
      ],
      "execution_count": null,
      "outputs": [
        {
          "output_type": "stream",
          "name": "stdout",
          "text": [
            "Evaluation \t Proposed point \t  Current eval. \t  Best eval. \t         Max. ExactAcqFunc \t Max. ApproxAcqFunc \n",
            "init\t [ 4.35994902  0.25926232 11.          0.97386531 12.          0.47833102]\t 0.778909206070606\t 0.681387807728051\t    \t    \n",
            "init\t [ 3.30334821  2.04648634 10.          0.55997527  6.          0.71472339]\t 0.681387807728051\t 0.681387807728051\t    \t    \n",
            "init\t [ 4.9856117   5.86796978  8.          0.89266757 11.          0.59158659]\t 0.7040746477543849\t 0.681387807728051\t    \t    \n",
            "init\t [ 4.07307832  1.76984624 13.          0.75262305  7.          0.35908193]\t 0.7953147984784036\t 0.681387807728051\t    \t    \n",
            "init\t [ 1.16193318  1.81727038  9.          0.79837265 19.          0.29965165]\t 0.7954413972964868\t 0.681387807728051\t    \t    \n",
            "\u001b[1m\u001b[92m1\u001b[0m\t \u001b[1m\u001b[92m[9.68290573 5.74953535 8.         0.93445831 2.         0.81872709]\u001b[0m\t \u001b[1m\u001b[92m0.6807577751383148\u001b[0m\t \u001b[1m\u001b[92m0.6807577751383148\u001b[0m\t \u001b[1m\u001b[92m1.8419016492136397\u001b[0m\t \u001b[1m\u001b[92m1.8419016492136397\u001b[0m\n",
            "2  \t [ 2.17907321  8.34965852  5.          0.91660625 18.          0.97349298]\t 0.7341430302765248\t 0.6807577751383148\t 1.8140009047922345\t 1.8140009047922345\n",
            "3  \t [ 3.86971225  8.36249195 14.          0.65193715  2.          0.53564822]\t 0.7073935536898857\t 0.6807577751383148\t 1.81176284857531\t 1.81176284857531\n",
            "4  \t [ 8.78180153  6.61060882 12.          0.91523653 18.          0.29687212]\t 0.7899041327973497\t 0.6807577751383148\t 1.8020760598294296\t 1.8020760598294296\n",
            "5  \t [ 1.04358891  9.72033478 14.          0.5859025  14.          0.459264  ]\t 0.7887181971022355\t 0.6807577751383148\t 1.8173092873302916\t 1.8173092873302916\n",
            "\u001b[1m\u001b[92m6\u001b[0m\t \u001b[1m\u001b[92m[ 9.90020282  3.3367177  10.          0.62203407  7.          0.71235234]\u001b[0m\t \u001b[1m\u001b[92m0.67907472219801\u001b[0m\t \u001b[1m\u001b[92m0.67907472219801\u001b[0m\t \u001b[1m\u001b[92m1.8298836010390063\u001b[0m\t \u001b[1m\u001b[92m1.8298836010390063\u001b[0m\n",
            "7  \t [ 9.14946201  2.43697872  6.          0.997805   19.          0.45949208]\t 0.8064071783057642\t 0.67907472219801\t 1.814658242134353\t 1.814658242134353\n",
            "8  \t [3.03571116 4.83939078 5.         0.66625528 1.         0.23130028]\t 0.872344629033322\t 0.67907472219801\t 1.8285828930692942\t 1.8285828930692942\n",
            "9  \t [ 4.57706999  8.33565192 11.          0.6188546   7.          0.54017925]\t 0.7035850285613279\t 0.67907472219801\t 1.8547085333052677\t 1.8547085333052677\n",
            "10 \t [2.51973603 9.74135258 5.         0.69633293 8.         0.1952065 ]\t 0.8718341605674269\t 0.67907472219801\t 1.8456332434881466\t 1.8456332434881466\n",
            "11 \t [ 8.6330652   9.62113163 11.          0.50355876 13.          0.80231095]\t 0.6810729676933972\t 0.67907472219801\t 1.8658555597229753\t 1.8658555597229753\n",
            "12 \t [ 9.73810496  3.32466832  6.          0.67226447 13.          0.93959986]\t 0.70791287382674\t 0.67907472219801\t 1.854124514560863\t 1.8541245053424762\n",
            "13 \t [ 7.86086296  9.53235807  5.          0.78700181 16.          0.22516618]\t 0.8728710854388536\t 0.67907472219801\t 1.8472756330550804\t 1.8472756330550804\n",
            "14 \t [ 1.44915477  0.14257847  6.          0.52441016 14.          0.6286643 ]\t 0.7143733066956096\t 0.67907472219801\t 1.864622135895059\t 1.864622135895059\n",
            "\u001b[1m\u001b[92m15\u001b[0m\t \u001b[1m\u001b[92m[ 8.6950785   0.99410218 13.          0.66782851 17.          0.9323419 ]\u001b[0m\t \u001b[1m\u001b[92m0.6668275525286983\u001b[0m\t \u001b[1m\u001b[92m0.6668275525286983\u001b[0m\t \u001b[1m\u001b[92m1.8587581696437938\u001b[0m\t \u001b[1m\u001b[92m1.8587581696437938\u001b[0m\n",
            "16 \t [9.70003354 0.07825472 7.         0.79315177 1.         0.1995403 ]\t 0.8658541266182345\t 0.6668275525286983\t 1.848531617265906\t 1.848531617265906\n",
            "17 \t [ 9.61885664  9.78589131 14.          0.8903706   1.          0.14094172]\t 0.86262646699532\t 0.6668275525286983\t 1.862037199998622\t 1.8620371920585406\n",
            "18 \t [ 5.64670451  8.85432647 14.          0.95807607 10.          0.35707694]\t 0.7882609808277333\t 0.6668275525286983\t 1.8745223832935334\t 1.8745223832935334\n",
            "19 \t [ 0.34964202  6.10551304 14.          0.81887518  8.          0.79373024]\t 0.6685630386219239\t 0.6668275525286983\t 1.8766682247871889\t 1.8766682247871889\n",
            "20 \t [0.62273619 1.29124124 6.         0.81123451 8.         0.42451055]\t 0.8085428854730617\t 0.6668275525286983\t 1.8676450659822148\t 1.8676450659822148\n",
            "21 \t [8.31655833 8.60825609 5.         0.85952394 8.         0.28298607]\t 0.830413546965097\t 0.6668275525286983\t 1.87228894990349\t 1.87228894990349\n",
            "22 \t [ 0.51057799  7.98632671  8.          0.8773209  13.          0.97148281]\t 0.6760991691526478\t 0.6668275525286983\t 1.878770995653399\t 1.878770995653399\n",
            "23 \t [ 1.14769908  9.46854425 10.          0.58022432 19.          0.87672068]\t 0.6763818131586096\t 0.6668275525286983\t 1.8709775591957354\t 1.8709775591957354\n",
            "24 \t [ 5.48814708  1.96120195 13.          0.89659682  1.          0.34125713]\t 0.7953122343367733\t 0.6668275525286983\t 1.8637687538772505\t 1.8637687538772505\n",
            "25 \t [ 2.55390985  1.0433692  14.          0.50090092 18.          0.75542228]\t 0.6809836782112952\t 0.6668275525286983\t 1.8667421133860171\t 1.8667421133860171\n",
            "\u001b[1m\u001b[92m26\u001b[0m\t \u001b[1m\u001b[92m[ 8.30471915  3.26072064 14.          0.69508376  6.          0.94564556]\u001b[0m\t \u001b[1m\u001b[92m0.6666799570614775\u001b[0m\t \u001b[1m\u001b[92m0.6666799570614775\u001b[0m\t \u001b[1m\u001b[92m1.8604605349061307\u001b[0m\t \u001b[1m\u001b[92m1.8604605311786533\u001b[0m\n",
            "27 \t [ 8.92720117  4.31465286 13.          0.70553933  1.          0.75946259]\t 0.6817048020092698\t 0.6666799570614775\t 1.8535603461270467\t 1.8535603461270467\n",
            "28 \t [ 4.11831219  1.06523616 12.          0.63008078 16.          0.53873389]\t 0.7006937452963055\t 0.6666799570614775\t 1.848095238894796\t 1.848095238894796\n",
            "29 \t [ 0.22062939  5.36477276 14.00489449  1.         19.46184964  0.58071684]\t 0.6951096271348384\t 0.6666799570614775\t 1.8437380592900536\t 1.8437368655864832\n",
            "30 \t [ 4.49849693  5.05784342  7.64691686  0.5        16.09715045  1.        ]\t 0.6904651945621497\t 0.6666799570614775\t 1.8397420137053548\t 1.8397412059403508\n"
          ]
        },
        {
          "output_type": "execute_result",
          "data": {
            "text/plain": [
              "49983.336198553036"
            ]
          },
          "metadata": {},
          "execution_count": 22
        }
      ]
    },
    {
      "cell_type": "code",
      "metadata": {
        "id": "-45l3NU4UNiI",
        "colab": {
          "base_uri": "https://localhost:8080/"
        },
        "outputId": "9c6c6429-aa43-4975-f19f-7bb44c4ae248"
      },
      "source": [
        "### Bayesian optimization runs (x20): 'approx' Acquisition Function run number = 3\n",
        "\n",
        "np.random.seed(run_num_3)\n",
        "surrogate_approx_3 = dGaussianProcess(cov_func, optimize=opt)\n",
        "\n",
        "X_train3, X_test3, y_train3, y_test3 = train_test_split(X, y, test_size=test_perc, random_state=run_num_3)\n",
        "\n",
        "def f_syn_polarity3(alpha, gamma, max_depth, subsample, min_child_weight, colsample):\n",
        "    reg = XGBRegressor(reg_alpha=alpha, gamma=gamma, max_depth=int(max_depth), subsample=subsample, min_child_weight=min_child_weight,\n",
        "          colsample_bytree=colsample, n_estimators = n_est, random_state=run_num_3, objective = 'reg:squarederror')\n",
        "    score = np.array(cross_val_score(reg, X=X_train3, y=y_train3).mean())\n",
        "    return operator * score\n",
        "\n",
        "approx_3 = GPGO_multi(surrogate_approx_3, Acquisition_grad(util), f_syn_polarity3, param, n_jobs = -1) # define BayesOpt\n",
        "approx_3.run(max_iter = max_iter, init_evals = n_init) # run\n",
        "\n",
        "### Return optimal parameters' set:\n",
        "params_approx_3 = approx_3.getResult()[0]\n",
        "params_approx_3['max_depth'] = int(params_approx_3['max_depth'])\n",
        "params_approx_3['min_child_weight'] = int(params_approx_3['min_child_weight'])\n",
        "\n",
        "### Re-train with optimal parameters, run predictons:\n",
        "dX_approx_train3 = xgb.DMatrix(X_train3, y_train3)\n",
        "dX_approx_test3 = xgb.DMatrix(X_test3, y_test3)\n",
        "model_approx_3 = xgb.train(params_approx_3, dX_approx_train3)\n",
        "pred_approx_3 = model_approx_3.predict(dX_approx_test3)\n",
        "\n",
        "rmse_approx_3 = np.sqrt(mean_squared_error(pred_approx_3, y_test3))\n",
        "rmse_approx_3"
      ],
      "execution_count": null,
      "outputs": [
        {
          "output_type": "stream",
          "name": "stdout",
          "text": [
            "Evaluation \t Proposed point \t  Current eval. \t  Best eval. \t         Max. ExactAcqFunc \t Max. ApproxAcqFunc \n",
            "init\t [ 5.50797903  7.08147823 13.          0.56066429 11.          0.11687321]\t 1.0213644638508028\t 0.7688389438662246\t    \t    \n",
            "init\t [ 0.40630737  2.47888297 11.          0.72040492 13.          0.23083313]\t 1.022822678309975\t 0.7688389438662246\t    \t    \n",
            "init\t [ 4.53172301  2.15577008 11.          0.74631796  2.          0.60296868]\t 0.7688389438662246\t 0.7688389438662246\t    \t    \n",
            "init\t [ 2.59252447  4.15101197 13.          0.79330998  8.          0.24118096]\t 1.0239688135226253\t 0.7688389438662246\t    \t    \n",
            "init\t [ 5.44649018  7.80314765 10.          0.62879264 18.          0.44917413]\t 0.8703298117399682\t 0.7688389438662246\t    \t    \n",
            "1  \t [ 4.57686399  8.60533913  5.          0.93553602 12.          0.35017976]\t 0.9903445707071453\t 0.7688389438662246\t 2.320288806219101\t 2.320288806219101\n",
            "\u001b[1m\u001b[92m2\u001b[0m\t \u001b[1m\u001b[92m[7.88832343 8.95739531 8.         0.70911141 2.         0.87634458]\u001b[0m\t \u001b[1m\u001b[92m0.6938092267899838\u001b[0m\t \u001b[1m\u001b[92m0.6938092267899838\u001b[0m\t \u001b[1m\u001b[92m2.3382114547169905\u001b[0m\t \u001b[1m\u001b[92m2.3382114547169905\u001b[0m\n",
            "3  \t [4.47677412 5.05596963 6.         0.77295773 5.         0.95873323]\t 0.7169387303226469\t 0.6938092267899838\t 2.2580535626759795\t 2.2580535626759795\n",
            "4  \t [ 6.69378835  1.1746468   5.          0.75549171 16.          0.73450657]\t 0.7722220514333056\t 0.6938092267899838\t 2.2015799564867056\t 2.2015799564867056\n",
            "5  \t [ 0.24010242  9.80847714 13.          0.63702721  3.          0.56729929]\t 0.7723921954821745\t 0.6938092267899838\t 2.1693224448622974\t 2.1693224448622974\n",
            "6  \t [ 4.86460209  1.84524854 12.          0.76667097 18.          0.66589966]\t 0.7256600879414572\t 0.6938092267899838\t 2.14320125474671\t 2.1432012547466277\n",
            "7  \t [ 9.9442008   6.98515683 14.          0.56522437  5.          0.21139302]\t 1.0228886927034901\t 0.6938092267899838\t 2.1125733326108564\t 2.1125733326108564\n",
            "8  \t [1.32710451 9.31408284 5.         0.83446011 3.         0.89210195]\t 0.7368197289369623\t 0.6938092267899838\t 2.1480699150830715\t 2.1480699140117894\n",
            "\u001b[1m\u001b[92m9\u001b[0m\t \u001b[1m\u001b[92m[ 8.89682762  0.79017134 14.          0.58366818  8.          0.97456627]\u001b[0m\t \u001b[1m\u001b[92m0.6882258735708705\u001b[0m\t \u001b[1m\u001b[92m0.6882258735708705\u001b[0m\t \u001b[1m\u001b[92m2.123636290218549\u001b[0m\t \u001b[1m\u001b[92m2.123636290218547\u001b[0m\n",
            "10 \t [ 2.71723833  2.08347502  5.          0.57784675 10.          0.79058878]\t 0.7454342841417271\t 0.6882258735708705\t 2.095399830994402\t 2.095399830994402\n",
            "11 \t [9.16522925 3.01199498 6.         0.84622621 2.         0.15596669]\t 1.0269718898544153\t 0.6882258735708705\t 2.078522261347089\t 2.078522261347089\n",
            "12 \t [ 7.36281279  7.66763777  8.          0.59948159 13.          0.98370581]\t 0.6998375974069359\t 0.6882258735708705\t 2.1084924738897617\t 2.1084924738897617\n",
            "13 \t [ 9.38226635  4.01107902 14.          0.88645966 17.          0.87374815]\t 0.7003440175917423\t 0.6882258735708705\t 2.087363515620058\t 2.0873635153569348\n",
            "14 \t [ 0.68308523  3.05829619  5.          0.71250074 17.          0.5517841 ]\t 0.8061350962237561\t 0.6882258735708705\t 2.0684585700079534\t 2.0684585700079534\n",
            "15 \t [ 9.826652    4.08520653 10.          0.79056425  8.          0.64363996]\t 0.7286853621038535\t 0.6882258735708705\t 2.063625346847958\t 2.063625328225776\n",
            "16 \t [ 8.07588792  0.32255492 11.          0.65903665 14.          0.21610062]\t 1.0219267639238852\t 0.6882258735708705\t 2.0505895509736844\t 2.0505895509736844\n",
            "17 \t [ 1.54516741  7.52115503 11.          0.66281094 13.          0.30707514]\t 0.9793945503231708\t 0.6882258735708705\t 2.0743832605915906\t 2.0743831813676445\n",
            "\u001b[1m\u001b[92m18\u001b[0m\t \u001b[1m\u001b[92m[10.          2.32438347 11.04878407  1.          1.72466341  1.        ]\u001b[0m\t \u001b[1m\u001b[92m0.6575306191828789\u001b[0m\t \u001b[1m\u001b[92m0.6575306191828789\u001b[0m\t \u001b[1m\u001b[92m2.0902315519644374\u001b[0m\t \u001b[1m\u001b[92m2.090231067119987\u001b[0m\n",
            "19 \t [ 9.53340901  9.80298418 12.          0.98959106 17.          0.42225857]\t 0.861844118173769\t 0.6575306191828789\t 2.0716906987980606\t 2.071690673962367\n",
            "20 \t [ 9.45326655  7.02421851  9.35648085  0.5        20.          1.        ]\t 0.6757043730281446\t 0.6575306191828789\t 2.0733464786563243\t 2.073345085687464\n",
            "21 \t [ 4.64864154  8.87598512 13.          0.88153635  6.          0.95606382]\t 0.683047653536676\t 0.6575306191828789\t 2.058250524692148\t 2.058250524692148\n",
            "22 \t [ 2.77110475  0.35980325 10.          0.77088835  9.          0.78161047]\t 0.702308760297458\t 0.6575306191828789\t 2.0447800474276336\t 2.0447800474276336\n",
            "23 \t [ 6.64966697  8.448574    5.          0.65443865 19.          0.53636799]\t 0.8070932341305113\t 0.6575306191828789\t 2.0336849868558846\t 2.0336849868558846\n",
            "24 \t [1.21670026 0.49349112 6.         0.80878089 1.         0.63341473]\t 0.7604801329888093\t 0.6575306191828789\t 2.031673689668329\t 2.0316736895183745\n",
            "25 \t [ 9.67651841  9.11184962 14.          0.80763703 11.          0.80513289]\t 0.701782808774691\t 0.6575306191828789\t 2.026096977497486\t 2.026096977497486\n",
            "26 \t [ 0.26918834  0.54620891 14.          0.52178873 19.          0.75307438]\t 0.7078729971651982\t 0.6575306191828789\t 2.016614102854095\t 2.016614102854095\n",
            "27 \t [ 8.57708758  3.2701384   5.          0.77055576 10.          0.49757192]\t 0.9026358311898663\t 0.6575306191828789\t 2.008117243530306\t 2.008117243530306\n",
            "28 \t [3.46409022 9.59039947 9.         0.80112384 9.         0.8038421 ]\t 0.7084749564303428\t 0.6575306191828789\t 2.0147635598723306\t 2.0147631576535514\n",
            "29 \t [ 4.78789868  9.48913654 14.          0.58973962 17.          0.6084498 ]\t 0.7605932319315096\t 0.6575306191828789\t 2.006871675641681\t 2.006871675641681\n",
            "30 \t [ 0.56213381  4.41770035 10.          0.6803733   4.          0.67199979]\t 0.7355552741037803\t 0.6575306191828789\t 2.002777330531935\t 2.002777330531935\n"
          ]
        },
        {
          "output_type": "execute_result",
          "data": {
            "text/plain": [
              "47880.92369694889"
            ]
          },
          "metadata": {},
          "execution_count": 23
        }
      ]
    },
    {
      "cell_type": "code",
      "metadata": {
        "id": "voPfk1UDUQU0",
        "colab": {
          "base_uri": "https://localhost:8080/"
        },
        "outputId": "002748c4-2082-49b6-ee89-c828b61257a7"
      },
      "source": [
        "### Bayesian optimization runs (x20): 'approx' Acquisition Function run number = 4\n",
        "\n",
        "np.random.seed(run_num_4)\n",
        "surrogate_approx_4 = dGaussianProcess(cov_func, optimize=opt)\n",
        "\n",
        "X_train4, X_test4, y_train4, y_test4 = train_test_split(X, y, test_size=test_perc, random_state=run_num_4)\n",
        "\n",
        "def f_syn_polarity4(alpha, gamma, max_depth, subsample, min_child_weight, colsample):\n",
        "    reg = XGBRegressor(reg_alpha=alpha, gamma=gamma, max_depth=int(max_depth), subsample=subsample, min_child_weight=min_child_weight,\n",
        "          colsample_bytree=colsample, n_estimators = n_est, random_state=run_num_4, objective = 'reg:squarederror')\n",
        "    score = np.array(cross_val_score(reg, X=X_train4, y=y_train4).mean())\n",
        "    return operator * score\n",
        "\n",
        "approx_4 = GPGO_multi(surrogate_approx_4, Acquisition_grad(util), f_syn_polarity4, param, n_jobs = -1) # define BayesOpt\n",
        "approx_4.run(max_iter = max_iter, init_evals = n_init) # run\n",
        "\n",
        "### Return optimal parameters' set:\n",
        "params_approx_4 = approx_4.getResult()[0]\n",
        "params_approx_4['max_depth'] = int(params_approx_4['max_depth'])\n",
        "params_approx_4['min_child_weight'] = int(params_approx_4['min_child_weight'])\n",
        "\n",
        "### Re-train with optimal parameters, run predictons:\n",
        "dX_approx_train4 = xgb.DMatrix(X_train4, y_train4)\n",
        "dX_approx_test4 = xgb.DMatrix(X_test4, y_test4)\n",
        "model_approx_4 = xgb.train(params_approx_4, dX_approx_train4)\n",
        "pred_approx_4 = model_approx_4.predict(dX_approx_test4)\n",
        "\n",
        "rmse_approx_4 = np.sqrt(mean_squared_error(pred_approx_4, y_test4))\n",
        "rmse_approx_4"
      ],
      "execution_count": null,
      "outputs": [
        {
          "output_type": "stream",
          "name": "stdout",
          "text": [
            "Evaluation \t Proposed point \t  Current eval. \t  Best eval. \t         Max. ExactAcqFunc \t Max. ApproxAcqFunc \n",
            "init\t [9.67029839 5.47232249 6.         0.92781047 9.         0.72795594]\t 0.7356156069458683\t 0.6641721421409617\t    \t    \n",
            "init\t [ 2.16089496  9.76274455 12.          0.62649118  9.          0.66966679]\t 0.7070759857649549\t 0.6641721421409617\t    \t    \n",
            "init\t [ 0.05159149  5.72356491  9.          0.99170034 10.          0.10808749]\t 0.9423811784101735\t 0.6641721421409617\t    \t    \n",
            "init\t [ 3.86571283  0.44160058 10.          0.90553105 18.          0.95407958]\t 0.6641721421409617\t 0.6641721421409617\t    \t    \n",
            "init\t [ 7.86305986  8.66289299  6.          0.53285477 14.          0.25117497]\t 0.8244425146132294\t 0.6641721421409617\t    \t    \n",
            "1  \t [ 8.45443649  8.61014312 11.          0.83475494  1.          0.14018305]\t 0.9441431878307984\t 0.6641721421409617\t 1.9131124519299358\t 1.9131124519299358\n",
            "2  \t [ 0.90674561  6.32290535 11.          0.94435129  1.          0.40346185]\t 0.7807426885653221\t 0.6641721421409617\t 1.985298006341346\t 1.985298006341346\n",
            "3  \t [ 1.20931261  6.80689034  9.          0.92011951 17.          0.30723956]\t 0.8166403766735346\t 0.6641721421409617\t 1.9750520341382711\t 1.9750520341382711\n",
            "4  \t [6.09263548 1.21260536 9.         0.98871171 4.         0.70734523]\t 0.702922445815302\t 0.6641721421409617\t 1.9782314725711316\t 1.9782314725711316\n",
            "5  \t [ 5.20011211  1.13096048 14.          0.976894    9.          0.7504566 ]\t 0.6811978551681726\t 0.6641721421409617\t 1.9514040784547333\t 1.9514040784533822\n",
            "6  \t [ 9.06307728  4.86114267 13.          0.58554955 19.          0.71395167]\t 0.7071143487048749\t 0.6641721421409617\t 1.9249930100248196\t 1.9249930100248196\n",
            "7  \t [0.85218043 8.76361565 5.         0.95141234 5.         0.18096954]\t 0.9409624334450053\t 0.6641721421409617\t 1.908261355953776\t 1.9082613559537152\n",
            "8  \t [ 0.32236964  2.41893129 14.          0.88540422 15.          0.72064562]\t 0.6990250321451492\t 0.6641721421409617\t 1.9444045155911922\t 1.9444045155911922\n",
            "9  \t [ 5.44631958  4.09972266  5.          0.7031307  18.          0.59728817]\t 0.7667979140380539\t 0.6641721421409617\t 1.927539752939949\t 1.9275397526851894\n",
            "10 \t [ 9.3450382   8.82768787 11.          0.76868692  7.          0.8502727 ]\t 0.6886255429382424\t 0.6641721421409617\t 1.924061868862193\t 1.9240618675773893\n",
            "11 \t [ 8.70159525  5.9637615  11.          0.74540579 12.          0.86209737]\t 0.6881265284751861\t 0.6641721421409617\t 1.9091608832044304\t 1.909160883201707\n",
            "12 \t [ 7.36212645  0.49755364 14.          0.5427806  16.          0.95805713]\t 0.6732876228389767\t 0.6641721421409617\t 1.895958476969416\t 1.895958476969416\n",
            "13 \t [ 9.47516521  0.98411555  7.          0.63763494 14.          0.52093401]\t 0.7304622818933997\t 0.6641721421409617\t 1.882339502452712\t 1.882339502452712\n",
            "14 \t [ 3.22282465  1.05364145  6.          0.75774626 12.          0.92739587]\t 0.7076032952079638\t 0.6641721421409617\t 1.8772899525196798\t 1.8772899525196798\n",
            "15 \t [9.41541409 7.69245319 5.         0.52626745 1.         0.60186246]\t 0.7682434061303821\t 0.6641721421409617\t 1.8699857346272706\t 1.8699857346272706\n",
            "16 \t [0.18736012 2.87894429 5.         0.99715153 3.         0.38605574]\t 0.8039158782445464\t 0.6641721421409617\t 1.870578689703256\t 1.870578689703256\n",
            "\u001b[1m\u001b[92m17\u001b[0m\t \u001b[1m\u001b[92m[ 4.44104267  9.48218805 12.          0.81153865 15.          0.88524925]\u001b[0m\t \u001b[1m\u001b[92m0.6624851655328121\u001b[0m\t \u001b[1m\u001b[92m0.6624851655328121\u001b[0m\t \u001b[1m\u001b[92m1.8753918594073058\u001b[0m\t \u001b[1m\u001b[92m1.8753918594073058\u001b[0m\n",
            "18 \t [4.46672169 5.94526837 6.         0.51495622 2.         0.19349407]\t 0.9412413503912186\t 0.6624851655328121\t 1.864650650581782\t 1.864650650581782\n",
            "19 \t [6.04758549 0.99675153 5.         0.67521977 7.         0.8442095 ]\t 0.7543233654111011\t 0.6624851655328121\t 1.8859653750623309\t 1.8859653750623309\n",
            "20 \t [ 1.78217576  9.78210974  5.          0.8003284  12.          0.83416548]\t 0.7532223657335955\t 0.6624851655328121\t 1.8843868413345888\t 1.8843868413345888\n",
            "21 \t [ 2.5544629   5.29923202 14.          0.70981162  6.          0.74924795]\t 0.7082426501019057\t 0.6624851655328121\t 1.8828275157611578\t 1.8828275150344067\n",
            "22 \t [ 9.9377785   5.11378541 14.          0.88660731  3.          0.26055825]\t 0.828439685271331\t 0.6624851655328121\t 1.8773512013107585\t 1.8773512013107585\n",
            "23 \t [4.54498845 4.73987501 6.         0.7658368  6.         0.15012886]\t 0.9412996363676764\t 0.6624851655328121\t 1.8831957837665048\t 1.8831957837665048\n",
            "24 \t [ 3.88108588  0.45492386 14.          0.78217368  4.          0.59011579]\t 0.7167507043863917\t 0.6624851655328121\t 1.8999038608364243\t 1.899903860745562\n",
            "25 \t [9.14387233 8.82409497 7.         0.87227821 8.         0.52464991]\t 0.73021361391417\t 0.6624851655328121\t 1.8951132374611388\t 1.8951132374611388\n",
            "26 \t [ 0.   0.   5.   1.  20.   0.1]\t 1.0526514146155577\t 0.6624851655328121\t 1.8915649982004372\t 1.8915650472240417\n",
            "27 \t [9.03839982 1.2282339  5.         0.5        1.         0.1       ]\t 0.9409001367938441\t 0.6624851655328121\t 1.917604382794803\t 1.9176043703734915\n",
            "\u001b[1m\u001b[92m28\u001b[0m\t \u001b[1m\u001b[92m[ 9.328728    0.19822705 12.          0.75281018 11.          0.88551078]\u001b[0m\t \u001b[1m\u001b[92m0.6617709003888801\u001b[0m\t \u001b[1m\u001b[92m0.6617709003888801\u001b[0m\t \u001b[1m\u001b[92m1.9309191724943362\u001b[0m\t \u001b[1m\u001b[92m1.9309191724943362\u001b[0m\n",
            "\u001b[1m\u001b[92m29\u001b[0m\t \u001b[1m\u001b[92m[ 1.09931266  0.         10.14555227  1.          1.          1.        ]\u001b[0m\t \u001b[1m\u001b[92m0.6506908944406379\u001b[0m\t \u001b[1m\u001b[92m0.6506908944406379\u001b[0m\t \u001b[1m\u001b[92m1.9222140931744782\u001b[0m\t \u001b[1m\u001b[92m1.9222140739275655\u001b[0m\n",
            "30 \t [ 0.          0.         14.          0.5        10.36063647  0.1       ]\t 0.9443479979059249\t 0.6506908944406379\t 1.9133247255048538\t 1.913324266634326\n"
          ]
        },
        {
          "output_type": "execute_result",
          "data": {
            "text/plain": [
              "52249.563743078885"
            ]
          },
          "metadata": {},
          "execution_count": 24
        }
      ]
    },
    {
      "cell_type": "code",
      "metadata": {
        "id": "8kEnTd7MUdlv",
        "colab": {
          "base_uri": "https://localhost:8080/"
        },
        "outputId": "24ec701f-06bd-487b-9b7e-b0cd135c0124"
      },
      "source": [
        "### Bayesian optimization runs (x20): 'approx' Acquisition Function run number = 5\n",
        "\n",
        "np.random.seed(run_num_5)\n",
        "surrogate_approx_5 = dGaussianProcess(cov_func, optimize=opt)\n",
        "\n",
        "X_train5, X_test5, y_train5, y_test5 = train_test_split(X, y, test_size=test_perc, random_state=run_num_5)\n",
        "\n",
        "def f_syn_polarity5(alpha, gamma, max_depth, subsample, min_child_weight, colsample):\n",
        "    reg = XGBRegressor(reg_alpha=alpha, gamma=gamma, max_depth=int(max_depth), subsample=subsample, min_child_weight=min_child_weight,\n",
        "          colsample_bytree=colsample, n_estimators = n_est, random_state=run_num_5, objective = 'reg:squarederror')\n",
        "    score = np.array(cross_val_score(reg, X=X_train5, y=y_train5).mean())\n",
        "    return operator * score\n",
        "\n",
        "approx_5 = GPGO_multi(surrogate_approx_5, Acquisition_grad(util), f_syn_polarity5, param, n_jobs = -1) # define BayesOpt\n",
        "approx_5.run(max_iter = max_iter, init_evals = n_init) # run\n",
        "\n",
        "### Return optimal parameters' set:\n",
        "params_approx_5 = approx_5.getResult()[0]\n",
        "params_approx_5['max_depth'] = int(params_approx_5['max_depth'])\n",
        "params_approx_5['min_child_weight'] = int(params_approx_5['min_child_weight'])\n",
        "\n",
        "### Re-train with optimal parameters, run predictons:\n",
        "dX_approx_train5 = xgb.DMatrix(X_train5, y_train5)\n",
        "dX_approx_test5 = xgb.DMatrix(X_test5, y_test5)\n",
        "model_approx_5 = xgb.train(params_approx_5, dX_approx_train5)\n",
        "pred_approx_5 = model_approx_5.predict(dX_approx_test5)\n",
        "\n",
        "rmse_approx_5 = np.sqrt(mean_squared_error(pred_approx_5, y_test5))\n",
        "rmse_approx_5"
      ],
      "execution_count": null,
      "outputs": [
        {
          "output_type": "stream",
          "name": "stdout",
          "text": [
            "Evaluation \t Proposed point \t  Current eval. \t  Best eval. \t         Max. ExactAcqFunc \t Max. ApproxAcqFunc \n",
            "init\t [ 2.21993171  8.70732306 11.          0.68186845 10.          0.53957007]\t 0.7403320965261992\t 0.7403320965261992\t    \t    \n",
            "init\t [ 6.11743863  7.65907856  5.          0.64840025 16.          0.82745351]\t 0.7493104333264211\t 0.7403320965261992\t    \t    \n",
            "init\t [ 6.49458883  8.19472793  6.          0.93996852 19.          0.36647194]\t 0.9342492295788805\t 0.7403320965261992\t    \t    \n",
            "init\t [ 6.28787909  5.7983781   6.          0.63290956 17.          0.18402673]\t 0.939514214921639\t 0.7403320965261992\t    \t    \n",
            "init\t [8.26554249 8.33492742 9.         0.97900675 3.         0.26957319]\t 0.921290745787579\t 0.7403320965261992\t    \t    \n",
            "1  \t [1.95474956 1.21548467 5.         0.65548996 6.         0.3261206 ]\t 0.9436861715841889\t 0.7403320965261992\t 2.086017782868311\t 2.086017782868311\n",
            "2  \t [ 3.90043826  0.30059527 11.          0.95660877 13.          0.16396145]\t 0.9276450520884063\t 0.7403320965261992\t 2.12526965495709\t 2.12526965495709\n",
            "\u001b[1m\u001b[92m3\u001b[0m\t \u001b[1m\u001b[92m[ 1.89102498  3.81201457 14.          0.79693323  4.          0.52365093]\u001b[0m\t \u001b[1m\u001b[92m0.7398148307506893\u001b[0m\t \u001b[1m\u001b[92m0.7398148307506893\u001b[0m\t \u001b[1m\u001b[92m2.146884107468661\u001b[0m\t \u001b[1m\u001b[92m2.146884107468661\u001b[0m\n",
            "4  \t [ 8.98063632  2.97885127  9.          0.64249728 18.          0.16342995]\t 0.9276698902289097\t 0.7398148307506893\t 2.123482793229056\t 2.123482793229056\n",
            "\u001b[1m\u001b[92m5\u001b[0m\t \u001b[1m\u001b[92m[ 7.2080363   0.14020863 14.          0.70262402  1.          0.81354205]\u001b[0m\t \u001b[1m\u001b[92m0.6989575443158274\u001b[0m\t \u001b[1m\u001b[92m0.6989575443158274\u001b[0m\t \u001b[1m\u001b[92m2.126842491196185\u001b[0m\t \u001b[1m\u001b[92m2.126842491196185\u001b[0m\n",
            "6  \t [0.43749481 8.4213957  8.         0.8974006  1.         0.32861568]\t 0.92565009216999\t 0.6989575443158274\t 2.0890758939385607\t 2.089075893938556\n",
            "7  \t [4.37003348 9.87890289 5.         0.65374913 7.         0.62009063]\t 0.8160533272968584\t 0.6989575443158274\t 2.105908301773057\t 2.105908301773057\n",
            "\u001b[1m\u001b[92m8\u001b[0m\t \u001b[1m\u001b[92m[ 2.68679241  7.25440098 14.          0.65390023 17.          0.99358304]\u001b[0m\t \u001b[1m\u001b[92m0.6747588495441635\u001b[0m\t \u001b[1m\u001b[92m0.6747588495441635\u001b[0m\t \u001b[1m\u001b[92m2.0972006493562114\u001b[0m\t \u001b[1m\u001b[92m2.0972006493561586\u001b[0m\n",
            "9  \t [ 9.58792626  8.48977785 13.          0.60628176  9.          0.18518956]\t 0.9277423136052668\t 0.6747588495441635\t 2.0664133559628963\t 2.0664133559628963\n",
            "10 \t [ 6.97752806  2.98678749 10.          0.57146948  7.          0.9882264 ]\t 0.6796390241442563\t 0.6747588495441635\t 2.081809654513758\t 2.081809654513758\n",
            "11 \t [ 9.88162042  4.98501997  7.          0.71514689 11.          0.88825005]\t 0.6938260252917123\t 0.6747588495441635\t 2.0566395375329383\t 2.0566395375329383\n",
            "12 \t [8.44893619 0.35900307 6.         0.94734172 4.         0.72898681]\t 0.7387384974169141\t 0.6747588495441635\t 2.0361554119130023\t 2.0361554119130023\n",
            "13 \t [4.29434972 2.01082809 8.         0.64047641 1.         0.68777935]\t 0.7130088179210804\t 0.6747588495441635\t 2.023527326650498\t 2.0235272767572825\n",
            "14 \t [ 9.58736014  2.45468429 12.          0.89338522 12.          0.76778503]\t 0.6833142835714986\t 0.6747588495441635\t 2.009139651123358\t 2.009139579432578\n",
            "15 \t [ 0.69381482  7.09764326  5.          0.79260103 13.          0.36148114]\t 0.9417860014577227\t 0.6747588495441635\t 1.992896196995879\t 1.992896196995879\n",
            "16 \t [ 5.90866369  1.23912394  5.          0.73203526 13.          0.44895514]\t 0.8392510578678525\t 0.6747588495441635\t 2.009761564403098\t 2.009761564403098\n",
            "17 \t [2.69969763 4.04119251 7.77563432 0.5        9.64628158 0.1       ]\t 0.9328322598022549\t 0.6747588495441635\t 2.01197436636462\t 2.0119741163744407\n",
            "18 \t [ 9.73541293  8.42044427 14.          0.53390677 16.          0.10576782]\t 0.9298944113695408\t 0.6747588495441635\t 2.025181682996252\t 2.025181682996252\n",
            "19 \t [ 2.9385706   2.90370616 11.55440275  0.8026985  18.22642496  0.64537124]\t 0.6982886841020279\t 0.6747588495441635\t 2.036814522099637\t 2.0368139520578117\n",
            "20 \t [ 2.93448298  5.80717368  5.          0.89608154 19.          0.6387738 ]\t 0.7616619440927369\t 0.6747588495441635\t 2.0296708754609423\t 2.0296708754609423\n",
            "21 \t [ 6.50644232  6.26991809 13.11974215  0.73034558  1.62309745  0.90489223]\t 0.6789752829622421\t 0.6747588495441635\t 2.018136418178984\t 2.0181349161675617\n",
            "\u001b[1m\u001b[92m22\u001b[0m\t \u001b[1m\u001b[92m[ 5.32858327  5.42357936 10.13409915  1.         13.98902788  1.        ]\u001b[0m\t \u001b[1m\u001b[92m0.6479448966661417\u001b[0m\t \u001b[1m\u001b[92m0.6479448966661417\u001b[0m\t \u001b[1m\u001b[92m2.0056447668621455\u001b[0m\t \u001b[1m\u001b[92m2.0056437923996357\u001b[0m\n",
            "23 \t [ 0.14337166  3.83051228 13.          0.67084469 13.          0.27589041]\t 0.9247196191844409\t 0.6479448966661417\t 1.9917132770715105\t 1.991713078408639\n",
            "24 \t [5.80891976 6.22815082 5.         0.60791835 2.         0.19304152]\t 0.9476839298613445\t 0.6479448966661417\t 2.002119280698693\t 2.002118491967814\n",
            "25 \t [9.83056837 0.         6.25356635 1.         9.55986438 1.        ]\t 0.6950621887785553\t 0.6479448966661417\t 2.0139693776770105\t 2.013968757577325\n",
            "26 \t [ 7.56171827  2.58967794 14.08370865  0.5        17.8729737   0.1       ]\t 0.9297256472344027\t 0.6479448966661417\t 2.0043676317533663\t 2.004367326142332\n",
            "27 \t [ 6.53504944  1.92631649 14.86944487  0.63955596  5.82770618  0.2511991 ]\t 0.9300539534507086\t 0.6479448966661417\t 2.013751840867247\t 2.0137504499229424\n",
            "28 \t [9.64880583 0.85455793 9.         0.80366346 1.         0.54097439]\t 0.7473671119907898\t 0.6479448966661417\t 2.0266152158665665\t 2.0266152158665407\n",
            "29 \t [ 1.2871985   0.59719713 12.          0.68110782  8.          0.26193603]\t 0.9268844714938842\t 0.6479448966661417\t 2.016988982530862\t 2.016988982530862\n",
            "30 \t [10.         10.          5.          1.         13.19383611  1.        ]\t 0.7198191793098928\t 0.6479448966661417\t 2.0248946945972297\t 2.024894558829492\n"
          ]
        },
        {
          "output_type": "execute_result",
          "data": {
            "text/plain": [
              "50795.356478618225"
            ]
          },
          "metadata": {},
          "execution_count": 25
        }
      ]
    },
    {
      "cell_type": "code",
      "metadata": {
        "id": "OjVSH6caUgyy",
        "colab": {
          "base_uri": "https://localhost:8080/"
        },
        "outputId": "bc497283-8207-450d-fd6b-e17c5e823826"
      },
      "source": [
        "### Bayesian optimization runs (x20): 'approx' Acquisition Function run number = 6\n",
        "\n",
        "np.random.seed(run_num_6)\n",
        "surrogate_approx_6 = dGaussianProcess(cov_func, optimize=opt)\n",
        "\n",
        "X_train6, X_test6, y_train6, y_test6 = train_test_split(X, y, test_size=test_perc, random_state=run_num_6)\n",
        "\n",
        "def f_syn_polarity6(alpha, gamma, max_depth, subsample, min_child_weight, colsample):\n",
        "    reg = XGBRegressor(reg_alpha=alpha, gamma=gamma, max_depth=int(max_depth), subsample=subsample, min_child_weight=min_child_weight,\n",
        "          colsample_bytree=colsample, n_estimators = n_est, random_state=run_num_6, objective = 'reg:squarederror')\n",
        "    score = np.array(cross_val_score(reg, X=X_train6, y=y_train6).mean())\n",
        "    return operator * score\n",
        "\n",
        "approx_6 = GPGO_multi(surrogate_approx_6, Acquisition_grad(util), f_syn_polarity6, param, n_jobs = -1) # define BayesOpt\n",
        "approx_6.run(max_iter = max_iter, init_evals = n_init) # run\n",
        "\n",
        "### Return optimal parameters' set:\n",
        "params_approx_6 = approx_6.getResult()[0]\n",
        "params_approx_6['max_depth'] = int(params_approx_6['max_depth'])\n",
        "params_approx_6['min_child_weight'] = int(params_approx_6['min_child_weight'])\n",
        "\n",
        "### Re-train with optimal parameters, run predictons:\n",
        "dX_approx_train6 = xgb.DMatrix(X_train6, y_train6)\n",
        "dX_approx_test6 = xgb.DMatrix(X_test6, y_test6)\n",
        "model_approx_6 = xgb.train(params_approx_6, dX_approx_train6)\n",
        "pred_approx_6 = model_approx_6.predict(dX_approx_test6)\n",
        "\n",
        "rmse_approx_6 = np.sqrt(mean_squared_error(pred_approx_6, y_test6))\n",
        "rmse_approx_6"
      ],
      "execution_count": null,
      "outputs": [
        {
          "output_type": "stream",
          "name": "stdout",
          "text": [
            "Evaluation \t Proposed point \t  Current eval. \t  Best eval. \t         Max. ExactAcqFunc \t Max. ApproxAcqFunc \n",
            "init\t [8.92860151 3.31979805 5.         0.99251441 2.         0.57683563]\t 0.8597082353696148\t 0.7312157182363477\t    \t    \n",
            "init\t [4.18807429 3.35407849 9.         0.87750649 3.         0.56623277]\t 0.8283267033366734\t 0.7312157182363477\t    \t    \n",
            "init\t [ 5.788586    6.45355096 14.          0.70660047 12.          0.82154882]\t 0.7312157182363477\t 0.7312157182363477\t    \t    \n",
            "init\t [4.58184578 6.73834679 5.         0.90108528 3.         0.65482895]\t 0.835804847353631\t 0.7312157182363477\t    \t    \n",
            "init\t [ 4.42510505  5.75952352 14.          0.97882365 15.          0.29525604]\t 1.0201879064028692\t 0.7312157182363477\t    \t    \n",
            "1  \t [ 2.83859384  1.8954219   7.          0.66740302 13.          0.2701964 ]\t 1.019213535386702\t 0.7312157182363477\t 2.1056923916138572\t 2.1056923916138572\n",
            "2  \t [ 8.38264396  7.97650716 14.          0.82584689  4.          0.25017455]\t 1.0290226001513474\t 0.7312157182363477\t 2.175717927173569\t 2.175717927173569\n",
            "3  \t [8.90357673 8.23982464 5.         0.66456142 9.         0.34395649]\t 1.0228902128409325\t 0.7312157182363477\t 2.2282537827525912\t 2.2282537827525912\n",
            "4  \t [ 8.97809086  0.52071511 12.          0.96314156 10.          0.21133381]\t 1.0595990180003476\t 0.7312157182363477\t 2.2647745881960963\t 2.264774588194591\n",
            "\u001b[1m\u001b[92m5\u001b[0m\t \u001b[1m\u001b[92m[ 0.84801146  1.44124026 14.          0.54887437  7.          0.93547384]\u001b[0m\t \u001b[1m\u001b[92m0.6939533330723558\u001b[0m\t \u001b[1m\u001b[92m0.6939533330723558\u001b[0m\t \u001b[1m\u001b[92m2.3038646403430048\u001b[0m\t \u001b[1m\u001b[92m2.3038646403430048\u001b[0m\n",
            "6  \t [ 8.37754293  7.69636444  8.          0.98881796 16.          0.46623185]\t 0.9234519385526558\t 0.6939533330723558\t 2.2507676931244793\t 2.2507676931236653\n",
            "7  \t [ 0.5654966   9.52584762 14.          0.82016688  4.          0.10717254]\t 1.0610911324495744\t 0.6939533330723558\t 2.2517899650126756\t 2.2517899650126756\n",
            "\u001b[1m\u001b[92m8\u001b[0m\t \u001b[1m\u001b[92m[ 6.75909949  0.94220097  9.          0.71741448 19.          0.94972086]\u001b[0m\t \u001b[1m\u001b[92m0.6895189879978737\u001b[0m\t \u001b[1m\u001b[92m0.6895189879978737\u001b[0m\t \u001b[1m\u001b[92m2.2827547241927975\u001b[0m\t \u001b[1m\u001b[92m2.2827547241921327\u001b[0m\n",
            "9  \t [ 1.43292764  9.31823681  5.          0.51738676 10.          0.30600768]\t 1.0250396556181756\t 0.6895189879978737\t 2.243110607457222\t 2.243110607457222\n",
            "\u001b[1m\u001b[92m10\u001b[0m\t \u001b[1m\u001b[92m[ 0.09135886  8.11961466 10.          0.74013552 12.          0.97362941]\u001b[0m\t \u001b[1m\u001b[92m0.6832941408312798\u001b[0m\t \u001b[1m\u001b[92m0.6832941408312798\u001b[0m\t \u001b[1m\u001b[92m2.263282899853574\u001b[0m\t \u001b[1m\u001b[92m2.263282899853574\u001b[0m\n",
            "11 \t [ 9.49126464  2.25575335  7.          0.89398566 13.          0.76947203]\t 0.7493845671941612\t 0.6832941408312798\t 2.2284497867523476\t 2.2284497780778363\n",
            "12 \t [ 2.98453858  8.8700865   6.          0.73955182 19.          0.28620498]\t 1.0180101584031926\t 0.6832941408312798\t 2.2063085482537512\t 2.2063085482537512\n",
            "13 \t [10.  10.   5.   0.5  1.   0.1]\t 1.064194646860047\t 0.6832941408312798\t 2.2238990379817682\t 2.223899040802703\n",
            "14 \t [ 2.2090794   1.72971319  6.          0.60057564 19.          0.94862894]\t 0.7212528660115138\t 0.6832941408312798\t 2.246879560438494\t 2.2468793767033444\n",
            "\u001b[1m\u001b[92m15\u001b[0m\t \u001b[1m\u001b[92m[ 0.19887638  4.80873048 13.          0.98258992 19.          0.95584094]\u001b[0m\t \u001b[1m\u001b[92m0.6764580978528367\u001b[0m\t \u001b[1m\u001b[92m0.6764580978528367\u001b[0m\t \u001b[1m\u001b[92m2.2241929775924603\u001b[0m\t \u001b[1m\u001b[92m2.224192963590056\u001b[0m\n",
            "16 \t [6.55109905 2.29203942 6.         0.7269974  8.         0.87997636]\t 0.7181103319607761\t 0.6764580978528367\t 2.1993093239276353\t 2.199309298278604\n",
            "17 \t [ 5.34746512  3.38521677 14.          0.73339647  4.          0.14820244]\t 1.0618182880471418\t 0.6764580978528367\t 2.1806374607329952\t 2.1806374607329557\n",
            "18 \t [1.60888905 0.63523365 5.         0.67675773 1.         0.79159537]\t 0.7930327233436477\t 0.6764580978528367\t 2.2014829936074976\t 2.2014829936074976\n",
            "19 \t [ 5.98453698  2.00451687 13.          0.80337068 13.          0.24875337]\t 1.0599380721478096\t 0.6764580978528367\t 2.1908635507945937\t 2.1908635507945937\n",
            "20 \t [ 0.08217017  5.74710834 10.          0.94165761  5.          0.50303435]\t 0.8246545779716495\t 0.6764580978528367\t 2.2089922435375406\t 2.208991319236366\n",
            "21 \t [4.70222718 7.76335614 9.         0.92367012 9.         0.28724782]\t 1.0152545517792837\t 0.6764580978528367\t 2.2019835144245\t 2.2019835144195414\n",
            "22 \t [ 9.56780844  0.64608047 12.          0.83676299  2.          0.96098008]\t 0.6833221374902283\t 0.6764580978528367\t 2.213613959296834\t 2.213613959296834\n",
            "23 \t [ 8.23796909  9.12141747 14.00139485  0.5        16.0426214   0.37813175]\t 0.9343571318060719\t 0.6764580978528367\t 2.195769266070363\t 2.1957677165245233\n",
            "24 \t [0.02966045 1.1870223  6.         0.92997678 6.         0.66621503]\t 0.8113301041670242\t 0.6764580978528367\t 2.199371624718959\t 2.1993716247189563\n",
            "25 \t [ 3.81847995  9.43141013 12.          0.56182914 19.          0.95661081]\t 0.6893334668436607\t 0.6764580978528367\t 2.192437912582065\t 2.192437912582065\n",
            "\u001b[1m\u001b[92m26\u001b[0m\t \u001b[1m\u001b[92m[ 2.18408503 10.         15.          0.5         9.39414689  1.        ]\u001b[0m\t \u001b[1m\u001b[92m0.6669674892013836\u001b[0m\t \u001b[1m\u001b[92m0.6669674892013836\u001b[0m\t \u001b[1m\u001b[92m2.177280775526869\u001b[0m\t \u001b[1m\u001b[92m2.177281253293481\u001b[0m\n",
            "27 \t [ 0.3352077   0.88145251 13.          0.67714007 15.32814658  0.5891894 ]\t 0.8260429671912164\t 0.6669674892013836\t 2.1618820282797255\t 2.1618818327328766\n",
            "\u001b[1m\u001b[92m28\u001b[0m\t \u001b[1m\u001b[92m[9.33094426 5.5039056  9.13596393 1.         7.51289955 1.        ]\u001b[0m\t \u001b[1m\u001b[92m0.6587342956613138\u001b[0m\t \u001b[1m\u001b[92m0.6587342956613138\u001b[0m\t \u001b[1m\u001b[92m2.157687499959076\u001b[0m\t \u001b[1m\u001b[92m2.1576858947408786\u001b[0m\n",
            "29 \t [ 0.          0.         11.89908829  0.5         1.          0.1       ]\t 1.0619236080522385\t 0.6587342956613138\t 2.1432292568204447\t 2.1432298663187037\n",
            "30 \t [1.73594604 9.55863667 8.         0.6088793  6.         0.86433392]\t 0.7484335638578441\t 0.6587342956613138\t 2.158266431657993\t 2.158266431657993\n"
          ]
        },
        {
          "output_type": "execute_result",
          "data": {
            "text/plain": [
              "48624.71315366701"
            ]
          },
          "metadata": {},
          "execution_count": 26
        }
      ]
    },
    {
      "cell_type": "code",
      "metadata": {
        "id": "J1WsphKSUj19",
        "colab": {
          "base_uri": "https://localhost:8080/"
        },
        "outputId": "b704f6a0-168d-476d-bf1c-42b92174c6ef"
      },
      "source": [
        "### Bayesian optimization runs (x20): 'approx' Acquisition Function run number = 7\n",
        "\n",
        "np.random.seed(run_num_7)\n",
        "surrogate_approx_7 = dGaussianProcess(cov_func, optimize=opt)\n",
        "\n",
        "X_train7, X_test7, y_train7, y_test7 = train_test_split(X, y, test_size=test_perc, random_state=run_num_7)\n",
        "\n",
        "def f_syn_polarity7(alpha, gamma, max_depth, subsample, min_child_weight, colsample):\n",
        "    reg = XGBRegressor(reg_alpha=alpha, gamma=gamma, max_depth=int(max_depth), subsample=subsample, min_child_weight=min_child_weight,\n",
        "          colsample_bytree=colsample, n_estimators = n_est, random_state=run_num_7, objective = 'reg:squarederror')\n",
        "    score = np.array(cross_val_score(reg, X=X_train7, y=y_train7).mean())\n",
        "    return operator * score\n",
        "\n",
        "approx_7 = GPGO_multi(surrogate_approx_7, Acquisition_grad(util), f_syn_polarity7, param, n_jobs = -1) # define BayesOpt\n",
        "approx_7.run(max_iter = max_iter, init_evals = n_init) # run\n",
        "\n",
        "### Return optimal parameters' set:\n",
        "params_approx_7 = approx_7.getResult()[0]\n",
        "params_approx_7['max_depth'] = int(params_approx_7['max_depth'])\n",
        "params_approx_7['min_child_weight'] = int(params_approx_7['min_child_weight'])\n",
        "\n",
        "### Re-train with optimal parameters, run predictons:\n",
        "dX_approx_train7 = xgb.DMatrix(X_train7, y_train7)\n",
        "dX_approx_test7 = xgb.DMatrix(X_test7, y_test7)\n",
        "model_approx_7 = xgb.train(params_approx_7, dX_approx_train7)\n",
        "pred_approx_7 = model_approx_7.predict(dX_approx_test7)\n",
        "\n",
        "rmse_approx_7 = np.sqrt(mean_squared_error(pred_approx_7, y_test7))\n",
        "rmse_approx_7"
      ],
      "execution_count": null,
      "outputs": [
        {
          "output_type": "stream",
          "name": "stdout",
          "text": [
            "Evaluation \t Proposed point \t  Current eval. \t  Best eval. \t         Max. ExactAcqFunc \t Max. ApproxAcqFunc \n",
            "init\t [0.76308289 7.79918792 8.         0.98911145 8.         0.98019056]\t 0.6599162825175136\t 0.6529031062312245\t    \t    \n",
            "init\t [ 5.3849587   5.01120464 13.          0.74994125  5.          0.88192131]\t 0.6529031062312245\t 0.6529031062312245\t    \t    \n",
            "init\t [ 3.30839249  3.9294231  12.          0.6440728  13.          0.41137564]\t 0.7849988476524127\t 0.6529031062312245\t    \t    \n",
            "init\t [9.29528191 2.6258377  5.         0.80027446 1.         0.86616513]\t 0.7434573966703171\t 0.6529031062312245\t    \t    \n",
            "init\t [ 1.74052764  7.90763512 14.          0.7244129   4.          0.77536887]\t 0.6887936732176462\t 0.6529031062312245\t    \t    \n",
            "1  \t [3.43305102 3.00339076 8.         0.71322679 4.         0.33322219]\t 0.8461730749178773\t 0.6529031062312245\t 1.7338384748855904\t 1.7338384748855904\n",
            "2  \t [ 8.27276329  5.80705371  6.          0.6575149  16.          0.66596626]\t 0.7280339284910606\t 0.6529031062312245\t 1.7947615684633749\t 1.7947615684633749\n",
            "3  \t [ 8.97988092  8.79483413 14.          0.55379557 13.          0.92924117]\t 0.6571137209723783\t 0.6529031062312245\t 1.7931304837411781\t 1.7931304837411781\n",
            "4  \t [ 6.31879092  0.69939064  5.          0.5769645  12.          0.84874959]\t 0.7458231993222018\t 0.6529031062312245\t 1.7712291141555219\t 1.7712291141555219\n",
            "5  \t [ 9.90436619  1.68371673 11.          0.68947817 16.          0.400226  ]\t 0.7838758112536788\t 0.6529031062312245\t 1.7774989746787417\t 1.7774989746787417\n",
            "6  \t [ 2.27614069  9.14855814 13.          0.84138599 18.          0.79014716]\t 0.6787899501779286\t 0.6529031062312245\t 1.7922693660785078\t 1.7922693660785078\n",
            "7  \t [ 0.63761793  0.73483023 14.          0.60715475  1.          0.28353184]\t 0.8531322761504475\t 0.6529031062312245\t 1.780878898738109\t 1.780878898738109\n",
            "8  \t [ 1.95327375  0.09413692  7.          0.63967551 19.          0.52105045]\t 0.718715865573951\t 0.6529031062312245\t 1.8086327925263346\t 1.8086327925263346\n",
            "9  \t [5.70513125 8.30861013 6.         0.98680016 3.         0.16134411]\t 0.9984088714580504\t 0.6529031062312245\t 1.8049750541502487\t 1.8049750541502487\n",
            "10 \t [ 0.25030147  5.86047618  7.          0.62148035 15.          0.70956246]\t 0.7144935773647406\t 0.6529031062312245\t 1.8580726169681439\t 1.8580726169681439\n",
            "11 \t [ 6.35215     9.71205645 11.          0.67733044  6.          0.80174708]\t 0.6867359020307766\t 0.6529031062312245\t 1.8510736897201887\t 1.8510736788980535\n",
            "12 \t [9.93412004 7.01728008 6.         0.60790736 8.         0.46475011]\t 0.8183353504315909\t 0.6529031062312245\t 1.840969836776982\t 1.840969836776982\n",
            "13 \t [ 9.74185418  1.9812272  14.          0.94068286 10.          0.45784207]\t 0.7792188999132433\t 0.6529031062312245\t 1.8509892306939228\t 1.8509892306939228\n",
            "14 \t [ 1.45077723  9.99574495  5.          0.58320457 19.          0.8020368 ]\t 0.7455249373416325\t 0.6529031062312245\t 1.8542420122989824\t 1.8542420122989824\n",
            "15 \t [ 0.30180848  0.36339665 10.          0.99951435 11.          0.54137142]\t 0.6900449537968393\t 0.6529031062312245\t 1.852774802256858\t 1.852774802256858\n",
            "16 \t [7.5058071  0.77198166 5.         0.94542975 7.         0.89710815]\t 0.7217956619874041\t 0.6529031062312245\t 1.84498880439141\t 1.84498880364283\n",
            "17 \t [ 0.08258912  2.04682383 12.          0.59206459 18.          0.58057909]\t 0.6960149194291863\t 0.6529031062312245\t 1.8413968773277618\t 1.8413968773277618\n",
            "18 \t [ 7.87862448  0.37268652 11.          0.83129981  1.          0.83621209]\t 0.6910349298616485\t 0.6529031062312245\t 1.8354120273734658\t 1.8354120273522427\n",
            "19 \t [ 8.02008913  6.8951761  13.          0.63880909 19.          0.69330995]\t 0.6893407861836052\t 0.6529031062312245\t 1.8294378867337406\t 1.8294378867337406\n",
            "20 \t [ 9.02606866  9.9399456   5.          0.69325176 13.          0.80731892]\t 0.7457716132538541\t 0.6529031062312245\t 1.8237842313914896\t 1.8237842313914896\n",
            "21 \t [ 3.09348613  3.96247234  8.          0.81774087 13.          0.58941598]\t 0.7015179019308584\t 0.6529031062312245\t 1.8239033670587586\t 1.8239033670587586\n",
            "22 \t [ 2.21548548  9.34072297 10.          0.96109934 13.          0.7636836 ]\t 0.6798017103904265\t 0.6529031062312245\t 1.8199571875596094\t 1.819957187551755\n",
            "\u001b[1m\u001b[92m23\u001b[0m\t \u001b[1m\u001b[92m[ 1.10150879  4.93737158 13.          0.87840594  8.          0.95224738]\u001b[0m\t \u001b[1m\u001b[92m0.6467893306949126\u001b[0m\t \u001b[1m\u001b[92m0.6467893306949126\u001b[0m\t \u001b[1m\u001b[92m1.8144251752698966\u001b[0m\t \u001b[1m\u001b[92m1.8144251752698966\u001b[0m\n",
            "24 \t [ 8.17909255  8.95640578 13.          0.94174624  1.          0.89014148]\t 0.6509486270988182\t 0.6467893306949126\t 1.806709396767544\t 1.806709396767544\n",
            "25 \t [ 4.19944994 10.         14.61353821  0.5        11.01411772  0.32488709]\t 0.8445420736624227\t 0.6467893306949126\t 1.799804998221337\t 1.7998045826632356\n",
            "26 \t [ 7.08665977  4.75139381  9.          0.63711231 14.          0.92169424]\t 0.6600689294482771\t 0.6467893306949126\t 1.8094480532493378\t 1.8094480532493378\n",
            "27 \t [ 9.72265512  3.8270652  10.          0.71648686  6.          0.86209857]\t 0.6848726653905244\t 0.6467893306949126\t 1.803516656833671\t 1.8035163951307278\n",
            "28 \t [ 5.50533402  5.98134311 11.          0.606747    9.          0.23402402]\t 0.993933313945832\t 0.6467893306949126\t 1.7997546059868978\t 1.7997546059868978\n",
            "29 \t [ 9.92745389  2.10791379  6.          0.91867901 19.          0.37494465]\t 0.8675172360459502\t 0.6467893306949126\t 1.8222441887532768\t 1.8222441887532768\n",
            "30 \t [1.66779279 0.54723135 6.         0.82307279 8.         0.95931183]\t 0.6973128000849222\t 0.6467893306949126\t 1.8318623635037579\t 1.8318623635037579\n"
          ]
        },
        {
          "output_type": "execute_result",
          "data": {
            "text/plain": [
              "49673.760083321315"
            ]
          },
          "metadata": {},
          "execution_count": 27
        }
      ]
    },
    {
      "cell_type": "code",
      "metadata": {
        "id": "hI8sFP4ZUmOs",
        "colab": {
          "base_uri": "https://localhost:8080/"
        },
        "outputId": "60e2db85-e1de-4791-8376-e00ee954578a"
      },
      "source": [
        "### Bayesian optimization runs (x20): 'approx' Acquisition Function run number = 8\n",
        "\n",
        "np.random.seed(run_num_8)\n",
        "surrogate_approx_8 = dGaussianProcess(cov_func, optimize=opt)\n",
        "\n",
        "X_train8, X_test8, y_train8, y_test8 = train_test_split(X, y, test_size=test_perc, random_state=run_num_8)\n",
        "\n",
        "def f_syn_polarity8(alpha, gamma, max_depth, subsample, min_child_weight, colsample):\n",
        "    reg = XGBRegressor(reg_alpha=alpha, gamma=gamma, max_depth=int(max_depth), subsample=subsample, min_child_weight=min_child_weight,\n",
        "          colsample_bytree=colsample, n_estimators = n_est, random_state=run_num_8, objective = 'reg:squarederror')\n",
        "    score = np.array(cross_val_score(reg, X=X_train8, y=y_train8).mean())\n",
        "    return operator * score\n",
        "\n",
        "approx_8 = GPGO_multi(surrogate_approx_8, Acquisition_grad(util), f_syn_polarity8, param, n_jobs = -1) # define BayesOpt\n",
        "approx_8.run(max_iter = max_iter, init_evals = n_init) # run\n",
        "\n",
        "### Return optimal parameters' set:\n",
        "params_approx_8 = approx_8.getResult()[0]\n",
        "params_approx_8['max_depth'] = int(params_approx_8['max_depth'])\n",
        "params_approx_8['min_child_weight'] = int(params_approx_8['min_child_weight'])\n",
        "\n",
        "### Re-train with optimal parameters, run predictons:\n",
        "dX_approx_train8 = xgb.DMatrix(X_train8, y_train8)\n",
        "dX_approx_test8 = xgb.DMatrix(X_test8, y_test8)\n",
        "model_approx_8 = xgb.train(params_approx_8, dX_approx_train8)\n",
        "pred_approx_8 = model_approx_8.predict(dX_approx_test8)\n",
        "\n",
        "rmse_approx_8 = np.sqrt(mean_squared_error(pred_approx_8, y_test8))\n",
        "rmse_approx_8"
      ],
      "execution_count": null,
      "outputs": [
        {
          "output_type": "stream",
          "name": "stdout",
          "text": [
            "Evaluation \t Proposed point \t  Current eval. \t  Best eval. \t         Max. ExactAcqFunc \t Max. ApproxAcqFunc \n",
            "init\t [ 8.73429403  9.68540663 10.          0.68875849  9.          0.48011572]\t 0.8097437093843076\t 0.6653168057229354\t    \t    \n",
            "init\t [ 6.12033333  7.66062926  8.          0.76133734 13.          0.93379456]\t 0.676783388491471\t 0.6653168057229354\t    \t    \n",
            "init\t [ 1.46524679  7.01527914  7.          0.90913299 10.          0.36016753]\t 0.8290150461838799\t 0.6653168057229354\t    \t    \n",
            "init\t [ 9.73855241  3.33774046 14.          0.53290419  7.          0.7088681 ]\t 0.704280612172438\t 0.6653168057229354\t    \t    \n",
            "init\t [ 3.00618018  1.82702795 11.          0.75681389 14.          0.98627449]\t 0.6653168057229354\t 0.6653168057229354\t    \t    \n",
            "1  \t [4.42022545 5.48487111 9.         0.97165909 3.         0.63617522]\t 0.6939807861210728\t 0.6653168057229354\t 1.8131670239717785\t 1.8131670239717785\n",
            "2  \t [ 4.42530022  8.86662399 12.          0.55390756 19.          0.26906902]\t 0.8292448989696929\t 0.6653168057229354\t 1.7947851365062013\t 1.7947851365062013\n",
            "3  \t [ 9.08237751  2.49680746  6.          0.65941352 17.          0.68321352]\t 0.7238654894117781\t 0.6653168057229354\t 1.8304333727762034\t 1.8304333727762034\n",
            "4  \t [ 2.65017214  0.71847009 13.          0.73718634  4.          0.80301028]\t 0.6751159047919135\t 0.6653168057229354\t 1.8233654575670222\t 1.8233654575670222\n",
            "5  \t [ 2.71549468  6.59835463  5.          0.95307649 18.          0.8022723 ]\t 0.7298305735353544\t 0.6653168057229354\t 1.8053004320903427\t 1.8053004320903427\n",
            "6  \t [8.02691358 0.52300563 6.         0.98815878 7.         0.44490514]\t 0.8276007354468167\t 0.6653168057229354\t 1.8035492907971904\t 1.8035492907971904\n",
            "7  \t [ 8.83774177  5.41674027 14.          0.73954397  1.          0.31035075]\t 0.8412489648220683\t 0.6653168057229354\t 1.8250139397674818\t 1.8250139397674818\n",
            "8  \t [ 0.08467666  5.16459379 14.          0.91403875 18.          0.86276347]\t 0.6684835927267996\t 0.6653168057229354\t 1.8457978160193544\t 1.8457978159725918\n",
            "9  \t [9.49413581 4.67792649 6.         0.72577543 2.         0.1333889 ]\t 0.9348804671860085\t 0.6653168057229354\t 1.8306126784256787\t 1.8306126784227892\n",
            "10 \t [ 9.10556495  0.26506496 13.          0.920006   16.          0.11711319]\t 0.9294301012904793\t 0.6653168057229354\t 1.8671763849005265\t 1.8671763848976377\n",
            "11 \t [ 9.26508171  9.34518462 13.          0.88022704 15.          0.76128095]\t 0.6694101087120092\t 0.6653168057229354\t 1.8972244110719\t 1.8972244110698586\n",
            "12 \t [ 4.71588947  9.8420912  12.          0.6928841   2.          0.94179256]\t 0.6697506372969916\t 0.6653168057229354\t 1.882162427003649\t 1.882162427003649\n",
            "13 \t [ 9.08307561  9.73616604  5.          0.74596783 18.          0.23735578]\t 0.9373386140641772\t 0.6653168057229354\t 1.8688147074788037\t 1.8688147074788037\n",
            "14 \t [ 1.35924905  5.41793837 14.          0.87246457  8.          0.19493237]\t 0.9296907918318995\t 0.6653168057229354\t 1.8950752996601354\t 1.8950752996600486\n",
            "15 \t [3.63587924 9.92644255 5.         0.74785877 1.         0.42737692]\t 0.8438702768074448\t 0.6653168057229354\t 1.917091164048917\t 1.917091164048917\n",
            "16 \t [0.05861183 0.85510206 7.         0.55669041 9.         0.24118856]\t 0.9320720399646423\t 0.6653168057229354\t 1.9248666818835143\t 1.9248666814737727\n",
            "17 \t [0.26711089 1.47965823 5.         0.94483199 1.         0.67844469]\t 0.7386069861707144\t 0.6653168057229354\t 1.9434234113815847\t 1.9434234113815727\n",
            "18 \t [ 8.81884199  0.29557486 11.          0.94612367  2.          0.80082225]\t 0.6729826219675135\t 0.6653168057229354\t 1.9375246819068763\t 1.9375246819068763\n",
            "19 \t [ 1.3544572   9.55649539 12.          0.53328948 12.          0.91626416]\t 0.6731132832963013\t 0.6653168057229354\t 1.9258590807535896\t 1.9258590807535896\n",
            "20 \t [8.15081779 6.03793071 5.         0.58954937 9.         0.17925201]\t 0.9383676152731646\t 0.6653168057229354\t 1.9151147105350494\t 1.9151147105350494\n",
            "21 \t [8.49304258 9.45420615 6.         0.52298498 5.         0.36186114]\t 0.8398941833093019\t 0.6653168057229354\t 1.9319123685186117\t 1.9319123685186117\n",
            "22 \t [ 0.76637948  1.6718521   5.          0.89180884 15.          0.76035097]\t 0.7285188069721016\t 0.6653168057229354\t 1.9368857569424154\t 1.9368857569424154\n",
            "\u001b[1m\u001b[92m23\u001b[0m\t \u001b[1m\u001b[92m[ 9.20932761  1.3740652   9.54636452  1.         12.54024466  1.        ]\u001b[0m\t \u001b[1m\u001b[92m0.655346032746567\u001b[0m\t \u001b[1m\u001b[92m0.655346032746567\u001b[0m\t \u001b[1m\u001b[92m1.9314562132256512\u001b[0m\t \u001b[1m\u001b[92m1.9314548379012582\u001b[0m\n",
            "24 \t [ 6.01005211  5.9819486  11.          0.64707808  9.          0.83952679]\t 0.676299819778591\t 0.655346032746567\t 1.9207605927736577\t 1.920760217909646\n",
            "25 \t [ 2.00363843  0.25557305 13.          0.79852696 19.          0.41982126]\t 0.8045050796386125\t 0.655346032746567\t 1.912258763737955\t 1.912258763737955\n",
            "26 \t [ 0.42510631  9.00989457 10.38089039  1.          3.63822093  0.1       ]\t 0.9638918124139344\t 0.655346032746567\t 1.9142186506500627\t 1.9142173378194691\n",
            "27 \t [ 7.15040543  9.72926644 14.          0.63776297 15.          0.43073814]\t 0.8100270760776773\t 0.655346032746567\t 1.9302613871790602\t 1.9302613871790602\n",
            "28 \t [ 5.52989371  3.9912238  10.84249922  0.67109292 18.8858682   0.9335849 ]\t 0.6699010354789452\t 0.655346032746567\t 1.9292055429562143\t 1.92920548867533\n",
            "29 \t [5.18469819 3.25888337 5.         0.93742837 1.         0.50134624]\t 0.7620525355969103\t 0.655346032746567\t 1.9237950277042402\t 1.9237950277042402\n",
            "30 \t [ 0.          0.         15.          0.5        14.12103006  0.1       ]\t 0.9307721536857647\t 0.655346032746567\t 1.9195256035487687\t 1.9195254301047406\n"
          ]
        },
        {
          "output_type": "execute_result",
          "data": {
            "text/plain": [
              "52048.5313796255"
            ]
          },
          "metadata": {},
          "execution_count": 28
        }
      ]
    },
    {
      "cell_type": "code",
      "metadata": {
        "id": "Vw5IYus6UpAn",
        "colab": {
          "base_uri": "https://localhost:8080/"
        },
        "outputId": "e5bd863b-f361-4405-8236-fd3a8a2fecc6"
      },
      "source": [
        "### Bayesian optimization runs (x20): 'approx' Acquisition Function run number = 9\n",
        "\n",
        "np.random.seed(run_num_9)\n",
        "surrogate_approx_9 = dGaussianProcess(cov_func, optimize=opt)\n",
        "\n",
        "X_train9, X_test9, y_train9, y_test9 = train_test_split(X, y, test_size=test_perc, random_state=run_num_9)\n",
        "\n",
        "def f_syn_polarity9(alpha, gamma, max_depth, subsample, min_child_weight, colsample):\n",
        "    reg = XGBRegressor(reg_alpha=alpha, gamma=gamma, max_depth=int(max_depth), subsample=subsample, min_child_weight=min_child_weight,\n",
        "          colsample_bytree=colsample, n_estimators = n_est, random_state=run_num_9, objective = 'reg:squarederror')\n",
        "    score = np.array(cross_val_score(reg, X=X_train9, y=y_train9).mean())\n",
        "    return operator * score\n",
        "\n",
        "approx_9 = GPGO_multi(surrogate_approx_9, Acquisition_grad(util), f_syn_polarity9, param, n_jobs = -1) # define BayesOpt\n",
        "approx_9.run(max_iter = max_iter, init_evals = n_init) # run\n",
        "\n",
        "### Return optimal parameters' set:\n",
        "params_approx_9 = approx_9.getResult()[0]\n",
        "params_approx_9['max_depth'] = int(params_approx_9['max_depth'])\n",
        "params_approx_9['min_child_weight'] = int(params_approx_9['min_child_weight'])\n",
        "\n",
        "### Re-train with optimal parameters, run predictons:\n",
        "dX_approx_train9 = xgb.DMatrix(X_train9, y_train9)\n",
        "dX_approx_test9 = xgb.DMatrix(X_test9, y_test9)\n",
        "model_approx_9 = xgb.train(params_approx_9, dX_approx_train9)\n",
        "pred_approx_9 = model_approx_9.predict(dX_approx_test9)\n",
        "\n",
        "rmse_approx_9 = np.sqrt(mean_squared_error(pred_approx_9, y_test9))\n",
        "rmse_approx_9"
      ],
      "execution_count": null,
      "outputs": [
        {
          "output_type": "stream",
          "name": "stdout",
          "text": [
            "Evaluation \t Proposed point \t  Current eval. \t  Best eval. \t         Max. ExactAcqFunc \t Max. ApproxAcqFunc \n",
            "init\t [ 0.10374154  5.01874592 11.          0.50377155  2.          0.29670281]\t 0.8449026536729003\t 0.6448358819228919\t    \t    \n",
            "init\t [ 4.18508181  2.48101168 13.          0.69794293  2.          0.25009871]\t 0.8430936233516066\t 0.6448358819228919\t    \t    \n",
            "init\t [ 8.78559086  9.50964032 13.          0.98395204 11.          0.90820641]\t 0.6448358819228919\t 0.6448358819228919\t    \t    \n",
            "init\t [ 6.66898973  5.47837783  6.          0.97165345 12.          0.72499481]\t 0.7455250925664565\t 0.6448358819228919\t    \t    \n",
            "init\t [ 8.24870465  4.65668475 13.          0.68760467  9.          0.98502332]\t 0.6542440322310401\t 0.6448358819228919\t    \t    \n",
            "1  \t [6.73714319 2.39608167 5.         0.58130302 3.         0.163077  ]\t 1.0516333409565926\t 0.6448358819228919\t 1.8409748247847018\t 1.8409748247847018\n",
            "2  \t [9.23885705 0.0495141  9.         0.5847098  7.         0.79832927]\t 0.6774051522557019\t 0.6448358819228919\t 1.9824874632448024\t 1.9824874632448024\n",
            "3  \t [ 3.67545472  4.78145311 14.          0.63123486 17.          0.4863889 ]\t 0.7930932442681178\t 0.6448358819228919\t 1.939617224212438\t 1.939617224212438\n",
            "4  \t [ 0.19525707  9.62416422  9.          0.85280832 10.          0.52998476]\t 0.7396199848029671\t 0.6448358819228919\t 1.9399995103836638\t 1.9399995103836638\n",
            "5  \t [ 1.86381009  9.16177979  5.          0.9344438  17.          0.81379931]\t 0.7377720407232845\t 0.6448358819228919\t 1.9261652145809063\t 1.9261652145809063\n",
            "6  \t [ 2.35563756  1.41309797  5.          0.61127581 14.          0.85229383]\t 0.7381603779527465\t 0.6448358819228919\t 1.9145978718862895\t 1.9145978718862895\n",
            "7  \t [ 0.65024006  0.20015298 14.          0.90298726 13.          0.95798937]\t 0.6479585144859159\t 0.6448358819228919\t 1.905163876737643\t 1.9051638767372923\n",
            "8  \t [ 9.89935012  1.80411649  9.          0.642097   16.          0.9768379 ]\t 0.6624923928604278\t 0.6448358819228919\t 1.8807188888641293\t 1.8807188888641293\n",
            "9  \t [ 0.30581668  9.33751049 12.          0.80943195 19.          0.44519139]\t 0.788150408197674\t 0.6448358819228919\t 1.8621455793747645\t 1.8621455793747645\n",
            "10 \t [ 8.9317907   9.240006   13.          0.55531212  4.          0.42887515]\t 0.8067241228581707\t 0.6448358819228919\t 1.867115709105408\t 1.867115709105408\n",
            "11 \t [2.63920029 2.84662126 8.         0.81372528 9.         0.70958016]\t 0.7107155274108488\t 0.6448358819228919\t 1.8745764712379556\t 1.8745764712379556\n",
            "12 \t [1.13081555 8.89608809 5.         0.68242063 1.         0.25767085]\t 0.8508904111239197\t 0.6448358819228919\t 1.8665013790810823\t 1.866501379081082\n",
            "13 \t [ 8.01493798  7.33950965 10.          0.50609192 18.          0.9957267 ]\t 0.6703192470045024\t 0.6448358819228919\t 1.8800082267346137\t 1.8800082267327012\n",
            "14 \t [ 8.08392893  1.91862949 14.          0.6384648  17.          0.1890016 ]\t 1.0461857744698733\t 0.6448358819228919\t 1.8675784195858918\t 1.8675784048652908\n",
            "15 \t [9.88943457 8.53804591 8.         0.65243257 7.         0.28069664]\t 0.8352977818443392\t 0.6448358819228919\t 1.9104741992272127\t 1.9104741992272127\n",
            "16 \t [ 3.66353781  7.3371628  13.          0.91928424 11.          0.42437688]\t 0.78680708804053\t 0.6448358819228919\t 1.9174806949345167\t 1.9174806949345167\n",
            "17 \t [ 1.01403007  4.17086177  6.          0.95687904 19.          0.93022379]\t 0.6958192358474726\t 0.6448358819228919\t 1.9179482621612471\t 1.9179482621612471\n",
            "18 \t [ 9.00084206  1.85673124 10.          0.98011614  2.          0.25530052]\t 0.83279328574821\t 0.6448358819228919\t 1.908760052797894\t 1.908760052797894\n",
            "19 \t [2.39281114 8.24027537 6.         0.62412974 6.         0.7547697 ]\t 0.7107399222825\t 0.6448358819228919\t 1.9146494229992024\t 1.9146494081827632\n",
            "20 \t [ 5.06569568  9.95512019 10.          0.79200421  8.          0.9497448 ]\t 0.6524837713585139\t 0.6448358819228919\t 1.9077278508838442\t 1.907727850883678\n",
            "21 \t [ 4.2953213   0.27911896 10.          0.9783586  19.          0.46300401]\t 0.7860315206098012\t 0.6448358819228919\t 1.8963186764550566\t 1.896318676416192\n",
            "22 \t [5.69641029 8.40739134 9.         0.78375397 1.         0.13665985]\t 1.0469513005500544\t 0.6448358819228919\t 1.8974444499379883\t 1.8974444499379883\n",
            "23 \t [ 7.07313313  8.94084339  5.          0.99439529 19.          0.33798274]\t 0.8491103282876022\t 0.6448358819228919\t 1.9262737613267915\t 1.9262737613267915\n",
            "24 \t [1.76701563 1.7346788  7.         0.94361827 2.         0.93288306]\t 0.6754110020522134\t 0.6448358819228919\t 1.931970311072671\t 1.931970311068003\n",
            "25 \t [ 9.01552706  3.25572905  5.          0.56123527 16.          0.5672937 ]\t 0.797912270059593\t 0.6448358819228919\t 1.9230663302064077\t 1.923066329676723\n",
            "26 \t [4.86659604 3.67943735 9.         0.97224139 1.         0.90536162]\t 0.6576745506297413\t 0.6448358819228919\t 1.9241216318604872\t 1.924121629209186\n",
            "27 \t [ 0.45983101  9.28402862 13.          0.52786561  6.          0.42783681]\t 0.8036069849990609\t 0.6448358819228919\t 1.9148146735479048\t 1.9148146735479048\n",
            "28 \t [7.20425099 1.56266186 5.         0.88211354 9.         0.78887069]\t 0.7368960706458181\t 0.6448358819228919\t 1.9165173196205016\t 1.9165173179513852\n",
            "29 \t [3.08321869 0.87587118 5.         0.75683721 6.         0.32966687]\t 0.8525276760004173\t 0.6448358819228919\t 1.9132336742758511\t 1.9132336742758511\n",
            "30 \t [ 6.14078962  2.31372054 11.          0.9240952  13.          0.361681  ]\t 0.8314074749252223\t 0.6448358819228919\t 1.9186098991015699\t 1.9186098991015699\n"
          ]
        },
        {
          "output_type": "execute_result",
          "data": {
            "text/plain": [
              "48075.00995818073"
            ]
          },
          "metadata": {},
          "execution_count": 29
        }
      ]
    },
    {
      "cell_type": "code",
      "metadata": {
        "id": "YD494io_Ur7V",
        "colab": {
          "base_uri": "https://localhost:8080/"
        },
        "outputId": "b86a2869-894b-44fe-f777-17c3cc36427b"
      },
      "source": [
        "### Bayesian optimization runs (x20): 'approx' Acquisition Function run number = 10\n",
        "\n",
        "np.random.seed(run_num_10)\n",
        "surrogate_approx_10 = dGaussianProcess(cov_func, optimize=opt)\n",
        "\n",
        "X_train10, X_test10, y_train10, y_test10 = train_test_split(X, y, test_size=test_perc, random_state=run_num_10)\n",
        "\n",
        "def f_syn_polarity10(alpha, gamma, max_depth, subsample, min_child_weight, colsample):\n",
        "    reg = XGBRegressor(reg_alpha=alpha, gamma=gamma, max_depth=int(max_depth), subsample=subsample, min_child_weight=min_child_weight,\n",
        "          colsample_bytree=colsample, n_estimators = n_est, random_state=run_num_10, objective = 'reg:squarederror')\n",
        "    score = np.array(cross_val_score(reg, X=X_train10, y=y_train10).mean())\n",
        "    return operator * score\n",
        "\n",
        "approx_10 = GPGO_multi(surrogate_approx_10, Acquisition_grad(util), f_syn_polarity10, param, n_jobs = -1) # define BayesOpt\n",
        "approx_10.run(max_iter = max_iter, init_evals = n_init) # run\n",
        "\n",
        "### Return optimal parameters' set:\n",
        "params_approx_10 = approx_10.getResult()[0]\n",
        "params_approx_10['max_depth'] = int(params_approx_10['max_depth'])\n",
        "params_approx_10['min_child_weight'] = int(params_approx_10['min_child_weight'])\n",
        "\n",
        "### Re-train with optimal parameters, run predictons:\n",
        "dX_approx_train10 = xgb.DMatrix(X_train10, y_train10)\n",
        "dX_approx_test10 = xgb.DMatrix(X_test10, y_test10)\n",
        "model_approx_10 = xgb.train(params_approx_10, dX_approx_train10)\n",
        "pred_approx_10 = model_approx_10.predict(dX_approx_test10)\n",
        "\n",
        "rmse_approx_10 = np.sqrt(mean_squared_error(pred_approx_10, y_test10))\n",
        "rmse_approx_10"
      ],
      "execution_count": null,
      "outputs": [
        {
          "output_type": "stream",
          "name": "stdout",
          "text": [
            "Evaluation \t Proposed point \t  Current eval. \t  Best eval. \t         Max. ExactAcqFunc \t Max. ApproxAcqFunc \n",
            "init\t [ 7.71320643  0.20751949  5.          0.72150747 17.          0.12265456]\t 0.8785010703819621\t 0.6669292375133978\t    \t    \n",
            "init\t [ 7.0920801   2.65566127 13.          0.57518893 17.          0.83494165]\t 0.6669292375133978\t 0.6669292375133978\t    \t    \n",
            "init\t [ 3.36071584  8.90816531  6.          0.86087766 15.          0.75469196]\t 0.7012460140601039\t 0.6669292375133978\t    \t    \n",
            "init\t [ 5.40880931  1.31458152  8.          0.57108502 14.          0.62551123]\t 0.7005965853529538\t 0.6669292375133978\t    \t    \n",
            "init\t [1.82631436 8.26082248 6.         0.80888349 5.         0.15900694]\t 0.880412005930048\t 0.6669292375133978\t    \t    \n",
            "1  \t [8.31989768 3.09778055 7.         0.64798085 3.         0.98471878]\t 0.6770142260932797\t 0.6669292375133978\t 1.8892111563503753\t 1.8892111563503753\n",
            "2  \t [ 3.05837423  0.98670899 11.          0.63714741 18.          0.46809298]\t 0.7417959722875219\t 0.6669292375133978\t 1.852731476748476\t 1.852731476748476\n",
            "3  \t [ 2.20772511  4.37663949 11.          0.65455258  3.          0.57545511]\t 0.7112447021396917\t 0.6669292375133978\t 1.8476723327028148\t 1.8476723327028148\n",
            "4  \t [ 2.98946783  8.70916918 12.          0.89809007  8.          0.53350402]\t 0.7006385046040607\t 0.6669292375133978\t 1.8348183863531062\t 1.8348183863531062\n",
            "\u001b[1m\u001b[92m5\u001b[0m\t \u001b[1m\u001b[92m[ 3.75041373  9.81989522 14.          0.71370546 14.          0.97207881]\u001b[0m\t \u001b[1m\u001b[92m0.6475832890376199\u001b[0m\t \u001b[1m\u001b[92m0.6475832890376199\u001b[0m\t \u001b[1m\u001b[92m1.8220205874346393\u001b[0m\t \u001b[1m\u001b[92m1.8220205874310031\u001b[0m\n",
            "6  \t [ 9.87023759  9.91612936 10.          0.86988555  3.          0.30540809]\t 0.8155151608903657\t 0.6475832890376199\t 1.7998337311711292\t 1.7998337311711292\n",
            "7  \t [ 9.67314628  9.09427799  9.          0.82851167 16.          0.96267251]\t 0.6524258272573389\t 0.6475832890376199\t 1.8186994812740993\t 1.8186994812739206\n",
            "8  \t [ 9.67396075  2.8020106  13.          0.65074314 10.          0.54373377]\t 0.7069523757910561\t 0.6475832890376199\t 1.8013504480670806\t 1.8013504480670792\n",
            "9  \t [7.7714375  7.70616843 8.         0.82339468 6.         0.96195202]\t 0.661096368919013\t 0.6475832890376199\t 1.7960866269254026\t 1.7960866269254026\n",
            "10 \t [ 9.68988111  3.14723756  5.          0.57337272 11.          0.12853019]\t 0.8805076498265475\t 0.6475832890376199\t 1.7840429903267752\t 1.7840429901132624\n",
            "11 \t [5.00762913 1.53619492 9.         0.56892944 8.         0.96567366]\t 0.662454600529182\t 0.6475832890376199\t 1.8112813425473575\t 1.8112813425473575\n",
            "12 \t [2.84027732 0.55785004 6.         0.52193432 3.         0.45391352]\t 0.7540757866763711\t 0.6475832890376199\t 1.8000724650612276\t 1.8000724650612276\n",
            "13 \t [ 1.32528066  5.17118506  5.          0.79204954 19.          0.27904411]\t 0.823119322181516\t 0.6475832890376199\t 1.802871858147325\t 1.802871858147325\n",
            "14 \t [ 0.2734411   0.20947276 13.          0.89386904  7.          0.27558279]\t 0.8166474442456968\t 0.6475832890376199\t 1.8153834342281778\t 1.8153834342281778\n",
            "15 \t [ 9.86913094  2.54287696 14.          0.86051843  2.          0.74044264]\t 0.6976866250322032\t 0.6475832890376199\t 1.8255868518805964\t 1.8255868518805964\n",
            "16 \t [ 0.79209787  5.77655365 11.          0.54385846 15.          0.82704826]\t 0.6707470768091746\t 0.6475832890376199\t 1.819933719826081\t 1.8199337186351647\n",
            "17 \t [ 0.10132441  5.76858385  6.          0.51450173 13.          0.7107056 ]\t 0.7209220166535772\t 0.6475832890376199\t 1.8118999083595984\t 1.8118999083595984\n",
            "18 \t [ 3.35903512  5.65946459  5.          0.99895528 10.          0.94028903]\t 0.7198633628577074\t 0.6475832890376199\t 1.809833954688349\t 1.8098339406565804\n",
            "19 \t [ 3.80090214  9.80981443 12.          0.76771143  3.          0.20106055]\t 0.8840643207380687\t 0.6475832890376199\t 1.8078355769188785\t 1.8078355767925625\n",
            "20 \t [ 6.0369774   1.48305249 11.          0.8235187   1.          0.72887773]\t 0.6964997478524737\t 0.6475832890376199\t 1.8241305438561497\t 1.8241305438561497\n",
            "21 \t [ 4.88751766 10.          5.99982544  0.5         1.          1.        ]\t 0.7219324305807535\t 0.6475832890376199\t 1.819560619480861\t 1.8195603514922511\n",
            "22 \t [ 7.44941345  7.70836838 13.          0.90908439 19.          0.52212662]\t 0.7001294662647155\t 0.6475832890376199\t 1.8176211914473837\t 1.8176211914430038\n",
            "23 \t [ 6.89824313  6.43931113 11.          0.60707962 11.          0.89509759]\t 0.6539666670983036\t 0.6475832890376199\t 1.813922419736866\t 1.813922419736866\n",
            "24 \t [ 8.33810851  9.8990204  14.          0.61893039  5.          0.69227045]\t 0.699282809687575\t 0.6475832890376199\t 1.8067781699953134\t 1.8067781699945435\n",
            "25 \t [ 8.21404851  8.60074735  5.          0.79731226 10.          0.34633832]\t 0.8239891419025721\t 0.6475832890376199\t 1.803621410520883\t 1.8036212997770815\n",
            "26 \t [ 9.00254464  5.61692594  5.          0.51689901 18.          0.34218711]\t 0.8258247075937485\t 0.6475832890376199\t 1.8111707898946094\t 1.8111707898946094\n",
            "27 \t [ 9.80190803  7.94317114 14.          0.54244107 12.          0.27327436]\t 0.8158699848951138\t 0.6475832890376199\t 1.8184021298129174\t 1.8184021298129174\n",
            "28 \t [ 1.55481231  8.89847306 13.          0.92315868 19.          0.23858876]\t 0.8822650514974324\t 0.6475832890376199\t 1.8242941435983286\t 1.8242941435983286\n",
            "29 \t [ 6.63780696  4.84244466 12.11697433  0.5         6.20571496  1.        ]\t 0.6549653767012144\t 0.6475832890376199\t 1.8354123242464626\t 1.8354118939648616\n",
            "30 \t [ 1.15143775  1.44003305  5.          0.55411367 14.          0.81935679]\t 0.7257754398445894\t 0.6475832890376199\t 1.8290327195312606\t 1.8290327195312606\n"
          ]
        },
        {
          "output_type": "execute_result",
          "data": {
            "text/plain": [
              "49942.9444228931"
            ]
          },
          "metadata": {},
          "execution_count": 30
        }
      ]
    },
    {
      "cell_type": "code",
      "metadata": {
        "id": "N03Sq0TvUuhp",
        "colab": {
          "base_uri": "https://localhost:8080/"
        },
        "outputId": "417acd15-3955-4e17-caf0-848848126a96"
      },
      "source": [
        "### Bayesian optimization runs (x20): 'approx' Acquisition Function run number = 11\n",
        "\n",
        "np.random.seed(run_num_11)\n",
        "surrogate_approx_11 = dGaussianProcess(cov_func, optimize=opt)\n",
        "\n",
        "X_train11, X_test11, y_train11, y_test11 = train_test_split(X, y, test_size=test_perc, random_state=run_num_11)\n",
        "\n",
        "def f_syn_polarity11(alpha, gamma, max_depth, subsample, min_child_weight, colsample):\n",
        "    reg = XGBRegressor(reg_alpha=alpha, gamma=gamma, max_depth=int(max_depth), subsample=subsample, min_child_weight=min_child_weight,\n",
        "          colsample_bytree=colsample, n_estimators = n_est, random_state=run_num_11, objective = 'reg:squarederror')\n",
        "    score = np.array(cross_val_score(reg, X=X_train11, y=y_train11).mean())\n",
        "    return operator * score\n",
        "\n",
        "approx_11 = GPGO_multi(surrogate_approx_11, Acquisition_grad(util), f_syn_polarity11, param, n_jobs = -1) # define BayesOpt\n",
        "approx_11.run(max_iter = max_iter, init_evals = n_init) # run\n",
        "\n",
        "### Return optimal parameters' set:\n",
        "params_approx_11 = approx_11.getResult()[0]\n",
        "params_approx_11['max_depth'] = int(params_approx_11['max_depth'])\n",
        "params_approx_11['min_child_weight'] = int(params_approx_11['min_child_weight'])\n",
        "\n",
        "### Re-train with optimal parameters, run predictons:\n",
        "dX_approx_train11 = xgb.DMatrix(X_train11, y_train11)\n",
        "dX_approx_test11 = xgb.DMatrix(X_test11, y_test11)\n",
        "model_approx_11 = xgb.train(params_approx_11, dX_approx_train11)\n",
        "pred_approx_11 = model_approx_11.predict(dX_approx_test11)\n",
        "\n",
        "rmse_approx_11 = np.sqrt(mean_squared_error(pred_approx_11, y_test11))\n",
        "rmse_approx_11"
      ],
      "execution_count": null,
      "outputs": [
        {
          "output_type": "stream",
          "name": "stdout",
          "text": [
            "Evaluation \t Proposed point \t  Current eval. \t  Best eval. \t         Max. ExactAcqFunc \t Max. ApproxAcqFunc \n",
            "init\t [ 1.80269689  0.19475241  6.          0.59705781 13.          0.47818324]\t 0.7904007286371394\t 0.6894069737354023\t    \t    \n",
            "init\t [ 4.85427098  0.12780815  5.          0.91309068 14.          0.86571558]\t 0.727634308123781\t 0.6894069737354023\t    \t    \n",
            "init\t [ 7.2996447   1.08736072 10.          0.92857712 18.          0.66910061]\t 0.6894069737354023\t 0.6894069737354023\t    \t    \n",
            "init\t [ 0.20483613  1.16737269  7.          0.57895615 16.          0.83644782]\t 0.7071657410132528\t 0.6894069737354023\t    \t    \n",
            "init\t [ 3.44624491  3.18798797 14.          0.54197657 15.          0.63958906]\t 0.7012825433030343\t 0.6894069737354023\t    \t    \n",
            "1  \t [9.77136617 6.6548802  7.         0.51036649 9.         0.81011527]\t 0.711031226877882\t 0.6894069737354023\t 1.771980480267015\t 1.771980480267015\n",
            "\u001b[1m\u001b[92m2\u001b[0m\t \u001b[1m\u001b[92m[ 0.59719728  4.15307516 11.          0.66501717  3.          0.95537014]\u001b[0m\t \u001b[1m\u001b[92m0.6577294425265764\u001b[0m\t \u001b[1m\u001b[92m0.6577294425265764\u001b[0m\t \u001b[1m\u001b[92m1.766963254697057\u001b[0m\t \u001b[1m\u001b[92m1.766963254697057\u001b[0m\n",
            "3  \t [ 8.79191945  9.92354379  5.          0.67714371 18.          0.57050675]\t 0.7648729702018928\t 0.6577294425265764\t 1.7455497175965742\t 1.7455497175965742\n",
            "4  \t [ 8.43962982  4.2216354  12.          0.61829836  3.          0.16854155]\t 0.9235319432135773\t 0.6577294425265764\t 1.7620584892222906\t 1.7620584892222906\n",
            "5  \t [2.20135958 9.62559813 6.         0.71280025 1.         0.39977427]\t 0.7883201967902798\t 0.6577294425265764\t 1.824410372208415\t 1.824410372208415\n",
            "6  \t [ 3.67323902  7.86608025  9.          0.6017103  12.          0.8976084 ]\t 0.6646588413956347\t 0.6577294425265764\t 1.8353460501387229\t 1.8353460501339554\n",
            "7  \t [ 8.8168337   8.37959662 14.          0.86429866 15.          0.72516241]\t 0.6892145672079726\t 0.6577294425265764\t 1.8174802513677795\t 1.8174802513677795\n",
            "8  \t [6.77981326 1.558009   7.         0.85055204 5.         0.30145072]\t 0.8743477887688297\t 0.6577294425265764\t 1.8077195304321736\t 1.8077195304321736\n",
            "9  \t [ 4.65266155  1.51144578 13.          0.9981878   8.          0.76538736]\t 0.6852941374864567\t 0.6577294425265764\t 1.8349718836391162\t 1.8349718836391162\n",
            "\u001b[1m\u001b[92m10\u001b[0m\t \u001b[1m\u001b[92m[ 7.61112297  9.51446313 12.          0.84027149 19.          0.95892047]\u001b[0m\t \u001b[1m\u001b[92m0.6498543057520629\u001b[0m\t \u001b[1m\u001b[92m0.6498543057520629\u001b[0m\t \u001b[1m\u001b[92m1.824806717495694\u001b[0m\t \u001b[1m\u001b[92m1.824806717495694\u001b[0m\n",
            "11 \t [ 0.11403055  8.4704762   5.          0.64787128 18.          0.27113862]\t 0.8864529961319944\t 0.6498543057520629\t 1.8096800474012875\t 1.8096800474012875\n",
            "12 \t [ 8.75969772  9.81259093 13.          0.73915202  9.          0.12048735]\t 0.9231023673501877\t 0.6498543057520629\t 1.8343757166289245\t 1.8343757166289245\n",
            "13 \t [1.37264123 4.42539257 5.         0.50284853 7.         0.43970984]\t 0.8076253627013447\t 0.6498543057520629\t 1.862623893330003\t 1.862623893330003\n",
            "14 \t [ 8.71522337  2.64896453  8.          0.8880663  13.          0.19932467]\t 0.9228060288203824\t 0.6498543057520629\t 1.8688261908678667\t 1.8688261200726648\n",
            "15 \t [0.61700864 1.88368662 5.         0.7080512  1.         0.20173876]\t 0.9297173774466645\t 0.6498543057520629\t 1.8914561536634755\t 1.8914561536634755\n",
            "16 \t [ 4.54549823  8.84141407 12.          0.50940273  3.          0.75742975]\t 0.7068100593711837\t 0.6498543057520629\t 1.9126013677179483\t 1.9126013677179483\n",
            "17 \t [ 1.5425789   6.90869863 14.          0.81451949 19.          0.60916449]\t 0.726527797420399\t 0.6498543057520629\t 1.9043603999750394\t 1.9043603999750394\n",
            "18 \t [ 2.10994823  7.1805032  12.          0.63048792  8.          0.67645363]\t 0.698358780864823\t 0.6498543057520629\t 1.8992104005540227\t 1.8992104005540227\n",
            "19 \t [ 0.         10.         13.53708323  0.5        14.53945563  0.1       ]\t 0.9255955628057146\t 0.6498543057520629\t 1.8910727445325848\t 1.8910732921908022\n",
            "20 \t [9.22875209 9.1986098  9.         0.90439491 3.         0.27523226]\t 0.8725625909092452\t 0.6498543057520629\t 1.9082277039340696\t 1.9082277039340696\n",
            "21 \t [ 4.20382838  8.11840794 14.          0.97060995 11.          0.52636944]\t 0.7250537141107671\t 0.6498543057520629\t 1.918215735872273\t 1.918215735872273\n",
            "22 \t [5.15068265 4.76861601 5.         0.70076898 1.         0.87159533]\t 0.7286740032592812\t 0.6498543057520629\t 1.9129418253449166\t 1.9129418253449166\n",
            "23 \t [ 6.19623697  6.01203512  5.          0.88873063 14.          0.57196615]\t 0.7645848329695241\t 0.6498543057520629\t 1.908352417632143\t 1.908352417632143\n",
            "24 \t [5.96609946 8.58923382 8.         0.83624418 7.         0.41971406]\t 0.7695460798342351\t 0.6498543057520629\t 1.90709513370846\t 1.90709513370846\n",
            "25 \t [ 4.52812342  0.19443533 13.          0.65004115  2.          0.16077491]\t 0.9247656684808231\t 0.6498543057520629\t 1.9060724132990303\t 1.9060724132990303\n",
            "26 \t [ 5.27427176  5.92212972  9.49419433  1.         17.5036913   0.18579813]\t 0.9672020819174392\t 0.6498543057520629\t 1.9191256716142766\t 1.9191253173399119\n",
            "27 \t [0.         9.62592051 7.52170352 1.         5.58661686 1.        ]\t 0.6686214077274124\t 0.6498543057520629\t 1.9352771341857853\t 1.9352775257361046\n",
            "28 \t [ 9.58703401 10.         14.88348391  1.          3.36101723  0.1       ]\t 0.970126623634252\t 0.6498543057520629\t 1.9266765856829282\t 1.9266765991530455\n",
            "29 \t [9.27654384 0.11345815 9.         0.76045104 1.         0.92226676]\t 0.6600116767225708\t 0.6498543057520629\t 1.9420641697137795\t 1.9420641697137795\n",
            "30 \t [1.82496895 9.77115121 5.         1.         9.96595267 0.1       ]\t 0.9717420013376505\t 0.6498543057520629\t 1.9330398411941625\t 1.9330396681075388\n"
          ]
        },
        {
          "output_type": "execute_result",
          "data": {
            "text/plain": [
              "50531.10479209873"
            ]
          },
          "metadata": {},
          "execution_count": 31
        }
      ]
    },
    {
      "cell_type": "code",
      "metadata": {
        "id": "g_nP9lQjUztV",
        "colab": {
          "base_uri": "https://localhost:8080/"
        },
        "outputId": "030bdb29-ab57-47db-b65f-9474a97fa042"
      },
      "source": [
        "### Bayesian optimization runs (x20): 'approx' Acquisition Function run number = 12\n",
        "\n",
        "np.random.seed(run_num_12)\n",
        "surrogate_approx_12 = dGaussianProcess(cov_func, optimize=opt)\n",
        "\n",
        "X_train12, X_test12, y_train12, y_test12 = train_test_split(X, y, test_size=test_perc, random_state=run_num_12)\n",
        "\n",
        "def f_syn_polarity12(alpha, gamma, max_depth, subsample, min_child_weight, colsample):\n",
        "    reg = XGBRegressor(reg_alpha=alpha, gamma=gamma, max_depth=int(max_depth), subsample=subsample, min_child_weight=min_child_weight,\n",
        "          colsample_bytree=colsample, n_estimators = n_est, random_state=run_num_12, objective = 'reg:squarederror')\n",
        "    score = np.array(cross_val_score(reg, X=X_train12, y=y_train12).mean())\n",
        "    return operator * score\n",
        "\n",
        "approx_12 = GPGO_multi(surrogate_approx_12, Acquisition_grad(util), f_syn_polarity12, param, n_jobs = -1) # define BayesOpt\n",
        "approx_12.run(max_iter = max_iter, init_evals = n_init) # run\n",
        "\n",
        "### Return optimal parameters' set:\n",
        "params_approx_12 = approx_12.getResult()[0]\n",
        "params_approx_12['max_depth'] = int(params_approx_12['max_depth'])\n",
        "params_approx_12['min_child_weight'] = int(params_approx_12['min_child_weight'])\n",
        "\n",
        "### Re-train with optimal parameters, run predictons:\n",
        "dX_approx_train12 = xgb.DMatrix(X_train12, y_train12)\n",
        "dX_approx_test12 = xgb.DMatrix(X_test12, y_test12)\n",
        "model_approx_12 = xgb.train(params_approx_12, dX_approx_train12)\n",
        "pred_approx_12 = model_approx_12.predict(dX_approx_test12)\n",
        "\n",
        "rmse_approx_12 = np.sqrt(mean_squared_error(pred_approx_12, y_test12))\n",
        "rmse_approx_12"
      ],
      "execution_count": null,
      "outputs": [
        {
          "output_type": "stream",
          "name": "stdout",
          "text": [
            "Evaluation \t Proposed point \t  Current eval. \t  Best eval. \t         Max. ExactAcqFunc \t Max. ApproxAcqFunc \n",
            "init\t [1.54162842 7.40049697 6.         0.54321714 4.         0.11311747]\t 0.9314271055202143\t 0.7056203424268611\t    \t    \n",
            "init\t [ 9.18747008  9.00714854 14.          0.97847467 11.          0.35544552]\t 0.7910532936167305\t 0.7056203424268611\t    \t    \n",
            "init\t [ 6.06083184  9.44225136 14.          0.95626942  5.          0.56910342]\t 0.7196830962696428\t 0.7056203424268611\t    \t    \n",
            "init\t [ 5.52037633  4.85377414  7.          0.97886436 17.          0.78810441]\t 0.7056203424268611\t 0.7056203424268611\t    \t    \n",
            "init\t [ 0.20809798  1.35210178  5.          0.65494879 16.          0.36062811]\t 0.8082458628311272\t 0.7056203424268611\t    \t    \n",
            "1  \t [9.46555822 8.57190559 5.         0.50164398 5.         0.71992807]\t 0.74699493326549\t 0.7056203424268611\t 1.9480537431351055\t 1.9480537431351055\n",
            "2  \t [ 7.57473716  9.63637997 12.          0.83444517 10.          0.18761713]\t 0.9247498596892157\t 0.7056203424268611\t 1.928841234425862\t 1.928841234425862\n",
            "\u001b[1m\u001b[92m3\u001b[0m\t \u001b[1m\u001b[92m[ 9.04517621  0.80881017 13.          0.96890904  5.          0.75400021]\u001b[0m\t \u001b[1m\u001b[92m0.6897808103544698\u001b[0m\t \u001b[1m\u001b[92m0.6897808103544698\u001b[0m\t \u001b[1m\u001b[92m1.9748127661121606\u001b[0m\t \u001b[1m\u001b[92m1.9748127661121606\u001b[0m\n",
            "4  \t [ 2.73241117  0.55778587 14.          0.70282167 15.          0.8966204 ]\t 0.6967406870158588\t 0.6897808103544698\t 1.9414555575758543\t 1.9414555575758543\n",
            "5  \t [ 6.66970674  0.03985694  6.          0.76922453 11.          0.18327615]\t 0.9302409127927834\t 0.6897808103544698\t 1.9167875162814356\t 1.9167875162814356\n",
            "6  \t [ 1.23389285  0.85357459 13.          0.93854198  3.          0.52598214]\t 0.7221002132069921\t 0.6897808103544698\t 1.9559858568824318\t 1.9559858568824318\n",
            "7  \t [ 0.57203639  5.0857779   9.          0.68290949 10.          0.94408458]\t 0.7012842559435354\t 0.6897808103544698\t 1.9397125000736803\t 1.9397125000736803\n",
            "8  \t [ 9.11635581  9.60013795  5.          0.57034236 14.          0.41758327]\t 0.8017323350323444\t 0.6897808103544698\t 1.922197709730598\t 1.9221977097151648\n",
            "9  \t [9.77568711 0.70796585 6.         0.73327465 3.         0.82051057]\t 0.7213506404912987\t 0.6897808103544698\t 1.9254325415759728\t 1.9254325415759728\n",
            "10 \t [ 0.14475494  9.8292754  12.          0.60331385  2.          0.9622215 ]\t 0.7073584311311387\t 0.6897808103544698\t 1.9145470607390238\t 1.9145470607390238\n",
            "11 \t [ 3.24107348  8.27034509 14.          0.92485614 16.          0.53812048]\t 0.7151360298031719\t 0.6897808103544698\t 1.9029625241377959\t 1.9029625241377959\n",
            "12 \t [ 7.55307662  2.76896497 12.          0.93049335 17.          0.33736097]\t 0.7889723938717788\t 0.6897808103544698\t 1.893863652373068\t 1.893863609861866\n",
            "13 \t [ 0.04787228  7.48596331  8.          0.52068382 16.          0.7086396 ]\t 0.7110240148871393\t 0.6897808103544698\t 1.8961629374953477\t 1.8961629348537394\n",
            "14 \t [4.27099049 1.84437193 8.         0.60505752 3.         0.28835442]\t 0.7946180236578642\t 0.6897808103544698\t 1.8879105463523178\t 1.8879105463523178\n",
            "15 \t [ 5.00288594  8.63257736  7.          0.63451109 10.          0.4931163 ]\t 0.779054992813269\t 0.6897808103544698\t 1.8910344600670457\t 1.8910343763090203\n",
            "16 \t [ 0.77892218  8.99624404 13.          0.66723238  9.          0.47803353]\t 0.7775062665234967\t 0.6897808103544698\t 1.8919007900203941\t 1.8919007305975506\n",
            "17 \t [ 8.92040797  9.99421763 13.          0.88657464 18.          0.32294618]\t 0.7893524262985254\t 0.6897808103544698\t 1.8925025475105484\t 1.8925025475105484\n",
            "18 \t [0. 0. 5. 1. 1. 1.]\t 0.720657825437895\t 0.6897808103544698\t 1.8943856036730136\t 1.8943856098494487\n",
            "19 \t [1.34025155 0.         5.         0.5738395  6.70081583 0.1       ]\t 0.9351267789926501\t 0.6897808103544698\t 1.8889540826474978\t 1.888954335015353\n",
            "20 \t [ 9.98175567  0.8705802   6.          0.55210219 18.          0.50471737]\t 0.7496479603542527\t 0.6897808103544698\t 1.9073783003388902\t 1.9073783003388902\n",
            "\u001b[1m\u001b[92m21\u001b[0m\t \u001b[1m\u001b[92m[ 2.33960088  0.33184276 10.25172525  0.52070574  7.46507205  1.        ]\u001b[0m\t \u001b[1m\u001b[92m0.6679780961632373\u001b[0m\t \u001b[1m\u001b[92m0.6679780961632373\u001b[0m\t \u001b[1m\u001b[92m1.9045837915746462\u001b[0m\t \u001b[1m\u001b[92m1.904583549683805\u001b[0m\n",
            "22 \t [ 6.3301232 10.         5.         1.         1.         1.       ]\t 0.7206579766957815\t 0.6679780961632373\t 1.8949642323609497\t 1.8949642615445508\n",
            "23 \t [ 9.73906951  4.94918441 11.15332812  0.54990893  9.57661986  0.93865413]\t 0.7052484593618279\t 0.6679780961632373\t 1.8903184156593735\t 1.8903175370249825\n",
            "24 \t [ 1.47973338  1.45058818 11.          0.74181509 19.          0.60410465]\t 0.7209141390650076\t 0.6679780961632373\t 1.8847457187175412\t 1.884745416637537\n",
            "25 \t [ 3.95469902  4.43691502 14.          0.58535398 11.          0.45476493]\t 0.7762242661293977\t 0.6679780961632373\t 1.8807720387498668\t 1.8807720387498668\n",
            "26 \t [7.16088058 4.97333215 8.         0.81630506 6.         0.38815762]\t 0.7727313138277321\t 0.6679780961632373\t 1.8828287221690962\t 1.8828287221690962\n",
            "27 \t [ 9.34468546  9.94032081 11.69860197  1.          1.56404666  0.77520552]\t 0.6811778990550176\t 0.6679780961632373\t 1.8818259023569464\t 1.881827830753589\n",
            "28 \t [ 3.65170008  9.58166785  7.          0.85934391 18.          0.44807251]\t 0.7757669589651004\t 0.6679780961632373\t 1.8768138317919942\t 1.8768138317919942\n",
            "29 \t [ 3.8544074   5.22723842 10.          0.76354194  1.          0.13710805]\t 0.927143786270312\t 0.6679780961632373\t 1.8775299521547768\t 1.8775299521547768\n",
            "30 \t [ 7.60951154  5.7898835  14.44459013  0.5         1.80946669  0.1       ]\t 0.9325221439882732\t 0.6679780961632373\t 1.8890657525677799\t 1.8890653033899536\n"
          ]
        },
        {
          "output_type": "execute_result",
          "data": {
            "text/plain": [
              "52802.24333779962"
            ]
          },
          "metadata": {},
          "execution_count": 32
        }
      ]
    },
    {
      "cell_type": "code",
      "metadata": {
        "id": "yDI2Bi9vU05U",
        "colab": {
          "base_uri": "https://localhost:8080/"
        },
        "outputId": "b7933e43-fd5b-45bb-e499-333961854076"
      },
      "source": [
        "### Bayesian optimization runs (x20): 'approx' Acquisition Function run number = 13\n",
        "\n",
        "np.random.seed(run_num_13)\n",
        "surrogate_approx_13 = dGaussianProcess(cov_func, optimize=opt)\n",
        "\n",
        "X_train13, X_test13, y_train13, y_test13 = train_test_split(X, y, test_size=test_perc, random_state=run_num_13)\n",
        "\n",
        "def f_syn_polarity13(alpha, gamma, max_depth, subsample, min_child_weight, colsample):\n",
        "    reg = XGBRegressor(reg_alpha=alpha, gamma=gamma, max_depth=int(max_depth), subsample=subsample, min_child_weight=min_child_weight,\n",
        "          colsample_bytree=colsample, n_estimators = n_est, random_state=run_num_13, objective = 'reg:squarederror')\n",
        "    score = np.array(cross_val_score(reg, X=X_train13, y=y_train13).mean())\n",
        "    return operator * score\n",
        "\n",
        "approx_13 = GPGO_multi(surrogate_approx_13, Acquisition_grad(util), f_syn_polarity13, param, n_jobs = -1) # define BayesOpt\n",
        "approx_13.run(max_iter = max_iter, init_evals = n_init) # run\n",
        "\n",
        "### Return optimal parameters' set:\n",
        "params_approx_13 = approx_13.getResult()[0]\n",
        "params_approx_13['max_depth'] = int(params_approx_13['max_depth'])\n",
        "params_approx_13['min_child_weight'] = int(params_approx_13['min_child_weight'])\n",
        "\n",
        "### Re-train with optimal parameters, run predictons:\n",
        "dX_approx_train13 = xgb.DMatrix(X_train13, y_train13)\n",
        "dX_approx_test13 = xgb.DMatrix(X_test13, y_test13)\n",
        "model_approx_13 = xgb.train(params_approx_13, dX_approx_train13)\n",
        "pred_approx_13 = model_approx_13.predict(dX_approx_test13)\n",
        "\n",
        "rmse_approx_13 = np.sqrt(mean_squared_error(pred_approx_13, y_test13))\n",
        "rmse_approx_13"
      ],
      "execution_count": null,
      "outputs": [
        {
          "output_type": "stream",
          "name": "stdout",
          "text": [
            "Evaluation \t Proposed point \t  Current eval. \t  Best eval. \t         Max. ExactAcqFunc \t Max. ApproxAcqFunc \n",
            "init\t [ 7.77702411  2.3754122  11.          0.94649135 13.          0.7827256 ]\t 0.6628876451121497\t 0.6628876451121497\t    \t    \n",
            "init\t [ 7.51661514  6.07343344 11.          0.69402149 11.          0.13153287]\t 1.1013657958154304\t 0.6628876451121497\t    \t    \n",
            "init\t [ 2.98449471  0.58512492 10.          0.73579614 12.          0.33065195]\t 0.92150734169971\t 0.6628876451121497\t    \t    \n",
            "init\t [ 3.47581215  0.0941277  11.          0.86143432  8.          0.58454932]\t 0.71924819784624\t 0.6628876451121497\t    \t    \n",
            "init\t [ 4.70137857  6.24432527 10.          0.8149145  18.          0.10784416]\t 1.1014421616742969\t 0.6628876451121497\t    \t    \n",
            "1  \t [1.51786663 9.25994479 9.         0.99792981 2.         0.61199673]\t 0.7207240599672383\t 0.6628876451121497\t 2.2535493229181323\t 2.2535493229181323\n",
            "2  \t [6.93463528 1.25795731 8.         0.92695971 3.         0.9534311 ]\t 0.6734860180774931\t 0.6628876451121497\t 2.17975337665041\t 2.1797533766198756\n",
            "3  \t [ 1.27154032  7.56256657  5.          0.85984573 12.          0.61608824]\t 0.7679544515659981\t 0.6628876451121497\t 2.1121601011275817\t 2.1121601011275817\n",
            "4  \t [ 4.39024044  6.42906019 12.          0.96666124  5.          0.79403332]\t 0.6655222383347275\t 0.6628876451121497\t 2.0847438559401748\t 2.0847438559401748\n",
            "5  \t [5.34651487 5.45650069 6.         0.93529094 7.         0.24078895]\t 1.0980632271289044\t 0.6628876451121497\t 2.039247567156884\t 2.039247567156884\n",
            "6  \t [ 1.86840748  0.75206083 14.          0.81141351 17.          0.47108772]\t 0.8190622083881806\t 0.6628876451121497\t 2.1132712163751814\t 2.113271215856788\n",
            "7  \t [ 6.50677714  2.64641451 14.          0.50110879 19.          0.46175841]\t 0.8250792636501453\t 0.6628876451121497\t 2.1038149830494093\t 2.1038149830494093\n",
            "8  \t [ 9.44002225  4.67426365 14.          0.69806573  1.          0.72511221]\t 0.7229243973927224\t 0.6628876451121497\t 2.0970400083673173\t 2.0970400083673173\n",
            "9  \t [ 6.80309585  9.43423094  7.          0.8851539  14.          0.77731456]\t 0.6905350263714448\t 0.6628876451121497\t 2.0737676927524213\t 2.0737676927524213\n",
            "10 \t [ 0.95213595  8.68324297 14.          0.57163216  8.          0.28130834]\t 0.9272758866528952\t 0.6628876451121497\t 2.048827449304297\t 2.048827449304297\n",
            "11 \t [ 4.33230901  0.85672678  6.          0.63795453 19.          0.64597264]\t 0.7370906275446215\t 0.6628876451121497\t 2.0644083821628585\t 2.0644083821628585\n",
            "12 \t [ 8.67074354  1.64396694 14.          0.83039094  7.          0.18845957]\t 1.1043508783594271\t 0.6628876451121497\t 2.049181703151794\t 2.049181703151794\n",
            "13 \t [ 8.23661056  1.74251738  5.          0.73573442 11.          0.11684268]\t 1.0989959989808682\t 0.6628876451121497\t 2.093436260497202\t 2.0934362603566576\n",
            "14 \t [0.59196411 2.70489003 6.         0.53471064 2.         0.87047587]\t 0.71441968725325\t 0.6628876451121497\t 2.131130341837241\t 2.131130341837241\n",
            "15 \t [ 3.78319896  9.10205064 14.          0.62806706 13.          0.90182995]\t 0.6686440552339279\t 0.6628876451121497\t 2.1127833916900043\t 2.1127833916900043\n",
            "16 \t [ 2.06284179  6.9068961   5.          0.9448545  18.          0.13792391]\t 1.0970836858783257\t 0.6628876451121497\t 2.0915996295126997\t 2.09159962951255\n",
            "17 \t [7.55403251 6.23917493 5.         0.63649547 1.         0.75229567]\t 0.73633358340512\t 0.6628876451121497\t 2.123757352053128\t 2.123757352053128\n",
            "18 \t [ 0.94229296  2.02450761 13.          0.65000924  1.          0.22250131]\t 1.104491648360375\t 0.6628876451121497\t 2.1102598007211344\t 2.1102598007211344\n",
            "19 \t [ 8.70212257  9.22072414 13.          0.93050035 17.          0.7479803 ]\t 0.7016619838210264\t 0.6628876451121497\t 2.1395836669660775\t 2.139583666965746\n",
            "20 \t [ 9.35280568  2.44132886  8.          0.87489385 18.          0.92170626]\t 0.67440347483604\t 0.6628876451121497\t 2.123713406927535\t 2.123713406927535\n",
            "21 \t [ 1.23850137  5.96524691 14.          0.65167204 16.          0.56763255]\t 0.7226533804467168\t 0.6628876451121497\t 2.1068719907566673\t 2.1068719907566673\n",
            "22 \t [4.74151988e-03 7.73535708e+00 9.00000000e+00 8.10214170e-01\n",
            " 7.00000000e+00 8.51111303e-01]\t 0.6741140944144826\t 0.6628876451121497\t 2.0949215203396916\t 2.0949215203396916\n",
            "23 \t [3.55859061 5.61875163 8.         0.5882063  1.         0.57036163]\t 0.7346535405920693\t 0.6628876451121497\t 2.0801769060644757\t 2.0801769060644757\n",
            "24 \t [5.71666567 9.57807292 6.         0.69715499 4.         0.1016024 ]\t 1.0994513505900894\t 0.6628876451121497\t 2.0708086939148367\t 2.0708086939070696\n",
            "25 \t [ 4.58851998  9.96722725 10.          0.86802391  9.          0.49712674]\t 0.8197897150933404\t 0.6628876451121497\t 2.095345245510923\t 2.095345245510923\n",
            "26 \t [ 0.16863022  2.67389719  9.          0.62610438 15.          0.96408501]\t 0.672888499874982\t 0.6628876451121497\t 2.092494970852431\t 2.092494970852431\n",
            "27 \t [ 4.30271104  7.67529814 14.          0.73770848  1.          0.87787505]\t 0.6700993631160561\t 0.6628876451121497\t 2.0796458112130476\t 2.0796458112130476\n",
            "28 \t [ 0.52575512  9.8795354  14.          0.50254458  3.          0.61842994]\t 0.7388856607806753\t 0.6628876451121497\t 2.0673565124636326\t 2.0673564087611926\n",
            "29 \t [ 0.42060893  0.71670801  5.          0.74681906 13.          0.66880385]\t 0.7610675687756426\t 0.6628876451121497\t 2.0600281417884223\t 2.0600281417884223\n",
            "30 \t [0.43091775 0.3532639  5.         0.76123896 7.         0.49074528]\t 0.8387970949832267\t 0.6628876451121497\t 2.054535643991425\t 2.054535643991425\n"
          ]
        },
        {
          "output_type": "execute_result",
          "data": {
            "text/plain": [
              "49640.64566227302"
            ]
          },
          "metadata": {},
          "execution_count": 33
        }
      ]
    },
    {
      "cell_type": "code",
      "metadata": {
        "id": "Z2F_Q194U3uu",
        "colab": {
          "base_uri": "https://localhost:8080/"
        },
        "outputId": "9744267a-0ca4-4941-db77-116b3f1960a7"
      },
      "source": [
        "### Bayesian optimization runs (x20): 'approx' Acquisition Function run number = 14\n",
        "\n",
        "np.random.seed(run_num_14)\n",
        "surrogate_approx_14 = dGaussianProcess(cov_func, optimize=opt)\n",
        "\n",
        "X_train14, X_test14, y_train14, y_test14 = train_test_split(X, y, test_size=test_perc, random_state=run_num_14)\n",
        "\n",
        "def f_syn_polarity14(alpha, gamma, max_depth, subsample, min_child_weight, colsample):\n",
        "    reg = XGBRegressor(reg_alpha=alpha, gamma=gamma, max_depth=int(max_depth), subsample=subsample, min_child_weight=min_child_weight,\n",
        "          colsample_bytree=colsample, n_estimators = n_est, random_state=run_num_14, objective = 'reg:squarederror')\n",
        "    score = np.array(cross_val_score(reg, X=X_train14, y=y_train14).mean())\n",
        "    return operator * score\n",
        "\n",
        "approx_14 = GPGO_multi(surrogate_approx_14, Acquisition_grad(util), f_syn_polarity14, param, n_jobs = -1) # define BayesOpt\n",
        "approx_14.run(max_iter = max_iter, init_evals = n_init) # run\n",
        "\n",
        "### Return optimal parameters' set:\n",
        "params_approx_14 = approx_14.getResult()[0]\n",
        "params_approx_14['max_depth'] = int(params_approx_14['max_depth'])\n",
        "params_approx_14['min_child_weight'] = int(params_approx_14['min_child_weight'])\n",
        "\n",
        "### Re-train with optimal parameters, run predictons:\n",
        "dX_approx_train14 = xgb.DMatrix(X_train14, y_train14)\n",
        "dX_approx_test14 = xgb.DMatrix(X_test14, y_test14)\n",
        "model_approx_14 = xgb.train(params_approx_14, dX_approx_train14)\n",
        "pred_approx_14 = model_approx_14.predict(dX_approx_test14)\n",
        "\n",
        "rmse_approx_14 = np.sqrt(mean_squared_error(pred_approx_14, y_test14))\n",
        "rmse_approx_14"
      ],
      "execution_count": null,
      "outputs": [
        {
          "output_type": "stream",
          "name": "stdout",
          "text": [
            "Evaluation \t Proposed point \t  Current eval. \t  Best eval. \t         Max. ExactAcqFunc \t Max. ApproxAcqFunc \n",
            "init\t [ 5.13943344  7.73165052 12.          0.6831412  11.          0.37876233]\t 0.8139066743222003\t 0.6747866005380063\t    \t    \n",
            "init\t [ 9.57603739  5.13116712 14.          0.76959997 12.          0.71328228]\t 0.6747866005380063\t 0.6747866005380063\t    \t    \n",
            "init\t [5.34950319 2.47493539 5.         0.50293689 6.         0.29706373]\t 0.977412427074478\t 0.6747866005380063\t    \t    \n",
            "init\t [ 2.94506579  3.45329697  8.          0.87620946 14.          0.9783044 ]\t 0.6774024187451972\t 0.6747866005380063\t    \t    \n",
            "init\t [ 1.11811929  1.73004086  5.          0.73745288 12.          0.20586008]\t 1.0197967308919336\t 0.6747866005380063\t    \t    \n",
            "1  \t [ 6.50637223  2.67617722 14.          0.53562507  1.          0.16862152]\t 1.0126649561802825\t 0.6747866005380063\t 2.070345537964017\t 2.070345537964017\n",
            "2  \t [ 5.83528891  2.63149599 12.          0.61005677 19.          0.2879488 ]\t 0.9571856949825378\t 0.6747866005380063\t 2.1441702543377508\t 2.1441702543377508\n",
            "3  \t [0.07739536 3.94062842 5.         0.7395899  3.         0.9764837 ]\t 0.7245455903141328\t 0.6747866005380063\t 2.1739374923237467\t 2.1739374923237467\n",
            "4  \t [6.9195004  0.54496332 8.         0.81208598 3.         0.15286338]\t 1.0111604668907606\t 0.6747866005380063\t 2.1281394947254966\t 2.1281394947254966\n",
            "5  \t [9.99867084 7.44671039 9.         0.55715966 3.         0.32152891]\t 0.9600990595782894\t 0.6747866005380063\t 2.169637153720911\t 2.169637153720911\n",
            "6  \t [ 0.49138495  8.52939618 10.          0.75897738  1.          0.21612775]\t 1.0131910395518218\t 0.6747866005380063\t 2.188543798199301\t 2.188543798199301\n",
            "7  \t [ 6.6877751   9.48200682  5.          0.90861826 11.          0.9411861 ]\t 0.7242608483603965\t 0.6747866005380063\t 2.216806351131516\t 2.216806351131512\n",
            "8  \t [ 0.63353879  9.61017877  8.          0.96421247 18.          0.39200727]\t 0.8087127953472528\t 0.6747866005380063\t 2.1833439944903343\t 2.1833439944903343\n",
            "9  \t [ 6.82711248  9.86843937 13.          0.52138031 17.          0.20003272]\t 1.0114628267773051\t 0.6747866005380063\t 2.1684449625273046\t 2.1684449625273046\n",
            "10 \t [ 8.90983817  2.82321414  7.          0.66164117 11.          0.64519606]\t 0.697395180788185\t 0.6747866005380063\t 2.1919713216370464\t 2.1919713216370464\n",
            "\u001b[1m\u001b[92m11\u001b[0m\t \u001b[1m\u001b[92m[4.00102303 7.88701942 8.0894463  0.64865144 7.08860552 1.        ]\u001b[0m\t \u001b[1m\u001b[92m0.6690711435733372\u001b[0m\t \u001b[1m\u001b[92m0.6690711435733372\u001b[0m\t \u001b[1m\u001b[92m2.1630892936864643\u001b[0m\t \u001b[1m\u001b[92m2.163089359452198\u001b[0m\n",
            "12 \t [ 1.50285169  4.17593259 14.          0.69234646  6.          0.74044842]\t 0.677587403128438\t 0.6690711435733372\t 2.134104198991109\t 2.134104198991109\n",
            "\u001b[1m\u001b[92m13\u001b[0m\t \u001b[1m\u001b[92m[ 0.25039867  4.81148287 14.          0.83239345 15.          0.88911818]\u001b[0m\t \u001b[1m\u001b[92m0.6657241930879318\u001b[0m\t \u001b[1m\u001b[92m0.6657241930879318\u001b[0m\t \u001b[1m\u001b[92m2.109156100029469\u001b[0m\t \u001b[1m\u001b[92m2.109156100029469\u001b[0m\n",
            "14 \t [4.48522578 6.54261798 5.         0.79314226 1.         0.29945677]\t 0.9752292115331169\t 0.6657241930879318\t 2.0854558523549147\t 2.0854558523549147\n",
            "15 \t [ 6.70987455  7.63355927  7.          0.88524152 18.          0.87272936]\t 0.695654285242036\t 0.6657241930879318\t 2.1025139678022047\t 2.1025139678022047\n",
            "16 \t [ 5.21920054  9.35580917 14.          0.81835368  4.          0.54800317]\t 0.7211586025861135\t 0.6657241930879318\t 2.0843764521933528\t 2.0843764521933528\n",
            "17 \t [ 1.02993124  0.1201973   8.          0.85143335 18.          0.97029247]\t 0.6777675347345953\t 0.6657241930879318\t 2.0703667879070653\t 2.0703667879070653\n",
            "18 \t [ 9.40706915  0.91600736 13.          0.648599    7.          0.62885715]\t 0.6782712913254569\t 0.6657241930879318\t 2.0535006471243262\t 2.0535006471243262\n",
            "19 \t [ 2.09007555  7.86113915 13.          0.73459776 19.          0.32750702]\t 0.9574373954877385\t 0.6657241930879318\t 2.038022222937108\t 2.038022222937108\n",
            "20 \t [2.03544962 0.82234782 9.         0.75192666 8.         0.57674562]\t 0.7214652120719057\t 0.6657241930879318\t 2.0517359773068438\t 2.0517359773068438\n",
            "21 \t [ 1.52900897  2.49551652 10.          0.74070159  3.          0.79386687]\t 0.6772839651254358\t 0.6657241930879318\t 2.0411220940047685\t 2.0411220940047685\n",
            "22 \t [ 6.44557439  0.         12.26827266  0.5        11.12673763  0.1       ]\t 1.0106841159356335\t 0.6657241930879318\t 2.02774900670185\t 2.0277490053048\n",
            "23 \t [ 1.131865    9.46449787 13.          0.95242563  6.          0.3253213 ]\t 0.9637176563997644\t 0.6657241930879318\t 2.0460953615030206\t 2.046095249205017\n",
            "24 \t [ 9.76732171  6.02688461 10.          0.61683421 16.          0.31201459]\t 0.9581870830187043\t 0.6657241930879318\t 2.0581560105411993\t 2.0581560105411993\n",
            "25 \t [ 6.71198965  0.7988094   6.          0.93755772 17.          0.83354732]\t 0.7109212151666767\t 0.6657241930879318\t 2.0687904042600573\t 2.0687904042600573\n",
            "26 \t [0.         5.19277426 6.10248095 0.77671461 7.68269367 0.82823529]\t 0.7109811604743465\t 0.6657241930879318\t 2.0587156208619666\t 2.058715622071927\n",
            "27 \t [0.28664673 9.68245027 5.08160597 1.         4.20165613 0.1       ]\t 1.018455541013158\t 0.6657241930879318\t 2.0492549616345666\t 2.04925498883398\n",
            "28 \t [ 9.70174036  9.71799099 14.          0.84593857  8.          0.66512595]\t 0.672972068481645\t 0.6657241930879318\t 2.064626492690698\t 2.064626492690698\n",
            "29 \t [ 6.91437118  0.04013958 14.          0.61541818 16.          0.18814948]\t 1.0130297460698603\t 0.6657241930879318\t 2.053254531256307\t 2.053254531256307\n",
            "30 \t [9.35073005 5.29332393 7.         0.73289215 7.         0.73089542]\t 0.6971467668665194\t 0.6657241930879318\t 2.0671133843373823\t 2.0671133843373823\n"
          ]
        },
        {
          "output_type": "execute_result",
          "data": {
            "text/plain": [
              "50583.30173290905"
            ]
          },
          "metadata": {},
          "execution_count": 34
        }
      ]
    },
    {
      "cell_type": "code",
      "metadata": {
        "id": "Po5wImJaU6VC",
        "colab": {
          "base_uri": "https://localhost:8080/"
        },
        "outputId": "cb18d0ba-3a0a-48df-e780-d0625c79f485"
      },
      "source": [
        "### Bayesian optimization runs (x20): 'approx' Acquisition Function run number = 15\n",
        "\n",
        "np.random.seed(run_num_15)\n",
        "surrogate_approx_15 = dGaussianProcess(cov_func, optimize=opt)\n",
        "\n",
        "X_train15, X_test15, y_train15, y_test15 = train_test_split(X, y, test_size=test_perc, random_state=run_num_15)\n",
        "\n",
        "def f_syn_polarity15(alpha, gamma, max_depth, subsample, min_child_weight, colsample):\n",
        "    reg = XGBRegressor(reg_alpha=alpha, gamma=gamma, max_depth=int(max_depth), subsample=subsample, min_child_weight=min_child_weight,\n",
        "          colsample_bytree=colsample, n_estimators = n_est, random_state=run_num_15, objective = 'reg:squarederror')\n",
        "    score = np.array(cross_val_score(reg, X=X_train15, y=y_train15).mean())\n",
        "    return operator * score\n",
        "\n",
        "approx_15 = GPGO_multi(surrogate_approx_15, Acquisition_grad(util), f_syn_polarity15, param, n_jobs = -1) # define BayesOpt\n",
        "approx_15.run(max_iter = max_iter, init_evals = n_init) # run\n",
        "\n",
        "### Return optimal parameters' set:\n",
        "params_approx_15 = approx_15.getResult()[0]\n",
        "params_approx_15['max_depth'] = int(params_approx_15['max_depth'])\n",
        "params_approx_15['min_child_weight'] = int(params_approx_15['min_child_weight'])\n",
        "\n",
        "### Re-train with optimal parameters, run predictons:\n",
        "dX_approx_train15 = xgb.DMatrix(X_train15, y_train15)\n",
        "dX_approx_test15 = xgb.DMatrix(X_test15, y_test15)\n",
        "model_approx_15 = xgb.train(params_approx_15, dX_approx_train15)\n",
        "pred_approx_15 = model_approx_15.predict(dX_approx_test15)\n",
        "\n",
        "rmse_approx_15 = np.sqrt(mean_squared_error(pred_approx_15, y_test15))\n",
        "rmse_approx_15"
      ],
      "execution_count": null,
      "outputs": [
        {
          "output_type": "stream",
          "name": "stdout",
          "text": [
            "Evaluation \t Proposed point \t  Current eval. \t  Best eval. \t         Max. ExactAcqFunc \t Max. ApproxAcqFunc \n",
            "init\t [ 8.48817697  1.78895925 12.          0.55549316  8.          0.93397854]\t 0.6568473525973234\t 0.6568473525973234\t    \t    \n",
            "init\t [ 0.24953032  8.22298097 12.          0.62494951 11.          0.12924598]\t 0.9115777462403312\t 0.6568473525973234\t    \t    \n",
            "init\t [ 5.02017228  5.50882771 11.          0.85295832 19.          0.13548008]\t 0.9091447847268881\t 0.6568473525973234\t    \t    \n",
            "init\t [2.0023081  9.98543403 7.         0.6295772  2.         0.526127  ]\t 0.702826724376194\t 0.6568473525973234\t    \t    \n",
            "init\t [ 5.09715306  9.45038417 11.          0.7388277  16.          0.22739973]\t 0.9107852583947551\t 0.6568473525973234\t    \t    \n",
            "1  \t [ 0.29158961  4.9949242  12.          0.89124583  3.          0.67554049]\t 0.663179402460053\t 0.6568473525973234\t 2.023599370975699\t 2.023599370975699\n",
            "2  \t [2.60517447 0.82584036 7.         0.6107555  4.         0.25427784]\t 0.8585273074032198\t 0.6568473525973234\t 1.962719910630327\t 1.962719910630327\n",
            "3  \t [ 9.6900225   0.69761314 13.          0.54877119 16.          0.55532692]\t 0.676755395441882\t 0.6568473525973234\t 1.9833615917057523\t 1.9833615917057523\n",
            "4  \t [ 3.00890132  3.25033589  6.          0.76721153 13.          0.286699  ]\t 0.8615658015198442\t 0.6568473525973234\t 1.9456367737220683\t 1.9456367737220683\n",
            "5  \t [ 7.00755347  9.83963845  5.          0.51866345 10.          0.95031515]\t 0.730615339433918\t 0.6568473525973234\t 1.9646257627969435\t 1.9646257627969435\n",
            "6  \t [ 8.69662558  6.80112051 14.          0.50188459  3.          0.90006664]\t 0.6638687110610159\t 0.6568473525973234\t 1.9478342498587267\t 1.9478342498587267\n",
            "7  \t [ 9.09795503  1.07150197  7.          0.98191679 19.          0.62951892]\t 0.6952220627574484\t 0.6568473525973234\t 1.9208167718200195\t 1.9208167718175135\n",
            "8  \t [ 9.21941721  9.79827821 11.          0.81783228 11.          0.53477407]\t 0.6659586056207597\t 0.6568473525973234\t 1.903613492869632\t 1.903613492869632\n",
            "9  \t [8.88449541 3.44367948 6.         0.58829924 7.         0.7864797 ]\t 0.7097411329660293\t 0.6568473525973234\t 1.8840614611514401\t 1.8840614611514401\n",
            "10 \t [ 8.47779105  8.43696768  5.          0.73890705 16.          0.66738091]\t 0.7564851327663848\t 0.6568473525973234\t 1.8740395052585632\t 1.8740395052585632\n",
            "11 \t [9.8850401  9.05036452 8.         0.98423572 3.         0.82693955]\t 0.6638601166418586\t 0.6568473525973234\t 1.87264364642973\t 1.87264364642973\n",
            "12 \t [1.37672687 0.04946237 5.         0.79719419 1.         0.81843222]\t 0.7350998875793917\t 0.6568473525973234\t 1.8581946072730362\t 1.8581946072730362\n",
            "13 \t [ 0.90706815  0.79490515  7.          0.51831376 19.          0.91250419]\t 0.6855937848974291\t 0.6568473525973234\t 1.8548108402571626\t 1.8548108402571626\n",
            "14 \t [ 7.24320809  1.00477988 10.          0.73543626  1.          0.62081075]\t 0.6775831216463617\t 0.6568473525973234\t 1.8455134466501937\t 1.8455134453568656\n",
            "\u001b[1m\u001b[92m15\u001b[0m\t \u001b[1m\u001b[92m[ 3.58964297  7.1703904  14.          0.98600195  8.          0.97766641]\u001b[0m\t \u001b[1m\u001b[92m0.6394751818409936\u001b[0m\t \u001b[1m\u001b[92m0.6394751818409936\u001b[0m\t \u001b[1m\u001b[92m1.836234323691856\u001b[0m\t \u001b[1m\u001b[92m1.836234323691856\u001b[0m\n",
            "16 \t [1.58135563 6.14676537 7.         0.58599454 7.         0.37032959]\t 0.8586845884175147\t 0.6394751818409936\t 1.82364421776387\t 1.82364421776387\n",
            "17 \t [ 1.99733414  0.13877735 14.          0.5792705  10.          0.44528521]\t 0.7943377363668869\t 0.6394751818409936\t 1.8379722160097467\t 1.8379722160097467\n",
            "18 \t [ 4.29171811  0.04074186 13.          0.58769183 18.          0.36351335]\t 0.8568574802990294\t 0.6394751818409936\t 1.8430065628890877\t 1.8430065628890877\n",
            "19 \t [ 1.82906731  5.15105244 12.          0.56966528 15.          0.63831204]\t 0.6762407016215379\t 0.6394751818409936\t 1.8548648786636468\t 1.8548648786636468\n",
            "20 \t [6.71458767 6.21192942 5.         0.70021974 1.         0.14733325]\t 0.9149321430036975\t 0.6394751818409936\t 1.8470796024458387\t 1.8470795706737537\n",
            "21 \t [ 0.36245597  7.26485897  5.66829585  1.         12.40848968  0.28363341]\t 0.7999045754428525\t 0.6394751818409936\t 1.8643778375308253\t 1.864377370957022\n",
            "22 \t [ 2.37884935  6.39843378  5.          0.5        18.15508063  1.        ]\t 0.7277271249337269\t 0.6394751818409936\t 1.8680930585020497\t 1.8680932410699764\n",
            "23 \t [ 5.3880688   2.65297896 14.          0.90613057  4.          0.23404421]\t 0.9109113159973135\t 0.6394751818409936\t 1.8650295996855184\t 1.8650295996797848\n",
            "24 \t [ 9.36080884  1.0313168   5.          0.6330142  14.          0.51274968]\t 0.756031776613528\t 0.6394751818409936\t 1.879340375805319\t 1.879340375805319\n",
            "25 \t [ 7.92234444  7.58470379 14.45495975  0.5        14.34801012  1.        ]\t 0.6635269624872533\t 0.6394751818409936\t 1.8783653028735041\t 1.8783637216540063\n",
            "26 \t [ 5.12774674  9.38269657 12.          0.66930635  1.          0.1906148 ]\t 0.9139113523209742\t 0.6394751818409936\t 1.8704963901434482\t 1.8704963869176028\n",
            "27 \t [ 7.81154233  4.07454888  9.          0.93317853 14.          0.30786282]\t 0.848881320125441\t 0.6394751818409936\t 1.8835110139708182\t 1.8835110139708182\n",
            "28 \t [ 0.          8.95052363 10.89059398  0.5         5.96969116  1.        ]\t 0.6649799169951758\t 0.6394751818409936\t 1.8899232005416329\t 1.8899213409933557\n",
            "29 \t [0.3364975  0.38853278 9.         0.71890632 9.         0.71653496]\t 0.6761109349749724\t 0.6394751818409936\t 1.8825508665176303\t 1.88255086597089\n",
            "30 \t [ 6.18561281  9.20132045 12.          0.91758231  6.          0.24268371]\t 0.9100686128500474\t 0.6394751818409936\t 1.8762892117100856\t 1.8762892117100856\n"
          ]
        },
        {
          "output_type": "execute_result",
          "data": {
            "text/plain": [
              "49982.6349332846"
            ]
          },
          "metadata": {},
          "execution_count": 35
        }
      ]
    },
    {
      "cell_type": "code",
      "metadata": {
        "id": "9HrAQN-pU9Qo",
        "colab": {
          "base_uri": "https://localhost:8080/"
        },
        "outputId": "99c46bdf-6ccf-47af-82d0-f28497af0131"
      },
      "source": [
        "### Bayesian optimization runs (x20): 'approx' Acquisition Function run number = 16\n",
        "\n",
        "np.random.seed(run_num_16)\n",
        "surrogate_approx_16 = dGaussianProcess(cov_func, optimize=opt)\n",
        "\n",
        "X_train16, X_test16, y_train16, y_test16 = train_test_split(X, y, test_size=test_perc, random_state=run_num_16)\n",
        "\n",
        "def f_syn_polarity16(alpha, gamma, max_depth, subsample, min_child_weight, colsample):\n",
        "    reg = XGBRegressor(reg_alpha=alpha, gamma=gamma, max_depth=int(max_depth), subsample=subsample, min_child_weight=min_child_weight,\n",
        "          colsample_bytree=colsample, n_estimators = n_est, random_state=run_num_16, objective = 'reg:squarederror')\n",
        "    score = np.array(cross_val_score(reg, X=X_train16, y=y_train16).mean())\n",
        "    return operator * score\n",
        "\n",
        "approx_16 = GPGO_multi(surrogate_approx_16, Acquisition_grad(util), f_syn_polarity16, param, n_jobs = -1) # define BayesOpt\n",
        "approx_16.run(max_iter = max_iter, init_evals = n_init) # run\n",
        "\n",
        "### Return optimal parameters' set:\n",
        "params_approx_16 = approx_16.getResult()[0]\n",
        "params_approx_16['max_depth'] = int(params_approx_16['max_depth'])\n",
        "params_approx_16['min_child_weight'] = int(params_approx_16['min_child_weight'])\n",
        "\n",
        "### Re-train with optimal parameters, run predictons:\n",
        "dX_approx_train16 = xgb.DMatrix(X_train16, y_train16)\n",
        "dX_approx_test16 = xgb.DMatrix(X_test16, y_test16)\n",
        "model_approx_16 = xgb.train(params_approx_16, dX_approx_train16)\n",
        "pred_approx_16 = model_approx_16.predict(dX_approx_test16)\n",
        "\n",
        "rmse_approx_16 = np.sqrt(mean_squared_error(pred_approx_16, y_test16))\n",
        "rmse_approx_16"
      ],
      "execution_count": null,
      "outputs": [
        {
          "output_type": "stream",
          "name": "stdout",
          "text": [
            "Evaluation \t Proposed point \t  Current eval. \t  Best eval. \t         Max. ExactAcqFunc \t Max. ApproxAcqFunc \n",
            "init\t [2.23291079 5.23163341 6.         0.65430839 5.         0.30077285]\t 0.9529819347295859\t 0.8883829281923242\t    \t    \n",
            "init\t [6.88726162 1.63731425 7.         0.97050543 2.         0.25392012]\t 0.9481041389252269\t 0.8883829281923242\t    \t    \n",
            "init\t [ 5.94328983  5.6393473   5.          0.67602695 19.          0.42538144]\t 0.8883829281923242\t 0.8883829281923242\t    \t    \n",
            "init\t [ 0.88741148  3.08148142 14.          0.56043938  9.          0.27515386]\t 0.9564077542414676\t 0.8883829281923242\t    \t    \n",
            "init\t [ 2.74631586  1.30996118 11.          0.52160786  8.          0.27956463]\t 0.9552184743546004\t 0.8883829281923242\t    \t    \n",
            "\u001b[1m\u001b[92m1\u001b[0m\t \u001b[1m\u001b[92m[ 7.8937256   1.5972923  14.          0.61610774 17.          0.78739284]\u001b[0m\t \u001b[1m\u001b[92m0.6878693399983744\u001b[0m\t \u001b[1m\u001b[92m0.6878693399983744\u001b[0m\t \u001b[1m\u001b[92m2.3038043086978512\u001b[0m\t \u001b[1m\u001b[92m2.3038043086978512\u001b[0m\n",
            "2  \t [ 9.65014948  7.07834667 14.          0.88748515  2.          0.43513691]\t 0.8747438848890932\t 0.6878693399983744\t 2.2127292470008197\t 2.2127292470008197\n",
            "3  \t [ 9.80741348  8.90144788 14.          0.82131992 14.          0.46769684]\t 0.8608053593354814\t 0.6878693399983744\t 2.202936744925051\t 2.202936744925051\n",
            "4  \t [ 0.78730688  7.98438553 14.          0.91743896 18.          0.25645593]\t 0.9494553422981233\t 0.6878693399983744\t 2.19131612964073\t 2.19131612964073\n",
            "5  \t [ 1.64983341  0.37890577  9.          0.65437216 16.          0.49641159]\t 0.8646755374886521\t 0.6878693399983744\t 2.2066260948751357\t 2.2066260948751357\n",
            "6  \t [ 5.58043809  8.91463745  8.          0.85851576 10.          0.64398202]\t 0.7307340308882677\t 0.6878693399983744\t 2.1979650026494877\t 2.1979650026494877\n",
            "7  \t [ 2.65571666  4.32529089 14.          0.66921971  2.          0.36607383]\t 0.9623426051674955\t 0.6878693399983744\t 2.1640728662999718\t 2.1640728662999718\n",
            "8  \t [ 5.53392197  2.00879238  6.          0.89871466 12.          0.67694144]\t 0.7620148611738933\t 0.6878693399983744\t 2.1807679404830322\t 2.1807679404830322\n",
            "\u001b[1m\u001b[92m9\u001b[0m\t \u001b[1m\u001b[92m[6.95801625 9.13555009 8.         0.87520198 2.         0.98461662]\u001b[0m\t \u001b[1m\u001b[92m0.6730441336589406\u001b[0m\t \u001b[1m\u001b[92m0.6730441336589406\u001b[0m\t \u001b[1m\u001b[92m2.1582745691264917\u001b[0m\t \u001b[1m\u001b[92m2.1582745691264917\u001b[0m\n",
            "10 \t [ 8.77492053  6.74985642  5.          0.72525183 13.          0.93231357]\t 0.7199718018091047\t 0.6730441336589406\t 2.1258920087542457\t 2.1258920062483635\n",
            "11 \t [ 1.18539745  9.79684488 10.          0.69107903  4.          0.12860486]\t 0.9735436243628346\t 0.6730441336589406\t 2.103705363279388\t 2.103705363279388\n",
            "12 \t [ 8.8197294   2.64777319 14.          0.98646567 10.          0.63786085]\t 0.7141008345477899\t 0.6730441336589406\t 2.122335472773218\t 2.122335472773218\n",
            "\u001b[1m\u001b[92m13\u001b[0m\t \u001b[1m\u001b[92m[ 0.26172129  9.94921995 14.          0.88029118  9.          0.93655616]\u001b[0m\t \u001b[1m\u001b[92m0.6551680070961308\u001b[0m\t \u001b[1m\u001b[92m0.6551680070961308\u001b[0m\t \u001b[1m\u001b[92m2.1022176728648168\u001b[0m\t \u001b[1m\u001b[92m2.102217672502503\u001b[0m\n",
            "14 \t [0.50474552 1.15372476 8.         0.52058641 1.         0.43046119]\t 0.8762709839016471\t 0.6551680070961308\t 2.0777369132052974\t 2.077736913204811\n",
            "15 \t [ 0.02157337  9.97534925  5.          0.75404051 13.          0.40760752]\t 0.8854668121365705\t 0.6551680070961308\t 2.081408475843759\t 2.081408475843759\n",
            "16 \t [ 5.73702737  7.50903876 13.          0.61487351 15.          0.57742278]\t 0.7778153254020743\t 0.6551680070961308\t 2.085872447884432\t 2.085872447884432\n",
            "17 \t [ 7.10469951  6.34150339 11.          0.9481748   6.          0.12277199]\t 0.9718611347031094\t 0.6551680070961308\t 2.077627084777058\t 2.077627084777058\n",
            "18 \t [ 9.56839048  0.13416862 13.          0.80729993  3.          0.41100156]\t 0.8703303423168164\t 0.6551680070961308\t 2.0922909683211994\t 2.0922909683211994\n",
            "19 \t [ 9.86485549  9.03746465 10.          0.52506306 19.          0.37580875]\t 0.8664298555004347\t 0.6551680070961308\t 2.0940746633598124\t 2.0940746633598124\n",
            "20 \t [8.75370971 6.63075821 5.         0.51315816 7.         0.52603065]\t 0.8073058384557079\t 0.6551680070961308\t 2.0952623935051307\t 2.0952623935051307\n",
            "21 \t [ 3.28864291  8.88700951  7.          0.70665299 16.          0.26783249]\t 0.9496880408110411\t 0.6551680070961308\t 2.090682116640787\t 2.0906821035416914\n",
            "22 \t [ 1.220163    2.88796673 14.00092509  1.         17.99989566  0.25000254]\t 0.8249760158676626\t 0.6551680070961308\t 2.1001897778666883\t 2.1001892151036516\n",
            "23 \t [0.58596137 5.71336149 9.         0.70354751 9.         0.28160967]\t 0.9498200925027509\t 0.6551680070961308\t 2.0973395331778986\t 2.0973395331778986\n",
            "24 \t [9.80508544 0.83042511 7.         0.54124599 9.         0.7836072 ]\t 0.7113005276137964\t 0.6551680070961308\t 2.1059576553275696\t 2.1059576553275696\n",
            "25 \t [ 9.01141716  1.23452325  9.          0.70620993 16.          0.46074297]\t 0.8622295969277951\t 0.6551680070961308\t 2.09446395527686\t 2.09446395527686\n",
            "26 \t [ 5.38505352  0.27838384  8.          0.64624975 19.          0.94943729]\t 0.6741571003845405\t 0.6551680070961308\t 2.0950583281737805\t 2.0950583248522867\n",
            "27 \t [ 0.2375092   5.20448002  7.          0.887766   16.          0.16167958]\t 0.971082975245141\t 0.6551680070961308\t 2.0822213033449146\t 2.0822213033449146\n",
            "\u001b[1m\u001b[92m28\u001b[0m\t \u001b[1m\u001b[92m[ 3.60668261  3.61026877 14.          0.9898327  13.          0.9620422 ]\u001b[0m\t \u001b[1m\u001b[92m0.652084379738873\u001b[0m\t \u001b[1m\u001b[92m0.652084379738873\u001b[0m\t \u001b[1m\u001b[92m2.0921088573788684\u001b[0m\t \u001b[1m\u001b[92m2.0921088542016006\u001b[0m\n",
            "29 \t [ 3.8490307   5.54472327  9.78507315  1.         18.50700531  1.        ]\t 0.6571853549956932\t 0.652084379738873\t 2.078873377803498\t 2.0788720285726456\n",
            "30 \t [ 4.49319523  9.55344608 12.42648563  1.          1.          1.        ]\t 0.6570428522123238\t 0.652084379738873\t 2.06655432725278\t 2.066552748253838\n"
          ]
        },
        {
          "output_type": "execute_result",
          "data": {
            "text/plain": [
              "49556.08949355573"
            ]
          },
          "metadata": {},
          "execution_count": 36
        }
      ]
    },
    {
      "cell_type": "code",
      "metadata": {
        "id": "SXelbcAVVCqO",
        "colab": {
          "base_uri": "https://localhost:8080/"
        },
        "outputId": "4916ee0b-12d2-45bb-b3da-7ea02baa2342"
      },
      "source": [
        "### Bayesian optimization runs (x20): 'approx' Acquisition Function run number = 17\n",
        "\n",
        "np.random.seed(run_num_17)\n",
        "surrogate_approx_17 = dGaussianProcess(cov_func, optimize=opt)\n",
        "\n",
        "X_train17, X_test17, y_train17, y_test17 = train_test_split(X, y, test_size=test_perc, random_state=run_num_17)\n",
        "\n",
        "def f_syn_polarity17(alpha, gamma, max_depth, subsample, min_child_weight, colsample):\n",
        "    reg = XGBRegressor(reg_alpha=alpha, gamma=gamma, max_depth=int(max_depth), subsample=subsample, min_child_weight=min_child_weight,\n",
        "          colsample_bytree=colsample, n_estimators = n_est, random_state=run_num_17, objective = 'reg:squarederror')\n",
        "    score = np.array(cross_val_score(reg, X=X_train17, y=y_train17).mean())\n",
        "    return operator * score\n",
        "\n",
        "approx_17 = GPGO_multi(surrogate_approx_17, Acquisition_grad(util), f_syn_polarity17, param, n_jobs = -1) # define BayesOpt\n",
        "approx_17.run(max_iter = max_iter, init_evals = n_init) # run\n",
        "\n",
        "### Return optimal parameters' set:\n",
        "params_approx_17 = approx_17.getResult()[0]\n",
        "params_approx_17['max_depth'] = int(params_approx_17['max_depth'])\n",
        "params_approx_17['min_child_weight'] = int(params_approx_17['min_child_weight'])\n",
        "\n",
        "### Re-train with optimal parameters, run predictons:\n",
        "dX_approx_train17 = xgb.DMatrix(X_train17, y_train17)\n",
        "dX_approx_test17 = xgb.DMatrix(X_test17, y_test17)\n",
        "model_approx_17 = xgb.train(params_approx_17, dX_approx_train17)\n",
        "pred_approx_17 = model_approx_17.predict(dX_approx_test17)\n",
        "\n",
        "rmse_approx_17 = np.sqrt(mean_squared_error(pred_approx_17, y_test17))\n",
        "rmse_approx_17"
      ],
      "execution_count": null,
      "outputs": [
        {
          "output_type": "stream",
          "name": "stdout",
          "text": [
            "Evaluation \t Proposed point \t  Current eval. \t  Best eval. \t         Max. ExactAcqFunc \t Max. ApproxAcqFunc \n",
            "init\t [ 2.94665003  5.30586756 11.          0.94443241 14.          0.80828691]\t 0.7141038418197827\t 0.7141038418197827\t    \t    \n",
            "init\t [ 6.56333522  6.37520896 12.          0.81487881 18.          0.42203224]\t 0.8024876355160464\t 0.7141038418197827\t    \t    \n",
            "init\t [ 9.45683187  0.6004468  11.          0.5171566  10.          0.53881211]\t 0.7659849712152795\t 0.7141038418197827\t    \t    \n",
            "init\t [2.72705857 1.19063434 6.         0.74176431 6.         0.10101151]\t 0.9684453836634761\t 0.7141038418197827\t    \t    \n",
            "init\t [ 4.77631812  5.24671297 13.          0.66254476 19.          0.36708086]\t 0.8556892362199922\t 0.7141038418197827\t    \t    \n",
            "1  \t [ 0.65702322  5.79284078 13.          0.75136902  1.          0.30306068]\t 0.86898292288902\t 0.7141038418197827\t 2.0077827046598387\t 2.0077827046598387\n",
            "2  \t [8.79462978 7.51560605 6.         0.76312232 8.         0.57156636]\t 0.778300364354035\t 0.7141038418197827\t 2.0284125329387566\t 2.0284125329387566\n",
            "3  \t [0.65992542 7.03112384 5.         0.85138174 1.         0.9514344 ]\t 0.726434848802118\t 0.7141038418197827\t 2.0114406091213497\t 2.0114406091213497\n",
            "4  \t [ 9.51671323  9.6124566  13.          0.71797221  5.          0.16581182]\t 0.9672674042711217\t 0.7141038418197827\t 1.9839196996781356\t 1.9839196996781356\n",
            "5  \t [ 9.17797544  5.99568118  6.          0.52445603 15.          0.40946449]\t 0.826366430225874\t 0.7141038418197827\t 2.030356745015266\t 2.030356745015266\n",
            "6  \t [ 6.81284184  2.29577018  7.          0.5239727  13.          0.33920765]\t 0.8659399691320455\t 0.7141038418197827\t 2.0373258276438833\t 2.0373258276438833\n",
            "7  \t [ 2.46339402  0.14039019 14.          0.95096219  7.          0.5441132 ]\t 0.7563633439329396\t 0.7141038418197827\t 2.0382142359399116\t 2.0382142359399116\n",
            "8  \t [9.72843652 3.88893279 9.         0.6901555  1.         0.31608219]\t 0.861798864893942\t 0.7141038418197827\t 2.0234048022491202\t 2.0234048022491202\n",
            "9  \t [ 1.2716555   3.78378689  5.          0.57556817 17.          0.18163876]\t 0.9716163961274858\t 0.7141038418197827\t 2.0302744941748716\t 2.0302744941748716\n",
            "10 \t [1.38490793 6.87002541 5.         0.73931504 9.         0.41767138]\t 0.829976302946727\t 0.7141038418197827\t 2.0572246160758985\t 2.0572246160758985\n",
            "11 \t [ 0.19725752  8.16335211 14.          0.80836431  8.          0.45209851]\t 0.8069651446453449\t 0.7141038418197827\t 2.0556196861170024\t 2.0556196861170024\n",
            "12 \t [ 9.99251025  3.68443024 14.          0.88286102  6.          0.35061034]\t 0.8574563680670202\t 0.7141038418197827\t 2.0507733047837595\t 2.0507733034170927\n",
            "13 \t [ 5.50988068  4.52551329 10.          0.62342816  9.          0.60901352]\t 0.7623016588267515\t 0.7141038418197827\t 2.0537215394710087\t 2.0537213522693722\n",
            "14 \t [5.79855217 7.64610678 9.         0.54644758 3.         0.68341681]\t 0.7349404110255493\t 0.7141038418197827\t 2.043808415644653\t 2.043808415644653\n",
            "15 \t [ 9.19532326  8.42928342 11.          0.5289521  11.          0.74996998]\t 0.7306673350944987\t 0.7141038418197827\t 2.0317165210858437\t 2.0317165210858437\n",
            "16 \t [6.14842106 3.92031042 5.         0.80436272 5.         0.42842685]\t 0.8298337600349435\t 0.7141038418197827\t 2.024122420523402\t 2.024122420523402\n",
            "17 \t [ 2.3093837   0.          5.          0.70839691 11.31107218  0.51352268]\t 0.7903700374566597\t 0.7141038418197827\t 2.020894727024163\t 2.0208945945345302\n",
            "18 \t [ 1.83368891  8.1756677   8.          0.96471075 17.          0.14868642]\t 0.9653693800994253\t 0.7141038418197827\t 2.0171135570808727\t 2.017112407519023\n",
            "19 \t [ 1.32113565  9.62738611 14.          0.55066636 15.          0.36069244]\t 0.8636922015613553\t 0.7141038418197827\t 2.033459790826062\t 2.033459710725764\n",
            "20 \t [ 6.88175573  0.68997438  9.          0.55006192 19.          0.74555899]\t 0.7341056462061506\t 0.7141038418197827\t 2.0369487066244303\t 2.0369487066244303\n",
            "\u001b[1m\u001b[92m21\u001b[0m\t \u001b[1m\u001b[92m[ 7.32262595  0.987487   14.          0.78324612 14.          0.76403633]\u001b[0m\t \u001b[1m\u001b[92m0.7129217809179572\u001b[0m\t \u001b[1m\u001b[92m0.7129217809179572\u001b[0m\t \u001b[1m\u001b[92m2.02793787524686\u001b[0m\t \u001b[1m\u001b[92m2.0279376449780377\u001b[0m\n",
            "22 \t [10.          1.8955296   5.          1.          9.04454318  1.        ]\t 0.7207139687876327\t 0.7129217809179572\t 2.0178324522828537\t 2.017832250631179\n",
            "23 \t [ 7.07271536  8.13007518  5.          0.98530219 19.          0.92839144]\t 0.7288961616067631\t 0.7129217809179572\t 2.011893247687645\t 2.011893247687645\n",
            "\u001b[1m\u001b[92m24\u001b[0m\t \u001b[1m\u001b[92m[0.85666329 5.92364698 9.         0.69191689 5.         0.98975497]\u001b[0m\t \u001b[1m\u001b[92m0.6651465396376819\u001b[0m\t \u001b[1m\u001b[92m0.6651465396376819\u001b[0m\t \u001b[1m\u001b[92m2.001491735914086\u001b[0m\t \u001b[1m\u001b[92m2.001491596183052\u001b[0m\n",
            "\u001b[1m\u001b[92m25\u001b[0m\t \u001b[1m\u001b[92m[ 0.          7.68878658 14.0076331   1.         19.55642001  1.        ]\u001b[0m\t \u001b[1m\u001b[92m0.6458250882176737\u001b[0m\t \u001b[1m\u001b[92m0.6458250882176737\u001b[0m\t \u001b[1m\u001b[92m1.9898158238341588\u001b[0m\t \u001b[1m\u001b[92m1.9898145146680126\u001b[0m\n",
            "26 \t [ 3.61406382  9.87735751 10.          0.70199599  8.          0.85082246]\t 0.721371984674188\t 0.6458250882176737\t 1.9775758621509734\t 1.97757559996992\n",
            "27 \t [ 5.62137526  0.50742571 12.          0.60891749  1.          0.89299215]\t 0.6736748141470514\t 0.6458250882176737\t 1.9736556406017338\t 1.9736556406017338\n",
            "28 \t [ 1.07853028  0.84917138 12.27879279  0.52712411 12.93476229  1.        ]\t 0.6658548490032989\t 0.6458250882176737\t 1.9618985778974138\t 1.9618972354874709\n",
            "29 \t [ 0.30609514  2.49894713 14.          0.69397027 18.          0.71750058]\t 0.7193266691045255\t 0.6458250882176737\t 1.9526954124094922\t 1.9526948435894818\n",
            "30 \t [10.   0.   5.   0.5 20.   1. ]\t 0.7282692192691644\t 0.6458250882176737\t 1.947352847419803\t 1.947351970342808\n"
          ]
        },
        {
          "output_type": "execute_result",
          "data": {
            "text/plain": [
              "49859.36886178797"
            ]
          },
          "metadata": {},
          "execution_count": 37
        }
      ]
    },
    {
      "cell_type": "code",
      "metadata": {
        "id": "qJG2fAtAVFDZ",
        "colab": {
          "base_uri": "https://localhost:8080/"
        },
        "outputId": "4626e236-5e47-445c-fd5c-a59181a7ab46"
      },
      "source": [
        "### Bayesian optimization runs (x20): 'approx' Acquisition Function run number = 18\n",
        "\n",
        "np.random.seed(run_num_18)\n",
        "surrogate_approx_18 = dGaussianProcess(cov_func, optimize=opt)\n",
        "\n",
        "X_train18, X_test18, y_train18, y_test18 = train_test_split(X, y, test_size=test_perc, random_state=run_num_18)\n",
        "\n",
        "def f_syn_polarity18(alpha, gamma, max_depth, subsample, min_child_weight, colsample):\n",
        "    reg = XGBRegressor(reg_alpha=alpha, gamma=gamma, max_depth=int(max_depth), subsample=subsample, min_child_weight=min_child_weight,\n",
        "          colsample_bytree=colsample, n_estimators = n_est, random_state=run_num_11, objective = 'reg:squarederror')\n",
        "    score = np.array(cross_val_score(reg, X=X_train18, y=y_train18).mean())\n",
        "    return operator * score\n",
        "\n",
        "approx_18 = GPGO_multi(surrogate_approx_18, Acquisition_grad(util), f_syn_polarity18, param, n_jobs = -1) # define BayesOpt\n",
        "approx_18.run(max_iter = max_iter, init_evals = n_init) # run\n",
        "\n",
        "### Return optimal parameters' set:\n",
        "params_approx_18 = approx_18.getResult()[0]\n",
        "params_approx_18['max_depth'] = int(params_approx_18['max_depth'])\n",
        "params_approx_18['min_child_weight'] = int(params_approx_18['min_child_weight'])\n",
        "\n",
        "### Re-train with optimal parameters, run predictons:\n",
        "dX_approx_train18 = xgb.DMatrix(X_train18, y_train18)\n",
        "dX_approx_test18 = xgb.DMatrix(X_test18, y_test18)\n",
        "model_approx_18 = xgb.train(params_approx_18, dX_approx_train18)\n",
        "pred_approx_18 = model_approx_18.predict(dX_approx_test18)\n",
        "\n",
        "rmse_approx_18 = np.sqrt(mean_squared_error(pred_approx_18, y_test18))\n",
        "rmse_approx_18"
      ],
      "execution_count": null,
      "outputs": [
        {
          "output_type": "stream",
          "name": "stdout",
          "text": [
            "Evaluation \t Proposed point \t  Current eval. \t  Best eval. \t         Max. ExactAcqFunc \t Max. ApproxAcqFunc \n",
            "init\t [6.50374242 5.05453374 6.         0.59092011 3.         0.28357516]\t 0.8853778201562241\t 0.6968179065224296\t    \t    \n",
            "init\t [0.11506734 4.26891483 9.         0.81785956 5.         0.63489043]\t 0.6968179065224296\t 0.6968179065224296\t    \t    \n",
            "init\t [ 2.8861259   6.35547834 11.          0.64267955 14.          0.27877092]\t 0.8778125354456613\t 0.6968179065224296\t    \t    \n",
            "init\t [6.57189031 6.99655629 8.         0.63235896 4.         0.52894035]\t 0.7421252990295766\t 0.6968179065224296\t    \t    \n",
            "init\t [ 6.66600348  2.11312037 14.          0.74363461  4.          0.73174558]\t 0.7041732589144625\t 0.6968179065224296\t    \t    \n",
            "1  \t [ 8.67093232  0.11649132  5.          0.92962202 15.          0.53672863]\t 0.7694285284315747\t 0.6968179065224296\t 1.9196797928578428\t 1.9196797928578428\n",
            "\u001b[1m\u001b[92m2\u001b[0m\t \u001b[1m\u001b[92m[ 7.2764983   0.11744451 14.          0.65239666 17.          0.99049521]\u001b[0m\t \u001b[1m\u001b[92m0.65697799905797\u001b[0m\t \u001b[1m\u001b[92m0.65697799905797\u001b[0m\t \u001b[1m\u001b[92m1.9138953871624442\u001b[0m\t \u001b[1m\u001b[92m1.9138953871624442\u001b[0m\n",
            "3  \t [ 6.9243088   2.24175244  9.          0.535904   10.          0.52104842]\t 0.740342057576812\t 0.65697799905797\t 1.8734117073660201\t 1.8734117073660201\n",
            "4  \t [ 9.05522886  7.72410538  5.          0.69563915 18.          0.34113663]\t 0.893321248053374\t 0.65697799905797\t 1.8660232188588188\t 1.8660232188588188\n",
            "5  \t [ 9.98394208  8.5932438  14.          0.75596751 19.          0.64506065]\t 0.697182883066114\t 0.65697799905797\t 1.9072464496425283\t 1.9072464496425283\n",
            "6  \t [ 8.22273842  9.68669454  5.          0.7147283  11.          0.16411281]\t 0.934413982456124\t 0.65697799905797\t 1.8857589990466697\t 1.8857589990445933\n",
            "7  \t [3.28907983 0.32007134 5.         0.82737078 1.         0.19815427]\t 0.9339136409907385\t 0.65697799905797\t 1.9281031089481757\t 1.9281031089481757\n",
            "8  \t [ 1.24316399  9.43141312 14.          0.66900118  7.          0.55235225]\t 0.7385292363411576\t 0.65697799905797\t 1.958587905626355\t 1.958587905626355\n",
            "9  \t [ 1.80118477  1.19747778 13.          0.79590104  8.          0.56741067]\t 0.7318688282028918\t 0.65697799905797\t 1.947490584540476\t 1.947490584540476\n",
            "10 \t [ 2.63732683  4.87962717 14.          0.99986359 19.          0.86504659]\t 0.6917610853596872\t 0.65697799905797\t 1.9368446706761135\t 1.9368446706761135\n",
            "11 \t [ 0.2637722   4.11659493  5.          0.61604637 11.          0.22374653]\t 0.934862140121076\t 0.65697799905797\t 1.9216372062687155\t 1.9216372062687155\n",
            "12 \t [ 3.09522647  6.97119948 14.          0.63850148  1.          0.54769428]\t 0.7530157713797134\t 0.65697799905797\t 1.9438180021142668\t 1.9438180021142668\n",
            "13 \t [ 1.3916722   9.15131624  5.          0.92812295 18.          0.82773453]\t 0.7365431886620325\t 0.65697799905797\t 1.9408358457429988\t 1.9408358457429988\n",
            "14 \t [8.45918053 0.39509087 9.         0.81105792 3.         0.47358724]\t 0.7718546540038929\t 0.65697799905797\t 1.9334959647785914\t 1.9334958694361613\n",
            "15 \t [ 3.43644786 10.         14.2540432   0.5        16.75316284  0.1       ]\t 0.9267505284116172\t 0.65697799905797\t 1.931264514603023\t 1.9312644353692185\n",
            "16 \t [ 9.04557073  7.9579056  13.          0.79457459 11.          0.37545445]\t 0.7687992481703463\t 0.65697799905797\t 1.9496037528464534\t 1.9496037528464534\n",
            "17 \t [ 2.34351425  1.27586471  9.          0.74485285 16.          0.89346344]\t 0.6655993851049598\t 0.65697799905797\t 1.946491139655242\t 1.946491139655242\n",
            "18 \t [ 7.23849848 10.         14.          0.70914035  3.1980811   0.1       ]\t 0.9278558112587323\t 0.65697799905797\t 1.93324326216712\t 1.9332431818841482\n",
            "19 \t [9.2798599  7.10759547 6.         0.7926243  1.         0.10786223]\t 0.932289957585124\t 0.65697799905797\t 1.9502827438065349\t 1.9502827438065349\n",
            "20 \t [ 3.70590458 10.          5.          0.5         7.53677532  1.        ]\t 0.7233712725873944\t 0.65697799905797\t 1.9642676567152109\t 1.9642683421238576\n",
            "21 \t [1.6832815  7.79896856 8.         0.88290952 1.         0.43603362]\t 0.7769167187231257\t 0.65697799905797\t 1.956936475311212\t 1.956936475311212\n",
            "22 \t [ 0.2398958   0.10279714  8.25587203  0.5        10.87344203  0.17606818]\t 0.9268382595579159\t 0.65697799905797\t 1.9548909709360263\t 1.9548899475324\n",
            "23 \t [10.          6.20819011 14.          1.          1.          0.25593902]\t 0.9229230018757537\t 0.65697799905797\t 1.967473736718971\t 1.9674729147639678\n",
            "24 \t [ 4.74991262  6.10890882  7.          0.89072689 18.          0.37196885]\t 0.877748764283187\t 0.65697799905797\t 1.979539060357707\t 1.979539060357707\n",
            "25 \t [ 7.32366058  0.         15.          0.78064798  9.27557464  0.1       ]\t 0.9269493298509545\t 0.65697799905797\t 1.984847959257474\t 1.9848483841487143\n",
            "26 \t [ 9.34353853  5.63997395 10.66778848  0.5        16.36217027  0.1       ]\t 0.9266823882323848\t 0.65697799905797\t 1.9950306627685646\t 1.9950304526347435\n",
            "27 \t [ 7.10262611 10.          9.84268241  1.         20.          0.1       ]\t 0.9708868706845466\t 0.65697799905797\t 2.004485086273348\t 2.004485804428223\n",
            "28 \t [ 5.33575629  6.66265987 12.          0.89162265  9.          0.46308767]\t 0.76621002364073\t 0.65697799905797\t 2.017967507749635\t 2.017967507749635\n",
            "29 \t [ 1.68208327  1.80568579 14.          0.76027065  1.          0.71475433]\t 0.7113906180647571\t 0.65697799905797\t 2.0138356106729787\t 2.0138356106729787\n",
            "30 \t [ 0.          9.52667609 10.34802398  0.5        17.59133354  0.1       ]\t 0.9265243384367027\t 0.65697799905797\t 2.005662310607464\t 2.0056623782894105\n"
          ]
        },
        {
          "output_type": "execute_result",
          "data": {
            "text/plain": [
              "47814.5922880461"
            ]
          },
          "metadata": {},
          "execution_count": 38
        }
      ]
    },
    {
      "cell_type": "code",
      "metadata": {
        "id": "XHidSEGcVHvG",
        "colab": {
          "base_uri": "https://localhost:8080/"
        },
        "outputId": "b1cfd96b-82f0-4dc7-cfe0-e43f1738c753"
      },
      "source": [
        "### Bayesian optimization runs (x20): 'approx' Acquisition Function run number = 19\n",
        "\n",
        "np.random.seed(run_num_19)\n",
        "surrogate_approx_19 = dGaussianProcess(cov_func, optimize=opt)\n",
        "\n",
        "X_train19, X_test19, y_train19, y_test19 = train_test_split(X, y, test_size=test_perc, random_state=run_num_19)\n",
        "\n",
        "def f_syn_polarity19(alpha, gamma, max_depth, subsample, min_child_weight, colsample):\n",
        "    reg = XGBRegressor(reg_alpha=alpha, gamma=gamma, max_depth=int(max_depth), subsample=subsample, min_child_weight=min_child_weight,\n",
        "          colsample_bytree=colsample, n_estimators = n_est, random_state=run_num_19, objective = 'reg:squarederror')\n",
        "    score = np.array(cross_val_score(reg, X=X_train19, y=y_train19).mean())\n",
        "    return operator * score\n",
        "\n",
        "approx_19 = GPGO_multi(surrogate_approx_19, Acquisition_grad(util), f_syn_polarity19, param, n_jobs = -1) # define BayesOpt\n",
        "approx_19.run(max_iter = max_iter, init_evals = n_init) # run\n",
        "\n",
        "### Return optimal parameters' set:\n",
        "params_approx_19 = approx_19.getResult()[0]\n",
        "params_approx_19['max_depth'] = int(params_approx_19['max_depth'])\n",
        "params_approx_19['min_child_weight'] = int(params_approx_19['min_child_weight'])\n",
        "\n",
        "### Re-train with optimal parameters, run predictons:\n",
        "dX_approx_train19 = xgb.DMatrix(X_train19, y_train19)\n",
        "dX_approx_test19 = xgb.DMatrix(X_test19, y_test19)\n",
        "model_approx_19 = xgb.train(params_approx_19, dX_approx_train19)\n",
        "pred_approx_19 = model_approx_19.predict(dX_approx_test19)\n",
        "\n",
        "rmse_approx_19 = np.sqrt(mean_squared_error(pred_approx_19, y_test19))\n",
        "rmse_approx_19"
      ],
      "execution_count": null,
      "outputs": [
        {
          "output_type": "stream",
          "name": "stdout",
          "text": [
            "Evaluation \t Proposed point \t  Current eval. \t  Best eval. \t         Max. ExactAcqFunc \t Max. ApproxAcqFunc \n",
            "init\t [ 0.97533602  7.61249717 13.          0.85765469 11.          0.39830191]\t 0.7381578397530673\t 0.7295721630591281\t    \t    \n",
            "init\t [ 0.82999565  6.71977081  6.          0.50407413 19.          0.67209466]\t 0.7470234185181706\t 0.7295721630591281\t    \t    \n",
            "init\t [ 2.15923256  5.49027432 12.          0.52588686 10.          0.20235326]\t 1.018052265694813\t 0.7295721630591281\t    \t    \n",
            "init\t [4.99659267 1.52108422 6.         0.73481085 4.         0.71949465]\t 0.7455570460653044\t 0.7295721630591281\t    \t    \n",
            "init\t [ 3.72927156  9.46160045  5.          0.80554614 18.          0.97708466]\t 0.7295721630591281\t 0.7295721630591281\t    \t    \n",
            "\u001b[1m\u001b[92m1\u001b[0m\t \u001b[1m\u001b[92m[ 8.33060043  1.42030563  8.          0.92863724 14.          0.78606141]\u001b[0m\t \u001b[1m\u001b[92m0.6773838424850286\u001b[0m\t \u001b[1m\u001b[92m0.6773838424850286\u001b[0m\t \u001b[1m\u001b[92m1.9599149824328386\u001b[0m\t \u001b[1m\u001b[92m1.9599149824328386\u001b[0m\n",
            "2  \t [ 9.87536409  7.17591217 14.          0.99713522 17.          0.55460731]\t 0.7019341665321482\t 0.6773838424850286\t 1.913087116497309\t 1.913087116497309\n",
            "3  \t [ 9.05225624  3.60011377 14.          0.89518364  1.          0.11342054]\t 1.0199606306890758\t 0.6773838424850286\t 1.8866328099451275\t 1.8866328099451275\n",
            "4  \t [ 0.63994078  3.71351436 14.          0.60091862  1.          0.58598556]\t 0.7327508164518542\t 0.6773838424850286\t 1.9734994960831846\t 1.9734994960831846\n",
            "5  \t [4.99125702 9.50308409 8.         0.55828329 3.         0.34673953]\t 0.8626234515673594\t 0.6773838424850286\t 1.9544576956243822\t 1.9544576956243822\n",
            "6  \t [ 8.42570155  4.07975309 12.          0.91619537  8.          0.61684591]\t 0.7059767781587389\t 0.6773838424850286\t 1.9708845612156713\t 1.9708845610933836\n",
            "7  \t [ 3.74566023  2.13062241 14.          0.71219729 18.          0.68959412]\t 0.7065170119936448\t 0.6773838424850286\t 1.9501580267100405\t 1.9501580267100405\n",
            "8  \t [ 3.63408057  9.2502169   7.          0.59622027 10.          0.62731569]\t 0.7317581740148223\t 0.6773838424850286\t 1.9328148270353387\t 1.9328148270353387\n",
            "9  \t [ 1.79783097  1.91934618  5.          0.77893204 13.          0.47835366]\t 0.7857306346205829\t 0.6773838424850286\t 1.9223803030425177\t 1.9223803030425177\n",
            "\u001b[1m\u001b[92m10\u001b[0m\t \u001b[1m\u001b[92m[ 4.45643696  6.43761151 10.          0.59521711 15.          0.91320177]\u001b[0m\t \u001b[1m\u001b[92m0.6773536163008785\u001b[0m\t \u001b[1m\u001b[92m0.6773536163008785\u001b[0m\t \u001b[1m\u001b[92m1.9225417202531372\u001b[0m\t \u001b[1m\u001b[92m1.9225417034436412\u001b[0m\n",
            "11 \t [9.94019054 7.43271319 5.         0.78342194 4.         0.90198883]\t 0.7333445147195274\t 0.6773536163008785\t 1.906116164650077\t 1.906116164650077\n",
            "\u001b[1m\u001b[92m12\u001b[0m\t \u001b[1m\u001b[92m[ 9.33195547 10.          9.30664619  0.5         8.79975865  1.        ]\u001b[0m\t \u001b[1m\u001b[92m0.670924558106137\u001b[0m\t \u001b[1m\u001b[92m0.670924558106137\u001b[0m\t \u001b[1m\u001b[92m1.8994399612800765\u001b[0m\t \u001b[1m\u001b[92m1.8994399626976104\u001b[0m\n",
            "13 \t [0.04130113 6.56643894 8.         0.8316257  6.         0.23623124]\t 1.0149681655113947\t 0.670924558106137\t 1.8853425919690938\t 1.8853425919690938\n",
            "14 \t [ 9.18890824  5.50760906  5.          0.92553651 18.          0.76040056]\t 0.7335321473751593\t 0.670924558106137\t 1.92365029482603\t 1.92365029482603\n",
            "15 \t [ 3.29312611  0.9704927   6.          0.68391426 19.          0.43020049]\t 0.767048132195449\t 0.670924558106137\t 1.9171821795338406\t 1.9171821795338406\n",
            "16 \t [ 0.9019348   8.21531788 14.          0.85098746 17.          0.41254672]\t 0.7391934581482711\t 0.670924558106137\t 1.9152851925071583\t 1.9152851925071583\n",
            "17 \t [9.42305669 0.3423134  7.         0.77066127 8.         0.63693457]\t 0.7280806792663158\t 0.670924558106137\t 1.9104322728931287\t 1.9104322728931287\n",
            "18 \t [ 4.53712581  0.82823489 12.          0.77278662  7.          0.49955948]\t 0.7418182765032342\t 0.670924558106137\t 1.9048424820841334\t 1.9048419384582693\n",
            "19 \t [ 1.10650842  9.77537077 14.          0.83431584  1.          0.5884296 ]\t 0.7222348544284499\t 0.670924558106137\t 1.901111228102568\t 1.901111228102568\n",
            "20 \t [ 9.47745808  9.50911305 13.          0.70555451  1.          0.87222907]\t 0.6776716071409558\t 0.670924558106137\t 1.8957945400006149\t 1.8957945374730838\n",
            "21 \t [0.63927877 0.36518569 5.         0.86590497 1.         0.99444527]\t 0.729970665502028\t 0.670924558106137\t 1.886926806496616\t 1.8869266259809396\n",
            "22 \t [ 8.17626756 10.         15.          0.5        10.57308708  0.1       ]\t 1.0184883279558221\t 0.670924558106137\t 1.8832200595919435\t 1.883220059960507\n",
            "23 \t [8.91258208 3.87375893 8.84348087 0.76249225 1.         0.84203177]\t 0.6805233872609007\t 0.670924558106137\t 1.9093660099184855\t 1.9093652575291564\n",
            "24 \t [10.   0.   5.   1.   1.   0.1]\t 1.0122267899184498\t 0.670924558106137\t 1.9012397029740746\t 1.9012403866416105\n",
            "\u001b[1m\u001b[92m25\u001b[0m\t \u001b[1m\u001b[92m[ 0.          3.6731985   9.53425061  0.5        16.56026696  1.        ]\u001b[0m\t \u001b[1m\u001b[92m0.6696062832683504\u001b[0m\t \u001b[1m\u001b[92m0.6696062832683504\u001b[0m\t \u001b[1m\u001b[92m1.9240723781345006\u001b[0m\t \u001b[1m\u001b[92m1.924072300529515\u001b[0m\n",
            "26 \t [ 9.2876216   9.23467155  9.          0.78119986 18.          0.66822771]\t 0.7093766156846689\t 0.6696062832683504\t 1.915288251638132\t 1.9152879395459226\n",
            "27 \t [10.          1.31369795  8.16625469  0.76460583 18.9116402   0.5330366 ]\t 0.7191541028498759\t 0.6696062832683504\t 1.9098147765958309\t 1.9098135400663099\n",
            "28 \t [ 5.12579843  0.51137195 14.          0.55412141 13.          0.64495739]\t 0.7109871057528058\t 0.6696062832683504\t 1.9053561757385835\t 1.9053561757385835\n",
            "29 \t [ 7.39312365  8.11905383  5.52642491  0.85323346 12.93645559  1.        ]\t 0.7211288117907743\t 0.6696062832683504\t 1.9005993412698952\t 1.9005987724305\n",
            "30 \t [6.60234012 4.71085541 7.         0.60579093 8.         0.81802804]\t 0.6986215366148074\t 0.6696062832683504\t 1.896787491617377\t 1.896786813715103\n"
          ]
        },
        {
          "output_type": "execute_result",
          "data": {
            "text/plain": [
              "52021.65327692546"
            ]
          },
          "metadata": {},
          "execution_count": 39
        }
      ]
    },
    {
      "cell_type": "code",
      "metadata": {
        "id": "CWGPYRJhVKsO",
        "colab": {
          "base_uri": "https://localhost:8080/"
        },
        "outputId": "9188b8ec-66f6-4a6a-db14-7d93de6233c3"
      },
      "source": [
        "### Bayesian optimization runs (x20): 'approx' Acquisition Function run number = 20\n",
        "\n",
        "np.random.seed(run_num_20)\n",
        "surrogate_approx_20 = dGaussianProcess(cov_func, optimize=opt)\n",
        "\n",
        "X_train20, X_test20, y_train20, y_test20 = train_test_split(X, y, test_size=test_perc, random_state=run_num_20)\n",
        "\n",
        "def f_syn_polarity20(alpha, gamma, max_depth, subsample, min_child_weight, colsample):\n",
        "    reg = XGBRegressor(reg_alpha=alpha, gamma=gamma, max_depth=int(max_depth), subsample=subsample, min_child_weight=min_child_weight,\n",
        "          colsample_bytree=colsample, n_estimators = n_est, random_state=run_num_20, objective = 'reg:squarederror')\n",
        "    score = np.array(cross_val_score(reg, X=X_train20, y=y_train20).mean())\n",
        "    return operator * score\n",
        "\n",
        "approx_20 = GPGO_multi(surrogate_approx_20, Acquisition_grad(util), f_syn_polarity20, param, n_jobs = -1) # define BayesOpt\n",
        "approx_20.run(max_iter = max_iter, init_evals = n_init) # run\n",
        "\n",
        "### Return optimal parameters' set:\n",
        "params_approx_20 = approx_20.getResult()[0]\n",
        "params_approx_20['max_depth'] = int(params_approx_20['max_depth'])\n",
        "params_approx_20['min_child_weight'] = int(params_approx_20['min_child_weight'])\n",
        "\n",
        "### Re-train with optimal parameters, run predictons:\n",
        "dX_approx_train20 = xgb.DMatrix(X_train20, y_train20)\n",
        "dX_approx_test20 = xgb.DMatrix(X_test20, y_test20)\n",
        "model_approx_20 = xgb.train(params_approx_20, dX_approx_train20)\n",
        "pred_approx_20 = model_approx_20.predict(dX_approx_test20)\n",
        "\n",
        "rmse_approx_20 = np.sqrt(mean_squared_error(pred_approx_20, y_test20))\n",
        "rmse_approx_20"
      ],
      "execution_count": null,
      "outputs": [
        {
          "output_type": "stream",
          "name": "stdout",
          "text": [
            "Evaluation \t Proposed point \t  Current eval. \t  Best eval. \t         Max. ExactAcqFunc \t Max. ApproxAcqFunc \n",
            "init\t [ 5.88130801  8.97713728 14.          0.81074445  8.          0.95540649]\t 0.6597299542050263\t 0.6597299542050263\t    \t    \n",
            "init\t [6.72865655 0.41173329 8.         0.6361582  7.         0.76174061]\t 0.6983733363249625\t 0.6597299542050263\t    \t    \n",
            "init\t [ 4.77387703  8.66202323 10.          0.51833215  7.          0.10123387]\t 1.0633118913318171\t 0.6597299542050263\t    \t    \n",
            "init\t [ 5.75489985  4.74524381  8.          0.78084343 15.          0.26643049]\t 0.8790653027854468\t 0.6597299542050263\t    \t    \n",
            "init\t [ 4.53444     4.47342833  8.          0.91974896 18.          0.35997552]\t 0.8778581695963045\t 0.6597299542050263\t    \t    \n",
            "1  \t [ 7.96566073  7.15509535  7.          0.79906691 11.          0.34132075]\t 0.8825953654337161\t 0.6597299542050263\t 2.0775927060620876\t 2.0775927060620876\n",
            "2  \t [ 1.72798052  9.03285612 13.          0.50351094 19.          0.11416888]\t 1.0635732061044851\t 0.6597299542050263\t 2.090016464569262\t 2.090016464569262\n",
            "3  \t [ 1.96661701  1.73294312 11.          0.93201699  1.          0.60463107]\t 0.7502219040814293\t 0.6597299542050263\t 2.171113627800915\t 2.171113627800915\n",
            "4  \t [1.41824857 5.09758018 5.         0.56802833 5.         0.75704697]\t 0.7367139517682284\t 0.6597299542050263\t 2.1322857108492186\t 2.1322857108492186\n",
            "5  \t [ 0.41794531  1.88324969 13.          0.88408406 13.          0.43578884]\t 0.8006234291185196\t 0.6597299542050263\t 2.098403408612179\t 2.098403408612179\n",
            "6  \t [ 9.80686472  1.37296982 14.          0.9100959  10.          0.1681724 ]\t 1.058727127460609\t 0.6597299542050263\t 2.0850806126679595\t 2.0850806126679595\n",
            "7  \t [ 9.82409087  4.45469949 11.          0.53160513  4.          0.66763423]\t 0.703165388931625\t 0.6597299542050263\t 2.137280175886593\t 2.137280175886593\n",
            "8  \t [ 2.63649501  9.62311075  7.          0.5192485  13.          0.19746315]\t 1.0640909980360433\t 0.6597299542050263\t 2.104908544313981\t 2.1049085369739853\n",
            "9  \t [ 9.18502444  7.06345806 13.          0.62385346 16.          0.94993271]\t 0.6703678866341707\t 0.6597299542050263\t 2.147653780360917\t 2.147653780360917\n",
            "10 \t [8.51004072 7.2917763  5.         0.96135496 1.         0.57493956]\t 0.8036859734991779\t 0.6597299542050263\t 2.116340514511151\t 2.116340514511151\n",
            "11 \t [ 1.427592    3.43787632  6.          0.91643951 11.          0.75231375]\t 0.7101353944025834\t 0.6597299542050263\t 2.1060744739152226\t 2.1060744713179864\n",
            "12 \t [ 6.87684298  0.81341201 12.          0.63438989 19.          0.35708107]\t 0.8844718896334441\t 0.6597299542050263\t 2.085050927516567\t 2.0850509144091447\n",
            "13 \t [ 3.51322154  8.79998304 14.          0.91142182  1.          0.35103611]\t 0.8922088424958478\t 0.6597299542050263\t 2.090588463700001\t 2.090588463700001\n",
            "\u001b[1m\u001b[92m14\u001b[0m\t \u001b[1m\u001b[92m[ 4.58148989  3.72438203 13.          0.84299454  8.          0.92612108]\u001b[0m\t \u001b[1m\u001b[92m0.6573252901701634\u001b[0m\t \u001b[1m\u001b[92m0.6573252901701634\u001b[0m\t \u001b[1m\u001b[92m2.0953514715583488\u001b[0m\t \u001b[1m\u001b[92m2.095351267159069\u001b[0m\n",
            "15 \t [ 9.90619221  7.05528672  5.          0.91932487 18.          0.63366006]\t 0.7328927505356351\t 0.6573252901701634\t 2.0732406077703693\t 2.0732406077703693\n",
            "16 \t [ 6.72514854  1.28542193  5.63570045  0.97328234 11.58082706  0.1       ]\t 1.063417222619886\t 0.6573252901701634\t 2.0596627077652183\t 2.0596618202047265\n",
            "17 \t [ 8.3723055   9.68266939 11.          0.50145124  1.          0.82596229]\t 0.7117644991570005\t 0.6573252901701634\t 2.088851697009062\t 2.088851697009062\n",
            "18 \t [ 0.7766431   8.0732046   5.          0.88801393 19.          0.19994543]\t 1.063694650982524\t 0.6573252901701634\t 2.074400094762205\t 2.074400094762205\n",
            "19 \t [8.67223652 9.66010575 6.         0.63457768 6.         0.86415257]\t 0.7147083784607429\t 0.6573252901701634\t 2.1002866990256117\t 2.10028649384848\n",
            "20 \t [ 0.48052083  7.11896241 11.          0.81692586 10.          0.28962119]\t 0.8805558125442058\t 0.6573252901701634\t 2.0868889725361783\t 2.0868887441667265\n",
            "21 \t [ 2.16891361  0.40236972  6.          0.57865056 19.          0.33900997]\t 0.8933558323113931\t 0.6573252901701634\t 2.0901826037273605\t 2.0901826037273605\n",
            "22 \t [7.09521948 1.98932663 6.         0.65989265 2.         0.73023722]\t 0.7154584586376316\t 0.6573252901701634\t 2.093609853608856\t 2.093609853608856\n",
            "\u001b[1m\u001b[92m23\u001b[0m\t \u001b[1m\u001b[92m[ 3.27859028  0.          9.11512988  1.         14.23151144  1.        ]\u001b[0m\t \u001b[1m\u001b[92m0.6485345943173735\u001b[0m\t \u001b[1m\u001b[92m0.6485345943173735\u001b[0m\t \u001b[1m\u001b[92m2.081973303802118\u001b[0m\t \u001b[1m\u001b[92m2.0819725809475664\u001b[0m\n",
            "24 \t [ 1.96869013  7.00264368 10.          0.79233192  3.          0.8133863 ]\t 0.6902699854328027\t 0.6485345943173735\t 2.066786902731839\t 2.066786902731839\n",
            "25 \t [0.         9.39408263 6.4718485  0.5        7.57279045 1.        ]\t 0.700413168946177\t 0.6485345943173735\t 2.054573599809587\t 2.054573456239671\n",
            "26 \t [ 0.84368952  1.32307267 14.          0.66534106  5.          0.6002203 ]\t 0.7551323766336555\t 0.6485345943173735\t 2.044181993939374\t 2.0441805418903147\n",
            "27 \t [ 3.75625019  8.71322608 15.          1.         13.18809845  0.1       ]\t 1.0094721373925146\t 0.6485345943173735\t 2.0381970226515644\t 2.0381976723837005\n",
            "28 \t [ 6.38955122 10.          7.49293002  0.5        20.          0.1       ]\t 1.0640179677177692\t 0.6485345943173735\t 2.053167903669896\t 2.0531678045050574\n",
            "29 \t [ 2.05797056  3.5679443  14.          0.67286552 19.          0.3168445 ]\t 0.8832112854050795\t 0.6485345943173735\t 2.0721013063413594\t 2.0721011086035057\n",
            "30 \t [ 5.80188694  0.26975368 13.96912321  0.5         1.          1.        ]\t 0.6734358211714717\t 0.6485345943173735\t 2.0748436078239822\t 2.074842191456537\n"
          ]
        },
        {
          "output_type": "execute_result",
          "data": {
            "text/plain": [
              "49581.58483247012"
            ]
          },
          "metadata": {},
          "execution_count": 40
        }
      ]
    },
    {
      "cell_type": "code",
      "metadata": {
        "id": "-1d_1LyydIfe",
        "colab": {
          "base_uri": "https://localhost:8080/"
        },
        "outputId": "b8f629e6-41cc-4499-8100-772e61b33ad1"
      },
      "source": [
        "end_approx = time.time()\n",
        "end_approx\n",
        "\n",
        "time_approx = end_approx - start_approx\n",
        "time_approx\n",
        "\n",
        "start_exact = time.time()\n",
        "start_exact"
      ],
      "execution_count": null,
      "outputs": [
        {
          "output_type": "execute_result",
          "data": {
            "text/plain": [
              "1663854417.7310297"
            ]
          },
          "metadata": {},
          "execution_count": 41
        }
      ]
    },
    {
      "cell_type": "code",
      "metadata": {
        "id": "ZAyOw7XYVwAf",
        "colab": {
          "base_uri": "https://localhost:8080/"
        },
        "outputId": "e23281c3-8756-41d6-f41f-6e4986232223"
      },
      "source": [
        "### Bayesian optimization runs (x20): 'exact' Acquisition Function run number = 1 \n",
        "\n",
        "np.random.seed(run_num_1)\n",
        "surrogate_exact_1 = dGaussianProcess(cov_func, optimize=opt)\n",
        "\n",
        "X_train1, X_test1, y_train1, y_test1 = train_test_split(X, y, test_size=test_perc, random_state=run_num_1)\n",
        "\n",
        "def f_syn_polarity1(alpha, gamma, max_depth, subsample, min_child_weight, colsample):\n",
        "    reg = XGBRegressor(reg_alpha=alpha, gamma=gamma, max_depth=int(max_depth), subsample=subsample, min_child_weight=min_child_weight,\n",
        "          colsample_bytree=colsample, n_estimators = n_est, random_state=run_num_1, objective = 'reg:squarederror')\n",
        "    score = np.array(cross_val_score(reg, X=X_train1, y=y_train1).mean())\n",
        "    return operator * score\n",
        "\n",
        "exact_1 = dGPGO(surrogate_exact_1, Acquisition_grad(util), f_syn_polarity1, param, n_jobs = -1) # Define BayesOpt\n",
        "exact_1.run(max_iter = max_iter, init_evals = n_init) # run\n",
        "\n",
        "### Return optimal parameters' set:\n",
        "params_exact_1 = exact_1.getResult()[0]\n",
        "params_exact_1['max_depth'] = int(params_exact_1['max_depth'])\n",
        "params_exact_1['min_child_weight'] = int(params_exact_1['min_child_weight'])\n",
        "\n",
        "### Re-train with optimal parameters, run predictons:\n",
        "dX_exact_train1 = xgb.DMatrix(X_train1, y_train1)\n",
        "dX_exact_test1 = xgb.DMatrix(X_test1, y_test1)\n",
        "model_exact_1 = xgb.train(params_exact_1, dX_exact_train1)\n",
        "pred_exact_1 = model_exact_1.predict(dX_exact_test1)\n",
        "\n",
        "rmse_exact_1 = np.sqrt(mean_squared_error(pred_exact_1, y_test1))\n",
        "rmse_exact_1"
      ],
      "execution_count": null,
      "outputs": [
        {
          "output_type": "stream",
          "name": "stdout",
          "text": [
            "Evaluation \t Proposed point \t  Current eval. \t  Best eval. \t         Max. ExactAcqFunc \t Max. ApproxAcqFunc \n",
            "init\t [ 4.17022005  7.20324493 14.          0.65116629 16.          0.31248008]\t 1.0028690365100252\t 0.6536753952667645\t    \t    \n",
            "init\t [ 3.96580727  3.87910741 11.          0.96776954  6.          0.71669755]\t 0.7391862019705779\t 0.6536753952667645\t    \t    \n",
            "init\t [ 2.0445225   8.78117436  7.          0.95698101 10.          0.48762871]\t 0.8806962872539386\t 0.6536753952667645\t    \t    \n",
            "init\t [ 9.39127789  7.78389236 14.          0.98413079  2.          0.87851823]\t 0.6536753952667645\t 0.6536753952667645\t    \t    \n",
            "init\t [8.29146907 8.29603359 8.         0.58491521 9.         0.18851215]\t 1.062518544792604\t 0.6536753952667645\t    \t    \n",
            "1  \t [ 7.86951474  0.6406733  11.          0.78919481 19.          0.44182296]\t 0.8659738506300403\t 0.6536753952667645\t 2.158888799766123\t 2.158888799766123\n",
            "2  \t [ 0.74723898  0.36469704 11.          0.84902862 15.          0.10419698]\t 1.0589776023267656\t 0.6536753952667645\t 2.1526533803426173\t 2.1526533803426173\n",
            "3  \t [ 3.61274713  8.16007507 11.          0.84840025 19.          0.76215891]\t 0.6771887207267527\t 0.6536753952667645\t 2.221071180615788\t 2.221071180615788\n",
            "4  \t [ 9.28266952  0.44927819  7.          0.97265422 12.          0.93288355]\t 0.6820774846874944\t 0.6536753952667645\t 2.1588078297937097\t 2.1588078297937097\n",
            "5  \t [0.         0.         5.         0.5        4.16307351 0.1       ]\t 1.0642140288564224\t 0.6536753952667645\t 2.1101589341307614\t 2.1101589341297737\n",
            "6  \t [ 5.1476318   2.63826491  5.          0.83046451 17.          0.39543049]\t 0.9004243658767852\t 0.6536753952667645\t 2.164943238914653\t 2.164943238914653\n",
            "7  \t [ 2.05722318  9.92568059 11.          0.85938245  2.          0.31039182]\t 1.0042308077866626\t 0.6536753952667645\t 2.1686645384850154\t 2.1686645384850154\n",
            "8  \t [8.51945771 8.4424986  8.         0.90741371 1.         0.49942468]\t 0.8757522803338091\t 0.6536753952667645\t 2.1944204139761565\t 2.1944204139761565\n",
            "9  \t [ 2.08878558  0.52993661 12.          0.75288969  1.          0.24822289]\t 1.0632523501795186\t 0.6536753952667645\t 2.1906652243716245\t 2.1906652243716245\n",
            "10 \t [2.9041318  7.39326981 5.         0.58898617 5.         0.32854047]\t 1.0120361806256697\t 0.6536753952667645\t 2.22277886740949\t 2.22277886740949\n",
            "11 \t [ 9.4605503   2.00186066 12.          0.69186722  8.          0.11311186]\t 1.061946992849472\t 0.6536753952667645\t 2.240769901596439\t 2.240769901596439\n",
            "12 \t [6.76356635 2.31703141 5.         0.84148498 5.         0.43949556]\t 0.8998699639297213\t 0.6536753952667645\t 2.264979751009328\t 2.264979751009328\n",
            "13 \t [ 0.31984184  8.77960419  5.          0.79374224 16.          0.99761184]\t 0.7310969316491746\t 0.6536753952667645\t 2.2614508332086336\t 2.2614508332086336\n",
            "14 \t [ 0.99440257  2.23238431 10.          0.58984965 12.          0.68792603]\t 0.7499303794197336\t 0.6536753952667645\t 2.237902636563361\t 2.237902636563361\n",
            "15 \t [ 9.20512342  1.60831322 11.          0.87041344  2.          0.50117029]\t 0.8186293003915115\t 0.6536753952667645\t 2.2185947179478736\t 2.2185947179478736\n",
            "16 \t [ 0.21685405  7.71152333 13.          0.94772928  9.          0.78016857]\t 0.6760611870438261\t 0.6536753952667645\t 2.2083216955651013\t 2.2083216955651013\n",
            "\u001b[1m\u001b[92m17\u001b[0m\t \u001b[1m\u001b[92m[10. 10. 15.  1. 20.  1.]\u001b[0m\t \u001b[1m\u001b[92m0.6504936383293095\u001b[0m\t \u001b[1m\u001b[92m0.6504936383293095\u001b[0m\t \u001b[1m\u001b[92m2.1852892787631997\u001b[0m\t \u001b[1m\u001b[92m2.1852892787583196\u001b[0m\n",
            "18 \t [ 9.07473203  7.82580978  7.          0.8004828  15.          0.48928248]\t 0.8798731047836086\t 0.6504936383293095\t 2.1619041428612524\t 2.1619041428612524\n",
            "19 \t [ 5.97608649  2.36667377 13.          0.98001528 12.          0.35946301]\t 1.0002489375044032\t 0.6504936383293095\t 2.1616116500281604\t 2.1616116500281604\n",
            "20 \t [ 5.14454264  3.57498003 14.78018505  1.          1.78018505  1.        ]\t 0.6523064283153609\t 0.6504936383293095\t 2.174360596162939\t 2.1743602618100155\n",
            "21 \t [ 9.72376714  9.82517342 14.          0.96896704 10.          0.66715413]\t 0.7365987830832396\t 0.6504936383293095\t 2.154300955308813\t 2.154300955308813\n",
            "22 \t [ 4.65410509  7.57869444  5.          0.7635136  15.          0.8131422 ]\t 0.7396988098813949\t 0.6504936383293095\t 2.141896734231449\t 2.141896734231449\n",
            "23 \t [ 5.5061052   5.26576203 10.          0.77550389  1.          0.3745881 ]\t 1.003664213324171\t 0.6504936383293095\t 2.1305813783094276\t 2.1305813783094276\n",
            "\u001b[1m\u001b[92m24\u001b[0m\t \u001b[1m\u001b[92m[ 9.89768519  7.35883605 12.56890672  1.         14.56890672  1.        ]\u001b[0m\t \u001b[1m\u001b[92m0.6482478115944295\u001b[0m\t \u001b[1m\u001b[92m0.6482478115944295\u001b[0m\t \u001b[1m\u001b[92m2.1431185888878788\u001b[0m\t \u001b[1m\u001b[92m2.1431182548147376\u001b[0m\n",
            "25 \t [3.92428694 0.68431362 6.         0.64283095 9.         0.2162494 ]\t 1.0619895012405975\t 0.6482478115944295\t 2.1264274396195253\t 2.1264274396195253\n",
            "26 \t [ 1.03968583  3.49943563 14.          0.82879876  3.          0.98366866]\t 0.6562345271802523\t 0.6482478115944295\t 2.143953274515796\t 2.143953274515796\n",
            "27 \t [4.30702998 1.603885   6.         0.67957661 1.         0.65896812]\t 0.7831673379940609\t 0.6482478115944295\t 2.1287569561950406\t 2.1287569561950406\n",
            "28 \t [ 0.15246909  0.64891005  5.          0.82057511 17.          0.55392553]\t 0.8471082658020649\t 0.6482478115944295\t 2.1224178001591176\t 2.1224178001591176\n",
            "29 \t [ 8.76026329  6.43976448 10.81236188  1.         20.          1.        ]\t 0.6560121548112782\t 0.6482478115944295\t 2.1209957517815785\t 2.1209954341980386\n",
            "30 \t [0.01760125 4.20168637 5.         0.62711786 8.         0.78825566]\t 0.7378644330521015\t 0.6482478115944295\t 2.1077426635796543\t 2.1077426635796543\n"
          ]
        },
        {
          "output_type": "execute_result",
          "data": {
            "text/plain": [
              "46668.8273192029"
            ]
          },
          "metadata": {},
          "execution_count": 42
        }
      ]
    },
    {
      "cell_type": "code",
      "metadata": {
        "id": "hrDQbChpZ48F",
        "colab": {
          "base_uri": "https://localhost:8080/"
        },
        "outputId": "a955bcdf-b763-4227-a030-5fb298ab7c7a"
      },
      "source": [
        "### Bayesian optimization runs (x20): 'exact' Acquisition Function run number = 2 \n",
        "\n",
        "np.random.seed(run_num_2)\n",
        "surrogate_exact_2 = dGaussianProcess(cov_func, optimize=opt)\n",
        "\n",
        "X_train2, X_test2, y_train2, y_test2 = train_test_split(X, y, test_size=test_perc, random_state=run_num_2)\n",
        "\n",
        "def f_syn_polarity2(alpha, gamma, max_depth, subsample, min_child_weight, colsample):\n",
        "    reg = XGBRegressor(reg_alpha=alpha, gamma=gamma, max_depth=int(max_depth), subsample=subsample, min_child_weight=min_child_weight,\n",
        "          colsample_bytree=colsample, n_estimators = n_est, random_state=run_num_2, objective = 'reg:squarederror')\n",
        "    score = np.array(cross_val_score(reg, X=X_train2, y=y_train2).mean())\n",
        "    return operator * score\n",
        "\n",
        "exact_2 = dGPGO(surrogate_exact_2, Acquisition_grad(util), f_syn_polarity2, param, n_jobs = -1) # Define BayesOpt\n",
        "exact_2.run(max_iter = max_iter, init_evals = n_init) # run\n",
        "\n",
        "### Return optimal parameters' set:\n",
        "params_exact_2 = exact_2.getResult()[0]\n",
        "params_exact_2['max_depth'] = int(params_exact_2['max_depth'])\n",
        "params_exact_2['min_child_weight'] = int(params_exact_2['min_child_weight'])\n",
        "\n",
        "### Re-train with optimal parameters, run predictons:\n",
        "dX_exact_train2 = xgb.DMatrix(X_train2, y_train2)\n",
        "dX_exact_test2 = xgb.DMatrix(X_test2, y_test2)\n",
        "model_exact_2 = xgb.train(params_exact_2, dX_exact_train2)\n",
        "pred_exact_2 = model_exact_2.predict(dX_exact_test2)\n",
        "\n",
        "rmse_exact_2 = np.sqrt(mean_squared_error(pred_exact_2, y_test2))\n",
        "rmse_exact_2"
      ],
      "execution_count": null,
      "outputs": [
        {
          "output_type": "stream",
          "name": "stdout",
          "text": [
            "Evaluation \t Proposed point \t  Current eval. \t  Best eval. \t         Max. ExactAcqFunc \t Max. ApproxAcqFunc \n",
            "init\t [ 4.35994902  0.25926232 11.          0.97386531 12.          0.47833102]\t 0.778909206070606\t 0.681387807728051\t    \t    \n",
            "init\t [ 3.30334821  2.04648634 10.          0.55997527  6.          0.71472339]\t 0.681387807728051\t 0.681387807728051\t    \t    \n",
            "init\t [ 4.9856117   5.86796978  8.          0.89266757 11.          0.59158659]\t 0.7040746477543849\t 0.681387807728051\t    \t    \n",
            "init\t [ 4.07307832  1.76984624 13.          0.75262305  7.          0.35908193]\t 0.7953147984784036\t 0.681387807728051\t    \t    \n",
            "init\t [ 1.16193318  1.81727038  9.          0.79837265 19.          0.29965165]\t 0.7954413972964868\t 0.681387807728051\t    \t    \n",
            "\u001b[1m\u001b[92m1\u001b[0m\t \u001b[1m\u001b[92m[10. 10. 15.  1. 20.  1.]\u001b[0m\t \u001b[1m\u001b[92m0.6547874419782912\u001b[0m\t \u001b[1m\u001b[92m0.6547874419782912\u001b[0m\t \u001b[1m\u001b[92m1.8419016492136397\u001b[0m\t \u001b[1m\u001b[92m1.8419016492136397\u001b[0m\n",
            "2  \t [ 2.17907321  8.34965852  5.          0.91660625 18.          0.97349298]\t 0.7341430302765248\t 0.6547874419782912\t 1.8044153444703925\t 1.8044153444703925\n",
            "3  \t [ 9.82078709  9.9850326  13.          0.56249358  3.          0.74498359]\t 0.683685379651464\t 0.6547874419782912\t 1.8035395435470947\t 1.8035395435470947\n",
            "4  \t [9.65259502 5.7740337  5.         0.69028314 1.         0.90626847]\t 0.7326570250862032\t 0.6547874419782912\t 1.7889413689789788\t 1.7889413689789788\n",
            "5  \t [1.25559631 9.8394609  9.         0.52015567 2.         0.32958416]\t 0.8058953821841264\t 0.6547874419782912\t 1.7886853058453176\t 1.7886853058453176\n",
            "6  \t [ 9.90020282  3.3367177  10.          0.62203407  7.          0.71235234]\t 0.67907472219801\t 0.6547874419782912\t 1.8088708550715014\t 1.8088708550715014\n",
            "7  \t [ 0.66591974  9.26661294 14.          0.96342421 18.          0.94909068]\t 0.6568524558078858\t 0.6547874419782912\t 1.7954036217199851\t 1.7954036217199851\n",
            "8  \t [ 7.73753078  4.7386917  10.          0.75300372 18.          0.75097316]\t 0.6740149070019592\t 0.6547874419782912\t 1.780611957115093\t 1.780611957115093\n",
            "9  \t [ 9.24652802  2.85452625  6.          0.82083864 14.          0.624768  ]\t 0.7397571279868462\t 0.6547874419782912\t 1.7716028273258608\t 1.7716028273258608\n",
            "10 \t [ 0.27081994  8.72536784 13.          0.81607342  8.          0.82891087]\t 0.6684024492575475\t 0.6547874419782912\t 1.774520356926295\t 1.774520356926295\n",
            "11 \t [4.59560507 9.66694693 5.         0.8652774  6.         0.90565092]\t 0.7323276592879555\t 0.6547874419782912\t 1.7651579483552586\t 1.7651579483552586\n",
            "12 \t [0.  0.  5.  0.5 1.  0.1]\t 0.8726019020039407\t 0.6547874419782912\t 1.7669635844757285\t 1.7669635611119474\n",
            "13 \t [ 6.62295179  6.77584978 14.          0.65936287 12.          0.50955919]\t 0.7009189105357144\t 0.6547874419782912\t 1.7908782772877998\t 1.7908782772877998\n",
            "14 \t [ 1.44915477  0.14257847  6.          0.52441016 14.          0.6286643 ]\t 0.7143733066956096\t 0.6547874419782912\t 1.7868483928340246\t 1.7868483928340246\n",
            "15 \t [ 9.80429676  9.59801315  7.          0.61168386 14.          0.66107461]\t 0.6949698710548621\t 0.6547874419782912\t 1.7849202617336044\t 1.7849202617336044\n",
            "16 \t [ 6.52098806  7.37654971 12.          0.62621853  7.          0.13475551]\t 0.8637260588745512\t 0.6547874419782912\t 1.7812852724296848\t 1.7812852724296848\n",
            "17 \t [0.81506126 0.56814432 5.         0.5118248  7.390786   0.1       ]\t 0.8728857058495552\t 0.6547874419782912\t 1.7982384893422505\t 1.7982383379349969\n",
            "18 \t [ 2.30799756  7.36699425 12.          0.5719573  14.          0.13065153]\t 0.8641783079125256\t 0.6547874419782912\t 1.8154293950784819\t 1.8154293950784819\n",
            "19 \t [ 4.07173     8.95519099 14.          0.647596    2.          0.58797878]\t 0.7073319601685856\t 0.6547874419782912\t 1.8292226251835182\t 1.8292226535258829\n",
            "20 \t [ 8.59076902  2.12489768 14.          0.94217664  7.          0.48489882]\t 0.779620799149445\t 0.6547874419782912\t 1.8256275319553625\t 1.8256275319553625\n",
            "21 \t [7.13284983 1.18470919 5.         0.63977211 3.         0.12223048]\t 0.8717594731267366\t 0.6547874419782912\t 1.8290386633027493\t 1.8290386633027493\n",
            "22 \t [ 5.52544267  3.27494755 14.          0.81226214 16.          0.89371273]\t 0.6639720259059373\t 0.6547874419782912\t 1.84178642474902\t 1.84178642474902\n",
            "23 \t [2.36161323 4.19936331 9.         0.73250204 1.         0.79018905]\t 0.680281465679196\t 0.6547874419782912\t 1.8342584885349977\t 1.8342584885349977\n",
            "24 \t [ 5.48814708  1.96120195 13.          0.89659682  1.          0.34125713]\t 0.7953122343367733\t 0.6547874419782912\t 1.828515211717031\t 1.828515211717031\n",
            "25 \t [2.15304935 5.68296712 7.         0.50474377 7.         0.14577811]\t 0.8659386705475542\t 0.6547874419782912\t 1.8327819614658412\t 1.8327819614658412\n",
            "26 \t [ 8.70315358  0.48555779  7.          0.66852423 19.          0.41281589]\t 0.7989791012517438\t 0.6547874419782912\t 1.843104474161805\t 1.843104474161805\n",
            "27 \t [ 8.92720117  4.31465286 13.          0.70553933  1.          0.75946259]\t 0.6817048020092698\t 0.6547874419782912\t 1.846905916279088\t 1.846905916279088\n",
            "28 \t [ 4.11831219  1.06523616 12.          0.63008078 16.          0.53873389]\t 0.7006937452963055\t 0.6547874419782912\t 1.8416300025941958\t 1.8416300025941958\n",
            "29 \t [ 6.25409576  9.66919464  9.          0.55640442 19.          0.48201317]\t 0.7923994561772171\t 0.6547874419782912\t 1.8375151363697733\t 1.8375151363697733\n",
            "30 \t [ 5.76132114  1.07764863  5.59110641  0.5        10.59110641  0.1       ]\t 0.8723710388153713\t 0.6547874419782912\t 1.840640300844512\t 1.8406414566516658\n"
          ]
        },
        {
          "output_type": "execute_result",
          "data": {
            "text/plain": [
              "48520.086007711776"
            ]
          },
          "metadata": {},
          "execution_count": 43
        }
      ]
    },
    {
      "cell_type": "code",
      "metadata": {
        "id": "HpUPyXRfZ95Y",
        "colab": {
          "base_uri": "https://localhost:8080/"
        },
        "outputId": "22b5d754-8968-4e12-8cb2-33463cdd42e3"
      },
      "source": [
        "### Bayesian optimization runs (x20): 'exact' Acquisition Function run number = 3 \n",
        "\n",
        "np.random.seed(run_num_3)\n",
        "surrogate_exact_3 = dGaussianProcess(cov_func, optimize=opt)\n",
        "\n",
        "X_train3, X_test3, y_train3, y_test3 = train_test_split(X, y, test_size=test_perc, random_state=run_num_3)\n",
        "\n",
        "def f_syn_polarity3(alpha, gamma, max_depth, subsample, min_child_weight, colsample):\n",
        "    reg = XGBRegressor(reg_alpha=alpha, gamma=gamma, max_depth=int(max_depth), subsample=subsample, min_child_weight=min_child_weight,\n",
        "          colsample_bytree=colsample, n_estimators = n_est, random_state=run_num_3, objective = 'reg:squarederror')\n",
        "    score = np.array(cross_val_score(reg, X=X_train3, y=y_train3).mean())\n",
        "    return operator * score\n",
        "\n",
        "exact_3 = dGPGO(surrogate_exact_3, Acquisition_grad(util), f_syn_polarity3, param, n_jobs = -1) # Define BayesOpt\n",
        "exact_3.run(max_iter = max_iter, init_evals = n_init) # run\n",
        "\n",
        "### Return optimal parameters' set:\n",
        "params_exact_3 = exact_3.getResult()[0]\n",
        "params_exact_3['max_depth'] = int(params_exact_3['max_depth'])\n",
        "params_exact_3['min_child_weight'] = int(params_exact_3['min_child_weight'])\n",
        "\n",
        "### Re-train with optimal parameters, run predictons:\n",
        "dX_exact_train3 = xgb.DMatrix(X_train3, y_train3)\n",
        "dX_exact_test3 = xgb.DMatrix(X_test3, y_test3)\n",
        "model_exact_3 = xgb.train(params_exact_3, dX_exact_train3)\n",
        "pred_exact_3 = model_exact_3.predict(dX_exact_test3)\n",
        "\n",
        "rmse_exact_3 = np.sqrt(mean_squared_error(pred_exact_3, y_test3))\n",
        "rmse_exact_3"
      ],
      "execution_count": null,
      "outputs": [
        {
          "output_type": "stream",
          "name": "stdout",
          "text": [
            "Evaluation \t Proposed point \t  Current eval. \t  Best eval. \t         Max. ExactAcqFunc \t Max. ApproxAcqFunc \n",
            "init\t [ 5.50797903  7.08147823 13.          0.56066429 11.          0.11687321]\t 1.0213644638508028\t 0.7688389438662246\t    \t    \n",
            "init\t [ 0.40630737  2.47888297 11.          0.72040492 13.          0.23083313]\t 1.022822678309975\t 0.7688389438662246\t    \t    \n",
            "init\t [ 4.53172301  2.15577008 11.          0.74631796  2.          0.60296868]\t 0.7688389438662246\t 0.7688389438662246\t    \t    \n",
            "init\t [ 2.59252447  4.15101197 13.          0.79330998  8.          0.24118096]\t 1.0239688135226253\t 0.7688389438662246\t    \t    \n",
            "init\t [ 5.44649018  7.80314765 10.          0.62879264 18.          0.44917413]\t 0.8703298117399682\t 0.7688389438662246\t    \t    \n",
            "1  \t [ 4.57686399  8.60533913  5.          0.93553602 12.          0.35017976]\t 0.9903445707071453\t 0.7688389438662246\t 2.320288806219101\t 2.320288806219101\n",
            "\u001b[1m\u001b[92m2\u001b[0m\t \u001b[1m\u001b[92m[7.88832343 8.95739531 8.         0.70911141 2.         0.87634458]\u001b[0m\t \u001b[1m\u001b[92m0.6938092267899838\u001b[0m\t \u001b[1m\u001b[92m0.6938092267899838\u001b[0m\t \u001b[1m\u001b[92m2.3382114547169905\u001b[0m\t \u001b[1m\u001b[92m2.3382114547169905\u001b[0m\n",
            "3  \t [4.47677412 5.05596963 6.         0.77295773 5.         0.95873323]\t 0.7169387303226469\t 0.6938092267899838\t 2.2580535626759795\t 2.2580535626759795\n",
            "4  \t [ 6.69378835  1.1746468   5.          0.75549171 16.          0.73450657]\t 0.7722220514333056\t 0.6938092267899838\t 2.2015799564867056\t 2.2015799564867056\n",
            "5  \t [ 0.24010242  9.80847714 13.          0.63702721  3.          0.56729929]\t 0.7723921954821745\t 0.6938092267899838\t 2.1693224448622974\t 2.1693224448622974\n",
            "\u001b[1m\u001b[92m6\u001b[0m\t \u001b[1m\u001b[92m[ 9.48771786  3.57791816 15.          1.          5.05990926  1.        ]\u001b[0m\t \u001b[1m\u001b[92m0.6525687833366302\u001b[0m\t \u001b[1m\u001b[92m0.6525687833366302\u001b[0m\t \u001b[1m\u001b[92m2.14320125474671\u001b[0m\t \u001b[1m\u001b[92m2.1432012547466277\u001b[0m\n",
            "7  \t [6.87752707 0.15955299 8.         0.55138154 9.         0.67263073]\t 0.7372222724588662\t 0.6525687833366302\t 2.0995243353494746\t 2.0995243353494746\n",
            "8  \t [1.32710451 9.31408284 5.         0.83446011 3.         0.89210195]\t 0.7368197289369623\t 0.6525687833366302\t 2.076640049163198\t 2.076640049163198\n",
            "9  \t [10. 10. 15.  1. 20.  1.]\t 0.6548396524742095\t 0.6525687833366302\t 2.0570073606371877\t 2.057007360618884\n",
            "10 \t [ 8.44289655  0.57103551 12.          0.84075455 17.          0.88566746]\t 0.6798132840292306\t 0.6525687833366302\t 2.0280092197218247\t 2.0280092197218247\n",
            "11 \t [9.16522925 3.01199498 6.         0.84622621 2.         0.15596669]\t 1.0269718898544153\t 0.6525687833366302\t 2.0058646421327233\t 2.0058646421327233\n",
            "12 \t [ 7.36281279  7.66763777  8.          0.59948159 13.          0.98370581]\t 0.6998375974069359\t 0.6525687833366302\t 2.0414517838019073\t 2.0414517838019073\n",
            "13 \t [ 6.79447642  1.68451162 13.          0.84859128 12.          0.28425267]\t 0.9785306475319395\t 0.6525687833366302\t 2.023668959227705\t 2.023668959227705\n",
            "14 \t [ 0.68308523  3.05829619  5.          0.71250074 17.          0.5517841 ]\t 0.8061350962237561\t 0.6525687833366302\t 2.0461912578914903\t 2.0461912578914903\n",
            "15 \t [0.  0.  5.  0.5 1.  0.1]\t 1.0276382267404158\t 0.6525687833366302\t 2.042494376558167\t 2.0424943676607046\n",
            "16 \t [ 9.86273212  5.79963604 13.          0.69696961 16.          0.70097151]\t 0.7296642769414492\t 0.6525687833366302\t 2.0688056141418754\t 2.0688056141418754\n",
            "17 \t [ 9.40129426  8.85637698 13.          0.72340176  7.          0.76030308]\t 0.7059876882234674\t 0.6525687833366302\t 2.056279430141448\t 2.056279430141448\n",
            "18 \t [1.14934749 1.30310631 7.         0.60930428 6.         0.86412796]\t 0.7189871901849552\t 0.6525687833366302\t 2.04250484565746\t 2.04250484565746\n",
            "19 \t [ 2.58261481  1.43735307 13.          0.73828328 19.          0.96017932]\t 0.6819322162402592\t 0.6525687833366302\t 2.0311292024373118\t 2.0311292024373118\n",
            "20 \t [ 1.06084272  8.60821489 11.          0.60672694  9.          0.40602348]\t 0.8723133504012892\t 0.6525687833366302\t 2.0173808909148954\t 2.0173809498489743\n",
            "21 \t [ 9.83060339  5.43479292  5.          0.93965116 19.          0.81693736]\t 0.7430400763458248\t 0.6525687833366302\t 2.0222958672790687\t 2.0222958672790687\n",
            "22 \t [ 0.7793921   8.87321184 14.          0.62565306 14.          0.27955137]\t 0.9804360243561806\t 0.6525687833366302\t 2.0148925603992547\t 2.0148925603992547\n",
            "23 \t [ 1.88355751  3.72198107  6.          0.67898342 12.          0.15252662]\t 1.0277162438428806\t 0.6525687833366302\t 2.0305273997935953\t 2.0305273997935953\n",
            "24 \t [ 1.7900993   9.8557373   9.          0.54156619 14.          0.32411954]\t 0.9770854174118455\t 0.6525687833366302\t 2.0498833065273483\t 2.0498833065273483\n",
            "25 \t [7.04836549 4.50704597 9.         0.81696224 8.         0.24681977]\t 1.0224075228339722\t 0.6525687833366302\t 2.0627023787648655\t 2.0627023787648655\n",
            "26 \t [ 9.66834755 10.         15.          1.         13.13891046  1.        ]\t 0.6529787875483413\t 0.6525687833366302\t 2.0789370750419858\t 2.0789370324422842\n",
            "27 \t [ 4.44833713  9.863683   14.          0.95372572  1.          0.28251319]\t 0.9921458084449043\t 0.6525687833366302\t 2.065208902422513\t 2.065208902422513\n",
            "28 \t [5.21300134 0.08265837 5.         0.5        2.1844141  0.1       ]\t 1.0276634056703216\t 0.6525687833366302\t 2.0775845815765885\t 2.07758413904049\n",
            "29 \t [10.          5.06134497 10.10080726  1.         20.          1.        ]\t 0.6610291923202357\t 0.6525687833366302\t 2.09226857336771\t 2.0922685573105104\n",
            "30 \t [ 0.56213381  4.41770035 10.          0.6803733   4.          0.67199979]\t 0.7355552741037803\t 0.6525687833366302\t 2.0798805267036693\t 2.0798805267036693\n"
          ]
        },
        {
          "output_type": "execute_result",
          "data": {
            "text/plain": [
              "47903.28477519841"
            ]
          },
          "metadata": {},
          "execution_count": 44
        }
      ]
    },
    {
      "cell_type": "code",
      "metadata": {
        "id": "SKX_nfEaaAwm",
        "colab": {
          "base_uri": "https://localhost:8080/"
        },
        "outputId": "1b906291-4153-4ebe-9a9f-d71e788bd03f"
      },
      "source": [
        "### Bayesian optimization runs (x20): 'exact' Acquisition Function run number = 4 \n",
        "\n",
        "np.random.seed(run_num_4)\n",
        "surrogate_exact_4 = dGaussianProcess(cov_func, optimize=opt)\n",
        "\n",
        "X_train4, X_test4, y_train4, y_test4 = train_test_split(X, y, test_size=test_perc, random_state=run_num_4)\n",
        "\n",
        "def f_syn_polarity4(alpha, gamma, max_depth, subsample, min_child_weight, colsample):\n",
        "    reg = XGBRegressor(reg_alpha=alpha, gamma=gamma, max_depth=int(max_depth), subsample=subsample, min_child_weight=min_child_weight,\n",
        "          colsample_bytree=colsample, n_estimators = n_est, random_state=run_num_4, objective = 'reg:squarederror')\n",
        "    score = np.array(cross_val_score(reg, X=X_train4, y=y_train4).mean())\n",
        "    return operator * score\n",
        "\n",
        "exact_4 = dGPGO(surrogate_exact_4, Acquisition_grad(util), f_syn_polarity4, param, n_jobs = -1) # Define BayesOpt\n",
        "exact_4.run(max_iter = max_iter, init_evals = n_init) # run\n",
        "\n",
        "### Return optimal parameters' set:\n",
        "params_exact_4 = exact_4.getResult()[0]\n",
        "params_exact_4['max_depth'] = int(params_exact_4['max_depth'])\n",
        "params_exact_4['min_child_weight'] = int(params_exact_4['min_child_weight'])\n",
        "\n",
        "### Re-train with optimal parameters, run predictons:\n",
        "dX_exact_train4 = xgb.DMatrix(X_train4, y_train4)\n",
        "dX_exact_test4 = xgb.DMatrix(X_test4, y_test4)\n",
        "model_exact_4 = xgb.train(params_exact_4, dX_exact_train4)\n",
        "pred_exact_4 = model_exact_4.predict(dX_exact_test4)\n",
        "\n",
        "rmse_exact_4 = np.sqrt(mean_squared_error(pred_exact_4, y_test4))\n",
        "rmse_exact_4"
      ],
      "execution_count": null,
      "outputs": [
        {
          "output_type": "stream",
          "name": "stdout",
          "text": [
            "Evaluation \t Proposed point \t  Current eval. \t  Best eval. \t         Max. ExactAcqFunc \t Max. ApproxAcqFunc \n",
            "init\t [9.67029839 5.47232249 6.         0.92781047 9.         0.72795594]\t 0.7356156069458683\t 0.6641721421409617\t    \t    \n",
            "init\t [ 2.16089496  9.76274455 12.          0.62649118  9.          0.66966679]\t 0.7070759857649549\t 0.6641721421409617\t    \t    \n",
            "init\t [ 0.05159149  5.72356491  9.          0.99170034 10.          0.10808749]\t 0.9423811784101735\t 0.6641721421409617\t    \t    \n",
            "init\t [ 3.86571283  0.44160058 10.          0.90553105 18.          0.95407958]\t 0.6641721421409617\t 0.6641721421409617\t    \t    \n",
            "init\t [ 7.86305986  8.66289299  6.          0.53285477 14.          0.25117497]\t 0.8244425146132294\t 0.6641721421409617\t    \t    \n",
            "1  \t [ 8.45443649  8.61014312 11.          0.83475494  1.          0.14018305]\t 0.9441431878307984\t 0.6641721421409617\t 1.9131124519299358\t 1.9131124519299358\n",
            "2  \t [ 0.90674561  6.32290535 11.          0.94435129  1.          0.40346185]\t 0.7807426885653221\t 0.6641721421409617\t 1.985298006341346\t 1.985298006341346\n",
            "3  \t [ 1.20931261  6.80689034  9.          0.92011951 17.          0.30723956]\t 0.8166403766735346\t 0.6641721421409617\t 1.9750520341382711\t 1.9750520341382711\n",
            "4  \t [6.09263548 1.21260536 9.         0.98871171 4.         0.70734523]\t 0.702922445815302\t 0.6641721421409617\t 1.9782314725711316\t 1.9782314725711316\n",
            "\u001b[1m\u001b[92m5\u001b[0m\t \u001b[1m\u001b[92m[10. 10. 15.  1. 20.  1.]\u001b[0m\t \u001b[1m\u001b[92m0.6437292534451688\u001b[0m\t \u001b[1m\u001b[92m0.6437292534451688\u001b[0m\t \u001b[1m\u001b[92m1.9514040784547333\u001b[0m\t \u001b[1m\u001b[92m1.9514040784533822\u001b[0m\n",
            "6  \t [ 9.52993971  0.33702013  5.          0.64331783 18.          0.12071935]\t 0.9390440646887555\t 0.6437292534451688\t 1.9172407773463263\t 1.9172407773463263\n",
            "7  \t [ 4.78239078  2.50215387 14.          0.69422942 12.          0.74303412]\t 0.7026919855148966\t 0.6437292534451688\t 1.9551554050137228\t 1.9551554050137228\n",
            "8  \t [2.27858743 6.23199766 5.         0.58705984 2.         0.80794289]\t 0.7541323112332569\t 0.6437292534451688\t 1.9367412704940183\t 1.9367412704940183\n",
            "9  \t [0.  0.  5.  0.5 1.  0.1]\t 0.9408999252070572\t 0.6437292534451688\t 1.9300038776474957\t 1.9300038768891734\n",
            "10 \t [ 9.3450382   8.82768787 11.          0.76868692  7.          0.8502727 ]\t 0.6886255429382424\t 0.6437292534451688\t 1.9591479599639563\t 1.9591479599639563\n",
            "11 \t [ 9.65147322  0.33792642 12.          0.92327424 17.          0.84355403]\t 0.681769217592037\t 0.6437292534451688\t 1.9421792915026623\t 1.9421792915026623\n",
            "12 \t [ 8.48843563  0.37785156 11.          0.83297408  1.          0.855572  ]\t 0.6923205913979871\t 0.6437292534451688\t 1.9262939966686405\t 1.9262939966686405\n",
            "13 \t [0.69118951 0.05924245 6.         0.53870729 9.         0.9249957 ]\t 0.7094683558071616\t 0.6437292534451688\t 1.9135056858686077\t 1.9135056858686077\n",
            "14 \t [ 8.80115023  0.9731531  12.          0.74454518  8.          0.98529907]\t 0.6631979339057104\t 0.6437292534451688\t 1.90417186805408\t 1.90417186805408\n",
            "15 \t [9.41541409 7.69245319 5.         0.52626745 1.         0.60186246]\t 0.7682434061303821\t 0.6437292534451688\t 1.8904832384569206\t 1.8904832384569206\n",
            "16 \t [ 1.59376327  9.3637724   5.          0.56698742 13.          0.29635446]\t 0.8312840491127815\t 0.6437292534451688\t 1.8900441924664813\t 1.8900441924664813\n",
            "17 \t [ 5.06744175  4.49053918 14.          0.66443905 19.          0.12165765]\t 0.9418957117193069\t 0.6437292534451688\t 1.8972646347586082\t 1.8972646347586082\n",
            "18 \t [ 6.5341517 10.        11.3275343  1.        16.3275343  1.       ]\t 0.6445807725971372\t 0.6437292534451688\t 1.9177641223077238\t 1.917764105992697\n",
            "19 \t [ 7.38805311  3.2889511   9.          0.96164384 12.          0.26669832]\t 0.8179704798095913\t 0.6437292534451688\t 1.9043193961826914\t 1.9043193961826914\n",
            "20 \t [ 7.97119076  8.60858359  5.          0.89580835 19.          0.23533594]\t 0.9392342883690045\t 0.6437292534451688\t 1.9085596673342535\t 1.9085596673342535\n",
            "21 \t [ 2.53595099  3.58249861 14.          0.85804634  5.          0.53784435]\t 0.7147790736420511\t 0.6437292534451688\t 1.9257785826036455\t 1.9257785826036455\n",
            "22 \t [ 0.34343537  0.75830465 14.          0.57372847 18.          0.51234475]\t 0.7152925670973206\t 0.6437292534451688\t 1.919343067188288\t 1.919343067188288\n",
            "23 \t [4.54498845 4.73987501 6.         0.7658368  6.         0.15012886]\t 0.9412996363676764\t 0.6437292534451688\t 1.913409599507307\t 1.913409599507307\n",
            "24 \t [4.14031595 9.74303651 8.         0.64648684 4.         0.90875697]\t 0.6785656397479644\t 0.6437292534451688\t 1.9287945008733598\t 1.9287945008733598\n",
            "25 \t [9.14387233 8.82409497 7.         0.87227821 8.         0.52464991]\t 0.73021361391417\t 0.6437292534451688\t 1.9202161121936632\t 1.9202161121936632\n",
            "\u001b[1m\u001b[92m26\u001b[0m\t \u001b[1m\u001b[92m[10.          5.5290222  15.          1.          9.02430588  1.        ]\u001b[0m\t \u001b[1m\u001b[92m0.6420895464196169\u001b[0m\t \u001b[1m\u001b[92m0.6420895464196169\u001b[0m\t \u001b[1m\u001b[92m1.9158987150919609\u001b[0m\t \u001b[1m\u001b[92m1.915898687727782\u001b[0m\n",
            "27 \t [ 2.71752202  3.17424325  5.          0.5        14.56611322  0.1       ]\t 0.9400240678270932\t 0.6420895464196169\t 1.905827657348393\t 1.9058276586396987\n",
            "28 \t [ 5.66588054  7.91454523 11.          0.93003188 12.          0.45330688]\t 0.7712523815321525\t 0.6420895464196169\t 1.919508093906661\t 1.919508093906661\n",
            "29 \t [ 9.90871158 10.         15.          1.         11.72692394  1.        ]\t 0.6432825179326151\t 0.6420895464196169\t 1.918548240946682\t 1.9185476663883323\n",
            "30 \t [ 8.96815261  3.85879208  8.84501922  1.         19.84501922  1.        ]\t 0.6627353729946039\t 0.6420895464196169\t 1.9093327136442175\t 1.9093327510924167\n"
          ]
        },
        {
          "output_type": "execute_result",
          "data": {
            "text/plain": [
              "49143.54554150723"
            ]
          },
          "metadata": {},
          "execution_count": 45
        }
      ]
    },
    {
      "cell_type": "code",
      "metadata": {
        "id": "PJmI9saAaEG1",
        "colab": {
          "base_uri": "https://localhost:8080/"
        },
        "outputId": "c0fc1c3a-c217-488c-861e-f83294530506"
      },
      "source": [
        "### Bayesian optimization runs (x20): 'exact' Acquisition Function run number = 5 \n",
        "\n",
        "np.random.seed(run_num_5)\n",
        "surrogate_exact_5 = dGaussianProcess(cov_func, optimize=opt)\n",
        "\n",
        "X_train5, X_test5, y_train5, y_test5 = train_test_split(X, y, test_size=test_perc, random_state=run_num_5)\n",
        "\n",
        "def f_syn_polarity5(alpha, gamma, max_depth, subsample, min_child_weight, colsample):\n",
        "    reg = XGBRegressor(reg_alpha=alpha, gamma=gamma, max_depth=int(max_depth), subsample=subsample, min_child_weight=min_child_weight,\n",
        "          colsample_bytree=colsample, n_estimators = n_est, random_state=run_num_5, objective = 'reg:squarederror')\n",
        "    score = np.array(cross_val_score(reg, X=X_train5, y=y_train5).mean())\n",
        "    return operator * score\n",
        "\n",
        "exact_5 = dGPGO(surrogate_exact_5, Acquisition_grad(util), f_syn_polarity5, param, n_jobs = -1) # Define BayesOpt\n",
        "exact_5.run(max_iter = max_iter, init_evals = n_init) # run\n",
        "\n",
        "### Return optimal parameters' set:\n",
        "params_exact_5 = exact_5.getResult()[0]\n",
        "params_exact_5['max_depth'] = int(params_exact_5['max_depth'])\n",
        "params_exact_5['min_child_weight'] = int(params_exact_5['min_child_weight'])\n",
        "\n",
        "### Re-train with optimal parameters, run predictons:\n",
        "dX_exact_train5 = xgb.DMatrix(X_train5, y_train5)\n",
        "dX_exact_test5 = xgb.DMatrix(X_test5, y_test5)\n",
        "model_exact_5 = xgb.train(params_exact_5, dX_exact_train5)\n",
        "pred_exact_5 = model_exact_5.predict(dX_exact_test5)\n",
        "\n",
        "rmse_exact_5 = np.sqrt(mean_squared_error(pred_exact_5, y_test5))\n",
        "rmse_exact_5"
      ],
      "execution_count": null,
      "outputs": [
        {
          "output_type": "stream",
          "name": "stdout",
          "text": [
            "Evaluation \t Proposed point \t  Current eval. \t  Best eval. \t         Max. ExactAcqFunc \t Max. ApproxAcqFunc \n",
            "init\t [ 2.21993171  8.70732306 11.          0.68186845 10.          0.53957007]\t 0.7403320965261992\t 0.7403320965261992\t    \t    \n",
            "init\t [ 6.11743863  7.65907856  5.          0.64840025 16.          0.82745351]\t 0.7493104333264211\t 0.7403320965261992\t    \t    \n",
            "init\t [ 6.49458883  8.19472793  6.          0.93996852 19.          0.36647194]\t 0.9342492295788805\t 0.7403320965261992\t    \t    \n",
            "init\t [ 6.28787909  5.7983781   6.          0.63290956 17.          0.18402673]\t 0.939514214921639\t 0.7403320965261992\t    \t    \n",
            "init\t [8.26554249 8.33492742 9.         0.97900675 3.         0.26957319]\t 0.921290745787579\t 0.7403320965261992\t    \t    \n",
            "1  \t [1.95474956 1.21548467 5.         0.65548996 6.         0.3261206 ]\t 0.9436861715841889\t 0.7403320965261992\t 2.086017782868311\t 2.086017782868311\n",
            "2  \t [ 3.90043826  0.30059527 11.          0.95660877 13.          0.16396145]\t 0.9276450520884063\t 0.7403320965261992\t 2.12526965495709\t 2.12526965495709\n",
            "\u001b[1m\u001b[92m3\u001b[0m\t \u001b[1m\u001b[92m[ 1.89102498  3.81201457 14.          0.79693323  4.          0.52365093]\u001b[0m\t \u001b[1m\u001b[92m0.7398148307506893\u001b[0m\t \u001b[1m\u001b[92m0.7398148307506893\u001b[0m\t \u001b[1m\u001b[92m2.146884107468661\u001b[0m\t \u001b[1m\u001b[92m2.146884107468661\u001b[0m\n",
            "4  \t [ 8.98063632  2.97885127  9.          0.64249728 18.          0.16342995]\t 0.9276698902289097\t 0.7398148307506893\t 2.123482793229056\t 2.123482793229056\n",
            "\u001b[1m\u001b[92m5\u001b[0m\t \u001b[1m\u001b[92m[ 7.2080363   0.14020863 14.          0.70262402  1.          0.81354205]\u001b[0m\t \u001b[1m\u001b[92m0.6989575443158274\u001b[0m\t \u001b[1m\u001b[92m0.6989575443158274\u001b[0m\t \u001b[1m\u001b[92m2.126842491196185\u001b[0m\t \u001b[1m\u001b[92m2.126842491196185\u001b[0m\n",
            "\u001b[1m\u001b[92m6\u001b[0m\t \u001b[1m\u001b[92m[10.          9.10264912 14.72032855  1.         20.          1.        ]\u001b[0m\t \u001b[1m\u001b[92m0.6465555412981011\u001b[0m\t \u001b[1m\u001b[92m0.6465555412981011\u001b[0m\t \u001b[1m\u001b[92m2.0890758939385607\u001b[0m\t \u001b[1m\u001b[92m2.089075893938556\u001b[0m\n",
            "7  \t [4.37003348 9.87890289 5.         0.65374913 7.         0.62009063]\t 0.8160533272968584\t 0.6465555412981011\t 2.0482938539049838\t 2.0482938539049838\n",
            "8  \t [ 2.68679241  7.25440098 14.          0.65390023 17.          0.99358304]\t 0.6747588495441635\t 0.6465555412981011\t 2.04422446070219\t 2.04422446070219\n",
            "9  \t [ 9.58792626  8.48977785 13.          0.60628176  9.          0.18518956]\t 0.9277423136052668\t 0.6465555412981011\t 2.016814626862905\t 2.016814626862905\n",
            "10 \t [ 6.97752806  2.98678749 10.          0.57146948  7.          0.9882264 ]\t 0.6796390241442563\t 0.6465555412981011\t 2.0361426101558115\t 2.0361426101558115\n",
            "11 \t [ 9.88162042  4.98501997  7.          0.71514689 11.          0.88825005]\t 0.6938260252917123\t 0.6465555412981011\t 2.013516489129076\t 2.013516489129076\n",
            "12 \t [ 1.24947698  9.04398434 11.          0.51619206  1.          0.25149054]\t 0.938747258179798\t 0.6465555412981011\t 1.9953398433846026\t 1.9953398433846026\n",
            "13 \t [4.29434972 2.01082809 8.         0.64047641 1.         0.68777935]\t 0.7130088179210804\t 0.6465555412981011\t 2.014499998611719\t 2.014499998611719\n",
            "14 \t [ 1.07015143  3.42246657  5.          0.5        14.46053506  0.1       ]\t 0.9483182030742092\t 0.6465555412981011\t 2.0005536731280436\t 2.000553664136885\n",
            "15 \t [ 1.02937954  1.87162456 12.          0.80403735 18.          0.49076122]\t 0.779444839237101\t 0.6465555412981011\t 2.018802533835937\t 2.018802533835937\n",
            "16 \t [ 9.85923825  0.4401096  14.          0.51176114 16.          0.65114761]\t 0.7072532974379651\t 0.6465555412981011\t 2.0134660920431493\t 2.0134660920431493\n",
            "17 \t [ 1.11081165  8.62779853  7.          0.59553888 14.          0.69059047]\t 0.7236698467146807\t 0.6465555412981011\t 2.000977650682596\t 2.000977650682596\n",
            "18 \t [ 6.81824956  0.34511024  6.          0.68216555 12.          0.49718858]\t 0.8156900149703201\t 0.6465555412981011\t 1.9911661775283158\t 1.9911661775283158\n",
            "19 \t [6.1008886  6.23991852 5.         0.5        1.         0.1       ]\t 0.9489321115478966\t 0.6465555412981011\t 1.9914643278267603\t 1.9914648827603778\n",
            "20 \t [ 2.93448298  5.80717368  5.          0.89608154 19.          0.6387738 ]\t 0.7616619440927369\t 0.6465555412981011\t 2.011891833197236\t 2.011891833197236\n",
            "21 \t [ 0.65715018  0.68213825 10.35590945  0.5         8.35590945  0.1       ]\t 0.9303219238058054\t 0.6465555412981011\t 2.000973138299605\t 2.0009724789853824\n",
            "22 \t [ 4.48662037  8.13739253 15.          1.          5.02004733  1.        ]\t 0.6473603944753747\t 0.6465555412981011\t 2.0123681649706597\t 2.0123671967421024\n",
            "23 \t [ 0.14337166  3.83051228 13.          0.67084469 13.          0.27589041]\t 0.9247196191844409\t 0.6465555412981011\t 1.998191271518173\t 1.998191271518173\n",
            "24 \t [0.  0.  5.  0.5 1.  0.1]\t 0.9489319500726727\t 0.6465555412981011\t 2.008334300249474\t 2.008333459618006\n",
            "25 \t [ 7.8290944   6.65463898 14.          0.74840184 15.          0.9196642 ]\t 0.6715421819709559\t 0.6465555412981011\t 2.02005658746319\t 2.02005658746319\n",
            "26 \t [10.          8.17895022  8.90346398  1.         15.90346398  1.        ]\t 0.6630337577107737\t 0.6465555412981011\t 2.0086809384629145\t 2.0086808832522456\n",
            "27 \t [0.         7.3454689  7.26611225 0.5        7.26611225 0.1       ]\t 0.9330522293068235\t 0.6465555412981011\t 1.9974311117355659\t 1.9974304864299515\n",
            "28 \t [9.64880583 0.85455793 9.         0.80366346 1.         0.54097439]\t 0.7473671119907898\t 0.6465555412981011\t 2.007059571334273\t 2.007059571334273\n",
            "29 \t [10.         10.         13.97702171  1.          2.97702171  1.        ]\t 0.6487055825319914\t 0.6465555412981011\t 2.00194276512845\t 2.001942422885774\n",
            "30 \t [8.33659961 0.         6.23410308 0.5        6.23410308 0.1       ]\t 0.9404086624038793\t 0.6465555412981011\t 1.9910190038185964\t 1.9910190522834053\n"
          ]
        },
        {
          "output_type": "execute_result",
          "data": {
            "text/plain": [
              "49468.85892012615"
            ]
          },
          "metadata": {},
          "execution_count": 46
        }
      ]
    },
    {
      "cell_type": "code",
      "metadata": {
        "id": "ulhEolsxaG4k",
        "colab": {
          "base_uri": "https://localhost:8080/"
        },
        "outputId": "a04d059a-2eef-4296-f51d-b01f77938aa9"
      },
      "source": [
        "### Bayesian optimization runs (x20): 'exact' Acquisition Function run number = 6 \n",
        "\n",
        "np.random.seed(run_num_6)\n",
        "surrogate_exact_6 = dGaussianProcess(cov_func, optimize=opt)\n",
        "\n",
        "X_train6, X_test6, y_train6, y_test6 = train_test_split(X, y, test_size=test_perc, random_state=run_num_6)\n",
        "\n",
        "def f_syn_polarity6(alpha, gamma, max_depth, subsample, min_child_weight, colsample):\n",
        "    reg = XGBRegressor(reg_alpha=alpha, gamma=gamma, max_depth=int(max_depth), subsample=subsample, min_child_weight=int(min_child_weight),\n",
        "          colsample_bytree=colsample, n_estimators = n_est, random_state=run_num_6, objective = 'reg:squarederror', eval_metric = 'rmse')\n",
        "    score = np.array(cross_val_score(reg, X=X_train6, y=y_train6).mean())\n",
        "    return operator * score\n",
        "\n",
        "exact_6 = dGPGO(surrogate_exact_6, Acquisition_grad(util), f_syn_polarity6, param, n_jobs = -1) # Define BayesOpt\n",
        "exact_6.run(max_iter = max_iter, init_evals = n_init) # run\n",
        "\n",
        "### Return optimal parameters' set:\n",
        "params_exact_6 = exact_6.getResult()[0]\n",
        "params_exact_6['max_depth'] = int(params_exact_6['max_depth'])\n",
        "params_exact_6['min_child_weight'] = int(params_exact_6['min_child_weight'])\n",
        "\n",
        "### Re-train with optimal parameters, run predictons:\n",
        "dX_exact_train6 = xgb.DMatrix(X_train6, y_train6)\n",
        "dX_exact_test6 = xgb.DMatrix(X_test6, y_test6)\n",
        "model_exact_6 = xgb.train(params_exact_6, dX_exact_train6)\n",
        "pred_exact_6 = model_exact_6.predict(dX_exact_test6)\n",
        "\n",
        "rmse_exact_6 = np.sqrt(mean_squared_error(pred_exact_6, y_test6))\n",
        "rmse_exact_6"
      ],
      "execution_count": null,
      "outputs": [
        {
          "output_type": "stream",
          "name": "stdout",
          "text": [
            "Evaluation \t Proposed point \t  Current eval. \t  Best eval. \t         Max. ExactAcqFunc \t Max. ApproxAcqFunc \n",
            "init\t [8.92860151 3.31979805 5.         0.99251441 2.         0.57683563]\t 0.8597082353696148\t 0.7312157182363477\t    \t    \n",
            "init\t [4.18807429 3.35407849 9.         0.87750649 3.         0.56623277]\t 0.8283267033366734\t 0.7312157182363477\t    \t    \n",
            "init\t [ 5.788586    6.45355096 14.          0.70660047 12.          0.82154882]\t 0.7312157182363477\t 0.7312157182363477\t    \t    \n",
            "init\t [4.58184578 6.73834679 5.         0.90108528 3.         0.65482895]\t 0.835804847353631\t 0.7312157182363477\t    \t    \n",
            "init\t [ 4.42510505  5.75952352 14.          0.97882365 15.          0.29525604]\t 1.0201879064028692\t 0.7312157182363477\t    \t    \n",
            "1  \t [ 2.83859384  1.8954219   7.          0.66740302 13.          0.2701964 ]\t 1.019213535386702\t 0.7312157182363477\t 2.1056923916138572\t 2.1056923916138572\n",
            "2  \t [ 8.38264396  7.97650716 14.          0.82584689  4.          0.25017455]\t 1.0290226001513474\t 0.7312157182363477\t 2.175717927173569\t 2.175717927173569\n",
            "3  \t [8.90357673 8.23982464 5.         0.66456142 9.         0.34395649]\t 1.0228902128409325\t 0.7312157182363477\t 2.2282537827525912\t 2.2282537827525912\n",
            "\u001b[1m\u001b[92m4\u001b[0m\t \u001b[1m\u001b[92m[10. 10. 15.  1. 20.  1.]\u001b[0m\t \u001b[1m\u001b[92m0.6519505196682808\u001b[0m\t \u001b[1m\u001b[92m0.6519505196682808\u001b[0m\t \u001b[1m\u001b[92m2.2647745881960963\u001b[0m\t \u001b[1m\u001b[92m2.264774588194591\u001b[0m\n",
            "5  \t [ 0.84801146  1.44124026 14.          0.54887437  7.          0.93547384]\t 0.6939533330723558\t 0.6519505196682808\t 2.200602629817521\t 2.200602629817521\n",
            "6  \t [ 8.37754293  7.69636444  8.          0.98881796 16.          0.46623185]\t 0.9234519385526558\t 0.6519505196682808\t 2.155767514232131\t 2.155767514232131\n",
            "7  \t [ 0.5654966   9.52584762 14.          0.82016688  4.          0.10717254]\t 1.0610911324495744\t 0.6519505196682808\t 2.16563821183729\t 2.16563821183729\n",
            "8  \t [ 6.75909949  0.94220097  9.          0.71741448 19.          0.94972086]\t 0.6895189879978737\t 0.6519505196682808\t 2.205020094222303\t 2.205020094222303\n",
            "9  \t [ 1.43292764  9.31823681  5.          0.51738676 10.          0.30600768]\t 1.0250396556181756\t 0.6519505196682808\t 2.1701423344908135\t 2.1701423344908135\n",
            "10 \t [ 0.09135886  8.11961466 10.          0.74013552 12.          0.97362941]\t 0.6832941408312798\t 0.6519505196682808\t 2.196230970775582\t 2.196230970775582\n",
            "11 \t [0.  0.  5.  0.5 1.  0.1]\t 1.0641944470930125\t 0.6519505196682808\t 2.164926030369782\t 2.1649260303314812\n",
            "12 \t [ 2.98453858  8.8700865   6.          0.73955182 19.          0.28620498]\t 1.0180101584031926\t 0.6519505196682808\t 2.19553132063297\t 2.19553132063297\n",
            "13 \t [ 8.10242703  1.00723999  8.          0.85100455 12.          0.45856376]\t 0.9258125865874908\t 0.6519505196682808\t 2.214140471437163\t 2.214140471439169\n",
            "14 \t [9.89801174 9.77563967 9.         0.68555662 3.         0.83921118]\t 0.73813303625317\t 0.6519505196682808\t 2.216847799636256\t 2.216847799636256\n",
            "15 \t [ 0.50127522  1.94924928 11.          0.89270197 19.          0.91286914]\t 0.6768798166626013\t 0.6519505196682808\t 2.197229149027005\t 2.197229149027005\n",
            "16 \t [ 7.61299111  2.26128634 14.          0.96291638  9.          0.36475064]\t 1.0230023185305606\t 0.6519505196682808\t 2.1734018433195708\t 2.1734018433195708\n",
            "17 \t [5.45577791 0.01600384 5.         0.68033296 5.         0.47973584]\t 0.9614697348345509\t 0.6519505196682808\t 2.190700258561131\t 2.190700258561131\n",
            "18 \t [0.75190021 2.99821111 7.         0.73112778 8.         0.11979456]\t 1.060673835734707\t 0.6519505196682808\t 2.1984373594105633\t 2.1984373594105633\n",
            "19 \t [ 5.98453698  2.00451687 13.          0.80337068 13.          0.24875337]\t 1.0599380721478096\t 0.6519505196682808\t 2.217315751842749\t 2.217315751842749\n",
            "\u001b[1m\u001b[92m20\u001b[0m\t \u001b[1m\u001b[92m[10.         10.         15.          1.         10.94369947  1.        ]\u001b[0m\t \u001b[1m\u001b[92m0.6508492739606521\u001b[0m\t \u001b[1m\u001b[92m0.6508492739606521\u001b[0m\t \u001b[1m\u001b[92m2.2341399623201443\u001b[0m\t \u001b[1m\u001b[92m2.23413898749319\u001b[0m\n",
            "21 \t [4.70222718 7.76335614 9.         0.92367012 9.         0.28724782]\t 1.0152545517792837\t 0.6508492739606521\t 2.2123429631750042\t 2.2123429631750042\n",
            "22 \t [ 0.15151883  3.04875397  5.          0.61495161 19.          0.79420245]\t 0.7938992290953346\t 0.6508492739606521\t 2.2235236637062945\t 2.2235236637062945\n",
            "23 \t [0.09752792 7.56070281 9.         0.95937939 3.         0.71279346]\t 0.7751689886400943\t 0.6508492739606521\t 2.213601731912017\t 2.213601731912017\n",
            "24 \t [ 9.56781732  5.53391008 14.00008741  0.95163253 15.50030508  0.88693115]\t 0.6767037385221927\t 0.6508492739606521\t 2.2033505747447504\t 2.2033505747445474\n",
            "25 \t [ 3.81847995  9.43141013 12.          0.56182914 19.          0.95661081]\t 0.6893334668436607\t 0.6508492739606521\t 2.1867989199063764\t 2.1867989199063764\n",
            "26 \t [ 8.9710907   1.42533194 14.          0.83283676  2.          0.95624906]\t 0.683895121854963\t 0.6508492739606521\t 2.17182712978943\t 2.17182712978943\n",
            "27 \t [ 2.45976395  4.44824812 15.          1.         20.          1.        ]\t 0.6519494867924734\t 0.6508492739606521\t 2.15759028258712\t 2.157591240545729\n",
            "28 \t [10.          3.25988789 12.40163262  1.         20.          1.        ]\t 0.6526577384353626\t 0.6508492739606521\t 2.14229140717745\t 2.142291010674177\n",
            "29 \t [ 1.0021313   4.9490761  14.          0.62016719  1.          0.18537333]\t 1.0636257139268357\t 0.6508492739606521\t 2.127859906635798\t 2.127859906635798\n",
            "30 \t [ 4.46432054  1.37976416 14.          0.91350827  1.          0.70455501]\t 0.786373065109467\t 0.6508492739606521\t 2.1436063820739237\t 2.1436063820739237\n"
          ]
        },
        {
          "output_type": "execute_result",
          "data": {
            "text/plain": [
              "48097.64481046575"
            ]
          },
          "metadata": {},
          "execution_count": 47
        }
      ]
    },
    {
      "cell_type": "code",
      "metadata": {
        "id": "bYebx3RVaJ1w",
        "colab": {
          "base_uri": "https://localhost:8080/"
        },
        "outputId": "84525a30-38de-4fb2-adba-f2ec41a17e98"
      },
      "source": [
        "### Bayesian optimization runs (x20): 'exact' Acquisition Function run number = 7 \n",
        "\n",
        "np.random.seed(run_num_7)\n",
        "surrogate_exact_7 = dGaussianProcess(cov_func, optimize=opt)\n",
        "\n",
        "X_train7, X_test7, y_train7, y_test7 = train_test_split(X, y, test_size=test_perc, random_state=run_num_7)\n",
        "\n",
        "def f_syn_polarity7(alpha, gamma, max_depth, subsample, min_child_weight, colsample):\n",
        "    reg = XGBRegressor(reg_alpha=alpha, gamma=gamma, max_depth=int(max_depth), subsample=subsample, min_child_weight=min_child_weight,\n",
        "          colsample_bytree=colsample, n_estimators = n_est, random_state=run_num_7, objective = 'reg:squarederror')\n",
        "    score = np.array(cross_val_score(reg, X=X_train7, y=y_train7).mean())\n",
        "    return operator * score\n",
        "\n",
        "exact_7 = dGPGO(surrogate_exact_7, Acquisition_grad(util), f_syn_polarity7, param, n_jobs = -1) # Define BayesOpt\n",
        "exact_7.run(max_iter = max_iter, init_evals = n_init) # run\n",
        "\n",
        "### Return optimal parameters' set:\n",
        "params_exact_7 = exact_7.getResult()[0]\n",
        "params_exact_7['max_depth'] = int(params_exact_7['max_depth'])\n",
        "params_exact_7['min_child_weight'] = int(params_exact_7['min_child_weight'])\n",
        "\n",
        "### Re-train with optimal parameters, run predictons:\n",
        "dX_exact_train7 = xgb.DMatrix(X_train7, y_train7)\n",
        "dX_exact_test7 = xgb.DMatrix(X_test7, y_test7)\n",
        "model_exact_7 = xgb.train(params_exact_7, dX_exact_train7)\n",
        "pred_exact_7 = model_exact_7.predict(dX_exact_test7)\n",
        "\n",
        "rmse_exact_7 = np.sqrt(mean_squared_error(pred_exact_7, y_test7))\n",
        "rmse_exact_7"
      ],
      "execution_count": null,
      "outputs": [
        {
          "output_type": "stream",
          "name": "stdout",
          "text": [
            "Evaluation \t Proposed point \t  Current eval. \t  Best eval. \t         Max. ExactAcqFunc \t Max. ApproxAcqFunc \n",
            "init\t [0.76308289 7.79918792 8.         0.98911145 8.         0.98019056]\t 0.6599162825175136\t 0.6529031062312245\t    \t    \n",
            "init\t [ 5.3849587   5.01120464 13.          0.74994125  5.          0.88192131]\t 0.6529031062312245\t 0.6529031062312245\t    \t    \n",
            "init\t [ 3.30839249  3.9294231  12.          0.6440728  13.          0.41137564]\t 0.7849988476524127\t 0.6529031062312245\t    \t    \n",
            "init\t [9.29528191 2.6258377  5.         0.80027446 1.         0.86616513]\t 0.7434573966703171\t 0.6529031062312245\t    \t    \n",
            "init\t [ 1.74052764  7.90763512 14.          0.7244129   4.          0.77536887]\t 0.6887936732176462\t 0.6529031062312245\t    \t    \n",
            "1  \t [3.43305102 3.00339076 8.         0.71322679 4.         0.33322219]\t 0.8461730749178773\t 0.6529031062312245\t 1.7338384748855904\t 1.7338384748855904\n",
            "2  \t [ 8.27276329  5.80705371  6.          0.6575149  16.          0.66596626]\t 0.7280339284910606\t 0.6529031062312245\t 1.7947615684633749\t 1.7947615684633749\n",
            "3  \t [ 8.97988092  8.79483413 14.          0.55379557 13.          0.92924117]\t 0.6571137209723783\t 0.6529031062312245\t 1.7931304837411781\t 1.7931304837411781\n",
            "4  \t [ 6.31879092  0.69939064  5.          0.5769645  12.          0.84874959]\t 0.7458231993222018\t 0.6529031062312245\t 1.7712291141555219\t 1.7712291141555219\n",
            "5  \t [ 9.90436619  1.68371673 11.          0.68947817 16.          0.400226  ]\t 0.7838758112536788\t 0.6529031062312245\t 1.7774989746787417\t 1.7774989746787417\n",
            "6  \t [ 2.27614069  9.14855814 13.          0.84138599 18.          0.79014716]\t 0.6787899501779286\t 0.6529031062312245\t 1.7922693660785078\t 1.7922693660785078\n",
            "7  \t [ 0.63761793  0.73483023 14.          0.60715475  1.          0.28353184]\t 0.8531322761504475\t 0.6529031062312245\t 1.780878898738109\t 1.780878898738109\n",
            "8  \t [ 1.95327375  0.09413692  7.          0.63967551 19.          0.52105045]\t 0.718715865573951\t 0.6529031062312245\t 1.8086327925263346\t 1.8086327925263346\n",
            "9  \t [5.70513125 8.30861013 6.         0.98680016 3.         0.16134411]\t 0.9984088714580504\t 0.6529031062312245\t 1.8049750541502487\t 1.8049750541502487\n",
            "10 \t [ 0.25030147  5.86047618  7.          0.62148035 15.          0.70956246]\t 0.7144935773647406\t 0.6529031062312245\t 1.8580726169681439\t 1.8580726169681439\n",
            "11 \t [0.         0.         5.         0.5        9.74109616 0.1       ]\t 1.0011007755268673\t 0.6529031062312245\t 1.8510736897201887\t 1.8510736788980535\n",
            "12 \t [9.93412004 7.01728008 6.         0.60790736 8.         0.46475011]\t 0.8183353504315909\t 0.6529031062312245\t 1.8942396858307937\t 1.8942396858307937\n",
            "13 \t [ 9.74185418  1.9812272  14.          0.94068286 10.          0.45784207]\t 0.7792188999132433\t 0.6529031062312245\t 1.9009025750898323\t 1.9009025750898323\n",
            "14 \t [ 5.05369665  2.67147005  5.          0.51290284 10.          0.64085   ]\t 0.7504591409344632\t 0.6529031062312245\t 1.9013361180517743\t 1.9013361180517743\n",
            "15 \t [ 7.27698082  9.82692974 11.          0.6446349   1.          0.67673022]\t 0.6974468561044718\t 0.6529031062312245\t 1.8980658380477538\t 1.8980658380477538\n",
            "\u001b[1m\u001b[92m16\u001b[0m\t \u001b[1m\u001b[92m[10. 10. 15.  1. 20.  1.]\u001b[0m\t \u001b[1m\u001b[92m0.6415746011828174\u001b[0m\t \u001b[1m\u001b[92m0.6415746011828174\u001b[0m\t \u001b[1m\u001b[92m1.8882888736910537\u001b[0m\t \u001b[1m\u001b[92m1.8882886952892257\u001b[0m\n",
            "17 \t [ 0.08258912  2.04682383 12.          0.59206459 18.          0.58057909]\t 0.6960149194291863\t 0.6415746011828174\t 1.8744173480725708\t 1.8744173480725708\n",
            "18 \t [ 7.87862448  0.37268652 11.          0.83129981  1.          0.83621209]\t 0.6910349298616485\t 0.6415746011828174\t 1.867045221709651\t 1.867045221709651\n",
            "19 \t [ 5.28371353  3.6868484  11.          0.82200641 19.          0.12021404]\t 0.9924220081561828\t 0.6415746011828174\t 1.8598040713103265\t 1.8598041321461682\n",
            "20 \t [0.         2.85774827 5.         0.5        1.         0.1       ]\t 1.0017306757451643\t 0.6415746011828174\t 1.8870549348465233\t 1.8870544757987868\n",
            "21 \t [ 5.0398281   1.39537705 13.          0.78131563  9.          0.78164875]\t 0.68352995842156\t 0.6415746011828174\t 1.9135348786444009\t 1.9135348786444009\n",
            "\u001b[1m\u001b[92m22\u001b[0m\t \u001b[1m\u001b[92m[ 5.00129372  9.30964692 15.          1.          9.57717461  1.        ]\u001b[0m\t \u001b[1m\u001b[92m0.6381380599742951\u001b[0m\t \u001b[1m\u001b[92m0.6381380599742951\u001b[0m\t \u001b[1m\u001b[92m1.9043214003651179\u001b[0m\t \u001b[1m\u001b[92m1.9043213009991729\u001b[0m\n",
            "23 \t [ 4.45475741  9.04863317  5.          0.93353577 13.          0.79638216]\t 0.7447620295741274\t 0.6381380599742951\t 1.8927815105541088\t 1.8927815105541088\n",
            "24 \t [ 7.66468312  8.14667958  8.78373632  1.         19.78373632  1.        ]\t 0.6608286075361031\t 0.6381380599742951\t 1.890377361182037\t 1.8903768023064118\n",
            "25 \t [10.         10.         10.76872843  1.          6.76872843  1.        ]\t 0.643490965867324\t 0.6381380599742951\t 1.881662622132819\t 1.8816614929080797\n",
            "26 \t [7.682941   3.89268106 6.         0.79195699 6.         0.59903885]\t 0.73375115736573\t 0.6381380599742951\t 1.8727888232033258\t 1.8727888232033258\n",
            "27 \t [5.81424403 8.61077121 9.         0.96496634 9.         0.25956361]\t 0.8375529567895306\t 0.6381380599742951\t 1.8699065107602042\t 1.8699076093628881\n",
            "28 \t [4.62271649 0.         5.         0.5        1.         0.1       ]\t 1.0017571281882154\t 0.6381380599742951\t 1.875850001387292\t 1.8758508012974715\n",
            "29 \t [ 9.92745389  2.10791379  6.          0.91867901 19.          0.37494465]\t 0.8675172360459502\t 0.6381380599742951\t 1.8964124831991265\t 1.8964124831991265\n",
            "30 \t [ 0.83988096  8.81297503 13.          0.79448275 13.          0.32240045]\t 0.8343155616914754\t 0.6381380599742951\t 1.903526591544172\t 1.903526591544172\n"
          ]
        },
        {
          "output_type": "execute_result",
          "data": {
            "text/plain": [
              "49346.0589810043"
            ]
          },
          "metadata": {},
          "execution_count": 48
        }
      ]
    },
    {
      "cell_type": "code",
      "metadata": {
        "id": "xk0IPTSTbIl3",
        "colab": {
          "base_uri": "https://localhost:8080/"
        },
        "outputId": "a498d5be-8282-40f2-dcd4-f829386a12c1"
      },
      "source": [
        "### Bayesian optimization runs (x20): 'exact' Acquisition Function run number = 8 \n",
        "\n",
        "np.random.seed(run_num_8)\n",
        "surrogate_exact_8 = dGaussianProcess(cov_func, optimize=opt)\n",
        "\n",
        "X_train8, X_test8, y_train8, y_test8 = train_test_split(X, y, test_size=test_perc, random_state=run_num_8)\n",
        "\n",
        "def f_syn_polarity8(alpha, gamma, max_depth, subsample, min_child_weight, colsample):\n",
        "    reg = XGBRegressor(reg_alpha=alpha, gamma=gamma, max_depth=int(max_depth), subsample=subsample, min_child_weight=min_child_weight,\n",
        "          colsample_bytree=colsample, n_estimators = n_est, random_state=run_num_8, objective = 'reg:squarederror')\n",
        "    score = np.array(cross_val_score(reg, X=X_train8, y=y_train8).mean())\n",
        "    return operator * score\n",
        "\n",
        "exact_8 = dGPGO(surrogate_exact_8, Acquisition_grad(util), f_syn_polarity8, param, n_jobs = -1) # Define BayesOpt\n",
        "exact_8.run(max_iter = max_iter, init_evals = n_init) # run\n",
        "\n",
        "### Return optimal parameters' set:\n",
        "params_exact_8 = exact_8.getResult()[0]\n",
        "params_exact_8['max_depth'] = int(params_exact_8['max_depth'])\n",
        "params_exact_8['min_child_weight'] = int(params_exact_8['min_child_weight'])\n",
        "\n",
        "### Re-train with optimal parameters, run predictons:\n",
        "dX_exact_train8 = xgb.DMatrix(X_train8, y_train8)\n",
        "dX_exact_test8 = xgb.DMatrix(X_test8, y_test8)\n",
        "model_exact_8 = xgb.train(params_exact_8, dX_exact_train8)\n",
        "pred_exact_8 = model_exact_8.predict(dX_exact_test8)\n",
        "\n",
        "rmse_exact_8 = np.sqrt(mean_squared_error(pred_exact_8, y_test8))\n",
        "rmse_exact_8"
      ],
      "execution_count": null,
      "outputs": [
        {
          "output_type": "stream",
          "name": "stdout",
          "text": [
            "Evaluation \t Proposed point \t  Current eval. \t  Best eval. \t         Max. ExactAcqFunc \t Max. ApproxAcqFunc \n",
            "init\t [ 8.73429403  9.68540663 10.          0.68875849  9.          0.48011572]\t 0.8097437093843076\t 0.6653168057229354\t    \t    \n",
            "init\t [ 6.12033333  7.66062926  8.          0.76133734 13.          0.93379456]\t 0.676783388491471\t 0.6653168057229354\t    \t    \n",
            "init\t [ 1.46524679  7.01527914  7.          0.90913299 10.          0.36016753]\t 0.8290150461838799\t 0.6653168057229354\t    \t    \n",
            "init\t [ 9.73855241  3.33774046 14.          0.53290419  7.          0.7088681 ]\t 0.704280612172438\t 0.6653168057229354\t    \t    \n",
            "init\t [ 3.00618018  1.82702795 11.          0.75681389 14.          0.98627449]\t 0.6653168057229354\t 0.6653168057229354\t    \t    \n",
            "1  \t [4.42022545 5.48487111 9.         0.97165909 3.         0.63617522]\t 0.6939807861210728\t 0.6653168057229354\t 1.8131670239717785\t 1.8131670239717785\n",
            "2  \t [ 4.42530022  8.86662399 12.          0.55390756 19.          0.26906902]\t 0.8292448989696929\t 0.6653168057229354\t 1.7947851365062013\t 1.7947851365062013\n",
            "3  \t [ 9.08237751  2.49680746  6.          0.65941352 17.          0.68321352]\t 0.7238654894117781\t 0.6653168057229354\t 1.8304333727762034\t 1.8304333727762034\n",
            "4  \t [ 2.65017214  0.71847009 13.          0.73718634  4.          0.80301028]\t 0.6751159047919135\t 0.6653168057229354\t 1.8233654575670222\t 1.8233654575670222\n",
            "5  \t [ 2.71549468  6.59835463  5.          0.95307649 18.          0.8022723 ]\t 0.7298305735353544\t 0.6653168057229354\t 1.8053004320903427\t 1.8053004320903427\n",
            "6  \t [8.02691358 0.52300563 6.         0.98815878 7.         0.44490514]\t 0.8276007354468167\t 0.6653168057229354\t 1.8035492907971904\t 1.8035492907971904\n",
            "7  \t [ 8.83774177  5.41674027 14.          0.73954397  1.          0.31035075]\t 0.8412489648220683\t 0.6653168057229354\t 1.8250139397674818\t 1.8250139397674818\n",
            "\u001b[1m\u001b[92m8\u001b[0m\t \u001b[1m\u001b[92m[10. 10. 15.  1. 20.  1.]\u001b[0m\t \u001b[1m\u001b[92m0.6454226853941064\u001b[0m\t \u001b[1m\u001b[92m0.6454226853941064\u001b[0m\t \u001b[1m\u001b[92m1.8457978160193544\u001b[0m\t \u001b[1m\u001b[92m1.8457978159725918\u001b[0m\n",
            "9  \t [0.  0.  5.  0.5 1.  0.1]\t 0.9366264008615343\t 0.6454226853941064\t 1.8267890644755842\t 1.8267890644726272\n",
            "10 \t [ 9.10556495  0.26506496 13.          0.920006   16.          0.11711319]\t 0.9294301012904793\t 0.6454226853941064\t 1.8640714212274787\t 1.8640714212274787\n",
            "11 \t [9.23421894 1.96715525 6.         0.84213684 1.         0.28111445]\t 0.8403741678101049\t 0.6454226853941064\t 1.8943725988706204\t 1.8943725988706204\n",
            "12 \t [ 8.78489361  6.07405176 13.          0.94922041 14.          0.63892045]\t 0.6876296775669728\t 0.6454226853941064\t 1.9050440547642904\t 1.9050440547642904\n",
            "13 \t [ 9.08307561  9.73616604  5.          0.74596783 18.          0.23735578]\t 0.9373386140641772\t 0.6454226853941064\t 1.8927740593484146\t 1.8927740593484146\n",
            "14 \t [ 1.35924905  5.41793837 14.          0.87246457  8.          0.19493237]\t 0.9296907918318995\t 0.6454226853941064\t 1.9174006758527897\t 1.9174006758527897\n",
            "15 \t [3.63587924 9.92644255 5.         0.74785877 1.         0.42737692]\t 0.8438702768074448\t 0.6454226853941064\t 1.9380085548549284\t 1.9380085548549284\n",
            "16 \t [0.05861183 0.85510206 7.         0.55669041 9.         0.24118856]\t 0.9320720399646423\t 0.6454226853941064\t 1.9446648296449736\t 1.9446648296449736\n",
            "17 \t [ 0.09889076  5.63526532 14.          0.81316857 16.          0.71340054]\t 0.6907172665844576\t 0.6454226853941064\t 1.9621042726340947\t 1.9621042726340947\n",
            "18 \t [7.03420555 6.86511317 6.         0.99570411 7.         0.89816896]\t 0.7028525133662334\t 0.6454226853941064\t 1.9506347234761146\t 1.9506347234761146\n",
            "19 \t [ 1.3544572   9.55649539 12.          0.53328948 12.          0.91626416]\t 0.6731132832963013\t 0.6454226853941064\t 1.9412397695472074\t 1.9412397695472074\n",
            "20 \t [ 1.37842187  7.92618907 14.          0.53493538  2.          0.9994541 ]\t 0.6778496323948628\t 0.6454226853941064\t 1.9299390808181411\t 1.9299390808181411\n",
            "\u001b[1m\u001b[92m21\u001b[0m\t \u001b[1m\u001b[92m[ 7.2710967   4.1300803  12.89996749  1.         18.89996749  1.        ]\u001b[0m\t \u001b[1m\u001b[92m0.6437683046890322\u001b[0m\t \u001b[1m\u001b[92m0.6437683046890322\u001b[0m\t \u001b[1m\u001b[92m1.9198837599239513\u001b[0m\t \u001b[1m\u001b[92m1.9198841042875499\u001b[0m\n",
            "22 \t [ 0.76637948  1.6718521   5.          0.89180884 15.          0.76035097]\t 0.7285188069721016\t 0.6437683046890322\t 1.9078326864889525\t 1.9078326864889525\n",
            "23 \t [10.         10.         15.          1.          4.81254913  1.        ]\t 0.6457070766459646\t 0.6437683046890322\t 1.903407223264043\t 1.903406823592179\n",
            "24 \t [0.         3.62609878 5.         0.5        5.2983855  0.1       ]\t 0.9363375899786289\t 0.6437683046890322\t 1.8928580188736617\t 1.8928576909305668\n",
            "25 \t [ 2.00363843  0.25557305 13.          0.79852696 19.          0.41982126]\t 0.8045050796386125\t 0.6437683046890322\t 1.9080762566753933\t 1.9080762566753933\n",
            "26 \t [ 9.52083942  2.81740018  8.57671086  1.         10.57671086  1.        ]\t 0.6646779353618895\t 0.6437683046890322\t 1.910193472107229\t 1.9101928893089486\n",
            "27 \t [ 7.15040543  9.72926644 14.          0.63776297 15.          0.43073814]\t 0.8100270760776773\t 0.6437683046890322\t 1.901748330586038\t 1.901748330586038\n",
            "28 \t [ 5.81852673  5.98213093 14.          0.56622599 10.          0.77542331]\t 0.6825078483491837\t 0.6437683046890322\t 1.9043774274728276\t 1.9043774274728276\n",
            "29 \t [ 9.6464663   0.98885701  8.          0.8054878  19.          0.70201828]\t 0.699572467500549\t 0.6437683046890322\t 1.8977483838794575\t 1.8977483838794575\n",
            "30 \t [8.66270612 8.68970778 9.         0.80306345 1.         0.23433357]\t 0.9299168982143875\t 0.6437683046890322\t 1.8923481463037664\t 1.8923481463037664\n"
          ]
        },
        {
          "output_type": "execute_result",
          "data": {
            "text/plain": [
              "51118.12299299014"
            ]
          },
          "metadata": {},
          "execution_count": 49
        }
      ]
    },
    {
      "cell_type": "code",
      "metadata": {
        "id": "9UroEj_RbLSb",
        "colab": {
          "base_uri": "https://localhost:8080/"
        },
        "outputId": "5e466eed-8747-42e5-a674-07d1ace2ae17"
      },
      "source": [
        "### Bayesian optimization runs (x20): 'exact' Acquisition Function run number = 9 \n",
        "\n",
        "np.random.seed(run_num_9)\n",
        "surrogate_exact_9 = dGaussianProcess(cov_func, optimize=opt)\n",
        "\n",
        "X_train9, X_test9, y_train9, y_test9 = train_test_split(X, y, test_size=test_perc, random_state=run_num_9)\n",
        "\n",
        "def f_syn_polarity9(alpha, gamma, max_depth, subsample, min_child_weight, colsample):\n",
        "    reg = XGBRegressor(reg_alpha=alpha, gamma=gamma, max_depth=int(max_depth), subsample=subsample, min_child_weight=min_child_weight,\n",
        "          colsample_bytree=colsample, n_estimators = n_est, random_state=run_num_9, objective = 'reg:squarederror')\n",
        "    score = np.array(cross_val_score(reg, X=X_train9, y=y_train9).mean())\n",
        "    return operator * score\n",
        "\n",
        "exact_9 = dGPGO(surrogate_exact_9, Acquisition_grad(util), f_syn_polarity9, param, n_jobs = -1) # Define BayesOpt\n",
        "exact_9.run(max_iter = max_iter, init_evals = n_init) # run\n",
        "\n",
        "### Return optimal parameters' set:\n",
        "params_exact_9 = exact_9.getResult()[0]\n",
        "params_exact_9['max_depth'] = int(params_exact_9['max_depth'])\n",
        "params_exact_9['min_child_weight'] = int(params_exact_9['min_child_weight'])\n",
        "\n",
        "### Re-train with optimal parameters, run predictons:\n",
        "dX_exact_train9 = xgb.DMatrix(X_train9, y_train9)\n",
        "dX_exact_test9 = xgb.DMatrix(X_test9, y_test9)\n",
        "model_exact_9 = xgb.train(params_exact_9, dX_exact_train9)\n",
        "pred_exact_9 = model_exact_9.predict(dX_exact_test9)\n",
        "\n",
        "rmse_exact_9 = np.sqrt(mean_squared_error(pred_exact_9, y_test9))\n",
        "rmse_exact_9"
      ],
      "execution_count": null,
      "outputs": [
        {
          "output_type": "stream",
          "name": "stdout",
          "text": [
            "Evaluation \t Proposed point \t  Current eval. \t  Best eval. \t         Max. ExactAcqFunc \t Max. ApproxAcqFunc \n",
            "init\t [ 0.10374154  5.01874592 11.          0.50377155  2.          0.29670281]\t 0.8449026536729003\t 0.6448358819228919\t    \t    \n",
            "init\t [ 4.18508181  2.48101168 13.          0.69794293  2.          0.25009871]\t 0.8430936233516066\t 0.6448358819228919\t    \t    \n",
            "init\t [ 8.78559086  9.50964032 13.          0.98395204 11.          0.90820641]\t 0.6448358819228919\t 0.6448358819228919\t    \t    \n",
            "init\t [ 6.66898973  5.47837783  6.          0.97165345 12.          0.72499481]\t 0.7455250925664565\t 0.6448358819228919\t    \t    \n",
            "init\t [ 8.24870465  4.65668475 13.          0.68760467  9.          0.98502332]\t 0.6542440322310401\t 0.6448358819228919\t    \t    \n",
            "1  \t [6.73714319 2.39608167 5.         0.58130302 3.         0.163077  ]\t 1.0516333409565926\t 0.6448358819228919\t 1.8409748247847018\t 1.8409748247847018\n",
            "2  \t [9.23885705 0.0495141  9.         0.5847098  7.         0.79832927]\t 0.6774051522557019\t 0.6448358819228919\t 1.9824874632448024\t 1.9824874632448024\n",
            "3  \t [ 3.67545472  4.78145311 14.          0.63123486 17.          0.4863889 ]\t 0.7930932442681178\t 0.6448358819228919\t 1.939617224212438\t 1.939617224212438\n",
            "4  \t [ 0.19525707  9.62416422  9.          0.85280832 10.          0.52998476]\t 0.7396199848029671\t 0.6448358819228919\t 1.9399995103836638\t 1.9399995103836638\n",
            "5  \t [ 1.86381009  9.16177979  5.          0.9344438  17.          0.81379931]\t 0.7377720407232845\t 0.6448358819228919\t 1.9261652145809063\t 1.9261652145809063\n",
            "6  \t [ 2.35563756  1.41309797  5.          0.61127581 14.          0.85229383]\t 0.7381603779527465\t 0.6448358819228919\t 1.9145978718862895\t 1.9145978718862895\n",
            "7  \t [0.  0.  5.  0.5 1.  0.1]\t 1.0517934452387856\t 0.6448358819228919\t 1.905163876737643\t 1.9051638767372923\n",
            "8  \t [ 9.89935012  1.80411649  9.          0.642097   16.          0.9768379 ]\t 0.6624923928604278\t 0.6448358819228919\t 1.9698509239970101\t 1.9698509239970101\n",
            "9  \t [ 0.30581668  9.33751049 12.          0.80943195 19.          0.44519139]\t 0.788150408197674\t 0.6448358819228919\t 1.9453519278636928\t 1.9453519278636928\n",
            "10 \t [ 0.67105095  0.94101024 14.          0.7967074   8.          0.63229074]\t 0.6948006463812106\t 0.6448358819228919\t 1.9442997220730338\t 1.9442997220730338\n",
            "11 \t [ 7.69830016  7.83404591 13.          0.63442501  2.          0.36725242]\t 0.842436384626135\t 0.6448358819228919\t 1.9290880795507852\t 1.9290880795507852\n",
            "12 \t [1.13081555 8.89608809 5.         0.68242063 1.         0.25767085]\t 0.8508904111239197\t 0.6448358819228919\t 1.9377646029565745\t 1.9377646029565745\n",
            "13 \t [10.          7.80511878 15.          1.         20.          1.        ]\t 0.6505488267879174\t 0.6448358819228919\t 1.9466867108091606\t 1.9466867108072479\n",
            "14 \t [ 4.6542071   1.48576825 11.          0.81087875 13.          0.32744452]\t 0.8333502680307973\t 0.6448358819228919\t 1.9287629206084895\t 1.9287629206084895\n",
            "15 \t [9.88943457 8.53804591 8.         0.65243257 7.         0.28069664]\t 0.8352977818443392\t 0.6448358819228919\t 1.9348481336333843\t 1.9348481336333843\n",
            "16 \t [1.12068613 5.38370759 5.         0.59812309 7.         0.55127392]\t 0.7957827851423114\t 0.6448358819228919\t 1.9405598408000833\t 1.9405598408000833\n",
            "17 \t [ 7.81834149  9.72965303  8.          0.64259089 17.          0.22077726]\t 1.0465197239444557\t 0.6448358819228919\t 1.9409751177406498\t 1.9409751177406498\n",
            "18 \t [ 9.00084206  1.85673124 10.          0.98011614  2.          0.25530052]\t 0.83279328574821\t 0.6448358819228919\t 1.9735328058925432\t 1.9735328058925432\n",
            "19 \t [ 1.5375546   6.06327242 13.          0.75086004 12.          0.81590341]\t 0.6618581672592485\t 0.6448358819228919\t 1.9764653895852546\t 1.9764653895852546\n",
            "20 \t [ 4.49089064  7.04035213 10.          0.71518167  6.          0.54341653]\t 0.7431428744858811\t 0.6448358819228919\t 1.9629473532440525\t 1.9629473532440525\n",
            "21 \t [ 4.2953213   0.27911896 10.          0.9783586  19.          0.46300401]\t 0.7860315206098012\t 0.6448358819228919\t 1.9574418086491523\t 1.9574418086491523\n",
            "22 \t [ 6.00011977  5.16081767  6.          0.83034316 19.          0.20760473]\t 1.0484753830587141\t 0.6448358819228919\t 1.9562184914757272\t 1.9562184914757272\n",
            "23 \t [3.28978779 1.18048837 9.         0.79741221 5.         0.15669852]\t 1.0467260574119817\t 0.6448358819228919\t 1.9822584410675146\t 1.9822584410675146\n",
            "24 \t [ 3.74834789  9.93946975 10.          0.52571565  1.          0.6614516 ]\t 0.7187682581856685\t 0.6448358819228919\t 2.0059389296807266\t 2.0059389296807266\n",
            "25 \t [ 0.          6.95312426  5.          0.5        12.52762629  0.1       ]\t 1.0518144393328384\t 0.6448358819228919\t 1.997981120233451\t 1.9979811200154327\n",
            "26 \t [ 2.6116157   9.96913447 13.          0.85452594  8.          0.87833359]\t 0.6481765931528018\t 0.6448358819228919\t 2.0199327066011588\t 2.0199327066011588\n",
            "27 \t [5.96338281 7.43745558 6.         0.95219878 2.         0.95757005]\t 0.6956794677502447\t 0.6448358819228919\t 2.0074416106744946\t 2.0074423260516627\n",
            "28 \t [7.20425099 1.56266186 5.         0.88211354 9.         0.78887069]\t 0.7368960706458181\t 0.6448358819228919\t 1.998659371132525\t 1.998659371132525\n",
            "29 \t [ 4.3882931   7.21586896  9.          0.93421279 16.          0.9902477 ]\t 0.6576348485163184\t 0.6448358819228919\t 1.9930671607009884\t 1.9930676492330595\n",
            "30 \t [ 0.13180157  0.51738182 13.          0.74380693 15.          0.82527503]\t 0.6608833650110759\t 0.6448358819228919\t 1.9828782707300476\t 1.9828782707300476\n"
          ]
        },
        {
          "output_type": "execute_result",
          "data": {
            "text/plain": [
              "48075.00995818073"
            ]
          },
          "metadata": {},
          "execution_count": 50
        }
      ]
    },
    {
      "cell_type": "code",
      "metadata": {
        "id": "7VgaJOoJbOIE",
        "colab": {
          "base_uri": "https://localhost:8080/"
        },
        "outputId": "794bedd6-197b-4466-9978-7f90121c9167"
      },
      "source": [
        "### Bayesian optimization runs (x20): 'exact' Acquisition Function run number = 10 \n",
        "\n",
        "np.random.seed(run_num_10)\n",
        "surrogate_exact_10 = dGaussianProcess(cov_func, optimize=opt)\n",
        "\n",
        "X_train10, X_test10, y_train10, y_test10 = train_test_split(X, y, test_size=test_perc, random_state=run_num_10)\n",
        "\n",
        "def f_syn_polarity10(alpha, gamma, max_depth, subsample, min_child_weight, colsample):\n",
        "    reg = XGBRegressor(reg_alpha=alpha, gamma=gamma, max_depth=int(max_depth), subsample=subsample, min_child_weight=min_child_weight,\n",
        "          colsample_bytree=colsample, n_estimators = n_est, random_state=run_num_10, objective = 'reg:squarederror')\n",
        "    score = np.array(cross_val_score(reg, X=X_train10, y=y_train10).mean())\n",
        "    return operator * score\n",
        "\n",
        "exact_10 = dGPGO(surrogate_exact_10, Acquisition_grad(util), f_syn_polarity10, param, n_jobs = -1) # Define BayesOpt\n",
        "exact_10.run(max_iter = max_iter, init_evals = n_init) # run\n",
        "\n",
        "### Return optimal parameters' set:\n",
        "params_exact_10 = exact_10.getResult()[0]\n",
        "params_exact_10['max_depth'] = int(params_exact_10['max_depth'])\n",
        "params_exact_10['min_child_weight'] = int(params_exact_10['min_child_weight'])\n",
        "\n",
        "### Re-train with optimal parameters, run predictons:\n",
        "dX_exact_train10 = xgb.DMatrix(X_train10, y_train10)\n",
        "dX_exact_test10 = xgb.DMatrix(X_test10, y_test10)\n",
        "model_exact_10 = xgb.train(params_exact_10, dX_exact_train10)\n",
        "pred_exact_10 = model_exact_10.predict(dX_exact_test10)\n",
        "\n",
        "rmse_exact_10 = np.sqrt(mean_squared_error(pred_exact_10, y_test10))\n",
        "rmse_exact_10"
      ],
      "execution_count": null,
      "outputs": [
        {
          "output_type": "stream",
          "name": "stdout",
          "text": [
            "Evaluation \t Proposed point \t  Current eval. \t  Best eval. \t         Max. ExactAcqFunc \t Max. ApproxAcqFunc \n",
            "init\t [ 7.71320643  0.20751949  5.          0.72150747 17.          0.12265456]\t 0.8785010703819621\t 0.6669292375133978\t    \t    \n",
            "init\t [ 7.0920801   2.65566127 13.          0.57518893 17.          0.83494165]\t 0.6669292375133978\t 0.6669292375133978\t    \t    \n",
            "init\t [ 3.36071584  8.90816531  6.          0.86087766 15.          0.75469196]\t 0.7012460140601039\t 0.6669292375133978\t    \t    \n",
            "init\t [ 5.40880931  1.31458152  8.          0.57108502 14.          0.62551123]\t 0.7005965853529538\t 0.6669292375133978\t    \t    \n",
            "init\t [1.82631436 8.26082248 6.         0.80888349 5.         0.15900694]\t 0.880412005930048\t 0.6669292375133978\t    \t    \n",
            "1  \t [8.31989768 3.09778055 7.         0.64798085 3.         0.98471878]\t 0.6770142260932797\t 0.6669292375133978\t 1.8892111563503753\t 1.8892111563503753\n",
            "2  \t [ 3.05837423  0.98670899 11.          0.63714741 18.          0.46809298]\t 0.7417959722875219\t 0.6669292375133978\t 1.852731476748476\t 1.852731476748476\n",
            "3  \t [ 2.20772511  4.37663949 11.          0.65455258  3.          0.57545511]\t 0.7112447021396917\t 0.6669292375133978\t 1.8476723327028148\t 1.8476723327028148\n",
            "4  \t [ 2.98946783  8.70916918 12.          0.89809007  8.          0.53350402]\t 0.7006385046040607\t 0.6669292375133978\t 1.8348183863531062\t 1.8348183863531062\n",
            "5  \t [0.  0.  5.  0.5 1.  0.1]\t 0.8815800498680714\t 0.6669292375133978\t 1.8220205874346393\t 1.8220205874310031\n",
            "\u001b[1m\u001b[92m6\u001b[0m\t \u001b[1m\u001b[92m[10.         10.         15.          1.         14.59116268  1.        ]\u001b[0m\t \u001b[1m\u001b[92m0.6428463931407646\u001b[0m\t \u001b[1m\u001b[92m0.6428463931407646\u001b[0m\t \u001b[1m\u001b[92m1.8585190346537375\u001b[0m\t \u001b[1m\u001b[92m1.8585190346537375\u001b[0m\n",
            "7  \t [8.82521763 9.96779345 8.         0.82356907 1.         0.3598298 ]\t 0.8142907394883079\t 0.6428463931407646\t 1.8345282487981969\t 1.8345282487981969\n",
            "8  \t [ 9.67396075  2.8020106  13.          0.65074314 10.          0.54373377]\t 0.7069523757910561\t 0.6428463931407646\t 1.8483970100658076\t 1.8483970100658076\n",
            "9  \t [7.7714375  7.70616843 8.         0.82339468 6.         0.96195202]\t 0.661096368919013\t 0.6428463931407646\t 1.8396811566771283\t 1.8396811566771283\n",
            "10 \t [ 9.68988111  3.14723756  5.          0.57337272 11.          0.12853019]\t 0.8805076498265475\t 0.6428463931407646\t 1.8248254407105076\t 1.8248254407105076\n",
            "11 \t [ 7.71064959  9.96207932 10.          0.59477685 12.          0.11554071]\t 0.8835980337648006\t 0.6428463931407646\t 1.8488122005385168\t 1.8488122005385168\n",
            "12 \t [0.3261262  0.3175016  8.         0.74340245 7.         0.15256221]\t 0.8813486259366499\t 0.6428463931407646\t 1.8700947267692005\t 1.8700947267692005\n",
            "13 \t [ 1.32528066  5.17118506  5.          0.79204954 19.          0.27904411]\t 0.823119322181516\t 0.6428463931407646\t 1.8882983154109867\t 1.8882983154109867\n",
            "14 \t [ 0.17384891  6.43364358 13.          0.60012539 17.          0.33877166]\t 0.813133928753623\t 0.6428463931407646\t 1.8956364214492973\t 1.8956364214492973\n",
            "15 \t [ 9.86913094  2.54287696 14.          0.86051843  2.          0.74044264]\t 0.6976866250322032\t 0.6428463931407646\t 1.9008173636557628\t 1.9008173636557628\n",
            "16 \t [ 0.          3.02384577  5.          0.5        13.39376426  0.1       ]\t 0.8811984456086404\t 0.6428463931407646\t 1.8916877207263785\t 1.8916877081044734\n",
            "17 \t [ 2.976945    3.09934964 13.          0.72508505  8.          0.38866253]\t 0.7428630374254214\t 0.6428463931407646\t 1.905239146570401\t 1.905239146570401\n",
            "18 \t [ 9.38854854  7.91087361  8.          0.57475286 19.          0.33969987]\t 0.8127393354944645\t 0.6428463931407646\t 1.9014319300921392\t 1.9014319300921392\n",
            "19 \t [ 3.80090214  9.80981443 12.          0.76771143  3.          0.20106055]\t 0.8840643207380687\t 0.6428463931407646\t 1.905404825418242\t 1.905404825418242\n",
            "\u001b[1m\u001b[92m20\u001b[0m\t \u001b[1m\u001b[92m[ 2.42340497 10.         15.          1.         11.68405394  1.        ]\u001b[0m\t \u001b[1m\u001b[92m0.6420508896216662\u001b[0m\t \u001b[1m\u001b[92m0.6420508896216662\u001b[0m\t \u001b[1m\u001b[92m1.9169464314944673\u001b[0m\t \u001b[1m\u001b[92m1.9169464167022339\u001b[0m\n",
            "21 \t [10. 10. 15.  1. 20.  1.]\t 0.6455928988859453\t 0.6420508896216662\t 1.9043711317952197\t 1.9043709869038605\n",
            "22 \t [6.36911271 1.38988653 5.         0.54358761 7.         0.34523115]\t 0.8241546513796788\t 0.6420508896216662\t 1.8929682194165511\t 1.8929682194165511\n",
            "23 \t [ 4.47829069  7.43510935  7.          0.67276165 10.          0.2175314 ]\t 0.8808510005535177\t 0.6420508896216662\t 1.8977757962218538\t 1.8977757962218538\n",
            "24 \t [ 4.11986688  9.81320751 11.          0.98131964 17.          0.2975892 ]\t 0.81020927033387\t 0.6420508896216662\t 1.907666171337663\t 1.907666171337663\n",
            "25 \t [4.66195218 5.96776172 7.         0.68043003 1.         0.11094684]\t 0.8818491623143119\t 0.6420508896216662\t 1.9103702948701589\t 1.9103702948701589\n",
            "26 \t [ 7.98827045  1.4624675  10.54562841  0.5         6.54562841  0.1       ]\t 0.8846486972626545\t 0.6420508896216662\t 1.9192172370622889\t 1.9192169037612865\n",
            "27 \t [ 8.4662657   4.43414414  9.          0.87315205 12.          0.38094136]\t 0.7396754730540172\t 0.6420508896216662\t 1.9277056691618453\t 1.9277056691618453\n",
            "28 \t [ 3.73162208  6.88484696 15.          1.         20.          1.        ]\t 0.6455697253498037\t 0.6420508896216662\t 1.9241048214525382\t 1.9241055964192144\n",
            "29 \t [10.          4.73730569 15.          1.         20.          1.        ]\t 0.6455928988859453\t 0.6420508896216662\t 1.914701563371979\t 1.9147005361925415\n",
            "\u001b[1m\u001b[92m30\u001b[0m\t \u001b[1m\u001b[92m[ 4.3653861   5.84238893 11.          0.99018622 12.          0.90940203]\u001b[0m\t \u001b[1m\u001b[92m0.6407467455108058\u001b[0m\t \u001b[1m\u001b[92m0.6407467455108058\u001b[0m\t \u001b[1m\u001b[92m1.9057308537719748\u001b[0m\t \u001b[1m\u001b[92m1.9057308537719748\u001b[0m\n"
          ]
        },
        {
          "output_type": "execute_result",
          "data": {
            "text/plain": [
              "50267.17290962269"
            ]
          },
          "metadata": {},
          "execution_count": 51
        }
      ]
    },
    {
      "cell_type": "code",
      "metadata": {
        "id": "51z87uHWbRGr",
        "colab": {
          "base_uri": "https://localhost:8080/"
        },
        "outputId": "e614d703-91e9-4549-dbfe-7dc22ef42027"
      },
      "source": [
        "### Bayesian optimization runs (x20): 'exact' Acquisition Function run number = 11 \n",
        "\n",
        "np.random.seed(run_num_11)\n",
        "surrogate_exact_11 = dGaussianProcess(cov_func, optimize=opt)\n",
        "\n",
        "X_train11, X_test11, y_train11, y_test11 = train_test_split(X, y, test_size=test_perc, random_state=run_num_11)\n",
        "\n",
        "def f_syn_polarity11(alpha, gamma, max_depth, subsample, min_child_weight, colsample):\n",
        "    reg = XGBRegressor(reg_alpha=alpha, gamma=gamma, max_depth=int(max_depth), subsample=subsample, min_child_weight=min_child_weight,\n",
        "          colsample_bytree=colsample, n_estimators = n_est, random_state=run_num_11, objective = 'reg:squarederror')\n",
        "    score = np.array(cross_val_score(reg, X=X_train11, y=y_train11).mean())\n",
        "    return operator * score\n",
        "\n",
        "exact_11 = dGPGO(surrogate_exact_11, Acquisition_grad(util), f_syn_polarity11, param, n_jobs = -1) # Define BayesOpt\n",
        "exact_11.run(max_iter = max_iter, init_evals = n_init) # run\n",
        "\n",
        "### Return optimal parameters' set:\n",
        "params_exact_11 = exact_11.getResult()[0]\n",
        "params_exact_11['max_depth'] = int(params_exact_11['max_depth'])\n",
        "params_exact_11['min_child_weight'] = int(params_exact_11['min_child_weight'])\n",
        "\n",
        "### Re-train with optimal parameters, run predictons:\n",
        "dX_exact_train11 = xgb.DMatrix(X_train11, y_train11)\n",
        "dX_exact_test11 = xgb.DMatrix(X_test11, y_test11)\n",
        "model_exact_11 = xgb.train(params_exact_11, dX_exact_train11)\n",
        "pred_exact_11 = model_exact_11.predict(dX_exact_test11)\n",
        "\n",
        "rmse_exact_11 = np.sqrt(mean_squared_error(pred_exact_11, y_test11))\n",
        "rmse_exact_11"
      ],
      "execution_count": null,
      "outputs": [
        {
          "output_type": "stream",
          "name": "stdout",
          "text": [
            "Evaluation \t Proposed point \t  Current eval. \t  Best eval. \t         Max. ExactAcqFunc \t Max. ApproxAcqFunc \n",
            "init\t [ 1.80269689  0.19475241  6.          0.59705781 13.          0.47818324]\t 0.7904007286371394\t 0.6894069737354023\t    \t    \n",
            "init\t [ 4.85427098  0.12780815  5.          0.91309068 14.          0.86571558]\t 0.727634308123781\t 0.6894069737354023\t    \t    \n",
            "init\t [ 7.2996447   1.08736072 10.          0.92857712 18.          0.66910061]\t 0.6894069737354023\t 0.6894069737354023\t    \t    \n",
            "init\t [ 0.20483613  1.16737269  7.          0.57895615 16.          0.83644782]\t 0.7071657410132528\t 0.6894069737354023\t    \t    \n",
            "init\t [ 3.44624491  3.18798797 14.          0.54197657 15.          0.63958906]\t 0.7012825433030343\t 0.6894069737354023\t    \t    \n",
            "1  \t [9.77136617 6.6548802  7.         0.51036649 9.         0.81011527]\t 0.711031226877882\t 0.6894069737354023\t 1.771980480267015\t 1.771980480267015\n",
            "\u001b[1m\u001b[92m2\u001b[0m\t \u001b[1m\u001b[92m[ 0.59719728  4.15307516 11.          0.66501717  3.          0.95537014]\u001b[0m\t \u001b[1m\u001b[92m0.6577294425265764\u001b[0m\t \u001b[1m\u001b[92m0.6577294425265764\u001b[0m\t \u001b[1m\u001b[92m1.766963254697057\u001b[0m\t \u001b[1m\u001b[92m1.766963254697057\u001b[0m\n",
            "3  \t [ 8.79191945  9.92354379  5.          0.67714371 18.          0.57050675]\t 0.7648729702018928\t 0.6577294425265764\t 1.7455497175965742\t 1.7455497175965742\n",
            "4  \t [ 8.43962982  4.2216354  12.          0.61829836  3.          0.16854155]\t 0.9235319432135773\t 0.6577294425265764\t 1.7620584892222906\t 1.7620584892222906\n",
            "5  \t [2.20135958 9.62559813 6.         0.71280025 1.         0.39977427]\t 0.7883201967902798\t 0.6577294425265764\t 1.824410372208415\t 1.824410372208415\n",
            "\u001b[1m\u001b[92m6\u001b[0m\t \u001b[1m\u001b[92m[10.         10.         15.          1.         13.86520378  1.        ]\u001b[0m\t \u001b[1m\u001b[92m0.6391734323910704\u001b[0m\t \u001b[1m\u001b[92m0.6391734323910704\u001b[0m\t \u001b[1m\u001b[92m1.8353460501387229\u001b[0m\t \u001b[1m\u001b[92m1.8353460501339554\u001b[0m\n",
            "7  \t [ 4.15094515  7.09288961  8.          0.62079813 14.          0.58741281]\t 0.735671533105253\t 0.6391734323910704\t 1.8124871704874645\t 1.8124871704874645\n",
            "8  \t [ 8.85500249  6.36292728 13.          0.79559894 18.          0.41909456]\t 0.7595325243902282\t 0.6391734323910704\t 1.812273141000867\t 1.812273141000867\n",
            "9  \t [ 4.65266155  1.51144578 13.          0.9981878   8.          0.76538736]\t 0.6852941374864567\t 0.6391734323910704\t 1.8154215427211489\t 1.8154215427211489\n",
            "10 \t [ 9.96434657  9.7457538   7.          0.51716335 13.          0.80468719]\t 0.7098807101273504\t 0.6391734323910704\t 1.8065577082029156\t 1.8065577082029156\n",
            "11 \t [ 0.23708771  7.99354078 13.          0.65974332 19.          0.67724424]\t 0.6950970831418338\t 0.6391734323910704\t 1.8015947329799848\t 1.8015947329799848\n",
            "12 \t [2.49649648 9.56561388 5.         0.80281761 9.         0.94453549]\t 0.712573326980913\t 0.6391734323910704\t 1.7955694741113204\t 1.7955694741113204\n",
            "13 \t [8.7750324  1.27842362 6.         0.78646972 2.         0.59379009]\t 0.7479074011505135\t 0.6391734323910704\t 1.7931125270513382\t 1.7931125270513382\n",
            "14 \t [0.  0.  5.  0.5 1.  0.1]\t 0.9342890171193261\t 0.6391734323910704\t 1.7948672301384758\t 1.794867220220275\n",
            "15 \t [9.60860975 1.04640388 6.         0.96693807 8.         0.36470327]\t 0.8776279327315801\t 0.6391734323910704\t 1.8241832258570796\t 1.8241832544837293\n",
            "16 \t [ 4.54549823  8.84141407 12.          0.50940273  3.          0.75742975]\t 0.7068100593711837\t 0.6391734323910704\t 1.8418283338418697\t 1.8418283338418697\n",
            "17 \t [0.39970699 3.63260444 5.         0.5        6.6603264  0.1       ]\t 0.934060192860624\t 0.6391734323910704\t 1.836716967183571\t 1.836716853367628\n",
            "18 \t [ 2.10994823  7.1805032  12.          0.63048792  8.          0.67645363]\t 0.698358780864823\t 0.6391734323910704\t 1.8599543716257574\t 1.8599543716257574\n",
            "19 \t [ 1.41414587  5.82374358  8.          0.73371898 19.          0.60959215]\t 0.7312153103225351\t 0.6391734323910704\t 1.8533769456134348\t 1.8533769456134348\n",
            "20 \t [9.22875209 9.1986098  9.         0.90439491 3.         0.27523226]\t 0.8725625909092452\t 0.6391734323910704\t 1.8508240806826308\t 1.8508240806826308\n",
            "21 \t [ 4.20382838  8.11840794 14.          0.97060995 11.          0.52636944]\t 0.7250537141107671\t 0.6391734323910704\t 1.8634370715847701\t 1.8634370715847701\n",
            "22 \t [5.15068265 4.76861601 5.         0.70076898 1.         0.87159533]\t 0.7286740032592812\t 0.6391734323910704\t 1.860150550450678\t 1.860150550450678\n",
            "23 \t [ 9.97716226  3.28825714 13.          0.55185778 13.          0.23012169]\t 0.9247048172921157\t 0.6391734323910704\t 1.8574170876451634\t 1.8574170876451634\n",
            "24 \t [5.96609946 8.58923382 8.         0.83624418 7.         0.41971406]\t 0.7695460798342351\t 0.6391734323910704\t 1.8735033814439108\t 1.8735033814439108\n",
            "25 \t [ 4.52812342  0.19443533 13.          0.65004115  2.          0.16077491]\t 0.9247656684808231\t 0.6391734323910704\t 1.8736318760485526\t 1.8736318760485526\n",
            "26 \t [ 6.43973822  4.38457739 10.          0.73526918 10.          0.83575743]\t 0.6925394075386978\t 0.6391734323910704\t 1.8882400044401837\t 1.8882400044401837\n",
            "27 \t [ 0.24250155  0.         11.68320556  0.5        13.68320556  0.1       ]\t 0.9257345462461771\t 0.6391734323910704\t 1.8820969529357392\t 1.8820976331945956\n",
            "28 \t [ 8.4194991   8.27446809 13.          0.60543789  8.          0.33710004]\t 0.8768536860033761\t 0.6391734323910704\t 1.8953480854947826\t 1.8953484963371805\n",
            "29 \t [1.33134297 0.         9.39895008 0.5        7.39895008 0.20059491]\t 0.9260096854517735\t 0.6391734323910704\t 1.9034910820340496\t 1.9034907266592513\n",
            "\u001b[1m\u001b[92m30\u001b[0m\t \u001b[1m\u001b[92m[ 5.1131797  10.         12.70197513  1.         18.70197513  1.        ]\u001b[0m\t \u001b[1m\u001b[92m0.6370251143949369\u001b[0m\t \u001b[1m\u001b[92m0.6370251143949369\u001b[0m\t \u001b[1m\u001b[92m1.9152036085856508\u001b[0m\t \u001b[1m\u001b[92m1.9152036896822888\u001b[0m\n"
          ]
        },
        {
          "output_type": "execute_result",
          "data": {
            "text/plain": [
              "50848.269313694145"
            ]
          },
          "metadata": {},
          "execution_count": 52
        }
      ]
    },
    {
      "cell_type": "code",
      "metadata": {
        "id": "j8jZUeoWbTvn",
        "colab": {
          "base_uri": "https://localhost:8080/"
        },
        "outputId": "1ea52624-fb2d-4ebe-f581-02fb427ee7f2"
      },
      "source": [
        "### Bayesian optimization runs (x20): 'exact' Acquisition Function run number = 12\n",
        "\n",
        "np.random.seed(run_num_12)\n",
        "surrogate_exact_12 = dGaussianProcess(cov_func, optimize=opt)\n",
        "\n",
        "X_train12, X_test12, y_train12, y_test12 = train_test_split(X, y, test_size=test_perc, random_state=run_num_12)\n",
        "\n",
        "def f_syn_polarity12(alpha, gamma, max_depth, subsample, min_child_weight, colsample):\n",
        "    reg = XGBRegressor(reg_alpha=alpha, gamma=gamma, max_depth=int(max_depth), subsample=subsample, min_child_weight=min_child_weight,\n",
        "          colsample_bytree=colsample, n_estimators = n_est, random_state=run_num_12, objective = 'reg:squarederror')\n",
        "    score = np.array(cross_val_score(reg, X=X_train12, y=y_train12).mean())\n",
        "    return operator * score\n",
        "\n",
        "exact_12 = dGPGO(surrogate_exact_12, Acquisition_grad(util), f_syn_polarity12, param, n_jobs = -1) # Define BayesOpt\n",
        "exact_12.run(max_iter = max_iter, init_evals = n_init) # run\n",
        "\n",
        "### Return optimal parameters' set:\n",
        "params_exact_12 = exact_12.getResult()[0]\n",
        "params_exact_12['max_depth'] = int(params_exact_12['max_depth'])\n",
        "params_exact_12['min_child_weight'] = int(params_exact_12['min_child_weight'])\n",
        "\n",
        "### Re-train with optimal parameters, run predictons:\n",
        "dX_exact_train12 = xgb.DMatrix(X_train12, y_train12)\n",
        "dX_exact_test12 = xgb.DMatrix(X_test12, y_test12)\n",
        "model_exact_12 = xgb.train(params_exact_12, dX_exact_train12)\n",
        "pred_exact_12 = model_exact_12.predict(dX_exact_test12)\n",
        "\n",
        "rmse_exact_12 = np.sqrt(mean_squared_error(pred_exact_12, y_test12))\n",
        "rmse_exact_12"
      ],
      "execution_count": null,
      "outputs": [
        {
          "output_type": "stream",
          "name": "stdout",
          "text": [
            "Evaluation \t Proposed point \t  Current eval. \t  Best eval. \t         Max. ExactAcqFunc \t Max. ApproxAcqFunc \n",
            "init\t [1.54162842 7.40049697 6.         0.54321714 4.         0.11311747]\t 0.9314271055202143\t 0.7056203424268611\t    \t    \n",
            "init\t [ 9.18747008  9.00714854 14.          0.97847467 11.          0.35544552]\t 0.7910532936167305\t 0.7056203424268611\t    \t    \n",
            "init\t [ 6.06083184  9.44225136 14.          0.95626942  5.          0.56910342]\t 0.7196830962696428\t 0.7056203424268611\t    \t    \n",
            "init\t [ 5.52037633  4.85377414  7.          0.97886436 17.          0.78810441]\t 0.7056203424268611\t 0.7056203424268611\t    \t    \n",
            "init\t [ 0.20809798  1.35210178  5.          0.65494879 16.          0.36062811]\t 0.8082458628311272\t 0.7056203424268611\t    \t    \n",
            "1  \t [9.46555822 8.57190559 5.         0.50164398 5.         0.71992807]\t 0.74699493326549\t 0.7056203424268611\t 1.9480537431351055\t 1.9480537431351055\n",
            "2  \t [ 7.57473716  9.63637997 12.          0.83444517 10.          0.18761713]\t 0.9247498596892157\t 0.7056203424268611\t 1.928841234425862\t 1.928841234425862\n",
            "\u001b[1m\u001b[92m3\u001b[0m\t \u001b[1m\u001b[92m[ 9.04517621  0.80881017 13.          0.96890904  5.          0.75400021]\u001b[0m\t \u001b[1m\u001b[92m0.6897808103544698\u001b[0m\t \u001b[1m\u001b[92m0.6897808103544698\u001b[0m\t \u001b[1m\u001b[92m1.9748127661121606\u001b[0m\t \u001b[1m\u001b[92m1.9748127661121606\u001b[0m\n",
            "4  \t [ 2.73241117  0.55778587 14.          0.70282167 15.          0.8966204 ]\t 0.6967406870158588\t 0.6897808103544698\t 1.9414555575758543\t 1.9414555575758543\n",
            "5  \t [ 6.66970674  0.03985694  6.          0.76922453 11.          0.18327615]\t 0.9302409127927834\t 0.6897808103544698\t 1.9167875162814356\t 1.9167875162814356\n",
            "6  \t [ 1.23389285  0.85357459 13.          0.93854198  3.          0.52598214]\t 0.7221002132069921\t 0.6897808103544698\t 1.9559858568824318\t 1.9559858568824318\n",
            "7  \t [ 0.57203639  5.0857779   9.          0.68290949 10.          0.94408458]\t 0.7012842559435354\t 0.6897808103544698\t 1.9397125000736803\t 1.9397125000736803\n",
            "8  \t [0.         1.01976365 5.         0.5        1.         0.1       ]\t 0.9380339511614821\t 0.6897808103544698\t 1.922197709730598\t 1.9221977097151648\n",
            "9  \t [9.77568711 0.70796585 6.         0.73327465 3.         0.82051057]\t 0.7213506404912987\t 0.6897808103544698\t 1.9536470074923478\t 1.9536470074923478\n",
            "10 \t [ 9.20470536  7.96480391  5.          0.84400217 12.          0.74025549]\t 0.7417877006073502\t 0.6897808103544698\t 1.9409065877363436\t 1.9409065877363436\n",
            "\u001b[1m\u001b[92m11\u001b[0m\t \u001b[1m\u001b[92m[10. 10. 15.  1. 20.  1.]\u001b[0m\t \u001b[1m\u001b[92m0.650360917790661\u001b[0m\t \u001b[1m\u001b[92m0.650360917790661\u001b[0m\t \u001b[1m\u001b[92m1.9328933100726609\u001b[0m\t \u001b[1m\u001b[92m1.9328933100725147\u001b[0m\n",
            "12 \t [ 1.1215575   6.61045389 13.          0.73682382 17.          0.82385484]\t 0.6943570082727238\t 0.650360917790661\t 1.9134224331866303\t 1.9134224331866303\n",
            "13 \t [ 4.45674451  0.94208473 10.          0.94738373  7.          0.60125252]\t 0.7166741353060685\t 0.650360917790661\t 1.9015745780288105\t 1.9015745780288105\n",
            "14 \t [ 0.609825    8.87388875 14.          0.9069446   2.          0.82580346]\t 0.6998436682886817\t 0.650360917790661\t 1.8937542741426772\t 1.8937542741426772\n",
            "15 \t [ 1.10490837  9.58829464  6.          0.57860445 19.          0.21544386]\t 0.9310123715662361\t 0.650360917790661\t 1.8847333147978729\t 1.8847333147978729\n",
            "16 \t [ 9.86500554  3.24622219 14.          0.95268622 17.          0.83554836]\t 0.6861949687174898\t 0.650360917790661\t 1.9064742730591495\t 1.9064742730591495\n",
            "17 \t [0.17059882 0.49735145 6.         0.94724054 9.         0.97251917]\t 0.7200838686336246\t 0.650360917790661\t 1.8963377271634747\t 1.8963377271634747\n",
            "18 \t [ 1.40667435  9.60801033 13.          0.60326903 11.          0.82424216]\t 0.6997408299858809\t 0.650360917790661\t 1.8905167963558727\t 1.8905167963558727\n",
            "19 \t [5.58200824 6.47832626 5.         0.55772632 8.         0.94343024]\t 0.7445698470409463\t 0.650360917790661\t 1.883185938791391\t 1.883185938791391\n",
            "20 \t [ 9.98175567  0.8705802   6.          0.55210219 18.          0.50471737]\t 0.7496479603542527\t 0.650360917790661\t 1.8807502736000385\t 1.8807502736000385\n",
            "21 \t [ 5.49888822  5.20148414 10.          0.54435316  4.          0.7517198 ]\t 0.7056903211932897\t 0.650360917790661\t 1.878989995323915\t 1.878989995323915\n",
            "22 \t [ 6.2678708   0.4680065  11.          0.92045895 18.          0.950288  ]\t 0.6904250593809932\t 0.650360917790661\t 1.8734285049145387\t 1.8734285049145387\n",
            "23 \t [ 9.50639663  8.7681455   8.09209016  1.         16.09209016  1.        ]\t 0.6685953705024923\t 0.650360917790661\t 1.8669955350314607\t 1.866996451455876\n",
            "\u001b[1m\u001b[92m24\u001b[0m\t \u001b[1m\u001b[92m[ 4.18366353 10.         13.16600792  1.         20.          1.        ]\u001b[0m\t \u001b[1m\u001b[92m0.6500053323803071\u001b[0m\t \u001b[1m\u001b[92m0.6500053323803071\u001b[0m\t \u001b[1m\u001b[92m1.859294553962467\u001b[0m\t \u001b[1m\u001b[92m1.8592940688767143\u001b[0m\n",
            "25 \t [ 3.95469902  4.43691502 14.          0.58535398 11.          0.45476493]\t 0.7762242661293977\t 0.6500053323803071\t 1.8507257032604787\t 1.8507257032604787\n",
            "26 \t [ 6.95690553  1.11504601 14.          0.90956566 11.          0.39724356]\t 0.7711246067958923\t 0.6500053323803071\t 1.8538240053256367\t 1.8538240053256367\n",
            "27 \t [ 2.07000214  9.81928136 10.06696685  1.          6.06696685  1.        ]\t 0.6528481461977028\t 0.6500053323803071\t 1.853618351784724\t 1.8536190733570808\n",
            "28 \t [ 2.10897089  0.08470362  9.52338473  0.5        12.52338473  0.329552  ]\t 0.7977424248508573\t 0.6500053323803071\t 1.8461966677168762\t 1.8461964055695876\n",
            "29 \t [ 1.89754186  9.17101444  5.          0.60232858 15.          0.66852878]\t 0.7436237996074502\t 0.6500053323803071\t 1.8508257510042465\t 1.8508257510042465\n",
            "30 \t [6.7712309  5.31842817 5.         0.84774393 2.         0.83146944]\t 0.7412768910071137\t 0.6500053323803071\t 1.8487302390191285\t 1.8487303734279437\n"
          ]
        },
        {
          "output_type": "execute_result",
          "data": {
            "text/plain": [
              "50883.66286006226"
            ]
          },
          "metadata": {},
          "execution_count": 53
        }
      ]
    },
    {
      "cell_type": "code",
      "metadata": {
        "id": "snTrqE2RbWbe",
        "colab": {
          "base_uri": "https://localhost:8080/"
        },
        "outputId": "9b57dce1-7523-426b-c985-8f436cfc5d61"
      },
      "source": [
        "### Bayesian optimization runs (x20): 'exact' Acquisition Function run number = 13 \n",
        "\n",
        "np.random.seed(run_num_13)\n",
        "surrogate_exact_13 = dGaussianProcess(cov_func, optimize=opt)\n",
        "\n",
        "X_train13, X_test13, y_train13, y_test13 = train_test_split(X, y, test_size=test_perc, random_state=run_num_13)\n",
        "\n",
        "def f_syn_polarity13(alpha, gamma, max_depth, subsample, min_child_weight, colsample):\n",
        "    reg = XGBRegressor(reg_alpha=alpha, gamma=gamma, max_depth=int(max_depth), subsample=subsample, min_child_weight=min_child_weight,\n",
        "          colsample_bytree=colsample, n_estimators = n_est, random_state=run_num_13, objective = 'reg:squarederror')\n",
        "    score = np.array(cross_val_score(reg, X=X_train13, y=y_train13).mean())\n",
        "    return operator * score\n",
        "\n",
        "exact_13 = dGPGO(surrogate_exact_13, Acquisition_grad(util), f_syn_polarity13, param, n_jobs = -1) # Define BayesOpt\n",
        "exact_13.run(max_iter = max_iter, init_evals = n_init) # run\n",
        "\n",
        "### Return optimal parameters' set:\n",
        "params_exact_13 = exact_13.getResult()[0]\n",
        "params_exact_13['max_depth'] = int(params_exact_13['max_depth'])\n",
        "params_exact_13['min_child_weight'] = int(params_exact_13['min_child_weight'])\n",
        "\n",
        "### Re-train with optimal parameters, run predictons:\n",
        "dX_exact_train13 = xgb.DMatrix(X_train13, y_train13)\n",
        "dX_exact_test13 = xgb.DMatrix(X_test13, y_test13)\n",
        "model_exact_13 = xgb.train(params_exact_13, dX_exact_train13)\n",
        "pred_exact_13 = model_exact_13.predict(dX_exact_test13)\n",
        "\n",
        "rmse_exact_13 = np.sqrt(mean_squared_error(pred_exact_13, y_test13))\n",
        "rmse_exact_13"
      ],
      "execution_count": null,
      "outputs": [
        {
          "output_type": "stream",
          "name": "stdout",
          "text": [
            "Evaluation \t Proposed point \t  Current eval. \t  Best eval. \t         Max. ExactAcqFunc \t Max. ApproxAcqFunc \n",
            "init\t [ 7.77702411  2.3754122  11.          0.94649135 13.          0.7827256 ]\t 0.6628876451121497\t 0.6628876451121497\t    \t    \n",
            "init\t [ 7.51661514  6.07343344 11.          0.69402149 11.          0.13153287]\t 1.1013657958154304\t 0.6628876451121497\t    \t    \n",
            "init\t [ 2.98449471  0.58512492 10.          0.73579614 12.          0.33065195]\t 0.92150734169971\t 0.6628876451121497\t    \t    \n",
            "init\t [ 3.47581215  0.0941277  11.          0.86143432  8.          0.58454932]\t 0.71924819784624\t 0.6628876451121497\t    \t    \n",
            "init\t [ 4.70137857  6.24432527 10.          0.8149145  18.          0.10784416]\t 1.1014421616742969\t 0.6628876451121497\t    \t    \n",
            "1  \t [1.51786663 9.25994479 9.         0.99792981 2.         0.61199673]\t 0.7207240599672383\t 0.6628876451121497\t 2.2535493229181323\t 2.2535493229181323\n",
            "\u001b[1m\u001b[92m2\u001b[0m\t \u001b[1m\u001b[92m[10.         6.4393369 15.         1.        20.         1.       ]\u001b[0m\t \u001b[1m\u001b[92m0.648463895263151\u001b[0m\t \u001b[1m\u001b[92m0.648463895263151\u001b[0m\t \u001b[1m\u001b[92m2.17975337665041\u001b[0m\t \u001b[1m\u001b[92m2.1797533766198756\u001b[0m\n",
            "3  \t [ 1.27154032  7.56256657  5.          0.85984573 12.          0.61608824]\t 0.7679544515659981\t 0.648463895263151\t 2.1054376526763634\t 2.1054376526763634\n",
            "4  \t [ 4.39024044  6.42906019 12.          0.96666124  5.          0.79403332]\t 0.6655222383347275\t 0.648463895263151\t 2.0787853487740406\t 2.0787853487740406\n",
            "5  \t [5.34651487 5.45650069 6.         0.93529094 7.         0.24078895]\t 1.0980632271289044\t 0.648463895263151\t 2.0338334769412265\t 2.0338334769412265\n",
            "6  \t [ 1.86840748  0.75206083 14.          0.81141351 17.          0.47108772]\t 0.8190622083881806\t 0.648463895263151\t 2.1085700510287007\t 2.1085700510287007\n",
            "7  \t [ 7.23781106  2.82221969 13.          0.97315776  3.          0.70798739]\t 0.7059530276956625\t 0.648463895263151\t 2.099522604259587\t 2.099522604259587\n",
            "8  \t [ 0.53852623  1.13078322 12.          0.85062386  1.          0.22708294]\t 1.1062273028353988\t 0.648463895263151\t 2.0711942288343375\t 2.0711942288343375\n",
            "9  \t [9.52796793 0.5269077  7.         0.61130342 2.         0.41024487]\t 0.8258632893631743\t 0.648463895263151\t 2.127122327719986\t 2.127122327719986\n",
            "10 \t [ 0.95213595  8.68324297 14.          0.57163216  8.          0.28130834]\t 0.9272758866528952\t 0.648463895263151\t 2.119853302354556\t 2.119853302354556\n",
            "11 \t [ 4.33230901  0.85672678  6.          0.63795453 19.          0.64597264]\t 0.7370906275446215\t 0.648463895263151\t 2.130288099966768\t 2.130288099966768\n",
            "12 \t [ 9.46545841  2.71414127  5.          0.83512297 13.          0.70984642]\t 0.7596192306405462\t 0.648463895263151\t 2.1114503199040677\t 2.1114503199040677\n",
            "13 \t [0.  0.  5.  0.5 1.  0.1]\t 1.0998776154616823\t 0.648463895263151\t 2.0975046602164826\t 2.0975046551270737\n",
            "14 \t [8.89376119 7.09293115 9.         0.78983641 3.         0.25997795]\t 0.9218455789450489\t 0.648463895263151\t 2.135055368408573\t 2.135055368408573\n",
            "15 \t [ 3.78319896  9.10205064 14.          0.62806706 13.          0.90182995]\t 0.6686440552339279\t 0.648463895263151\t 2.1417043500668345\t 2.1417043500668345\n",
            "16 \t [ 7.05126219  8.04267575  5.          0.67903172 17.          0.24444218]\t 1.0976230359264239\t 0.648463895263151\t 2.119358181951059\t 2.119358181951059\n",
            "17 \t [ 9.50305523  1.39719827 14.          0.80515064 17.          0.21967579]\t 1.1032556266920364\t 0.648463895263151\t 2.149885787041201\t 2.149885787041201\n",
            "18 \t [0.75135379 4.33666257 5.         0.52792906 6.         0.30010782]\t 0.9162713030758676\t 0.648463895263151\t 2.1780424490607913\t 2.1780424490607913\n",
            "19 \t [ 0.          0.          5.          0.5        15.18174148  0.1       ]\t 1.0998894285008507\t 0.648463895263151\t 2.180970882847027\t 2.1809708828158754\n",
            "20 \t [ 9.35280568  2.44132886  8.          0.87489385 18.          0.92170626]\t 0.67440347483604\t 0.648463895263151\t 2.2047404034844047\t 2.2047404034844047\n",
            "21 \t [9.95671825 0.88335607 5.         0.76593799 7.         0.60049246]\t 0.7676754691372668\t 0.648463895263151\t 2.1853151571921194\t 2.1853151571921194\n",
            "22 \t [4.74151988e-03 7.73535708e+00 9.00000000e+00 8.10214170e-01\n",
            " 7.00000000e+00 8.51111303e-01]\t 0.6741140944144826\t 0.648463895263151\t 2.1743789788875536\t 2.1743789788875536\n",
            "23 \t [ 2.05622909  9.08047387  8.          0.8397078  17.          0.73365999]\t 0.7124011319640049\t 0.648463895263151\t 2.157266589093253\t 2.157266589093253\n",
            "24 \t [ 0.537802    3.33621713  8.          0.77943172 18.          0.5870313 ]\t 0.7295026676611162\t 0.648463895263151\t 2.143908892456087\t 2.143908892456087\n",
            "25 \t [ 8.82163174 10.         10.40188946  1.         20.          1.        ]\t 0.6522290559082727\t 0.648463895263151\t 2.1325932967863976\t 2.1325932964641967\n",
            "26 \t [ 0.16863022  2.67389719  9.          0.62610438 15.          0.96408501]\t 0.672888499874982\t 0.648463895263151\t 2.1169406867912306\t 2.1169406867912306\n",
            "27 \t [ 7.81157149  9.253568   12.          0.76765119  7.          0.85043688]\t 0.6675539039152634\t 0.648463895263151\t 2.1034527605551836\t 2.1034527605551836\n",
            "28 \t [5.51645808 4.30839226 5.         0.5        1.91383742 0.1       ]\t 1.0999574358377582\t 0.648463895263151\t 2.0901805462461653\t 2.0901802603807247\n",
            "\u001b[1m\u001b[92m29\u001b[0m\t \u001b[1m\u001b[92m[10.          6.83717655 14.21749351  1.         14.21749351  1.        ]\u001b[0m\t \u001b[1m\u001b[92m0.6482677002572682\u001b[0m\t \u001b[1m\u001b[92m0.6482677002572682\u001b[0m\t \u001b[1m\u001b[92m2.111030110594063\u001b[0m\t \u001b[1m\u001b[92m2.1110299627268185\u001b[0m\n",
            "\u001b[1m\u001b[92m30\u001b[0m\t \u001b[1m\u001b[92m[ 3.38496451  5.58190461 15.          1.         18.55791486  1.        ]\u001b[0m\t \u001b[1m\u001b[92m0.6476658604292315\u001b[0m\t \u001b[1m\u001b[92m0.6476658604292315\u001b[0m\t \u001b[1m\u001b[92m2.0975078368011855\u001b[0m\t \u001b[1m\u001b[92m2.0975089622706093\u001b[0m\n"
          ]
        },
        {
          "output_type": "execute_result",
          "data": {
            "text/plain": [
              "49040.01074805314"
            ]
          },
          "metadata": {},
          "execution_count": 54
        }
      ]
    },
    {
      "cell_type": "code",
      "metadata": {
        "id": "nAuEsXYbtOnC",
        "colab": {
          "base_uri": "https://localhost:8080/"
        },
        "outputId": "151088d4-f16e-46f6-a534-8ae5f21959c4"
      },
      "source": [
        "### Bayesian optimization runs (x20): 'exact' Acquisition Function run number = 14 \n",
        "\n",
        "np.random.seed(run_num_14)\n",
        "surrogate_exact_14 = dGaussianProcess(cov_func, optimize=opt)\n",
        "\n",
        "X_train14, X_test14, y_train14, y_test14 = train_test_split(X, y, test_size=test_perc, random_state=run_num_14)\n",
        "\n",
        "def f_syn_polarity14(alpha, gamma, max_depth, subsample, min_child_weight, colsample):\n",
        "    reg = XGBRegressor(reg_alpha=alpha, gamma=gamma, max_depth=int(max_depth), subsample=subsample, min_child_weight=min_child_weight,\n",
        "          colsample_bytree=colsample, n_estimators = n_est, random_state=run_num_14, objective = 'reg:squarederror')\n",
        "    score = np.array(cross_val_score(reg, X=X_train14, y=y_train14).mean())\n",
        "    return operator * score\n",
        "\n",
        "exact_14 = dGPGO(surrogate_exact_14, Acquisition_grad(util), f_syn_polarity14, param, n_jobs = -1) # Define BayesOpt\n",
        "exact_14.run(max_iter = max_iter, init_evals = n_init) # run\n",
        "\n",
        "### Return optimal parameters' set:\n",
        "params_exact_14 = exact_14.getResult()[0]\n",
        "params_exact_14['max_depth'] = int(params_exact_14['max_depth'])\n",
        "params_exact_14['min_child_weight'] = int(params_exact_14['min_child_weight'])\n",
        "\n",
        "### Re-train with optimal parameters, run predictons:\n",
        "dX_exact_train14 = xgb.DMatrix(X_train14, y_train14)\n",
        "dX_exact_test14 = xgb.DMatrix(X_test14, y_test14)\n",
        "model_exact_14 = xgb.train(params_exact_14, dX_exact_train14)\n",
        "pred_exact_14 = model_exact_14.predict(dX_exact_test14)\n",
        "\n",
        "rmse_exact_14 = np.sqrt(mean_squared_error(pred_exact_14, y_test14))\n",
        "rmse_exact_14"
      ],
      "execution_count": null,
      "outputs": [
        {
          "output_type": "stream",
          "name": "stdout",
          "text": [
            "Evaluation \t Proposed point \t  Current eval. \t  Best eval. \t         Max. ExactAcqFunc \t Max. ApproxAcqFunc \n",
            "init\t [ 5.13943344  7.73165052 12.          0.6831412  11.          0.37876233]\t 0.8139066743222003\t 0.6747866005380063\t    \t    \n",
            "init\t [ 9.57603739  5.13116712 14.          0.76959997 12.          0.71328228]\t 0.6747866005380063\t 0.6747866005380063\t    \t    \n",
            "init\t [5.34950319 2.47493539 5.         0.50293689 6.         0.29706373]\t 0.977412427074478\t 0.6747866005380063\t    \t    \n",
            "init\t [ 2.94506579  3.45329697  8.          0.87620946 14.          0.9783044 ]\t 0.6774024187451972\t 0.6747866005380063\t    \t    \n",
            "init\t [ 1.11811929  1.73004086  5.          0.73745288 12.          0.20586008]\t 1.0197967308919336\t 0.6747866005380063\t    \t    \n",
            "1  \t [ 6.50637223  2.67617722 14.          0.53562507  1.          0.16862152]\t 1.0126649561802825\t 0.6747866005380063\t 2.070345537964017\t 2.070345537964017\n",
            "\u001b[1m\u001b[92m2\u001b[0m\t \u001b[1m\u001b[92m[10. 10. 15.  1. 20.  1.]\u001b[0m\t \u001b[1m\u001b[92m0.6502979285238808\u001b[0m\t \u001b[1m\u001b[92m0.6502979285238808\u001b[0m\t \u001b[1m\u001b[92m2.1441702543377508\u001b[0m\t \u001b[1m\u001b[92m2.1441702543377508\u001b[0m\n",
            "3  \t [0.07739536 3.94062842 5.         0.7395899  3.         0.9764837 ]\t 0.7245455903141328\t 0.6502979285238808\t 2.074406230444793\t 2.074406230444793\n",
            "4  \t [6.9195004  0.54496332 8.         0.81208598 3.         0.15286338]\t 1.0111604668907606\t 0.6502979285238808\t 2.0393601334977967\t 2.0393601334977967\n",
            "5  \t [ 9.22243919  0.59642165  6.          0.72537748 19.          0.46639325]\t 0.8253470890530193\t 0.6502979285238808\t 2.0924698662814576\t 2.0924698662814576\n",
            "6  \t [ 0.49138495  8.52939618 10.          0.75897738  1.          0.21612775]\t 1.0131910395518218\t 0.6502979285238808\t 2.085516067230353\t 2.085516067230353\n",
            "7  \t [9.50752677 9.21478059 7.         0.68709357 5.         0.7478709 ]\t 0.6980584298280876\t 0.6502979285238808\t 2.124597906463291\t 2.124597906463291\n",
            "8  \t [ 0.63353879  9.61017877  8.          0.96421247 18.          0.39200727]\t 0.8087127953472528\t 0.6502979285238808\t 2.093180129550301\t 2.093180129550301\n",
            "9  \t [ 2.48800603  5.10093097 14.          0.58870342  6.          0.75046851]\t 0.679436663814411\t 0.6502979285238808\t 2.084760204992957\t 2.084760204992957\n",
            "10 \t [ 1.6361515   9.65601963  6.          0.78645605 10.          0.24059194]\t 1.0163848571205125\t 0.6502979285238808\t 2.057577323047133\t 2.057577323047133\n",
            "11 \t [ 9.88809977  3.72297385  6.          0.68686416 11.          0.16446157]\t 1.0169921141610336\t 0.6502979285238808\t 2.0891593728771642\t 2.0891593728771642\n",
            "12 \t [ 7.35080411  8.42969833  8.          0.54853874 19.          0.64845929]\t 0.6929769156766643\t 0.6502979285238808\t 2.116520524713304\t 2.116520524713304\n",
            "13 \t [ 0.91289908  0.49155493 12.          0.69437528 19.          0.25722688]\t 0.9566828107379326\t 0.6502979285238808\t 2.0941919437318464\t 2.0941919437318464\n",
            "14 \t [ 9.50881705  0.8310658  14.          0.86317554 18.          0.16718532]\t 1.0124852561685407\t 0.6502979285238808\t 2.1088080933289324\t 2.1088080933289324\n",
            "15 \t [ 9.08335885  5.57767412 12.          0.65195184  6.          0.80607804]\t 0.6813882293464838\t 0.6502979285238808\t 2.1299629248561387\t 2.1299629248561387\n",
            "16 \t [ 0.14027374  5.40881405 13.          0.72865252 14.          0.51307231]\t 0.716284046319991\t 0.6502979285238808\t 2.109291582645159\t 2.109291582645159\n",
            "17 \t [ 7.83429508  8.78694401 14.          0.74976219  2.          0.13371773]\t 1.0143595783371873\t 0.6502979285238808\t 2.093780274326743\t 2.093780274326743\n",
            "18 \t [ 0.96607499  0.08146515 10.          0.75402335  6.          0.63275599]\t 0.6767950914466152\t 0.6502979285238808\t 2.1131168216644203\t 2.1131168216644203\n",
            "19 \t [ 2.09007555  7.86113915 13.          0.73459776 19.          0.32750702]\t 0.9574373954877385\t 0.6502979285238808\t 2.0953788682272116\t 2.0953788682272116\n",
            "20 \t [ 4.57870743  1.98552875 14.          0.65566453 14.          0.81792968]\t 0.6768346638837561\t 0.6502979285238808\t 2.106381025215576\t 2.106381025215576\n",
            "21 \t [6.71747687 5.953553   9.1268929  0.5        2.1268929  0.1       ]\t 1.0114593919882844\t 0.6502979285238808\t 2.090290926430833\t 2.0902909217024033\n",
            "22 \t [ 2.89145179  8.95900591 10.          0.52398991  6.          0.6540998 ]\t 0.684154512907023\t 0.6502979285238808\t 2.10650172829288\t 2.10650172829288\n",
            "23 \t [ 5.55049789  0.77634749 10.94158757  0.5         9.94158757  0.1       ]\t 1.009887441146531\t 0.6502979285238808\t 2.092132885883907\t 2.0921328787631026\n",
            "24 \t [ 4.3622478   7.44308476  5.          0.5        15.81162154  0.1       ]\t 1.018369300296423\t 0.6502979285238808\t 2.106950985782714\t 2.1069509728314046\n",
            "25 \t [ 3.84023791  5.55129887  6.          0.6736522  10.          0.55319483]\t 0.7431106498194995\t 0.6502979285238808\t 2.1214929811659564\t 2.1214929811659564\n",
            "\u001b[1m\u001b[92m26\u001b[0m\t \u001b[1m\u001b[92m[ 5.63414853 10.         15.          1.          6.          1.        ]\u001b[0m\t \u001b[1m\u001b[92m0.6498120471285148\u001b[0m\t \u001b[1m\u001b[92m0.6498120471285148\u001b[0m\t \u001b[1m\u001b[92m2.112148824610129\u001b[0m\t \u001b[1m\u001b[92m2.112149001626918\u001b[0m\n",
            "27 \t [ 0.19921359  1.33183456 11.          0.79119941 11.          0.23591371]\t 1.0112356555986186\t 0.6498120471285148\t 2.0973687642265353\t 2.0973687642265353\n",
            "28 \t [ 0.40405522  2.81796516 11.          0.8908648   1.          0.54002187]\t 0.7224622612996938\t 0.6498120471285148\t 2.110269820528139\t 2.110269820528139\n",
            "29 \t [ 6.80918331  2.60600854 10.          0.6146055  16.          0.83665564]\t 0.6767211406591878\t 0.6498120471285148\t 2.1007599434398103\t 2.1007599434398103\n",
            "30 \t [ 1.26617981  4.03386415  8.          0.85223134 19.          0.86958504]\t 0.6828604856051443\t 0.6498120471285148\t 2.0890685744937367\t 2.0890685744937367\n"
          ]
        },
        {
          "output_type": "execute_result",
          "data": {
            "text/plain": [
              "51097.26452839193"
            ]
          },
          "metadata": {},
          "execution_count": 55
        }
      ]
    },
    {
      "cell_type": "code",
      "metadata": {
        "id": "KgxvE7Irbbj_",
        "colab": {
          "base_uri": "https://localhost:8080/"
        },
        "outputId": "a99d19ed-7925-4a19-9880-f65d3b1fa18f"
      },
      "source": [
        "### Bayesian optimization runs (x20): 'exact' Acquisition Function run number = 15 \n",
        "\n",
        "np.random.seed(run_num_15)\n",
        "surrogate_exact_15 = dGaussianProcess(cov_func, optimize=opt)\n",
        "\n",
        "X_train15, X_test15, y_train15, y_test15 = train_test_split(X, y, test_size=test_perc, random_state=run_num_15)\n",
        "\n",
        "def f_syn_polarity15(alpha, gamma, max_depth, subsample, min_child_weight, colsample):\n",
        "    reg = XGBRegressor(reg_alpha=alpha, gamma=gamma, max_depth=int(max_depth), subsample=subsample, min_child_weight=min_child_weight,\n",
        "          colsample_bytree=colsample, n_estimators = n_est, random_state=run_num_15, objective = 'reg:squarederror')\n",
        "    score = np.array(cross_val_score(reg, X=X_train15, y=y_train15).mean())\n",
        "    return operator * score\n",
        "\n",
        "exact_15 = dGPGO(surrogate_exact_15, Acquisition_grad(util), f_syn_polarity15, param, n_jobs = -1) # Define BayesOpt\n",
        "exact_15.run(max_iter = max_iter, init_evals = n_init) # run\n",
        "\n",
        "### Return optimal parameters' set:\n",
        "params_exact_15 = exact_15.getResult()[0]\n",
        "params_exact_15['max_depth'] = int(params_exact_15['max_depth'])\n",
        "params_exact_15['min_child_weight'] = int(params_exact_15['min_child_weight'])\n",
        "\n",
        "### Re-train with optimal parameters, run predictons:\n",
        "dX_exact_train15 = xgb.DMatrix(X_train15, y_train15)\n",
        "dX_exact_test15 = xgb.DMatrix(X_test15, y_test15)\n",
        "model_exact_15 = xgb.train(params_exact_15, dX_exact_train15)\n",
        "pred_exact_15 = model_exact_15.predict(dX_exact_test15)\n",
        "\n",
        "rmse_exact_15 = np.sqrt(mean_squared_error(pred_exact_15, y_test15))\n",
        "rmse_exact_15"
      ],
      "execution_count": null,
      "outputs": [
        {
          "output_type": "stream",
          "name": "stdout",
          "text": [
            "Evaluation \t Proposed point \t  Current eval. \t  Best eval. \t         Max. ExactAcqFunc \t Max. ApproxAcqFunc \n",
            "init\t [ 8.48817697  1.78895925 12.          0.55549316  8.          0.93397854]\t 0.6568473525973234\t 0.6568473525973234\t    \t    \n",
            "init\t [ 0.24953032  8.22298097 12.          0.62494951 11.          0.12924598]\t 0.9115777462403312\t 0.6568473525973234\t    \t    \n",
            "init\t [ 5.02017228  5.50882771 11.          0.85295832 19.          0.13548008]\t 0.9091447847268881\t 0.6568473525973234\t    \t    \n",
            "init\t [2.0023081  9.98543403 7.         0.6295772  2.         0.526127  ]\t 0.702826724376194\t 0.6568473525973234\t    \t    \n",
            "init\t [ 5.09715306  9.45038417 11.          0.7388277  16.          0.22739973]\t 0.9107852583947551\t 0.6568473525973234\t    \t    \n",
            "1  \t [ 0.29158961  4.9949242  12.          0.89124583  3.          0.67554049]\t 0.663179402460053\t 0.6568473525973234\t 2.023599370975699\t 2.023599370975699\n",
            "2  \t [2.60517447 0.82584036 7.         0.6107555  4.         0.25427784]\t 0.8585273074032198\t 0.6568473525973234\t 1.962719910630327\t 1.962719910630327\n",
            "3  \t [ 9.6900225   0.69761314 13.          0.54877119 16.          0.55532692]\t 0.676755395441882\t 0.6568473525973234\t 1.9833615917057523\t 1.9833615917057523\n",
            "4  \t [ 3.00890132  3.25033589  6.          0.76721153 13.          0.286699  ]\t 0.8615658015198442\t 0.6568473525973234\t 1.9456367737220683\t 1.9456367737220683\n",
            "5  \t [ 7.00755347  9.83963845  5.          0.51866345 10.          0.95031515]\t 0.730615339433918\t 0.6568473525973234\t 1.9646257627969435\t 1.9646257627969435\n",
            "6  \t [ 8.69662558  6.80112051 14.          0.50188459  3.          0.90006664]\t 0.6638687110610159\t 0.6568473525973234\t 1.9478342498587267\t 1.9478342498587267\n",
            "\u001b[1m\u001b[92m7\u001b[0m\t \u001b[1m\u001b[92m[10. 10. 15.  1. 20.  1.]\u001b[0m\t \u001b[1m\u001b[92m0.6491916518522693\u001b[0m\t \u001b[1m\u001b[92m0.6491916518522693\u001b[0m\t \u001b[1m\u001b[92m1.9208167718200195\u001b[0m\t \u001b[1m\u001b[92m1.9208167718175135\u001b[0m\n",
            "8  \t [ 9.21941721  9.79827821 11.          0.81783228 11.          0.53477407]\t 0.6659586056207597\t 0.6491916518522693\t 1.8954687904451053\t 1.8954687904451053\n",
            "9  \t [8.88449541 3.44367948 6.         0.58829924 7.         0.7864797 ]\t 0.7097411329660293\t 0.6491916518522693\t 1.8764663570038949\t 1.8764663570038949\n",
            "10 \t [ 8.47779105  8.43696768  5.          0.73890705 16.          0.66738091]\t 0.7564851327663848\t 0.6491916518522693\t 1.8669500852137708\t 1.8669500852137708\n",
            "11 \t [9.8850401  9.05036452 8.         0.98423572 3.         0.82693955]\t 0.6638601166418586\t 0.6491916518522693\t 1.8660226986005466\t 1.8660226986005466\n",
            "12 \t [1.37672687 0.04946237 5.         0.79719419 1.         0.81843222]\t 0.7350998875793917\t 0.6491916518522693\t 1.851939704763464\t 1.851939704763464\n",
            "13 \t [ 0.90706815  0.79490515  7.          0.51831376 19.          0.91250419]\t 0.6855937848974291\t 0.6491916518522693\t 1.848906805749461\t 1.848906805749461\n",
            "14 \t [ 7.24320809  1.00477988 10.          0.73543626  1.          0.62081075]\t 0.6775831216463617\t 0.6491916518522693\t 1.839916296292907\t 1.839916296292907\n",
            "\u001b[1m\u001b[92m15\u001b[0m\t \u001b[1m\u001b[92m[ 3.58964297  7.1703904  14.          0.98600195  8.          0.97766641]\u001b[0m\t \u001b[1m\u001b[92m0.6394751818409936\u001b[0m\t \u001b[1m\u001b[92m0.6394751818409936\u001b[0m\t \u001b[1m\u001b[92m1.8309053049528528\u001b[0m\t \u001b[1m\u001b[92m1.8309053049528528\u001b[0m\n",
            "16 \t [ 8.3663813   2.71045401  6.          0.93358602 19.          0.54898259]\t 0.722555636740782\t 0.6394751818409936\t 1.8185471040187693\t 1.8185471040187693\n",
            "17 \t [ 1.99733414  0.13877735 14.          0.5792705  10.          0.44528521]\t 0.7943377363668869\t 0.6394751818409936\t 1.8163039315600902\t 1.8163039315600902\n",
            "18 \t [ 4.29171811  0.04074186 13.          0.58769183 18.          0.36351335]\t 0.8568574802990294\t 0.6394751818409936\t 1.8223864229099824\t 1.8223864229099824\n",
            "19 \t [ 1.82906731  5.15105244 12.          0.56966528 15.          0.63831204]\t 0.6762407016215379\t 0.6394751818409936\t 1.8352730391124277\t 1.8352730391124277\n",
            "20 \t [1.78502553 6.3382371  7.         0.5356847  8.         0.94131063]\t 0.6859250343998504\t 0.6394751818409936\t 1.828142195499752\t 1.828142195499752\n",
            "21 \t [ 9.26423889 10.         15.          1.         14.44229663  1.        ]\t 0.6457723771986569\t 0.6394751818409936\t 1.8224955570498638\t 1.8224950071151358\n",
            "22 \t [ 0.          0.          8.83635743  0.5        10.83635743  0.1       ]\t 0.9122629412332228\t 0.6394751818409936\t 1.8137795958312553\t 1.8137787103967964\n",
            "23 \t [ 5.3880688   2.65297896 14.          0.90613057  4.          0.23404421]\t 0.9109113159973135\t 0.6394751818409936\t 1.8311250444789156\t 1.8311250444789156\n",
            "24 \t [ 9.36080884  1.0313168   5.          0.6330142  14.          0.51274968]\t 0.756031776613528\t 0.6394751818409936\t 1.8469028877387252\t 1.8469028877387252\n",
            "25 \t [10.          3.26605082 14.98685509  1.         19.98685509  1.        ]\t 0.6479723881006704\t 0.6394751818409936\t 1.847047383832463\t 1.847047049934868\n",
            "26 \t [5.40926155 6.11332903 5.         0.73993604 2.         0.74799534]\t 0.7555933489593251\t 0.6394751818409936\t 1.8390086354138777\t 1.8390086354138777\n",
            "27 \t [ 7.81154233  4.07454888  9.          0.93317853 14.          0.30786282]\t 0.848881320125441\t 0.6394751818409936\t 1.8393754876119215\t 1.8393754876119215\n",
            "28 \t [ 5.94544405  5.28909748 15.          1.         13.09357729  1.        ]\t 0.645213163160023\t 0.6394751818409936\t 1.8473325780125325\t 1.8473320388379795\n",
            "29 \t [ 2.27601751  8.37986432  6.          0.63312332 14.          0.21259169]\t 0.9131057510002976\t 0.6394751818409936\t 1.8398421228677433\t 1.8398421228677433\n",
            "30 \t [ 6.18561281  9.20132045 12.          0.91758231  6.          0.24268371]\t 0.9100686128500474\t 0.6394751818409936\t 1.8527264081559458\t 1.8527264081559458\n"
          ]
        },
        {
          "output_type": "execute_result",
          "data": {
            "text/plain": [
              "49982.6349332846"
            ]
          },
          "metadata": {},
          "execution_count": 56
        }
      ]
    },
    {
      "cell_type": "code",
      "metadata": {
        "id": "5TaP6RoGuiNT",
        "colab": {
          "base_uri": "https://localhost:8080/"
        },
        "outputId": "4a147be7-9702-4b70-8fda-07b1961debb8"
      },
      "source": [
        "### Bayesian optimization runs (x20): 'exact' Acquisition Function run number = 16 \n",
        "\n",
        "np.random.seed(run_num_16)\n",
        "surrogate_exact_16 = dGaussianProcess(cov_func, optimize=opt)\n",
        "\n",
        "X_train16, X_test16, y_train16, y_test16 = train_test_split(X, y, test_size=test_perc, random_state=run_num_16)\n",
        "\n",
        "def f_syn_polarity16(alpha, gamma, max_depth, subsample, min_child_weight, colsample):\n",
        "    reg = XGBRegressor(reg_alpha=alpha, gamma=gamma, max_depth=int(max_depth), subsample=subsample, min_child_weight=min_child_weight,\n",
        "          colsample_bytree=colsample, n_estimators = n_est, random_state=run_num_16, objective = 'reg:squarederror')\n",
        "    score = np.array(cross_val_score(reg, X=X_train16, y=y_train16).mean())\n",
        "    return operator * score\n",
        "\n",
        "exact_16 = dGPGO(surrogate_exact_16, Acquisition_grad(util), f_syn_polarity16, param, n_jobs = -1) # Define BayesOpt\n",
        "exact_16.run(max_iter = max_iter, init_evals = n_init) # run\n",
        "\n",
        "### Return optimal parameters' set:\n",
        "params_exact_16 = exact_16.getResult()[0]\n",
        "params_exact_16['max_depth'] = int(params_exact_16['max_depth'])\n",
        "params_exact_16['min_child_weight'] = int(params_exact_16['min_child_weight'])\n",
        "\n",
        "### Re-train with optimal parameters, run predictons:\n",
        "dX_exact_train16 = xgb.DMatrix(X_train16, y_train16)\n",
        "dX_exact_test16 = xgb.DMatrix(X_test16, y_test16)\n",
        "model_exact_16 = xgb.train(params_exact_16, dX_exact_train16)\n",
        "pred_exact_16 = model_exact_16.predict(dX_exact_test16)\n",
        "\n",
        "rmse_exact_16 = np.sqrt(mean_squared_error(pred_exact_16, y_test16))\n",
        "rmse_exact_16"
      ],
      "execution_count": null,
      "outputs": [
        {
          "output_type": "stream",
          "name": "stdout",
          "text": [
            "Evaluation \t Proposed point \t  Current eval. \t  Best eval. \t         Max. ExactAcqFunc \t Max. ApproxAcqFunc \n",
            "init\t [2.23291079 5.23163341 6.         0.65430839 5.         0.30077285]\t 0.9529819347295859\t 0.8883829281923242\t    \t    \n",
            "init\t [6.88726162 1.63731425 7.         0.97050543 2.         0.25392012]\t 0.9481041389252269\t 0.8883829281923242\t    \t    \n",
            "init\t [ 5.94328983  5.6393473   5.          0.67602695 19.          0.42538144]\t 0.8883829281923242\t 0.8883829281923242\t    \t    \n",
            "init\t [ 0.88741148  3.08148142 14.          0.56043938  9.          0.27515386]\t 0.9564077542414676\t 0.8883829281923242\t    \t    \n",
            "init\t [ 2.74631586  1.30996118 11.          0.52160786  8.          0.27956463]\t 0.9552184743546004\t 0.8883829281923242\t    \t    \n",
            "\u001b[1m\u001b[92m1\u001b[0m\t \u001b[1m\u001b[92m[ 7.8937256   1.5972923  14.          0.61610774 17.          0.78739284]\u001b[0m\t \u001b[1m\u001b[92m0.6878693399983744\u001b[0m\t \u001b[1m\u001b[92m0.6878693399983744\u001b[0m\t \u001b[1m\u001b[92m2.3038043086978512\u001b[0m\t \u001b[1m\u001b[92m2.3038043086978512\u001b[0m\n",
            "2  \t [ 9.65014948  7.07834667 14.          0.88748515  2.          0.43513691]\t 0.8747438848890932\t 0.6878693399983744\t 2.2127292470008197\t 2.2127292470008197\n",
            "3  \t [ 9.80741348  8.90144788 14.          0.82131992 14.          0.46769684]\t 0.8608053593354814\t 0.6878693399983744\t 2.202936744925051\t 2.202936744925051\n",
            "4  \t [ 0.78730688  7.98438553 14.          0.91743896 18.          0.25645593]\t 0.9494553422981233\t 0.6878693399983744\t 2.19131612964073\t 2.19131612964073\n",
            "5  \t [ 1.64983341  0.37890577  9.          0.65437216 16.          0.49641159]\t 0.8646755374886521\t 0.6878693399983744\t 2.2066260948751357\t 2.2066260948751357\n",
            "6  \t [ 5.58043809  8.91463745  8.          0.85851576 10.          0.64398202]\t 0.7307340308882677\t 0.6878693399983744\t 2.1979650026494877\t 2.1979650026494877\n",
            "7  \t [ 2.65571666  4.32529089 14.          0.66921971  2.          0.36607383]\t 0.9623426051674955\t 0.6878693399983744\t 2.1640728662999718\t 2.1640728662999718\n",
            "8  \t [ 5.53392197  2.00879238  6.          0.89871466 12.          0.67694144]\t 0.7620148611738933\t 0.6878693399983744\t 2.1807679404830322\t 2.1807679404830322\n",
            "\u001b[1m\u001b[92m9\u001b[0m\t \u001b[1m\u001b[92m[6.95801625 9.13555009 8.         0.87520198 2.         0.98461662]\u001b[0m\t \u001b[1m\u001b[92m0.6730441336589406\u001b[0m\t \u001b[1m\u001b[92m0.6730441336589406\u001b[0m\t \u001b[1m\u001b[92m2.1582745691264917\u001b[0m\t \u001b[1m\u001b[92m2.1582745691264917\u001b[0m\n",
            "10 \t [0.  0.  5.  0.5 1.  0.1]\t 0.9761208022264058\t 0.6730441336589406\t 2.1258920087542457\t 2.1258920062483635\n",
            "11 \t [ 1.18539745  9.79684488 10.          0.69107903  4.          0.12860486]\t 0.9735436243628346\t 0.6730441336589406\t 2.144617064076166\t 2.144617064076166\n",
            "12 \t [ 8.8197294   2.64777319 14.          0.98646567 10.          0.63786085]\t 0.7141008345477899\t 0.6730441336589406\t 2.1603779364991977\t 2.1603779364991977\n",
            "\u001b[1m\u001b[92m13\u001b[0m\t \u001b[1m\u001b[92m[ 0.26172129  9.94921995 14.          0.88029118  9.          0.93655616]\u001b[0m\t \u001b[1m\u001b[92m0.6551680070961308\u001b[0m\t \u001b[1m\u001b[92m0.6551680070961308\u001b[0m\t \u001b[1m\u001b[92m2.1383760296449847\u001b[0m\t \u001b[1m\u001b[92m2.1383760296449847\u001b[0m\n",
            "14 \t [ 9.63904847  1.13624975 14.          0.67706869  2.          0.95236673]\t 0.6655207401201757\t 0.6551680070961308\t 2.112283077956979\t 2.112283077956979\n",
            "15 \t [ 0.02157337  9.97534925  5.          0.75404051 13.          0.40760752]\t 0.8854668121365705\t 0.6551680070961308\t 2.0897000849845546\t 2.0897000849845546\n",
            "16 \t [ 5.73702737  7.50903876 13.          0.61487351 15.          0.57742278]\t 0.7778153254020743\t 0.6551680070961308\t 2.093733448118703\t 2.093733448118703\n",
            "17 \t [ 7.10469951  6.34150339 11.          0.9481748   6.          0.12277199]\t 0.9718611347031094\t 0.6551680070961308\t 2.0851440505605074\t 2.0851440505605074\n",
            "\u001b[1m\u001b[92m18\u001b[0m\t \u001b[1m\u001b[92m[10. 10. 15.  1. 20.  1.]\u001b[0m\t \u001b[1m\u001b[92m0.6493784945243817\u001b[0m\t \u001b[1m\u001b[92m0.6493784945243817\u001b[0m\t \u001b[1m\u001b[92m2.0994547333024633\u001b[0m\t \u001b[1m\u001b[92m2.0994544744827834\u001b[0m\n",
            "19 \t [ 8.59406441  8.78568802  9.          0.91225225 18.          0.8490503 ]\t 0.6862655208656384\t 0.6493784945243817\t 2.079939020359984\t 2.079939020359984\n",
            "20 \t [8.75370971 6.63075821 5.         0.51315816 7.         0.52603065]\t 0.8073058384557079\t 0.6493784945243817\t 2.0648382622637262\t 2.0648382622637262\n",
            "21 \t [ 9.99386934  5.02816989  8.          0.55649553 14.          0.90191945]\t 0.6762300545524115\t 0.6493784945243817\t 2.06140894503192\t 2.06140894503192\n",
            "22 \t [ 0.99836011  5.48181888  8.02868344  0.5        11.02868344  0.1       ]\t 0.9737157209462687\t 0.6493784945243817\t 2.0473034356984385\t 2.047302447719425\n",
            "23 \t [ 3.65536835  8.11784641  8.          0.98715029 16.          0.54731662]\t 0.77590743437461\t 0.6493784945243817\t 2.06083386676323\t 2.06083386676323\n",
            "24 \t [9.80508544 0.83042511 7.         0.54124599 9.         0.7836072 ]\t 0.7113005276137964\t 0.6493784945243817\t 2.055327415820411\t 2.055327415820411\n",
            "25 \t [ 9.31851763  0.06323567 10.          0.84876026 13.          0.97965305]\t 0.660053100016843\t 0.6493784945243817\t 2.045332493545845\t 2.045332493545845\n",
            "26 \t [ 5.38505352  0.27838384  8.          0.64624975 19.          0.94943729]\t 0.6741571003845405\t 0.6493784945243817\t 2.0325041009039277\t 2.0325041009039277\n",
            "27 \t [ 0.2375092   5.20448002  7.          0.887766   16.          0.16167958]\t 0.971082975245141\t 0.6493784945243817\t 2.0213309726096\t 2.0213309726096\n",
            "28 \t [ 1.9619463   0.16028995 10.          0.50330845  2.          0.6207421 ]\t 0.7893707891931834\t 0.6493784945243817\t 2.0334479009718778\t 2.0334479009718778\n",
            "29 \t [ 0.          1.49372721  5.          0.5        12.84890732  0.1       ]\t 0.975832568729668\t 0.6493784945243817\t 2.0304786145614746\t 2.03047887678081\n",
            "\u001b[1m\u001b[92m30\u001b[0m\t \u001b[1m\u001b[92m[10.          7.94805311 14.69446325  1.          7.69446325  1.        ]\u001b[0m\t \u001b[1m\u001b[92m0.6469284373153619\u001b[0m\t \u001b[1m\u001b[92m0.6469284373153619\u001b[0m\t \u001b[1m\u001b[92m2.0419646550260486\u001b[0m\t \u001b[1m\u001b[92m2.041964984064642\u001b[0m\n"
          ]
        },
        {
          "output_type": "execute_result",
          "data": {
            "text/plain": [
              "50464.36043981432"
            ]
          },
          "metadata": {},
          "execution_count": 57
        }
      ]
    },
    {
      "cell_type": "code",
      "metadata": {
        "id": "NiOaMUmgulbx",
        "colab": {
          "base_uri": "https://localhost:8080/"
        },
        "outputId": "0a96a1c8-8439-4a0e-c3da-dc0bfed0ba4b"
      },
      "source": [
        "### Bayesian optimization runs (x20): 'exact' Acquisition Function run number = 17 \n",
        "\n",
        "np.random.seed(run_num_17)\n",
        "surrogate_exact_17 = dGaussianProcess(cov_func, optimize=opt)\n",
        "\n",
        "X_train17, X_test17, y_train17, y_test17 = train_test_split(X, y, test_size=test_perc, random_state=run_num_17)\n",
        "\n",
        "def f_syn_polarity17(alpha, gamma, max_depth, subsample, min_child_weight, colsample):\n",
        "    reg = XGBRegressor(reg_alpha=alpha, gamma=gamma, max_depth=int(max_depth), subsample=subsample, min_child_weight=min_child_weight,\n",
        "          colsample_bytree=colsample, n_estimators = n_est, random_state=run_num_17, objective = 'reg:squarederror')\n",
        "    score = np.array(cross_val_score(reg, X=X_train17, y=y_train17).mean())\n",
        "    return operator * score\n",
        "\n",
        "exact_17 = dGPGO(surrogate_exact_17, Acquisition_grad(util), f_syn_polarity17, param, n_jobs = -1) # Define BayesOpt\n",
        "exact_17.run(max_iter = max_iter, init_evals = n_init) # run\n",
        "\n",
        "### Return optimal parameters' set:\n",
        "params_exact_17 = exact_17.getResult()[0]\n",
        "params_exact_17['max_depth'] = int(params_exact_17['max_depth'])\n",
        "params_exact_17['min_child_weight'] = int(params_exact_17['min_child_weight'])\n",
        "\n",
        "### Re-train with optimal parameters, run predictons:\n",
        "dX_exact_train17 = xgb.DMatrix(X_train17, y_train17)\n",
        "dX_exact_test17 = xgb.DMatrix(X_test17, y_test17)\n",
        "model_exact_17 = xgb.train(params_exact_17, dX_exact_train17)\n",
        "pred_exact_17 = model_exact_17.predict(dX_exact_test17)\n",
        "\n",
        "rmse_exact_17 = np.sqrt(mean_squared_error(pred_exact_17, y_test17))\n",
        "rmse_exact_17"
      ],
      "execution_count": null,
      "outputs": [
        {
          "output_type": "stream",
          "name": "stdout",
          "text": [
            "Evaluation \t Proposed point \t  Current eval. \t  Best eval. \t         Max. ExactAcqFunc \t Max. ApproxAcqFunc \n",
            "init\t [ 2.94665003  5.30586756 11.          0.94443241 14.          0.80828691]\t 0.7141038418197827\t 0.7141038418197827\t    \t    \n",
            "init\t [ 6.56333522  6.37520896 12.          0.81487881 18.          0.42203224]\t 0.8024876355160464\t 0.7141038418197827\t    \t    \n",
            "init\t [ 9.45683187  0.6004468  11.          0.5171566  10.          0.53881211]\t 0.7659849712152795\t 0.7141038418197827\t    \t    \n",
            "init\t [2.72705857 1.19063434 6.         0.74176431 6.         0.10101151]\t 0.9684453836634761\t 0.7141038418197827\t    \t    \n",
            "init\t [ 4.77631812  5.24671297 13.          0.66254476 19.          0.36708086]\t 0.8556892362199922\t 0.7141038418197827\t    \t    \n",
            "1  \t [ 0.65702322  5.79284078 13.          0.75136902  1.          0.30306068]\t 0.86898292288902\t 0.7141038418197827\t 2.0077827046598387\t 2.0077827046598387\n",
            "2  \t [8.79462978 7.51560605 6.         0.76312232 8.         0.57156636]\t 0.778300364354035\t 0.7141038418197827\t 2.0284125329387566\t 2.0284125329387566\n",
            "3  \t [0.65992542 7.03112384 5.         0.85138174 1.         0.9514344 ]\t 0.726434848802118\t 0.7141038418197827\t 2.0114406091213497\t 2.0114406091213497\n",
            "4  \t [ 9.51671323  9.6124566  13.          0.71797221  5.          0.16581182]\t 0.9672674042711217\t 0.7141038418197827\t 1.9839196996781356\t 1.9839196996781356\n",
            "5  \t [ 9.17797544  5.99568118  6.          0.52445603 15.          0.40946449]\t 0.826366430225874\t 0.7141038418197827\t 2.030356745015266\t 2.030356745015266\n",
            "6  \t [ 6.81284184  2.29577018  7.          0.5239727  13.          0.33920765]\t 0.8659399691320455\t 0.7141038418197827\t 2.0373258276438833\t 2.0373258276438833\n",
            "7  \t [ 2.46339402  0.14039019 14.          0.95096219  7.          0.5441132 ]\t 0.7563633439329396\t 0.7141038418197827\t 2.0382142359399116\t 2.0382142359399116\n",
            "8  \t [9.72843652 3.88893279 9.         0.6901555  1.         0.31608219]\t 0.861798864893942\t 0.7141038418197827\t 2.0234048022491202\t 2.0234048022491202\n",
            "9  \t [ 1.2716555   3.78378689  5.          0.57556817 17.          0.18163876]\t 0.9716163961274858\t 0.7141038418197827\t 2.0302744941748716\t 2.0302744941748716\n",
            "10 \t [1.38490793 6.87002541 5.         0.73931504 9.         0.41767138]\t 0.829976302946727\t 0.7141038418197827\t 2.0572246160758985\t 2.0572246160758985\n",
            "11 \t [ 0.19725752  8.16335211 14.          0.80836431  8.          0.45209851]\t 0.8069651446453449\t 0.7141038418197827\t 2.0556196861170024\t 2.0556196861170024\n",
            "12 \t [0.  0.  5.  0.5 1.  0.1]\t 0.973743062796521\t 0.7141038418197827\t 2.0507733047837595\t 2.0507733034170927\n",
            "\u001b[1m\u001b[92m13\u001b[0m\t \u001b[1m\u001b[92m[ 3.59195217  9.80069458 14.46395668  1.         13.46395668  1.        ]\u001b[0m\t \u001b[1m\u001b[92m0.6456659252877076\u001b[0m\t \u001b[1m\u001b[92m0.6456659252877076\u001b[0m\t \u001b[1m\u001b[92m2.071938426735078\u001b[0m\t \u001b[1m\u001b[92m2.071938316374752\u001b[0m\n",
            "14 \t [ 7.35111323  4.42247898 14.          0.92954426  7.          0.31778445]\t 0.8561431043387969\t 0.6456659252877076\t 2.0477780050203123\t 2.0477780050203123\n",
            "15 \t [ 9.19532326  8.42928342 11.          0.5289521  11.          0.74996998]\t 0.7306673350944987\t 0.6456659252877076\t 2.050404123441309\t 2.050404123441309\n",
            "16 \t [6.14842106 3.92031042 5.         0.80436272 5.         0.42842685]\t 0.8298337600349435\t 0.6456659252877076\t 2.0419456390784188\t 2.0419456390784188\n",
            "17 \t [ 8.71411284 10.         15.          1.         20.          1.        ]\t 0.6457002498512738\t 0.6456659252877076\t 2.0378997130570586\t 2.0378998102967643\n",
            "18 \t [3.21543768 9.27540715 7.30100001 1.         4.30100001 1.        ]\t 0.6762117159594514\t 0.6456659252877076\t 2.0193974865003064\t 2.0193972668750315\n",
            "19 \t [ 0.45348627  9.34732483 12.          0.95759453 19.          0.71400033]\t 0.7137199048529451\t 0.6456659252877076\t 2.0049816697104608\t 2.0049816697104608\n",
            "20 \t [ 6.88175573  0.68997438  9.          0.55006192 19.          0.74555899]\t 0.7341056462061506\t 0.6456659252877076\t 1.9949442604148335\t 1.9949442604148335\n",
            "21 \t [ 7.32262595  0.987487   14.          0.78324612 14.          0.76403633]\t 0.7129217809179572\t 0.6456659252877076\t 1.9874473272421322\t 1.9874473272421322\n",
            "22 \t [10.          8.60512129  7.32316083  1.         19.32316083  1.        ]\t 0.6751862254562437\t 0.6456659252877076\t 1.978715753239885\t 1.978716141715237\n",
            "23 \t [ 1.82571417  1.10459506  8.          0.86860341 12.          0.79911304]\t 0.7245512187959985\t 0.6456659252877076\t 1.9705366879410022\t 1.9705366879410022\n",
            "24 \t [ 6.29608276  2.95005189 13.          0.54497938  1.          0.46521165]\t 0.8294583632030414\t 0.6456659252877076\t 1.9610794317107658\t 1.961079873556879\n",
            "25 \t [9.66959108 0.03423869 5.         0.63791788 7.         0.65549808]\t 0.7797393754763862\t 0.6456659252877076\t 1.96355907293928\t 1.96355907293928\n",
            "26 \t [ 3.48848181 10.          8.05755142  1.         11.05755142  1.        ]\t 0.6628017804606305\t 0.6456659252877076\t 1.9617955915100433\t 1.9617950102668746\n",
            "27 \t [ 5.48379726  6.58855631  5.          0.91493075 18.          0.89669113]\t 0.7275389527778259\t 0.6456659252877076\t 1.95435020417759\t 1.95435020417759\n",
            "\u001b[1m\u001b[92m28\u001b[0m\t \u001b[1m\u001b[92m[10.          9.41707104 15.          1.         14.23412687  1.        ]\u001b[0m\t \u001b[1m\u001b[92m0.6454802782627663\u001b[0m\t \u001b[1m\u001b[92m0.6454802782627663\u001b[0m\t \u001b[1m\u001b[92m1.9467193796700206\u001b[0m\t \u001b[1m\u001b[92m1.9467187153483887\u001b[0m\n",
            "29 \t [ 0.30609514  2.49894713 14.          0.69397027 18.          0.71750058]\t 0.7193266691045255\t 0.6454802782627663\t 1.9366545717792971\t 1.9366545717792971\n",
            "30 \t [7.09089096 0.15824242 6.3104263  0.5        1.3104263  0.1       ]\t 0.9731847360919395\t 0.6454802782627663\t 1.9317420824489775\t 1.9317415137349048\n"
          ]
        },
        {
          "output_type": "execute_result",
          "data": {
            "text/plain": [
              "48192.62034549872"
            ]
          },
          "metadata": {},
          "execution_count": 58
        }
      ]
    },
    {
      "cell_type": "code",
      "metadata": {
        "id": "5H4MWSXFcZjO",
        "colab": {
          "base_uri": "https://localhost:8080/"
        },
        "outputId": "f7d53541-0307-490f-e5d3-8a69b74ced89"
      },
      "source": [
        "### Bayesian optimization runs (x20): 'exact' Acquisition Function run number = 18 \n",
        "\n",
        "np.random.seed(run_num_18)\n",
        "surrogate_exact_18 = dGaussianProcess(cov_func, optimize=opt)\n",
        "\n",
        "X_train18, X_test18, y_train18, y_test18 = train_test_split(X, y, test_size=test_perc, random_state=run_num_18)\n",
        "\n",
        "def f_syn_polarity18(alpha, gamma, max_depth, subsample, min_child_weight, colsample):\n",
        "    reg = XGBRegressor(reg_alpha=alpha, gamma=gamma, max_depth=int(max_depth), subsample=subsample, min_child_weight=min_child_weight,\n",
        "          colsample_bytree=colsample, n_estimators = n_est, random_state=run_num_18, objective = 'reg:squarederror')\n",
        "    score = np.array(cross_val_score(reg, X=X_train18, y=y_train18).mean())\n",
        "    return operator * score\n",
        "\n",
        "exact_18 = dGPGO(surrogate_exact_18, Acquisition_grad(util), f_syn_polarity18, param, n_jobs = -1) # Define BayesOpt\n",
        "exact_18.run(max_iter = max_iter, init_evals = n_init) # run\n",
        "\n",
        "### Return optimal parameters' set:\n",
        "params_exact_18 = exact_18.getResult()[0]\n",
        "params_exact_18['max_depth'] = int(params_exact_18['max_depth'])\n",
        "params_exact_18['min_child_weight'] = int(params_exact_18['min_child_weight'])\n",
        "\n",
        "### Re-train with optimal parameters, run predictons:\n",
        "dX_exact_train18 = xgb.DMatrix(X_train18, y_train18)\n",
        "dX_exact_test18 = xgb.DMatrix(X_test18, y_test18)\n",
        "model_exact_18 = xgb.train(params_exact_18, dX_exact_train18)\n",
        "pred_exact_18 = model_exact_18.predict(dX_exact_test18)\n",
        "\n",
        "rmse_exact_18 = np.sqrt(mean_squared_error(pred_exact_18, y_test18))\n",
        "rmse_exact_18"
      ],
      "execution_count": null,
      "outputs": [
        {
          "output_type": "stream",
          "name": "stdout",
          "text": [
            "Evaluation \t Proposed point \t  Current eval. \t  Best eval. \t         Max. ExactAcqFunc \t Max. ApproxAcqFunc \n",
            "init\t [6.50374242 5.05453374 6.         0.59092011 3.         0.28357516]\t 0.9953081887469889\t 0.7220763687473127\t    \t    \n",
            "init\t [0.11506734 4.26891483 9.         0.81785956 5.         0.63489043]\t 0.7220763687473127\t 0.7220763687473127\t    \t    \n",
            "init\t [ 2.8861259   6.35547834 11.          0.64267955 14.          0.27877092]\t 0.9889075947558364\t 0.7220763687473127\t    \t    \n",
            "init\t [6.57189031 6.99655629 8.         0.63235896 4.         0.52894035]\t 0.7606594495187335\t 0.7220763687473127\t    \t    \n",
            "init\t [ 6.66600348  2.11312037 14.          0.74363461  4.          0.73174558]\t 0.7225304513182221\t 0.7220763687473127\t    \t    \n",
            "1  \t [ 8.67093232  0.11649132  5.          0.92962202 15.          0.53672863]\t 0.8181138208820815\t 0.7220763687473127\t 2.070538765038124\t 2.070538765038124\n",
            "\u001b[1m\u001b[92m2\u001b[0m\t \u001b[1m\u001b[92m[ 7.2764983   0.11744451 14.          0.65239666 17.          0.99049521]\u001b[0m\t \u001b[1m\u001b[92m0.6527007643358951\u001b[0m\t \u001b[1m\u001b[92m0.6527007643358951\u001b[0m\t \u001b[1m\u001b[92m2.0595920600058677\u001b[0m\t \u001b[1m\u001b[92m2.0595920600058677\u001b[0m\n",
            "3  \t [ 6.9243088   2.24175244  9.          0.535904   10.          0.52104842]\t 0.7581381331811782\t 0.6527007643358951\t 2.0002724316007097\t 2.0002724316007097\n",
            "4  \t [ 9.05522886  7.72410538  5.          0.69563915 18.          0.34113663]\t 0.995752758561317\t 0.6527007643358951\t 1.9829358230892975\t 1.9829358230892975\n",
            "5  \t [ 9.98394208  8.5932438  14.          0.75596751 19.          0.64506065]\t 0.7153197782842456\t 0.6527007643358951\t 2.041608689913497\t 2.041608689913497\n",
            "\u001b[1m\u001b[92m6\u001b[0m\t \u001b[1m\u001b[92m[10.         10.         13.41892146  1.          7.41892146  1.        ]\u001b[0m\t \u001b[1m\u001b[92m0.6435447991477096\u001b[0m\t \u001b[1m\u001b[92m0.6435447991477096\u001b[0m\t \u001b[1m\u001b[92m2.0118526346328323\u001b[0m\t \u001b[1m\u001b[92m2.0118526346305416\u001b[0m\n",
            "7  \t [ 0.08591204  9.74195655 12.          0.74151757  5.          0.3185873 ]\t 0.9924921815415448\t 0.6435447991477096\t 1.9762316551194086\t 1.9762316551194086\n",
            "8  \t [0.  0.  5.  0.5 1.  0.1]\t 1.0171212608349944\t 0.6435447991477096\t 2.018056943098405\t 2.018056942868209\n",
            "9  \t [ 1.80118477  1.19747778 13.          0.79590104  8.          0.56741067]\t 0.7386631133573338\t 0.6435447991477096\t 2.058338757490691\t 2.058338757490691\n",
            "10 \t [ 2.63732683  4.87962717 14.          0.99986359 19.          0.86504659]\t 0.664354143494327\t 0.6435447991477096\t 2.04156101226663\t 2.04156101226663\n",
            "11 \t [ 0.2637722   4.11659493  5.          0.61604637 11.          0.22374653]\t 1.0148667858309313\t 0.6435447991477096\t 2.0165944758769916\t 2.0165944758769916\n",
            "12 \t [ 8.56482477  9.24926819  7.          0.5563792  11.          0.77957337]\t 0.7232563037840423\t 0.6435447991477096\t 2.0490779216381005\t 2.0490779216381005\n",
            "13 \t [ 1.3916722   9.15131624  5.          0.92812295 18.          0.82773453]\t 0.7760470257675838\t 0.6435447991477096\t 2.0338043872044262\t 2.0338043872044262\n",
            "\u001b[1m\u001b[92m14\u001b[0m\t \u001b[1m\u001b[92m[10.          4.96850666 15.          1.         13.8488609   1.        ]\u001b[0m\t \u001b[1m\u001b[92m0.6419310258048125\u001b[0m\t \u001b[1m\u001b[92m0.6419310258048125\u001b[0m\t \u001b[1m\u001b[92m2.0266505476251493\u001b[0m\t \u001b[1m\u001b[92m2.026650446918981\u001b[0m\n",
            "15 \t [ 2.3725221   1.25906939 10.          0.50882646  1.          0.22780426]\t 1.0082961642923962\t 0.6419310258048125\t 2.0053094963549913\t 2.0053096367696615\n",
            "16 \t [ 0.71491502  0.67997826 10.          0.84656193 16.          0.26877596]\t 0.9849909769793056\t 0.6419310258048125\t 2.0310593068383684\t 2.0310593068383684\n",
            "17 \t [ 5.01391374  9.05765577 13.          0.9768187   1.          0.92456281]\t 0.6482799985621007\t 0.6419310258048125\t 2.0508451265463146\t 2.0508451265463146\n",
            "18 \t [0.        0.        5.        0.5       7.5361019 0.1      ]\t 1.0169021736510433\t 0.6419310258048125\t 2.03209304600164\t 2.032092858603004\n",
            "19 \t [9.2798599  7.10759547 6.         0.7926243  1.         0.10786223]\t 1.0088210680321927\t 0.6419310258048125\t 2.0553167194163566\t 2.0553167194163566\n",
            "20 \t [ 6.02194149  6.46806979 13.          0.63216095 10.          0.2491756 ]\t 1.0062876846660285\t 0.6419310258048125\t 2.0731756001318695\t 2.0731756001318695\n",
            "21 \t [ 1.2588084   9.80413977  5.          0.75618546 12.          0.53020258]\t 0.8196793624782129\t 0.6419310258048125\t 2.0902545530592223\t 2.0902545530592223\n",
            "\u001b[1m\u001b[92m22\u001b[0m\t \u001b[1m\u001b[92m[ 3.38560115 10.         14.51210253  1.         15.51210253  1.        ]\u001b[0m\t \u001b[1m\u001b[92m0.6407025972277356\u001b[0m\t \u001b[1m\u001b[92m0.6407025972277356\u001b[0m\t \u001b[1m\u001b[92m2.087142641529764\u001b[0m\t \u001b[1m\u001b[92m2.0871414693946493\u001b[0m\n",
            "23 \t [ 5.84006958  2.28845581  8.          0.66010373 19.          0.76603621]\t 0.6986391828238397\t 0.6407025972277356\t 2.0702775620959724\t 2.0702775620959724\n",
            "24 \t [10.          3.81354932 11.00499123  1.         19.00499123  1.        ]\t 0.6451635541019289\t 0.6407025972277356\t 2.0585349875053764\t 2.0585353106506954\n",
            "25 \t [1.07172211 9.91320527 6.         0.98176043 4.         0.24706724]\t 1.0106629985673714\t 0.6407025972277356\t 2.043908728376113\t 2.043908728376113\n",
            "26 \t [10.         10.         11.02416652  1.         14.02416652  1.        ]\t 0.6442414147254452\t 0.6407025972277356\t 2.059756372771058\t 2.059756198276147\n",
            "27 \t [ 0.73123826  2.56521786 14.59518562  1.         12.59518562  1.        ]\t 0.6440434945693146\t 0.6407025972277356\t 2.0459881922202783\t 2.0459876858863955\n",
            "28 \t [0.68687496 7.61952967 6.         0.69420959 8.         0.10232955]\t 1.0098398215101554\t 0.6407025972277356\t 2.033849747913976\t 2.033849747913976\n",
            "29 \t [9.89337178 3.81875947 5.         0.59649267 7.         0.86884145]\t 0.7753063665062683\t 0.6407025972277356\t 2.0485625207649085\t 2.0485625207649085\n",
            "30 \t [ 0.          0.          5.          0.5        14.96507401  0.1       ]\t 1.016751509906702\t 0.6407025972277356\t 2.0435082767172297\t 2.0435079813792307\n"
          ]
        },
        {
          "output_type": "execute_result",
          "data": {
            "text/plain": [
              "48268.101960219006"
            ]
          },
          "metadata": {},
          "execution_count": 59
        }
      ]
    },
    {
      "cell_type": "code",
      "metadata": {
        "id": "B-zaPbk2uuzH",
        "colab": {
          "base_uri": "https://localhost:8080/"
        },
        "outputId": "0d948242-1202-4afe-c88a-e04763b82890"
      },
      "source": [
        "### Bayesian optimization runs (x20): 'exact' Acquisition Function run number = 19 \n",
        "\n",
        "np.random.seed(run_num_19)\n",
        "surrogate_exact_19 = dGaussianProcess(cov_func, optimize=opt)\n",
        "\n",
        "X_train19, X_test19, y_train19, y_test19 = train_test_split(X, y, test_size=test_perc, random_state=run_num_19)\n",
        "\n",
        "def f_syn_polarity19(alpha, gamma, max_depth, subsample, min_child_weight, colsample):\n",
        "    reg = XGBRegressor(reg_alpha=alpha, gamma=gamma, max_depth=int(max_depth), subsample=subsample, min_child_weight=min_child_weight,\n",
        "          colsample_bytree=colsample, n_estimators = n_est, random_state=run_num_19, objective = 'reg:squarederror')\n",
        "    score = np.array(cross_val_score(reg, X=X_train19, y=y_train19).mean())\n",
        "    return operator * score\n",
        "\n",
        "exact_19 = dGPGO(surrogate_exact_19, Acquisition_grad(util), f_syn_polarity19, param, n_jobs = -1) # Define BayesOpt\n",
        "exact_19.run(max_iter = max_iter, init_evals = n_init) # run\n",
        "\n",
        "### Return optimal parameters' set:\n",
        "params_exact_19 = exact_19.getResult()[0]\n",
        "params_exact_19['max_depth'] = int(params_exact_19['max_depth'])\n",
        "params_exact_19['min_child_weight'] = int(params_exact_19['min_child_weight'])\n",
        "\n",
        "### Re-train with optimal parameters, run predictons:\n",
        "dX_exact_train19 = xgb.DMatrix(X_train19, y_train19)\n",
        "dX_exact_test19 = xgb.DMatrix(X_test19, y_test19)\n",
        "model_exact_19 = xgb.train(params_exact_19, dX_exact_train19)\n",
        "pred_exact_19 = model_exact_19.predict(dX_exact_test19)\n",
        "\n",
        "rmse_exact_19 = np.sqrt(mean_squared_error(pred_exact_19, y_test19))\n",
        "rmse_exact_19"
      ],
      "execution_count": null,
      "outputs": [
        {
          "output_type": "stream",
          "name": "stdout",
          "text": [
            "Evaluation \t Proposed point \t  Current eval. \t  Best eval. \t         Max. ExactAcqFunc \t Max. ApproxAcqFunc \n",
            "init\t [ 0.97533602  7.61249717 13.          0.85765469 11.          0.39830191]\t 0.7381578397530673\t 0.7295721630591281\t    \t    \n",
            "init\t [ 0.82999565  6.71977081  6.          0.50407413 19.          0.67209466]\t 0.7470234185181706\t 0.7295721630591281\t    \t    \n",
            "init\t [ 2.15923256  5.49027432 12.          0.52588686 10.          0.20235326]\t 1.018052265694813\t 0.7295721630591281\t    \t    \n",
            "init\t [4.99659267 1.52108422 6.         0.73481085 4.         0.71949465]\t 0.7455570460653044\t 0.7295721630591281\t    \t    \n",
            "init\t [ 3.72927156  9.46160045  5.          0.80554614 18.          0.97708466]\t 0.7295721630591281\t 0.7295721630591281\t    \t    \n",
            "\u001b[1m\u001b[92m1\u001b[0m\t \u001b[1m\u001b[92m[ 8.33060043  1.42030563  8.          0.92863724 14.          0.78606141]\u001b[0m\t \u001b[1m\u001b[92m0.6773838424850286\u001b[0m\t \u001b[1m\u001b[92m0.6773838424850286\u001b[0m\t \u001b[1m\u001b[92m1.9599149824328386\u001b[0m\t \u001b[1m\u001b[92m1.9599149824328386\u001b[0m\n",
            "2  \t [ 9.87536409  7.17591217 14.          0.99713522 17.          0.55460731]\t 0.7019341665321482\t 0.6773838424850286\t 1.913087116497309\t 1.913087116497309\n",
            "3  \t [ 9.05225624  3.60011377 14.          0.89518364  1.          0.11342054]\t 1.0199606306890758\t 0.6773838424850286\t 1.8866328099451275\t 1.8866328099451275\n",
            "4  \t [ 0.63994078  3.71351436 14.          0.60091862  1.          0.58598556]\t 0.7327508164518542\t 0.6773838424850286\t 1.9734994960831846\t 1.9734994960831846\n",
            "5  \t [4.99125702 9.50308409 8.         0.55828329 3.         0.34673953]\t 0.8626234515673594\t 0.6773838424850286\t 1.9544576956243822\t 1.9544576956243822\n",
            "6  \t [ 1.75895835  6.57561646  5.          0.5        11.74942566  0.1       ]\t 1.0123750187307672\t 0.6773838424850286\t 1.9708845612156713\t 1.9708845610933836\n",
            "7  \t [ 3.74566023  2.13062241 14.          0.71219729 18.          0.68959412]\t 0.7065170119936448\t 0.6773838424850286\t 2.02244858211896\t 2.02244858211896\n",
            "\u001b[1m\u001b[92m8\u001b[0m\t \u001b[1m\u001b[92m[ 8.78531367  5.16236615 10.          0.71284072  9.          0.88546543]\u001b[0m\t \u001b[1m\u001b[92m0.6722375711719282\u001b[0m\t \u001b[1m\u001b[92m0.6722375711719282\u001b[0m\t \u001b[1m\u001b[92m1.9997557406803521\u001b[0m\t \u001b[1m\u001b[92m1.9997557406803521\u001b[0m\n",
            "9  \t [ 2.19431997  0.03640407  7.          0.62674231 12.          0.80025129]\t 0.6943584427070677\t 0.6722375711719282\t 1.9748358611493773\t 1.9748358611493773\n",
            "10 \t [ 4.45643696  6.43761151 10.          0.59521711 15.          0.91320177]\t 0.6773536163008785\t 0.6722375711719282\t 1.9565366141784848\t 1.9565366141784848\n",
            "11 \t [ 8.347612    9.05501181  5.          0.50033019 10.          0.41046448]\t 0.7834119309620006\t 0.6722375711719282\t 1.9381322228486844\t 1.9381322228486844\n",
            "12 \t [0.65143665 0.43333944 8.         0.99854237 1.         0.16016316]\t 1.0166352242080512\t 0.6722375711719282\t 1.936939433594783\t 1.936939433594783\n",
            "13 \t [0.04130113 6.56643894 8.         0.8316257  6.         0.23623124]\t 1.0149681655113947\t 0.6722375711719282\t 1.9737845800455918\t 1.9737845800455918\n",
            "14 \t [ 9.18890824  5.50760906  5.          0.92553651 18.          0.76040056]\t 0.7335321473751593\t 0.6722375711719282\t 2.0056863340172306\t 2.0056863340172306\n",
            "15 \t [ 8.99876272  0.14180428 14.          0.5207566  10.          0.28841204]\t 0.8640399232649498\t 0.6722375711719282\t 1.9952366041736993\t 1.9952366041736993\n",
            "16 \t [ 0.9019348   8.21531788 14.          0.85098746 17.          0.41254672]\t 0.7391934581482711\t 0.6722375711719282\t 2.001472002746921\t 2.001472002746921\n",
            "17 \t [9.42305669 0.3423134  7.         0.77066127 8.         0.63693457]\t 0.7280806792663158\t 0.6722375711719282\t 1.9927994339697177\t 1.9927994339697177\n",
            "18 \t [ 4.53712581  0.82823489 12.          0.77278662  7.          0.49955948]\t 0.7418182765032342\t 0.6722375711719282\t 1.9837618975455322\t 1.9837618975455322\n",
            "19 \t [ 9.97958622  9.03409533 12.          0.51772082  4.          0.45869101]\t 0.7501971944554292\t 0.6722375711719282\t 1.9768070543695815\t 1.9768070543695815\n",
            "\u001b[1m\u001b[92m20\u001b[0m\t \u001b[1m\u001b[92m[10.         10.          8.38011117  1.         20.          1.        ]\u001b[0m\t \u001b[1m\u001b[92m0.6711453076896204\u001b[0m\t \u001b[1m\u001b[92m0.6711453076896204\u001b[0m\t \u001b[1m\u001b[92m1.9712030609592905\u001b[0m\t \u001b[1m\u001b[92m1.9712029398204716\u001b[0m\n",
            "21 \t [ 3.16526468  9.88957695 14.          0.66718624  2.          0.49421519]\t 0.754638877583424\t 0.6711453076896204\t 1.95916319291721\t 1.95916319291721\n",
            "22 \t [9.45817904 5.07482593 5.         0.8727678  6.         0.48725282]\t 0.7840445337336488\t 0.6711453076896204\t 1.9550217879341563\t 1.9550217879341563\n",
            "23 \t [1.72494605 7.33858862 5.         0.5        1.         0.1       ]\t 1.0128744970813746\t 0.6711453076896204\t 1.9537540552141226\t 1.9537533944731895\n",
            "\u001b[1m\u001b[92m24\u001b[0m\t \u001b[1m\u001b[92m[ 9.73418959  9.54467348 12.4113706   1.         10.4113706   1.        ]\u001b[0m\t \u001b[1m\u001b[92m0.6510500032625633\u001b[0m\t \u001b[1m\u001b[92m0.6510500032625633\u001b[0m\t \u001b[1m\u001b[92m1.9750104482827102\u001b[0m\t \u001b[1m\u001b[92m1.9750108681035419\u001b[0m\n",
            "25 \t [ 0.43243892  2.15970764 11.6598002   0.5        14.6598002   0.1       ]\t 1.0156352787457366\t 0.6510500032625633\t 1.963124244400266\t 1.9631242088788536\n",
            "26 \t [ 4.53180487  0.0612731  11.50016617  0.5         1.50016617  0.1       ]\t 1.0193560199836262\t 0.6510500032625633\t 1.9828509441349007\t 1.98285086061333\n",
            "\u001b[1m\u001b[92m27\u001b[0m\t \u001b[1m\u001b[92m[ 7.05604369  4.57549649 15.          1.         11.72304426  1.        ]\u001b[0m\t \u001b[1m\u001b[92m0.6499323326996702\u001b[0m\t \u001b[1m\u001b[92m0.6499323326996702\u001b[0m\t \u001b[1m\u001b[92m2.001494769476053\u001b[0m\t \u001b[1m\u001b[92m2.00149420322431\u001b[0m\n",
            "28 \t [ 4.53470807  2.6500816   5.          0.70480421 17.          0.65004423]\t 0.7697998132860621\t 0.6499323326996702\t 1.9899745036442582\t 1.9899745036442582\n",
            "29 \t [ 8.73793669  2.43663345 11.          0.74070373 19.          0.18745114]\t 1.016658260578657\t 0.6499323326996702\t 1.9868928544902196\t 1.9868928544902196\n",
            "30 \t [ 9.80949062  0.42526047 11.          0.61085682  4.          0.94165398]\t 0.6776829311951872\t 0.6499323326996702\t 2.0035043944919075\t 2.0035043944919075\n"
          ]
        },
        {
          "output_type": "execute_result",
          "data": {
            "text/plain": [
              "48910.5972756216"
            ]
          },
          "metadata": {},
          "execution_count": 60
        }
      ]
    },
    {
      "cell_type": "code",
      "metadata": {
        "id": "NvkuHKlQuxRy",
        "colab": {
          "base_uri": "https://localhost:8080/"
        },
        "outputId": "5d11ce00-7dba-4980-df60-7067efee605b"
      },
      "source": [
        "### Bayesian optimization runs (x20): 'exact' Acquisition Function run number = 20 \n",
        "\n",
        "np.random.seed(run_num_20)\n",
        "surrogate_exact_20 = dGaussianProcess(cov_func, optimize=opt)\n",
        "\n",
        "X_train20, X_test20, y_train20, y_test20 = train_test_split(X, y, test_size=test_perc, random_state=run_num_20)\n",
        "\n",
        "def f_syn_polarity20(alpha, gamma, max_depth, subsample, min_child_weight, colsample):\n",
        "    reg = XGBRegressor(reg_alpha=alpha, gamma=gamma, max_depth=int(max_depth), subsample=subsample, min_child_weight=min_child_weight,\n",
        "          colsample_bytree=colsample, n_estimators = n_est, random_state=run_num_20, objective = 'reg:squarederror')\n",
        "    score = np.array(cross_val_score(reg, X=X_train20, y=y_train20).mean())\n",
        "    return operator * score\n",
        "\n",
        "exact_20 = dGPGO(surrogate_exact_20, Acquisition_grad(util), f_syn_polarity20, param, n_jobs = -1) # Define BayesOpt\n",
        "exact_20.run(max_iter = max_iter, init_evals = n_init) # run\n",
        "\n",
        "### Return optimal parameters' set:\n",
        "params_exact_20 = exact_20.getResult()[0]\n",
        "params_exact_20['max_depth'] = int(params_exact_20['max_depth'])\n",
        "params_exact_20['min_child_weight'] = int(params_exact_20['min_child_weight'])\n",
        "\n",
        "### Re-train with optimal parameters, run predictons:\n",
        "dX_exact_train20 = xgb.DMatrix(X_train20, y_train20)\n",
        "dX_exact_test20 = xgb.DMatrix(X_test20, y_test20)\n",
        "model_exact_20 = xgb.train(params_exact_20, dX_exact_train20)\n",
        "pred_exact_20 = model_exact_20.predict(dX_exact_test20)\n",
        "\n",
        "rmse_exact_20 = np.sqrt(mean_squared_error(pred_exact_20, y_test20))\n",
        "rmse_exact_20"
      ],
      "execution_count": null,
      "outputs": [
        {
          "output_type": "stream",
          "name": "stdout",
          "text": [
            "Evaluation \t Proposed point \t  Current eval. \t  Best eval. \t         Max. ExactAcqFunc \t Max. ApproxAcqFunc \n",
            "init\t [ 5.88130801  8.97713728 14.          0.81074445  8.          0.95540649]\t 0.6597299542050263\t 0.6597299542050263\t    \t    \n",
            "init\t [6.72865655 0.41173329 8.         0.6361582  7.         0.76174061]\t 0.6983733363249625\t 0.6597299542050263\t    \t    \n",
            "init\t [ 4.77387703  8.66202323 10.          0.51833215  7.          0.10123387]\t 1.0633118913318171\t 0.6597299542050263\t    \t    \n",
            "init\t [ 5.75489985  4.74524381  8.          0.78084343 15.          0.26643049]\t 0.8790653027854468\t 0.6597299542050263\t    \t    \n",
            "init\t [ 4.53444     4.47342833  8.          0.91974896 18.          0.35997552]\t 0.8778581695963045\t 0.6597299542050263\t    \t    \n",
            "1  \t [ 7.96566073  7.15509535  7.          0.79906691 11.          0.34132075]\t 0.8825953654337161\t 0.6597299542050263\t 2.0775927060620876\t 2.0775927060620876\n",
            "2  \t [ 1.72798052  9.03285612 13.          0.50351094 19.          0.11416888]\t 1.0635732061044851\t 0.6597299542050263\t 2.090016464569262\t 2.090016464569262\n",
            "3  \t [ 1.96661701  1.73294312 11.          0.93201699  1.          0.60463107]\t 0.7502219040814293\t 0.6597299542050263\t 2.171113627800915\t 2.171113627800915\n",
            "4  \t [1.41824857 5.09758018 5.         0.56802833 5.         0.75704697]\t 0.7367139517682284\t 0.6597299542050263\t 2.1322857108492186\t 2.1322857108492186\n",
            "5  \t [ 0.41794531  1.88324969 13.          0.88408406 13.          0.43578884]\t 0.8006234291185196\t 0.6597299542050263\t 2.098403408612179\t 2.098403408612179\n",
            "6  \t [ 9.80686472  1.37296982 14.          0.9100959  10.          0.1681724 ]\t 1.058727127460609\t 0.6597299542050263\t 2.0850806126679595\t 2.0850806126679595\n",
            "7  \t [ 9.82409087  4.45469949 11.          0.53160513  4.          0.66763423]\t 0.703165388931625\t 0.6597299542050263\t 2.137280175886593\t 2.137280175886593\n",
            "\u001b[1m\u001b[92m8\u001b[0m\t \u001b[1m\u001b[92m[ 9.3088306 10.        15.         1.        20.         1.       ]\u001b[0m\t \u001b[1m\u001b[92m0.6408926754324007\u001b[0m\t \u001b[1m\u001b[92m0.6408926754324007\u001b[0m\t \u001b[1m\u001b[92m2.104908544313981\u001b[0m\t \u001b[1m\u001b[92m2.1049085369739853\u001b[0m\n",
            "9  \t [1.40842154 7.81898154 9.         0.57297042 1.         0.11610409]\t 1.0651952678837315\t 0.6408926754324007\t 2.0686699537758466\t 2.0686699537758466\n",
            "10 \t [8.51004072 7.2917763  5.         0.96135496 1.         0.57493956]\t 0.8036859734991779\t 0.6408926754324007\t 2.1126619802281597\t 2.1126619802281597\n",
            "11 \t [ 9.3606342   3.21248061 14.          0.65614013 17.          0.10926152]\t 1.0624486911635314\t 0.6408926754324007\t 2.1026246359169725\t 2.1026246359169725\n",
            "12 \t [ 8.56008703  8.65926498 12.60442862  1.         13.52548717  1.        ]\t 0.6409773217068411\t 0.6408926754324007\t 2.1372914589718435\t 2.1372914183013902\n",
            "13 \t [ 3.51322154  8.79998304 14.          0.91142182  1.          0.35103611]\t 0.8922088424958478\t 0.6408926754324007\t 2.108806880134003\t 2.108806880134003\n",
            "14 \t [ 0.30329279  8.44985963 11.          0.88949602 12.          0.98063814]\t 0.6581410006205839\t 0.6408926754324007\t 2.1125230073676686\t 2.1125230073676686\n",
            "15 \t [0.  0.  5.  0.5 1.  0.1]\t 1.0679096170180373\t 0.6408926754324007\t 2.0897651963869928\t 2.0897651963869928\n",
            "16 \t [ 7.31252146  8.98299937  5.          0.81221269 16.          0.68394735]\t 0.7337730558747049\t 0.6408926754324007\t 2.1186206454545933\t 2.1186206454545933\n",
            "17 \t [ 8.3723055   9.68266939 11.          0.50145124  1.          0.82596229]\t 0.7117644991570005\t 0.6408926754324007\t 2.1044349726962186\t 2.1044349726962186\n",
            "18 \t [ 9.6068935   0.80663714  8.          0.73945426 19.          0.81169876]\t 0.6946194207600972\t 0.6408926754324007\t 2.0893812548661486\t 2.0893812548661486\n",
            "19 \t [8.67223652 9.66010575 6.         0.63457768 6.         0.86415257]\t 0.7147083784607429\t 0.6408926754324007\t 2.074023642869498\t 2.074023642869498\n",
            "20 \t [ 5.3866253   1.98558863 14.          0.93996594  6.          0.18524928]\t 1.0595101751758718\t 0.6408926754324007\t 2.061563642504813\t 2.061563642504813\n",
            "21 \t [ 2.16891361  0.40236972  6.          0.57865056 19.          0.33900997]\t 0.8933558323113931\t 0.6408926754324007\t 2.085983965773907\t 2.085983965773907\n",
            "22 \t [7.09521948 1.98932663 6.         0.65989265 2.         0.73023722]\t 0.7154584586376316\t 0.6408926754324007\t 2.089579541311973\t 2.089579541311973\n",
            "23 \t [ 9.71937523  0.84081751  8.          0.83815718 13.          0.15657647]\t 1.0605231713179224\t 0.6408926754324007\t 2.078070685046828\t 2.078070685046828\n",
            "24 \t [ 0.30624064  4.32445332  5.          0.82426886 14.          0.23255411]\t 1.0644960035612792\t 0.6408926754324007\t 2.0992457444661428\t 2.0992457444661428\n",
            "25 \t [ 2.52257001  0.          6.80398932  0.5        11.80398932  0.1       ]\t 1.0660402353624359\t 0.6408926754324007\t 2.11841972317061\t 2.1184192938018755\n",
            "26 \t [ 0.96616103  8.61825128  6.          0.54652057 18.          0.73561745]\t 0.7195663176706344\t 0.6408926754324007\t 2.1366798512665843\t 2.1366798512665843\n",
            "27 \t [ 0.          8.12377432  6.12914689  0.5        10.12914689  0.1       ]\t 1.0660704765209514\t 0.6408926754324007\t 2.125639467778415\t 2.1256390355716634\n",
            "28 \t [ 9.47577312 10.          7.46517626  1.         20.          1.        ]\t 0.6680358551275073\t 0.6408926754324007\t 2.1425411139204753\t 2.142540573206456\n",
            "29 \t [ 0.          0.         10.86001457  0.5         7.86001457  0.1       ]\t 1.0629776702102938\t 0.6408926754324007\t 2.128916027807383\t 2.128915859416282\n",
            "30 \t [ 0.89195001  6.01604215 14.          0.84121292  7.          0.44798682]\t 0.8038070345544759\t 0.6408926754324007\t 2.1443829450844074\t 2.1443829450844074\n"
          ]
        },
        {
          "output_type": "execute_result",
          "data": {
            "text/plain": [
              "49345.03939718434"
            ]
          },
          "metadata": {},
          "execution_count": 61
        }
      ]
    },
    {
      "cell_type": "code",
      "metadata": {
        "id": "KFKuwvS3uzrs",
        "colab": {
          "base_uri": "https://localhost:8080/"
        },
        "outputId": "fb59b171-6873-45e9-d899-9ba4fd82a0d5"
      },
      "source": [
        "end_exact = time.time()\n",
        "end_exact\n",
        "\n",
        "time_exact = end_exact - start_exact\n",
        "time_exact"
      ],
      "execution_count": null,
      "outputs": [
        {
          "output_type": "execute_result",
          "data": {
            "text/plain": [
              "1948.581666469574"
            ]
          },
          "metadata": {},
          "execution_count": 62
        }
      ]
    },
    {
      "cell_type": "code",
      "metadata": {
        "id": "CU2FlhY4vHUk",
        "colab": {
          "base_uri": "https://localhost:8080/"
        },
        "outputId": "34b8bb4c-eb77-4c93-ea2a-34e2a15600ca"
      },
      "source": [
        "rmse_approx = [rmse_approx_1,\n",
        "rmse_approx_2,\n",
        "rmse_approx_3,\n",
        "rmse_approx_4,\n",
        "rmse_approx_5,\n",
        "rmse_approx_6,\n",
        "rmse_approx_7,\n",
        "rmse_approx_8,\n",
        "rmse_approx_9,\n",
        "rmse_approx_10,\n",
        "rmse_approx_11,\n",
        "rmse_approx_12,\n",
        "rmse_approx_13,\n",
        "rmse_approx_14,\n",
        "rmse_approx_15,\n",
        "rmse_approx_16,\n",
        "rmse_approx_17,\n",
        "rmse_approx_18,\n",
        "rmse_approx_19,\n",
        "rmse_approx_20]\n",
        "\n",
        "np.mean(rmse_approx)"
      ],
      "execution_count": null,
      "outputs": [
        {
          "output_type": "execute_result",
          "data": {
            "text/plain": [
              "50031.05107267535"
            ]
          },
          "metadata": {},
          "execution_count": 63
        }
      ]
    },
    {
      "cell_type": "code",
      "metadata": {
        "id": "iZ53FsWXu3J1",
        "colab": {
          "base_uri": "https://localhost:8080/"
        },
        "outputId": "d44e27fe-6b21-4f04-91fa-d456dc38d377"
      },
      "source": [
        "rmse_exact = [rmse_exact_1,\n",
        "rmse_exact_2,\n",
        "rmse_exact_3,\n",
        "rmse_exact_4,\n",
        "rmse_exact_5,\n",
        "rmse_exact_6,\n",
        "rmse_exact_7,\n",
        "rmse_exact_8,\n",
        "rmse_exact_9,\n",
        "rmse_exact_10,\n",
        "rmse_exact_11,\n",
        "rmse_exact_12,\n",
        "rmse_exact_13,\n",
        "rmse_exact_14,\n",
        "rmse_exact_15,\n",
        "rmse_exact_16,\n",
        "rmse_exact_17,\n",
        "rmse_exact_18,\n",
        "rmse_exact_19,\n",
        "rmse_exact_20]\n",
        "\n",
        "np.mean(rmse_exact)"
      ],
      "execution_count": null,
      "outputs": [
        {
          "output_type": "execute_result",
          "data": {
            "text/plain": [
              "49282.0587008917"
            ]
          },
          "metadata": {},
          "execution_count": 64
        }
      ]
    },
    {
      "cell_type": "code",
      "metadata": {
        "id": "a9FOyoH8u5Wx",
        "colab": {
          "base_uri": "https://localhost:8080/"
        },
        "outputId": "a538e58b-e83c-47cf-b92d-cd92f17d46ef"
      },
      "source": [
        "min_rmse_approx = min_max_array(rmse_approx)\n",
        "min_rmse_approx, len(min_rmse_approx)"
      ],
      "execution_count": null,
      "outputs": [
        {
          "output_type": "execute_result",
          "data": {
            "text/plain": [
              "([48973.66312746987,\n",
              "  48973.66312746987,\n",
              "  47880.92369694889,\n",
              "  47880.92369694889,\n",
              "  47880.92369694889,\n",
              "  47880.92369694889,\n",
              "  47880.92369694889,\n",
              "  47880.92369694889,\n",
              "  47880.92369694889,\n",
              "  47880.92369694889,\n",
              "  47880.92369694889,\n",
              "  47880.92369694889,\n",
              "  47880.92369694889,\n",
              "  47880.92369694889,\n",
              "  47880.92369694889,\n",
              "  47880.92369694889,\n",
              "  47880.92369694889,\n",
              "  47814.5922880461,\n",
              "  47814.5922880461,\n",
              "  47814.5922880461],\n",
              " 20)"
            ]
          },
          "metadata": {},
          "execution_count": 65
        }
      ]
    },
    {
      "cell_type": "code",
      "metadata": {
        "id": "unXOpKHcvO15",
        "colab": {
          "base_uri": "https://localhost:8080/"
        },
        "outputId": "a2ab92c2-51bd-4f6b-b6e2-d418eb2efc7a"
      },
      "source": [
        "min_rmse_exact = min_max_array(rmse_exact)\n",
        "min_rmse_exact, len(min_rmse_exact)"
      ],
      "execution_count": null,
      "outputs": [
        {
          "output_type": "execute_result",
          "data": {
            "text/plain": [
              "([46668.8273192029,\n",
              "  46668.8273192029,\n",
              "  46668.8273192029,\n",
              "  46668.8273192029,\n",
              "  46668.8273192029,\n",
              "  46668.8273192029,\n",
              "  46668.8273192029,\n",
              "  46668.8273192029,\n",
              "  46668.8273192029,\n",
              "  46668.8273192029,\n",
              "  46668.8273192029,\n",
              "  46668.8273192029,\n",
              "  46668.8273192029,\n",
              "  46668.8273192029,\n",
              "  46668.8273192029,\n",
              "  46668.8273192029,\n",
              "  46668.8273192029,\n",
              "  46668.8273192029,\n",
              "  46668.8273192029,\n",
              "  46668.8273192029],\n",
              " 20)"
            ]
          },
          "metadata": {},
          "execution_count": 66
        }
      ]
    },
    {
      "cell_type": "code",
      "metadata": {
        "id": "Yxo85-HEvRPi",
        "colab": {
          "base_uri": "https://localhost:8080/",
          "height": 292
        },
        "outputId": "60c0bde3-c3e5-4862-d58b-eadcd1ce1e9c"
      },
      "source": [
        "### Visualise!\n",
        "\n",
        "title = obj_func\n",
        "plt.figure()\n",
        "\n",
        "plt.plot(min_rmse_approx, color = 'Purple', label='RMSE: Approx GP CBM gradients')\n",
        "plt.plot(min_rmse_exact, color = 'Orange', label='RMSE: Exact GP dCBM gradients', ls='--')# r'($\\nu$' ' = {})'.format(df))\n",
        "\n",
        "plt.title(title, weight = 'bold', family = 'Arial')\n",
        "plt.xlabel('Experiment(s)', weight = 'bold', family = 'Arial') # x-axis label\n",
        "plt.ylabel('RMSE (US Dollars $)', weight = 'bold', family = 'Arial') # y-axis label\n",
        "plt.legend(loc=0) # add plot legend\n",
        "\n",
        "### Make the x-ticks integers, not floats:\n",
        "count = len(min_rmse_approx)\n",
        "plt.xticks(np.arange(count), np.arange(1, count + 1))\n",
        "plt.grid(b=None)\n",
        "plt.show() #visualize!\n"
      ],
      "execution_count": null,
      "outputs": [
        {
          "output_type": "display_data",
          "data": {
            "text/plain": [
              "<Figure size 432x288 with 1 Axes>"
            ],
            "image/png": "[encoded data removed]"
          },
          "metadata": {}
        }
      ]
    },
    {
      "cell_type": "code",
      "metadata": {
        "id": "AwyO7_iZvT7a",
        "colab": {
          "base_uri": "https://localhost:8080/"
        },
        "outputId": "99c022f7-5ceb-46c1-f757-44425ec16c72"
      },
      "source": [
        "time_approx, time_exact\n"
      ],
      "execution_count": null,
      "outputs": [
        {
          "output_type": "execute_result",
          "data": {
            "text/plain": [
              "(1948.2918469905853, 1948.581666469574)"
            ]
          },
          "metadata": {},
          "execution_count": 68
        }
      ]
    },
    {
      "cell_type": "code",
      "metadata": {
        "id": "aHLA-0DnVXxD",
        "colab": {
          "base_uri": "https://localhost:8080/"
        },
        "outputId": "7612ebf1-66ee-4f7c-c3ee-76f004776ee7"
      },
      "source": [
        "min(min_rmse_exact), min(min_rmse_approx)\n"
      ],
      "execution_count": null,
      "outputs": [
        {
          "output_type": "execute_result",
          "data": {
            "text/plain": [
              "(46668.8273192029, 47814.5922880461)"
            ]
          },
          "metadata": {},
          "execution_count": 69
        }
      ]
    },
    {
      "cell_type": "code",
      "metadata": {
        "id": "-iUNBRy3W0GY"
      },
      "source": [],
      "execution_count": null,
      "outputs": []
    }
  ]
}